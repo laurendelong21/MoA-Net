{
 "cells": [
  {
   "attachments": {},
   "cell_type": "markdown",
   "metadata": {},
   "source": [
    "# Logic Programming with the MARS Output\n",
    "\n",
    "Since the output of MARS is weighted confidences, we can make a logic program out of that to see how likely each MoA discovered is."
   ]
  },
  {
   "cell_type": "code",
   "execution_count": 1,
   "metadata": {},
   "outputs": [],
   "source": [
    "import scallopy\n",
    "import json\n",
    "import os\n",
    "from collections import defaultdict\n",
    "import ast"
   ]
  },
  {
   "cell_type": "code",
   "execution_count": 2,
   "metadata": {},
   "outputs": [],
   "source": [
    "ctx = scallopy.ScallopContext()"
   ]
  },
  {
   "attachments": {},
   "cell_type": "markdown",
   "metadata": {},
   "source": [
    "Let's start with some example output.\n",
    "\n",
    "We'll pull from the following directory:"
   ]
  },
  {
   "cell_type": "code",
   "execution_count": 3,
   "metadata": {},
   "outputs": [],
   "source": [
    "EXAMPLE_DIR = '../data/output/KG_size_experiment/full_KG/PoLo-2'"
   ]
  },
  {
   "attachments": {},
   "cell_type": "markdown",
   "metadata": {},
   "source": [
    "First, let's get the confidences. Since we did 5 replicates, we have to get the average of the confidence scores. "
   ]
  },
  {
   "cell_type": "code",
   "execution_count": 4,
   "metadata": {},
   "outputs": [],
   "source": [
    "# Initialize a dictionary to store the averaged values\n",
    "averaged_dict = defaultdict(list)\n",
    "\n",
    "# Iterate through subdirectories\n",
    "for subdir, _, _ in os.walk(EXAMPLE_DIR):\n",
    "    confidences_file = os.path.join(subdir, 'confidences.txt')\n",
    "\n",
    "    # Check if 'confidences.txt' exists in the current subdirectory\n",
    "    if os.path.isfile(confidences_file):\n",
    "        # Read the 'confidences.txt' file into a dictionary\n",
    "        # read in json file\n",
    "        with open(confidences_file, 'r') as f:\n",
    "            current_dict = json.load(f)\n",
    "        for lst in current_dict['CtBP']:\n",
    "            averaged_dict[str(lst[1::])].append(float(lst[0]))\n",
    "\n",
    "# Calculate the average of each value in the dictionary\n",
    "for key, value in averaged_dict.items():\n",
    "    averaged_dict[key] = sum(value) / len(value)"
   ]
  },
  {
   "attachments": {},
   "cell_type": "markdown",
   "metadata": {},
   "source": [
    "## Adding the Relations\n",
    "\n",
    "Additionally, for each of these rules, we need to add the relations into the scallopy logic program:"
   ]
  },
  {
   "cell_type": "code",
   "execution_count": 5,
   "metadata": {},
   "outputs": [],
   "source": [
    "relations = set()\n",
    "\n",
    "for key in averaged_dict.keys():\n",
    "    as_list = ast.literal_eval(key)\n",
    "    as_list = [i[1::] + '_' if i.startswith('_') else i for i in as_list]  # Scallop doesn't like leading underscores\n",
    "    relations.update(set(as_list))"
   ]
  },
  {
   "cell_type": "code",
   "execution_count": 6,
   "metadata": {},
   "outputs": [
    {
     "data": {
      "text/plain": [
       "{'CdG', 'CtBP', 'CuG', 'GiG', 'GiG_', 'GpBP', 'GpBP_', 'NO_OP'}"
      ]
     },
     "execution_count": 6,
     "metadata": {},
     "output_type": "execute_result"
    }
   ],
   "source": [
    "relations"
   ]
  },
  {
   "cell_type": "code",
   "execution_count": 7,
   "metadata": {},
   "outputs": [],
   "source": [
    "# Add these relations to the scallopy program:\n",
    "for relation in relations:\n",
    "    ctx.add_relation(relation, (str, str))  # Add them as binary relations"
   ]
  },
  {
   "attachments": {},
   "cell_type": "markdown",
   "metadata": {},
   "source": [
    "## Adding the Probabilistic Rules\n",
    "\n",
    "Now, we'll add those rules in:"
   ]
  },
  {
   "cell_type": "code",
   "execution_count": 8,
   "metadata": {},
   "outputs": [
    {
     "name": "stdout",
     "output_type": "stream",
     "text": [
      "CtBP(a, c) = CdG(a, b) and GpBP(b, c)\n",
      "CtBP(a, c) = CuG(a, b) and GpBP(b, c)\n",
      "CtBP(a, d) = CtBP(a, b) and GpBP_(b, c) and GpBP(c, d)\n",
      "CtBP(a, d) = CdG(a, b) and GiG_(b, c) and GpBP(c, d)\n",
      "CtBP(a, d) = CdG(a, b) and GiG(b, c) and GpBP(c, d)\n",
      "CtBP(a, d) = CuG(a, b) and GiG_(b, c) and GpBP(c, d)\n",
      "CtBP(a, d) = CuG(a, b) and GiG(b, c) and GpBP(c, d)\n",
      "CtBP(a, e) = CtBP(a, b) and GpBP_(b, c) and GiG_(c, d) and GpBP(d, e)\n",
      "CtBP(a, e) = CtBP(a, b) and GpBP_(b, c) and GiG(c, d) and GpBP(d, e)\n",
      "CtBP(a, e) = CdG(a, b) and GpBP(b, c) and GpBP_(c, d) and GpBP(d, e)\n",
      "CtBP(a, e) = CdG(a, b) and GiG_(b, c) and GiG_(c, d) and GpBP(d, e)\n",
      "CtBP(a, e) = CdG(a, b) and GiG_(b, c) and GiG(c, d) and GpBP(d, e)\n",
      "CtBP(a, e) = CdG(a, b) and GiG(b, c) and GiG_(c, d) and GpBP(d, e)\n",
      "CtBP(a, e) = CdG(a, b) and GiG(b, c) and GiG(c, d) and GpBP(d, e)\n",
      "CtBP(a, e) = CuG(a, b) and GpBP(b, c) and GpBP_(c, d) and GpBP(d, e)\n",
      "CtBP(a, e) = CuG(a, b) and GiG_(b, c) and GiG_(c, d) and GpBP(d, e)\n",
      "CtBP(a, e) = CuG(a, b) and GiG_(b, c) and GiG(c, d) and GpBP(d, e)\n",
      "CtBP(a, e) = CuG(a, b) and GiG(b, c) and GiG_(c, d) and GpBP(d, e)\n",
      "CtBP(a, e) = CuG(a, b) and GiG(b, c) and GiG(c, d) and GpBP(d, e)\n",
      "CtBP(a, d) = NO_OP(a, b) and CdG(b, c) and GpBP(c, d)\n",
      "CtBP(a, d) = CdG(a, b) and NO_OP(b, c) and GpBP(c, d)\n",
      "CtBP(a, d) = CdG(a, b) and GpBP(b, c) and NO_OP(c, d)\n",
      "CtBP(a, d) = NO_OP(a, b) and CuG(b, c) and GpBP(c, d)\n",
      "CtBP(a, d) = CuG(a, b) and NO_OP(b, c) and GpBP(c, d)\n",
      "CtBP(a, d) = CuG(a, b) and GpBP(b, c) and NO_OP(c, d)\n",
      "CtBP(a, e) = NO_OP(a, b) and CtBP(b, c) and GpBP_(c, d) and GpBP(d, e)\n",
      "CtBP(a, e) = CtBP(a, b) and NO_OP(b, c) and GpBP_(c, d) and GpBP(d, e)\n",
      "CtBP(a, e) = CtBP(a, b) and GpBP_(b, c) and NO_OP(c, d) and GpBP(d, e)\n",
      "CtBP(a, e) = CtBP(a, b) and GpBP_(b, c) and GpBP(c, d) and NO_OP(d, e)\n",
      "CtBP(a, e) = NO_OP(a, b) and CdG(b, c) and GiG_(c, d) and GpBP(d, e)\n",
      "CtBP(a, e) = CdG(a, b) and NO_OP(b, c) and GiG_(c, d) and GpBP(d, e)\n",
      "CtBP(a, e) = CdG(a, b) and GiG_(b, c) and NO_OP(c, d) and GpBP(d, e)\n",
      "CtBP(a, e) = CdG(a, b) and GiG_(b, c) and GpBP(c, d) and NO_OP(d, e)\n",
      "CtBP(a, e) = NO_OP(a, b) and CdG(b, c) and GiG(c, d) and GpBP(d, e)\n",
      "CtBP(a, e) = CdG(a, b) and NO_OP(b, c) and GiG(c, d) and GpBP(d, e)\n",
      "CtBP(a, e) = CdG(a, b) and GiG(b, c) and NO_OP(c, d) and GpBP(d, e)\n",
      "CtBP(a, e) = CdG(a, b) and GiG(b, c) and GpBP(c, d) and NO_OP(d, e)\n",
      "CtBP(a, e) = NO_OP(a, b) and CuG(b, c) and GiG_(c, d) and GpBP(d, e)\n",
      "CtBP(a, e) = CuG(a, b) and NO_OP(b, c) and GiG_(c, d) and GpBP(d, e)\n",
      "CtBP(a, e) = CuG(a, b) and GiG_(b, c) and NO_OP(c, d) and GpBP(d, e)\n",
      "CtBP(a, e) = CuG(a, b) and GiG_(b, c) and GpBP(c, d) and NO_OP(d, e)\n",
      "CtBP(a, e) = NO_OP(a, b) and CuG(b, c) and GiG(c, d) and GpBP(d, e)\n",
      "CtBP(a, e) = CuG(a, b) and NO_OP(b, c) and GiG(c, d) and GpBP(d, e)\n",
      "CtBP(a, e) = CuG(a, b) and GiG(b, c) and NO_OP(c, d) and GpBP(d, e)\n",
      "CtBP(a, e) = CuG(a, b) and GiG(b, c) and GpBP(c, d) and NO_OP(d, e)\n",
      "CtBP(a, e) = NO_OP(a, b) and NO_OP(b, c) and CdG(c, d) and GpBP(d, e)\n",
      "CtBP(a, e) = NO_OP(a, b) and CdG(b, c) and NO_OP(c, d) and GpBP(d, e)\n",
      "CtBP(a, e) = NO_OP(a, b) and CdG(b, c) and GpBP(c, d) and NO_OP(d, e)\n",
      "CtBP(a, e) = CdG(a, b) and NO_OP(b, c) and NO_OP(c, d) and GpBP(d, e)\n",
      "CtBP(a, e) = CdG(a, b) and NO_OP(b, c) and GpBP(c, d) and NO_OP(d, e)\n",
      "CtBP(a, e) = CdG(a, b) and GpBP(b, c) and NO_OP(c, d) and NO_OP(d, e)\n",
      "CtBP(a, e) = NO_OP(a, b) and NO_OP(b, c) and CuG(c, d) and GpBP(d, e)\n",
      "CtBP(a, e) = NO_OP(a, b) and CuG(b, c) and NO_OP(c, d) and GpBP(d, e)\n",
      "CtBP(a, e) = NO_OP(a, b) and CuG(b, c) and GpBP(c, d) and NO_OP(d, e)\n",
      "CtBP(a, e) = CuG(a, b) and NO_OP(b, c) and NO_OP(c, d) and GpBP(d, e)\n",
      "CtBP(a, e) = CuG(a, b) and NO_OP(b, c) and GpBP(c, d) and NO_OP(d, e)\n",
      "CtBP(a, e) = CuG(a, b) and GpBP(b, c) and NO_OP(c, d) and NO_OP(d, e)\n"
     ]
    }
   ],
   "source": [
    "for key, val in averaged_dict.items():\n",
    "    key_as_list = ast.literal_eval(key)\n",
    "    key_as_list = [i[1::] + '_' if i.startswith('_') else i for i in key_as_list]  # Scallop doesn't like leading underscores\n",
    "    # Count how long the rule is, and from there, get the number of variables needed:\n",
    "    variables = [chr(i+97) for i in range(len(key_as_list))]\n",
    "    # Add the rule to the scallopy program:\n",
    "    body = ' and '.join([f\"{key_as_list[i]}({variables[i-1]}, {variables[i]})\" for i in range(1, len(key_as_list))])\n",
    "    rule = f\"{key_as_list[0]}({variables[0]}, {variables[-1]}) = {body}\"\n",
    "    print(rule)\n",
    "    ctx.add_rule(rule)"
   ]
  },
  {
   "attachments": {},
   "cell_type": "markdown",
   "metadata": {},
   "source": [
    "## TODO: \n",
    "\n",
    "It's not clear to me right now how to incorporate probabilities into the rules."
   ]
  },
  {
   "attachments": {},
   "cell_type": "markdown",
   "metadata": {},
   "source": [
    "## Run the Program"
   ]
  },
  {
   "cell_type": "code",
   "execution_count": 9,
   "metadata": {},
   "outputs": [],
   "source": [
    "ctx.run()"
   ]
  },
  {
   "cell_type": "code",
   "execution_count": 10,
   "metadata": {},
   "outputs": [
    {
     "name": "stdout",
     "output_type": "stream",
     "text": [
      "[]\n"
     ]
    }
   ],
   "source": [
    "print(list(ctx.relation(\"CtBP\")))"
   ]
  },
  {
   "attachments": {},
   "cell_type": "markdown",
   "metadata": {},
   "source": [
    "Well, there are no examples because we haven't grounded it yet."
   ]
  },
  {
   "cell_type": "code",
   "execution_count": null,
   "metadata": {},
   "outputs": [],
   "source": []
  }
 ],
 "metadata": {
  "kernelspec": {
   "display_name": "scallop-env",
   "language": "python",
   "name": "scallop-env"
  },
  "language_info": {
   "codemirror_mode": {
    "name": "ipython",
    "version": 3
   },
   "file_extension": ".py",
   "mimetype": "text/x-python",
   "name": "python",
   "nbconvert_exporter": "python",
   "pygments_lexer": "ipython3",
   "version": "3.9.15"
  },
  "orig_nbformat": 4
 },
 "nbformat": 4,
 "nbformat_minor": 2
}
