{
 "cells": [
  {
   "attachments": {},
   "cell_type": "markdown",
   "metadata": {},
   "source": [
    "# Logic Programming with the MARS Output\n",
    "\n",
    "Since the output of MARS is weighted confidences, we can make a logic program out of that. Why?\n",
    "\n",
    "### 1. Validation step. \n",
    "\n",
    "Using the probabilities of the rules and probabilities of edges, we can see how likely each proposed MoA is.\n",
    "\n",
    "In particular, we can also try this on some of the repurposing suggestions. Let's say MARS suggested a drug-BP pair which wasn't in the test set along with an MoA. Let's plug it in to the logic program with its suggested MoAs as rules, and get a probability that it could be true.\n",
    "\n",
    "### 2. Use Case\n",
    "\n",
    "Part of our output is weighted rules. It's cool for explainability, but how many ML researchers actually use them? We can show how to use them afterwards.\n",
    "\n",
    "In particular, let's say we propose a new drug which is not in the original KG, but we have the protein target. Now that we have weighted rules, we can:\n",
    "- query whether that drug targets a specific BP.\n",
    "- if we know which BP it targets, query for the most likely MoA, based on our rules."
   ]
  },
  {
   "cell_type": "code",
   "execution_count": 1,
   "metadata": {},
   "outputs": [],
   "source": [
    "import scallopy\n",
    "import json\n",
    "import os\n",
    "from collections import defaultdict\n",
    "import ast\n",
    "import pandas as pd\n",
    "import random"
   ]
  },
  {
   "cell_type": "code",
   "execution_count": 2,
   "metadata": {},
   "outputs": [],
   "source": [
    "ctx = scallopy.ScallopContext(provenance=\"topkproofs\")"
   ]
  },
  {
   "attachments": {},
   "cell_type": "markdown",
   "metadata": {},
   "source": [
    "Let's start with some example output.\n",
    "\n",
    "We'll pull from the following directory:"
   ]
  },
  {
   "cell_type": "code",
   "execution_count": 3,
   "metadata": {},
   "outputs": [],
   "source": [
    "EXAMPLE_DIR = '../data/output/KG_size_experiment/full_KG/PoLo-2'"
   ]
  },
  {
   "attachments": {},
   "cell_type": "markdown",
   "metadata": {},
   "source": [
    "First, let's get the confidences. Since we did 5 replicates, we have to get the average of the confidence scores. "
   ]
  },
  {
   "cell_type": "code",
   "execution_count": 4,
   "metadata": {},
   "outputs": [],
   "source": [
    "# Initialize a dictionary to store the averaged values\n",
    "averaged_dict = defaultdict(list)\n",
    "\n",
    "# Iterate through subdirectories\n",
    "for subdir, _, _ in os.walk(EXAMPLE_DIR):\n",
    "    confidences_file = os.path.join(subdir, 'confidences.txt')\n",
    "\n",
    "    # Check if 'confidences.txt' exists in the current subdirectory\n",
    "    if os.path.isfile(confidences_file):\n",
    "        # Read the 'confidences.txt' file into a dictionary\n",
    "        # read in json file\n",
    "        with open(confidences_file, 'r') as f:\n",
    "            current_dict = json.load(f)\n",
    "        for lst in current_dict['CtBP']:\n",
    "            while 'NO_OP' in lst:\n",
    "                lst.remove('NO_OP')\n",
    "            averaged_dict[str(lst[1::])].append(float(lst[0]))\n",
    "\n",
    "# Calculate the average of each value in the dictionary\n",
    "for key, value in averaged_dict.items():\n",
    "    averaged_dict[key] = sum(value) / len(value)"
   ]
  },
  {
   "attachments": {},
   "cell_type": "markdown",
   "metadata": {},
   "source": [
    "## Adding the Relations\n",
    "\n",
    "Additionally, for each of these rules, we need to add the relations into the scallopy logic program:"
   ]
  },
  {
   "cell_type": "code",
   "execution_count": 5,
   "metadata": {},
   "outputs": [],
   "source": [
    "# first a unary predicate to represent each node:\n",
    "\n",
    "ctx.add_relation(\"node\", int)"
   ]
  },
  {
   "cell_type": "code",
   "execution_count": 6,
   "metadata": {},
   "outputs": [],
   "source": [
    "relations = set()\n",
    "\n",
    "for key in averaged_dict.keys():\n",
    "    as_list = ast.literal_eval(key)\n",
    "    as_list = [i[1::] + '_' if i.startswith('_') else i for i in as_list]  # Scallop doesn't like leading underscores\n",
    "    relations.update(set(as_list))"
   ]
  },
  {
   "cell_type": "code",
   "execution_count": 7,
   "metadata": {},
   "outputs": [],
   "source": [
    "relations = relations - {'NO_OP'}"
   ]
  },
  {
   "cell_type": "code",
   "execution_count": 8,
   "metadata": {},
   "outputs": [],
   "source": [
    "# Add these relations to the scallopy program:\n",
    "for relation in relations:\n",
    "    ctx.add_relation(relation, (str, str))  # Add them as binary relations"
   ]
  },
  {
   "attachments": {},
   "cell_type": "markdown",
   "metadata": {},
   "source": [
    "## Adding the Probabilistic Rules\n",
    "\n",
    "Now, we'll add those rules in:"
   ]
  },
  {
   "cell_type": "code",
   "execution_count": 9,
   "metadata": {},
   "outputs": [
    {
     "name": "stdout",
     "output_type": "stream",
     "text": [
      "0.6495389892847557 :: CtBP(a, c) = CdG(a, b) and GpBP(b, c)\n",
      "0.648391038677989 :: CtBP(a, c) = CuG(a, b) and GpBP(b, c)\n",
      "0.672000820244284 :: CtBP(a, d) = CtBP(a, b) and GpBP_(b, c) and GpBP(c, d)\n",
      "0.5732368224883798 :: CtBP(a, d) = CdG(a, b) and GiG_(b, c) and GpBP(c, d)\n",
      "0.5678119136132754 :: CtBP(a, d) = CdG(a, b) and GiG(b, c) and GpBP(c, d)\n",
      "0.569955952094015 :: CtBP(a, d) = CuG(a, b) and GiG_(b, c) and GpBP(c, d)\n",
      "0.5651251716707305 :: CtBP(a, d) = CuG(a, b) and GiG(b, c) and GpBP(c, d)\n",
      "0.548242218469801 :: CtBP(a, e) = CtBP(a, b) and GpBP_(b, c) and GiG_(c, d) and GpBP(d, e)\n",
      "0.5440509825676607 :: CtBP(a, e) = CtBP(a, b) and GpBP_(b, c) and GiG(c, d) and GpBP(d, e)\n",
      "0.5209817398102472 :: CtBP(a, e) = CdG(a, b) and GpBP(b, c) and GpBP_(c, d) and GpBP(d, e)\n",
      "0.4417495795043223 :: CtBP(a, e) = CdG(a, b) and GiG_(b, c) and GiG_(c, d) and GpBP(d, e)\n",
      "0.4413808372039352 :: CtBP(a, e) = CdG(a, b) and GiG_(b, c) and GiG(c, d) and GpBP(d, e)\n",
      "0.4413692132040815 :: CtBP(a, e) = CdG(a, b) and GiG(b, c) and GiG_(c, d) and GpBP(d, e)\n",
      "0.44064406333974615 :: CtBP(a, e) = CdG(a, b) and GiG(b, c) and GiG(c, d) and GpBP(d, e)\n",
      "0.5155268986038155 :: CtBP(a, e) = CuG(a, b) and GpBP(b, c) and GpBP_(c, d) and GpBP(d, e)\n",
      "0.4391072315734138 :: CtBP(a, e) = CuG(a, b) and GiG_(b, c) and GiG_(c, d) and GpBP(d, e)\n",
      "0.4387656714627758 :: CtBP(a, e) = CuG(a, b) and GiG_(b, c) and GiG(c, d) and GpBP(d, e)\n",
      "0.4386813729696321 :: CtBP(a, e) = CuG(a, b) and GiG(b, c) and GiG_(c, d) and GpBP(d, e)\n",
      "0.4383731771209559 :: CtBP(a, e) = CuG(a, b) and GiG(b, c) and GiG(c, d) and GpBP(d, e)\n"
     ]
    }
   ],
   "source": [
    "for key, val in averaged_dict.items():\n",
    "    key_as_list = ast.literal_eval(key)\n",
    "    key_as_list = [i[1::] + '_' if i.startswith('_') else i for i in key_as_list]  # Scallop doesn't like leading underscores\n",
    "    # Count how long the rule is, and from there, get the number of variables needed:\n",
    "    variables = [chr(i+97) for i in range(len(key_as_list))]\n",
    "    # Add the rule to the scallopy program:\n",
    "    body = ' and '.join([f\"{key_as_list[i]}({variables[i-1]}, {variables[i]})\" for i in range(1, len(key_as_list))])\n",
    "    rule = f\"{key_as_list[0]}({variables[0]}, {variables[-1]}) = {body}\"\n",
    "    print(f\"{val} :: {rule}\")\n",
    "    ctx.add_rule(rule, tag = val)"
   ]
  },
  {
   "attachments": {},
   "cell_type": "markdown",
   "metadata": {},
   "source": [
    "## Instantiate the edges\n",
    "\n",
    "For now, I am instantiating the edges with probabilities.\n",
    "\n",
    "Right now, we only have probabilities for most of the PPIs (Gene-gene).\n",
    "\n",
    "For the other edge types, we will instantiate them with a probability of 1.\n",
    "\n",
    "For PPIs we have no probability for, we'll do 0.5."
   ]
  },
  {
   "cell_type": "code",
   "execution_count": 10,
   "metadata": {},
   "outputs": [],
   "source": [
    "drug_gene = pd.read_csv('../data/kg/splits/kg_drug_gene.tsv', sep='\\t', header=None)\n",
    "gene_gene = pd.read_csv('../data/kg/splits/kg_protein.tsv', sep='\\t', header=None)\n",
    "gene_bp = pd.read_csv('../data/kg/splits/kg_gene_bp.tsv', sep='\\t', header=None)"
   ]
  },
  {
   "attachments": {},
   "cell_type": "markdown",
   "metadata": {},
   "source": [
    "Read in the file with PPI probabilities:"
   ]
  },
  {
   "cell_type": "code",
   "execution_count": 12,
   "metadata": {},
   "outputs": [],
   "source": [
    "# read in json file\n",
    "with open('../data/kg/stringdb_ppi_confidences.json', 'r') as f:\n",
    "    ppi_confs = json.load(f)"
   ]
  },
  {
   "cell_type": "code",
   "execution_count": 15,
   "metadata": {},
   "outputs": [],
   "source": [
    "def map_conf(row):\n",
    "    if f\"{row[0]}_{row[1]}\" in ppi_confs:\n",
    "        return ppi_confs[f\"{row[0]}_{row[1]}\"]\n",
    "    else:\n",
    "        return 0.5\n",
    "\n",
    "gene_gene['conf'] = gene_gene.apply(map_conf, axis=1)"
   ]
  },
  {
   "cell_type": "code",
   "execution_count": 17,
   "metadata": {},
   "outputs": [],
   "source": [
    "for i, row in gene_gene.iterrows():\n",
    "    ctx.add_facts('GiG', [(row['conf'], (row[0], row[1]))])\n",
    "    ctx.add_facts('GiG_', [(row['conf'], (row[0], row[1]))])"
   ]
  },
  {
   "cell_type": "code",
   "execution_count": 18,
   "metadata": {},
   "outputs": [],
   "source": [
    "for i, row in drug_gene.iterrows():\n",
    "    if row[2] == 'upregulates':\n",
    "        ctx.add_facts('CuG', [(1, (row[0], row[1]))])\n",
    "    elif row[2] == 'downregulates':\n",
    "        ctx.add_facts('CdG', [(1, (row[0], row[1]))])"
   ]
  },
  {
   "cell_type": "code",
   "execution_count": 19,
   "metadata": {},
   "outputs": [],
   "source": [
    "for i, row in gene_bp.iterrows():\n",
    "    ctx.add_facts('GpBP', [(1, (row[0], row[1]))])\n",
    "    ctx.add_facts('GpBP_', [(1, (row[0], row[1]))])"
   ]
  },
  {
   "attachments": {},
   "cell_type": "markdown",
   "metadata": {},
   "source": [
    "An example:"
   ]
  },
  {
   "cell_type": "code",
   "execution_count": null,
   "metadata": {},
   "outputs": [],
   "source": [
    "ctx.add_facts(\"CdG\", [(0.3, ('a', 'c')), (0.22, ('c', 'b'))])\n",
    "\n",
    "ctx.add_facts(\"GpBP\", [(0.76, ('c', 'd'))])"
   ]
  },
  {
   "attachments": {},
   "cell_type": "markdown",
   "metadata": {},
   "source": [
    "## Run the Program\n",
    "\n",
    "Ok, don't do this right now because it crashes."
   ]
  },
  {
   "cell_type": "code",
   "execution_count": null,
   "metadata": {},
   "outputs": [],
   "source": [
    "ctx.run()"
   ]
  },
  {
   "attachments": {},
   "cell_type": "markdown",
   "metadata": {},
   "source": [
    "With the example:"
   ]
  },
  {
   "cell_type": "code",
   "execution_count": null,
   "metadata": {},
   "outputs": [
    {
     "name": "stdout",
     "output_type": "stream",
     "text": [
      "[(0.12501072904791985, ('a', 'd'))]\n"
     ]
    }
   ],
   "source": [
    "print(list(ctx.relation(\"CtBP\")))"
   ]
  },
  {
   "attachments": {},
   "cell_type": "markdown",
   "metadata": {},
   "source": [
    "Leaving this here for now. But I'll work on doing a demonstration with less rules for each one. \n",
    "\n",
    "For example, if we want to get the probability of an MoA, we only need the rule encoding that MoA along with the knowledge base (KB) / KG.\n",
    "\n",
    "If we want the most likely MoA for a new drug, we can run the program with a different rule set each time to see how likely each MoA-rule is. "
   ]
  },
  {
   "cell_type": "markdown",
   "metadata": {},
   "source": []
  }
 ],
 "metadata": {
  "kernelspec": {
   "display_name": "scallop-env",
   "language": "python",
   "name": "scallop-env"
  },
  "language_info": {
   "codemirror_mode": {
    "name": "ipython",
    "version": 3
   },
   "file_extension": ".py",
   "mimetype": "text/x-python",
   "name": "python",
   "nbconvert_exporter": "python",
   "pygments_lexer": "ipython3",
   "version": "3.9.15"
  },
  "orig_nbformat": 4
 },
 "nbformat": 4,
 "nbformat_minor": 2
}
