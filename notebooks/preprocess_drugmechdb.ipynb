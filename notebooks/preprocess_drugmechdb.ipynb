{
 "cells": [
  {
   "attachments": {},
   "cell_type": "markdown",
   "metadata": {},
   "source": [
    "# Generation of graphs with DrugMechDB\n",
    "\n",
    "Here, I explore [DrugMechDB](https://sulab.github.io/DrugMechDB/) which could ideally provide us with true positive paths / MOAs."
   ]
  },
  {
   "cell_type": "code",
   "execution_count": 1,
   "metadata": {},
   "outputs": [],
   "source": [
    "from collections import defaultdict\n",
    "from itertools import product\n",
    "import json\n",
    "\n",
    "import pandas as pd\n",
    "import networkx as nx\n",
    "from tqdm import tqdm\n",
    "\n",
    "from pubchempy import get_compounds, get_synonyms"
   ]
  },
  {
   "attachments": {},
   "cell_type": "markdown",
   "metadata": {},
   "source": [
    "## Load in the DrugMechDB file"
   ]
  },
  {
   "cell_type": "code",
   "execution_count": 2,
   "metadata": {},
   "outputs": [],
   "source": [
    "VALIDATION_DIR = '../data/validation'\n",
    "KG_DIR = '../data/kg'\n",
    "MAPPING_DIR = '../data/mappings'"
   ]
  },
  {
   "cell_type": "code",
   "execution_count": 3,
   "metadata": {},
   "outputs": [
    {
     "data": {
      "text/html": [
       "<div>\n",
       "<style scoped>\n",
       "    .dataframe tbody tr th:only-of-type {\n",
       "        vertical-align: middle;\n",
       "    }\n",
       "\n",
       "    .dataframe tbody tr th {\n",
       "        vertical-align: top;\n",
       "    }\n",
       "\n",
       "    .dataframe thead th {\n",
       "        text-align: right;\n",
       "    }\n",
       "</style>\n",
       "<table border=\"1\" class=\"dataframe\">\n",
       "  <thead>\n",
       "    <tr style=\"text-align: right;\">\n",
       "      <th></th>\n",
       "      <th>n1</th>\n",
       "      <th>e1</th>\n",
       "      <th>n2</th>\n",
       "      <th>e2</th>\n",
       "      <th>n3</th>\n",
       "      <th>e3</th>\n",
       "      <th>n4</th>\n",
       "      <th>e4</th>\n",
       "      <th>n5</th>\n",
       "      <th>e5</th>\n",
       "      <th>n6</th>\n",
       "      <th>e6</th>\n",
       "      <th>n7</th>\n",
       "      <th>e7</th>\n",
       "      <th>n8</th>\n",
       "    </tr>\n",
       "  </thead>\n",
       "  <tbody>\n",
       "    <tr>\n",
       "      <th>0</th>\n",
       "      <td>imatinib</td>\n",
       "      <td>INHIBITS</td>\n",
       "      <td>BCR/ABL</td>\n",
       "      <td>CAUSES</td>\n",
       "      <td>CML (ph+)</td>\n",
       "      <td>NaN</td>\n",
       "      <td>NaN</td>\n",
       "      <td>NaN</td>\n",
       "      <td>NaN</td>\n",
       "      <td>NaN</td>\n",
       "      <td>NaN</td>\n",
       "      <td>NaN</td>\n",
       "      <td>NaN</td>\n",
       "      <td>NaN</td>\n",
       "      <td>NaN</td>\n",
       "    </tr>\n",
       "    <tr>\n",
       "      <th>1</th>\n",
       "      <td>imatinib</td>\n",
       "      <td>INHIBITS</td>\n",
       "      <td>c-Kit</td>\n",
       "      <td>UP_REGULATES</td>\n",
       "      <td>Cellular proliferation</td>\n",
       "      <td>CAUSES</td>\n",
       "      <td>Systemic mast cell disease</td>\n",
       "      <td>NaN</td>\n",
       "      <td>NaN</td>\n",
       "      <td>NaN</td>\n",
       "      <td>NaN</td>\n",
       "      <td>NaN</td>\n",
       "      <td>NaN</td>\n",
       "      <td>NaN</td>\n",
       "      <td>NaN</td>\n",
       "    </tr>\n",
       "  </tbody>\n",
       "</table>\n",
       "</div>"
      ],
      "text/plain": [
       "         n1        e1       n2            e2                      n3      e3  \\\n",
       "0  imatinib  INHIBITS  BCR/ABL        CAUSES               CML (ph+)     NaN   \n",
       "1  imatinib  INHIBITS    c-Kit  UP_REGULATES  Cellular proliferation  CAUSES   \n",
       "\n",
       "                           n4   e4   n5   e5   n6   e6   n7   e7   n8  \n",
       "0                         NaN  NaN  NaN  NaN  NaN  NaN  NaN  NaN  NaN  \n",
       "1  Systemic mast cell disease  NaN  NaN  NaN  NaN  NaN  NaN  NaN  NaN  "
      ]
     },
     "execution_count": 3,
     "metadata": {},
     "output_type": "execute_result"
    }
   ],
   "source": [
    "node_names_df = pd.read_excel(f'{VALIDATION_DIR}/indication_MOA_paths.xlsx', sheet_name='paths')\n",
    "node_names_df.head(2)"
   ]
  },
  {
   "cell_type": "code",
   "execution_count": 4,
   "metadata": {},
   "outputs": [],
   "source": [
    "node_type_df = pd.read_excel(f'{VALIDATION_DIR}/indication_MOA_paths.xlsx', sheet_name='metapaths')\n",
    "node_ids_df = pd.read_excel(f'{VALIDATION_DIR}/indication_MOA_paths.xlsx', sheet_name='node_ids')"
   ]
  },
  {
   "cell_type": "code",
   "execution_count": 5,
   "metadata": {},
   "outputs": [
    {
     "data": {
      "text/html": [
       "<div>\n",
       "<style scoped>\n",
       "    .dataframe tbody tr th:only-of-type {\n",
       "        vertical-align: middle;\n",
       "    }\n",
       "\n",
       "    .dataframe tbody tr th {\n",
       "        vertical-align: top;\n",
       "    }\n",
       "\n",
       "    .dataframe thead th {\n",
       "        text-align: right;\n",
       "    }\n",
       "</style>\n",
       "<table border=\"1\" class=\"dataframe\">\n",
       "  <thead>\n",
       "    <tr style=\"text-align: right;\">\n",
       "      <th></th>\n",
       "      <th>n1</th>\n",
       "      <th>n2</th>\n",
       "      <th>n3</th>\n",
       "      <th>n4</th>\n",
       "      <th>n5</th>\n",
       "      <th>n6</th>\n",
       "      <th>n7</th>\n",
       "      <th>n8</th>\n",
       "    </tr>\n",
       "  </thead>\n",
       "  <tbody>\n",
       "    <tr>\n",
       "      <th>0</th>\n",
       "      <td>MESH:D000068877</td>\n",
       "      <td>UniProt:P00519</td>\n",
       "      <td>MESH:D015464</td>\n",
       "      <td>NaN</td>\n",
       "      <td>NaN</td>\n",
       "      <td>NaN</td>\n",
       "      <td>NaN</td>\n",
       "      <td>NaN</td>\n",
       "    </tr>\n",
       "    <tr>\n",
       "      <th>1</th>\n",
       "      <td>MESH:D000068877</td>\n",
       "      <td>UniProt:P10721</td>\n",
       "      <td>GO:0008283</td>\n",
       "      <td>MESH:D034721</td>\n",
       "      <td>NaN</td>\n",
       "      <td>NaN</td>\n",
       "      <td>NaN</td>\n",
       "      <td>NaN</td>\n",
       "    </tr>\n",
       "  </tbody>\n",
       "</table>\n",
       "</div>"
      ],
      "text/plain": [
       "                n1              n2            n3            n4   n5   n6   n7  \\\n",
       "0  MESH:D000068877  UniProt:P00519  MESH:D015464           NaN  NaN  NaN  NaN   \n",
       "1  MESH:D000068877  UniProt:P10721    GO:0008283  MESH:D034721  NaN  NaN  NaN   \n",
       "\n",
       "    n8  \n",
       "0  NaN  \n",
       "1  NaN  "
      ]
     },
     "execution_count": 5,
     "metadata": {},
     "output_type": "execute_result"
    }
   ],
   "source": [
    "node_ids_df.head(2)"
   ]
  },
  {
   "cell_type": "code",
   "execution_count": 6,
   "metadata": {},
   "outputs": [
    {
     "data": {
      "text/html": [
       "<div>\n",
       "<style scoped>\n",
       "    .dataframe tbody tr th:only-of-type {\n",
       "        vertical-align: middle;\n",
       "    }\n",
       "\n",
       "    .dataframe tbody tr th {\n",
       "        vertical-align: top;\n",
       "    }\n",
       "\n",
       "    .dataframe thead th {\n",
       "        text-align: right;\n",
       "    }\n",
       "</style>\n",
       "<table border=\"1\" class=\"dataframe\">\n",
       "  <thead>\n",
       "    <tr style=\"text-align: right;\">\n",
       "      <th></th>\n",
       "      <th>n1</th>\n",
       "      <th>e1</th>\n",
       "      <th>n2</th>\n",
       "      <th>e2</th>\n",
       "      <th>n3</th>\n",
       "      <th>e3</th>\n",
       "      <th>n4</th>\n",
       "      <th>e4</th>\n",
       "      <th>n5</th>\n",
       "      <th>e5</th>\n",
       "      <th>n6</th>\n",
       "      <th>e6</th>\n",
       "      <th>n7</th>\n",
       "      <th>e7</th>\n",
       "      <th>n8</th>\n",
       "    </tr>\n",
       "  </thead>\n",
       "  <tbody>\n",
       "    <tr>\n",
       "      <th>0</th>\n",
       "      <td>Drug</td>\n",
       "      <td>INHIBITS</td>\n",
       "      <td>Protein</td>\n",
       "      <td>CAUSES</td>\n",
       "      <td>Disease</td>\n",
       "      <td>NaN</td>\n",
       "      <td>NaN</td>\n",
       "      <td>NaN</td>\n",
       "      <td>NaN</td>\n",
       "      <td>NaN</td>\n",
       "      <td>NaN</td>\n",
       "      <td>NaN</td>\n",
       "      <td>NaN</td>\n",
       "      <td>NaN</td>\n",
       "      <td>NaN</td>\n",
       "    </tr>\n",
       "    <tr>\n",
       "      <th>1</th>\n",
       "      <td>Drug</td>\n",
       "      <td>INHIBITS</td>\n",
       "      <td>Protein</td>\n",
       "      <td>UP_REGULATES</td>\n",
       "      <td>Biological Process</td>\n",
       "      <td>CAUSES</td>\n",
       "      <td>Disease</td>\n",
       "      <td>NaN</td>\n",
       "      <td>NaN</td>\n",
       "      <td>NaN</td>\n",
       "      <td>NaN</td>\n",
       "      <td>NaN</td>\n",
       "      <td>NaN</td>\n",
       "      <td>NaN</td>\n",
       "      <td>NaN</td>\n",
       "    </tr>\n",
       "  </tbody>\n",
       "</table>\n",
       "</div>"
      ],
      "text/plain": [
       "     n1        e1       n2            e2                  n3      e3       n4  \\\n",
       "0  Drug  INHIBITS  Protein        CAUSES             Disease     NaN      NaN   \n",
       "1  Drug  INHIBITS  Protein  UP_REGULATES  Biological Process  CAUSES  Disease   \n",
       "\n",
       "    e4   n5   e5   n6   e6   n7   e7   n8  \n",
       "0  NaN  NaN  NaN  NaN  NaN  NaN  NaN  NaN  \n",
       "1  NaN  NaN  NaN  NaN  NaN  NaN  NaN  NaN  "
      ]
     },
     "execution_count": 6,
     "metadata": {},
     "output_type": "execute_result"
    }
   ],
   "source": [
    "node_type_df.head(2)"
   ]
  },
  {
   "cell_type": "markdown",
   "metadata": {},
   "source": [
    "Lets create a graph for all this data."
   ]
  },
  {
   "cell_type": "code",
   "execution_count": 7,
   "metadata": {},
   "outputs": [],
   "source": [
    "def add_node_without_duplicate(graph, node_id):\n",
    "    if node_id not in graph:\n",
    "        graph.add_node(node_id)"
   ]
  },
  {
   "cell_type": "code",
   "execution_count": 8,
   "metadata": {},
   "outputs": [
    {
     "name": "stdout",
     "output_type": "stream",
     "text": [
      "UniProt:P00519\n",
      "MESH:D000068877\n",
      "UniProt:P10721\n",
      "GO:0008283\n",
      "MESH:D000068877\n",
      "UniProt:P16234\n",
      "GO:0008283\n",
      "GO:0008283\n",
      "MESH:D034721\n",
      "REACT:R-HSA-2162123\n",
      "MESH:D000082\n",
      "UniProt:P23219\n",
      "MESH:D011453\n",
      "MESH:D010146\n",
      "MESH:D000082\n",
      "UniProt:P35354\n",
      "MESH:D011453\n",
      "MESH:D011453\n",
      "MESH:D010146\n",
      "MESH:D000082\n",
      "REACT:R-HSA-2162123\n",
      "REACT:R-HSA-2162123\n",
      "UBERON:0000955\n",
      "GO:0001659\n",
      "UniProt:P23219\n",
      "UniProt:P23219\n",
      "MESH:D011453\n",
      "MESH:D011453\n",
      "MESH:D010146\n",
      "MESH:D001241\n",
      "UniProt:P35354\n",
      "UniProt:P35354\n",
      "MESH:D011453\n",
      "MESH:D011453\n",
      "MESH:D010146\n",
      "MESH:D001241\n",
      "UniProt:P23219\n",
      "UniProt:P23219\n",
      "REACT:R-HSA-2162123\n",
      "REACT:R-HSA-2162123\n",
      "MESH:D013928\n",
      "GO:0007596\n",
      "MESH:D001241\n",
      "UniProt:P23219\n",
      "UniProt:P23219\n",
      "GO:0007596\n",
      "GO:0007596\n",
      "MESH:D013927\n",
      "UniProt:P35354\n",
      "UniProt:P35354\n",
      "MESH:D011453\n",
      "MESH:D011453\n",
      "GO:0006954\n",
      "MESH:D010146\n",
      "UniProt:P43702\n",
      "GO:0006260\n",
      "NCBITaxon:622\n",
      "MESH:D009643\n",
      "GO:0003746\n",
      "GO:0006412\n",
      "NCBITaxon:622\n",
      "NCBITaxon:622\n",
      "MESH:D004405\n",
      "UniProt:P04083\n",
      "REACT:R-HSA-2162123\n",
      "REACT:R-HSA-2162123\n",
      "GO:0006954\n",
      "GO:0006954\n",
      "MESH:D003348\n",
      "UniProt:P23219\n",
      "UniProt:P23219\n",
      "MESH:D011453\n",
      "MESH:D011453\n",
      "GO:0006954\n",
      "GO:0006954\n",
      "MESH:D007634\n",
      "MESH:D003348\n",
      "UniProt:P04083\n",
      "UniProt:P04083\n",
      "GO:0050900\n",
      "GO:0006954\n",
      "GO:0006954\n",
      "MESH:D007634\n",
      "MESH:D003348\n",
      "UniProt:P04150\n",
      "UniProt:P04083\n",
      "UniProt:P04083\n",
      "REACT:R-HSA-2162123\n",
      "REACT:R-HSA-2162123\n",
      "GO:0006954\n",
      "GO:0006954\n",
      "MESH:D007634\n",
      "MESH:D003348\n",
      "UniProt:P04150\n",
      "UniProt:P04150\n",
      "UniProt:P23219\n",
      "UniProt:P23219\n",
      "MESH:D011453\n",
      "MESH:D011453\n",
      "GO:0006954\n",
      "GO:0006954\n",
      "MESH:D007634\n",
      "MESH:D015774\n",
      "GO:0039693\n",
      "NCBITaxon:10358\n",
      "MESH:C029371\n",
      "GO:0003676\n",
      "NCBITaxon:2\n",
      "UniProt:P0A7S3\n",
      "GO:0006412\n",
      "GO:0006412\n",
      "NCBITaxon:786\n",
      "MESH:D003707\n",
      "UniProt:P0A7J3\n",
      "GO:0006412\n",
      "GO:0006412\n",
      "NCBITaxon:786\n",
      "NCBITaxon:786\n",
      "MESH:D000073605\n",
      "UniProt:P71707\n",
      "GO:0009252\n",
      "NCBITaxon:1314\n",
      "UniProt:P0C1U9\n",
      "GO:0006260\n",
      "GO:0006260\n",
      "NCBITaxon:1280\n",
      "MESH:C106856\n",
      "UniProt:P20831\n",
      "GO:0006260\n",
      "GO:0006260\n",
      "NCBITaxon:1280\n",
      "NCBITaxon:1280\n",
      "MESH:D011023\n",
      "UniProt:P0A7S3\n",
      "UniProt:P0A7S3\n",
      "GO:0006412\n",
      "GO:0006412\n",
      "NCBITaxon:2\n",
      "NCBITaxon:2\n",
      "UniProt:P04150\n",
      "UniProt:P04150\n",
      "UniProt:P04083\n",
      "UniProt:P04083\n",
      "REACT:R-HSA-2162123\n",
      "REACT:R-HSA-2162123\n",
      "GO:0006954\n",
      "GO:0006954\n",
      "UniProt:Q8DR59\n",
      "GO:0009252\n",
      "GO:0009252\n",
      "NCBITaxon:562\n",
      "UniProt:Q12791\n",
      "GO:0042311\n",
      "GO:0008217\n",
      "UniProt:P10613\n",
      "MESH:D004875\n",
      "GO:0009277\n",
      "UniProt:P35367\n",
      "GO:0034776\n",
      "UniProt:P11388\n",
      "GO:0006260\n",
      "GO:0006260\n",
      "NCBITaxon:562\n",
      "NCBITaxon:562\n",
      "UniProt:P35354\n",
      "UniProt:P35354\n",
      "MESH:D011453\n",
      "MESH:D011453\n",
      "InterPro:IPR000265\n",
      "MESH:D010146\n",
      "InterPro:IPR005446\n",
      "GO:0006939\n",
      "GO:0008217\n",
      "GO:0008217\n",
      "MESH:D002118\n",
      "UniProt:P04150\n",
      "UniProt:P04150\n",
      "UniProt:P47712\n",
      "GO:0006954\n",
      "GO:0006954\n",
      "MESH:D000068298\n",
      "UniProt:P04150\n",
      "UniProt:P04150\n",
      "UniProt:P22301\n",
      "GO:0006954\n",
      "GO:0006954\n",
      "MESH:D001991\n",
      "UniProt:P14416\n",
      "GO:0030252\n",
      "MESH:D005476\n",
      "UniProt:P21728\n",
      "MESH:D010907\n",
      "MESH:D012559\n",
      "UniProt:P35367\n",
      "UniProt:P35367\n",
      "HP:0000969\n",
      "MESH:C066928\n",
      "UniProt:P04585\n",
      "GO:0039693\n",
      "GO:0039693\n",
      "UniProt:P06401\n",
      "UniProt:P01148\n",
      "GO:0032275\n",
      "UniProt:P28223\n",
      "HP:0000708\n",
      "MESH:D012559\n",
      "UniProt:P35367\n",
      "UniProt:P35367\n",
      "GO:0034776\n",
      "GO:0034776\n",
      "UniProt:P23945\n",
      "GO:0030728\n",
      "UniProt:O05131\n",
      "GO:0009252\n",
      "GO:0009252\n",
      "NCBITaxon:485\n",
      "UniProt:Q81VT3\n",
      "GO:0006412\n",
      "GO:0006412\n",
      "NCBITaxon:1392\n",
      "UniProt:Q9BQB6\n",
      "MESH:D014812\n",
      "GO:0007596\n",
      "GO:0007596\n",
      "UniProt:P48357\n",
      "GO:0060612\n",
      "UniProt:P71707\n",
      "UniProt:P71707\n",
      "GO:0009252\n",
      "GO:0009252\n",
      "NCBITaxon:573\n",
      "UniProt:P35367\n",
      "UniProt:P35367\n",
      "GO:0034776\n",
      "GO:0034776\n",
      "UniProt:P35348\n",
      "GO:0042310\n",
      "InterPro:IPR006028\n",
      "GO:0099536\n",
      "InterPro:IPR028809\n",
      "GO:0019233 \n",
      "MESH:D010146\n",
      "UniProt:P31645\n",
      "GO:0051610\n",
      "UniProt:P35367\n",
      "UniProt:P35367\n",
      "GO:0034776\n",
      "GO:0034776\n",
      "MESH:D065631\n",
      "MESH:D005492\n",
      "UniProt:P44350\n",
      "GO:0006412\n",
      "GO:0006412\n",
      "NCBITaxon:727\n",
      "CL:0000346\n",
      "MESH:D008914\n",
      "UniProt:P48048\n",
      "GO:0042311\n",
      "GO:0042311\n",
      "GO:0008217\n",
      "GO:0008217\n",
      "MESH:D006973\n",
      "UniProt:O76074\n",
      "MESH:D006152\n",
      "GO:0042311\n",
      "GO:0042311\n",
      "UniProt:P72525\n",
      "GO:0006260\n",
      "GO:0006260\n",
      "NCBITaxon:1313\n",
      "UniProt:P04150\n",
      "UniProt:P04150\n",
      "UniProt:P47712\n",
      "UniProt:P47712\n",
      "GO:0006954\n",
      "GO:0006954\n",
      "GO:0002553\n",
      "MESH:D003233\n",
      "UniProt:P04150\n",
      "UniProt:P04150\n",
      "UniProt:P47712\n",
      "UniProt:P47712\n",
      "GO:0006954\n",
      "GO:0006954\n",
      "MESH:D003424\n",
      "UniProt:P54289\n",
      "GO:0006936\n",
      "UniProt:P0AD65\n",
      "GO:0009252\n",
      "GO:0009252\n",
      "NCBITaxon:562\n",
      "NCBITaxon:562\n",
      "UniProt:P04150\n",
      "UniProt:P04150\n",
      "UniProt:P04083\n",
      "UniProt:P04083\n",
      "UniProt:P47712\n",
      "UniProt:P47712\n",
      "GO:0006954\n",
      "GO:0006954\n",
      "InterPro:IPR028809\n",
      "InterPro:IPR028809\n",
      "GO:0019227\n",
      "MESH:D010146\n",
      "UniProt:P0A0H0\n",
      "GO:0006412\n",
      "GO:0006412\n",
      "NCBITaxon:1280\n",
      "NCBITaxon:1280\n",
      "MESH:D007634\n",
      "UniProt:P44469\n",
      "GO:0009252\n",
      "GO:0009252\n",
      "NCBITaxon:727\n",
      "NCBITaxon:727\n",
      "MESH:D018410\n",
      "GO:0006954\n",
      "GO:0006954\n",
      "UniProt:P14416\n",
      "UniProt:P14416\n",
      "GO:0014046\n",
      "HP:0100033\n",
      "UniProt:P06401\n",
      "UniProt:P06401\n",
      "UniProt:P01148\n",
      "UniProt:P01148\n",
      "GO:0032275\n",
      "GO:0032275\n",
      "MESH:D008595\n",
      "UniProt:Q14145\n",
      "UniProt:Q16236\n",
      "GO:0006979\n",
      "GO:0032099\n",
      "UniProt:P23975\n",
      "MESH:D009638\n",
      "GO:0023041\n",
      "MESH:D003865\n",
      "UniProt:P41595\n",
      "UniProt:P25021\n",
      "GO:0001696\n",
      "UniProt:P03372\n",
      "MESH:D004967\n",
      "MESH:D059268\n",
      "MESH:D012338\n",
      "GO:0006412\n",
      "GO:0006412\n",
      "NCBITaxon:1637\n",
      "UniProt:Q09428\n",
      "CL:0000169\n",
      "UniProt:P01308\n",
      "MESH:D006943\n",
      "UniProt:P08588\n",
      "GO:0045823\n",
      "UniProt:P35367\n",
      "UniProt:P35367\n",
      "GO:0034776\n",
      "GO:0034776\n",
      "MESH:D003233\n",
      "UniProt:Q9BQB6\n",
      "UniProt:Q9BQB6\n",
      "MESH:D014812\n",
      "MESH:D014812\n",
      "GO:0007596\n",
      "GO:0007596\n",
      "MESH:D011655\n",
      "UniProt:P04150\n",
      "UniProt:P04150\n",
      "UniProt:P04083\n",
      "UniProt:P04083\n",
      "UniProt:P47712\n",
      "UniProt:P47712\n",
      "GO:0019370\n",
      "UniProt:P14416\n",
      "UniProt:P14416\n",
      "REACT:R-HSA-390651\n",
      "MESH:D012559\n",
      "UniProt:P16473\n",
      "UBERON:0002046\n",
      "UniProt:P55017\n",
      "GO:0055078\n",
      "MESH:D006973\n",
      "GO:0032782\n",
      "UniProt:P08908\n",
      "GO:0050795\n",
      "MESH:D003865\n",
      "UniProt:P35372\n",
      "GO:0019233\n",
      "MESH:D010146\n",
      "UniProt:O43497\n",
      "GO:0007268 \n",
      "UniProt:P10275\n",
      "GO:0006351\n",
      "GO:0008283\n",
      "GO:0008283\n",
      "MESH:C107241\n",
      "GO:0030282\n",
      "HP:0004349\n",
      "UniProt:P11511\n",
      "MESH:D004967\n",
      "MESH:D004967\n",
      "GO:0008283\n",
      "GO:0008283\n",
      "UniProt:P30968\n",
      "UBERON:0000007\n",
      "InterPro:IPR000476\n",
      "CL:0000584\n",
      "GO:0050892\n",
      "UniProt:P11511\n",
      "UniProt:P11511\n",
      "MESH:D004967\n",
      "MESH:D004967\n",
      "GO:0030284\n",
      "MESH:D001943\n",
      "UniProt:P13196\n",
      "REACT:R-HSA-189451\n",
      "MESH:D011162\n",
      "UniProt:P14867\n",
      "GO:0022851\n",
      "UniProt:P0A298\n",
      "GO:0006412\n",
      "GO:0006412\n",
      "NCBITaxon:90370\n",
      "GO:0042060\n",
      "UniProt:P19235\n",
      "GO:0030218\n",
      "CL:0000232\n",
      "UniProt:P09917\n",
      "GO:0019370\n",
      "GO:0019370\n",
      "GO:0006954\n",
      "GO:0006954\n",
      "UniProt:P08546\n",
      "GO:0039693\n",
      "GO:0039693\n",
      "NCBITaxon:10358\n",
      "NCBITaxon:10358\n",
      "GO:0009274\n",
      "NCBITaxon:837\n",
      "MESH:D001216\n",
      "GO:0008283\n",
      "GO:0008283\n",
      "UniProt:P9WGY7\n",
      "GO:0032774\n",
      "NCBITaxon:1773\n",
      "GO:0070265\n",
      "UniProt:P54750\n",
      "GO:0043025\n",
      "MESH:D002118\n",
      "MESH:D002118\n",
      "MESH:D006996\n",
      "UniProt:P14867\n",
      "UniProt:P14867\n",
      "GO:1904862\n",
      "UniProt:P07327\n",
      "REACT:R-HSA-71384\n",
      "MESH:C030544\n",
      "UniProt:Q01726\n",
      "GO:0042438\n",
      "MESH:C041877\n",
      "GO:0009650\n",
      "CHEBI:26523\n",
      "MESH:C028025\n",
      "UniProt:P63098\n",
      "UniProt:O95644\n",
      "UniProt:P60568\n",
      "CL:0000084\n",
      "InterPro:IPR015680\n",
      "CHEBI:17996\n",
      "GO:0060081\n",
      "MESH:D010243\n",
      "NCBITaxon:6282\n",
      "UniProt:Q9HB55\n",
      "MESH:D000069446\n",
      "UniProt:P04585\n",
      "UniProt:P04585\n",
      "GO:0019068\n",
      "MESH:D015658\n",
      "UniProt:Q9NZQ7\n",
      "GO:0036037\n",
      "GO:0008283\n",
      "GO:0008283\n"
     ]
    }
   ],
   "source": [
    "# Create graph from node names\n",
    "G = nx.DiGraph()\n",
    "\n",
    "for idx, row in node_names_df.iterrows():\n",
    "    for source_index, target_index in zip(list(range(1, 8)), list(range(2, 9))):\n",
    "        if pd.isna(row[f'n{source_index}']) or pd.isna(row[f'n{target_index}']):\n",
    "            continue\n",
    "\n",
    "        src_id = node_ids_df.iloc[idx][f'n{source_index}']\n",
    "        if src_id in G:\n",
    "            print(src_id)\n",
    "\n",
    "        G.add_node(\n",
    "            node_ids_df.iloc[idx][f'n{source_index}'], \n",
    "            name=row[f'n{source_index}'],\n",
    "            type=node_type_df.iloc[idx][f'n{source_index}']\n",
    "        )\n",
    "\n",
    "        trgt_id = node_ids_df.iloc[idx][f'n{target_index}']\n",
    "        if trgt_id in G:\n",
    "            print(trgt_id)\n",
    "\n",
    "        G.add_node(\n",
    "            node_ids_df.iloc[idx][f'n{target_index}'], \n",
    "            name=row[f'n{target_index}'],\n",
    "            type=node_type_df.iloc[idx][f'n{target_index}']\n",
    "        )\n",
    "\n",
    "        if row[f'e{source_index}'] in [\n",
    "            'INHIBITS', 'DECREASES_EXPRESSION', 'DISRUPTED_IN', 'DISRUPTS', 'DOWN_REGULATES', \n",
    "            'REDUCED_IN', 'REDUCES']:\n",
    "            edge_type = -1\n",
    "        elif row[f'e{source_index}'] in [\n",
    "            'ACTIVATES', 'ACTIVATED_BY', 'INCREASED_BY', 'INCREASES', 'INCREASES_EXPRESSION', 'UPREGULATED_IN',\n",
    "            'UP_REGULATES', 'ELEVATED_IN', 'STIMULATES'\n",
    "        ]:\n",
    "            edge_type = 1\n",
    "        else:  # Not so useful edges for this usecase\n",
    "            continue\n",
    "\n",
    "        G.add_edge(\n",
    "            node_ids_df.iloc[idx][f'n{source_index}'], \n",
    "            node_ids_df.iloc[idx][f'n{target_index}'], \n",
    "            name=edge_type\n",
    "        )\n",
    "    "
   ]
  },
  {
   "cell_type": "code",
   "execution_count": 9,
   "metadata": {},
   "outputs": [
    {
     "data": {
      "text/plain": [
       "(383, 203)"
      ]
     },
     "execution_count": 9,
     "metadata": {},
     "output_type": "execute_result"
    }
   ],
   "source": [
    "G.number_of_nodes(), G.number_of_edges()"
   ]
  },
  {
   "cell_type": "code",
   "execution_count": 10,
   "metadata": {},
   "outputs": [
    {
     "data": {
      "text/plain": [
       "14"
      ]
     },
     "execution_count": 10,
     "metadata": {},
     "output_type": "execute_result"
    }
   ],
   "source": [
    "gnodes = defaultdict(set)\n",
    "\n",
    "for node, ndata in G.nodes(data=True):\n",
    "    gnodes[ndata['type']].add(node)\n",
    "\n",
    "len(gnodes)"
   ]
  },
  {
   "cell_type": "markdown",
   "metadata": {},
   "source": [
    "From these, we are just interested in drugs, proteins, and processes. \n",
    "So, lets check the namespaces these main entities cover."
   ]
  },
  {
   "cell_type": "code",
   "execution_count": 11,
   "metadata": {},
   "outputs": [
    {
     "data": {
      "text/plain": [
       "{'MESH': 104, 'DB': 1}"
      ]
     },
     "execution_count": 11,
     "metadata": {},
     "output_type": "execute_result"
    }
   ],
   "source": [
    "drug_namespaces = defaultdict(set)\n",
    "\n",
    "for i in gnodes['Drug']:\n",
    "    drug_namespaces[i.split(':')[0]].add(i)\n",
    "\n",
    "{i: len(j) for i, j in drug_namespaces.items()}"
   ]
  },
  {
   "cell_type": "code",
   "execution_count": 12,
   "metadata": {},
   "outputs": [
    {
     "data": {
      "text/plain": [
       "{'UniProt': 73}"
      ]
     },
     "execution_count": 12,
     "metadata": {},
     "output_type": "execute_result"
    }
   ],
   "source": [
    "protein_namespaces = defaultdict(set)\n",
    "\n",
    "for i in gnodes['Protein']:\n",
    "    protein_namespaces[i.split(':')[0]].add(i)\n",
    "\n",
    "{i: len(j) for i, j in protein_namespaces.items()}"
   ]
  },
  {
   "cell_type": "code",
   "execution_count": 13,
   "metadata": {},
   "outputs": [
    {
     "data": {
      "text/plain": [
       "{'GO': 50, 'MESH': 1}"
      ]
     },
     "execution_count": 13,
     "metadata": {},
     "output_type": "execute_result"
    }
   ],
   "source": [
    "process_namespaces = defaultdict(set)\n",
    "\n",
    "for i in gnodes['Biological Process']:\n",
    "    process_namespaces[i.split(':')[0]].add(i)\n",
    "\n",
    "{i: len(j) for i, j in process_namespaces.items()}"
   ]
  },
  {
   "cell_type": "markdown",
   "metadata": {},
   "source": [
    "Since there is just one MeSH term. We will leave it out. For the rest, we will map drugs from MeSH and DrugBank to PubChem and UniProts to Ncbigene"
   ]
  },
  {
   "cell_type": "markdown",
   "metadata": {},
   "source": [
    "Mapping the uniprot proteins to ncbigene"
   ]
  },
  {
   "cell_type": "code",
   "execution_count": 14,
   "metadata": {},
   "outputs": [
    {
     "data": {
      "text/html": [
       "<div>\n",
       "<style scoped>\n",
       "    .dataframe tbody tr th:only-of-type {\n",
       "        vertical-align: middle;\n",
       "    }\n",
       "\n",
       "    .dataframe tbody tr th {\n",
       "        vertical-align: top;\n",
       "    }\n",
       "\n",
       "    .dataframe thead th {\n",
       "        text-align: right;\n",
       "    }\n",
       "</style>\n",
       "<table border=\"1\" class=\"dataframe\">\n",
       "  <thead>\n",
       "    <tr style=\"text-align: right;\">\n",
       "      <th></th>\n",
       "      <th>NCBI Gene ID(supplied by NCBI)</th>\n",
       "      <th>UniProt ID(supplied by UniProt)</th>\n",
       "    </tr>\n",
       "  </thead>\n",
       "  <tbody>\n",
       "    <tr>\n",
       "      <th>0</th>\n",
       "      <td>1</td>\n",
       "      <td>P04217</td>\n",
       "    </tr>\n",
       "    <tr>\n",
       "      <th>2</th>\n",
       "      <td>29974</td>\n",
       "      <td>Q9NQ94</td>\n",
       "    </tr>\n",
       "  </tbody>\n",
       "</table>\n",
       "</div>"
      ],
      "text/plain": [
       "  NCBI Gene ID(supplied by NCBI) UniProt ID(supplied by UniProt)\n",
       "0                              1                          P04217\n",
       "2                          29974                          Q9NQ94"
      ]
     },
     "execution_count": 14,
     "metadata": {},
     "output_type": "execute_result"
    }
   ],
   "source": [
    "uniprot2ncbi = pd.read_csv(\n",
    "    's3://enveda-datascience/lauren/gene_mapping.tsv', \n",
    "    sep='\\t',\n",
    "    usecols=['NCBI Gene ID(supplied by NCBI)', 'UniProt ID(supplied by UniProt)'],\n",
    "    dtype=str,\n",
    ")\n",
    "uniprot2ncbi.dropna(subset=['UniProt ID(supplied by UniProt)'], inplace=True)\n",
    "uniprot2ncbi.head(2)"
   ]
  },
  {
   "cell_type": "code",
   "execution_count": 15,
   "metadata": {},
   "outputs": [
    {
     "data": {
      "text/plain": [
       "20156"
      ]
     },
     "execution_count": 15,
     "metadata": {},
     "output_type": "execute_result"
    }
   ],
   "source": [
    "uniprot2ncbi['NCBI Gene ID(supplied by NCBI)'] = 'ncbigene:' + uniprot2ncbi['NCBI Gene ID(supplied by NCBI)']\n",
    "uniprot2ncbi['UniProt ID(supplied by UniProt)'] = 'UniProt:' + uniprot2ncbi['UniProt ID(supplied by UniProt)']\n",
    "uniprot2ncbi.set_index('UniProt ID(supplied by UniProt)', inplace=True)\n",
    "uniprot2ncbi = uniprot2ncbi.to_dict()['NCBI Gene ID(supplied by NCBI)']\n",
    "len(uniprot2ncbi)"
   ]
  },
  {
   "cell_type": "code",
   "execution_count": 52,
   "metadata": {},
   "outputs": [],
   "source": [
    "# write a dictionary to a json file\n",
    "with open(f'{MAPPING_DIR}/uniprot2ncbi.json', 'w') as f:\n",
    "    json.dump(uniprot2ncbi, f)"
   ]
  },
  {
   "cell_type": "markdown",
   "metadata": {},
   "source": [
    "# Load the KG files"
   ]
  },
  {
   "cell_type": "code",
   "execution_count": 16,
   "metadata": {},
   "outputs": [
    {
     "data": {
      "text/html": [
       "<div>\n",
       "<style scoped>\n",
       "    .dataframe tbody tr th:only-of-type {\n",
       "        vertical-align: middle;\n",
       "    }\n",
       "\n",
       "    .dataframe tbody tr th {\n",
       "        vertical-align: top;\n",
       "    }\n",
       "\n",
       "    .dataframe thead th {\n",
       "        text-align: right;\n",
       "    }\n",
       "</style>\n",
       "<table border=\"1\" class=\"dataframe\">\n",
       "  <thead>\n",
       "    <tr style=\"text-align: right;\">\n",
       "      <th></th>\n",
       "      <th>source</th>\n",
       "      <th>source_node_type</th>\n",
       "      <th>target</th>\n",
       "      <th>target_node_type</th>\n",
       "      <th>edge_type</th>\n",
       "    </tr>\n",
       "  </thead>\n",
       "  <tbody>\n",
       "    <tr>\n",
       "      <th>0</th>\n",
       "      <td>pubchem.compound:10607</td>\n",
       "      <td>Compound</td>\n",
       "      <td>ncbigene:3553</td>\n",
       "      <td>Gene</td>\n",
       "      <td>upregulates</td>\n",
       "    </tr>\n",
       "    <tr>\n",
       "      <th>1</th>\n",
       "      <td>pubchem.compound:10607</td>\n",
       "      <td>Compound</td>\n",
       "      <td>ncbigene:203068</td>\n",
       "      <td>Gene</td>\n",
       "      <td>downregulates</td>\n",
       "    </tr>\n",
       "  </tbody>\n",
       "</table>\n",
       "</div>"
      ],
      "text/plain": [
       "                   source source_node_type           target target_node_type  \\\n",
       "0  pubchem.compound:10607         Compound    ncbigene:3553             Gene   \n",
       "1  pubchem.compound:10607         Compound  ncbigene:203068             Gene   \n",
       "\n",
       "       edge_type  \n",
       "0    upregulates  \n",
       "1  downregulates  "
      ]
     },
     "execution_count": 16,
     "metadata": {},
     "output_type": "execute_result"
    }
   ],
   "source": [
    "combined_kg = pd.read_csv(f'{KG_DIR}/full_kg.tsv', sep='\\t')\n",
    "combined_kg.head(2)"
   ]
  },
  {
   "cell_type": "code",
   "execution_count": 17,
   "metadata": {},
   "outputs": [
    {
     "data": {
      "text/plain": [
       "9301"
      ]
     },
     "execution_count": 17,
     "metadata": {},
     "output_type": "execute_result"
    }
   ],
   "source": [
    "target_sets = set(combined_kg[combined_kg['target'].str.startswith('ncbigene')]['target'].tolist())\n",
    "source_sets = set(combined_kg[combined_kg['source'].str.startswith('ncbigene')]['source'].tolist())\n",
    "proteins_in_kg = target_sets.union(source_sets)\n",
    "len(proteins_in_kg)"
   ]
  },
  {
   "cell_type": "markdown",
   "metadata": {},
   "source": [
    "# Subsetting protein nodes to those found in KG"
   ]
  },
  {
   "cell_type": "code",
   "execution_count": 18,
   "metadata": {},
   "outputs": [
    {
     "data": {
      "text/plain": [
       "210"
      ]
     },
     "execution_count": 18,
     "metadata": {},
     "output_type": "execute_result"
    }
   ],
   "source": [
    "nodes_of_interest = set()\n",
    "\n",
    "for type_specific_dict in  [drug_namespaces, process_namespaces, protein_namespaces]:\n",
    "    for namespace, node_ids in type_specific_dict.items():\n",
    "        if namespace == 'UniProt':\n",
    "            for node in node_ids:\n",
    "                if uniprot2ncbi.get(node) is not None:\n",
    "                    nodes_of_interest.add(node)\n",
    "        else:    \n",
    "            nodes_of_interest.update(node_ids)\n",
    "\n",
    "len(nodes_of_interest)"
   ]
  },
  {
   "cell_type": "code",
   "execution_count": 19,
   "metadata": {},
   "outputs": [
    {
     "data": {
      "text/plain": [
       "{'DB', 'GO', 'MESH', 'UniProt'}"
      ]
     },
     "execution_count": 19,
     "metadata": {},
     "output_type": "execute_result"
    }
   ],
   "source": [
    "set(i.split(':')[0] for i in nodes_of_interest)"
   ]
  },
  {
   "cell_type": "code",
   "execution_count": 20,
   "metadata": {},
   "outputs": [
    {
     "data": {
      "text/plain": [
       "(210, 106)"
      ]
     },
     "execution_count": 20,
     "metadata": {},
     "output_type": "execute_result"
    }
   ],
   "source": [
    "filtered_graph = G.subgraph(nodes_of_interest)\n",
    "filtered_graph.number_of_nodes(), filtered_graph.number_of_edges()"
   ]
  },
  {
   "cell_type": "markdown",
   "metadata": {},
   "source": [
    "# Get all edge information from filtered graph"
   ]
  },
  {
   "cell_type": "code",
   "execution_count": 21,
   "metadata": {},
   "outputs": [
    {
     "data": {
      "text/plain": [
       "102"
      ]
     },
     "execution_count": 21,
     "metadata": {},
     "output_type": "execute_result"
    }
   ],
   "source": [
    "drug2mech_edges = []\n",
    "counter = {\n",
    "     'drug-protein': 0,\n",
    "     'protein-process': 0,\n",
    "     'protein-protein': 0,\n",
    "     'drug-process': 0,\n",
    "}\n",
    "\n",
    "for source, target, data in filtered_graph.edges(data=True):\n",
    "\n",
    "    # Edge type\n",
    "    if data['name'] == -1:\n",
    "            edge_type = 'downregulates'\n",
    "    else:\n",
    "        edge_type = 'upregulates'\n",
    "\n",
    "    # Conditions for edge to be added\n",
    "    if filtered_graph.nodes[source]['type'] == 'Drug' and filtered_graph.nodes[target]['type'] == 'Protein':\n",
    "        source_node = filtered_graph.nodes[source]['name']\n",
    "        target_node = uniprot2ncbi[target]\n",
    "        drug2mech_edges.append((source_node, target_node, edge_type))\n",
    "        counter['drug-protein'] += 1\n",
    "\n",
    "    elif filtered_graph.nodes[source]['type'] == 'Protein' and filtered_graph.nodes[target]['type'] == 'Biological Process':\n",
    "        source_node = uniprot2ncbi[source]\n",
    "        drug2mech_edges.append((source_node, target, edge_type))\n",
    "        counter['protein-process'] += 1\n",
    "\n",
    "    elif filtered_graph.nodes[source]['type'] == 'Protein' and filtered_graph.nodes[target]['type'] == 'Protein':\n",
    "        source_node = uniprot2ncbi[source]\n",
    "        target_node = uniprot2ncbi[target]\n",
    "        drug2mech_edges.append((source_node, target_node, edge_type))\n",
    "        counter['protein-protein'] += 1\n",
    "\n",
    "    elif filtered_graph.nodes[source]['type'] == 'Drug' and filtered_graph.nodes[target]['type'] == 'Biological Process':\n",
    "        source_node = filtered_graph.nodes[source]['name']\n",
    "        drug2mech_edges.append((source_node, target, edge_type))\n",
    "        counter['drug-process'] += 1\n",
    "\n",
    "    else:\n",
    "        continue # includes GO-GO edges\n",
    "\n",
    "len(drug2mech_edges)"
   ]
  },
  {
   "cell_type": "markdown",
   "metadata": {},
   "source": [
    "# Harmonization of nodes to consistent ontology"
   ]
  },
  {
   "cell_type": "markdown",
   "metadata": {},
   "source": [
    "For compounds nodes, we will ground them to pubchem nodes and see overlap"
   ]
  },
  {
   "cell_type": "code",
   "execution_count": 22,
   "metadata": {},
   "outputs": [
    {
     "name": "stderr",
     "output_type": "stream",
     "text": [
      "  0%|          | 0/102 [00:00<?, ?it/s]"
     ]
    },
    {
     "name": "stderr",
     "output_type": "stream",
     "text": [
      "100%|██████████| 102/102 [01:04<00:00,  1.57it/s]\n"
     ]
    },
    {
     "data": {
      "text/plain": [
       "98"
      ]
     },
     "execution_count": 22,
     "metadata": {},
     "output_type": "execute_result"
    }
   ],
   "source": [
    "drug2mech_harmonized_edges = []\n",
    "drug_id_mapping = {}\n",
    "\n",
    "for source_node, target_node, rel_type in tqdm(drug2mech_edges):\n",
    "    if ':' not in source_node:\n",
    "        compound = get_compounds(source_node, 'name')\n",
    "        if len(compound) == 0:\n",
    "            compound = get_synonyms(source_node, 'name')\n",
    "            if len(compound) == 0:\n",
    "                continue\n",
    "            cid = str(compound[0]['CID'])\n",
    "        else:\n",
    "            cid = str(compound[0].cid)\n",
    "\n",
    "        cidx = 'pubchem.compound:' + cid\n",
    "        drug_id_mapping[source_node] = cidx\n",
    "        \n",
    "        drug2mech_harmonized_edges.append((cidx, target_node, rel_type))\n",
    "    else:\n",
    "        drug2mech_harmonized_edges.append((source_node, target_node, rel_type))\n",
    "\n",
    "len(drug2mech_harmonized_edges)"
   ]
  },
  {
   "cell_type": "code",
   "execution_count": 23,
   "metadata": {},
   "outputs": [
    {
     "data": {
      "text/plain": [
       "63"
      ]
     },
     "execution_count": 23,
     "metadata": {},
     "output_type": "execute_result"
    }
   ],
   "source": [
    "len(drug_id_mapping)"
   ]
  },
  {
   "cell_type": "code",
   "execution_count": 24,
   "metadata": {},
   "outputs": [],
   "source": [
    "with open(f'{MAPPING_DIR}/drug_id_mapping.json', 'w') as f:\n",
    "    json.dump(drug_id_mapping, f)"
   ]
  },
  {
   "cell_type": "markdown",
   "metadata": {},
   "source": [
    "# Getting the final edges for the graph"
   ]
  },
  {
   "cell_type": "code",
   "execution_count": 25,
   "metadata": {},
   "outputs": [
    {
     "name": "stderr",
     "output_type": "stream",
     "text": [
      "100%|██████████| 98/98 [00:00<00:00, 487594.06it/s]"
     ]
    },
    {
     "name": "stdout",
     "output_type": "stream",
     "text": [
      "pubchem.compound:5380 GO:0002553 downregulates\n",
      "pubchem.compound:443943 GO:0006954 downregulates\n",
      "pubchem.compound:9833444 GO:0032782 upregulates\n",
      "pubchem.compound:204 GO:0042060 upregulates\n",
      "pubchem.compound:6421 GO:0070265 upregulates\n"
     ]
    },
    {
     "name": "stderr",
     "output_type": "stream",
     "text": [
      "\n"
     ]
    }
   ],
   "source": [
    "other_edges = []\n",
    "edge_connections = defaultdict(set)\n",
    "\n",
    "for source, target, edge_type in tqdm(drug2mech_harmonized_edges):\n",
    "\n",
    "    # drug-protein edges\n",
    "    if 'pubchem.compound' in source and 'ncbigene' in target:\n",
    "        other_edges.append({\n",
    "            'source': source,\n",
    "            'source_node_type': 'Compound',\n",
    "            'target': target,\n",
    "            'target_node_type': 'Gene',\n",
    "            'edge_type': edge_type\n",
    "        })\n",
    "\n",
    "        edge_connections[source].add(target)\n",
    "\n",
    "    # protein-protein edges\n",
    "    elif 'ncbigene' in source and 'ncbigene' in target:\n",
    "        other_edges.append({\n",
    "            'source': source,\n",
    "            'source_node_type': 'Gene',\n",
    "            'target': target,\n",
    "            'target_node_type': 'Gene',\n",
    "            'edge_type': edge_type\n",
    "        })\n",
    "\n",
    "        edge_connections[source].add(target)\n",
    "\n",
    "    # protein-process edges\n",
    "    elif 'ncbigene' in source and 'GO' in target:\n",
    "        other_edges.append({\n",
    "            'source': source,\n",
    "            'source_node_type': 'Gene',\n",
    "            'target': target,\n",
    "            'target_node_type': 'Biological Process',\n",
    "            'edge_type': 'participates'\n",
    "        })\n",
    "\n",
    "        edge_connections[source].add(target)\n",
    "\n",
    "    else:\n",
    "        print(source, target, edge_type)\n",
    "        continue"
   ]
  },
  {
   "cell_type": "code",
   "execution_count": 26,
   "metadata": {},
   "outputs": [],
   "source": [
    "# create a directed network graph using the edge list\n",
    "graph = nx.DiGraph()\n",
    "\n",
    "for edge in other_edges:\n",
    "    graph.add_edge(edge['source'], edge['target'], edge_type=edge['edge_type'])\n"
   ]
  },
  {
   "cell_type": "code",
   "execution_count": 27,
   "metadata": {},
   "outputs": [
    {
     "name": "stderr",
     "output_type": "stream",
     "text": [
      "100%|██████████| 928/928 [00:00<00:00, 194830.02it/s]\n"
     ]
    }
   ],
   "source": [
    "# iterate through the graph to get all nodes starting from drugs going through proteins and ending at processes\n",
    "drug2process_edges = []\n",
    "\n",
    "drug_nodes = [\n",
    "    node for node in graph.nodes() \n",
    "    if 'pubchem.compound' in node\n",
    "]\n",
    "\n",
    "process_nodes = [\n",
    "    node for node in graph.nodes() if 'GO' in node\n",
    "]\n",
    "\n",
    "for start_node, end_node in tqdm(list(product(drug_nodes, process_nodes))):\n",
    "    if not nx.has_path(graph, source=start_node, target=end_node):\n",
    "        continue\n",
    "    drug2process_edges.append({\n",
    "        'source': start_node,\n",
    "        'source_node_type': 'Compound',\n",
    "        'target': end_node,\n",
    "        'target_node_type': 'Biological Process',\n",
    "        'edge_type': 'induces'\n",
    "    })\n",
    "    "
   ]
  },
  {
   "cell_type": "code",
   "execution_count": 28,
   "metadata": {},
   "outputs": [
    {
     "data": {
      "text/plain": [
       "42"
      ]
     },
     "execution_count": 28,
     "metadata": {},
     "output_type": "execute_result"
    }
   ],
   "source": [
    "len(drug2process_edges)"
   ]
  },
  {
   "cell_type": "code",
   "execution_count": null,
   "metadata": {},
   "outputs": [
    {
     "data": {
      "text/html": [
       "<div>\n",
       "<style scoped>\n",
       "    .dataframe tbody tr th:only-of-type {\n",
       "        vertical-align: middle;\n",
       "    }\n",
       "\n",
       "    .dataframe tbody tr th {\n",
       "        vertical-align: top;\n",
       "    }\n",
       "\n",
       "    .dataframe thead th {\n",
       "        text-align: right;\n",
       "    }\n",
       "</style>\n",
       "<table border=\"1\" class=\"dataframe\">\n",
       "  <thead>\n",
       "    <tr style=\"text-align: right;\">\n",
       "      <th></th>\n",
       "      <th>source</th>\n",
       "      <th>source_node_type</th>\n",
       "      <th>target</th>\n",
       "      <th>target_node_type</th>\n",
       "      <th>edge_type</th>\n",
       "    </tr>\n",
       "  </thead>\n",
       "  <tbody>\n",
       "    <tr>\n",
       "      <th>0</th>\n",
       "      <td>pubchem.compound:10607</td>\n",
       "      <td>Compound</td>\n",
       "      <td>ncbigene:3553</td>\n",
       "      <td>Gene</td>\n",
       "      <td>upregulates</td>\n",
       "    </tr>\n",
       "    <tr>\n",
       "      <th>1</th>\n",
       "      <td>pubchem.compound:10607</td>\n",
       "      <td>Compound</td>\n",
       "      <td>ncbigene:203068</td>\n",
       "      <td>Gene</td>\n",
       "      <td>downregulates</td>\n",
       "    </tr>\n",
       "    <tr>\n",
       "      <th>2</th>\n",
       "      <td>pubchem.compound:10607</td>\n",
       "      <td>Compound</td>\n",
       "      <td>ncbigene:54658</td>\n",
       "      <td>Gene</td>\n",
       "      <td>downregulates</td>\n",
       "    </tr>\n",
       "    <tr>\n",
       "      <th>3</th>\n",
       "      <td>pubchem.compound:10607</td>\n",
       "      <td>Compound</td>\n",
       "      <td>ncbigene:7153</td>\n",
       "      <td>Gene</td>\n",
       "      <td>downregulates</td>\n",
       "    </tr>\n",
       "    <tr>\n",
       "      <th>4</th>\n",
       "      <td>pubchem.compound:10607</td>\n",
       "      <td>Compound</td>\n",
       "      <td>ncbigene:7277</td>\n",
       "      <td>Gene</td>\n",
       "      <td>downregulates</td>\n",
       "    </tr>\n",
       "  </tbody>\n",
       "</table>\n",
       "</div>"
      ],
      "text/plain": [
       "                   source source_node_type           target target_node_type  \\\n",
       "0  pubchem.compound:10607         Compound    ncbigene:3553             Gene   \n",
       "1  pubchem.compound:10607         Compound  ncbigene:203068             Gene   \n",
       "2  pubchem.compound:10607         Compound   ncbigene:54658             Gene   \n",
       "3  pubchem.compound:10607         Compound    ncbigene:7153             Gene   \n",
       "4  pubchem.compound:10607         Compound    ncbigene:7277             Gene   \n",
       "\n",
       "       edge_type  \n",
       "0    upregulates  \n",
       "1  downregulates  \n",
       "2  downregulates  \n",
       "3  downregulates  \n",
       "4  downregulates  "
      ]
     },
     "execution_count": 26,
     "metadata": {},
     "output_type": "execute_result"
    }
   ],
   "source": [
    "kg_data = pd.DataFrame(other_edges)\n",
    "\n",
    "# Append to the existing KG\n",
    "final_kg_df = pd.concat([combined_kg, kg_data], ignore_index=True)\n",
    "final_kg_df.drop_duplicates(inplace=True)\n",
    "final_kg_df.head()"
   ]
  },
  {
   "cell_type": "code",
   "execution_count": null,
   "metadata": {},
   "outputs": [],
   "source": [
    "final_kg_df.to_csv(f'{KG_DIR}/final_kg.tsv', sep='\\t', index=False)"
   ]
  },
  {
   "cell_type": "code",
   "execution_count": null,
   "metadata": {},
   "outputs": [
    {
     "data": {
      "text/html": [
       "<div>\n",
       "<style scoped>\n",
       "    .dataframe tbody tr th:only-of-type {\n",
       "        vertical-align: middle;\n",
       "    }\n",
       "\n",
       "    .dataframe tbody tr th {\n",
       "        vertical-align: top;\n",
       "    }\n",
       "\n",
       "    .dataframe thead th {\n",
       "        text-align: right;\n",
       "    }\n",
       "</style>\n",
       "<table border=\"1\" class=\"dataframe\">\n",
       "  <thead>\n",
       "    <tr style=\"text-align: right;\">\n",
       "      <th></th>\n",
       "      <th>source</th>\n",
       "      <th>source_node_type</th>\n",
       "      <th>target</th>\n",
       "      <th>target_node_type</th>\n",
       "      <th>edge_type</th>\n",
       "    </tr>\n",
       "  </thead>\n",
       "  <tbody>\n",
       "    <tr>\n",
       "      <th>0</th>\n",
       "      <td>pubchem.compound:5291</td>\n",
       "      <td>Compound</td>\n",
       "      <td>GO:0008283</td>\n",
       "      <td>Biological Process</td>\n",
       "      <td>induces</td>\n",
       "    </tr>\n",
       "    <tr>\n",
       "      <th>1</th>\n",
       "      <td>pubchem.compound:5745</td>\n",
       "      <td>Compound</td>\n",
       "      <td>GO:0050900</td>\n",
       "      <td>Biological Process</td>\n",
       "      <td>induces</td>\n",
       "    </tr>\n",
       "    <tr>\n",
       "      <th>2</th>\n",
       "      <td>pubchem.compound:5745</td>\n",
       "      <td>Compound</td>\n",
       "      <td>GO:0006954</td>\n",
       "      <td>Biological Process</td>\n",
       "      <td>induces</td>\n",
       "    </tr>\n",
       "    <tr>\n",
       "      <th>3</th>\n",
       "      <td>pubchem.compound:5745</td>\n",
       "      <td>Compound</td>\n",
       "      <td>GO:0019370</td>\n",
       "      <td>Biological Process</td>\n",
       "      <td>induces</td>\n",
       "    </tr>\n",
       "    <tr>\n",
       "      <th>4</th>\n",
       "      <td>pubchem.compound:5743</td>\n",
       "      <td>Compound</td>\n",
       "      <td>GO:0050900</td>\n",
       "      <td>Biological Process</td>\n",
       "      <td>induces</td>\n",
       "    </tr>\n",
       "  </tbody>\n",
       "</table>\n",
       "</div>"
      ],
      "text/plain": [
       "                  source source_node_type      target    target_node_type  \\\n",
       "0  pubchem.compound:5291         Compound  GO:0008283  Biological Process   \n",
       "1  pubchem.compound:5745         Compound  GO:0050900  Biological Process   \n",
       "2  pubchem.compound:5745         Compound  GO:0006954  Biological Process   \n",
       "3  pubchem.compound:5745         Compound  GO:0019370  Biological Process   \n",
       "4  pubchem.compound:5743         Compound  GO:0050900  Biological Process   \n",
       "\n",
       "  edge_type  \n",
       "0   induces  \n",
       "1   induces  \n",
       "2   induces  \n",
       "3   induces  \n",
       "4   induces  "
      ]
     },
     "execution_count": 28,
     "metadata": {},
     "output_type": "execute_result"
    }
   ],
   "source": [
    "validation_df = pd.DataFrame(drug2process_edges)\n",
    "validation_df.drop_duplicates(inplace=True)\n",
    "validation_df.head()"
   ]
  },
  {
   "cell_type": "code",
   "execution_count": null,
   "metadata": {},
   "outputs": [],
   "source": [
    "validation_df.to_csv(f'{KG_DIR}/test.tsv', sep='\\t', index=False)"
   ]
  },
  {
   "cell_type": "code",
   "execution_count": null,
   "metadata": {},
   "outputs": [],
   "source": []
  }
 ],
 "metadata": {
  "kernelspec": {
   "display_name": "nesy_venv",
   "language": "python",
   "name": "python3"
  },
  "language_info": {
   "codemirror_mode": {
    "name": "ipython",
    "version": 3
   },
   "file_extension": ".py",
   "mimetype": "text/x-python",
   "name": "python",
   "nbconvert_exporter": "python",
   "pygments_lexer": "ipython3",
   "version": "3.9.6"
  },
  "orig_nbformat": 4
 },
 "nbformat": 4,
 "nbformat_minor": 2
}
