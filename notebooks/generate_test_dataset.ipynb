{
 "cells": [
  {
   "attachments": {},
   "cell_type": "markdown",
   "metadata": {},
   "source": [
    "# Generation of test dataset\n",
    "\n",
    "Here, I explore [DrugMechDB](https://sulab.github.io/DrugMechDB/) which could ideally provide us with true positive paths / MOAs."
   ]
  },
  {
   "cell_type": "code",
   "execution_count": 1,
   "metadata": {},
   "outputs": [],
   "source": [
    "from collections import defaultdict\n",
    "import pandas as pd\n",
    "from tqdm import tqdm\n",
    "import json\n",
    "import networkx as nx\n",
    "import matplotlib.pyplot as plt\n",
    "\n",
    "from pubchempy import get_compounds\n",
    "from collections import Counter"
   ]
  },
  {
   "attachments": {},
   "cell_type": "markdown",
   "metadata": {},
   "source": [
    "## Load in the DrugMechDB file"
   ]
  },
  {
   "cell_type": "code",
   "execution_count": 2,
   "metadata": {},
   "outputs": [],
   "source": [
    "KG_DIR = '../data/kg'\n",
    "VALIDATION_DIR = '../data/validation'\n",
    "MAPPING_DIR = '../data/mappings'"
   ]
  },
  {
   "cell_type": "code",
   "execution_count": 3,
   "metadata": {},
   "outputs": [
    {
     "data": {
      "text/html": [
       "<div>\n",
       "<style scoped>\n",
       "    .dataframe tbody tr th:only-of-type {\n",
       "        vertical-align: middle;\n",
       "    }\n",
       "\n",
       "    .dataframe tbody tr th {\n",
       "        vertical-align: top;\n",
       "    }\n",
       "\n",
       "    .dataframe thead th {\n",
       "        text-align: right;\n",
       "    }\n",
       "</style>\n",
       "<table border=\"1\" class=\"dataframe\">\n",
       "  <thead>\n",
       "    <tr style=\"text-align: right;\">\n",
       "      <th></th>\n",
       "      <th>n1</th>\n",
       "      <th>e1</th>\n",
       "      <th>n2</th>\n",
       "      <th>e2</th>\n",
       "      <th>n3</th>\n",
       "      <th>e3</th>\n",
       "      <th>n4</th>\n",
       "      <th>e4</th>\n",
       "      <th>n5</th>\n",
       "      <th>e5</th>\n",
       "      <th>n6</th>\n",
       "      <th>e6</th>\n",
       "      <th>n7</th>\n",
       "      <th>e7</th>\n",
       "      <th>n8</th>\n",
       "    </tr>\n",
       "  </thead>\n",
       "  <tbody>\n",
       "    <tr>\n",
       "      <th>0</th>\n",
       "      <td>imatinib</td>\n",
       "      <td>INHIBITS</td>\n",
       "      <td>BCR/ABL</td>\n",
       "      <td>CAUSES</td>\n",
       "      <td>CML (ph+)</td>\n",
       "      <td>NaN</td>\n",
       "      <td>NaN</td>\n",
       "      <td>NaN</td>\n",
       "      <td>NaN</td>\n",
       "      <td>NaN</td>\n",
       "      <td>NaN</td>\n",
       "      <td>NaN</td>\n",
       "      <td>NaN</td>\n",
       "      <td>NaN</td>\n",
       "      <td>NaN</td>\n",
       "    </tr>\n",
       "    <tr>\n",
       "      <th>1</th>\n",
       "      <td>imatinib</td>\n",
       "      <td>INHIBITS</td>\n",
       "      <td>c-Kit</td>\n",
       "      <td>UP_REGULATES</td>\n",
       "      <td>Cellular proliferation</td>\n",
       "      <td>CAUSES</td>\n",
       "      <td>Systemic mast cell disease</td>\n",
       "      <td>NaN</td>\n",
       "      <td>NaN</td>\n",
       "      <td>NaN</td>\n",
       "      <td>NaN</td>\n",
       "      <td>NaN</td>\n",
       "      <td>NaN</td>\n",
       "      <td>NaN</td>\n",
       "      <td>NaN</td>\n",
       "    </tr>\n",
       "  </tbody>\n",
       "</table>\n",
       "</div>"
      ],
      "text/plain": [
       "         n1        e1       n2            e2                      n3      e3  \\\n",
       "0  imatinib  INHIBITS  BCR/ABL        CAUSES               CML (ph+)     NaN   \n",
       "1  imatinib  INHIBITS    c-Kit  UP_REGULATES  Cellular proliferation  CAUSES   \n",
       "\n",
       "                           n4   e4   n5   e5   n6   e6   n7   e7   n8  \n",
       "0                         NaN  NaN  NaN  NaN  NaN  NaN  NaN  NaN  NaN  \n",
       "1  Systemic mast cell disease  NaN  NaN  NaN  NaN  NaN  NaN  NaN  NaN  "
      ]
     },
     "execution_count": 3,
     "metadata": {},
     "output_type": "execute_result"
    }
   ],
   "source": [
    "node_names_df = pd.read_excel(f'{VALIDATION_DIR}/indication_MOA_paths.xlsx', sheet_name='paths')\n",
    "node_names_df.head(2)"
   ]
  },
  {
   "cell_type": "code",
   "execution_count": 4,
   "metadata": {},
   "outputs": [],
   "source": [
    "node_type_df = pd.read_excel(f'{VALIDATION_DIR}/indication_MOA_paths.xlsx', sheet_name='metapaths')\n",
    "node_ids_df = pd.read_excel(f'{VALIDATION_DIR}/indication_MOA_paths.xlsx', sheet_name='node_ids')"
   ]
  },
  {
   "cell_type": "code",
   "execution_count": 5,
   "metadata": {},
   "outputs": [
    {
     "data": {
      "text/html": [
       "<div>\n",
       "<style scoped>\n",
       "    .dataframe tbody tr th:only-of-type {\n",
       "        vertical-align: middle;\n",
       "    }\n",
       "\n",
       "    .dataframe tbody tr th {\n",
       "        vertical-align: top;\n",
       "    }\n",
       "\n",
       "    .dataframe thead th {\n",
       "        text-align: right;\n",
       "    }\n",
       "</style>\n",
       "<table border=\"1\" class=\"dataframe\">\n",
       "  <thead>\n",
       "    <tr style=\"text-align: right;\">\n",
       "      <th></th>\n",
       "      <th>n1</th>\n",
       "      <th>n2</th>\n",
       "      <th>n3</th>\n",
       "      <th>n4</th>\n",
       "      <th>n5</th>\n",
       "      <th>n6</th>\n",
       "      <th>n7</th>\n",
       "      <th>n8</th>\n",
       "    </tr>\n",
       "  </thead>\n",
       "  <tbody>\n",
       "    <tr>\n",
       "      <th>0</th>\n",
       "      <td>MESH:D000068877</td>\n",
       "      <td>UniProt:P00519</td>\n",
       "      <td>MESH:D015464</td>\n",
       "      <td>NaN</td>\n",
       "      <td>NaN</td>\n",
       "      <td>NaN</td>\n",
       "      <td>NaN</td>\n",
       "      <td>NaN</td>\n",
       "    </tr>\n",
       "    <tr>\n",
       "      <th>1</th>\n",
       "      <td>MESH:D000068877</td>\n",
       "      <td>UniProt:P10721</td>\n",
       "      <td>GO:0008283</td>\n",
       "      <td>MESH:D034721</td>\n",
       "      <td>NaN</td>\n",
       "      <td>NaN</td>\n",
       "      <td>NaN</td>\n",
       "      <td>NaN</td>\n",
       "    </tr>\n",
       "  </tbody>\n",
       "</table>\n",
       "</div>"
      ],
      "text/plain": [
       "                n1              n2            n3            n4   n5   n6   n7  \\\n",
       "0  MESH:D000068877  UniProt:P00519  MESH:D015464           NaN  NaN  NaN  NaN   \n",
       "1  MESH:D000068877  UniProt:P10721    GO:0008283  MESH:D034721  NaN  NaN  NaN   \n",
       "\n",
       "    n8  \n",
       "0  NaN  \n",
       "1  NaN  "
      ]
     },
     "execution_count": 5,
     "metadata": {},
     "output_type": "execute_result"
    }
   ],
   "source": [
    "node_ids_df.head(2)"
   ]
  },
  {
   "cell_type": "code",
   "execution_count": 6,
   "metadata": {},
   "outputs": [
    {
     "data": {
      "text/html": [
       "<div>\n",
       "<style scoped>\n",
       "    .dataframe tbody tr th:only-of-type {\n",
       "        vertical-align: middle;\n",
       "    }\n",
       "\n",
       "    .dataframe tbody tr th {\n",
       "        vertical-align: top;\n",
       "    }\n",
       "\n",
       "    .dataframe thead th {\n",
       "        text-align: right;\n",
       "    }\n",
       "</style>\n",
       "<table border=\"1\" class=\"dataframe\">\n",
       "  <thead>\n",
       "    <tr style=\"text-align: right;\">\n",
       "      <th></th>\n",
       "      <th>n1</th>\n",
       "      <th>e1</th>\n",
       "      <th>n2</th>\n",
       "      <th>e2</th>\n",
       "      <th>n3</th>\n",
       "      <th>e3</th>\n",
       "      <th>n4</th>\n",
       "      <th>e4</th>\n",
       "      <th>n5</th>\n",
       "      <th>e5</th>\n",
       "      <th>n6</th>\n",
       "      <th>e6</th>\n",
       "      <th>n7</th>\n",
       "      <th>e7</th>\n",
       "      <th>n8</th>\n",
       "    </tr>\n",
       "  </thead>\n",
       "  <tbody>\n",
       "    <tr>\n",
       "      <th>0</th>\n",
       "      <td>Drug</td>\n",
       "      <td>INHIBITS</td>\n",
       "      <td>Protein</td>\n",
       "      <td>CAUSES</td>\n",
       "      <td>Disease</td>\n",
       "      <td>NaN</td>\n",
       "      <td>NaN</td>\n",
       "      <td>NaN</td>\n",
       "      <td>NaN</td>\n",
       "      <td>NaN</td>\n",
       "      <td>NaN</td>\n",
       "      <td>NaN</td>\n",
       "      <td>NaN</td>\n",
       "      <td>NaN</td>\n",
       "      <td>NaN</td>\n",
       "    </tr>\n",
       "    <tr>\n",
       "      <th>1</th>\n",
       "      <td>Drug</td>\n",
       "      <td>INHIBITS</td>\n",
       "      <td>Protein</td>\n",
       "      <td>UP_REGULATES</td>\n",
       "      <td>Biological Process</td>\n",
       "      <td>CAUSES</td>\n",
       "      <td>Disease</td>\n",
       "      <td>NaN</td>\n",
       "      <td>NaN</td>\n",
       "      <td>NaN</td>\n",
       "      <td>NaN</td>\n",
       "      <td>NaN</td>\n",
       "      <td>NaN</td>\n",
       "      <td>NaN</td>\n",
       "      <td>NaN</td>\n",
       "    </tr>\n",
       "  </tbody>\n",
       "</table>\n",
       "</div>"
      ],
      "text/plain": [
       "     n1        e1       n2            e2                  n3      e3       n4  \\\n",
       "0  Drug  INHIBITS  Protein        CAUSES             Disease     NaN      NaN   \n",
       "1  Drug  INHIBITS  Protein  UP_REGULATES  Biological Process  CAUSES  Disease   \n",
       "\n",
       "    e4   n5   e5   n6   e6   n7   e7   n8  \n",
       "0  NaN  NaN  NaN  NaN  NaN  NaN  NaN  NaN  \n",
       "1  NaN  NaN  NaN  NaN  NaN  NaN  NaN  NaN  "
      ]
     },
     "execution_count": 6,
     "metadata": {},
     "output_type": "execute_result"
    }
   ],
   "source": [
    "node_type_df.head(2)"
   ]
  },
  {
   "cell_type": "markdown",
   "metadata": {},
   "source": [
    "# Get all drug-bp pairs\n",
    "\n",
    "From the main file, each row is a valide drug-bp path. So each path is considered individually and only paths that connect a drug to a biological process are selected."
   ]
  },
  {
   "cell_type": "code",
   "execution_count": 7,
   "metadata": {},
   "outputs": [
    {
     "name": "stderr",
     "output_type": "stream",
     "text": [
      "100%|██████████| 123/123 [00:00<00:00, 10761.80it/s]\n"
     ]
    },
    {
     "data": {
      "text/plain": [
       "101"
      ]
     },
     "execution_count": 7,
     "metadata": {},
     "output_type": "execute_result"
    }
   ],
   "source": [
    "drug_bp_pairs = []\n",
    "\n",
    "for idx, row in tqdm(node_type_df.iterrows(), total=node_type_df.shape[0]):\n",
    "    try:\n",
    "        assert row['n1'] == 'Drug'\n",
    "        drug_node = {\n",
    "            'idx': node_ids_df.iloc[idx]['n1'], \n",
    "            'name': node_names_df.iloc[idx]['n1']\n",
    "        }\n",
    "    except AssertionError:\n",
    "        continue\n",
    "\n",
    "    for _index in range(1, 8):\n",
    "        if row[f'n{_index}'] == 'Biological Process':\n",
    "            drug_bp_pairs.append((drug_node, {\n",
    "                'idx': node_ids_df.iloc[idx][f'n{_index}'], \n",
    "                'name': node_names_df.iloc[idx][f'n{_index}']\n",
    "            }))\n",
    "\n",
    "len(drug_bp_pairs)\n"
   ]
  },
  {
   "cell_type": "markdown",
   "metadata": {},
   "source": [
    "# Harmonization of nodes to consistent ontology"
   ]
  },
  {
   "cell_type": "markdown",
   "metadata": {},
   "source": [
    "For compounds nodes, we will ground them to pubchem nodes and see overlap"
   ]
  },
  {
   "cell_type": "code",
   "execution_count": 8,
   "metadata": {},
   "outputs": [
    {
     "name": "stderr",
     "output_type": "stream",
     "text": [
      "100%|██████████| 101/101 [01:16<00:00,  1.32it/s]\n"
     ]
    },
    {
     "data": {
      "text/plain": [
       "95"
      ]
     },
     "execution_count": 8,
     "metadata": {},
     "output_type": "execute_result"
    }
   ],
   "source": [
    "drug2mech_harmonized_edges = []\n",
    "drug_id_mapping = {}\n",
    "\n",
    "for cmp_node, bp_node in tqdm(drug_bp_pairs):\n",
    "    compound = get_compounds(cmp_node['name'], 'name')\n",
    "    if len(compound) == 0:\n",
    "        continue\n",
    "\n",
    "    cidx = 'pubchem.compound:' + str(compound[0].cid)\n",
    "    drug_id_mapping[cmp_node['name']] = cidx\n",
    "    \n",
    "    drug2mech_harmonized_edges.append({\n",
    "        'source': cidx,\n",
    "        'source_node_type': 'Compound',\n",
    "        'target': bp_node['idx'],\n",
    "        'target_node_type': 'Biological Process',\n",
    "        'edge_type': 'induces'\n",
    "    })\n",
    "\n",
    "len(drug2mech_harmonized_edges)"
   ]
  },
  {
   "cell_type": "code",
   "execution_count": 9,
   "metadata": {},
   "outputs": [
    {
     "data": {
      "text/html": [
       "<div>\n",
       "<style scoped>\n",
       "    .dataframe tbody tr th:only-of-type {\n",
       "        vertical-align: middle;\n",
       "    }\n",
       "\n",
       "    .dataframe tbody tr th {\n",
       "        vertical-align: top;\n",
       "    }\n",
       "\n",
       "    .dataframe thead th {\n",
       "        text-align: right;\n",
       "    }\n",
       "</style>\n",
       "<table border=\"1\" class=\"dataframe\">\n",
       "  <thead>\n",
       "    <tr style=\"text-align: right;\">\n",
       "      <th></th>\n",
       "      <th>source</th>\n",
       "      <th>source_node_type</th>\n",
       "      <th>target</th>\n",
       "      <th>target_node_type</th>\n",
       "      <th>edge_type</th>\n",
       "    </tr>\n",
       "  </thead>\n",
       "  <tbody>\n",
       "    <tr>\n",
       "      <th>0</th>\n",
       "      <td>pubchem.compound:5291</td>\n",
       "      <td>Compound</td>\n",
       "      <td>GO:0008283</td>\n",
       "      <td>Biological Process</td>\n",
       "      <td>induces</td>\n",
       "    </tr>\n",
       "    <tr>\n",
       "      <th>2</th>\n",
       "      <td>pubchem.compound:1983</td>\n",
       "      <td>Compound</td>\n",
       "      <td>GO:0001659</td>\n",
       "      <td>Biological Process</td>\n",
       "      <td>induces</td>\n",
       "    </tr>\n",
       "    <tr>\n",
       "      <th>3</th>\n",
       "      <td>pubchem.compound:2244</td>\n",
       "      <td>Compound</td>\n",
       "      <td>GO:0007596</td>\n",
       "      <td>Biological Process</td>\n",
       "      <td>induces</td>\n",
       "    </tr>\n",
       "    <tr>\n",
       "      <th>5</th>\n",
       "      <td>pubchem.compound:156391</td>\n",
       "      <td>Compound</td>\n",
       "      <td>GO:0006954</td>\n",
       "      <td>Biological Process</td>\n",
       "      <td>induces</td>\n",
       "    </tr>\n",
       "    <tr>\n",
       "      <th>6</th>\n",
       "      <td>pubchem.compound:4539</td>\n",
       "      <td>Compound</td>\n",
       "      <td>GO:0006260</td>\n",
       "      <td>Biological Process</td>\n",
       "      <td>induces</td>\n",
       "    </tr>\n",
       "  </tbody>\n",
       "</table>\n",
       "</div>"
      ],
      "text/plain": [
       "                    source source_node_type      target    target_node_type  \\\n",
       "0    pubchem.compound:5291         Compound  GO:0008283  Biological Process   \n",
       "2    pubchem.compound:1983         Compound  GO:0001659  Biological Process   \n",
       "3    pubchem.compound:2244         Compound  GO:0007596  Biological Process   \n",
       "5  pubchem.compound:156391         Compound  GO:0006954  Biological Process   \n",
       "6    pubchem.compound:4539         Compound  GO:0006260  Biological Process   \n",
       "\n",
       "  edge_type  \n",
       "0   induces  \n",
       "2   induces  \n",
       "3   induces  \n",
       "5   induces  \n",
       "6   induces  "
      ]
     },
     "execution_count": 9,
     "metadata": {},
     "output_type": "execute_result"
    }
   ],
   "source": [
    "validation_df = pd.DataFrame(drug2mech_harmonized_edges)\n",
    "validation_df.drop_duplicates(inplace=True)\n",
    "validation_df.head()"
   ]
  },
  {
   "cell_type": "code",
   "execution_count": 10,
   "metadata": {},
   "outputs": [
    {
     "data": {
      "text/plain": [
       "(86, 5)"
      ]
     },
     "execution_count": 10,
     "metadata": {},
     "output_type": "execute_result"
    }
   ],
   "source": [
    "validation_df.shape"
   ]
  },
  {
   "cell_type": "markdown",
   "metadata": {},
   "source": [
    "## Now, get those which are connected to our KG:\n",
    "\n",
    "We know they're already connected if both the drug and BP are already in the KG:"
   ]
  },
  {
   "cell_type": "code",
   "execution_count": 11,
   "metadata": {},
   "outputs": [
    {
     "data": {
      "text/html": [
       "<div>\n",
       "<style scoped>\n",
       "    .dataframe tbody tr th:only-of-type {\n",
       "        vertical-align: middle;\n",
       "    }\n",
       "\n",
       "    .dataframe tbody tr th {\n",
       "        vertical-align: top;\n",
       "    }\n",
       "\n",
       "    .dataframe thead th {\n",
       "        text-align: right;\n",
       "    }\n",
       "</style>\n",
       "<table border=\"1\" class=\"dataframe\">\n",
       "  <thead>\n",
       "    <tr style=\"text-align: right;\">\n",
       "      <th></th>\n",
       "      <th>source</th>\n",
       "      <th>target</th>\n",
       "      <th>edge_type</th>\n",
       "      <th>source_node_type</th>\n",
       "      <th>target_node_type</th>\n",
       "    </tr>\n",
       "  </thead>\n",
       "  <tbody>\n",
       "    <tr>\n",
       "      <th>0</th>\n",
       "      <td>ncbigene:6622</td>\n",
       "      <td>ncbigene:3308</td>\n",
       "      <td>interacts</td>\n",
       "      <td>Gene</td>\n",
       "      <td>Gene</td>\n",
       "    </tr>\n",
       "    <tr>\n",
       "      <th>1</th>\n",
       "      <td>ncbigene:6622</td>\n",
       "      <td>ncbigene:10273</td>\n",
       "      <td>interacts</td>\n",
       "      <td>Gene</td>\n",
       "      <td>Gene</td>\n",
       "    </tr>\n",
       "  </tbody>\n",
       "</table>\n",
       "</div>"
      ],
      "text/plain": [
       "          source          target  edge_type source_node_type target_node_type\n",
       "0  ncbigene:6622   ncbigene:3308  interacts             Gene             Gene\n",
       "1  ncbigene:6622  ncbigene:10273  interacts             Gene             Gene"
      ]
     },
     "execution_count": 11,
     "metadata": {},
     "output_type": "execute_result"
    }
   ],
   "source": [
    "combined_kg = pd.read_csv(f'{KG_DIR}/full_kg.tsv', sep='\\t')\n",
    "combined_kg.head(2)"
   ]
  },
  {
   "cell_type": "code",
   "execution_count": 12,
   "metadata": {},
   "outputs": [],
   "source": [
    "bps = set(combined_kg[combined_kg['target'].str.startswith('GO')]['target'].tolist())\n",
    "drugs = set(combined_kg[combined_kg['source'].str.startswith('pubchem')]['source'].tolist())"
   ]
  },
  {
   "cell_type": "code",
   "execution_count": 13,
   "metadata": {},
   "outputs": [
    {
     "data": {
      "text/html": [
       "<div>\n",
       "<style scoped>\n",
       "    .dataframe tbody tr th:only-of-type {\n",
       "        vertical-align: middle;\n",
       "    }\n",
       "\n",
       "    .dataframe tbody tr th {\n",
       "        vertical-align: top;\n",
       "    }\n",
       "\n",
       "    .dataframe thead th {\n",
       "        text-align: right;\n",
       "    }\n",
       "</style>\n",
       "<table border=\"1\" class=\"dataframe\">\n",
       "  <thead>\n",
       "    <tr style=\"text-align: right;\">\n",
       "      <th></th>\n",
       "      <th>source</th>\n",
       "      <th>source_node_type</th>\n",
       "      <th>target</th>\n",
       "      <th>target_node_type</th>\n",
       "      <th>edge_type</th>\n",
       "    </tr>\n",
       "  </thead>\n",
       "  <tbody>\n",
       "  </tbody>\n",
       "</table>\n",
       "</div>"
      ],
      "text/plain": [
       "Empty DataFrame\n",
       "Columns: [source, source_node_type, target, target_node_type, edge_type]\n",
       "Index: []"
      ]
     },
     "execution_count": 13,
     "metadata": {},
     "output_type": "execute_result"
    }
   ],
   "source": [
    "validation_df.loc[(validation_df['source'].isin(drugs)) & (validation_df['target'].isin(bps))]"
   ]
  },
  {
   "cell_type": "markdown",
   "metadata": {},
   "source": [
    "Proteins:"
   ]
  },
  {
   "cell_type": "code",
   "execution_count": 14,
   "metadata": {},
   "outputs": [
    {
     "data": {
      "text/plain": [
       "1816"
      ]
     },
     "execution_count": 14,
     "metadata": {},
     "output_type": "execute_result"
    }
   ],
   "source": [
    "target_sets = set(combined_kg[combined_kg['target'].str.startswith('ncbigene')]['target'].tolist())\n",
    "source_sets = set(combined_kg[combined_kg['source'].str.startswith('ncbigene')]['source'].tolist())\n",
    "proteins_in_kg = target_sets.union(source_sets)\n",
    "len(proteins_in_kg)"
   ]
  },
  {
   "cell_type": "code",
   "execution_count": 15,
   "metadata": {},
   "outputs": [
    {
     "data": {
      "text/html": [
       "<div>\n",
       "<style scoped>\n",
       "    .dataframe tbody tr th:only-of-type {\n",
       "        vertical-align: middle;\n",
       "    }\n",
       "\n",
       "    .dataframe tbody tr th {\n",
       "        vertical-align: top;\n",
       "    }\n",
       "\n",
       "    .dataframe thead th {\n",
       "        text-align: right;\n",
       "    }\n",
       "</style>\n",
       "<table border=\"1\" class=\"dataframe\">\n",
       "  <thead>\n",
       "    <tr style=\"text-align: right;\">\n",
       "      <th></th>\n",
       "      <th>NCBI Gene ID(supplied by NCBI)</th>\n",
       "      <th>UniProt ID(supplied by UniProt)</th>\n",
       "    </tr>\n",
       "  </thead>\n",
       "  <tbody>\n",
       "    <tr>\n",
       "      <th>0</th>\n",
       "      <td>1</td>\n",
       "      <td>P04217</td>\n",
       "    </tr>\n",
       "    <tr>\n",
       "      <th>2</th>\n",
       "      <td>29974</td>\n",
       "      <td>Q9NQ94</td>\n",
       "    </tr>\n",
       "  </tbody>\n",
       "</table>\n",
       "</div>"
      ],
      "text/plain": [
       "  NCBI Gene ID(supplied by NCBI) UniProt ID(supplied by UniProt)\n",
       "0                              1                          P04217\n",
       "2                          29974                          Q9NQ94"
      ]
     },
     "execution_count": 15,
     "metadata": {},
     "output_type": "execute_result"
    }
   ],
   "source": [
    "uniprot2ncbi = pd.read_csv(\n",
    "    's3://enveda-datascience/lauren/gene_mapping.tsv', \n",
    "    sep='\\t',\n",
    "    usecols=['NCBI Gene ID(supplied by NCBI)', 'UniProt ID(supplied by UniProt)'],\n",
    "    dtype=str,\n",
    ")\n",
    "uniprot2ncbi.dropna(subset=['UniProt ID(supplied by UniProt)'], inplace=True)\n",
    "uniprot2ncbi.head(2)"
   ]
  },
  {
   "cell_type": "code",
   "execution_count": 16,
   "metadata": {},
   "outputs": [
    {
     "data": {
      "text/plain": [
       "20156"
      ]
     },
     "execution_count": 16,
     "metadata": {},
     "output_type": "execute_result"
    }
   ],
   "source": [
    "uniprot2ncbi['NCBI Gene ID(supplied by NCBI)'] = 'ncbigene:' + uniprot2ncbi['NCBI Gene ID(supplied by NCBI)']\n",
    "uniprot2ncbi['UniProt ID(supplied by UniProt)'] = 'UniProt:' + uniprot2ncbi['UniProt ID(supplied by UniProt)']\n",
    "uniprot2ncbi.set_index('UniProt ID(supplied by UniProt)', inplace=True)\n",
    "uniprot2ncbi = uniprot2ncbi.to_dict()['NCBI Gene ID(supplied by NCBI)']\n",
    "len(uniprot2ncbi)"
   ]
  },
  {
   "cell_type": "code",
   "execution_count": 17,
   "metadata": {},
   "outputs": [],
   "source": [
    "# write a dictionary to a json file\n",
    "with open(f'{MAPPING_DIR}/uniprot2ncbi.json', 'w') as f:\n",
    "    json.dump(uniprot2ncbi, f)"
   ]
  },
  {
   "cell_type": "markdown",
   "metadata": {},
   "source": [
    "Now, go through the df again, and for each row, get the path between the drug and BP.\n",
    "\n",
    "I know this is pretty redundant, but I will just do it for now."
   ]
  },
  {
   "cell_type": "code",
   "execution_count": 18,
   "metadata": {},
   "outputs": [
    {
     "data": {
      "text/html": [
       "<div>\n",
       "<style scoped>\n",
       "    .dataframe tbody tr th:only-of-type {\n",
       "        vertical-align: middle;\n",
       "    }\n",
       "\n",
       "    .dataframe tbody tr th {\n",
       "        vertical-align: top;\n",
       "    }\n",
       "\n",
       "    .dataframe thead th {\n",
       "        text-align: right;\n",
       "    }\n",
       "</style>\n",
       "<table border=\"1\" class=\"dataframe\">\n",
       "  <thead>\n",
       "    <tr style=\"text-align: right;\">\n",
       "      <th></th>\n",
       "      <th>n1</th>\n",
       "      <th>e1</th>\n",
       "      <th>n2</th>\n",
       "      <th>e2</th>\n",
       "      <th>n3</th>\n",
       "      <th>e3</th>\n",
       "      <th>n4</th>\n",
       "      <th>e4</th>\n",
       "      <th>n5</th>\n",
       "      <th>e5</th>\n",
       "      <th>n6</th>\n",
       "      <th>e6</th>\n",
       "      <th>n7</th>\n",
       "      <th>e7</th>\n",
       "      <th>n8</th>\n",
       "    </tr>\n",
       "  </thead>\n",
       "  <tbody>\n",
       "    <tr>\n",
       "      <th>0</th>\n",
       "      <td>Drug</td>\n",
       "      <td>INHIBITS</td>\n",
       "      <td>Protein</td>\n",
       "      <td>CAUSES</td>\n",
       "      <td>Disease</td>\n",
       "      <td>NaN</td>\n",
       "      <td>NaN</td>\n",
       "      <td>NaN</td>\n",
       "      <td>NaN</td>\n",
       "      <td>NaN</td>\n",
       "      <td>NaN</td>\n",
       "      <td>NaN</td>\n",
       "      <td>NaN</td>\n",
       "      <td>NaN</td>\n",
       "      <td>NaN</td>\n",
       "    </tr>\n",
       "    <tr>\n",
       "      <th>1</th>\n",
       "      <td>Drug</td>\n",
       "      <td>INHIBITS</td>\n",
       "      <td>Protein</td>\n",
       "      <td>UP_REGULATES</td>\n",
       "      <td>Biological Process</td>\n",
       "      <td>CAUSES</td>\n",
       "      <td>Disease</td>\n",
       "      <td>NaN</td>\n",
       "      <td>NaN</td>\n",
       "      <td>NaN</td>\n",
       "      <td>NaN</td>\n",
       "      <td>NaN</td>\n",
       "      <td>NaN</td>\n",
       "      <td>NaN</td>\n",
       "      <td>NaN</td>\n",
       "    </tr>\n",
       "    <tr>\n",
       "      <th>2</th>\n",
       "      <td>Drug</td>\n",
       "      <td>INHIBITS</td>\n",
       "      <td>Protein</td>\n",
       "      <td>UP_REGULATES</td>\n",
       "      <td>Biological Process</td>\n",
       "      <td>CAUSES</td>\n",
       "      <td>Disease</td>\n",
       "      <td>NaN</td>\n",
       "      <td>NaN</td>\n",
       "      <td>NaN</td>\n",
       "      <td>NaN</td>\n",
       "      <td>NaN</td>\n",
       "      <td>NaN</td>\n",
       "      <td>NaN</td>\n",
       "      <td>NaN</td>\n",
       "    </tr>\n",
       "    <tr>\n",
       "      <th>3</th>\n",
       "      <td>Drug</td>\n",
       "      <td>INHIBITS</td>\n",
       "      <td>Pathway</td>\n",
       "      <td>ASSOCIATED_WITH</td>\n",
       "      <td>Disease</td>\n",
       "      <td>NaN</td>\n",
       "      <td>NaN</td>\n",
       "      <td>NaN</td>\n",
       "      <td>NaN</td>\n",
       "      <td>NaN</td>\n",
       "      <td>NaN</td>\n",
       "      <td>NaN</td>\n",
       "      <td>NaN</td>\n",
       "      <td>NaN</td>\n",
       "      <td>NaN</td>\n",
       "    </tr>\n",
       "    <tr>\n",
       "      <th>4</th>\n",
       "      <td>Drug</td>\n",
       "      <td>INHIBITS</td>\n",
       "      <td>Protein</td>\n",
       "      <td>PRODUCES</td>\n",
       "      <td>Compound Class</td>\n",
       "      <td>CAUSES</td>\n",
       "      <td>Disease</td>\n",
       "      <td>NaN</td>\n",
       "      <td>NaN</td>\n",
       "      <td>NaN</td>\n",
       "      <td>NaN</td>\n",
       "      <td>NaN</td>\n",
       "      <td>NaN</td>\n",
       "      <td>NaN</td>\n",
       "      <td>NaN</td>\n",
       "    </tr>\n",
       "    <tr>\n",
       "      <th>5</th>\n",
       "      <td>Drug</td>\n",
       "      <td>INHIBITS</td>\n",
       "      <td>Protein</td>\n",
       "      <td>PRODUCES</td>\n",
       "      <td>Compound Class</td>\n",
       "      <td>CAUSES</td>\n",
       "      <td>Disease</td>\n",
       "      <td>NaN</td>\n",
       "      <td>NaN</td>\n",
       "      <td>NaN</td>\n",
       "      <td>NaN</td>\n",
       "      <td>NaN</td>\n",
       "      <td>NaN</td>\n",
       "      <td>NaN</td>\n",
       "      <td>NaN</td>\n",
       "    </tr>\n",
       "    <tr>\n",
       "      <th>6</th>\n",
       "      <td>Drug</td>\n",
       "      <td>INHIBITS</td>\n",
       "      <td>Pathway</td>\n",
       "      <td>LOCALIZED_TO</td>\n",
       "      <td>Anatomy</td>\n",
       "      <td>REGULATES</td>\n",
       "      <td>Biological Process</td>\n",
       "      <td>DISRUPTED_IN</td>\n",
       "      <td>Disease</td>\n",
       "      <td>NaN</td>\n",
       "      <td>NaN</td>\n",
       "      <td>NaN</td>\n",
       "      <td>NaN</td>\n",
       "      <td>NaN</td>\n",
       "      <td>NaN</td>\n",
       "    </tr>\n",
       "    <tr>\n",
       "      <th>7</th>\n",
       "      <td>Drug</td>\n",
       "      <td>INHIBITS</td>\n",
       "      <td>Protein</td>\n",
       "      <td>PRODUCES</td>\n",
       "      <td>Compound Class</td>\n",
       "      <td>CAUSES</td>\n",
       "      <td>Disease</td>\n",
       "      <td>NaN</td>\n",
       "      <td>NaN</td>\n",
       "      <td>NaN</td>\n",
       "      <td>NaN</td>\n",
       "      <td>NaN</td>\n",
       "      <td>NaN</td>\n",
       "      <td>NaN</td>\n",
       "      <td>NaN</td>\n",
       "    </tr>\n",
       "    <tr>\n",
       "      <th>8</th>\n",
       "      <td>Drug</td>\n",
       "      <td>INHIBITS</td>\n",
       "      <td>Protein</td>\n",
       "      <td>PRODUCES</td>\n",
       "      <td>Compound Class</td>\n",
       "      <td>CAUSES</td>\n",
       "      <td>Disease</td>\n",
       "      <td>NaN</td>\n",
       "      <td>NaN</td>\n",
       "      <td>NaN</td>\n",
       "      <td>NaN</td>\n",
       "      <td>NaN</td>\n",
       "      <td>NaN</td>\n",
       "      <td>NaN</td>\n",
       "      <td>NaN</td>\n",
       "    </tr>\n",
       "    <tr>\n",
       "      <th>9</th>\n",
       "      <td>Drug</td>\n",
       "      <td>INHIBITS</td>\n",
       "      <td>Protein</td>\n",
       "      <td>PART_OF</td>\n",
       "      <td>Pathway</td>\n",
       "      <td>PRODUCES</td>\n",
       "      <td>Compound</td>\n",
       "      <td>PART_OF</td>\n",
       "      <td>Biological Process</td>\n",
       "      <td>CAUSES</td>\n",
       "      <td>Disease</td>\n",
       "      <td>NaN</td>\n",
       "      <td>NaN</td>\n",
       "      <td>NaN</td>\n",
       "      <td>NaN</td>\n",
       "    </tr>\n",
       "    <tr>\n",
       "      <th>10</th>\n",
       "      <td>Drug</td>\n",
       "      <td>INHIBITS</td>\n",
       "      <td>Protein</td>\n",
       "      <td>INVOLVED_IN</td>\n",
       "      <td>Biological Process</td>\n",
       "      <td>CAUSES</td>\n",
       "      <td>Disease</td>\n",
       "      <td>NaN</td>\n",
       "      <td>NaN</td>\n",
       "      <td>NaN</td>\n",
       "      <td>NaN</td>\n",
       "      <td>NaN</td>\n",
       "      <td>NaN</td>\n",
       "      <td>NaN</td>\n",
       "      <td>NaN</td>\n",
       "    </tr>\n",
       "    <tr>\n",
       "      <th>11</th>\n",
       "      <td>Drug</td>\n",
       "      <td>INHIBITS</td>\n",
       "      <td>Protein</td>\n",
       "      <td>PRODUCES</td>\n",
       "      <td>Compound Class</td>\n",
       "      <td>PART_OF</td>\n",
       "      <td>Biological Process</td>\n",
       "      <td>CAUSES</td>\n",
       "      <td>Disease</td>\n",
       "      <td>NaN</td>\n",
       "      <td>NaN</td>\n",
       "      <td>NaN</td>\n",
       "      <td>NaN</td>\n",
       "      <td>NaN</td>\n",
       "      <td>NaN</td>\n",
       "    </tr>\n",
       "    <tr>\n",
       "      <th>12</th>\n",
       "      <td>Drug</td>\n",
       "      <td>INHIBITS</td>\n",
       "      <td>Protein</td>\n",
       "      <td>INVOLVED_IN</td>\n",
       "      <td>Biological Process</td>\n",
       "      <td>REQUIRED_FOR</td>\n",
       "      <td>Taxon</td>\n",
       "      <td>CAUSES</td>\n",
       "      <td>Disease</td>\n",
       "      <td>NaN</td>\n",
       "      <td>NaN</td>\n",
       "      <td>NaN</td>\n",
       "      <td>NaN</td>\n",
       "      <td>NaN</td>\n",
       "      <td>NaN</td>\n",
       "    </tr>\n",
       "    <tr>\n",
       "      <th>13</th>\n",
       "      <td>Drug</td>\n",
       "      <td>INHIBITS</td>\n",
       "      <td>Molecular Function</td>\n",
       "      <td>REQUIRED_FOR</td>\n",
       "      <td>Biological Process</td>\n",
       "      <td>REQUIRED_FOR</td>\n",
       "      <td>Taxon</td>\n",
       "      <td>CAUSES</td>\n",
       "      <td>Disease</td>\n",
       "      <td>NaN</td>\n",
       "      <td>NaN</td>\n",
       "      <td>NaN</td>\n",
       "      <td>NaN</td>\n",
       "      <td>NaN</td>\n",
       "      <td>NaN</td>\n",
       "    </tr>\n",
       "    <tr>\n",
       "      <th>14</th>\n",
       "      <td>Drug</td>\n",
       "      <td>INCREASES_EXPRESSION</td>\n",
       "      <td>Protein</td>\n",
       "      <td>DOWN_REGULATES</td>\n",
       "      <td>Pathway</td>\n",
       "      <td>INVOLVED_IN</td>\n",
       "      <td>Biological Process</td>\n",
       "      <td>CAUSES</td>\n",
       "      <td>Disease</td>\n",
       "      <td>NaN</td>\n",
       "      <td>NaN</td>\n",
       "      <td>NaN</td>\n",
       "      <td>NaN</td>\n",
       "      <td>NaN</td>\n",
       "      <td>NaN</td>\n",
       "    </tr>\n",
       "    <tr>\n",
       "      <th>15</th>\n",
       "      <td>Drug</td>\n",
       "      <td>DECREASES_EXPRESSION</td>\n",
       "      <td>Protein</td>\n",
       "      <td>PRODUCES</td>\n",
       "      <td>Compound Class</td>\n",
       "      <td>PART_OF</td>\n",
       "      <td>Biological Process</td>\n",
       "      <td>CAUSES</td>\n",
       "      <td>Disease</td>\n",
       "      <td>NaN</td>\n",
       "      <td>NaN</td>\n",
       "      <td>NaN</td>\n",
       "      <td>NaN</td>\n",
       "      <td>NaN</td>\n",
       "      <td>NaN</td>\n",
       "    </tr>\n",
       "    <tr>\n",
       "      <th>16</th>\n",
       "      <td>Drug</td>\n",
       "      <td>INCREASES_EXPRESSION</td>\n",
       "      <td>Protein</td>\n",
       "      <td>DOWN_REGULATES</td>\n",
       "      <td>Biological Process</td>\n",
       "      <td>UP_REGULATES</td>\n",
       "      <td>Biological Process</td>\n",
       "      <td>CAUSES</td>\n",
       "      <td>Disease</td>\n",
       "      <td>NaN</td>\n",
       "      <td>NaN</td>\n",
       "      <td>NaN</td>\n",
       "      <td>NaN</td>\n",
       "      <td>NaN</td>\n",
       "      <td>NaN</td>\n",
       "    </tr>\n",
       "    <tr>\n",
       "      <th>17</th>\n",
       "      <td>Drug</td>\n",
       "      <td>ACTIVATES</td>\n",
       "      <td>Protein</td>\n",
       "      <td>UP_REGULATES</td>\n",
       "      <td>Protein</td>\n",
       "      <td>DOWN_REGULATES</td>\n",
       "      <td>Pathway</td>\n",
       "      <td>UP_REGULATES</td>\n",
       "      <td>Biological Process</td>\n",
       "      <td>CAUSES</td>\n",
       "      <td>Disease</td>\n",
       "      <td>NaN</td>\n",
       "      <td>NaN</td>\n",
       "      <td>NaN</td>\n",
       "      <td>NaN</td>\n",
       "    </tr>\n",
       "    <tr>\n",
       "      <th>18</th>\n",
       "      <td>Drug</td>\n",
       "      <td>ACTIVATES</td>\n",
       "      <td>Protein</td>\n",
       "      <td>DOWN_REGULATES</td>\n",
       "      <td>Protein</td>\n",
       "      <td>PRODUCES</td>\n",
       "      <td>Compound Class</td>\n",
       "      <td>PART_OF</td>\n",
       "      <td>Biological Process</td>\n",
       "      <td>CAUSES</td>\n",
       "      <td>Disease</td>\n",
       "      <td>NaN</td>\n",
       "      <td>NaN</td>\n",
       "      <td>NaN</td>\n",
       "      <td>NaN</td>\n",
       "    </tr>\n",
       "    <tr>\n",
       "      <th>19</th>\n",
       "      <td>Drug</td>\n",
       "      <td>INCREASES</td>\n",
       "      <td>Compound</td>\n",
       "      <td>DOWN_REGULATES</td>\n",
       "      <td>Biological Process</td>\n",
       "      <td>REQUIRED_FOR</td>\n",
       "      <td>Taxon</td>\n",
       "      <td>CAUSES</td>\n",
       "      <td>Disease</td>\n",
       "      <td>NaN</td>\n",
       "      <td>NaN</td>\n",
       "      <td>NaN</td>\n",
       "      <td>NaN</td>\n",
       "      <td>NaN</td>\n",
       "      <td>NaN</td>\n",
       "    </tr>\n",
       "  </tbody>\n",
       "</table>\n",
       "</div>"
      ],
      "text/plain": [
       "      n1                    e1                  n2               e2  \\\n",
       "0   Drug              INHIBITS             Protein           CAUSES   \n",
       "1   Drug              INHIBITS             Protein     UP_REGULATES   \n",
       "2   Drug              INHIBITS             Protein     UP_REGULATES   \n",
       "3   Drug              INHIBITS             Pathway  ASSOCIATED_WITH   \n",
       "4   Drug              INHIBITS             Protein         PRODUCES   \n",
       "5   Drug              INHIBITS             Protein         PRODUCES   \n",
       "6   Drug              INHIBITS             Pathway     LOCALIZED_TO   \n",
       "7   Drug              INHIBITS             Protein         PRODUCES   \n",
       "8   Drug              INHIBITS             Protein         PRODUCES   \n",
       "9   Drug              INHIBITS             Protein          PART_OF   \n",
       "10  Drug              INHIBITS             Protein      INVOLVED_IN   \n",
       "11  Drug              INHIBITS             Protein         PRODUCES   \n",
       "12  Drug              INHIBITS             Protein      INVOLVED_IN   \n",
       "13  Drug              INHIBITS  Molecular Function     REQUIRED_FOR   \n",
       "14  Drug  INCREASES_EXPRESSION             Protein   DOWN_REGULATES   \n",
       "15  Drug  DECREASES_EXPRESSION             Protein         PRODUCES   \n",
       "16  Drug  INCREASES_EXPRESSION             Protein   DOWN_REGULATES   \n",
       "17  Drug             ACTIVATES             Protein     UP_REGULATES   \n",
       "18  Drug             ACTIVATES             Protein   DOWN_REGULATES   \n",
       "19  Drug             INCREASES            Compound   DOWN_REGULATES   \n",
       "\n",
       "                    n3              e3                  n4            e4  \\\n",
       "0              Disease             NaN                 NaN           NaN   \n",
       "1   Biological Process          CAUSES             Disease           NaN   \n",
       "2   Biological Process          CAUSES             Disease           NaN   \n",
       "3              Disease             NaN                 NaN           NaN   \n",
       "4       Compound Class          CAUSES             Disease           NaN   \n",
       "5       Compound Class          CAUSES             Disease           NaN   \n",
       "6              Anatomy       REGULATES  Biological Process  DISRUPTED_IN   \n",
       "7       Compound Class          CAUSES             Disease           NaN   \n",
       "8       Compound Class          CAUSES             Disease           NaN   \n",
       "9              Pathway        PRODUCES            Compound       PART_OF   \n",
       "10  Biological Process          CAUSES             Disease           NaN   \n",
       "11      Compound Class         PART_OF  Biological Process        CAUSES   \n",
       "12  Biological Process    REQUIRED_FOR               Taxon        CAUSES   \n",
       "13  Biological Process    REQUIRED_FOR               Taxon        CAUSES   \n",
       "14             Pathway     INVOLVED_IN  Biological Process        CAUSES   \n",
       "15      Compound Class         PART_OF  Biological Process        CAUSES   \n",
       "16  Biological Process    UP_REGULATES  Biological Process        CAUSES   \n",
       "17             Protein  DOWN_REGULATES             Pathway  UP_REGULATES   \n",
       "18             Protein        PRODUCES      Compound Class       PART_OF   \n",
       "19  Biological Process    REQUIRED_FOR               Taxon        CAUSES   \n",
       "\n",
       "                    n5      e5       n6   e6   n7   e7   n8  \n",
       "0                  NaN     NaN      NaN  NaN  NaN  NaN  NaN  \n",
       "1                  NaN     NaN      NaN  NaN  NaN  NaN  NaN  \n",
       "2                  NaN     NaN      NaN  NaN  NaN  NaN  NaN  \n",
       "3                  NaN     NaN      NaN  NaN  NaN  NaN  NaN  \n",
       "4                  NaN     NaN      NaN  NaN  NaN  NaN  NaN  \n",
       "5                  NaN     NaN      NaN  NaN  NaN  NaN  NaN  \n",
       "6              Disease     NaN      NaN  NaN  NaN  NaN  NaN  \n",
       "7                  NaN     NaN      NaN  NaN  NaN  NaN  NaN  \n",
       "8                  NaN     NaN      NaN  NaN  NaN  NaN  NaN  \n",
       "9   Biological Process  CAUSES  Disease  NaN  NaN  NaN  NaN  \n",
       "10                 NaN     NaN      NaN  NaN  NaN  NaN  NaN  \n",
       "11             Disease     NaN      NaN  NaN  NaN  NaN  NaN  \n",
       "12             Disease     NaN      NaN  NaN  NaN  NaN  NaN  \n",
       "13             Disease     NaN      NaN  NaN  NaN  NaN  NaN  \n",
       "14             Disease     NaN      NaN  NaN  NaN  NaN  NaN  \n",
       "15             Disease     NaN      NaN  NaN  NaN  NaN  NaN  \n",
       "16             Disease     NaN      NaN  NaN  NaN  NaN  NaN  \n",
       "17  Biological Process  CAUSES  Disease  NaN  NaN  NaN  NaN  \n",
       "18  Biological Process  CAUSES  Disease  NaN  NaN  NaN  NaN  \n",
       "19             Disease     NaN      NaN  NaN  NaN  NaN  NaN  "
      ]
     },
     "execution_count": 18,
     "metadata": {},
     "output_type": "execute_result"
    }
   ],
   "source": [
    "node_type_df.head(20)"
   ]
  },
  {
   "cell_type": "code",
   "execution_count": 19,
   "metadata": {},
   "outputs": [
    {
     "name": "stderr",
     "output_type": "stream",
     "text": [
      "100%|██████████| 123/123 [00:00<00:00, 11233.03it/s]\n"
     ]
    }
   ],
   "source": [
    "validation_moas = dict()\n",
    "drug2prot_relation = dict()\n",
    "\n",
    "for idx, row in tqdm(node_type_df.iterrows(), total=node_type_df.shape[0]):\n",
    "    path_nodes = list()\n",
    "    try:\n",
    "        assert row['n1'] == 'Drug' and row['n2'] == 'Protein'\n",
    "        drug_node = node_names_df.iloc[idx]['n1']\n",
    "        prot_node = node_ids_df.iloc[idx][f'n2']\n",
    "        assert drug_node in drug_id_mapping and prot_node in uniprot2ncbi\n",
    "        drug_node = drug_id_mapping[drug_node]\n",
    "        prot_node = uniprot2ncbi[prot_node]\n",
    "        path_nodes.append(prot_node)\n",
    "\n",
    "        drug2prot_relation[(drug_node, prot_node)] = node_names_df.iloc[idx]['e1']\n",
    "        \n",
    "    except AssertionError:\n",
    "        continue\n",
    "\n",
    "    for _index in range(2, 8):\n",
    "        if row[f'n{_index}'] == 'Protein':\n",
    "            try:\n",
    "                prot_node = uniprot2ncbi[node_ids_df.iloc[idx][f'n{_index}']]\n",
    "                path_nodes.append(prot_node)\n",
    "            except KeyError:\n",
    "                pass\n",
    "        elif row[f'n{_index}'] == 'Biological Process':\n",
    "            bp_node = node_ids_df.iloc[idx][f'n{_index}']\n",
    "            validation_moas[(drug_node, bp_node)] = path_nodes"
   ]
  },
  {
   "cell_type": "code",
   "execution_count": 20,
   "metadata": {},
   "outputs": [
    {
     "data": {
      "text/plain": [
       "48"
      ]
     },
     "execution_count": 20,
     "metadata": {},
     "output_type": "execute_result"
    }
   ],
   "source": [
    "len(validation_moas)"
   ]
  },
  {
   "cell_type": "markdown",
   "metadata": {},
   "source": [
    "We have 48 MOAs which map to ontologies in our KG. That means 48 Drug-BP pairs which can go in our test dataset.\n",
    "\n",
    "Next, I check which of these drug-BP pairs are actually connected to our KG in some way.\n",
    "\n",
    "We will map the drug-protein relation using the following dictionary:"
   ]
  },
  {
   "cell_type": "code",
   "execution_count": 21,
   "metadata": {},
   "outputs": [],
   "source": [
    "neg_relations = ['INHIBITS', 'DECREASES_EXPRESSION', 'DISRUPTED_IN', 'DISRUPTS', 'DOWN_REGULATES', 'REDUCED_IN', 'REDUCES']\n",
    "\n",
    "pos_relations = ['ACTIVATES', 'ACTIVATED_BY', 'INCREASED_BY', 'INCREASES', 'INCREASES_EXPRESSION', 'UPREGULATED_IN',\n",
    "            'UP_REGULATES', 'ELEVATED_IN', 'STIMULATES']\n",
    "\n",
    "relation_map = {rel: 'upregulates' for rel in pos_relations}\n",
    "for rel in neg_relations:\n",
    "    relation_map[rel] = 'downregulates'"
   ]
  },
  {
   "cell_type": "code",
   "execution_count": 22,
   "metadata": {},
   "outputs": [],
   "source": [
    "connected_pairs = dict()\n",
    "\n",
    "other_edges = {'source': [],\n",
    "                'source_node_type': [],\n",
    "                'target': [],\n",
    "                'target_node_type': [],\n",
    "                'edge_type': []}\n",
    "\n",
    "for key, val in validation_moas.items():\n",
    "    if key[1].startswith('MESH'):\n",
    "        continue\n",
    "    # if both drug and GO BP in graph, great!\n",
    "    if key[0] in drugs and key[1] in bps:\n",
    "        connected_pairs[key] = val\n",
    "    # if drug in graph but not GO BP, see if the prot connected to GO BP is:\n",
    "    elif key[0] in drugs and len(val) > 0 and val[-1] in proteins_in_kg:\n",
    "        # add the last connection to KG\n",
    "        other_edges['source'].append(val[-1])\n",
    "        other_edges['source_node_type'].append('Gene')\n",
    "        other_edges['target'].append(key[1])\n",
    "        other_edges['target_node_type'].append('Biological Process')\n",
    "        other_edges['edge_type'].append('participates')\n",
    "        connected_pairs[key] = val\n",
    "    # if GO BP in graph but not drug, see if the prot connected to drug is:\n",
    "    elif key[1] in bps and len(val) > 0 and val[0] in proteins_in_kg:\n",
    "        # add the connection to KG\n",
    "        other_edges['source'].append(key[0])\n",
    "        other_edges['source_node_type'].append('Compound')\n",
    "        other_edges['target'].append(val[0])\n",
    "        other_edges['target_node_type'].append('Gene')\n",
    "        other_edges['edge_type'].append(relation_map[drug2prot_relation[(key[0], val[0])]])\n",
    "        connected_pairs[key] = val\n",
    "    # if neither are in the KG, see if the protein(s) connected to them are:\n",
    "    elif len(val) > 0 and val[0] in proteins_in_kg and val[-1] in proteins_in_kg:\n",
    "        # add BOTH connections to KG\n",
    "        other_edges['source'].append(val[-1])\n",
    "        other_edges['source_node_type'].append('Gene')\n",
    "        other_edges['target'].append(key[1])\n",
    "        other_edges['target_node_type'].append('Biological Process')\n",
    "        other_edges['edge_type'].append('participates')\n",
    "\n",
    "        other_edges['source'].append(key[0])\n",
    "        other_edges['source_node_type'].append('Compound')\n",
    "        other_edges['target'].append(val[0])\n",
    "        other_edges['target_node_type'].append('Gene')\n",
    "        other_edges['edge_type'].append(relation_map[drug2prot_relation[(key[0], val[0])]])\n",
    "\n",
    "        connected_pairs[key] = val"
   ]
  },
  {
   "cell_type": "code",
   "execution_count": 23,
   "metadata": {},
   "outputs": [
    {
     "data": {
      "text/plain": [
       "19"
      ]
     },
     "execution_count": 23,
     "metadata": {},
     "output_type": "execute_result"
    }
   ],
   "source": [
    "len(connected_pairs)"
   ]
  },
  {
   "cell_type": "markdown",
   "metadata": {},
   "source": [
    "Luckily, all 48 of them are! Now we can create the final KG as well as the final test set.\n",
    "\n",
    "First the validation / test set:"
   ]
  },
  {
   "cell_type": "code",
   "execution_count": 24,
   "metadata": {},
   "outputs": [],
   "source": [
    "drug2process_edges = {'source': [],\n",
    "                      'source_node_type': [],\n",
    "                      'target': [],\n",
    "                      'target_node_type': [],\n",
    "                      'edge_type': []}\n",
    "\n",
    "for key in connected_pairs.keys():\n",
    "    drug2process_edges['source'].append(key[0])\n",
    "    drug2process_edges['source_node_type'].append('Compound')\n",
    "    drug2process_edges['target'].append(key[1])\n",
    "    drug2process_edges['target_node_type'].append('Biological Process')\n",
    "    drug2process_edges['edge_type'].append('induces')"
   ]
  },
  {
   "cell_type": "code",
   "execution_count": 25,
   "metadata": {},
   "outputs": [
    {
     "data": {
      "text/html": [
       "<div>\n",
       "<style scoped>\n",
       "    .dataframe tbody tr th:only-of-type {\n",
       "        vertical-align: middle;\n",
       "    }\n",
       "\n",
       "    .dataframe tbody tr th {\n",
       "        vertical-align: top;\n",
       "    }\n",
       "\n",
       "    .dataframe thead th {\n",
       "        text-align: right;\n",
       "    }\n",
       "</style>\n",
       "<table border=\"1\" class=\"dataframe\">\n",
       "  <thead>\n",
       "    <tr style=\"text-align: right;\">\n",
       "      <th></th>\n",
       "      <th>source</th>\n",
       "      <th>source_node_type</th>\n",
       "      <th>target</th>\n",
       "      <th>target_node_type</th>\n",
       "      <th>edge_type</th>\n",
       "    </tr>\n",
       "  </thead>\n",
       "  <tbody>\n",
       "    <tr>\n",
       "      <th>0</th>\n",
       "      <td>pubchem.compound:5291</td>\n",
       "      <td>Compound</td>\n",
       "      <td>GO:0008283</td>\n",
       "      <td>Biological Process</td>\n",
       "      <td>induces</td>\n",
       "    </tr>\n",
       "    <tr>\n",
       "      <th>1</th>\n",
       "      <td>pubchem.compound:156391</td>\n",
       "      <td>Compound</td>\n",
       "      <td>GO:0006954</td>\n",
       "      <td>Biological Process</td>\n",
       "      <td>induces</td>\n",
       "    </tr>\n",
       "    <tr>\n",
       "      <th>2</th>\n",
       "      <td>pubchem.compound:5745</td>\n",
       "      <td>Compound</td>\n",
       "      <td>GO:0050900</td>\n",
       "      <td>Biological Process</td>\n",
       "      <td>induces</td>\n",
       "    </tr>\n",
       "    <tr>\n",
       "      <th>3</th>\n",
       "      <td>pubchem.compound:5743</td>\n",
       "      <td>Compound</td>\n",
       "      <td>GO:0006954</td>\n",
       "      <td>Biological Process</td>\n",
       "      <td>induces</td>\n",
       "    </tr>\n",
       "    <tr>\n",
       "      <th>4</th>\n",
       "      <td>pubchem.compound:4826</td>\n",
       "      <td>Compound</td>\n",
       "      <td>GO:0042311</td>\n",
       "      <td>Biological Process</td>\n",
       "      <td>induces</td>\n",
       "    </tr>\n",
       "  </tbody>\n",
       "</table>\n",
       "</div>"
      ],
      "text/plain": [
       "                    source source_node_type      target    target_node_type  \\\n",
       "0    pubchem.compound:5291         Compound  GO:0008283  Biological Process   \n",
       "1  pubchem.compound:156391         Compound  GO:0006954  Biological Process   \n",
       "2    pubchem.compound:5745         Compound  GO:0050900  Biological Process   \n",
       "3    pubchem.compound:5743         Compound  GO:0006954  Biological Process   \n",
       "4    pubchem.compound:4826         Compound  GO:0042311  Biological Process   \n",
       "\n",
       "  edge_type  \n",
       "0   induces  \n",
       "1   induces  \n",
       "2   induces  \n",
       "3   induces  \n",
       "4   induces  "
      ]
     },
     "execution_count": 25,
     "metadata": {},
     "output_type": "execute_result"
    }
   ],
   "source": [
    "validation_df = pd.DataFrame(drug2process_edges)\n",
    "validation_df.drop_duplicates(inplace=True)\n",
    "validation_df.head()"
   ]
  },
  {
   "cell_type": "code",
   "execution_count": 26,
   "metadata": {},
   "outputs": [
    {
     "data": {
      "text/plain": [
       "19"
      ]
     },
     "execution_count": 26,
     "metadata": {},
     "output_type": "execute_result"
    }
   ],
   "source": [
    "len(validation_df)"
   ]
  },
  {
   "cell_type": "code",
   "execution_count": 27,
   "metadata": {},
   "outputs": [],
   "source": [
    "validation_df.to_csv(f'{KG_DIR}/test.tsv', sep='\\t', index=False)"
   ]
  },
  {
   "cell_type": "markdown",
   "metadata": {},
   "source": [
    "Now, the final KG:"
   ]
  },
  {
   "cell_type": "code",
   "execution_count": 28,
   "metadata": {},
   "outputs": [
    {
     "data": {
      "text/html": [
       "<div>\n",
       "<style scoped>\n",
       "    .dataframe tbody tr th:only-of-type {\n",
       "        vertical-align: middle;\n",
       "    }\n",
       "\n",
       "    .dataframe tbody tr th {\n",
       "        vertical-align: top;\n",
       "    }\n",
       "\n",
       "    .dataframe thead th {\n",
       "        text-align: right;\n",
       "    }\n",
       "</style>\n",
       "<table border=\"1\" class=\"dataframe\">\n",
       "  <thead>\n",
       "    <tr style=\"text-align: right;\">\n",
       "      <th></th>\n",
       "      <th>source</th>\n",
       "      <th>source_node_type</th>\n",
       "      <th>target</th>\n",
       "      <th>target_node_type</th>\n",
       "      <th>edge_type</th>\n",
       "    </tr>\n",
       "  </thead>\n",
       "  <tbody>\n",
       "    <tr>\n",
       "      <th>0</th>\n",
       "      <td>pubchem.compound:5291</td>\n",
       "      <td>Compound</td>\n",
       "      <td>ncbigene:5156</td>\n",
       "      <td>Gene</td>\n",
       "      <td>downregulates</td>\n",
       "    </tr>\n",
       "    <tr>\n",
       "      <th>1</th>\n",
       "      <td>ncbigene:5743</td>\n",
       "      <td>Gene</td>\n",
       "      <td>GO:0006954</td>\n",
       "      <td>Biological Process</td>\n",
       "      <td>participates</td>\n",
       "    </tr>\n",
       "    <tr>\n",
       "      <th>2</th>\n",
       "      <td>pubchem.compound:156391</td>\n",
       "      <td>Compound</td>\n",
       "      <td>ncbigene:5743</td>\n",
       "      <td>Gene</td>\n",
       "      <td>downregulates</td>\n",
       "    </tr>\n",
       "    <tr>\n",
       "      <th>3</th>\n",
       "      <td>ncbigene:301</td>\n",
       "      <td>Gene</td>\n",
       "      <td>GO:0050900</td>\n",
       "      <td>Biological Process</td>\n",
       "      <td>participates</td>\n",
       "    </tr>\n",
       "    <tr>\n",
       "      <th>4</th>\n",
       "      <td>ncbigene:301</td>\n",
       "      <td>Gene</td>\n",
       "      <td>GO:0006954</td>\n",
       "      <td>Biological Process</td>\n",
       "      <td>participates</td>\n",
       "    </tr>\n",
       "  </tbody>\n",
       "</table>\n",
       "</div>"
      ],
      "text/plain": [
       "                    source source_node_type         target  \\\n",
       "0    pubchem.compound:5291         Compound  ncbigene:5156   \n",
       "1            ncbigene:5743             Gene     GO:0006954   \n",
       "2  pubchem.compound:156391         Compound  ncbigene:5743   \n",
       "3             ncbigene:301             Gene     GO:0050900   \n",
       "4             ncbigene:301             Gene     GO:0006954   \n",
       "\n",
       "     target_node_type      edge_type  \n",
       "0                Gene  downregulates  \n",
       "1  Biological Process   participates  \n",
       "2                Gene  downregulates  \n",
       "3  Biological Process   participates  \n",
       "4  Biological Process   participates  "
      ]
     },
     "execution_count": 28,
     "metadata": {},
     "output_type": "execute_result"
    }
   ],
   "source": [
    "kg_data = pd.DataFrame(other_edges)\n",
    "\n",
    "kg_data.head(5)"
   ]
  },
  {
   "cell_type": "code",
   "execution_count": 29,
   "metadata": {},
   "outputs": [
    {
     "data": {
      "text/html": [
       "<div>\n",
       "<style scoped>\n",
       "    .dataframe tbody tr th:only-of-type {\n",
       "        vertical-align: middle;\n",
       "    }\n",
       "\n",
       "    .dataframe tbody tr th {\n",
       "        vertical-align: top;\n",
       "    }\n",
       "\n",
       "    .dataframe thead th {\n",
       "        text-align: right;\n",
       "    }\n",
       "</style>\n",
       "<table border=\"1\" class=\"dataframe\">\n",
       "  <thead>\n",
       "    <tr style=\"text-align: right;\">\n",
       "      <th></th>\n",
       "      <th>source</th>\n",
       "      <th>target</th>\n",
       "      <th>edge_type</th>\n",
       "      <th>source_node_type</th>\n",
       "      <th>target_node_type</th>\n",
       "    </tr>\n",
       "  </thead>\n",
       "  <tbody>\n",
       "    <tr>\n",
       "      <th>0</th>\n",
       "      <td>ncbigene:6622</td>\n",
       "      <td>ncbigene:3308</td>\n",
       "      <td>interacts</td>\n",
       "      <td>Gene</td>\n",
       "      <td>Gene</td>\n",
       "    </tr>\n",
       "    <tr>\n",
       "      <th>1</th>\n",
       "      <td>ncbigene:6622</td>\n",
       "      <td>ncbigene:10273</td>\n",
       "      <td>interacts</td>\n",
       "      <td>Gene</td>\n",
       "      <td>Gene</td>\n",
       "    </tr>\n",
       "    <tr>\n",
       "      <th>2</th>\n",
       "      <td>ncbigene:6622</td>\n",
       "      <td>ncbigene:1861</td>\n",
       "      <td>interacts</td>\n",
       "      <td>Gene</td>\n",
       "      <td>Gene</td>\n",
       "    </tr>\n",
       "    <tr>\n",
       "      <th>3</th>\n",
       "      <td>ncbigene:6622</td>\n",
       "      <td>GO:0043065</td>\n",
       "      <td>participates</td>\n",
       "      <td>Gene</td>\n",
       "      <td>Biological Process</td>\n",
       "    </tr>\n",
       "    <tr>\n",
       "      <th>4</th>\n",
       "      <td>ncbigene:3308</td>\n",
       "      <td>ncbigene:6767</td>\n",
       "      <td>interacts</td>\n",
       "      <td>Gene</td>\n",
       "      <td>Gene</td>\n",
       "    </tr>\n",
       "  </tbody>\n",
       "</table>\n",
       "</div>"
      ],
      "text/plain": [
       "          source          target     edge_type source_node_type  \\\n",
       "0  ncbigene:6622   ncbigene:3308     interacts             Gene   \n",
       "1  ncbigene:6622  ncbigene:10273     interacts             Gene   \n",
       "2  ncbigene:6622   ncbigene:1861     interacts             Gene   \n",
       "3  ncbigene:6622      GO:0043065  participates             Gene   \n",
       "4  ncbigene:3308   ncbigene:6767     interacts             Gene   \n",
       "\n",
       "     target_node_type  \n",
       "0                Gene  \n",
       "1                Gene  \n",
       "2                Gene  \n",
       "3  Biological Process  \n",
       "4                Gene  "
      ]
     },
     "execution_count": 29,
     "metadata": {},
     "output_type": "execute_result"
    }
   ],
   "source": [
    "# Append to the existing KG\n",
    "final_kg_df = pd.concat([combined_kg, kg_data], ignore_index=True)\n",
    "final_kg_df.drop_duplicates(inplace=True)\n",
    "final_kg_df.head()"
   ]
  },
  {
   "cell_type": "code",
   "execution_count": 30,
   "metadata": {},
   "outputs": [],
   "source": [
    "final_kg_df.to_csv(f'{KG_DIR}/final_kg.tsv', sep='\\t', index=False)"
   ]
  },
  {
   "cell_type": "markdown",
   "metadata": {},
   "source": [
    "And let's make another KG with those validation edges:"
   ]
  },
  {
   "cell_type": "code",
   "execution_count": 31,
   "metadata": {},
   "outputs": [
    {
     "data": {
      "text/html": [
       "<div>\n",
       "<style scoped>\n",
       "    .dataframe tbody tr th:only-of-type {\n",
       "        vertical-align: middle;\n",
       "    }\n",
       "\n",
       "    .dataframe tbody tr th {\n",
       "        vertical-align: top;\n",
       "    }\n",
       "\n",
       "    .dataframe thead th {\n",
       "        text-align: right;\n",
       "    }\n",
       "</style>\n",
       "<table border=\"1\" class=\"dataframe\">\n",
       "  <thead>\n",
       "    <tr style=\"text-align: right;\">\n",
       "      <th></th>\n",
       "      <th>source</th>\n",
       "      <th>target</th>\n",
       "      <th>edge_type</th>\n",
       "      <th>source_node_type</th>\n",
       "      <th>target_node_type</th>\n",
       "    </tr>\n",
       "  </thead>\n",
       "  <tbody>\n",
       "    <tr>\n",
       "      <th>0</th>\n",
       "      <td>ncbigene:6622</td>\n",
       "      <td>ncbigene:3308</td>\n",
       "      <td>interacts</td>\n",
       "      <td>Gene</td>\n",
       "      <td>Gene</td>\n",
       "    </tr>\n",
       "    <tr>\n",
       "      <th>1</th>\n",
       "      <td>ncbigene:6622</td>\n",
       "      <td>ncbigene:10273</td>\n",
       "      <td>interacts</td>\n",
       "      <td>Gene</td>\n",
       "      <td>Gene</td>\n",
       "    </tr>\n",
       "    <tr>\n",
       "      <th>2</th>\n",
       "      <td>ncbigene:6622</td>\n",
       "      <td>ncbigene:1861</td>\n",
       "      <td>interacts</td>\n",
       "      <td>Gene</td>\n",
       "      <td>Gene</td>\n",
       "    </tr>\n",
       "    <tr>\n",
       "      <th>3</th>\n",
       "      <td>ncbigene:6622</td>\n",
       "      <td>GO:0043065</td>\n",
       "      <td>participates</td>\n",
       "      <td>Gene</td>\n",
       "      <td>Biological Process</td>\n",
       "    </tr>\n",
       "    <tr>\n",
       "      <th>4</th>\n",
       "      <td>ncbigene:3308</td>\n",
       "      <td>ncbigene:6767</td>\n",
       "      <td>interacts</td>\n",
       "      <td>Gene</td>\n",
       "      <td>Gene</td>\n",
       "    </tr>\n",
       "  </tbody>\n",
       "</table>\n",
       "</div>"
      ],
      "text/plain": [
       "          source          target     edge_type source_node_type  \\\n",
       "0  ncbigene:6622   ncbigene:3308     interacts             Gene   \n",
       "1  ncbigene:6622  ncbigene:10273     interacts             Gene   \n",
       "2  ncbigene:6622   ncbigene:1861     interacts             Gene   \n",
       "3  ncbigene:6622      GO:0043065  participates             Gene   \n",
       "4  ncbigene:3308   ncbigene:6767     interacts             Gene   \n",
       "\n",
       "     target_node_type  \n",
       "0                Gene  \n",
       "1                Gene  \n",
       "2                Gene  \n",
       "3  Biological Process  \n",
       "4                Gene  "
      ]
     },
     "execution_count": 31,
     "metadata": {},
     "output_type": "execute_result"
    }
   ],
   "source": [
    "# Append to the existing KG\n",
    "full_kg = pd.concat([final_kg_df, validation_df], ignore_index=True)\n",
    "full_kg.drop_duplicates(inplace=True)\n",
    "full_kg.head()"
   ]
  },
  {
   "cell_type": "code",
   "execution_count": 32,
   "metadata": {},
   "outputs": [],
   "source": [
    "full_kg.to_csv(f'{KG_DIR}/full_final_kg.tsv', sep='\\t', index=False)"
   ]
  },
  {
   "cell_type": "markdown",
   "metadata": {},
   "source": [
    "## Connections to the KG\n",
    "\n",
    "We want to make sure that the drug and BP nodes within our graph are actually well-connected to our graph.\n",
    "\n",
    "First, we'll start by seeing the degrees of the drug and BP nodes:"
   ]
  },
  {
   "cell_type": "code",
   "execution_count": 33,
   "metadata": {},
   "outputs": [],
   "source": [
    "full_kg = pd.read_csv(f'{KG_DIR}/full_final_kg.tsv', sep='\\t')"
   ]
  },
  {
   "cell_type": "code",
   "execution_count": 34,
   "metadata": {},
   "outputs": [
    {
     "data": {
      "text/html": [
       "<div>\n",
       "<style scoped>\n",
       "    .dataframe tbody tr th:only-of-type {\n",
       "        vertical-align: middle;\n",
       "    }\n",
       "\n",
       "    .dataframe tbody tr th {\n",
       "        vertical-align: top;\n",
       "    }\n",
       "\n",
       "    .dataframe thead th {\n",
       "        text-align: right;\n",
       "    }\n",
       "</style>\n",
       "<table border=\"1\" class=\"dataframe\">\n",
       "  <thead>\n",
       "    <tr style=\"text-align: right;\">\n",
       "      <th></th>\n",
       "      <th>source</th>\n",
       "      <th>target</th>\n",
       "      <th>edge_type</th>\n",
       "      <th>source_node_type</th>\n",
       "      <th>target_node_type</th>\n",
       "    </tr>\n",
       "  </thead>\n",
       "  <tbody>\n",
       "    <tr>\n",
       "      <th>0</th>\n",
       "      <td>ncbigene:6622</td>\n",
       "      <td>ncbigene:3308</td>\n",
       "      <td>interacts</td>\n",
       "      <td>Gene</td>\n",
       "      <td>Gene</td>\n",
       "    </tr>\n",
       "    <tr>\n",
       "      <th>1</th>\n",
       "      <td>ncbigene:6622</td>\n",
       "      <td>ncbigene:10273</td>\n",
       "      <td>interacts</td>\n",
       "      <td>Gene</td>\n",
       "      <td>Gene</td>\n",
       "    </tr>\n",
       "    <tr>\n",
       "      <th>2</th>\n",
       "      <td>ncbigene:6622</td>\n",
       "      <td>ncbigene:1861</td>\n",
       "      <td>interacts</td>\n",
       "      <td>Gene</td>\n",
       "      <td>Gene</td>\n",
       "    </tr>\n",
       "    <tr>\n",
       "      <th>3</th>\n",
       "      <td>ncbigene:6622</td>\n",
       "      <td>GO:0043065</td>\n",
       "      <td>participates</td>\n",
       "      <td>Gene</td>\n",
       "      <td>Biological Process</td>\n",
       "    </tr>\n",
       "    <tr>\n",
       "      <th>4</th>\n",
       "      <td>ncbigene:3308</td>\n",
       "      <td>ncbigene:6767</td>\n",
       "      <td>interacts</td>\n",
       "      <td>Gene</td>\n",
       "      <td>Gene</td>\n",
       "    </tr>\n",
       "  </tbody>\n",
       "</table>\n",
       "</div>"
      ],
      "text/plain": [
       "          source          target     edge_type source_node_type  \\\n",
       "0  ncbigene:6622   ncbigene:3308     interacts             Gene   \n",
       "1  ncbigene:6622  ncbigene:10273     interacts             Gene   \n",
       "2  ncbigene:6622   ncbigene:1861     interacts             Gene   \n",
       "3  ncbigene:6622      GO:0043065  participates             Gene   \n",
       "4  ncbigene:3308   ncbigene:6767     interacts             Gene   \n",
       "\n",
       "     target_node_type  \n",
       "0                Gene  \n",
       "1                Gene  \n",
       "2                Gene  \n",
       "3  Biological Process  \n",
       "4                Gene  "
      ]
     },
     "execution_count": 34,
     "metadata": {},
     "output_type": "execute_result"
    }
   ],
   "source": [
    "full_kg.head()"
   ]
  },
  {
   "cell_type": "code",
   "execution_count": 35,
   "metadata": {},
   "outputs": [],
   "source": [
    "G = nx.DiGraph()\n",
    "\n",
    "for i, row in full_kg.iterrows():\n",
    "    src_id = row['source']\n",
    "    trgt_id = row['target']\n",
    "    if src_id not in G.nodes:\n",
    "        G.add_node(src_id, type=row['source_node_type'])\n",
    "    if trgt_id not in G.nodes:\n",
    "        G.add_node(trgt_id, type=row['target_node_type'])\n",
    "    G.add_edge(src_id, trgt_id, type=row['edge_type'])"
   ]
  },
  {
   "cell_type": "code",
   "execution_count": 36,
   "metadata": {},
   "outputs": [
    {
     "data": {
      "image/png": "[encoded data removed]",
      "text/plain": [
       "<Figure size 640x480 with 1 Axes>"
      ]
     },
     "metadata": {},
     "output_type": "display_data"
    }
   ],
   "source": [
    "# Calculate outgoing degrees of nodes\n",
    "out_degrees = [G.out_degree(node) for node in G.nodes]\n",
    "\n",
    "# Plot histogram\n",
    "plt.hist(out_degrees, bins=10, edgecolor=\"black\")\n",
    "plt.xlabel(\"Outgoing Degree\")\n",
    "plt.ylabel(\"Frequency\")\n",
    "plt.title(\"Histogram of Outgoing Degrees All Nodes in Graph\")\n",
    "plt.show()"
   ]
  },
  {
   "cell_type": "code",
   "execution_count": 37,
   "metadata": {},
   "outputs": [
    {
     "data": {
      "image/png": "[encoded data removed]",
      "text/plain": [
       "<Figure size 640x480 with 1 Axes>"
      ]
     },
     "metadata": {},
     "output_type": "display_data"
    }
   ],
   "source": [
    "# Filter nodes based on type\n",
    "compound_nodes = [node for node, data in G.nodes(data=True) if data[\"type\"] == \"Gene\"]\n",
    "\n",
    "# Calculate outgoing degrees of compound nodes\n",
    "out_degrees = [G.out_degree(node) for node in compound_nodes]\n",
    "\n",
    "# Plot histogram\n",
    "plt.hist(out_degrees, bins=10, range=(10.5, max(out_degrees) + 0.5), edgecolor=\"black\")\n",
    "plt.xlabel(\"Outgoing Degree\")\n",
    "plt.ylabel(\"Frequency\")\n",
    "plt.title(\"Histogram of Outgoing Degrees for Nodes with Type 'Gene'\")\n",
    "plt.show()"
   ]
  },
  {
   "cell_type": "code",
   "execution_count": 38,
   "metadata": {},
   "outputs": [
    {
     "name": "stdout",
     "output_type": "stream",
     "text": [
      "11 12\n",
      "12 37\n",
      "13 23\n",
      "14 18\n",
      "15 16\n",
      "16 22\n",
      "17 18\n",
      "18 10\n",
      "19 4\n",
      "20 6\n",
      "21 1\n"
     ]
    }
   ],
   "source": [
    "degrees = dict(Counter(out_degrees))\n",
    "\n",
    "for d in sorted(degrees)[10:]:\n",
    "    print(d, degrees[d])"
   ]
  },
  {
   "cell_type": "markdown",
   "metadata": {},
   "source": [
    "We'll start with the outgoing degrees from drugs:"
   ]
  },
  {
   "cell_type": "code",
   "execution_count": 39,
   "metadata": {},
   "outputs": [],
   "source": [
    "drugs_in_pairs = {row['source'] for i, row in full_kg.loc[full_kg['edge_type'] == 'induces'].iterrows()}\n",
    "drugs_in_dmdb = {row['source'] for i, row in validation_df.iterrows()}"
   ]
  },
  {
   "cell_type": "code",
   "execution_count": 40,
   "metadata": {},
   "outputs": [
    {
     "data": {
      "image/png": "[encoded data removed]",
      "text/plain": [
       "<Figure size 640x480 with 1 Axes>"
      ]
     },
     "metadata": {},
     "output_type": "display_data"
    }
   ],
   "source": [
    "# Filter nodes based on type\n",
    "compound_nodes = [node for node, data in G.nodes(data=True) if data[\"type\"] == \"Compound\" and node in drugs_in_pairs]\n",
    "\n",
    "# Calculate outgoing degrees of compound nodes\n",
    "out_degrees = [G.out_degree(node) for node in compound_nodes]\n",
    "\n",
    "# Plot histogram\n",
    "plt.hist(out_degrees, bins=10, edgecolor=\"black\")\n",
    "plt.xlabel(\"Outgoing Degree\")\n",
    "plt.ylabel(\"Frequency\")\n",
    "plt.title(\"Histogram of Outgoing Degrees for Nodes with Type 'Compound'\")\n",
    "plt.show()"
   ]
  },
  {
   "cell_type": "markdown",
   "metadata": {},
   "source": [
    "How many of these only have connections to (1) protein and (1) BP?"
   ]
  },
  {
   "cell_type": "code",
   "execution_count": 41,
   "metadata": {},
   "outputs": [
    {
     "data": {
      "text/plain": [
       "17"
      ]
     },
     "execution_count": 41,
     "metadata": {},
     "output_type": "execute_result"
    }
   ],
   "source": [
    "Counter(out_degrees)[2]"
   ]
  },
  {
   "cell_type": "code",
   "execution_count": 42,
   "metadata": {},
   "outputs": [
    {
     "data": {
      "image/png": "[encoded data removed]",
      "text/plain": [
       "<Figure size 640x480 with 1 Axes>"
      ]
     },
     "metadata": {},
     "output_type": "display_data"
    }
   ],
   "source": [
    "# Filter nodes based on type\n",
    "compound_nodes = [node for node, data in G.nodes(data=True) if data[\"type\"] == \"Compound\" and node in drugs_in_dmdb]\n",
    "\n",
    "# Calculate outgoing degrees of compound nodes\n",
    "out_degrees = [G.out_degree(node) for node in compound_nodes]\n",
    "\n",
    "# Plot histogram\n",
    "plt.hist(out_degrees, bins=10, edgecolor=\"black\")\n",
    "plt.xlabel(\"Outgoing Degree\")\n",
    "plt.ylabel(\"Frequency\")\n",
    "plt.title(\"Histogram of Outgoing Degrees for Nodes with Type 'Compound'\")\n",
    "plt.show()"
   ]
  },
  {
   "cell_type": "code",
   "execution_count": 43,
   "metadata": {},
   "outputs": [
    {
     "data": {
      "text/plain": [
       "8"
      ]
     },
     "execution_count": 43,
     "metadata": {},
     "output_type": "execute_result"
    }
   ],
   "source": [
    "Counter(out_degrees)[2]"
   ]
  },
  {
   "cell_type": "markdown",
   "metadata": {},
   "source": [
    "What about the Biological Processes?"
   ]
  },
  {
   "cell_type": "code",
   "execution_count": 44,
   "metadata": {},
   "outputs": [],
   "source": [
    "bps_in_pairs = {row['target'] for i, row in full_kg.loc[full_kg['edge_type'] == 'induces'].iterrows()}\n",
    "bps_in_dmdb = {row['target'] for i, row in validation_df.iterrows()}"
   ]
  },
  {
   "cell_type": "code",
   "execution_count": 45,
   "metadata": {},
   "outputs": [
    {
     "data": {
      "image/png": "[encoded data removed]",
      "text/plain": [
       "<Figure size 640x480 with 1 Axes>"
      ]
     },
     "metadata": {},
     "output_type": "display_data"
    }
   ],
   "source": [
    "# Filter nodes based on type\n",
    "bp_nodes = [node for node, data in G.nodes(data=True) if data[\"type\"] == \"Biological Process\" and node in bps_in_pairs]\n",
    "\n",
    "# Calculate outgoing degrees of compound nodes\n",
    "in_degrees = [G.in_degree(node) for node in bp_nodes]\n",
    "\n",
    "# Plot histogram\n",
    "plt.hist(out_degrees, bins=10, edgecolor=\"black\")\n",
    "plt.xlabel(\"Outgoing Degree\")\n",
    "plt.ylabel(\"Frequency\")\n",
    "plt.title(\"Histogram of Incoming Degrees for Nodes with Type 'Biological Process'\")\n",
    "plt.show()"
   ]
  },
  {
   "cell_type": "code",
   "execution_count": 46,
   "metadata": {},
   "outputs": [
    {
     "data": {
      "text/plain": [
       "10"
      ]
     },
     "execution_count": 46,
     "metadata": {},
     "output_type": "execute_result"
    }
   ],
   "source": [
    "Counter(in_degrees)[2]"
   ]
  },
  {
   "cell_type": "code",
   "execution_count": 47,
   "metadata": {},
   "outputs": [
    {
     "data": {
      "image/png": "[encoded data removed]",
      "text/plain": [
       "<Figure size 640x480 with 1 Axes>"
      ]
     },
     "metadata": {},
     "output_type": "display_data"
    }
   ],
   "source": [
    "# Filter nodes based on type\n",
    "bp_nodes = [node for node, data in G.nodes(data=True) if data[\"type\"] == \"Biological Process\" and node in bps_in_dmdb]\n",
    "\n",
    "# Calculate outgoing degrees of compound nodes\n",
    "in_degrees = [G.in_degree(node) for node in bp_nodes]\n",
    "\n",
    "# Plot histogram\n",
    "plt.hist(out_degrees, bins=10, edgecolor=\"black\")\n",
    "plt.xlabel(\"Outgoing Degree\")\n",
    "plt.ylabel(\"Frequency\")\n",
    "plt.title(\"Histogram of Incoming Degrees for Nodes with Type 'Biological Process'\")\n",
    "plt.show()"
   ]
  },
  {
   "cell_type": "code",
   "execution_count": 48,
   "metadata": {},
   "outputs": [
    {
     "data": {
      "text/plain": [
       "10"
      ]
     },
     "execution_count": 48,
     "metadata": {},
     "output_type": "execute_result"
    }
   ],
   "source": [
    "Counter(in_degrees)[2]"
   ]
  },
  {
   "cell_type": "code",
   "execution_count": 49,
   "metadata": {},
   "outputs": [
    {
     "data": {
      "text/plain": [
       "Counter({2: 10, 115: 1, 6: 1, 4: 1, 3: 1})"
      ]
     },
     "execution_count": 49,
     "metadata": {},
     "output_type": "execute_result"
    }
   ],
   "source": [
    "Counter(in_degrees)"
   ]
  },
  {
   "cell_type": "markdown",
   "metadata": {},
   "source": [
    "It seems that the validation pairs from the DrugMechDB are the ones with limited degrees.\n",
    "\n",
    "Let's see what their connected proteins are connected to.\n",
    "\n",
    "First we'll take all the nodes which have a degree of two, grab the proteins they're connected to, and then see what their degree is."
   ]
  },
  {
   "cell_type": "code",
   "execution_count": 50,
   "metadata": {},
   "outputs": [],
   "source": [
    "cnodes_with_out_degree_2 = [node for node in compound_nodes if G.out_degree(node) == 2]"
   ]
  },
  {
   "cell_type": "code",
   "execution_count": 51,
   "metadata": {},
   "outputs": [],
   "source": [
    "prot_nodes = []\n",
    "\n",
    "for starting_node in cnodes_with_out_degree_2:\n",
    "    neighbors = nx.bfs_successors(G, starting_node, depth_limit=1)\n",
    "    for _, connected_nodes in neighbors:\n",
    "        prot_nodes.extend([node for node in connected_nodes if G.nodes[node][\"type\"] == \"Gene\"])"
   ]
  },
  {
   "cell_type": "code",
   "execution_count": 52,
   "metadata": {},
   "outputs": [
    {
     "data": {
      "text/plain": [
       "True"
      ]
     },
     "execution_count": 52,
     "metadata": {},
     "output_type": "execute_result"
    }
   ],
   "source": [
    "len(prot_nodes) == len(cnodes_with_out_degree_2)"
   ]
  },
  {
   "cell_type": "code",
   "execution_count": 53,
   "metadata": {},
   "outputs": [
    {
     "data": {
      "text/plain": [
       "False"
      ]
     },
     "execution_count": 53,
     "metadata": {},
     "output_type": "execute_result"
    }
   ],
   "source": [
    "len(set(prot_nodes)) == len(cnodes_with_out_degree_2)"
   ]
  },
  {
   "cell_type": "code",
   "execution_count": 54,
   "metadata": {},
   "outputs": [
    {
     "data": {
      "image/png": "[encoded data removed]",
      "text/plain": [
       "<Figure size 640x480 with 1 Axes>"
      ]
     },
     "metadata": {},
     "output_type": "display_data"
    }
   ],
   "source": [
    "out_degrees_proteins = [G.out_degree(node) for node in set(prot_nodes)]\n",
    "\n",
    "# Plot histogram\n",
    "plt.hist(out_degrees_proteins, bins=10, edgecolor=\"black\")\n",
    "plt.xlabel(\"Outgoing Degree\")\n",
    "plt.ylabel(\"Frequency\")\n",
    "plt.title(\"Histogram of Outgoing Degrees for Proteins Connected to Drugs\")\n",
    "plt.show()"
   ]
  },
  {
   "cell_type": "markdown",
   "metadata": {},
   "source": [
    "Are there any that only go to the GO BP and nothing else?"
   ]
  },
  {
   "cell_type": "code",
   "execution_count": 55,
   "metadata": {},
   "outputs": [
    {
     "data": {
      "text/plain": [
       "0"
      ]
     },
     "execution_count": 55,
     "metadata": {},
     "output_type": "execute_result"
    }
   ],
   "source": [
    "Counter(out_degrees_proteins)[1]"
   ]
  },
  {
   "cell_type": "markdown",
   "metadata": {},
   "source": [
    "Okay, let's do it for the proteins connected to BPs:"
   ]
  },
  {
   "cell_type": "code",
   "execution_count": 56,
   "metadata": {},
   "outputs": [],
   "source": [
    "bpnodes_with_out_degree_2 = [node for node in bp_nodes if G.in_degree(node) == 2]"
   ]
  },
  {
   "cell_type": "code",
   "execution_count": 57,
   "metadata": {},
   "outputs": [],
   "source": [
    "prot_nodes = []\n",
    "\n",
    "for starting_node in bpnodes_with_out_degree_2:\n",
    "    neighbors = G.predecessors(starting_node)\n",
    "    prot_nodes.extend([node for node in neighbors if G.nodes[node][\"type\"] == \"Gene\"])"
   ]
  },
  {
   "cell_type": "code",
   "execution_count": 58,
   "metadata": {},
   "outputs": [
    {
     "data": {
      "text/plain": [
       "True"
      ]
     },
     "execution_count": 58,
     "metadata": {},
     "output_type": "execute_result"
    }
   ],
   "source": [
    "len(prot_nodes) == len(bpnodes_with_out_degree_2)"
   ]
  },
  {
   "cell_type": "code",
   "execution_count": 59,
   "metadata": {},
   "outputs": [
    {
     "data": {
      "text/plain": [
       "False"
      ]
     },
     "execution_count": 59,
     "metadata": {},
     "output_type": "execute_result"
    }
   ],
   "source": [
    "len(set(prot_nodes)) == len(bpnodes_with_out_degree_2)"
   ]
  },
  {
   "cell_type": "markdown",
   "metadata": {},
   "source": [
    "I keep the next part as outgoing degrees to see whether they go straight to GO BP or not."
   ]
  },
  {
   "cell_type": "code",
   "execution_count": 60,
   "metadata": {},
   "outputs": [
    {
     "data": {
      "image/png": "[encoded data removed]",
      "text/plain": [
       "<Figure size 640x480 with 1 Axes>"
      ]
     },
     "metadata": {},
     "output_type": "display_data"
    }
   ],
   "source": [
    "out_degrees_proteins = [G.out_degree(node) for node in set(prot_nodes)]\n",
    "\n",
    "# Plot histogram\n",
    "plt.hist(out_degrees_proteins, bins=10, edgecolor=\"black\")\n",
    "plt.xlabel(\"Outgoing Degree\")\n",
    "plt.ylabel(\"Frequency\")\n",
    "plt.title(\"Histogram of Outgoing Degrees for Proteins Connected to BPs\")\n",
    "plt.show()"
   ]
  },
  {
   "cell_type": "markdown",
   "metadata": {},
   "source": [
    "Are there any that go straight to the GO BP?"
   ]
  },
  {
   "cell_type": "code",
   "execution_count": 61,
   "metadata": {},
   "outputs": [
    {
     "data": {
      "text/plain": [
       "0"
      ]
     },
     "execution_count": 61,
     "metadata": {},
     "output_type": "execute_result"
    }
   ],
   "source": [
    "Counter(out_degrees_proteins)[1]"
   ]
  },
  {
   "cell_type": "markdown",
   "metadata": {},
   "source": [
    "Okay, it seems that only one option is a straight-shot. The others are not.\n",
    "\n",
    "----------------------------------------"
   ]
  },
  {
   "cell_type": "code",
   "execution_count": 62,
   "metadata": {},
   "outputs": [],
   "source": [
    "risky_edges = []\n",
    "\n",
    "for source, target in G.edges():\n",
    "    if source in compound_nodes and target in bp_nodes:\n",
    "        risky_edges.append((source, target))"
   ]
  },
  {
   "cell_type": "code",
   "execution_count": 63,
   "metadata": {},
   "outputs": [
    {
     "data": {
      "text/plain": [
       "20"
      ]
     },
     "execution_count": 63,
     "metadata": {},
     "output_type": "execute_result"
    }
   ],
   "source": [
    "len(set(risky_edges))"
   ]
  },
  {
   "cell_type": "code",
   "execution_count": 64,
   "metadata": {},
   "outputs": [
    {
     "data": {
      "text/plain": [
       "19"
      ]
     },
     "execution_count": 64,
     "metadata": {},
     "output_type": "execute_result"
    }
   ],
   "source": [
    "len(set(risky_edges) & set(validation_moas.keys()))"
   ]
  },
  {
   "cell_type": "markdown",
   "metadata": {},
   "source": [
    "Let's double check to ensure that all pairs are connected to the KG:"
   ]
  },
  {
   "cell_type": "code",
   "execution_count": 65,
   "metadata": {},
   "outputs": [],
   "source": [
    "final_kg_df = pd.concat([final_kg_df, validation_df], ignore_index=True)"
   ]
  },
  {
   "cell_type": "code",
   "execution_count": 66,
   "metadata": {},
   "outputs": [],
   "source": [
    "# get all of the proteins connected to other proteins\n",
    "prots_connected = set()\n",
    "for i, row in final_kg_df.loc[final_kg_df['edge_type'] == 'interacts'].iterrows():\n",
    "    prots_connected.add(row['source'])\n",
    "    prots_connected.add(row['target'])"
   ]
  },
  {
   "cell_type": "code",
   "execution_count": 67,
   "metadata": {},
   "outputs": [],
   "source": [
    "# get all the BPs whose protein is also connected to other proteins\n",
    "bp_nodes = {row['target'] for i, row in final_kg_df.loc[final_kg_df['edge_type'] == 'participates'].iterrows() if row['source'] in prots_connected}\n",
    "# get all the drugs whose protein is also connected to other proteins\n",
    "drug_nodes = {row['source'] for i, row in final_kg_df.loc[final_kg_df['edge_type'].isin({'downregulates', 'upregulates'})].iterrows() if row['target'] in prots_connected}"
   ]
  },
  {
   "cell_type": "code",
   "execution_count": 68,
   "metadata": {},
   "outputs": [],
   "source": [
    "# get the drug-BP pairs\n",
    "drugbp_pairs = final_kg_df.loc[final_kg_df['edge_type'] == 'induces']"
   ]
  },
  {
   "cell_type": "code",
   "execution_count": 69,
   "metadata": {},
   "outputs": [
    {
     "data": {
      "text/plain": [
       "1165"
      ]
     },
     "execution_count": 69,
     "metadata": {},
     "output_type": "execute_result"
    }
   ],
   "source": [
    "len(drugbp_pairs)"
   ]
  },
  {
   "cell_type": "code",
   "execution_count": 70,
   "metadata": {},
   "outputs": [
    {
     "data": {
      "text/html": [
       "<div>\n",
       "<style scoped>\n",
       "    .dataframe tbody tr th:only-of-type {\n",
       "        vertical-align: middle;\n",
       "    }\n",
       "\n",
       "    .dataframe tbody tr th {\n",
       "        vertical-align: top;\n",
       "    }\n",
       "\n",
       "    .dataframe thead th {\n",
       "        text-align: right;\n",
       "    }\n",
       "</style>\n",
       "<table border=\"1\" class=\"dataframe\">\n",
       "  <thead>\n",
       "    <tr style=\"text-align: right;\">\n",
       "      <th></th>\n",
       "      <th>source</th>\n",
       "      <th>target</th>\n",
       "      <th>edge_type</th>\n",
       "      <th>source_node_type</th>\n",
       "      <th>target_node_type</th>\n",
       "    </tr>\n",
       "  </thead>\n",
       "  <tbody>\n",
       "    <tr>\n",
       "      <th>6485</th>\n",
       "      <td>pubchem.compound:10607</td>\n",
       "      <td>GO:0002376</td>\n",
       "      <td>induces</td>\n",
       "      <td>Compound</td>\n",
       "      <td>Biological Process</td>\n",
       "    </tr>\n",
       "    <tr>\n",
       "      <th>6486</th>\n",
       "      <td>pubchem.compound:10607</td>\n",
       "      <td>GO:0007010</td>\n",
       "      <td>induces</td>\n",
       "      <td>Compound</td>\n",
       "      <td>Biological Process</td>\n",
       "    </tr>\n",
       "    <tr>\n",
       "      <th>6487</th>\n",
       "      <td>pubchem.compound:10607</td>\n",
       "      <td>GO:0007017</td>\n",
       "      <td>induces</td>\n",
       "      <td>Compound</td>\n",
       "      <td>Biological Process</td>\n",
       "    </tr>\n",
       "    <tr>\n",
       "      <th>6488</th>\n",
       "      <td>pubchem.compound:10607</td>\n",
       "      <td>GO:0007049</td>\n",
       "      <td>induces</td>\n",
       "      <td>Compound</td>\n",
       "      <td>Biological Process</td>\n",
       "    </tr>\n",
       "    <tr>\n",
       "      <th>6489</th>\n",
       "      <td>pubchem.compound:10607</td>\n",
       "      <td>GO:0007155</td>\n",
       "      <td>induces</td>\n",
       "      <td>Compound</td>\n",
       "      <td>Biological Process</td>\n",
       "    </tr>\n",
       "    <tr>\n",
       "      <th>...</th>\n",
       "      <td>...</td>\n",
       "      <td>...</td>\n",
       "      <td>...</td>\n",
       "      <td>...</td>\n",
       "      <td>...</td>\n",
       "    </tr>\n",
       "    <tr>\n",
       "      <th>10253</th>\n",
       "      <td>pubchem.compound:444036</td>\n",
       "      <td>GO:0006954</td>\n",
       "      <td>induces</td>\n",
       "      <td>Compound</td>\n",
       "      <td>Biological Process</td>\n",
       "    </tr>\n",
       "    <tr>\n",
       "      <th>10254</th>\n",
       "      <td>pubchem.compound:3372</td>\n",
       "      <td>GO:0030252</td>\n",
       "      <td>induces</td>\n",
       "      <td>Compound</td>\n",
       "      <td>Biological Process</td>\n",
       "    </tr>\n",
       "    <tr>\n",
       "      <th>10258</th>\n",
       "      <td>pubchem.compound:16362</td>\n",
       "      <td>GO:0014046</td>\n",
       "      <td>induces</td>\n",
       "      <td>Compound</td>\n",
       "      <td>Biological Process</td>\n",
       "    </tr>\n",
       "    <tr>\n",
       "      <th>10261</th>\n",
       "      <td>pubchem.compound:24872560</td>\n",
       "      <td>GO:0006351</td>\n",
       "      <td>induces</td>\n",
       "      <td>Compound</td>\n",
       "      <td>Biological Process</td>\n",
       "    </tr>\n",
       "    <tr>\n",
       "      <th>10262</th>\n",
       "      <td>pubchem.compound:24872560</td>\n",
       "      <td>GO:0008283</td>\n",
       "      <td>induces</td>\n",
       "      <td>Compound</td>\n",
       "      <td>Biological Process</td>\n",
       "    </tr>\n",
       "  </tbody>\n",
       "</table>\n",
       "<p>1136 rows × 5 columns</p>\n",
       "</div>"
      ],
      "text/plain": [
       "                          source      target edge_type source_node_type  \\\n",
       "6485      pubchem.compound:10607  GO:0002376   induces         Compound   \n",
       "6486      pubchem.compound:10607  GO:0007010   induces         Compound   \n",
       "6487      pubchem.compound:10607  GO:0007017   induces         Compound   \n",
       "6488      pubchem.compound:10607  GO:0007049   induces         Compound   \n",
       "6489      pubchem.compound:10607  GO:0007155   induces         Compound   \n",
       "...                          ...         ...       ...              ...   \n",
       "10253    pubchem.compound:444036  GO:0006954   induces         Compound   \n",
       "10254      pubchem.compound:3372  GO:0030252   induces         Compound   \n",
       "10258     pubchem.compound:16362  GO:0014046   induces         Compound   \n",
       "10261  pubchem.compound:24872560  GO:0006351   induces         Compound   \n",
       "10262  pubchem.compound:24872560  GO:0008283   induces         Compound   \n",
       "\n",
       "         target_node_type  \n",
       "6485   Biological Process  \n",
       "6486   Biological Process  \n",
       "6487   Biological Process  \n",
       "6488   Biological Process  \n",
       "6489   Biological Process  \n",
       "...                   ...  \n",
       "10253  Biological Process  \n",
       "10254  Biological Process  \n",
       "10258  Biological Process  \n",
       "10261  Biological Process  \n",
       "10262  Biological Process  \n",
       "\n",
       "[1136 rows x 5 columns]"
      ]
     },
     "execution_count": 70,
     "metadata": {},
     "output_type": "execute_result"
    }
   ],
   "source": [
    "drugbp_pairs.loc[drugbp_pairs['source'].isin(drug_nodes) & drugbp_pairs['target'].isin(bp_nodes)]"
   ]
  },
  {
   "cell_type": "code",
   "execution_count": null,
   "metadata": {},
   "outputs": [],
   "source": []
  }
 ],
 "metadata": {
  "kernelspec": {
   "display_name": "nesy_venv",
   "language": "python",
   "name": "python3"
  },
  "language_info": {
   "codemirror_mode": {
    "name": "ipython",
    "version": 3
   },
   "file_extension": ".py",
   "mimetype": "text/x-python",
   "name": "python",
   "nbconvert_exporter": "python",
   "pygments_lexer": "ipython3",
   "version": "3.9.6"
  },
  "orig_nbformat": 4
 },
 "nbformat": 4,
 "nbformat_minor": 2
}
