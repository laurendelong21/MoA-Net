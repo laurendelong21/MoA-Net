{
 "cells": [
  {
   "attachments": {},
   "cell_type": "markdown",
   "metadata": {},
   "source": [
    "# Metagraph and Metapath Generation\n",
    "\n",
    "Here, we use the same syntax as [HetNetPy](https://github.com/hetio/hetnetpy/tree/e1ff1f8296b766dd5a63e5870a8a1a7d82427a80) to create a metagraph and extract metapaths from the KG.\n",
    "\n",
    "Metagraph creation is based on [this notebook](https://github.com/dhimmel/integrate/blob/93feba1765fbcd76fd79e22f25121f5399629148/integrate.ipynb)."
   ]
  },
  {
   "cell_type": "code",
   "execution_count": 1,
   "metadata": {},
   "outputs": [],
   "source": [
    "import pandas as pd\n",
    "import seaborn as sns\n",
    "import os.path as osp\n",
    "\n",
    "import hetnetpy.hetnet\n",
    "import hetnetpy.readwrite\n",
    "import hetnetpy.stats\n",
    "\n",
    "%matplotlib inline"
   ]
  },
  {
   "attachments": {},
   "cell_type": "markdown",
   "metadata": {},
   "source": [
    "### Define and Instantiate Metagraph:"
   ]
  },
  {
   "cell_type": "code",
   "execution_count": 2,
   "metadata": {},
   "outputs": [],
   "source": [
    "kind_to_abbev = {\n",
    "    \n",
    "    # metanodes\n",
    "    'Compound': 'C',\n",
    "    'Gene': 'G',\n",
    "    'Biological Process': 'BP',\n",
    "    \n",
    "    # metaedges\n",
    "    'upregulates': 'u',\n",
    "    'downregulates': 'd',\n",
    "    'interacts': 'i',\n",
    "    'participates': 'p'\n",
    "}\n",
    "\n",
    "metaedge_tuples = [\n",
    "    ('Compound', 'Gene', 'upregulates', 'forward'),\n",
    "    ('Compound', 'Gene', 'downregulates', 'forward'),\n",
    "    ('Gene', 'Gene', 'interacts', 'forward'),\n",
    "    ('Gene', 'Biological Process', 'participates', 'forward')\n",
    "]\n",
    "\n",
    "metagraph = hetnetpy.hetnet.MetaGraph.from_edge_tuples(metaedge_tuples, kind_to_abbev)\n",
    "graph = hetnetpy.hetnet.Graph(metagraph)"
   ]
  },
  {
   "cell_type": "code",
   "execution_count": 3,
   "metadata": {},
   "outputs": [],
   "source": [
    "KG_DIR = '../data/kg/'\n",
    "\n",
    "kg = pd.read_csv(osp.join(KG_DIR, 'full_kg.tsv'), sep='\\t', index_col=0)"
   ]
  },
  {
   "cell_type": "code",
   "execution_count": 4,
   "metadata": {},
   "outputs": [
    {
     "data": {
      "text/html": [
       "<div>\n",
       "<style scoped>\n",
       "    .dataframe tbody tr th:only-of-type {\n",
       "        vertical-align: middle;\n",
       "    }\n",
       "\n",
       "    .dataframe tbody tr th {\n",
       "        vertical-align: top;\n",
       "    }\n",
       "\n",
       "    .dataframe thead th {\n",
       "        text-align: right;\n",
       "    }\n",
       "</style>\n",
       "<table border=\"1\" class=\"dataframe\">\n",
       "  <thead>\n",
       "    <tr style=\"text-align: right;\">\n",
       "      <th></th>\n",
       "      <th>source</th>\n",
       "      <th>source_node_type</th>\n",
       "      <th>target</th>\n",
       "      <th>target_node_type</th>\n",
       "      <th>edge_type</th>\n",
       "    </tr>\n",
       "  </thead>\n",
       "  <tbody>\n",
       "    <tr>\n",
       "      <th>0</th>\n",
       "      <td>pubchem.compound:10607</td>\n",
       "      <td>Compound</td>\n",
       "      <td>ncbigene:3553</td>\n",
       "      <td>Gene</td>\n",
       "      <td>upregulates</td>\n",
       "    </tr>\n",
       "    <tr>\n",
       "      <th>1</th>\n",
       "      <td>pubchem.compound:10607</td>\n",
       "      <td>Compound</td>\n",
       "      <td>ncbigene:203068</td>\n",
       "      <td>Gene</td>\n",
       "      <td>downregulates</td>\n",
       "    </tr>\n",
       "    <tr>\n",
       "      <th>2</th>\n",
       "      <td>pubchem.compound:10607</td>\n",
       "      <td>Compound</td>\n",
       "      <td>ncbigene:54658</td>\n",
       "      <td>Gene</td>\n",
       "      <td>downregulates</td>\n",
       "    </tr>\n",
       "    <tr>\n",
       "      <th>3</th>\n",
       "      <td>pubchem.compound:10607</td>\n",
       "      <td>Compound</td>\n",
       "      <td>ncbigene:7153</td>\n",
       "      <td>Gene</td>\n",
       "      <td>downregulates</td>\n",
       "    </tr>\n",
       "    <tr>\n",
       "      <th>4</th>\n",
       "      <td>pubchem.compound:10607</td>\n",
       "      <td>Compound</td>\n",
       "      <td>ncbigene:7277</td>\n",
       "      <td>Gene</td>\n",
       "      <td>downregulates</td>\n",
       "    </tr>\n",
       "  </tbody>\n",
       "</table>\n",
       "</div>"
      ],
      "text/plain": [
       "                   source source_node_type           target target_node_type  \\\n",
       "0  pubchem.compound:10607         Compound    ncbigene:3553             Gene   \n",
       "1  pubchem.compound:10607         Compound  ncbigene:203068             Gene   \n",
       "2  pubchem.compound:10607         Compound   ncbigene:54658             Gene   \n",
       "3  pubchem.compound:10607         Compound    ncbigene:7153             Gene   \n",
       "4  pubchem.compound:10607         Compound    ncbigene:7277             Gene   \n",
       "\n",
       "       edge_type  \n",
       "0    upregulates  \n",
       "1  downregulates  \n",
       "2  downregulates  \n",
       "3  downregulates  \n",
       "4  downregulates  "
      ]
     },
     "execution_count": 4,
     "metadata": {},
     "output_type": "execute_result"
    }
   ],
   "source": [
    "kg.head()"
   ]
  },
  {
   "cell_type": "code",
   "execution_count": 5,
   "metadata": {},
   "outputs": [],
   "source": [
    "seen = set()\n",
    "\n",
    "for i, row in kg.iterrows():\n",
    "    if not row['source'] in seen:\n",
    "        graph.add_node(kind=row['source_node_type'], identifier=row['source'])\n",
    "        seen.add(row['source'])\n",
    "    if not row['target'] in seen:\n",
    "        graph.add_node(kind=row['target_node_type'], identifier=row['target'])\n",
    "        seen.add(row['target'])\n",
    "\n",
    "    src_id = row['source_node_type'], row['source']\n",
    "    trgt_id = row['target_node_type'], row['target']\n",
    "\n",
    "    graph.add_edge(source_id=src_id, target_id=trgt_id, kind=row['edge_type'], direction='forward')"
   ]
  },
  {
   "attachments": {},
   "cell_type": "markdown",
   "metadata": {},
   "source": [
    "## Network Visualization and Stats"
   ]
  },
  {
   "cell_type": "code",
   "execution_count": 6,
   "metadata": {},
   "outputs": [
    {
     "data": {
      "text/html": [
       "<div>\n",
       "<style scoped>\n",
       "    .dataframe tbody tr th:only-of-type {\n",
       "        vertical-align: middle;\n",
       "    }\n",
       "\n",
       "    .dataframe tbody tr th {\n",
       "        vertical-align: top;\n",
       "    }\n",
       "\n",
       "    .dataframe thead th {\n",
       "        text-align: right;\n",
       "    }\n",
       "</style>\n",
       "<table border=\"1\" class=\"dataframe\">\n",
       "  <thead>\n",
       "    <tr style=\"text-align: right;\">\n",
       "      <th></th>\n",
       "      <th>metanode</th>\n",
       "      <th>abbreviation</th>\n",
       "      <th>metaedges</th>\n",
       "      <th>nodes</th>\n",
       "      <th>unconnected_nodes</th>\n",
       "    </tr>\n",
       "  </thead>\n",
       "  <tbody>\n",
       "    <tr>\n",
       "      <th>2</th>\n",
       "      <td>Biological Process</td>\n",
       "      <td>BP</td>\n",
       "      <td>1</td>\n",
       "      <td>76</td>\n",
       "      <td>0</td>\n",
       "    </tr>\n",
       "    <tr>\n",
       "      <th>0</th>\n",
       "      <td>Compound</td>\n",
       "      <td>C</td>\n",
       "      <td>2</td>\n",
       "      <td>272</td>\n",
       "      <td>0</td>\n",
       "    </tr>\n",
       "    <tr>\n",
       "      <th>1</th>\n",
       "      <td>Gene</td>\n",
       "      <td>G</td>\n",
       "      <td>4</td>\n",
       "      <td>9421</td>\n",
       "      <td>0</td>\n",
       "    </tr>\n",
       "  </tbody>\n",
       "</table>\n",
       "</div>"
      ],
      "text/plain": [
       "             metanode abbreviation  metaedges  nodes  unconnected_nodes\n",
       "2  Biological Process           BP          1     76                  0\n",
       "0            Compound            C          2    272                  0\n",
       "1                Gene            G          4   9421                  0"
      ]
     },
     "execution_count": 6,
     "metadata": {},
     "output_type": "execute_result"
    }
   ],
   "source": [
    "metanode_df = hetnetpy.stats.get_metanode_df(graph)\n",
    "metanode_df"
   ]
  },
  {
   "cell_type": "code",
   "execution_count": 7,
   "metadata": {},
   "outputs": [
    {
     "data": {
      "image/png": "[encoded data removed]",
      "text/plain": [
       "<Figure size 640x480 with 1 Axes>"
      ]
     },
     "metadata": {},
     "output_type": "display_data"
    }
   ],
   "source": [
    "ax = sns.barplot(x='metanode', y='nodes', data=metanode_df.sort_values('nodes'))\n",
    "for tick in ax.get_xticklabels():\n",
    "    tick.set_rotation(90)\n",
    "ax.set_xlabel(''); ax.set_ylabel('nodes');"
   ]
  },
  {
   "cell_type": "code",
   "execution_count": 8,
   "metadata": {},
   "outputs": [
    {
     "data": {
      "text/plain": [
       "9769"
      ]
     },
     "execution_count": 8,
     "metadata": {},
     "output_type": "execute_result"
    }
   ],
   "source": [
    "# Total number of nodes\n",
    "metanode_df.nodes.sum()"
   ]
  },
  {
   "cell_type": "code",
   "execution_count": 9,
   "metadata": {},
   "outputs": [
    {
     "data": {
      "text/html": [
       "<div>\n",
       "<style scoped>\n",
       "    .dataframe tbody tr th:only-of-type {\n",
       "        vertical-align: middle;\n",
       "    }\n",
       "\n",
       "    .dataframe tbody tr th {\n",
       "        vertical-align: top;\n",
       "    }\n",
       "\n",
       "    .dataframe thead th {\n",
       "        text-align: right;\n",
       "    }\n",
       "</style>\n",
       "<table border=\"1\" class=\"dataframe\">\n",
       "  <thead>\n",
       "    <tr style=\"text-align: right;\">\n",
       "      <th></th>\n",
       "      <th>metaedge</th>\n",
       "      <th>abbreviation</th>\n",
       "      <th>edges</th>\n",
       "      <th>source_nodes</th>\n",
       "      <th>target_nodes</th>\n",
       "    </tr>\n",
       "  </thead>\n",
       "  <tbody>\n",
       "    <tr>\n",
       "      <th>1</th>\n",
       "      <td>Compound &gt; downregulates &gt; Gene</td>\n",
       "      <td>Cd&gt;G</td>\n",
       "      <td>2185</td>\n",
       "      <td>251</td>\n",
       "      <td>914</td>\n",
       "    </tr>\n",
       "    <tr>\n",
       "      <th>0</th>\n",
       "      <td>Compound &gt; upregulates &gt; Gene</td>\n",
       "      <td>Cu&gt;G</td>\n",
       "      <td>1623</td>\n",
       "      <td>176</td>\n",
       "      <td>864</td>\n",
       "    </tr>\n",
       "    <tr>\n",
       "      <th>2</th>\n",
       "      <td>Gene &gt; interacts &gt; Gene</td>\n",
       "      <td>Gi&gt;G</td>\n",
       "      <td>86786</td>\n",
       "      <td>5240</td>\n",
       "      <td>8578</td>\n",
       "    </tr>\n",
       "    <tr>\n",
       "      <th>3</th>\n",
       "      <td>Gene &gt; participates &gt; Biological Process</td>\n",
       "      <td>Gp&gt;BP</td>\n",
       "      <td>6949</td>\n",
       "      <td>3640</td>\n",
       "      <td>76</td>\n",
       "    </tr>\n",
       "  </tbody>\n",
       "</table>\n",
       "</div>"
      ],
      "text/plain": [
       "                                   metaedge abbreviation  edges  source_nodes  \\\n",
       "1           Compound > downregulates > Gene         Cd>G   2185           251   \n",
       "0             Compound > upregulates > Gene         Cu>G   1623           176   \n",
       "2                   Gene > interacts > Gene         Gi>G  86786          5240   \n",
       "3  Gene > participates > Biological Process        Gp>BP   6949          3640   \n",
       "\n",
       "   target_nodes  \n",
       "1           914  \n",
       "0           864  \n",
       "2          8578  \n",
       "3            76  "
      ]
     },
     "execution_count": 9,
     "metadata": {},
     "output_type": "execute_result"
    }
   ],
   "source": [
    "# Summary of metaedges and cooresponding edges\n",
    "metaedge_df = hetnetpy.stats.get_metaedge_df(graph)\n",
    "\n",
    "metaedge_df"
   ]
  },
  {
   "cell_type": "code",
   "execution_count": 10,
   "metadata": {},
   "outputs": [
    {
     "data": {
      "image/png": "[encoded data removed]",
      "text/plain": [
       "<Figure size 640x480 with 1 Axes>"
      ]
     },
     "metadata": {},
     "output_type": "display_data"
    }
   ],
   "source": [
    "ax = sns.barplot(x='metaedge', y='edges', data=metaedge_df.sort_values('edges'))\n",
    "for tick in ax.get_xticklabels():\n",
    "    tick.set_rotation(90)\n",
    "ax.set_xlabel(''); ax.set_ylabel('edges');"
   ]
  },
  {
   "cell_type": "code",
   "execution_count": 11,
   "metadata": {},
   "outputs": [
    {
     "data": {
      "text/html": [
       "<div>\n",
       "<style scoped>\n",
       "    .dataframe tbody tr th:only-of-type {\n",
       "        vertical-align: middle;\n",
       "    }\n",
       "\n",
       "    .dataframe tbody tr th {\n",
       "        vertical-align: top;\n",
       "    }\n",
       "\n",
       "    .dataframe thead th {\n",
       "        text-align: right;\n",
       "    }\n",
       "</style>\n",
       "<table border=\"1\" class=\"dataframe\">\n",
       "  <thead>\n",
       "    <tr style=\"text-align: right;\">\n",
       "      <th></th>\n",
       "      <th>metaedge</th>\n",
       "      <th>unicode_metaedge</th>\n",
       "      <th>standard_metaedge</th>\n",
       "      <th>abbreviation</th>\n",
       "      <th>standard_abbreviation</th>\n",
       "      <th>source</th>\n",
       "      <th>target</th>\n",
       "      <th>inverted</th>\n",
       "    </tr>\n",
       "  </thead>\n",
       "  <tbody>\n",
       "    <tr>\n",
       "      <th>7</th>\n",
       "      <td>Biological Process &lt; participates &lt; Gene</td>\n",
       "      <td>Biological Process←participates←Gene</td>\n",
       "      <td>Gene &gt; participates &gt; Biological Process</td>\n",
       "      <td>BP&lt;pG</td>\n",
       "      <td>GpBP</td>\n",
       "      <td>Biological Process</td>\n",
       "      <td>Gene</td>\n",
       "      <td>1</td>\n",
       "    </tr>\n",
       "    <tr>\n",
       "      <th>2</th>\n",
       "      <td>Compound &gt; downregulates &gt; Gene</td>\n",
       "      <td>Compound→downregulates→Gene</td>\n",
       "      <td>Compound &gt; downregulates &gt; Gene</td>\n",
       "      <td>Cd&gt;G</td>\n",
       "      <td>CdG</td>\n",
       "      <td>Compound</td>\n",
       "      <td>Gene</td>\n",
       "      <td>0</td>\n",
       "    </tr>\n",
       "    <tr>\n",
       "      <th>0</th>\n",
       "      <td>Compound &gt; upregulates &gt; Gene</td>\n",
       "      <td>Compound→upregulates→Gene</td>\n",
       "      <td>Compound &gt; upregulates &gt; Gene</td>\n",
       "      <td>Cu&gt;G</td>\n",
       "      <td>CuG</td>\n",
       "      <td>Compound</td>\n",
       "      <td>Gene</td>\n",
       "      <td>0</td>\n",
       "    </tr>\n",
       "    <tr>\n",
       "      <th>3</th>\n",
       "      <td>Gene &lt; downregulates &lt; Compound</td>\n",
       "      <td>Gene←downregulates←Compound</td>\n",
       "      <td>Compound &gt; downregulates &gt; Gene</td>\n",
       "      <td>G&lt;dC</td>\n",
       "      <td>CdG</td>\n",
       "      <td>Gene</td>\n",
       "      <td>Compound</td>\n",
       "      <td>1</td>\n",
       "    </tr>\n",
       "    <tr>\n",
       "      <th>5</th>\n",
       "      <td>Gene &lt; interacts &lt; Gene</td>\n",
       "      <td>Gene←interacts←Gene</td>\n",
       "      <td>Gene &gt; interacts &gt; Gene</td>\n",
       "      <td>G&lt;iG</td>\n",
       "      <td>GiG</td>\n",
       "      <td>Gene</td>\n",
       "      <td>Gene</td>\n",
       "      <td>1</td>\n",
       "    </tr>\n",
       "    <tr>\n",
       "      <th>1</th>\n",
       "      <td>Gene &lt; upregulates &lt; Compound</td>\n",
       "      <td>Gene←upregulates←Compound</td>\n",
       "      <td>Compound &gt; upregulates &gt; Gene</td>\n",
       "      <td>G&lt;uC</td>\n",
       "      <td>CuG</td>\n",
       "      <td>Gene</td>\n",
       "      <td>Compound</td>\n",
       "      <td>1</td>\n",
       "    </tr>\n",
       "    <tr>\n",
       "      <th>4</th>\n",
       "      <td>Gene &gt; interacts &gt; Gene</td>\n",
       "      <td>Gene→interacts→Gene</td>\n",
       "      <td>Gene &gt; interacts &gt; Gene</td>\n",
       "      <td>Gi&gt;G</td>\n",
       "      <td>GiG</td>\n",
       "      <td>Gene</td>\n",
       "      <td>Gene</td>\n",
       "      <td>0</td>\n",
       "    </tr>\n",
       "    <tr>\n",
       "      <th>6</th>\n",
       "      <td>Gene &gt; participates &gt; Biological Process</td>\n",
       "      <td>Gene→participates→Biological Process</td>\n",
       "      <td>Gene &gt; participates &gt; Biological Process</td>\n",
       "      <td>Gp&gt;BP</td>\n",
       "      <td>GpBP</td>\n",
       "      <td>Gene</td>\n",
       "      <td>Biological Process</td>\n",
       "      <td>0</td>\n",
       "    </tr>\n",
       "  </tbody>\n",
       "</table>\n",
       "</div>"
      ],
      "text/plain": [
       "                                   metaedge  \\\n",
       "7  Biological Process < participates < Gene   \n",
       "2           Compound > downregulates > Gene   \n",
       "0             Compound > upregulates > Gene   \n",
       "3           Gene < downregulates < Compound   \n",
       "5                   Gene < interacts < Gene   \n",
       "1             Gene < upregulates < Compound   \n",
       "4                   Gene > interacts > Gene   \n",
       "6  Gene > participates > Biological Process   \n",
       "\n",
       "                       unicode_metaedge  \\\n",
       "7  Biological Process←participates←Gene   \n",
       "2           Compound→downregulates→Gene   \n",
       "0             Compound→upregulates→Gene   \n",
       "3           Gene←downregulates←Compound   \n",
       "5                   Gene←interacts←Gene   \n",
       "1             Gene←upregulates←Compound   \n",
       "4                   Gene→interacts→Gene   \n",
       "6  Gene→participates→Biological Process   \n",
       "\n",
       "                          standard_metaedge abbreviation  \\\n",
       "7  Gene > participates > Biological Process        BP<pG   \n",
       "2           Compound > downregulates > Gene         Cd>G   \n",
       "0             Compound > upregulates > Gene         Cu>G   \n",
       "3           Compound > downregulates > Gene         G<dC   \n",
       "5                   Gene > interacts > Gene         G<iG   \n",
       "1             Compound > upregulates > Gene         G<uC   \n",
       "4                   Gene > interacts > Gene         Gi>G   \n",
       "6  Gene > participates > Biological Process        Gp>BP   \n",
       "\n",
       "  standard_abbreviation              source              target  inverted  \n",
       "7                  GpBP  Biological Process                Gene         1  \n",
       "2                   CdG            Compound                Gene         0  \n",
       "0                   CuG            Compound                Gene         0  \n",
       "3                   CdG                Gene            Compound         1  \n",
       "5                   GiG                Gene                Gene         1  \n",
       "1                   CuG                Gene            Compound         1  \n",
       "4                   GiG                Gene                Gene         0  \n",
       "6                  GpBP                Gene  Biological Process         0  "
      ]
     },
     "execution_count": 11,
     "metadata": {},
     "output_type": "execute_result"
    }
   ],
   "source": [
    "# Summary of different styles for representing each metaedge\n",
    "metaedge_style_df = hetnetpy.stats.get_metaedge_style_df(metagraph)\n",
    "metaedge_style_df"
   ]
  },
  {
   "cell_type": "code",
   "execution_count": 12,
   "metadata": {},
   "outputs": [
    {
     "data": {
      "text/plain": [
       "97543"
      ]
     },
     "execution_count": 12,
     "metadata": {},
     "output_type": "execute_result"
    }
   ],
   "source": [
    "# Number of edges in the network\n",
    "metaedge_df.edges.sum()"
   ]
  },
  {
   "attachments": {},
   "cell_type": "markdown",
   "metadata": {},
   "source": [
    "## Metapath Extraction\n",
    "\n",
    "Here, we have functions which can extract metapaths:"
   ]
  },
  {
   "attachments": {},
   "cell_type": "markdown",
   "metadata": {},
   "source": [
    "Extract all metapaths up to a certain length:"
   ]
  },
  {
   "cell_type": "code",
   "execution_count": 13,
   "metadata": {},
   "outputs": [],
   "source": [
    "len_3_metapaths = metagraph.extract_all_metapaths(max_length=3, exclude_inverts=True)"
   ]
  },
  {
   "cell_type": "code",
   "execution_count": 14,
   "metadata": {},
   "outputs": [
    {
     "data": {
      "text/plain": [
       "[BP<pG,\n",
       " Cd>G,\n",
       " Cu>G,\n",
       " G<iG,\n",
       " BP<pGp>BP,\n",
       " BP<pG<dC,\n",
       " BP<pG<uC,\n",
       " BP<pG<iG,\n",
       " BP<pGi>G,\n",
       " Cd>G<dC,\n",
       " Cd>G<uC,\n",
       " Cd>G<iG,\n",
       " Cd>Gi>G,\n",
       " Cu>G<uC,\n",
       " Cu>G<iG,\n",
       " Cu>Gi>G,\n",
       " Gp>BP<pG,\n",
       " G<dCd>G,\n",
       " G<dCu>G,\n",
       " G<uCu>G,\n",
       " G<iG<iG,\n",
       " G<iGi>G,\n",
       " Gi>G<iG,\n",
       " BP<pGp>BP<pG,\n",
       " BP<pG<dCd>G,\n",
       " BP<pG<dCu>G,\n",
       " BP<pG<uCd>G,\n",
       " BP<pG<uCu>G,\n",
       " BP<pG<iGp>BP,\n",
       " BP<pG<iG<dC,\n",
       " BP<pG<iG<uC,\n",
       " BP<pG<iG<iG,\n",
       " BP<pG<iGi>G,\n",
       " BP<pGi>G<dC,\n",
       " BP<pGi>G<uC,\n",
       " BP<pGi>G<iG,\n",
       " BP<pGi>Gi>G,\n",
       " Cd>Gp>BP<pG,\n",
       " Cd>G<dCd>G,\n",
       " Cd>G<dCu>G,\n",
       " Cd>G<uCd>G,\n",
       " Cd>G<uCu>G,\n",
       " Cd>G<iG<dC,\n",
       " Cd>G<iG<uC,\n",
       " Cd>G<iG<iG,\n",
       " Cd>G<iGi>G,\n",
       " Cd>Gi>G<uC,\n",
       " Cd>Gi>G<iG,\n",
       " Cd>Gi>Gi>G,\n",
       " Cu>Gp>BP<pG,\n",
       " Cu>G<dCd>G,\n",
       " Cu>G<dCu>G,\n",
       " Cu>G<uCd>G,\n",
       " Cu>G<uCu>G,\n",
       " Cu>G<iG<uC,\n",
       " Cu>G<iG<iG,\n",
       " Cu>G<iGi>G,\n",
       " Cu>Gi>G<iG,\n",
       " Cu>Gi>Gi>G,\n",
       " Gp>BP<pG<iG,\n",
       " Gp>BP<pGi>G,\n",
       " G<dCd>G<iG,\n",
       " G<dCd>Gi>G,\n",
       " G<dCu>G<iG,\n",
       " G<dCu>Gi>G,\n",
       " G<uCd>G<iG,\n",
       " G<uCd>Gi>G,\n",
       " G<uCu>G<iG,\n",
       " G<uCu>Gi>G,\n",
       " G<iG<iG<iG,\n",
       " G<iG<iGi>G,\n",
       " G<iGi>G<iG,\n",
       " Gi>G<iG<iG]"
      ]
     },
     "execution_count": 14,
     "metadata": {},
     "output_type": "execute_result"
    }
   ],
   "source": [
    "len_3_metapaths"
   ]
  },
  {
   "attachments": {},
   "cell_type": "markdown",
   "metadata": {},
   "source": [
    "Extract metapaths from a given source node type (and, optionally, to a target node type):"
   ]
  },
  {
   "cell_type": "code",
   "execution_count": 15,
   "metadata": {},
   "outputs": [
    {
     "data": {
      "text/plain": [
       "[Cd>Gp>BP,\n",
       " Cu>Gp>BP,\n",
       " Cd>G<iGp>BP,\n",
       " Cd>Gi>Gp>BP,\n",
       " Cu>G<iGp>BP,\n",
       " Cu>Gi>Gp>BP,\n",
       " Cd>Gp>BP<pGp>BP,\n",
       " Cd>G<dCd>Gp>BP,\n",
       " Cd>G<dCu>Gp>BP,\n",
       " Cd>G<uCd>Gp>BP,\n",
       " Cd>G<uCu>Gp>BP,\n",
       " Cd>G<iG<iGp>BP,\n",
       " Cd>G<iGi>Gp>BP,\n",
       " Cd>Gi>G<iGp>BP,\n",
       " Cd>Gi>Gi>Gp>BP,\n",
       " Cu>Gp>BP<pGp>BP,\n",
       " Cu>G<dCd>Gp>BP,\n",
       " Cu>G<dCu>Gp>BP,\n",
       " Cu>G<uCd>Gp>BP,\n",
       " Cu>G<uCu>Gp>BP,\n",
       " Cu>G<iG<iGp>BP,\n",
       " Cu>G<iGi>Gp>BP,\n",
       " Cu>Gi>G<iGp>BP,\n",
       " Cu>Gi>Gi>Gp>BP]"
      ]
     },
     "execution_count": 15,
     "metadata": {},
     "output_type": "execute_result"
    }
   ],
   "source": [
    "metagraph.extract_metapaths(source='Compound', target='Biological Process')"
   ]
  },
  {
   "cell_type": "code",
   "execution_count": null,
   "metadata": {},
   "outputs": [],
   "source": []
  }
 ],
 "metadata": {
  "kernelspec": {
   "display_name": "nesy_venv",
   "language": "python",
   "name": "python3"
  },
  "language_info": {
   "codemirror_mode": {
    "name": "ipython",
    "version": 3
   },
   "file_extension": ".py",
   "mimetype": "text/x-python",
   "name": "python",
   "nbconvert_exporter": "python",
   "pygments_lexer": "ipython3",
   "version": "3.9.6"
  },
  "orig_nbformat": 4
 },
 "nbformat": 4,
 "nbformat_minor": 2
}
