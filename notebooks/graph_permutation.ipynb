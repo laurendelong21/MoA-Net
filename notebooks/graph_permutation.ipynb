{
 "cells": [
  {
   "cell_type": "markdown",
   "metadata": {},
   "source": [
    "# Graph Permutation notebook\n",
    "\n",
    "Code adapted from https://github.com/drug2ways/drug2ways/blob/master/src/drug2ways/permute.py"
   ]
  },
  {
   "cell_type": "code",
   "execution_count": 1,
   "metadata": {},
   "outputs": [],
   "source": [
    "import os\n",
    "from tqdm import tqdm\n",
    "from collections import Counter\n",
    "\n",
    "import numpy as np\n",
    "import pandas as pd\n",
    "from xswap.permute import permute_edge_list\n",
    "from xswap.preprocessing import load_str_edges, map_str_edges"
   ]
  },
  {
   "cell_type": "markdown",
   "metadata": {},
   "source": [
    "# Load graph"
   ]
  },
  {
   "cell_type": "code",
   "execution_count": 2,
   "metadata": {},
   "outputs": [],
   "source": [
    "KG_DATA_PATH = '../data/kg'"
   ]
  },
  {
   "cell_type": "code",
   "execution_count": 3,
   "metadata": {},
   "outputs": [
    {
     "data": {
      "text/html": [
       "<div>\n",
       "<style scoped>\n",
       "    .dataframe tbody tr th:only-of-type {\n",
       "        vertical-align: middle;\n",
       "    }\n",
       "\n",
       "    .dataframe tbody tr th {\n",
       "        vertical-align: top;\n",
       "    }\n",
       "\n",
       "    .dataframe thead th {\n",
       "        text-align: right;\n",
       "    }\n",
       "</style>\n",
       "<table border=\"1\" class=\"dataframe\">\n",
       "  <thead>\n",
       "    <tr style=\"text-align: right;\">\n",
       "      <th></th>\n",
       "      <th>source</th>\n",
       "      <th>target</th>\n",
       "      <th>edge_type</th>\n",
       "    </tr>\n",
       "  </thead>\n",
       "  <tbody>\n",
       "    <tr>\n",
       "      <th>0</th>\n",
       "      <td>ncbigene:1436</td>\n",
       "      <td>ncbigene:5293</td>\n",
       "      <td>interacts</td>\n",
       "    </tr>\n",
       "    <tr>\n",
       "      <th>1</th>\n",
       "      <td>ncbigene:51077</td>\n",
       "      <td>ncbigene:51202</td>\n",
       "      <td>interacts</td>\n",
       "    </tr>\n",
       "  </tbody>\n",
       "</table>\n",
       "</div>"
      ],
      "text/plain": [
       "           source          target  edge_type\n",
       "0   ncbigene:1436   ncbigene:5293  interacts\n",
       "1  ncbigene:51077  ncbigene:51202  interacts"
      ]
     },
     "execution_count": 3,
     "metadata": {},
     "output_type": "execute_result"
    }
   ],
   "source": [
    "network_df = pd.read_csv(\n",
    "    os.path.join(KG_DATA_PATH, 'splits', 'kg_with_train_smpls.tsv'), sep='\\t',\n",
    "    usecols=['source', 'target', 'edge_type']\n",
    ")\n",
    "network_df.drop_duplicates(subset=['source', 'target'], inplace=True)\n",
    "network_df.head(2)"
   ]
  },
  {
   "cell_type": "code",
   "execution_count": 4,
   "metadata": {},
   "outputs": [
    {
     "data": {
      "text/plain": [
       "Counter({'interacts': 86786,\n",
       "         'participates': 4351,\n",
       "         'downregulates': 2200,\n",
       "         'upregulates': 1626,\n",
       "         'induces': 1111})"
      ]
     },
     "execution_count": 4,
     "metadata": {},
     "output_type": "execute_result"
    }
   ],
   "source": [
    "relations = network_df.edge_type\n",
    "Counter(relations)"
   ]
  },
  {
   "cell_type": "markdown",
   "metadata": {},
   "source": [
    "# Split data based on edge types\n",
    "\n",
    "Participates (gene-bp), induces (cmp-bp), other (ppi)"
   ]
  },
  {
   "cell_type": "code",
   "execution_count": 5,
   "metadata": {},
   "outputs": [
    {
     "data": {
      "text/plain": [
       "((90612, 3), (1111, 3), (4351, 3))"
      ]
     },
     "execution_count": 5,
     "metadata": {},
     "output_type": "execute_result"
    }
   ],
   "source": [
    "protein_df = network_df[~network_df['edge_type'].isin(['participates', 'induces'])]\n",
    "cmp_bp_df = network_df[network_df['edge_type'] == 'induces']\n",
    "gene_bp_df = network_df[network_df['edge_type'] == 'participates']\n",
    "\n",
    "protein_df.shape, cmp_bp_df.shape, gene_bp_df.shape"
   ]
  },
  {
   "cell_type": "code",
   "execution_count": 6,
   "metadata": {},
   "outputs": [],
   "source": [
    "protein_df.to_csv(os.path.join(KG_DATA_PATH, 'splits', 'kg_protein.tsv'), sep='\\t', index=False, header=False)\n",
    "cmp_bp_df.to_csv(os.path.join(KG_DATA_PATH, 'splits', 'kg_cmp_bp.tsv'), sep='\\t', index=False, header=False)\n",
    "gene_bp_df.to_csv(os.path.join(KG_DATA_PATH, 'splits', 'kg_gene_bp.tsv'), sep='\\t', index=False, header=False)"
   ]
  },
  {
   "cell_type": "markdown",
   "metadata": {},
   "source": [
    "# Generate permuted network"
   ]
  },
  {
   "cell_type": "code",
   "execution_count": 7,
   "metadata": {},
   "outputs": [
    {
     "name": "stderr",
     "output_type": "stream",
     "text": [
      "  0%|          | 0/3 [00:00<?, ?it/s]"
     ]
    },
    {
     "name": "stderr",
     "output_type": "stream",
     "text": [
      " 33%|███▎      | 1/3 [00:01<00:02,  1.18s/it]"
     ]
    },
    {
     "name": "stdout",
     "output_type": "stream",
     "text": [
      "{'swap_attempts': 906120, 'same_edge': 10, 'self_loop': 820, 'duplicate': 112658, 'undir_duplicate': 28669, 'excluded': 0}\n",
      "{'swap_attempts': 11110, 'same_edge': 21, 'self_loop': 0, 'duplicate': 6265, 'undir_duplicate': 0, 'excluded': 0}\n"
     ]
    },
    {
     "name": "stderr",
     "output_type": "stream",
     "text": [
      "100%|██████████| 3/3 [00:01<00:00,  2.36it/s]"
     ]
    },
    {
     "name": "stdout",
     "output_type": "stream",
     "text": [
      "{'swap_attempts': 43510, 'same_edge': 8, 'self_loop': 0, 'duplicate': 5879, 'undir_duplicate': 0, 'excluded': 0}\n"
     ]
    },
    {
     "name": "stderr",
     "output_type": "stream",
     "text": [
      "\n"
     ]
    }
   ],
   "source": [
    "final_data = []\n",
    "\n",
    "for subgrapgh in tqdm(['kg_protein', 'kg_cmp_bp', 'kg_gene_bp']):\n",
    "\n",
    "    network_df = pd.read_csv(\n",
    "        os.path.join(KG_DATA_PATH, 'splits', f'{subgrapgh}.tsv'), \n",
    "        sep='\\t',\n",
    "        names=['source', 'target', 'edge_type']\n",
    "    )\n",
    "    # Read edge list\n",
    "    edge_list = load_str_edges(\n",
    "        os.path.join(KG_DATA_PATH, 'splits', f'{subgrapgh}.tsv'), \n",
    "        node_delim='\\t',\n",
    "    )\n",
    "\n",
    "    # Get mapping since the edge list contains now integers\n",
    "    edge_list_integers, node_mapping, _ = map_str_edges(edge_list, bipartite=False)\n",
    "\n",
    "    permuted_edges, stats = permute_edge_list(edge_list_integers)\n",
    "    print(stats)\n",
    "\n",
    "    # Reverse mapping dictionary\n",
    "    node_mapping = {\n",
    "        v: k\n",
    "        for k, v in node_mapping.items()\n",
    "    }\n",
    "\n",
    "    relations = network_df.edge_type\n",
    "\n",
    "    permuted_rels = np.random.permutation(relations) # Get random edges\n",
    "\n",
    "    permuted_kg = pd.DataFrame({\n",
    "            'source': node_mapping[source],\n",
    "            'target': node_mapping[target],\n",
    "            'relation': permuted_rels[index],\n",
    "        }\n",
    "        for index, (source, target) in enumerate(permuted_edges)\n",
    "        if index < len(permuted_rels)  # Skip the header if has been read by xswap\n",
    "    )\n",
    "    final_data.append(permuted_kg)\n"
   ]
  },
  {
   "cell_type": "code",
   "execution_count": 8,
   "metadata": {},
   "outputs": [
    {
     "data": {
      "text/html": [
       "<div>\n",
       "<style scoped>\n",
       "    .dataframe tbody tr th:only-of-type {\n",
       "        vertical-align: middle;\n",
       "    }\n",
       "\n",
       "    .dataframe tbody tr th {\n",
       "        vertical-align: top;\n",
       "    }\n",
       "\n",
       "    .dataframe thead th {\n",
       "        text-align: right;\n",
       "    }\n",
       "</style>\n",
       "<table border=\"1\" class=\"dataframe\">\n",
       "  <thead>\n",
       "    <tr style=\"text-align: right;\">\n",
       "      <th></th>\n",
       "      <th>source</th>\n",
       "      <th>target</th>\n",
       "      <th>relation</th>\n",
       "    </tr>\n",
       "  </thead>\n",
       "  <tbody>\n",
       "    <tr>\n",
       "      <th>0</th>\n",
       "      <td>ncbigene:1436</td>\n",
       "      <td>ncbigene:3359</td>\n",
       "      <td>interacts</td>\n",
       "    </tr>\n",
       "    <tr>\n",
       "      <th>1</th>\n",
       "      <td>ncbigene:51077</td>\n",
       "      <td>ncbigene:6812</td>\n",
       "      <td>interacts</td>\n",
       "    </tr>\n",
       "  </tbody>\n",
       "</table>\n",
       "</div>"
      ],
      "text/plain": [
       "           source         target   relation\n",
       "0   ncbigene:1436  ncbigene:3359  interacts\n",
       "1  ncbigene:51077  ncbigene:6812  interacts"
      ]
     },
     "execution_count": 8,
     "metadata": {},
     "output_type": "execute_result"
    }
   ],
   "source": [
    "permuted_kg = pd.concat(final_data)\n",
    "permuted_kg.head(2)"
   ]
  },
  {
   "cell_type": "code",
   "execution_count": 9,
   "metadata": {},
   "outputs": [],
   "source": [
    "permuted_kg.to_csv(os.path.join(KG_DATA_PATH, 'splits', 'moa_net_full_permuted.tsv'), sep='\\t', index=False)"
   ]
  },
  {
   "cell_type": "code",
   "execution_count": null,
   "metadata": {},
   "outputs": [],
   "source": []
  }
 ],
 "metadata": {
  "kernelspec": {
   "display_name": "neurosym-mech",
   "language": "python",
   "name": "python3"
  },
  "language_info": {
   "codemirror_mode": {
    "name": "ipython",
    "version": 3
   },
   "file_extension": ".py",
   "mimetype": "text/x-python",
   "name": "python",
   "nbconvert_exporter": "python",
   "pygments_lexer": "ipython3",
   "version": "3.9.16"
  },
  "orig_nbformat": 4
 },
 "nbformat": 4,
 "nbformat_minor": 2
}
