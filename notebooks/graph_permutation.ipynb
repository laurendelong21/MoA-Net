{
 "cells": [
  {
   "cell_type": "markdown",
   "metadata": {},
   "source": [
    "# Graph Permutation notebook\n",
    "\n",
    "Code adapted from https://github.com/drug2ways/drug2ways/blob/master/src/drug2ways/permute.py"
   ]
  },
  {
   "cell_type": "code",
   "execution_count": 1,
   "metadata": {},
   "outputs": [],
   "source": [
    "import os\n",
    "from tqdm import tqdm\n",
    "from collections import Counter\n",
    "\n",
    "import numpy as np\n",
    "import pandas as pd\n",
    "from xswap.permute import permute_edge_list\n",
    "from xswap.preprocessing import load_str_edges, map_str_edges"
   ]
  },
  {
   "cell_type": "markdown",
   "metadata": {},
   "source": [
    "# Load graph"
   ]
  },
  {
   "cell_type": "code",
   "execution_count": 2,
   "metadata": {},
   "outputs": [],
   "source": [
    "KG_DATA_PATH = '../data/kg'"
   ]
  },
  {
   "cell_type": "code",
   "execution_count": 3,
   "metadata": {},
   "outputs": [
    {
     "data": {
      "text/html": [
       "<div>\n",
       "<style scoped>\n",
       "    .dataframe tbody tr th:only-of-type {\n",
       "        vertical-align: middle;\n",
       "    }\n",
       "\n",
       "    .dataframe tbody tr th {\n",
       "        vertical-align: top;\n",
       "    }\n",
       "\n",
       "    .dataframe thead th {\n",
       "        text-align: right;\n",
       "    }\n",
       "</style>\n",
       "<table border=\"1\" class=\"dataframe\">\n",
       "  <thead>\n",
       "    <tr style=\"text-align: right;\">\n",
       "      <th></th>\n",
       "      <th>source</th>\n",
       "      <th>target</th>\n",
       "      <th>edge_type</th>\n",
       "    </tr>\n",
       "  </thead>\n",
       "  <tbody>\n",
       "    <tr>\n",
       "      <th>0</th>\n",
       "      <td>ncbigene:10325</td>\n",
       "      <td>ncbigene:57521</td>\n",
       "      <td>interacts</td>\n",
       "    </tr>\n",
       "    <tr>\n",
       "      <th>1</th>\n",
       "      <td>ncbigene:7048</td>\n",
       "      <td>ncbigene:7021</td>\n",
       "      <td>interacts</td>\n",
       "    </tr>\n",
       "  </tbody>\n",
       "</table>\n",
       "</div>"
      ],
      "text/plain": [
       "           source          target  edge_type\n",
       "0  ncbigene:10325  ncbigene:57521  interacts\n",
       "1   ncbigene:7048   ncbigene:7021  interacts"
      ]
     },
     "execution_count": 3,
     "metadata": {},
     "output_type": "execute_result"
    }
   ],
   "source": [
    "network_df = pd.read_csv(\n",
    "    os.path.join(KG_DATA_PATH, 'splits', 'kg_with_train_smpls.tsv'), sep='\\t',\n",
    "    usecols=['source', 'target', 'edge_type']\n",
    ")\n",
    "network_df.drop_duplicates(subset=['source', 'target'], inplace=True)\n",
    "network_df.head(2)"
   ]
  },
  {
   "cell_type": "code",
   "execution_count": 4,
   "metadata": {},
   "outputs": [
    {
     "data": {
      "text/plain": [
       "Counter({'interacts': 86786,\n",
       "         'participates': 4325,\n",
       "         'upregulates': 1626,\n",
       "         'downregulates': 2200,\n",
       "         'induces': 1002})"
      ]
     },
     "execution_count": 4,
     "metadata": {},
     "output_type": "execute_result"
    }
   ],
   "source": [
    "relations = network_df.edge_type\n",
    "Counter(relations)"
   ]
  },
  {
   "cell_type": "markdown",
   "metadata": {},
   "source": [
    "# Split data based on edge types\n",
    "\n",
    "Participates (gene-bp), induces (cmp-bp), other (ppi)"
   ]
  },
  {
   "cell_type": "code",
   "execution_count": 5,
   "metadata": {},
   "outputs": [
    {
     "data": {
      "text/plain": [
       "((86786, 3), (1002, 3), (4325, 3), (3826, 3))"
      ]
     },
     "execution_count": 5,
     "metadata": {},
     "output_type": "execute_result"
    }
   ],
   "source": [
    "protein_df = network_df[network_df['edge_type'] == 'interacts']\n",
    "cmp_bp_df = network_df[network_df['edge_type'] == 'induces']\n",
    "gene_bp_df = network_df[network_df['edge_type'] == 'participates']\n",
    "drug_gene_df = network_df[network_df['edge_type'].isin({'downregulates', 'upregulates'})]\n",
    "\n",
    "protein_df.shape, cmp_bp_df.shape, gene_bp_df.shape, drug_gene_df.shape"
   ]
  },
  {
   "cell_type": "code",
   "execution_count": 6,
   "metadata": {},
   "outputs": [],
   "source": [
    "protein_df.to_csv(os.path.join(KG_DATA_PATH, 'splits', 'kg_protein.tsv'), sep='\\t', index=False, header=False)\n",
    "cmp_bp_df.to_csv(os.path.join(KG_DATA_PATH, 'splits', 'kg_cmp_bp.tsv'), sep='\\t', index=False, header=False)\n",
    "gene_bp_df.to_csv(os.path.join(KG_DATA_PATH, 'splits', 'kg_gene_bp.tsv'), sep='\\t', index=False, header=False)\n",
    "drug_gene_df.to_csv(os.path.join(KG_DATA_PATH, 'splits', 'kg_drug_gene.tsv'), sep='\\t', index=False, header=False)"
   ]
  },
  {
   "cell_type": "markdown",
   "metadata": {},
   "source": [
    "# Generate permuted network"
   ]
  },
  {
   "cell_type": "code",
   "execution_count": 7,
   "metadata": {},
   "outputs": [
    {
     "name": "stderr",
     "output_type": "stream",
     "text": [
      " 25%|██▌       | 1/4 [00:01<00:04,  1.43s/it]"
     ]
    },
    {
     "name": "stdout",
     "output_type": "stream",
     "text": [
      "{'swap_attempts': 867860, 'same_edge': 8, 'self_loop': 806, 'duplicate': 114895, 'undir_duplicate': 28833, 'excluded': 0}\n"
     ]
    },
    {
     "name": "stderr",
     "output_type": "stream",
     "text": [
      "100%|██████████| 4/4 [00:01<00:00,  2.60it/s]"
     ]
    },
    {
     "name": "stdout",
     "output_type": "stream",
     "text": [
      "{'swap_attempts': 10020, 'same_edge': 10, 'self_loop': 0, 'duplicate': 5623, 'undir_duplicate': 0, 'excluded': 0}\n",
      "{'swap_attempts': 43250, 'same_edge': 7, 'self_loop': 0, 'duplicate': 5940, 'undir_duplicate': 0, 'excluded': 0}\n",
      "{'swap_attempts': 38260, 'same_edge': 8, 'self_loop': 0, 'duplicate': 7093, 'undir_duplicate': 0, 'excluded': 0}\n"
     ]
    },
    {
     "name": "stderr",
     "output_type": "stream",
     "text": [
      "\n"
     ]
    }
   ],
   "source": [
    "final_data = []\n",
    "\n",
    "for subgrapgh in tqdm(['kg_protein', 'kg_cmp_bp', 'kg_gene_bp', 'kg_drug_gene']):\n",
    "\n",
    "    network_df = pd.read_csv(\n",
    "        os.path.join(KG_DATA_PATH, 'splits', f'{subgrapgh}.tsv'), \n",
    "        sep='\\t',\n",
    "        names=['source', 'target', 'edge_type']\n",
    "    )\n",
    "    # Read edge list\n",
    "    edge_list = load_str_edges(\n",
    "        os.path.join(KG_DATA_PATH, 'splits', f'{subgrapgh}.tsv'), \n",
    "        node_delim='\\t',\n",
    "    )\n",
    "\n",
    "    # Get mapping since the edge list contains now integers\n",
    "    edge_list_integers, node_mapping, _ = map_str_edges(edge_list, bipartite=False)\n",
    "\n",
    "    np.random.seed(123)  # Set seed for reproducibility\n",
    "    permuted_edges, stats = permute_edge_list(edge_list_integers)\n",
    "    print(stats)\n",
    "\n",
    "    # Reverse mapping dictionary\n",
    "    node_mapping = {\n",
    "        v: k\n",
    "        for k, v in node_mapping.items()\n",
    "    }\n",
    "\n",
    "    relations = network_df.edge_type\n",
    "\n",
    "    permuted_rels = np.random.permutation(relations, ) # Get random edges\n",
    "\n",
    "    permuted_kg = pd.DataFrame({\n",
    "            'source': node_mapping[source],\n",
    "            'target': node_mapping[target],\n",
    "            'relation': permuted_rels[index],\n",
    "        }\n",
    "        for index, (source, target) in enumerate(permuted_edges)\n",
    "        if index < len(permuted_rels)  # Skip the header if has been read by xswap\n",
    "    )\n",
    "    final_data.append(permuted_kg)\n"
   ]
  },
  {
   "cell_type": "code",
   "execution_count": 8,
   "metadata": {},
   "outputs": [
    {
     "data": {
      "text/html": [
       "<div>\n",
       "<style scoped>\n",
       "    .dataframe tbody tr th:only-of-type {\n",
       "        vertical-align: middle;\n",
       "    }\n",
       "\n",
       "    .dataframe tbody tr th {\n",
       "        vertical-align: top;\n",
       "    }\n",
       "\n",
       "    .dataframe thead th {\n",
       "        text-align: right;\n",
       "    }\n",
       "</style>\n",
       "<table border=\"1\" class=\"dataframe\">\n",
       "  <thead>\n",
       "    <tr style=\"text-align: right;\">\n",
       "      <th></th>\n",
       "      <th>source</th>\n",
       "      <th>target</th>\n",
       "      <th>edge_type</th>\n",
       "    </tr>\n",
       "  </thead>\n",
       "  <tbody>\n",
       "    <tr>\n",
       "      <th>0</th>\n",
       "      <td>ncbigene:10325</td>\n",
       "      <td>ncbigene:8722</td>\n",
       "      <td>interacts</td>\n",
       "    </tr>\n",
       "    <tr>\n",
       "      <th>1</th>\n",
       "      <td>ncbigene:7048</td>\n",
       "      <td>ncbigene:4853</td>\n",
       "      <td>interacts</td>\n",
       "    </tr>\n",
       "  </tbody>\n",
       "</table>\n",
       "</div>"
      ],
      "text/plain": [
       "           source         target  edge_type\n",
       "0  ncbigene:10325  ncbigene:8722  interacts\n",
       "1   ncbigene:7048  ncbigene:4853  interacts"
      ]
     },
     "execution_count": 8,
     "metadata": {},
     "output_type": "execute_result"
    }
   ],
   "source": [
    "permuted_kg = pd.concat(final_data)\n",
    "permuted_kg.rename(columns={'relation': 'edge_type'}, inplace=True)\n",
    "permuted_kg.head(2)"
   ]
  },
  {
   "cell_type": "code",
   "execution_count": 9,
   "metadata": {},
   "outputs": [],
   "source": [
    "def map_to_nodetype(id):\n",
    "    if 'ncbigene:' in id:\n",
    "        return 'Gene'\n",
    "    elif 'GO:' in id:\n",
    "        return 'Biological Process'\n",
    "    elif 'pubchem' in id:\n",
    "        return 'Compound'\n",
    "    else:\n",
    "        raise ValueError(f'Unknown node type for {id}')"
   ]
  },
  {
   "cell_type": "code",
   "execution_count": 10,
   "metadata": {},
   "outputs": [],
   "source": [
    "permuted_kg['source_node_type'] = [map_to_nodetype(i) for i in permuted_kg['source']]\n",
    "permuted_kg['target_node_type'] = [map_to_nodetype(i) for i in permuted_kg['target']]"
   ]
  },
  {
   "cell_type": "code",
   "execution_count": 11,
   "metadata": {},
   "outputs": [],
   "source": [
    "permuted_kg.to_csv(os.path.join(KG_DATA_PATH, 'splits', 'moa_net_full_permuted.tsv'), sep='\\t', index=False)"
   ]
  },
  {
   "cell_type": "code",
   "execution_count": null,
   "metadata": {},
   "outputs": [],
   "source": []
  }
 ],
 "metadata": {
  "kernelspec": {
   "display_name": "mln_env",
   "language": "python",
   "name": "mln_env"
  },
  "language_info": {
   "codemirror_mode": {
    "name": "ipython",
    "version": 3
   },
   "file_extension": ".py",
   "mimetype": "text/x-python",
   "name": "python",
   "nbconvert_exporter": "python",
   "pygments_lexer": "ipython3",
   "version": "3.6.9"
  },
  "orig_nbformat": 4
 },
 "nbformat": 4,
 "nbformat_minor": 2
}
