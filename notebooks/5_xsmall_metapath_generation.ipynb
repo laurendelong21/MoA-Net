{
 "cells": [
  {
   "attachments": {},
   "cell_type": "markdown",
   "metadata": {},
   "source": [
    "# Metagraph and Metapath Generation\n",
    "\n",
    "Here, we use the same syntax as [HetNetPy](https://github.com/hetio/hetnetpy/tree/e1ff1f8296b766dd5a63e5870a8a1a7d82427a80) to create a metagraph and extract metapaths from the KG.\n",
    "\n",
    "Metagraph creation is based on [this notebook](https://github.com/dhimmel/integrate/blob/93feba1765fbcd76fd79e22f25121f5399629148/integrate.ipynb)."
   ]
  },
  {
   "cell_type": "code",
   "execution_count": 1,
   "metadata": {},
   "outputs": [],
   "source": [
    "import pandas as pd\n",
    "import seaborn as sns\n",
    "import os.path as osp\n",
    "import os\n",
    "\n",
    "import hetnetpy.hetnet\n",
    "import hetnetpy.readwrite\n",
    "import hetnetpy.stats\n",
    "\n",
    "from hetnetpy.abbreviation import metaedges_from_metapath\n",
    "import re\n",
    "import json\n",
    "from collections import Counter\n",
    "\n",
    "%matplotlib inline"
   ]
  },
  {
   "attachments": {},
   "cell_type": "markdown",
   "metadata": {},
   "source": [
    "### Define and Instantiate Metagraph:"
   ]
  },
  {
   "cell_type": "code",
   "execution_count": 2,
   "metadata": {},
   "outputs": [],
   "source": [
    "kind_to_abbev = {\n",
    "    \n",
    "    # metanodes\n",
    "    'Compound': 'C',\n",
    "    'Gene': 'G',\n",
    "    'Biological Process': 'BP',\n",
    "    \n",
    "    # metaedges\n",
    "    'upregulates': 'u',\n",
    "    'downregulates': 'd',\n",
    "    'interacts': 'i',\n",
    "    'participates': 'p',\n",
    "    'induces': 't',\n",
    "}\n",
    "\n",
    "metaedge_tuples = [\n",
    "    ('Compound', 'Gene', 'upregulates', 'forward'),\n",
    "    ('Compound', 'Gene', 'downregulates', 'forward'),\n",
    "    ('Gene', 'Gene', 'interacts', 'forward'),\n",
    "    ('Gene', 'Biological Process', 'participates', 'forward'),\n",
    "    ('Compound', 'Biological Process', 'induces', 'forward')\n",
    "]\n",
    "\n",
    "metagraph = hetnetpy.hetnet.MetaGraph.from_edge_tuples(metaedge_tuples, kind_to_abbev)\n",
    "graph = hetnetpy.hetnet.Graph(metagraph)"
   ]
  },
  {
   "cell_type": "code",
   "execution_count": 3,
   "metadata": {},
   "outputs": [],
   "source": [
    "KG_DIR = '../data/kg/'\n",
    "SPLITS_DIR = osp.join(KG_DIR, 'splits')\n",
    "MOA_NET_DIR = osp.join(SPLITS_DIR, 'MoA-net-XSmall')\n",
    "MARS_DIR = osp.join(MOA_NET_DIR, 'MARS')\n",
    "\n",
    "for dir in [KG_DIR, SPLITS_DIR, MOA_NET_DIR, MARS_DIR]:\n",
    "    if not osp.exists(dir):\n",
    "        os.makedirs(dir)\n",
    "\n",
    "kg = pd.read_csv(osp.join(MOA_NET_DIR, 'kg_no_cmp_bp.tsv'), sep='\\t')"
   ]
  },
  {
   "cell_type": "code",
   "execution_count": 4,
   "metadata": {},
   "outputs": [
    {
     "data": {
      "text/html": [
       "<div>\n",
       "<style scoped>\n",
       "    .dataframe tbody tr th:only-of-type {\n",
       "        vertical-align: middle;\n",
       "    }\n",
       "\n",
       "    .dataframe tbody tr th {\n",
       "        vertical-align: top;\n",
       "    }\n",
       "\n",
       "    .dataframe thead th {\n",
       "        text-align: right;\n",
       "    }\n",
       "</style>\n",
       "<table border=\"1\" class=\"dataframe\">\n",
       "  <thead>\n",
       "    <tr style=\"text-align: right;\">\n",
       "      <th></th>\n",
       "      <th>source</th>\n",
       "      <th>target</th>\n",
       "      <th>edge_type</th>\n",
       "      <th>source_node_type</th>\n",
       "      <th>target_node_type</th>\n",
       "    </tr>\n",
       "  </thead>\n",
       "  <tbody>\n",
       "  </tbody>\n",
       "</table>\n",
       "</div>"
      ],
      "text/plain": [
       "Empty DataFrame\n",
       "Columns: [source, target, edge_type, source_node_type, target_node_type]\n",
       "Index: []"
      ]
     },
     "execution_count": 4,
     "metadata": {},
     "output_type": "execute_result"
    }
   ],
   "source": [
    "# show me the duplicated rows in the dataframe\n",
    "kg[kg.duplicated(keep=False)]"
   ]
  },
  {
   "cell_type": "code",
   "execution_count": 5,
   "metadata": {},
   "outputs": [
    {
     "data": {
      "text/plain": [
       "0       False\n",
       "1       False\n",
       "2       False\n",
       "3       False\n",
       "4       False\n",
       "        ...  \n",
       "8055    False\n",
       "8056    False\n",
       "8057    False\n",
       "8058    False\n",
       "8059    False\n",
       "Length: 8060, dtype: bool"
      ]
     },
     "execution_count": 5,
     "metadata": {},
     "output_type": "execute_result"
    }
   ],
   "source": [
    "kg.duplicated()"
   ]
  },
  {
   "cell_type": "code",
   "execution_count": 6,
   "metadata": {},
   "outputs": [
    {
     "data": {
      "text/html": [
       "<div>\n",
       "<style scoped>\n",
       "    .dataframe tbody tr th:only-of-type {\n",
       "        vertical-align: middle;\n",
       "    }\n",
       "\n",
       "    .dataframe tbody tr th {\n",
       "        vertical-align: top;\n",
       "    }\n",
       "\n",
       "    .dataframe thead th {\n",
       "        text-align: right;\n",
       "    }\n",
       "</style>\n",
       "<table border=\"1\" class=\"dataframe\">\n",
       "  <thead>\n",
       "    <tr style=\"text-align: right;\">\n",
       "      <th></th>\n",
       "      <th>source</th>\n",
       "      <th>target</th>\n",
       "      <th>edge_type</th>\n",
       "      <th>source_node_type</th>\n",
       "      <th>target_node_type</th>\n",
       "    </tr>\n",
       "  </thead>\n",
       "  <tbody>\n",
       "    <tr>\n",
       "      <th>0</th>\n",
       "      <td>ncbigene:6622</td>\n",
       "      <td>ncbigene:6477</td>\n",
       "      <td>interacts</td>\n",
       "      <td>Gene</td>\n",
       "      <td>Gene</td>\n",
       "    </tr>\n",
       "    <tr>\n",
       "      <th>1</th>\n",
       "      <td>ncbigene:6622</td>\n",
       "      <td>GO:0043065</td>\n",
       "      <td>participates</td>\n",
       "      <td>Gene</td>\n",
       "      <td>Biological Process</td>\n",
       "    </tr>\n",
       "    <tr>\n",
       "      <th>2</th>\n",
       "      <td>ncbigene:3308</td>\n",
       "      <td>GO:0006457</td>\n",
       "      <td>participates</td>\n",
       "      <td>Gene</td>\n",
       "      <td>Biological Process</td>\n",
       "    </tr>\n",
       "    <tr>\n",
       "      <th>3</th>\n",
       "      <td>ncbigene:2885</td>\n",
       "      <td>GO:0007165</td>\n",
       "      <td>participates</td>\n",
       "      <td>Gene</td>\n",
       "      <td>Biological Process</td>\n",
       "    </tr>\n",
       "    <tr>\n",
       "      <th>4</th>\n",
       "      <td>ncbigene:5295</td>\n",
       "      <td>GO:0050821</td>\n",
       "      <td>participates</td>\n",
       "      <td>Gene</td>\n",
       "      <td>Biological Process</td>\n",
       "    </tr>\n",
       "  </tbody>\n",
       "</table>\n",
       "</div>"
      ],
      "text/plain": [
       "          source         target     edge_type source_node_type  \\\n",
       "0  ncbigene:6622  ncbigene:6477     interacts             Gene   \n",
       "1  ncbigene:6622     GO:0043065  participates             Gene   \n",
       "2  ncbigene:3308     GO:0006457  participates             Gene   \n",
       "3  ncbigene:2885     GO:0007165  participates             Gene   \n",
       "4  ncbigene:5295     GO:0050821  participates             Gene   \n",
       "\n",
       "     target_node_type  \n",
       "0                Gene  \n",
       "1  Biological Process  \n",
       "2  Biological Process  \n",
       "3  Biological Process  \n",
       "4  Biological Process  "
      ]
     },
     "execution_count": 6,
     "metadata": {},
     "output_type": "execute_result"
    }
   ],
   "source": [
    "kg.head()"
   ]
  },
  {
   "cell_type": "code",
   "execution_count": 7,
   "metadata": {},
   "outputs": [],
   "source": [
    "seen = set()\n",
    "\n",
    "for i, row in kg.iterrows():\n",
    "    if not row['source'] in seen:\n",
    "        graph.add_node(kind=row['source_node_type'], identifier=row['source'])\n",
    "        seen.add(row['source'])\n",
    "    if not row['target'] in seen:\n",
    "        graph.add_node(kind=row['target_node_type'], identifier=row['target'])\n",
    "        seen.add(row['target'])\n",
    "\n",
    "    src_id = row['source_node_type'], row['source']\n",
    "    trgt_id = row['target_node_type'], row['target']\n",
    "\n",
    "    graph.add_edge(source_id=src_id, target_id=trgt_id, kind=row['edge_type'], direction='forward')"
   ]
  },
  {
   "attachments": {},
   "cell_type": "markdown",
   "metadata": {},
   "source": [
    "## Network Visualization and Stats"
   ]
  },
  {
   "cell_type": "code",
   "execution_count": 8,
   "metadata": {},
   "outputs": [
    {
     "data": {
      "text/html": [
       "<div>\n",
       "<style scoped>\n",
       "    .dataframe tbody tr th:only-of-type {\n",
       "        vertical-align: middle;\n",
       "    }\n",
       "\n",
       "    .dataframe tbody tr th {\n",
       "        vertical-align: top;\n",
       "    }\n",
       "\n",
       "    .dataframe thead th {\n",
       "        text-align: right;\n",
       "    }\n",
       "</style>\n",
       "<table border=\"1\" class=\"dataframe\">\n",
       "  <thead>\n",
       "    <tr style=\"text-align: right;\">\n",
       "      <th></th>\n",
       "      <th>metanode</th>\n",
       "      <th>abbreviation</th>\n",
       "      <th>metaedges</th>\n",
       "      <th>nodes</th>\n",
       "      <th>unconnected_nodes</th>\n",
       "    </tr>\n",
       "  </thead>\n",
       "  <tbody>\n",
       "    <tr>\n",
       "      <th>1</th>\n",
       "      <td>Biological Process</td>\n",
       "      <td>BP</td>\n",
       "      <td>2</td>\n",
       "      <td>73</td>\n",
       "      <td>0</td>\n",
       "    </tr>\n",
       "    <tr>\n",
       "      <th>2</th>\n",
       "      <td>Compound</td>\n",
       "      <td>C</td>\n",
       "      <td>3</td>\n",
       "      <td>256</td>\n",
       "      <td>0</td>\n",
       "    </tr>\n",
       "    <tr>\n",
       "      <th>0</th>\n",
       "      <td>Gene</td>\n",
       "      <td>G</td>\n",
       "      <td>4</td>\n",
       "      <td>3176</td>\n",
       "      <td>0</td>\n",
       "    </tr>\n",
       "  </tbody>\n",
       "</table>\n",
       "</div>"
      ],
      "text/plain": [
       "             metanode abbreviation  metaedges  nodes  unconnected_nodes\n",
       "1  Biological Process           BP          2     73                  0\n",
       "2            Compound            C          3    256                  0\n",
       "0                Gene            G          4   3176                  0"
      ]
     },
     "execution_count": 8,
     "metadata": {},
     "output_type": "execute_result"
    }
   ],
   "source": [
    "metanode_df = hetnetpy.stats.get_metanode_df(graph)\n",
    "metanode_df"
   ]
  },
  {
   "cell_type": "code",
   "execution_count": 9,
   "metadata": {},
   "outputs": [
    {
     "data": {
      "image/png": "[encoded data removed]",
      "text/plain": [
       "<Figure size 640x480 with 1 Axes>"
      ]
     },
     "metadata": {},
     "output_type": "display_data"
    }
   ],
   "source": [
    "ax = sns.barplot(x='metanode', y='nodes', data=metanode_df.sort_values('nodes'))\n",
    "for tick in ax.get_xticklabels():\n",
    "    tick.set_rotation(90)\n",
    "ax.set_xlabel(''); ax.set_ylabel('nodes');"
   ]
  },
  {
   "cell_type": "code",
   "execution_count": 10,
   "metadata": {},
   "outputs": [
    {
     "data": {
      "text/plain": [
       "3505"
      ]
     },
     "execution_count": 10,
     "metadata": {},
     "output_type": "execute_result"
    }
   ],
   "source": [
    "# Total number of nodes\n",
    "metanode_df.nodes.sum()"
   ]
  },
  {
   "cell_type": "code",
   "execution_count": 11,
   "metadata": {},
   "outputs": [
    {
     "data": {
      "text/html": [
       "<div>\n",
       "<style scoped>\n",
       "    .dataframe tbody tr th:only-of-type {\n",
       "        vertical-align: middle;\n",
       "    }\n",
       "\n",
       "    .dataframe tbody tr th {\n",
       "        vertical-align: top;\n",
       "    }\n",
       "\n",
       "    .dataframe thead th {\n",
       "        text-align: right;\n",
       "    }\n",
       "</style>\n",
       "<table border=\"1\" class=\"dataframe\">\n",
       "  <thead>\n",
       "    <tr style=\"text-align: right;\">\n",
       "      <th></th>\n",
       "      <th>metaedge</th>\n",
       "      <th>abbreviation</th>\n",
       "      <th>edges</th>\n",
       "      <th>source_nodes</th>\n",
       "      <th>target_nodes</th>\n",
       "    </tr>\n",
       "  </thead>\n",
       "  <tbody>\n",
       "    <tr>\n",
       "      <th>1</th>\n",
       "      <td>Compound &gt; downregulates &gt; Gene</td>\n",
       "      <td>Cd&gt;G</td>\n",
       "      <td>1260</td>\n",
       "      <td>231</td>\n",
       "      <td>460</td>\n",
       "    </tr>\n",
       "    <tr>\n",
       "      <th>4</th>\n",
       "      <td>Compound &gt; induces &gt; Biological Process</td>\n",
       "      <td>Ct&gt;BP</td>\n",
       "      <td>0</td>\n",
       "      <td>0</td>\n",
       "      <td>0</td>\n",
       "    </tr>\n",
       "    <tr>\n",
       "      <th>0</th>\n",
       "      <td>Compound &gt; upregulates &gt; Gene</td>\n",
       "      <td>Cu&gt;G</td>\n",
       "      <td>837</td>\n",
       "      <td>146</td>\n",
       "      <td>435</td>\n",
       "    </tr>\n",
       "    <tr>\n",
       "      <th>2</th>\n",
       "      <td>Gene &gt; interacts &gt; Gene</td>\n",
       "      <td>Gi&gt;G</td>\n",
       "      <td>3868</td>\n",
       "      <td>2336</td>\n",
       "      <td>1068</td>\n",
       "    </tr>\n",
       "    <tr>\n",
       "      <th>3</th>\n",
       "      <td>Gene &gt; participates &gt; Biological Process</td>\n",
       "      <td>Gp&gt;BP</td>\n",
       "      <td>2095</td>\n",
       "      <td>1474</td>\n",
       "      <td>73</td>\n",
       "    </tr>\n",
       "  </tbody>\n",
       "</table>\n",
       "</div>"
      ],
      "text/plain": [
       "                                   metaedge abbreviation  edges  source_nodes  \\\n",
       "1           Compound > downregulates > Gene         Cd>G   1260           231   \n",
       "4   Compound > induces > Biological Process        Ct>BP      0             0   \n",
       "0             Compound > upregulates > Gene         Cu>G    837           146   \n",
       "2                   Gene > interacts > Gene         Gi>G   3868          2336   \n",
       "3  Gene > participates > Biological Process        Gp>BP   2095          1474   \n",
       "\n",
       "   target_nodes  \n",
       "1           460  \n",
       "4             0  \n",
       "0           435  \n",
       "2          1068  \n",
       "3            73  "
      ]
     },
     "execution_count": 11,
     "metadata": {},
     "output_type": "execute_result"
    }
   ],
   "source": [
    "# Summary of metaedges and cooresponding edges\n",
    "metaedge_df = hetnetpy.stats.get_metaedge_df(graph)\n",
    "\n",
    "metaedge_df"
   ]
  },
  {
   "cell_type": "code",
   "execution_count": 12,
   "metadata": {},
   "outputs": [],
   "source": [
    "metaedge_df.to_excel('../paper_materials/metaedge_df.xlsx')"
   ]
  },
  {
   "cell_type": "code",
   "execution_count": 13,
   "metadata": {},
   "outputs": [
    {
     "data": {
      "image/png": "[encoded data removed]",
      "text/plain": [
       "<Figure size 640x480 with 1 Axes>"
      ]
     },
     "metadata": {},
     "output_type": "display_data"
    }
   ],
   "source": [
    "ax = sns.barplot(x='abbreviation', y='edges', data=metaedge_df.sort_values('edges'))\n",
    "for tick in ax.get_xticklabels():\n",
    "    tick.set_rotation(90)\n",
    "ax.set_xlabel(''); ax.set_ylabel('edges');"
   ]
  },
  {
   "cell_type": "code",
   "execution_count": 14,
   "metadata": {},
   "outputs": [
    {
     "data": {
      "text/html": [
       "<div>\n",
       "<style scoped>\n",
       "    .dataframe tbody tr th:only-of-type {\n",
       "        vertical-align: middle;\n",
       "    }\n",
       "\n",
       "    .dataframe tbody tr th {\n",
       "        vertical-align: top;\n",
       "    }\n",
       "\n",
       "    .dataframe thead th {\n",
       "        text-align: right;\n",
       "    }\n",
       "</style>\n",
       "<table border=\"1\" class=\"dataframe\">\n",
       "  <thead>\n",
       "    <tr style=\"text-align: right;\">\n",
       "      <th></th>\n",
       "      <th>metaedge</th>\n",
       "      <th>unicode_metaedge</th>\n",
       "      <th>standard_metaedge</th>\n",
       "      <th>abbreviation</th>\n",
       "      <th>standard_abbreviation</th>\n",
       "      <th>source</th>\n",
       "      <th>target</th>\n",
       "      <th>inverted</th>\n",
       "    </tr>\n",
       "  </thead>\n",
       "  <tbody>\n",
       "    <tr>\n",
       "      <th>9</th>\n",
       "      <td>Biological Process &lt; induces &lt; Compound</td>\n",
       "      <td>Biological Process←induces←Compound</td>\n",
       "      <td>Compound &gt; induces &gt; Biological Process</td>\n",
       "      <td>BP&lt;tC</td>\n",
       "      <td>CtBP</td>\n",
       "      <td>Biological Process</td>\n",
       "      <td>Compound</td>\n",
       "      <td>1</td>\n",
       "    </tr>\n",
       "    <tr>\n",
       "      <th>7</th>\n",
       "      <td>Biological Process &lt; participates &lt; Gene</td>\n",
       "      <td>Biological Process←participates←Gene</td>\n",
       "      <td>Gene &gt; participates &gt; Biological Process</td>\n",
       "      <td>BP&lt;pG</td>\n",
       "      <td>GpBP</td>\n",
       "      <td>Biological Process</td>\n",
       "      <td>Gene</td>\n",
       "      <td>1</td>\n",
       "    </tr>\n",
       "    <tr>\n",
       "      <th>2</th>\n",
       "      <td>Compound &gt; downregulates &gt; Gene</td>\n",
       "      <td>Compound→downregulates→Gene</td>\n",
       "      <td>Compound &gt; downregulates &gt; Gene</td>\n",
       "      <td>Cd&gt;G</td>\n",
       "      <td>CdG</td>\n",
       "      <td>Compound</td>\n",
       "      <td>Gene</td>\n",
       "      <td>0</td>\n",
       "    </tr>\n",
       "    <tr>\n",
       "      <th>8</th>\n",
       "      <td>Compound &gt; induces &gt; Biological Process</td>\n",
       "      <td>Compound→induces→Biological Process</td>\n",
       "      <td>Compound &gt; induces &gt; Biological Process</td>\n",
       "      <td>Ct&gt;BP</td>\n",
       "      <td>CtBP</td>\n",
       "      <td>Compound</td>\n",
       "      <td>Biological Process</td>\n",
       "      <td>0</td>\n",
       "    </tr>\n",
       "    <tr>\n",
       "      <th>0</th>\n",
       "      <td>Compound &gt; upregulates &gt; Gene</td>\n",
       "      <td>Compound→upregulates→Gene</td>\n",
       "      <td>Compound &gt; upregulates &gt; Gene</td>\n",
       "      <td>Cu&gt;G</td>\n",
       "      <td>CuG</td>\n",
       "      <td>Compound</td>\n",
       "      <td>Gene</td>\n",
       "      <td>0</td>\n",
       "    </tr>\n",
       "    <tr>\n",
       "      <th>3</th>\n",
       "      <td>Gene &lt; downregulates &lt; Compound</td>\n",
       "      <td>Gene←downregulates←Compound</td>\n",
       "      <td>Compound &gt; downregulates &gt; Gene</td>\n",
       "      <td>G&lt;dC</td>\n",
       "      <td>CdG</td>\n",
       "      <td>Gene</td>\n",
       "      <td>Compound</td>\n",
       "      <td>1</td>\n",
       "    </tr>\n",
       "    <tr>\n",
       "      <th>5</th>\n",
       "      <td>Gene &lt; interacts &lt; Gene</td>\n",
       "      <td>Gene←interacts←Gene</td>\n",
       "      <td>Gene &gt; interacts &gt; Gene</td>\n",
       "      <td>G&lt;iG</td>\n",
       "      <td>GiG</td>\n",
       "      <td>Gene</td>\n",
       "      <td>Gene</td>\n",
       "      <td>1</td>\n",
       "    </tr>\n",
       "    <tr>\n",
       "      <th>1</th>\n",
       "      <td>Gene &lt; upregulates &lt; Compound</td>\n",
       "      <td>Gene←upregulates←Compound</td>\n",
       "      <td>Compound &gt; upregulates &gt; Gene</td>\n",
       "      <td>G&lt;uC</td>\n",
       "      <td>CuG</td>\n",
       "      <td>Gene</td>\n",
       "      <td>Compound</td>\n",
       "      <td>1</td>\n",
       "    </tr>\n",
       "    <tr>\n",
       "      <th>4</th>\n",
       "      <td>Gene &gt; interacts &gt; Gene</td>\n",
       "      <td>Gene→interacts→Gene</td>\n",
       "      <td>Gene &gt; interacts &gt; Gene</td>\n",
       "      <td>Gi&gt;G</td>\n",
       "      <td>GiG</td>\n",
       "      <td>Gene</td>\n",
       "      <td>Gene</td>\n",
       "      <td>0</td>\n",
       "    </tr>\n",
       "    <tr>\n",
       "      <th>6</th>\n",
       "      <td>Gene &gt; participates &gt; Biological Process</td>\n",
       "      <td>Gene→participates→Biological Process</td>\n",
       "      <td>Gene &gt; participates &gt; Biological Process</td>\n",
       "      <td>Gp&gt;BP</td>\n",
       "      <td>GpBP</td>\n",
       "      <td>Gene</td>\n",
       "      <td>Biological Process</td>\n",
       "      <td>0</td>\n",
       "    </tr>\n",
       "  </tbody>\n",
       "</table>\n",
       "</div>"
      ],
      "text/plain": [
       "                                   metaedge  \\\n",
       "9   Biological Process < induces < Compound   \n",
       "7  Biological Process < participates < Gene   \n",
       "2           Compound > downregulates > Gene   \n",
       "8   Compound > induces > Biological Process   \n",
       "0             Compound > upregulates > Gene   \n",
       "3           Gene < downregulates < Compound   \n",
       "5                   Gene < interacts < Gene   \n",
       "1             Gene < upregulates < Compound   \n",
       "4                   Gene > interacts > Gene   \n",
       "6  Gene > participates > Biological Process   \n",
       "\n",
       "                       unicode_metaedge  \\\n",
       "9   Biological Process←induces←Compound   \n",
       "7  Biological Process←participates←Gene   \n",
       "2           Compound→downregulates→Gene   \n",
       "8   Compound→induces→Biological Process   \n",
       "0             Compound→upregulates→Gene   \n",
       "3           Gene←downregulates←Compound   \n",
       "5                   Gene←interacts←Gene   \n",
       "1             Gene←upregulates←Compound   \n",
       "4                   Gene→interacts→Gene   \n",
       "6  Gene→participates→Biological Process   \n",
       "\n",
       "                          standard_metaedge abbreviation  \\\n",
       "9   Compound > induces > Biological Process        BP<tC   \n",
       "7  Gene > participates > Biological Process        BP<pG   \n",
       "2           Compound > downregulates > Gene         Cd>G   \n",
       "8   Compound > induces > Biological Process        Ct>BP   \n",
       "0             Compound > upregulates > Gene         Cu>G   \n",
       "3           Compound > downregulates > Gene         G<dC   \n",
       "5                   Gene > interacts > Gene         G<iG   \n",
       "1             Compound > upregulates > Gene         G<uC   \n",
       "4                   Gene > interacts > Gene         Gi>G   \n",
       "6  Gene > participates > Biological Process        Gp>BP   \n",
       "\n",
       "  standard_abbreviation              source              target  inverted  \n",
       "9                  CtBP  Biological Process            Compound         1  \n",
       "7                  GpBP  Biological Process                Gene         1  \n",
       "2                   CdG            Compound                Gene         0  \n",
       "8                  CtBP            Compound  Biological Process         0  \n",
       "0                   CuG            Compound                Gene         0  \n",
       "3                   CdG                Gene            Compound         1  \n",
       "5                   GiG                Gene                Gene         1  \n",
       "1                   CuG                Gene            Compound         1  \n",
       "4                   GiG                Gene                Gene         0  \n",
       "6                  GpBP                Gene  Biological Process         0  "
      ]
     },
     "execution_count": 14,
     "metadata": {},
     "output_type": "execute_result"
    }
   ],
   "source": [
    "# Summary of different styles for representing each metaedge\n",
    "metaedge_style_df = hetnetpy.stats.get_metaedge_style_df(metagraph)\n",
    "metaedge_style_df"
   ]
  },
  {
   "cell_type": "code",
   "execution_count": 15,
   "metadata": {},
   "outputs": [
    {
     "data": {
      "text/plain": [
       "8060"
      ]
     },
     "execution_count": 15,
     "metadata": {},
     "output_type": "execute_result"
    }
   ],
   "source": [
    "# Number of edges in the network\n",
    "metaedge_df.edges.sum()"
   ]
  },
  {
   "attachments": {},
   "cell_type": "markdown",
   "metadata": {},
   "source": [
    "## Metapath Extraction\n",
    "\n",
    "Here, we have functions which can extract metapaths:"
   ]
  },
  {
   "attachments": {},
   "cell_type": "markdown",
   "metadata": {},
   "source": [
    "Extract all metapaths up to a certain length:"
   ]
  },
  {
   "cell_type": "code",
   "execution_count": 16,
   "metadata": {},
   "outputs": [],
   "source": [
    "len_3_metapaths = metagraph.extract_all_metapaths(max_length=3, exclude_inverts=True)"
   ]
  },
  {
   "cell_type": "code",
   "execution_count": 17,
   "metadata": {},
   "outputs": [
    {
     "data": {
      "text/plain": [
       "[BP<tC,\n",
       " BP<pG,\n",
       " Cd>G,\n",
       " Cu>G,\n",
       " G<iG,\n",
       " BP<tCt>BP,\n",
       " BP<tCd>G,\n",
       " BP<tCu>G,\n",
       " BP<pGp>BP,\n",
       " BP<pG<dC,\n",
       " BP<pG<uC,\n",
       " BP<pG<iG,\n",
       " BP<pGi>G,\n",
       " Ct>BP<tC,\n",
       " Ct>BP<pG,\n",
       " Cd>G<dC,\n",
       " Cd>G<uC,\n",
       " Cd>G<iG,\n",
       " Cd>Gi>G,\n",
       " Cu>G<uC,\n",
       " Cu>G<iG,\n",
       " Cu>Gi>G,\n",
       " Gp>BP<pG,\n",
       " G<dCd>G,\n",
       " G<dCu>G,\n",
       " G<uCu>G,\n",
       " G<iG<iG,\n",
       " G<iGi>G,\n",
       " Gi>G<iG,\n",
       " BP<tCt>BP<tC,\n",
       " BP<tCt>BP<pG,\n",
       " BP<tCd>Gp>BP,\n",
       " BP<tCd>G<dC,\n",
       " BP<tCd>G<uC,\n",
       " BP<tCd>G<iG,\n",
       " BP<tCd>Gi>G,\n",
       " BP<tCu>Gp>BP,\n",
       " BP<tCu>G<dC,\n",
       " BP<tCu>G<uC,\n",
       " BP<tCu>G<iG,\n",
       " BP<tCu>Gi>G,\n",
       " BP<pGp>BP<tC,\n",
       " BP<pGp>BP<pG,\n",
       " BP<pG<dCd>G,\n",
       " BP<pG<dCu>G,\n",
       " BP<pG<uCd>G,\n",
       " BP<pG<uCu>G,\n",
       " BP<pG<iGp>BP,\n",
       " BP<pG<iG<dC,\n",
       " BP<pG<iG<uC,\n",
       " BP<pG<iG<iG,\n",
       " BP<pG<iGi>G,\n",
       " BP<pGi>G<dC,\n",
       " BP<pGi>G<uC,\n",
       " BP<pGi>G<iG,\n",
       " BP<pGi>Gi>G,\n",
       " Ct>BP<tCd>G,\n",
       " Ct>BP<tCu>G,\n",
       " Ct>BP<pG<dC,\n",
       " Ct>BP<pG<uC,\n",
       " Ct>BP<pG<iG,\n",
       " Ct>BP<pGi>G,\n",
       " Cd>Gp>BP<pG,\n",
       " Cd>G<dCd>G,\n",
       " Cd>G<dCu>G,\n",
       " Cd>G<uCd>G,\n",
       " Cd>G<uCu>G,\n",
       " Cd>G<iG<dC,\n",
       " Cd>G<iG<uC,\n",
       " Cd>G<iG<iG,\n",
       " Cd>G<iGi>G,\n",
       " Cd>Gi>G<uC,\n",
       " Cd>Gi>G<iG,\n",
       " Cd>Gi>Gi>G,\n",
       " Cu>Gp>BP<pG,\n",
       " Cu>G<dCd>G,\n",
       " Cu>G<dCu>G,\n",
       " Cu>G<uCd>G,\n",
       " Cu>G<uCu>G,\n",
       " Cu>G<iG<uC,\n",
       " Cu>G<iG<iG,\n",
       " Cu>G<iGi>G,\n",
       " Cu>Gi>G<iG,\n",
       " Cu>Gi>Gi>G,\n",
       " Gp>BP<tCd>G,\n",
       " Gp>BP<tCu>G,\n",
       " Gp>BP<pG<iG,\n",
       " Gp>BP<pGi>G,\n",
       " G<dCd>G<iG,\n",
       " G<dCd>Gi>G,\n",
       " G<dCu>G<iG,\n",
       " G<dCu>Gi>G,\n",
       " G<uCd>G<iG,\n",
       " G<uCd>Gi>G,\n",
       " G<uCu>G<iG,\n",
       " G<uCu>Gi>G,\n",
       " G<iG<iG<iG,\n",
       " G<iG<iGi>G,\n",
       " G<iGi>G<iG,\n",
       " Gi>G<iG<iG]"
      ]
     },
     "execution_count": 17,
     "metadata": {},
     "output_type": "execute_result"
    }
   ],
   "source": [
    "len_3_metapaths"
   ]
  },
  {
   "attachments": {},
   "cell_type": "markdown",
   "metadata": {},
   "source": [
    "Extract metapaths from a given source node type (and, optionally, to a target node type):"
   ]
  },
  {
   "cell_type": "code",
   "execution_count": 18,
   "metadata": {},
   "outputs": [
    {
     "name": "stdout",
     "output_type": "stream",
     "text": [
      "[Ct>BP, Cd>Gp>BP, Cu>Gp>BP, Ct>BP<tCt>BP, Ct>BP<pGp>BP, Cd>G<dCt>BP, Cd>G<uCt>BP, Cd>G<iGp>BP, Cd>Gi>Gp>BP, Cu>G<dCt>BP, Cu>G<uCt>BP, Cu>G<iGp>BP, Cu>Gi>Gp>BP, Ct>BP<tCd>Gp>BP, Ct>BP<tCu>Gp>BP, Ct>BP<pG<dCt>BP, Ct>BP<pG<uCt>BP, Ct>BP<pG<iGp>BP, Ct>BP<pGi>Gp>BP, Cd>Gp>BP<tCt>BP, Cd>Gp>BP<pGp>BP, Cd>G<dCd>Gp>BP, Cd>G<dCu>Gp>BP, Cd>G<uCd>Gp>BP, Cd>G<uCu>Gp>BP, Cd>G<iG<dCt>BP, Cd>G<iG<uCt>BP, Cd>G<iG<iGp>BP, Cd>G<iGi>Gp>BP, Cd>Gi>G<dCt>BP, Cd>Gi>G<uCt>BP, Cd>Gi>G<iGp>BP, Cd>Gi>Gi>Gp>BP, Cu>Gp>BP<tCt>BP, Cu>Gp>BP<pGp>BP, Cu>G<dCd>Gp>BP, Cu>G<dCu>Gp>BP, Cu>G<uCd>Gp>BP, Cu>G<uCu>Gp>BP, Cu>G<iG<dCt>BP, Cu>G<iG<uCt>BP, Cu>G<iG<iGp>BP, Cu>G<iGi>Gp>BP, Cu>Gi>G<dCt>BP, Cu>Gi>G<uCt>BP, Cu>Gi>G<iGp>BP, Cu>Gi>Gi>Gp>BP]\n"
     ]
    }
   ],
   "source": [
    "tgt_metapaths = metagraph.extract_metapaths(source='Compound', target='Biological Process')\n",
    "print(tgt_metapaths)"
   ]
  },
  {
   "cell_type": "code",
   "execution_count": 19,
   "metadata": {},
   "outputs": [
    {
     "name": "stdout",
     "output_type": "stream",
     "text": [
      "Ct>BP\n",
      "Cd>Gp>BP\n",
      "Cu>Gp>BP\n",
      "Ct>BP<tCt>BP\n",
      "Ct>BP<pGp>BP\n",
      "Cd>G<dCt>BP\n",
      "Cd>G<uCt>BP\n",
      "Cd>G<iGp>BP\n",
      "Cd>Gi>Gp>BP\n",
      "Cu>G<dCt>BP\n",
      "Cu>G<uCt>BP\n",
      "Cu>G<iGp>BP\n",
      "Cu>Gi>Gp>BP\n",
      "Ct>BP<tCd>Gp>BP\n",
      "Ct>BP<tCu>Gp>BP\n",
      "Ct>BP<pG<dCt>BP\n",
      "Ct>BP<pG<uCt>BP\n",
      "Ct>BP<pG<iGp>BP\n",
      "Ct>BP<pGi>Gp>BP\n",
      "Cd>Gp>BP<tCt>BP\n",
      "Cd>Gp>BP<pGp>BP\n",
      "Cd>G<dCd>Gp>BP\n",
      "Cd>G<dCu>Gp>BP\n",
      "Cd>G<uCd>Gp>BP\n",
      "Cd>G<uCu>Gp>BP\n",
      "Cd>G<iG<dCt>BP\n",
      "Cd>G<iG<uCt>BP\n",
      "Cd>G<iG<iGp>BP\n",
      "Cd>G<iGi>Gp>BP\n",
      "Cd>Gi>G<dCt>BP\n",
      "Cd>Gi>G<uCt>BP\n",
      "Cd>Gi>G<iGp>BP\n",
      "Cd>Gi>Gi>Gp>BP\n",
      "Cu>Gp>BP<tCt>BP\n",
      "Cu>Gp>BP<pGp>BP\n",
      "Cu>G<dCd>Gp>BP\n",
      "Cu>G<dCu>Gp>BP\n",
      "Cu>G<uCd>Gp>BP\n",
      "Cu>G<uCu>Gp>BP\n",
      "Cu>G<iG<dCt>BP\n",
      "Cu>G<iG<uCt>BP\n",
      "Cu>G<iG<iGp>BP\n",
      "Cu>G<iGi>Gp>BP\n",
      "Cu>Gi>G<dCt>BP\n",
      "Cu>Gi>G<uCt>BP\n",
      "Cu>Gi>G<iGp>BP\n",
      "Cu>Gi>Gi>Gp>BP\n"
     ]
    }
   ],
   "source": [
    "for i in tgt_metapaths:\n",
    "    print(i)"
   ]
  },
  {
   "attachments": {},
   "cell_type": "markdown",
   "metadata": {},
   "source": [
    "We do not want any with a compound in the middle:"
   ]
  },
  {
   "cell_type": "code",
   "execution_count": 20,
   "metadata": {},
   "outputs": [],
   "source": [
    "CtoBP_metapaths = []\n",
    "\n",
    "\n",
    "for i in tgt_metapaths:\n",
    "    if (repr(i) != 'Ct>BP') & (Counter(re.split('>|<|[^A-Z]', repr(i)))['C'] == 1):\n",
    "        CtoBP_metapaths.append(i)"
   ]
  },
  {
   "attachments": {},
   "cell_type": "markdown",
   "metadata": {},
   "source": [
    "How many did it prune?"
   ]
  },
  {
   "cell_type": "code",
   "execution_count": 21,
   "metadata": {},
   "outputs": [
    {
     "name": "stdout",
     "output_type": "stream",
     "text": [
      "19\n",
      "47\n"
     ]
    }
   ],
   "source": [
    "print(len(CtoBP_metapaths))\n",
    "print(len(tgt_metapaths))"
   ]
  },
  {
   "cell_type": "code",
   "execution_count": 22,
   "metadata": {},
   "outputs": [
    {
     "data": {
      "text/plain": [
       "[Cd>Gp>BP,\n",
       " Cu>Gp>BP,\n",
       " Ct>BP<pGp>BP,\n",
       " Cd>G<iGp>BP,\n",
       " Cd>Gi>Gp>BP,\n",
       " Cu>G<iGp>BP,\n",
       " Cu>Gi>Gp>BP,\n",
       " Ct>BP<pG<iGp>BP,\n",
       " Ct>BP<pGi>Gp>BP,\n",
       " Cd>Gp>BP<pGp>BP,\n",
       " Cd>G<iG<iGp>BP,\n",
       " Cd>G<iGi>Gp>BP,\n",
       " Cd>Gi>G<iGp>BP,\n",
       " Cd>Gi>Gi>Gp>BP,\n",
       " Cu>Gp>BP<pGp>BP,\n",
       " Cu>G<iG<iGp>BP,\n",
       " Cu>G<iGi>Gp>BP,\n",
       " Cu>Gi>G<iGp>BP,\n",
       " Cu>Gi>Gi>Gp>BP]"
      ]
     },
     "execution_count": 22,
     "metadata": {},
     "output_type": "execute_result"
    }
   ],
   "source": [
    "CtoBP_metapaths"
   ]
  },
  {
   "attachments": {},
   "cell_type": "markdown",
   "metadata": {},
   "source": [
    "# MARS Input Preparation\n",
    "\n",
    "What if we want to get these in a format similar to the MARS input?\n",
    "\n",
    "First let's give them all a uniform probability:"
   ]
  },
  {
   "cell_type": "code",
   "execution_count": 23,
   "metadata": {},
   "outputs": [],
   "source": [
    "#prob = 1 / (2 * len(CtoBP_metapaths))\n",
    "prob = 0.5"
   ]
  },
  {
   "attachments": {},
   "cell_type": "markdown",
   "metadata": {},
   "source": [
    "We can split the metapaths into a series of individual relations:"
   ]
  },
  {
   "cell_type": "code",
   "execution_count": 24,
   "metadata": {},
   "outputs": [],
   "source": [
    "def get_forward_rule_body(mpath, conf, metagraph):\n",
    "    \"\"\"Gets the rule body for a given metapath in the format that MARS requires\n",
    "        :param mpath: the metapath instance, written in hetnetpy format\n",
    "        :param conf: the confidence value to use for the rule\n",
    "        :param metagraph: the metagraph instance, as a hetnetpy object\n",
    "    \"\"\"\n",
    "    st_edges = metaedges_from_metapath(mpath, standardize_by=metagraph)\n",
    "    directional_edges = metaedges_from_metapath(mpath)\n",
    "    rule_head = re.split('>|<|[^A-Z]', mpath)\n",
    "    rule_head = rule_head[0] + 't' + rule_head[-1]\n",
    "    rule_body = [conf, rule_head]\n",
    "    for st, dic in zip(st_edges, directional_edges):\n",
    "        if '>' in dic:\n",
    "            rule_body.append(st)\n",
    "        else:\n",
    "            rule_body.append('_' + st)\n",
    "    return rule_body"
   ]
  },
  {
   "cell_type": "code",
   "execution_count": 25,
   "metadata": {},
   "outputs": [
    {
     "data": {
      "text/plain": [
       "[0.5, 'CtBP', 'CuG', '_CuG', 'CdG', 'GpBP']"
      ]
     },
     "execution_count": 25,
     "metadata": {},
     "output_type": "execute_result"
    }
   ],
   "source": [
    "# just testing the function\n",
    "get_forward_rule_body('Cu>G<uCd>Gp>BP', prob, metagraph)"
   ]
  },
  {
   "cell_type": "code",
   "execution_count": 26,
   "metadata": {},
   "outputs": [],
   "source": [
    "def get_reverse_rule_body(forward_body):\n",
    "    \"\"\"Gets the REVERSE rule body for a given metapath in the format that MARS requires\n",
    "        :param forward_body: the forward rule body as a list\n",
    "    \"\"\"\n",
    "    rev_body = [forward_body[0], '_' + forward_body[1]]\n",
    "    for i in reversed(forward_body[2:]):\n",
    "        if '_' in i:\n",
    "            rev_body.append(re.sub('_', '', i))\n",
    "        else:\n",
    "            rev_body.append('_' + i)\n",
    "    return rev_body"
   ]
  },
  {
   "cell_type": "code",
   "execution_count": 27,
   "metadata": {},
   "outputs": [
    {
     "data": {
      "text/plain": [
       "[0.5, '_CtBP', '_GpBP', '_CdG', 'CuG', '_CuG']"
      ]
     },
     "execution_count": 27,
     "metadata": {},
     "output_type": "execute_result"
    }
   ],
   "source": [
    "fw = get_forward_rule_body('Cu>G<uCd>Gp>BP', prob, metagraph)\n",
    "get_reverse_rule_body(fw)"
   ]
  },
  {
   "attachments": {},
   "cell_type": "markdown",
   "metadata": {},
   "source": [
    "Now we'll do it for all the compound to BP metapaths!"
   ]
  },
  {
   "cell_type": "code",
   "execution_count": 28,
   "metadata": {},
   "outputs": [
    {
     "name": "stdout",
     "output_type": "stream",
     "text": [
      "{'CtBP': [[0.5, 'CtBP', 'CdG', 'GpBP'], [0.5, 'CtBP', 'CuG', 'GpBP'], [0.5, 'CtBP', 'CtBP', '_GpBP', 'GpBP'], [0.5, 'CtBP', 'CdG', '_GiG', 'GpBP'], [0.5, 'CtBP', 'CdG', 'GiG', 'GpBP'], [0.5, 'CtBP', 'CuG', '_GiG', 'GpBP'], [0.5, 'CtBP', 'CuG', 'GiG', 'GpBP'], [0.5, 'CtBP', 'CtBP', '_GpBP', '_GiG', 'GpBP'], [0.5, 'CtBP', 'CtBP', '_GpBP', 'GiG', 'GpBP'], [0.5, 'CtBP', 'CdG', 'GpBP', '_GpBP', 'GpBP'], [0.5, 'CtBP', 'CdG', '_GiG', '_GiG', 'GpBP'], [0.5, 'CtBP', 'CdG', '_GiG', 'GiG', 'GpBP'], [0.5, 'CtBP', 'CdG', 'GiG', '_GiG', 'GpBP'], [0.5, 'CtBP', 'CdG', 'GiG', 'GiG', 'GpBP'], [0.5, 'CtBP', 'CuG', 'GpBP', '_GpBP', 'GpBP'], [0.5, 'CtBP', 'CuG', '_GiG', '_GiG', 'GpBP'], [0.5, 'CtBP', 'CuG', '_GiG', 'GiG', 'GpBP'], [0.5, 'CtBP', 'CuG', 'GiG', '_GiG', 'GpBP'], [0.5, 'CtBP', 'CuG', 'GiG', 'GiG', 'GpBP']]}\n"
     ]
    }
   ],
   "source": [
    "rules = {}\n",
    "rules['CtBP'] = [get_forward_rule_body(str(mpath), prob, metagraph) for mpath in CtoBP_metapaths]\n",
    "print(rules)"
   ]
  },
  {
   "cell_type": "code",
   "execution_count": 29,
   "metadata": {},
   "outputs": [
    {
     "data": {
      "text/plain": [
       "dict_keys(['CtBP'])"
      ]
     },
     "execution_count": 29,
     "metadata": {},
     "output_type": "execute_result"
    }
   ],
   "source": [
    "rules.keys()"
   ]
  },
  {
   "attachments": {},
   "cell_type": "markdown",
   "metadata": {},
   "source": [
    "Let's write it to a file we can use for MARS:"
   ]
  },
  {
   "cell_type": "code",
   "execution_count": 30,
   "metadata": {},
   "outputs": [],
   "source": [
    "with open(osp.join(MARS_DIR, 'rules.txt'), 'w') as f:\n",
    "    json.dump(rules, f)"
   ]
  },
  {
   "attachments": {},
   "cell_type": "markdown",
   "metadata": {},
   "source": [
    "Now, let's get the input triples in a format consistent with MARS's input files:"
   ]
  },
  {
   "cell_type": "code",
   "execution_count": 31,
   "metadata": {},
   "outputs": [],
   "source": [
    "def convert_to_mars(df):\n",
    "    \"\"\"Converts the KG into a format that MARS can use\n",
    "    \"\"\"\n",
    "    df['metaedge'] = [kind_to_abbev[row['source_node_type']] + kind_to_abbev[row['edge_type']] + \\\n",
    "                       kind_to_abbev[row['target_node_type']] for i, row in df.iterrows()]\n",
    "    return df[['source', 'metaedge', 'target']]"
   ]
  },
  {
   "cell_type": "code",
   "execution_count": 32,
   "metadata": {},
   "outputs": [],
   "source": [
    "train = convert_to_mars(pd.read_csv(osp.join(MOA_NET_DIR, 'train.tsv'), sep='\\t'))\n",
    "test = convert_to_mars(pd.read_csv(osp.join(MOA_NET_DIR, 'test.tsv'), sep='\\t'))\n",
    "val = convert_to_mars(pd.read_csv(osp.join(MOA_NET_DIR, 'dev.tsv'), sep='\\t'))\n",
    "\n",
    "kg_triples = convert_to_mars(pd.read_csv(osp.join(MOA_NET_DIR, 'kg_with_train_smpls.tsv'), sep='\\t'))"
   ]
  },
  {
   "cell_type": "code",
   "execution_count": 33,
   "metadata": {},
   "outputs": [
    {
     "data": {
      "text/html": [
       "<div>\n",
       "<style scoped>\n",
       "    .dataframe tbody tr th:only-of-type {\n",
       "        vertical-align: middle;\n",
       "    }\n",
       "\n",
       "    .dataframe tbody tr th {\n",
       "        vertical-align: top;\n",
       "    }\n",
       "\n",
       "    .dataframe thead th {\n",
       "        text-align: right;\n",
       "    }\n",
       "</style>\n",
       "<table border=\"1\" class=\"dataframe\">\n",
       "  <thead>\n",
       "    <tr style=\"text-align: right;\">\n",
       "      <th></th>\n",
       "      <th>source</th>\n",
       "      <th>metaedge</th>\n",
       "      <th>target</th>\n",
       "    </tr>\n",
       "  </thead>\n",
       "  <tbody>\n",
       "    <tr>\n",
       "      <th>0</th>\n",
       "      <td>ncbigene:3973</td>\n",
       "      <td>GiG</td>\n",
       "      <td>ncbigene:2776</td>\n",
       "    </tr>\n",
       "    <tr>\n",
       "      <th>1</th>\n",
       "      <td>ncbigene:80233</td>\n",
       "      <td>GiG</td>\n",
       "      <td>ncbigene:2177</td>\n",
       "    </tr>\n",
       "    <tr>\n",
       "      <th>2</th>\n",
       "      <td>ncbigene:9656</td>\n",
       "      <td>GiG</td>\n",
       "      <td>ncbigene:11200</td>\n",
       "    </tr>\n",
       "    <tr>\n",
       "      <th>3</th>\n",
       "      <td>ncbigene:127068</td>\n",
       "      <td>GiG</td>\n",
       "      <td>ncbigene:51764</td>\n",
       "    </tr>\n",
       "    <tr>\n",
       "      <th>4</th>\n",
       "      <td>ncbigene:51144</td>\n",
       "      <td>GpBP</td>\n",
       "      <td>GO:0030198</td>\n",
       "    </tr>\n",
       "    <tr>\n",
       "      <th>...</th>\n",
       "      <td>...</td>\n",
       "      <td>...</td>\n",
       "      <td>...</td>\n",
       "    </tr>\n",
       "    <tr>\n",
       "      <th>8245</th>\n",
       "      <td>ncbigene:1439</td>\n",
       "      <td>GpBP</td>\n",
       "      <td>GO:0007585</td>\n",
       "    </tr>\n",
       "    <tr>\n",
       "      <th>8246</th>\n",
       "      <td>ncbigene:8074</td>\n",
       "      <td>GiG</td>\n",
       "      <td>ncbigene:5156</td>\n",
       "    </tr>\n",
       "    <tr>\n",
       "      <th>8247</th>\n",
       "      <td>ncbigene:30818</td>\n",
       "      <td>GiG</td>\n",
       "      <td>ncbigene:7253</td>\n",
       "    </tr>\n",
       "    <tr>\n",
       "      <th>8248</th>\n",
       "      <td>ncbigene:58476</td>\n",
       "      <td>GiG</td>\n",
       "      <td>ncbigene:23710</td>\n",
       "    </tr>\n",
       "    <tr>\n",
       "      <th>8249</th>\n",
       "      <td>ncbigene:6774</td>\n",
       "      <td>GpBP</td>\n",
       "      <td>GO:0030154</td>\n",
       "    </tr>\n",
       "  </tbody>\n",
       "</table>\n",
       "<p>8250 rows × 3 columns</p>\n",
       "</div>"
      ],
      "text/plain": [
       "               source metaedge          target\n",
       "0       ncbigene:3973      GiG   ncbigene:2776\n",
       "1      ncbigene:80233      GiG   ncbigene:2177\n",
       "2       ncbigene:9656      GiG  ncbigene:11200\n",
       "3     ncbigene:127068      GiG  ncbigene:51764\n",
       "4      ncbigene:51144     GpBP      GO:0030198\n",
       "...               ...      ...             ...\n",
       "8245    ncbigene:1439     GpBP      GO:0007585\n",
       "8246    ncbigene:8074      GiG   ncbigene:5156\n",
       "8247   ncbigene:30818      GiG   ncbigene:7253\n",
       "8248   ncbigene:58476      GiG  ncbigene:23710\n",
       "8249    ncbigene:6774     GpBP      GO:0030154\n",
       "\n",
       "[8250 rows x 3 columns]"
      ]
     },
     "execution_count": 33,
     "metadata": {},
     "output_type": "execute_result"
    }
   ],
   "source": [
    "kg_triples"
   ]
  },
  {
   "cell_type": "markdown",
   "metadata": {},
   "source": [
    "Get the inverse triples of the KG:"
   ]
  },
  {
   "cell_type": "code",
   "execution_count": 34,
   "metadata": {},
   "outputs": [],
   "source": [
    "inverse_triples = kg_triples[['source', 'target', 'metaedge']].copy()\n",
    "inverse_triples['inv_metaedge'] = ['_' + i for i in inverse_triples['metaedge']]\n",
    "inverse_triples = inverse_triples[['target', 'inv_metaedge', 'source']]\n",
    "\n",
    "# get rid of those with _CtBP\n",
    "inverse_triples = inverse_triples.loc[inverse_triples['inv_metaedge'] != '_CtBP']"
   ]
  },
  {
   "attachments": {},
   "cell_type": "markdown",
   "metadata": {},
   "source": [
    "Great, write to the MARS folder:"
   ]
  },
  {
   "cell_type": "code",
   "execution_count": 35,
   "metadata": {},
   "outputs": [],
   "source": [
    "kg_triples.to_csv(osp.join(MARS_DIR, 'graph_triples.txt'), sep='\\t', index=False, header=False)\n",
    "inverse_triples.to_csv(osp.join(MARS_DIR, 'graph_inverses.txt'), sep='\\t', index=False, header=False)"
   ]
  },
  {
   "cell_type": "code",
   "execution_count": 36,
   "metadata": {},
   "outputs": [],
   "source": [
    "train.to_csv(osp.join(MARS_DIR, 'train.txt'), sep='\\t', index=False, header=False)\n",
    "test.to_csv(osp.join(MARS_DIR, 'test.txt'), sep='\\t', index=False, header=False)\n",
    "val.to_csv(osp.join(MARS_DIR, 'dev.txt'), sep='\\t', index=False, header=False)"
   ]
  },
  {
   "cell_type": "markdown",
   "metadata": {},
   "source": [
    "Finally, we need dictionaries to map the entities and relations to unique IDs."
   ]
  },
  {
   "cell_type": "code",
   "execution_count": 37,
   "metadata": {},
   "outputs": [],
   "source": [
    "entities = {\"PAD\": 0, \"UNK\": 1}\n",
    "\n",
    "next_id = 2\n",
    "for df in kg_triples, train, test, val:\n",
    "    for i in df['source'].unique():\n",
    "        if i not in entities:\n",
    "            entities[i] = next_id\n",
    "            next_id += 1\n",
    "    for i in df['target'].unique():\n",
    "        if i not in entities:\n",
    "            entities[i] = next_id\n",
    "            next_id += 1"
   ]
  },
  {
   "cell_type": "code",
   "execution_count": 38,
   "metadata": {},
   "outputs": [],
   "source": [
    "relations = {\"PAD\": 0, \"DUMMY_START_RELATION\": 1, \"NO_OP\": 2, \"UNK\": 3}\n",
    "\n",
    "metaedges = set(kg_triples['metaedge']) | (set(inverse_triples['inv_metaedge']))\n",
    "\n",
    "next_id = 4\n",
    "for rel in metaedges:\n",
    "    relations[rel] = next_id\n",
    "    next_id += 1"
   ]
  },
  {
   "cell_type": "code",
   "execution_count": 39,
   "metadata": {},
   "outputs": [],
   "source": [
    "# write dictionary to json file\n",
    "with open(osp.join(MARS_DIR, 'entity_vocab.json'), 'w') as f:\n",
    "    json.dump(entities, f)\n",
    "\n",
    "with open(osp.join(MARS_DIR, 'relation_vocab.json'), 'w') as f:\n",
    "    json.dump(relations, f)"
   ]
  },
  {
   "attachments": {},
   "cell_type": "markdown",
   "metadata": {},
   "source": [
    "Let's also write the meta-edge and meta-node mappings to json files:"
   ]
  },
  {
   "cell_type": "code",
   "execution_count": 40,
   "metadata": {},
   "outputs": [],
   "source": [
    "meta_mapping = {v: k for k, v in kind_to_abbev.items()}"
   ]
  },
  {
   "cell_type": "code",
   "execution_count": 41,
   "metadata": {},
   "outputs": [],
   "source": [
    "with open(osp.join(MARS_DIR, 'meta_mapping.json'), 'w') as f:\n",
    "    json.dump(meta_mapping, f)"
   ]
  },
  {
   "cell_type": "code",
   "execution_count": 42,
   "metadata": {},
   "outputs": [
    {
     "data": {
      "text/plain": [
       "{'C': 'Compound',\n",
       " 'G': 'Gene',\n",
       " 'BP': 'Biological Process',\n",
       " 'u': 'upregulates',\n",
       " 'd': 'downregulates',\n",
       " 'i': 'interacts',\n",
       " 'p': 'participates',\n",
       " 't': 'induces'}"
      ]
     },
     "execution_count": 42,
     "metadata": {},
     "output_type": "execute_result"
    }
   ],
   "source": [
    "meta_mapping"
   ]
  }
 ],
 "metadata": {
  "kernelspec": {
   "display_name": "moanet_env",
   "language": "python",
   "name": "python3"
  },
  "language_info": {
   "codemirror_mode": {
    "name": "ipython",
    "version": 3
   },
   "file_extension": ".py",
   "mimetype": "text/x-python",
   "name": "python",
   "nbconvert_exporter": "python",
   "pygments_lexer": "ipython3",
   "version": "3.10.13"
  },
  "orig_nbformat": 4
 },
 "nbformat": 4,
 "nbformat_minor": 2
}
