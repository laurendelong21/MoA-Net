{
 "cells": [
  {
   "attachments": {},
   "cell_type": "markdown",
   "metadata": {},
   "source": [
    "# Notebook for enriching protein-biological process and drug-biological process edges\n",
    "\n",
    "In our MOA project, we want to use the [Gene Ontology Biological Process](http://geneontology.org/docs/ontology-documentation/) (BP) as sink nodes, so we need to incorporate this information into the KG."
   ]
  },
  {
   "cell_type": "code",
   "execution_count": 1,
   "metadata": {},
   "outputs": [],
   "source": [
    "import pandas as pd\n",
    "from tqdm import tqdm\n",
    "import os.path as osp\n",
    "\n",
    "from matplotlib_venn import venn2_unweighted\n",
    "from collections import Counter, defaultdict\n",
    "import seaborn as sns\n",
    "import matplotlib.pyplot as plt\n",
    "\n",
    "from typing import List\n",
    "import requests\n",
    "import re"
   ]
  },
  {
   "attachments": {},
   "cell_type": "markdown",
   "metadata": {},
   "source": [
    "# Load KG files"
   ]
  },
  {
   "cell_type": "code",
   "execution_count": 4,
   "metadata": {},
   "outputs": [],
   "source": [
    "KG_DIR = '../data/kg/'"
   ]
  },
  {
   "attachments": {},
   "cell_type": "markdown",
   "metadata": {},
   "source": [
    "Load in the processed OpenBioLink KG with only drug-protein and protein-protein edges:"
   ]
  },
  {
   "cell_type": "code",
   "execution_count": 3,
   "metadata": {},
   "outputs": [
    {
     "data": {
      "text/html": [
       "<div>\n",
       "<style scoped>\n",
       "    .dataframe tbody tr th:only-of-type {\n",
       "        vertical-align: middle;\n",
       "    }\n",
       "\n",
       "    .dataframe tbody tr th {\n",
       "        vertical-align: top;\n",
       "    }\n",
       "\n",
       "    .dataframe thead th {\n",
       "        text-align: right;\n",
       "    }\n",
       "</style>\n",
       "<table border=\"1\" class=\"dataframe\">\n",
       "  <thead>\n",
       "    <tr style=\"text-align: right;\">\n",
       "      <th></th>\n",
       "      <th>source</th>\n",
       "      <th>target</th>\n",
       "      <th>polarity</th>\n",
       "    </tr>\n",
       "  </thead>\n",
       "  <tbody>\n",
       "    <tr>\n",
       "      <th>0</th>\n",
       "      <td>pubchem.compound:10607</td>\n",
       "      <td>ncbigene:3553</td>\n",
       "      <td>1</td>\n",
       "    </tr>\n",
       "    <tr>\n",
       "      <th>1</th>\n",
       "      <td>pubchem.compound:10607</td>\n",
       "      <td>ncbigene:203068</td>\n",
       "      <td>-1</td>\n",
       "    </tr>\n",
       "  </tbody>\n",
       "</table>\n",
       "</div>"
      ],
      "text/plain": [
       "                   source           target  polarity\n",
       "0  pubchem.compound:10607    ncbigene:3553         1\n",
       "1  pubchem.compound:10607  ncbigene:203068        -1"
      ]
     },
     "execution_count": 3,
     "metadata": {},
     "output_type": "execute_result"
    }
   ],
   "source": [
    "openbiolink_df = pd.read_csv(f'{KG_DIR}/openbiolink_filtered.tsv', sep='\\t')\n",
    "openbiolink_df.head(2)"
   ]
  },
  {
   "attachments": {},
   "cell_type": "markdown",
   "metadata": {},
   "source": [
    "Load in the processed Custom/In-House KG with only drug-protein and protein-protein edges:"
   ]
  },
  {
   "cell_type": "code",
   "execution_count": 4,
   "metadata": {},
   "outputs": [
    {
     "data": {
      "text/html": [
       "<div>\n",
       "<style scoped>\n",
       "    .dataframe tbody tr th:only-of-type {\n",
       "        vertical-align: middle;\n",
       "    }\n",
       "\n",
       "    .dataframe tbody tr th {\n",
       "        vertical-align: top;\n",
       "    }\n",
       "\n",
       "    .dataframe thead th {\n",
       "        text-align: right;\n",
       "    }\n",
       "</style>\n",
       "<table border=\"1\" class=\"dataframe\">\n",
       "  <thead>\n",
       "    <tr style=\"text-align: right;\">\n",
       "      <th></th>\n",
       "      <th>source</th>\n",
       "      <th>target</th>\n",
       "      <th>polarity</th>\n",
       "    </tr>\n",
       "  </thead>\n",
       "  <tbody>\n",
       "    <tr>\n",
       "      <th>0</th>\n",
       "      <td>pubchem.compound:4943</td>\n",
       "      <td>ncbigene:2562</td>\n",
       "      <td>1</td>\n",
       "    </tr>\n",
       "    <tr>\n",
       "      <th>1</th>\n",
       "      <td>pubchem.compound:4943</td>\n",
       "      <td>ncbigene:2563</td>\n",
       "      <td>1</td>\n",
       "    </tr>\n",
       "  </tbody>\n",
       "</table>\n",
       "</div>"
      ],
      "text/plain": [
       "                  source         target  polarity\n",
       "0  pubchem.compound:4943  ncbigene:2562         1\n",
       "1  pubchem.compound:4943  ncbigene:2563         1"
      ]
     },
     "execution_count": 4,
     "metadata": {},
     "output_type": "execute_result"
    }
   ],
   "source": [
    "custom_df = pd.read_csv(f'{KG_DIR}/customkg_filtered.tsv', sep='\\t')\n",
    "custom_df.head(2)"
   ]
  },
  {
   "attachments": {},
   "cell_type": "markdown",
   "metadata": {},
   "source": [
    "# Subset proteins for BP enrichments\n",
    "\n",
    "Here, we are getting all of the proteins in the KGs:"
   ]
  },
  {
   "cell_type": "code",
   "execution_count": 5,
   "metadata": {},
   "outputs": [
    {
     "name": "stderr",
     "output_type": "stream",
     "text": [
      "100%|██████████| 41441/41441 [00:00<00:00, 1482693.44it/s]\n"
     ]
    },
    {
     "data": {
      "text/plain": [
       "4618"
      ]
     },
     "execution_count": 5,
     "metadata": {},
     "output_type": "execute_result"
    }
   ],
   "source": [
    "openbiolink_proteins = set()\n",
    "\n",
    "for source, target, rel in tqdm(openbiolink_df.values):\n",
    "    if 'ncbigene' in source:\n",
    "        openbiolink_proteins.add(source)\n",
    "\n",
    "    if 'ncbigene' in target:\n",
    "        openbiolink_proteins.add(target)\n",
    "\n",
    "len(openbiolink_proteins)"
   ]
  },
  {
   "cell_type": "code",
   "execution_count": 6,
   "metadata": {},
   "outputs": [
    {
     "name": "stderr",
     "output_type": "stream",
     "text": [
      "100%|██████████| 743/743 [00:00<00:00, 1685434.22it/s]\n"
     ]
    },
    {
     "data": {
      "text/plain": [
       "289"
      ]
     },
     "execution_count": 6,
     "metadata": {},
     "output_type": "execute_result"
    }
   ],
   "source": [
    "custom_proteins = set()\n",
    "\n",
    "for source, target, rel in tqdm(custom_df.values):\n",
    "    if 'ncbigene' in source:\n",
    "        custom_proteins.add(source)\n",
    "\n",
    "    if 'ncbigene' in target:\n",
    "        custom_proteins.add(target)\n",
    "\n",
    "len(custom_proteins)\n"
   ]
  },
  {
   "attachments": {},
   "cell_type": "markdown",
   "metadata": {},
   "source": [
    "# Map the protein to their GO annotations\n",
    "\n",
    "Now that we have the protein IDs, we can map them to corresponding GO annotations. We got these annotations from the [GO FTP download page](https://ftp.ncbi.nlm.nih.gov/gene/DATA/)."
   ]
  },
  {
   "cell_type": "code",
   "execution_count": 7,
   "metadata": {},
   "outputs": [],
   "source": [
    "MAPPING_DIR = '../data/mappings'"
   ]
  },
  {
   "cell_type": "code",
   "execution_count": 8,
   "metadata": {},
   "outputs": [
    {
     "data": {
      "text/html": [
       "<div>\n",
       "<style scoped>\n",
       "    .dataframe tbody tr th:only-of-type {\n",
       "        vertical-align: middle;\n",
       "    }\n",
       "\n",
       "    .dataframe tbody tr th {\n",
       "        vertical-align: top;\n",
       "    }\n",
       "\n",
       "    .dataframe thead th {\n",
       "        text-align: right;\n",
       "    }\n",
       "</style>\n",
       "<table border=\"1\" class=\"dataframe\">\n",
       "  <thead>\n",
       "    <tr style=\"text-align: right;\">\n",
       "      <th></th>\n",
       "      <th>#tax_id</th>\n",
       "      <th>GeneID</th>\n",
       "      <th>GO_ID</th>\n",
       "      <th>Evidence</th>\n",
       "      <th>Qualifier</th>\n",
       "      <th>GO_term</th>\n",
       "      <th>PubMed</th>\n",
       "      <th>Category</th>\n",
       "    </tr>\n",
       "  </thead>\n",
       "  <tbody>\n",
       "    <tr>\n",
       "      <th>812115</th>\n",
       "      <td>9606</td>\n",
       "      <td>1</td>\n",
       "      <td>GO:0003674</td>\n",
       "      <td>ND</td>\n",
       "      <td>enables</td>\n",
       "      <td>molecular_function</td>\n",
       "      <td>-</td>\n",
       "      <td>Function</td>\n",
       "    </tr>\n",
       "    <tr>\n",
       "      <th>812116</th>\n",
       "      <td>9606</td>\n",
       "      <td>1</td>\n",
       "      <td>GO:0005576</td>\n",
       "      <td>HDA</td>\n",
       "      <td>located_in</td>\n",
       "      <td>extracellular region</td>\n",
       "      <td>27068509</td>\n",
       "      <td>Component</td>\n",
       "    </tr>\n",
       "  </tbody>\n",
       "</table>\n",
       "</div>"
      ],
      "text/plain": [
       "       #tax_id GeneID       GO_ID Evidence   Qualifier               GO_term  \\\n",
       "812115    9606      1  GO:0003674       ND     enables    molecular_function   \n",
       "812116    9606      1  GO:0005576      HDA  located_in  extracellular region   \n",
       "\n",
       "          PubMed   Category  \n",
       "812115         -   Function  \n",
       "812116  27068509  Component  "
      ]
     },
     "execution_count": 8,
     "metadata": {},
     "output_type": "execute_result"
    }
   ],
   "source": [
    "process_df = pd.read_csv(\n",
    "    f'{MAPPING_DIR}/gene2go.tsv', sep='\\t', dtype=str,\n",
    ")\n",
    "\n",
    "process_df = process_df[process_df['#tax_id'] == '9606']\n",
    "process_df.head(2)"
   ]
  },
  {
   "cell_type": "code",
   "execution_count": 9,
   "metadata": {},
   "outputs": [
    {
     "data": {
      "text/plain": [
       "Category\n",
       "Process      157388\n",
       "Component    103600\n",
       "Function      84844\n",
       "Name: count, dtype: int64"
      ]
     },
     "execution_count": 9,
     "metadata": {},
     "output_type": "execute_result"
    }
   ],
   "source": [
    "process_df.Category.value_counts()"
   ]
  },
  {
   "attachments": {},
   "cell_type": "markdown",
   "metadata": {},
   "source": [
    "As we can see from the above, all three GO ontologies are included in this."
   ]
  },
  {
   "attachments": {},
   "cell_type": "markdown",
   "metadata": {},
   "source": [
    "To make this GO dataframe work with our other dataframes, we need all the NCBI gene IDs to start with the prefix, \"ncbigene\"."
   ]
  },
  {
   "cell_type": "code",
   "execution_count": 10,
   "metadata": {},
   "outputs": [],
   "source": [
    "process_df['GeneID'] = 'ncbigene:' + process_df['GeneID']"
   ]
  },
  {
   "attachments": {},
   "cell_type": "markdown",
   "metadata": {},
   "source": [
    "Now, let's investigate what the overlap is between the NCBI gene IDs in the GO and in the OpenBioLink KG:"
   ]
  },
  {
   "cell_type": "code",
   "execution_count": 11,
   "metadata": {},
   "outputs": [
    {
     "data": {
      "image/png": "[encoded data removed]",
      "text/plain": [
       "<Figure size 640x480 with 1 Axes>"
      ]
     },
     "metadata": {},
     "output_type": "display_data"
    }
   ],
   "source": [
    "venn2_unweighted(\n",
    "    [set(process_df['GeneID'].unique()), openbiolink_proteins],\n",
    "    set_labels=['Proteins Mapping to GO', 'OpenBioLink KG proteins']\n",
    ")\n",
    "plt.show()"
   ]
  },
  {
   "attachments": {},
   "cell_type": "markdown",
   "metadata": {},
   "source": [
    "And let's investigate what the overlap is between the NCBI gene IDs in the GO and in the Custom KG:"
   ]
  },
  {
   "cell_type": "code",
   "execution_count": 12,
   "metadata": {},
   "outputs": [
    {
     "data": {
      "image/png": "[encoded data removed]",
      "text/plain": [
       "<Figure size 640x480 with 1 Axes>"
      ]
     },
     "metadata": {},
     "output_type": "display_data"
    }
   ],
   "source": [
    "venn2_unweighted(\n",
    "    [set(process_df['GeneID'].unique()), custom_proteins],\n",
    "    set_labels=['Proteins Mapping to GO', 'Custom KG proteins']\n",
    ")\n",
    "plt.show()"
   ]
  },
  {
   "attachments": {},
   "cell_type": "markdown",
   "metadata": {},
   "source": [
    "And for all proteins between the two?"
   ]
  },
  {
   "cell_type": "code",
   "execution_count": 13,
   "metadata": {},
   "outputs": [],
   "source": [
    "all_protein_in_kg = custom_proteins.union(openbiolink_proteins)"
   ]
  },
  {
   "cell_type": "code",
   "execution_count": 14,
   "metadata": {},
   "outputs": [
    {
     "data": {
      "image/png": "[encoded data removed]",
      "text/plain": [
       "<Figure size 640x480 with 1 Axes>"
      ]
     },
     "metadata": {},
     "output_type": "display_data"
    }
   ],
   "source": [
    "venn2_unweighted(\n",
    "    [set(process_df['GeneID'].unique()), all_protein_in_kg],\n",
    "    set_labels=['Proteins Mapping to GO', 'KG proteins']\n",
    ")\n",
    "plt.show()"
   ]
  },
  {
   "attachments": {},
   "cell_type": "markdown",
   "metadata": {},
   "source": [
    "# GO Annotations\n",
    "\n",
    "Let's see what GO Annotations are connected to our proteins.\n",
    "\n",
    "First, get all the proteins between the two KGs:"
   ]
  },
  {
   "cell_type": "code",
   "execution_count": 15,
   "metadata": {},
   "outputs": [
    {
     "data": {
      "text/plain": [
       "4674"
      ]
     },
     "execution_count": 15,
     "metadata": {},
     "output_type": "execute_result"
    }
   ],
   "source": [
    "len(all_protein_in_kg)"
   ]
  },
  {
   "cell_type": "code",
   "execution_count": 16,
   "metadata": {},
   "outputs": [],
   "source": [
    "filtered_df = process_df[process_df['GeneID'].isin(all_protein_in_kg)]\n",
    "filtered_df.to_csv(f'{MAPPING_DIR}/in_kg_go_terms.tsv', sep='\\t', index=False)"
   ]
  },
  {
   "attachments": {},
   "cell_type": "markdown",
   "metadata": {},
   "source": [
    "Remind our selves what's in the original gene2GO dataframe:"
   ]
  },
  {
   "cell_type": "code",
   "execution_count": 17,
   "metadata": {},
   "outputs": [
    {
     "data": {
      "text/html": [
       "<div>\n",
       "<style scoped>\n",
       "    .dataframe tbody tr th:only-of-type {\n",
       "        vertical-align: middle;\n",
       "    }\n",
       "\n",
       "    .dataframe tbody tr th {\n",
       "        vertical-align: top;\n",
       "    }\n",
       "\n",
       "    .dataframe thead th {\n",
       "        text-align: right;\n",
       "    }\n",
       "</style>\n",
       "<table border=\"1\" class=\"dataframe\">\n",
       "  <thead>\n",
       "    <tr style=\"text-align: right;\">\n",
       "      <th></th>\n",
       "      <th>#tax_id</th>\n",
       "      <th>GeneID</th>\n",
       "      <th>GO_ID</th>\n",
       "      <th>Evidence</th>\n",
       "      <th>Qualifier</th>\n",
       "      <th>GO_term</th>\n",
       "      <th>PubMed</th>\n",
       "      <th>Category</th>\n",
       "    </tr>\n",
       "  </thead>\n",
       "  <tbody>\n",
       "    <tr>\n",
       "      <th>812193</th>\n",
       "      <td>9606</td>\n",
       "      <td>ncbigene:13</td>\n",
       "      <td>GO:0003824</td>\n",
       "      <td>TAS</td>\n",
       "      <td>enables</td>\n",
       "      <td>catalytic activity</td>\n",
       "      <td>8063807</td>\n",
       "      <td>Function</td>\n",
       "    </tr>\n",
       "    <tr>\n",
       "      <th>812194</th>\n",
       "      <td>9606</td>\n",
       "      <td>ncbigene:13</td>\n",
       "      <td>GO:0004806</td>\n",
       "      <td>IBA</td>\n",
       "      <td>enables</td>\n",
       "      <td>triglyceride lipase activity</td>\n",
       "      <td>21873635</td>\n",
       "      <td>Function</td>\n",
       "    </tr>\n",
       "  </tbody>\n",
       "</table>\n",
       "</div>"
      ],
      "text/plain": [
       "       #tax_id       GeneID       GO_ID Evidence Qualifier  \\\n",
       "812193    9606  ncbigene:13  GO:0003824      TAS   enables   \n",
       "812194    9606  ncbigene:13  GO:0004806      IBA   enables   \n",
       "\n",
       "                             GO_term    PubMed  Category  \n",
       "812193            catalytic activity   8063807  Function  \n",
       "812194  triglyceride lipase activity  21873635  Function  "
      ]
     },
     "execution_count": 17,
     "metadata": {},
     "output_type": "execute_result"
    }
   ],
   "source": [
    "filtered_df.head(2)"
   ]
  },
  {
   "attachments": {},
   "cell_type": "markdown",
   "metadata": {},
   "source": [
    "Let's map GO IDs here to their respective GO terms so that we can use it later."
   ]
  },
  {
   "cell_type": "code",
   "execution_count": 18,
   "metadata": {},
   "outputs": [],
   "source": [
    "id2term = {row['GO_ID']: row['GO_term'] for _, row in filtered_df.iterrows()}"
   ]
  },
  {
   "attachments": {},
   "cell_type": "markdown",
   "metadata": {},
   "source": [
    "What's happening here? We are looping through the above dataframe and extracting the GO terms.\n",
    "\n",
    "For each gene ID, we keep a set of associated GO terms.\n",
    "\n",
    "We also separate the GO terms by BP, molecular function, and cellular component so that we can keep track of which type of GO term is associated with which gene."
   ]
  },
  {
   "cell_type": "code",
   "execution_count": 19,
   "metadata": {},
   "outputs": [],
   "source": [
    "# Set of GO terms to remove since they are too general\n",
    "terms_to_remove = {\n",
    "    'GO:0046677',\t# response to antibiotic\n",
    "    'GO:0065003',\t# protein-containing complex assembly\n",
    "    'GO:0009636',\t# response to toxic substance\n",
    "    'GO:0000003', \t# reproduction\n",
    "    'GO:0008152',\t# metabolic process\n",
    "    'GO:0009056',\t# catabolic process\n",
    "    'GO:0032259',\t# methylation\n",
    "    'GO:0016310',\t# phosphorylation\n",
    "    'GO:0009058',\t# biosynthetic process\n",
    "    'GO:0007586',\t# digestion\n",
    "    'GO:0008150',\t# biological_process\n",
    "    'GO:0006810',\t# transport\n",
    "    'GO:0048870',\t# cell motility\n",
    "    'GO:0006091',\t# generation of precursor metabolites and energy\n",
    "    'GO:0007565',\t# female pregnancy\n",
    "    'GO:0043473',\t# pigmentation\n",
    "}"
   ]
  },
  {
   "cell_type": "code",
   "execution_count": 20,
   "metadata": {},
   "outputs": [
    {
     "name": "stderr",
     "output_type": "stream",
     "text": [
      "100%|██████████| 138134/138134 [00:00<00:00, 1097702.17it/s]\n"
     ]
    },
    {
     "data": {
      "text/plain": [
       "(4610, 4597, 4647, 4654)"
      ]
     },
     "execution_count": 20,
     "metadata": {},
     "output_type": "execute_result"
    }
   ],
   "source": [
    "genes = set()\n",
    "function_keywords = defaultdict(set)\n",
    "process_keywords = defaultdict(set)\n",
    "component_keywords = defaultdict(set)\n",
    "term_to_name = defaultdict(str)\n",
    "\n",
    "for tax_id, gene_id, go_id, ref, rel, term, pid, category  in tqdm(filtered_df.values):\n",
    "    if go_id in terms_to_remove:\n",
    "        continue\n",
    "    \n",
    "    if category == 'Process':\n",
    "        process_keywords[gene_id].add(go_id)\n",
    "        term_to_name[go_id] = term\n",
    "        genes.add(gene_id)\n",
    "\n",
    "    if category == 'Function':\n",
    "        function_keywords[gene_id].add(go_id)\n",
    "        genes.add(gene_id)\n",
    "    \n",
    "    if category == 'Component':\n",
    "        component_keywords[gene_id].add(go_id)\n",
    "        genes.add(gene_id)\n",
    "        \n",
    "len(function_keywords), len(process_keywords), len(component_keywords), len(genes)"
   ]
  },
  {
   "attachments": {},
   "cell_type": "markdown",
   "metadata": {},
   "source": [
    "### Most Common GO Associations\n",
    "\n",
    "What are the most common GO associations in our KG?"
   ]
  },
  {
   "cell_type": "code",
   "execution_count": 21,
   "metadata": {},
   "outputs": [
    {
     "data": {
      "text/plain": [
       "4597"
      ]
     },
     "execution_count": 21,
     "metadata": {},
     "output_type": "execute_result"
    }
   ],
   "source": [
    "kg_nodes_with_process = set(process_keywords.keys()) & set(all_protein_in_kg)\n",
    "len(kg_nodes_with_process)"
   ]
  },
  {
   "cell_type": "code",
   "execution_count": 22,
   "metadata": {},
   "outputs": [
    {
     "data": {
      "text/plain": [
       "4647"
      ]
     },
     "execution_count": 22,
     "metadata": {},
     "output_type": "execute_result"
    }
   ],
   "source": [
    "kg_nodes_with_comp = set(component_keywords.keys()) & set(all_protein_in_kg)\n",
    "len(kg_nodes_with_comp)"
   ]
  },
  {
   "cell_type": "code",
   "execution_count": 23,
   "metadata": {},
   "outputs": [
    {
     "data": {
      "text/plain": [
       "4610"
      ]
     },
     "execution_count": 23,
     "metadata": {},
     "output_type": "execute_result"
    }
   ],
   "source": [
    "kg_nodes_with_function = set(function_keywords.keys()) & set(all_protein_in_kg)\n",
    "len(kg_nodes_with_function)"
   ]
  },
  {
   "cell_type": "code",
   "execution_count": 24,
   "metadata": {},
   "outputs": [
    {
     "data": {
      "text/plain": [
       "20"
      ]
     },
     "execution_count": 24,
     "metadata": {},
     "output_type": "execute_result"
    }
   ],
   "source": [
    "kg_nodes_w_annotation = set.union(*[kg_nodes_with_process, kg_nodes_with_comp, kg_nodes_with_function])\n",
    "\n",
    "kg_nodes_without = set(all_protein_in_kg) - kg_nodes_w_annotation\n",
    "len(kg_nodes_without)"
   ]
  },
  {
   "attachments": {},
   "cell_type": "markdown",
   "metadata": {},
   "source": [
    "Let's see how many of each GO annotation term we have:\n",
    "\n",
    "BPs:"
   ]
  },
  {
   "cell_type": "code",
   "execution_count": 25,
   "metadata": {},
   "outputs": [
    {
     "data": {
      "text/plain": [
       "9246"
      ]
     },
     "execution_count": 25,
     "metadata": {},
     "output_type": "execute_result"
    }
   ],
   "source": [
    "p_words = [\n",
    "    go_term \n",
    "    for gene_idx, process_terms in process_keywords.items() \n",
    "    for go_term in process_terms\n",
    "    if gene_idx in all_protein_in_kg\n",
    "]\n",
    "len(set(p_words))"
   ]
  },
  {
   "attachments": {},
   "cell_type": "markdown",
   "metadata": {},
   "source": [
    "Cellular components:"
   ]
  },
  {
   "cell_type": "code",
   "execution_count": 26,
   "metadata": {},
   "outputs": [
    {
     "data": {
      "text/plain": [
       "1359"
      ]
     },
     "execution_count": 26,
     "metadata": {},
     "output_type": "execute_result"
    }
   ],
   "source": [
    "c_words = [\n",
    "    go_term \n",
    "    for gene_idx, process_terms in component_keywords.items() \n",
    "    for go_term in process_terms\n",
    "    if gene_idx in all_protein_in_kg\n",
    "]\n",
    "len(set(c_words))"
   ]
  },
  {
   "attachments": {},
   "cell_type": "markdown",
   "metadata": {},
   "source": [
    "Molecular functions:"
   ]
  },
  {
   "cell_type": "code",
   "execution_count": 27,
   "metadata": {},
   "outputs": [
    {
     "data": {
      "text/plain": [
       "2675"
      ]
     },
     "execution_count": 27,
     "metadata": {},
     "output_type": "execute_result"
    }
   ],
   "source": [
    "f_words = [\n",
    "    go_term \n",
    "    for gene_idx, process_terms in function_keywords.items() \n",
    "    for go_term in process_terms\n",
    "    if gene_idx in all_protein_in_kg\n",
    "]\n",
    "len(set(f_words))"
   ]
  },
  {
   "attachments": {},
   "cell_type": "markdown",
   "metadata": {},
   "source": [
    "## Looking into most common GO terms\n",
    "\n",
    "What are the most common cellular component terms?\n",
    "\n",
    "And how many GO annotations do we have per gene?"
   ]
  },
  {
   "cell_type": "code",
   "execution_count": 28,
   "metadata": {},
   "outputs": [],
   "source": [
    "number_of_process = [\n",
    "    len(item[1]) \n",
    "    for item in process_keywords.items() \n",
    "    if item[0] in all_protein_in_kg\n",
    "]"
   ]
  },
  {
   "cell_type": "code",
   "execution_count": 29,
   "metadata": {},
   "outputs": [],
   "source": [
    "number_of_components = [\n",
    "    len(item[1]) \n",
    "    for item in component_keywords.items() \n",
    "    if item[0] in all_protein_in_kg\n",
    "]"
   ]
  },
  {
   "cell_type": "code",
   "execution_count": 30,
   "metadata": {},
   "outputs": [],
   "source": [
    "number_of_functions = [\n",
    "    len(item[1]) \n",
    "    for item in function_keywords.items() \n",
    "    if item[0] in all_protein_in_kg\n",
    "]"
   ]
  },
  {
   "attachments": {},
   "cell_type": "markdown",
   "metadata": {},
   "source": [
    "### Cellular Components"
   ]
  },
  {
   "cell_type": "code",
   "execution_count": 31,
   "metadata": {},
   "outputs": [
    {
     "data": {
      "text/plain": [
       "[('GO:0005829', 1932),\n",
       " ('GO:0005886', 1801),\n",
       " ('GO:0005634', 1666),\n",
       " ('GO:0005654', 1552),\n",
       " ('GO:0005737', 1527),\n",
       " ('GO:0016020', 905),\n",
       " ('GO:0070062', 753),\n",
       " ('GO:0005576', 661),\n",
       " ('GO:0005615', 593),\n",
       " ('GO:0000785', 393)]"
      ]
     },
     "execution_count": 31,
     "metadata": {},
     "output_type": "execute_result"
    }
   ],
   "source": [
    "Counter(c_words).most_common(10)"
   ]
  },
  {
   "cell_type": "code",
   "execution_count": 32,
   "metadata": {},
   "outputs": [
    {
     "data": {
      "image/png": "[encoded data removed]",
      "text/plain": [
       "<Figure size 500x500 with 1 Axes>"
      ]
     },
     "metadata": {},
     "output_type": "display_data"
    }
   ],
   "source": [
    "sns.displot(number_of_components)\n",
    "plt.show()"
   ]
  },
  {
   "attachments": {},
   "cell_type": "markdown",
   "metadata": {},
   "source": [
    "### Biological Processes\n",
    "\n",
    "What are the most common BP terms?"
   ]
  },
  {
   "cell_type": "code",
   "execution_count": 33,
   "metadata": {},
   "outputs": [
    {
     "data": {
      "text/plain": [
       "[('G protein-coupled receptor signaling pathway', 620),\n",
       " ('positive regulation of transcription by RNA polymerase II', 559),\n",
       " ('signal transduction', 522),\n",
       " ('regulation of transcription by RNA polymerase II', 382),\n",
       " ('negative regulation of transcription by RNA polymerase II', 372),\n",
       " ('detection of chemical stimulus involved in sensory perception of smell',\n",
       "  363),\n",
       " ('positive regulation of DNA-templated transcription', 355),\n",
       " ('protein phosphorylation', 277),\n",
       " ('positive regulation of gene expression', 265),\n",
       " ('positive regulation of cell population proliferation', 260)]"
      ]
     },
     "execution_count": 33,
     "metadata": {},
     "output_type": "execute_result"
    }
   ],
   "source": [
    "[\n",
    "    (term_to_name[term], count)\n",
    "    for term, count in Counter(p_words).most_common(10)\n",
    "]"
   ]
  },
  {
   "cell_type": "code",
   "execution_count": 34,
   "metadata": {},
   "outputs": [
    {
     "data": {
      "image/png": "[encoded data removed]",
      "text/plain": [
       "<Figure size 500x500 with 1 Axes>"
      ]
     },
     "metadata": {},
     "output_type": "display_data"
    }
   ],
   "source": [
    "sns.displot(number_of_process)\n",
    "plt.show()"
   ]
  },
  {
   "attachments": {},
   "cell_type": "markdown",
   "metadata": {},
   "source": [
    "### Molecular Functions\n",
    "\n",
    "What are the most molecular function terms?"
   ]
  },
  {
   "cell_type": "code",
   "execution_count": 35,
   "metadata": {},
   "outputs": [
    {
     "data": {
      "text/plain": [
       "[('GO:0005515', 3604),\n",
       " ('GO:0042802', 568),\n",
       " ('GO:0005524', 532),\n",
       " ('GO:0003723', 516),\n",
       " ('GO:0004930', 476),\n",
       " ('GO:0046872', 475),\n",
       " ('GO:0004984', 363),\n",
       " ('GO:0003677', 342),\n",
       " ('GO:0000978', 316),\n",
       " ('GO:0000981', 297)]"
      ]
     },
     "execution_count": 35,
     "metadata": {},
     "output_type": "execute_result"
    }
   ],
   "source": [
    "Counter(f_words).most_common(10)"
   ]
  },
  {
   "cell_type": "code",
   "execution_count": 36,
   "metadata": {},
   "outputs": [
    {
     "data": {
      "image/png": "[encoded data removed]",
      "text/plain": [
       "<Figure size 500x500 with 1 Axes>"
      ]
     },
     "metadata": {},
     "output_type": "display_data"
    }
   ],
   "source": [
    "sns.displot(number_of_functions)\n",
    "plt.show()"
   ]
  },
  {
   "attachments": {},
   "cell_type": "markdown",
   "metadata": {},
   "source": [
    "Since we're mostly interested in BPs, how many unique BPs are connected with proteins in our KG?"
   ]
  },
  {
   "cell_type": "code",
   "execution_count": 37,
   "metadata": {},
   "outputs": [
    {
     "data": {
      "text/plain": [
       "9246"
      ]
     },
     "execution_count": 37,
     "metadata": {},
     "output_type": "execute_result"
    }
   ],
   "source": [
    "len(set(p_words))"
   ]
  },
  {
   "attachments": {},
   "cell_type": "markdown",
   "metadata": {},
   "source": [
    "This is way too many. We'll have to find ways to filter them down."
   ]
  },
  {
   "attachments": {},
   "cell_type": "markdown",
   "metadata": {},
   "source": [
    "## Drug-BP Labels\n",
    "\n",
    "Next, we have drug-BP labels which were extracted from [ChEMBL](https://www.ebi.ac.uk/chembl/)."
   ]
  },
  {
   "cell_type": "code",
   "execution_count": 38,
   "metadata": {},
   "outputs": [
    {
     "data": {
      "text/html": [
       "<div>\n",
       "<style scoped>\n",
       "    .dataframe tbody tr th:only-of-type {\n",
       "        vertical-align: middle;\n",
       "    }\n",
       "\n",
       "    .dataframe tbody tr th {\n",
       "        vertical-align: top;\n",
       "    }\n",
       "\n",
       "    .dataframe thead th {\n",
       "        text-align: right;\n",
       "    }\n",
       "</style>\n",
       "<table border=\"1\" class=\"dataframe\">\n",
       "  <thead>\n",
       "    <tr style=\"text-align: right;\">\n",
       "      <th></th>\n",
       "      <th>chembl_idx</th>\n",
       "      <th>pchembl_value</th>\n",
       "      <th>go_id</th>\n",
       "    </tr>\n",
       "  </thead>\n",
       "  <tbody>\n",
       "    <tr>\n",
       "      <th>0</th>\n",
       "      <td>CHEMBL344142</td>\n",
       "      <td>NaN</td>\n",
       "      <td>GO:0000166</td>\n",
       "    </tr>\n",
       "    <tr>\n",
       "      <th>1</th>\n",
       "      <td>CHEMBL344142</td>\n",
       "      <td>NaN</td>\n",
       "      <td>GO:0016491</td>\n",
       "    </tr>\n",
       "    <tr>\n",
       "      <th>2</th>\n",
       "      <td>CHEMBL400534</td>\n",
       "      <td>NaN</td>\n",
       "      <td>GO:0000166</td>\n",
       "    </tr>\n",
       "    <tr>\n",
       "      <th>3</th>\n",
       "      <td>CHEMBL400534</td>\n",
       "      <td>NaN</td>\n",
       "      <td>GO:0016491</td>\n",
       "    </tr>\n",
       "    <tr>\n",
       "      <th>4</th>\n",
       "      <td>CHEMBL3137945</td>\n",
       "      <td>NaN</td>\n",
       "      <td>GO:0000166</td>\n",
       "    </tr>\n",
       "  </tbody>\n",
       "</table>\n",
       "</div>"
      ],
      "text/plain": [
       "      chembl_idx  pchembl_value       go_id\n",
       "0   CHEMBL344142            NaN  GO:0000166\n",
       "1   CHEMBL344142            NaN  GO:0016491\n",
       "2   CHEMBL400534            NaN  GO:0000166\n",
       "3   CHEMBL400534            NaN  GO:0016491\n",
       "4  CHEMBL3137945            NaN  GO:0000166"
      ]
     },
     "execution_count": 38,
     "metadata": {},
     "output_type": "execute_result"
    }
   ],
   "source": [
    "chembl_go = pd.read_csv(\n",
    "    osp.join(MAPPING_DIR, \"chembl_go.tsv\"),\n",
    "    sep=\"\\t\", \n",
    "    usecols=['chembl_idx', 'go_id', 'pchembl_value'],\n",
    "    low_memory=False\n",
    ")\n",
    "chembl_go.head(5)"
   ]
  },
  {
   "attachments": {},
   "cell_type": "markdown",
   "metadata": {},
   "source": [
    "We only want the ones with a positive association, and that cutoff is a PChEMBL value of 6 or higher."
   ]
  },
  {
   "cell_type": "code",
   "execution_count": 39,
   "metadata": {},
   "outputs": [],
   "source": [
    "chembl_go = chembl_go.loc[chembl_go['pchembl_value'] >= 6]"
   ]
  },
  {
   "attachments": {},
   "cell_type": "markdown",
   "metadata": {},
   "source": [
    "Let's just take the columns we want since the df is so large."
   ]
  },
  {
   "cell_type": "code",
   "execution_count": 40,
   "metadata": {},
   "outputs": [],
   "source": [
    "chembl_go = chembl_go[['chembl_idx', 'go_id']]\n",
    "# drop duplicates since some of them were distinct by assay ID:\n",
    "chembl_go.drop_duplicates(inplace=True)"
   ]
  },
  {
   "attachments": {},
   "cell_type": "markdown",
   "metadata": {},
   "source": [
    "How many interactions do we have?"
   ]
  },
  {
   "cell_type": "code",
   "execution_count": 41,
   "metadata": {},
   "outputs": [
    {
     "data": {
      "text/plain": [
       "9703547"
      ]
     },
     "execution_count": 41,
     "metadata": {},
     "output_type": "execute_result"
    }
   ],
   "source": [
    "len(chembl_go)"
   ]
  },
  {
   "attachments": {},
   "cell_type": "markdown",
   "metadata": {},
   "source": [
    "Unique drugs?"
   ]
  },
  {
   "cell_type": "code",
   "execution_count": 42,
   "metadata": {},
   "outputs": [
    {
     "data": {
      "text/plain": [
       "398706"
      ]
     },
     "execution_count": 42,
     "metadata": {},
     "output_type": "execute_result"
    }
   ],
   "source": [
    "len(chembl_go['chembl_idx'].unique())"
   ]
  },
  {
   "attachments": {},
   "cell_type": "markdown",
   "metadata": {},
   "source": [
    "Unique GO terms?"
   ]
  },
  {
   "cell_type": "code",
   "execution_count": 43,
   "metadata": {},
   "outputs": [
    {
     "data": {
      "text/plain": [
       "242"
      ]
     },
     "execution_count": 43,
     "metadata": {},
     "output_type": "execute_result"
    }
   ],
   "source": [
    "chembl_go_terms = set(chembl_go['go_id'])\n",
    "chembl_go_terms = chembl_go_terms - terms_to_remove\n",
    "len(chembl_go_terms)"
   ]
  },
  {
   "attachments": {},
   "cell_type": "markdown",
   "metadata": {},
   "source": [
    "How many of these GO terms overlap with the GO BPs we found before?\n",
    "\n",
    "Here I prune the protein-GO BP mappings to include only those proteins in the KG."
   ]
  },
  {
   "cell_type": "code",
   "execution_count": 44,
   "metadata": {},
   "outputs": [],
   "source": [
    "process_ids = {\n",
    "    gene_idx: process_terms\n",
    "    for gene_idx, process_terms in process_keywords.items() \n",
    "    if gene_idx in all_protein_in_kg\n",
    "}"
   ]
  },
  {
   "cell_type": "code",
   "execution_count": 45,
   "metadata": {},
   "outputs": [
    {
     "name": "stdout",
     "output_type": "stream",
     "text": [
      "9246 GO BPs are attached to our KG.\n"
     ]
    }
   ],
   "source": [
    "# GO BPs which are attached to the KG\n",
    "go_bps = set.union(*process_ids.values())\n",
    "# KG Proteins attached to these GO BPs\n",
    "kg_prots_w_bps = set(process_ids.keys())\n",
    "print(f\"{len(go_bps)} GO BPs are attached to our KG.\")"
   ]
  },
  {
   "cell_type": "code",
   "execution_count": 46,
   "metadata": {
    "scrolled": true
   },
   "outputs": [
    {
     "name": "stdout",
     "output_type": "stream",
     "text": [
      "9246 of those GO BPs are also found in the drug-BP dataset from ChEMBL.\n"
     ]
    },
    {
     "data": {
      "text/plain": [
       "60"
      ]
     },
     "execution_count": 46,
     "metadata": {},
     "output_type": "execute_result"
    }
   ],
   "source": [
    "bp_overlap = go_bps & chembl_go_terms\n",
    "print(f\"{len(go_bps)} of those GO BPs are also found in the drug-BP dataset from ChEMBL.\")\n",
    "len(bp_overlap)"
   ]
  },
  {
   "cell_type": "code",
   "execution_count": 47,
   "metadata": {},
   "outputs": [
    {
     "data": {
      "image/png": "[encoded data removed]",
      "text/plain": [
       "<Figure size 640x480 with 1 Axes>"
      ]
     },
     "metadata": {},
     "output_type": "display_data"
    }
   ],
   "source": [
    "venn2_unweighted(\n",
    "    [go_bps, chembl_go_terms],\n",
    "    set_labels=['GO BPs - Proteins', 'GO BPs - ChEMBL Drugs']\n",
    ")\n",
    "plt.show()"
   ]
  },
  {
   "attachments": {},
   "cell_type": "markdown",
   "metadata": {},
   "source": [
    "And what if we only want to see those with drugs in our KG?\n",
    "\n",
    "### Mapping KG drugs to those in our KG-BP dataset:\n",
    "\n",
    "First, we need to do mappings between the PubChem IDs in our KG and the ChEMBL IDs here."
   ]
  },
  {
   "cell_type": "code",
   "execution_count": 48,
   "metadata": {},
   "outputs": [],
   "source": [
    "# Get all the KG drugs:\n",
    "obl_drugs = {d for d in openbiolink_df['source'] if 'pubchem.compound' in d}\n",
    "custom_drugs = {d for d in custom_df['source'] if 'pubchem.compound' in d}"
   ]
  },
  {
   "cell_type": "code",
   "execution_count": 49,
   "metadata": {},
   "outputs": [
    {
     "data": {
      "text/plain": [
       "218"
      ]
     },
     "execution_count": 49,
     "metadata": {},
     "output_type": "execute_result"
    }
   ],
   "source": [
    "len(custom_drugs)"
   ]
  },
  {
   "cell_type": "code",
   "execution_count": 50,
   "metadata": {},
   "outputs": [
    {
     "data": {
      "text/plain": [
       "211"
      ]
     },
     "execution_count": 50,
     "metadata": {},
     "output_type": "execute_result"
    }
   ],
   "source": [
    "len(obl_drugs)"
   ]
  },
  {
   "cell_type": "code",
   "execution_count": 51,
   "metadata": {},
   "outputs": [],
   "source": [
    "all_drugs = custom_drugs.union(obl_drugs)"
   ]
  },
  {
   "cell_type": "code",
   "execution_count": 52,
   "metadata": {},
   "outputs": [
    {
     "name": "stdout",
     "output_type": "stream",
     "text": [
      "There are 272 PubChem drugs in the KG.\n"
     ]
    }
   ],
   "source": [
    "print(f\"There are {len(all_drugs)} PubChem drugs in the KG.\")"
   ]
  },
  {
   "attachments": {},
   "cell_type": "markdown",
   "metadata": {},
   "source": [
    "We need to get them without their prefixes:"
   ]
  },
  {
   "cell_type": "code",
   "execution_count": 53,
   "metadata": {},
   "outputs": [],
   "source": [
    "cids = [cid.split(':')[1] for cid in all_drugs]"
   ]
  },
  {
   "attachments": {},
   "cell_type": "markdown",
   "metadata": {},
   "source": [
    "Now we map:"
   ]
  },
  {
   "cell_type": "code",
   "execution_count": 54,
   "metadata": {},
   "outputs": [],
   "source": [
    "def get_pubchem_to_chembl(pubchemids: List[str], chunk_size=100):\n",
    "    \"\"\"Gets mappings from pubchem IDs to ChEMBL IDs.\n",
    "    :param pubchemids: list of CIDs (numbers only, but in string format)\n",
    "    :param chunk_size: the number of CIDs to query at once (100 is default and recommended)\n",
    "    :returns: a dictionary mapping pubchem ID to ChEMBL ID. ChEMBL ID will be None if no mapping exists.\n",
    "    \"\"\"\n",
    "    pubchem2chembl = {}\n",
    "    for i in tqdm(range(0, len(pubchemids), chunk_size)):\n",
    "        cids = \",\".join([str(c) for c in pubchemids[i:i + chunk_size]])\n",
    "        r = requests.get(f'https://pubchem.ncbi.nlm.nih.gov/rest/pug/compound/cid/{cids}/xrefs/RegistryID/json')\n",
    "        xrefs = r.json()['InformationList']['Information']\n",
    "        for x in xrefs:\n",
    "            if 'RegistryID' not in x:\n",
    "                pubchem2chembl[x['CID']] = None\n",
    "                continue\n",
    "            m = re.search(r\"(?!S)CHEMBL\\d+\", ' '.join(x['RegistryID']))\n",
    "            chemblid = m.group(0) if m else None\n",
    "            pubchem2chembl[x['CID']] = chemblid\n",
    "    return pubchem2chembl\n"
   ]
  },
  {
   "cell_type": "code",
   "execution_count": 55,
   "metadata": {},
   "outputs": [
    {
     "name": "stderr",
     "output_type": "stream",
     "text": [
      "100%|██████████| 3/3 [01:00<00:00, 20.29s/it]\n"
     ]
    },
    {
     "data": {
      "text/plain": [
       "272"
      ]
     },
     "execution_count": 55,
     "metadata": {},
     "output_type": "execute_result"
    }
   ],
   "source": [
    "cid2chembl = get_pubchem_to_chembl(cids)\n",
    "len(cid2chembl)"
   ]
  },
  {
   "attachments": {},
   "cell_type": "markdown",
   "metadata": {},
   "source": [
    "How many did not map?"
   ]
  },
  {
   "cell_type": "code",
   "execution_count": 56,
   "metadata": {},
   "outputs": [
    {
     "data": {
      "text/plain": [
       "0"
      ]
     },
     "execution_count": 56,
     "metadata": {},
     "output_type": "execute_result"
    }
   ],
   "source": [
    "len([i for i in cid2chembl.values() if i == None])"
   ]
  },
  {
   "attachments": {},
   "cell_type": "markdown",
   "metadata": {},
   "source": [
    "None of them! Fantastic. We have all the drugs in our KG as ChEMBL IDs. What if we subset the dataframe to have only the drugs in our KGs:"
   ]
  },
  {
   "cell_type": "code",
   "execution_count": 57,
   "metadata": {},
   "outputs": [
    {
     "name": "stdout",
     "output_type": "stream",
     "text": [
      "(9703547, 2)\n",
      "(8554925, 2)\n"
     ]
    }
   ],
   "source": [
    "print(chembl_go.shape)\n",
    "chembl_go = chembl_go[~chembl_go['go_id'].isin(terms_to_remove)]\n",
    "print(chembl_go.shape)"
   ]
  },
  {
   "cell_type": "code",
   "execution_count": 58,
   "metadata": {},
   "outputs": [],
   "source": [
    "# ChEMBL dataset with only rows containing one of the 240 drugs from our KG\n",
    "usable_drug_bps = chembl_go.loc[chembl_go['chembl_idx'].isin(set(cid2chembl.values()))]"
   ]
  },
  {
   "attachments": {},
   "cell_type": "markdown",
   "metadata": {},
   "source": [
    "How many drugs does this leave us with?"
   ]
  },
  {
   "cell_type": "code",
   "execution_count": 59,
   "metadata": {},
   "outputs": [
    {
     "name": "stdout",
     "output_type": "stream",
     "text": [
      "142 drugs left between ChEMBL dataset and KG.\n"
     ]
    }
   ],
   "source": [
    "print(f\"{len(usable_drug_bps['chembl_idx'].unique())} drugs left between ChEMBL dataset and KG.\")"
   ]
  },
  {
   "cell_type": "code",
   "execution_count": 60,
   "metadata": {},
   "outputs": [
    {
     "data": {
      "image/png": "[encoded data removed]",
      "text/plain": [
       "<Figure size 640x480 with 1 Axes>"
      ]
     },
     "metadata": {},
     "output_type": "display_data"
    }
   ],
   "source": [
    "venn2_unweighted(\n",
    "    [set(cid2chembl.values()), set(chembl_go['chembl_idx'].unique())],\n",
    "    set_labels=['Drugs in the KG', 'Drugs in the ChEMBL Dataset']\n",
    ")\n",
    "plt.show()"
   ]
  },
  {
   "attachments": {},
   "cell_type": "markdown",
   "metadata": {},
   "source": [
    "Interactions?"
   ]
  },
  {
   "cell_type": "code",
   "execution_count": 61,
   "metadata": {},
   "outputs": [
    {
     "name": "stdout",
     "output_type": "stream",
     "text": [
      "5134 known drug-BP interactions left.\n"
     ]
    }
   ],
   "source": [
    "print(f\"{len(usable_drug_bps)} known drug-BP interactions left.\")"
   ]
  },
  {
   "attachments": {},
   "cell_type": "markdown",
   "metadata": {},
   "source": [
    "And BPs leftover?"
   ]
  },
  {
   "cell_type": "code",
   "execution_count": 62,
   "metadata": {},
   "outputs": [
    {
     "data": {
      "text/plain": [
       "181"
      ]
     },
     "execution_count": 62,
     "metadata": {},
     "output_type": "execute_result"
    }
   ],
   "source": [
    "chembl_go_terms = set(usable_drug_bps['go_id'])\n",
    "len(chembl_go_terms)"
   ]
  },
  {
   "cell_type": "code",
   "execution_count": 63,
   "metadata": {
    "scrolled": true
   },
   "outputs": [
    {
     "name": "stdout",
     "output_type": "stream",
     "text": [
      "57 GO BPs left between ChEMBL dataset and KG.\n"
     ]
    }
   ],
   "source": [
    "bp_overlap = go_bps & chembl_go_terms\n",
    "print(f\"{len(bp_overlap)} GO BPs left between ChEMBL dataset and KG.\")"
   ]
  },
  {
   "cell_type": "code",
   "execution_count": 64,
   "metadata": {},
   "outputs": [
    {
     "data": {
      "image/png": "[encoded data removed]",
      "text/plain": [
       "<Figure size 640x480 with 1 Axes>"
      ]
     },
     "metadata": {},
     "output_type": "display_data"
    }
   ],
   "source": [
    "venn2_unweighted(\n",
    "    [go_bps, chembl_go_terms],\n",
    "    set_labels=['GO BPs attached to KG Proteins', 'GO BPs attached to ChEMBL Drugs']\n",
    ")\n",
    "plt.show()"
   ]
  },
  {
   "attachments": {},
   "cell_type": "markdown",
   "metadata": {},
   "source": [
    "That's still a good amount- we only lost one! Okay, let's just subset the dataframe to the GO BPs in the intersection and continue:"
   ]
  },
  {
   "cell_type": "code",
   "execution_count": 65,
   "metadata": {},
   "outputs": [],
   "source": [
    "# ChEMBL dataset with only rows containing one of the 62 GO BPs attached to proteins in KG\n",
    "usable_drug_bps = usable_drug_bps.loc[usable_drug_bps['go_id'].isin(bp_overlap)]"
   ]
  },
  {
   "attachments": {},
   "cell_type": "markdown",
   "metadata": {},
   "source": [
    "Let's investigate what the BP terms are and how many proteins/drugs each are connected to.\n",
    "\n",
    "First, subset the GO ID to term dictionary:"
   ]
  },
  {
   "cell_type": "code",
   "execution_count": 66,
   "metadata": {},
   "outputs": [
    {
     "data": {
      "text/plain": [
       "57"
      ]
     },
     "execution_count": 66,
     "metadata": {},
     "output_type": "execute_result"
    }
   ],
   "source": [
    "sub_id2term = {key: val for key, val in id2term.items() if key in bp_overlap}\n",
    "len(sub_id2term)"
   ]
  },
  {
   "attachments": {},
   "cell_type": "markdown",
   "metadata": {},
   "source": [
    "Next, get the number of drugs associated with each GO term:"
   ]
  },
  {
   "cell_type": "code",
   "execution_count": 67,
   "metadata": {},
   "outputs": [],
   "source": [
    "go2drugno = Counter(usable_drug_bps['go_id'])"
   ]
  },
  {
   "cell_type": "code",
   "execution_count": 68,
   "metadata": {},
   "outputs": [
    {
     "data": {
      "text/plain": [
       "57"
      ]
     },
     "execution_count": 68,
     "metadata": {},
     "output_type": "execute_result"
    }
   ],
   "source": [
    "len(go2drugno)"
   ]
  },
  {
   "attachments": {},
   "cell_type": "markdown",
   "metadata": {},
   "source": [
    "And finally, get the number of proteins per GO term:"
   ]
  },
  {
   "cell_type": "code",
   "execution_count": 69,
   "metadata": {},
   "outputs": [
    {
     "data": {
      "text/html": [
       "<div>\n",
       "<style scoped>\n",
       "    .dataframe tbody tr th:only-of-type {\n",
       "        vertical-align: middle;\n",
       "    }\n",
       "\n",
       "    .dataframe tbody tr th {\n",
       "        vertical-align: top;\n",
       "    }\n",
       "\n",
       "    .dataframe thead th {\n",
       "        text-align: right;\n",
       "    }\n",
       "</style>\n",
       "<table border=\"1\" class=\"dataframe\">\n",
       "  <thead>\n",
       "    <tr style=\"text-align: right;\">\n",
       "      <th></th>\n",
       "      <th>#tax_id</th>\n",
       "      <th>GeneID</th>\n",
       "      <th>GO_ID</th>\n",
       "      <th>Evidence</th>\n",
       "      <th>Qualifier</th>\n",
       "      <th>GO_term</th>\n",
       "      <th>PubMed</th>\n",
       "      <th>Category</th>\n",
       "    </tr>\n",
       "  </thead>\n",
       "  <tbody>\n",
       "    <tr>\n",
       "      <th>812115</th>\n",
       "      <td>9606</td>\n",
       "      <td>ncbigene:1</td>\n",
       "      <td>GO:0003674</td>\n",
       "      <td>ND</td>\n",
       "      <td>enables</td>\n",
       "      <td>molecular_function</td>\n",
       "      <td>-</td>\n",
       "      <td>Function</td>\n",
       "    </tr>\n",
       "    <tr>\n",
       "      <th>812116</th>\n",
       "      <td>9606</td>\n",
       "      <td>ncbigene:1</td>\n",
       "      <td>GO:0005576</td>\n",
       "      <td>HDA</td>\n",
       "      <td>located_in</td>\n",
       "      <td>extracellular region</td>\n",
       "      <td>27068509</td>\n",
       "      <td>Component</td>\n",
       "    </tr>\n",
       "    <tr>\n",
       "      <th>812117</th>\n",
       "      <td>9606</td>\n",
       "      <td>ncbigene:1</td>\n",
       "      <td>GO:0005576</td>\n",
       "      <td>IDA</td>\n",
       "      <td>located_in</td>\n",
       "      <td>extracellular region</td>\n",
       "      <td>3458201</td>\n",
       "      <td>Component</td>\n",
       "    </tr>\n",
       "    <tr>\n",
       "      <th>812118</th>\n",
       "      <td>9606</td>\n",
       "      <td>ncbigene:1</td>\n",
       "      <td>GO:0005576</td>\n",
       "      <td>TAS</td>\n",
       "      <td>located_in</td>\n",
       "      <td>extracellular region</td>\n",
       "      <td>-</td>\n",
       "      <td>Component</td>\n",
       "    </tr>\n",
       "    <tr>\n",
       "      <th>812119</th>\n",
       "      <td>9606</td>\n",
       "      <td>ncbigene:1</td>\n",
       "      <td>GO:0005615</td>\n",
       "      <td>HDA</td>\n",
       "      <td>located_in</td>\n",
       "      <td>extracellular space</td>\n",
       "      <td>16502470</td>\n",
       "      <td>Component</td>\n",
       "    </tr>\n",
       "  </tbody>\n",
       "</table>\n",
       "</div>"
      ],
      "text/plain": [
       "       #tax_id      GeneID       GO_ID Evidence   Qualifier  \\\n",
       "812115    9606  ncbigene:1  GO:0003674       ND     enables   \n",
       "812116    9606  ncbigene:1  GO:0005576      HDA  located_in   \n",
       "812117    9606  ncbigene:1  GO:0005576      IDA  located_in   \n",
       "812118    9606  ncbigene:1  GO:0005576      TAS  located_in   \n",
       "812119    9606  ncbigene:1  GO:0005615      HDA  located_in   \n",
       "\n",
       "                     GO_term    PubMed   Category  \n",
       "812115    molecular_function         -   Function  \n",
       "812116  extracellular region  27068509  Component  \n",
       "812117  extracellular region   3458201  Component  \n",
       "812118  extracellular region         -  Component  \n",
       "812119   extracellular space  16502470  Component  "
      ]
     },
     "execution_count": 69,
     "metadata": {},
     "output_type": "execute_result"
    }
   ],
   "source": [
    "process_df.head(5)"
   ]
  },
  {
   "cell_type": "code",
   "execution_count": 70,
   "metadata": {},
   "outputs": [],
   "source": [
    "usable_prot_bps = process_df.loc[process_df['GO_ID'].isin(bp_overlap) & process_df['GeneID'].isin(kg_prots_w_bps)]"
   ]
  },
  {
   "cell_type": "code",
   "execution_count": 71,
   "metadata": {},
   "outputs": [
    {
     "data": {
      "text/plain": [
       "array(['Process'], dtype=object)"
      ]
     },
     "execution_count": 71,
     "metadata": {},
     "output_type": "execute_result"
    }
   ],
   "source": [
    "# make sure there are only BPs in there:\n",
    "usable_prot_bps['Category'].unique()"
   ]
  },
  {
   "cell_type": "code",
   "execution_count": 72,
   "metadata": {},
   "outputs": [
    {
     "data": {
      "text/plain": [
       "2571"
      ]
     },
     "execution_count": 72,
     "metadata": {},
     "output_type": "execute_result"
    }
   ],
   "source": [
    "usable_prot_bps = usable_prot_bps[['GeneID', 'GO_ID']]\n",
    "usable_prot_bps.drop_duplicates(inplace=True)\n",
    "len(usable_prot_bps)"
   ]
  },
  {
   "cell_type": "code",
   "execution_count": 73,
   "metadata": {},
   "outputs": [],
   "source": [
    "go2protno = Counter(usable_prot_bps['GO_ID'])"
   ]
  },
  {
   "cell_type": "code",
   "execution_count": 74,
   "metadata": {},
   "outputs": [
    {
     "data": {
      "text/plain": [
       "57"
      ]
     },
     "execution_count": 74,
     "metadata": {},
     "output_type": "execute_result"
    }
   ],
   "source": [
    "len(go2protno)"
   ]
  },
  {
   "cell_type": "code",
   "execution_count": 75,
   "metadata": {},
   "outputs": [],
   "source": [
    "feasible_go_bps = pd.DataFrame(sub_id2term.items(), columns=['go_id', 'go_term'])\n",
    "feasible_go_bps['num_drugs'] = feasible_go_bps['go_id'].map(go2drugno)\n",
    "feasible_go_bps['num_prots'] = feasible_go_bps['go_id'].map(go2protno)"
   ]
  },
  {
   "cell_type": "code",
   "execution_count": 76,
   "metadata": {},
   "outputs": [
    {
     "data": {
      "text/html": [
       "<div>\n",
       "<style scoped>\n",
       "    .dataframe tbody tr th:only-of-type {\n",
       "        vertical-align: middle;\n",
       "    }\n",
       "\n",
       "    .dataframe tbody tr th {\n",
       "        vertical-align: top;\n",
       "    }\n",
       "\n",
       "    .dataframe thead th {\n",
       "        text-align: right;\n",
       "    }\n",
       "</style>\n",
       "<table border=\"1\" class=\"dataframe\">\n",
       "  <thead>\n",
       "    <tr style=\"text-align: right;\">\n",
       "      <th></th>\n",
       "      <th>go_id</th>\n",
       "      <th>go_term</th>\n",
       "      <th>num_drugs</th>\n",
       "      <th>num_prots</th>\n",
       "    </tr>\n",
       "  </thead>\n",
       "  <tbody>\n",
       "    <tr>\n",
       "      <th>0</th>\n",
       "      <td>GO:0006629</td>\n",
       "      <td>lipid metabolic process</td>\n",
       "      <td>63</td>\n",
       "      <td>45</td>\n",
       "    </tr>\n",
       "    <tr>\n",
       "      <th>1</th>\n",
       "      <td>GO:0006805</td>\n",
       "      <td>xenobiotic metabolic process</td>\n",
       "      <td>36</td>\n",
       "      <td>47</td>\n",
       "    </tr>\n",
       "    <tr>\n",
       "      <th>2</th>\n",
       "      <td>GO:0006914</td>\n",
       "      <td>autophagy</td>\n",
       "      <td>23</td>\n",
       "      <td>43</td>\n",
       "    </tr>\n",
       "    <tr>\n",
       "      <th>3</th>\n",
       "      <td>GO:0043065</td>\n",
       "      <td>positive regulation of apoptotic process</td>\n",
       "      <td>27</td>\n",
       "      <td>163</td>\n",
       "    </tr>\n",
       "    <tr>\n",
       "      <th>4</th>\n",
       "      <td>GO:0007155</td>\n",
       "      <td>cell adhesion</td>\n",
       "      <td>13</td>\n",
       "      <td>139</td>\n",
       "    </tr>\n",
       "  </tbody>\n",
       "</table>\n",
       "</div>"
      ],
      "text/plain": [
       "        go_id                                   go_term  num_drugs  num_prots\n",
       "0  GO:0006629                   lipid metabolic process         63         45\n",
       "1  GO:0006805              xenobiotic metabolic process         36         47\n",
       "2  GO:0006914                                 autophagy         23         43\n",
       "3  GO:0043065  positive regulation of apoptotic process         27        163\n",
       "4  GO:0007155                             cell adhesion         13        139"
      ]
     },
     "execution_count": 76,
     "metadata": {},
     "output_type": "execute_result"
    }
   ],
   "source": [
    "feasible_go_bps.head(5)"
   ]
  },
  {
   "cell_type": "code",
   "execution_count": 77,
   "metadata": {},
   "outputs": [],
   "source": [
    "feasible_go_bps.to_csv(osp.join(KG_DIR, 'feasible_go_bps.tsv'), sep='\\t', index=False)"
   ]
  },
  {
   "cell_type": "code",
   "execution_count": 78,
   "metadata": {},
   "outputs": [
    {
     "name": "stdout",
     "output_type": "stream",
     "text": [
      "1675 drug-BP interactions left.\n"
     ]
    }
   ],
   "source": [
    "print(f\"{len(usable_drug_bps)} drug-BP interactions left.\")"
   ]
  },
  {
   "cell_type": "code",
   "execution_count": 79,
   "metadata": {},
   "outputs": [
    {
     "name": "stdout",
     "output_type": "stream",
     "text": [
      "142 drugs left.\n"
     ]
    }
   ],
   "source": [
    "print(f\"{len(usable_drug_bps['chembl_idx'].unique())} drugs left.\")"
   ]
  },
  {
   "attachments": {},
   "cell_type": "markdown",
   "metadata": {},
   "source": [
    "What proportion of our dataset is positive labels?"
   ]
  },
  {
   "cell_type": "code",
   "execution_count": 80,
   "metadata": {},
   "outputs": [
    {
     "data": {
      "text/plain": [
       "0.2069434148752162"
      ]
     },
     "execution_count": 80,
     "metadata": {},
     "output_type": "execute_result"
    }
   ],
   "source": [
    "len(usable_drug_bps) / (len(usable_drug_bps['chembl_idx'].unique()) * len(bp_overlap))"
   ]
  },
  {
   "attachments": {},
   "cell_type": "markdown",
   "metadata": {},
   "source": [
    "## KG Combination\n",
    "\n",
    "Here, I combine the various edge types to create one KG"
   ]
  },
  {
   "attachments": {},
   "cell_type": "markdown",
   "metadata": {},
   "source": [
    "Protein to Protein AND Compound to Protein Edges:"
   ]
  },
  {
   "cell_type": "code",
   "execution_count": 81,
   "metadata": {},
   "outputs": [],
   "source": [
    "protein_kg = pd.concat([openbiolink_df, custom_df], ignore_index=True)\n",
    "\n",
    "new_protein_kg = {'source': [],\n",
    "                  'source_node_type': [],\n",
    "                  'target': [],\n",
    "                  'target_node_type': [],\n",
    "                  'edge_type': []}\n",
    "\n",
    "for i, row in protein_kg.iterrows():\n",
    "    src_type = 'Compound' if 'compound' in row['source'] else 'Gene'\n",
    "    snk_type = 'Gene'\n",
    "\n",
    "    if src_type == 'Gene':  # if it's protein-protein\n",
    "        edge_type = 'interacts'\n",
    "\n",
    "        if row['polarity'] == -1:\n",
    "            src = row['target']\n",
    "            snk = row['source']\n",
    "        else:\n",
    "            src = row['source']\n",
    "            snk = row['target']\n",
    "\n",
    "    else:  # if it's compound-protein\n",
    "        if row['polarity'] == -1:\n",
    "            edge_type = 'downregulates'\n",
    "        else:\n",
    "            edge_type = 'upregulates'\n",
    "\n",
    "        src = row['source']\n",
    "        snk = row['target']\n",
    "\n",
    "    new_protein_kg['source'].append(src)\n",
    "    new_protein_kg['source_node_type'].append(src_type)\n",
    "    new_protein_kg['target'].append(snk)\n",
    "    new_protein_kg['target_node_type'].append(snk_type)\n",
    "    new_protein_kg['edge_type'].append(edge_type)\n",
    "\n",
    "\n",
    "new_protein_kg = pd.DataFrame(new_protein_kg)"
   ]
  },
  {
   "cell_type": "code",
   "execution_count": 82,
   "metadata": {},
   "outputs": [
    {
     "data": {
      "text/html": [
       "<div>\n",
       "<style scoped>\n",
       "    .dataframe tbody tr th:only-of-type {\n",
       "        vertical-align: middle;\n",
       "    }\n",
       "\n",
       "    .dataframe tbody tr th {\n",
       "        vertical-align: top;\n",
       "    }\n",
       "\n",
       "    .dataframe thead th {\n",
       "        text-align: right;\n",
       "    }\n",
       "</style>\n",
       "<table border=\"1\" class=\"dataframe\">\n",
       "  <thead>\n",
       "    <tr style=\"text-align: right;\">\n",
       "      <th></th>\n",
       "      <th>source</th>\n",
       "      <th>source_node_type</th>\n",
       "      <th>target</th>\n",
       "      <th>target_node_type</th>\n",
       "      <th>edge_type</th>\n",
       "    </tr>\n",
       "  </thead>\n",
       "  <tbody>\n",
       "    <tr>\n",
       "      <th>0</th>\n",
       "      <td>pubchem.compound:10607</td>\n",
       "      <td>Compound</td>\n",
       "      <td>ncbigene:3553</td>\n",
       "      <td>Gene</td>\n",
       "      <td>upregulates</td>\n",
       "    </tr>\n",
       "    <tr>\n",
       "      <th>1</th>\n",
       "      <td>pubchem.compound:10607</td>\n",
       "      <td>Compound</td>\n",
       "      <td>ncbigene:203068</td>\n",
       "      <td>Gene</td>\n",
       "      <td>downregulates</td>\n",
       "    </tr>\n",
       "    <tr>\n",
       "      <th>2</th>\n",
       "      <td>pubchem.compound:10607</td>\n",
       "      <td>Compound</td>\n",
       "      <td>ncbigene:54658</td>\n",
       "      <td>Gene</td>\n",
       "      <td>downregulates</td>\n",
       "    </tr>\n",
       "    <tr>\n",
       "      <th>3</th>\n",
       "      <td>pubchem.compound:10607</td>\n",
       "      <td>Compound</td>\n",
       "      <td>ncbigene:7153</td>\n",
       "      <td>Gene</td>\n",
       "      <td>downregulates</td>\n",
       "    </tr>\n",
       "    <tr>\n",
       "      <th>4</th>\n",
       "      <td>pubchem.compound:10607</td>\n",
       "      <td>Compound</td>\n",
       "      <td>ncbigene:7277</td>\n",
       "      <td>Gene</td>\n",
       "      <td>downregulates</td>\n",
       "    </tr>\n",
       "  </tbody>\n",
       "</table>\n",
       "</div>"
      ],
      "text/plain": [
       "                   source source_node_type           target target_node_type  \\\n",
       "0  pubchem.compound:10607         Compound    ncbigene:3553             Gene   \n",
       "1  pubchem.compound:10607         Compound  ncbigene:203068             Gene   \n",
       "2  pubchem.compound:10607         Compound   ncbigene:54658             Gene   \n",
       "3  pubchem.compound:10607         Compound    ncbigene:7153             Gene   \n",
       "4  pubchem.compound:10607         Compound    ncbigene:7277             Gene   \n",
       "\n",
       "       edge_type  \n",
       "0    upregulates  \n",
       "1  downregulates  \n",
       "2  downregulates  \n",
       "3  downregulates  \n",
       "4  downregulates  "
      ]
     },
     "execution_count": 82,
     "metadata": {},
     "output_type": "execute_result"
    }
   ],
   "source": [
    "new_protein_kg.head()"
   ]
  },
  {
   "attachments": {},
   "cell_type": "markdown",
   "metadata": {},
   "source": [
    "Gene to GO BP edges:"
   ]
  },
  {
   "cell_type": "code",
   "execution_count": 83,
   "metadata": {},
   "outputs": [
    {
     "data": {
      "text/html": [
       "<div>\n",
       "<style scoped>\n",
       "    .dataframe tbody tr th:only-of-type {\n",
       "        vertical-align: middle;\n",
       "    }\n",
       "\n",
       "    .dataframe tbody tr th {\n",
       "        vertical-align: top;\n",
       "    }\n",
       "\n",
       "    .dataframe thead th {\n",
       "        text-align: right;\n",
       "    }\n",
       "</style>\n",
       "<table border=\"1\" class=\"dataframe\">\n",
       "  <thead>\n",
       "    <tr style=\"text-align: right;\">\n",
       "      <th></th>\n",
       "      <th>source</th>\n",
       "      <th>source_node_type</th>\n",
       "      <th>target</th>\n",
       "      <th>target_node_type</th>\n",
       "      <th>edge_type</th>\n",
       "    </tr>\n",
       "  </thead>\n",
       "  <tbody>\n",
       "    <tr>\n",
       "      <th>812200</th>\n",
       "      <td>ncbigene:13</td>\n",
       "      <td>Gene</td>\n",
       "      <td>GO:0006629</td>\n",
       "      <td>Biological Process</td>\n",
       "      <td>participates</td>\n",
       "    </tr>\n",
       "    <tr>\n",
       "      <th>812201</th>\n",
       "      <td>ncbigene:13</td>\n",
       "      <td>Gene</td>\n",
       "      <td>GO:0006805</td>\n",
       "      <td>Biological Process</td>\n",
       "      <td>participates</td>\n",
       "    </tr>\n",
       "    <tr>\n",
       "      <th>812620</th>\n",
       "      <td>ncbigene:25</td>\n",
       "      <td>Gene</td>\n",
       "      <td>GO:0006914</td>\n",
       "      <td>Biological Process</td>\n",
       "      <td>participates</td>\n",
       "    </tr>\n",
       "    <tr>\n",
       "      <th>812676</th>\n",
       "      <td>ncbigene:25</td>\n",
       "      <td>Gene</td>\n",
       "      <td>GO:0043065</td>\n",
       "      <td>Biological Process</td>\n",
       "      <td>participates</td>\n",
       "    </tr>\n",
       "    <tr>\n",
       "      <th>813158</th>\n",
       "      <td>ncbigene:43</td>\n",
       "      <td>Gene</td>\n",
       "      <td>GO:0007155</td>\n",
       "      <td>Biological Process</td>\n",
       "      <td>participates</td>\n",
       "    </tr>\n",
       "    <tr>\n",
       "      <th>813298</th>\n",
       "      <td>ncbigene:51</td>\n",
       "      <td>Gene</td>\n",
       "      <td>GO:0006629</td>\n",
       "      <td>Biological Process</td>\n",
       "      <td>participates</td>\n",
       "    </tr>\n",
       "    <tr>\n",
       "      <th>813766</th>\n",
       "      <td>ncbigene:86</td>\n",
       "      <td>Gene</td>\n",
       "      <td>GO:0007165</td>\n",
       "      <td>Biological Process</td>\n",
       "      <td>participates</td>\n",
       "    </tr>\n",
       "    <tr>\n",
       "      <th>813877</th>\n",
       "      <td>ncbigene:88</td>\n",
       "      <td>Gene</td>\n",
       "      <td>GO:0007155</td>\n",
       "      <td>Biological Process</td>\n",
       "      <td>participates</td>\n",
       "    </tr>\n",
       "    <tr>\n",
       "      <th>814050</th>\n",
       "      <td>ncbigene:91</td>\n",
       "      <td>Gene</td>\n",
       "      <td>GO:0007165</td>\n",
       "      <td>Biological Process</td>\n",
       "      <td>participates</td>\n",
       "    </tr>\n",
       "    <tr>\n",
       "      <th>814148</th>\n",
       "      <td>ncbigene:93</td>\n",
       "      <td>Gene</td>\n",
       "      <td>GO:0007165</td>\n",
       "      <td>Biological Process</td>\n",
       "      <td>participates</td>\n",
       "    </tr>\n",
       "  </tbody>\n",
       "</table>\n",
       "</div>"
      ],
      "text/plain": [
       "             source source_node_type      target    target_node_type  \\\n",
       "812200  ncbigene:13             Gene  GO:0006629  Biological Process   \n",
       "812201  ncbigene:13             Gene  GO:0006805  Biological Process   \n",
       "812620  ncbigene:25             Gene  GO:0006914  Biological Process   \n",
       "812676  ncbigene:25             Gene  GO:0043065  Biological Process   \n",
       "813158  ncbigene:43             Gene  GO:0007155  Biological Process   \n",
       "813298  ncbigene:51             Gene  GO:0006629  Biological Process   \n",
       "813766  ncbigene:86             Gene  GO:0007165  Biological Process   \n",
       "813877  ncbigene:88             Gene  GO:0007155  Biological Process   \n",
       "814050  ncbigene:91             Gene  GO:0007165  Biological Process   \n",
       "814148  ncbigene:93             Gene  GO:0007165  Biological Process   \n",
       "\n",
       "           edge_type  \n",
       "812200  participates  \n",
       "812201  participates  \n",
       "812620  participates  \n",
       "812676  participates  \n",
       "813158  participates  \n",
       "813298  participates  \n",
       "813766  participates  \n",
       "813877  participates  \n",
       "814050  participates  \n",
       "814148  participates  "
      ]
     },
     "execution_count": 83,
     "metadata": {},
     "output_type": "execute_result"
    }
   ],
   "source": [
    "usable_prot_bps['source_node_type'] = ['Gene' for i in range(len(usable_prot_bps))]\n",
    "usable_prot_bps['target_node_type'] = ['Biological Process' for i in range(len(usable_prot_bps))]\n",
    "usable_prot_bps['edge_type'] = ['participates' for i in range(len(usable_prot_bps))]\n",
    "usable_prot_bps.rename(columns={'GeneID': 'source',\n",
    "                                'GO_ID': 'target'}, inplace=True)\n",
    "usable_prot_bps = usable_prot_bps[['source', 'source_node_type', 'target','target_node_type', 'edge_type']]\n",
    "usable_prot_bps.head(10)"
   ]
  },
  {
   "attachments": {},
   "cell_type": "markdown",
   "metadata": {},
   "source": [
    "Drug / Compound to GO BP edges:"
   ]
  },
  {
   "attachments": {},
   "cell_type": "markdown",
   "metadata": {},
   "source": [
    "Map the ChEMBL ids to Pubchem and create the relation table"
   ]
  },
  {
   "cell_type": "code",
   "execution_count": 84,
   "metadata": {},
   "outputs": [],
   "source": [
    "chembl2cid = {\n",
    "    val: key for key, val in cid2chembl.items() if val is not None\n",
    "}"
   ]
  },
  {
   "cell_type": "code",
   "execution_count": 85,
   "metadata": {},
   "outputs": [
    {
     "data": {
      "text/html": [
       "<div>\n",
       "<style scoped>\n",
       "    .dataframe tbody tr th:only-of-type {\n",
       "        vertical-align: middle;\n",
       "    }\n",
       "\n",
       "    .dataframe tbody tr th {\n",
       "        vertical-align: top;\n",
       "    }\n",
       "\n",
       "    .dataframe thead th {\n",
       "        text-align: right;\n",
       "    }\n",
       "</style>\n",
       "<table border=\"1\" class=\"dataframe\">\n",
       "  <thead>\n",
       "    <tr style=\"text-align: right;\">\n",
       "      <th></th>\n",
       "      <th>pubchem_idx</th>\n",
       "      <th>go_id</th>\n",
       "    </tr>\n",
       "  </thead>\n",
       "  <tbody>\n",
       "    <tr>\n",
       "      <th>7839</th>\n",
       "      <td>pubchem.compound:4828</td>\n",
       "      <td>GO:0007165</td>\n",
       "    </tr>\n",
       "    <tr>\n",
       "      <th>7840</th>\n",
       "      <td>pubchem.compound:4828</td>\n",
       "      <td>GO:0007267</td>\n",
       "    </tr>\n",
       "    <tr>\n",
       "      <th>19875</th>\n",
       "      <td>pubchem.compound:5073</td>\n",
       "      <td>GO:0005975</td>\n",
       "    </tr>\n",
       "    <tr>\n",
       "      <th>19877</th>\n",
       "      <td>pubchem.compound:5073</td>\n",
       "      <td>GO:0007165</td>\n",
       "    </tr>\n",
       "    <tr>\n",
       "      <th>19878</th>\n",
       "      <td>pubchem.compound:5073</td>\n",
       "      <td>GO:0007267</td>\n",
       "    </tr>\n",
       "    <tr>\n",
       "      <th>...</th>\n",
       "      <td>...</td>\n",
       "      <td>...</td>\n",
       "    </tr>\n",
       "    <tr>\n",
       "      <th>80775918</th>\n",
       "      <td>pubchem.compound:445354</td>\n",
       "      <td>GO:0030705</td>\n",
       "    </tr>\n",
       "    <tr>\n",
       "      <th>81051785</th>\n",
       "      <td>pubchem.compound:456201</td>\n",
       "      <td>GO:0007165</td>\n",
       "    </tr>\n",
       "    <tr>\n",
       "      <th>81051790</th>\n",
       "      <td>pubchem.compound:456201</td>\n",
       "      <td>GO:0030154</td>\n",
       "    </tr>\n",
       "    <tr>\n",
       "      <th>81373718</th>\n",
       "      <td>pubchem.compound:24826799</td>\n",
       "      <td>GO:0006913</td>\n",
       "    </tr>\n",
       "    <tr>\n",
       "      <th>85426308</th>\n",
       "      <td>pubchem.compound:4748</td>\n",
       "      <td>GO:0006520</td>\n",
       "    </tr>\n",
       "  </tbody>\n",
       "</table>\n",
       "<p>1675 rows × 2 columns</p>\n",
       "</div>"
      ],
      "text/plain": [
       "                        pubchem_idx       go_id\n",
       "7839          pubchem.compound:4828  GO:0007165\n",
       "7840          pubchem.compound:4828  GO:0007267\n",
       "19875         pubchem.compound:5073  GO:0005975\n",
       "19877         pubchem.compound:5073  GO:0007165\n",
       "19878         pubchem.compound:5073  GO:0007267\n",
       "...                             ...         ...\n",
       "80775918    pubchem.compound:445354  GO:0030705\n",
       "81051785    pubchem.compound:456201  GO:0007165\n",
       "81051790    pubchem.compound:456201  GO:0030154\n",
       "81373718  pubchem.compound:24826799  GO:0006913\n",
       "85426308      pubchem.compound:4748  GO:0006520\n",
       "\n",
       "[1675 rows x 2 columns]"
      ]
     },
     "execution_count": 85,
     "metadata": {},
     "output_type": "execute_result"
    }
   ],
   "source": [
    "usable_drug_bps['pubchem'] = usable_drug_bps['chembl_idx'].map(chembl2cid)\n",
    "usable_drug_bps['pubchem_idx'] = 'pubchem.compound:' + usable_drug_bps['pubchem'].astype(str)\n",
    "usable_drug_bps = usable_drug_bps[['pubchem_idx', 'go_id']]\n",
    "usable_drug_bps"
   ]
  },
  {
   "cell_type": "code",
   "execution_count": 86,
   "metadata": {},
   "outputs": [
    {
     "data": {
      "text/html": [
       "<div>\n",
       "<style scoped>\n",
       "    .dataframe tbody tr th:only-of-type {\n",
       "        vertical-align: middle;\n",
       "    }\n",
       "\n",
       "    .dataframe tbody tr th {\n",
       "        vertical-align: top;\n",
       "    }\n",
       "\n",
       "    .dataframe thead th {\n",
       "        text-align: right;\n",
       "    }\n",
       "</style>\n",
       "<table border=\"1\" class=\"dataframe\">\n",
       "  <thead>\n",
       "    <tr style=\"text-align: right;\">\n",
       "      <th></th>\n",
       "      <th>source</th>\n",
       "      <th>source_node_type</th>\n",
       "      <th>target</th>\n",
       "      <th>target_node_type</th>\n",
       "      <th>edge_type</th>\n",
       "    </tr>\n",
       "  </thead>\n",
       "  <tbody>\n",
       "    <tr>\n",
       "      <th>7839</th>\n",
       "      <td>pubchem.compound:4828</td>\n",
       "      <td>Compound</td>\n",
       "      <td>GO:0007165</td>\n",
       "      <td>Biological Process</td>\n",
       "      <td>induces</td>\n",
       "    </tr>\n",
       "    <tr>\n",
       "      <th>7840</th>\n",
       "      <td>pubchem.compound:4828</td>\n",
       "      <td>Compound</td>\n",
       "      <td>GO:0007267</td>\n",
       "      <td>Biological Process</td>\n",
       "      <td>induces</td>\n",
       "    </tr>\n",
       "    <tr>\n",
       "      <th>19875</th>\n",
       "      <td>pubchem.compound:5073</td>\n",
       "      <td>Compound</td>\n",
       "      <td>GO:0005975</td>\n",
       "      <td>Biological Process</td>\n",
       "      <td>induces</td>\n",
       "    </tr>\n",
       "    <tr>\n",
       "      <th>19877</th>\n",
       "      <td>pubchem.compound:5073</td>\n",
       "      <td>Compound</td>\n",
       "      <td>GO:0007165</td>\n",
       "      <td>Biological Process</td>\n",
       "      <td>induces</td>\n",
       "    </tr>\n",
       "    <tr>\n",
       "      <th>19878</th>\n",
       "      <td>pubchem.compound:5073</td>\n",
       "      <td>Compound</td>\n",
       "      <td>GO:0007267</td>\n",
       "      <td>Biological Process</td>\n",
       "      <td>induces</td>\n",
       "    </tr>\n",
       "    <tr>\n",
       "      <th>19881</th>\n",
       "      <td>pubchem.compound:5073</td>\n",
       "      <td>Compound</td>\n",
       "      <td>GO:0008219</td>\n",
       "      <td>Biological Process</td>\n",
       "      <td>induces</td>\n",
       "    </tr>\n",
       "    <tr>\n",
       "      <th>19886</th>\n",
       "      <td>pubchem.compound:5073</td>\n",
       "      <td>Compound</td>\n",
       "      <td>GO:0042592</td>\n",
       "      <td>Biological Process</td>\n",
       "      <td>induces</td>\n",
       "    </tr>\n",
       "    <tr>\n",
       "      <th>19888</th>\n",
       "      <td>pubchem.compound:5073</td>\n",
       "      <td>Compound</td>\n",
       "      <td>GO:0043085</td>\n",
       "      <td>Biological Process</td>\n",
       "      <td>induces</td>\n",
       "    </tr>\n",
       "    <tr>\n",
       "      <th>19893</th>\n",
       "      <td>pubchem.compound:5073</td>\n",
       "      <td>Compound</td>\n",
       "      <td>GO:0050877</td>\n",
       "      <td>Biological Process</td>\n",
       "      <td>induces</td>\n",
       "    </tr>\n",
       "    <tr>\n",
       "      <th>19894</th>\n",
       "      <td>pubchem.compound:5073</td>\n",
       "      <td>Compound</td>\n",
       "      <td>GO:0055085</td>\n",
       "      <td>Biological Process</td>\n",
       "      <td>induces</td>\n",
       "    </tr>\n",
       "  </tbody>\n",
       "</table>\n",
       "</div>"
      ],
      "text/plain": [
       "                      source source_node_type      target    target_node_type  \\\n",
       "7839   pubchem.compound:4828         Compound  GO:0007165  Biological Process   \n",
       "7840   pubchem.compound:4828         Compound  GO:0007267  Biological Process   \n",
       "19875  pubchem.compound:5073         Compound  GO:0005975  Biological Process   \n",
       "19877  pubchem.compound:5073         Compound  GO:0007165  Biological Process   \n",
       "19878  pubchem.compound:5073         Compound  GO:0007267  Biological Process   \n",
       "19881  pubchem.compound:5073         Compound  GO:0008219  Biological Process   \n",
       "19886  pubchem.compound:5073         Compound  GO:0042592  Biological Process   \n",
       "19888  pubchem.compound:5073         Compound  GO:0043085  Biological Process   \n",
       "19893  pubchem.compound:5073         Compound  GO:0050877  Biological Process   \n",
       "19894  pubchem.compound:5073         Compound  GO:0055085  Biological Process   \n",
       "\n",
       "      edge_type  \n",
       "7839    induces  \n",
       "7840    induces  \n",
       "19875   induces  \n",
       "19877   induces  \n",
       "19878   induces  \n",
       "19881   induces  \n",
       "19886   induces  \n",
       "19888   induces  \n",
       "19893   induces  \n",
       "19894   induces  "
      ]
     },
     "execution_count": 86,
     "metadata": {},
     "output_type": "execute_result"
    }
   ],
   "source": [
    "usable_drug_bps['source_node_type'] = ['Compound' for i in range(len(usable_drug_bps))]\n",
    "usable_drug_bps['target_node_type'] = ['Biological Process' for i in range(len(usable_drug_bps))]\n",
    "usable_drug_bps['edge_type'] = ['induces' for i in range(len(usable_drug_bps))]\n",
    "\n",
    "usable_drug_bps.rename(columns={'pubchem_idx': 'source',\n",
    "                                'go_id': 'target'}, inplace=True)\n",
    "usable_drug_bps = usable_drug_bps[['source', 'source_node_type', 'target','target_node_type', 'edge_type']]\n",
    "usable_drug_bps.head(10)"
   ]
  },
  {
   "cell_type": "code",
   "execution_count": 87,
   "metadata": {},
   "outputs": [
    {
     "data": {
      "text/plain": [
       "142"
      ]
     },
     "execution_count": 87,
     "metadata": {},
     "output_type": "execute_result"
    }
   ],
   "source": [
    "len(usable_drug_bps['source'].unique())"
   ]
  },
  {
   "attachments": {},
   "cell_type": "markdown",
   "metadata": {},
   "source": [
    "Merge all four dataframes:"
   ]
  },
  {
   "cell_type": "code",
   "execution_count": 88,
   "metadata": {},
   "outputs": [
    {
     "data": {
      "text/html": [
       "<div>\n",
       "<style scoped>\n",
       "    .dataframe tbody tr th:only-of-type {\n",
       "        vertical-align: middle;\n",
       "    }\n",
       "\n",
       "    .dataframe tbody tr th {\n",
       "        vertical-align: top;\n",
       "    }\n",
       "\n",
       "    .dataframe thead th {\n",
       "        text-align: right;\n",
       "    }\n",
       "</style>\n",
       "<table border=\"1\" class=\"dataframe\">\n",
       "  <thead>\n",
       "    <tr style=\"text-align: right;\">\n",
       "      <th></th>\n",
       "      <th>source</th>\n",
       "      <th>source_node_type</th>\n",
       "      <th>target</th>\n",
       "      <th>target_node_type</th>\n",
       "      <th>edge_type</th>\n",
       "    </tr>\n",
       "  </thead>\n",
       "  <tbody>\n",
       "    <tr>\n",
       "      <th>0</th>\n",
       "      <td>pubchem.compound:10607</td>\n",
       "      <td>Compound</td>\n",
       "      <td>ncbigene:3553</td>\n",
       "      <td>Gene</td>\n",
       "      <td>upregulates</td>\n",
       "    </tr>\n",
       "    <tr>\n",
       "      <th>1</th>\n",
       "      <td>pubchem.compound:10607</td>\n",
       "      <td>Compound</td>\n",
       "      <td>ncbigene:203068</td>\n",
       "      <td>Gene</td>\n",
       "      <td>downregulates</td>\n",
       "    </tr>\n",
       "    <tr>\n",
       "      <th>2</th>\n",
       "      <td>pubchem.compound:10607</td>\n",
       "      <td>Compound</td>\n",
       "      <td>ncbigene:54658</td>\n",
       "      <td>Gene</td>\n",
       "      <td>downregulates</td>\n",
       "    </tr>\n",
       "    <tr>\n",
       "      <th>3</th>\n",
       "      <td>pubchem.compound:10607</td>\n",
       "      <td>Compound</td>\n",
       "      <td>ncbigene:7153</td>\n",
       "      <td>Gene</td>\n",
       "      <td>downregulates</td>\n",
       "    </tr>\n",
       "    <tr>\n",
       "      <th>4</th>\n",
       "      <td>pubchem.compound:10607</td>\n",
       "      <td>Compound</td>\n",
       "      <td>ncbigene:7277</td>\n",
       "      <td>Gene</td>\n",
       "      <td>downregulates</td>\n",
       "    </tr>\n",
       "    <tr>\n",
       "      <th>5</th>\n",
       "      <td>pubchem.compound:10631</td>\n",
       "      <td>Compound</td>\n",
       "      <td>ncbigene:5241</td>\n",
       "      <td>Gene</td>\n",
       "      <td>upregulates</td>\n",
       "    </tr>\n",
       "    <tr>\n",
       "      <th>6</th>\n",
       "      <td>pubchem.compound:10635</td>\n",
       "      <td>Compound</td>\n",
       "      <td>ncbigene:10257</td>\n",
       "      <td>Gene</td>\n",
       "      <td>upregulates</td>\n",
       "    </tr>\n",
       "    <tr>\n",
       "      <th>7</th>\n",
       "      <td>pubchem.compound:10635</td>\n",
       "      <td>Compound</td>\n",
       "      <td>ncbigene:10645</td>\n",
       "      <td>Gene</td>\n",
       "      <td>upregulates</td>\n",
       "    </tr>\n",
       "    <tr>\n",
       "      <th>8</th>\n",
       "      <td>pubchem.compound:10635</td>\n",
       "      <td>Compound</td>\n",
       "      <td>ncbigene:2621</td>\n",
       "      <td>Gene</td>\n",
       "      <td>upregulates</td>\n",
       "    </tr>\n",
       "    <tr>\n",
       "      <th>9</th>\n",
       "      <td>pubchem.compound:10635</td>\n",
       "      <td>Compound</td>\n",
       "      <td>ncbigene:354</td>\n",
       "      <td>Gene</td>\n",
       "      <td>upregulates</td>\n",
       "    </tr>\n",
       "  </tbody>\n",
       "</table>\n",
       "</div>"
      ],
      "text/plain": [
       "                   source source_node_type           target target_node_type  \\\n",
       "0  pubchem.compound:10607         Compound    ncbigene:3553             Gene   \n",
       "1  pubchem.compound:10607         Compound  ncbigene:203068             Gene   \n",
       "2  pubchem.compound:10607         Compound   ncbigene:54658             Gene   \n",
       "3  pubchem.compound:10607         Compound    ncbigene:7153             Gene   \n",
       "4  pubchem.compound:10607         Compound    ncbigene:7277             Gene   \n",
       "5  pubchem.compound:10631         Compound    ncbigene:5241             Gene   \n",
       "6  pubchem.compound:10635         Compound   ncbigene:10257             Gene   \n",
       "7  pubchem.compound:10635         Compound   ncbigene:10645             Gene   \n",
       "8  pubchem.compound:10635         Compound    ncbigene:2621             Gene   \n",
       "9  pubchem.compound:10635         Compound     ncbigene:354             Gene   \n",
       "\n",
       "       edge_type  \n",
       "0    upregulates  \n",
       "1  downregulates  \n",
       "2  downregulates  \n",
       "3  downregulates  \n",
       "4  downregulates  \n",
       "5    upregulates  \n",
       "6    upregulates  \n",
       "7    upregulates  \n",
       "8    upregulates  \n",
       "9    upregulates  "
      ]
     },
     "execution_count": 88,
     "metadata": {},
     "output_type": "execute_result"
    }
   ],
   "source": [
    "frames = [new_protein_kg, usable_prot_bps, usable_drug_bps]\n",
    "\n",
    "full_kg = pd.concat(frames, ignore_index=True)\n",
    "full_kg.drop_duplicates(ignore_index=True, inplace=True)\n",
    "\n",
    "full_kg.head(10)"
   ]
  },
  {
   "cell_type": "code",
   "execution_count": 89,
   "metadata": {},
   "outputs": [
    {
     "data": {
      "text/plain": [
       "46038"
      ]
     },
     "execution_count": 89,
     "metadata": {},
     "output_type": "execute_result"
    }
   ],
   "source": [
    "len(full_kg)"
   ]
  },
  {
   "cell_type": "code",
   "execution_count": 90,
   "metadata": {},
   "outputs": [],
   "source": [
    "full_kg.to_csv(osp.join(KG_DIR, 'enriched_kg.tsv'), sep='\\t', index=False)"
   ]
  },
  {
   "cell_type": "code",
   "execution_count": 91,
   "metadata": {},
   "outputs": [
    {
     "data": {
      "text/plain": [
       "array(['upregulates', 'downregulates', 'interacts', 'participates',\n",
       "       'induces'], dtype=object)"
      ]
     },
     "execution_count": 91,
     "metadata": {},
     "output_type": "execute_result"
    }
   ],
   "source": [
    "full_kg['edge_type'].unique()"
   ]
  },
  {
   "cell_type": "code",
   "execution_count": 5,
   "metadata": {},
   "outputs": [],
   "source": [
    "full_kg = pd.read_csv(osp.join(KG_DIR, 'enriched_kg.tsv'), sep='\\t')"
   ]
  },
  {
   "cell_type": "code",
   "execution_count": 205,
   "metadata": {},
   "outputs": [
    {
     "data": {
      "text/html": [
       "<div>\n",
       "<style scoped>\n",
       "    .dataframe tbody tr th:only-of-type {\n",
       "        vertical-align: middle;\n",
       "    }\n",
       "\n",
       "    .dataframe tbody tr th {\n",
       "        vertical-align: top;\n",
       "    }\n",
       "\n",
       "    .dataframe thead th {\n",
       "        text-align: right;\n",
       "    }\n",
       "</style>\n",
       "<table border=\"1\" class=\"dataframe\">\n",
       "  <thead>\n",
       "    <tr style=\"text-align: right;\">\n",
       "      <th></th>\n",
       "      <th>source</th>\n",
       "      <th>source_node_type</th>\n",
       "      <th>target</th>\n",
       "      <th>target_node_type</th>\n",
       "      <th>edge_type</th>\n",
       "    </tr>\n",
       "  </thead>\n",
       "  <tbody>\n",
       "    <tr>\n",
       "      <th>0</th>\n",
       "      <td>pubchem.compound:10607</td>\n",
       "      <td>Compound</td>\n",
       "      <td>ncbigene:3553</td>\n",
       "      <td>Gene</td>\n",
       "      <td>upregulates</td>\n",
       "    </tr>\n",
       "    <tr>\n",
       "      <th>1</th>\n",
       "      <td>pubchem.compound:10607</td>\n",
       "      <td>Compound</td>\n",
       "      <td>ncbigene:203068</td>\n",
       "      <td>Gene</td>\n",
       "      <td>downregulates</td>\n",
       "    </tr>\n",
       "    <tr>\n",
       "      <th>2</th>\n",
       "      <td>pubchem.compound:10607</td>\n",
       "      <td>Compound</td>\n",
       "      <td>ncbigene:54658</td>\n",
       "      <td>Gene</td>\n",
       "      <td>downregulates</td>\n",
       "    </tr>\n",
       "    <tr>\n",
       "      <th>3</th>\n",
       "      <td>pubchem.compound:10607</td>\n",
       "      <td>Compound</td>\n",
       "      <td>ncbigene:7153</td>\n",
       "      <td>Gene</td>\n",
       "      <td>downregulates</td>\n",
       "    </tr>\n",
       "    <tr>\n",
       "      <th>4</th>\n",
       "      <td>pubchem.compound:10607</td>\n",
       "      <td>Compound</td>\n",
       "      <td>ncbigene:7277</td>\n",
       "      <td>Gene</td>\n",
       "      <td>downregulates</td>\n",
       "    </tr>\n",
       "  </tbody>\n",
       "</table>\n",
       "</div>"
      ],
      "text/plain": [
       "                   source source_node_type           target target_node_type  \\\n",
       "0  pubchem.compound:10607         Compound    ncbigene:3553             Gene   \n",
       "1  pubchem.compound:10607         Compound  ncbigene:203068             Gene   \n",
       "2  pubchem.compound:10607         Compound   ncbigene:54658             Gene   \n",
       "3  pubchem.compound:10607         Compound    ncbigene:7153             Gene   \n",
       "4  pubchem.compound:10607         Compound    ncbigene:7277             Gene   \n",
       "\n",
       "       edge_type  \n",
       "0    upregulates  \n",
       "1  downregulates  \n",
       "2  downregulates  \n",
       "3  downregulates  \n",
       "4  downregulates  "
      ]
     },
     "execution_count": 205,
     "metadata": {},
     "output_type": "execute_result"
    }
   ],
   "source": [
    "full_kg.head()"
   ]
  },
  {
   "cell_type": "markdown",
   "metadata": {},
   "source": [
    "Finally, I want to see how many PPIs there are. I want to lower this number to about 10k."
   ]
  },
  {
   "cell_type": "code",
   "execution_count": 6,
   "metadata": {},
   "outputs": [
    {
     "data": {
      "text/plain": [
       "Counter({'interacts': 37984,\n",
       "         'participates': 2571,\n",
       "         'downregulates': 2185,\n",
       "         'induces': 1675,\n",
       "         'upregulates': 1623})"
      ]
     },
     "execution_count": 6,
     "metadata": {},
     "output_type": "execute_result"
    }
   ],
   "source": [
    "Counter(full_kg['edge_type'])"
   ]
  },
  {
   "cell_type": "code",
   "execution_count": 2,
   "metadata": {},
   "outputs": [],
   "source": [
    "import networkx as nx\n",
    "import matplotlib.pyplot as plt"
   ]
  },
  {
   "cell_type": "code",
   "execution_count": 208,
   "metadata": {},
   "outputs": [],
   "source": [
    "G = nx.DiGraph()\n",
    "\n",
    "for i, row in full_kg.iterrows():\n",
    "    src_id = row['source']\n",
    "    trgt_id = row['target']\n",
    "    if src_id not in G.nodes:\n",
    "        G.add_node(src_id, type=row['source_node_type'])\n",
    "    if trgt_id not in G.nodes:\n",
    "        G.add_node(trgt_id, type=row['target_node_type'])\n",
    "    G.add_edge(src_id, trgt_id, type=row['edge_type'])\n",
    "    if row['source_node_type'] == row['target_node_type']:\n",
    "        G.add_edge(trgt_id, src_id, type=row['edge_type'])"
   ]
  },
  {
   "cell_type": "code",
   "execution_count": 209,
   "metadata": {},
   "outputs": [
    {
     "data": {
      "image/png": "[encoded data removed]",
      "text/plain": [
       "<Figure size 640x480 with 1 Axes>"
      ]
     },
     "metadata": {},
     "output_type": "display_data"
    }
   ],
   "source": [
    "# Filter nodes based on type\n",
    "prot_nodes = [node for node, data in G.nodes(data=True) if data[\"type\"] == \"Gene\"]\n",
    "\n",
    "# Calculate outgoing degrees of compound nodes\n",
    "out_degrees = [G.out_degree(node) for node in prot_nodes]\n",
    "\n",
    "# Plot histogram\n",
    "plt.hist(out_degrees, bins=10, range=(10.5, max(out_degrees) + 0.5), edgecolor=\"black\")\n",
    "plt.xlabel(\"Outgoing Degree\")\n",
    "plt.ylabel(\"Frequency\")\n",
    "plt.title(\"Histogram of Outgoing Degrees for Nodes with Type 'Gene'\")\n",
    "plt.show()"
   ]
  },
  {
   "cell_type": "code",
   "execution_count": 210,
   "metadata": {},
   "outputs": [
    {
     "name": "stdout",
     "output_type": "stream",
     "text": [
      "0 404\n",
      "1 531\n",
      "2 486\n",
      "3 315\n",
      "4 396\n",
      "5 296\n",
      "6 164\n",
      "7 149\n",
      "8 119\n",
      "9 156\n",
      "10 405\n",
      "11 121\n",
      "12 63\n",
      "13 52\n",
      "14 56\n",
      "15 38\n",
      "16 44\n",
      "17 31\n",
      "18 39\n",
      "19 37\n",
      "20 31\n",
      "21 22\n",
      "22 16\n",
      "23 32\n",
      "24 19\n",
      "25 35\n",
      "26 44\n",
      "27 18\n",
      "28 28\n",
      "29 15\n",
      "30 10\n",
      "31 7\n",
      "32 10\n",
      "33 7\n",
      "34 10\n",
      "35 4\n",
      "36 11\n",
      "37 5\n",
      "38 3\n",
      "39 36\n",
      "40 17\n",
      "41 4\n",
      "42 1\n",
      "43 4\n",
      "44 3\n",
      "45 4\n",
      "46 10\n",
      "47 14\n",
      "48 5\n",
      "49 8\n",
      "50 3\n",
      "51 6\n",
      "52 15\n",
      "53 5\n",
      "54 10\n",
      "55 6\n",
      "56 4\n",
      "57 4\n",
      "58 10\n",
      "59 2\n",
      "60 1\n",
      "61 4\n",
      "62 5\n",
      "63 42\n",
      "64 11\n",
      "65 6\n",
      "66 1\n",
      "68 2\n",
      "69 6\n",
      "70 3\n",
      "71 11\n",
      "72 5\n",
      "73 2\n",
      "74 2\n",
      "75 2\n",
      "76 9\n",
      "77 12\n",
      "78 3\n",
      "81 2\n",
      "83 1\n",
      "86 2\n",
      "87 1\n",
      "88 9\n",
      "89 3\n",
      "90 2\n",
      "91 15\n",
      "92 24\n",
      "93 15\n",
      "94 7\n",
      "95 5\n",
      "96 5\n",
      "97 2\n",
      "98 1\n",
      "99 2\n",
      "100 1\n",
      "101 3\n",
      "102 2\n",
      "103 1\n",
      "104 2\n",
      "105 1\n",
      "106 5\n",
      "107 5\n",
      "111 1\n",
      "114 2\n",
      "120 2\n",
      "123 1\n",
      "142 1\n",
      "145 1\n",
      "150 1\n",
      "159 1\n",
      "173 3\n",
      "175 3\n",
      "184 1\n",
      "213 2\n",
      "214 2\n",
      "367 8\n",
      "368 2\n"
     ]
    }
   ],
   "source": [
    "degrees = dict(Counter(out_degrees))\n",
    "\n",
    "for d in sorted(degrees):\n",
    "    print(d, degrees[d])"
   ]
  },
  {
   "cell_type": "markdown",
   "metadata": {},
   "source": [
    "First, of all, why are there over 100 proteins which have no connections? They must be targets of drugs but don't go anywhere..."
   ]
  },
  {
   "cell_type": "code",
   "execution_count": 211,
   "metadata": {},
   "outputs": [],
   "source": [
    "prots_with_0_degree = [node for node in prot_nodes if G.out_degree(node) == 0]"
   ]
  },
  {
   "cell_type": "code",
   "execution_count": 212,
   "metadata": {},
   "outputs": [
    {
     "data": {
      "text/plain": [
       "Counter({'downregulates': 570, 'upregulates': 298})"
      ]
     },
     "execution_count": 212,
     "metadata": {},
     "output_type": "execute_result"
    }
   ],
   "source": [
    "sinks = full_kg.loc[full_kg['target'].isin(prots_with_0_degree)]\n",
    "Counter(sinks['edge_type'])"
   ]
  },
  {
   "cell_type": "markdown",
   "metadata": {},
   "source": [
    "These are all proteins which just act as sinks. How many of those drugs are in our true pairs?"
   ]
  },
  {
   "cell_type": "code",
   "execution_count": 273,
   "metadata": {},
   "outputs": [],
   "source": [
    "true_pairs = [(row['source'], row['target']) for i, row in full_kg.loc[full_kg['edge_type'] == 'induces'].iterrows()]"
   ]
  },
  {
   "cell_type": "code",
   "execution_count": 214,
   "metadata": {},
   "outputs": [],
   "source": [
    "G = nx.DiGraph()\n",
    "\n",
    "for i, row in full_kg.iterrows():\n",
    "    src_id = row['source']\n",
    "    trgt_id = row['target']\n",
    "    if src_id not in G.nodes:\n",
    "        G.add_node(src_id, type=row['source_node_type'])\n",
    "    if trgt_id not in G.nodes:\n",
    "        G.add_node(trgt_id, type=row['target_node_type'])\n",
    "    if row['edge_type'] != 'induces':\n",
    "        G.add_edge(src_id, trgt_id, type=row['edge_type'])\n",
    "        if row['source_node_type'] == row['target_node_type']:\n",
    "            G.add_edge(trgt_id, src_id, type=row['edge_type'])"
   ]
  },
  {
   "cell_type": "code",
   "execution_count": 215,
   "metadata": {},
   "outputs": [
    {
     "name": "stdout",
     "output_type": "stream",
     "text": [
      "118\n",
      "{('pubchem.compound:34359', 'GO:0002376'), ('pubchem.compound:4477', 'GO:0070989'), ('pubchem.compound:5717', 'GO:0040011'), ('pubchem.compound:3658', 'GO:0008219'), ('pubchem.compound:2724385', 'GO:0007010'), ('pubchem.compound:3658', 'GO:0050790'), ('pubchem.compound:8226', 'GO:0042592'), ('pubchem.compound:3658', 'GO:0007165'), ('pubchem.compound:3658', 'GO:0055085'), ('pubchem.compound:2724385', 'GO:0006805'), ('pubchem.compound:2724385', 'GO:0006913'), ('pubchem.compound:68617', 'GO:0009308'), ('pubchem.compound:3671', 'GO:0070989'), ('pubchem.compound:34359', 'GO:0042592'), ('pubchem.compound:2724385', 'GO:0008283'), ('pubchem.compound:4474', 'GO:0009820'), ('pubchem.compound:5717', 'GO:0006805'), ('pubchem.compound:3372', 'GO:0070989'), ('pubchem.compound:8226', 'GO:0007267'), ('pubchem.compound:5320', 'GO:0043085'), ('pubchem.compound:2812', 'GO:0009820'), ('pubchem.compound:3658', 'GO:0005975'), ('pubchem.compound:5717', 'GO:0030154'), ('pubchem.compound:8226', 'GO:0016192'), ('pubchem.compound:2724385', 'GO:0002376'), ('pubchem.compound:5717', 'GO:0007165'), ('pubchem.compound:34359', 'GO:0007267'), ('pubchem.compound:34359', 'GO:0007005'), ('pubchem.compound:2724385', 'GO:0005975'), ('pubchem.compound:34359', 'GO:0016192'), ('pubchem.compound:2724385', 'GO:0048646'), ('pubchem.compound:2724385', 'GO:0009790'), ('pubchem.compound:3658', 'GO:0008283'), ('pubchem.compound:5320', 'GO:0007165'), ('pubchem.compound:34359', 'GO:0006629'), ('pubchem.compound:2724385', 'GO:0007155'), ('pubchem.compound:2724385', 'GO:0050821'), ('pubchem.compound:2724385', 'GO:0051276'), ('pubchem.compound:3658', 'GO:0022607'), ('pubchem.compound:92727', 'GO:0006629'), ('pubchem.compound:4474', 'GO:0070989'), ('pubchem.compound:68617', 'GO:0007267'), ('pubchem.compound:3658', 'GO:0007267'), ('pubchem.compound:3658', 'GO:0002376'), ('pubchem.compound:3658', 'GO:0009308'), ('pubchem.compound:34359', 'GO:0007049'), ('pubchem.compound:34359', 'GO:0040011'), ('pubchem.compound:8226', 'GO:0043085'), ('pubchem.compound:8226', 'GO:0048856'), ('pubchem.compound:2724385', 'GO:0007005'), ('pubchem.compound:5095', 'GO:0070989'), ('pubchem.compound:2724385', 'GO:0043065'), ('pubchem.compound:34359', 'GO:0043085'), ('pubchem.compound:2724385', 'GO:0006914'), ('pubchem.compound:92727', 'GO:0070989'), ('pubchem.compound:5095', 'GO:0009820'), ('pubchem.compound:68617', 'GO:0042592'), ('pubchem.compound:34359', 'GO:0048856'), ('pubchem.compound:38853', 'GO:0007005'), ('pubchem.compound:3658', 'GO:0042592'), ('pubchem.compound:5717', 'GO:0002376'), ('pubchem.compound:8226', 'GO:0030154'), ('pubchem.compound:2724385', 'GO:0006629'), ('pubchem.compound:92727', 'GO:0009820'), ('pubchem.compound:8226', 'GO:0007165'), ('pubchem.compound:8226', 'GO:0055085'), ('pubchem.compound:456201', 'GO:0009820'), ('pubchem.compound:34359', 'GO:0008219'), ('pubchem.compound:2724385', 'GO:0007017'), ('pubchem.compound:34359', 'GO:0030154'), ('pubchem.compound:92727', 'GO:0006805'), ('pubchem.compound:5320', 'GO:0007267'), ('pubchem.compound:2724385', 'GO:0042592'), ('pubchem.compound:34359', 'GO:0007165'), ('pubchem.compound:4828', 'GO:0009820'), ('pubchem.compound:34359', 'GO:0050877'), ('pubchem.compound:2724385', 'GO:0040011'), ('pubchem.compound:3658', 'GO:0006914'), ('pubchem.compound:3658', 'GO:0016192'), ('pubchem.compound:2733526', 'GO:0070989'), ('pubchem.compound:2733526', 'GO:0009820'), ('pubchem.compound:1548887', 'GO:0070989'), ('pubchem.compound:2724385', 'GO:0006259'), ('pubchem.compound:1548887', 'GO:0009820'), ('pubchem.compound:2724385', 'GO:0032880'), ('pubchem.compound:2724385', 'GO:0048856'), ('pubchem.compound:68617', 'GO:0055085'), ('pubchem.compound:34359', 'GO:0048646'), ('pubchem.compound:2724385', 'GO:0016192'), ('pubchem.compound:68617', 'GO:0050877'), ('pubchem.compound:3658', 'GO:0050877'), ('pubchem.compound:38853', 'GO:0006259'), ('pubchem.compound:2724385', 'GO:0061024'), ('pubchem.compound:3117', 'GO:0070989'), ('pubchem.compound:3658', 'GO:0040011'), ('pubchem.compound:2724385', 'GO:0008219'), ('pubchem.compound:3038', 'GO:0070989'), ('pubchem.compound:2724385', 'GO:0030154'), ('pubchem.compound:38853', 'GO:0006629'), ('pubchem.compound:2724385', 'GO:0050790'), ('pubchem.compound:4828', 'GO:0070989'), ('pubchem.compound:5717', 'GO:0006629'), ('pubchem.compound:3671', 'GO:0009820'), ('pubchem.compound:2724385', 'GO:0007165'), ('pubchem.compound:34359', 'GO:0008283'), ('pubchem.compound:2724385', 'GO:0007049'), ('pubchem.compound:2724385', 'GO:0055085'), ('pubchem.compound:37542', 'GO:0070989'), ('pubchem.compound:40692', 'GO:0070989'), ('pubchem.compound:2724385', 'GO:0050877'), ('pubchem.compound:5983', 'GO:0009820'), ('pubchem.compound:3372', 'GO:0009820'), ('pubchem.compound:3658', 'GO:0043085'), ('pubchem.compound:37542', 'GO:0009820'), ('pubchem.compound:40692', 'GO:0009820'), ('pubchem.compound:68617', 'GO:0048856'), ('pubchem.compound:3658', 'GO:0032880'), ('pubchem.compound:3658', 'GO:0048856')}\n"
     ]
    }
   ],
   "source": [
    "no_path = set()\n",
    "\n",
    "for pair in true_pairs:\n",
    "    if not nx.has_path(G, source=pair[0], target=pair[1]):\n",
    "        no_path.add(pair)\n",
    "\n",
    "print(len(no_path))\n",
    "print(no_path)"
   ]
  },
  {
   "cell_type": "markdown",
   "metadata": {},
   "source": [
    "Okay, first we need to get rid of those two pairs since they're impossible to connect.\n",
    "\n",
    "Then, I want to get rid of all interactions which end in those 102 proteins. Get rid of them!\n",
    "\n",
    "Finally, we'll see which proteins are connected to GO BPs and protect them."
   ]
  },
  {
   "cell_type": "code",
   "execution_count": 216,
   "metadata": {},
   "outputs": [
    {
     "data": {
      "text/plain": [
       "45840"
      ]
     },
     "execution_count": 216,
     "metadata": {},
     "output_type": "execute_result"
    }
   ],
   "source": [
    "len(full_kg)"
   ]
  },
  {
   "cell_type": "code",
   "execution_count": 217,
   "metadata": {},
   "outputs": [
    {
     "data": {
      "text/plain": [
       "45840"
      ]
     },
     "execution_count": 217,
     "metadata": {},
     "output_type": "execute_result"
    }
   ],
   "source": [
    "full_kg = full_kg.loc[(full_kg['source'] != 'pubchem.compound:4170') | (~full_kg['target'].isin({'GO:0042592', 'GO:0044281'}))]\n",
    "len(full_kg)"
   ]
  },
  {
   "cell_type": "code",
   "execution_count": 218,
   "metadata": {},
   "outputs": [
    {
     "data": {
      "text/plain": [
       "Counter({'interacts': 37984,\n",
       "         'participates': 2571,\n",
       "         'downregulates': 2185,\n",
       "         'upregulates': 1623,\n",
       "         'induces': 1477})"
      ]
     },
     "execution_count": 218,
     "metadata": {},
     "output_type": "execute_result"
    }
   ],
   "source": [
    "Counter(full_kg['edge_type'])"
   ]
  },
  {
   "cell_type": "code",
   "execution_count": 219,
   "metadata": {},
   "outputs": [
    {
     "data": {
      "text/plain": [
       "44972"
      ]
     },
     "execution_count": 219,
     "metadata": {},
     "output_type": "execute_result"
    }
   ],
   "source": [
    "full_kg = full_kg.loc[~full_kg['target'].isin(prots_with_0_degree)]\n",
    "len(full_kg)"
   ]
  },
  {
   "cell_type": "code",
   "execution_count": 220,
   "metadata": {},
   "outputs": [
    {
     "data": {
      "text/plain": [
       "Counter({'interacts': 37984,\n",
       "         'participates': 2571,\n",
       "         'downregulates': 1615,\n",
       "         'induces': 1477,\n",
       "         'upregulates': 1325})"
      ]
     },
     "execution_count": 220,
     "metadata": {},
     "output_type": "execute_result"
    }
   ],
   "source": [
    "Counter(full_kg['edge_type'])"
   ]
  },
  {
   "cell_type": "markdown",
   "metadata": {},
   "source": [
    "Okay, let's see what proteins we need to protect:"
   ]
  },
  {
   "cell_type": "code",
   "execution_count": 72,
   "metadata": {},
   "outputs": [
    {
     "data": {
      "text/plain": [
       "1816"
      ]
     },
     "execution_count": 72,
     "metadata": {},
     "output_type": "execute_result"
    }
   ],
   "source": [
    "bps_in_pairs = {row['target'] for i, row in full_kg.loc[full_kg['edge_type'] == 'induces'].iterrows()}\n",
    "\n",
    "prots_to_bps = set()\n",
    "\n",
    "# get the proteins which interact with those BPs\n",
    "for i, row in full_kg.loc[(full_kg['edge_type'] == 'participates') & (full_kg['target'].isin(bps_in_pairs))].iterrows():\n",
    "    prots_to_bps.add((row['source']))\n",
    "\n",
    "len(prots_to_bps)"
   ]
  },
  {
   "cell_type": "markdown",
   "metadata": {},
   "source": [
    "Now, let's start reducing the node degrees of some of the proteins. Let's build our networkx graph again:"
   ]
  },
  {
   "cell_type": "code",
   "execution_count": null,
   "metadata": {},
   "outputs": [],
   "source": []
  },
  {
   "cell_type": "code",
   "execution_count": 105,
   "metadata": {},
   "outputs": [],
   "source": [
    "full_kg = pd.read_csv(osp.join(KG_DIR, 'enriched_kg.tsv'), sep='\\t')"
   ]
  },
  {
   "cell_type": "code",
   "execution_count": 106,
   "metadata": {},
   "outputs": [],
   "source": [
    "true_pairs = [(row['source'], row['target']) for i, row in full_kg.loc[full_kg['edge_type'] == 'induces'].iterrows()]"
   ]
  },
  {
   "cell_type": "code",
   "execution_count": 107,
   "metadata": {},
   "outputs": [
    {
     "data": {
      "text/plain": [
       "1816"
      ]
     },
     "execution_count": 107,
     "metadata": {},
     "output_type": "execute_result"
    }
   ],
   "source": [
    "bps_in_pairs = {row['target'] for i, row in full_kg.loc[full_kg['edge_type'] == 'induces'].iterrows()}\n",
    "\n",
    "prots_to_bps = set()\n",
    "\n",
    "# get the proteins which interact with those BPs\n",
    "for i, row in full_kg.loc[(full_kg['edge_type'] == 'participates') & (full_kg['target'].isin(bps_in_pairs))].iterrows():\n",
    "    prots_to_bps.add((row['source']))\n",
    "\n",
    "len(prots_to_bps)"
   ]
  },
  {
   "cell_type": "code",
   "execution_count": 108,
   "metadata": {},
   "outputs": [],
   "source": [
    "G = nx.DiGraph()\n",
    "\n",
    "for i, row in full_kg.iterrows():\n",
    "    if row['edge_type'] == 'interacts':\n",
    "        src_id = row['source']\n",
    "        trgt_id = row['target']\n",
    "        if src_id not in G.nodes:\n",
    "            G.add_node(src_id, type=row['source_node_type'])\n",
    "        if trgt_id not in G.nodes:\n",
    "            G.add_node(trgt_id, type=row['target_node_type'])\n",
    "        G.add_edge(src_id, trgt_id, type=row['edge_type'])"
   ]
  },
  {
   "cell_type": "code",
   "execution_count": 109,
   "metadata": {},
   "outputs": [
    {
     "name": "stdout",
     "output_type": "stream",
     "text": [
      "1000 36984\n",
      "2000 35984\n",
      "3000 34984\n",
      "4000 33984\n",
      "5000 32984\n",
      "6000 31984\n",
      "7000 30984\n",
      "8000 29984\n",
      "9000 28984\n",
      "10000 27984\n",
      "11000 26984\n",
      "12000 25984\n",
      "13000 24984\n",
      "14000 23984\n",
      "15000 22984\n",
      "16000 21984\n",
      "17000 20984\n",
      "18000 19984\n",
      "19000 18984\n",
      "20000 17984\n",
      "21000 16984\n",
      "22000 15984\n",
      "23000 14984\n",
      "24000 13984\n",
      "25000 12984\n",
      "26000 11984\n",
      "27000 10984\n"
     ]
    }
   ],
   "source": [
    "prot_nodes = [node for node, data in G.nodes(data=True) if data[\"type\"] == \"Gene\"]\n",
    "count = 0\n",
    "\n",
    "while G.number_of_edges() > 10000:\n",
    "    prot_with_highest_degree = max(prot_nodes, key=lambda n: G.out_degree(n))\n",
    "    # Find the neighbor of prot_with_highest_degree with the largest degree\n",
    "    neighbor_of_highest_degree = max([node for node in nx.neighbors(G,prot_with_highest_degree) if node in prot_nodes], key=lambda n: G.out_degree(n))\n",
    "    # remove the edge between prot_with_highest_degree and neighbor_of_highest_degree\n",
    "    G.remove_edge(prot_with_highest_degree, neighbor_of_highest_degree)\n",
    "    count += 1\n",
    "    if count % 1000 == 0:\n",
    "        print(count, G.number_of_edges())"
   ]
  },
  {
   "cell_type": "code",
   "execution_count": 110,
   "metadata": {},
   "outputs": [
    {
     "data": {
      "text/plain": [
       "852"
      ]
     },
     "execution_count": 110,
     "metadata": {},
     "output_type": "execute_result"
    }
   ],
   "source": [
    "prots_with_0_degree = [node for node in prot_nodes if G.degree(node) == 0]\n",
    "len(prots_with_0_degree)"
   ]
  },
  {
   "cell_type": "code",
   "execution_count": 111,
   "metadata": {},
   "outputs": [
    {
     "data": {
      "image/png": "[encoded data removed]",
      "text/plain": [
       "<Figure size 640x480 with 1 Axes>"
      ]
     },
     "metadata": {},
     "output_type": "display_data"
    }
   ],
   "source": [
    "# Filter nodes based on type\n",
    "prot_nodes = [node for node, data in G.nodes(data=True) if data[\"type\"] == \"Gene\"]\n",
    "\n",
    "# Calculate outgoing degrees of compound nodes\n",
    "out_degrees = [G.degree(node) for node in prot_nodes]\n",
    "\n",
    "# Plot histogram\n",
    "plt.hist(out_degrees, bins=100, range=(0, max(out_degrees) + 0.5), edgecolor=\"black\")\n",
    "plt.xlabel(\"Outgoing Degree\")\n",
    "plt.ylabel(\"Frequency\")\n",
    "plt.title(\"Histogram of Outgoing Degrees for Nodes with Type 'Gene'\")\n",
    "plt.show()"
   ]
  },
  {
   "cell_type": "code",
   "execution_count": 112,
   "metadata": {},
   "outputs": [
    {
     "name": "stdout",
     "output_type": "stream",
     "text": [
      "0 852\n",
      "1 560\n",
      "2 301\n",
      "3 217\n",
      "4 378\n",
      "5 144\n",
      "6 609\n",
      "7 226\n",
      "8 118\n",
      "9 97\n",
      "10 72\n",
      "11 55\n",
      "12 63\n",
      "13 50\n",
      "14 34\n",
      "15 26\n",
      "16 20\n",
      "17 8\n",
      "18 5\n",
      "19 7\n",
      "20 8\n",
      "21 13\n",
      "22 6\n",
      "23 16\n",
      "24 9\n",
      "25 5\n",
      "26 8\n",
      "27 3\n",
      "28 4\n",
      "29 3\n",
      "30 3\n",
      "31 3\n",
      "32 1\n",
      "33 4\n",
      "34 3\n",
      "35 1\n",
      "36 2\n",
      "37 2\n",
      "38 2\n",
      "39 6\n",
      "41 1\n",
      "42 1\n",
      "43 1\n",
      "44 1\n",
      "46 2\n",
      "47 3\n",
      "48 1\n",
      "49 2\n",
      "50 1\n",
      "52 2\n",
      "54 2\n",
      "59 1\n",
      "68 1\n",
      "75 1\n",
      "78 1\n",
      "196 1\n",
      "212 2\n",
      "213 1\n"
     ]
    }
   ],
   "source": [
    "degrees = dict(Counter(out_degrees))\n",
    "\n",
    "for d in sorted(degrees)[0:150]:\n",
    "    print(d, degrees[d])"
   ]
  },
  {
   "cell_type": "code",
   "execution_count": 113,
   "metadata": {},
   "outputs": [],
   "source": [
    "# remove isolated nodes\n",
    "def remove_isolated_nodes(G):\n",
    "\n",
    "    # remove isolated nodes\n",
    "    isolated_nodes = list(nx.isolates(G))\n",
    "    G.remove_nodes_from(isolated_nodes)\n",
    "    \n",
    "    return G"
   ]
  },
  {
   "cell_type": "code",
   "execution_count": 114,
   "metadata": {},
   "outputs": [],
   "source": [
    "G = remove_isolated_nodes(G)"
   ]
  },
  {
   "cell_type": "markdown",
   "metadata": {},
   "source": [
    "Add in the other edges:"
   ]
  },
  {
   "cell_type": "code",
   "execution_count": 115,
   "metadata": {},
   "outputs": [],
   "source": [
    "for i, row in full_kg.iterrows():\n",
    "    if row['edge_type'] != 'interacts':\n",
    "        src_id = row['source']\n",
    "        trgt_id = row['target']\n",
    "        if src_id not in G.nodes:\n",
    "            G.add_node(src_id, type=row['source_node_type'])\n",
    "        if trgt_id not in G.nodes:\n",
    "            G.add_node(trgt_id, type=row['target_node_type'])\n",
    "        G.add_edge(src_id, trgt_id, type=row['edge_type'])"
   ]
  },
  {
   "cell_type": "code",
   "execution_count": 116,
   "metadata": {},
   "outputs": [
    {
     "data": {
      "text/plain": [
       "0"
      ]
     },
     "execution_count": 116,
     "metadata": {},
     "output_type": "execute_result"
    }
   ],
   "source": [
    "isolated_nodes = list(nx.isolates(G))\n",
    "len(isolated_nodes)"
   ]
  },
  {
   "cell_type": "markdown",
   "metadata": {},
   "source": [
    "Get all the protein nodes which are not connected to a GO BP or drug:"
   ]
  },
  {
   "cell_type": "code",
   "execution_count": 117,
   "metadata": {},
   "outputs": [],
   "source": [
    "protein_nodes = [node for node, data in G.nodes(data=True) if data.get('type') == 'Gene']\n",
    "\n",
    "filtered_protein_nodes = set()\n",
    "\n",
    "for protein_node in protein_nodes:\n",
    "    neighbors = G.neighbors(protein_node)\n",
    "    leave_alone = bool(set(neighbors) & prots_to_bps)\n",
    "    if leave_alone:\n",
    "        continue\n",
    "    \n",
    "    neighbor_types = [G.nodes[neighbor].get('type') for neighbor in neighbors]\n",
    "    \n",
    "    if 'Compound' not in neighbor_types and 'Biological Process' not in neighbor_types:\n",
    "        filtered_protein_nodes.add(protein_node)"
   ]
  },
  {
   "cell_type": "code",
   "execution_count": 118,
   "metadata": {},
   "outputs": [
    {
     "data": {
      "text/plain": [
       "2201"
      ]
     },
     "execution_count": 118,
     "metadata": {},
     "output_type": "execute_result"
    }
   ],
   "source": [
    "len(filtered_protein_nodes)"
   ]
  },
  {
   "cell_type": "markdown",
   "metadata": {},
   "source": [
    "Now remove these:"
   ]
  },
  {
   "cell_type": "code",
   "execution_count": 119,
   "metadata": {},
   "outputs": [],
   "source": [
    "edges_to_remove = []\n",
    "\n",
    "for edge in G.edges():\n",
    "    source_node, target_node = edge\n",
    "    if source_node in filtered_protein_nodes or target_node in filtered_protein_nodes:\n",
    "        edges_to_remove.append(edge)\n",
    "\n",
    "G.remove_edges_from(edges_to_remove)"
   ]
  },
  {
   "cell_type": "code",
   "execution_count": 120,
   "metadata": {},
   "outputs": [],
   "source": [
    "G = remove_isolated_nodes(G)"
   ]
  },
  {
   "cell_type": "code",
   "execution_count": 121,
   "metadata": {},
   "outputs": [
    {
     "data": {
      "text/plain": [
       "0"
      ]
     },
     "execution_count": 121,
     "metadata": {},
     "output_type": "execute_result"
    }
   ],
   "source": [
    "isolated_nodes = list(nx.isolates(G))\n",
    "len(isolated_nodes)"
   ]
  },
  {
   "cell_type": "code",
   "execution_count": 122,
   "metadata": {},
   "outputs": [],
   "source": [
    "# export G to pandas df with node types\n",
    "G_df = nx.to_pandas_edgelist(G, edge_key='edge_type')"
   ]
  },
  {
   "cell_type": "code",
   "execution_count": 123,
   "metadata": {},
   "outputs": [],
   "source": [
    "G_df.rename(columns={'type': 'edge_type'}, inplace=True)"
   ]
  },
  {
   "cell_type": "code",
   "execution_count": 124,
   "metadata": {},
   "outputs": [
    {
     "data": {
      "text/html": [
       "<div>\n",
       "<style scoped>\n",
       "    .dataframe tbody tr th:only-of-type {\n",
       "        vertical-align: middle;\n",
       "    }\n",
       "\n",
       "    .dataframe tbody tr th {\n",
       "        vertical-align: top;\n",
       "    }\n",
       "\n",
       "    .dataframe thead th {\n",
       "        text-align: right;\n",
       "    }\n",
       "</style>\n",
       "<table border=\"1\" class=\"dataframe\">\n",
       "  <thead>\n",
       "    <tr style=\"text-align: right;\">\n",
       "      <th></th>\n",
       "      <th>source</th>\n",
       "      <th>target</th>\n",
       "      <th>edge_type</th>\n",
       "    </tr>\n",
       "  </thead>\n",
       "  <tbody>\n",
       "    <tr>\n",
       "      <th>0</th>\n",
       "      <td>ncbigene:6622</td>\n",
       "      <td>ncbigene:3308</td>\n",
       "      <td>interacts</td>\n",
       "    </tr>\n",
       "    <tr>\n",
       "      <th>1</th>\n",
       "      <td>ncbigene:6622</td>\n",
       "      <td>GO:0043065</td>\n",
       "      <td>participates</td>\n",
       "    </tr>\n",
       "    <tr>\n",
       "      <th>2</th>\n",
       "      <td>ncbigene:3308</td>\n",
       "      <td>GO:0006457</td>\n",
       "      <td>participates</td>\n",
       "    </tr>\n",
       "    <tr>\n",
       "      <th>3</th>\n",
       "      <td>ncbigene:4804</td>\n",
       "      <td>ncbigene:3265</td>\n",
       "      <td>interacts</td>\n",
       "    </tr>\n",
       "    <tr>\n",
       "      <th>4</th>\n",
       "      <td>ncbigene:4804</td>\n",
       "      <td>ncbigene:5290</td>\n",
       "      <td>interacts</td>\n",
       "    </tr>\n",
       "    <tr>\n",
       "      <th>...</th>\n",
       "      <td>...</td>\n",
       "      <td>...</td>\n",
       "      <td>...</td>\n",
       "    </tr>\n",
       "    <tr>\n",
       "      <th>8417</th>\n",
       "      <td>pubchem.compound:38853</td>\n",
       "      <td>GO:0006520</td>\n",
       "      <td>induces</td>\n",
       "    </tr>\n",
       "    <tr>\n",
       "      <th>8418</th>\n",
       "      <td>pubchem.compound:38853</td>\n",
       "      <td>GO:0006629</td>\n",
       "      <td>induces</td>\n",
       "    </tr>\n",
       "    <tr>\n",
       "      <th>8419</th>\n",
       "      <td>pubchem.compound:38853</td>\n",
       "      <td>GO:0007005</td>\n",
       "      <td>induces</td>\n",
       "    </tr>\n",
       "    <tr>\n",
       "      <th>8420</th>\n",
       "      <td>pubchem.compound:38853</td>\n",
       "      <td>GO:0006259</td>\n",
       "      <td>induces</td>\n",
       "    </tr>\n",
       "    <tr>\n",
       "      <th>8421</th>\n",
       "      <td>pubchem.compound:6714002</td>\n",
       "      <td>ncbigene:2908</td>\n",
       "      <td>upregulates</td>\n",
       "    </tr>\n",
       "  </tbody>\n",
       "</table>\n",
       "<p>8422 rows × 3 columns</p>\n",
       "</div>"
      ],
      "text/plain": [
       "                        source         target     edge_type\n",
       "0                ncbigene:6622  ncbigene:3308     interacts\n",
       "1                ncbigene:6622     GO:0043065  participates\n",
       "2                ncbigene:3308     GO:0006457  participates\n",
       "3                ncbigene:4804  ncbigene:3265     interacts\n",
       "4                ncbigene:4804  ncbigene:5290     interacts\n",
       "...                        ...            ...           ...\n",
       "8417    pubchem.compound:38853     GO:0006520       induces\n",
       "8418    pubchem.compound:38853     GO:0006629       induces\n",
       "8419    pubchem.compound:38853     GO:0007005       induces\n",
       "8420    pubchem.compound:38853     GO:0006259       induces\n",
       "8421  pubchem.compound:6714002  ncbigene:2908   upregulates\n",
       "\n",
       "[8422 rows x 3 columns]"
      ]
     },
     "execution_count": 124,
     "metadata": {},
     "output_type": "execute_result"
    }
   ],
   "source": [
    "G_df"
   ]
  },
  {
   "cell_type": "code",
   "execution_count": 125,
   "metadata": {},
   "outputs": [],
   "source": [
    "def map_to_nodetype(id):\n",
    "    if 'ncbigene:' in id:\n",
    "        return 'Gene'\n",
    "    elif 'GO:' in id:\n",
    "        return 'Biological Process'\n",
    "    elif 'pubchem' in id:\n",
    "        return 'Compound'\n",
    "    else:\n",
    "        raise ValueError(f'Unknown node type for {id}')"
   ]
  },
  {
   "cell_type": "code",
   "execution_count": 126,
   "metadata": {},
   "outputs": [],
   "source": [
    "G_df['source_node_type'] = [map_to_nodetype(i) for i in G_df['source']]\n",
    "G_df['target_node_type'] = [map_to_nodetype(i) for i in G_df['target']]"
   ]
  },
  {
   "cell_type": "code",
   "execution_count": 127,
   "metadata": {},
   "outputs": [
    {
     "data": {
      "text/html": [
       "<div>\n",
       "<style scoped>\n",
       "    .dataframe tbody tr th:only-of-type {\n",
       "        vertical-align: middle;\n",
       "    }\n",
       "\n",
       "    .dataframe tbody tr th {\n",
       "        vertical-align: top;\n",
       "    }\n",
       "\n",
       "    .dataframe thead th {\n",
       "        text-align: right;\n",
       "    }\n",
       "</style>\n",
       "<table border=\"1\" class=\"dataframe\">\n",
       "  <thead>\n",
       "    <tr style=\"text-align: right;\">\n",
       "      <th></th>\n",
       "      <th>source</th>\n",
       "      <th>target</th>\n",
       "      <th>edge_type</th>\n",
       "      <th>source_node_type</th>\n",
       "      <th>target_node_type</th>\n",
       "    </tr>\n",
       "  </thead>\n",
       "  <tbody>\n",
       "    <tr>\n",
       "      <th>0</th>\n",
       "      <td>ncbigene:6622</td>\n",
       "      <td>ncbigene:3308</td>\n",
       "      <td>interacts</td>\n",
       "      <td>Gene</td>\n",
       "      <td>Gene</td>\n",
       "    </tr>\n",
       "    <tr>\n",
       "      <th>1</th>\n",
       "      <td>ncbigene:6622</td>\n",
       "      <td>GO:0043065</td>\n",
       "      <td>participates</td>\n",
       "      <td>Gene</td>\n",
       "      <td>Biological Process</td>\n",
       "    </tr>\n",
       "    <tr>\n",
       "      <th>2</th>\n",
       "      <td>ncbigene:3308</td>\n",
       "      <td>GO:0006457</td>\n",
       "      <td>participates</td>\n",
       "      <td>Gene</td>\n",
       "      <td>Biological Process</td>\n",
       "    </tr>\n",
       "    <tr>\n",
       "      <th>3</th>\n",
       "      <td>ncbigene:4804</td>\n",
       "      <td>ncbigene:3265</td>\n",
       "      <td>interacts</td>\n",
       "      <td>Gene</td>\n",
       "      <td>Gene</td>\n",
       "    </tr>\n",
       "    <tr>\n",
       "      <th>4</th>\n",
       "      <td>ncbigene:4804</td>\n",
       "      <td>ncbigene:5290</td>\n",
       "      <td>interacts</td>\n",
       "      <td>Gene</td>\n",
       "      <td>Gene</td>\n",
       "    </tr>\n",
       "    <tr>\n",
       "      <th>...</th>\n",
       "      <td>...</td>\n",
       "      <td>...</td>\n",
       "      <td>...</td>\n",
       "      <td>...</td>\n",
       "      <td>...</td>\n",
       "    </tr>\n",
       "    <tr>\n",
       "      <th>8417</th>\n",
       "      <td>pubchem.compound:38853</td>\n",
       "      <td>GO:0006520</td>\n",
       "      <td>induces</td>\n",
       "      <td>Compound</td>\n",
       "      <td>Biological Process</td>\n",
       "    </tr>\n",
       "    <tr>\n",
       "      <th>8418</th>\n",
       "      <td>pubchem.compound:38853</td>\n",
       "      <td>GO:0006629</td>\n",
       "      <td>induces</td>\n",
       "      <td>Compound</td>\n",
       "      <td>Biological Process</td>\n",
       "    </tr>\n",
       "    <tr>\n",
       "      <th>8419</th>\n",
       "      <td>pubchem.compound:38853</td>\n",
       "      <td>GO:0007005</td>\n",
       "      <td>induces</td>\n",
       "      <td>Compound</td>\n",
       "      <td>Biological Process</td>\n",
       "    </tr>\n",
       "    <tr>\n",
       "      <th>8420</th>\n",
       "      <td>pubchem.compound:38853</td>\n",
       "      <td>GO:0006259</td>\n",
       "      <td>induces</td>\n",
       "      <td>Compound</td>\n",
       "      <td>Biological Process</td>\n",
       "    </tr>\n",
       "    <tr>\n",
       "      <th>8421</th>\n",
       "      <td>pubchem.compound:6714002</td>\n",
       "      <td>ncbigene:2908</td>\n",
       "      <td>upregulates</td>\n",
       "      <td>Compound</td>\n",
       "      <td>Gene</td>\n",
       "    </tr>\n",
       "  </tbody>\n",
       "</table>\n",
       "<p>8422 rows × 5 columns</p>\n",
       "</div>"
      ],
      "text/plain": [
       "                        source         target     edge_type source_node_type  \\\n",
       "0                ncbigene:6622  ncbigene:3308     interacts             Gene   \n",
       "1                ncbigene:6622     GO:0043065  participates             Gene   \n",
       "2                ncbigene:3308     GO:0006457  participates             Gene   \n",
       "3                ncbigene:4804  ncbigene:3265     interacts             Gene   \n",
       "4                ncbigene:4804  ncbigene:5290     interacts             Gene   \n",
       "...                        ...            ...           ...              ...   \n",
       "8417    pubchem.compound:38853     GO:0006520       induces         Compound   \n",
       "8418    pubchem.compound:38853     GO:0006629       induces         Compound   \n",
       "8419    pubchem.compound:38853     GO:0007005       induces         Compound   \n",
       "8420    pubchem.compound:38853     GO:0006259       induces         Compound   \n",
       "8421  pubchem.compound:6714002  ncbigene:2908   upregulates         Compound   \n",
       "\n",
       "        target_node_type  \n",
       "0                   Gene  \n",
       "1     Biological Process  \n",
       "2     Biological Process  \n",
       "3                   Gene  \n",
       "4                   Gene  \n",
       "...                  ...  \n",
       "8417  Biological Process  \n",
       "8418  Biological Process  \n",
       "8419  Biological Process  \n",
       "8420  Biological Process  \n",
       "8421                Gene  \n",
       "\n",
       "[8422 rows x 5 columns]"
      ]
     },
     "execution_count": 127,
     "metadata": {},
     "output_type": "execute_result"
    }
   ],
   "source": [
    "G_df"
   ]
  },
  {
   "cell_type": "code",
   "execution_count": 128,
   "metadata": {},
   "outputs": [
    {
     "data": {
      "text/plain": [
       "Counter({'interacts': 3923,\n",
       "         'induces': 1675,\n",
       "         'participates': 1290,\n",
       "         'downregulates': 825,\n",
       "         'upregulates': 709})"
      ]
     },
     "execution_count": 128,
     "metadata": {},
     "output_type": "execute_result"
    }
   ],
   "source": [
    "Counter(G_df['edge_type'])"
   ]
  },
  {
   "cell_type": "code",
   "execution_count": 129,
   "metadata": {},
   "outputs": [],
   "source": [
    "edges_to_remove = [(u, v) for u, v, data in G.edges(data=True) if 'type' in data and data['type'] == 'induces']\n",
    "G.remove_edges_from(edges_to_remove)"
   ]
  },
  {
   "cell_type": "code",
   "execution_count": 130,
   "metadata": {},
   "outputs": [
    {
     "name": "stdout",
     "output_type": "stream",
     "text": [
      "890\n"
     ]
    }
   ],
   "source": [
    "no_path = set()\n",
    "\n",
    "for pair in true_pairs:\n",
    "    path_exists = nx.has_path(G, pair[0], pair[1])\n",
    "    if not path_exists:\n",
    "        no_path.add(pair)\n",
    "\n",
    "print(len(no_path))"
   ]
  },
  {
   "cell_type": "code",
   "execution_count": 131,
   "metadata": {},
   "outputs": [
    {
     "data": {
      "text/plain": [
       "1675"
      ]
     },
     "execution_count": 131,
     "metadata": {},
     "output_type": "execute_result"
    }
   ],
   "source": [
    "len(true_pairs)"
   ]
  },
  {
   "cell_type": "code",
   "execution_count": 132,
   "metadata": {},
   "outputs": [
    {
     "data": {
      "text/plain": [
       "0.5313432835820896"
      ]
     },
     "execution_count": 132,
     "metadata": {},
     "output_type": "execute_result"
    }
   ],
   "source": [
    "len(no_path) / len(true_pairs)"
   ]
  },
  {
   "cell_type": "code",
   "execution_count": 133,
   "metadata": {},
   "outputs": [
    {
     "name": "stdout",
     "output_type": "stream",
     "text": [
      "Dropping ('pubchem.compound:10607', 'GO:0002376')\n",
      "Dropping ('pubchem.compound:10607', 'GO:0007017')\n",
      "Dropping ('pubchem.compound:10607', 'GO:0022607')\n",
      "Dropping ('pubchem.compound:10607', 'GO:0048646')\n",
      "Dropping ('pubchem.compound:10607', 'GO:0008219')\n",
      "Dropping ('pubchem.compound:10607', 'GO:0030705')\n",
      "Dropping ('pubchem.compound:10607', 'GO:0050877')\n",
      "Dropping ('pubchem.compound:10607', 'GO:0021700')\n",
      "Dropping ('pubchem.compound:10607', 'GO:0050790')\n",
      "Dropping ('pubchem.compound:10607', 'GO:0022618')\n",
      "Dropping ('pubchem.compound:10631', 'GO:0002376')\n",
      "Dropping ('pubchem.compound:10631', 'GO:0007017')\n",
      "Dropping ('pubchem.compound:10631', 'GO:0008219')\n",
      "Dropping ('pubchem.compound:10631', 'GO:0008283')\n",
      "Dropping ('pubchem.compound:10631', 'GO:0021700')\n",
      "Dropping ('pubchem.compound:10631', 'GO:0030154')\n",
      "Dropping ('pubchem.compound:10631', 'GO:0030705')\n",
      "Dropping ('pubchem.compound:10631', 'GO:0032880')\n",
      "Dropping ('pubchem.compound:10631', 'GO:0042592')\n",
      "Dropping ('pubchem.compound:10631', 'GO:0043085')\n",
      "Dropping ('pubchem.compound:10631', 'GO:0048646')\n",
      "Dropping ('pubchem.compound:10631', 'GO:0048856')\n",
      "Dropping ('pubchem.compound:10631', 'GO:0050790')\n",
      "Dropping ('pubchem.compound:10631', 'GO:0050877')\n",
      "Dropping ('pubchem.compound:10631', 'GO:0006913')\n",
      "Dropping ('pubchem.compound:10631', 'GO:0007010')\n",
      "Dropping ('pubchem.compound:10631', 'GO:0061024')\n",
      "Dropping ('pubchem.compound:10635', 'GO:0009790')\n",
      "Dropping ('pubchem.compound:10635', 'GO:0048646')\n",
      "Dropping ('pubchem.compound:10635', 'GO:0008219')\n",
      "Dropping ('pubchem.compound:11707110', 'GO:0048646')\n",
      "Dropping ('pubchem.compound:11707110', 'GO:0040011')\n",
      "Dropping ('pubchem.compound:11707110', 'GO:0006805')\n",
      "Dropping ('pubchem.compound:11707110', 'GO:0055085')\n",
      "Dropping ('pubchem.compound:12035', 'GO:0022607')\n",
      "Dropping ('pubchem.compound:12035', 'GO:0050790')\n",
      "Dropping ('pubchem.compound:12035', 'GO:0008219')\n",
      "Dropping ('pubchem.compound:12035', 'GO:0050877')\n",
      "Dropping ('pubchem.compound:124087', 'GO:0002376')\n",
      "Dropping ('pubchem.compound:124087', 'GO:0007267')\n",
      "Dropping ('pubchem.compound:124087', 'GO:0040011')\n",
      "Dropping ('pubchem.compound:124087', 'GO:0050877')\n",
      "Dropping ('pubchem.compound:12560', 'GO:0007165')\n",
      "Dropping ('pubchem.compound:12560', 'GO:0006629')\n",
      "Dropping ('pubchem.compound:12560', 'GO:0006805')\n",
      "Dropping ('pubchem.compound:12560', 'GO:0009820')\n",
      "Dropping ('pubchem.compound:12560', 'GO:0070989')\n",
      "Dropping ('pubchem.compound:12560', 'GO:0042592')\n",
      "Dropping ('pubchem.compound:12560', 'GO:0055085')\n",
      "Dropping ('pubchem.compound:126941', 'GO:0006520')\n",
      "Dropping ('pubchem.compound:126941', 'GO:0007017')\n",
      "Dropping ('pubchem.compound:126941', 'GO:0002376')\n",
      "Dropping ('pubchem.compound:126941', 'GO:0008219')\n",
      "Dropping ('pubchem.compound:126941', 'GO:0009790')\n",
      "Dropping ('pubchem.compound:126941', 'GO:0048646')\n",
      "Dropping ('pubchem.compound:126941', 'GO:0050790')\n",
      "Dropping ('pubchem.compound:126941', 'GO:0022618')\n",
      "Dropping ('pubchem.compound:126941', 'GO:0021700')\n",
      "Dropping ('pubchem.compound:126941', 'GO:0055085')\n",
      "Dropping ('pubchem.compound:126941', 'GO:0007009')\n",
      "Dropping ('pubchem.compound:126941', 'GO:0040011')\n",
      "Dropping ('pubchem.compound:15209', 'GO:0002376')\n",
      "Dropping ('pubchem.compound:15209', 'GO:0007017')\n",
      "Dropping ('pubchem.compound:15209', 'GO:0008219')\n",
      "Dropping ('pubchem.compound:15209', 'GO:0021700')\n",
      "Dropping ('pubchem.compound:15209', 'GO:0030705')\n",
      "Dropping ('pubchem.compound:15209', 'GO:0048646')\n",
      "Dropping ('pubchem.compound:15209', 'GO:0050790')\n",
      "Dropping ('pubchem.compound:15209', 'GO:0050877')\n",
      "Dropping ('pubchem.compound:15209', 'GO:0022618')\n",
      "Dropping ('pubchem.compound:1548943', 'GO:0002376')\n",
      "Dropping ('pubchem.compound:1548943', 'GO:0050877')\n",
      "Dropping ('pubchem.compound:1548943', 'GO:0055085')\n",
      "Dropping ('pubchem.compound:16362', 'GO:0055085')\n",
      "Dropping ('pubchem.compound:16362', 'GO:0002376')\n",
      "Dropping ('pubchem.compound:16362', 'GO:0050877')\n",
      "Dropping ('pubchem.compound:16362', 'GO:0008219')\n",
      "Dropping ('pubchem.compound:16362', 'GO:0040011')\n",
      "Dropping ('pubchem.compound:16362', 'GO:0048646')\n",
      "Dropping ('pubchem.compound:16362', 'GO:0009308')\n",
      "Dropping ('pubchem.compound:16362', 'GO:0022607')\n",
      "Dropping ('pubchem.compound:16362', 'GO:0050790')\n",
      "Dropping ('pubchem.compound:20279', 'GO:0007017')\n",
      "Dropping ('pubchem.compound:2162', 'GO:0048856')\n",
      "Dropping ('pubchem.compound:2162', 'GO:0050877')\n",
      "Dropping ('pubchem.compound:2162', 'GO:0055085')\n",
      "Dropping ('pubchem.compound:2265', 'GO:0006259')\n",
      "Dropping ('pubchem.compound:2265', 'GO:0007165')\n",
      "Dropping ('pubchem.compound:2265', 'GO:0022607')\n",
      "Dropping ('pubchem.compound:2265', 'GO:0050790')\n",
      "Dropping ('pubchem.compound:2265', 'GO:0051276')\n",
      "Dropping ('pubchem.compound:2265', 'GO:0007155')\n",
      "Dropping ('pubchem.compound:2265', 'GO:0006913')\n",
      "Dropping ('pubchem.compound:2265', 'GO:0007010')\n",
      "Dropping ('pubchem.compound:2265', 'GO:0007017')\n",
      "Dropping ('pubchem.compound:2265', 'GO:0032880')\n",
      "Dropping ('pubchem.compound:2265', 'GO:0048856')\n",
      "Dropping ('pubchem.compound:2265', 'GO:0061024')\n",
      "Dropping ('pubchem.compound:2265', 'GO:0002376')\n",
      "Dropping ('pubchem.compound:2265', 'GO:0005975')\n",
      "Dropping ('pubchem.compound:2265', 'GO:0006914')\n",
      "Dropping ('pubchem.compound:2265', 'GO:0007005')\n",
      "Dropping ('pubchem.compound:2265', 'GO:0007049')\n",
      "Dropping ('pubchem.compound:2265', 'GO:0008219')\n",
      "Dropping ('pubchem.compound:2265', 'GO:0008283')\n",
      "Dropping ('pubchem.compound:2265', 'GO:0009790')\n",
      "Dropping ('pubchem.compound:2265', 'GO:0030154')\n",
      "Dropping ('pubchem.compound:2265', 'GO:0043065')\n",
      "Dropping ('pubchem.compound:2265', 'GO:0048646')\n",
      "Dropping ('pubchem.compound:2265', 'GO:0050821')\n",
      "Dropping ('pubchem.compound:2315', 'GO:0006913')\n",
      "Dropping ('pubchem.compound:2315', 'GO:0007010')\n",
      "Dropping ('pubchem.compound:2315', 'GO:0007017')\n",
      "Dropping ('pubchem.compound:2315', 'GO:0032880')\n",
      "Dropping ('pubchem.compound:2315', 'GO:0048856')\n",
      "Dropping ('pubchem.compound:2315', 'GO:0061024')\n",
      "Dropping ('pubchem.compound:23725625', 'GO:0002376')\n",
      "Dropping ('pubchem.compound:23725625', 'GO:0008219')\n",
      "Dropping ('pubchem.compound:2375', 'GO:0009790')\n",
      "Dropping ('pubchem.compound:2375', 'GO:0048646')\n",
      "Dropping ('pubchem.compound:2471', 'GO:0002376')\n",
      "Dropping ('pubchem.compound:2471', 'GO:0007017')\n",
      "Dropping ('pubchem.compound:2471', 'GO:0008219')\n",
      "Dropping ('pubchem.compound:2471', 'GO:0021700')\n",
      "Dropping ('pubchem.compound:2471', 'GO:0030705')\n",
      "Dropping ('pubchem.compound:2471', 'GO:0048646')\n",
      "Dropping ('pubchem.compound:2471', 'GO:0050790')\n",
      "Dropping ('pubchem.compound:2471', 'GO:0050877')\n",
      "Dropping ('pubchem.compound:2478', 'GO:0007017')\n",
      "Dropping ('pubchem.compound:24826799', 'GO:0002376')\n",
      "Dropping ('pubchem.compound:24826799', 'GO:0008219')\n",
      "Dropping ('pubchem.compound:24826799', 'GO:0022607')\n",
      "Dropping ('pubchem.compound:24826799', 'GO:0048646')\n",
      "Dropping ('pubchem.compound:24826799', 'GO:0050790')\n",
      "Dropping ('pubchem.compound:24826799', 'GO:0050877')\n",
      "Dropping ('pubchem.compound:24826799', 'GO:0040011')\n",
      "Dropping ('pubchem.compound:24826799', 'GO:0021700')\n",
      "Dropping ('pubchem.compound:24826799', 'GO:0009790')\n",
      "Dropping ('pubchem.compound:24826799', 'GO:0022618')\n",
      "Dropping ('pubchem.compound:24826799', 'GO:0031638')\n",
      "Dropping ('pubchem.compound:2554', 'GO:0002376')\n",
      "Dropping ('pubchem.compound:2554', 'GO:0008219')\n",
      "Dropping ('pubchem.compound:2554', 'GO:0040011')\n",
      "Dropping ('pubchem.compound:2554', 'GO:0048646')\n",
      "Dropping ('pubchem.compound:2554', 'GO:0050877')\n",
      "Dropping ('pubchem.compound:2554', 'GO:0007017')\n",
      "Dropping ('pubchem.compound:2708', 'GO:0007267')\n",
      "Dropping ('pubchem.compound:2708', 'GO:0043085')\n",
      "Dropping ('pubchem.compound:2719', 'GO:0008219')\n",
      "Dropping ('pubchem.compound:2771', 'GO:0048856')\n",
      "Dropping ('pubchem.compound:2771', 'GO:0050877')\n",
      "Dropping ('pubchem.compound:2771', 'GO:0055085')\n",
      "Dropping ('pubchem.compound:2771', 'GO:0042592')\n",
      "Dropping ('pubchem.compound:2797', 'GO:0006805')\n",
      "Dropping ('pubchem.compound:2812', 'GO:0006629')\n",
      "Dropping ('pubchem.compound:2812', 'GO:0002376')\n",
      "Dropping ('pubchem.compound:2812', 'GO:0032880')\n",
      "Dropping ('pubchem.compound:2812', 'GO:0042592')\n",
      "Dropping ('pubchem.compound:2812', 'GO:0055085')\n",
      "Dropping ('pubchem.compound:2812', 'GO:0061024')\n",
      "Dropping ('pubchem.compound:2812', 'GO:0048646')\n",
      "Dropping ('pubchem.compound:2812', 'GO:0048856')\n",
      "Dropping ('pubchem.compound:2812', 'GO:0006913')\n",
      "Dropping ('pubchem.compound:2812', 'GO:0007010')\n",
      "Dropping ('pubchem.compound:2812', 'GO:0007017')\n",
      "Dropping ('pubchem.compound:2812', 'GO:0006805')\n",
      "Dropping ('pubchem.compound:2812', 'GO:0009820')\n",
      "Dropping ('pubchem.compound:2812', 'GO:0070989')\n",
      "Dropping ('pubchem.compound:2812', 'GO:0007165')\n",
      "Dropping ('pubchem.compound:2812', 'GO:0043085')\n",
      "Dropping ('pubchem.compound:2812', 'GO:0030154')\n",
      "Dropping ('pubchem.compound:2955', 'GO:0006629')\n",
      "Dropping ('pubchem.compound:2955', 'GO:0006805')\n"
     ]
    },
    {
     "name": "stdout",
     "output_type": "stream",
     "text": [
      "Dropping ('pubchem.compound:2955', 'GO:0070989')\n",
      "Dropping ('pubchem.compound:2955', 'GO:0007165')\n",
      "Dropping ('pubchem.compound:2955', 'GO:0007267')\n",
      "Dropping ('pubchem.compound:2955', 'GO:0002376')\n",
      "Dropping ('pubchem.compound:3038', 'GO:0007165')\n",
      "Dropping ('pubchem.compound:3038', 'GO:0042592')\n",
      "Dropping ('pubchem.compound:3038', 'GO:0006913')\n",
      "Dropping ('pubchem.compound:3038', 'GO:0007010')\n",
      "Dropping ('pubchem.compound:3038', 'GO:0007017')\n",
      "Dropping ('pubchem.compound:3038', 'GO:0032880')\n",
      "Dropping ('pubchem.compound:3038', 'GO:0048856')\n",
      "Dropping ('pubchem.compound:3038', 'GO:0061024')\n",
      "Dropping ('pubchem.compound:3038', 'GO:0006629')\n",
      "Dropping ('pubchem.compound:3038', 'GO:0006805')\n",
      "Dropping ('pubchem.compound:3038', 'GO:0070989')\n",
      "Dropping ('pubchem.compound:3108', 'GO:0006805')\n",
      "Dropping ('pubchem.compound:3108', 'GO:0055085')\n",
      "Dropping ('pubchem.compound:3108', 'GO:0050877')\n",
      "Dropping ('pubchem.compound:3108', 'GO:0008219')\n",
      "Dropping ('pubchem.compound:3108', 'GO:0007017')\n",
      "Dropping ('pubchem.compound:3108', 'GO:0022618')\n",
      "Dropping ('pubchem.compound:31307', 'GO:0002376')\n",
      "Dropping ('pubchem.compound:31307', 'GO:0007017')\n",
      "Dropping ('pubchem.compound:31307', 'GO:0008219')\n",
      "Dropping ('pubchem.compound:31307', 'GO:0021700')\n",
      "Dropping ('pubchem.compound:31307', 'GO:0030705')\n",
      "Dropping ('pubchem.compound:31307', 'GO:0048646')\n",
      "Dropping ('pubchem.compound:31307', 'GO:0050790')\n",
      "Dropping ('pubchem.compound:31307', 'GO:0050877')\n",
      "Dropping ('pubchem.compound:31307', 'GO:0022607')\n",
      "Dropping ('pubchem.compound:3157', 'GO:0050877')\n",
      "Dropping ('pubchem.compound:3157', 'GO:0008219')\n",
      "Dropping ('pubchem.compound:3157', 'GO:0055085')\n",
      "Dropping ('pubchem.compound:3278', 'GO:0006629')\n",
      "Dropping ('pubchem.compound:3278', 'GO:0006805')\n",
      "Dropping ('pubchem.compound:3278', 'GO:0070989')\n",
      "Dropping ('pubchem.compound:3308', 'GO:0022607')\n",
      "Dropping ('pubchem.compound:3308', 'GO:0050790')\n",
      "Dropping ('pubchem.compound:3343', 'GO:0016192')\n",
      "Dropping ('pubchem.compound:3343', 'GO:0042592')\n",
      "Dropping ('pubchem.compound:3343', 'GO:0043085')\n",
      "Dropping ('pubchem.compound:3365', 'GO:0007017')\n",
      "Dropping ('pubchem.compound:3373', 'GO:0007165')\n",
      "Dropping ('pubchem.compound:3373', 'GO:0007267')\n",
      "Dropping ('pubchem.compound:3373', 'GO:0022607')\n",
      "Dropping ('pubchem.compound:3373', 'GO:0050877')\n",
      "Dropping ('pubchem.compound:3373', 'GO:0055085')\n",
      "Dropping ('pubchem.compound:3373', 'GO:0048856')\n",
      "Dropping ('pubchem.compound:3373', 'GO:0043085')\n",
      "Dropping ('pubchem.compound:33741', 'GO:0002376')\n",
      "Dropping ('pubchem.compound:33741', 'GO:0032880')\n",
      "Dropping ('pubchem.compound:33741', 'GO:0050877')\n",
      "Dropping ('pubchem.compound:33741', 'GO:0055085')\n",
      "Dropping ('pubchem.compound:3385', 'GO:0007017')\n",
      "Dropping ('pubchem.compound:3385', 'GO:0022618')\n",
      "Dropping ('pubchem.compound:3396', 'GO:0007165')\n",
      "Dropping ('pubchem.compound:3396', 'GO:0050877')\n",
      "Dropping ('pubchem.compound:3396', 'GO:0016192')\n",
      "Dropping ('pubchem.compound:3396', 'GO:0030154')\n",
      "Dropping ('pubchem.compound:3396', 'GO:0042592')\n",
      "Dropping ('pubchem.compound:3396', 'GO:0043085')\n",
      "Dropping ('pubchem.compound:3396', 'GO:0048856')\n",
      "Dropping ('pubchem.compound:3396', 'GO:0055085')\n",
      "Dropping ('pubchem.compound:3396', 'GO:0006913')\n",
      "Dropping ('pubchem.compound:3396', 'GO:0007010')\n",
      "Dropping ('pubchem.compound:3396', 'GO:0007017')\n",
      "Dropping ('pubchem.compound:3396', 'GO:0032880')\n",
      "Dropping ('pubchem.compound:3396', 'GO:0061024')\n",
      "Dropping ('pubchem.compound:3478', 'GO:0002376')\n",
      "Dropping ('pubchem.compound:3478', 'GO:0008219')\n",
      "Dropping ('pubchem.compound:3478', 'GO:0050790')\n",
      "Dropping ('pubchem.compound:3478', 'GO:0007017')\n",
      "Dropping ('pubchem.compound:3478', 'GO:0006805')\n",
      "Dropping ('pubchem.compound:3488', 'GO:0050877')\n",
      "Dropping ('pubchem.compound:3488', 'GO:0002376')\n",
      "Dropping ('pubchem.compound:3488', 'GO:0021700')\n",
      "Dropping ('pubchem.compound:3488', 'GO:0050790')\n",
      "Dropping ('pubchem.compound:36314', 'GO:0022607')\n",
      "Dropping ('pubchem.compound:36314', 'GO:0040011')\n",
      "Dropping ('pubchem.compound:36314', 'GO:0048646')\n",
      "Dropping ('pubchem.compound:36314', 'GO:0050790')\n",
      "Dropping ('pubchem.compound:36314', 'GO:0055085')\n",
      "Dropping ('pubchem.compound:36314', 'GO:0008219')\n",
      "Dropping ('pubchem.compound:36314', 'GO:0007017')\n",
      "Dropping ('pubchem.compound:36314', 'GO:0050877')\n",
      "Dropping ('pubchem.compound:36314', 'GO:0006805')\n",
      "Dropping ('pubchem.compound:3647', 'GO:0006913')\n",
      "Dropping ('pubchem.compound:3647', 'GO:0007010')\n",
      "Dropping ('pubchem.compound:3647', 'GO:0007017')\n",
      "Dropping ('pubchem.compound:3647', 'GO:0032880')\n",
      "Dropping ('pubchem.compound:3647', 'GO:0048856')\n",
      "Dropping ('pubchem.compound:3647', 'GO:0061024')\n",
      "Dropping ('pubchem.compound:3652', 'GO:0002376')\n",
      "Dropping ('pubchem.compound:3652', 'GO:0008219')\n",
      "Dropping ('pubchem.compound:3671', 'GO:0002376')\n",
      "Dropping ('pubchem.compound:3671', 'GO:0050877')\n",
      "Dropping ('pubchem.compound:3671', 'GO:0040011')\n",
      "Dropping ('pubchem.compound:3671', 'GO:0022607')\n",
      "Dropping ('pubchem.compound:3671', 'GO:0050790')\n",
      "Dropping ('pubchem.compound:3671', 'GO:0006805')\n",
      "Dropping ('pubchem.compound:3671', 'GO:0009820')\n",
      "Dropping ('pubchem.compound:3671', 'GO:0070989')\n",
      "Dropping ('pubchem.compound:3715', 'GO:0048646')\n",
      "Dropping ('pubchem.compound:3715', 'GO:0050877')\n",
      "Dropping ('pubchem.compound:3715', 'GO:0002376')\n",
      "Dropping ('pubchem.compound:3715', 'GO:0040011')\n",
      "Dropping ('pubchem.compound:3715', 'GO:0009790')\n",
      "Dropping ('pubchem.compound:37542', 'GO:0006913')\n",
      "Dropping ('pubchem.compound:37542', 'GO:0007017')\n",
      "Dropping ('pubchem.compound:37542', 'GO:0032880')\n",
      "Dropping ('pubchem.compound:37542', 'GO:0048856')\n",
      "Dropping ('pubchem.compound:37542', 'GO:0061024')\n",
      "Dropping ('pubchem.compound:37542', 'GO:0006629')\n",
      "Dropping ('pubchem.compound:37542', 'GO:0006805')\n",
      "Dropping ('pubchem.compound:37542', 'GO:0009820')\n",
      "Dropping ('pubchem.compound:37542', 'GO:0070989')\n",
      "Dropping ('pubchem.compound:3825', 'GO:0048646')\n",
      "Dropping ('pubchem.compound:3825', 'GO:0050877')\n",
      "Dropping ('pubchem.compound:3825', 'GO:0007017')\n",
      "Dropping ('pubchem.compound:3825', 'GO:0022618')\n",
      "Dropping ('pubchem.compound:39147', 'GO:0006259')\n",
      "Dropping ('pubchem.compound:39147', 'GO:0051276')\n",
      "Dropping ('pubchem.compound:3961', 'GO:0040011')\n",
      "Dropping ('pubchem.compound:3964', 'GO:0008219')\n",
      "Dropping ('pubchem.compound:3964', 'GO:0050877')\n",
      "Dropping ('pubchem.compound:3964', 'GO:0055085')\n",
      "Dropping ('pubchem.compound:3964', 'GO:0009308')\n",
      "Dropping ('pubchem.compound:4091', 'GO:0007017')\n",
      "Dropping ('pubchem.compound:4100', 'GO:0007155')\n",
      "Dropping ('pubchem.compound:4100', 'GO:0007165')\n",
      "Dropping ('pubchem.compound:4100', 'GO:0016192')\n",
      "Dropping ('pubchem.compound:4100', 'GO:0022607')\n",
      "Dropping ('pubchem.compound:4100', 'GO:0032880')\n",
      "Dropping ('pubchem.compound:4100', 'GO:0048856')\n",
      "Dropping ('pubchem.compound:4114', 'GO:0006805')\n",
      "Dropping ('pubchem.compound:4114', 'GO:0022607')\n",
      "Dropping ('pubchem.compound:4158', 'GO:0009308')\n",
      "Dropping ('pubchem.compound:4158', 'GO:0048856')\n",
      "Dropping ('pubchem.compound:4158', 'GO:0050877')\n",
      "Dropping ('pubchem.compound:4158', 'GO:0055085')\n",
      "Dropping ('pubchem.compound:4158', 'GO:0042592')\n",
      "Dropping ('pubchem.compound:4184', 'GO:0050877')\n",
      "Dropping ('pubchem.compound:4184', 'GO:0008219')\n",
      "Dropping ('pubchem.compound:4184', 'GO:0055085')\n",
      "Dropping ('pubchem.compound:4184', 'GO:0002376')\n",
      "Dropping ('pubchem.compound:4184', 'GO:0040011')\n",
      "Dropping ('pubchem.compound:4184', 'GO:0007017')\n",
      "Dropping ('pubchem.compound:4197', 'GO:0006629')\n",
      "Dropping ('pubchem.compound:4197', 'GO:0021700')\n",
      "Dropping ('pubchem.compound:4197', 'GO:0048856')\n",
      "Dropping ('pubchem.compound:4197', 'GO:0050790')\n",
      "Dropping ('pubchem.compound:4197', 'GO:0048646')\n",
      "Dropping ('pubchem.compound:4197', 'GO:0006259')\n",
      "Dropping ('pubchem.compound:4197', 'GO:0022607')\n",
      "Dropping ('pubchem.compound:4197', 'GO:0051276')\n",
      "Dropping ('pubchem.compound:4211', 'GO:0006259')\n",
      "Dropping ('pubchem.compound:4211', 'GO:0022607')\n",
      "Dropping ('pubchem.compound:4211', 'GO:0050790')\n",
      "Dropping ('pubchem.compound:4211', 'GO:0051276')\n",
      "Dropping ('pubchem.compound:4235', 'GO:0009308')\n",
      "Dropping ('pubchem.compound:44093', 'GO:0021700')\n",
      "Dropping ('pubchem.compound:44093', 'GO:0002376')\n",
      "Dropping ('pubchem.compound:44093', 'GO:0009790')\n",
      "Dropping ('pubchem.compound:44093', 'GO:0048646')\n",
      "Dropping ('pubchem.compound:44093', 'GO:0050877')\n",
      "Dropping ('pubchem.compound:441074', 'GO:0006629')\n",
      "Dropping ('pubchem.compound:441074', 'GO:0006805')\n",
      "Dropping ('pubchem.compound:441074', 'GO:0009820')\n",
      "Dropping ('pubchem.compound:441074', 'GO:0070989')\n",
      "Dropping ('pubchem.compound:441074', 'GO:0042592')\n",
      "Dropping ('pubchem.compound:441074', 'GO:0055085')\n",
      "Dropping ('pubchem.compound:441074', 'GO:0006259')\n",
      "Dropping ('pubchem.compound:44462760', 'GO:0002376')\n",
      "Dropping ('pubchem.compound:44462760', 'GO:0008219')\n",
      "Dropping ('pubchem.compound:44462760', 'GO:0022607')\n",
      "Dropping ('pubchem.compound:44462760', 'GO:0050877')\n",
      "Dropping ('pubchem.compound:44462760', 'GO:0009790')\n",
      "Dropping ('pubchem.compound:44462760', 'GO:0007017')\n",
      "Dropping ('pubchem.compound:44462760', 'GO:0050790')\n",
      "Dropping ('pubchem.compound:44462760', 'GO:0048646')\n",
      "Dropping ('pubchem.compound:44462760', 'GO:0055085')\n",
      "Dropping ('pubchem.compound:44462760', 'GO:0031638')\n",
      "Dropping ('pubchem.compound:445354', 'GO:0002376')\n",
      "Dropping ('pubchem.compound:445354', 'GO:0008219')\n",
      "Dropping ('pubchem.compound:445354', 'GO:0040011')\n",
      "Dropping ('pubchem.compound:445354', 'GO:0048646')\n",
      "Dropping ('pubchem.compound:445354', 'GO:0050877')\n",
      "Dropping ('pubchem.compound:445354', 'GO:0009308')\n",
      "Dropping ('pubchem.compound:445354', 'GO:0050790')\n",
      "Dropping ('pubchem.compound:445354', 'GO:0007017')\n",
      "Dropping ('pubchem.compound:445354', 'GO:0021700')\n",
      "Dropping ('pubchem.compound:445354', 'GO:0022607')\n",
      "Dropping ('pubchem.compound:445354', 'GO:0030705')\n",
      "Dropping ('pubchem.compound:445643', 'GO:0002376')\n",
      "Dropping ('pubchem.compound:445643', 'GO:0048646')\n",
      "Dropping ('pubchem.compound:445643', 'GO:0050790')\n",
      "Dropping ('pubchem.compound:445643', 'GO:0055085')\n",
      "Dropping ('pubchem.compound:445643', 'GO:0008219')\n",
      "Dropping ('pubchem.compound:445643', 'GO:0050877')\n",
      "Dropping ('pubchem.compound:445643', 'GO:0022618')\n",
      "Dropping ('pubchem.compound:445643', 'GO:0006805')\n",
      "Dropping ('pubchem.compound:445643', 'GO:0009820')\n",
      "Dropping ('pubchem.compound:445643', 'GO:0070989')\n",
      "Dropping ('pubchem.compound:4477', 'GO:0008219')\n",
      "Dropping ('pubchem.compound:4477', 'GO:0022607')\n",
      "Dropping ('pubchem.compound:4477', 'GO:0048646')\n",
      "Dropping ('pubchem.compound:4477', 'GO:0002376')\n",
      "Dropping ('pubchem.compound:4477', 'GO:0040011')\n",
      "Dropping ('pubchem.compound:4477', 'GO:0050877')\n",
      "Dropping ('pubchem.compound:4477', 'GO:0007017')\n",
      "Dropping ('pubchem.compound:4477', 'GO:0030705')\n",
      "Dropping ('pubchem.compound:4477', 'GO:0050790')\n",
      "Dropping ('pubchem.compound:4477', 'GO:0009790')\n",
      "Dropping ('pubchem.compound:4477', 'GO:0006805')\n",
      "Dropping ('pubchem.compound:4477', 'GO:0022618')\n",
      "Dropping ('pubchem.compound:4477', 'GO:0070989')\n",
      "Dropping ('pubchem.compound:4485', 'GO:0002376')\n",
      "Dropping ('pubchem.compound:4485', 'GO:0007017')\n",
      "Dropping ('pubchem.compound:4485', 'GO:0007165')\n",
      "Dropping ('pubchem.compound:4485', 'GO:0008219')\n",
      "Dropping ('pubchem.compound:4485', 'GO:0008283')\n",
      "Dropping ('pubchem.compound:4485', 'GO:0021700')\n",
      "Dropping ('pubchem.compound:4485', 'GO:0030154')\n",
      "Dropping ('pubchem.compound:4485', 'GO:0030705')\n",
      "Dropping ('pubchem.compound:4485', 'GO:0032880')\n",
      "Dropping ('pubchem.compound:4485', 'GO:0042592')\n",
      "Dropping ('pubchem.compound:4485', 'GO:0043085')\n",
      "Dropping ('pubchem.compound:4485', 'GO:0048646')\n",
      "Dropping ('pubchem.compound:4485', 'GO:0048856')\n",
      "Dropping ('pubchem.compound:4485', 'GO:0050790')\n",
      "Dropping ('pubchem.compound:4485', 'GO:0050877')\n",
      "Dropping ('pubchem.compound:4485', 'GO:0007267')\n",
      "Dropping ('pubchem.compound:4485', 'GO:0055085')\n",
      "Dropping ('pubchem.compound:448537', 'GO:0002376')\n",
      "Dropping ('pubchem.compound:448537', 'GO:0008219')\n",
      "Dropping ('pubchem.compound:448537', 'GO:0040011')\n",
      "Dropping ('pubchem.compound:448537', 'GO:0050877')\n",
      "Dropping ('pubchem.compound:448537', 'GO:0006805')\n",
      "Dropping ('pubchem.compound:456201', 'GO:0006629')\n",
      "Dropping ('pubchem.compound:456201', 'GO:0006805')\n",
      "Dropping ('pubchem.compound:456201', 'GO:0009820')\n",
      "Dropping ('pubchem.compound:456201', 'GO:0070989')\n",
      "Dropping ('pubchem.compound:456201', 'GO:0048646')\n",
      "Dropping ('pubchem.compound:456201', 'GO:0048856')\n",
      "Dropping ('pubchem.compound:456201', 'GO:0007165')\n",
      "Dropping ('pubchem.compound:4748', 'GO:0006805')\n",
      "Dropping ('pubchem.compound:4748', 'GO:0009820')\n",
      "Dropping ('pubchem.compound:4748', 'GO:0070989')\n",
      "Dropping ('pubchem.compound:4748', 'GO:0022618')\n",
      "Dropping ('pubchem.compound:4748', 'GO:0009308')\n",
      "Dropping ('pubchem.compound:4748', 'GO:0022607')\n",
      "Dropping ('pubchem.compound:4748', 'GO:0050790')\n",
      "Dropping ('pubchem.compound:4748', 'GO:0050877')\n",
      "Dropping ('pubchem.compound:4748', 'GO:0055085')\n",
      "Dropping ('pubchem.compound:4748', 'GO:0006520')\n",
      "Dropping ('pubchem.compound:4828', 'GO:0002376')\n",
      "Dropping ('pubchem.compound:4828', 'GO:0008219')\n",
      "Dropping ('pubchem.compound:4828', 'GO:0040011')\n",
      "Dropping ('pubchem.compound:4828', 'GO:0048646')\n",
      "Dropping ('pubchem.compound:4828', 'GO:0050877')\n",
      "Dropping ('pubchem.compound:4828', 'GO:0007017')\n",
      "Dropping ('pubchem.compound:4828', 'GO:0006805')\n",
      "Dropping ('pubchem.compound:4828', 'GO:0009820')\n",
      "Dropping ('pubchem.compound:4828', 'GO:0070989')\n",
      "Dropping ('pubchem.compound:4912', 'GO:0030198')\n",
      "Dropping ('pubchem.compound:4912', 'GO:0050877')\n",
      "Dropping ('pubchem.compound:4912', 'GO:0055085')\n",
      "Dropping ('pubchem.compound:4932', 'GO:0006805')\n",
      "Dropping ('pubchem.compound:4932', 'GO:0008283')\n",
      "Dropping ('pubchem.compound:4932', 'GO:0055085')\n",
      "Dropping ('pubchem.compound:4932', 'GO:0061024')\n",
      "Dropping ('pubchem.compound:4993', 'GO:0006520')\n",
      "Dropping ('pubchem.compound:4993', 'GO:0043085')\n",
      "Dropping ('pubchem.compound:4993', 'GO:0048856')\n",
      "Dropping ('pubchem.compound:5073', 'GO:0008219')\n",
      "Dropping ('pubchem.compound:5073', 'GO:0050877')\n",
      "Dropping ('pubchem.compound:5073', 'GO:0055085')\n",
      "Dropping ('pubchem.compound:5073', 'GO:0009308')\n",
      "Dropping ('pubchem.compound:5073', 'GO:0022607')\n",
      "Dropping ('pubchem.compound:5073', 'GO:0050790')\n",
      "Dropping ('pubchem.compound:5073', 'GO:0002376')\n",
      "Dropping ('pubchem.compound:5073', 'GO:0040011')\n",
      "Dropping ('pubchem.compound:5073', 'GO:0048646')\n",
      "Dropping ('pubchem.compound:5280360', 'GO:0002376')\n",
      "Dropping ('pubchem.compound:5280360', 'GO:0040011')\n",
      "Dropping ('pubchem.compound:5280360', 'GO:0048646')\n",
      "Dropping ('pubchem.compound:5280360', 'GO:0050877')\n",
      "Dropping ('pubchem.compound:5280453', 'GO:0008219')\n",
      "Dropping ('pubchem.compound:5280453', 'GO:0050790')\n",
      "Dropping ('pubchem.compound:5280453', 'GO:0055085')\n",
      "Dropping ('pubchem.compound:5281004', 'GO:0002376')\n",
      "Dropping ('pubchem.compound:5281004', 'GO:0008219')\n",
      "Dropping ('pubchem.compound:5281004', 'GO:0050790')\n",
      "Dropping ('pubchem.compound:5281004', 'GO:0021700')\n",
      "Dropping ('pubchem.compound:5282230', 'GO:0002376')\n",
      "Dropping ('pubchem.compound:5282230', 'GO:0008219')\n",
      "Dropping ('pubchem.compound:5282230', 'GO:0040011')\n",
      "Dropping ('pubchem.compound:5282230', 'GO:0048646')\n",
      "Dropping ('pubchem.compound:5282230', 'GO:0050877')\n",
      "Dropping ('pubchem.compound:5282230', 'GO:0022618')\n",
      "Dropping ('pubchem.compound:5282230', 'GO:0022607')\n",
      "Dropping ('pubchem.compound:5282230', 'GO:0055085')\n",
      "Dropping ('pubchem.compound:5282379', 'GO:0050877')\n",
      "Dropping ('pubchem.compound:5284616', 'GO:0008219')\n",
      "Dropping ('pubchem.compound:5284616', 'GO:0050790')\n",
      "Dropping ('pubchem.compound:5284616', 'GO:0050877')\n",
      "Dropping ('pubchem.compound:5284616', 'GO:0002376')\n",
      "Dropping ('pubchem.compound:5284616', 'GO:0055085')\n",
      "Dropping ('pubchem.compound:5284616', 'GO:0006805')\n",
      "Dropping ('pubchem.compound:5284616', 'GO:0048646')\n",
      "Dropping ('pubchem.compound:5311181', 'GO:0002376')\n",
      "Dropping ('pubchem.compound:5330286', 'GO:0002376')\n",
      "Dropping ('pubchem.compound:5330286', 'GO:0050790')\n",
      "Dropping ('pubchem.compound:5330286', 'GO:0007017')\n",
      "Dropping ('pubchem.compound:5330286', 'GO:0022607')\n",
      "Dropping ('pubchem.compound:5330286', 'GO:0050877')\n",
      "Dropping ('pubchem.compound:5330286', 'GO:0008219')\n",
      "Dropping ('pubchem.compound:5344', 'GO:0006805')\n",
      "Dropping ('pubchem.compound:54454', 'GO:0050790')\n",
      "Dropping ('pubchem.compound:54454', 'GO:0050877')\n",
      "Dropping ('pubchem.compound:54687', 'GO:0008219')\n",
      "Dropping ('pubchem.compound:54687', 'GO:0022607')\n",
      "Dropping ('pubchem.compound:54687', 'GO:0048646')\n",
      "Dropping ('pubchem.compound:54687', 'GO:0007017')\n",
      "Dropping ('pubchem.compound:54687', 'GO:0030705')\n",
      "Dropping ('pubchem.compound:54687', 'GO:0050790')\n",
      "Dropping ('pubchem.compound:54687', 'GO:0050877')\n",
      "Dropping ('pubchem.compound:54687', 'GO:0022618')\n",
      "Dropping ('pubchem.compound:5472', 'GO:0006805')\n",
      "Dropping ('pubchem.compound:5472', 'GO:0009820')\n",
      "Dropping ('pubchem.compound:5472', 'GO:0070989')\n",
      "Dropping ('pubchem.compound:55245', 'GO:0009790')\n",
      "Dropping ('pubchem.compound:55245', 'GO:0048646')\n",
      "Dropping ('pubchem.compound:55245', 'GO:0008219')\n",
      "Dropping ('pubchem.compound:55245', 'GO:0021700')\n",
      "Dropping ('pubchem.compound:5531', 'GO:0006913')\n",
      "Dropping ('pubchem.compound:5531', 'GO:0007010')\n",
      "Dropping ('pubchem.compound:5531', 'GO:0007017')\n",
      "Dropping ('pubchem.compound:5531', 'GO:0032880')\n",
      "Dropping ('pubchem.compound:5531', 'GO:0048856')\n",
      "Dropping ('pubchem.compound:5531', 'GO:0061024')\n",
      "Dropping ('pubchem.compound:5564', 'GO:0006805')\n",
      "Dropping ('pubchem.compound:5564', 'GO:0002376')\n",
      "Dropping ('pubchem.compound:5564', 'GO:0007017')\n",
      "Dropping ('pubchem.compound:5564', 'GO:0022607')\n",
      "Dropping ('pubchem.compound:5564', 'GO:0030705')\n",
      "Dropping ('pubchem.compound:5564', 'GO:0050790')\n",
      "Dropping ('pubchem.compound:5564', 'GO:0050877')\n",
      "Dropping ('pubchem.compound:564', 'GO:0008219')\n",
      "Dropping ('pubchem.compound:564', 'GO:0050877')\n",
      "Dropping ('pubchem.compound:5743', 'GO:0008219')\n",
      "Dropping ('pubchem.compound:5743', 'GO:0021700')\n",
      "Dropping ('pubchem.compound:5770', 'GO:0007267')\n",
      "Dropping ('pubchem.compound:5770', 'GO:0055085')\n",
      "Dropping ('pubchem.compound:5775', 'GO:0007165')\n",
      "Dropping ('pubchem.compound:5775', 'GO:0043085')\n",
      "Dropping ('pubchem.compound:5775', 'GO:0048646')\n",
      "Dropping ('pubchem.compound:5775', 'GO:0007275')\n",
      "Dropping ('pubchem.compound:5775', 'GO:0008219')\n",
      "Dropping ('pubchem.compound:5775', 'GO:0048856')\n",
      "Dropping ('pubchem.compound:5775', 'GO:0055085')\n",
      "Dropping ('pubchem.compound:5775', 'GO:0006259')\n",
      "Dropping ('pubchem.compound:5775', 'GO:0007010')\n",
      "Dropping ('pubchem.compound:5775', 'GO:0032880')\n",
      "Dropping ('pubchem.compound:5775', 'GO:0042592')\n",
      "Dropping ('pubchem.compound:5775', 'GO:0050877')\n",
      "Dropping ('pubchem.compound:5775', 'GO:0006629')\n",
      "Dropping ('pubchem.compound:5775', 'GO:0006805')\n",
      "Dropping ('pubchem.compound:5775', 'GO:0009820')\n",
      "Dropping ('pubchem.compound:5775', 'GO:0070989')\n",
      "Dropping ('pubchem.compound:5790', 'GO:0007017')\n",
      "Dropping ('pubchem.compound:5790', 'GO:0022618')\n",
      "Dropping ('pubchem.compound:5833', 'GO:0008219')\n",
      "Dropping ('pubchem.compound:5833', 'GO:0009790')\n",
      "Dropping ('pubchem.compound:5833', 'GO:0048646')\n",
      "Dropping ('pubchem.compound:5833', 'GO:0021700')\n",
      "Dropping ('pubchem.compound:6013', 'GO:0048646')\n",
      "Dropping ('pubchem.compound:6013', 'GO:0009790')\n",
      "Dropping ('pubchem.compound:6013', 'GO:0002376')\n",
      "Dropping ('pubchem.compound:6013', 'GO:0055085')\n",
      "Dropping ('pubchem.compound:60149', 'GO:0042592')\n",
      "Dropping ('pubchem.compound:60149', 'GO:0055085')\n",
      "Dropping ('pubchem.compound:60149', 'GO:0007165')\n",
      "Dropping ('pubchem.compound:60149', 'GO:0007267')\n",
      "Dropping ('pubchem.compound:60149', 'GO:0008283')\n",
      "Dropping ('pubchem.compound:60149', 'GO:0009308')\n",
      "Dropping ('pubchem.compound:60149', 'GO:0016192')\n",
      "Dropping ('pubchem.compound:60149', 'GO:0022607')\n",
      "Dropping ('pubchem.compound:60149', 'GO:0032880')\n",
      "Dropping ('pubchem.compound:60149', 'GO:0043085')\n",
      "Dropping ('pubchem.compound:60149', 'GO:0048856')\n",
      "Dropping ('pubchem.compound:60149', 'GO:0050790')\n",
      "Dropping ('pubchem.compound:60149', 'GO:0050877')\n",
      "Dropping ('pubchem.compound:60149', 'GO:0002376')\n",
      "Dropping ('pubchem.compound:60149', 'GO:0040011')\n",
      "Dropping ('pubchem.compound:6167', 'GO:0002376')\n",
      "Dropping ('pubchem.compound:6167', 'GO:0007017')\n",
      "Dropping ('pubchem.compound:6167', 'GO:0022607')\n",
      "Dropping ('pubchem.compound:6167', 'GO:0048646')\n",
      "Dropping ('pubchem.compound:6167', 'GO:0008219')\n",
      "Dropping ('pubchem.compound:6167', 'GO:0030705')\n",
      "Dropping ('pubchem.compound:6167', 'GO:0050877')\n",
      "Dropping ('pubchem.compound:6167', 'GO:0021700')\n",
      "Dropping ('pubchem.compound:6167', 'GO:0006805')\n",
      "Dropping ('pubchem.compound:6167', 'GO:0009820')\n",
      "Dropping ('pubchem.compound:6167', 'GO:0070989')\n",
      "Dropping ('pubchem.compound:6215', 'GO:0002376')\n",
      "Dropping ('pubchem.compound:6215', 'GO:0007017')\n",
      "Dropping ('pubchem.compound:6215', 'GO:0008219')\n",
      "Dropping ('pubchem.compound:6215', 'GO:0021700')\n",
      "Dropping ('pubchem.compound:6215', 'GO:0030705')\n",
      "Dropping ('pubchem.compound:6215', 'GO:0048646')\n",
      "Dropping ('pubchem.compound:6215', 'GO:0050790')\n",
      "Dropping ('pubchem.compound:6215', 'GO:0050877')\n",
      "Dropping ('pubchem.compound:6230', 'GO:0021700')\n",
      "Dropping ('pubchem.compound:667550', 'GO:0002376')\n",
      "Dropping ('pubchem.compound:667550', 'GO:0040011')\n",
      "Dropping ('pubchem.compound:6741', 'GO:0002376')\n",
      "Dropping ('pubchem.compound:6741', 'GO:0007017')\n",
      "Dropping ('pubchem.compound:6741', 'GO:0008219')\n",
      "Dropping ('pubchem.compound:6741', 'GO:0021700')\n",
      "Dropping ('pubchem.compound:6741', 'GO:0030705')\n",
      "Dropping ('pubchem.compound:6741', 'GO:0048646')\n",
      "Dropping ('pubchem.compound:6741', 'GO:0050790')\n",
      "Dropping ('pubchem.compound:6741', 'GO:0050877')\n",
      "Dropping ('pubchem.compound:68844', 'GO:0007165')\n",
      "Dropping ('pubchem.compound:68844', 'GO:0042592')\n",
      "Dropping ('pubchem.compound:6918638', 'GO:0048646')\n",
      "Dropping ('pubchem.compound:6918638', 'GO:0050790')\n",
      "Dropping ('pubchem.compound:6918638', 'GO:0007009')\n",
      "Dropping ('pubchem.compound:6918638', 'GO:0007017')\n",
      "Dropping ('pubchem.compound:6918638', 'GO:0009790')\n",
      "Dropping ('pubchem.compound:6918638', 'GO:0022607')\n",
      "Dropping ('pubchem.compound:6918638', 'GO:0009308')\n",
      "Dropping ('pubchem.compound:6918638', 'GO:0030705')\n",
      "Dropping ('pubchem.compound:6918638', 'GO:0002376')\n",
      "Dropping ('pubchem.compound:8378', 'GO:0002376')\n",
      "Dropping ('pubchem.compound:8378', 'GO:0006629')\n",
      "Dropping ('pubchem.compound:8378', 'GO:0042592')\n",
      "Dropping ('pubchem.compound:8378', 'GO:0043065')\n",
      "Dropping ('pubchem.compound:8378', 'GO:0050877')\n",
      "Dropping ('pubchem.compound:8378', 'GO:0055085')\n",
      "Dropping ('pubchem.compound:9444', 'GO:0022607')\n",
      "Dropping ('pubchem.compound:9444', 'GO:0050790')\n",
      "Dropping ('pubchem.compound:9444', 'GO:0008219')\n",
      "Dropping ('pubchem.compound:9444', 'GO:0050877')\n",
      "Dropping ('pubchem.compound:60854', 'GO:0005975')\n",
      "Dropping ('pubchem.compound:60854', 'GO:0008219')\n",
      "Dropping ('pubchem.compound:60854', 'GO:0042592')\n",
      "Dropping ('pubchem.compound:60854', 'GO:0043085')\n",
      "Dropping ('pubchem.compound:60854', 'GO:0050877')\n",
      "Dropping ('pubchem.compound:60854', 'GO:0055085')\n",
      "Dropping ('pubchem.compound:60854', 'GO:0008283')\n",
      "Dropping ('pubchem.compound:60854', 'GO:0009308')\n",
      "Dropping ('pubchem.compound:60854', 'GO:0016192')\n",
      "Dropping ('pubchem.compound:60854', 'GO:0022607')\n",
      "Dropping ('pubchem.compound:60854', 'GO:0032880')\n",
      "Dropping ('pubchem.compound:60854', 'GO:0048856')\n",
      "Dropping ('pubchem.compound:60854', 'GO:0050790')\n",
      "Dropping ('pubchem.compound:60854', 'GO:0007275')\n",
      "Dropping ('pubchem.compound:60854', 'GO:0030154')\n",
      "Dropping ('pubchem.compound:60854', 'GO:0006913')\n",
      "Dropping ('pubchem.compound:60854', 'GO:0002376')\n",
      "Dropping ('pubchem.compound:60854', 'GO:0040011')\n",
      "Dropping ('pubchem.compound:60854', 'GO:0051276')\n",
      "Dropping ('pubchem.compound:2082', 'GO:0002376')\n",
      "Dropping ('pubchem.compound:2082', 'GO:0007049')\n",
      "Dropping ('pubchem.compound:2082', 'GO:0007165')\n",
      "Dropping ('pubchem.compound:2082', 'GO:0007267')\n",
      "Dropping ('pubchem.compound:2082', 'GO:0008219')\n",
      "Dropping ('pubchem.compound:2082', 'GO:0008283')\n",
      "Dropping ('pubchem.compound:2082', 'GO:0016192')\n",
      "Dropping ('pubchem.compound:2082', 'GO:0030154')\n",
      "Dropping ('pubchem.compound:2082', 'GO:0040011')\n",
      "Dropping ('pubchem.compound:2082', 'GO:0042592')\n",
      "Dropping ('pubchem.compound:2082', 'GO:0043085')\n",
      "Dropping ('pubchem.compound:2082', 'GO:0048646')\n",
      "Dropping ('pubchem.compound:2082', 'GO:0048856')\n",
      "Dropping ('pubchem.compound:2082', 'GO:0050877')\n",
      "Dropping ('pubchem.compound:2082', 'GO:0006913')\n",
      "Dropping ('pubchem.compound:2082', 'GO:0007010')\n",
      "Dropping ('pubchem.compound:2082', 'GO:0007017')\n",
      "Dropping ('pubchem.compound:2082', 'GO:0032880')\n",
      "Dropping ('pubchem.compound:2082', 'GO:0061024')\n",
      "Dropping ('pubchem.compound:5593', 'GO:0006259')\n",
      "Dropping ('pubchem.compound:5593', 'GO:0022607')\n",
      "Dropping ('pubchem.compound:5593', 'GO:0050790')\n",
      "Dropping ('pubchem.compound:5593', 'GO:0051276')\n",
      "Dropping ('pubchem.compound:3341', 'GO:0006913')\n",
      "Dropping ('pubchem.compound:3341', 'GO:0007165')\n",
      "Dropping ('pubchem.compound:3341', 'GO:0009308')\n",
      "Dropping ('pubchem.compound:3341', 'GO:0022607')\n",
      "Dropping ('pubchem.compound:3341', 'GO:0042592')\n",
      "Dropping ('pubchem.compound:3341', 'GO:0043085')\n",
      "Dropping ('pubchem.compound:3341', 'GO:0048856')\n",
      "Dropping ('pubchem.compound:3341', 'GO:0050877')\n",
      "Dropping ('pubchem.compound:3341', 'GO:0055085')\n",
      "Dropping ('pubchem.compound:2724385', 'GO:0006629')\n",
      "Dropping ('pubchem.compound:2724385', 'GO:0006914')\n",
      "Dropping ('pubchem.compound:2724385', 'GO:0016192')\n",
      "Dropping ('pubchem.compound:2724385', 'GO:0042592')\n",
      "Dropping ('pubchem.compound:2724385', 'GO:0061024')\n",
      "Dropping ('pubchem.compound:2724385', 'GO:0006913')\n",
      "Dropping ('pubchem.compound:2724385', 'GO:0007010')\n",
      "Dropping ('pubchem.compound:2724385', 'GO:0007017')\n",
      "Dropping ('pubchem.compound:2724385', 'GO:0032880')\n",
      "Dropping ('pubchem.compound:2724385', 'GO:0048856')\n",
      "Dropping ('pubchem.compound:2724385', 'GO:0002376')\n",
      "Dropping ('pubchem.compound:2724385', 'GO:0005975')\n",
      "Dropping ('pubchem.compound:2724385', 'GO:0006259')\n",
      "Dropping ('pubchem.compound:2724385', 'GO:0007005')\n",
      "Dropping ('pubchem.compound:2724385', 'GO:0007049')\n",
      "Dropping ('pubchem.compound:2724385', 'GO:0007165')\n",
      "Dropping ('pubchem.compound:2724385', 'GO:0008219')\n",
      "Dropping ('pubchem.compound:2724385', 'GO:0008283')\n",
      "Dropping ('pubchem.compound:2724385', 'GO:0009790')\n",
      "Dropping ('pubchem.compound:2724385', 'GO:0030154')\n",
      "Dropping ('pubchem.compound:2724385', 'GO:0043065')\n",
      "Dropping ('pubchem.compound:2724385', 'GO:0048646')\n",
      "Dropping ('pubchem.compound:2724385', 'GO:0050790')\n",
      "Dropping ('pubchem.compound:2724385', 'GO:0050821')\n",
      "Dropping ('pubchem.compound:2724385', 'GO:0051276')\n",
      "Dropping ('pubchem.compound:2724385', 'GO:0006805')\n",
      "Dropping ('pubchem.compound:2724385', 'GO:0055085')\n",
      "Dropping ('pubchem.compound:2724385', 'GO:0007155')\n",
      "Dropping ('pubchem.compound:2724385', 'GO:0040011')\n",
      "Dropping ('pubchem.compound:2724385', 'GO:0050877')\n",
      "Dropping ('pubchem.compound:3059', 'GO:0007165')\n",
      "Dropping ('pubchem.compound:2993', 'GO:0007017')\n",
      "Dropping ('pubchem.compound:4474', 'GO:0006629')\n",
      "Dropping ('pubchem.compound:4474', 'GO:0006805')\n",
      "Dropping ('pubchem.compound:4474', 'GO:0070989')\n",
      "Dropping ('pubchem.compound:4474', 'GO:0002376')\n",
      "Dropping ('pubchem.compound:4474', 'GO:0043085')\n",
      "Dropping ('pubchem.compound:4474', 'GO:0048856')\n",
      "Dropping ('pubchem.compound:4474', 'GO:0055085')\n",
      "Dropping ('pubchem.compound:4474', 'GO:0009820')\n",
      "Dropping ('pubchem.compound:9829523', 'GO:0050790')\n",
      "Dropping ('pubchem.compound:9829523', 'GO:0008219')\n",
      "Dropping ('pubchem.compound:9829523', 'GO:0002376')\n",
      "Dropping ('pubchem.compound:9829523', 'GO:0022607')\n",
      "Dropping ('pubchem.compound:9829523', 'GO:0040011')\n",
      "Dropping ('pubchem.compound:9829523', 'GO:0050877')\n",
      "Dropping ('pubchem.compound:9829523', 'GO:0048646')\n",
      "Dropping ('pubchem.compound:9829523', 'GO:0022618')\n",
      "Dropping ('pubchem.compound:9829523', 'GO:0007017')\n",
      "Dropping ('pubchem.compound:9829523', 'GO:0021700')\n",
      "Dropping ('pubchem.compound:9829523', 'GO:0007009')\n",
      "Dropping ('pubchem.compound:9829523', 'GO:0055085')\n",
      "Dropping ('pubchem.compound:9829523', 'GO:0009790')\n",
      "Dropping ('pubchem.compound:9829523', 'GO:0007585')\n",
      "Dropping ('pubchem.compound:2145', 'GO:0006629')\n",
      "Dropping ('pubchem.compound:2145', 'GO:0048646')\n",
      "Dropping ('pubchem.compound:2145', 'GO:0048856')\n",
      "Dropping ('pubchem.compound:2733526', 'GO:0006805')\n",
      "Dropping ('pubchem.compound:2733526', 'GO:0009820')\n",
      "Dropping ('pubchem.compound:2733526', 'GO:0070989')\n",
      "Dropping ('pubchem.compound:2733526', 'GO:0021700')\n",
      "Dropping ('pubchem.compound:2733526', 'GO:0008219')\n",
      "Dropping ('pubchem.compound:2733526', 'GO:0022607')\n",
      "Dropping ('pubchem.compound:2733526', 'GO:0048646')\n",
      "Dropping ('pubchem.compound:2733526', 'GO:0050877')\n",
      "Dropping ('pubchem.compound:2733526', 'GO:0002376')\n",
      "Dropping ('pubchem.compound:2733526', 'GO:0040011')\n",
      "Dropping ('pubchem.compound:2733526', 'GO:0050790')\n",
      "Dropping ('pubchem.compound:2733526', 'GO:0007017')\n",
      "Dropping ('pubchem.compound:2733526', 'GO:0030705')\n",
      "Dropping ('pubchem.compound:3168', 'GO:0042592')\n",
      "Dropping ('pubchem.compound:3168', 'GO:0055085')\n",
      "Dropping ('pubchem.compound:2118', 'GO:0006913')\n",
      "Dropping ('pubchem.compound:2118', 'GO:0007010')\n",
      "Dropping ('pubchem.compound:2118', 'GO:0007017')\n",
      "Dropping ('pubchem.compound:2118', 'GO:0032880')\n",
      "Dropping ('pubchem.compound:2118', 'GO:0048856')\n",
      "Dropping ('pubchem.compound:2118', 'GO:0061024')\n",
      "Dropping ('pubchem.compound:57363', 'GO:0006629')\n",
      "Dropping ('pubchem.compound:57363', 'GO:0007267')\n",
      "Dropping ('pubchem.compound:57363', 'GO:0030154')\n",
      "Dropping ('pubchem.compound:57363', 'GO:0048856')\n",
      "Dropping ('pubchem.compound:57363', 'GO:0006259')\n",
      "Dropping ('pubchem.compound:57363', 'GO:0007165')\n",
      "Dropping ('pubchem.compound:57363', 'GO:0022607')\n",
      "Dropping ('pubchem.compound:57363', 'GO:0050790')\n",
      "Dropping ('pubchem.compound:57363', 'GO:0051276')\n",
      "Dropping ('pubchem.compound:5717', 'GO:0006629')\n",
      "Dropping ('pubchem.compound:5717', 'GO:0006805')\n",
      "Dropping ('pubchem.compound:5717', 'GO:0007165')\n",
      "Dropping ('pubchem.compound:5717', 'GO:0030154')\n",
      "Dropping ('pubchem.compound:5717', 'GO:0002376')\n",
      "Dropping ('pubchem.compound:5717', 'GO:0007585')\n",
      "Dropping ('pubchem.compound:5717', 'GO:0040011')\n",
      "Dropping ('pubchem.compound:941361', 'GO:0006913')\n",
      "Dropping ('pubchem.compound:941361', 'GO:0007010')\n",
      "Dropping ('pubchem.compound:941361', 'GO:0007017')\n",
      "Dropping ('pubchem.compound:941361', 'GO:0032880')\n",
      "Dropping ('pubchem.compound:941361', 'GO:0048856')\n",
      "Dropping ('pubchem.compound:941361', 'GO:0061024')\n",
      "Dropping ('pubchem.compound:941361', 'GO:0006629')\n",
      "Dropping ('pubchem.compound:941361', 'GO:0006805')\n",
      "Dropping ('pubchem.compound:4044', 'GO:0006259')\n",
      "Dropping ('pubchem.compound:4044', 'GO:0006629')\n",
      "Dropping ('pubchem.compound:4044', 'GO:0007165')\n",
      "Dropping ('pubchem.compound:4044', 'GO:0030154')\n",
      "Dropping ('pubchem.compound:4044', 'GO:0043065')\n",
      "Dropping ('pubchem.compound:4044', 'GO:0048856')\n",
      "Dropping ('pubchem.compound:4044', 'GO:0006805')\n",
      "Dropping ('pubchem.compound:4044', 'GO:0042592')\n",
      "Dropping ('pubchem.compound:4044', 'GO:0002376')\n",
      "Dropping ('pubchem.compound:26987', 'GO:0006629')\n",
      "Dropping ('pubchem.compound:26987', 'GO:0006805')\n",
      "Dropping ('pubchem.compound:26987', 'GO:0009820')\n",
      "Dropping ('pubchem.compound:26987', 'GO:0070989')\n",
      "Dropping ('pubchem.compound:26987', 'GO:0007165')\n",
      "Dropping ('pubchem.compound:26987', 'GO:0007267')\n",
      "Dropping ('pubchem.compound:26987', 'GO:0043085')\n",
      "Dropping ('pubchem.compound:26987', 'GO:0032880')\n",
      "Dropping ('pubchem.compound:26987', 'GO:0048856')\n",
      "Dropping ('pubchem.compound:26987', 'GO:0050877')\n",
      "Dropping ('pubchem.compound:26987', 'GO:0042592')\n",
      "Dropping ('pubchem.compound:26987', 'GO:0008219')\n",
      "Dropping ('pubchem.compound:26987', 'GO:0006259')\n",
      "Dropping ('pubchem.compound:26987', 'GO:0007010')\n",
      "Dropping ('pubchem.compound:26987', 'GO:0048646')\n",
      "Dropping ('pubchem.compound:26987', 'GO:0055085')\n",
      "Dropping ('pubchem.compound:3033', 'GO:0006629')\n",
      "Dropping ('pubchem.compound:3033', 'GO:0010951')\n",
      "Dropping ('pubchem.compound:3033', 'GO:0030154')\n",
      "Dropping ('pubchem.compound:3033', 'GO:0032880')\n",
      "Dropping ('pubchem.compound:3033', 'GO:0042592')\n",
      "Dropping ('pubchem.compound:3033', 'GO:0043065')\n",
      "Dropping ('pubchem.compound:3033', 'GO:0048646')\n",
      "Dropping ('pubchem.compound:3033', 'GO:0048856')\n",
      "Dropping ('pubchem.compound:3033', 'GO:0050877')\n",
      "Dropping ('pubchem.compound:3033', 'GO:0002376')\n",
      "Dropping ('pubchem.compound:3033', 'GO:0007165')\n",
      "Dropping ('pubchem.compound:3033', 'GO:0016192')\n",
      "Dropping ('pubchem.compound:3033', 'GO:0040011')\n",
      "Dropping ('pubchem.compound:68617', 'GO:0048856')\n",
      "Dropping ('pubchem.compound:68617', 'GO:0050877')\n",
      "Dropping ('pubchem.compound:68617', 'GO:0055085')\n",
      "Dropping ('pubchem.compound:68617', 'GO:0009308')\n",
      "Dropping ('pubchem.compound:68617', 'GO:0007267')\n",
      "Dropping ('pubchem.compound:68617', 'GO:0042592')\n",
      "Dropping ('pubchem.compound:3151', 'GO:0007165')\n",
      "Dropping ('pubchem.compound:3151', 'GO:0007267')\n",
      "Dropping ('pubchem.compound:3151', 'GO:0009308')\n",
      "Dropping ('pubchem.compound:3151', 'GO:0016192')\n",
      "Dropping ('pubchem.compound:3151', 'GO:0032880')\n",
      "Dropping ('pubchem.compound:3151', 'GO:0042592')\n",
      "Dropping ('pubchem.compound:3151', 'GO:0050790')\n",
      "Dropping ('pubchem.compound:3151', 'GO:0050877')\n",
      "Dropping ('pubchem.compound:3151', 'GO:0055085')\n",
      "Dropping ('pubchem.compound:3151', 'GO:0002376')\n",
      "Dropping ('pubchem.compound:3151', 'GO:0008219')\n",
      "Dropping ('pubchem.compound:3151', 'GO:0008283')\n",
      "Dropping ('pubchem.compound:3151', 'GO:0022607')\n",
      "Dropping ('pubchem.compound:3151', 'GO:0043085')\n",
      "Dropping ('pubchem.compound:3151', 'GO:0048856')\n",
      "Dropping ('pubchem.compound:6253', 'GO:0006913')\n",
      "Dropping ('pubchem.compound:6253', 'GO:0007010')\n",
      "Dropping ('pubchem.compound:6253', 'GO:0007017')\n",
      "Dropping ('pubchem.compound:6253', 'GO:0032880')\n",
      "Dropping ('pubchem.compound:6253', 'GO:0048856')\n",
      "Dropping ('pubchem.compound:6253', 'GO:0061024')\n",
      "Dropping ('pubchem.compound:6253', 'GO:0006914')\n",
      "Dropping ('pubchem.compound:6253', 'GO:0007165')\n",
      "Dropping ('pubchem.compound:6253', 'GO:0008219')\n",
      "Dropping ('pubchem.compound:6253', 'GO:0030154')\n",
      "Dropping ('pubchem.compound:6253', 'GO:0043085')\n",
      "Dropping ('pubchem.compound:6253', 'GO:0050790')\n",
      "Dropping ('pubchem.compound:6253', 'GO:0050877')\n",
      "Dropping ('pubchem.compound:6253', 'GO:0006508')\n",
      "Dropping ('pubchem.compound:5311412', 'GO:0006805')\n",
      "Dropping ('pubchem.compound:60198', 'GO:0006629')\n",
      "Dropping ('pubchem.compound:60198', 'GO:0048646')\n",
      "Dropping ('pubchem.compound:60198', 'GO:0048856')\n",
      "Dropping ('pubchem.compound:4078', 'GO:0042592')\n",
      "Dropping ('pubchem.compound:4078', 'GO:0055085')\n",
      "Dropping ('pubchem.compound:3658', 'GO:0002376')\n",
      "Dropping ('pubchem.compound:3658', 'GO:0007165')\n",
      "Dropping ('pubchem.compound:3658', 'GO:0007267')\n",
      "Dropping ('pubchem.compound:3658', 'GO:0040011')\n",
      "Dropping ('pubchem.compound:3658', 'GO:0050877')\n",
      "Dropping ('pubchem.compound:3658', 'GO:0005975')\n",
      "Dropping ('pubchem.compound:3658', 'GO:0008219')\n",
      "Dropping ('pubchem.compound:3658', 'GO:0042592')\n",
      "Dropping ('pubchem.compound:3658', 'GO:0043085')\n",
      "Dropping ('pubchem.compound:3658', 'GO:0055085')\n",
      "Dropping ('pubchem.compound:3658', 'GO:0006914')\n",
      "Dropping ('pubchem.compound:3658', 'GO:0008283')\n",
      "Dropping ('pubchem.compound:3658', 'GO:0009308')\n",
      "Dropping ('pubchem.compound:3658', 'GO:0016192')\n",
      "Dropping ('pubchem.compound:3658', 'GO:0022607')\n",
      "Dropping ('pubchem.compound:3658', 'GO:0032880')\n",
      "Dropping ('pubchem.compound:3658', 'GO:0048856')\n",
      "Dropping ('pubchem.compound:3658', 'GO:0050790')\n",
      "Dropping ('pubchem.compound:457193', 'GO:0002376')\n",
      "Dropping ('pubchem.compound:457193', 'GO:0007017')\n",
      "Dropping ('pubchem.compound:457193', 'GO:0008219')\n",
      "Dropping ('pubchem.compound:457193', 'GO:0021700')\n",
      "Dropping ('pubchem.compound:457193', 'GO:0030705')\n",
      "Dropping ('pubchem.compound:457193', 'GO:0048646')\n",
      "Dropping ('pubchem.compound:457193', 'GO:0050790')\n",
      "Dropping ('pubchem.compound:457193', 'GO:0050877')\n",
      "Dropping ('pubchem.compound:457193', 'GO:0022618')\n",
      "Dropping ('pubchem.compound:8226', 'GO:0007165')\n",
      "Dropping ('pubchem.compound:8226', 'GO:0007267')\n",
      "Dropping ('pubchem.compound:8226', 'GO:0016192')\n",
      "Dropping ('pubchem.compound:8226', 'GO:0030154')\n",
      "Dropping ('pubchem.compound:8226', 'GO:0042592')\n",
      "Dropping ('pubchem.compound:8226', 'GO:0043085')\n",
      "Dropping ('pubchem.compound:8226', 'GO:0048856')\n",
      "Dropping ('pubchem.compound:8226', 'GO:0055085')\n",
      "Dropping ('pubchem.compound:38853', 'GO:0006520')\n",
      "Dropping ('pubchem.compound:38853', 'GO:0006629')\n",
      "Dropping ('pubchem.compound:38853', 'GO:0007005')\n",
      "Dropping ('pubchem.compound:38853', 'GO:0006259')\n"
     ]
    }
   ],
   "source": [
    "for i, row in G_df.iterrows():\n",
    "    if row['edge_type'] == 'induces' and (row['source'], row['target']) in no_path:\n",
    "        print(f\"Dropping {(row['source'], row['target'])}\")\n",
    "        G_df.drop(i, inplace=True)"
   ]
  },
  {
   "cell_type": "code",
   "execution_count": 134,
   "metadata": {},
   "outputs": [
    {
     "data": {
      "text/plain": [
       "Counter({'interacts': 3923,\n",
       "         'participates': 1290,\n",
       "         'downregulates': 825,\n",
       "         'induces': 785,\n",
       "         'upregulates': 709})"
      ]
     },
     "execution_count": 134,
     "metadata": {},
     "output_type": "execute_result"
    }
   ],
   "source": [
    "Counter(G_df['edge_type'])"
   ]
  },
  {
   "cell_type": "code",
   "execution_count": 68,
   "metadata": {},
   "outputs": [
    {
     "data": {
      "text/html": [
       "<div>\n",
       "<style scoped>\n",
       "    .dataframe tbody tr th:only-of-type {\n",
       "        vertical-align: middle;\n",
       "    }\n",
       "\n",
       "    .dataframe tbody tr th {\n",
       "        vertical-align: top;\n",
       "    }\n",
       "\n",
       "    .dataframe thead th {\n",
       "        text-align: right;\n",
       "    }\n",
       "</style>\n",
       "<table border=\"1\" class=\"dataframe\">\n",
       "  <thead>\n",
       "    <tr style=\"text-align: right;\">\n",
       "      <th></th>\n",
       "      <th>source</th>\n",
       "      <th>target</th>\n",
       "      <th>edge_type</th>\n",
       "      <th>source_node_type</th>\n",
       "      <th>target_node_type</th>\n",
       "    </tr>\n",
       "  </thead>\n",
       "  <tbody>\n",
       "    <tr>\n",
       "      <th>0</th>\n",
       "      <td>ncbigene:6622</td>\n",
       "      <td>ncbigene:3308</td>\n",
       "      <td>interacts</td>\n",
       "      <td>Gene</td>\n",
       "      <td>Gene</td>\n",
       "    </tr>\n",
       "    <tr>\n",
       "      <th>1</th>\n",
       "      <td>ncbigene:6622</td>\n",
       "      <td>ncbigene:10273</td>\n",
       "      <td>interacts</td>\n",
       "      <td>Gene</td>\n",
       "      <td>Gene</td>\n",
       "    </tr>\n",
       "    <tr>\n",
       "      <th>2</th>\n",
       "      <td>ncbigene:6622</td>\n",
       "      <td>ncbigene:1861</td>\n",
       "      <td>interacts</td>\n",
       "      <td>Gene</td>\n",
       "      <td>Gene</td>\n",
       "    </tr>\n",
       "    <tr>\n",
       "      <th>3</th>\n",
       "      <td>ncbigene:6622</td>\n",
       "      <td>GO:0043065</td>\n",
       "      <td>participates</td>\n",
       "      <td>Gene</td>\n",
       "      <td>Biological Process</td>\n",
       "    </tr>\n",
       "    <tr>\n",
       "      <th>4</th>\n",
       "      <td>ncbigene:3308</td>\n",
       "      <td>ncbigene:6767</td>\n",
       "      <td>interacts</td>\n",
       "      <td>Gene</td>\n",
       "      <td>Gene</td>\n",
       "    </tr>\n",
       "    <tr>\n",
       "      <th>...</th>\n",
       "      <td>...</td>\n",
       "      <td>...</td>\n",
       "      <td>...</td>\n",
       "      <td>...</td>\n",
       "      <td>...</td>\n",
       "    </tr>\n",
       "    <tr>\n",
       "      <th>10746</th>\n",
       "      <td>ncbigene:390882</td>\n",
       "      <td>GO:0007165</td>\n",
       "      <td>participates</td>\n",
       "      <td>Gene</td>\n",
       "      <td>Biological Process</td>\n",
       "    </tr>\n",
       "    <tr>\n",
       "      <th>10747</th>\n",
       "      <td>ncbigene:390883</td>\n",
       "      <td>GO:0007165</td>\n",
       "      <td>participates</td>\n",
       "      <td>Gene</td>\n",
       "      <td>Biological Process</td>\n",
       "    </tr>\n",
       "    <tr>\n",
       "      <th>10748</th>\n",
       "      <td>ncbigene:390892</td>\n",
       "      <td>GO:0007165</td>\n",
       "      <td>participates</td>\n",
       "      <td>Gene</td>\n",
       "      <td>Biological Process</td>\n",
       "    </tr>\n",
       "    <tr>\n",
       "      <th>10749</th>\n",
       "      <td>ncbigene:392390</td>\n",
       "      <td>GO:0007165</td>\n",
       "      <td>participates</td>\n",
       "      <td>Gene</td>\n",
       "      <td>Biological Process</td>\n",
       "    </tr>\n",
       "    <tr>\n",
       "      <th>10750</th>\n",
       "      <td>ncbigene:401138</td>\n",
       "      <td>GO:0007155</td>\n",
       "      <td>participates</td>\n",
       "      <td>Gene</td>\n",
       "      <td>Biological Process</td>\n",
       "    </tr>\n",
       "  </tbody>\n",
       "</table>\n",
       "<p>10222 rows × 5 columns</p>\n",
       "</div>"
      ],
      "text/plain": [
       "                source          target     edge_type source_node_type  \\\n",
       "0        ncbigene:6622   ncbigene:3308     interacts             Gene   \n",
       "1        ncbigene:6622  ncbigene:10273     interacts             Gene   \n",
       "2        ncbigene:6622   ncbigene:1861     interacts             Gene   \n",
       "3        ncbigene:6622      GO:0043065  participates             Gene   \n",
       "4        ncbigene:3308   ncbigene:6767     interacts             Gene   \n",
       "...                ...             ...           ...              ...   \n",
       "10746  ncbigene:390882      GO:0007165  participates             Gene   \n",
       "10747  ncbigene:390883      GO:0007165  participates             Gene   \n",
       "10748  ncbigene:390892      GO:0007165  participates             Gene   \n",
       "10749  ncbigene:392390      GO:0007165  participates             Gene   \n",
       "10750  ncbigene:401138      GO:0007155  participates             Gene   \n",
       "\n",
       "         target_node_type  \n",
       "0                    Gene  \n",
       "1                    Gene  \n",
       "2                    Gene  \n",
       "3      Biological Process  \n",
       "4                    Gene  \n",
       "...                   ...  \n",
       "10746  Biological Process  \n",
       "10747  Biological Process  \n",
       "10748  Biological Process  \n",
       "10749  Biological Process  \n",
       "10750  Biological Process  \n",
       "\n",
       "[10222 rows x 5 columns]"
      ]
     },
     "execution_count": 68,
     "metadata": {},
     "output_type": "execute_result"
    }
   ],
   "source": [
    "G_df"
   ]
  },
  {
   "cell_type": "code",
   "execution_count": 69,
   "metadata": {},
   "outputs": [],
   "source": [
    "G_df.to_csv(osp.join(KG_DIR, 'full_kg.tsv'), sep='\\t', index=False)"
   ]
  },
  {
   "cell_type": "code",
   "execution_count": null,
   "metadata": {},
   "outputs": [],
   "source": []
  },
  {
   "cell_type": "code",
   "execution_count": null,
   "metadata": {},
   "outputs": [],
   "source": []
  },
  {
   "cell_type": "code",
   "execution_count": null,
   "metadata": {},
   "outputs": [],
   "source": []
  },
  {
   "cell_type": "code",
   "execution_count": null,
   "metadata": {},
   "outputs": [],
   "source": []
  },
  {
   "cell_type": "code",
   "execution_count": null,
   "metadata": {},
   "outputs": [],
   "source": []
  },
  {
   "cell_type": "markdown",
   "metadata": {},
   "source": [
    "First, let's get the set of proteins attached to GO BPs:"
   ]
  },
  {
   "cell_type": "code",
   "execution_count": null,
   "metadata": {},
   "outputs": [],
   "source": []
  },
  {
   "cell_type": "code",
   "execution_count": null,
   "metadata": {},
   "outputs": [],
   "source": [
    "prots_to_bps = set()\n",
    "\n",
    "for i, row in full_kg.loc[full_kg['edge_type'] == 'participates'].iterrows():\n",
    "    prots_to_bps.add((row['source']))"
   ]
  },
  {
   "cell_type": "code",
   "execution_count": null,
   "metadata": {},
   "outputs": [
    {
     "data": {
      "text/plain": [
       "3161"
      ]
     },
     "metadata": {},
     "output_type": "display_data"
    }
   ],
   "source": [
    "len(prots_to_bps)"
   ]
  },
  {
   "cell_type": "code",
   "execution_count": 223,
   "metadata": {},
   "outputs": [],
   "source": [
    "threshhold = 4"
   ]
  },
  {
   "cell_type": "code",
   "execution_count": 224,
   "metadata": {},
   "outputs": [],
   "source": [
    "prot_nodes = [node for node, data in G.nodes(data=True) if data[\"type\"] == \"Gene\"]\n",
    "prots_with_high_degree = [node for node in prot_nodes if G.out_degree(node) >= threshhold * 2]"
   ]
  },
  {
   "cell_type": "markdown",
   "metadata": {},
   "source": [
    "Below, we get the PPI rows of those high degree nodes and drop a random subset of them:"
   ]
  },
  {
   "cell_type": "code",
   "execution_count": 225,
   "metadata": {},
   "outputs": [],
   "source": [
    "for prot in prots_with_high_degree:\n",
    "    disposables = full_kg.loc[(full_kg['edge_type'] == 'interacts') & (full_kg['source'] == prot) & (~full_kg['target'].isin(prots_to_bps))]\n",
    "    if len(disposables) > threshhold:\n",
    "        num_to_drop = int(len(disposables) - threshhold)\n",
    "        idx2drop = list(disposables.sample(n=num_to_drop, random_state=1).index)\n",
    "        full_kg.drop(index=idx2drop, inplace=True)"
   ]
  },
  {
   "cell_type": "code",
   "execution_count": 226,
   "metadata": {},
   "outputs": [
    {
     "data": {
      "text/plain": [
       "Counter({'interacts': 22107,\n",
       "         'participates': 2571,\n",
       "         'downregulates': 1615,\n",
       "         'induces': 1477,\n",
       "         'upregulates': 1325})"
      ]
     },
     "execution_count": 226,
     "metadata": {},
     "output_type": "execute_result"
    }
   ],
   "source": [
    "Counter(full_kg['edge_type'])"
   ]
  },
  {
   "cell_type": "code",
   "execution_count": 227,
   "metadata": {},
   "outputs": [],
   "source": [
    "G = nx.DiGraph()\n",
    "\n",
    "for i, row in full_kg.iterrows():\n",
    "    src_id = row['source']\n",
    "    trgt_id = row['target']\n",
    "    if src_id not in G.nodes:\n",
    "        G.add_node(src_id, type=row['source_node_type'])\n",
    "    if trgt_id not in G.nodes:\n",
    "        G.add_node(trgt_id, type=row['target_node_type'])\n",
    "    G.add_edge(src_id, trgt_id, type=row['edge_type'])\n",
    "    if row['source_node_type'] == row['target_node_type']:\n",
    "        G.add_edge(trgt_id, src_id, type=row['edge_type'])"
   ]
  },
  {
   "cell_type": "code",
   "execution_count": 228,
   "metadata": {},
   "outputs": [
    {
     "data": {
      "image/png": "[encoded data removed]",
      "text/plain": [
       "<Figure size 640x480 with 1 Axes>"
      ]
     },
     "metadata": {},
     "output_type": "display_data"
    }
   ],
   "source": [
    "# Filter nodes based on type\n",
    "prot_nodes = [node for node, data in G.nodes(data=True) if data[\"type\"] == \"Gene\"]\n",
    "\n",
    "# Calculate outgoing degrees of compound nodes\n",
    "out_degrees = [G.out_degree(node) for node in prot_nodes]\n",
    "\n",
    "# Plot histogram\n",
    "plt.hist(out_degrees, bins=10, range=(10.5, max(out_degrees) + 0.5), edgecolor=\"black\")\n",
    "plt.xlabel(\"Outgoing Degree\")\n",
    "plt.ylabel(\"Frequency\")\n",
    "plt.title(\"Histogram of Outgoing Degrees for Nodes with Type 'Gene'\")\n",
    "plt.show()"
   ]
  },
  {
   "cell_type": "code",
   "execution_count": 229,
   "metadata": {},
   "outputs": [
    {
     "name": "stdout",
     "output_type": "stream",
     "text": [
      "0 40\n",
      "1 533\n",
      "2 437\n",
      "3 297\n",
      "4 366\n",
      "5 218\n",
      "6 176\n",
      "7 183\n",
      "8 161\n",
      "9 124\n",
      "10 87\n",
      "11 141\n",
      "12 61\n",
      "13 57\n",
      "14 46\n",
      "15 65\n",
      "16 32\n",
      "17 30\n",
      "18 31\n",
      "19 31\n",
      "20 28\n",
      "21 18\n",
      "22 22\n",
      "23 35\n",
      "24 12\n",
      "25 16\n",
      "26 27\n",
      "27 16\n",
      "28 12\n",
      "29 10\n",
      "30 8\n",
      "31 10\n",
      "32 12\n",
      "33 6\n",
      "34 4\n",
      "35 6\n",
      "36 7\n",
      "37 3\n",
      "38 3\n",
      "39 2\n",
      "40 8\n",
      "41 2\n",
      "42 3\n",
      "43 6\n",
      "44 2\n",
      "45 5\n",
      "46 1\n",
      "47 3\n",
      "48 3\n",
      "49 11\n",
      "50 2\n",
      "51 3\n",
      "52 15\n",
      "53 5\n",
      "54 3\n",
      "55 1\n",
      "56 3\n",
      "57 1\n",
      "58 4\n",
      "59 2\n",
      "60 2\n",
      "61 5\n",
      "62 1\n",
      "64 7\n",
      "65 3\n",
      "66 1\n",
      "68 1\n",
      "69 3\n",
      "70 1\n",
      "71 1\n",
      "72 10\n",
      "73 1\n",
      "77 1\n",
      "78 1\n",
      "79 1\n",
      "80 6\n",
      "81 2\n",
      "82 1\n",
      "83 2\n",
      "85 1\n",
      "86 2\n",
      "90 1\n",
      "91 1\n",
      "92 22\n",
      "93 16\n",
      "94 5\n",
      "95 5\n",
      "96 3\n",
      "98 1\n",
      "100 1\n",
      "102 1\n",
      "103 1\n",
      "104 4\n",
      "105 1\n",
      "113 1\n",
      "117 1\n",
      "131 3\n",
      "133 3\n",
      "135 1\n",
      "138 1\n",
      "149 1\n",
      "188 1\n",
      "199 1\n",
      "214 2\n"
     ]
    }
   ],
   "source": [
    "degrees = dict(Counter(out_degrees))\n",
    "\n",
    "for d in sorted(degrees):\n",
    "    print(d, degrees[d])"
   ]
  },
  {
   "cell_type": "markdown",
   "metadata": {},
   "source": [
    "Why are there still so many proteins with a high degree? The must be going to an important protein. Let's see how many of those high-degree proteins are our prots of interest:"
   ]
  },
  {
   "cell_type": "code",
   "execution_count": 230,
   "metadata": {},
   "outputs": [],
   "source": [
    "prot_nodes = [node for node, data in G.nodes(data=True) if data[\"type\"] == \"Gene\"]\n",
    "prots_with_high_degree = [node for node in prot_nodes if G.out_degree(node) >= threshhold * 2]"
   ]
  },
  {
   "cell_type": "code",
   "execution_count": 231,
   "metadata": {},
   "outputs": [
    {
     "data": {
      "text/plain": [
       "758"
      ]
     },
     "execution_count": 231,
     "metadata": {},
     "output_type": "execute_result"
    }
   ],
   "source": [
    "len(set(prots_with_high_degree) & prots_to_bps)"
   ]
  },
  {
   "cell_type": "markdown",
   "metadata": {},
   "source": [
    "Let's just drop some of their edges:"
   ]
  },
  {
   "cell_type": "code",
   "execution_count": 232,
   "metadata": {},
   "outputs": [],
   "source": [
    "threshhold = 4"
   ]
  },
  {
   "cell_type": "code",
   "execution_count": 233,
   "metadata": {},
   "outputs": [],
   "source": [
    "for prot in set(prots_with_high_degree) & prots_to_bps:\n",
    "    disposables = full_kg.loc[(full_kg['edge_type'] == 'interacts') & (full_kg['source'] == prot)]\n",
    "    if len(disposables) > threshhold:\n",
    "        num_to_drop = int(len(disposables) - threshhold)\n",
    "        idx2drop = list(disposables.sample(n=num_to_drop, random_state=1).index)\n",
    "        full_kg.drop(index=idx2drop, inplace=True)"
   ]
  },
  {
   "cell_type": "code",
   "execution_count": 234,
   "metadata": {},
   "outputs": [
    {
     "data": {
      "text/plain": [
       "Counter({'interacts': 13292,\n",
       "         'participates': 2571,\n",
       "         'downregulates': 1615,\n",
       "         'induces': 1477,\n",
       "         'upregulates': 1325})"
      ]
     },
     "execution_count": 234,
     "metadata": {},
     "output_type": "execute_result"
    }
   ],
   "source": [
    "Counter(full_kg['edge_type'])"
   ]
  },
  {
   "cell_type": "code",
   "execution_count": 235,
   "metadata": {},
   "outputs": [],
   "source": [
    "G = nx.DiGraph()\n",
    "\n",
    "for i, row in full_kg.iterrows():\n",
    "    src_id = row['source']\n",
    "    trgt_id = row['target']\n",
    "    if src_id not in G.nodes:\n",
    "        G.add_node(src_id, type=row['source_node_type'])\n",
    "    if trgt_id not in G.nodes:\n",
    "        G.add_node(trgt_id, type=row['target_node_type'])\n",
    "    G.add_edge(src_id, trgt_id, type=row['edge_type'])\n",
    "    if row['source_node_type'] == row['target_node_type']:\n",
    "        G.add_edge(trgt_id, src_id, type=row['edge_type'])"
   ]
  },
  {
   "cell_type": "code",
   "execution_count": 236,
   "metadata": {},
   "outputs": [
    {
     "data": {
      "image/png": "[encoded data removed]",
      "text/plain": [
       "<Figure size 640x480 with 1 Axes>"
      ]
     },
     "metadata": {},
     "output_type": "display_data"
    }
   ],
   "source": [
    "# Filter nodes based on type\n",
    "prot_nodes = [node for node, data in G.nodes(data=True) if data[\"type\"] == \"Gene\"]\n",
    "\n",
    "# Calculate outgoing degrees of compound nodes\n",
    "out_degrees = [G.out_degree(node) for node in prot_nodes]\n",
    "\n",
    "# Plot histogram\n",
    "plt.hist(out_degrees, bins=10, range=(10.5, max(out_degrees) + 0.5), edgecolor=\"black\")\n",
    "plt.xlabel(\"Outgoing Degree\")\n",
    "plt.ylabel(\"Frequency\")\n",
    "plt.title(\"Histogram of Outgoing Degrees for Nodes with Type 'Gene'\")\n",
    "plt.show()"
   ]
  },
  {
   "cell_type": "code",
   "execution_count": 237,
   "metadata": {},
   "outputs": [
    {
     "name": "stdout",
     "output_type": "stream",
     "text": [
      "0 48\n",
      "1 568\n",
      "2 450\n",
      "3 309\n",
      "4 372\n",
      "5 279\n",
      "6 238\n",
      "7 225\n",
      "8 154\n",
      "9 137\n",
      "10 69\n",
      "11 93\n",
      "12 55\n",
      "13 52\n",
      "14 26\n",
      "15 61\n",
      "16 23\n",
      "17 25\n",
      "18 19\n",
      "19 27\n"
     ]
    }
   ],
   "source": [
    "degrees = dict(Counter(out_degrees))\n",
    "\n",
    "for d in sorted(degrees)[0:20]:\n",
    "    print(d, degrees[d])"
   ]
  },
  {
   "cell_type": "markdown",
   "metadata": {},
   "source": [
    "Let's go with that."
   ]
  },
  {
   "cell_type": "code",
   "execution_count": 117,
   "metadata": {},
   "outputs": [],
   "source": [
    "G_df.to_csv(osp.join(KG_DIR, 'full_kg.tsv'), sep='\\t', index=False)"
   ]
  },
  {
   "cell_type": "code",
   "execution_count": null,
   "metadata": {},
   "outputs": [],
   "source": []
  }
 ],
 "metadata": {
  "kernelspec": {
   "display_name": "nesy_venv",
   "language": "python",
   "name": "python3"
  },
  "language_info": {
   "codemirror_mode": {
    "name": "ipython",
    "version": 3
   },
   "file_extension": ".py",
   "mimetype": "text/x-python",
   "name": "python",
   "nbconvert_exporter": "python",
   "pygments_lexer": "ipython3",
   "version": "3.9.6"
  }
 },
 "nbformat": 4,
 "nbformat_minor": 2
}
