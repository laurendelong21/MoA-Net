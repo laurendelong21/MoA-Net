{
 "cells": [
  {
   "attachments": {},
   "cell_type": "markdown",
   "metadata": {},
   "source": [
    "# Notebook for enriching protein-biological process and drug-biological process edges\n",
    "\n",
    "In our MOA project, we want to use the [Gene Ontology Biological Process](http://geneontology.org/docs/ontology-documentation/) (BP) as sink nodes, so we need to incorporate this information into the KG."
   ]
  },
  {
   "cell_type": "code",
   "execution_count": 1,
   "metadata": {},
   "outputs": [],
   "source": [
    "import pandas as pd\n",
    "from tqdm import tqdm\n",
    "import os.path as osp\n",
    "\n",
    "from matplotlib_venn import venn2_unweighted\n",
    "from collections import Counter\n",
    "import seaborn as sns\n",
    "import matplotlib.pyplot as plt\n",
    "\n",
    "from typing import List\n",
    "import requests\n",
    "import re"
   ]
  },
  {
   "attachments": {},
   "cell_type": "markdown",
   "metadata": {},
   "source": [
    "# Load KG files"
   ]
  },
  {
   "cell_type": "code",
   "execution_count": 2,
   "metadata": {},
   "outputs": [],
   "source": [
    "KG_DIR = '../data/kg/'"
   ]
  },
  {
   "attachments": {},
   "cell_type": "markdown",
   "metadata": {},
   "source": [
    "Load in the processed OpenBioLink KG with only drug-protein and protein-protein edges:"
   ]
  },
  {
   "cell_type": "code",
   "execution_count": 3,
   "metadata": {},
   "outputs": [
    {
     "data": {
      "text/html": [
       "<div>\n",
       "<style scoped>\n",
       "    .dataframe tbody tr th:only-of-type {\n",
       "        vertical-align: middle;\n",
       "    }\n",
       "\n",
       "    .dataframe tbody tr th {\n",
       "        vertical-align: top;\n",
       "    }\n",
       "\n",
       "    .dataframe thead th {\n",
       "        text-align: right;\n",
       "    }\n",
       "</style>\n",
       "<table border=\"1\" class=\"dataframe\">\n",
       "  <thead>\n",
       "    <tr style=\"text-align: right;\">\n",
       "      <th></th>\n",
       "      <th>source</th>\n",
       "      <th>target</th>\n",
       "      <th>polarity</th>\n",
       "    </tr>\n",
       "  </thead>\n",
       "  <tbody>\n",
       "    <tr>\n",
       "      <th>0</th>\n",
       "      <td>pubchem.compound:10607</td>\n",
       "      <td>ncbigene:3553</td>\n",
       "      <td>1</td>\n",
       "    </tr>\n",
       "    <tr>\n",
       "      <th>1</th>\n",
       "      <td>pubchem.compound:10607</td>\n",
       "      <td>ncbigene:203068</td>\n",
       "      <td>-1</td>\n",
       "    </tr>\n",
       "  </tbody>\n",
       "</table>\n",
       "</div>"
      ],
      "text/plain": [
       "                   source           target  polarity\n",
       "0  pubchem.compound:10607    ncbigene:3553         1\n",
       "1  pubchem.compound:10607  ncbigene:203068        -1"
      ]
     },
     "execution_count": 3,
     "metadata": {},
     "output_type": "execute_result"
    }
   ],
   "source": [
    "openbiolink_df = pd.read_csv(f'{KG_DIR}/openbiolink_filtered.tsv', sep='\\t')\n",
    "openbiolink_df.head(2)"
   ]
  },
  {
   "attachments": {},
   "cell_type": "markdown",
   "metadata": {},
   "source": [
    "Load in the processed Custom/In-House KG with only drug-protein and protein-protein edges:"
   ]
  },
  {
   "cell_type": "code",
   "execution_count": 4,
   "metadata": {},
   "outputs": [
    {
     "data": {
      "text/html": [
       "<div>\n",
       "<style scoped>\n",
       "    .dataframe tbody tr th:only-of-type {\n",
       "        vertical-align: middle;\n",
       "    }\n",
       "\n",
       "    .dataframe tbody tr th {\n",
       "        vertical-align: top;\n",
       "    }\n",
       "\n",
       "    .dataframe thead th {\n",
       "        text-align: right;\n",
       "    }\n",
       "</style>\n",
       "<table border=\"1\" class=\"dataframe\">\n",
       "  <thead>\n",
       "    <tr style=\"text-align: right;\">\n",
       "      <th></th>\n",
       "      <th>source</th>\n",
       "      <th>target</th>\n",
       "      <th>polarity</th>\n",
       "    </tr>\n",
       "  </thead>\n",
       "  <tbody>\n",
       "    <tr>\n",
       "      <th>0</th>\n",
       "      <td>pubchem.compound:4943</td>\n",
       "      <td>ncbigene:2562</td>\n",
       "      <td>1</td>\n",
       "    </tr>\n",
       "    <tr>\n",
       "      <th>1</th>\n",
       "      <td>pubchem.compound:4943</td>\n",
       "      <td>ncbigene:2563</td>\n",
       "      <td>1</td>\n",
       "    </tr>\n",
       "  </tbody>\n",
       "</table>\n",
       "</div>"
      ],
      "text/plain": [
       "                  source         target  polarity\n",
       "0  pubchem.compound:4943  ncbigene:2562         1\n",
       "1  pubchem.compound:4943  ncbigene:2563         1"
      ]
     },
     "execution_count": 4,
     "metadata": {},
     "output_type": "execute_result"
    }
   ],
   "source": [
    "custom_df = pd.read_csv(f'{KG_DIR}/customkg_filtered.tsv', sep='\\t')\n",
    "custom_df.head(2)"
   ]
  },
  {
   "attachments": {},
   "cell_type": "markdown",
   "metadata": {},
   "source": [
    "# Subset proteins for BP enrichments\n",
    "\n",
    "Here, we are getting all of the proteins in the KGs:"
   ]
  },
  {
   "cell_type": "code",
   "execution_count": 5,
   "metadata": {},
   "outputs": [
    {
     "name": "stderr",
     "output_type": "stream",
     "text": [
      "100%|██████████| 41441/41441 [00:00<00:00, 398590.51it/s]\n"
     ]
    },
    {
     "data": {
      "text/plain": [
       "4618"
      ]
     },
     "execution_count": 5,
     "metadata": {},
     "output_type": "execute_result"
    }
   ],
   "source": [
    "openbiolink_proteins = set()\n",
    "\n",
    "for source, target, rel in tqdm(openbiolink_df.values):\n",
    "    if 'ncbigene' in source:\n",
    "        openbiolink_proteins.add(source)\n",
    "\n",
    "    if 'ncbigene' in target:\n",
    "        openbiolink_proteins.add(target)\n",
    "\n",
    "len(openbiolink_proteins)"
   ]
  },
  {
   "cell_type": "code",
   "execution_count": 6,
   "metadata": {},
   "outputs": [
    {
     "name": "stderr",
     "output_type": "stream",
     "text": [
      "100%|██████████| 51400/51400 [00:00<00:00, 371231.67it/s]\n"
     ]
    },
    {
     "data": {
      "text/plain": [
       "8229"
      ]
     },
     "execution_count": 6,
     "metadata": {},
     "output_type": "execute_result"
    }
   ],
   "source": [
    "custom_proteins = set()\n",
    "\n",
    "for source, target, rel in tqdm(custom_df.values):\n",
    "    if 'ncbigene' in source:\n",
    "        custom_proteins.add(source)\n",
    "\n",
    "    if 'ncbigene' in target:\n",
    "        custom_proteins.add(target)\n",
    "\n",
    "len(custom_proteins)\n"
   ]
  },
  {
   "attachments": {},
   "cell_type": "markdown",
   "metadata": {},
   "source": [
    "# Map the protein to their GO annotations\n",
    "\n",
    "Now that we have the protein IDs, we can map them to corresponding GO annotations. We got these annotations from the [GO FTP download page](https://ftp.ncbi.nlm.nih.gov/gene/DATA/)."
   ]
  },
  {
   "cell_type": "code",
   "execution_count": 7,
   "metadata": {},
   "outputs": [],
   "source": [
    "MAPPING_DIR = '../data/mappings'"
   ]
  },
  {
   "cell_type": "code",
   "execution_count": 8,
   "metadata": {},
   "outputs": [
    {
     "data": {
      "text/html": [
       "<div>\n",
       "<style scoped>\n",
       "    .dataframe tbody tr th:only-of-type {\n",
       "        vertical-align: middle;\n",
       "    }\n",
       "\n",
       "    .dataframe tbody tr th {\n",
       "        vertical-align: top;\n",
       "    }\n",
       "\n",
       "    .dataframe thead th {\n",
       "        text-align: right;\n",
       "    }\n",
       "</style>\n",
       "<table border=\"1\" class=\"dataframe\">\n",
       "  <thead>\n",
       "    <tr style=\"text-align: right;\">\n",
       "      <th></th>\n",
       "      <th>#tax_id</th>\n",
       "      <th>GeneID</th>\n",
       "      <th>GO_ID</th>\n",
       "      <th>Evidence</th>\n",
       "      <th>Qualifier</th>\n",
       "      <th>GO_term</th>\n",
       "      <th>PubMed</th>\n",
       "      <th>Category</th>\n",
       "    </tr>\n",
       "  </thead>\n",
       "  <tbody>\n",
       "    <tr>\n",
       "      <th>812115</th>\n",
       "      <td>9606</td>\n",
       "      <td>1</td>\n",
       "      <td>GO:0003674</td>\n",
       "      <td>ND</td>\n",
       "      <td>enables</td>\n",
       "      <td>molecular_function</td>\n",
       "      <td>-</td>\n",
       "      <td>Function</td>\n",
       "    </tr>\n",
       "    <tr>\n",
       "      <th>812116</th>\n",
       "      <td>9606</td>\n",
       "      <td>1</td>\n",
       "      <td>GO:0005576</td>\n",
       "      <td>HDA</td>\n",
       "      <td>located_in</td>\n",
       "      <td>extracellular region</td>\n",
       "      <td>27068509</td>\n",
       "      <td>Component</td>\n",
       "    </tr>\n",
       "  </tbody>\n",
       "</table>\n",
       "</div>"
      ],
      "text/plain": [
       "       #tax_id GeneID       GO_ID Evidence   Qualifier               GO_term  \\\n",
       "812115    9606      1  GO:0003674       ND     enables    molecular_function   \n",
       "812116    9606      1  GO:0005576      HDA  located_in  extracellular region   \n",
       "\n",
       "          PubMed   Category  \n",
       "812115         -   Function  \n",
       "812116  27068509  Component  "
      ]
     },
     "execution_count": 8,
     "metadata": {},
     "output_type": "execute_result"
    }
   ],
   "source": [
    "process_df = pd.read_csv(\n",
    "    f'{MAPPING_DIR}/gene2go.tsv', sep='\\t', dtype=str,\n",
    ")\n",
    "\n",
    "process_df = process_df[process_df['#tax_id'] == '9606']\n",
    "process_df.head(2)"
   ]
  },
  {
   "cell_type": "code",
   "execution_count": 9,
   "metadata": {},
   "outputs": [
    {
     "data": {
      "text/plain": [
       "Process      157388\n",
       "Component    103600\n",
       "Function      84844\n",
       "Name: Category, dtype: int64"
      ]
     },
     "execution_count": 9,
     "metadata": {},
     "output_type": "execute_result"
    }
   ],
   "source": [
    "process_df.Category.value_counts()"
   ]
  },
  {
   "attachments": {},
   "cell_type": "markdown",
   "metadata": {},
   "source": [
    "As we can see from the above, all three GO ontologies are included in this."
   ]
  },
  {
   "attachments": {},
   "cell_type": "markdown",
   "metadata": {},
   "source": [
    "To make this GO dataframe work with our other dataframes, we need all the NCBI gene IDs to start with the prefix, \"ncbigene\"."
   ]
  },
  {
   "cell_type": "code",
   "execution_count": 10,
   "metadata": {},
   "outputs": [],
   "source": [
    "process_df['GeneID'] = 'ncbigene:' + process_df['GeneID']"
   ]
  },
  {
   "attachments": {},
   "cell_type": "markdown",
   "metadata": {},
   "source": [
    "Now, let's investigate what the overlap is between the NCBI gene IDs in the GO and in the OpenBioLink KG:"
   ]
  },
  {
   "cell_type": "code",
   "execution_count": 11,
   "metadata": {},
   "outputs": [
    {
     "data": {
      "text/plain": [
       "<matplotlib_venn._common.VennDiagram at 0x7fd9d1dc5580>"
      ]
     },
     "execution_count": 11,
     "metadata": {},
     "output_type": "execute_result"
    },
    {
     "data": {
      "image/png": "[encoded data removed]",
      "text/plain": [
       "<Figure size 432x288 with 1 Axes>"
      ]
     },
     "metadata": {},
     "output_type": "display_data"
    }
   ],
   "source": [
    "venn2_unweighted(\n",
    "    [set(process_df['GeneID'].unique()), openbiolink_proteins],\n",
    "    set_labels=['Proteins Mapping to GO', 'OpenBioLink KG proteins']\n",
    ")"
   ]
  },
  {
   "attachments": {},
   "cell_type": "markdown",
   "metadata": {},
   "source": [
    "And let's investigate what the overlap is between the NCBI gene IDs in the GO and in the Custom KG:"
   ]
  },
  {
   "cell_type": "code",
   "execution_count": 12,
   "metadata": {},
   "outputs": [
    {
     "data": {
      "text/plain": [
       "<matplotlib_venn._common.VennDiagram at 0x7fd9d28ea100>"
      ]
     },
     "execution_count": 12,
     "metadata": {},
     "output_type": "execute_result"
    },
    {
     "data": {
      "image/png": "[encoded data removed]",
      "text/plain": [
       "<Figure size 432x288 with 1 Axes>"
      ]
     },
     "metadata": {},
     "output_type": "display_data"
    }
   ],
   "source": [
    "venn2_unweighted(\n",
    "    [set(process_df['GeneID'].unique()), custom_proteins],\n",
    "    set_labels=['Proteins Mapping to GO', 'Custom KG proteins']\n",
    ")"
   ]
  },
  {
   "attachments": {},
   "cell_type": "markdown",
   "metadata": {},
   "source": [
    "And for all proteins between the two?"
   ]
  },
  {
   "cell_type": "code",
   "execution_count": 13,
   "metadata": {},
   "outputs": [],
   "source": [
    "all_protein_in_kg = custom_proteins.union(openbiolink_proteins)"
   ]
  },
  {
   "cell_type": "code",
   "execution_count": 14,
   "metadata": {},
   "outputs": [
    {
     "data": {
      "text/plain": [
       "<matplotlib_venn._common.VennDiagram at 0x7fda033320a0>"
      ]
     },
     "execution_count": 14,
     "metadata": {},
     "output_type": "execute_result"
    },
    {
     "data": {
      "image/png": "[encoded data removed]",
      "text/plain": [
       "<Figure size 432x288 with 1 Axes>"
      ]
     },
     "metadata": {},
     "output_type": "display_data"
    }
   ],
   "source": [
    "venn2_unweighted(\n",
    "    [set(process_df['GeneID'].unique()), all_protein_in_kg],\n",
    "    set_labels=['Proteins Mapping to GO', 'KG proteins']\n",
    ")"
   ]
  },
  {
   "attachments": {},
   "cell_type": "markdown",
   "metadata": {},
   "source": [
    "# GO Annotations\n",
    "\n",
    "Let's see what GO Annotations are connected to our proteins.\n",
    "\n",
    "First, get all the proteins between the two KGs:"
   ]
  },
  {
   "cell_type": "code",
   "execution_count": 15,
   "metadata": {},
   "outputs": [
    {
     "data": {
      "text/plain": [
       "9301"
      ]
     },
     "execution_count": 15,
     "metadata": {},
     "output_type": "execute_result"
    }
   ],
   "source": [
    "len(all_protein_in_kg)"
   ]
  },
  {
   "cell_type": "code",
   "execution_count": 16,
   "metadata": {},
   "outputs": [],
   "source": [
    "filtered_df = process_df[process_df['GeneID'].isin(all_protein_in_kg)]\n",
    "filtered_df.to_csv(f'{MAPPING_DIR}/in_kg_go_terms.tsv', sep='\\t', index=False)"
   ]
  },
  {
   "attachments": {},
   "cell_type": "markdown",
   "metadata": {},
   "source": [
    "Remind our selves what's in the original gene2GO dataframe:"
   ]
  },
  {
   "cell_type": "code",
   "execution_count": 17,
   "metadata": {},
   "outputs": [
    {
     "data": {
      "text/html": [
       "<div>\n",
       "<style scoped>\n",
       "    .dataframe tbody tr th:only-of-type {\n",
       "        vertical-align: middle;\n",
       "    }\n",
       "\n",
       "    .dataframe tbody tr th {\n",
       "        vertical-align: top;\n",
       "    }\n",
       "\n",
       "    .dataframe thead th {\n",
       "        text-align: right;\n",
       "    }\n",
       "</style>\n",
       "<table border=\"1\" class=\"dataframe\">\n",
       "  <thead>\n",
       "    <tr style=\"text-align: right;\">\n",
       "      <th></th>\n",
       "      <th>#tax_id</th>\n",
       "      <th>GeneID</th>\n",
       "      <th>GO_ID</th>\n",
       "      <th>Evidence</th>\n",
       "      <th>Qualifier</th>\n",
       "      <th>GO_term</th>\n",
       "      <th>PubMed</th>\n",
       "      <th>Category</th>\n",
       "    </tr>\n",
       "  </thead>\n",
       "  <tbody>\n",
       "    <tr>\n",
       "      <th>812128</th>\n",
       "      <td>9606</td>\n",
       "      <td>ncbigene:2</td>\n",
       "      <td>GO:0001553</td>\n",
       "      <td>IEA</td>\n",
       "      <td>involved_in</td>\n",
       "      <td>luteinization</td>\n",
       "      <td>-</td>\n",
       "      <td>Process</td>\n",
       "    </tr>\n",
       "    <tr>\n",
       "      <th>812129</th>\n",
       "      <td>9606</td>\n",
       "      <td>ncbigene:2</td>\n",
       "      <td>GO:0001869</td>\n",
       "      <td>IDA</td>\n",
       "      <td>involved_in</td>\n",
       "      <td>negative regulation of complement activation, ...</td>\n",
       "      <td>12538697</td>\n",
       "      <td>Process</td>\n",
       "    </tr>\n",
       "    <tr>\n",
       "      <th>812130</th>\n",
       "      <td>9606</td>\n",
       "      <td>ncbigene:2</td>\n",
       "      <td>GO:0002020</td>\n",
       "      <td>IBA</td>\n",
       "      <td>enables</td>\n",
       "      <td>protease binding</td>\n",
       "      <td>21873635</td>\n",
       "      <td>Function</td>\n",
       "    </tr>\n",
       "    <tr>\n",
       "      <th>812131</th>\n",
       "      <td>9606</td>\n",
       "      <td>ncbigene:2</td>\n",
       "      <td>GO:0002020</td>\n",
       "      <td>IPI</td>\n",
       "      <td>enables</td>\n",
       "      <td>protease binding</td>\n",
       "      <td>7679575|18485748</td>\n",
       "      <td>Function</td>\n",
       "    </tr>\n",
       "    <tr>\n",
       "      <th>812132</th>\n",
       "      <td>9606</td>\n",
       "      <td>ncbigene:2</td>\n",
       "      <td>GO:0002438</td>\n",
       "      <td>IEA</td>\n",
       "      <td>involved_in</td>\n",
       "      <td>acute inflammatory response to antigenic stimulus</td>\n",
       "      <td>-</td>\n",
       "      <td>Process</td>\n",
       "    </tr>\n",
       "    <tr>\n",
       "      <th>...</th>\n",
       "      <td>...</td>\n",
       "      <td>...</td>\n",
       "      <td>...</td>\n",
       "      <td>...</td>\n",
       "      <td>...</td>\n",
       "      <td>...</td>\n",
       "      <td>...</td>\n",
       "      <td>...</td>\n",
       "    </tr>\n",
       "    <tr>\n",
       "      <th>1157527</th>\n",
       "      <td>9606</td>\n",
       "      <td>ncbigene:107181291</td>\n",
       "      <td>GO:0006954</td>\n",
       "      <td>IEA</td>\n",
       "      <td>involved_in</td>\n",
       "      <td>inflammatory response</td>\n",
       "      <td>-</td>\n",
       "      <td>Process</td>\n",
       "    </tr>\n",
       "    <tr>\n",
       "      <th>1157528</th>\n",
       "      <td>9606</td>\n",
       "      <td>ncbigene:107181291</td>\n",
       "      <td>GO:0031333</td>\n",
       "      <td>IDA</td>\n",
       "      <td>involved_in</td>\n",
       "      <td>negative regulation of protein-containing comp...</td>\n",
       "      <td>24531343</td>\n",
       "      <td>Process</td>\n",
       "    </tr>\n",
       "    <tr>\n",
       "      <th>1157529</th>\n",
       "      <td>9606</td>\n",
       "      <td>ncbigene:107181291</td>\n",
       "      <td>GO:0035458</td>\n",
       "      <td>IDA</td>\n",
       "      <td>involved_in</td>\n",
       "      <td>cellular response to interferon-beta</td>\n",
       "      <td>24531343</td>\n",
       "      <td>Process</td>\n",
       "    </tr>\n",
       "    <tr>\n",
       "      <th>1157530</th>\n",
       "      <td>9606</td>\n",
       "      <td>ncbigene:107181291</td>\n",
       "      <td>GO:0098586</td>\n",
       "      <td>IDA</td>\n",
       "      <td>involved_in</td>\n",
       "      <td>cellular response to virus</td>\n",
       "      <td>24531343</td>\n",
       "      <td>Process</td>\n",
       "    </tr>\n",
       "    <tr>\n",
       "      <th>1157531</th>\n",
       "      <td>9606</td>\n",
       "      <td>ncbigene:107181291</td>\n",
       "      <td>GO:0140972</td>\n",
       "      <td>IDA</td>\n",
       "      <td>involved_in</td>\n",
       "      <td>negative regulation of AIM2 inflammasome compl...</td>\n",
       "      <td>24531343</td>\n",
       "      <td>Process</td>\n",
       "    </tr>\n",
       "  </tbody>\n",
       "</table>\n",
       "<p>230936 rows × 8 columns</p>\n",
       "</div>"
      ],
      "text/plain": [
       "        #tax_id              GeneID       GO_ID Evidence    Qualifier  \\\n",
       "812128     9606          ncbigene:2  GO:0001553      IEA  involved_in   \n",
       "812129     9606          ncbigene:2  GO:0001869      IDA  involved_in   \n",
       "812130     9606          ncbigene:2  GO:0002020      IBA      enables   \n",
       "812131     9606          ncbigene:2  GO:0002020      IPI      enables   \n",
       "812132     9606          ncbigene:2  GO:0002438      IEA  involved_in   \n",
       "...         ...                 ...         ...      ...          ...   \n",
       "1157527    9606  ncbigene:107181291  GO:0006954      IEA  involved_in   \n",
       "1157528    9606  ncbigene:107181291  GO:0031333      IDA  involved_in   \n",
       "1157529    9606  ncbigene:107181291  GO:0035458      IDA  involved_in   \n",
       "1157530    9606  ncbigene:107181291  GO:0098586      IDA  involved_in   \n",
       "1157531    9606  ncbigene:107181291  GO:0140972      IDA  involved_in   \n",
       "\n",
       "                                                   GO_term            PubMed  \\\n",
       "812128                                       luteinization                 -   \n",
       "812129   negative regulation of complement activation, ...          12538697   \n",
       "812130                                    protease binding          21873635   \n",
       "812131                                    protease binding  7679575|18485748   \n",
       "812132   acute inflammatory response to antigenic stimulus                 -   \n",
       "...                                                    ...               ...   \n",
       "1157527                              inflammatory response                 -   \n",
       "1157528  negative regulation of protein-containing comp...          24531343   \n",
       "1157529               cellular response to interferon-beta          24531343   \n",
       "1157530                         cellular response to virus          24531343   \n",
       "1157531  negative regulation of AIM2 inflammasome compl...          24531343   \n",
       "\n",
       "         Category  \n",
       "812128    Process  \n",
       "812129    Process  \n",
       "812130   Function  \n",
       "812131   Function  \n",
       "812132    Process  \n",
       "...           ...  \n",
       "1157527   Process  \n",
       "1157528   Process  \n",
       "1157529   Process  \n",
       "1157530   Process  \n",
       "1157531   Process  \n",
       "\n",
       "[230936 rows x 8 columns]"
      ]
     },
     "execution_count": 17,
     "metadata": {},
     "output_type": "execute_result"
    }
   ],
   "source": [
    "filtered_df"
   ]
  },
  {
   "attachments": {},
   "cell_type": "markdown",
   "metadata": {},
   "source": [
    "Let's map GO IDs here to their respective GO terms so that we can use it later."
   ]
  },
  {
   "cell_type": "code",
   "execution_count": 18,
   "metadata": {},
   "outputs": [],
   "source": [
    "id2term = {row['GO_ID']: row['GO_term'] for _, row in filtered_df.iterrows()}"
   ]
  },
  {
   "attachments": {},
   "cell_type": "markdown",
   "metadata": {},
   "source": [
    "What's happening here? We are looping through the above dataframe and extracting the GO terms.\n",
    "\n",
    "For each gene ID, we keep a set of associated GO terms.\n",
    "\n",
    "We also separate the GO terms by BP, molecular function, and cellular component so that we can keep track of which type of GO term is associated with which gene."
   ]
  },
  {
   "cell_type": "code",
   "execution_count": 19,
   "metadata": {},
   "outputs": [],
   "source": [
    "from collections import defaultdict"
   ]
  },
  {
   "cell_type": "code",
   "execution_count": 20,
   "metadata": {},
   "outputs": [],
   "source": [
    "# Set of GO terms to remove since they are too general\n",
    "terms_to_remove = {\n",
    "    'GO:0046677',\t# response to antibiotic\n",
    "    'GO:0065003',\t# protein-containing complex assembly\n",
    "    'GO:0009636',\t# response to toxic substance\n",
    "    'GO:0000003', \t# reproduction\n",
    "    'GO:0008152',\t# metabolic process\n",
    "    'GO:0009056',\t# catabolic process\n",
    "    'GO:0032259',\t# methylation\n",
    "    'GO:0016310',\t# phosphorylation\n",
    "    'GO:0009058',\t# biosynthetic process\n",
    "    'GO:0007586',\t# digestion\n",
    "    'GO:0008150',\t# biological_process\n",
    "    'GO:0006810',\t# transport\n",
    "    'GO:0048870',\t# cell motility\n",
    "    'GO:0006091',\t# generation of precursor metabolites and energy\n",
    "    'GO:0007565',\t# female pregnancy\n",
    "    'GO:0043473',\t# pigmentation\n",
    "}"
   ]
  },
  {
   "cell_type": "code",
   "execution_count": 38,
   "metadata": {},
   "outputs": [
    {
     "name": "stderr",
     "output_type": "stream",
     "text": [
      "  0%|          | 0/230936 [00:00<?, ?it/s]"
     ]
    },
    {
     "name": "stderr",
     "output_type": "stream",
     "text": [
      "100%|██████████| 230936/230936 [00:01<00:00, 201776.80it/s]\n"
     ]
    },
    {
     "data": {
      "text/plain": [
       "(9122, 9127, 9195, 9254)"
      ]
     },
     "execution_count": 38,
     "metadata": {},
     "output_type": "execute_result"
    }
   ],
   "source": [
    "genes = set()\n",
    "function_keywords = defaultdict(set)\n",
    "process_keywords = defaultdict(set)\n",
    "component_keywords = defaultdict(set)\n",
    "term_to_name = defaultdict(str)\n",
    "\n",
    "for tax_id, gene_id, go_id, ref, rel, term, pid, category  in tqdm(filtered_df.values):\n",
    "    if go_id in terms_to_remove:\n",
    "        continue\n",
    "    \n",
    "    if category == 'Process':\n",
    "        process_keywords[gene_id].add(go_id)\n",
    "        term_to_name[go_id] = term\n",
    "        genes.add(gene_id)\n",
    "\n",
    "    if category == 'Function':\n",
    "        function_keywords[gene_id].add(go_id)\n",
    "        genes.add(gene_id)\n",
    "    \n",
    "    if category == 'Component':\n",
    "        component_keywords[gene_id].add(go_id)\n",
    "        genes.add(gene_id)\n",
    "        \n",
    "len(function_keywords), len(process_keywords), len(component_keywords), len(genes)"
   ]
  },
  {
   "attachments": {},
   "cell_type": "markdown",
   "metadata": {},
   "source": [
    "### Most Common GO Associations\n",
    "\n",
    "What are the most common GO associations in our KG?"
   ]
  },
  {
   "cell_type": "code",
   "execution_count": 22,
   "metadata": {},
   "outputs": [
    {
     "data": {
      "text/plain": [
       "9127"
      ]
     },
     "execution_count": 22,
     "metadata": {},
     "output_type": "execute_result"
    }
   ],
   "source": [
    "kg_nodes_with_process = set(process_keywords.keys()) & set(all_protein_in_kg)\n",
    "len(kg_nodes_with_process)"
   ]
  },
  {
   "cell_type": "code",
   "execution_count": 23,
   "metadata": {},
   "outputs": [
    {
     "data": {
      "text/plain": [
       "9195"
      ]
     },
     "execution_count": 23,
     "metadata": {},
     "output_type": "execute_result"
    }
   ],
   "source": [
    "kg_nodes_with_comp = set(component_keywords.keys()) & set(all_protein_in_kg)\n",
    "len(kg_nodes_with_comp)"
   ]
  },
  {
   "cell_type": "code",
   "execution_count": 24,
   "metadata": {},
   "outputs": [
    {
     "data": {
      "text/plain": [
       "9122"
      ]
     },
     "execution_count": 24,
     "metadata": {},
     "output_type": "execute_result"
    }
   ],
   "source": [
    "kg_nodes_with_function = set(function_keywords.keys()) & set(all_protein_in_kg)\n",
    "len(kg_nodes_with_function)"
   ]
  },
  {
   "cell_type": "code",
   "execution_count": 25,
   "metadata": {},
   "outputs": [
    {
     "data": {
      "text/plain": [
       "47"
      ]
     },
     "execution_count": 25,
     "metadata": {},
     "output_type": "execute_result"
    }
   ],
   "source": [
    "kg_nodes_w_annotation = set.union(*[kg_nodes_with_process, kg_nodes_with_comp, kg_nodes_with_function])\n",
    "\n",
    "kg_nodes_without = set(all_protein_in_kg) - kg_nodes_w_annotation\n",
    "len(kg_nodes_without)"
   ]
  },
  {
   "attachments": {},
   "cell_type": "markdown",
   "metadata": {},
   "source": [
    "Let's see how many of each GO annotation term we have:\n",
    "\n",
    "BPs:"
   ]
  },
  {
   "cell_type": "code",
   "execution_count": 30,
   "metadata": {},
   "outputs": [
    {
     "data": {
      "text/plain": [
       "11318"
      ]
     },
     "execution_count": 30,
     "metadata": {},
     "output_type": "execute_result"
    }
   ],
   "source": [
    "p_words = [\n",
    "    go_term \n",
    "    for gene_idx, process_terms in process_keywords.items() \n",
    "    for go_term in process_terms\n",
    "    if gene_idx in all_protein_in_kg\n",
    "]\n",
    "len(set(p_words))"
   ]
  },
  {
   "attachments": {},
   "cell_type": "markdown",
   "metadata": {},
   "source": [
    "Cellular components:"
   ]
  },
  {
   "cell_type": "code",
   "execution_count": 31,
   "metadata": {},
   "outputs": [
    {
     "data": {
      "text/plain": [
       "1635"
      ]
     },
     "execution_count": 31,
     "metadata": {},
     "output_type": "execute_result"
    }
   ],
   "source": [
    "c_words = [\n",
    "    go_term \n",
    "    for gene_idx, process_terms in component_keywords.items() \n",
    "    for go_term in process_terms\n",
    "    if gene_idx in all_protein_in_kg\n",
    "]\n",
    "len(set(c_words))"
   ]
  },
  {
   "attachments": {},
   "cell_type": "markdown",
   "metadata": {},
   "source": [
    "Molecular functions:"
   ]
  },
  {
   "cell_type": "code",
   "execution_count": 32,
   "metadata": {},
   "outputs": [
    {
     "data": {
      "text/plain": [
       "4021"
      ]
     },
     "execution_count": 32,
     "metadata": {},
     "output_type": "execute_result"
    }
   ],
   "source": [
    "f_words = [\n",
    "    go_term \n",
    "    for gene_idx, process_terms in function_keywords.items() \n",
    "    for go_term in process_terms\n",
    "    if gene_idx in all_protein_in_kg\n",
    "]\n",
    "len(set(f_words))"
   ]
  },
  {
   "attachments": {},
   "cell_type": "markdown",
   "metadata": {},
   "source": [
    "## Looking into most common GO terms\n",
    "\n",
    "What are the most common cellular component terms?\n",
    "\n",
    "And how many GO annotations do we have per gene?"
   ]
  },
  {
   "cell_type": "code",
   "execution_count": 33,
   "metadata": {},
   "outputs": [],
   "source": [
    "number_of_process = [\n",
    "    len(item[1]) \n",
    "    for item in process_keywords.items() \n",
    "    if item[0] in all_protein_in_kg\n",
    "]"
   ]
  },
  {
   "cell_type": "code",
   "execution_count": 34,
   "metadata": {},
   "outputs": [],
   "source": [
    "number_of_components = [\n",
    "    len(item[1]) \n",
    "    for item in component_keywords.items() \n",
    "    if item[0] in all_protein_in_kg\n",
    "]"
   ]
  },
  {
   "cell_type": "code",
   "execution_count": 35,
   "metadata": {},
   "outputs": [],
   "source": [
    "number_of_functions = [\n",
    "    len(item[1]) \n",
    "    for item in function_keywords.items() \n",
    "    if item[0] in all_protein_in_kg\n",
    "]"
   ]
  },
  {
   "attachments": {},
   "cell_type": "markdown",
   "metadata": {},
   "source": [
    "### Cellular Components"
   ]
  },
  {
   "cell_type": "code",
   "execution_count": 36,
   "metadata": {},
   "outputs": [
    {
     "data": {
      "text/plain": [
       "[('GO:0005829', 3454),\n",
       " ('GO:0005886', 3132),\n",
       " ('GO:0005634', 3047),\n",
       " ('GO:0005737', 2697),\n",
       " ('GO:0005654', 2401),\n",
       " ('GO:0016020', 1715),\n",
       " ('GO:0070062', 1474),\n",
       " ('GO:0005576', 1085),\n",
       " ('GO:0005615', 1077),\n",
       " ('GO:0005739', 772)]"
      ]
     },
     "execution_count": 36,
     "metadata": {},
     "output_type": "execute_result"
    }
   ],
   "source": [
    "Counter(c_words).most_common(10)"
   ]
  },
  {
   "cell_type": "code",
   "execution_count": 37,
   "metadata": {},
   "outputs": [
    {
     "data": {
      "text/plain": [
       "<seaborn.axisgrid.FacetGrid at 0x7fd9b1d718b0>"
      ]
     },
     "execution_count": 37,
     "metadata": {},
     "output_type": "execute_result"
    },
    {
     "data": {
      "image/png": "[encoded data removed]",
      "text/plain": [
       "<Figure size 360x360 with 1 Axes>"
      ]
     },
     "metadata": {
      "needs_background": "light"
     },
     "output_type": "display_data"
    }
   ],
   "source": [
    "sns.displot(number_of_components)"
   ]
  },
  {
   "attachments": {},
   "cell_type": "markdown",
   "metadata": {},
   "source": [
    "### Biological Processes\n",
    "\n",
    "What are the most common BP terms?"
   ]
  },
  {
   "cell_type": "code",
   "execution_count": 39,
   "metadata": {},
   "outputs": [
    {
     "data": {
      "text/plain": [
       "[('signal transduction', 809),\n",
       " ('positive regulation of transcription by RNA polymerase II', 796),\n",
       " ('regulation of transcription by RNA polymerase II', 789),\n",
       " ('G protein-coupled receptor signaling pathway', 757),\n",
       " ('negative regulation of transcription by RNA polymerase II', 591),\n",
       " ('positive regulation of DNA-templated transcription', 486),\n",
       " ('regulation of DNA-templated transcription', 417),\n",
       " ('detection of chemical stimulus involved in sensory perception of smell',\n",
       "  404),\n",
       " ('apoptotic process', 399),\n",
       " ('protein phosphorylation', 397)]"
      ]
     },
     "execution_count": 39,
     "metadata": {},
     "output_type": "execute_result"
    }
   ],
   "source": [
    "[\n",
    "    (term_to_name[term], count)\n",
    "    for term, count in Counter(p_words).most_common(10)\n",
    "]"
   ]
  },
  {
   "cell_type": "code",
   "execution_count": 41,
   "metadata": {},
   "outputs": [
    {
     "data": {
      "text/plain": [
       "<seaborn.axisgrid.FacetGrid at 0x7fda03363c10>"
      ]
     },
     "execution_count": 41,
     "metadata": {},
     "output_type": "execute_result"
    },
    {
     "data": {
      "image/png": "[encoded data removed]",
      "text/plain": [
       "<Figure size 360x360 with 1 Axes>"
      ]
     },
     "metadata": {
      "needs_background": "light"
     },
     "output_type": "display_data"
    }
   ],
   "source": [
    "sns.displot(number_of_process)"
   ]
  },
  {
   "attachments": {},
   "cell_type": "markdown",
   "metadata": {},
   "source": [
    "### Molecular Functions\n",
    "\n",
    "What are the most molecular function terms?"
   ]
  },
  {
   "cell_type": "code",
   "execution_count": 42,
   "metadata": {},
   "outputs": [
    {
     "data": {
      "text/plain": [
       "[('GO:0005515', 6700),\n",
       " ('GO:0046872', 1271),\n",
       " ('GO:0005524', 1030),\n",
       " ('GO:0042802', 1020),\n",
       " ('GO:0003723', 800),\n",
       " ('GO:0000978', 659),\n",
       " ('GO:0000981', 616),\n",
       " ('GO:0003677', 576),\n",
       " ('GO:0004930', 558),\n",
       " ('GO:0042803', 500)]"
      ]
     },
     "execution_count": 42,
     "metadata": {},
     "output_type": "execute_result"
    }
   ],
   "source": [
    "Counter(f_words).most_common(10)"
   ]
  },
  {
   "cell_type": "code",
   "execution_count": 43,
   "metadata": {},
   "outputs": [
    {
     "data": {
      "text/plain": [
       "<seaborn.axisgrid.FacetGrid at 0x7fd9a34a9250>"
      ]
     },
     "execution_count": 43,
     "metadata": {},
     "output_type": "execute_result"
    },
    {
     "data": {
      "image/png": "[encoded data removed]",
      "text/plain": [
       "<Figure size 360x360 with 1 Axes>"
      ]
     },
     "metadata": {
      "needs_background": "light"
     },
     "output_type": "display_data"
    }
   ],
   "source": [
    "sns.displot(number_of_functions)"
   ]
  },
  {
   "attachments": {},
   "cell_type": "markdown",
   "metadata": {},
   "source": [
    "Since we're mostly interested in BPs, how many unique BPs are connected with proteins in our KG?"
   ]
  },
  {
   "cell_type": "code",
   "execution_count": 44,
   "metadata": {},
   "outputs": [
    {
     "data": {
      "text/plain": [
       "11318"
      ]
     },
     "execution_count": 44,
     "metadata": {},
     "output_type": "execute_result"
    }
   ],
   "source": [
    "len(set(p_words))"
   ]
  },
  {
   "attachments": {},
   "cell_type": "markdown",
   "metadata": {},
   "source": [
    "This is way too many. We'll have to find ways to filter them down."
   ]
  },
  {
   "attachments": {},
   "cell_type": "markdown",
   "metadata": {},
   "source": [
    "## Drug-BP Labels\n",
    "\n",
    "Next, we have drug-BP labels which were extracted from [ChEMBL](https://www.ebi.ac.uk/chembl/)."
   ]
  },
  {
   "cell_type": "code",
   "execution_count": 46,
   "metadata": {},
   "outputs": [
    {
     "name": "stderr",
     "output_type": "stream",
     "text": [
      "<ipython-input-46-01477442d34a>:1: DtypeWarning: Columns (0) have mixed types. Specify dtype option on import or set low_memory=False.\n",
      "  chembl_go = pd.read_csv(osp.join(MAPPING_DIR, \"chembl_go.tsv\"), sep=\"\\t\")\n"
     ]
    },
    {
     "data": {
      "text/html": [
       "<div>\n",
       "<style scoped>\n",
       "    .dataframe tbody tr th:only-of-type {\n",
       "        vertical-align: middle;\n",
       "    }\n",
       "\n",
       "    .dataframe tbody tr th {\n",
       "        vertical-align: top;\n",
       "    }\n",
       "\n",
       "    .dataframe thead th {\n",
       "        text-align: right;\n",
       "    }\n",
       "</style>\n",
       "<table border=\"1\" class=\"dataframe\">\n",
       "  <thead>\n",
       "    <tr style=\"text-align: right;\">\n",
       "      <th></th>\n",
       "      <th>pref_name</th>\n",
       "      <th>chembl_idx</th>\n",
       "      <th>smiles</th>\n",
       "      <th>assay_id</th>\n",
       "      <th>pchembl_value</th>\n",
       "      <th>go_id</th>\n",
       "      <th>go_term</th>\n",
       "    </tr>\n",
       "  </thead>\n",
       "  <tbody>\n",
       "    <tr>\n",
       "      <th>0</th>\n",
       "      <td>NaN</td>\n",
       "      <td>CHEMBL344142</td>\n",
       "      <td>C[C@]12CCC(=O)C=C1C(=O)CC1C2CC[C@@]2(C)C1CC[C@...</td>\n",
       "      <td>CHEMBL615157</td>\n",
       "      <td>NaN</td>\n",
       "      <td>GO:0000166</td>\n",
       "      <td>nucleotide binding</td>\n",
       "    </tr>\n",
       "    <tr>\n",
       "      <th>1</th>\n",
       "      <td>NaN</td>\n",
       "      <td>CHEMBL344142</td>\n",
       "      <td>C[C@]12CCC(=O)C=C1C(=O)CC1C2CC[C@@]2(C)C1CC[C@...</td>\n",
       "      <td>CHEMBL615157</td>\n",
       "      <td>NaN</td>\n",
       "      <td>GO:0016491</td>\n",
       "      <td>oxidoreductase activity</td>\n",
       "    </tr>\n",
       "    <tr>\n",
       "      <th>2</th>\n",
       "      <td>SPRIOLACTONE</td>\n",
       "      <td>CHEMBL400534</td>\n",
       "      <td>C[C@]12CCC(=O)C=C1CC[C@@H]1[C@@H]2CC[C@@]2(C)[...</td>\n",
       "      <td>CHEMBL615157</td>\n",
       "      <td>NaN</td>\n",
       "      <td>GO:0000166</td>\n",
       "      <td>nucleotide binding</td>\n",
       "    </tr>\n",
       "    <tr>\n",
       "      <th>3</th>\n",
       "      <td>SPRIOLACTONE</td>\n",
       "      <td>CHEMBL400534</td>\n",
       "      <td>C[C@]12CCC(=O)C=C1CC[C@@H]1[C@@H]2CC[C@@]2(C)[...</td>\n",
       "      <td>CHEMBL615157</td>\n",
       "      <td>NaN</td>\n",
       "      <td>GO:0016491</td>\n",
       "      <td>oxidoreductase activity</td>\n",
       "    </tr>\n",
       "    <tr>\n",
       "      <th>4</th>\n",
       "      <td>NaN</td>\n",
       "      <td>CHEMBL3137945</td>\n",
       "      <td>C[C@]12CC[C@@]3(CCC(=O)O3)CC1CC[C@@H]1[C@@H]2C...</td>\n",
       "      <td>CHEMBL615157</td>\n",
       "      <td>NaN</td>\n",
       "      <td>GO:0000166</td>\n",
       "      <td>nucleotide binding</td>\n",
       "    </tr>\n",
       "  </tbody>\n",
       "</table>\n",
       "</div>"
      ],
      "text/plain": [
       "      pref_name     chembl_idx  \\\n",
       "0           NaN   CHEMBL344142   \n",
       "1           NaN   CHEMBL344142   \n",
       "2  SPRIOLACTONE   CHEMBL400534   \n",
       "3  SPRIOLACTONE   CHEMBL400534   \n",
       "4           NaN  CHEMBL3137945   \n",
       "\n",
       "                                              smiles      assay_id  \\\n",
       "0  C[C@]12CCC(=O)C=C1C(=O)CC1C2CC[C@@]2(C)C1CC[C@...  CHEMBL615157   \n",
       "1  C[C@]12CCC(=O)C=C1C(=O)CC1C2CC[C@@]2(C)C1CC[C@...  CHEMBL615157   \n",
       "2  C[C@]12CCC(=O)C=C1CC[C@@H]1[C@@H]2CC[C@@]2(C)[...  CHEMBL615157   \n",
       "3  C[C@]12CCC(=O)C=C1CC[C@@H]1[C@@H]2CC[C@@]2(C)[...  CHEMBL615157   \n",
       "4  C[C@]12CC[C@@]3(CCC(=O)O3)CC1CC[C@@H]1[C@@H]2C...  CHEMBL615157   \n",
       "\n",
       "   pchembl_value       go_id                  go_term  \n",
       "0            NaN  GO:0000166       nucleotide binding  \n",
       "1            NaN  GO:0016491  oxidoreductase activity  \n",
       "2            NaN  GO:0000166       nucleotide binding  \n",
       "3            NaN  GO:0016491  oxidoreductase activity  \n",
       "4            NaN  GO:0000166       nucleotide binding  "
      ]
     },
     "execution_count": 46,
     "metadata": {},
     "output_type": "execute_result"
    }
   ],
   "source": [
    "chembl_go = pd.read_csv(osp.join(MAPPING_DIR, \"chembl_go.tsv\"), sep=\"\\t\", low_memory=False)\n",
    "chembl_go.head(5)"
   ]
  },
  {
   "attachments": {},
   "cell_type": "markdown",
   "metadata": {},
   "source": [
    "We only want the ones with a positive association, and that cutoff is a PChEMBL value of 6 or higher."
   ]
  },
  {
   "cell_type": "code",
   "execution_count": 47,
   "metadata": {},
   "outputs": [],
   "source": [
    "chembl_go = chembl_go.loc[chembl_go['pchembl_value'] >= 6]"
   ]
  },
  {
   "attachments": {},
   "cell_type": "markdown",
   "metadata": {},
   "source": [
    "Let's just take the columns we want since the df is so large."
   ]
  },
  {
   "cell_type": "code",
   "execution_count": 48,
   "metadata": {},
   "outputs": [],
   "source": [
    "chembl_go = chembl_go[['chembl_idx', 'go_id']]\n",
    "# drop duplicates since some of them were distinct by assay ID:\n",
    "chembl_go.drop_duplicates(inplace=True)"
   ]
  },
  {
   "attachments": {},
   "cell_type": "markdown",
   "metadata": {},
   "source": [
    "How many interactions do we have?"
   ]
  },
  {
   "cell_type": "code",
   "execution_count": 49,
   "metadata": {},
   "outputs": [
    {
     "data": {
      "text/plain": [
       "9703547"
      ]
     },
     "execution_count": 49,
     "metadata": {},
     "output_type": "execute_result"
    }
   ],
   "source": [
    "len(chembl_go)"
   ]
  },
  {
   "attachments": {},
   "cell_type": "markdown",
   "metadata": {},
   "source": [
    "Unique drugs?"
   ]
  },
  {
   "cell_type": "code",
   "execution_count": 50,
   "metadata": {},
   "outputs": [
    {
     "data": {
      "text/plain": [
       "398706"
      ]
     },
     "execution_count": 50,
     "metadata": {},
     "output_type": "execute_result"
    }
   ],
   "source": [
    "len(chembl_go['chembl_idx'].unique())"
   ]
  },
  {
   "attachments": {},
   "cell_type": "markdown",
   "metadata": {},
   "source": [
    "Unique GO terms?"
   ]
  },
  {
   "cell_type": "code",
   "execution_count": 51,
   "metadata": {},
   "outputs": [
    {
     "data": {
      "text/plain": [
       "258"
      ]
     },
     "execution_count": 51,
     "metadata": {},
     "output_type": "execute_result"
    }
   ],
   "source": [
    "chembl_go_terms = set(chembl_go['go_id'])\n",
    "len(chembl_go_terms)"
   ]
  },
  {
   "attachments": {},
   "cell_type": "markdown",
   "metadata": {},
   "source": [
    "How many of these GO terms overlap with the GO BPs we found before?\n",
    "\n",
    "Here I prune the protein-GO BP mappings to include only those proteins in the KG."
   ]
  },
  {
   "cell_type": "code",
   "execution_count": 52,
   "metadata": {},
   "outputs": [],
   "source": [
    "process_ids = {\n",
    "    gene_idx: process_terms\n",
    "    for gene_idx, process_terms in process_keywords.items() \n",
    "    if gene_idx in all_protein_in_kg\n",
    "}"
   ]
  },
  {
   "cell_type": "code",
   "execution_count": 53,
   "metadata": {},
   "outputs": [
    {
     "name": "stdout",
     "output_type": "stream",
     "text": [
      "11318 GO BPs are attached to our KG.\n"
     ]
    }
   ],
   "source": [
    "# GO BPs which are attached to the KG\n",
    "go_bps = set.union(*process_ids.values())\n",
    "# KG Proteins attached to these GO BPs\n",
    "kg_prots_w_bps = set(process_ids.keys())\n",
    "print(f\"{len(go_bps)} GO BPs are attached to our KG.\")"
   ]
  },
  {
   "cell_type": "code",
   "execution_count": 54,
   "metadata": {
    "scrolled": true
   },
   "outputs": [
    {
     "name": "stdout",
     "output_type": "stream",
     "text": [
      "11318 of those GO BPs are also found in the drug-BP dataset from ChEMBL.\n"
     ]
    },
    {
     "data": {
      "text/plain": [
       "63"
      ]
     },
     "execution_count": 54,
     "metadata": {},
     "output_type": "execute_result"
    }
   ],
   "source": [
    "bp_overlap = go_bps & chembl_go_terms\n",
    "print(f\"{len(go_bps)} of those GO BPs are also found in the drug-BP dataset from ChEMBL.\")\n",
    "len(bp_overlap)"
   ]
  },
  {
   "cell_type": "code",
   "execution_count": 55,
   "metadata": {},
   "outputs": [
    {
     "data": {
      "text/plain": [
       "<matplotlib_venn._common.VennDiagram at 0x7fd880316580>"
      ]
     },
     "execution_count": 55,
     "metadata": {},
     "output_type": "execute_result"
    },
    {
     "data": {
      "image/png": "[encoded data removed]",
      "text/plain": [
       "<Figure size 432x288 with 1 Axes>"
      ]
     },
     "metadata": {},
     "output_type": "display_data"
    }
   ],
   "source": [
    "venn2_unweighted(\n",
    "    [go_bps, chembl_go_terms],\n",
    "    set_labels=['GO BPs - Proteins', 'GO BPs - ChEMBL Drugs']\n",
    ")"
   ]
  },
  {
   "attachments": {},
   "cell_type": "markdown",
   "metadata": {},
   "source": [
    "And what if we only want to see those with drugs in our KG?\n",
    "\n",
    "### Mapping KG drugs to those in our KG-BP dataset:\n",
    "\n",
    "First, we need to do mappings between the PubChem IDs in our KG and the ChEMBL IDs here."
   ]
  },
  {
   "cell_type": "code",
   "execution_count": 56,
   "metadata": {},
   "outputs": [],
   "source": [
    "# Get all the KG drugs:\n",
    "obl_drugs = {d for d in openbiolink_df['source'] if 'pubchem.compound' in d}\n",
    "custom_drugs = {d for d in custom_df['source'] if 'pubchem.compound' in d}"
   ]
  },
  {
   "cell_type": "code",
   "execution_count": 57,
   "metadata": {},
   "outputs": [
    {
     "data": {
      "text/plain": [
       "218"
      ]
     },
     "execution_count": 57,
     "metadata": {},
     "output_type": "execute_result"
    }
   ],
   "source": [
    "len(custom_drugs)"
   ]
  },
  {
   "cell_type": "code",
   "execution_count": 58,
   "metadata": {},
   "outputs": [
    {
     "data": {
      "text/plain": [
       "211"
      ]
     },
     "execution_count": 58,
     "metadata": {},
     "output_type": "execute_result"
    }
   ],
   "source": [
    "len(obl_drugs)"
   ]
  },
  {
   "cell_type": "code",
   "execution_count": 59,
   "metadata": {},
   "outputs": [],
   "source": [
    "all_drugs = custom_drugs.union(obl_drugs)"
   ]
  },
  {
   "cell_type": "code",
   "execution_count": 60,
   "metadata": {},
   "outputs": [
    {
     "name": "stdout",
     "output_type": "stream",
     "text": [
      "There are 272 PubChem drugs in the KG.\n"
     ]
    }
   ],
   "source": [
    "print(f\"There are {len(all_drugs)} PubChem drugs in the KG.\")"
   ]
  },
  {
   "attachments": {},
   "cell_type": "markdown",
   "metadata": {},
   "source": [
    "We need to get them without their prefixes:"
   ]
  },
  {
   "cell_type": "code",
   "execution_count": 53,
   "metadata": {},
   "outputs": [],
   "source": [
    "cids = [cid.split(':')[1] for cid in all_drugs]"
   ]
  },
  {
   "attachments": {},
   "cell_type": "markdown",
   "metadata": {},
   "source": [
    "Now we map:"
   ]
  },
  {
   "cell_type": "code",
   "execution_count": 54,
   "metadata": {},
   "outputs": [],
   "source": [
    "def get_pubchem_to_chembl(pubchemids: List[str], chunk_size=100):\n",
    "    \"\"\"Gets mappings from pubchem IDs to ChEMBL IDs.\n",
    "    :param pubchemids: list of CIDs (numbers only, but in string format)\n",
    "    :param chunk_size: the number of CIDs to query at once (100 is default and recommended)\n",
    "    :returns: a dictionary mapping pubchem ID to ChEMBL ID. ChEMBL ID will be None if no mapping exists.\n",
    "    \"\"\"\n",
    "    pubchem2chembl = {}\n",
    "    for i in tqdm(range(0, len(pubchemids), chunk_size)):\n",
    "        cids = \",\".join([str(c) for c in pubchemids[i:i + chunk_size]])\n",
    "        r = requests.get(f'https://pubchem.ncbi.nlm.nih.gov/rest/pug/compound/cid/{cids}/xrefs/RegistryID/json')\n",
    "        xrefs = r.json()['InformationList']['Information']\n",
    "        for x in xrefs:\n",
    "            if 'RegistryID' not in x:\n",
    "                pubchem2chembl[x['CID']] = None\n",
    "                continue\n",
    "            m = re.search(r\"(?!S)CHEMBL\\d+\", ' '.join(x['RegistryID']))\n",
    "            chemblid = m.group(0) if m else None\n",
    "            pubchem2chembl[x['CID']] = chemblid\n",
    "    return pubchem2chembl\n"
   ]
  },
  {
   "cell_type": "code",
   "execution_count": 55,
   "metadata": {},
   "outputs": [
    {
     "name": "stderr",
     "output_type": "stream",
     "text": [
      "100%|██████████| 3/3 [00:31<00:00, 10.46s/it]\n"
     ]
    }
   ],
   "source": [
    "cid2chembl = get_pubchem_to_chembl(cids)"
   ]
  },
  {
   "cell_type": "code",
   "execution_count": 56,
   "metadata": {},
   "outputs": [
    {
     "data": {
      "text/plain": [
       "272"
      ]
     },
     "execution_count": 56,
     "metadata": {},
     "output_type": "execute_result"
    }
   ],
   "source": [
    "len(cid2chembl)"
   ]
  },
  {
   "attachments": {},
   "cell_type": "markdown",
   "metadata": {},
   "source": [
    "How many did not map?"
   ]
  },
  {
   "cell_type": "code",
   "execution_count": 57,
   "metadata": {},
   "outputs": [
    {
     "data": {
      "text/plain": [
       "0"
      ]
     },
     "execution_count": 57,
     "metadata": {},
     "output_type": "execute_result"
    }
   ],
   "source": [
    "len([i for i in cid2chembl.values() if i == None])"
   ]
  },
  {
   "attachments": {},
   "cell_type": "markdown",
   "metadata": {},
   "source": [
    "None of them! Fantastic. We have all the drugs in our KG as ChEMBL IDs. What if we subset the dataframe to have only the drugs in our KGs:"
   ]
  },
  {
   "cell_type": "code",
   "execution_count": 58,
   "metadata": {},
   "outputs": [],
   "source": [
    "# ChEMBL dataset with only rows containing one of the 258 drugs from our KG\n",
    "usable_drug_bps = chembl_go.loc[chembl_go['chembl_idx'].isin(set(cid2chembl.values()))]"
   ]
  },
  {
   "attachments": {},
   "cell_type": "markdown",
   "metadata": {},
   "source": [
    "How many drugs does this leave us with?"
   ]
  },
  {
   "cell_type": "code",
   "execution_count": 59,
   "metadata": {},
   "outputs": [
    {
     "name": "stdout",
     "output_type": "stream",
     "text": [
      "122 drugs left between ChEMBL dataset and KG.\n"
     ]
    }
   ],
   "source": [
    "print(f\"{len(usable_drug_bps['chembl_idx'].unique())} drugs left between ChEMBL dataset and KG.\")"
   ]
  },
  {
   "cell_type": "code",
   "execution_count": 60,
   "metadata": {},
   "outputs": [
    {
     "data": {
      "text/plain": [
       "<matplotlib_venn._common.VennDiagram at 0x17f0c94f0>"
      ]
     },
     "execution_count": 60,
     "metadata": {},
     "output_type": "execute_result"
    },
    {
     "data": {
      "image/png": "[encoded data removed]",
      "text/plain": [
       "<Figure size 640x480 with 1 Axes>"
      ]
     },
     "metadata": {},
     "output_type": "display_data"
    }
   ],
   "source": [
    "venn2_unweighted(\n",
    "    [set(cid2chembl.values()), set(chembl_go['chembl_idx'].unique())],\n",
    "    set_labels=['Drugs in the KG', 'Drugs in the ChEMBL Dataset']\n",
    ")"
   ]
  },
  {
   "attachments": {},
   "cell_type": "markdown",
   "metadata": {},
   "source": [
    "Interactions?"
   ]
  },
  {
   "cell_type": "code",
   "execution_count": 61,
   "metadata": {},
   "outputs": [
    {
     "name": "stdout",
     "output_type": "stream",
     "text": [
      "4861 known drug-BP interactions left.\n"
     ]
    }
   ],
   "source": [
    "print(f\"{len(usable_drug_bps)} known drug-BP interactions left.\")"
   ]
  },
  {
   "attachments": {},
   "cell_type": "markdown",
   "metadata": {},
   "source": [
    "And BPs leftover?"
   ]
  },
  {
   "cell_type": "code",
   "execution_count": 62,
   "metadata": {},
   "outputs": [
    {
     "data": {
      "text/plain": [
       "197"
      ]
     },
     "execution_count": 62,
     "metadata": {},
     "output_type": "execute_result"
    }
   ],
   "source": [
    "chembl_go_terms = set(usable_drug_bps['go_id'])\n",
    "len(chembl_go_terms)"
   ]
  },
  {
   "cell_type": "code",
   "execution_count": 63,
   "metadata": {
    "scrolled": true
   },
   "outputs": [
    {
     "name": "stdout",
     "output_type": "stream",
     "text": [
      "76 GO BPs left between ChEMBL dataset and KG.\n"
     ]
    }
   ],
   "source": [
    "bp_overlap = go_bps & chembl_go_terms\n",
    "print(f\"{len(bp_overlap)} GO BPs left between ChEMBL dataset and KG.\")"
   ]
  },
  {
   "cell_type": "code",
   "execution_count": 64,
   "metadata": {},
   "outputs": [
    {
     "data": {
      "text/plain": [
       "<matplotlib_venn._common.VennDiagram at 0x17f203640>"
      ]
     },
     "execution_count": 64,
     "metadata": {},
     "output_type": "execute_result"
    },
    {
     "data": {
      "image/png": "[encoded data removed]",
      "text/plain": [
       "<Figure size 640x480 with 1 Axes>"
      ]
     },
     "metadata": {},
     "output_type": "display_data"
    }
   ],
   "source": [
    "venn2_unweighted(\n",
    "    [go_bps, chembl_go_terms],\n",
    "    set_labels=['GO BPs attached to KG Proteins', 'GO BPs attached to ChEMBL Drugs']\n",
    ")"
   ]
  },
  {
   "attachments": {},
   "cell_type": "markdown",
   "metadata": {},
   "source": [
    "That's still a good amount- we only lost one! Okay, let's just subset the dataframe to the GO BPs in the intersection and continue:"
   ]
  },
  {
   "cell_type": "code",
   "execution_count": 65,
   "metadata": {},
   "outputs": [],
   "source": [
    "# ChEMBL dataset with only rows containing one of the 79 GO BPs attached to proteins in KG\n",
    "usable_drug_bps = usable_drug_bps.loc[usable_drug_bps['go_id'].isin(bp_overlap)]"
   ]
  },
  {
   "attachments": {},
   "cell_type": "markdown",
   "metadata": {},
   "source": [
    "Let's investigate what the BP terms are and how many proteins/drugs each are connected to.\n",
    "\n",
    "First, subset the GO ID to term dictionary:"
   ]
  },
  {
   "cell_type": "code",
   "execution_count": 66,
   "metadata": {},
   "outputs": [
    {
     "data": {
      "text/plain": [
       "76"
      ]
     },
     "execution_count": 66,
     "metadata": {},
     "output_type": "execute_result"
    }
   ],
   "source": [
    "sub_id2term = {key: val for key, val in id2term.items() if key in bp_overlap}\n",
    "len(sub_id2term)"
   ]
  },
  {
   "attachments": {},
   "cell_type": "markdown",
   "metadata": {},
   "source": [
    "Next, get the number of drugs associated with each GO term:"
   ]
  },
  {
   "cell_type": "code",
   "execution_count": 67,
   "metadata": {},
   "outputs": [],
   "source": [
    "go2drugno = Counter(usable_drug_bps['go_id'])"
   ]
  },
  {
   "cell_type": "code",
   "execution_count": 68,
   "metadata": {},
   "outputs": [
    {
     "data": {
      "text/plain": [
       "76"
      ]
     },
     "execution_count": 68,
     "metadata": {},
     "output_type": "execute_result"
    }
   ],
   "source": [
    "len(go2drugno)"
   ]
  },
  {
   "attachments": {},
   "cell_type": "markdown",
   "metadata": {},
   "source": [
    "And finally, get the number of proteins per GO term:"
   ]
  },
  {
   "cell_type": "code",
   "execution_count": 69,
   "metadata": {},
   "outputs": [
    {
     "data": {
      "text/html": [
       "<div>\n",
       "<style scoped>\n",
       "    .dataframe tbody tr th:only-of-type {\n",
       "        vertical-align: middle;\n",
       "    }\n",
       "\n",
       "    .dataframe tbody tr th {\n",
       "        vertical-align: top;\n",
       "    }\n",
       "\n",
       "    .dataframe thead th {\n",
       "        text-align: right;\n",
       "    }\n",
       "</style>\n",
       "<table border=\"1\" class=\"dataframe\">\n",
       "  <thead>\n",
       "    <tr style=\"text-align: right;\">\n",
       "      <th></th>\n",
       "      <th>#tax_id</th>\n",
       "      <th>GeneID</th>\n",
       "      <th>GO_ID</th>\n",
       "      <th>Evidence</th>\n",
       "      <th>Qualifier</th>\n",
       "      <th>GO_term</th>\n",
       "      <th>PubMed</th>\n",
       "      <th>Category</th>\n",
       "    </tr>\n",
       "  </thead>\n",
       "  <tbody>\n",
       "    <tr>\n",
       "      <th>812115</th>\n",
       "      <td>9606</td>\n",
       "      <td>ncbigene:1</td>\n",
       "      <td>GO:0003674</td>\n",
       "      <td>ND</td>\n",
       "      <td>enables</td>\n",
       "      <td>molecular_function</td>\n",
       "      <td>-</td>\n",
       "      <td>Function</td>\n",
       "    </tr>\n",
       "    <tr>\n",
       "      <th>812116</th>\n",
       "      <td>9606</td>\n",
       "      <td>ncbigene:1</td>\n",
       "      <td>GO:0005576</td>\n",
       "      <td>HDA</td>\n",
       "      <td>located_in</td>\n",
       "      <td>extracellular region</td>\n",
       "      <td>27068509</td>\n",
       "      <td>Component</td>\n",
       "    </tr>\n",
       "    <tr>\n",
       "      <th>812117</th>\n",
       "      <td>9606</td>\n",
       "      <td>ncbigene:1</td>\n",
       "      <td>GO:0005576</td>\n",
       "      <td>IDA</td>\n",
       "      <td>located_in</td>\n",
       "      <td>extracellular region</td>\n",
       "      <td>3458201</td>\n",
       "      <td>Component</td>\n",
       "    </tr>\n",
       "    <tr>\n",
       "      <th>812118</th>\n",
       "      <td>9606</td>\n",
       "      <td>ncbigene:1</td>\n",
       "      <td>GO:0005576</td>\n",
       "      <td>TAS</td>\n",
       "      <td>located_in</td>\n",
       "      <td>extracellular region</td>\n",
       "      <td>-</td>\n",
       "      <td>Component</td>\n",
       "    </tr>\n",
       "    <tr>\n",
       "      <th>812119</th>\n",
       "      <td>9606</td>\n",
       "      <td>ncbigene:1</td>\n",
       "      <td>GO:0005615</td>\n",
       "      <td>HDA</td>\n",
       "      <td>located_in</td>\n",
       "      <td>extracellular space</td>\n",
       "      <td>16502470</td>\n",
       "      <td>Component</td>\n",
       "    </tr>\n",
       "    <tr>\n",
       "      <th>...</th>\n",
       "      <td>...</td>\n",
       "      <td>...</td>\n",
       "      <td>...</td>\n",
       "      <td>...</td>\n",
       "      <td>...</td>\n",
       "      <td>...</td>\n",
       "      <td>...</td>\n",
       "      <td>...</td>\n",
       "    </tr>\n",
       "    <tr>\n",
       "      <th>1157942</th>\n",
       "      <td>9606</td>\n",
       "      <td>ncbigene:125316803</td>\n",
       "      <td>GO:0005615</td>\n",
       "      <td>IDA</td>\n",
       "      <td>located_in</td>\n",
       "      <td>extracellular space</td>\n",
       "      <td>32958672</td>\n",
       "      <td>Component</td>\n",
       "    </tr>\n",
       "    <tr>\n",
       "      <th>1157943</th>\n",
       "      <td>9606</td>\n",
       "      <td>ncbigene:125316803</td>\n",
       "      <td>GO:0005730</td>\n",
       "      <td>IDA</td>\n",
       "      <td>located_in</td>\n",
       "      <td>nucleolus</td>\n",
       "      <td>32958672</td>\n",
       "      <td>Component</td>\n",
       "    </tr>\n",
       "    <tr>\n",
       "      <th>1157944</th>\n",
       "      <td>9606</td>\n",
       "      <td>ncbigene:127138866</td>\n",
       "      <td>GO:0003674</td>\n",
       "      <td>ND</td>\n",
       "      <td>enables</td>\n",
       "      <td>molecular_function</td>\n",
       "      <td>-</td>\n",
       "      <td>Function</td>\n",
       "    </tr>\n",
       "    <tr>\n",
       "      <th>1157945</th>\n",
       "      <td>9606</td>\n",
       "      <td>ncbigene:127138866</td>\n",
       "      <td>GO:0008150</td>\n",
       "      <td>ND</td>\n",
       "      <td>involved_in</td>\n",
       "      <td>biological_process</td>\n",
       "      <td>-</td>\n",
       "      <td>Process</td>\n",
       "    </tr>\n",
       "    <tr>\n",
       "      <th>1157946</th>\n",
       "      <td>9606</td>\n",
       "      <td>ncbigene:127138866</td>\n",
       "      <td>GO:0016020</td>\n",
       "      <td>IEA</td>\n",
       "      <td>located_in</td>\n",
       "      <td>membrane</td>\n",
       "      <td>-</td>\n",
       "      <td>Component</td>\n",
       "    </tr>\n",
       "  </tbody>\n",
       "</table>\n",
       "<p>345832 rows × 8 columns</p>\n",
       "</div>"
      ],
      "text/plain": [
       "        #tax_id              GeneID       GO_ID Evidence    Qualifier  \\\n",
       "812115     9606          ncbigene:1  GO:0003674       ND      enables   \n",
       "812116     9606          ncbigene:1  GO:0005576      HDA   located_in   \n",
       "812117     9606          ncbigene:1  GO:0005576      IDA   located_in   \n",
       "812118     9606          ncbigene:1  GO:0005576      TAS   located_in   \n",
       "812119     9606          ncbigene:1  GO:0005615      HDA   located_in   \n",
       "...         ...                 ...         ...      ...          ...   \n",
       "1157942    9606  ncbigene:125316803  GO:0005615      IDA   located_in   \n",
       "1157943    9606  ncbigene:125316803  GO:0005730      IDA   located_in   \n",
       "1157944    9606  ncbigene:127138866  GO:0003674       ND      enables   \n",
       "1157945    9606  ncbigene:127138866  GO:0008150       ND  involved_in   \n",
       "1157946    9606  ncbigene:127138866  GO:0016020      IEA   located_in   \n",
       "\n",
       "                      GO_term    PubMed   Category  \n",
       "812115     molecular_function         -   Function  \n",
       "812116   extracellular region  27068509  Component  \n",
       "812117   extracellular region   3458201  Component  \n",
       "812118   extracellular region         -  Component  \n",
       "812119    extracellular space  16502470  Component  \n",
       "...                       ...       ...        ...  \n",
       "1157942   extracellular space  32958672  Component  \n",
       "1157943             nucleolus  32958672  Component  \n",
       "1157944    molecular_function         -   Function  \n",
       "1157945    biological_process         -    Process  \n",
       "1157946              membrane         -  Component  \n",
       "\n",
       "[345832 rows x 8 columns]"
      ]
     },
     "execution_count": 69,
     "metadata": {},
     "output_type": "execute_result"
    }
   ],
   "source": [
    "process_df"
   ]
  },
  {
   "cell_type": "code",
   "execution_count": 70,
   "metadata": {},
   "outputs": [],
   "source": [
    "usable_prot_bps = process_df.loc[process_df['GO_ID'].isin(bp_overlap) & process_df['GeneID'].isin(kg_prots_w_bps)]"
   ]
  },
  {
   "cell_type": "code",
   "execution_count": 71,
   "metadata": {},
   "outputs": [
    {
     "data": {
      "text/plain": [
       "array(['Process'], dtype=object)"
      ]
     },
     "execution_count": 71,
     "metadata": {},
     "output_type": "execute_result"
    }
   ],
   "source": [
    "# make sure there are only BPs in there:\n",
    "usable_prot_bps['Category'].unique()"
   ]
  },
  {
   "cell_type": "code",
   "execution_count": 72,
   "metadata": {},
   "outputs": [
    {
     "data": {
      "text/plain": [
       "4922"
      ]
     },
     "execution_count": 72,
     "metadata": {},
     "output_type": "execute_result"
    }
   ],
   "source": [
    "usable_prot_bps = usable_prot_bps[['GeneID', 'GO_ID']]\n",
    "usable_prot_bps.drop_duplicates(inplace=True)\n",
    "len(usable_prot_bps)"
   ]
  },
  {
   "cell_type": "code",
   "execution_count": 73,
   "metadata": {},
   "outputs": [],
   "source": [
    "go2protno = Counter(usable_prot_bps['GO_ID'])"
   ]
  },
  {
   "cell_type": "code",
   "execution_count": 74,
   "metadata": {},
   "outputs": [
    {
     "data": {
      "text/plain": [
       "76"
      ]
     },
     "execution_count": 74,
     "metadata": {},
     "output_type": "execute_result"
    }
   ],
   "source": [
    "len(go2protno)"
   ]
  },
  {
   "cell_type": "code",
   "execution_count": 75,
   "metadata": {},
   "outputs": [],
   "source": [
    "feasible_go_bps = pd.DataFrame(sub_id2term.items(), columns=['go_id', 'go_term'])\n",
    "feasible_go_bps['num_drugs'] = feasible_go_bps['go_id'].map(go2drugno)\n",
    "feasible_go_bps['num_prots'] = feasible_go_bps['go_id'].map(go2protno)"
   ]
  },
  {
   "cell_type": "code",
   "execution_count": 76,
   "metadata": {},
   "outputs": [
    {
     "data": {
      "text/html": [
       "<div>\n",
       "<style scoped>\n",
       "    .dataframe tbody tr th:only-of-type {\n",
       "        vertical-align: middle;\n",
       "    }\n",
       "\n",
       "    .dataframe tbody tr th {\n",
       "        vertical-align: top;\n",
       "    }\n",
       "\n",
       "    .dataframe thead th {\n",
       "        text-align: right;\n",
       "    }\n",
       "</style>\n",
       "<table border=\"1\" class=\"dataframe\">\n",
       "  <thead>\n",
       "    <tr style=\"text-align: right;\">\n",
       "      <th></th>\n",
       "      <th>go_id</th>\n",
       "      <th>go_term</th>\n",
       "      <th>num_drugs</th>\n",
       "      <th>num_prots</th>\n",
       "    </tr>\n",
       "  </thead>\n",
       "  <tbody>\n",
       "    <tr>\n",
       "      <th>0</th>\n",
       "      <td>GO:0008150</td>\n",
       "      <td>biological_process</td>\n",
       "      <td>113</td>\n",
       "      <td>93</td>\n",
       "    </tr>\n",
       "    <tr>\n",
       "      <th>1</th>\n",
       "      <td>GO:0010951</td>\n",
       "      <td>negative regulation of endopeptidase activity</td>\n",
       "      <td>6</td>\n",
       "      <td>33</td>\n",
       "    </tr>\n",
       "    <tr>\n",
       "      <th>2</th>\n",
       "      <td>GO:0006805</td>\n",
       "      <td>xenobiotic metabolic process</td>\n",
       "      <td>30</td>\n",
       "      <td>92</td>\n",
       "    </tr>\n",
       "    <tr>\n",
       "      <th>3</th>\n",
       "      <td>GO:0006629</td>\n",
       "      <td>lipid metabolic process</td>\n",
       "      <td>49</td>\n",
       "      <td>104</td>\n",
       "    </tr>\n",
       "    <tr>\n",
       "      <th>4</th>\n",
       "      <td>GO:0030154</td>\n",
       "      <td>cell differentiation</td>\n",
       "      <td>53</td>\n",
       "      <td>285</td>\n",
       "    </tr>\n",
       "    <tr>\n",
       "      <th>...</th>\n",
       "      <td>...</td>\n",
       "      <td>...</td>\n",
       "      <td>...</td>\n",
       "      <td>...</td>\n",
       "    </tr>\n",
       "    <tr>\n",
       "      <th>71</th>\n",
       "      <td>GO:0022618</td>\n",
       "      <td>protein-RNA complex assembly</td>\n",
       "      <td>9</td>\n",
       "      <td>1</td>\n",
       "    </tr>\n",
       "    <tr>\n",
       "      <th>72</th>\n",
       "      <td>GO:0009056</td>\n",
       "      <td>catabolic process</td>\n",
       "      <td>47</td>\n",
       "      <td>1</td>\n",
       "    </tr>\n",
       "    <tr>\n",
       "      <th>73</th>\n",
       "      <td>GO:0022607</td>\n",
       "      <td>cellular component assembly</td>\n",
       "      <td>31</td>\n",
       "      <td>1</td>\n",
       "    </tr>\n",
       "    <tr>\n",
       "      <th>74</th>\n",
       "      <td>GO:0007034</td>\n",
       "      <td>vacuolar transport</td>\n",
       "      <td>7</td>\n",
       "      <td>2</td>\n",
       "    </tr>\n",
       "    <tr>\n",
       "      <th>75</th>\n",
       "      <td>GO:0044281</td>\n",
       "      <td>small molecule metabolic process</td>\n",
       "      <td>66</td>\n",
       "      <td>1</td>\n",
       "    </tr>\n",
       "  </tbody>\n",
       "</table>\n",
       "<p>76 rows × 4 columns</p>\n",
       "</div>"
      ],
      "text/plain": [
       "         go_id                                        go_term  num_drugs  \\\n",
       "0   GO:0008150                             biological_process        113   \n",
       "1   GO:0010951  negative regulation of endopeptidase activity          6   \n",
       "2   GO:0006805                   xenobiotic metabolic process         30   \n",
       "3   GO:0006629                        lipid metabolic process         49   \n",
       "4   GO:0030154                           cell differentiation         53   \n",
       "..         ...                                            ...        ...   \n",
       "71  GO:0022618                   protein-RNA complex assembly          9   \n",
       "72  GO:0009056                              catabolic process         47   \n",
       "73  GO:0022607                    cellular component assembly         31   \n",
       "74  GO:0007034                             vacuolar transport          7   \n",
       "75  GO:0044281               small molecule metabolic process         66   \n",
       "\n",
       "    num_prots  \n",
       "0          93  \n",
       "1          33  \n",
       "2          92  \n",
       "3         104  \n",
       "4         285  \n",
       "..        ...  \n",
       "71          1  \n",
       "72          1  \n",
       "73          1  \n",
       "74          2  \n",
       "75          1  \n",
       "\n",
       "[76 rows x 4 columns]"
      ]
     },
     "execution_count": 76,
     "metadata": {},
     "output_type": "execute_result"
    }
   ],
   "source": [
    "feasible_go_bps"
   ]
  },
  {
   "cell_type": "code",
   "execution_count": 77,
   "metadata": {},
   "outputs": [],
   "source": [
    "feasible_go_bps.to_csv(osp.join(KG_DIR, 'feasible_go_bps.tsv'), sep='\\t')"
   ]
  },
  {
   "cell_type": "code",
   "execution_count": 78,
   "metadata": {},
   "outputs": [
    {
     "name": "stdout",
     "output_type": "stream",
     "text": [
      "2027 drug-BP interactions left.\n"
     ]
    }
   ],
   "source": [
    "print(f\"{len(usable_drug_bps)} drug-BP interactions left.\")"
   ]
  },
  {
   "cell_type": "code",
   "execution_count": 79,
   "metadata": {},
   "outputs": [
    {
     "name": "stdout",
     "output_type": "stream",
     "text": [
      "120 drugs left.\n"
     ]
    }
   ],
   "source": [
    "print(f\"{len(usable_drug_bps['chembl_idx'].unique())} drugs left.\")"
   ]
  },
  {
   "attachments": {},
   "cell_type": "markdown",
   "metadata": {},
   "source": [
    "What proportion of our dataset is positive labels?"
   ]
  },
  {
   "cell_type": "code",
   "execution_count": 80,
   "metadata": {},
   "outputs": [
    {
     "data": {
      "text/plain": [
       "0.22225877192982457"
      ]
     },
     "execution_count": 80,
     "metadata": {},
     "output_type": "execute_result"
    }
   ],
   "source": [
    "len(usable_drug_bps) / (len(usable_drug_bps['chembl_idx'].unique()) * len(bp_overlap))"
   ]
  },
  {
   "attachments": {},
   "cell_type": "markdown",
   "metadata": {},
   "source": [
    "## KG Combination\n",
    "\n",
    "Here, I combine the various edge types to create one KG"
   ]
  },
  {
   "attachments": {},
   "cell_type": "markdown",
   "metadata": {},
   "source": [
    "Protein to Protein AND Compound to Protein Edges:"
   ]
  },
  {
   "cell_type": "code",
   "execution_count": 81,
   "metadata": {},
   "outputs": [],
   "source": [
    "protein_kg = pd.concat([openbiolink_df, custom_df], ignore_index=True)\n",
    "\n",
    "new_protein_kg = {'source': [],\n",
    "                  'source_node_type': [],\n",
    "                  'target': [],\n",
    "                  'target_node_type': [],\n",
    "                  'edge_type': []}\n",
    "\n",
    "for i, row in protein_kg.iterrows():\n",
    "    src_type = 'Compound' if 'compound' in row['source'] else 'Gene'\n",
    "    snk_type = 'Gene'\n",
    "\n",
    "    if src_type == 'Gene':  # if it's protein-protein\n",
    "        edge_type = 'interacts'\n",
    "\n",
    "        if row['polarity'] == -1:\n",
    "            src = row['target']\n",
    "            snk = row['source']\n",
    "        else:\n",
    "            src = row['source']\n",
    "            snk = row['target']\n",
    "\n",
    "    else:  # if it's compound-protein\n",
    "        if row['polarity'] == -1:\n",
    "            edge_type = 'downregulates'\n",
    "        else:\n",
    "            edge_type = 'upregulates'\n",
    "\n",
    "        src = row['source']\n",
    "        snk = row['target']\n",
    "\n",
    "    new_protein_kg['source'].append(src)\n",
    "    new_protein_kg['source_node_type'].append(src_type)\n",
    "    new_protein_kg['target'].append(snk)\n",
    "    new_protein_kg['target_node_type'].append(snk_type)\n",
    "    new_protein_kg['edge_type'].append(edge_type)\n",
    "\n",
    "\n",
    "new_protein_kg = pd.DataFrame(new_protein_kg)"
   ]
  },
  {
   "cell_type": "code",
   "execution_count": 82,
   "metadata": {},
   "outputs": [
    {
     "data": {
      "text/html": [
       "<div>\n",
       "<style scoped>\n",
       "    .dataframe tbody tr th:only-of-type {\n",
       "        vertical-align: middle;\n",
       "    }\n",
       "\n",
       "    .dataframe tbody tr th {\n",
       "        vertical-align: top;\n",
       "    }\n",
       "\n",
       "    .dataframe thead th {\n",
       "        text-align: right;\n",
       "    }\n",
       "</style>\n",
       "<table border=\"1\" class=\"dataframe\">\n",
       "  <thead>\n",
       "    <tr style=\"text-align: right;\">\n",
       "      <th></th>\n",
       "      <th>source</th>\n",
       "      <th>source_node_type</th>\n",
       "      <th>target</th>\n",
       "      <th>target_node_type</th>\n",
       "      <th>edge_type</th>\n",
       "    </tr>\n",
       "  </thead>\n",
       "  <tbody>\n",
       "    <tr>\n",
       "      <th>0</th>\n",
       "      <td>pubchem.compound:10607</td>\n",
       "      <td>Compound</td>\n",
       "      <td>ncbigene:3553</td>\n",
       "      <td>Gene</td>\n",
       "      <td>upregulates</td>\n",
       "    </tr>\n",
       "    <tr>\n",
       "      <th>1</th>\n",
       "      <td>pubchem.compound:10607</td>\n",
       "      <td>Compound</td>\n",
       "      <td>ncbigene:203068</td>\n",
       "      <td>Gene</td>\n",
       "      <td>downregulates</td>\n",
       "    </tr>\n",
       "    <tr>\n",
       "      <th>2</th>\n",
       "      <td>pubchem.compound:10607</td>\n",
       "      <td>Compound</td>\n",
       "      <td>ncbigene:54658</td>\n",
       "      <td>Gene</td>\n",
       "      <td>downregulates</td>\n",
       "    </tr>\n",
       "    <tr>\n",
       "      <th>3</th>\n",
       "      <td>pubchem.compound:10607</td>\n",
       "      <td>Compound</td>\n",
       "      <td>ncbigene:7153</td>\n",
       "      <td>Gene</td>\n",
       "      <td>downregulates</td>\n",
       "    </tr>\n",
       "    <tr>\n",
       "      <th>4</th>\n",
       "      <td>pubchem.compound:10607</td>\n",
       "      <td>Compound</td>\n",
       "      <td>ncbigene:7277</td>\n",
       "      <td>Gene</td>\n",
       "      <td>downregulates</td>\n",
       "    </tr>\n",
       "  </tbody>\n",
       "</table>\n",
       "</div>"
      ],
      "text/plain": [
       "                   source source_node_type           target target_node_type  \\\n",
       "0  pubchem.compound:10607         Compound    ncbigene:3553             Gene   \n",
       "1  pubchem.compound:10607         Compound  ncbigene:203068             Gene   \n",
       "2  pubchem.compound:10607         Compound   ncbigene:54658             Gene   \n",
       "3  pubchem.compound:10607         Compound    ncbigene:7153             Gene   \n",
       "4  pubchem.compound:10607         Compound    ncbigene:7277             Gene   \n",
       "\n",
       "       edge_type  \n",
       "0    upregulates  \n",
       "1  downregulates  \n",
       "2  downregulates  \n",
       "3  downregulates  \n",
       "4  downregulates  "
      ]
     },
     "execution_count": 82,
     "metadata": {},
     "output_type": "execute_result"
    }
   ],
   "source": [
    "new_protein_kg.head()"
   ]
  },
  {
   "attachments": {},
   "cell_type": "markdown",
   "metadata": {},
   "source": [
    "Gene to GO BP edges:"
   ]
  },
  {
   "cell_type": "code",
   "execution_count": 83,
   "metadata": {},
   "outputs": [
    {
     "data": {
      "text/html": [
       "<div>\n",
       "<style scoped>\n",
       "    .dataframe tbody tr th:only-of-type {\n",
       "        vertical-align: middle;\n",
       "    }\n",
       "\n",
       "    .dataframe tbody tr th {\n",
       "        vertical-align: top;\n",
       "    }\n",
       "\n",
       "    .dataframe thead th {\n",
       "        text-align: right;\n",
       "    }\n",
       "</style>\n",
       "<table border=\"1\" class=\"dataframe\">\n",
       "  <thead>\n",
       "    <tr style=\"text-align: right;\">\n",
       "      <th></th>\n",
       "      <th>source</th>\n",
       "      <th>source_node_type</th>\n",
       "      <th>target</th>\n",
       "      <th>target_node_type</th>\n",
       "      <th>edge_type</th>\n",
       "    </tr>\n",
       "  </thead>\n",
       "  <tbody>\n",
       "    <tr>\n",
       "      <th>812144</th>\n",
       "      <td>ncbigene:2</td>\n",
       "      <td>Gene</td>\n",
       "      <td>GO:0010951</td>\n",
       "      <td>Biological Process</td>\n",
       "      <td>participates</td>\n",
       "    </tr>\n",
       "    <tr>\n",
       "      <th>812166</th>\n",
       "      <td>ncbigene:9</td>\n",
       "      <td>Gene</td>\n",
       "      <td>GO:0006805</td>\n",
       "      <td>Biological Process</td>\n",
       "      <td>participates</td>\n",
       "    </tr>\n",
       "    <tr>\n",
       "      <th>812171</th>\n",
       "      <td>ncbigene:10</td>\n",
       "      <td>Gene</td>\n",
       "      <td>GO:0006805</td>\n",
       "      <td>Biological Process</td>\n",
       "      <td>participates</td>\n",
       "    </tr>\n",
       "    <tr>\n",
       "      <th>812184</th>\n",
       "      <td>ncbigene:12</td>\n",
       "      <td>Gene</td>\n",
       "      <td>GO:0010951</td>\n",
       "      <td>Biological Process</td>\n",
       "      <td>participates</td>\n",
       "    </tr>\n",
       "    <tr>\n",
       "      <th>812200</th>\n",
       "      <td>ncbigene:13</td>\n",
       "      <td>Gene</td>\n",
       "      <td>GO:0006629</td>\n",
       "      <td>Biological Process</td>\n",
       "      <td>participates</td>\n",
       "    </tr>\n",
       "    <tr>\n",
       "      <th>812201</th>\n",
       "      <td>ncbigene:13</td>\n",
       "      <td>Gene</td>\n",
       "      <td>GO:0006805</td>\n",
       "      <td>Biological Process</td>\n",
       "      <td>participates</td>\n",
       "    </tr>\n",
       "    <tr>\n",
       "      <th>812410</th>\n",
       "      <td>ncbigene:20</td>\n",
       "      <td>Gene</td>\n",
       "      <td>GO:0006629</td>\n",
       "      <td>Biological Process</td>\n",
       "      <td>participates</td>\n",
       "    </tr>\n",
       "    <tr>\n",
       "      <th>812440</th>\n",
       "      <td>ncbigene:20</td>\n",
       "      <td>Gene</td>\n",
       "      <td>GO:0055085</td>\n",
       "      <td>Biological Process</td>\n",
       "      <td>participates</td>\n",
       "    </tr>\n",
       "    <tr>\n",
       "      <th>812521</th>\n",
       "      <td>ncbigene:22</td>\n",
       "      <td>Gene</td>\n",
       "      <td>GO:0055085</td>\n",
       "      <td>Biological Process</td>\n",
       "      <td>participates</td>\n",
       "    </tr>\n",
       "    <tr>\n",
       "      <th>812568</th>\n",
       "      <td>ncbigene:24</td>\n",
       "      <td>Gene</td>\n",
       "      <td>GO:0055085</td>\n",
       "      <td>Biological Process</td>\n",
       "      <td>participates</td>\n",
       "    </tr>\n",
       "  </tbody>\n",
       "</table>\n",
       "</div>"
      ],
      "text/plain": [
       "             source source_node_type      target    target_node_type  \\\n",
       "812144   ncbigene:2             Gene  GO:0010951  Biological Process   \n",
       "812166   ncbigene:9             Gene  GO:0006805  Biological Process   \n",
       "812171  ncbigene:10             Gene  GO:0006805  Biological Process   \n",
       "812184  ncbigene:12             Gene  GO:0010951  Biological Process   \n",
       "812200  ncbigene:13             Gene  GO:0006629  Biological Process   \n",
       "812201  ncbigene:13             Gene  GO:0006805  Biological Process   \n",
       "812410  ncbigene:20             Gene  GO:0006629  Biological Process   \n",
       "812440  ncbigene:20             Gene  GO:0055085  Biological Process   \n",
       "812521  ncbigene:22             Gene  GO:0055085  Biological Process   \n",
       "812568  ncbigene:24             Gene  GO:0055085  Biological Process   \n",
       "\n",
       "           edge_type  \n",
       "812144  participates  \n",
       "812166  participates  \n",
       "812171  participates  \n",
       "812184  participates  \n",
       "812200  participates  \n",
       "812201  participates  \n",
       "812410  participates  \n",
       "812440  participates  \n",
       "812521  participates  \n",
       "812568  participates  "
      ]
     },
     "execution_count": 83,
     "metadata": {},
     "output_type": "execute_result"
    }
   ],
   "source": [
    "usable_prot_bps['source_node_type'] = ['Gene' for i in range(len(usable_prot_bps))]\n",
    "usable_prot_bps['target_node_type'] = ['Biological Process' for i in range(len(usable_prot_bps))]\n",
    "usable_prot_bps['edge_type'] = ['participates' for i in range(len(usable_prot_bps))]\n",
    "usable_prot_bps.rename(columns={'GeneID': 'source',\n",
    "                                'GO_ID': 'target'}, inplace=True)\n",
    "usable_prot_bps = usable_prot_bps[['source', 'source_node_type', 'target','target_node_type', 'edge_type']]\n",
    "usable_prot_bps.head(10)"
   ]
  },
  {
   "attachments": {},
   "cell_type": "markdown",
   "metadata": {},
   "source": [
    "Drug / Compound to GO BP edges:"
   ]
  },
  {
   "cell_type": "code",
   "execution_count": 84,
   "metadata": {},
   "outputs": [
    {
     "data": {
      "text/html": [
       "<div>\n",
       "<style scoped>\n",
       "    .dataframe tbody tr th:only-of-type {\n",
       "        vertical-align: middle;\n",
       "    }\n",
       "\n",
       "    .dataframe tbody tr th {\n",
       "        vertical-align: top;\n",
       "    }\n",
       "\n",
       "    .dataframe thead th {\n",
       "        text-align: right;\n",
       "    }\n",
       "</style>\n",
       "<table border=\"1\" class=\"dataframe\">\n",
       "  <thead>\n",
       "    <tr style=\"text-align: right;\">\n",
       "      <th></th>\n",
       "      <th>source</th>\n",
       "      <th>source_node_type</th>\n",
       "      <th>target</th>\n",
       "      <th>target_node_type</th>\n",
       "      <th>edge_type</th>\n",
       "    </tr>\n",
       "  </thead>\n",
       "  <tbody>\n",
       "    <tr>\n",
       "      <th>7839</th>\n",
       "      <td>CHEMBL500</td>\n",
       "      <td>Gene</td>\n",
       "      <td>GO:0007165</td>\n",
       "      <td>Biological Process</td>\n",
       "      <td>participates</td>\n",
       "    </tr>\n",
       "    <tr>\n",
       "      <th>7840</th>\n",
       "      <td>CHEMBL500</td>\n",
       "      <td>Gene</td>\n",
       "      <td>GO:0007267</td>\n",
       "      <td>Biological Process</td>\n",
       "      <td>participates</td>\n",
       "    </tr>\n",
       "    <tr>\n",
       "      <th>7841</th>\n",
       "      <td>CHEMBL500</td>\n",
       "      <td>Gene</td>\n",
       "      <td>GO:0008150</td>\n",
       "      <td>Biological Process</td>\n",
       "      <td>participates</td>\n",
       "    </tr>\n",
       "    <tr>\n",
       "      <th>19875</th>\n",
       "      <td>CHEMBL85</td>\n",
       "      <td>Gene</td>\n",
       "      <td>GO:0005975</td>\n",
       "      <td>Biological Process</td>\n",
       "      <td>participates</td>\n",
       "    </tr>\n",
       "    <tr>\n",
       "      <th>19876</th>\n",
       "      <td>CHEMBL85</td>\n",
       "      <td>Gene</td>\n",
       "      <td>GO:0006091</td>\n",
       "      <td>Biological Process</td>\n",
       "      <td>participates</td>\n",
       "    </tr>\n",
       "    <tr>\n",
       "      <th>19877</th>\n",
       "      <td>CHEMBL85</td>\n",
       "      <td>Gene</td>\n",
       "      <td>GO:0007165</td>\n",
       "      <td>Biological Process</td>\n",
       "      <td>participates</td>\n",
       "    </tr>\n",
       "    <tr>\n",
       "      <th>19878</th>\n",
       "      <td>CHEMBL85</td>\n",
       "      <td>Gene</td>\n",
       "      <td>GO:0007267</td>\n",
       "      <td>Biological Process</td>\n",
       "      <td>participates</td>\n",
       "    </tr>\n",
       "    <tr>\n",
       "      <th>19880</th>\n",
       "      <td>CHEMBL85</td>\n",
       "      <td>Gene</td>\n",
       "      <td>GO:0008150</td>\n",
       "      <td>Biological Process</td>\n",
       "      <td>participates</td>\n",
       "    </tr>\n",
       "    <tr>\n",
       "      <th>19881</th>\n",
       "      <td>CHEMBL85</td>\n",
       "      <td>Gene</td>\n",
       "      <td>GO:0008219</td>\n",
       "      <td>Biological Process</td>\n",
       "      <td>participates</td>\n",
       "    </tr>\n",
       "    <tr>\n",
       "      <th>19882</th>\n",
       "      <td>CHEMBL85</td>\n",
       "      <td>Gene</td>\n",
       "      <td>GO:0009056</td>\n",
       "      <td>Biological Process</td>\n",
       "      <td>participates</td>\n",
       "    </tr>\n",
       "  </tbody>\n",
       "</table>\n",
       "</div>"
      ],
      "text/plain": [
       "          source source_node_type      target    target_node_type  \\\n",
       "7839   CHEMBL500             Gene  GO:0007165  Biological Process   \n",
       "7840   CHEMBL500             Gene  GO:0007267  Biological Process   \n",
       "7841   CHEMBL500             Gene  GO:0008150  Biological Process   \n",
       "19875   CHEMBL85             Gene  GO:0005975  Biological Process   \n",
       "19876   CHEMBL85             Gene  GO:0006091  Biological Process   \n",
       "19877   CHEMBL85             Gene  GO:0007165  Biological Process   \n",
       "19878   CHEMBL85             Gene  GO:0007267  Biological Process   \n",
       "19880   CHEMBL85             Gene  GO:0008150  Biological Process   \n",
       "19881   CHEMBL85             Gene  GO:0008219  Biological Process   \n",
       "19882   CHEMBL85             Gene  GO:0009056  Biological Process   \n",
       "\n",
       "          edge_type  \n",
       "7839   participates  \n",
       "7840   participates  \n",
       "7841   participates  \n",
       "19875  participates  \n",
       "19876  participates  \n",
       "19877  participates  \n",
       "19878  participates  \n",
       "19880  participates  \n",
       "19881  participates  \n",
       "19882  participates  "
      ]
     },
     "execution_count": 84,
     "metadata": {},
     "output_type": "execute_result"
    }
   ],
   "source": [
    "usable_drug_bps['source_node_type'] = ['Gene' for i in range(len(usable_drug_bps))]\n",
    "usable_drug_bps['target_node_type'] = ['Biological Process' for i in range(len(usable_drug_bps))]\n",
    "usable_drug_bps['edge_type'] = ['participates' for i in range(len(usable_drug_bps))]\n",
    "\n",
    "usable_drug_bps.rename(columns={'chembl_idx': 'source',\n",
    "                                'go_id': 'target'}, inplace=True)\n",
    "usable_drug_bps = usable_drug_bps[['source', 'source_node_type', 'target','target_node_type', 'edge_type']]\n",
    "usable_drug_bps.head(10)"
   ]
  },
  {
   "cell_type": "code",
   "execution_count": 85,
   "metadata": {},
   "outputs": [
    {
     "data": {
      "text/plain": [
       "120"
      ]
     },
     "execution_count": 85,
     "metadata": {},
     "output_type": "execute_result"
    }
   ],
   "source": [
    "len(usable_drug_bps['source'].unique())"
   ]
  },
  {
   "attachments": {},
   "cell_type": "markdown",
   "metadata": {},
   "source": [
    "Merge all four dataframes:"
   ]
  },
  {
   "cell_type": "code",
   "execution_count": 86,
   "metadata": {},
   "outputs": [
    {
     "data": {
      "text/html": [
       "<div>\n",
       "<style scoped>\n",
       "    .dataframe tbody tr th:only-of-type {\n",
       "        vertical-align: middle;\n",
       "    }\n",
       "\n",
       "    .dataframe tbody tr th {\n",
       "        vertical-align: top;\n",
       "    }\n",
       "\n",
       "    .dataframe thead th {\n",
       "        text-align: right;\n",
       "    }\n",
       "</style>\n",
       "<table border=\"1\" class=\"dataframe\">\n",
       "  <thead>\n",
       "    <tr style=\"text-align: right;\">\n",
       "      <th></th>\n",
       "      <th>source</th>\n",
       "      <th>source_node_type</th>\n",
       "      <th>target</th>\n",
       "      <th>target_node_type</th>\n",
       "      <th>edge_type</th>\n",
       "    </tr>\n",
       "  </thead>\n",
       "  <tbody>\n",
       "    <tr>\n",
       "      <th>0</th>\n",
       "      <td>pubchem.compound:10607</td>\n",
       "      <td>Compound</td>\n",
       "      <td>ncbigene:3553</td>\n",
       "      <td>Gene</td>\n",
       "      <td>upregulates</td>\n",
       "    </tr>\n",
       "    <tr>\n",
       "      <th>1</th>\n",
       "      <td>pubchem.compound:10607</td>\n",
       "      <td>Compound</td>\n",
       "      <td>ncbigene:203068</td>\n",
       "      <td>Gene</td>\n",
       "      <td>downregulates</td>\n",
       "    </tr>\n",
       "    <tr>\n",
       "      <th>2</th>\n",
       "      <td>pubchem.compound:10607</td>\n",
       "      <td>Compound</td>\n",
       "      <td>ncbigene:54658</td>\n",
       "      <td>Gene</td>\n",
       "      <td>downregulates</td>\n",
       "    </tr>\n",
       "    <tr>\n",
       "      <th>3</th>\n",
       "      <td>pubchem.compound:10607</td>\n",
       "      <td>Compound</td>\n",
       "      <td>ncbigene:7153</td>\n",
       "      <td>Gene</td>\n",
       "      <td>downregulates</td>\n",
       "    </tr>\n",
       "    <tr>\n",
       "      <th>4</th>\n",
       "      <td>pubchem.compound:10607</td>\n",
       "      <td>Compound</td>\n",
       "      <td>ncbigene:7277</td>\n",
       "      <td>Gene</td>\n",
       "      <td>downregulates</td>\n",
       "    </tr>\n",
       "    <tr>\n",
       "      <th>5</th>\n",
       "      <td>pubchem.compound:10631</td>\n",
       "      <td>Compound</td>\n",
       "      <td>ncbigene:5241</td>\n",
       "      <td>Gene</td>\n",
       "      <td>upregulates</td>\n",
       "    </tr>\n",
       "    <tr>\n",
       "      <th>6</th>\n",
       "      <td>pubchem.compound:10635</td>\n",
       "      <td>Compound</td>\n",
       "      <td>ncbigene:10257</td>\n",
       "      <td>Gene</td>\n",
       "      <td>upregulates</td>\n",
       "    </tr>\n",
       "    <tr>\n",
       "      <th>7</th>\n",
       "      <td>pubchem.compound:10635</td>\n",
       "      <td>Compound</td>\n",
       "      <td>ncbigene:10645</td>\n",
       "      <td>Gene</td>\n",
       "      <td>upregulates</td>\n",
       "    </tr>\n",
       "    <tr>\n",
       "      <th>8</th>\n",
       "      <td>pubchem.compound:10635</td>\n",
       "      <td>Compound</td>\n",
       "      <td>ncbigene:2621</td>\n",
       "      <td>Gene</td>\n",
       "      <td>upregulates</td>\n",
       "    </tr>\n",
       "    <tr>\n",
       "      <th>9</th>\n",
       "      <td>pubchem.compound:10635</td>\n",
       "      <td>Compound</td>\n",
       "      <td>ncbigene:354</td>\n",
       "      <td>Gene</td>\n",
       "      <td>upregulates</td>\n",
       "    </tr>\n",
       "  </tbody>\n",
       "</table>\n",
       "</div>"
      ],
      "text/plain": [
       "                   source source_node_type           target target_node_type  \\\n",
       "0  pubchem.compound:10607         Compound    ncbigene:3553             Gene   \n",
       "1  pubchem.compound:10607         Compound  ncbigene:203068             Gene   \n",
       "2  pubchem.compound:10607         Compound   ncbigene:54658             Gene   \n",
       "3  pubchem.compound:10607         Compound    ncbigene:7153             Gene   \n",
       "4  pubchem.compound:10607         Compound    ncbigene:7277             Gene   \n",
       "5  pubchem.compound:10631         Compound    ncbigene:5241             Gene   \n",
       "6  pubchem.compound:10635         Compound   ncbigene:10257             Gene   \n",
       "7  pubchem.compound:10635         Compound   ncbigene:10645             Gene   \n",
       "8  pubchem.compound:10635         Compound    ncbigene:2621             Gene   \n",
       "9  pubchem.compound:10635         Compound     ncbigene:354             Gene   \n",
       "\n",
       "       edge_type  \n",
       "0    upregulates  \n",
       "1  downregulates  \n",
       "2  downregulates  \n",
       "3  downregulates  \n",
       "4  downregulates  \n",
       "5    upregulates  \n",
       "6    upregulates  \n",
       "7    upregulates  \n",
       "8    upregulates  \n",
       "9    upregulates  "
      ]
     },
     "execution_count": 86,
     "metadata": {},
     "output_type": "execute_result"
    }
   ],
   "source": [
    "frames = [new_protein_kg, usable_prot_bps, usable_drug_bps]\n",
    "\n",
    "full_kg = pd.concat(frames, ignore_index=True)\n",
    "full_kg.drop_duplicates(ignore_index=True, inplace=True)\n",
    "\n",
    "full_kg.head(10)"
   ]
  },
  {
   "cell_type": "code",
   "execution_count": 87,
   "metadata": {},
   "outputs": [
    {
     "data": {
      "text/plain": [
       "97543"
      ]
     },
     "execution_count": 87,
     "metadata": {},
     "output_type": "execute_result"
    }
   ],
   "source": [
    "len(full_kg)"
   ]
  },
  {
   "cell_type": "code",
   "execution_count": 88,
   "metadata": {},
   "outputs": [
    {
     "data": {
      "text/plain": [
       "array(['upregulates', 'downregulates', 'interacts', 'participates'],\n",
       "      dtype=object)"
      ]
     },
     "execution_count": 88,
     "metadata": {},
     "output_type": "execute_result"
    }
   ],
   "source": [
    "full_kg['edge_type'].unique()"
   ]
  },
  {
   "cell_type": "code",
   "execution_count": 89,
   "metadata": {},
   "outputs": [],
   "source": [
    "full_kg.to_csv(osp.join(KG_DIR, 'full_kg.tsv'), sep='\\t')"
   ]
  },
  {
   "cell_type": "code",
   "execution_count": null,
   "metadata": {},
   "outputs": [],
   "source": []
  }
 ],
 "metadata": {
  "kernelspec": {
   "display_name": "neurosym",
   "language": "python",
   "name": "neurosym"
  },
  "language_info": {
   "codemirror_mode": {
    "name": "ipython",
    "version": 3
   },
   "file_extension": ".py",
   "mimetype": "text/x-python",
   "name": "python",
   "nbconvert_exporter": "python",
   "pygments_lexer": "ipython3",
   "version": "3.8.3"
  }
 },
 "nbformat": 4,
 "nbformat_minor": 2
}
