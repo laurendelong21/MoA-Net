{
 "cells": [
  {
   "cell_type": "code",
   "execution_count": 1,
   "metadata": {},
   "outputs": [],
   "source": [
    "import pandas as pd\n",
    "import seaborn as sns\n",
    "import os.path as osp\n",
    "import networkx as nx\n",
    "\n",
    "import hetnetpy.hetnet\n",
    "import hetnetpy.readwrite\n",
    "import hetnetpy.stats\n",
    "\n",
    "from hetnetpy.abbreviation import metaedges_from_metapath\n",
    "import re\n",
    "import json\n",
    "from collections import Counter\n",
    "\n",
    "import random\n",
    "import numpy as np\n",
    "seed = 123\n",
    "random.seed(seed)\n",
    "np.random.seed(seed)\n",
    "\n",
    "from tqdm import tqdm\n",
    "\n",
    "%matplotlib inline"
   ]
  },
  {
   "attachments": {},
   "cell_type": "markdown",
   "metadata": {},
   "source": [
    "Load in the KG, which we took from the PoLo dir:"
   ]
  },
  {
   "cell_type": "code",
   "execution_count": 2,
   "metadata": {},
   "outputs": [],
   "source": [
    "KG_DIR = '../data/kg/splits'\n",
    "HETIONET_DIR = osp.join(KG_DIR, 'Hetionet')\n",
    "MARS_DIR = osp.join(HETIONET_DIR, 'MARS')\n",
    "\n",
    "kg_w_train = pd.read_csv(osp.join(MARS_DIR, 'graph_triples.txt', ), sep='\\t', header=None)\n",
    "train = pd.read_csv(osp.join(MARS_DIR, 'train.txt', ), sep='\\t', header=None)\n",
    "test = pd.read_csv(osp.join(MARS_DIR, 'test.txt', ), sep='\\t', header=None)\n",
    "val = pd.read_csv(osp.join(MARS_DIR, 'dev.txt', ), sep='\\t', header=None)"
   ]
  },
  {
   "cell_type": "code",
   "execution_count": 3,
   "metadata": {},
   "outputs": [],
   "source": [
    "kg = kg_w_train.loc[kg_w_train[1] != 'CtD']"
   ]
  },
  {
   "cell_type": "code",
   "execution_count": 4,
   "metadata": {},
   "outputs": [
    {
     "data": {
      "text/plain": [
       "True"
      ]
     },
     "execution_count": 4,
     "metadata": {},
     "output_type": "execute_result"
    }
   ],
   "source": [
    "len(kg) + len(train) == len(kg_w_train)"
   ]
  },
  {
   "attachments": {},
   "cell_type": "markdown",
   "metadata": {},
   "source": [
    "Define and Instantiate Metagraph:"
   ]
  },
  {
   "cell_type": "code",
   "execution_count": 5,
   "metadata": {},
   "outputs": [],
   "source": [
    "kind_to_abbev = {\n",
    "    \n",
    "    # metanodes\n",
    "    'Compound': 'C',\n",
    "    'Disease': 'D',\n",
    "    'Gene': 'G',\n",
    "    'Anatomy': 'A',\n",
    "    'Symptom': 'S',\n",
    "    'Side_Effect': 'SE',\n",
    "    'Pathway': 'PW',\n",
    "    'Pharmacologic_Class': 'PC',\n",
    "    'Biological_Process': 'BP',\n",
    "    'Cellular_Component': 'CC',\n",
    "    'Molecular_Function': 'MF',\n",
    "    \n",
    "    # metaedges\n",
    "    'treats': 't',\n",
    "    'palliates': 'p',\n",
    "    'binds': 'b',\n",
    "    'expresses': 'e',\n",
    "    'regulates': 'r>',\n",
    "    'upregulates': 'u',\n",
    "    'downregulates': 'd',\n",
    "    'interacts': 'i',\n",
    "    'includes': 'i',\n",
    "    'covaries': 'c',\n",
    "    'participates': 'p',\n",
    "    'resembles': 'r',\n",
    "    'associates': 'a',\n",
    "    'localizes': 'l',\n",
    "    'presents': 'p',\n",
    "    'causes': 'c',\n",
    "}\n",
    "\n",
    "metaedge_tuples = [\n",
    "    ('Compound', 'Disease', 'treats', 'forward'),\n",
    "    ('Compound', 'Disease', 'palliates', 'forward'),\n",
    "    ('Compound', 'Gene', 'binds', 'forward'),\n",
    "    ('Compound', 'Gene', 'upregulates', 'forward'),\n",
    "    ('Compound', 'Gene', 'downregulates', 'forward'),\n",
    "    ('Compound', 'Compound', 'resembles', 'forward'),\n",
    "    ('Compound', 'Side_Effect', 'causes', 'forward'),\n",
    "    ('Pharmacologic_Class', 'Compound', 'includes', 'forward'),\n",
    "    ('Anatomy', 'Gene', 'expresses', 'forward'),\n",
    "    ('Anatomy', 'Gene', 'upregulates', 'forward'),\n",
    "    ('Anatomy', 'Gene', 'downregulates', 'forward'),\n",
    "    ('Gene', 'Gene', 'interacts', 'forward'),\n",
    "    ('Gene', 'Gene', 'covaries', 'forward'),\n",
    "    ('Gene', 'Gene', 'regulates', 'forward'),\n",
    "    ('Gene', 'Pathway', 'participates', 'forward'),\n",
    "    ('Gene', 'Biological_Process', 'participates', 'forward'),\n",
    "    ('Gene', 'Cellular_Component', 'participates', 'forward'),\n",
    "    ('Gene', 'Molecular_Function', 'participates', 'forward'),\n",
    "    ('Disease', 'Disease', 'resembles', 'forward'),\n",
    "    ('Disease', 'Gene', 'associates', 'forward'),\n",
    "    ('Disease', 'Gene', 'upregulates', 'forward'),\n",
    "    ('Disease', 'Gene', 'downregulates', 'forward'),\n",
    "    ('Disease', 'Anatomy', 'localizes', 'forward'),\n",
    "    ('Disease', 'Symptom', 'presents', 'forward'),\n",
    "]\n",
    "metagraph = hetnetpy.hetnet.MetaGraph.from_edge_tuples(metaedge_tuples, kind_to_abbev)\n",
    "graph = hetnetpy.hetnet.Graph(metagraph)"
   ]
  },
  {
   "cell_type": "code",
   "execution_count": 6,
   "metadata": {},
   "outputs": [],
   "source": [
    "rev_kind_to_abbev = {v: k for k, v in kind_to_abbev.items()}"
   ]
  },
  {
   "cell_type": "code",
   "execution_count": 7,
   "metadata": {},
   "outputs": [],
   "source": [
    "metaedge_tuple_dict = {(i[0], i[1], i[2][0]): i[2] for i in metaedge_tuples}"
   ]
  },
  {
   "cell_type": "code",
   "execution_count": 8,
   "metadata": {},
   "outputs": [],
   "source": [
    "def get_relation_name(source, target, middle_letter):\n",
    "    return metaedge_tuple_dict[(source, target, middle_letter[0])]"
   ]
  },
  {
   "cell_type": "code",
   "execution_count": 9,
   "metadata": {},
   "outputs": [],
   "source": [
    "def get_metaedge(meta_relation):\n",
    "    lowers = re.findall(r'[a-z]+', meta_relation)\n",
    "    uppers = re.findall(r'[A-Z]+', meta_relation)\n",
    "    source = rev_kind_to_abbev[uppers[0]]\n",
    "    target = rev_kind_to_abbev[uppers[1]]\n",
    "    rel = get_relation_name(source, target, lowers)\n",
    "    directn = 'forward' if rel == 'regulates' else 'both'\n",
    "    return source, target, rel, directn"
   ]
  },
  {
   "cell_type": "code",
   "execution_count": 10,
   "metadata": {},
   "outputs": [
    {
     "name": "stderr",
     "output_type": "stream",
     "text": [
      "2249442it [04:06, 9124.83it/s] \n"
     ]
    }
   ],
   "source": [
    "seen = set()\n",
    "\n",
    "for i, row in tqdm(kg.iterrows()):\n",
    "    src_id = row[0].split('::')[1]\n",
    "    src_type = row[0].split('::')[0]\n",
    "    trgt_id = row[2].split('::')[1]\n",
    "    trgt_type = row[2].split('::')[0]\n",
    "\n",
    "    if not src_id in seen:\n",
    "        graph.add_node(kind=src_type, identifier=src_id)\n",
    "        seen.add(src_id)\n",
    "        \n",
    "    if not trgt_id in seen:\n",
    "        graph.add_node(kind=trgt_type, identifier=trgt_id)\n",
    "        seen.add(trgt_id)\n",
    "\n",
    "    source, target, rel, directn = get_metaedge(row[1])\n",
    "    src_input = src_type, src_id\n",
    "    trgt_input = trgt_type, trgt_id\n",
    "\n",
    "    graph.add_edge(source_id=src_input, target_id=trgt_input, kind=rel, direction='forward')"
   ]
  },
  {
   "cell_type": "markdown",
   "metadata": {},
   "source": [
    "## Network Visualization and Stats"
   ]
  },
  {
   "cell_type": "code",
   "execution_count": 11,
   "metadata": {},
   "outputs": [
    {
     "data": {
      "text/html": [
       "<div>\n",
       "<style scoped>\n",
       "    .dataframe tbody tr th:only-of-type {\n",
       "        vertical-align: middle;\n",
       "    }\n",
       "\n",
       "    .dataframe tbody tr th {\n",
       "        vertical-align: top;\n",
       "    }\n",
       "\n",
       "    .dataframe thead th {\n",
       "        text-align: right;\n",
       "    }\n",
       "</style>\n",
       "<table border=\"1\" class=\"dataframe\">\n",
       "  <thead>\n",
       "    <tr style=\"text-align: right;\">\n",
       "      <th></th>\n",
       "      <th>metanode</th>\n",
       "      <th>abbreviation</th>\n",
       "      <th>metaedges</th>\n",
       "      <th>nodes</th>\n",
       "      <th>unconnected_nodes</th>\n",
       "    </tr>\n",
       "  </thead>\n",
       "  <tbody>\n",
       "    <tr>\n",
       "      <th>1</th>\n",
       "      <td>Anatomy</td>\n",
       "      <td>A</td>\n",
       "      <td>4</td>\n",
       "      <td>400</td>\n",
       "      <td>0</td>\n",
       "    </tr>\n",
       "    <tr>\n",
       "      <th>2</th>\n",
       "      <td>Biological_Process</td>\n",
       "      <td>BP</td>\n",
       "      <td>1</td>\n",
       "      <td>11381</td>\n",
       "      <td>0</td>\n",
       "    </tr>\n",
       "    <tr>\n",
       "      <th>8</th>\n",
       "      <td>Cellular_Component</td>\n",
       "      <td>CC</td>\n",
       "      <td>1</td>\n",
       "      <td>1391</td>\n",
       "      <td>0</td>\n",
       "    </tr>\n",
       "    <tr>\n",
       "      <th>4</th>\n",
       "      <td>Compound</td>\n",
       "      <td>C</td>\n",
       "      <td>8</td>\n",
       "      <td>1538</td>\n",
       "      <td>0</td>\n",
       "    </tr>\n",
       "    <tr>\n",
       "      <th>3</th>\n",
       "      <td>Disease</td>\n",
       "      <td>D</td>\n",
       "      <td>8</td>\n",
       "      <td>136</td>\n",
       "      <td>0</td>\n",
       "    </tr>\n",
       "    <tr>\n",
       "      <th>0</th>\n",
       "      <td>Gene</td>\n",
       "      <td>G</td>\n",
       "      <td>16</td>\n",
       "      <td>19145</td>\n",
       "      <td>0</td>\n",
       "    </tr>\n",
       "    <tr>\n",
       "      <th>6</th>\n",
       "      <td>Molecular_Function</td>\n",
       "      <td>MF</td>\n",
       "      <td>1</td>\n",
       "      <td>2884</td>\n",
       "      <td>0</td>\n",
       "    </tr>\n",
       "    <tr>\n",
       "      <th>7</th>\n",
       "      <td>Pathway</td>\n",
       "      <td>PW</td>\n",
       "      <td>1</td>\n",
       "      <td>1822</td>\n",
       "      <td>0</td>\n",
       "    </tr>\n",
       "    <tr>\n",
       "      <th>10</th>\n",
       "      <td>Pharmacologic_Class</td>\n",
       "      <td>PC</td>\n",
       "      <td>1</td>\n",
       "      <td>345</td>\n",
       "      <td>0</td>\n",
       "    </tr>\n",
       "    <tr>\n",
       "      <th>5</th>\n",
       "      <td>Side_Effect</td>\n",
       "      <td>SE</td>\n",
       "      <td>1</td>\n",
       "      <td>5701</td>\n",
       "      <td>0</td>\n",
       "    </tr>\n",
       "    <tr>\n",
       "      <th>9</th>\n",
       "      <td>Symptom</td>\n",
       "      <td>S</td>\n",
       "      <td>1</td>\n",
       "      <td>415</td>\n",
       "      <td>0</td>\n",
       "    </tr>\n",
       "  </tbody>\n",
       "</table>\n",
       "</div>"
      ],
      "text/plain": [
       "               metanode abbreviation  metaedges  nodes  unconnected_nodes\n",
       "1               Anatomy            A          4    400                  0\n",
       "2    Biological_Process           BP          1  11381                  0\n",
       "8    Cellular_Component           CC          1   1391                  0\n",
       "4              Compound            C          8   1538                  0\n",
       "3               Disease            D          8    136                  0\n",
       "0                  Gene            G         16  19145                  0\n",
       "6    Molecular_Function           MF          1   2884                  0\n",
       "7               Pathway           PW          1   1822                  0\n",
       "10  Pharmacologic_Class           PC          1    345                  0\n",
       "5           Side_Effect           SE          1   5701                  0\n",
       "9               Symptom            S          1    415                  0"
      ]
     },
     "execution_count": 11,
     "metadata": {},
     "output_type": "execute_result"
    }
   ],
   "source": [
    "metanode_df = hetnetpy.stats.get_metanode_df(graph)\n",
    "metanode_df"
   ]
  },
  {
   "cell_type": "code",
   "execution_count": 12,
   "metadata": {},
   "outputs": [
    {
     "data": {
      "image/png": "[encoded data removed]",
      "text/plain": [
       "<Figure size 640x480 with 1 Axes>"
      ]
     },
     "metadata": {},
     "output_type": "display_data"
    }
   ],
   "source": [
    "ax = sns.barplot(x='metanode', y='nodes', data=metanode_df.sort_values('nodes'))\n",
    "for tick in ax.get_xticklabels():\n",
    "    tick.set_rotation(90)\n",
    "ax.set_xlabel(''); ax.set_ylabel('nodes');"
   ]
  },
  {
   "cell_type": "code",
   "execution_count": 13,
   "metadata": {},
   "outputs": [
    {
     "data": {
      "text/plain": [
       "45158"
      ]
     },
     "execution_count": 13,
     "metadata": {},
     "output_type": "execute_result"
    }
   ],
   "source": [
    "# Total number of nodes\n",
    "metanode_df.nodes.sum()"
   ]
  },
  {
   "cell_type": "code",
   "execution_count": 14,
   "metadata": {},
   "outputs": [
    {
     "data": {
      "text/html": [
       "<div>\n",
       "<style scoped>\n",
       "    .dataframe tbody tr th:only-of-type {\n",
       "        vertical-align: middle;\n",
       "    }\n",
       "\n",
       "    .dataframe tbody tr th {\n",
       "        vertical-align: top;\n",
       "    }\n",
       "\n",
       "    .dataframe thead th {\n",
       "        text-align: right;\n",
       "    }\n",
       "</style>\n",
       "<table border=\"1\" class=\"dataframe\">\n",
       "  <thead>\n",
       "    <tr style=\"text-align: right;\">\n",
       "      <th></th>\n",
       "      <th>metaedge</th>\n",
       "      <th>abbreviation</th>\n",
       "      <th>edges</th>\n",
       "      <th>source_nodes</th>\n",
       "      <th>target_nodes</th>\n",
       "    </tr>\n",
       "  </thead>\n",
       "  <tbody>\n",
       "    <tr>\n",
       "      <th>10</th>\n",
       "      <td>Anatomy &gt; downregulates &gt; Gene</td>\n",
       "      <td>Ad&gt;G</td>\n",
       "      <td>102240</td>\n",
       "      <td>36</td>\n",
       "      <td>15097</td>\n",
       "    </tr>\n",
       "    <tr>\n",
       "      <th>8</th>\n",
       "      <td>Anatomy &gt; expresses &gt; Gene</td>\n",
       "      <td>Ae&gt;G</td>\n",
       "      <td>526407</td>\n",
       "      <td>241</td>\n",
       "      <td>18094</td>\n",
       "    </tr>\n",
       "    <tr>\n",
       "      <th>9</th>\n",
       "      <td>Anatomy &gt; upregulates &gt; Gene</td>\n",
       "      <td>Au&gt;G</td>\n",
       "      <td>97848</td>\n",
       "      <td>36</td>\n",
       "      <td>15929</td>\n",
       "    </tr>\n",
       "    <tr>\n",
       "      <th>2</th>\n",
       "      <td>Compound &gt; binds &gt; Gene</td>\n",
       "      <td>Cb&gt;G</td>\n",
       "      <td>11571</td>\n",
       "      <td>1389</td>\n",
       "      <td>1689</td>\n",
       "    </tr>\n",
       "    <tr>\n",
       "      <th>6</th>\n",
       "      <td>Compound &gt; causes &gt; Side_Effect</td>\n",
       "      <td>Cc&gt;SE</td>\n",
       "      <td>138944</td>\n",
       "      <td>1071</td>\n",
       "      <td>5701</td>\n",
       "    </tr>\n",
       "    <tr>\n",
       "      <th>4</th>\n",
       "      <td>Compound &gt; downregulates &gt; Gene</td>\n",
       "      <td>Cd&gt;G</td>\n",
       "      <td>21102</td>\n",
       "      <td>734</td>\n",
       "      <td>2880</td>\n",
       "    </tr>\n",
       "    <tr>\n",
       "      <th>1</th>\n",
       "      <td>Compound &gt; palliates &gt; Disease</td>\n",
       "      <td>Cp&gt;D</td>\n",
       "      <td>390</td>\n",
       "      <td>221</td>\n",
       "      <td>50</td>\n",
       "    </tr>\n",
       "    <tr>\n",
       "      <th>5</th>\n",
       "      <td>Compound &gt; resembles &gt; Compound</td>\n",
       "      <td>Cr&gt;C</td>\n",
       "      <td>6486</td>\n",
       "      <td>1042</td>\n",
       "      <td>1054</td>\n",
       "    </tr>\n",
       "    <tr>\n",
       "      <th>0</th>\n",
       "      <td>Compound &gt; treats &gt; Disease</td>\n",
       "      <td>Ct&gt;D</td>\n",
       "      <td>0</td>\n",
       "      <td>0</td>\n",
       "      <td>0</td>\n",
       "    </tr>\n",
       "    <tr>\n",
       "      <th>3</th>\n",
       "      <td>Compound &gt; upregulates &gt; Gene</td>\n",
       "      <td>Cu&gt;G</td>\n",
       "      <td>18756</td>\n",
       "      <td>703</td>\n",
       "      <td>3247</td>\n",
       "    </tr>\n",
       "    <tr>\n",
       "      <th>19</th>\n",
       "      <td>Disease &gt; associates &gt; Gene</td>\n",
       "      <td>Da&gt;G</td>\n",
       "      <td>12623</td>\n",
       "      <td>134</td>\n",
       "      <td>5392</td>\n",
       "    </tr>\n",
       "    <tr>\n",
       "      <th>21</th>\n",
       "      <td>Disease &gt; downregulates &gt; Gene</td>\n",
       "      <td>Dd&gt;G</td>\n",
       "      <td>7623</td>\n",
       "      <td>44</td>\n",
       "      <td>5745</td>\n",
       "    </tr>\n",
       "    <tr>\n",
       "      <th>22</th>\n",
       "      <td>Disease &gt; localizes &gt; Anatomy</td>\n",
       "      <td>Dl&gt;A</td>\n",
       "      <td>3602</td>\n",
       "      <td>133</td>\n",
       "      <td>398</td>\n",
       "    </tr>\n",
       "    <tr>\n",
       "      <th>23</th>\n",
       "      <td>Disease &gt; presents &gt; Symptom</td>\n",
       "      <td>Dp&gt;S</td>\n",
       "      <td>3357</td>\n",
       "      <td>133</td>\n",
       "      <td>415</td>\n",
       "    </tr>\n",
       "    <tr>\n",
       "      <th>18</th>\n",
       "      <td>Disease &gt; resembles &gt; Disease</td>\n",
       "      <td>Dr&gt;D</td>\n",
       "      <td>543</td>\n",
       "      <td>112</td>\n",
       "      <td>106</td>\n",
       "    </tr>\n",
       "    <tr>\n",
       "      <th>20</th>\n",
       "      <td>Disease &gt; upregulates &gt; Gene</td>\n",
       "      <td>Du&gt;G</td>\n",
       "      <td>7731</td>\n",
       "      <td>44</td>\n",
       "      <td>5630</td>\n",
       "    </tr>\n",
       "    <tr>\n",
       "      <th>12</th>\n",
       "      <td>Gene &gt; covaries &gt; Gene</td>\n",
       "      <td>Gc&gt;G</td>\n",
       "      <td>61690</td>\n",
       "      <td>9043</td>\n",
       "      <td>9532</td>\n",
       "    </tr>\n",
       "    <tr>\n",
       "      <th>11</th>\n",
       "      <td>Gene &gt; interacts &gt; Gene</td>\n",
       "      <td>Gi&gt;G</td>\n",
       "      <td>147164</td>\n",
       "      <td>9526</td>\n",
       "      <td>14084</td>\n",
       "    </tr>\n",
       "    <tr>\n",
       "      <th>15</th>\n",
       "      <td>Gene &gt; participates &gt; Biological_Process</td>\n",
       "      <td>Gp&gt;BP</td>\n",
       "      <td>559504</td>\n",
       "      <td>14772</td>\n",
       "      <td>11381</td>\n",
       "    </tr>\n",
       "    <tr>\n",
       "      <th>16</th>\n",
       "      <td>Gene &gt; participates &gt; Cellular_Component</td>\n",
       "      <td>Gp&gt;CC</td>\n",
       "      <td>73566</td>\n",
       "      <td>10580</td>\n",
       "      <td>1391</td>\n",
       "    </tr>\n",
       "    <tr>\n",
       "      <th>17</th>\n",
       "      <td>Gene &gt; participates &gt; Molecular_Function</td>\n",
       "      <td>Gp&gt;MF</td>\n",
       "      <td>97222</td>\n",
       "      <td>13063</td>\n",
       "      <td>2884</td>\n",
       "    </tr>\n",
       "    <tr>\n",
       "      <th>14</th>\n",
       "      <td>Gene &gt; participates &gt; Pathway</td>\n",
       "      <td>Gp&gt;PW</td>\n",
       "      <td>84372</td>\n",
       "      <td>8979</td>\n",
       "      <td>1822</td>\n",
       "    </tr>\n",
       "    <tr>\n",
       "      <th>13</th>\n",
       "      <td>Gene &gt; regulates &gt; Gene</td>\n",
       "      <td>Gr&gt;&gt;G</td>\n",
       "      <td>265672</td>\n",
       "      <td>4634</td>\n",
       "      <td>7048</td>\n",
       "    </tr>\n",
       "    <tr>\n",
       "      <th>7</th>\n",
       "      <td>Pharmacologic_Class &gt; includes &gt; Compound</td>\n",
       "      <td>PCi&gt;C</td>\n",
       "      <td>1029</td>\n",
       "      <td>345</td>\n",
       "      <td>724</td>\n",
       "    </tr>\n",
       "  </tbody>\n",
       "</table>\n",
       "</div>"
      ],
      "text/plain": [
       "                                     metaedge abbreviation   edges  \\\n",
       "10             Anatomy > downregulates > Gene         Ad>G  102240   \n",
       "8                  Anatomy > expresses > Gene         Ae>G  526407   \n",
       "9                Anatomy > upregulates > Gene         Au>G   97848   \n",
       "2                     Compound > binds > Gene         Cb>G   11571   \n",
       "6             Compound > causes > Side_Effect        Cc>SE  138944   \n",
       "4             Compound > downregulates > Gene         Cd>G   21102   \n",
       "1              Compound > palliates > Disease         Cp>D     390   \n",
       "5             Compound > resembles > Compound         Cr>C    6486   \n",
       "0                 Compound > treats > Disease         Ct>D       0   \n",
       "3               Compound > upregulates > Gene         Cu>G   18756   \n",
       "19                Disease > associates > Gene         Da>G   12623   \n",
       "21             Disease > downregulates > Gene         Dd>G    7623   \n",
       "22              Disease > localizes > Anatomy         Dl>A    3602   \n",
       "23               Disease > presents > Symptom         Dp>S    3357   \n",
       "18              Disease > resembles > Disease         Dr>D     543   \n",
       "20               Disease > upregulates > Gene         Du>G    7731   \n",
       "12                     Gene > covaries > Gene         Gc>G   61690   \n",
       "11                    Gene > interacts > Gene         Gi>G  147164   \n",
       "15   Gene > participates > Biological_Process        Gp>BP  559504   \n",
       "16   Gene > participates > Cellular_Component        Gp>CC   73566   \n",
       "17   Gene > participates > Molecular_Function        Gp>MF   97222   \n",
       "14              Gene > participates > Pathway        Gp>PW   84372   \n",
       "13                    Gene > regulates > Gene        Gr>>G  265672   \n",
       "7   Pharmacologic_Class > includes > Compound        PCi>C    1029   \n",
       "\n",
       "    source_nodes  target_nodes  \n",
       "10            36         15097  \n",
       "8            241         18094  \n",
       "9             36         15929  \n",
       "2           1389          1689  \n",
       "6           1071          5701  \n",
       "4            734          2880  \n",
       "1            221            50  \n",
       "5           1042          1054  \n",
       "0              0             0  \n",
       "3            703          3247  \n",
       "19           134          5392  \n",
       "21            44          5745  \n",
       "22           133           398  \n",
       "23           133           415  \n",
       "18           112           106  \n",
       "20            44          5630  \n",
       "12          9043          9532  \n",
       "11          9526         14084  \n",
       "15         14772         11381  \n",
       "16         10580          1391  \n",
       "17         13063          2884  \n",
       "14          8979          1822  \n",
       "13          4634          7048  \n",
       "7            345           724  "
      ]
     },
     "execution_count": 14,
     "metadata": {},
     "output_type": "execute_result"
    }
   ],
   "source": [
    "# Summary of metaedges and cooresponding edges\n",
    "metaedge_df = hetnetpy.stats.get_metaedge_df(graph)\n",
    "\n",
    "metaedge_df"
   ]
  },
  {
   "cell_type": "code",
   "execution_count": 15,
   "metadata": {},
   "outputs": [
    {
     "data": {
      "image/png": "[encoded data removed]",
      "text/plain": [
       "<Figure size 640x480 with 1 Axes>"
      ]
     },
     "metadata": {},
     "output_type": "display_data"
    }
   ],
   "source": [
    "ax = sns.barplot(x='abbreviation', y='edges', data=metaedge_df.sort_values('edges'))\n",
    "for tick in ax.get_xticklabels():\n",
    "    tick.set_rotation(90)\n",
    "ax.set_xlabel(''); ax.set_ylabel('edges');"
   ]
  },
  {
   "cell_type": "code",
   "execution_count": 16,
   "metadata": {},
   "outputs": [
    {
     "data": {
      "text/html": [
       "<div>\n",
       "<style scoped>\n",
       "    .dataframe tbody tr th:only-of-type {\n",
       "        vertical-align: middle;\n",
       "    }\n",
       "\n",
       "    .dataframe tbody tr th {\n",
       "        vertical-align: top;\n",
       "    }\n",
       "\n",
       "    .dataframe thead th {\n",
       "        text-align: right;\n",
       "    }\n",
       "</style>\n",
       "<table border=\"1\" class=\"dataframe\">\n",
       "  <thead>\n",
       "    <tr style=\"text-align: right;\">\n",
       "      <th></th>\n",
       "      <th>metaedge</th>\n",
       "      <th>unicode_metaedge</th>\n",
       "      <th>standard_metaedge</th>\n",
       "      <th>abbreviation</th>\n",
       "      <th>standard_abbreviation</th>\n",
       "      <th>source</th>\n",
       "      <th>target</th>\n",
       "      <th>inverted</th>\n",
       "    </tr>\n",
       "  </thead>\n",
       "  <tbody>\n",
       "    <tr>\n",
       "      <th>45</th>\n",
       "      <td>Anatomy &lt; localizes &lt; Disease</td>\n",
       "      <td>Anatomy←localizes←Disease</td>\n",
       "      <td>Disease &gt; localizes &gt; Anatomy</td>\n",
       "      <td>A&lt;lD</td>\n",
       "      <td>DlA</td>\n",
       "      <td>Anatomy</td>\n",
       "      <td>Disease</td>\n",
       "      <td>1</td>\n",
       "    </tr>\n",
       "    <tr>\n",
       "      <th>20</th>\n",
       "      <td>Anatomy &gt; downregulates &gt; Gene</td>\n",
       "      <td>Anatomy→downregulates→Gene</td>\n",
       "      <td>Anatomy &gt; downregulates &gt; Gene</td>\n",
       "      <td>Ad&gt;G</td>\n",
       "      <td>AdG</td>\n",
       "      <td>Anatomy</td>\n",
       "      <td>Gene</td>\n",
       "      <td>0</td>\n",
       "    </tr>\n",
       "    <tr>\n",
       "      <th>16</th>\n",
       "      <td>Anatomy &gt; expresses &gt; Gene</td>\n",
       "      <td>Anatomy→expresses→Gene</td>\n",
       "      <td>Anatomy &gt; expresses &gt; Gene</td>\n",
       "      <td>Ae&gt;G</td>\n",
       "      <td>AeG</td>\n",
       "      <td>Anatomy</td>\n",
       "      <td>Gene</td>\n",
       "      <td>0</td>\n",
       "    </tr>\n",
       "    <tr>\n",
       "      <th>18</th>\n",
       "      <td>Anatomy &gt; upregulates &gt; Gene</td>\n",
       "      <td>Anatomy→upregulates→Gene</td>\n",
       "      <td>Anatomy &gt; upregulates &gt; Gene</td>\n",
       "      <td>Au&gt;G</td>\n",
       "      <td>AuG</td>\n",
       "      <td>Anatomy</td>\n",
       "      <td>Gene</td>\n",
       "      <td>0</td>\n",
       "    </tr>\n",
       "    <tr>\n",
       "      <th>31</th>\n",
       "      <td>Biological_Process &lt; participates &lt; Gene</td>\n",
       "      <td>Biological_Process←participates←Gene</td>\n",
       "      <td>Gene &gt; participates &gt; Biological_Process</td>\n",
       "      <td>BP&lt;pG</td>\n",
       "      <td>GpBP</td>\n",
       "      <td>Biological_Process</td>\n",
       "      <td>Gene</td>\n",
       "      <td>1</td>\n",
       "    </tr>\n",
       "  </tbody>\n",
       "</table>\n",
       "</div>"
      ],
      "text/plain": [
       "                                    metaedge  \\\n",
       "45             Anatomy < localizes < Disease   \n",
       "20            Anatomy > downregulates > Gene   \n",
       "16                Anatomy > expresses > Gene   \n",
       "18              Anatomy > upregulates > Gene   \n",
       "31  Biological_Process < participates < Gene   \n",
       "\n",
       "                        unicode_metaedge  \\\n",
       "45             Anatomy←localizes←Disease   \n",
       "20            Anatomy→downregulates→Gene   \n",
       "16                Anatomy→expresses→Gene   \n",
       "18              Anatomy→upregulates→Gene   \n",
       "31  Biological_Process←participates←Gene   \n",
       "\n",
       "                           standard_metaedge abbreviation  \\\n",
       "45             Disease > localizes > Anatomy         A<lD   \n",
       "20            Anatomy > downregulates > Gene         Ad>G   \n",
       "16                Anatomy > expresses > Gene         Ae>G   \n",
       "18              Anatomy > upregulates > Gene         Au>G   \n",
       "31  Gene > participates > Biological_Process        BP<pG   \n",
       "\n",
       "   standard_abbreviation              source   target  inverted  \n",
       "45                   DlA             Anatomy  Disease         1  \n",
       "20                   AdG             Anatomy     Gene         0  \n",
       "16                   AeG             Anatomy     Gene         0  \n",
       "18                   AuG             Anatomy     Gene         0  \n",
       "31                  GpBP  Biological_Process     Gene         1  "
      ]
     },
     "execution_count": 16,
     "metadata": {},
     "output_type": "execute_result"
    }
   ],
   "source": [
    "# Summary of different styles for representing each metaedge\n",
    "metaedge_style_df = hetnetpy.stats.get_metaedge_style_df(metagraph)\n",
    "metaedge_style_df.head()"
   ]
  },
  {
   "cell_type": "code",
   "execution_count": 17,
   "metadata": {},
   "outputs": [
    {
     "data": {
      "text/plain": [
       "2249442"
      ]
     },
     "execution_count": 17,
     "metadata": {},
     "output_type": "execute_result"
    }
   ],
   "source": [
    "# Number of edges in the network\n",
    "metaedge_df.edges.sum()"
   ]
  },
  {
   "attachments": {},
   "cell_type": "markdown",
   "metadata": {},
   "source": [
    "## Metapath Extraction\n",
    "\n",
    "Here, we have functions which can extract metapaths:"
   ]
  },
  {
   "cell_type": "code",
   "execution_count": 18,
   "metadata": {},
   "outputs": [
    {
     "name": "stdout",
     "output_type": "stream",
     "text": [
      "[Cp>D, Ct>D, C<rCp>D, C<rCt>D, Cr>Cp>D, Cr>Ct>D, Cp>D<rD, Cp>Dr>D, Ct>D<rD, Ct>Dr>D, Cb>G<aD, Cb>G<dD, Cb>G<uD, Cd>G<aD, Cd>G<dD, Cd>G<uD, Cu>G<aD, Cu>G<dD, Cu>G<uD, C<rC<rCp>D, C<rC<rCt>D, C<rCr>Cp>D, C<rCr>Ct>D, C<rCp>D<rD, C<rCp>Dr>D, C<rCt>D<rD, C<rCt>Dr>D, C<rCb>G<aD, C<rCb>G<dD, C<rCb>G<uD, C<rCd>G<aD, C<rCd>G<dD, C<rCd>G<uD, C<rCu>G<aD, C<rCu>G<dD, C<rCu>G<uD, Cr>C<rCp>D, Cr>C<rCt>D, Cr>Cr>Cp>D, Cr>Cr>Ct>D, Cr>Cp>D<rD, Cr>Cp>Dr>D, Cr>Ct>D<rD, Cr>Ct>Dr>D, Cr>Cb>G<aD, Cr>Cb>G<dD, Cr>Cb>G<uD, Cr>Cd>G<aD, Cr>Cd>G<dD, Cr>Cd>G<uD, Cr>Cu>G<aD, Cr>Cu>G<dD, Cr>Cu>G<uD, Cp>Dl>A<lD, Cp>D<pCp>D, Cp>D<pCt>D, Cp>D<tCp>D, Cp>D<tCt>D, Cp>D<rD<rD, Cp>D<rDr>D, Cp>Dr>D<rD, Cp>Dr>Dr>D, Cp>Da>G<aD, Cp>Da>G<dD, Cp>Da>G<uD, Cp>Dd>G<aD, Cp>Dd>G<dD, Cp>Dd>G<uD, Cp>Du>G<aD, Cp>Du>G<dD, Cp>Du>G<uD, Cp>Dp>S<pD, Ct>Dl>A<lD, Ct>D<pCp>D, Ct>D<pCt>D, Ct>D<tCp>D, Ct>D<tCt>D, Ct>D<rD<rD, Ct>D<rDr>D, Ct>Dr>D<rD, Ct>Dr>Dr>D, Ct>Da>G<aD, Ct>Da>G<dD, Ct>Da>G<uD, Ct>Dd>G<aD, Ct>Dd>G<dD, Ct>Dd>G<uD, Ct>Du>G<aD, Ct>Du>G<dD, Ct>Du>G<uD, Ct>Dp>S<pD, Cb>G<dA<lD, Cb>G<eA<lD, Cb>G<uA<lD, Cb>G<bCp>D, Cb>G<bCt>D, Cb>G<dCp>D, Cb>G<dCt>D, Cb>G<uCp>D, Cb>G<uCt>D, Cb>G<aD<rD, Cb>G<aDr>D, Cb>G<dD<rD, Cb>G<dDr>D, Cb>G<uD<rD, Cb>G<uDr>D, Cb>G<cG<aD, Cb>G<cG<dD, Cb>G<cG<uD, Cb>Gc>G<aD, Cb>Gc>G<dD, Cb>Gc>G<uD, Cb>G<iG<aD, Cb>G<iG<dD, Cb>G<iG<uD, Cb>Gi>G<aD, Cb>Gi>G<dD, Cb>Gi>G<uD, Cb>G<r>G<aD, Cb>G<r>G<dD, Cb>G<r>G<uD, Cb>Gr>>G<aD, Cb>Gr>>G<dD, Cb>Gr>>G<uD, Cd>G<dA<lD, Cd>G<eA<lD, Cd>G<uA<lD, Cd>G<bCp>D, Cd>G<bCt>D, Cd>G<dCp>D, Cd>G<dCt>D, Cd>G<uCp>D, Cd>G<uCt>D, Cd>G<aD<rD, Cd>G<aDr>D, Cd>G<dD<rD, Cd>G<dDr>D, Cd>G<uD<rD, Cd>G<uDr>D, Cd>G<cG<aD, Cd>G<cG<dD, Cd>G<cG<uD, Cd>Gc>G<aD, Cd>Gc>G<dD, Cd>Gc>G<uD, Cd>G<iG<aD, Cd>G<iG<dD, Cd>G<iG<uD, Cd>Gi>G<aD, Cd>Gi>G<dD, Cd>Gi>G<uD, Cd>G<r>G<aD, Cd>G<r>G<dD, Cd>G<r>G<uD, Cd>Gr>>G<aD, Cd>Gr>>G<dD, Cd>Gr>>G<uD, Cu>G<dA<lD, Cu>G<eA<lD, Cu>G<uA<lD, Cu>G<bCp>D, Cu>G<bCt>D, Cu>G<dCp>D, Cu>G<dCt>D, Cu>G<uCp>D, Cu>G<uCt>D, Cu>G<aD<rD, Cu>G<aDr>D, Cu>G<dD<rD, Cu>G<dDr>D, Cu>G<uD<rD, Cu>G<uDr>D, Cu>G<cG<aD, Cu>G<cG<dD, Cu>G<cG<uD, Cu>Gc>G<aD, Cu>Gc>G<dD, Cu>Gc>G<uD, Cu>G<iG<aD, Cu>G<iG<dD, Cu>G<iG<uD, Cu>Gi>G<aD, Cu>Gi>G<dD, Cu>Gi>G<uD, Cu>G<r>G<aD, Cu>G<r>G<dD, Cu>G<r>G<uD, Cu>Gr>>G<aD, Cu>Gr>>G<dD, Cu>Gr>>G<uD, C<iPCi>Cp>D, C<iPCi>Ct>D, Cc>SE<cCp>D, Cc>SE<cCt>D, C<rC<rC<rCp>D, C<rC<rC<rCt>D, C<rC<rCr>Cp>D, C<rC<rCr>Ct>D, C<rC<rCp>D<rD, C<rC<rCp>Dr>D, C<rC<rCt>D<rD, C<rC<rCt>Dr>D, C<rC<rCb>G<aD, C<rC<rCb>G<dD, C<rC<rCb>G<uD, C<rC<rCd>G<aD, C<rC<rCd>G<dD, C<rC<rCd>G<uD, C<rC<rCu>G<aD, C<rC<rCu>G<dD, C<rC<rCu>G<uD, C<rCr>C<rCp>D, C<rCr>C<rCt>D, C<rCr>Cr>Cp>D, C<rCr>Cr>Ct>D, C<rCr>Cp>D<rD, C<rCr>Cp>Dr>D, C<rCr>Ct>D<rD, C<rCr>Ct>Dr>D, C<rCr>Cb>G<aD, C<rCr>Cb>G<dD, C<rCr>Cb>G<uD, C<rCr>Cd>G<aD, C<rCr>Cd>G<dD, C<rCr>Cd>G<uD, C<rCr>Cu>G<aD, C<rCr>Cu>G<dD, C<rCr>Cu>G<uD, C<rCp>Dl>A<lD, C<rCp>D<pCp>D, C<rCp>D<pCt>D, C<rCp>D<tCp>D, C<rCp>D<tCt>D, C<rCp>D<rD<rD, C<rCp>D<rDr>D, C<rCp>Dr>D<rD, C<rCp>Dr>Dr>D, C<rCp>Da>G<aD, C<rCp>Da>G<dD, C<rCp>Da>G<uD, C<rCp>Dd>G<aD, C<rCp>Dd>G<dD, C<rCp>Dd>G<uD, C<rCp>Du>G<aD, C<rCp>Du>G<dD, C<rCp>Du>G<uD, C<rCp>Dp>S<pD, C<rCt>Dl>A<lD, C<rCt>D<pCp>D, C<rCt>D<pCt>D, C<rCt>D<tCp>D, C<rCt>D<tCt>D, C<rCt>D<rD<rD, C<rCt>D<rDr>D, C<rCt>Dr>D<rD, C<rCt>Dr>Dr>D, C<rCt>Da>G<aD, C<rCt>Da>G<dD, C<rCt>Da>G<uD, C<rCt>Dd>G<aD, C<rCt>Dd>G<dD, C<rCt>Dd>G<uD, C<rCt>Du>G<aD, C<rCt>Du>G<dD, C<rCt>Du>G<uD, C<rCt>Dp>S<pD, C<rCb>G<dA<lD, C<rCb>G<eA<lD, C<rCb>G<uA<lD, C<rCb>G<bCp>D, C<rCb>G<bCt>D, C<rCb>G<dCp>D, C<rCb>G<dCt>D, C<rCb>G<uCp>D, C<rCb>G<uCt>D, C<rCb>G<aD<rD, C<rCb>G<aDr>D, C<rCb>G<dD<rD, C<rCb>G<dDr>D, C<rCb>G<uD<rD, C<rCb>G<uDr>D, C<rCb>G<cG<aD, C<rCb>G<cG<dD, C<rCb>G<cG<uD, C<rCb>Gc>G<aD, C<rCb>Gc>G<dD, C<rCb>Gc>G<uD, C<rCb>G<iG<aD, C<rCb>G<iG<dD, C<rCb>G<iG<uD, C<rCb>Gi>G<aD, C<rCb>Gi>G<dD, C<rCb>Gi>G<uD, C<rCb>G<r>G<aD, C<rCb>G<r>G<dD, C<rCb>G<r>G<uD, C<rCb>Gr>>G<aD, C<rCb>Gr>>G<dD, C<rCb>Gr>>G<uD, C<rCd>G<dA<lD, C<rCd>G<eA<lD, C<rCd>G<uA<lD, C<rCd>G<bCp>D, C<rCd>G<bCt>D, C<rCd>G<dCp>D, C<rCd>G<dCt>D, C<rCd>G<uCp>D, C<rCd>G<uCt>D, C<rCd>G<aD<rD, C<rCd>G<aDr>D, C<rCd>G<dD<rD, C<rCd>G<dDr>D, C<rCd>G<uD<rD, C<rCd>G<uDr>D, C<rCd>G<cG<aD, C<rCd>G<cG<dD, C<rCd>G<cG<uD, C<rCd>Gc>G<aD, C<rCd>Gc>G<dD, C<rCd>Gc>G<uD, C<rCd>G<iG<aD, C<rCd>G<iG<dD, C<rCd>G<iG<uD, C<rCd>Gi>G<aD, C<rCd>Gi>G<dD, C<rCd>Gi>G<uD, C<rCd>G<r>G<aD, C<rCd>G<r>G<dD, C<rCd>G<r>G<uD, C<rCd>Gr>>G<aD, C<rCd>Gr>>G<dD, C<rCd>Gr>>G<uD, C<rCu>G<dA<lD, C<rCu>G<eA<lD, C<rCu>G<uA<lD, C<rCu>G<bCp>D, C<rCu>G<bCt>D, C<rCu>G<dCp>D, C<rCu>G<dCt>D, C<rCu>G<uCp>D, C<rCu>G<uCt>D, C<rCu>G<aD<rD, C<rCu>G<aDr>D, C<rCu>G<dD<rD, C<rCu>G<dDr>D, C<rCu>G<uD<rD, C<rCu>G<uDr>D, C<rCu>G<cG<aD, C<rCu>G<cG<dD, C<rCu>G<cG<uD, C<rCu>Gc>G<aD, C<rCu>Gc>G<dD, C<rCu>Gc>G<uD, C<rCu>G<iG<aD, C<rCu>G<iG<dD, C<rCu>G<iG<uD, C<rCu>Gi>G<aD, C<rCu>Gi>G<dD, C<rCu>Gi>G<uD, C<rCu>G<r>G<aD, C<rCu>G<r>G<dD, C<rCu>G<r>G<uD, C<rCu>Gr>>G<aD, C<rCu>Gr>>G<dD, C<rCu>Gr>>G<uD, C<rC<iPCi>Cp>D, C<rC<iPCi>Ct>D, C<rCc>SE<cCp>D, C<rCc>SE<cCt>D, Cr>C<rC<rCp>D, Cr>C<rC<rCt>D, Cr>C<rCr>Cp>D, Cr>C<rCr>Ct>D, Cr>C<rCp>D<rD, Cr>C<rCp>Dr>D, Cr>C<rCt>D<rD, Cr>C<rCt>Dr>D, Cr>C<rCb>G<aD, Cr>C<rCb>G<dD, Cr>C<rCb>G<uD, Cr>C<rCd>G<aD, Cr>C<rCd>G<dD, Cr>C<rCd>G<uD, Cr>C<rCu>G<aD, Cr>C<rCu>G<dD, Cr>C<rCu>G<uD, Cr>Cr>C<rCp>D, Cr>Cr>C<rCt>D, Cr>Cr>Cr>Cp>D, Cr>Cr>Cr>Ct>D, Cr>Cr>Cp>D<rD, Cr>Cr>Cp>Dr>D, Cr>Cr>Ct>D<rD, Cr>Cr>Ct>Dr>D, Cr>Cr>Cb>G<aD, Cr>Cr>Cb>G<dD, Cr>Cr>Cb>G<uD, Cr>Cr>Cd>G<aD, Cr>Cr>Cd>G<dD, Cr>Cr>Cd>G<uD, Cr>Cr>Cu>G<aD, Cr>Cr>Cu>G<dD, Cr>Cr>Cu>G<uD, Cr>Cp>Dl>A<lD, Cr>Cp>D<pCp>D, Cr>Cp>D<pCt>D, Cr>Cp>D<tCp>D, Cr>Cp>D<tCt>D, Cr>Cp>D<rD<rD, Cr>Cp>D<rDr>D, Cr>Cp>Dr>D<rD, Cr>Cp>Dr>Dr>D, Cr>Cp>Da>G<aD, Cr>Cp>Da>G<dD, Cr>Cp>Da>G<uD, Cr>Cp>Dd>G<aD, Cr>Cp>Dd>G<dD, Cr>Cp>Dd>G<uD, Cr>Cp>Du>G<aD, Cr>Cp>Du>G<dD, Cr>Cp>Du>G<uD, Cr>Cp>Dp>S<pD, Cr>Ct>Dl>A<lD, Cr>Ct>D<pCp>D, Cr>Ct>D<pCt>D, Cr>Ct>D<tCp>D, Cr>Ct>D<tCt>D, Cr>Ct>D<rD<rD, Cr>Ct>D<rDr>D, Cr>Ct>Dr>D<rD, Cr>Ct>Dr>Dr>D, Cr>Ct>Da>G<aD, Cr>Ct>Da>G<dD, Cr>Ct>Da>G<uD, Cr>Ct>Dd>G<aD, Cr>Ct>Dd>G<dD, Cr>Ct>Dd>G<uD, Cr>Ct>Du>G<aD, Cr>Ct>Du>G<dD, Cr>Ct>Du>G<uD, Cr>Ct>Dp>S<pD, Cr>Cb>G<dA<lD, Cr>Cb>G<eA<lD, Cr>Cb>G<uA<lD, Cr>Cb>G<bCp>D, Cr>Cb>G<bCt>D, Cr>Cb>G<dCp>D, Cr>Cb>G<dCt>D, Cr>Cb>G<uCp>D, Cr>Cb>G<uCt>D, Cr>Cb>G<aD<rD, Cr>Cb>G<aDr>D, Cr>Cb>G<dD<rD, Cr>Cb>G<dDr>D, Cr>Cb>G<uD<rD, Cr>Cb>G<uDr>D, Cr>Cb>G<cG<aD, Cr>Cb>G<cG<dD, Cr>Cb>G<cG<uD, Cr>Cb>Gc>G<aD, Cr>Cb>Gc>G<dD, Cr>Cb>Gc>G<uD, Cr>Cb>G<iG<aD, Cr>Cb>G<iG<dD, Cr>Cb>G<iG<uD, Cr>Cb>Gi>G<aD, Cr>Cb>Gi>G<dD, Cr>Cb>Gi>G<uD, Cr>Cb>G<r>G<aD, Cr>Cb>G<r>G<dD, Cr>Cb>G<r>G<uD, Cr>Cb>Gr>>G<aD, Cr>Cb>Gr>>G<dD, Cr>Cb>Gr>>G<uD, Cr>Cd>G<dA<lD, Cr>Cd>G<eA<lD, Cr>Cd>G<uA<lD, Cr>Cd>G<bCp>D, Cr>Cd>G<bCt>D, Cr>Cd>G<dCp>D, Cr>Cd>G<dCt>D, Cr>Cd>G<uCp>D, Cr>Cd>G<uCt>D, Cr>Cd>G<aD<rD, Cr>Cd>G<aDr>D, Cr>Cd>G<dD<rD, Cr>Cd>G<dDr>D, Cr>Cd>G<uD<rD, Cr>Cd>G<uDr>D, Cr>Cd>G<cG<aD, Cr>Cd>G<cG<dD, Cr>Cd>G<cG<uD, Cr>Cd>Gc>G<aD, Cr>Cd>Gc>G<dD, Cr>Cd>Gc>G<uD, Cr>Cd>G<iG<aD, Cr>Cd>G<iG<dD, Cr>Cd>G<iG<uD, Cr>Cd>Gi>G<aD, Cr>Cd>Gi>G<dD, Cr>Cd>Gi>G<uD, Cr>Cd>G<r>G<aD, Cr>Cd>G<r>G<dD, Cr>Cd>G<r>G<uD, Cr>Cd>Gr>>G<aD, Cr>Cd>Gr>>G<dD, Cr>Cd>Gr>>G<uD, Cr>Cu>G<dA<lD, Cr>Cu>G<eA<lD, Cr>Cu>G<uA<lD, Cr>Cu>G<bCp>D, Cr>Cu>G<bCt>D, Cr>Cu>G<dCp>D, Cr>Cu>G<dCt>D, Cr>Cu>G<uCp>D, Cr>Cu>G<uCt>D, Cr>Cu>G<aD<rD, Cr>Cu>G<aDr>D, Cr>Cu>G<dD<rD, Cr>Cu>G<dDr>D, Cr>Cu>G<uD<rD, Cr>Cu>G<uDr>D, Cr>Cu>G<cG<aD, Cr>Cu>G<cG<dD, Cr>Cu>G<cG<uD, Cr>Cu>Gc>G<aD, Cr>Cu>Gc>G<dD, Cr>Cu>Gc>G<uD, Cr>Cu>G<iG<aD, Cr>Cu>G<iG<dD, Cr>Cu>G<iG<uD, Cr>Cu>Gi>G<aD, Cr>Cu>Gi>G<dD, Cr>Cu>Gi>G<uD, Cr>Cu>G<r>G<aD, Cr>Cu>G<r>G<dD, Cr>Cu>G<r>G<uD, Cr>Cu>Gr>>G<aD, Cr>Cu>Gr>>G<dD, Cr>Cu>Gr>>G<uD, Cr>C<iPCi>Cp>D, Cr>C<iPCi>Ct>D, Cr>Cc>SE<cCp>D, Cr>Cc>SE<cCt>D, Cp>Dl>A<lD<rD, Cp>Dl>A<lDr>D, Cp>Dl>Ad>G<aD, Cp>Dl>Ad>G<dD, Cp>Dl>Ad>G<uD, Cp>Dl>Ae>G<aD, Cp>Dl>Ae>G<dD, Cp>Dl>Ae>G<uD, Cp>Dl>Au>G<aD, Cp>Dl>Au>G<dD, Cp>Dl>Au>G<uD, Cp>D<pC<rCp>D, Cp>D<pC<rCt>D, Cp>D<pCr>Cp>D, Cp>D<pCr>Ct>D, Cp>D<pCp>D<rD, Cp>D<pCp>Dr>D, Cp>D<pCt>D<rD, Cp>D<pCt>Dr>D, Cp>D<pCb>G<aD, Cp>D<pCb>G<dD, Cp>D<pCb>G<uD, Cp>D<pCd>G<aD, Cp>D<pCd>G<dD, Cp>D<pCd>G<uD, Cp>D<pCu>G<aD, Cp>D<pCu>G<dD, Cp>D<pCu>G<uD, Cp>D<tC<rCp>D, Cp>D<tC<rCt>D, Cp>D<tCr>Cp>D, Cp>D<tCr>Ct>D, Cp>D<tCp>D<rD, Cp>D<tCp>Dr>D, Cp>D<tCt>D<rD, Cp>D<tCt>Dr>D, Cp>D<tCb>G<aD, Cp>D<tCb>G<dD, Cp>D<tCb>G<uD, Cp>D<tCd>G<aD, Cp>D<tCd>G<dD, Cp>D<tCd>G<uD, Cp>D<tCu>G<aD, Cp>D<tCu>G<dD, Cp>D<tCu>G<uD, Cp>D<rDl>A<lD, Cp>D<rD<pCp>D, Cp>D<rD<pCt>D, Cp>D<rD<tCp>D, Cp>D<rD<tCt>D, Cp>D<rD<rD<rD, Cp>D<rD<rDr>D, Cp>D<rDr>D<rD, Cp>D<rDr>Dr>D, Cp>D<rDa>G<aD, Cp>D<rDa>G<dD, Cp>D<rDa>G<uD, Cp>D<rDd>G<aD, Cp>D<rDd>G<dD, Cp>D<rDd>G<uD, Cp>D<rDu>G<aD, Cp>D<rDu>G<dD, Cp>D<rDu>G<uD, Cp>D<rDp>S<pD, Cp>Dr>Dl>A<lD, Cp>Dr>D<pCp>D, Cp>Dr>D<pCt>D, Cp>Dr>D<tCp>D, Cp>Dr>D<tCt>D, Cp>Dr>D<rD<rD, Cp>Dr>D<rDr>D, Cp>Dr>Dr>D<rD, Cp>Dr>Dr>Dr>D, Cp>Dr>Da>G<aD, Cp>Dr>Da>G<dD, Cp>Dr>Da>G<uD, Cp>Dr>Dd>G<aD, Cp>Dr>Dd>G<dD, Cp>Dr>Dd>G<uD, Cp>Dr>Du>G<aD, Cp>Dr>Du>G<dD, Cp>Dr>Du>G<uD, Cp>Dr>Dp>S<pD, Cp>Da>G<dA<lD, Cp>Da>G<eA<lD, Cp>Da>G<uA<lD, Cp>Da>G<bCp>D, Cp>Da>G<bCt>D, Cp>Da>G<dCp>D, Cp>Da>G<dCt>D, Cp>Da>G<uCp>D, Cp>Da>G<uCt>D, Cp>Da>G<aD<rD, Cp>Da>G<aDr>D, Cp>Da>G<dD<rD, Cp>Da>G<dDr>D, Cp>Da>G<uD<rD, Cp>Da>G<uDr>D, Cp>Da>G<cG<aD, Cp>Da>G<cG<dD, Cp>Da>G<cG<uD, Cp>Da>Gc>G<aD, Cp>Da>Gc>G<dD, Cp>Da>Gc>G<uD, Cp>Da>G<iG<aD, Cp>Da>G<iG<dD, Cp>Da>G<iG<uD, Cp>Da>Gi>G<aD, Cp>Da>Gi>G<dD, Cp>Da>Gi>G<uD, Cp>Da>G<r>G<aD, Cp>Da>G<r>G<dD, Cp>Da>G<r>G<uD, Cp>Da>Gr>>G<aD, Cp>Da>Gr>>G<dD, Cp>Da>Gr>>G<uD, Cp>Dd>G<dA<lD, Cp>Dd>G<eA<lD, Cp>Dd>G<uA<lD, Cp>Dd>G<bCp>D, Cp>Dd>G<bCt>D, Cp>Dd>G<dCp>D, Cp>Dd>G<dCt>D, Cp>Dd>G<uCp>D, Cp>Dd>G<uCt>D, Cp>Dd>G<aD<rD, Cp>Dd>G<aDr>D, Cp>Dd>G<dD<rD, Cp>Dd>G<dDr>D, Cp>Dd>G<uD<rD, Cp>Dd>G<uDr>D, Cp>Dd>G<cG<aD, Cp>Dd>G<cG<dD, Cp>Dd>G<cG<uD, Cp>Dd>Gc>G<aD, Cp>Dd>Gc>G<dD, Cp>Dd>Gc>G<uD, Cp>Dd>G<iG<aD, Cp>Dd>G<iG<dD, Cp>Dd>G<iG<uD, Cp>Dd>Gi>G<aD, Cp>Dd>Gi>G<dD, Cp>Dd>Gi>G<uD, Cp>Dd>G<r>G<aD, Cp>Dd>G<r>G<dD, Cp>Dd>G<r>G<uD, Cp>Dd>Gr>>G<aD, Cp>Dd>Gr>>G<dD, Cp>Dd>Gr>>G<uD, Cp>Du>G<dA<lD, Cp>Du>G<eA<lD, Cp>Du>G<uA<lD, Cp>Du>G<bCp>D, Cp>Du>G<bCt>D, Cp>Du>G<dCp>D, Cp>Du>G<dCt>D, Cp>Du>G<uCp>D, Cp>Du>G<uCt>D, Cp>Du>G<aD<rD, Cp>Du>G<aDr>D, Cp>Du>G<dD<rD, Cp>Du>G<dDr>D, Cp>Du>G<uD<rD, Cp>Du>G<uDr>D, Cp>Du>G<cG<aD, Cp>Du>G<cG<dD, Cp>Du>G<cG<uD, Cp>Du>Gc>G<aD, Cp>Du>Gc>G<dD, Cp>Du>Gc>G<uD, Cp>Du>G<iG<aD, Cp>Du>G<iG<dD, Cp>Du>G<iG<uD, Cp>Du>Gi>G<aD, Cp>Du>Gi>G<dD, Cp>Du>Gi>G<uD, Cp>Du>G<r>G<aD, Cp>Du>G<r>G<dD, Cp>Du>G<r>G<uD, Cp>Du>Gr>>G<aD, Cp>Du>Gr>>G<dD, Cp>Du>Gr>>G<uD, Cp>Dp>S<pD<rD, Cp>Dp>S<pDr>D, Ct>Dl>A<lD<rD, Ct>Dl>A<lDr>D, Ct>Dl>Ad>G<aD, Ct>Dl>Ad>G<dD, Ct>Dl>Ad>G<uD, Ct>Dl>Ae>G<aD, Ct>Dl>Ae>G<dD, Ct>Dl>Ae>G<uD, Ct>Dl>Au>G<aD, Ct>Dl>Au>G<dD, Ct>Dl>Au>G<uD, Ct>D<pC<rCp>D, Ct>D<pC<rCt>D, Ct>D<pCr>Cp>D, Ct>D<pCr>Ct>D, Ct>D<pCp>D<rD, Ct>D<pCp>Dr>D, Ct>D<pCt>D<rD, Ct>D<pCt>Dr>D, Ct>D<pCb>G<aD, Ct>D<pCb>G<dD, Ct>D<pCb>G<uD, Ct>D<pCd>G<aD, Ct>D<pCd>G<dD, Ct>D<pCd>G<uD, Ct>D<pCu>G<aD, Ct>D<pCu>G<dD, Ct>D<pCu>G<uD, Ct>D<tC<rCp>D, Ct>D<tC<rCt>D, Ct>D<tCr>Cp>D, Ct>D<tCr>Ct>D, Ct>D<tCp>D<rD, Ct>D<tCp>Dr>D, Ct>D<tCt>D<rD, Ct>D<tCt>Dr>D, Ct>D<tCb>G<aD, Ct>D<tCb>G<dD, Ct>D<tCb>G<uD, Ct>D<tCd>G<aD, Ct>D<tCd>G<dD, Ct>D<tCd>G<uD, Ct>D<tCu>G<aD, Ct>D<tCu>G<dD, Ct>D<tCu>G<uD, Ct>D<rDl>A<lD, Ct>D<rD<pCp>D, Ct>D<rD<pCt>D, Ct>D<rD<tCp>D, Ct>D<rD<tCt>D, Ct>D<rD<rD<rD, Ct>D<rD<rDr>D, Ct>D<rDr>D<rD, Ct>D<rDr>Dr>D, Ct>D<rDa>G<aD, Ct>D<rDa>G<dD, Ct>D<rDa>G<uD, Ct>D<rDd>G<aD, Ct>D<rDd>G<dD, Ct>D<rDd>G<uD, Ct>D<rDu>G<aD, Ct>D<rDu>G<dD, Ct>D<rDu>G<uD, Ct>D<rDp>S<pD, Ct>Dr>Dl>A<lD, Ct>Dr>D<pCp>D, Ct>Dr>D<pCt>D, Ct>Dr>D<tCp>D, Ct>Dr>D<tCt>D, Ct>Dr>D<rD<rD, Ct>Dr>D<rDr>D, Ct>Dr>Dr>D<rD, Ct>Dr>Dr>Dr>D, Ct>Dr>Da>G<aD, Ct>Dr>Da>G<dD, Ct>Dr>Da>G<uD, Ct>Dr>Dd>G<aD, Ct>Dr>Dd>G<dD, Ct>Dr>Dd>G<uD, Ct>Dr>Du>G<aD, Ct>Dr>Du>G<dD, Ct>Dr>Du>G<uD, Ct>Dr>Dp>S<pD, Ct>Da>G<dA<lD, Ct>Da>G<eA<lD, Ct>Da>G<uA<lD, Ct>Da>G<bCp>D, Ct>Da>G<bCt>D, Ct>Da>G<dCp>D, Ct>Da>G<dCt>D, Ct>Da>G<uCp>D, Ct>Da>G<uCt>D, Ct>Da>G<aD<rD, Ct>Da>G<aDr>D, Ct>Da>G<dD<rD, Ct>Da>G<dDr>D, Ct>Da>G<uD<rD, Ct>Da>G<uDr>D, Ct>Da>G<cG<aD, Ct>Da>G<cG<dD, Ct>Da>G<cG<uD, Ct>Da>Gc>G<aD, Ct>Da>Gc>G<dD, Ct>Da>Gc>G<uD, Ct>Da>G<iG<aD, Ct>Da>G<iG<dD, Ct>Da>G<iG<uD, Ct>Da>Gi>G<aD, Ct>Da>Gi>G<dD, Ct>Da>Gi>G<uD, Ct>Da>G<r>G<aD, Ct>Da>G<r>G<dD, Ct>Da>G<r>G<uD, Ct>Da>Gr>>G<aD, Ct>Da>Gr>>G<dD, Ct>Da>Gr>>G<uD, Ct>Dd>G<dA<lD, Ct>Dd>G<eA<lD, Ct>Dd>G<uA<lD, Ct>Dd>G<bCp>D, Ct>Dd>G<bCt>D, Ct>Dd>G<dCp>D, Ct>Dd>G<dCt>D, Ct>Dd>G<uCp>D, Ct>Dd>G<uCt>D, Ct>Dd>G<aD<rD, Ct>Dd>G<aDr>D, Ct>Dd>G<dD<rD, Ct>Dd>G<dDr>D, Ct>Dd>G<uD<rD, Ct>Dd>G<uDr>D, Ct>Dd>G<cG<aD, Ct>Dd>G<cG<dD, Ct>Dd>G<cG<uD, Ct>Dd>Gc>G<aD, Ct>Dd>Gc>G<dD, Ct>Dd>Gc>G<uD, Ct>Dd>G<iG<aD, Ct>Dd>G<iG<dD, Ct>Dd>G<iG<uD, Ct>Dd>Gi>G<aD, Ct>Dd>Gi>G<dD, Ct>Dd>Gi>G<uD, Ct>Dd>G<r>G<aD, Ct>Dd>G<r>G<dD, Ct>Dd>G<r>G<uD, Ct>Dd>Gr>>G<aD, Ct>Dd>Gr>>G<dD, Ct>Dd>Gr>>G<uD, Ct>Du>G<dA<lD, Ct>Du>G<eA<lD, Ct>Du>G<uA<lD, Ct>Du>G<bCp>D, Ct>Du>G<bCt>D, Ct>Du>G<dCp>D, Ct>Du>G<dCt>D, Ct>Du>G<uCp>D, Ct>Du>G<uCt>D, Ct>Du>G<aD<rD, Ct>Du>G<aDr>D, Ct>Du>G<dD<rD, Ct>Du>G<dDr>D, Ct>Du>G<uD<rD, Ct>Du>G<uDr>D, Ct>Du>G<cG<aD, Ct>Du>G<cG<dD, Ct>Du>G<cG<uD, Ct>Du>Gc>G<aD, Ct>Du>Gc>G<dD, Ct>Du>Gc>G<uD, Ct>Du>G<iG<aD, Ct>Du>G<iG<dD, Ct>Du>G<iG<uD, Ct>Du>Gi>G<aD, Ct>Du>Gi>G<dD, Ct>Du>Gi>G<uD, Ct>Du>G<r>G<aD, Ct>Du>G<r>G<dD, Ct>Du>G<r>G<uD, Ct>Du>Gr>>G<aD, Ct>Du>Gr>>G<dD, Ct>Du>Gr>>G<uD, Ct>Dp>S<pD<rD, Ct>Dp>S<pDr>D, Cb>G<dA<lD<rD, Cb>G<dA<lDr>D, Cb>G<dAd>G<aD, Cb>G<dAd>G<dD, Cb>G<dAd>G<uD, Cb>G<dAe>G<aD, Cb>G<dAe>G<dD, Cb>G<dAe>G<uD, Cb>G<dAu>G<aD, Cb>G<dAu>G<dD, Cb>G<dAu>G<uD, Cb>G<eA<lD<rD, Cb>G<eA<lDr>D, Cb>G<eAd>G<aD, Cb>G<eAd>G<dD, Cb>G<eAd>G<uD, Cb>G<eAe>G<aD, Cb>G<eAe>G<dD, Cb>G<eAe>G<uD, Cb>G<eAu>G<aD, Cb>G<eAu>G<dD, Cb>G<eAu>G<uD, Cb>G<uA<lD<rD, Cb>G<uA<lDr>D, Cb>G<uAd>G<aD, Cb>G<uAd>G<dD, Cb>G<uAd>G<uD, Cb>G<uAe>G<aD, Cb>G<uAe>G<dD, Cb>G<uAe>G<uD, Cb>G<uAu>G<aD, Cb>G<uAu>G<dD, Cb>G<uAu>G<uD, Cb>Gp>BP<pG<aD, Cb>Gp>BP<pG<dD, Cb>Gp>BP<pG<uD, Cb>Gp>CC<pG<aD, Cb>Gp>CC<pG<dD, Cb>Gp>CC<pG<uD, Cb>G<bC<rCp>D, Cb>G<bC<rCt>D, Cb>G<bCr>Cp>D, Cb>G<bCr>Ct>D, Cb>G<bCp>D<rD, Cb>G<bCp>Dr>D, Cb>G<bCt>D<rD, Cb>G<bCt>Dr>D, Cb>G<bCb>G<aD, Cb>G<bCb>G<dD, Cb>G<bCb>G<uD, Cb>G<bCd>G<aD, Cb>G<bCd>G<dD, Cb>G<bCd>G<uD, Cb>G<bCu>G<aD, Cb>G<bCu>G<dD, Cb>G<bCu>G<uD, Cb>G<dC<rCp>D, Cb>G<dC<rCt>D, Cb>G<dCr>Cp>D, Cb>G<dCr>Ct>D, Cb>G<dCp>D<rD, Cb>G<dCp>Dr>D, Cb>G<dCt>D<rD, Cb>G<dCt>Dr>D, Cb>G<dCb>G<aD, Cb>G<dCb>G<dD, Cb>G<dCb>G<uD, Cb>G<dCd>G<aD, Cb>G<dCd>G<dD, Cb>G<dCd>G<uD, Cb>G<dCu>G<aD, Cb>G<dCu>G<dD, Cb>G<dCu>G<uD, Cb>G<uC<rCp>D, Cb>G<uC<rCt>D, Cb>G<uCr>Cp>D, Cb>G<uCr>Ct>D, Cb>G<uCp>D<rD, Cb>G<uCp>Dr>D, Cb>G<uCt>D<rD, Cb>G<uCt>Dr>D, Cb>G<uCb>G<aD, Cb>G<uCb>G<dD, Cb>G<uCb>G<uD, Cb>G<uCd>G<aD, Cb>G<uCd>G<dD, Cb>G<uCd>G<uD, Cb>G<uCu>G<aD, Cb>G<uCu>G<dD, Cb>G<uCu>G<uD, Cb>G<aDl>A<lD, Cb>G<aD<pCp>D, Cb>G<aD<pCt>D, Cb>G<aD<tCp>D, Cb>G<aD<tCt>D, Cb>G<aD<rD<rD, Cb>G<aD<rDr>D, Cb>G<aDr>D<rD, Cb>G<aDr>Dr>D, Cb>G<aDa>G<aD, Cb>G<aDa>G<dD, Cb>G<aDa>G<uD, Cb>G<aDd>G<aD, Cb>G<aDd>G<dD, Cb>G<aDd>G<uD, Cb>G<aDu>G<aD, Cb>G<aDu>G<dD, Cb>G<aDu>G<uD, Cb>G<aDp>S<pD, Cb>G<dDl>A<lD, Cb>G<dD<pCp>D, Cb>G<dD<pCt>D, Cb>G<dD<tCp>D, Cb>G<dD<tCt>D, Cb>G<dD<rD<rD, Cb>G<dD<rDr>D, Cb>G<dDr>D<rD, Cb>G<dDr>Dr>D, Cb>G<dDa>G<aD, Cb>G<dDa>G<dD, Cb>G<dDa>G<uD, Cb>G<dDd>G<aD, Cb>G<dDd>G<dD, Cb>G<dDd>G<uD, Cb>G<dDu>G<aD, Cb>G<dDu>G<dD, Cb>G<dDu>G<uD, Cb>G<dDp>S<pD, Cb>G<uDl>A<lD, Cb>G<uD<pCp>D, Cb>G<uD<pCt>D, Cb>G<uD<tCp>D, Cb>G<uD<tCt>D, Cb>G<uD<rD<rD, Cb>G<uD<rDr>D, Cb>G<uDr>D<rD, Cb>G<uDr>Dr>D, Cb>G<uDa>G<aD, Cb>G<uDa>G<dD, Cb>G<uDa>G<uD, Cb>G<uDd>G<aD, Cb>G<uDd>G<dD, Cb>G<uDd>G<uD, Cb>G<uDu>G<aD, Cb>G<uDu>G<dD, Cb>G<uDu>G<uD, Cb>G<uDp>S<pD, Cb>G<cG<dA<lD, Cb>G<cG<eA<lD, Cb>G<cG<uA<lD, Cb>G<cG<bCp>D, Cb>G<cG<bCt>D, Cb>G<cG<dCp>D, Cb>G<cG<dCt>D, Cb>G<cG<uCp>D, Cb>G<cG<uCt>D, Cb>G<cG<aD<rD, Cb>G<cG<aDr>D, Cb>G<cG<dD<rD, Cb>G<cG<dDr>D, Cb>G<cG<uD<rD, Cb>G<cG<uDr>D, Cb>G<cG<cG<aD, Cb>G<cG<cG<dD, Cb>G<cG<cG<uD, Cb>G<cGc>G<aD, Cb>G<cGc>G<dD, Cb>G<cGc>G<uD, Cb>G<cG<iG<aD, Cb>G<cG<iG<dD, Cb>G<cG<iG<uD, Cb>G<cGi>G<aD, Cb>G<cGi>G<dD, Cb>G<cGi>G<uD, Cb>G<cG<r>G<aD, Cb>G<cG<r>G<dD, Cb>G<cG<r>G<uD, Cb>G<cGr>>G<aD, Cb>G<cGr>>G<dD, Cb>G<cGr>>G<uD, Cb>Gc>G<dA<lD, Cb>Gc>G<eA<lD, Cb>Gc>G<uA<lD, Cb>Gc>G<bCp>D, Cb>Gc>G<bCt>D, Cb>Gc>G<dCp>D, Cb>Gc>G<dCt>D, Cb>Gc>G<uCp>D, Cb>Gc>G<uCt>D, Cb>Gc>G<aD<rD, Cb>Gc>G<aDr>D, Cb>Gc>G<dD<rD, Cb>Gc>G<dDr>D, Cb>Gc>G<uD<rD, Cb>Gc>G<uDr>D, Cb>Gc>G<cG<aD, Cb>Gc>G<cG<dD, Cb>Gc>G<cG<uD, Cb>Gc>Gc>G<aD, Cb>Gc>Gc>G<dD, Cb>Gc>Gc>G<uD, Cb>Gc>G<iG<aD, Cb>Gc>G<iG<dD, Cb>Gc>G<iG<uD, Cb>Gc>Gi>G<aD, Cb>Gc>Gi>G<dD, Cb>Gc>Gi>G<uD, Cb>Gc>G<r>G<aD, Cb>Gc>G<r>G<dD, Cb>Gc>G<r>G<uD, Cb>Gc>Gr>>G<aD, Cb>Gc>Gr>>G<dD, Cb>Gc>Gr>>G<uD, Cb>G<iG<dA<lD, Cb>G<iG<eA<lD, Cb>G<iG<uA<lD, Cb>G<iG<bCp>D, Cb>G<iG<bCt>D, Cb>G<iG<dCp>D, Cb>G<iG<dCt>D, Cb>G<iG<uCp>D, Cb>G<iG<uCt>D, Cb>G<iG<aD<rD, Cb>G<iG<aDr>D, Cb>G<iG<dD<rD, Cb>G<iG<dDr>D, Cb>G<iG<uD<rD, Cb>G<iG<uDr>D, Cb>G<iG<cG<aD, Cb>G<iG<cG<dD, Cb>G<iG<cG<uD, Cb>G<iGc>G<aD, Cb>G<iGc>G<dD, Cb>G<iGc>G<uD, Cb>G<iG<iG<aD, Cb>G<iG<iG<dD, Cb>G<iG<iG<uD, Cb>G<iGi>G<aD, Cb>G<iGi>G<dD, Cb>G<iGi>G<uD, Cb>G<iG<r>G<aD, Cb>G<iG<r>G<dD, Cb>G<iG<r>G<uD, Cb>G<iGr>>G<aD, Cb>G<iGr>>G<dD, Cb>G<iGr>>G<uD, Cb>Gi>G<dA<lD, Cb>Gi>G<eA<lD, Cb>Gi>G<uA<lD, Cb>Gi>G<bCp>D, Cb>Gi>G<bCt>D, Cb>Gi>G<dCp>D, Cb>Gi>G<dCt>D, Cb>Gi>G<uCp>D, Cb>Gi>G<uCt>D, Cb>Gi>G<aD<rD, Cb>Gi>G<aDr>D, Cb>Gi>G<dD<rD, Cb>Gi>G<dDr>D, Cb>Gi>G<uD<rD, Cb>Gi>G<uDr>D, Cb>Gi>G<cG<aD, Cb>Gi>G<cG<dD, Cb>Gi>G<cG<uD, Cb>Gi>Gc>G<aD, Cb>Gi>Gc>G<dD, Cb>Gi>Gc>G<uD, Cb>Gi>G<iG<aD, Cb>Gi>G<iG<dD, Cb>Gi>G<iG<uD, Cb>Gi>Gi>G<aD, Cb>Gi>Gi>G<dD, Cb>Gi>Gi>G<uD, Cb>Gi>G<r>G<aD, Cb>Gi>G<r>G<dD, Cb>Gi>G<r>G<uD, Cb>Gi>Gr>>G<aD, Cb>Gi>Gr>>G<dD, Cb>Gi>Gr>>G<uD, Cb>G<r>G<dA<lD, Cb>G<r>G<eA<lD, Cb>G<r>G<uA<lD, Cb>G<r>G<bCp>D, Cb>G<r>G<bCt>D, Cb>G<r>G<dCp>D, Cb>G<r>G<dCt>D, Cb>G<r>G<uCp>D, Cb>G<r>G<uCt>D, Cb>G<r>G<aD<rD, Cb>G<r>G<aDr>D, Cb>G<r>G<dD<rD, Cb>G<r>G<dDr>D, Cb>G<r>G<uD<rD, Cb>G<r>G<uDr>D, Cb>G<r>G<cG<aD, Cb>G<r>G<cG<dD, Cb>G<r>G<cG<uD, Cb>G<r>Gc>G<aD, Cb>G<r>Gc>G<dD, Cb>G<r>Gc>G<uD, Cb>G<r>G<iG<aD, Cb>G<r>G<iG<dD, Cb>G<r>G<iG<uD, Cb>G<r>Gi>G<aD, Cb>G<r>Gi>G<dD, Cb>G<r>Gi>G<uD, Cb>G<r>G<r>G<aD, Cb>G<r>G<r>G<dD, Cb>G<r>G<r>G<uD, Cb>G<r>Gr>>G<aD, Cb>G<r>Gr>>G<dD, Cb>G<r>Gr>>G<uD, Cb>Gr>>G<dA<lD, Cb>Gr>>G<eA<lD, Cb>Gr>>G<uA<lD, Cb>Gr>>G<bCp>D, Cb>Gr>>G<bCt>D, Cb>Gr>>G<dCp>D, Cb>Gr>>G<dCt>D, Cb>Gr>>G<uCp>D, Cb>Gr>>G<uCt>D, Cb>Gr>>G<aD<rD, Cb>Gr>>G<aDr>D, Cb>Gr>>G<dD<rD, Cb>Gr>>G<dDr>D, Cb>Gr>>G<uD<rD, Cb>Gr>>G<uDr>D, Cb>Gr>>G<cG<aD, Cb>Gr>>G<cG<dD, Cb>Gr>>G<cG<uD, Cb>Gr>>Gc>G<aD, Cb>Gr>>Gc>G<dD, Cb>Gr>>Gc>G<uD, Cb>Gr>>G<iG<aD, Cb>Gr>>G<iG<dD, Cb>Gr>>G<iG<uD, Cb>Gr>>Gi>G<aD, Cb>Gr>>Gi>G<dD, Cb>Gr>>Gi>G<uD, Cb>Gr>>G<r>G<aD, Cb>Gr>>G<r>G<dD, Cb>Gr>>G<r>G<uD, Cb>Gr>>Gr>>G<aD, Cb>Gr>>Gr>>G<dD, Cb>Gr>>Gr>>G<uD, Cb>Gp>MF<pG<aD, Cb>Gp>MF<pG<dD, Cb>Gp>MF<pG<uD, Cb>Gp>PW<pG<aD, Cb>Gp>PW<pG<dD, Cb>Gp>PW<pG<uD, Cd>G<dA<lD<rD, Cd>G<dA<lDr>D, Cd>G<dAd>G<aD, Cd>G<dAd>G<dD, Cd>G<dAd>G<uD, Cd>G<dAe>G<aD, Cd>G<dAe>G<dD, Cd>G<dAe>G<uD, Cd>G<dAu>G<aD, Cd>G<dAu>G<dD, Cd>G<dAu>G<uD, Cd>G<eA<lD<rD, Cd>G<eA<lDr>D, Cd>G<eAd>G<aD, Cd>G<eAd>G<dD, Cd>G<eAd>G<uD, Cd>G<eAe>G<aD, Cd>G<eAe>G<dD, Cd>G<eAe>G<uD, Cd>G<eAu>G<aD, Cd>G<eAu>G<dD, Cd>G<eAu>G<uD, Cd>G<uA<lD<rD, Cd>G<uA<lDr>D, Cd>G<uAd>G<aD, Cd>G<uAd>G<dD, Cd>G<uAd>G<uD, Cd>G<uAe>G<aD, Cd>G<uAe>G<dD, Cd>G<uAe>G<uD, Cd>G<uAu>G<aD, Cd>G<uAu>G<dD, Cd>G<uAu>G<uD, Cd>Gp>BP<pG<aD, Cd>Gp>BP<pG<dD, Cd>Gp>BP<pG<uD, Cd>Gp>CC<pG<aD, Cd>Gp>CC<pG<dD, Cd>Gp>CC<pG<uD, Cd>G<bC<rCp>D, Cd>G<bC<rCt>D, Cd>G<bCr>Cp>D, Cd>G<bCr>Ct>D, Cd>G<bCp>D<rD, Cd>G<bCp>Dr>D, Cd>G<bCt>D<rD, Cd>G<bCt>Dr>D, Cd>G<bCb>G<aD, Cd>G<bCb>G<dD, Cd>G<bCb>G<uD, Cd>G<bCd>G<aD, Cd>G<bCd>G<dD, Cd>G<bCd>G<uD, Cd>G<bCu>G<aD, Cd>G<bCu>G<dD, Cd>G<bCu>G<uD, Cd>G<dC<rCp>D, Cd>G<dC<rCt>D, Cd>G<dCr>Cp>D, Cd>G<dCr>Ct>D, Cd>G<dCp>D<rD, Cd>G<dCp>Dr>D, Cd>G<dCt>D<rD, Cd>G<dCt>Dr>D, Cd>G<dCb>G<aD, Cd>G<dCb>G<dD, Cd>G<dCb>G<uD, Cd>G<dCd>G<aD, Cd>G<dCd>G<dD, Cd>G<dCd>G<uD, Cd>G<dCu>G<aD, Cd>G<dCu>G<dD, Cd>G<dCu>G<uD, Cd>G<uC<rCp>D, Cd>G<uC<rCt>D, Cd>G<uCr>Cp>D, Cd>G<uCr>Ct>D, Cd>G<uCp>D<rD, Cd>G<uCp>Dr>D, Cd>G<uCt>D<rD, Cd>G<uCt>Dr>D, Cd>G<uCb>G<aD, Cd>G<uCb>G<dD, Cd>G<uCb>G<uD, Cd>G<uCd>G<aD, Cd>G<uCd>G<dD, Cd>G<uCd>G<uD, Cd>G<uCu>G<aD, Cd>G<uCu>G<dD, Cd>G<uCu>G<uD, Cd>G<aDl>A<lD, Cd>G<aD<pCp>D, Cd>G<aD<pCt>D, Cd>G<aD<tCp>D, Cd>G<aD<tCt>D, Cd>G<aD<rD<rD, Cd>G<aD<rDr>D, Cd>G<aDr>D<rD, Cd>G<aDr>Dr>D, Cd>G<aDa>G<aD, Cd>G<aDa>G<dD, Cd>G<aDa>G<uD, Cd>G<aDd>G<aD, Cd>G<aDd>G<dD, Cd>G<aDd>G<uD, Cd>G<aDu>G<aD, Cd>G<aDu>G<dD, Cd>G<aDu>G<uD, Cd>G<aDp>S<pD, Cd>G<dDl>A<lD, Cd>G<dD<pCp>D, Cd>G<dD<pCt>D, Cd>G<dD<tCp>D, Cd>G<dD<tCt>D, Cd>G<dD<rD<rD, Cd>G<dD<rDr>D, Cd>G<dDr>D<rD, Cd>G<dDr>Dr>D, Cd>G<dDa>G<aD, Cd>G<dDa>G<dD, Cd>G<dDa>G<uD, Cd>G<dDd>G<aD, Cd>G<dDd>G<dD, Cd>G<dDd>G<uD, Cd>G<dDu>G<aD, Cd>G<dDu>G<dD, Cd>G<dDu>G<uD, Cd>G<dDp>S<pD, Cd>G<uDl>A<lD, Cd>G<uD<pCp>D, Cd>G<uD<pCt>D, Cd>G<uD<tCp>D, Cd>G<uD<tCt>D, Cd>G<uD<rD<rD, Cd>G<uD<rDr>D, Cd>G<uDr>D<rD, Cd>G<uDr>Dr>D, Cd>G<uDa>G<aD, Cd>G<uDa>G<dD, Cd>G<uDa>G<uD, Cd>G<uDd>G<aD, Cd>G<uDd>G<dD, Cd>G<uDd>G<uD, Cd>G<uDu>G<aD, Cd>G<uDu>G<dD, Cd>G<uDu>G<uD, Cd>G<uDp>S<pD, Cd>G<cG<dA<lD, Cd>G<cG<eA<lD, Cd>G<cG<uA<lD, Cd>G<cG<bCp>D, Cd>G<cG<bCt>D, Cd>G<cG<dCp>D, Cd>G<cG<dCt>D, Cd>G<cG<uCp>D, Cd>G<cG<uCt>D, Cd>G<cG<aD<rD, Cd>G<cG<aDr>D, Cd>G<cG<dD<rD, Cd>G<cG<dDr>D, Cd>G<cG<uD<rD, Cd>G<cG<uDr>D, Cd>G<cG<cG<aD, Cd>G<cG<cG<dD, Cd>G<cG<cG<uD, Cd>G<cGc>G<aD, Cd>G<cGc>G<dD, Cd>G<cGc>G<uD, Cd>G<cG<iG<aD, Cd>G<cG<iG<dD, Cd>G<cG<iG<uD, Cd>G<cGi>G<aD, Cd>G<cGi>G<dD, Cd>G<cGi>G<uD, Cd>G<cG<r>G<aD, Cd>G<cG<r>G<dD, Cd>G<cG<r>G<uD, Cd>G<cGr>>G<aD, Cd>G<cGr>>G<dD, Cd>G<cGr>>G<uD, Cd>Gc>G<dA<lD, Cd>Gc>G<eA<lD, Cd>Gc>G<uA<lD, Cd>Gc>G<bCp>D, Cd>Gc>G<bCt>D, Cd>Gc>G<dCp>D, Cd>Gc>G<dCt>D, Cd>Gc>G<uCp>D, Cd>Gc>G<uCt>D, Cd>Gc>G<aD<rD, Cd>Gc>G<aDr>D, Cd>Gc>G<dD<rD, Cd>Gc>G<dDr>D, Cd>Gc>G<uD<rD, Cd>Gc>G<uDr>D, Cd>Gc>G<cG<aD, Cd>Gc>G<cG<dD, Cd>Gc>G<cG<uD, Cd>Gc>Gc>G<aD, Cd>Gc>Gc>G<dD, Cd>Gc>Gc>G<uD, Cd>Gc>G<iG<aD, Cd>Gc>G<iG<dD, Cd>Gc>G<iG<uD, Cd>Gc>Gi>G<aD, Cd>Gc>Gi>G<dD, Cd>Gc>Gi>G<uD, Cd>Gc>G<r>G<aD, Cd>Gc>G<r>G<dD, Cd>Gc>G<r>G<uD, Cd>Gc>Gr>>G<aD, Cd>Gc>Gr>>G<dD, Cd>Gc>Gr>>G<uD, Cd>G<iG<dA<lD, Cd>G<iG<eA<lD, Cd>G<iG<uA<lD, Cd>G<iG<bCp>D, Cd>G<iG<bCt>D, Cd>G<iG<dCp>D, Cd>G<iG<dCt>D, Cd>G<iG<uCp>D, Cd>G<iG<uCt>D, Cd>G<iG<aD<rD, Cd>G<iG<aDr>D, Cd>G<iG<dD<rD, Cd>G<iG<dDr>D, Cd>G<iG<uD<rD, Cd>G<iG<uDr>D, Cd>G<iG<cG<aD, Cd>G<iG<cG<dD, Cd>G<iG<cG<uD, Cd>G<iGc>G<aD, Cd>G<iGc>G<dD, Cd>G<iGc>G<uD, Cd>G<iG<iG<aD, Cd>G<iG<iG<dD, Cd>G<iG<iG<uD, Cd>G<iGi>G<aD, Cd>G<iGi>G<dD, Cd>G<iGi>G<uD, Cd>G<iG<r>G<aD, Cd>G<iG<r>G<dD, Cd>G<iG<r>G<uD, Cd>G<iGr>>G<aD, Cd>G<iGr>>G<dD, Cd>G<iGr>>G<uD, Cd>Gi>G<dA<lD, Cd>Gi>G<eA<lD, Cd>Gi>G<uA<lD, Cd>Gi>G<bCp>D, Cd>Gi>G<bCt>D, Cd>Gi>G<dCp>D, Cd>Gi>G<dCt>D, Cd>Gi>G<uCp>D, Cd>Gi>G<uCt>D, Cd>Gi>G<aD<rD, Cd>Gi>G<aDr>D, Cd>Gi>G<dD<rD, Cd>Gi>G<dDr>D, Cd>Gi>G<uD<rD, Cd>Gi>G<uDr>D, Cd>Gi>G<cG<aD, Cd>Gi>G<cG<dD, Cd>Gi>G<cG<uD, Cd>Gi>Gc>G<aD, Cd>Gi>Gc>G<dD, Cd>Gi>Gc>G<uD, Cd>Gi>G<iG<aD, Cd>Gi>G<iG<dD, Cd>Gi>G<iG<uD, Cd>Gi>Gi>G<aD, Cd>Gi>Gi>G<dD, Cd>Gi>Gi>G<uD, Cd>Gi>G<r>G<aD, Cd>Gi>G<r>G<dD, Cd>Gi>G<r>G<uD, Cd>Gi>Gr>>G<aD, Cd>Gi>Gr>>G<dD, Cd>Gi>Gr>>G<uD, Cd>G<r>G<dA<lD, Cd>G<r>G<eA<lD, Cd>G<r>G<uA<lD, Cd>G<r>G<bCp>D, Cd>G<r>G<bCt>D, Cd>G<r>G<dCp>D, Cd>G<r>G<dCt>D, Cd>G<r>G<uCp>D, Cd>G<r>G<uCt>D, Cd>G<r>G<aD<rD, Cd>G<r>G<aDr>D, Cd>G<r>G<dD<rD, Cd>G<r>G<dDr>D, Cd>G<r>G<uD<rD, Cd>G<r>G<uDr>D, Cd>G<r>G<cG<aD, Cd>G<r>G<cG<dD, Cd>G<r>G<cG<uD, Cd>G<r>Gc>G<aD, Cd>G<r>Gc>G<dD, Cd>G<r>Gc>G<uD, Cd>G<r>G<iG<aD, Cd>G<r>G<iG<dD, Cd>G<r>G<iG<uD, Cd>G<r>Gi>G<aD, Cd>G<r>Gi>G<dD, Cd>G<r>Gi>G<uD, Cd>G<r>G<r>G<aD, Cd>G<r>G<r>G<dD, Cd>G<r>G<r>G<uD, Cd>G<r>Gr>>G<aD, Cd>G<r>Gr>>G<dD, Cd>G<r>Gr>>G<uD, Cd>Gr>>G<dA<lD, Cd>Gr>>G<eA<lD, Cd>Gr>>G<uA<lD, Cd>Gr>>G<bCp>D, Cd>Gr>>G<bCt>D, Cd>Gr>>G<dCp>D, Cd>Gr>>G<dCt>D, Cd>Gr>>G<uCp>D, Cd>Gr>>G<uCt>D, Cd>Gr>>G<aD<rD, Cd>Gr>>G<aDr>D, Cd>Gr>>G<dD<rD, Cd>Gr>>G<dDr>D, Cd>Gr>>G<uD<rD, Cd>Gr>>G<uDr>D, Cd>Gr>>G<cG<aD, Cd>Gr>>G<cG<dD, Cd>Gr>>G<cG<uD, Cd>Gr>>Gc>G<aD, Cd>Gr>>Gc>G<dD, Cd>Gr>>Gc>G<uD, Cd>Gr>>G<iG<aD, Cd>Gr>>G<iG<dD, Cd>Gr>>G<iG<uD, Cd>Gr>>Gi>G<aD, Cd>Gr>>Gi>G<dD, Cd>Gr>>Gi>G<uD, Cd>Gr>>G<r>G<aD, Cd>Gr>>G<r>G<dD, Cd>Gr>>G<r>G<uD, Cd>Gr>>Gr>>G<aD, Cd>Gr>>Gr>>G<dD, Cd>Gr>>Gr>>G<uD, Cd>Gp>MF<pG<aD, Cd>Gp>MF<pG<dD, Cd>Gp>MF<pG<uD, Cd>Gp>PW<pG<aD, Cd>Gp>PW<pG<dD, Cd>Gp>PW<pG<uD, Cu>G<dA<lD<rD, Cu>G<dA<lDr>D, Cu>G<dAd>G<aD, Cu>G<dAd>G<dD, Cu>G<dAd>G<uD, Cu>G<dAe>G<aD, Cu>G<dAe>G<dD, Cu>G<dAe>G<uD, Cu>G<dAu>G<aD, Cu>G<dAu>G<dD, Cu>G<dAu>G<uD, Cu>G<eA<lD<rD, Cu>G<eA<lDr>D, Cu>G<eAd>G<aD, Cu>G<eAd>G<dD, Cu>G<eAd>G<uD, Cu>G<eAe>G<aD, Cu>G<eAe>G<dD, Cu>G<eAe>G<uD, Cu>G<eAu>G<aD, Cu>G<eAu>G<dD, Cu>G<eAu>G<uD, Cu>G<uA<lD<rD, Cu>G<uA<lDr>D, Cu>G<uAd>G<aD, Cu>G<uAd>G<dD, Cu>G<uAd>G<uD, Cu>G<uAe>G<aD, Cu>G<uAe>G<dD, Cu>G<uAe>G<uD, Cu>G<uAu>G<aD, Cu>G<uAu>G<dD, Cu>G<uAu>G<uD, Cu>Gp>BP<pG<aD, Cu>Gp>BP<pG<dD, Cu>Gp>BP<pG<uD, Cu>Gp>CC<pG<aD, Cu>Gp>CC<pG<dD, Cu>Gp>CC<pG<uD, Cu>G<bC<rCp>D, Cu>G<bC<rCt>D, Cu>G<bCr>Cp>D, Cu>G<bCr>Ct>D, Cu>G<bCp>D<rD, Cu>G<bCp>Dr>D, Cu>G<bCt>D<rD, Cu>G<bCt>Dr>D, Cu>G<bCb>G<aD, Cu>G<bCb>G<dD, Cu>G<bCb>G<uD, Cu>G<bCd>G<aD, Cu>G<bCd>G<dD, Cu>G<bCd>G<uD, Cu>G<bCu>G<aD, Cu>G<bCu>G<dD, Cu>G<bCu>G<uD, Cu>G<dC<rCp>D, Cu>G<dC<rCt>D, Cu>G<dCr>Cp>D, Cu>G<dCr>Ct>D, Cu>G<dCp>D<rD, Cu>G<dCp>Dr>D, Cu>G<dCt>D<rD, Cu>G<dCt>Dr>D, Cu>G<dCb>G<aD, Cu>G<dCb>G<dD, Cu>G<dCb>G<uD, Cu>G<dCd>G<aD, Cu>G<dCd>G<dD, Cu>G<dCd>G<uD, Cu>G<dCu>G<aD, Cu>G<dCu>G<dD, Cu>G<dCu>G<uD, Cu>G<uC<rCp>D, Cu>G<uC<rCt>D, Cu>G<uCr>Cp>D, Cu>G<uCr>Ct>D, Cu>G<uCp>D<rD, Cu>G<uCp>Dr>D, Cu>G<uCt>D<rD, Cu>G<uCt>Dr>D, Cu>G<uCb>G<aD, Cu>G<uCb>G<dD, Cu>G<uCb>G<uD, Cu>G<uCd>G<aD, Cu>G<uCd>G<dD, Cu>G<uCd>G<uD, Cu>G<uCu>G<aD, Cu>G<uCu>G<dD, Cu>G<uCu>G<uD, Cu>G<aDl>A<lD, Cu>G<aD<pCp>D, Cu>G<aD<pCt>D, Cu>G<aD<tCp>D, Cu>G<aD<tCt>D, Cu>G<aD<rD<rD, Cu>G<aD<rDr>D, Cu>G<aDr>D<rD, Cu>G<aDr>Dr>D, Cu>G<aDa>G<aD, Cu>G<aDa>G<dD, Cu>G<aDa>G<uD, Cu>G<aDd>G<aD, Cu>G<aDd>G<dD, Cu>G<aDd>G<uD, Cu>G<aDu>G<aD, Cu>G<aDu>G<dD, Cu>G<aDu>G<uD, Cu>G<aDp>S<pD, Cu>G<dDl>A<lD, Cu>G<dD<pCp>D, Cu>G<dD<pCt>D, Cu>G<dD<tCp>D, Cu>G<dD<tCt>D, Cu>G<dD<rD<rD, Cu>G<dD<rDr>D, Cu>G<dDr>D<rD, Cu>G<dDr>Dr>D, Cu>G<dDa>G<aD, Cu>G<dDa>G<dD, Cu>G<dDa>G<uD, Cu>G<dDd>G<aD, Cu>G<dDd>G<dD, Cu>G<dDd>G<uD, Cu>G<dDu>G<aD, Cu>G<dDu>G<dD, Cu>G<dDu>G<uD, Cu>G<dDp>S<pD, Cu>G<uDl>A<lD, Cu>G<uD<pCp>D, Cu>G<uD<pCt>D, Cu>G<uD<tCp>D, Cu>G<uD<tCt>D, Cu>G<uD<rD<rD, Cu>G<uD<rDr>D, Cu>G<uDr>D<rD, Cu>G<uDr>Dr>D, Cu>G<uDa>G<aD, Cu>G<uDa>G<dD, Cu>G<uDa>G<uD, Cu>G<uDd>G<aD, Cu>G<uDd>G<dD, Cu>G<uDd>G<uD, Cu>G<uDu>G<aD, Cu>G<uDu>G<dD, Cu>G<uDu>G<uD, Cu>G<uDp>S<pD, Cu>G<cG<dA<lD, Cu>G<cG<eA<lD, Cu>G<cG<uA<lD, Cu>G<cG<bCp>D, Cu>G<cG<bCt>D, Cu>G<cG<dCp>D, Cu>G<cG<dCt>D, Cu>G<cG<uCp>D, Cu>G<cG<uCt>D, Cu>G<cG<aD<rD, Cu>G<cG<aDr>D, Cu>G<cG<dD<rD, Cu>G<cG<dDr>D, Cu>G<cG<uD<rD, Cu>G<cG<uDr>D, Cu>G<cG<cG<aD, Cu>G<cG<cG<dD, Cu>G<cG<cG<uD, Cu>G<cGc>G<aD, Cu>G<cGc>G<dD, Cu>G<cGc>G<uD, Cu>G<cG<iG<aD, Cu>G<cG<iG<dD, Cu>G<cG<iG<uD, Cu>G<cGi>G<aD, Cu>G<cGi>G<dD, Cu>G<cGi>G<uD, Cu>G<cG<r>G<aD, Cu>G<cG<r>G<dD, Cu>G<cG<r>G<uD, Cu>G<cGr>>G<aD, Cu>G<cGr>>G<dD, Cu>G<cGr>>G<uD, Cu>Gc>G<dA<lD, Cu>Gc>G<eA<lD, Cu>Gc>G<uA<lD, Cu>Gc>G<bCp>D, Cu>Gc>G<bCt>D, Cu>Gc>G<dCp>D, Cu>Gc>G<dCt>D, Cu>Gc>G<uCp>D, Cu>Gc>G<uCt>D, Cu>Gc>G<aD<rD, Cu>Gc>G<aDr>D, Cu>Gc>G<dD<rD, Cu>Gc>G<dDr>D, Cu>Gc>G<uD<rD, Cu>Gc>G<uDr>D, Cu>Gc>G<cG<aD, Cu>Gc>G<cG<dD, Cu>Gc>G<cG<uD, Cu>Gc>Gc>G<aD, Cu>Gc>Gc>G<dD, Cu>Gc>Gc>G<uD, Cu>Gc>G<iG<aD, Cu>Gc>G<iG<dD, Cu>Gc>G<iG<uD, Cu>Gc>Gi>G<aD, Cu>Gc>Gi>G<dD, Cu>Gc>Gi>G<uD, Cu>Gc>G<r>G<aD, Cu>Gc>G<r>G<dD, Cu>Gc>G<r>G<uD, Cu>Gc>Gr>>G<aD, Cu>Gc>Gr>>G<dD, Cu>Gc>Gr>>G<uD, Cu>G<iG<dA<lD, Cu>G<iG<eA<lD, Cu>G<iG<uA<lD, Cu>G<iG<bCp>D, Cu>G<iG<bCt>D, Cu>G<iG<dCp>D, Cu>G<iG<dCt>D, Cu>G<iG<uCp>D, Cu>G<iG<uCt>D, Cu>G<iG<aD<rD, Cu>G<iG<aDr>D, Cu>G<iG<dD<rD, Cu>G<iG<dDr>D, Cu>G<iG<uD<rD, Cu>G<iG<uDr>D, Cu>G<iG<cG<aD, Cu>G<iG<cG<dD, Cu>G<iG<cG<uD, Cu>G<iGc>G<aD, Cu>G<iGc>G<dD, Cu>G<iGc>G<uD, Cu>G<iG<iG<aD, Cu>G<iG<iG<dD, Cu>G<iG<iG<uD, Cu>G<iGi>G<aD, Cu>G<iGi>G<dD, Cu>G<iGi>G<uD, Cu>G<iG<r>G<aD, Cu>G<iG<r>G<dD, Cu>G<iG<r>G<uD, Cu>G<iGr>>G<aD, Cu>G<iGr>>G<dD, Cu>G<iGr>>G<uD, Cu>Gi>G<dA<lD, Cu>Gi>G<eA<lD, Cu>Gi>G<uA<lD, Cu>Gi>G<bCp>D, Cu>Gi>G<bCt>D, Cu>Gi>G<dCp>D, Cu>Gi>G<dCt>D, Cu>Gi>G<uCp>D, Cu>Gi>G<uCt>D, Cu>Gi>G<aD<rD, Cu>Gi>G<aDr>D, Cu>Gi>G<dD<rD, Cu>Gi>G<dDr>D, Cu>Gi>G<uD<rD, Cu>Gi>G<uDr>D, Cu>Gi>G<cG<aD, Cu>Gi>G<cG<dD, Cu>Gi>G<cG<uD, Cu>Gi>Gc>G<aD, Cu>Gi>Gc>G<dD, Cu>Gi>Gc>G<uD, Cu>Gi>G<iG<aD, Cu>Gi>G<iG<dD, Cu>Gi>G<iG<uD, Cu>Gi>Gi>G<aD, Cu>Gi>Gi>G<dD, Cu>Gi>Gi>G<uD, Cu>Gi>G<r>G<aD, Cu>Gi>G<r>G<dD, Cu>Gi>G<r>G<uD, Cu>Gi>Gr>>G<aD, Cu>Gi>Gr>>G<dD, Cu>Gi>Gr>>G<uD, Cu>G<r>G<dA<lD, Cu>G<r>G<eA<lD, Cu>G<r>G<uA<lD, Cu>G<r>G<bCp>D, Cu>G<r>G<bCt>D, Cu>G<r>G<dCp>D, Cu>G<r>G<dCt>D, Cu>G<r>G<uCp>D, Cu>G<r>G<uCt>D, Cu>G<r>G<aD<rD, Cu>G<r>G<aDr>D, Cu>G<r>G<dD<rD, Cu>G<r>G<dDr>D, Cu>G<r>G<uD<rD, Cu>G<r>G<uDr>D, Cu>G<r>G<cG<aD, Cu>G<r>G<cG<dD, Cu>G<r>G<cG<uD, Cu>G<r>Gc>G<aD, Cu>G<r>Gc>G<dD, Cu>G<r>Gc>G<uD, Cu>G<r>G<iG<aD, Cu>G<r>G<iG<dD, Cu>G<r>G<iG<uD, Cu>G<r>Gi>G<aD, Cu>G<r>Gi>G<dD, Cu>G<r>Gi>G<uD, Cu>G<r>G<r>G<aD, Cu>G<r>G<r>G<dD, Cu>G<r>G<r>G<uD, Cu>G<r>Gr>>G<aD, Cu>G<r>Gr>>G<dD, Cu>G<r>Gr>>G<uD, Cu>Gr>>G<dA<lD, Cu>Gr>>G<eA<lD, Cu>Gr>>G<uA<lD, Cu>Gr>>G<bCp>D, Cu>Gr>>G<bCt>D, Cu>Gr>>G<dCp>D, Cu>Gr>>G<dCt>D, Cu>Gr>>G<uCp>D, Cu>Gr>>G<uCt>D, Cu>Gr>>G<aD<rD, Cu>Gr>>G<aDr>D, Cu>Gr>>G<dD<rD, Cu>Gr>>G<dDr>D, Cu>Gr>>G<uD<rD, Cu>Gr>>G<uDr>D, Cu>Gr>>G<cG<aD, Cu>Gr>>G<cG<dD, Cu>Gr>>G<cG<uD, Cu>Gr>>Gc>G<aD, Cu>Gr>>Gc>G<dD, Cu>Gr>>Gc>G<uD, Cu>Gr>>G<iG<aD, Cu>Gr>>G<iG<dD, Cu>Gr>>G<iG<uD, Cu>Gr>>Gi>G<aD, Cu>Gr>>Gi>G<dD, Cu>Gr>>Gi>G<uD, Cu>Gr>>G<r>G<aD, Cu>Gr>>G<r>G<dD, Cu>Gr>>G<r>G<uD, Cu>Gr>>Gr>>G<aD, Cu>Gr>>Gr>>G<dD, Cu>Gr>>Gr>>G<uD, Cu>Gp>MF<pG<aD, Cu>Gp>MF<pG<dD, Cu>Gp>MF<pG<uD, Cu>Gp>PW<pG<aD, Cu>Gp>PW<pG<dD, Cu>Gp>PW<pG<uD, C<iPCi>C<rCp>D, C<iPCi>C<rCt>D, C<iPCi>Cr>Cp>D, C<iPCi>Cr>Ct>D, C<iPCi>Cp>D<rD, C<iPCi>Cp>Dr>D, C<iPCi>Ct>D<rD, C<iPCi>Ct>Dr>D, C<iPCi>Cb>G<aD, C<iPCi>Cb>G<dD, C<iPCi>Cb>G<uD, C<iPCi>Cd>G<aD, C<iPCi>Cd>G<dD, C<iPCi>Cd>G<uD, C<iPCi>Cu>G<aD, C<iPCi>Cu>G<dD, C<iPCi>Cu>G<uD, Cc>SE<cC<rCp>D, Cc>SE<cC<rCt>D, Cc>SE<cCr>Cp>D, Cc>SE<cCr>Ct>D, Cc>SE<cCp>D<rD, Cc>SE<cCp>Dr>D, Cc>SE<cCt>D<rD, Cc>SE<cCt>Dr>D, Cc>SE<cCb>G<aD, Cc>SE<cCb>G<dD, Cc>SE<cCb>G<uD, Cc>SE<cCd>G<aD, Cc>SE<cCd>G<dD, Cc>SE<cCd>G<uD, Cc>SE<cCu>G<aD, Cc>SE<cCu>G<dD, Cc>SE<cCu>G<uD]\n"
     ]
    }
   ],
   "source": [
    "tgt_metapaths = metagraph.extract_metapaths(source='Compound', target='Disease')\n",
    "print(tgt_metapaths)"
   ]
  },
  {
   "cell_type": "code",
   "execution_count": 19,
   "metadata": {},
   "outputs": [],
   "source": [
    "CtoD_metapaths = []\n",
    "\n",
    "for i in tgt_metapaths:\n",
    "    if '<' in repr(i):  # get rid of those with inverse edges\n",
    "        continue\n",
    "    if repr(i) != 'Ct>D':\n",
    "        CtoD_metapaths.append(i)"
   ]
  },
  {
   "attachments": {},
   "cell_type": "markdown",
   "metadata": {},
   "source": [
    "How many did it prune?"
   ]
  },
  {
   "cell_type": "code",
   "execution_count": 20,
   "metadata": {},
   "outputs": [
    {
     "name": "stdout",
     "output_type": "stream",
     "text": [
      "19\n",
      "1999\n"
     ]
    }
   ],
   "source": [
    "print(len(CtoD_metapaths))\n",
    "print(len(tgt_metapaths))"
   ]
  },
  {
   "attachments": {},
   "cell_type": "markdown",
   "metadata": {},
   "source": [
    "## Format rules in the MARS style:"
   ]
  },
  {
   "cell_type": "code",
   "execution_count": 21,
   "metadata": {},
   "outputs": [],
   "source": [
    "prob = 0.5"
   ]
  },
  {
   "cell_type": "code",
   "execution_count": 22,
   "metadata": {},
   "outputs": [],
   "source": [
    "def get_forward_rule_body(mpath, conf, metagraph):\n",
    "    \"\"\"Gets the rule body for a given metapath in the format that MARS requires\n",
    "        :param mpath: the metapath instance, written in hetnetpy format\n",
    "        :param conf: the confidence value to use for the rule\n",
    "        :param metagraph: the metagraph instance, as a hetnetpy object\n",
    "    \"\"\"\n",
    "    st_edges = metaedges_from_metapath(mpath, standardize_by=metagraph)\n",
    "    directional_edges = metaedges_from_metapath(mpath)\n",
    "    rule_head = re.split('>|<|[^A-Z]', mpath)\n",
    "    rule_head = rule_head[0] + 't' + rule_head[-1]\n",
    "    rule_body = [conf, rule_head]\n",
    "    for st, dic in zip(st_edges, directional_edges):\n",
    "        if '>' in dic:\n",
    "            rule_body.append(st)\n",
    "        else:\n",
    "            rule_body.append('_' + st)\n",
    "    return rule_body"
   ]
  },
  {
   "cell_type": "code",
   "execution_count": 23,
   "metadata": {},
   "outputs": [
    {
     "name": "stdout",
     "output_type": "stream",
     "text": [
      "{'CtD': [[0.5, 'CtD', 'CpD'], [0.5, 'CtD', 'CrC', 'CpD'], [0.5, 'CtD', 'CrC', 'CtD'], [0.5, 'CtD', 'CpD', 'DrD'], [0.5, 'CtD', 'CtD', 'DrD'], [0.5, 'CtD', 'CrC', 'CrC', 'CpD'], [0.5, 'CtD', 'CrC', 'CrC', 'CtD'], [0.5, 'CtD', 'CrC', 'CpD', 'DrD'], [0.5, 'CtD', 'CrC', 'CtD', 'DrD'], [0.5, 'CtD', 'CpD', 'DrD', 'DrD'], [0.5, 'CtD', 'CtD', 'DrD', 'DrD'], [0.5, 'CtD', 'CrC', 'CrC', 'CrC', 'CpD'], [0.5, 'CtD', 'CrC', 'CrC', 'CrC', 'CtD'], [0.5, 'CtD', 'CrC', 'CrC', 'CpD', 'DrD'], [0.5, 'CtD', 'CrC', 'CrC', 'CtD', 'DrD'], [0.5, 'CtD', 'CrC', 'CpD', 'DrD', 'DrD'], [0.5, 'CtD', 'CrC', 'CtD', 'DrD', 'DrD'], [0.5, 'CtD', 'CpD', 'DrD', 'DrD', 'DrD'], [0.5, 'CtD', 'CtD', 'DrD', 'DrD', 'DrD']]}\n"
     ]
    }
   ],
   "source": [
    "rules = {}\n",
    "rules['CtD'] = [get_forward_rule_body(str(mpath), prob, metagraph) for mpath in CtoD_metapaths]\n",
    "print(rules)"
   ]
  },
  {
   "cell_type": "code",
   "execution_count": 24,
   "metadata": {},
   "outputs": [],
   "source": [
    "# write the rules to file\n",
    "with open(osp.join(MARS_DIR, 'rules.txt'), 'w') as f:\n",
    "    json.dump(rules, f)"
   ]
  },
  {
   "cell_type": "code",
   "execution_count": null,
   "metadata": {},
   "outputs": [],
   "source": []
  }
 ],
 "metadata": {
  "kernelspec": {
   "display_name": "moanet_env",
   "language": "python",
   "name": "python3"
  },
  "language_info": {
   "codemirror_mode": {
    "name": "ipython",
    "version": 3
   },
   "file_extension": ".py",
   "mimetype": "text/x-python",
   "name": "python",
   "nbconvert_exporter": "python",
   "pygments_lexer": "ipython3",
   "version": "3.10.13"
  },
  "orig_nbformat": 4
 },
 "nbformat": 4,
 "nbformat_minor": 2
}
