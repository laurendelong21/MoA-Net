{
 "cells": [
  {
   "attachments": {},
   "cell_type": "markdown",
   "metadata": {},
   "source": [
    "# MoA-net-Small and MoA-net-XSmall\n",
    "\n",
    "To investigate how class imbalance affects performance, we make subgraphs of MoA-net here in which there are less PPIs."
   ]
  },
  {
   "cell_type": "code",
   "execution_count": 1,
   "metadata": {},
   "outputs": [],
   "source": [
    "import pandas as pd\n",
    "from tqdm import tqdm\n",
    "import os.path as osp\n",
    "from copy import deepcopy\n",
    "\n",
    "from collections import Counter, defaultdict\n",
    "import matplotlib.pyplot as plt\n",
    "import networkx as nx"
   ]
  },
  {
   "attachments": {},
   "cell_type": "markdown",
   "metadata": {},
   "source": [
    "# Load enriched KG file"
   ]
  },
  {
   "cell_type": "code",
   "execution_count": 2,
   "metadata": {},
   "outputs": [],
   "source": [
    "KG_DIR = '../data/kg/'"
   ]
  },
  {
   "cell_type": "code",
   "execution_count": 3,
   "metadata": {},
   "outputs": [],
   "source": [
    "full_kg = pd.read_csv(osp.join(KG_DIR, 'enriched_kg.tsv'), sep='\\t')"
   ]
  },
  {
   "cell_type": "markdown",
   "metadata": {},
   "source": [
    "Get all of the true drug-BP pairs:"
   ]
  },
  {
   "cell_type": "code",
   "execution_count": 4,
   "metadata": {},
   "outputs": [],
   "source": [
    "true_pairs = [(row['source'], row['target']) for i, row in full_kg.loc[full_kg['edge_type'] == 'induces'].iterrows()]"
   ]
  },
  {
   "cell_type": "markdown",
   "metadata": {},
   "source": [
    "Get all of the proteins which go to BPs:"
   ]
  },
  {
   "cell_type": "code",
   "execution_count": 5,
   "metadata": {},
   "outputs": [
    {
     "data": {
      "text/plain": [
       "3144"
      ]
     },
     "execution_count": 5,
     "metadata": {},
     "output_type": "execute_result"
    }
   ],
   "source": [
    "bps_in_pairs = {row['target'] for i, row in full_kg.loc[full_kg['edge_type'] == 'induces'].iterrows()}\n",
    "\n",
    "prots_to_bps = set()\n",
    "\n",
    "# get the proteins which interact with those BPs\n",
    "for i, row in full_kg.loc[(full_kg['edge_type'] == 'participates') & (full_kg['target'].isin(bps_in_pairs))].iterrows():\n",
    "    prots_to_bps.add((row['source']))\n",
    "\n",
    "len(prots_to_bps)"
   ]
  },
  {
   "cell_type": "markdown",
   "metadata": {},
   "source": [
    "Add all of the forward PPIs:"
   ]
  },
  {
   "cell_type": "code",
   "execution_count": 6,
   "metadata": {},
   "outputs": [],
   "source": [
    "G = nx.DiGraph()\n",
    "\n",
    "for i, row in full_kg.iterrows():\n",
    "    if row['edge_type'] == 'interacts':\n",
    "        src_id = row['source']\n",
    "        trgt_id = row['target']\n",
    "        if src_id not in G.nodes:\n",
    "            G.add_node(src_id, type=row['source_node_type'])\n",
    "        if trgt_id not in G.nodes:\n",
    "            G.add_node(trgt_id, type=row['target_node_type'])\n",
    "        G.add_edge(src_id, trgt_id, type=row['edge_type'])\n",
    "\n",
    "G_XS = deepcopy(G)"
   ]
  },
  {
   "attachments": {},
   "cell_type": "markdown",
   "metadata": {},
   "source": [
    "Here, we subset the PPIs in the graph until they are below the limit. We do this systematically by removing PPIs from high-degree edges.\n",
    "\n",
    "### MoA-Net-Small\n",
    "\n",
    "For **MoA-net-Small**, we use a threshhold of 10,000 PPIs."
   ]
  },
  {
   "cell_type": "code",
   "execution_count": 7,
   "metadata": {},
   "outputs": [],
   "source": [
    "PPI_LIMIT = 10000"
   ]
  },
  {
   "cell_type": "code",
   "execution_count": 8,
   "metadata": {},
   "outputs": [
    {
     "name": "stdout",
     "output_type": "stream",
     "text": [
      "1000 85786\n",
      "2000 84786\n",
      "3000 83786\n",
      "4000 82786\n",
      "5000 81786\n",
      "6000 80786\n",
      "7000 79786\n",
      "8000 78786\n",
      "9000 77786\n",
      "10000 76786\n",
      "11000 75786\n",
      "12000 74786\n",
      "13000 73786\n",
      "14000 72786\n",
      "15000 71786\n",
      "16000 70786\n",
      "17000 69786\n",
      "18000 68786\n",
      "19000 67786\n",
      "20000 66786\n",
      "21000 65786\n",
      "22000 64786\n",
      "23000 63786\n",
      "24000 62786\n",
      "25000 61786\n",
      "26000 60786\n",
      "27000 59786\n",
      "28000 58786\n",
      "29000 57786\n",
      "30000 56786\n",
      "31000 55786\n",
      "32000 54786\n",
      "33000 53786\n",
      "34000 52786\n",
      "35000 51786\n",
      "36000 50786\n",
      "37000 49786\n",
      "38000 48786\n",
      "39000 47786\n",
      "40000 46786\n",
      "41000 45786\n",
      "42000 44786\n",
      "43000 43786\n",
      "44000 42786\n",
      "45000 41786\n",
      "46000 40786\n",
      "47000 39786\n",
      "48000 38786\n",
      "49000 37786\n",
      "50000 36786\n",
      "51000 35786\n",
      "52000 34786\n",
      "53000 33786\n",
      "54000 32786\n",
      "55000 31786\n",
      "56000 30786\n",
      "57000 29786\n",
      "58000 28786\n",
      "59000 27786\n",
      "60000 26786\n",
      "61000 25786\n",
      "62000 24786\n",
      "63000 23786\n",
      "64000 22786\n",
      "65000 21786\n",
      "66000 20786\n",
      "67000 19786\n",
      "68000 18786\n",
      "69000 17786\n",
      "70000 16786\n",
      "71000 15786\n",
      "72000 14786\n",
      "73000 13786\n",
      "74000 12786\n",
      "75000 11786\n",
      "76000 10786\n"
     ]
    }
   ],
   "source": [
    "prot_nodes = [node for node, data in G.nodes(data=True) if data[\"type\"] == \"Gene\"]\n",
    "count = 0\n",
    "\n",
    "while G.number_of_edges() > PPI_LIMIT:\n",
    "    prot_with_highest_degree = max(prot_nodes, key=lambda n: G.out_degree(n))\n",
    "    # Find the neighbor of prot_with_highest_degree with the largest degree\n",
    "    neighbor_of_highest_degree = max([node for node in nx.neighbors(G,prot_with_highest_degree) if node in prot_nodes],\n",
    "                                      key=lambda n: G.out_degree(n))\n",
    "    # remove the edge between prot_with_highest_degree and neighbor_of_highest_degree\n",
    "    G.remove_edge(prot_with_highest_degree, neighbor_of_highest_degree)\n",
    "    count += 1\n",
    "    if count % 1000 == 0:\n",
    "        print(count, G.number_of_edges())"
   ]
  },
  {
   "cell_type": "markdown",
   "metadata": {},
   "source": [
    "Let's see which proteins are left with a degree of zero:"
   ]
  },
  {
   "cell_type": "code",
   "execution_count": 9,
   "metadata": {},
   "outputs": [
    {
     "data": {
      "text/plain": [
       "2560"
      ]
     },
     "execution_count": 9,
     "metadata": {},
     "output_type": "execute_result"
    }
   ],
   "source": [
    "prots_with_0_degree = [node for node in prot_nodes if G.degree(node) == 0]\n",
    "len(prots_with_0_degree)"
   ]
  },
  {
   "cell_type": "code",
   "execution_count": 10,
   "metadata": {},
   "outputs": [
    {
     "data": {
      "image/png": "[encoded data removed]",
      "text/plain": [
       "<Figure size 640x480 with 1 Axes>"
      ]
     },
     "metadata": {},
     "output_type": "display_data"
    }
   ],
   "source": [
    "# Filter nodes based on type\n",
    "prot_nodes = [node for node, data in G.nodes(data=True) if data[\"type\"] == \"Gene\"]\n",
    "\n",
    "# Calculate outgoing degrees of compound nodes\n",
    "out_degrees = [G.degree(node) for node in prot_nodes]\n",
    "\n",
    "# Plot histogram\n",
    "plt.hist(out_degrees, bins=100, range=(0, max(out_degrees) + 0.5), edgecolor=\"black\")\n",
    "plt.xlabel(\"Outgoing Degree\")\n",
    "plt.ylabel(\"Frequency\")\n",
    "plt.title(\"Histogram of Outgoing Degrees for Nodes with Type 'Gene'\")\n",
    "plt.show()"
   ]
  },
  {
   "cell_type": "code",
   "execution_count": 11,
   "metadata": {},
   "outputs": [
    {
     "name": "stdout",
     "output_type": "stream",
     "text": [
      "0 2560\n",
      "1 1510\n",
      "2 2743\n",
      "3 1227\n",
      "4 446\n",
      "5 182\n",
      "6 107\n",
      "7 68\n",
      "8 45\n",
      "9 41\n",
      "10 26\n",
      "11 33\n",
      "12 13\n",
      "13 19\n",
      "14 24\n",
      "15 7\n",
      "16 12\n",
      "17 5\n",
      "18 3\n",
      "19 7\n",
      "20 2\n",
      "21 6\n",
      "22 8\n",
      "24 1\n",
      "25 2\n",
      "26 2\n",
      "27 1\n",
      "28 5\n",
      "30 1\n",
      "31 1\n",
      "32 2\n",
      "33 1\n",
      "34 1\n",
      "35 2\n",
      "36 1\n",
      "38 1\n",
      "39 1\n",
      "40 1\n",
      "42 1\n",
      "43 3\n",
      "46 2\n",
      "49 1\n",
      "52 1\n",
      "54 1\n",
      "62 1\n",
      "64 1\n",
      "120 1\n",
      "183 1\n",
      "200 1\n",
      "363 1\n",
      "391 1\n"
     ]
    }
   ],
   "source": [
    "degrees = dict(Counter(out_degrees))\n",
    "\n",
    "for d in sorted(degrees)[0:150]:\n",
    "    print(d, degrees[d])"
   ]
  },
  {
   "cell_type": "markdown",
   "metadata": {},
   "source": [
    "We will remove those isolated nodes."
   ]
  },
  {
   "cell_type": "code",
   "execution_count": 12,
   "metadata": {},
   "outputs": [],
   "source": [
    "# remove isolated nodes\n",
    "def remove_isolated_nodes(G):\n",
    "\n",
    "    # remove isolated nodes\n",
    "    isolated_nodes = list(nx.isolates(G))\n",
    "    G.remove_nodes_from(isolated_nodes)\n",
    "    \n",
    "    return G"
   ]
  },
  {
   "cell_type": "code",
   "execution_count": 13,
   "metadata": {},
   "outputs": [],
   "source": [
    "G = remove_isolated_nodes(G)"
   ]
  },
  {
   "cell_type": "markdown",
   "metadata": {},
   "source": [
    "Add in the other edges:"
   ]
  },
  {
   "cell_type": "code",
   "execution_count": 14,
   "metadata": {},
   "outputs": [],
   "source": [
    "for i, row in full_kg.iterrows():\n",
    "    if row['edge_type'] != 'interacts':\n",
    "        src_id = row['source']\n",
    "        trgt_id = row['target']\n",
    "        if src_id not in G.nodes:\n",
    "            G.add_node(src_id, type=row['source_node_type'])\n",
    "        if trgt_id not in G.nodes:\n",
    "            G.add_node(trgt_id, type=row['target_node_type'])\n",
    "        G.add_edge(src_id, trgt_id, type=row['edge_type'])"
   ]
  },
  {
   "cell_type": "code",
   "execution_count": 15,
   "metadata": {},
   "outputs": [
    {
     "data": {
      "text/plain": [
       "0"
      ]
     },
     "execution_count": 15,
     "metadata": {},
     "output_type": "execute_result"
    }
   ],
   "source": [
    "isolated_nodes = list(nx.isolates(G))\n",
    "len(isolated_nodes)"
   ]
  },
  {
   "cell_type": "code",
   "execution_count": 16,
   "metadata": {},
   "outputs": [],
   "source": [
    "# export G to pandas df with node types\n",
    "G_df = nx.to_pandas_edgelist(G, edge_key='edge_type')"
   ]
  },
  {
   "cell_type": "code",
   "execution_count": 17,
   "metadata": {},
   "outputs": [],
   "source": [
    "G_df.rename(columns={'type': 'edge_type'}, inplace=True)"
   ]
  },
  {
   "cell_type": "code",
   "execution_count": 18,
   "metadata": {},
   "outputs": [
    {
     "data": {
      "text/html": [
       "<div>\n",
       "<style scoped>\n",
       "    .dataframe tbody tr th:only-of-type {\n",
       "        vertical-align: middle;\n",
       "    }\n",
       "\n",
       "    .dataframe tbody tr th {\n",
       "        vertical-align: top;\n",
       "    }\n",
       "\n",
       "    .dataframe thead th {\n",
       "        text-align: right;\n",
       "    }\n",
       "</style>\n",
       "<table border=\"1\" class=\"dataframe\">\n",
       "  <thead>\n",
       "    <tr style=\"text-align: right;\">\n",
       "      <th></th>\n",
       "      <th>source</th>\n",
       "      <th>target</th>\n",
       "      <th>edge_type</th>\n",
       "    </tr>\n",
       "  </thead>\n",
       "  <tbody>\n",
       "    <tr>\n",
       "      <th>0</th>\n",
       "      <td>ncbigene:6622</td>\n",
       "      <td>ncbigene:1861</td>\n",
       "      <td>interacts</td>\n",
       "    </tr>\n",
       "    <tr>\n",
       "      <th>1</th>\n",
       "      <td>ncbigene:6622</td>\n",
       "      <td>ncbigene:6477</td>\n",
       "      <td>interacts</td>\n",
       "    </tr>\n",
       "    <tr>\n",
       "      <th>2</th>\n",
       "      <td>ncbigene:6622</td>\n",
       "      <td>GO:0043065</td>\n",
       "      <td>participates</td>\n",
       "    </tr>\n",
       "    <tr>\n",
       "      <th>3</th>\n",
       "      <td>ncbigene:3308</td>\n",
       "      <td>ncbigene:6767</td>\n",
       "      <td>interacts</td>\n",
       "    </tr>\n",
       "    <tr>\n",
       "      <th>4</th>\n",
       "      <td>ncbigene:3308</td>\n",
       "      <td>GO:0006457</td>\n",
       "      <td>participates</td>\n",
       "    </tr>\n",
       "    <tr>\n",
       "      <th>...</th>\n",
       "      <td>...</td>\n",
       "      <td>...</td>\n",
       "      <td>...</td>\n",
       "    </tr>\n",
       "    <tr>\n",
       "      <th>19703</th>\n",
       "      <td>ncbigene:406928</td>\n",
       "      <td>GO:0043065</td>\n",
       "      <td>participates</td>\n",
       "    </tr>\n",
       "    <tr>\n",
       "      <th>19704</th>\n",
       "      <td>ncbigene:440387</td>\n",
       "      <td>GO:0006508</td>\n",
       "      <td>participates</td>\n",
       "    </tr>\n",
       "    <tr>\n",
       "      <th>19705</th>\n",
       "      <td>ncbigene:494115</td>\n",
       "      <td>GO:0006397</td>\n",
       "      <td>participates</td>\n",
       "    </tr>\n",
       "    <tr>\n",
       "      <th>19706</th>\n",
       "      <td>ncbigene:644672</td>\n",
       "      <td>GO:0007155</td>\n",
       "      <td>participates</td>\n",
       "    </tr>\n",
       "    <tr>\n",
       "      <th>19707</th>\n",
       "      <td>ncbigene:100132463</td>\n",
       "      <td>GO:0007155</td>\n",
       "      <td>participates</td>\n",
       "    </tr>\n",
       "  </tbody>\n",
       "</table>\n",
       "<p>19708 rows × 3 columns</p>\n",
       "</div>"
      ],
      "text/plain": [
       "                   source         target     edge_type\n",
       "0           ncbigene:6622  ncbigene:1861     interacts\n",
       "1           ncbigene:6622  ncbigene:6477     interacts\n",
       "2           ncbigene:6622     GO:0043065  participates\n",
       "3           ncbigene:3308  ncbigene:6767     interacts\n",
       "4           ncbigene:3308     GO:0006457  participates\n",
       "...                   ...            ...           ...\n",
       "19703     ncbigene:406928     GO:0043065  participates\n",
       "19704     ncbigene:440387     GO:0006508  participates\n",
       "19705     ncbigene:494115     GO:0006397  participates\n",
       "19706     ncbigene:644672     GO:0007155  participates\n",
       "19707  ncbigene:100132463     GO:0007155  participates\n",
       "\n",
       "[19708 rows x 3 columns]"
      ]
     },
     "execution_count": 18,
     "metadata": {},
     "output_type": "execute_result"
    }
   ],
   "source": [
    "G_df"
   ]
  },
  {
   "cell_type": "code",
   "execution_count": 19,
   "metadata": {},
   "outputs": [],
   "source": [
    "def map_to_nodetype(id):\n",
    "    if 'ncbigene:' in id:\n",
    "        return 'Gene'\n",
    "    elif 'GO:' in id:\n",
    "        return 'Biological Process'\n",
    "    elif 'pubchem' in id:\n",
    "        return 'Compound'\n",
    "    else:\n",
    "        raise ValueError(f'Unknown node type for {id}')"
   ]
  },
  {
   "cell_type": "code",
   "execution_count": 20,
   "metadata": {},
   "outputs": [],
   "source": [
    "G_df['source_node_type'] = [map_to_nodetype(i) for i in G_df['source']]\n",
    "G_df['target_node_type'] = [map_to_nodetype(i) for i in G_df['target']]"
   ]
  },
  {
   "cell_type": "code",
   "execution_count": 21,
   "metadata": {},
   "outputs": [
    {
     "data": {
      "text/plain": [
       "Counter({'interacts': 10000,\n",
       "         'participates': 4288,\n",
       "         'downregulates': 2178,\n",
       "         'induces': 1622,\n",
       "         'upregulates': 1620})"
      ]
     },
     "execution_count": 21,
     "metadata": {},
     "output_type": "execute_result"
    }
   ],
   "source": [
    "Counter(G_df['edge_type'])"
   ]
  },
  {
   "attachments": {},
   "cell_type": "markdown",
   "metadata": {},
   "source": [
    "Finally, take out any drug-BP pairs which can no longer be matched:"
   ]
  },
  {
   "cell_type": "code",
   "execution_count": 22,
   "metadata": {},
   "outputs": [],
   "source": [
    "edges_to_remove = [(u, v) for u, v, data in G.edges(data=True) if 'type' in data and data['type'] == 'induces']\n",
    "G.remove_edges_from(edges_to_remove)"
   ]
  },
  {
   "cell_type": "code",
   "execution_count": 23,
   "metadata": {},
   "outputs": [
    {
     "name": "stdout",
     "output_type": "stream",
     "text": [
      "1165\n"
     ]
    }
   ],
   "source": [
    "no_path = set()\n",
    "\n",
    "for pair in true_pairs:\n",
    "    path_exists = nx.has_path(G, pair[0], pair[1])\n",
    "    if not path_exists:\n",
    "        no_path.add(pair)\n",
    "\n",
    "print(len(no_path))"
   ]
  },
  {
   "attachments": {},
   "cell_type": "markdown",
   "metadata": {},
   "source": [
    "What proportion of pairs have no path between them?"
   ]
  },
  {
   "cell_type": "code",
   "execution_count": 24,
   "metadata": {},
   "outputs": [
    {
     "data": {
      "text/plain": [
       "0.718249075215783"
      ]
     },
     "execution_count": 24,
     "metadata": {},
     "output_type": "execute_result"
    }
   ],
   "source": [
    "len(no_path) / len(true_pairs)"
   ]
  },
  {
   "attachments": {},
   "cell_type": "markdown",
   "metadata": {},
   "source": [
    "Drop all of those:"
   ]
  },
  {
   "cell_type": "code",
   "execution_count": 25,
   "metadata": {},
   "outputs": [],
   "source": [
    "for i, row in G_df.iterrows():\n",
    "    if row['edge_type'] == 'induces' and (row['source'], row['target']) in no_path:\n",
    "        G_df.drop(i, inplace=True)"
   ]
  },
  {
   "cell_type": "code",
   "execution_count": 26,
   "metadata": {},
   "outputs": [
    {
     "data": {
      "text/plain": [
       "Counter({'interacts': 10000,\n",
       "         'participates': 4288,\n",
       "         'downregulates': 2178,\n",
       "         'upregulates': 1620,\n",
       "         'induces': 457})"
      ]
     },
     "execution_count": 26,
     "metadata": {},
     "output_type": "execute_result"
    }
   ],
   "source": [
    "Counter(G_df['edge_type'])"
   ]
  },
  {
   "attachments": {},
   "cell_type": "markdown",
   "metadata": {},
   "source": [
    "And save the subgraph:"
   ]
  },
  {
   "cell_type": "code",
   "execution_count": 27,
   "metadata": {},
   "outputs": [],
   "source": [
    "G_df.to_csv(osp.join(KG_DIR, 'small_kg.tsv'), sep='\\t', index=False)"
   ]
  },
  {
   "attachments": {},
   "cell_type": "markdown",
   "metadata": {},
   "source": [
    "### MoA-Net-XSmall\n",
    "\n",
    "For **MoA-net-XSmall**, we use a threshhold of 12,000 PPIs, then perform a few additional steps."
   ]
  },
  {
   "cell_type": "code",
   "execution_count": 28,
   "metadata": {},
   "outputs": [],
   "source": [
    "PPI_LIMIT = 12000"
   ]
  },
  {
   "cell_type": "code",
   "execution_count": 29,
   "metadata": {},
   "outputs": [
    {
     "name": "stdout",
     "output_type": "stream",
     "text": [
      "1000 85786\n",
      "2000 84786\n",
      "3000 83786\n",
      "4000 82786\n",
      "5000 81786\n",
      "6000 80786\n",
      "7000 79786\n",
      "8000 78786\n",
      "9000 77786\n",
      "10000 76786\n",
      "11000 75786\n",
      "12000 74786\n",
      "13000 73786\n",
      "14000 72786\n",
      "15000 71786\n",
      "16000 70786\n",
      "17000 69786\n",
      "18000 68786\n",
      "19000 67786\n",
      "20000 66786\n",
      "21000 65786\n",
      "22000 64786\n",
      "23000 63786\n",
      "24000 62786\n",
      "25000 61786\n",
      "26000 60786\n",
      "27000 59786\n",
      "28000 58786\n",
      "29000 57786\n",
      "30000 56786\n",
      "31000 55786\n",
      "32000 54786\n",
      "33000 53786\n",
      "34000 52786\n",
      "35000 51786\n",
      "36000 50786\n",
      "37000 49786\n",
      "38000 48786\n",
      "39000 47786\n",
      "40000 46786\n",
      "41000 45786\n",
      "42000 44786\n",
      "43000 43786\n",
      "44000 42786\n",
      "45000 41786\n",
      "46000 40786\n",
      "47000 39786\n",
      "48000 38786\n",
      "49000 37786\n",
      "50000 36786\n",
      "51000 35786\n",
      "52000 34786\n",
      "53000 33786\n",
      "54000 32786\n",
      "55000 31786\n",
      "56000 30786\n",
      "57000 29786\n",
      "58000 28786\n",
      "59000 27786\n",
      "60000 26786\n",
      "61000 25786\n",
      "62000 24786\n",
      "63000 23786\n",
      "64000 22786\n",
      "65000 21786\n",
      "66000 20786\n",
      "67000 19786\n",
      "68000 18786\n",
      "69000 17786\n",
      "70000 16786\n",
      "71000 15786\n",
      "72000 14786\n",
      "73000 13786\n",
      "74000 12786\n"
     ]
    }
   ],
   "source": [
    "prot_nodes = [node for node, data in G_XS.nodes(data=True) if data[\"type\"] == \"Gene\"]\n",
    "count = 0\n",
    "\n",
    "while G_XS.number_of_edges() > PPI_LIMIT:\n",
    "    prot_with_highest_degree = max(prot_nodes, key=lambda n: G_XS.out_degree(n))\n",
    "    # Find the neighbor of prot_with_highest_degree with the largest degree\n",
    "    neighbor_of_highest_degree = max([node for node in nx.neighbors(G_XS,prot_with_highest_degree) if node in prot_nodes],\n",
    "                                      key=lambda n: G_XS.out_degree(n))\n",
    "    # remove the edge between prot_with_highest_degree and neighbor_of_highest_degree\n",
    "    G_XS.remove_edge(prot_with_highest_degree, neighbor_of_highest_degree)\n",
    "    count += 1\n",
    "    if count % 1000 == 0:\n",
    "        print(count, G_XS.number_of_edges())"
   ]
  },
  {
   "cell_type": "markdown",
   "metadata": {},
   "source": [
    "Let's see which proteins are left with a degree of zero:"
   ]
  },
  {
   "cell_type": "code",
   "execution_count": 30,
   "metadata": {},
   "outputs": [
    {
     "data": {
      "text/plain": [
       "2465"
      ]
     },
     "execution_count": 30,
     "metadata": {},
     "output_type": "execute_result"
    }
   ],
   "source": [
    "prots_with_0_degree = [node for node in prot_nodes if G_XS.degree(node) == 0]\n",
    "len(prots_with_0_degree)"
   ]
  },
  {
   "cell_type": "code",
   "execution_count": 31,
   "metadata": {},
   "outputs": [
    {
     "data": {
      "image/png": "[encoded data removed]",
      "text/plain": [
       "<Figure size 640x480 with 1 Axes>"
      ]
     },
     "metadata": {},
     "output_type": "display_data"
    }
   ],
   "source": [
    "# Filter nodes based on type\n",
    "prot_nodes = [node for node, data in G_XS.nodes(data=True) if data[\"type\"] == \"Gene\"]\n",
    "\n",
    "# Calculate outgoing degrees of compound nodes\n",
    "out_degrees = [G_XS.degree(node) for node in prot_nodes]\n",
    "\n",
    "# Plot histogram\n",
    "plt.hist(out_degrees, bins=100, range=(0, max(out_degrees) + 0.5), edgecolor=\"black\")\n",
    "plt.xlabel(\"Outgoing Degree\")\n",
    "plt.ylabel(\"Frequency\")\n",
    "plt.title(\"Histogram of Outgoing Degrees for Nodes with Type 'Gene'\")\n",
    "plt.show()"
   ]
  },
  {
   "cell_type": "code",
   "execution_count": 32,
   "metadata": {},
   "outputs": [
    {
     "name": "stdout",
     "output_type": "stream",
     "text": [
      "0 2465\n",
      "1 1528\n",
      "2 1208\n",
      "3 2345\n",
      "4 649\n",
      "5 293\n",
      "6 188\n",
      "7 96\n",
      "8 58\n",
      "9 42\n",
      "10 33\n",
      "11 30\n",
      "12 26\n",
      "13 23\n",
      "14 21\n",
      "15 17\n",
      "16 15\n",
      "17 10\n",
      "18 6\n",
      "19 8\n",
      "20 4\n",
      "21 7\n",
      "22 8\n",
      "23 5\n",
      "24 3\n",
      "25 3\n",
      "26 3\n",
      "27 1\n",
      "29 3\n",
      "30 1\n",
      "31 4\n",
      "33 2\n",
      "34 1\n",
      "35 1\n",
      "36 6\n",
      "39 1\n",
      "40 2\n",
      "42 1\n",
      "46 1\n",
      "48 1\n",
      "49 2\n",
      "51 1\n",
      "52 1\n",
      "56 1\n",
      "62 1\n",
      "73 1\n",
      "126 1\n",
      "145 1\n",
      "196 1\n",
      "202 1\n",
      "365 1\n",
      "391 1\n",
      "394 1\n"
     ]
    }
   ],
   "source": [
    "degrees = dict(Counter(out_degrees))\n",
    "\n",
    "for d in sorted(degrees)[0:150]:\n",
    "    print(d, degrees[d])"
   ]
  },
  {
   "cell_type": "markdown",
   "metadata": {},
   "source": [
    "We will remove those isolated nodes."
   ]
  },
  {
   "cell_type": "code",
   "execution_count": 33,
   "metadata": {},
   "outputs": [],
   "source": [
    "G_XS = remove_isolated_nodes(G_XS)"
   ]
  },
  {
   "cell_type": "markdown",
   "metadata": {},
   "source": [
    "Add in the other edges:"
   ]
  },
  {
   "cell_type": "code",
   "execution_count": 34,
   "metadata": {},
   "outputs": [],
   "source": [
    "for i, row in full_kg.iterrows():\n",
    "    if row['edge_type'] != 'interacts':\n",
    "        src_id = row['source']\n",
    "        trgt_id = row['target']\n",
    "        if src_id not in G_XS.nodes:\n",
    "            G_XS.add_node(src_id, type=row['source_node_type'])\n",
    "        if trgt_id not in G_XS.nodes:\n",
    "            G_XS.add_node(trgt_id, type=row['target_node_type'])\n",
    "        G_XS.add_edge(src_id, trgt_id, type=row['edge_type'])"
   ]
  },
  {
   "cell_type": "code",
   "execution_count": 35,
   "metadata": {},
   "outputs": [
    {
     "data": {
      "text/plain": [
       "0"
      ]
     },
     "execution_count": 35,
     "metadata": {},
     "output_type": "execute_result"
    }
   ],
   "source": [
    "isolated_nodes = list(nx.isolates(G_XS))\n",
    "len(isolated_nodes)"
   ]
  },
  {
   "cell_type": "markdown",
   "metadata": {},
   "source": [
    "Get all the protein nodes which are not connected to a GO BP or drug:"
   ]
  },
  {
   "cell_type": "code",
   "execution_count": 36,
   "metadata": {},
   "outputs": [],
   "source": [
    "protein_nodes = [node for node, data in G_XS.nodes(data=True) if data.get('type') == 'Gene']\n",
    "\n",
    "filtered_protein_nodes = set()\n",
    "\n",
    "for protein_node in protein_nodes:\n",
    "    neighbors = G_XS.neighbors(protein_node)\n",
    "    leave_alone = bool(set(neighbors) & prots_to_bps)  # if it has neighbors \n",
    "    if leave_alone:\n",
    "        continue\n",
    "    \n",
    "    neighbor_types = [G_XS.nodes[neighbor].get('type') for neighbor in neighbors]\n",
    "    \n",
    "    if 'Compound' not in neighbor_types and 'Biological Process' not in neighbor_types:\n",
    "        filtered_protein_nodes.add(protein_node)"
   ]
  },
  {
   "cell_type": "code",
   "execution_count": 37,
   "metadata": {},
   "outputs": [
    {
     "data": {
      "text/plain": [
       "3786"
      ]
     },
     "execution_count": 37,
     "metadata": {},
     "output_type": "execute_result"
    }
   ],
   "source": [
    "len(filtered_protein_nodes)"
   ]
  },
  {
   "cell_type": "markdown",
   "metadata": {},
   "source": [
    "Now remove these:"
   ]
  },
  {
   "cell_type": "code",
   "execution_count": 38,
   "metadata": {},
   "outputs": [],
   "source": [
    "edges_to_remove = []\n",
    "\n",
    "for edge in G_XS.edges():\n",
    "    source_node, target_node = edge\n",
    "    if source_node in filtered_protein_nodes or target_node in filtered_protein_nodes:\n",
    "        edges_to_remove.append(edge)\n",
    "\n",
    "G_XS.remove_edges_from(edges_to_remove)"
   ]
  },
  {
   "cell_type": "code",
   "execution_count": 39,
   "metadata": {},
   "outputs": [],
   "source": [
    "G_XS = remove_isolated_nodes(G)"
   ]
  },
  {
   "cell_type": "code",
   "execution_count": 40,
   "metadata": {},
   "outputs": [
    {
     "data": {
      "text/plain": [
       "0"
      ]
     },
     "execution_count": 40,
     "metadata": {},
     "output_type": "execute_result"
    }
   ],
   "source": [
    "isolated_nodes = list(nx.isolates(G_XS))\n",
    "len(isolated_nodes)"
   ]
  },
  {
   "cell_type": "code",
   "execution_count": 41,
   "metadata": {},
   "outputs": [],
   "source": [
    "# export G to pandas df with node types\n",
    "G_df = nx.to_pandas_edgelist(G_XS, edge_key='edge_type')"
   ]
  },
  {
   "cell_type": "code",
   "execution_count": 42,
   "metadata": {},
   "outputs": [],
   "source": [
    "G_df.rename(columns={'type': 'edge_type'}, inplace=True)"
   ]
  },
  {
   "cell_type": "code",
   "execution_count": 43,
   "metadata": {},
   "outputs": [],
   "source": [
    "G_df['source_node_type'] = [map_to_nodetype(i) for i in G_df['source']]\n",
    "G_df['target_node_type'] = [map_to_nodetype(i) for i in G_df['target']]"
   ]
  },
  {
   "cell_type": "code",
   "execution_count": 44,
   "metadata": {},
   "outputs": [
    {
     "data": {
      "text/plain": [
       "Counter({'interacts': 10000,\n",
       "         'participates': 4288,\n",
       "         'downregulates': 2178,\n",
       "         'upregulates': 1620})"
      ]
     },
     "execution_count": 44,
     "metadata": {},
     "output_type": "execute_result"
    }
   ],
   "source": [
    "Counter(G_df['edge_type'])"
   ]
  },
  {
   "cell_type": "markdown",
   "metadata": {},
   "source": [
    "Finally, take out any drug-BP pairs which can no longer be matched:"
   ]
  },
  {
   "cell_type": "code",
   "execution_count": 45,
   "metadata": {},
   "outputs": [],
   "source": [
    "edges_to_remove = [(u, v) for u, v, data in G_XS.edges(data=True) if 'type' in data and data['type'] == 'induces']\n",
    "G_XS.remove_edges_from(edges_to_remove)"
   ]
  },
  {
   "cell_type": "code",
   "execution_count": 46,
   "metadata": {},
   "outputs": [
    {
     "name": "stdout",
     "output_type": "stream",
     "text": [
      "1165\n"
     ]
    }
   ],
   "source": [
    "no_path = set()\n",
    "\n",
    "for pair in true_pairs:\n",
    "    path_exists = nx.has_path(G_XS, pair[0], pair[1])\n",
    "    if not path_exists:\n",
    "        no_path.add(pair)\n",
    "\n",
    "print(len(no_path))"
   ]
  },
  {
   "cell_type": "markdown",
   "metadata": {},
   "source": [
    "What proportion of pairs have no path between them?"
   ]
  },
  {
   "cell_type": "code",
   "execution_count": 47,
   "metadata": {},
   "outputs": [
    {
     "data": {
      "text/plain": [
       "0.718249075215783"
      ]
     },
     "execution_count": 47,
     "metadata": {},
     "output_type": "execute_result"
    }
   ],
   "source": [
    "len(no_path) / len(true_pairs)"
   ]
  },
  {
   "cell_type": "markdown",
   "metadata": {},
   "source": [
    "Drop all of those:"
   ]
  },
  {
   "cell_type": "code",
   "execution_count": 48,
   "metadata": {},
   "outputs": [],
   "source": [
    "for i, row in G_df.iterrows():\n",
    "    if row['edge_type'] == 'induces' and (row['source'], row['target']) in no_path:\n",
    "        G_df.drop(i, inplace=True)"
   ]
  },
  {
   "cell_type": "code",
   "execution_count": 49,
   "metadata": {},
   "outputs": [
    {
     "data": {
      "text/plain": [
       "Counter({'interacts': 10000,\n",
       "         'participates': 4288,\n",
       "         'downregulates': 2178,\n",
       "         'upregulates': 1620})"
      ]
     },
     "execution_count": 49,
     "metadata": {},
     "output_type": "execute_result"
    }
   ],
   "source": [
    "Counter(G_df['edge_type'])"
   ]
  },
  {
   "cell_type": "markdown",
   "metadata": {},
   "source": [
    "And save the subgraph:"
   ]
  },
  {
   "cell_type": "code",
   "execution_count": 50,
   "metadata": {},
   "outputs": [],
   "source": [
    "G_df.to_csv(osp.join(KG_DIR, 'xsmall_kg.tsv'), sep='\\t', index=False)"
   ]
  },
  {
   "cell_type": "markdown",
   "metadata": {},
   "source": []
  }
 ],
 "metadata": {
  "kernelspec": {
   "display_name": "Python 3",
   "language": "python",
   "name": "python3"
  },
  "language_info": {
   "codemirror_mode": {
    "name": "ipython",
    "version": 3
   },
   "file_extension": ".py",
   "mimetype": "text/x-python",
   "name": "python",
   "nbconvert_exporter": "python",
   "pygments_lexer": "ipython3",
   "version": "3.10.13"
  }
 },
 "nbformat": 4,
 "nbformat_minor": 2
}
