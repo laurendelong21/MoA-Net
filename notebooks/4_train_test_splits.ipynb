{
 "cells": [
  {
   "cell_type": "markdown",
   "metadata": {},
   "source": [
    "# Train - Test - Validation Splits"
   ]
  },
  {
   "cell_type": "code",
   "execution_count": 1,
   "metadata": {},
   "outputs": [],
   "source": [
    "import pandas as pd\n",
    "import os.path as osp\n",
    "import networkx as nx"
   ]
  },
  {
   "cell_type": "markdown",
   "metadata": {},
   "source": [
    "## Load in the final KG"
   ]
  },
  {
   "cell_type": "code",
   "execution_count": 2,
   "metadata": {},
   "outputs": [],
   "source": [
    "KG_DIR = '../data/kg'"
   ]
  },
  {
   "cell_type": "code",
   "execution_count": 3,
   "metadata": {},
   "outputs": [],
   "source": [
    "kg = pd.read_csv(osp.join(KG_DIR, 'final_kg_subclassed.tsv'), sep='\\t')\n",
    "kg.drop_duplicates(inplace=True)"
   ]
  },
  {
   "cell_type": "code",
   "execution_count": 4,
   "metadata": {},
   "outputs": [],
   "source": [
    "drug_bp_pairs = kg.loc[kg['edge_type'] == 'induces']"
   ]
  },
  {
   "cell_type": "code",
   "execution_count": 5,
   "metadata": {},
   "outputs": [
    {
     "name": "stdout",
     "output_type": "stream",
     "text": [
      "There are 1622 positive drug-BP pairs in the final KG\n"
     ]
    }
   ],
   "source": [
    "print(f\"There are {len(drug_bp_pairs)} positive drug-BP pairs in the final KG\")"
   ]
  },
  {
   "cell_type": "markdown",
   "metadata": {},
   "source": [
    "## Load in the DrugMechDB pairs that go in the test set"
   ]
  },
  {
   "cell_type": "code",
   "execution_count": 6,
   "metadata": {},
   "outputs": [],
   "source": [
    "dm_db_pairs = pd.read_csv(osp.join(KG_DIR, 'test.tsv'), sep='\\t')\n",
    "dm_db_pairs.drop_duplicates(inplace=True)"
   ]
  },
  {
   "cell_type": "code",
   "execution_count": 7,
   "metadata": {},
   "outputs": [
    {
     "name": "stdout",
     "output_type": "stream",
     "text": [
      "48 additional drug-BP pairs come from DrugMechDB, constituting 2.9593094944512948%\n"
     ]
    }
   ],
   "source": [
    "print(f\"{len(dm_db_pairs)} additional drug-BP pairs come from DrugMechDB, constituting {len(dm_db_pairs)/len(drug_bp_pairs)*100}%\")"
   ]
  },
  {
   "attachments": {},
   "cell_type": "markdown",
   "metadata": {},
   "source": [
    "## Specify which pairs are able to be matched:\n",
    "\n",
    "PoLo / MARS can match pairs as long as they are 4 or less hops apart (our hyperparameter setting) and not connected via an inverse _CtBP edge."
   ]
  },
  {
   "cell_type": "code",
   "execution_count": 8,
   "metadata": {},
   "outputs": [],
   "source": [
    "G = nx.DiGraph()\n",
    "\n",
    "for i, row in kg.iterrows():\n",
    "    if row['edge_type'] == 'induces':\n",
    "        continue\n",
    "    src_id = row['source']\n",
    "    trgt_id = row['target']\n",
    "    if src_id not in G.nodes:\n",
    "        G.add_node(src_id, type=row['source_node_type'])\n",
    "    if trgt_id not in G.nodes:\n",
    "        G.add_node(trgt_id, type=row['target_node_type'])\n",
    "    G.add_edge(src_id, trgt_id, type=row['edge_type'])\n",
    "    # if row['source_node_type'] != 'Compound':\n",
    "    G.add_edge(trgt_id, src_id, type=f\"_{row['edge_type']}\")\n"
   ]
  },
  {
   "cell_type": "code",
   "execution_count": 9,
   "metadata": {},
   "outputs": [],
   "source": [
    "unmatched_pairs = set()\n",
    "unmatched_dm_db_pairs = set()\n",
    "\n",
    "for i, row in drug_bp_pairs.iterrows():\n",
    "    try:\n",
    "        spath = nx.shortest_path(G, row['source'], row['target'])\n",
    "        if len(spath) > 5: # 4 hops, 5 nodes\n",
    "            unmatched_pairs.add(i)\n",
    "    except nx.NetworkXNoPath:\n",
    "        unmatched_pairs.add(i)\n",
    "\n",
    "for i, row in dm_db_pairs.iterrows():\n",
    "    try:\n",
    "        spath = nx.shortest_path(G, row['source'], row['target'])\n",
    "        if len(spath) > 5: # 4 hops, 5 nodes\n",
    "            unmatched_dm_db_pairs.add(i)\n",
    "    except nx.NetworkXNoPath:\n",
    "        unmatched_dm_db_pairs.add(i)"
   ]
  },
  {
   "cell_type": "code",
   "execution_count": 10,
   "metadata": {},
   "outputs": [
    {
     "name": "stdout",
     "output_type": "stream",
     "text": [
      "69 drug-BP pairs in the final KG are not connected via 4 hops or less\n",
      "0 drug-BP pairs from DrugMechDB are not connected via 4 hops or less\n"
     ]
    }
   ],
   "source": [
    "print(f\"{len(unmatched_pairs)} drug-BP pairs in the final KG are not connected via 4 hops or less\")\n",
    "print(f\"{len(unmatched_dm_db_pairs)} drug-BP pairs from DrugMechDB are not connected via 4 hops or less\")"
   ]
  },
  {
   "cell_type": "code",
   "execution_count": 51,
   "metadata": {},
   "outputs": [
    {
     "name": "stderr",
     "output_type": "stream",
     "text": [
      "/home/lauren/miniconda3/envs/mln_env/lib/python3.6/site-packages/pandas/core/frame.py:4174: SettingWithCopyWarning: \n",
      "A value is trying to be set on a copy of a slice from a DataFrame\n",
      "\n",
      "See the caveats in the documentation: https://pandas.pydata.org/pandas-docs/stable/user_guide/indexing.html#returning-a-view-versus-a-copy\n",
      "  errors=errors,\n"
     ]
    }
   ],
   "source": [
    "# Remove unmatched pairs from the final KG\n",
    "drug_bp_pairs.drop(list(unmatched_pairs), inplace=True)\n",
    "drug_bp_pairs.reset_index(drop=True, inplace=True)\n",
    "\n",
    "# Remove unmatched pairs from DrugMechDB\n",
    "dm_db_pairs.drop(list(unmatched_dm_db_pairs), inplace=True)\n",
    "dm_db_pairs.reset_index(drop=True, inplace=True)"
   ]
  },
  {
   "cell_type": "code",
   "execution_count": 55,
   "metadata": {},
   "outputs": [
    {
     "name": "stdout",
     "output_type": "stream",
     "text": [
      "Shortest path: ['pubchem.compound:5717', 'ncbigene:10800', 'ncbigene:1906', 'ncbigene:4772', 'ncbigene:159', 'GO:0002376']\n"
     ]
    }
   ],
   "source": [
    "shortest_path = nx.shortest_path(G, source='pubchem.compound:5717', target='GO:0002376')\n",
    "print(\"Shortest path:\", shortest_path)"
   ]
  },
  {
   "attachments": {},
   "cell_type": "markdown",
   "metadata": {},
   "source": [
    "## Create the Splits"
   ]
  },
  {
   "cell_type": "markdown",
   "metadata": {},
   "source": [
    "In the original PoLo example, they use different proportions for the splits, but let's go with something most similar to their Hetionet example, in which they do an approximate 60/20/20% split.\n",
    "\n",
    "Note that the DrugMechDB examples need to be in the test set.\n",
    "\n",
    "First, we'll exclude the subset of DrugMechDB examples that are in the test set.\n",
    "\n",
    "Then, we'll split the remaining examples into train, validation, and test sets, with the test set accumulating to 20% with the DrugMechDB examples."
   ]
  },
  {
   "cell_type": "code",
   "execution_count": 13,
   "metadata": {},
   "outputs": [],
   "source": [
    "total_positives = len(drug_bp_pairs) + len(dm_db_pairs)"
   ]
  },
  {
   "cell_type": "markdown",
   "metadata": {},
   "source": [
    "So we need to get the following numbers from the KG positive examples for train, validation, and test sets:"
   ]
  },
  {
   "cell_type": "code",
   "execution_count": 14,
   "metadata": {},
   "outputs": [
    {
     "data": {
      "text/plain": [
       "(1000, 333, 289)"
      ]
     },
     "execution_count": 14,
     "metadata": {},
     "output_type": "execute_result"
    }
   ],
   "source": [
    "proportions = round(0.6 * total_positives), round(0.2 * total_positives), round(0.2 * total_positives) - len(dm_db_pairs)\n",
    "proportions"
   ]
  },
  {
   "cell_type": "code",
   "execution_count": 15,
   "metadata": {},
   "outputs": [],
   "source": [
    "# write a function which separates the dataframe into train, val and test sets of defined sizes\n",
    "def train_test_split(df, train_size, val_size, test_size):\n",
    "    df = df.sample(frac=1, random_state=7).reset_index(drop=True)\n",
    "    train = df[:train_size]\n",
    "    val = df[train_size:train_size+val_size]\n",
    "    test = df[train_size+val_size:train_size+val_size+test_size]\n",
    "    return train, val, test"
   ]
  },
  {
   "cell_type": "code",
   "execution_count": 16,
   "metadata": {},
   "outputs": [],
   "source": [
    "train, val, test = train_test_split(drug_bp_pairs, proportions[0], proportions[1], proportions[2])"
   ]
  },
  {
   "cell_type": "markdown",
   "metadata": {},
   "source": [
    "Check it did what we want:"
   ]
  },
  {
   "cell_type": "code",
   "execution_count": 17,
   "metadata": {},
   "outputs": [
    {
     "data": {
      "text/plain": [
       "(1000, 333, 289)"
      ]
     },
     "execution_count": 17,
     "metadata": {},
     "output_type": "execute_result"
    }
   ],
   "source": [
    "len(train), len(val), len(test)"
   ]
  },
  {
   "cell_type": "markdown",
   "metadata": {},
   "source": [
    "No overlap?"
   ]
  },
  {
   "cell_type": "code",
   "execution_count": 18,
   "metadata": {},
   "outputs": [],
   "source": [
    "train_pairs = {(row['source'], row['target']) for i, row in train.iterrows()}\n",
    "test_pairs = {(row['source'], row['target']) for i, row in test.iterrows()}\n",
    "val_pairs = {(row['source'], row['target']) for i, row in val.iterrows()}"
   ]
  },
  {
   "cell_type": "code",
   "execution_count": 19,
   "metadata": {},
   "outputs": [
    {
     "data": {
      "text/plain": [
       "set()"
      ]
     },
     "execution_count": 19,
     "metadata": {},
     "output_type": "execute_result"
    }
   ],
   "source": [
    "train_pairs & test_pairs"
   ]
  },
  {
   "cell_type": "code",
   "execution_count": 20,
   "metadata": {},
   "outputs": [
    {
     "data": {
      "text/plain": [
       "set()"
      ]
     },
     "execution_count": 20,
     "metadata": {},
     "output_type": "execute_result"
    }
   ],
   "source": [
    "train_pairs & val_pairs"
   ]
  },
  {
   "cell_type": "code",
   "execution_count": 21,
   "metadata": {},
   "outputs": [
    {
     "data": {
      "text/plain": [
       "set()"
      ]
     },
     "execution_count": 21,
     "metadata": {},
     "output_type": "execute_result"
    }
   ],
   "source": [
    "test_pairs & val_pairs"
   ]
  },
  {
   "cell_type": "markdown",
   "metadata": {},
   "source": [
    "Good, no overlap. Add the drugmechDB examples to the test set:"
   ]
  },
  {
   "cell_type": "code",
   "execution_count": 22,
   "metadata": {},
   "outputs": [],
   "source": [
    "test = pd.concat([test, dm_db_pairs]).sample(frac=1, random_state=7).reset_index(drop=True)"
   ]
  },
  {
   "cell_type": "code",
   "execution_count": 23,
   "metadata": {},
   "outputs": [
    {
     "data": {
      "text/plain": [
       "333"
      ]
     },
     "execution_count": 23,
     "metadata": {},
     "output_type": "execute_result"
    }
   ],
   "source": [
    "len(test)"
   ]
  },
  {
   "cell_type": "markdown",
   "metadata": {},
   "source": [
    "Take the test and validation sets out the KG:"
   ]
  },
  {
   "cell_type": "code",
   "execution_count": 24,
   "metadata": {},
   "outputs": [],
   "source": [
    "kg = kg.loc[kg['edge_type'] != 'induces']\n",
    "kg_polo = pd.concat([kg, train]).sample(frac=1, random_state=7).reset_index(drop=True)"
   ]
  },
  {
   "cell_type": "code",
   "execution_count": 25,
   "metadata": {},
   "outputs": [
    {
     "data": {
      "text/plain": [
       "True"
      ]
     },
     "execution_count": 25,
     "metadata": {},
     "output_type": "execute_result"
    }
   ],
   "source": [
    "len(kg_polo.loc[kg_polo['edge_type'] == 'induces']) == len(train)"
   ]
  },
  {
   "cell_type": "markdown",
   "metadata": {},
   "source": [
    "Write everything to files:"
   ]
  },
  {
   "cell_type": "code",
   "execution_count": 26,
   "metadata": {},
   "outputs": [],
   "source": [
    "SPLITS_DIR = osp.join(KG_DIR, 'splits')"
   ]
  },
  {
   "cell_type": "code",
   "execution_count": 27,
   "metadata": {},
   "outputs": [],
   "source": [
    "kg.to_csv(osp.join(SPLITS_DIR, 'kg_no_cmp_bp.tsv'), sep='\\t', index=False)\n",
    "kg_polo.to_csv(osp.join(SPLITS_DIR, 'kg_with_train_smpls.tsv'), sep='\\t', index=False)\n",
    "\n",
    "train.to_csv(osp.join(SPLITS_DIR, 'train.tsv'), sep='\\t', index=False)\n",
    "val.to_csv(osp.join(SPLITS_DIR, 'dev.tsv'), sep='\\t', index=False)\n",
    "test.to_csv(osp.join(SPLITS_DIR, 'test.tsv'), sep='\\t', index=False)"
   ]
  },
  {
   "cell_type": "markdown",
   "metadata": {},
   "source": [
    "For the PoLo files, let's get it into a format suitable for PoLo:"
   ]
  },
  {
   "cell_type": "code",
   "execution_count": 28,
   "metadata": {},
   "outputs": [],
   "source": [
    "POLO_DIR = osp.join(SPLITS_DIR, 'PoLo')"
   ]
  },
  {
   "cell_type": "code",
   "execution_count": null,
   "metadata": {},
   "outputs": [],
   "source": []
  }
 ],
 "metadata": {
  "kernelspec": {
   "display_name": "mln_env",
   "language": "python",
   "name": "mln_env"
  },
  "language_info": {
   "codemirror_mode": {
    "name": "ipython",
    "version": 3
   },
   "file_extension": ".py",
   "mimetype": "text/x-python",
   "name": "python",
   "nbconvert_exporter": "python",
   "pygments_lexer": "ipython3",
   "version": "3.6.9"
  },
  "orig_nbformat": 4
 },
 "nbformat": 4,
 "nbformat_minor": 2
}
