{
 "cells": [
  {
   "attachments": {},
   "cell_type": "markdown",
   "metadata": {},
   "source": [
    "# Metagraph and Metapath Generation\n",
    "\n",
    "Here, we use the same syntax as [HetNetPy](https://github.com/hetio/hetnetpy/tree/e1ff1f8296b766dd5a63e5870a8a1a7d82427a80) to create a metagraph and extract metapaths from the KG.\n",
    "\n",
    "Metagraph creation is based on [this notebook](https://github.com/dhimmel/integrate/blob/93feba1765fbcd76fd79e22f25121f5399629148/integrate.ipynb)."
   ]
  },
  {
   "cell_type": "code",
   "execution_count": 1,
   "metadata": {},
   "outputs": [],
   "source": [
    "import pandas as pd\n",
    "import seaborn as sns\n",
    "import os.path as osp\n",
    "\n",
    "import hetnetpy.hetnet\n",
    "import hetnetpy.readwrite\n",
    "import hetnetpy.stats\n",
    "\n",
    "from hetnetpy.abbreviation import metaedges_from_metapath\n",
    "import re\n",
    "import json\n",
    "from collections import Counter\n",
    "\n",
    "%matplotlib inline"
   ]
  },
  {
   "attachments": {},
   "cell_type": "markdown",
   "metadata": {},
   "source": [
    "### Define and Instantiate Metagraph:"
   ]
  },
  {
   "cell_type": "code",
   "execution_count": 2,
   "metadata": {},
   "outputs": [],
   "source": [
    "kind_to_abbev = {\n",
    "    \n",
    "    # metanodes\n",
    "    'Compound': 'C',\n",
    "    'Gene': 'G',\n",
    "    'Disease': 'D',\n",
    "    \n",
    "    # metaedges\n",
    "    'upregulates': 'u',\n",
    "    'downregulates': 'd',\n",
    "    'activates': 'a',\n",
    "    'inhibits': 'i',\n",
    "    'participates': 'p',\n",
    "    'treats': 't',\n",
    "}\n",
    "\n",
    "metaedge_tuples = [\n",
    "    ('Compound', 'Gene', 'upregulates', 'forward'),\n",
    "    ('Compound', 'Gene', 'downregulates', 'forward'),\n",
    "    ('Gene', 'Gene', 'activates', 'forward'),\n",
    "    ('Gene', 'Gene', 'inhibits', 'forward'),\n",
    "    ('Gene', 'Disease', 'participates', 'forward'),\n",
    "    ('Compound', 'Disease', 'treats', 'forward')\n",
    "]\n",
    "\n",
    "metagraph = hetnetpy.hetnet.MetaGraph.from_edge_tuples(metaedge_tuples, kind_to_abbev)\n",
    "graph = hetnetpy.hetnet.Graph(metagraph)"
   ]
  },
  {
   "cell_type": "markdown",
   "metadata": {},
   "source": [
    "Load in the drug-disease KG:"
   ]
  },
  {
   "cell_type": "code",
   "execution_count": 3,
   "metadata": {},
   "outputs": [],
   "source": [
    "KG_DIR = '../data/kg/'\n",
    "DISEASE_DIR = osp.join(KG_DIR, 'drug-disease')\n",
    "SPLITS_DIR = osp.join(DISEASE_DIR, 'splits')\n",
    "\n",
    "kg_w_train = pd.read_csv(osp.join(DISEASE_DIR, 'train.tsv', ), sep='\\t', header=None)\n",
    "test = pd.read_csv(osp.join(DISEASE_DIR, 'test.tsv', ), sep='\\t', header=None)\n",
    "val = pd.read_csv(osp.join(DISEASE_DIR, 'val.tsv', ), sep='\\t', header=None)"
   ]
  },
  {
   "cell_type": "markdown",
   "metadata": {},
   "source": [
    "Are there any duplicates present?"
   ]
  },
  {
   "cell_type": "code",
   "execution_count": 4,
   "metadata": {},
   "outputs": [
    {
     "name": "stdout",
     "output_type": "stream",
     "text": [
      "51207\n",
      "50958\n"
     ]
    }
   ],
   "source": [
    "print(len(kg_w_train))\n",
    "\n",
    "kg_w_train.drop_duplicates(inplace=True, subset=[0, 1, 2])\n",
    "\n",
    "print(len(kg_w_train))"
   ]
  },
  {
   "cell_type": "markdown",
   "metadata": {},
   "source": [
    "Also get rid of duplicates between source and target nodes:"
   ]
  },
  {
   "cell_type": "code",
   "execution_count": 5,
   "metadata": {},
   "outputs": [
    {
     "name": "stdout",
     "output_type": "stream",
     "text": [
      "50958\n",
      "49519\n"
     ]
    }
   ],
   "source": [
    "print(len(kg_w_train))\n",
    "\n",
    "kg_w_train.drop_duplicates(inplace=True, subset=[0, 2])\n",
    "\n",
    "print(len(kg_w_train))"
   ]
  },
  {
   "cell_type": "code",
   "execution_count": 6,
   "metadata": {},
   "outputs": [
    {
     "name": "stdout",
     "output_type": "stream",
     "text": [
      "516\n",
      "516\n"
     ]
    }
   ],
   "source": [
    "print(len(test))\n",
    "\n",
    "test.drop_duplicates(inplace=True)\n",
    "\n",
    "print(len(test))"
   ]
  },
  {
   "cell_type": "code",
   "execution_count": 7,
   "metadata": {},
   "outputs": [
    {
     "data": {
      "text/html": [
       "<div>\n",
       "<style scoped>\n",
       "    .dataframe tbody tr th:only-of-type {\n",
       "        vertical-align: middle;\n",
       "    }\n",
       "\n",
       "    .dataframe tbody tr th {\n",
       "        vertical-align: top;\n",
       "    }\n",
       "\n",
       "    .dataframe thead th {\n",
       "        text-align: right;\n",
       "    }\n",
       "</style>\n",
       "<table border=\"1\" class=\"dataframe\">\n",
       "  <thead>\n",
       "    <tr style=\"text-align: right;\">\n",
       "      <th></th>\n",
       "      <th>0</th>\n",
       "      <th>1</th>\n",
       "      <th>2</th>\n",
       "    </tr>\n",
       "  </thead>\n",
       "  <tbody>\n",
       "  </tbody>\n",
       "</table>\n",
       "</div>"
      ],
      "text/plain": [
       "Empty DataFrame\n",
       "Columns: [0, 1, 2]\n",
       "Index: []"
      ]
     },
     "execution_count": 7,
     "metadata": {},
     "output_type": "execute_result"
    }
   ],
   "source": [
    "# get all of the duplicates between the 0 and 2 columns\n",
    "dupes = test[test.duplicated(subset=[0, 2], keep=False)]\n",
    "\n",
    "dupes"
   ]
  },
  {
   "cell_type": "code",
   "execution_count": 8,
   "metadata": {},
   "outputs": [
    {
     "name": "stdout",
     "output_type": "stream",
     "text": [
      "515\n",
      "515\n"
     ]
    }
   ],
   "source": [
    "print(len(val))\n",
    "\n",
    "val.drop_duplicates(inplace=True)\n",
    "\n",
    "print(len(val))"
   ]
  },
  {
   "cell_type": "code",
   "execution_count": 9,
   "metadata": {},
   "outputs": [
    {
     "data": {
      "text/html": [
       "<div>\n",
       "<style scoped>\n",
       "    .dataframe tbody tr th:only-of-type {\n",
       "        vertical-align: middle;\n",
       "    }\n",
       "\n",
       "    .dataframe tbody tr th {\n",
       "        vertical-align: top;\n",
       "    }\n",
       "\n",
       "    .dataframe thead th {\n",
       "        text-align: right;\n",
       "    }\n",
       "</style>\n",
       "<table border=\"1\" class=\"dataframe\">\n",
       "  <thead>\n",
       "    <tr style=\"text-align: right;\">\n",
       "      <th></th>\n",
       "      <th>0</th>\n",
       "      <th>1</th>\n",
       "      <th>2</th>\n",
       "    </tr>\n",
       "  </thead>\n",
       "  <tbody>\n",
       "  </tbody>\n",
       "</table>\n",
       "</div>"
      ],
      "text/plain": [
       "Empty DataFrame\n",
       "Columns: [0, 1, 2]\n",
       "Index: []"
      ]
     },
     "execution_count": 9,
     "metadata": {},
     "output_type": "execute_result"
    }
   ],
   "source": [
    "# get all of the duplicates between the 0 and 2 columns\n",
    "dupes = val[val.duplicated(subset=[0, 2], keep=False)]\n",
    "\n",
    "dupes"
   ]
  },
  {
   "cell_type": "markdown",
   "metadata": {},
   "source": [
    "Add in some column names, node types, and adjust edge types:"
   ]
  },
  {
   "cell_type": "code",
   "execution_count": 10,
   "metadata": {},
   "outputs": [],
   "source": [
    "edge_type_mapping = {('Compound', 'Gene', 'activates'): 'upregulates',\n",
    "    ('Compound', 'Gene', 'inhibits'): 'downregulates',\n",
    "    ('Gene', 'Gene', 'activates'): 'activates',\n",
    "    ('Gene', 'Gene', 'inhibits'): 'inhibits',\n",
    "    ('Gene', 'Disease', 'activates'): 'participates',\n",
    "    ('Compound', 'Disease', 'treats'): 'treats'}"
   ]
  },
  {
   "cell_type": "code",
   "execution_count": 11,
   "metadata": {},
   "outputs": [],
   "source": [
    "def fix_df(df):\n",
    "    \"\"\"Fixes the dataframe to the format we want\"\"\"\n",
    "    df.columns = ['source', 'edge_type', 'target']\n",
    "\n",
    "    src_types = []\n",
    "    tgt_types = []\n",
    "    edge_types = []\n",
    "\n",
    "    for i, row in df.iterrows():\n",
    "        if 'PUBCHEM.COMPOUND' in row['source']:\n",
    "            src_type = 'Compound'\n",
    "        elif 'NCBIGENE' in row['source']:\n",
    "            src_type = 'Gene'\n",
    "        elif 'DOID' in row['source']:\n",
    "            src_type = 'Disease'\n",
    "\n",
    "        src_types.append(src_type)\n",
    "\n",
    "        if 'PUBCHEM.COMPOUND' in row['target']:\n",
    "            tgt_type = 'Compound'\n",
    "        elif 'NCBIGENE' in row['target']:\n",
    "            tgt_type = 'Gene'\n",
    "        elif 'DOID' in row['target']:\n",
    "            tgt_type = 'Disease'\n",
    "        \n",
    "        tgt_types.append(tgt_type)\n",
    "\n",
    "        edge_types.append(edge_type_mapping[(src_type, tgt_type, row['edge_type'])])\n",
    "\n",
    "    df['source_node_type'] = src_types\n",
    "    df['target_node_type'] = tgt_types\n",
    "    df['edge_type'] = edge_types\n",
    "\n",
    "    return df"
   ]
  },
  {
   "cell_type": "code",
   "execution_count": 12,
   "metadata": {},
   "outputs": [],
   "source": [
    "kg_w_train = fix_df(kg_w_train)"
   ]
  },
  {
   "cell_type": "markdown",
   "metadata": {},
   "source": [
    "Did it work?"
   ]
  },
  {
   "cell_type": "code",
   "execution_count": 13,
   "metadata": {},
   "outputs": [
    {
     "data": {
      "text/plain": [
       "edge_type\n",
       "activates        28542\n",
       "inhibits          9518\n",
       "treats            4108\n",
       "upregulates       3450\n",
       "downregulates     3373\n",
       "participates       528\n",
       "Name: count, dtype: int64"
      ]
     },
     "execution_count": 13,
     "metadata": {},
     "output_type": "execute_result"
    }
   ],
   "source": [
    "kg_w_train['edge_type'].value_counts()"
   ]
  },
  {
   "cell_type": "markdown",
   "metadata": {},
   "source": [
    "Do it for the other two dataframes too:"
   ]
  },
  {
   "cell_type": "code",
   "execution_count": 14,
   "metadata": {},
   "outputs": [],
   "source": [
    "val = fix_df(val)\n",
    "test = fix_df(test)"
   ]
  },
  {
   "cell_type": "code",
   "execution_count": 15,
   "metadata": {},
   "outputs": [
    {
     "data": {
      "text/plain": [
       "edge_type\n",
       "treats    515\n",
       "Name: count, dtype: int64"
      ]
     },
     "execution_count": 15,
     "metadata": {},
     "output_type": "execute_result"
    }
   ],
   "source": [
    "val['edge_type'].value_counts()"
   ]
  },
  {
   "cell_type": "code",
   "execution_count": 16,
   "metadata": {},
   "outputs": [
    {
     "data": {
      "text/plain": [
       "edge_type\n",
       "treats    516\n",
       "Name: count, dtype: int64"
      ]
     },
     "execution_count": 16,
     "metadata": {},
     "output_type": "execute_result"
    }
   ],
   "source": [
    "test['edge_type'].value_counts()"
   ]
  },
  {
   "cell_type": "markdown",
   "metadata": {},
   "source": [
    "Make a version of the main KG without drug-disease edgess:"
   ]
  },
  {
   "cell_type": "code",
   "execution_count": 17,
   "metadata": {},
   "outputs": [],
   "source": [
    "kg = kg_w_train.loc[kg_w_train['edge_type'] != 'treats']\n",
    "train = kg_w_train.loc[kg_w_train['edge_type'] == 'treats']"
   ]
  },
  {
   "cell_type": "code",
   "execution_count": 18,
   "metadata": {},
   "outputs": [
    {
     "data": {
      "text/plain": [
       "edge_type\n",
       "activates        28542\n",
       "inhibits          9518\n",
       "upregulates       3450\n",
       "downregulates     3373\n",
       "participates       528\n",
       "Name: count, dtype: int64"
      ]
     },
     "execution_count": 18,
     "metadata": {},
     "output_type": "execute_result"
    }
   ],
   "source": [
    "kg['edge_type'].value_counts()"
   ]
  },
  {
   "cell_type": "code",
   "execution_count": 19,
   "metadata": {},
   "outputs": [],
   "source": [
    "seen = set()\n",
    "\n",
    "for i, row in kg.iterrows():\n",
    "    if not row['source'] in seen:\n",
    "        graph.add_node(kind=row['source_node_type'], identifier=row['source'])\n",
    "        seen.add(row['source'])\n",
    "    if not row['target'] in seen:\n",
    "        graph.add_node(kind=row['target_node_type'], identifier=row['target'])\n",
    "        seen.add(row['target'])\n",
    "\n",
    "    src_id = row['source_node_type'], row['source']\n",
    "    trgt_id = row['target_node_type'], row['target']\n",
    "\n",
    "    graph.add_edge(source_id=src_id, target_id=trgt_id, kind=row['edge_type'], direction='forward')"
   ]
  },
  {
   "attachments": {},
   "cell_type": "markdown",
   "metadata": {},
   "source": [
    "## Network Visualization and Stats"
   ]
  },
  {
   "cell_type": "code",
   "execution_count": 20,
   "metadata": {},
   "outputs": [
    {
     "data": {
      "text/html": [
       "<div>\n",
       "<style scoped>\n",
       "    .dataframe tbody tr th:only-of-type {\n",
       "        vertical-align: middle;\n",
       "    }\n",
       "\n",
       "    .dataframe tbody tr th {\n",
       "        vertical-align: top;\n",
       "    }\n",
       "\n",
       "    .dataframe thead th {\n",
       "        text-align: right;\n",
       "    }\n",
       "</style>\n",
       "<table border=\"1\" class=\"dataframe\">\n",
       "  <thead>\n",
       "    <tr style=\"text-align: right;\">\n",
       "      <th></th>\n",
       "      <th>metanode</th>\n",
       "      <th>abbreviation</th>\n",
       "      <th>metaedges</th>\n",
       "      <th>nodes</th>\n",
       "      <th>unconnected_nodes</th>\n",
       "    </tr>\n",
       "  </thead>\n",
       "  <tbody>\n",
       "    <tr>\n",
       "      <th>0</th>\n",
       "      <td>Compound</td>\n",
       "      <td>C</td>\n",
       "      <td>3</td>\n",
       "      <td>610</td>\n",
       "      <td>0</td>\n",
       "    </tr>\n",
       "    <tr>\n",
       "      <th>2</th>\n",
       "      <td>Disease</td>\n",
       "      <td>D</td>\n",
       "      <td>2</td>\n",
       "      <td>264</td>\n",
       "      <td>0</td>\n",
       "    </tr>\n",
       "    <tr>\n",
       "      <th>1</th>\n",
       "      <td>Gene</td>\n",
       "      <td>G</td>\n",
       "      <td>5</td>\n",
       "      <td>5136</td>\n",
       "      <td>0</td>\n",
       "    </tr>\n",
       "  </tbody>\n",
       "</table>\n",
       "</div>"
      ],
      "text/plain": [
       "   metanode abbreviation  metaedges  nodes  unconnected_nodes\n",
       "0  Compound            C          3    610                  0\n",
       "2   Disease            D          2    264                  0\n",
       "1      Gene            G          5   5136                  0"
      ]
     },
     "execution_count": 20,
     "metadata": {},
     "output_type": "execute_result"
    }
   ],
   "source": [
    "metanode_df = hetnetpy.stats.get_metanode_df(graph)\n",
    "metanode_df"
   ]
  },
  {
   "cell_type": "code",
   "execution_count": 21,
   "metadata": {},
   "outputs": [
    {
     "data": {
      "image/png": "[encoded data removed]",
      "text/plain": [
       "<Figure size 640x480 with 1 Axes>"
      ]
     },
     "metadata": {},
     "output_type": "display_data"
    }
   ],
   "source": [
    "ax = sns.barplot(x='metanode', y='nodes', data=metanode_df.sort_values('nodes'))\n",
    "for tick in ax.get_xticklabels():\n",
    "    tick.set_rotation(90)\n",
    "ax.set_xlabel(''); ax.set_ylabel('nodes');"
   ]
  },
  {
   "cell_type": "code",
   "execution_count": 22,
   "metadata": {},
   "outputs": [
    {
     "data": {
      "text/plain": [
       "6010"
      ]
     },
     "execution_count": 22,
     "metadata": {},
     "output_type": "execute_result"
    }
   ],
   "source": [
    "# Total number of nodes\n",
    "metanode_df.nodes.sum()"
   ]
  },
  {
   "cell_type": "code",
   "execution_count": 23,
   "metadata": {},
   "outputs": [
    {
     "data": {
      "text/html": [
       "<div>\n",
       "<style scoped>\n",
       "    .dataframe tbody tr th:only-of-type {\n",
       "        vertical-align: middle;\n",
       "    }\n",
       "\n",
       "    .dataframe tbody tr th {\n",
       "        vertical-align: top;\n",
       "    }\n",
       "\n",
       "    .dataframe thead th {\n",
       "        text-align: right;\n",
       "    }\n",
       "</style>\n",
       "<table border=\"1\" class=\"dataframe\">\n",
       "  <thead>\n",
       "    <tr style=\"text-align: right;\">\n",
       "      <th></th>\n",
       "      <th>metaedge</th>\n",
       "      <th>abbreviation</th>\n",
       "      <th>edges</th>\n",
       "      <th>source_nodes</th>\n",
       "      <th>target_nodes</th>\n",
       "    </tr>\n",
       "  </thead>\n",
       "  <tbody>\n",
       "    <tr>\n",
       "      <th>1</th>\n",
       "      <td>Compound &gt; downregulates &gt; Gene</td>\n",
       "      <td>Cd&gt;G</td>\n",
       "      <td>3373</td>\n",
       "      <td>529</td>\n",
       "      <td>1187</td>\n",
       "    </tr>\n",
       "    <tr>\n",
       "      <th>5</th>\n",
       "      <td>Compound &gt; treats &gt; Disease</td>\n",
       "      <td>Ct&gt;D</td>\n",
       "      <td>0</td>\n",
       "      <td>0</td>\n",
       "      <td>0</td>\n",
       "    </tr>\n",
       "    <tr>\n",
       "      <th>0</th>\n",
       "      <td>Compound &gt; upregulates &gt; Gene</td>\n",
       "      <td>Cu&gt;G</td>\n",
       "      <td>3450</td>\n",
       "      <td>427</td>\n",
       "      <td>1243</td>\n",
       "    </tr>\n",
       "    <tr>\n",
       "      <th>2</th>\n",
       "      <td>Gene &gt; activates &gt; Gene</td>\n",
       "      <td>Ga&gt;G</td>\n",
       "      <td>28542</td>\n",
       "      <td>1632</td>\n",
       "      <td>2535</td>\n",
       "    </tr>\n",
       "    <tr>\n",
       "      <th>3</th>\n",
       "      <td>Gene &gt; inhibits &gt; Gene</td>\n",
       "      <td>Gi&gt;G</td>\n",
       "      <td>9518</td>\n",
       "      <td>852</td>\n",
       "      <td>1220</td>\n",
       "    </tr>\n",
       "    <tr>\n",
       "      <th>4</th>\n",
       "      <td>Gene &gt; participates &gt; Disease</td>\n",
       "      <td>Gp&gt;D</td>\n",
       "      <td>528</td>\n",
       "      <td>354</td>\n",
       "      <td>264</td>\n",
       "    </tr>\n",
       "  </tbody>\n",
       "</table>\n",
       "</div>"
      ],
      "text/plain": [
       "                          metaedge abbreviation  edges  source_nodes  \\\n",
       "1  Compound > downregulates > Gene         Cd>G   3373           529   \n",
       "5      Compound > treats > Disease         Ct>D      0             0   \n",
       "0    Compound > upregulates > Gene         Cu>G   3450           427   \n",
       "2          Gene > activates > Gene         Ga>G  28542          1632   \n",
       "3           Gene > inhibits > Gene         Gi>G   9518           852   \n",
       "4    Gene > participates > Disease         Gp>D    528           354   \n",
       "\n",
       "   target_nodes  \n",
       "1          1187  \n",
       "5             0  \n",
       "0          1243  \n",
       "2          2535  \n",
       "3          1220  \n",
       "4           264  "
      ]
     },
     "execution_count": 23,
     "metadata": {},
     "output_type": "execute_result"
    }
   ],
   "source": [
    "# Summary of metaedges and cooresponding edges\n",
    "metaedge_df = hetnetpy.stats.get_metaedge_df(graph)\n",
    "\n",
    "metaedge_df"
   ]
  },
  {
   "cell_type": "code",
   "execution_count": 24,
   "metadata": {},
   "outputs": [],
   "source": [
    "metaedge_df.to_excel('../paper_materials/metaedge_df.xlsx')"
   ]
  },
  {
   "cell_type": "code",
   "execution_count": 25,
   "metadata": {},
   "outputs": [
    {
     "data": {
      "image/png": "[encoded data removed]",
      "text/plain": [
       "<Figure size 640x480 with 1 Axes>"
      ]
     },
     "metadata": {},
     "output_type": "display_data"
    }
   ],
   "source": [
    "ax = sns.barplot(x='abbreviation', y='edges', data=metaedge_df.sort_values('edges'))\n",
    "for tick in ax.get_xticklabels():\n",
    "    tick.set_rotation(90)\n",
    "ax.set_xlabel(''); ax.set_ylabel('edges');"
   ]
  },
  {
   "cell_type": "code",
   "execution_count": 26,
   "metadata": {},
   "outputs": [
    {
     "data": {
      "text/html": [
       "<div>\n",
       "<style scoped>\n",
       "    .dataframe tbody tr th:only-of-type {\n",
       "        vertical-align: middle;\n",
       "    }\n",
       "\n",
       "    .dataframe tbody tr th {\n",
       "        vertical-align: top;\n",
       "    }\n",
       "\n",
       "    .dataframe thead th {\n",
       "        text-align: right;\n",
       "    }\n",
       "</style>\n",
       "<table border=\"1\" class=\"dataframe\">\n",
       "  <thead>\n",
       "    <tr style=\"text-align: right;\">\n",
       "      <th></th>\n",
       "      <th>metaedge</th>\n",
       "      <th>unicode_metaedge</th>\n",
       "      <th>standard_metaedge</th>\n",
       "      <th>abbreviation</th>\n",
       "      <th>standard_abbreviation</th>\n",
       "      <th>source</th>\n",
       "      <th>target</th>\n",
       "      <th>inverted</th>\n",
       "    </tr>\n",
       "  </thead>\n",
       "  <tbody>\n",
       "    <tr>\n",
       "      <th>2</th>\n",
       "      <td>Compound &gt; downregulates &gt; Gene</td>\n",
       "      <td>Compound→downregulates→Gene</td>\n",
       "      <td>Compound &gt; downregulates &gt; Gene</td>\n",
       "      <td>Cd&gt;G</td>\n",
       "      <td>CdG</td>\n",
       "      <td>Compound</td>\n",
       "      <td>Gene</td>\n",
       "      <td>0</td>\n",
       "    </tr>\n",
       "    <tr>\n",
       "      <th>10</th>\n",
       "      <td>Compound &gt; treats &gt; Disease</td>\n",
       "      <td>Compound→treats→Disease</td>\n",
       "      <td>Compound &gt; treats &gt; Disease</td>\n",
       "      <td>Ct&gt;D</td>\n",
       "      <td>CtD</td>\n",
       "      <td>Compound</td>\n",
       "      <td>Disease</td>\n",
       "      <td>0</td>\n",
       "    </tr>\n",
       "    <tr>\n",
       "      <th>0</th>\n",
       "      <td>Compound &gt; upregulates &gt; Gene</td>\n",
       "      <td>Compound→upregulates→Gene</td>\n",
       "      <td>Compound &gt; upregulates &gt; Gene</td>\n",
       "      <td>Cu&gt;G</td>\n",
       "      <td>CuG</td>\n",
       "      <td>Compound</td>\n",
       "      <td>Gene</td>\n",
       "      <td>0</td>\n",
       "    </tr>\n",
       "    <tr>\n",
       "      <th>9</th>\n",
       "      <td>Disease &lt; participates &lt; Gene</td>\n",
       "      <td>Disease←participates←Gene</td>\n",
       "      <td>Gene &gt; participates &gt; Disease</td>\n",
       "      <td>D&lt;pG</td>\n",
       "      <td>GpD</td>\n",
       "      <td>Disease</td>\n",
       "      <td>Gene</td>\n",
       "      <td>1</td>\n",
       "    </tr>\n",
       "    <tr>\n",
       "      <th>11</th>\n",
       "      <td>Disease &lt; treats &lt; Compound</td>\n",
       "      <td>Disease←treats←Compound</td>\n",
       "      <td>Compound &gt; treats &gt; Disease</td>\n",
       "      <td>D&lt;tC</td>\n",
       "      <td>CtD</td>\n",
       "      <td>Disease</td>\n",
       "      <td>Compound</td>\n",
       "      <td>1</td>\n",
       "    </tr>\n",
       "    <tr>\n",
       "      <th>5</th>\n",
       "      <td>Gene &lt; activates &lt; Gene</td>\n",
       "      <td>Gene←activates←Gene</td>\n",
       "      <td>Gene &gt; activates &gt; Gene</td>\n",
       "      <td>G&lt;aG</td>\n",
       "      <td>GaG</td>\n",
       "      <td>Gene</td>\n",
       "      <td>Gene</td>\n",
       "      <td>1</td>\n",
       "    </tr>\n",
       "    <tr>\n",
       "      <th>3</th>\n",
       "      <td>Gene &lt; downregulates &lt; Compound</td>\n",
       "      <td>Gene←downregulates←Compound</td>\n",
       "      <td>Compound &gt; downregulates &gt; Gene</td>\n",
       "      <td>G&lt;dC</td>\n",
       "      <td>CdG</td>\n",
       "      <td>Gene</td>\n",
       "      <td>Compound</td>\n",
       "      <td>1</td>\n",
       "    </tr>\n",
       "    <tr>\n",
       "      <th>7</th>\n",
       "      <td>Gene &lt; inhibits &lt; Gene</td>\n",
       "      <td>Gene←inhibits←Gene</td>\n",
       "      <td>Gene &gt; inhibits &gt; Gene</td>\n",
       "      <td>G&lt;iG</td>\n",
       "      <td>GiG</td>\n",
       "      <td>Gene</td>\n",
       "      <td>Gene</td>\n",
       "      <td>1</td>\n",
       "    </tr>\n",
       "    <tr>\n",
       "      <th>1</th>\n",
       "      <td>Gene &lt; upregulates &lt; Compound</td>\n",
       "      <td>Gene←upregulates←Compound</td>\n",
       "      <td>Compound &gt; upregulates &gt; Gene</td>\n",
       "      <td>G&lt;uC</td>\n",
       "      <td>CuG</td>\n",
       "      <td>Gene</td>\n",
       "      <td>Compound</td>\n",
       "      <td>1</td>\n",
       "    </tr>\n",
       "    <tr>\n",
       "      <th>4</th>\n",
       "      <td>Gene &gt; activates &gt; Gene</td>\n",
       "      <td>Gene→activates→Gene</td>\n",
       "      <td>Gene &gt; activates &gt; Gene</td>\n",
       "      <td>Ga&gt;G</td>\n",
       "      <td>GaG</td>\n",
       "      <td>Gene</td>\n",
       "      <td>Gene</td>\n",
       "      <td>0</td>\n",
       "    </tr>\n",
       "    <tr>\n",
       "      <th>6</th>\n",
       "      <td>Gene &gt; inhibits &gt; Gene</td>\n",
       "      <td>Gene→inhibits→Gene</td>\n",
       "      <td>Gene &gt; inhibits &gt; Gene</td>\n",
       "      <td>Gi&gt;G</td>\n",
       "      <td>GiG</td>\n",
       "      <td>Gene</td>\n",
       "      <td>Gene</td>\n",
       "      <td>0</td>\n",
       "    </tr>\n",
       "    <tr>\n",
       "      <th>8</th>\n",
       "      <td>Gene &gt; participates &gt; Disease</td>\n",
       "      <td>Gene→participates→Disease</td>\n",
       "      <td>Gene &gt; participates &gt; Disease</td>\n",
       "      <td>Gp&gt;D</td>\n",
       "      <td>GpD</td>\n",
       "      <td>Gene</td>\n",
       "      <td>Disease</td>\n",
       "      <td>0</td>\n",
       "    </tr>\n",
       "  </tbody>\n",
       "</table>\n",
       "</div>"
      ],
      "text/plain": [
       "                           metaedge             unicode_metaedge  \\\n",
       "2   Compound > downregulates > Gene  Compound→downregulates→Gene   \n",
       "10      Compound > treats > Disease      Compound→treats→Disease   \n",
       "0     Compound > upregulates > Gene    Compound→upregulates→Gene   \n",
       "9     Disease < participates < Gene    Disease←participates←Gene   \n",
       "11      Disease < treats < Compound      Disease←treats←Compound   \n",
       "5           Gene < activates < Gene          Gene←activates←Gene   \n",
       "3   Gene < downregulates < Compound  Gene←downregulates←Compound   \n",
       "7            Gene < inhibits < Gene           Gene←inhibits←Gene   \n",
       "1     Gene < upregulates < Compound    Gene←upregulates←Compound   \n",
       "4           Gene > activates > Gene          Gene→activates→Gene   \n",
       "6            Gene > inhibits > Gene           Gene→inhibits→Gene   \n",
       "8     Gene > participates > Disease    Gene→participates→Disease   \n",
       "\n",
       "                  standard_metaedge abbreviation standard_abbreviation  \\\n",
       "2   Compound > downregulates > Gene         Cd>G                   CdG   \n",
       "10      Compound > treats > Disease         Ct>D                   CtD   \n",
       "0     Compound > upregulates > Gene         Cu>G                   CuG   \n",
       "9     Gene > participates > Disease         D<pG                   GpD   \n",
       "11      Compound > treats > Disease         D<tC                   CtD   \n",
       "5           Gene > activates > Gene         G<aG                   GaG   \n",
       "3   Compound > downregulates > Gene         G<dC                   CdG   \n",
       "7            Gene > inhibits > Gene         G<iG                   GiG   \n",
       "1     Compound > upregulates > Gene         G<uC                   CuG   \n",
       "4           Gene > activates > Gene         Ga>G                   GaG   \n",
       "6            Gene > inhibits > Gene         Gi>G                   GiG   \n",
       "8     Gene > participates > Disease         Gp>D                   GpD   \n",
       "\n",
       "      source    target  inverted  \n",
       "2   Compound      Gene         0  \n",
       "10  Compound   Disease         0  \n",
       "0   Compound      Gene         0  \n",
       "9    Disease      Gene         1  \n",
       "11   Disease  Compound         1  \n",
       "5       Gene      Gene         1  \n",
       "3       Gene  Compound         1  \n",
       "7       Gene      Gene         1  \n",
       "1       Gene  Compound         1  \n",
       "4       Gene      Gene         0  \n",
       "6       Gene      Gene         0  \n",
       "8       Gene   Disease         0  "
      ]
     },
     "execution_count": 26,
     "metadata": {},
     "output_type": "execute_result"
    }
   ],
   "source": [
    "# Summary of different styles for representing each metaedge\n",
    "metaedge_style_df = hetnetpy.stats.get_metaedge_style_df(metagraph)\n",
    "metaedge_style_df"
   ]
  },
  {
   "cell_type": "code",
   "execution_count": 27,
   "metadata": {},
   "outputs": [
    {
     "data": {
      "text/plain": [
       "45411"
      ]
     },
     "execution_count": 27,
     "metadata": {},
     "output_type": "execute_result"
    }
   ],
   "source": [
    "# Number of edges in the network\n",
    "metaedge_df.edges.sum()"
   ]
  },
  {
   "attachments": {},
   "cell_type": "markdown",
   "metadata": {},
   "source": [
    "## Metapath Extraction\n",
    "\n",
    "Here, we have functions which can extract metapaths:"
   ]
  },
  {
   "attachments": {},
   "cell_type": "markdown",
   "metadata": {},
   "source": [
    "Extract metapaths from a given source node type (and, optionally, to a target node type):"
   ]
  },
  {
   "cell_type": "code",
   "execution_count": 28,
   "metadata": {},
   "outputs": [
    {
     "name": "stdout",
     "output_type": "stream",
     "text": [
      "[Ct>D, Cd>Gp>D, Cu>Gp>D, Ct>D<tCt>D, Ct>D<pGp>D, Cd>G<dCt>D, Cd>G<uCt>D, Cd>G<aGp>D, Cd>Ga>Gp>D, Cd>G<iGp>D, Cd>Gi>Gp>D, Cu>G<dCt>D, Cu>G<uCt>D, Cu>G<aGp>D, Cu>Ga>Gp>D, Cu>G<iGp>D, Cu>Gi>Gp>D, Ct>D<tCd>Gp>D, Ct>D<tCu>Gp>D, Ct>D<pG<dCt>D, Ct>D<pG<uCt>D, Ct>D<pG<aGp>D, Ct>D<pGa>Gp>D, Ct>D<pG<iGp>D, Ct>D<pGi>Gp>D, Cd>G<dCd>Gp>D, Cd>G<dCu>Gp>D, Cd>G<uCd>Gp>D, Cd>G<uCu>Gp>D, Cd>Gp>D<tCt>D, Cd>Gp>D<pGp>D, Cd>G<aG<dCt>D, Cd>G<aG<uCt>D, Cd>G<aG<aGp>D, Cd>G<aGa>Gp>D, Cd>G<aG<iGp>D, Cd>G<aGi>Gp>D, Cd>Ga>G<dCt>D, Cd>Ga>G<uCt>D, Cd>Ga>G<aGp>D, Cd>Ga>Ga>Gp>D, Cd>Ga>G<iGp>D, Cd>Ga>Gi>Gp>D, Cd>G<iG<dCt>D, Cd>G<iG<uCt>D, Cd>G<iG<aGp>D, Cd>G<iGa>Gp>D, Cd>G<iG<iGp>D, Cd>G<iGi>Gp>D, Cd>Gi>G<dCt>D, Cd>Gi>G<uCt>D, Cd>Gi>G<aGp>D, Cd>Gi>Ga>Gp>D, Cd>Gi>G<iGp>D, Cd>Gi>Gi>Gp>D, Cu>G<dCd>Gp>D, Cu>G<dCu>Gp>D, Cu>G<uCd>Gp>D, Cu>G<uCu>Gp>D, Cu>Gp>D<tCt>D, Cu>Gp>D<pGp>D, Cu>G<aG<dCt>D, Cu>G<aG<uCt>D, Cu>G<aG<aGp>D, Cu>G<aGa>Gp>D, Cu>G<aG<iGp>D, Cu>G<aGi>Gp>D, Cu>Ga>G<dCt>D, Cu>Ga>G<uCt>D, Cu>Ga>G<aGp>D, Cu>Ga>Ga>Gp>D, Cu>Ga>G<iGp>D, Cu>Ga>Gi>Gp>D, Cu>G<iG<dCt>D, Cu>G<iG<uCt>D, Cu>G<iG<aGp>D, Cu>G<iGa>Gp>D, Cu>G<iG<iGp>D, Cu>G<iGi>Gp>D, Cu>Gi>G<dCt>D, Cu>Gi>G<uCt>D, Cu>Gi>G<aGp>D, Cu>Gi>Ga>Gp>D, Cu>Gi>G<iGp>D, Cu>Gi>Gi>Gp>D]\n"
     ]
    }
   ],
   "source": [
    "tgt_metapaths = metagraph.extract_metapaths(source='Compound', target='Disease')\n",
    "print(tgt_metapaths)"
   ]
  },
  {
   "cell_type": "code",
   "execution_count": 29,
   "metadata": {},
   "outputs": [
    {
     "name": "stdout",
     "output_type": "stream",
     "text": [
      "Ct>D\n",
      "Cd>Gp>D\n",
      "Cu>Gp>D\n",
      "Ct>D<tCt>D\n",
      "Ct>D<pGp>D\n",
      "Cd>G<dCt>D\n",
      "Cd>G<uCt>D\n",
      "Cd>G<aGp>D\n",
      "Cd>Ga>Gp>D\n",
      "Cd>G<iGp>D\n",
      "Cd>Gi>Gp>D\n",
      "Cu>G<dCt>D\n",
      "Cu>G<uCt>D\n",
      "Cu>G<aGp>D\n",
      "Cu>Ga>Gp>D\n",
      "Cu>G<iGp>D\n",
      "Cu>Gi>Gp>D\n",
      "Ct>D<tCd>Gp>D\n",
      "Ct>D<tCu>Gp>D\n",
      "Ct>D<pG<dCt>D\n",
      "Ct>D<pG<uCt>D\n",
      "Ct>D<pG<aGp>D\n",
      "Ct>D<pGa>Gp>D\n",
      "Ct>D<pG<iGp>D\n",
      "Ct>D<pGi>Gp>D\n",
      "Cd>G<dCd>Gp>D\n",
      "Cd>G<dCu>Gp>D\n",
      "Cd>G<uCd>Gp>D\n",
      "Cd>G<uCu>Gp>D\n",
      "Cd>Gp>D<tCt>D\n",
      "Cd>Gp>D<pGp>D\n",
      "Cd>G<aG<dCt>D\n",
      "Cd>G<aG<uCt>D\n",
      "Cd>G<aG<aGp>D\n",
      "Cd>G<aGa>Gp>D\n",
      "Cd>G<aG<iGp>D\n",
      "Cd>G<aGi>Gp>D\n",
      "Cd>Ga>G<dCt>D\n",
      "Cd>Ga>G<uCt>D\n",
      "Cd>Ga>G<aGp>D\n",
      "Cd>Ga>Ga>Gp>D\n",
      "Cd>Ga>G<iGp>D\n",
      "Cd>Ga>Gi>Gp>D\n",
      "Cd>G<iG<dCt>D\n",
      "Cd>G<iG<uCt>D\n",
      "Cd>G<iG<aGp>D\n",
      "Cd>G<iGa>Gp>D\n",
      "Cd>G<iG<iGp>D\n",
      "Cd>G<iGi>Gp>D\n",
      "Cd>Gi>G<dCt>D\n",
      "Cd>Gi>G<uCt>D\n",
      "Cd>Gi>G<aGp>D\n",
      "Cd>Gi>Ga>Gp>D\n",
      "Cd>Gi>G<iGp>D\n",
      "Cd>Gi>Gi>Gp>D\n",
      "Cu>G<dCd>Gp>D\n",
      "Cu>G<dCu>Gp>D\n",
      "Cu>G<uCd>Gp>D\n",
      "Cu>G<uCu>Gp>D\n",
      "Cu>Gp>D<tCt>D\n",
      "Cu>Gp>D<pGp>D\n",
      "Cu>G<aG<dCt>D\n",
      "Cu>G<aG<uCt>D\n",
      "Cu>G<aG<aGp>D\n",
      "Cu>G<aGa>Gp>D\n",
      "Cu>G<aG<iGp>D\n",
      "Cu>G<aGi>Gp>D\n",
      "Cu>Ga>G<dCt>D\n",
      "Cu>Ga>G<uCt>D\n",
      "Cu>Ga>G<aGp>D\n",
      "Cu>Ga>Ga>Gp>D\n",
      "Cu>Ga>G<iGp>D\n",
      "Cu>Ga>Gi>Gp>D\n",
      "Cu>G<iG<dCt>D\n",
      "Cu>G<iG<uCt>D\n",
      "Cu>G<iG<aGp>D\n",
      "Cu>G<iGa>Gp>D\n",
      "Cu>G<iG<iGp>D\n",
      "Cu>G<iGi>Gp>D\n",
      "Cu>Gi>G<dCt>D\n",
      "Cu>Gi>G<uCt>D\n",
      "Cu>Gi>G<aGp>D\n",
      "Cu>Gi>Ga>Gp>D\n",
      "Cu>Gi>G<iGp>D\n",
      "Cu>Gi>Gi>Gp>D\n"
     ]
    }
   ],
   "source": [
    "for i in tgt_metapaths:\n",
    "    print(i)"
   ]
  },
  {
   "attachments": {},
   "cell_type": "markdown",
   "metadata": {},
   "source": [
    "We do not want any with a compound in the middle:"
   ]
  },
  {
   "cell_type": "code",
   "execution_count": 30,
   "metadata": {},
   "outputs": [
    {
     "data": {
      "text/plain": [
       "[Ct>D,\n",
       " Cd>Gp>D,\n",
       " Cu>Gp>D,\n",
       " Ct>D<tCt>D,\n",
       " Ct>D<pGp>D,\n",
       " Cd>G<dCt>D,\n",
       " Cd>G<uCt>D,\n",
       " Cd>G<aGp>D,\n",
       " Cd>Ga>Gp>D,\n",
       " Cd>G<iGp>D,\n",
       " Cd>Gi>Gp>D,\n",
       " Cu>G<dCt>D,\n",
       " Cu>G<uCt>D,\n",
       " Cu>G<aGp>D,\n",
       " Cu>Ga>Gp>D,\n",
       " Cu>G<iGp>D,\n",
       " Cu>Gi>Gp>D,\n",
       " Ct>D<tCd>Gp>D,\n",
       " Ct>D<tCu>Gp>D,\n",
       " Ct>D<pG<dCt>D,\n",
       " Ct>D<pG<uCt>D,\n",
       " Ct>D<pG<aGp>D,\n",
       " Ct>D<pGa>Gp>D,\n",
       " Ct>D<pG<iGp>D,\n",
       " Ct>D<pGi>Gp>D,\n",
       " Cd>G<dCd>Gp>D,\n",
       " Cd>G<dCu>Gp>D,\n",
       " Cd>G<uCd>Gp>D,\n",
       " Cd>G<uCu>Gp>D,\n",
       " Cd>Gp>D<tCt>D,\n",
       " Cd>Gp>D<pGp>D,\n",
       " Cd>G<aG<dCt>D,\n",
       " Cd>G<aG<uCt>D,\n",
       " Cd>G<aG<aGp>D,\n",
       " Cd>G<aGa>Gp>D,\n",
       " Cd>G<aG<iGp>D,\n",
       " Cd>G<aGi>Gp>D,\n",
       " Cd>Ga>G<dCt>D,\n",
       " Cd>Ga>G<uCt>D,\n",
       " Cd>Ga>G<aGp>D,\n",
       " Cd>Ga>Ga>Gp>D,\n",
       " Cd>Ga>G<iGp>D,\n",
       " Cd>Ga>Gi>Gp>D,\n",
       " Cd>G<iG<dCt>D,\n",
       " Cd>G<iG<uCt>D,\n",
       " Cd>G<iG<aGp>D,\n",
       " Cd>G<iGa>Gp>D,\n",
       " Cd>G<iG<iGp>D,\n",
       " Cd>G<iGi>Gp>D,\n",
       " Cd>Gi>G<dCt>D,\n",
       " Cd>Gi>G<uCt>D,\n",
       " Cd>Gi>G<aGp>D,\n",
       " Cd>Gi>Ga>Gp>D,\n",
       " Cd>Gi>G<iGp>D,\n",
       " Cd>Gi>Gi>Gp>D,\n",
       " Cu>G<dCd>Gp>D,\n",
       " Cu>G<dCu>Gp>D,\n",
       " Cu>G<uCd>Gp>D,\n",
       " Cu>G<uCu>Gp>D,\n",
       " Cu>Gp>D<tCt>D,\n",
       " Cu>Gp>D<pGp>D,\n",
       " Cu>G<aG<dCt>D,\n",
       " Cu>G<aG<uCt>D,\n",
       " Cu>G<aG<aGp>D,\n",
       " Cu>G<aGa>Gp>D,\n",
       " Cu>G<aG<iGp>D,\n",
       " Cu>G<aGi>Gp>D,\n",
       " Cu>Ga>G<dCt>D,\n",
       " Cu>Ga>G<uCt>D,\n",
       " Cu>Ga>G<aGp>D,\n",
       " Cu>Ga>Ga>Gp>D,\n",
       " Cu>Ga>G<iGp>D,\n",
       " Cu>Ga>Gi>Gp>D,\n",
       " Cu>G<iG<dCt>D,\n",
       " Cu>G<iG<uCt>D,\n",
       " Cu>G<iG<aGp>D,\n",
       " Cu>G<iGa>Gp>D,\n",
       " Cu>G<iG<iGp>D,\n",
       " Cu>G<iGi>Gp>D,\n",
       " Cu>Gi>G<dCt>D,\n",
       " Cu>Gi>G<uCt>D,\n",
       " Cu>Gi>G<aGp>D,\n",
       " Cu>Gi>Ga>Gp>D,\n",
       " Cu>Gi>G<iGp>D,\n",
       " Cu>Gi>Gi>Gp>D]"
      ]
     },
     "execution_count": 30,
     "metadata": {},
     "output_type": "execute_result"
    }
   ],
   "source": [
    "tgt_metapaths"
   ]
  },
  {
   "cell_type": "code",
   "execution_count": 31,
   "metadata": {},
   "outputs": [],
   "source": [
    "CtoD_metapaths = []\n",
    "\n",
    "\n",
    "for i in tgt_metapaths:\n",
    "    if (repr(i) != 'Ct>D') & (Counter(re.split('>|<|[^A-Z]', repr(i)))['C'] == 1) & (Counter(re.split('>|<|[^A-Z]', repr(i)))['D'] == 1):\n",
    "        CtoD_metapaths.append(i)"
   ]
  },
  {
   "attachments": {},
   "cell_type": "markdown",
   "metadata": {},
   "source": [
    "How many did it prune?"
   ]
  },
  {
   "cell_type": "code",
   "execution_count": 32,
   "metadata": {},
   "outputs": [
    {
     "name": "stdout",
     "output_type": "stream",
     "text": [
      "42\n",
      "85\n"
     ]
    }
   ],
   "source": [
    "print(len(CtoD_metapaths))\n",
    "print(len(tgt_metapaths))"
   ]
  },
  {
   "cell_type": "code",
   "execution_count": 33,
   "metadata": {},
   "outputs": [
    {
     "data": {
      "text/plain": [
       "[Cd>Gp>D,\n",
       " Cu>Gp>D,\n",
       " Cd>G<aGp>D,\n",
       " Cd>Ga>Gp>D,\n",
       " Cd>G<iGp>D,\n",
       " Cd>Gi>Gp>D,\n",
       " Cu>G<aGp>D,\n",
       " Cu>Ga>Gp>D,\n",
       " Cu>G<iGp>D,\n",
       " Cu>Gi>Gp>D,\n",
       " Cd>G<aG<aGp>D,\n",
       " Cd>G<aGa>Gp>D,\n",
       " Cd>G<aG<iGp>D,\n",
       " Cd>G<aGi>Gp>D,\n",
       " Cd>Ga>G<aGp>D,\n",
       " Cd>Ga>Ga>Gp>D,\n",
       " Cd>Ga>G<iGp>D,\n",
       " Cd>Ga>Gi>Gp>D,\n",
       " Cd>G<iG<aGp>D,\n",
       " Cd>G<iGa>Gp>D,\n",
       " Cd>G<iG<iGp>D,\n",
       " Cd>G<iGi>Gp>D,\n",
       " Cd>Gi>G<aGp>D,\n",
       " Cd>Gi>Ga>Gp>D,\n",
       " Cd>Gi>G<iGp>D,\n",
       " Cd>Gi>Gi>Gp>D,\n",
       " Cu>G<aG<aGp>D,\n",
       " Cu>G<aGa>Gp>D,\n",
       " Cu>G<aG<iGp>D,\n",
       " Cu>G<aGi>Gp>D,\n",
       " Cu>Ga>G<aGp>D,\n",
       " Cu>Ga>Ga>Gp>D,\n",
       " Cu>Ga>G<iGp>D,\n",
       " Cu>Ga>Gi>Gp>D,\n",
       " Cu>G<iG<aGp>D,\n",
       " Cu>G<iGa>Gp>D,\n",
       " Cu>G<iG<iGp>D,\n",
       " Cu>G<iGi>Gp>D,\n",
       " Cu>Gi>G<aGp>D,\n",
       " Cu>Gi>Ga>Gp>D,\n",
       " Cu>Gi>G<iGp>D,\n",
       " Cu>Gi>Gi>Gp>D]"
      ]
     },
     "execution_count": 33,
     "metadata": {},
     "output_type": "execute_result"
    }
   ],
   "source": [
    "CtoD_metapaths"
   ]
  },
  {
   "attachments": {},
   "cell_type": "markdown",
   "metadata": {},
   "source": [
    "# PoLo Input Preparation\n",
    "\n",
    "What if we want to get these in a format similar to the PoLo output?\n",
    "\n",
    "First let's give them all a uniform probability:"
   ]
  },
  {
   "cell_type": "code",
   "execution_count": 34,
   "metadata": {},
   "outputs": [],
   "source": [
    "#prob = 1 / (2 * len(CtoD_metapaths))\n",
    "prob = 0.5"
   ]
  },
  {
   "attachments": {},
   "cell_type": "markdown",
   "metadata": {},
   "source": [
    "We can split the metapaths into a series of individual relations:"
   ]
  },
  {
   "cell_type": "code",
   "execution_count": 35,
   "metadata": {},
   "outputs": [],
   "source": [
    "def get_forward_rule_body(mpath, conf, metagraph):\n",
    "    \"\"\"Gets the rule body for a given metapath in the format that PoLo requires\n",
    "        :param mpath: the metapath instance, written in hetnetpy format\n",
    "        :param conf: the confidence value to use for the rule\n",
    "        :param metagraph: the metagraph instance, as a hetnetpy object\n",
    "    \"\"\"\n",
    "    st_edges = metaedges_from_metapath(mpath, standardize_by=metagraph)\n",
    "    directional_edges = metaedges_from_metapath(mpath)\n",
    "    rule_head = re.split('>|<|[^A-Z]', mpath)\n",
    "    rule_head = rule_head[0] + 't' + rule_head[-1]\n",
    "    rule_body = [conf, rule_head]\n",
    "    for st, dic in zip(st_edges, directional_edges):\n",
    "        if '>' in dic:\n",
    "            rule_body.append(st)\n",
    "        else:\n",
    "            rule_body.append('_' + st)\n",
    "    return rule_body"
   ]
  },
  {
   "cell_type": "code",
   "execution_count": 36,
   "metadata": {},
   "outputs": [
    {
     "data": {
      "text/plain": [
       "[0.5, 'CtD', 'CuG', '_CuG', 'CdG', 'GpD']"
      ]
     },
     "execution_count": 36,
     "metadata": {},
     "output_type": "execute_result"
    }
   ],
   "source": [
    "# just testing the function\n",
    "get_forward_rule_body('Cu>G<uCd>Gp>D', prob, metagraph)"
   ]
  },
  {
   "cell_type": "code",
   "execution_count": 37,
   "metadata": {},
   "outputs": [],
   "source": [
    "def get_reverse_rule_body(forward_body):\n",
    "    \"\"\"Gets the REVERSE rule body for a given metapath in the format that PoLo requires\n",
    "        :param forward_body: the forward rule body as a list\n",
    "    \"\"\"\n",
    "    rev_body = [forward_body[0], '_' + forward_body[1]]\n",
    "    for i in reversed(forward_body[2:]):\n",
    "        if '_' in i:\n",
    "            rev_body.append(re.sub('_', '', i))\n",
    "        else:\n",
    "            rev_body.append('_' + i)\n",
    "    return rev_body"
   ]
  },
  {
   "cell_type": "code",
   "execution_count": 38,
   "metadata": {},
   "outputs": [
    {
     "data": {
      "text/plain": [
       "[0.5, '_CtD', '_GpD', '_CdG', 'CuG', '_CuG']"
      ]
     },
     "execution_count": 38,
     "metadata": {},
     "output_type": "execute_result"
    }
   ],
   "source": [
    "fw = get_forward_rule_body('Cu>G<uCd>Gp>D', prob, metagraph)\n",
    "get_reverse_rule_body(fw)"
   ]
  },
  {
   "attachments": {},
   "cell_type": "markdown",
   "metadata": {},
   "source": [
    "Now we'll do it for all the compound to D metapaths!"
   ]
  },
  {
   "cell_type": "code",
   "execution_count": 39,
   "metadata": {},
   "outputs": [
    {
     "name": "stdout",
     "output_type": "stream",
     "text": [
      "{'CtD': [[0.5, 'CtD', 'CdG', 'GpD'], [0.5, 'CtD', 'CuG', 'GpD'], [0.5, 'CtD', 'CdG', '_GaG', 'GpD'], [0.5, 'CtD', 'CdG', 'GaG', 'GpD'], [0.5, 'CtD', 'CdG', '_GiG', 'GpD'], [0.5, 'CtD', 'CdG', 'GiG', 'GpD'], [0.5, 'CtD', 'CuG', '_GaG', 'GpD'], [0.5, 'CtD', 'CuG', 'GaG', 'GpD'], [0.5, 'CtD', 'CuG', '_GiG', 'GpD'], [0.5, 'CtD', 'CuG', 'GiG', 'GpD'], [0.5, 'CtD', 'CdG', '_GaG', '_GaG', 'GpD'], [0.5, 'CtD', 'CdG', '_GaG', 'GaG', 'GpD'], [0.5, 'CtD', 'CdG', '_GaG', '_GiG', 'GpD'], [0.5, 'CtD', 'CdG', '_GaG', 'GiG', 'GpD'], [0.5, 'CtD', 'CdG', 'GaG', '_GaG', 'GpD'], [0.5, 'CtD', 'CdG', 'GaG', 'GaG', 'GpD'], [0.5, 'CtD', 'CdG', 'GaG', '_GiG', 'GpD'], [0.5, 'CtD', 'CdG', 'GaG', 'GiG', 'GpD'], [0.5, 'CtD', 'CdG', '_GiG', '_GaG', 'GpD'], [0.5, 'CtD', 'CdG', '_GiG', 'GaG', 'GpD'], [0.5, 'CtD', 'CdG', '_GiG', '_GiG', 'GpD'], [0.5, 'CtD', 'CdG', '_GiG', 'GiG', 'GpD'], [0.5, 'CtD', 'CdG', 'GiG', '_GaG', 'GpD'], [0.5, 'CtD', 'CdG', 'GiG', 'GaG', 'GpD'], [0.5, 'CtD', 'CdG', 'GiG', '_GiG', 'GpD'], [0.5, 'CtD', 'CdG', 'GiG', 'GiG', 'GpD'], [0.5, 'CtD', 'CuG', '_GaG', '_GaG', 'GpD'], [0.5, 'CtD', 'CuG', '_GaG', 'GaG', 'GpD'], [0.5, 'CtD', 'CuG', '_GaG', '_GiG', 'GpD'], [0.5, 'CtD', 'CuG', '_GaG', 'GiG', 'GpD'], [0.5, 'CtD', 'CuG', 'GaG', '_GaG', 'GpD'], [0.5, 'CtD', 'CuG', 'GaG', 'GaG', 'GpD'], [0.5, 'CtD', 'CuG', 'GaG', '_GiG', 'GpD'], [0.5, 'CtD', 'CuG', 'GaG', 'GiG', 'GpD'], [0.5, 'CtD', 'CuG', '_GiG', '_GaG', 'GpD'], [0.5, 'CtD', 'CuG', '_GiG', 'GaG', 'GpD'], [0.5, 'CtD', 'CuG', '_GiG', '_GiG', 'GpD'], [0.5, 'CtD', 'CuG', '_GiG', 'GiG', 'GpD'], [0.5, 'CtD', 'CuG', 'GiG', '_GaG', 'GpD'], [0.5, 'CtD', 'CuG', 'GiG', 'GaG', 'GpD'], [0.5, 'CtD', 'CuG', 'GiG', '_GiG', 'GpD'], [0.5, 'CtD', 'CuG', 'GiG', 'GiG', 'GpD']]}\n"
     ]
    }
   ],
   "source": [
    "rules = {}\n",
    "rules['CtD'] = [get_forward_rule_body(str(mpath), prob, metagraph) for mpath in CtoD_metapaths]\n",
    "#rules['_CtD'] = [get_reverse_rule_body(mpath) for mpath in rules['CtD']]\n",
    "print(rules)"
   ]
  },
  {
   "cell_type": "code",
   "execution_count": 40,
   "metadata": {},
   "outputs": [
    {
     "data": {
      "text/plain": [
       "dict_keys(['CtD'])"
      ]
     },
     "execution_count": 40,
     "metadata": {},
     "output_type": "execute_result"
    }
   ],
   "source": [
    "rules.keys()"
   ]
  },
  {
   "cell_type": "markdown",
   "metadata": {},
   "source": [
    "Finally, the rules have different lengths. Let's make it so that the smaller ones could also be used as longer rules by using the padding token \"NO_OP\", which means that the agent has decided to stay at the node."
   ]
  },
  {
   "cell_type": "code",
   "execution_count": 41,
   "metadata": {},
   "outputs": [],
   "source": [
    "def expand_rule(rule):\n",
    "    \"\"\"Expands a rule by a length of 1 to another series of rules by putting NO_OP in every gap\"\"\"\n",
    "    new_rules = []\n",
    "    for i in range(2, len(rule)):\n",
    "        if rule[i] != 'NO_OP':\n",
    "            new_rule = rule[0:i] + ['NO_OP'] + rule[i:]\n",
    "            new_rules.append(new_rule)\n",
    "    new_rules.append(rule + ['NO_OP'])\n",
    "    return new_rules\n"
   ]
  },
  {
   "cell_type": "code",
   "execution_count": 42,
   "metadata": {},
   "outputs": [
    {
     "data": {
      "text/plain": [
       "[[0.5, 'CtD', 'NO_OP', 'CdG', 'GpD'],\n",
       " [0.5, 'CtD', 'CdG', 'NO_OP', 'GpD'],\n",
       " [0.5, 'CtD', 'CdG', 'GpD', 'NO_OP']]"
      ]
     },
     "execution_count": 42,
     "metadata": {},
     "output_type": "execute_result"
    }
   ],
   "source": [
    "expand_rule([0.5, 'CtD', 'CdG', 'GpD'])"
   ]
  },
  {
   "cell_type": "code",
   "execution_count": 43,
   "metadata": {},
   "outputs": [
    {
     "data": {
      "text/plain": [
       "[[0.5, 'CtD', 'NO_OP', 'CuG', 'GpD', 'NO_OP'],\n",
       " [0.5, 'CtD', 'CuG', 'NO_OP', 'GpD', 'NO_OP'],\n",
       " [0.5, 'CtD', 'CuG', 'GpD', 'NO_OP', 'NO_OP']]"
      ]
     },
     "execution_count": 43,
     "metadata": {},
     "output_type": "execute_result"
    }
   ],
   "source": [
    "expand_rule([0.5, 'CtD', 'CuG', 'GpD', 'NO_OP'])"
   ]
  },
  {
   "cell_type": "code",
   "execution_count": 44,
   "metadata": {},
   "outputs": [
    {
     "data": {
      "text/plain": [
       "[[0.5, 'CtD', 'NO_OP', 'CuG', 'NO_OP', 'GpD'],\n",
       " [0.5, 'CtD', 'CuG', 'NO_OP', 'NO_OP', 'GpD'],\n",
       " [0.5, 'CtD', 'CuG', 'NO_OP', 'GpD', 'NO_OP']]"
      ]
     },
     "execution_count": 44,
     "metadata": {},
     "output_type": "execute_result"
    }
   ],
   "source": [
    "expand_rule([0.5, 'CtD', 'CuG', 'NO_OP', 'GpD'])"
   ]
  },
  {
   "cell_type": "code",
   "execution_count": 45,
   "metadata": {},
   "outputs": [],
   "source": [
    "for key in rules.keys():\n",
    "    for path in rules[key]:\n",
    "        if len(path) - 2 == 2:\n",
    "            rules[key].extend(expand_rule(path))\n",
    "\n",
    "for key in rules.keys():\n",
    "    for path in rules[key]:\n",
    "        if len(path) - 2 == 3:\n",
    "            rules[key].extend(expand_rule(path))"
   ]
  },
  {
   "attachments": {},
   "cell_type": "markdown",
   "metadata": {},
   "source": [
    "Let's write it to a file we can use for PoLo:"
   ]
  },
  {
   "cell_type": "code",
   "execution_count": 46,
   "metadata": {},
   "outputs": [],
   "source": [
    "with open(osp.join(SPLITS_DIR, 'rules.txt'), 'w') as f:\n",
    "    json.dump(rules, f)"
   ]
  },
  {
   "cell_type": "markdown",
   "metadata": {},
   "source": [
    "Now, let's get the input triples in a format consistent with PoLo's input files:"
   ]
  },
  {
   "cell_type": "code",
   "execution_count": 47,
   "metadata": {},
   "outputs": [],
   "source": [
    "def convert_to_polo(df):\n",
    "    \"\"\"Converts the KG into a format that PoLo can use\n",
    "    \"\"\"\n",
    "    df['metaedge'] = [kind_to_abbev[row['source_node_type']] + kind_to_abbev[row['edge_type']] + \\\n",
    "                       kind_to_abbev[row['target_node_type']] for i, row in df.iterrows()]\n",
    "    return df[['source', 'metaedge', 'target']]"
   ]
  },
  {
   "cell_type": "code",
   "execution_count": 48,
   "metadata": {},
   "outputs": [
    {
     "name": "stderr",
     "output_type": "stream",
     "text": [
      "/var/folders/dz/hsmx5qv534b8zxlrfdjxfn9h0000gn/T/ipykernel_25986/1543363494.py:4: SettingWithCopyWarning: \n",
      "A value is trying to be set on a copy of a slice from a DataFrame.\n",
      "Try using .loc[row_indexer,col_indexer] = value instead\n",
      "\n",
      "See the caveats in the documentation: https://pandas.pydata.org/pandas-docs/stable/user_guide/indexing.html#returning-a-view-versus-a-copy\n",
      "  df['metaedge'] = [kind_to_abbev[row['source_node_type']] + kind_to_abbev[row['edge_type']] + \\\n"
     ]
    }
   ],
   "source": [
    "train = convert_to_polo(train)\n",
    "test = convert_to_polo(test)\n",
    "val = convert_to_polo(val)\n",
    "\n",
    "kg_triples = convert_to_polo(kg_w_train)"
   ]
  },
  {
   "cell_type": "code",
   "execution_count": 49,
   "metadata": {},
   "outputs": [
    {
     "data": {
      "text/html": [
       "<div>\n",
       "<style scoped>\n",
       "    .dataframe tbody tr th:only-of-type {\n",
       "        vertical-align: middle;\n",
       "    }\n",
       "\n",
       "    .dataframe tbody tr th {\n",
       "        vertical-align: top;\n",
       "    }\n",
       "\n",
       "    .dataframe thead th {\n",
       "        text-align: right;\n",
       "    }\n",
       "</style>\n",
       "<table border=\"1\" class=\"dataframe\">\n",
       "  <thead>\n",
       "    <tr style=\"text-align: right;\">\n",
       "      <th></th>\n",
       "      <th>source</th>\n",
       "      <th>metaedge</th>\n",
       "      <th>target</th>\n",
       "    </tr>\n",
       "  </thead>\n",
       "  <tbody>\n",
       "    <tr>\n",
       "      <th>0</th>\n",
       "      <td>PUBCHEM.COMPOUND:33741</td>\n",
       "      <td>CtD</td>\n",
       "      <td>DOID:1540</td>\n",
       "    </tr>\n",
       "    <tr>\n",
       "      <th>1</th>\n",
       "      <td>PUBCHEM.COMPOUND:4595</td>\n",
       "      <td>CtD</td>\n",
       "      <td>DOID:0060058</td>\n",
       "    </tr>\n",
       "    <tr>\n",
       "      <th>2</th>\n",
       "      <td>PUBCHEM.COMPOUND:31401</td>\n",
       "      <td>CtD</td>\n",
       "      <td>DOID:13580</td>\n",
       "    </tr>\n",
       "    <tr>\n",
       "      <th>3</th>\n",
       "      <td>PUBCHEM.COMPOUND:30751</td>\n",
       "      <td>CtD</td>\n",
       "      <td>DOID:1793</td>\n",
       "    </tr>\n",
       "    <tr>\n",
       "      <th>4</th>\n",
       "      <td>PUBCHEM.COMPOUND:5284616</td>\n",
       "      <td>CtD</td>\n",
       "      <td>DOID:3721</td>\n",
       "    </tr>\n",
       "    <tr>\n",
       "      <th>...</th>\n",
       "      <td>...</td>\n",
       "      <td>...</td>\n",
       "      <td>...</td>\n",
       "    </tr>\n",
       "    <tr>\n",
       "      <th>51202</th>\n",
       "      <td>NCBIGENE:999</td>\n",
       "      <td>GiG</td>\n",
       "      <td>NCBIGENE:3480</td>\n",
       "    </tr>\n",
       "    <tr>\n",
       "      <th>51203</th>\n",
       "      <td>NCBIGENE:999</td>\n",
       "      <td>GiG</td>\n",
       "      <td>NCBIGENE:4233</td>\n",
       "    </tr>\n",
       "    <tr>\n",
       "      <th>51204</th>\n",
       "      <td>NCBIGENE:999</td>\n",
       "      <td>GiG</td>\n",
       "      <td>NCBIGENE:5594</td>\n",
       "    </tr>\n",
       "    <tr>\n",
       "      <th>51205</th>\n",
       "      <td>NCBIGENE:999</td>\n",
       "      <td>GiG</td>\n",
       "      <td>NCBIGENE:5595</td>\n",
       "    </tr>\n",
       "    <tr>\n",
       "      <th>51206</th>\n",
       "      <td>NCBIGENE:9997</td>\n",
       "      <td>GaG</td>\n",
       "      <td>NCBIGENE:54205</td>\n",
       "    </tr>\n",
       "  </tbody>\n",
       "</table>\n",
       "<p>49519 rows × 3 columns</p>\n",
       "</div>"
      ],
      "text/plain": [
       "                         source metaedge          target\n",
       "0        PUBCHEM.COMPOUND:33741      CtD       DOID:1540\n",
       "1         PUBCHEM.COMPOUND:4595      CtD    DOID:0060058\n",
       "2        PUBCHEM.COMPOUND:31401      CtD      DOID:13580\n",
       "3        PUBCHEM.COMPOUND:30751      CtD       DOID:1793\n",
       "4      PUBCHEM.COMPOUND:5284616      CtD       DOID:3721\n",
       "...                         ...      ...             ...\n",
       "51202              NCBIGENE:999      GiG   NCBIGENE:3480\n",
       "51203              NCBIGENE:999      GiG   NCBIGENE:4233\n",
       "51204              NCBIGENE:999      GiG   NCBIGENE:5594\n",
       "51205              NCBIGENE:999      GiG   NCBIGENE:5595\n",
       "51206             NCBIGENE:9997      GaG  NCBIGENE:54205\n",
       "\n",
       "[49519 rows x 3 columns]"
      ]
     },
     "execution_count": 49,
     "metadata": {},
     "output_type": "execute_result"
    }
   ],
   "source": [
    "kg_triples"
   ]
  },
  {
   "cell_type": "markdown",
   "metadata": {},
   "source": [
    "Get the inverse triples of the KG:"
   ]
  },
  {
   "cell_type": "code",
   "execution_count": 50,
   "metadata": {},
   "outputs": [],
   "source": [
    "inverse_triples = kg_triples[['source', 'target', 'metaedge']].copy()\n",
    "inverse_triples['inv_metaedge'] = ['_' + i for i in inverse_triples['metaedge']]\n",
    "inverse_triples = inverse_triples[['target', 'inv_metaedge', 'source']]\n",
    "\n",
    "# get rid of those with _CtD\n",
    "inverse_triples = inverse_triples.loc[inverse_triples['inv_metaedge'] != '_CtD']"
   ]
  },
  {
   "cell_type": "markdown",
   "metadata": {},
   "source": [
    "Great, write to the PoLo folder:"
   ]
  },
  {
   "cell_type": "code",
   "execution_count": 51,
   "metadata": {},
   "outputs": [],
   "source": [
    "kg_triples.to_csv(osp.join(SPLITS_DIR, 'graph_triples.txt'), sep='\\t', index=False, header=False)\n",
    "inverse_triples.to_csv(osp.join(SPLITS_DIR, 'graph_inverses.txt'), sep='\\t', index=False, header=False)"
   ]
  },
  {
   "cell_type": "code",
   "execution_count": 52,
   "metadata": {},
   "outputs": [],
   "source": [
    "train.to_csv(osp.join(SPLITS_DIR, 'train.txt'), sep='\\t', index=False, header=False)\n",
    "test.to_csv(osp.join(SPLITS_DIR, 'test.txt'), sep='\\t', index=False, header=False)\n",
    "val.to_csv(osp.join(SPLITS_DIR, 'dev.txt'), sep='\\t', index=False, header=False)"
   ]
  },
  {
   "cell_type": "markdown",
   "metadata": {},
   "source": [
    "Finally, we need dictionaries to map the entities and relations to unique IDs."
   ]
  },
  {
   "cell_type": "code",
   "execution_count": 53,
   "metadata": {},
   "outputs": [],
   "source": [
    "entities = {\"PAD\": 0, \"UNK\": 1}\n",
    "\n",
    "next_id = 2\n",
    "for df in kg_triples, train, test, val:\n",
    "    for i in df['source'].unique():\n",
    "        if i not in entities:\n",
    "            entities[i] = next_id\n",
    "            next_id += 1\n",
    "    for i in df['target'].unique():\n",
    "        if i not in entities:\n",
    "            entities[i] = next_id\n",
    "            next_id += 1"
   ]
  },
  {
   "cell_type": "code",
   "execution_count": 54,
   "metadata": {},
   "outputs": [],
   "source": [
    "relations = {\"PAD\": 0, \"DUMMY_START_RELATION\": 1, \"NO_OP\": 2, \"UNK\": 3}\n",
    "\n",
    "metaedges = set(kg_triples['metaedge']) | (set(inverse_triples['inv_metaedge']))\n",
    "\n",
    "next_id = 4\n",
    "for rel in metaedges:\n",
    "    relations[rel] = next_id\n",
    "    next_id += 1"
   ]
  },
  {
   "cell_type": "code",
   "execution_count": 55,
   "metadata": {},
   "outputs": [],
   "source": [
    "# write dictionary to json file\n",
    "with open(osp.join(SPLITS_DIR, 'entity_vocab.json'), 'w') as f:\n",
    "    json.dump(entities, f)\n",
    "\n",
    "with open(osp.join(SPLITS_DIR, 'relation_vocab.json'), 'w') as f:\n",
    "    json.dump(relations, f)"
   ]
  },
  {
   "cell_type": "code",
   "execution_count": null,
   "metadata": {},
   "outputs": [],
   "source": []
  }
 ],
 "metadata": {
  "kernelspec": {
   "display_name": "nesy_venv",
   "language": "python",
   "name": "python3"
  },
  "language_info": {
   "codemirror_mode": {
    "name": "ipython",
    "version": 3
   },
   "file_extension": ".py",
   "mimetype": "text/x-python",
   "name": "python",
   "nbconvert_exporter": "python",
   "pygments_lexer": "ipython3",
   "version": "3.9.6"
  },
  "orig_nbformat": 4
 },
 "nbformat": 4,
 "nbformat_minor": 2
}
