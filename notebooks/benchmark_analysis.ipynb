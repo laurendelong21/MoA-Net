{
 "cells": [
  {
   "cell_type": "markdown",
   "id": "willing-theology",
   "metadata": {},
   "source": [
    "# Benchmark analysis\n",
    "\n",
    "This notebook compares the different benchmark according to the two KG."
   ]
  },
  {
   "cell_type": "markdown",
   "id": "b63e5181",
   "metadata": {},
   "source": [
    "# Imports"
   ]
  },
  {
   "cell_type": "code",
   "execution_count": 1,
   "id": "ff7348e0",
   "metadata": {},
   "outputs": [],
   "source": [
    "import os\n",
    "import math\n",
    "from collections import Counter\n",
    "\n",
    "import pandas as pd\n",
    "import numpy as np\n",
    "from tqdm import tqdm\n",
    "\n",
    "import networkx as nx\n",
    "from networkx import DiGraph, connected_components"
   ]
  },
  {
   "cell_type": "markdown",
   "id": "0d74ef14",
   "metadata": {},
   "source": [
    "# Generate graph"
   ]
  },
  {
   "cell_type": "code",
   "execution_count": 2,
   "id": "f4e30b2e",
   "metadata": {},
   "outputs": [],
   "source": [
    "KG_DATA_PATH = '../data/kg'"
   ]
  },
  {
   "cell_type": "code",
   "execution_count": 3,
   "id": "2cbbbcc9",
   "metadata": {},
   "outputs": [],
   "source": [
    "def create_graph_from_df(\n",
    "    graph_df\n",
    ") -> DiGraph:\n",
    "    \"\"\"Create fully connected graph from dataframe.\"\"\"\n",
    "    graph = DiGraph()\n",
    "\n",
    "    for sub_name, obj_name, relation in graph_df.values:\n",
    "        # Store edge in the graph\n",
    "        graph.add_edge(\n",
    "            sub_name,\n",
    "            obj_name,\n",
    "            polarity=relation,\n",
    "        )\n",
    "\n",
    "    print(f\"Report on the number of relations: {dict(Counter(graph_df.edge_type))}\")\n",
    "\n",
    "    connected_components_subgraph = [\n",
    "        component\n",
    "        for component in sorted(\n",
    "            connected_components(\n",
    "                graph.to_undirected()\n",
    "            ),\n",
    "            key=len,\n",
    "            reverse=True\n",
    "        )\n",
    "    ]\n",
    "\n",
    "    final_subgraph = graph.subgraph(connected_components_subgraph[0])\n",
    "\n",
    "    return final_subgraph"
   ]
  },
  {
   "cell_type": "code",
   "execution_count": 4,
   "id": "a08b5c11",
   "metadata": {},
   "outputs": [
    {
     "name": "stderr",
     "output_type": "stream",
     "text": [
      "  0%|          | 0/4 [00:00<?, ?it/s]"
     ]
    },
    {
     "name": "stderr",
     "output_type": "stream",
     "text": [
      " 25%|██▌       | 1/4 [00:00<00:01,  1.98it/s]"
     ]
    },
    {
     "name": "stdout",
     "output_type": "stream",
     "text": [
      "Report on the number of relations: {'interacts': 20000, 'downregulates': 2196, 'upregulates': 1627, 'participates': 2605, 'induces': 792}\n"
     ]
    },
    {
     "name": "stderr",
     "output_type": "stream",
     "text": [
      " 50%|█████     | 2/4 [00:00<00:00,  3.10it/s]"
     ]
    },
    {
     "name": "stdout",
     "output_type": "stream",
     "text": [
      "Report on the number of relations: {'interacts': 10000, 'induces': 707, 'participates': 2603, 'upregulates': 1624, 'downregulates': 2196}\n",
      "Report on the number of relations: {'downregulates': 844, 'upregulates': 720, 'interacts': 5264, 'participates': 1325, 'induces': 562}\n"
     ]
    },
    {
     "name": "stderr",
     "output_type": "stream",
     "text": [
      " 75%|███████▌  | 3/4 [00:00<00:00,  4.52it/s]"
     ]
    },
    {
     "name": "stdout",
     "output_type": "stream",
     "text": [
      "Report on the number of relations: {'interacts': 86786, 'participates': 4351, 'downregulates': 2205, 'upregulates': 1631, 'induces': 1111}\n"
     ]
    },
    {
     "name": "stderr",
     "output_type": "stream",
     "text": [
      "100%|██████████| 4/4 [00:02<00:00,  2.00it/s]\n"
     ]
    }
   ],
   "source": [
    "dataset_pairs = []\n",
    "\n",
    "for graph_type in tqdm(['medium', 'small', 'xsmall', 'splits']):\n",
    "\n",
    "    graph_df = pd.read_csv(\n",
    "        os.path.join(KG_DATA_PATH, graph_type, 'kg_with_train_smpls.tsv'),\n",
    "        sep='\\t',\n",
    "        usecols=['source', 'target', 'edge_type']\n",
    "    )\n",
    "    graph = create_graph_from_df(graph_df)\n",
    "\n",
    "    gold_standard = pd.read_csv(\n",
    "        os.path.join(KG_DATA_PATH, graph_type, 'test.tsv'),\n",
    "        sep='\\t',\n",
    "        usecols=['source', 'target']\n",
    "    )\n",
    "    gold_standard['pairs'] = gold_standard['source'] + '_' + gold_standard['target']\n",
    "    dataset_pairs.append([\n",
    "        graph_type,\n",
    "        graph,\n",
    "        gold_standard['pairs'].tolist()\n",
    "    ])\n",
    "\n"
   ]
  },
  {
   "cell_type": "markdown",
   "id": "nervous-valentine",
   "metadata": {},
   "source": [
    "# Value by change for each KG\n",
    "\n",
    "What is the change of getting our gold standard pair from all possible pair combinations."
   ]
  },
  {
   "cell_type": "code",
   "execution_count": 5,
   "id": "falling-kernel",
   "metadata": {},
   "outputs": [
    {
     "name": "stderr",
     "output_type": "stream",
     "text": [
      "100%|██████████| 4/4 [00:00<00:00, 2437.49it/s]\n"
     ]
    },
    {
     "data": {
      "text/plain": [
       "{'medium': 3.249, 'small': 3.409, 'xsmall': 5.269, 'splits': 3.379}"
      ]
     },
     "execution_count": 5,
     "metadata": {},
     "output_type": "execute_result"
    }
   ],
   "source": [
    "val_by_chance_dict = {}\n",
    "\n",
    "for graph_type, graph, gold_standard in tqdm(dataset_pairs):\n",
    "    drugs = set()\n",
    "    bps = set()\n",
    "\n",
    "    for drug_bp_pair in gold_standard:\n",
    "        drug, bp = drug_bp_pair.split('_')\n",
    "        drugs.add(drug)\n",
    "        bps.add(bp)\n",
    "\n",
    "    total = len(drugs) * len(bps)\n",
    "    prob = len(gold_standard) / total\n",
    "    val_by_chance_dict[graph_type] = round(prob * 100, 3)\n",
    "\n",
    "val_by_chance_dict "
   ]
  },
  {
   "cell_type": "code",
   "execution_count": 6,
   "id": "67fb5a74",
   "metadata": {},
   "outputs": [
    {
     "name": "stderr",
     "output_type": "stream",
     "text": [
      "100%|██████████| 4/4 [00:00<00:00, 577.79it/s]"
     ]
    },
    {
     "name": "stdout",
     "output_type": "stream",
     "text": [
      "medium: 125 drugs, 65 bps\n",
      "small: 113 drugs, 61 bps\n",
      "xsmall: 91 drugs, 39 bps\n",
      "splits: 150 drugs, 73 bps\n"
     ]
    },
    {
     "name": "stderr",
     "output_type": "stream",
     "text": [
      "\n"
     ]
    }
   ],
   "source": [
    "for graph_type, graph, gold_standard in tqdm(dataset_pairs):\n",
    "    drugs = set()\n",
    "    bps = set()\n",
    "\n",
    "    for drug_bp_pair in gold_standard:\n",
    "        drug, bp = drug_bp_pair.split('_')\n",
    "        if drug in graph.nodes():\n",
    "            drugs.add(drug)\n",
    "        \n",
    "        if bp in graph.nodes():\n",
    "            bps.add(bp)\n",
    "\n",
    "    print(f\"{graph_type}: {len(drugs)} drugs, {len(bps)} bps\")"
   ]
  },
  {
   "cell_type": "markdown",
   "id": "70e43c44",
   "metadata": {},
   "source": [
    "# Helper Functions"
   ]
  },
  {
   "cell_type": "code",
   "execution_count": 7,
   "id": "baking-brush",
   "metadata": {},
   "outputs": [],
   "source": [
    "score_actual = {}\n",
    "kg_dfs = {}"
   ]
  },
  {
   "cell_type": "code",
   "execution_count": 8,
   "id": "subject-anchor",
   "metadata": {},
   "outputs": [],
   "source": [
    "def khop(\n",
    "    nodeA: str, \n",
    "    nodeB: str, \n",
    "    graph: nx.Graph, \n",
    "    total: bool\n",
    ") -> tuple:\n",
    "    \n",
    "    \"\"\"Find nodes within the distance limit \"\"\"\n",
    "    \n",
    "    khop_A = {u for u in graph.neighbors(nodeA)}\n",
    "    khop_B = {u for u in graph.neighbors(nodeB)}\n",
    "    \n",
    "    if total:\n",
    "        return list(khop_A | khop_B), khop_A, khop_B\n",
    "    else:\n",
    "        return list(khop_A & khop_B), khop_A, khop_B"
   ]
  },
  {
   "cell_type": "code",
   "execution_count": 9,
   "id": "senior-quest",
   "metadata": {},
   "outputs": [],
   "source": [
    "def get_dict_df(\n",
    "    bps, \n",
    "    drugs, \n",
    "    undirected_kg_graph, \n",
    "    di_kg_graph,\n",
    "    similarity_type,\n",
    "    similarity_name\n",
    "):\n",
    "\n",
    "    t = []\n",
    "    \n",
    "    for bp in bps:\n",
    "        \n",
    "        cn = []\n",
    "        \n",
    "        # for each disease, find the similarity score with for each drug and append to list\n",
    "        for drug in drugs:\n",
    "                        \n",
    "            shared_nodes, nodeA_neighbor, nodeB_neighbor = khop(\n",
    "                nodeA=drug,\n",
    "                nodeB=bp,\n",
    "                graph=undirected_kg_graph, \n",
    "                total=False,\n",
    "            )\n",
    "            \n",
    "            if similarity_type == 'cn':\n",
    "                similarity = len(shared_nodes)\n",
    "            \n",
    "            elif similarity_type == 'sp':\n",
    "                # try to see if path is between two nodes\n",
    "                try:\n",
    "                    similarity = len(nx.shortest_path(di_kg_graph, source=drug, target=bp))\n",
    "                except nx.NetworkXNoPath:\n",
    "                    similarity = 1000\n",
    "\n",
    "            cn.append(similarity)\n",
    "        \n",
    "        if not similarity_type == 'sp':\n",
    "            index = np.where(cn == np.amax(cn))\n",
    "        else:\n",
    "            index = np.where(cn == np.amin(cn))\n",
    "\n",
    "        # if list is full of 0's (i.e sum == 0), then there are no shared neighbors \n",
    "        if np.sum(cn) == 0:\n",
    "            continue \n",
    "        \n",
    "        for val in index:\n",
    "            for j in val:\n",
    "                t.append(\n",
    "                    {\n",
    "                        'source': list(drugs)[j], \n",
    "                        'target': bp, \n",
    "                        similarity_name: cn[j]\n",
    "                    }\n",
    "                )\n",
    "\n",
    "    return pd.DataFrame(t)"
   ]
  },
  {
   "cell_type": "code",
   "execution_count": 10,
   "id": "892dea1b",
   "metadata": {},
   "outputs": [],
   "source": [
    "def get_precision(\n",
    "    gold_standard_pairs: list, \n",
    "    predicted: list,\n",
    ")-> tuple: \n",
    "    \n",
    "    total = len(predicted)\n",
    "    pos = 0\n",
    "    \n",
    "    for pair in predicted:\n",
    "        if pair in gold_standard_pairs:\n",
    "            pos += 1\n",
    "    \n",
    "    return round(((pos/total) * 100), 3), pos, total\n"
   ]
  },
  {
   "cell_type": "markdown",
   "id": "perfect-yemen",
   "metadata": {},
   "source": [
    "# Different benchmark methods"
   ]
  },
  {
   "cell_type": "code",
   "execution_count": 11,
   "id": "flying-buying",
   "metadata": {},
   "outputs": [],
   "source": [
    "sim_scores = {\n",
    "    'cn': 'Common Neighbors',\n",
    "    'sp': 'Shortest Path'\n",
    "}"
   ]
  },
  {
   "cell_type": "code",
   "execution_count": 12,
   "id": "25be3772",
   "metadata": {},
   "outputs": [],
   "source": [
    "score_df = []"
   ]
  },
  {
   "cell_type": "code",
   "execution_count": 13,
   "id": "9abd58d6",
   "metadata": {},
   "outputs": [
    {
     "name": "stderr",
     "output_type": "stream",
     "text": [
      "Calculating scores for algorithms - medium: 100%|██████████| 2/2 [00:02<00:00,  1.03s/it]\n",
      "Calculating scores for algorithms - small: 100%|██████████| 2/2 [00:02<00:00,  1.26s/it]\n",
      "Calculating scores for algorithms - xsmall: 100%|██████████| 2/2 [00:01<00:00,  1.78it/s]\n",
      "Calculating scores for algorithms - splits: 100%|██████████| 2/2 [00:03<00:00,  1.68s/it]\n"
     ]
    }
   ],
   "source": [
    "for graph_type, graph, gold_standard in dataset_pairs:\n",
    "    drugs = set()\n",
    "    bps = set()\n",
    "\n",
    "    for drug_bp_pair in gold_standard:\n",
    "        drug, bp = drug_bp_pair.split('_')\n",
    "        if drug in graph.nodes():\n",
    "            drugs.add(drug)\n",
    "        \n",
    "        if bp in graph.nodes():\n",
    "            bps.add(bp)\n",
    "\n",
    "    undirected_kg_graph = graph.to_undirected()\n",
    "\n",
    "    for algo in tqdm(sim_scores, desc=f'Calculating scores for algorithms - {graph_type}'):\n",
    "        algo_name = sim_scores[algo]\n",
    "        \n",
    "        full_df = get_dict_df(\n",
    "            bps=list(bps),\n",
    "            drugs=list(drugs), \n",
    "            undirected_kg_graph=undirected_kg_graph,\n",
    "            di_kg_graph=graph,\n",
    "            similarity_type=algo,\n",
    "            similarity_name=algo_name\n",
    "        )\n",
    "\n",
    "        if full_df.empty:\n",
    "            print(f'No results for {algo_name}')\n",
    "            continue\n",
    "\n",
    "            \n",
    "        full_df['pair'] = full_df['source'] + '_' + full_df['target']\n",
    "                \n",
    "        precision, pos, total = get_precision(\n",
    "            gold_standard_pairs=gold_standard,\n",
    "            predicted=list(full_df['pair'].unique()),\n",
    "        )\n",
    "\n",
    "        score_df.append({\n",
    "            'graph_type': graph_type,\n",
    "            'algo_name': algo_name,\n",
    "            'precision': precision,\n",
    "            'val_by_chance': val_by_chance_dict[graph_type],\n",
    "            '# pairs': f'{pos}/{total}',\n",
    "        })"
   ]
  },
  {
   "cell_type": "code",
   "execution_count": 14,
   "id": "bf401167",
   "metadata": {},
   "outputs": [],
   "source": [
    "scores = pd.DataFrame(score_df)"
   ]
  },
  {
   "cell_type": "code",
   "execution_count": 15,
   "id": "4fdb30a2",
   "metadata": {},
   "outputs": [
    {
     "data": {
      "text/html": [
       "<div>\n",
       "<style scoped>\n",
       "    .dataframe tbody tr th:only-of-type {\n",
       "        vertical-align: middle;\n",
       "    }\n",
       "\n",
       "    .dataframe tbody tr th {\n",
       "        vertical-align: top;\n",
       "    }\n",
       "\n",
       "    .dataframe thead th {\n",
       "        text-align: right;\n",
       "    }\n",
       "</style>\n",
       "<table border=\"1\" class=\"dataframe\">\n",
       "  <thead>\n",
       "    <tr style=\"text-align: right;\">\n",
       "      <th></th>\n",
       "      <th>graph_type</th>\n",
       "      <th>algo_name</th>\n",
       "      <th>precision</th>\n",
       "      <th>val_by_chance</th>\n",
       "      <th># pairs</th>\n",
       "    </tr>\n",
       "  </thead>\n",
       "  <tbody>\n",
       "    <tr>\n",
       "      <th>0</th>\n",
       "      <td>medium</td>\n",
       "      <td>Common Neighbors</td>\n",
       "      <td>14.957</td>\n",
       "      <td>3.249</td>\n",
       "      <td>35/234</td>\n",
       "    </tr>\n",
       "    <tr>\n",
       "      <th>1</th>\n",
       "      <td>medium</td>\n",
       "      <td>Shortest Path</td>\n",
       "      <td>3.936</td>\n",
       "      <td>3.249</td>\n",
       "      <td>32/813</td>\n",
       "    </tr>\n",
       "    <tr>\n",
       "      <th>2</th>\n",
       "      <td>small</td>\n",
       "      <td>Common Neighbors</td>\n",
       "      <td>16.827</td>\n",
       "      <td>3.409</td>\n",
       "      <td>35/208</td>\n",
       "    </tr>\n",
       "    <tr>\n",
       "      <th>3</th>\n",
       "      <td>small</td>\n",
       "      <td>Shortest Path</td>\n",
       "      <td>4.216</td>\n",
       "      <td>3.409</td>\n",
       "      <td>32/759</td>\n",
       "    </tr>\n",
       "    <tr>\n",
       "      <th>4</th>\n",
       "      <td>xsmall</td>\n",
       "      <td>Common Neighbors</td>\n",
       "      <td>13.274</td>\n",
       "      <td>5.269</td>\n",
       "      <td>15/113</td>\n",
       "    </tr>\n",
       "    <tr>\n",
       "      <th>5</th>\n",
       "      <td>xsmall</td>\n",
       "      <td>Shortest Path</td>\n",
       "      <td>1.610</td>\n",
       "      <td>5.269</td>\n",
       "      <td>9/559</td>\n",
       "    </tr>\n",
       "    <tr>\n",
       "      <th>6</th>\n",
       "      <td>splits</td>\n",
       "      <td>Common Neighbors</td>\n",
       "      <td>16.949</td>\n",
       "      <td>3.379</td>\n",
       "      <td>40/236</td>\n",
       "    </tr>\n",
       "    <tr>\n",
       "      <th>7</th>\n",
       "      <td>splits</td>\n",
       "      <td>Shortest Path</td>\n",
       "      <td>3.139</td>\n",
       "      <td>3.379</td>\n",
       "      <td>35/1115</td>\n",
       "    </tr>\n",
       "  </tbody>\n",
       "</table>\n",
       "</div>"
      ],
      "text/plain": [
       "  graph_type         algo_name  precision  val_by_chance  # pairs\n",
       "0     medium  Common Neighbors     14.957          3.249   35/234\n",
       "1     medium     Shortest Path      3.936          3.249   32/813\n",
       "2      small  Common Neighbors     16.827          3.409   35/208\n",
       "3      small     Shortest Path      4.216          3.409   32/759\n",
       "4     xsmall  Common Neighbors     13.274          5.269   15/113\n",
       "5     xsmall     Shortest Path      1.610          5.269    9/559\n",
       "6     splits  Common Neighbors     16.949          3.379   40/236\n",
       "7     splits     Shortest Path      3.139          3.379  35/1115"
      ]
     },
     "execution_count": 15,
     "metadata": {},
     "output_type": "execute_result"
    }
   ],
   "source": [
    "scores"
   ]
  },
  {
   "cell_type": "code",
   "execution_count": null,
   "id": "e8c75c84",
   "metadata": {},
   "outputs": [],
   "source": []
  }
 ],
 "metadata": {
  "kernelspec": {
   "display_name": "neurosym",
   "language": "python",
   "name": "neurosym"
  },
  "language_info": {
   "codemirror_mode": {
    "name": "ipython",
    "version": 3
   },
   "file_extension": ".py",
   "mimetype": "text/x-python",
   "name": "python",
   "nbconvert_exporter": "python",
   "pygments_lexer": "ipython3",
   "version": "3.8.3"
  }
 },
 "nbformat": 4,
 "nbformat_minor": 5
}
