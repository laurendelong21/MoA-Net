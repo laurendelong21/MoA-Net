{
 "cells": [
  {
   "cell_type": "code",
   "execution_count": 1,
   "metadata": {},
   "outputs": [],
   "source": [
    "import pandas as pd\n",
    "import sqlite3"
   ]
  },
  {
   "cell_type": "code",
   "execution_count": 2,
   "metadata": {},
   "outputs": [],
   "source": [
    "conn = sqlite3.connect('../data/chembl_33.db')"
   ]
  },
  {
   "cell_type": "code",
   "execution_count": 3,
   "metadata": {},
   "outputs": [],
   "source": [
    "cursor = conn.execute(\"SELECT name FROM sqlite_master WHERE type='table';\")\n",
    "try:\n",
    "    assert len(cursor.fetchall()) > 1\n",
    "except AssertionError:\n",
    "    print('Incorrect database. Please download the database again.')"
   ]
  },
  {
   "cell_type": "code",
   "execution_count": 4,
   "metadata": {},
   "outputs": [],
   "source": [
    "_sql = \"\"\"\n",
    "SELECT\n",
    "    MOLECULE_DICTIONARY.pref_name,\n",
    "    MOLECULE_DICTIONARY.CHEMBL_ID as chembl_idx,\n",
    "    ASSAYS.chembl_id as assay_id,\n",
    "    ACTIVITIES.pchembl_value as pchembl_value,\n",
    "    GO_CLASSIFICATION.go_id as go_id,\n",
    "    GO_CLASSIFICATION.pref_name as go_term\n",
    "FROM MOLECULE_DICTIONARY\n",
    "JOIN ACTIVITIES ON MOLECULE_DICTIONARY.molregno == ACTIVITIES.molregno\n",
    "JOIN ASSAYS ON ACTIVITIES.assay_id == ASSAYS.assay_id\n",
    "JOIN TARGET_DICTIONARY on ASSAYS.tid == TARGET_DICTIONARY.tid\n",
    "JOIN TARGET_COMPONENTS on TARGET_DICTIONARY.tid == TARGET_COMPONENTS.tid\n",
    "JOIN COMPONENT_SEQUENCES on TARGET_COMPONENTS.component_id == COMPONENT_SEQUENCES.component_id\n",
    "JOIN COMPONENT_GO on COMPONENT_SEQUENCES.component_id == COMPONENT_GO.component_id\n",
    "JOIN GO_CLASSIFICATION on COMPONENT_GO.go_id == GO_CLASSIFICATION.go_id\n",
    "JOIN COMPOUND_STRUCTURES on MOLECULE_DICTIONARY.molregno == COMPOUND_STRUCTURES.molregno\n",
    "WHERE\n",
    "    ASSAYS.tid is not null\n",
    "    and ASSAYS.assay_organism = 'Homo sapiens'\n",
    "\"\"\""
   ]
  },
  {
   "cell_type": "code",
   "execution_count": 5,
   "metadata": {},
   "outputs": [
    {
     "data": {
      "text/html": [
       "<div>\n",
       "<style scoped>\n",
       "    .dataframe tbody tr th:only-of-type {\n",
       "        vertical-align: middle;\n",
       "    }\n",
       "\n",
       "    .dataframe tbody tr th {\n",
       "        vertical-align: top;\n",
       "    }\n",
       "\n",
       "    .dataframe thead th {\n",
       "        text-align: right;\n",
       "    }\n",
       "</style>\n",
       "<table border=\"1\" class=\"dataframe\">\n",
       "  <thead>\n",
       "    <tr style=\"text-align: right;\">\n",
       "      <th></th>\n",
       "      <th>pref_name</th>\n",
       "      <th>chembl_idx</th>\n",
       "      <th>assay_id</th>\n",
       "      <th>pchembl_value</th>\n",
       "      <th>go_id</th>\n",
       "      <th>go_term</th>\n",
       "    </tr>\n",
       "  </thead>\n",
       "  <tbody>\n",
       "    <tr>\n",
       "      <th>0</th>\n",
       "      <td>None</td>\n",
       "      <td>CHEMBL344142</td>\n",
       "      <td>CHEMBL615157</td>\n",
       "      <td>NaN</td>\n",
       "      <td>GO:0000166</td>\n",
       "      <td>nucleotide binding</td>\n",
       "    </tr>\n",
       "    <tr>\n",
       "      <th>1</th>\n",
       "      <td>None</td>\n",
       "      <td>CHEMBL344142</td>\n",
       "      <td>CHEMBL615157</td>\n",
       "      <td>NaN</td>\n",
       "      <td>GO:0009058</td>\n",
       "      <td>biosynthetic process</td>\n",
       "    </tr>\n",
       "    <tr>\n",
       "      <th>2</th>\n",
       "      <td>None</td>\n",
       "      <td>CHEMBL344142</td>\n",
       "      <td>CHEMBL615157</td>\n",
       "      <td>NaN</td>\n",
       "      <td>GO:0016491</td>\n",
       "      <td>oxidoreductase activity</td>\n",
       "    </tr>\n",
       "    <tr>\n",
       "      <th>3</th>\n",
       "      <td>SPRIOLACTONE</td>\n",
       "      <td>CHEMBL400534</td>\n",
       "      <td>CHEMBL615157</td>\n",
       "      <td>NaN</td>\n",
       "      <td>GO:0000166</td>\n",
       "      <td>nucleotide binding</td>\n",
       "    </tr>\n",
       "    <tr>\n",
       "      <th>4</th>\n",
       "      <td>SPRIOLACTONE</td>\n",
       "      <td>CHEMBL400534</td>\n",
       "      <td>CHEMBL615157</td>\n",
       "      <td>NaN</td>\n",
       "      <td>GO:0009058</td>\n",
       "      <td>biosynthetic process</td>\n",
       "    </tr>\n",
       "  </tbody>\n",
       "</table>\n",
       "</div>"
      ],
      "text/plain": [
       "      pref_name    chembl_idx      assay_id  pchembl_value       go_id  \\\n",
       "0          None  CHEMBL344142  CHEMBL615157            NaN  GO:0000166   \n",
       "1          None  CHEMBL344142  CHEMBL615157            NaN  GO:0009058   \n",
       "2          None  CHEMBL344142  CHEMBL615157            NaN  GO:0016491   \n",
       "3  SPRIOLACTONE  CHEMBL400534  CHEMBL615157            NaN  GO:0000166   \n",
       "4  SPRIOLACTONE  CHEMBL400534  CHEMBL615157            NaN  GO:0009058   \n",
       "\n",
       "                   go_term  \n",
       "0       nucleotide binding  \n",
       "1     biosynthetic process  \n",
       "2  oxidoreductase activity  \n",
       "3       nucleotide binding  \n",
       "4     biosynthetic process  "
      ]
     },
     "execution_count": 5,
     "metadata": {},
     "output_type": "execute_result"
    }
   ],
   "source": [
    "df = pd.read_sql(_sql, con=conn)\n",
    "df.head()"
   ]
  },
  {
   "cell_type": "code",
   "execution_count": 8,
   "metadata": {},
   "outputs": [
    {
     "data": {
      "text/plain": [
       "(39205196, 6)"
      ]
     },
     "execution_count": 8,
     "metadata": {},
     "output_type": "execute_result"
    }
   ],
   "source": [
    "df.dropna(subset=['pchembl_value'], inplace=True)\n",
    "df.shape"
   ]
  },
  {
   "cell_type": "code",
   "execution_count": 9,
   "metadata": {},
   "outputs": [],
   "source": [
    "df.to_csv('../data/mappings/chembl_go.tsv', sep='\\t', index=False)"
   ]
  },
  {
   "cell_type": "code",
   "execution_count": null,
   "metadata": {},
   "outputs": [],
   "source": []
  }
 ],
 "metadata": {
  "kernelspec": {
   "display_name": "neurosym",
   "language": "python",
   "name": "neurosym"
  },
  "language_info": {
   "codemirror_mode": {
    "name": "ipython",
    "version": 3
   },
   "file_extension": ".py",
   "mimetype": "text/x-python",
   "name": "python",
   "nbconvert_exporter": "python",
   "pygments_lexer": "ipython3",
   "version": "3.8.3"
  },
  "orig_nbformat": 4
 },
 "nbformat": 4,
 "nbformat_minor": 2
}
