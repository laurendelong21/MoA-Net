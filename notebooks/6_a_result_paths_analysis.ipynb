{
 "cells": [
  {
   "attachments": {},
   "cell_type": "markdown",
   "id": "e62a03da",
   "metadata": {},
   "source": [
    "# Analysis of Resulting MARS Paths\n",
    "\n",
    "Here, I analyze the paths found by the MARS method and check how closely they match the MOAs in [DrugMechDB](https://sulab.github.io/DrugMechDB/)."
   ]
  },
  {
   "cell_type": "code",
   "execution_count": 1,
   "id": "d34454e0",
   "metadata": {},
   "outputs": [],
   "source": [
    "import pandas as pd\n",
    "import os.path as osp\n",
    "import os\n",
    "import statistics\n",
    "from collections import Counter\n",
    "from urllib import request\n",
    "import json\n",
    "from matplotlib import pyplot as plt\n",
    "from matplotlib_venn import venn2_unweighted\n",
    "import numpy as np\n",
    "from tqdm import tqdm\n",
    "from collections import defaultdict\n",
    "import re"
   ]
  },
  {
   "attachments": {},
   "cell_type": "markdown",
   "id": "83ace06e",
   "metadata": {},
   "source": [
    "## Load in the DrugMechDB file:"
   ]
  },
  {
   "cell_type": "code",
   "execution_count": 2,
   "id": "cfa03a32",
   "metadata": {},
   "outputs": [],
   "source": [
    "VALIDATION_DIR = \"../data/validation\"\n",
    "MAPPING_DIR = \"../data/mappings\"\n",
    "KG_DIR = \"../data/kg\""
   ]
  },
  {
   "cell_type": "code",
   "execution_count": 3,
   "id": "a7545b78",
   "metadata": {},
   "outputs": [],
   "source": [
    "url = \"https://raw.githubusercontent.com/SuLab/DrugMechDB/1.0/indication_paths.json\""
   ]
  },
  {
   "cell_type": "code",
   "execution_count": 4,
   "id": "f49f4af3",
   "metadata": {},
   "outputs": [],
   "source": [
    "with request.urlopen(url) as fl:\n",
    "    data_json = json.loads(fl.read())\n",
    "    # json.dump(dict(data_json), filepath)\n",
    "    # print(data_json)"
   ]
  },
  {
   "attachments": {},
   "cell_type": "markdown",
   "id": "44f027dc",
   "metadata": {},
   "source": [
    "Are there the same number of paths as before?"
   ]
  },
  {
   "cell_type": "code",
   "execution_count": 5,
   "id": "3e312303",
   "metadata": {},
   "outputs": [
    {
     "data": {
      "text/plain": [
       "123"
      ]
     },
     "execution_count": 5,
     "metadata": {},
     "output_type": "execute_result"
    }
   ],
   "source": [
    "len(data_json)"
   ]
  },
  {
   "attachments": {},
   "cell_type": "markdown",
   "id": "dd42c3b9",
   "metadata": {},
   "source": [
    "Create a new object containing only those which end in a BP node.\n",
    "\n",
    "Let's also get all the unique BPs involved:"
   ]
  },
  {
   "attachments": {},
   "cell_type": "markdown",
   "id": "d6d52f3f",
   "metadata": {},
   "source": [
    "**It is worth noting that there are lots of non-drug compounds in here, such as carbovir triphosphate and prostaglandins, which act as middle players in the paths.**"
   ]
  },
  {
   "cell_type": "code",
   "execution_count": 6,
   "id": "68e47dde",
   "metadata": {},
   "outputs": [],
   "source": [
    "bp_paths = []\n",
    "bp_path_lengths = []\n",
    "bps = set()\n",
    "for path in data_json:\n",
    "    for count, node in enumerate(path[\"nodes\"]):\n",
    "        # if any node is BP,\n",
    "        if node[\"label\"] == \"Biological Process\":\n",
    "            bp_paths.append(path)\n",
    "            bp_path_lengths.append(count)\n",
    "            bps.add(path[\"nodes\"][count][\"id\"])"
   ]
  },
  {
   "cell_type": "code",
   "execution_count": 7,
   "id": "fb6a109d",
   "metadata": {},
   "outputs": [
    {
     "data": {
      "text/plain": [
       "100"
      ]
     },
     "execution_count": 7,
     "metadata": {},
     "output_type": "execute_result"
    }
   ],
   "source": [
    "len(bp_paths)"
   ]
  },
  {
   "cell_type": "code",
   "execution_count": 8,
   "id": "ead590f0",
   "metadata": {},
   "outputs": [
    {
     "data": {
      "image/png": "[encoded data removed]",
      "text/plain": [
       "<Figure size 540x252 with 1 Axes>"
      ]
     },
     "metadata": {
      "needs_background": "light"
     },
     "output_type": "display_data"
    }
   ],
   "source": [
    "bpath_lens = Counter(bp_path_lengths)\n",
    "\n",
    "plt.rcParams[\"figure.figsize\"] = [7.50, 3.50]\n",
    "plt.rcParams[\"figure.autolayout\"] = True\n",
    "\n",
    "plt.bar(bpath_lens.keys(), bpath_lens.values())\n",
    "\n",
    "plt.show()"
   ]
  },
  {
   "cell_type": "markdown",
   "id": "2cc8135b",
   "metadata": {},
   "source": [
    "## Extracting MOAs for Result Validation\n",
    "\n",
    "Here, we get these MOAs synchronized with the IDs used in our KG, and then we save them in a file for easy comparison against test results.\n",
    "\n",
    "First, in the `preprocess_drugmechdb` notebook, we've seen that some of the identifiers need to map to others. We'll use the files which were prepared there to do easy mapping here."
   ]
  },
  {
   "cell_type": "code",
   "execution_count": 9,
   "id": "05647ab6",
   "metadata": {},
   "outputs": [],
   "source": [
    "# read a json as a dict\n",
    "with open(osp.join(MAPPING_DIR, \"uniprot2ncbi.json\")) as fl:\n",
    "    uniprot2ncbi = json.load(fl)\n",
    "\n",
    "with open(osp.join(MAPPING_DIR, \"drug_id_mapping.json\")) as fl:\n",
    "    drug_id_mapping = json.load(fl)"
   ]
  },
  {
   "cell_type": "code",
   "execution_count": 10,
   "id": "7de90621",
   "metadata": {},
   "outputs": [
    {
     "data": {
      "text/plain": [
       "63"
      ]
     },
     "execution_count": 10,
     "metadata": {},
     "output_type": "execute_result"
    }
   ],
   "source": [
    "len(drug_id_mapping)"
   ]
  },
  {
   "cell_type": "markdown",
   "id": "9e7a09d4",
   "metadata": {},
   "source": [
    "Using these dictionaries, we'll map the nodes to the ontologies used in the KG:"
   ]
  },
  {
   "cell_type": "code",
   "execution_count": 11,
   "id": "9c4389c3",
   "metadata": {},
   "outputs": [],
   "source": [
    "def map_node(node):\n",
    "    if node[\"label\"] == \"Drug\" and node[\"name\"] in drug_id_mapping:\n",
    "        return drug_id_mapping[node[\"name\"]]\n",
    "    elif node[\"label\"] == \"Protein\" and node[\"id\"] in uniprot2ncbi:\n",
    "        return uniprot2ncbi[node[\"id\"]]\n",
    "    else:\n",
    "        return node[\"id\"]"
   ]
  },
  {
   "cell_type": "markdown",
   "id": "46523a4c",
   "metadata": {},
   "source": [
    "Now, get a dictionary of the nodes and relations in each MOA:"
   ]
  },
  {
   "cell_type": "code",
   "execution_count": 12,
   "id": "1adaadef",
   "metadata": {},
   "outputs": [
    {
     "data": {
      "text/plain": [
       "53"
      ]
     },
     "execution_count": 12,
     "metadata": {},
     "output_type": "execute_result"
    }
   ],
   "source": [
    "validation_moas = defaultdict(lambda: {\"nodes\": None, \"relations\": None})\n",
    "not_mapped = set()\n",
    "for path in data_json:\n",
    "    # map the drug name to its pubchem ID\n",
    "    if path[\"nodes\"][0][\"name\"] not in drug_id_mapping:\n",
    "        not_mapped.add(path[\"nodes\"][0][\"name\"])\n",
    "        continue\n",
    "    start_node = drug_id_mapping[path[\"nodes\"][0][\"name\"]]\n",
    "    for count, node in enumerate(path[\"nodes\"]):\n",
    "        # if any node is BP,\n",
    "        if node[\"label\"] == \"Biological Process\":\n",
    "            end_node = path[\"nodes\"][count][\"id\"]\n",
    "            # record those MOAs\n",
    "            validation_moas[(start_node, end_node)][\"nodes\"] = [\n",
    "                map_node(i) for i in path[\"nodes\"][0 : len(path[\"nodes\"]) - 1]\n",
    "            ]\n",
    "            validation_moas[(start_node, end_node)][\"relations\"] = [\n",
    "                i[\"key\"] for i in path[\"links\"][0 : len(path[\"links\"]) - 1]\n",
    "            ]\n",
    "\n",
    "len(validation_moas)"
   ]
  },
  {
   "cell_type": "markdown",
   "id": "9b57a21b",
   "metadata": {},
   "source": [
    "Does it look how we want it to?\n",
    "\n",
    "- The keys are tuples comprising a pair of (drug, GO BP)\n",
    "- The values are dictionaries containing:\n",
    "    - nodes: a sequence of nodes in the MOA\n",
    "    - relations: a sequence of relation types in the MOA, which might not necessarily correspond to those in the KG:"
   ]
  },
  {
   "attachments": {},
   "cell_type": "markdown",
   "id": "78dd4fe4",
   "metadata": {},
   "source": [
    "## PoLo: Output Paths\n",
    "\n",
    "Now, we'll get lists from the output file of MARS:"
   ]
  },
  {
   "cell_type": "code",
   "execution_count": 13,
   "id": "33c51215",
   "metadata": {},
   "outputs": [],
   "source": [
    "OUTPUT_DIR = \"../data/output\""
   ]
  },
  {
   "cell_type": "code",
   "execution_count": 14,
   "id": "9afcffcb",
   "metadata": {},
   "outputs": [],
   "source": [
    "# read in json file from MAPPING_DIR\n",
    "with open(osp.join(MAPPING_DIR, \"rel_mapping.json\")) as fl:\n",
    "    node_mapping = json.load(fl)"
   ]
  },
  {
   "cell_type": "code",
   "execution_count": 15,
   "id": "0b7882a4",
   "metadata": {},
   "outputs": [],
   "source": [
    "def get_rel_mapping(item_to_map):\n",
    "    \"\"\"Gets the relation mapping for the KG.\"\"\"\n",
    "    capital_groups = re.findall('[A-Z]+', item_to_map)\n",
    "    predicate = re.findall('[a-z]+', item_to_map)\n",
    "    capital_groups = [node_mapping[i] for i in capital_groups]\n",
    "    mapped_item = f\"-{predicate[0]}-\".join(capital_groups)\n",
    "    if \"_\" in item_to_map:\n",
    "        mapped_item += \"*\"\n",
    "    return mapped_item\n"
   ]
  },
  {
   "cell_type": "code",
   "execution_count": 16,
   "id": "f435e2cf",
   "metadata": {},
   "outputs": [],
   "source": [
    "metaedges = {'i': 'interacts',\n",
    "             'p': 'participates',\n",
    "             'u': 'upregulates',\n",
    "             'd': 'downregulates',\n",
    "             't': 'induces'}\n",
    "\n",
    "def get_rel_mapping(item_to_map):\n",
    "    \"\"\"Gets the relation mapping for the KG.\"\"\"\n",
    "    predicate = re.findall('[a-z]+', item_to_map)[0]\n",
    "    mapped_item = metaedges[predicate]\n",
    "    if \"_\" in item_to_map and predicate != 'i':\n",
    "        mapped_item += \"*\"\n",
    "    return mapped_item\n"
   ]
  },
  {
   "attachments": {},
   "cell_type": "markdown",
   "id": "61052717",
   "metadata": {},
   "source": [
    "First, write some functions to do all the desired analyses:"
   ]
  },
  {
   "cell_type": "code",
   "execution_count": 17,
   "id": "affb8220",
   "metadata": {},
   "outputs": [],
   "source": [
    "def get_paths(file_path, correct_only=True):\n",
    "    \"\"\"Extracts the paths from MARS's output paths file.\n",
    "    :param file_path: the path of the output file\n",
    "    :param correct_only: boolean flag to determine whether or not to extract paths from correct matches only.\n",
    "\n",
    "    returns a dict of the test pairs as keys and lists of the path patterns traversed as keys\n",
    "    \"\"\"\n",
    "    with open(file_path, \"r\") as file:\n",
    "        lines = file.readlines()\n",
    "\n",
    "    breakpoints = [\n",
    "        i for i, line in enumerate(lines) if line.startswith(\"#####################\")\n",
    "    ]\n",
    "\n",
    "    chunks = []\n",
    "    startpoint = 0\n",
    "    for brk in breakpoints:\n",
    "        chunk = lines[startpoint:brk]\n",
    "        if not correct_only:\n",
    "            chunks.append(chunk)\n",
    "        elif correct_only and chunk[1].strip() == \"Reward:1\":\n",
    "            chunks.append(chunk)\n",
    "        startpoint = brk + 1\n",
    "\n",
    "    pred_paths = dict()\n",
    "\n",
    "    for chunk in chunks:\n",
    "        srt = 0\n",
    "        current_pair = tuple(chunk[0].split())\n",
    "        pred_paths[current_pair] = {\"nodes\": [], \"relations\": []}\n",
    "        chunk = chunk[2::]\n",
    "        breakpoints = [i for i, line in enumerate(chunk) if line.startswith(\"___\")]\n",
    "        for brk in breakpoints:\n",
    "            entry = chunk[srt:brk]\n",
    "            if entry[2].strip() == \"1\":\n",
    "                pred_paths[current_pair][\"nodes\"].append(entry[0].strip().split(\"\\t\"))\n",
    "                pred_paths[current_pair][\"relations\"].append(\n",
    "                    entry[1].strip().split(\"\\t\")\n",
    "                )\n",
    "            srt = brk + 1\n",
    "\n",
    "    return pred_paths"
   ]
  },
  {
   "cell_type": "code",
   "execution_count": 22,
   "id": "935af73b",
   "metadata": {},
   "outputs": [],
   "source": [
    "paths = get_paths('/home/lauren/neurosymbolic-mechanism/data/output/paths.txt')"
   ]
  },
  {
   "cell_type": "code",
   "execution_count": 18,
   "id": "e55e94ce",
   "metadata": {},
   "outputs": [],
   "source": [
    "def get_pattern_breakdown(pred_paths, key=None):\n",
    "    \"\"\"Gets a counter of all the path patterns found.\n",
    "\n",
    "    If key is passed, returns the counter only for that particular test pair.\n",
    "    \"\"\"\n",
    "    if key:\n",
    "        patterns_traversed = pred_paths[key][\"relations\"]\n",
    "\n",
    "    else:\n",
    "        patterns_traversed = []\n",
    "        for val in pred_paths.values():\n",
    "            patterns_traversed.extend(val[\"relations\"])\n",
    "\n",
    "    patterns_traversed = [\n",
    "        [rel for rel in i if rel != \"NO_OP\"] for i in patterns_traversed\n",
    "    ]\n",
    "    patterns_traversed = [[get_rel_mapping(rel) for rel in i] for i in patterns_traversed]\n",
    "    patterns_traversed = [\" -> \".join(i) for i in patterns_traversed]\n",
    "    return Counter(patterns_traversed)"
   ]
  },
  {
   "cell_type": "code",
   "execution_count": 25,
   "id": "b80a0af1",
   "metadata": {},
   "outputs": [
    {
     "data": {
      "text/plain": [
       "Counter({'downregulates -> participates -> participates* -> participates': 780,\n",
       "         'downregulates -> downregulates* -> downregulates -> participates': 113,\n",
       "         'downregulates -> participates': 29,\n",
       "         'downregulates -> upregulates* -> upregulates -> participates': 4,\n",
       "         'upregulates -> upregulates* -> downregulates -> participates': 6,\n",
       "         'upregulates -> participates -> participates* -> participates': 435,\n",
       "         'upregulates -> participates': 17,\n",
       "         'upregulates -> upregulates* -> upregulates -> participates': 8,\n",
       "         'upregulates -> interacts -> interacts -> participates': 7,\n",
       "         'upregulates -> interacts -> participates': 3,\n",
       "         'downregulates -> downregulates* -> upregulates -> participates': 9,\n",
       "         'upregulates -> downregulates* -> downregulates -> participates': 1,\n",
       "         'downregulates -> interacts -> participates': 13,\n",
       "         'downregulates -> interacts -> interacts -> participates': 28,\n",
       "         'downregulates -> upregulates* -> downregulates -> participates': 1})"
      ]
     },
     "execution_count": 25,
     "metadata": {},
     "output_type": "execute_result"
    }
   ],
   "source": [
    "brkdwn = get_pattern_breakdown(paths)\n",
    "\n",
    "brkdwn"
   ]
  },
  {
   "cell_type": "code",
   "execution_count": 24,
   "id": "f4751d5f",
   "metadata": {},
   "outputs": [],
   "source": [
    "def plot_pattern_breakdown(pattern_counter, output_path):\n",
    "    \"\"\"Makes a histogram of the pattern counts (code written by ChatGPT)\"\"\"\n",
    "    # Separate keys and values\n",
    "    keys, values = zip(*pattern_counter.items())\n",
    "\n",
    "    #plt.figure(figsize=(30, 18))\n",
    "\n",
    "    # Create a histogram\n",
    "    plt.barh(keys, values)\n",
    "\n",
    "    # Add labels and a title\n",
    "    plt.xlabel(\"Correct Predictions\")\n",
    "    plt.ylabel(\"Metapaths\")\n",
    "    plt.title(\"Metapath Instances Traversed Between True Pairs\")\n",
    "\n",
    "    # Rotate x-axis labels by 45 degrees\n",
    "    plt.xticks(rotation=45)\n",
    "\n",
    "    # Save the plot to a file (e.g., 'histogram.png')\n",
    "    plt.savefig(output_path)\n",
    "\n",
    "    # Close the plot to free up resources\n",
    "    plt.close()"
   ]
  },
  {
   "cell_type": "code",
   "execution_count": 26,
   "id": "0089dff2",
   "metadata": {},
   "outputs": [],
   "source": [
    "plot_pattern_breakdown(brkdwn, osp.join(OUTPUT_DIR, \"pattern_breakdown.png\"))"
   ]
  },
  {
   "cell_type": "code",
   "execution_count": null,
   "id": "63895053",
   "metadata": {},
   "outputs": [],
   "source": []
  },
  {
   "cell_type": "code",
   "execution_count": null,
   "id": "77d3a713",
   "metadata": {},
   "outputs": [],
   "source": []
  },
  {
   "cell_type": "code",
   "execution_count": null,
   "id": "9daa6c8b",
   "metadata": {},
   "outputs": [],
   "source": []
  },
  {
   "cell_type": "code",
   "execution_count": null,
   "id": "7534901e",
   "metadata": {},
   "outputs": [],
   "source": []
  },
  {
   "attachments": {},
   "cell_type": "markdown",
   "id": "238dcff0",
   "metadata": {},
   "source": [
    "The following function simply does the following: checks the %age of proteins that overlap between the DrugMechDB MOA and the paths found between the pairs by MARS.\n"
   ]
  },
  {
   "cell_type": "code",
   "execution_count": 20,
   "id": "ff0755b4",
   "metadata": {},
   "outputs": [],
   "source": [
    "def moa_comparison(pred_paths, validation_paths):\n",
    "    \"\"\"Compares the MOAS between the results and the DrugMechDB\n",
    "\n",
    "    :param pred_paths: the dictionary of predicted paths from the first function\n",
    "    :param validation_paths: the dictionary of validation paths from the DrugMechDB, computed earlier in this notebook.\n",
    "    \"\"\"\n",
    "    found_keys = set(pred_paths.keys()) & validation_paths.keys()\n",
    "    real_moas = {\n",
    "        key: val[\"nodes\"] for key, val in validation_paths.items() if key in found_keys\n",
    "    }\n",
    "    pred_moas = {\n",
    "        key: val[\"nodes\"] for key, val in pred_paths.items() if key in found_keys\n",
    "    }\n",
    "\n",
    "    matches = dict()\n",
    "    for key in found_keys:\n",
    "        true_prots = {i for i in real_moas[key] if i.startswith(\"ncbigene:\")}\n",
    "        matches[key] = []\n",
    "        for pred in pred_moas[key]:\n",
    "            pred_prots = {i for i in pred if i.startswith(\"ncbigene:\")}\n",
    "            matches[key].append(\n",
    "                len(true_prots.intersection(pred_prots)) / len(true_prots)\n",
    "            )\n",
    "\n",
    "    return matches"
   ]
  },
  {
   "cell_type": "code",
   "execution_count": 21,
   "id": "42e219ec",
   "metadata": {},
   "outputs": [],
   "source": [
    "def write_json(filepath, data_dict):\n",
    "    \"\"\"Writes dict to json\"\"\"\n",
    "    with open(filepath, \"w\") as json_file:\n",
    "        json.dump(data_dict, json_file, indent=4)"
   ]
  },
  {
   "cell_type": "code",
   "execution_count": 22,
   "id": "14a73b74",
   "metadata": {},
   "outputs": [],
   "source": [
    "def process_mars_paths(results_dir, validation_paths, correct_only=True):\n",
    "    \"\"\"Wrapper function for all above functions\n",
    "\n",
    "    Goes through all runs of the experiment and outputs collective results in directory.\n",
    "    \"\"\"\n",
    "    paths_path = osp.join(results_dir, \"paths.json\")\n",
    "    patterns_path = osp.join(results_dir, \"pattern_counts.json\")\n",
    "    patterns_hist_path = osp.join(results_dir, \"pattern_counts.png\")\n",
    "    moa_matches_path = osp.join(results_dir, \"moa_matches.json\")\n",
    "\n",
    "    paths = dict()\n",
    "    patterns = Counter()\n",
    "    matches = dict()\n",
    "\n",
    "    # all experimental runs\n",
    "    runs = os.listdir(results_dir)\n",
    "\n",
    "    for run in runs:\n",
    "        if not osp.isdir(osp.join(results_dir, run)):\n",
    "            continue\n",
    "        # for each run in an experiment dir, get the paths dir\n",
    "        fpath = osp.join(results_dir, f\"{run}/test_beam/paths_CtBP\")\n",
    "\n",
    "        # get all of the paths per pair\n",
    "        pred_paths = get_paths(file_path=fpath, correct_only=correct_only)\n",
    "        for key, val in pred_paths.items():\n",
    "            if key not in paths:\n",
    "                paths[key] = val\n",
    "            else:\n",
    "                paths[key][\"nodes\"].extend(pred_paths[key][\"nodes\"])\n",
    "                paths[key][\"relations\"].extend(pred_paths[key][\"relations\"])\n",
    "\n",
    "        # get the pattern counts\n",
    "        patterns_traversed = get_pattern_breakdown(pred_paths)\n",
    "        patterns = patterns + patterns_traversed\n",
    "\n",
    "        # get the matches against the DrugMechDB\n",
    "        moa_matches = moa_comparison(pred_paths, validation_paths)\n",
    "        for key, val in moa_matches.items():\n",
    "            if key not in matches:\n",
    "                matches[key] = val\n",
    "            else:\n",
    "                matches[key].extend(val)\n",
    "\n",
    "    # write everything to files\n",
    "    paths = {str(key): val for key, val in paths.items()}\n",
    "    matches = {str(key): val for key, val in matches.items()}\n",
    "\n",
    "    write_json(paths_path, paths)\n",
    "    write_json(patterns_path, patterns)\n",
    "    plot_pattern_breakdown(patterns, patterns_hist_path)\n",
    "    write_json(moa_matches_path, matches)"
   ]
  },
  {
   "cell_type": "code",
   "execution_count": 23,
   "id": "816547d3",
   "metadata": {},
   "outputs": [
    {
     "name": "stderr",
     "output_type": "stream",
     "text": [
      "100%|██████████| 6/6 [00:01<00:00,  4.30it/s]\n"
     ]
    }
   ],
   "source": [
    "PROT_CLASSED_RESULTS = osp.join(OUTPUT_DIR, \"UniProt-classed-MOA-net\")\n",
    "\n",
    "for subdir in tqdm(os.listdir(PROT_CLASSED_RESULTS)):\n",
    "    output_dir = osp.join(PROT_CLASSED_RESULTS, subdir)\n",
    "    if osp.isdir(output_dir):\n",
    "        process_mars_paths(output_dir, validation_moas)"
   ]
  },
  {
   "attachments": {},
   "cell_type": "markdown",
   "id": "287e2639",
   "metadata": {},
   "source": [
    "## Performance Metrics\n",
    "\n",
    "Here, I write code to put all the metrics into a table."
   ]
  },
  {
   "cell_type": "code",
   "execution_count": 24,
   "id": "805e01d2",
   "metadata": {},
   "outputs": [],
   "source": [
    "def get_metrics_dict(experiment_dir):\n",
    "    \"\"\"Pass the path of a directory for a single experiment (which might contain multiple runs/replicates)\n",
    "\n",
    "    :param experiment_dir: directory for a single experiment (which might contain multiple runs/replicates)\n",
    "    :returns: a dictionary of the metric names to\n",
    "    \"\"\"\n",
    "    exp_name = osp.basename(experiment_dir)\n",
    "\n",
    "    # all experimental runs\n",
    "    runs = os.listdir(experiment_dir)\n",
    "\n",
    "    hits_values = {\"Hits@1\": [], \"Hits@3\": [], \"Hits@10\": [], \"MRR\": []}\n",
    "    pruned_values = {\n",
    "        \"Hits@1_rule\": [],\n",
    "        \"Hits@3_rule\": [],\n",
    "        \"Hits@10_rule\": [],\n",
    "        \"MRR_rule\": [],\n",
    "    }\n",
    "\n",
    "    for run in runs:\n",
    "        if not osp.isdir(osp.join(experiment_dir, run)):\n",
    "            continue\n",
    "        # for each run in an experiment dir, get the paths dir\n",
    "        fpath = osp.join(experiment_dir, f\"{run}/scores.txt\")\n",
    "\n",
    "        # Open the file for reading\n",
    "        with open(fpath, \"r\") as file:\n",
    "            # Read the file line by line\n",
    "            for line in file:\n",
    "                split_line = line.split(\":\")\n",
    "                # Find each metric\n",
    "                if split_line[0] in set(hits_values.keys()):\n",
    "                    hits_values[split_line[0]].append(float(split_line[1].strip()))\n",
    "                elif split_line[0] in set(pruned_values.keys()):\n",
    "                    pruned_values[split_line[0]].append(float(split_line[1].strip()))\n",
    "\n",
    "    hits_values = {\n",
    "        key: (round(sum(val) / len(val), 3), round(statistics.stdev(val), 3))\n",
    "        for key, val in hits_values.items()\n",
    "    }\n",
    "    pruned_values = {\n",
    "        key.split(\"_rule\")[0]: (\n",
    "            round(sum(val) / len(val), 3),\n",
    "            round(statistics.stdev(val), 3),\n",
    "        )\n",
    "        for key, val in pruned_values.items()\n",
    "    }\n",
    "\n",
    "    scores = {f\"{exp_name}\": hits_values, f\"{exp_name} (pruned)\": pruned_values}\n",
    "\n",
    "    return scores"
   ]
  },
  {
   "cell_type": "code",
   "execution_count": 25,
   "id": "20b1fdb5",
   "metadata": {},
   "outputs": [],
   "source": [
    "def process_mars_metrics(results_dir):\n",
    "    \"\"\"Gets and formats the metrics from MARS into a table. Simply pass a directory with multiple experiments in it,\n",
    "    and this will compute the average and stdev\n",
    "    \"\"\"\n",
    "    final_metrics = dict()\n",
    "\n",
    "    # all experimental runs\n",
    "    experiments = os.listdir(results_dir)\n",
    "\n",
    "    for exp in experiments:\n",
    "        exp_path = osp.join(results_dir, exp)\n",
    "        if not osp.isdir(exp_path):\n",
    "            continue\n",
    "        # for each experiment dir, get the metrics dict\n",
    "        metrics_dict = get_metrics_dict(exp_path)\n",
    "        for key, val in metrics_dict.items():\n",
    "            final_metrics[key] = val\n",
    "\n",
    "    metrics_df = pd.DataFrame(final_metrics).transpose().sort_index()\n",
    "\n",
    "    # Write the rounded DataFrame to a TSV file\n",
    "    output_file = osp.join(results_dir, \"metrics.tsv\")\n",
    "    metrics_df.to_csv(output_file, sep=\"\\t\", index=True)"
   ]
  },
  {
   "cell_type": "code",
   "execution_count": 26,
   "id": "ac7c76e5",
   "metadata": {},
   "outputs": [
    {
     "ename": "StatisticsError",
     "evalue": "variance requires at least two data points",
     "output_type": "error",
     "traceback": [
      "\u001b[0;31m---------------------------------------------------------------------------\u001b[0m",
      "\u001b[0;31mStatisticsError\u001b[0m                           Traceback (most recent call last)",
      "\u001b[0;32m<ipython-input-26-06ce42675c83>\u001b[0m in \u001b[0;36m<module>\u001b[0;34m\u001b[0m\n\u001b[0;32m----> 1\u001b[0;31m \u001b[0mprocess_polo_metrics\u001b[0m\u001b[0;34m(\u001b[0m\u001b[0mPROT_CLASSED_RESULTS\u001b[0m\u001b[0;34m)\u001b[0m\u001b[0;34m\u001b[0m\u001b[0;34m\u001b[0m\u001b[0m\n\u001b[0m",
      "\u001b[0;32m<ipython-input-25-2a25936c4443>\u001b[0m in \u001b[0;36mprocess_polo_metrics\u001b[0;34m(results_dir)\u001b[0m\n\u001b[1;32m     13\u001b[0m             \u001b[0;32mcontinue\u001b[0m\u001b[0;34m\u001b[0m\u001b[0;34m\u001b[0m\u001b[0m\n\u001b[1;32m     14\u001b[0m         \u001b[0;31m# for each experiment dir, get the metrics dict\u001b[0m\u001b[0;34m\u001b[0m\u001b[0;34m\u001b[0m\u001b[0;34m\u001b[0m\u001b[0m\n\u001b[0;32m---> 15\u001b[0;31m         \u001b[0mmetrics_dict\u001b[0m \u001b[0;34m=\u001b[0m \u001b[0mget_metrics_dict\u001b[0m\u001b[0;34m(\u001b[0m\u001b[0mexp_path\u001b[0m\u001b[0;34m)\u001b[0m\u001b[0;34m\u001b[0m\u001b[0;34m\u001b[0m\u001b[0m\n\u001b[0m\u001b[1;32m     16\u001b[0m         \u001b[0;32mfor\u001b[0m \u001b[0mkey\u001b[0m\u001b[0;34m,\u001b[0m \u001b[0mval\u001b[0m \u001b[0;32min\u001b[0m \u001b[0mmetrics_dict\u001b[0m\u001b[0;34m.\u001b[0m\u001b[0mitems\u001b[0m\u001b[0;34m(\u001b[0m\u001b[0;34m)\u001b[0m\u001b[0;34m:\u001b[0m\u001b[0;34m\u001b[0m\u001b[0;34m\u001b[0m\u001b[0m\n\u001b[1;32m     17\u001b[0m             \u001b[0mfinal_metrics\u001b[0m\u001b[0;34m[\u001b[0m\u001b[0mkey\u001b[0m\u001b[0;34m]\u001b[0m \u001b[0;34m=\u001b[0m \u001b[0mval\u001b[0m\u001b[0;34m\u001b[0m\u001b[0;34m\u001b[0m\u001b[0m\n",
      "\u001b[0;32m<ipython-input-24-a2315a8037a4>\u001b[0m in \u001b[0;36mget_metrics_dict\u001b[0;34m(experiment_dir)\u001b[0m\n\u001b[1;32m     37\u001b[0m     hits_values = {\n\u001b[1;32m     38\u001b[0m         \u001b[0mkey\u001b[0m\u001b[0;34m:\u001b[0m \u001b[0;34m(\u001b[0m\u001b[0mround\u001b[0m\u001b[0;34m(\u001b[0m\u001b[0msum\u001b[0m\u001b[0;34m(\u001b[0m\u001b[0mval\u001b[0m\u001b[0;34m)\u001b[0m \u001b[0;34m/\u001b[0m \u001b[0mlen\u001b[0m\u001b[0;34m(\u001b[0m\u001b[0mval\u001b[0m\u001b[0;34m)\u001b[0m\u001b[0;34m,\u001b[0m \u001b[0;36m3\u001b[0m\u001b[0;34m)\u001b[0m\u001b[0;34m,\u001b[0m \u001b[0mround\u001b[0m\u001b[0;34m(\u001b[0m\u001b[0mstatistics\u001b[0m\u001b[0;34m.\u001b[0m\u001b[0mstdev\u001b[0m\u001b[0;34m(\u001b[0m\u001b[0mval\u001b[0m\u001b[0;34m)\u001b[0m\u001b[0;34m,\u001b[0m \u001b[0;36m3\u001b[0m\u001b[0;34m)\u001b[0m\u001b[0;34m)\u001b[0m\u001b[0;34m\u001b[0m\u001b[0;34m\u001b[0m\u001b[0m\n\u001b[0;32m---> 39\u001b[0;31m         \u001b[0;32mfor\u001b[0m \u001b[0mkey\u001b[0m\u001b[0;34m,\u001b[0m \u001b[0mval\u001b[0m \u001b[0;32min\u001b[0m \u001b[0mhits_values\u001b[0m\u001b[0;34m.\u001b[0m\u001b[0mitems\u001b[0m\u001b[0;34m(\u001b[0m\u001b[0;34m)\u001b[0m\u001b[0;34m\u001b[0m\u001b[0;34m\u001b[0m\u001b[0m\n\u001b[0m\u001b[1;32m     40\u001b[0m     }\n\u001b[1;32m     41\u001b[0m     pruned_values = {\n",
      "\u001b[0;32m<ipython-input-24-a2315a8037a4>\u001b[0m in \u001b[0;36m<dictcomp>\u001b[0;34m(.0)\u001b[0m\n\u001b[1;32m     37\u001b[0m     hits_values = {\n\u001b[1;32m     38\u001b[0m         \u001b[0mkey\u001b[0m\u001b[0;34m:\u001b[0m \u001b[0;34m(\u001b[0m\u001b[0mround\u001b[0m\u001b[0;34m(\u001b[0m\u001b[0msum\u001b[0m\u001b[0;34m(\u001b[0m\u001b[0mval\u001b[0m\u001b[0;34m)\u001b[0m \u001b[0;34m/\u001b[0m \u001b[0mlen\u001b[0m\u001b[0;34m(\u001b[0m\u001b[0mval\u001b[0m\u001b[0;34m)\u001b[0m\u001b[0;34m,\u001b[0m \u001b[0;36m3\u001b[0m\u001b[0;34m)\u001b[0m\u001b[0;34m,\u001b[0m \u001b[0mround\u001b[0m\u001b[0;34m(\u001b[0m\u001b[0mstatistics\u001b[0m\u001b[0;34m.\u001b[0m\u001b[0mstdev\u001b[0m\u001b[0;34m(\u001b[0m\u001b[0mval\u001b[0m\u001b[0;34m)\u001b[0m\u001b[0;34m,\u001b[0m \u001b[0;36m3\u001b[0m\u001b[0;34m)\u001b[0m\u001b[0;34m)\u001b[0m\u001b[0;34m\u001b[0m\u001b[0;34m\u001b[0m\u001b[0m\n\u001b[0;32m---> 39\u001b[0;31m         \u001b[0;32mfor\u001b[0m \u001b[0mkey\u001b[0m\u001b[0;34m,\u001b[0m \u001b[0mval\u001b[0m \u001b[0;32min\u001b[0m \u001b[0mhits_values\u001b[0m\u001b[0;34m.\u001b[0m\u001b[0mitems\u001b[0m\u001b[0;34m(\u001b[0m\u001b[0;34m)\u001b[0m\u001b[0;34m\u001b[0m\u001b[0;34m\u001b[0m\u001b[0m\n\u001b[0m\u001b[1;32m     40\u001b[0m     }\n\u001b[1;32m     41\u001b[0m     pruned_values = {\n",
      "\u001b[0;32m~/miniconda3/envs/mln_env/lib/python3.6/statistics.py\u001b[0m in \u001b[0;36mstdev\u001b[0;34m(data, xbar)\u001b[0m\n\u001b[1;32m    648\u001b[0m \u001b[0;34m\u001b[0m\u001b[0m\n\u001b[1;32m    649\u001b[0m     \"\"\"\n\u001b[0;32m--> 650\u001b[0;31m     \u001b[0mvar\u001b[0m \u001b[0;34m=\u001b[0m \u001b[0mvariance\u001b[0m\u001b[0;34m(\u001b[0m\u001b[0mdata\u001b[0m\u001b[0;34m,\u001b[0m \u001b[0mxbar\u001b[0m\u001b[0;34m)\u001b[0m\u001b[0;34m\u001b[0m\u001b[0;34m\u001b[0m\u001b[0m\n\u001b[0m\u001b[1;32m    651\u001b[0m     \u001b[0;32mtry\u001b[0m\u001b[0;34m:\u001b[0m\u001b[0;34m\u001b[0m\u001b[0;34m\u001b[0m\u001b[0m\n\u001b[1;32m    652\u001b[0m         \u001b[0;32mreturn\u001b[0m \u001b[0mvar\u001b[0m\u001b[0;34m.\u001b[0m\u001b[0msqrt\u001b[0m\u001b[0;34m(\u001b[0m\u001b[0;34m)\u001b[0m\u001b[0;34m\u001b[0m\u001b[0;34m\u001b[0m\u001b[0m\n",
      "\u001b[0;32m~/miniconda3/envs/mln_env/lib/python3.6/statistics.py\u001b[0m in \u001b[0;36mvariance\u001b[0;34m(data, xbar)\u001b[0m\n\u001b[1;32m    586\u001b[0m     \u001b[0mn\u001b[0m \u001b[0;34m=\u001b[0m \u001b[0mlen\u001b[0m\u001b[0;34m(\u001b[0m\u001b[0mdata\u001b[0m\u001b[0;34m)\u001b[0m\u001b[0;34m\u001b[0m\u001b[0;34m\u001b[0m\u001b[0m\n\u001b[1;32m    587\u001b[0m     \u001b[0;32mif\u001b[0m \u001b[0mn\u001b[0m \u001b[0;34m<\u001b[0m \u001b[0;36m2\u001b[0m\u001b[0;34m:\u001b[0m\u001b[0;34m\u001b[0m\u001b[0;34m\u001b[0m\u001b[0m\n\u001b[0;32m--> 588\u001b[0;31m         \u001b[0;32mraise\u001b[0m \u001b[0mStatisticsError\u001b[0m\u001b[0;34m(\u001b[0m\u001b[0;34m'variance requires at least two data points'\u001b[0m\u001b[0;34m)\u001b[0m\u001b[0;34m\u001b[0m\u001b[0;34m\u001b[0m\u001b[0m\n\u001b[0m\u001b[1;32m    589\u001b[0m     \u001b[0mT\u001b[0m\u001b[0;34m,\u001b[0m \u001b[0mss\u001b[0m \u001b[0;34m=\u001b[0m \u001b[0m_ss\u001b[0m\u001b[0;34m(\u001b[0m\u001b[0mdata\u001b[0m\u001b[0;34m,\u001b[0m \u001b[0mxbar\u001b[0m\u001b[0;34m)\u001b[0m\u001b[0;34m\u001b[0m\u001b[0;34m\u001b[0m\u001b[0m\n\u001b[1;32m    590\u001b[0m     \u001b[0;32mreturn\u001b[0m \u001b[0m_convert\u001b[0m\u001b[0;34m(\u001b[0m\u001b[0mss\u001b[0m\u001b[0;34m/\u001b[0m\u001b[0;34m(\u001b[0m\u001b[0mn\u001b[0m\u001b[0;34m-\u001b[0m\u001b[0;36m1\u001b[0m\u001b[0;34m)\u001b[0m\u001b[0;34m,\u001b[0m \u001b[0mT\u001b[0m\u001b[0;34m)\u001b[0m\u001b[0;34m\u001b[0m\u001b[0;34m\u001b[0m\u001b[0m\n",
      "\u001b[0;31mStatisticsError\u001b[0m: variance requires at least two data points"
     ]
    }
   ],
   "source": [
    "process_mars_metrics(PROT_CLASSED_RESULTS)"
   ]
  },
  {
   "attachments": {},
   "cell_type": "markdown",
   "id": "0231b562",
   "metadata": {},
   "source": [
    "## Confidence Plotting\n",
    "\n",
    "These next functions are to plot the confidences by the metapaths to understand which metapaths were deemed most important."
   ]
  },
  {
   "cell_type": "code",
   "execution_count": null,
   "id": "ce24431e",
   "metadata": {},
   "outputs": [],
   "source": [
    "def plot_confidences(experiment_dir):\n",
    "    \"\"\"Plots the average confidences across runs for an experiment\"\"\"\n",
    "    exp_confs = []\n",
    "    output_path = osp.join(experiment_dir, \"confidences.png\")\n",
    "\n",
    "    # all experimental runs\n",
    "    runs = os.listdir(experiment_dir)\n",
    "\n",
    "    for run in runs:\n",
    "        if not osp.isdir(osp.join(experiment_dir, run)):\n",
    "            continue\n",
    "        # for each run in an experiment dir, get the paths dir\n",
    "        fpath = osp.join(experiment_dir, f\"{run}/confidences.txt\")\n",
    "\n",
    "        # Open the file for reading\n",
    "        with open(fpath, \"r\") as file:\n",
    "            confs = json.load(file)[\"CtBP\"]\n",
    "            confs_dict = dict()\n",
    "            for mpath in confs:\n",
    "                if \"NO_OP\" in mpath:\n",
    "                    continue\n",
    "                confs_dict[\" -> \".join([get_rel_mapping(i) for i in mpath[2::]])] = float(\n",
    "                    mpath[0]\n",
    "                )\n",
    "            exp_confs.append(confs_dict)\n",
    "\n",
    "    avg_confs = dict()\n",
    "    for key in exp_confs[0].keys():\n",
    "        avg_confs[key] = statistics.mean(\n",
    "            [exp_confs[n][key] for n in range(len(exp_confs))]\n",
    "        )\n",
    "\n",
    "    avg_confs = dict(sorted(avg_confs.items(), key=lambda item: item[1], reverse=True))\n",
    "\n",
    "    # Extract keys and values from the dictionary\n",
    "    keys = list(avg_confs.keys())\n",
    "    values = list(avg_confs.values())\n",
    "\n",
    "    plt.figure(figsize=(12, 6))\n",
    "\n",
    "    # Create a bar plot with keys on the y-axis and values on the x-axis\n",
    "    plt.barh(keys, values, color=\"#1d6d8b\")\n",
    "\n",
    "    # Set labels for the axes\n",
    "    plt.xlabel(\"Confidence\", fontsize=16, labelpad=10, fontweight=\"bold\")\n",
    "    plt.ylabel(\"Metapaths\", fontsize=16, labelpad=10, fontweight=\"bold\")\n",
    "\n",
    "    # increase the font of the tick labels\n",
    "    plt.tick_params(axis='both', labelsize=12)\n",
    "\n",
    "    # Set a title for the plot\n",
    "    plt.title(\"Confidences per metapath-based rule\", fontsize=20)\n",
    "\n",
    "    print(output_path)\n",
    "\n",
    "    plt.savefig(output_path, dpi=300, bbox_inches=\"tight\")"
   ]
  },
  {
   "cell_type": "code",
   "execution_count": null,
   "id": "dcc1da67",
   "metadata": {},
   "outputs": [
    {
     "name": "stderr",
     "output_type": "stream",
     "text": [
      "  0%|          | 0/5 [00:00<?, ?it/s]"
     ]
    },
    {
     "name": "stdout",
     "output_type": "stream",
     "text": [
      "../data/output/UniProt-classed-MOA-net/PoLo-2/confidences.png\n"
     ]
    },
    {
     "name": "stderr",
     "output_type": "stream",
     "text": [
      " 20%|██        | 1/5 [00:00<00:02,  1.54it/s]"
     ]
    },
    {
     "name": "stdout",
     "output_type": "stream",
     "text": [
      "../data/output/UniProt-classed-MOA-net/PoLo/confidences.png\n"
     ]
    },
    {
     "name": "stderr",
     "output_type": "stream",
     "text": [
      " 40%|████      | 2/5 [00:01<00:01,  1.69it/s]"
     ]
    },
    {
     "name": "stdout",
     "output_type": "stream",
     "text": [
      "../data/output/UniProt-classed-MOA-net/PoLo-1-p3/confidences.png\n"
     ]
    },
    {
     "name": "stderr",
     "output_type": "stream",
     "text": [
      " 60%|██████    | 3/5 [00:01<00:01,  1.69it/s]"
     ]
    },
    {
     "name": "stdout",
     "output_type": "stream",
     "text": [
      "../data/output/UniProt-classed-MOA-net/PoLo-1-p4/confidences.png\n"
     ]
    },
    {
     "name": "stderr",
     "output_type": "stream",
     "text": [
      " 80%|████████  | 4/5 [00:02<00:00,  1.63it/s]"
     ]
    },
    {
     "name": "stdout",
     "output_type": "stream",
     "text": [
      "../data/output/UniProt-classed-MOA-net/with_CtBP/confidences.png\n"
     ]
    },
    {
     "name": "stderr",
     "output_type": "stream",
     "text": [
      "100%|██████████| 5/5 [00:03<00:00,  1.66it/s]\n"
     ]
    },
    {
     "data": {
      "image/png": "[encoded data removed]",
      "text/plain": [
       "<Figure size 864x432 with 1 Axes>"
      ]
     },
     "metadata": {
      "needs_background": "light"
     },
     "output_type": "display_data"
    },
    {
     "data": {
      "image/png": "[encoded data removed]",
      "text/plain": [
       "<Figure size 864x432 with 1 Axes>"
      ]
     },
     "metadata": {
      "needs_background": "light"
     },
     "output_type": "display_data"
    },
    {
     "data": {
      "image/png": "[encoded data removed]",
      "text/plain": [
       "<Figure size 864x432 with 1 Axes>"
      ]
     },
     "metadata": {
      "needs_background": "light"
     },
     "output_type": "display_data"
    },
    {
     "data": {
      "image/png": "[encoded data removed]",
      "text/plain": [
       "<Figure size 864x432 with 1 Axes>"
      ]
     },
     "metadata": {
      "needs_background": "light"
     },
     "output_type": "display_data"
    },
    {
     "data": {
      "image/png": "[encoded data removed]",
      "text/plain": [
       "<Figure size 864x432 with 1 Axes>"
      ]
     },
     "metadata": {
      "needs_background": "light"
     },
     "output_type": "display_data"
    }
   ],
   "source": [
    "for subdir in tqdm(os.listdir(PROT_CLASSED_RESULTS)):\n",
    "    output_dir = osp.join(PROT_CLASSED_RESULTS, subdir)\n",
    "    if osp.isdir(output_dir):\n",
    "        plot_confidences(output_dir)"
   ]
  },
  {
   "attachments": {},
   "cell_type": "markdown",
   "id": "7c728488",
   "metadata": {},
   "source": [
    "## Figure Creation"
   ]
  },
  {
   "attachments": {},
   "cell_type": "markdown",
   "id": "62351e35",
   "metadata": {},
   "source": [
    "Figure of first run metrics:"
   ]
  },
  {
   "cell_type": "code",
   "execution_count": null,
   "id": "122fabd3",
   "metadata": {},
   "outputs": [],
   "source": [
    "first_run = pd.read_csv(\n",
    "    osp.join(OUTPUT_DIR, \"MOA-net-og/metrics.tsv\"), sep=\"\\t\", index_col=0\n",
    ")"
   ]
  },
  {
   "cell_type": "code",
   "execution_count": null,
   "id": "fbf46cbc",
   "metadata": {},
   "outputs": [],
   "source": [
    "first_run.drop(\n",
    "    [\"PoLo-1\", \"PoLo-1 (pruned)\", \"PoLo-2\", \"PoLo-2 (pruned)\"], axis=0, inplace=True\n",
    ")"
   ]
  },
  {
   "cell_type": "code",
   "execution_count": null,
   "id": "5e1eb894",
   "metadata": {},
   "outputs": [
    {
     "data": {
      "text/html": [
       "<div>\n",
       "<style scoped>\n",
       "    .dataframe tbody tr th:only-of-type {\n",
       "        vertical-align: middle;\n",
       "    }\n",
       "\n",
       "    .dataframe tbody tr th {\n",
       "        vertical-align: top;\n",
       "    }\n",
       "\n",
       "    .dataframe thead th {\n",
       "        text-align: right;\n",
       "    }\n",
       "</style>\n",
       "<table border=\"1\" class=\"dataframe\">\n",
       "  <thead>\n",
       "    <tr style=\"text-align: right;\">\n",
       "      <th></th>\n",
       "      <th>Hits@1</th>\n",
       "      <th>Hits@3</th>\n",
       "      <th>Hits@10</th>\n",
       "      <th>MRR</th>\n",
       "    </tr>\n",
       "  </thead>\n",
       "  <tbody>\n",
       "    <tr>\n",
       "      <th>PoLo</th>\n",
       "      <td>(0.244, 0.014)</td>\n",
       "      <td>(0.498, 0.011)</td>\n",
       "      <td>(0.767, 0.014)</td>\n",
       "      <td>(0.407, 0.01)</td>\n",
       "    </tr>\n",
       "    <tr>\n",
       "      <th>PoLo (pruned)</th>\n",
       "      <td>(0.068, 0.004)</td>\n",
       "      <td>(0.095, 0.003)</td>\n",
       "      <td>(0.098, 0.003)</td>\n",
       "      <td>(0.081, 0.003)</td>\n",
       "    </tr>\n",
       "    <tr>\n",
       "      <th>PoLo-1-alpha_0.1</th>\n",
       "      <td>(0.257, 0.008)</td>\n",
       "      <td>(0.508, 0.023)</td>\n",
       "      <td>(0.759, 0.011)</td>\n",
       "      <td>(0.418, 0.011)</td>\n",
       "    </tr>\n",
       "    <tr>\n",
       "      <th>PoLo-1-alpha_0.1 (pruned)</th>\n",
       "      <td>(0.085, 0.023)</td>\n",
       "      <td>(0.132, 0.033)</td>\n",
       "      <td>(0.155, 0.046)</td>\n",
       "      <td>(0.111, 0.03)</td>\n",
       "    </tr>\n",
       "    <tr>\n",
       "      <th>PoLo-2_alpha_0.1</th>\n",
       "      <td>(0.261, 0.014)</td>\n",
       "      <td>(0.509, 0.024)</td>\n",
       "      <td>(0.765, 0.014)</td>\n",
       "      <td>(0.42, 0.013)</td>\n",
       "    </tr>\n",
       "    <tr>\n",
       "      <th>PoLo-2_alpha_0.1 (pruned)</th>\n",
       "      <td>(0.094, 0.018)</td>\n",
       "      <td>(0.137, 0.029)</td>\n",
       "      <td>(0.156, 0.031)</td>\n",
       "      <td>(0.117, 0.022)</td>\n",
       "    </tr>\n",
       "  </tbody>\n",
       "</table>\n",
       "</div>"
      ],
      "text/plain": [
       "                                   Hits@1          Hits@3         Hits@10  \\\n",
       "PoLo                       (0.244, 0.014)  (0.498, 0.011)  (0.767, 0.014)   \n",
       "PoLo (pruned)              (0.068, 0.004)  (0.095, 0.003)  (0.098, 0.003)   \n",
       "PoLo-1-alpha_0.1           (0.257, 0.008)  (0.508, 0.023)  (0.759, 0.011)   \n",
       "PoLo-1-alpha_0.1 (pruned)  (0.085, 0.023)  (0.132, 0.033)  (0.155, 0.046)   \n",
       "PoLo-2_alpha_0.1           (0.261, 0.014)  (0.509, 0.024)  (0.765, 0.014)   \n",
       "PoLo-2_alpha_0.1 (pruned)  (0.094, 0.018)  (0.137, 0.029)  (0.156, 0.031)   \n",
       "\n",
       "                                      MRR  \n",
       "PoLo                        (0.407, 0.01)  \n",
       "PoLo (pruned)              (0.081, 0.003)  \n",
       "PoLo-1-alpha_0.1           (0.418, 0.011)  \n",
       "PoLo-1-alpha_0.1 (pruned)   (0.111, 0.03)  \n",
       "PoLo-2_alpha_0.1            (0.42, 0.013)  \n",
       "PoLo-2_alpha_0.1 (pruned)  (0.117, 0.022)  "
      ]
     },
     "execution_count": 32,
     "metadata": {},
     "output_type": "execute_result"
    }
   ],
   "source": [
    "first_run"
   ]
  },
  {
   "cell_type": "code",
   "execution_count": null,
   "id": "bd49473f",
   "metadata": {},
   "outputs": [],
   "source": [
    "new_labels = [\n",
    "    \"PoLo\",\n",
    "    \"PoLo (pruned)\",\n",
    "    \"MARS, naive updates\",\n",
    "    \"MARS, naive updates (pruned)\",\n",
    "    \"MARS, P2H updates\",\n",
    "    \"MARS, P2H updates (pruned)\",\n",
    "]\n",
    "\n",
    "# change the index labels\n",
    "first_run.index = new_labels"
   ]
  },
  {
   "cell_type": "code",
   "execution_count": null,
   "id": "4b7949ad",
   "metadata": {},
   "outputs": [
    {
     "data": {
      "text/html": [
       "<div>\n",
       "<style scoped>\n",
       "    .dataframe tbody tr th:only-of-type {\n",
       "        vertical-align: middle;\n",
       "    }\n",
       "\n",
       "    .dataframe tbody tr th {\n",
       "        vertical-align: top;\n",
       "    }\n",
       "\n",
       "    .dataframe thead th {\n",
       "        text-align: right;\n",
       "    }\n",
       "</style>\n",
       "<table border=\"1\" class=\"dataframe\">\n",
       "  <thead>\n",
       "    <tr style=\"text-align: right;\">\n",
       "      <th></th>\n",
       "      <th>Hits@1</th>\n",
       "      <th>Hits@3</th>\n",
       "      <th>Hits@10</th>\n",
       "      <th>MRR</th>\n",
       "    </tr>\n",
       "  </thead>\n",
       "  <tbody>\n",
       "    <tr>\n",
       "      <th>PoLo</th>\n",
       "      <td>(0.244, 0.014)</td>\n",
       "      <td>(0.498, 0.011)</td>\n",
       "      <td>(0.767, 0.014)</td>\n",
       "      <td>(0.407, 0.01)</td>\n",
       "    </tr>\n",
       "    <tr>\n",
       "      <th>PoLo (pruned)</th>\n",
       "      <td>(0.068, 0.004)</td>\n",
       "      <td>(0.095, 0.003)</td>\n",
       "      <td>(0.098, 0.003)</td>\n",
       "      <td>(0.081, 0.003)</td>\n",
       "    </tr>\n",
       "    <tr>\n",
       "      <th>MARS, naive updates</th>\n",
       "      <td>(0.257, 0.008)</td>\n",
       "      <td>(0.508, 0.023)</td>\n",
       "      <td>(0.759, 0.011)</td>\n",
       "      <td>(0.418, 0.011)</td>\n",
       "    </tr>\n",
       "    <tr>\n",
       "      <th>MARS, naive updates (pruned)</th>\n",
       "      <td>(0.085, 0.023)</td>\n",
       "      <td>(0.132, 0.033)</td>\n",
       "      <td>(0.155, 0.046)</td>\n",
       "      <td>(0.111, 0.03)</td>\n",
       "    </tr>\n",
       "    <tr>\n",
       "      <th>MARS, P2H updates</th>\n",
       "      <td>(0.261, 0.014)</td>\n",
       "      <td>(0.509, 0.024)</td>\n",
       "      <td>(0.765, 0.014)</td>\n",
       "      <td>(0.42, 0.013)</td>\n",
       "    </tr>\n",
       "    <tr>\n",
       "      <th>MARS, P2H updates (pruned)</th>\n",
       "      <td>(0.094, 0.018)</td>\n",
       "      <td>(0.137, 0.029)</td>\n",
       "      <td>(0.156, 0.031)</td>\n",
       "      <td>(0.117, 0.022)</td>\n",
       "    </tr>\n",
       "  </tbody>\n",
       "</table>\n",
       "</div>"
      ],
      "text/plain": [
       "                                      Hits@1          Hits@3         Hits@10  \\\n",
       "PoLo                          (0.244, 0.014)  (0.498, 0.011)  (0.767, 0.014)   \n",
       "PoLo (pruned)                 (0.068, 0.004)  (0.095, 0.003)  (0.098, 0.003)   \n",
       "MARS, naive updates           (0.257, 0.008)  (0.508, 0.023)  (0.759, 0.011)   \n",
       "MARS, naive updates (pruned)  (0.085, 0.023)  (0.132, 0.033)  (0.155, 0.046)   \n",
       "MARS, P2H updates             (0.261, 0.014)  (0.509, 0.024)  (0.765, 0.014)   \n",
       "MARS, P2H updates (pruned)    (0.094, 0.018)  (0.137, 0.029)  (0.156, 0.031)   \n",
       "\n",
       "                                         MRR  \n",
       "PoLo                           (0.407, 0.01)  \n",
       "PoLo (pruned)                 (0.081, 0.003)  \n",
       "MARS, naive updates           (0.418, 0.011)  \n",
       "MARS, naive updates (pruned)   (0.111, 0.03)  \n",
       "MARS, P2H updates              (0.42, 0.013)  \n",
       "MARS, P2H updates (pruned)    (0.117, 0.022)  "
      ]
     },
     "execution_count": 34,
     "metadata": {},
     "output_type": "execute_result"
    }
   ],
   "source": [
    "first_run"
   ]
  },
  {
   "cell_type": "code",
   "execution_count": null,
   "id": "6d0008a5",
   "metadata": {},
   "outputs": [],
   "source": [
    "# For every column remove the parentheses, and split by comma getting the first element\n",
    "table2_values = first_run.applymap(lambda x: x.split(\",\")[0].replace(\"(\", \"\"))\n",
    "\n",
    "table2_sd = first_run.applymap(lambda x: x.split(\",\")[1].replace(\")\", \"\"))\n",
    "\n",
    "# to numeric\n",
    "table2_values = table2_values.apply(pd.to_numeric)\n",
    "table2_sd = table2_sd.apply(pd.to_numeric)"
   ]
  },
  {
   "cell_type": "code",
   "execution_count": null,
   "id": "17c9b1f4",
   "metadata": {},
   "outputs": [],
   "source": [
    "new_order = [\n",
    "    \"PoLo (pruned)\",\n",
    "    \"MARS, naive updates (pruned)\",\n",
    "    \"MARS, P2H updates (pruned)\",\n",
    "    \"PoLo\",\n",
    "    \"MARS, naive updates\",\n",
    "    \"MARS, P2H updates\",\n",
    "]\n",
    "table2_values = table2_values.reindex(index=new_order)\n",
    "table2_sd = table2_sd.reindex(index=new_order)"
   ]
  },
  {
   "cell_type": "code",
   "execution_count": null,
   "id": "4fa3874e",
   "metadata": {},
   "outputs": [
    {
     "data": {
      "image/png": "[encoded data removed]",
      "text/plain": [
       "<Figure size 576x432 with 1 Axes>"
      ]
     },
     "metadata": {
      "needs_background": "light"
     },
     "output_type": "display_data"
    }
   ],
   "source": [
    "color_dict = {\n",
    "    \"PoLo\": \"#82a8a0\",\n",
    "    \"PoLo (pruned)\": \"#eca86f\",\n",
    "    \"MARS, P2H updates (pruned)\": \"#d73c24\",\n",
    "    \"MARS, naive updates\": \"#0d2b53\",\n",
    "    \"MARS, naive updates (pruned)\": \"#e96f3d\",\n",
    "    \"MARS, P2H updates\": \"#1d6d8b\",\n",
    "}\n",
    "\n",
    "table2_values.T.plot.bar(\n",
    "    color=color_dict,\n",
    "    yerr=table2_sd.T,\n",
    "    capsize=4,\n",
    "    ecolor=\"black\",\n",
    "    error_kw=dict(lw=0.5, capsize=3, capthick=0.5),\n",
    "    # make bars thicker\n",
    "    width=0.8,\n",
    ")\n",
    "\n",
    "# Move legend out\n",
    "plt.legend(loc=\"upper left\")\n",
    "# Title legend\n",
    "plt.title(\n",
    "    \"Performance evaluation of PoLo and MARS variants\",\n",
    "    pad=10,\n",
    "    fontsize=16,\n",
    ")\n",
    "\n",
    "# Y label empty\n",
    "plt.ylabel(\"Performance\", labelpad=10, fontsize=14)\n",
    "# Y label 0-1\n",
    "plt.ylim(0, 1)\n",
    "\n",
    "# x labels rotation\n",
    "plt.xticks(rotation=0)\n",
    "\n",
    "# make bars thicker and reduce the space between ticks\n",
    "plt.tick_params(axis=\"x\", width=0.5, length=2, pad=0.5)\n",
    "\n",
    "# X label\n",
    "plt.xlabel(\"Evaluation metric\", labelpad=7, fontsize=14)\n",
    "\n",
    "# make the plot wider\n",
    "plt.gcf().set_size_inches(8, 6)\n",
    "\n",
    "# legend position down\n",
    "#plt.legend(loc=\"lower center\", bbox_to_anchor=(0.5, -0.3), ncol=2)\n",
    "\n",
    "plt.savefig(\n",
    "    osp.join(OUTPUT_DIR, \"evaluation_metrics.png\"), dpi=400, bbox_inches=\"tight\"\n",
    ")\n",
    "\n",
    "plt.show()"
   ]
  },
  {
   "attachments": {},
   "cell_type": "markdown",
   "id": "abf0c6ba",
   "metadata": {},
   "source": [
    "Figure of KG size experiment metrics:"
   ]
  },
  {
   "cell_type": "code",
   "execution_count": null,
   "id": "4bf5939e",
   "metadata": {},
   "outputs": [],
   "source": [
    "KG_SIZES = osp.join(OUTPUT_DIR, \"KG_size_experiment\")\n",
    "\n",
    "xsmall = pd.read_csv(osp.join(KG_SIZES, \"xsmall_KG/metrics.tsv\"), sep=\"\\t\", index_col=0)\n",
    "xsmall[\"KG\"] = [0.5780 for i in range(len(xsmall))]\n",
    "small = pd.read_csv(osp.join(KG_SIZES, \"small_KG/metrics.tsv\"), sep=\"\\t\", index_col=0)\n",
    "small[\"KG\"] = [0.5694 for i in range(len(small))]\n",
    "medium = pd.read_csv(osp.join(KG_SIZES, \"medium_KG/metrics.tsv\"), sep=\"\\t\", index_col=0)\n",
    "medium[\"KG\"] = [0.7219 for i in range(len(medium))]\n",
    "full = pd.read_csv(osp.join(KG_SIZES, \"full_KG/metrics.tsv\"), sep=\"\\t\", index_col=0)\n",
    "full[\"KG\"] = [0.8987 for i in range(len(full))]\n",
    "\n",
    "table_4 = pd.concat([full, medium, xsmall], axis=0)"
   ]
  },
  {
   "cell_type": "code",
   "execution_count": null,
   "id": "9698968f",
   "metadata": {},
   "outputs": [],
   "source": [
    "table_4 = table_4[[\"KG\", \"Hits@1\", \"Hits@3\", \"Hits@10\", \"MRR\"]]"
   ]
  },
  {
   "cell_type": "code",
   "execution_count": null,
   "id": "a01de9b3",
   "metadata": {},
   "outputs": [],
   "source": [
    "# every time 'PoLo-1' occurs in a string, replace it with MARS, naive updates\n",
    "table_4.index = table_4.index.str.replace(\"PoLo-1\", \"MARS, naive updates\")\n",
    "table_4.index = table_4.index.str.replace(\"PoLo-2\", \"MARS, P2H updates\")"
   ]
  },
  {
   "cell_type": "code",
   "execution_count": null,
   "id": "251762e6",
   "metadata": {},
   "outputs": [],
   "source": [
    "# strip 'Hits@' from each column title\n",
    "# table_4.columns = [i.strip('Hits@') for i in table_4.columns]"
   ]
  },
  {
   "cell_type": "code",
   "execution_count": null,
   "id": "f17b72c3",
   "metadata": {},
   "outputs": [],
   "source": [
    "# make a column called 'Model' from the index\n",
    "table_4[\"Model\"] = table_4.index"
   ]
  },
  {
   "cell_type": "code",
   "execution_count": null,
   "id": "e1aae013",
   "metadata": {},
   "outputs": [
    {
     "data": {
      "text/html": [
       "<div>\n",
       "<style scoped>\n",
       "    .dataframe tbody tr th:only-of-type {\n",
       "        vertical-align: middle;\n",
       "    }\n",
       "\n",
       "    .dataframe tbody tr th {\n",
       "        vertical-align: top;\n",
       "    }\n",
       "\n",
       "    .dataframe thead th {\n",
       "        text-align: right;\n",
       "    }\n",
       "</style>\n",
       "<table border=\"1\" class=\"dataframe\">\n",
       "  <thead>\n",
       "    <tr style=\"text-align: right;\">\n",
       "      <th></th>\n",
       "      <th>KG</th>\n",
       "      <th>Hits@1</th>\n",
       "      <th>Hits@3</th>\n",
       "      <th>Hits@10</th>\n",
       "      <th>MRR</th>\n",
       "      <th>Model</th>\n",
       "    </tr>\n",
       "  </thead>\n",
       "  <tbody>\n",
       "    <tr>\n",
       "      <th>PoLo</th>\n",
       "      <td>0.8987</td>\n",
       "      <td>(0.084, 0.004)</td>\n",
       "      <td>(0.198, 0.013)</td>\n",
       "      <td>(0.341, 0.047)</td>\n",
       "      <td>(0.171, 0.01)</td>\n",
       "      <td>PoLo</td>\n",
       "    </tr>\n",
       "    <tr>\n",
       "      <th>PoLo (pruned)</th>\n",
       "      <td>0.8987</td>\n",
       "      <td>(0.159, 0.012)</td>\n",
       "      <td>(0.314, 0.011)</td>\n",
       "      <td>(0.563, 0.014)</td>\n",
       "      <td>(0.273, 0.011)</td>\n",
       "      <td>PoLo (pruned)</td>\n",
       "    </tr>\n",
       "    <tr>\n",
       "      <th>MARS, naive updates</th>\n",
       "      <td>0.8987</td>\n",
       "      <td>(0.08, 0.017)</td>\n",
       "      <td>(0.186, 0.015)</td>\n",
       "      <td>(0.332, 0.044)</td>\n",
       "      <td>(0.163, 0.021)</td>\n",
       "      <td>MARS, naive updates</td>\n",
       "    </tr>\n",
       "    <tr>\n",
       "      <th>MARS, naive updates (pruned)</th>\n",
       "      <td>0.8987</td>\n",
       "      <td>(0.15, 0.01)</td>\n",
       "      <td>(0.278, 0.029)</td>\n",
       "      <td>(0.501, 0.035)</td>\n",
       "      <td>(0.248, 0.013)</td>\n",
       "      <td>MARS, naive updates (pruned)</td>\n",
       "    </tr>\n",
       "    <tr>\n",
       "      <th>MARS, P2H updates</th>\n",
       "      <td>0.8987</td>\n",
       "      <td>(0.084, 0.014)</td>\n",
       "      <td>(0.196, 0.013)</td>\n",
       "      <td>(0.35, 0.028)</td>\n",
       "      <td>(0.172, 0.008)</td>\n",
       "      <td>MARS, P2H updates</td>\n",
       "    </tr>\n",
       "    <tr>\n",
       "      <th>MARS, P2H updates (pruned)</th>\n",
       "      <td>0.8987</td>\n",
       "      <td>(0.16, 0.013)</td>\n",
       "      <td>(0.312, 0.024)</td>\n",
       "      <td>(0.553, 0.027)</td>\n",
       "      <td>(0.274, 0.014)</td>\n",
       "      <td>MARS, P2H updates (pruned)</td>\n",
       "    </tr>\n",
       "    <tr>\n",
       "      <th>PoLo</th>\n",
       "      <td>0.7219</td>\n",
       "      <td>(0.14, 0.035)</td>\n",
       "      <td>(0.235, 0.029)</td>\n",
       "      <td>(0.343, 0.027)</td>\n",
       "      <td>(0.205, 0.026)</td>\n",
       "      <td>PoLo</td>\n",
       "    </tr>\n",
       "    <tr>\n",
       "      <th>PoLo (pruned)</th>\n",
       "      <td>0.7219</td>\n",
       "      <td>(0.152, 0.03)</td>\n",
       "      <td>(0.265, 0.021)</td>\n",
       "      <td>(0.42, 0.014)</td>\n",
       "      <td>(0.23, 0.02)</td>\n",
       "      <td>PoLo (pruned)</td>\n",
       "    </tr>\n",
       "    <tr>\n",
       "      <th>MARS, naive updates</th>\n",
       "      <td>0.7219</td>\n",
       "      <td>(0.128, 0.014)</td>\n",
       "      <td>(0.211, 0.016)</td>\n",
       "      <td>(0.321, 0.029)</td>\n",
       "      <td>(0.188, 0.009)</td>\n",
       "      <td>MARS, naive updates</td>\n",
       "    </tr>\n",
       "    <tr>\n",
       "      <th>MARS, naive updates (pruned)</th>\n",
       "      <td>0.7219</td>\n",
       "      <td>(0.164, 0.019)</td>\n",
       "      <td>(0.268, 0.015)</td>\n",
       "      <td>(0.398, 0.027)</td>\n",
       "      <td>(0.234, 0.01)</td>\n",
       "      <td>MARS, naive updates (pruned)</td>\n",
       "    </tr>\n",
       "    <tr>\n",
       "      <th>MARS, P2H updates</th>\n",
       "      <td>0.7219</td>\n",
       "      <td>(0.131, 0.01)</td>\n",
       "      <td>(0.231, 0.02)</td>\n",
       "      <td>(0.355, 0.021)</td>\n",
       "      <td>(0.202, 0.009)</td>\n",
       "      <td>MARS, P2H updates</td>\n",
       "    </tr>\n",
       "    <tr>\n",
       "      <th>MARS, P2H updates (pruned)</th>\n",
       "      <td>0.7219</td>\n",
       "      <td>(0.142, 0.014)</td>\n",
       "      <td>(0.267, 0.017)</td>\n",
       "      <td>(0.426, 0.018)</td>\n",
       "      <td>(0.227, 0.009)</td>\n",
       "      <td>MARS, P2H updates (pruned)</td>\n",
       "    </tr>\n",
       "    <tr>\n",
       "      <th>PoLo</th>\n",
       "      <td>0.5780</td>\n",
       "      <td>(0.179, 0.024)</td>\n",
       "      <td>(0.284, 0.034)</td>\n",
       "      <td>(0.383, 0.016)</td>\n",
       "      <td>(0.251, 0.018)</td>\n",
       "      <td>PoLo</td>\n",
       "    </tr>\n",
       "    <tr>\n",
       "      <th>PoLo (pruned)</th>\n",
       "      <td>0.5780</td>\n",
       "      <td>(0.19, 0.039)</td>\n",
       "      <td>(0.344, 0.028)</td>\n",
       "      <td>(0.488, 0.019)</td>\n",
       "      <td>(0.285, 0.028)</td>\n",
       "      <td>PoLo (pruned)</td>\n",
       "    </tr>\n",
       "    <tr>\n",
       "      <th>MARS, naive updates</th>\n",
       "      <td>0.5780</td>\n",
       "      <td>(0.19, 0.013)</td>\n",
       "      <td>(0.283, 0.025)</td>\n",
       "      <td>(0.37, 0.031)</td>\n",
       "      <td>(0.256, 0.013)</td>\n",
       "      <td>MARS, naive updates</td>\n",
       "    </tr>\n",
       "    <tr>\n",
       "      <th>MARS, naive updates (pruned)</th>\n",
       "      <td>0.5780</td>\n",
       "      <td>(0.204, 0.015)</td>\n",
       "      <td>(0.337, 0.027)</td>\n",
       "      <td>(0.496, 0.013)</td>\n",
       "      <td>(0.292, 0.016)</td>\n",
       "      <td>MARS, naive updates (pruned)</td>\n",
       "    </tr>\n",
       "    <tr>\n",
       "      <th>MARS, P2H updates</th>\n",
       "      <td>0.5780</td>\n",
       "      <td>(0.184, 0.018)</td>\n",
       "      <td>(0.294, 0.018)</td>\n",
       "      <td>(0.391, 0.026)</td>\n",
       "      <td>(0.257, 0.017)</td>\n",
       "      <td>MARS, P2H updates</td>\n",
       "    </tr>\n",
       "    <tr>\n",
       "      <th>MARS, P2H updates (pruned)</th>\n",
       "      <td>0.5780</td>\n",
       "      <td>(0.218, 0.016)</td>\n",
       "      <td>(0.37, 0.012)</td>\n",
       "      <td>(0.506, 0.035)</td>\n",
       "      <td>(0.312, 0.016)</td>\n",
       "      <td>MARS, P2H updates (pruned)</td>\n",
       "    </tr>\n",
       "  </tbody>\n",
       "</table>\n",
       "</div>"
      ],
      "text/plain": [
       "                                  KG          Hits@1          Hits@3  \\\n",
       "PoLo                          0.8987  (0.084, 0.004)  (0.198, 0.013)   \n",
       "PoLo (pruned)                 0.8987  (0.159, 0.012)  (0.314, 0.011)   \n",
       "MARS, naive updates           0.8987   (0.08, 0.017)  (0.186, 0.015)   \n",
       "MARS, naive updates (pruned)  0.8987    (0.15, 0.01)  (0.278, 0.029)   \n",
       "MARS, P2H updates             0.8987  (0.084, 0.014)  (0.196, 0.013)   \n",
       "MARS, P2H updates (pruned)    0.8987   (0.16, 0.013)  (0.312, 0.024)   \n",
       "PoLo                          0.7219   (0.14, 0.035)  (0.235, 0.029)   \n",
       "PoLo (pruned)                 0.7219   (0.152, 0.03)  (0.265, 0.021)   \n",
       "MARS, naive updates           0.7219  (0.128, 0.014)  (0.211, 0.016)   \n",
       "MARS, naive updates (pruned)  0.7219  (0.164, 0.019)  (0.268, 0.015)   \n",
       "MARS, P2H updates             0.7219   (0.131, 0.01)   (0.231, 0.02)   \n",
       "MARS, P2H updates (pruned)    0.7219  (0.142, 0.014)  (0.267, 0.017)   \n",
       "PoLo                          0.5780  (0.179, 0.024)  (0.284, 0.034)   \n",
       "PoLo (pruned)                 0.5780   (0.19, 0.039)  (0.344, 0.028)   \n",
       "MARS, naive updates           0.5780   (0.19, 0.013)  (0.283, 0.025)   \n",
       "MARS, naive updates (pruned)  0.5780  (0.204, 0.015)  (0.337, 0.027)   \n",
       "MARS, P2H updates             0.5780  (0.184, 0.018)  (0.294, 0.018)   \n",
       "MARS, P2H updates (pruned)    0.5780  (0.218, 0.016)   (0.37, 0.012)   \n",
       "\n",
       "                                     Hits@10             MRR  \\\n",
       "PoLo                          (0.341, 0.047)   (0.171, 0.01)   \n",
       "PoLo (pruned)                 (0.563, 0.014)  (0.273, 0.011)   \n",
       "MARS, naive updates           (0.332, 0.044)  (0.163, 0.021)   \n",
       "MARS, naive updates (pruned)  (0.501, 0.035)  (0.248, 0.013)   \n",
       "MARS, P2H updates              (0.35, 0.028)  (0.172, 0.008)   \n",
       "MARS, P2H updates (pruned)    (0.553, 0.027)  (0.274, 0.014)   \n",
       "PoLo                          (0.343, 0.027)  (0.205, 0.026)   \n",
       "PoLo (pruned)                  (0.42, 0.014)    (0.23, 0.02)   \n",
       "MARS, naive updates           (0.321, 0.029)  (0.188, 0.009)   \n",
       "MARS, naive updates (pruned)  (0.398, 0.027)   (0.234, 0.01)   \n",
       "MARS, P2H updates             (0.355, 0.021)  (0.202, 0.009)   \n",
       "MARS, P2H updates (pruned)    (0.426, 0.018)  (0.227, 0.009)   \n",
       "PoLo                          (0.383, 0.016)  (0.251, 0.018)   \n",
       "PoLo (pruned)                 (0.488, 0.019)  (0.285, 0.028)   \n",
       "MARS, naive updates            (0.37, 0.031)  (0.256, 0.013)   \n",
       "MARS, naive updates (pruned)  (0.496, 0.013)  (0.292, 0.016)   \n",
       "MARS, P2H updates             (0.391, 0.026)  (0.257, 0.017)   \n",
       "MARS, P2H updates (pruned)    (0.506, 0.035)  (0.312, 0.016)   \n",
       "\n",
       "                                                     Model  \n",
       "PoLo                                                  PoLo  \n",
       "PoLo (pruned)                                PoLo (pruned)  \n",
       "MARS, naive updates                    MARS, naive updates  \n",
       "MARS, naive updates (pruned)  MARS, naive updates (pruned)  \n",
       "MARS, P2H updates                        MARS, P2H updates  \n",
       "MARS, P2H updates (pruned)      MARS, P2H updates (pruned)  \n",
       "PoLo                                                  PoLo  \n",
       "PoLo (pruned)                                PoLo (pruned)  \n",
       "MARS, naive updates                    MARS, naive updates  \n",
       "MARS, naive updates (pruned)  MARS, naive updates (pruned)  \n",
       "MARS, P2H updates                        MARS, P2H updates  \n",
       "MARS, P2H updates (pruned)      MARS, P2H updates (pruned)  \n",
       "PoLo                                                  PoLo  \n",
       "PoLo (pruned)                                PoLo (pruned)  \n",
       "MARS, naive updates                    MARS, naive updates  \n",
       "MARS, naive updates (pruned)  MARS, naive updates (pruned)  \n",
       "MARS, P2H updates                        MARS, P2H updates  \n",
       "MARS, P2H updates (pruned)      MARS, P2H updates (pruned)  "
      ]
     },
     "execution_count": 43,
     "metadata": {},
     "output_type": "execute_result"
    }
   ],
   "source": [
    "table_4"
   ]
  },
  {
   "cell_type": "code",
   "execution_count": null,
   "id": "6c06364c",
   "metadata": {},
   "outputs": [],
   "source": [
    "table4_values = table_4[\n",
    "    [\n",
    "        \"Hits@1\",\n",
    "        \"Hits@3\",\n",
    "        \"Hits@10\",\n",
    "        \"MRR\",\n",
    "    ]\n",
    "].applymap(lambda x: float(x.split(\",\")[0].replace(\"(\", \"\")))\n",
    "\n",
    "table4_sd = table_4[\n",
    "    [\n",
    "        \"Hits@1\",\n",
    "        \"Hits@3\",\n",
    "        \"Hits@10\",\n",
    "        \"MRR\",\n",
    "    ]\n",
    "].applymap(lambda x: float(x.split(\",\")[1].replace(\")\", \"\")))"
   ]
  },
  {
   "cell_type": "code",
   "execution_count": null,
   "id": "00c95786",
   "metadata": {},
   "outputs": [],
   "source": [
    "table4_values[\"KG\"] = table_4[\"KG\"]\n",
    "table4_values[\"Model\"] = table_4[\"Model\"]"
   ]
  },
  {
   "cell_type": "code",
   "execution_count": null,
   "id": "d5613899",
   "metadata": {},
   "outputs": [],
   "source": [
    "# add the string '_error' to each column name in table4_sd\n",
    "table4_sd.columns = [i + \"_error\" for i in table4_sd.columns]"
   ]
  },
  {
   "cell_type": "code",
   "execution_count": null,
   "id": "2206be84",
   "metadata": {},
   "outputs": [],
   "source": [
    "# combine all the columns of table4_sd with table4_values\n",
    "table4_values = pd.concat([table4_values, table4_sd], axis=1)"
   ]
  },
  {
   "cell_type": "code",
   "execution_count": null,
   "id": "a79f4089",
   "metadata": {},
   "outputs": [
    {
     "data": {
      "text/html": [
       "<div>\n",
       "<style scoped>\n",
       "    .dataframe tbody tr th:only-of-type {\n",
       "        vertical-align: middle;\n",
       "    }\n",
       "\n",
       "    .dataframe tbody tr th {\n",
       "        vertical-align: top;\n",
       "    }\n",
       "\n",
       "    .dataframe thead th {\n",
       "        text-align: right;\n",
       "    }\n",
       "</style>\n",
       "<table border=\"1\" class=\"dataframe\">\n",
       "  <thead>\n",
       "    <tr style=\"text-align: right;\">\n",
       "      <th></th>\n",
       "      <th>Hits@1</th>\n",
       "      <th>Hits@3</th>\n",
       "      <th>Hits@10</th>\n",
       "      <th>MRR</th>\n",
       "      <th>KG</th>\n",
       "      <th>Model</th>\n",
       "      <th>Hits@1_error</th>\n",
       "      <th>Hits@3_error</th>\n",
       "      <th>Hits@10_error</th>\n",
       "      <th>MRR_error</th>\n",
       "    </tr>\n",
       "  </thead>\n",
       "  <tbody>\n",
       "    <tr>\n",
       "      <th>PoLo</th>\n",
       "      <td>0.084</td>\n",
       "      <td>0.198</td>\n",
       "      <td>0.341</td>\n",
       "      <td>0.171</td>\n",
       "      <td>0.8987</td>\n",
       "      <td>PoLo</td>\n",
       "      <td>0.004</td>\n",
       "      <td>0.013</td>\n",
       "      <td>0.047</td>\n",
       "      <td>0.010</td>\n",
       "    </tr>\n",
       "    <tr>\n",
       "      <th>PoLo (pruned)</th>\n",
       "      <td>0.159</td>\n",
       "      <td>0.314</td>\n",
       "      <td>0.563</td>\n",
       "      <td>0.273</td>\n",
       "      <td>0.8987</td>\n",
       "      <td>PoLo (pruned)</td>\n",
       "      <td>0.012</td>\n",
       "      <td>0.011</td>\n",
       "      <td>0.014</td>\n",
       "      <td>0.011</td>\n",
       "    </tr>\n",
       "    <tr>\n",
       "      <th>MARS, naive updates</th>\n",
       "      <td>0.080</td>\n",
       "      <td>0.186</td>\n",
       "      <td>0.332</td>\n",
       "      <td>0.163</td>\n",
       "      <td>0.8987</td>\n",
       "      <td>MARS, naive updates</td>\n",
       "      <td>0.017</td>\n",
       "      <td>0.015</td>\n",
       "      <td>0.044</td>\n",
       "      <td>0.021</td>\n",
       "    </tr>\n",
       "    <tr>\n",
       "      <th>MARS, naive updates (pruned)</th>\n",
       "      <td>0.150</td>\n",
       "      <td>0.278</td>\n",
       "      <td>0.501</td>\n",
       "      <td>0.248</td>\n",
       "      <td>0.8987</td>\n",
       "      <td>MARS, naive updates (pruned)</td>\n",
       "      <td>0.010</td>\n",
       "      <td>0.029</td>\n",
       "      <td>0.035</td>\n",
       "      <td>0.013</td>\n",
       "    </tr>\n",
       "    <tr>\n",
       "      <th>MARS, P2H updates</th>\n",
       "      <td>0.084</td>\n",
       "      <td>0.196</td>\n",
       "      <td>0.350</td>\n",
       "      <td>0.172</td>\n",
       "      <td>0.8987</td>\n",
       "      <td>MARS, P2H updates</td>\n",
       "      <td>0.014</td>\n",
       "      <td>0.013</td>\n",
       "      <td>0.028</td>\n",
       "      <td>0.008</td>\n",
       "    </tr>\n",
       "    <tr>\n",
       "      <th>MARS, P2H updates (pruned)</th>\n",
       "      <td>0.160</td>\n",
       "      <td>0.312</td>\n",
       "      <td>0.553</td>\n",
       "      <td>0.274</td>\n",
       "      <td>0.8987</td>\n",
       "      <td>MARS, P2H updates (pruned)</td>\n",
       "      <td>0.013</td>\n",
       "      <td>0.024</td>\n",
       "      <td>0.027</td>\n",
       "      <td>0.014</td>\n",
       "    </tr>\n",
       "    <tr>\n",
       "      <th>PoLo</th>\n",
       "      <td>0.140</td>\n",
       "      <td>0.235</td>\n",
       "      <td>0.343</td>\n",
       "      <td>0.205</td>\n",
       "      <td>0.7219</td>\n",
       "      <td>PoLo</td>\n",
       "      <td>0.035</td>\n",
       "      <td>0.029</td>\n",
       "      <td>0.027</td>\n",
       "      <td>0.026</td>\n",
       "    </tr>\n",
       "    <tr>\n",
       "      <th>PoLo (pruned)</th>\n",
       "      <td>0.152</td>\n",
       "      <td>0.265</td>\n",
       "      <td>0.420</td>\n",
       "      <td>0.230</td>\n",
       "      <td>0.7219</td>\n",
       "      <td>PoLo (pruned)</td>\n",
       "      <td>0.030</td>\n",
       "      <td>0.021</td>\n",
       "      <td>0.014</td>\n",
       "      <td>0.020</td>\n",
       "    </tr>\n",
       "    <tr>\n",
       "      <th>MARS, naive updates</th>\n",
       "      <td>0.128</td>\n",
       "      <td>0.211</td>\n",
       "      <td>0.321</td>\n",
       "      <td>0.188</td>\n",
       "      <td>0.7219</td>\n",
       "      <td>MARS, naive updates</td>\n",
       "      <td>0.014</td>\n",
       "      <td>0.016</td>\n",
       "      <td>0.029</td>\n",
       "      <td>0.009</td>\n",
       "    </tr>\n",
       "    <tr>\n",
       "      <th>MARS, naive updates (pruned)</th>\n",
       "      <td>0.164</td>\n",
       "      <td>0.268</td>\n",
       "      <td>0.398</td>\n",
       "      <td>0.234</td>\n",
       "      <td>0.7219</td>\n",
       "      <td>MARS, naive updates (pruned)</td>\n",
       "      <td>0.019</td>\n",
       "      <td>0.015</td>\n",
       "      <td>0.027</td>\n",
       "      <td>0.010</td>\n",
       "    </tr>\n",
       "    <tr>\n",
       "      <th>MARS, P2H updates</th>\n",
       "      <td>0.131</td>\n",
       "      <td>0.231</td>\n",
       "      <td>0.355</td>\n",
       "      <td>0.202</td>\n",
       "      <td>0.7219</td>\n",
       "      <td>MARS, P2H updates</td>\n",
       "      <td>0.010</td>\n",
       "      <td>0.020</td>\n",
       "      <td>0.021</td>\n",
       "      <td>0.009</td>\n",
       "    </tr>\n",
       "    <tr>\n",
       "      <th>MARS, P2H updates (pruned)</th>\n",
       "      <td>0.142</td>\n",
       "      <td>0.267</td>\n",
       "      <td>0.426</td>\n",
       "      <td>0.227</td>\n",
       "      <td>0.7219</td>\n",
       "      <td>MARS, P2H updates (pruned)</td>\n",
       "      <td>0.014</td>\n",
       "      <td>0.017</td>\n",
       "      <td>0.018</td>\n",
       "      <td>0.009</td>\n",
       "    </tr>\n",
       "    <tr>\n",
       "      <th>PoLo</th>\n",
       "      <td>0.179</td>\n",
       "      <td>0.284</td>\n",
       "      <td>0.383</td>\n",
       "      <td>0.251</td>\n",
       "      <td>0.5780</td>\n",
       "      <td>PoLo</td>\n",
       "      <td>0.024</td>\n",
       "      <td>0.034</td>\n",
       "      <td>0.016</td>\n",
       "      <td>0.018</td>\n",
       "    </tr>\n",
       "    <tr>\n",
       "      <th>PoLo (pruned)</th>\n",
       "      <td>0.190</td>\n",
       "      <td>0.344</td>\n",
       "      <td>0.488</td>\n",
       "      <td>0.285</td>\n",
       "      <td>0.5780</td>\n",
       "      <td>PoLo (pruned)</td>\n",
       "      <td>0.039</td>\n",
       "      <td>0.028</td>\n",
       "      <td>0.019</td>\n",
       "      <td>0.028</td>\n",
       "    </tr>\n",
       "    <tr>\n",
       "      <th>MARS, naive updates</th>\n",
       "      <td>0.190</td>\n",
       "      <td>0.283</td>\n",
       "      <td>0.370</td>\n",
       "      <td>0.256</td>\n",
       "      <td>0.5780</td>\n",
       "      <td>MARS, naive updates</td>\n",
       "      <td>0.013</td>\n",
       "      <td>0.025</td>\n",
       "      <td>0.031</td>\n",
       "      <td>0.013</td>\n",
       "    </tr>\n",
       "    <tr>\n",
       "      <th>MARS, naive updates (pruned)</th>\n",
       "      <td>0.204</td>\n",
       "      <td>0.337</td>\n",
       "      <td>0.496</td>\n",
       "      <td>0.292</td>\n",
       "      <td>0.5780</td>\n",
       "      <td>MARS, naive updates (pruned)</td>\n",
       "      <td>0.015</td>\n",
       "      <td>0.027</td>\n",
       "      <td>0.013</td>\n",
       "      <td>0.016</td>\n",
       "    </tr>\n",
       "    <tr>\n",
       "      <th>MARS, P2H updates</th>\n",
       "      <td>0.184</td>\n",
       "      <td>0.294</td>\n",
       "      <td>0.391</td>\n",
       "      <td>0.257</td>\n",
       "      <td>0.5780</td>\n",
       "      <td>MARS, P2H updates</td>\n",
       "      <td>0.018</td>\n",
       "      <td>0.018</td>\n",
       "      <td>0.026</td>\n",
       "      <td>0.017</td>\n",
       "    </tr>\n",
       "    <tr>\n",
       "      <th>MARS, P2H updates (pruned)</th>\n",
       "      <td>0.218</td>\n",
       "      <td>0.370</td>\n",
       "      <td>0.506</td>\n",
       "      <td>0.312</td>\n",
       "      <td>0.5780</td>\n",
       "      <td>MARS, P2H updates (pruned)</td>\n",
       "      <td>0.016</td>\n",
       "      <td>0.012</td>\n",
       "      <td>0.035</td>\n",
       "      <td>0.016</td>\n",
       "    </tr>\n",
       "  </tbody>\n",
       "</table>\n",
       "</div>"
      ],
      "text/plain": [
       "                              Hits@1  Hits@3  Hits@10    MRR      KG  \\\n",
       "PoLo                           0.084   0.198    0.341  0.171  0.8987   \n",
       "PoLo (pruned)                  0.159   0.314    0.563  0.273  0.8987   \n",
       "MARS, naive updates            0.080   0.186    0.332  0.163  0.8987   \n",
       "MARS, naive updates (pruned)   0.150   0.278    0.501  0.248  0.8987   \n",
       "MARS, P2H updates              0.084   0.196    0.350  0.172  0.8987   \n",
       "MARS, P2H updates (pruned)     0.160   0.312    0.553  0.274  0.8987   \n",
       "PoLo                           0.140   0.235    0.343  0.205  0.7219   \n",
       "PoLo (pruned)                  0.152   0.265    0.420  0.230  0.7219   \n",
       "MARS, naive updates            0.128   0.211    0.321  0.188  0.7219   \n",
       "MARS, naive updates (pruned)   0.164   0.268    0.398  0.234  0.7219   \n",
       "MARS, P2H updates              0.131   0.231    0.355  0.202  0.7219   \n",
       "MARS, P2H updates (pruned)     0.142   0.267    0.426  0.227  0.7219   \n",
       "PoLo                           0.179   0.284    0.383  0.251  0.5780   \n",
       "PoLo (pruned)                  0.190   0.344    0.488  0.285  0.5780   \n",
       "MARS, naive updates            0.190   0.283    0.370  0.256  0.5780   \n",
       "MARS, naive updates (pruned)   0.204   0.337    0.496  0.292  0.5780   \n",
       "MARS, P2H updates              0.184   0.294    0.391  0.257  0.5780   \n",
       "MARS, P2H updates (pruned)     0.218   0.370    0.506  0.312  0.5780   \n",
       "\n",
       "                                                     Model  Hits@1_error  \\\n",
       "PoLo                                                  PoLo         0.004   \n",
       "PoLo (pruned)                                PoLo (pruned)         0.012   \n",
       "MARS, naive updates                    MARS, naive updates         0.017   \n",
       "MARS, naive updates (pruned)  MARS, naive updates (pruned)         0.010   \n",
       "MARS, P2H updates                        MARS, P2H updates         0.014   \n",
       "MARS, P2H updates (pruned)      MARS, P2H updates (pruned)         0.013   \n",
       "PoLo                                                  PoLo         0.035   \n",
       "PoLo (pruned)                                PoLo (pruned)         0.030   \n",
       "MARS, naive updates                    MARS, naive updates         0.014   \n",
       "MARS, naive updates (pruned)  MARS, naive updates (pruned)         0.019   \n",
       "MARS, P2H updates                        MARS, P2H updates         0.010   \n",
       "MARS, P2H updates (pruned)      MARS, P2H updates (pruned)         0.014   \n",
       "PoLo                                                  PoLo         0.024   \n",
       "PoLo (pruned)                                PoLo (pruned)         0.039   \n",
       "MARS, naive updates                    MARS, naive updates         0.013   \n",
       "MARS, naive updates (pruned)  MARS, naive updates (pruned)         0.015   \n",
       "MARS, P2H updates                        MARS, P2H updates         0.018   \n",
       "MARS, P2H updates (pruned)      MARS, P2H updates (pruned)         0.016   \n",
       "\n",
       "                              Hits@3_error  Hits@10_error  MRR_error  \n",
       "PoLo                                 0.013          0.047      0.010  \n",
       "PoLo (pruned)                        0.011          0.014      0.011  \n",
       "MARS, naive updates                  0.015          0.044      0.021  \n",
       "MARS, naive updates (pruned)         0.029          0.035      0.013  \n",
       "MARS, P2H updates                    0.013          0.028      0.008  \n",
       "MARS, P2H updates (pruned)           0.024          0.027      0.014  \n",
       "PoLo                                 0.029          0.027      0.026  \n",
       "PoLo (pruned)                        0.021          0.014      0.020  \n",
       "MARS, naive updates                  0.016          0.029      0.009  \n",
       "MARS, naive updates (pruned)         0.015          0.027      0.010  \n",
       "MARS, P2H updates                    0.020          0.021      0.009  \n",
       "MARS, P2H updates (pruned)           0.017          0.018      0.009  \n",
       "PoLo                                 0.034          0.016      0.018  \n",
       "PoLo (pruned)                        0.028          0.019      0.028  \n",
       "MARS, naive updates                  0.025          0.031      0.013  \n",
       "MARS, naive updates (pruned)         0.027          0.013      0.016  \n",
       "MARS, P2H updates                    0.018          0.026      0.017  \n",
       "MARS, P2H updates (pruned)           0.012          0.035      0.016  "
      ]
     },
     "execution_count": 48,
     "metadata": {},
     "output_type": "execute_result"
    }
   ],
   "source": [
    "table4_values"
   ]
  },
  {
   "cell_type": "code",
   "execution_count": null,
   "id": "5c8803a1",
   "metadata": {},
   "outputs": [],
   "source": [
    "kgs = set(table_4[\"KG\"])\n",
    "models = set(table_4[\"Model\"])"
   ]
  },
  {
   "cell_type": "code",
   "execution_count": null,
   "id": "bfcfd919",
   "metadata": {},
   "outputs": [],
   "source": [
    "color_dict = {\n",
    "    \"PoLo\": \"#82a8a0\",\n",
    "    \"PoLo (pruned)\": \"#eca86f\",\n",
    "    \"MARS, P2H updates (pruned)\": \"#d73c24\",\n",
    "    \"MARS, naive updates\": \"#1d6d8b\",\n",
    "    \"MARS, naive updates (pruned)\": \"#e96f3d\",\n",
    "    \"MARS, P2H updates\": \"#0d2b53\",\n",
    "}\n",
    "\n",
    "# bar line dict\n",
    "bar_line_dict = {\n",
    "    \"PoLo\": \":\",\n",
    "    \"PoLo (pruned)\": \":\",\n",
    "    \"MARS, P2H updates\": \"-\",\n",
    "    \"MARS, P2H updates (pruned)\": \"-\",\n",
    "    \"MARS, naive updates\": \"-.\",\n",
    "    \"MARS, naive updates (pruned)\": \"-.\",\n",
    "}"
   ]
  },
  {
   "cell_type": "code",
   "execution_count": null,
   "id": "d85f8daa",
   "metadata": {},
   "outputs": [
    {
     "data": {
      "image/png": "[encoded data removed]",
      "text/plain": [
       "<Figure size 864x396 with 2 Axes>"
      ]
     },
     "metadata": {
      "needs_background": "light"
     },
     "output_type": "display_data"
    }
   ],
   "source": [
    "# Group the DataFrame by the 'Model' column\n",
    "grouped = table4_values.groupby(\"Model\")\n",
    "\n",
    "# create a figure with two subplots\n",
    "\n",
    "fig, (ax1, ax2) = plt.subplots(1, 2, figsize=(12, 5.5))\n",
    "\n",
    "# set the title\n",
    "fig.suptitle(\"Performance with increasing class imbalance\", fontsize=16, y=1.05)\n",
    "\n",
    "# Adjust the position of the title\n",
    "# plt.tight_layout(rect=[0, 0, 1, 0.95])  # Adjust the 'top' parameter as needed\n",
    "\n",
    "for name, group in grouped:\n",
    "    ax1.errorbar(\n",
    "        group[\"KG\"],\n",
    "        group[\"MRR\"],\n",
    "        yerr=group[\"MRR_error\"],\n",
    "        marker=\"o\",\n",
    "        label=name,\n",
    "        color=color_dict.get(name, \"black\"),\n",
    "        linestyle=bar_line_dict.get(name, \"-\"),\n",
    "    )\n",
    "\n",
    "# x label\n",
    "ax1.set_xlabel(\"Ratio of interacts(protein, protein) edges\", labelpad=7, fontsize=14)\n",
    "ax1.set_ylabel(\"MRR\", labelpad=7, fontsize=14)\n",
    "plt.grid(False)\n",
    "\n",
    "# legend position down center of the entire plot\n",
    "fig.legend(loc=\"upper right\", bbox_to_anchor=(0.98, 0.95))\n",
    "\n",
    "# Group the DataFrame by the 'Model' column\n",
    "grouped = table4_values.groupby(\"Model\")\n",
    "\n",
    "for name, group in grouped:\n",
    "    ax2.errorbar(\n",
    "        group[\"KG\"],\n",
    "        group[\"Hits@1\"],\n",
    "        yerr=group[\"Hits@1_error\"],\n",
    "        marker=\"o\",\n",
    "        label=name,\n",
    "        color=color_dict.get(name, \"black\"),\n",
    "        linestyle=bar_line_dict.get(name, \"-\"),\n",
    "    )\n",
    "\n",
    "ax2.set_xlabel(\"Ratio of interacts(protein, protein) edges\", fontsize=14)\n",
    "ax2.set_ylabel(\"Hits@1\", labelpad=7, fontsize=14)\n",
    "plt.grid(False)\n",
    "\n",
    "plt.savefig(osp.join(OUTPUT_DIR, \"metrics_KG_size.png\"), dpi=400, bbox_inches=\"tight\")\n",
    "\n",
    "plt.show()"
   ]
  },
  {
   "cell_type": "code",
   "execution_count": null,
   "id": "020a0216",
   "metadata": {},
   "outputs": [],
   "source": []
  }
 ],
 "metadata": {
  "kernelspec": {
   "display_name": "moanet_env",
   "language": "python",
   "name": "python3"
  },
  "language_info": {
   "codemirror_mode": {
    "name": "ipython",
    "version": 3
   },
   "file_extension": ".py",
   "mimetype": "text/x-python",
   "name": "python",
   "nbconvert_exporter": "python",
   "pygments_lexer": "ipython3",
   "version": "3.10.13"
  }
 },
 "nbformat": 4,
 "nbformat_minor": 5
}
