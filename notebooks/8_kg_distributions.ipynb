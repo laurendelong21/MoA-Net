{
 "cells": [
  {
   "cell_type": "markdown",
   "metadata": {},
   "source": [
    "# Distributions of nodes and edges in MoA-net"
   ]
  },
  {
   "cell_type": "code",
   "execution_count": 1,
   "metadata": {},
   "outputs": [],
   "source": [
    "import os\n",
    "import pandas as pd\n",
    "from tqdm import tqdm\n",
    "\n",
    "import matplotlib.pyplot as plt\n",
    "import seaborn as sns\n",
    "\n",
    "tqdm.pandas()"
   ]
  },
  {
   "cell_type": "markdown",
   "metadata": {},
   "source": [
    "# Load networks"
   ]
  },
  {
   "cell_type": "code",
   "execution_count": 2,
   "metadata": {},
   "outputs": [],
   "source": [
    "KG_DIR = '../data/kg'\n",
    "FIG_DIR = '../figures'\n",
    "os.makedirs(FIG_DIR, exist_ok=True)"
   ]
  },
  {
   "cell_type": "code",
   "execution_count": 3,
   "metadata": {},
   "outputs": [
    {
     "data": {
      "text/html": [
       "<div>\n",
       "<style scoped>\n",
       "    .dataframe tbody tr th:only-of-type {\n",
       "        vertical-align: middle;\n",
       "    }\n",
       "\n",
       "    .dataframe tbody tr th {\n",
       "        vertical-align: top;\n",
       "    }\n",
       "\n",
       "    .dataframe thead th {\n",
       "        text-align: right;\n",
       "    }\n",
       "</style>\n",
       "<table border=\"1\" class=\"dataframe\">\n",
       "  <thead>\n",
       "    <tr style=\"text-align: right;\">\n",
       "      <th></th>\n",
       "      <th>source</th>\n",
       "      <th>source_node_type</th>\n",
       "      <th>target</th>\n",
       "      <th>target_node_type</th>\n",
       "      <th>edge_type</th>\n",
       "    </tr>\n",
       "  </thead>\n",
       "  <tbody>\n",
       "    <tr>\n",
       "      <th>0</th>\n",
       "      <td>pubchem.compound:10607</td>\n",
       "      <td>Compound</td>\n",
       "      <td>ncbigene:3553</td>\n",
       "      <td>Gene</td>\n",
       "      <td>upregulates</td>\n",
       "    </tr>\n",
       "    <tr>\n",
       "      <th>1</th>\n",
       "      <td>pubchem.compound:10607</td>\n",
       "      <td>Compound</td>\n",
       "      <td>ncbigene:203068</td>\n",
       "      <td>Gene</td>\n",
       "      <td>downregulates</td>\n",
       "    </tr>\n",
       "  </tbody>\n",
       "</table>\n",
       "</div>"
      ],
      "text/plain": [
       "                   source source_node_type           target target_node_type  \\\n",
       "0  pubchem.compound:10607         Compound    ncbigene:3553             Gene   \n",
       "1  pubchem.compound:10607         Compound  ncbigene:203068             Gene   \n",
       "\n",
       "       edge_type  \n",
       "0    upregulates  \n",
       "1  downregulates  "
      ]
     },
     "execution_count": 3,
     "metadata": {},
     "output_type": "execute_result"
    }
   ],
   "source": [
    "kg = pd.read_csv(f'{KG_DIR}/final_kg.tsv', sep='\\t')\n",
    "kg.drop_duplicates(inplace=True)\n",
    "kg.head(2)"
   ]
  },
  {
   "cell_type": "markdown",
   "metadata": {},
   "source": [
    "# Get basic stats"
   ]
  },
  {
   "cell_type": "code",
   "execution_count": 4,
   "metadata": {},
   "outputs": [
    {
     "data": {
      "text/plain": [
       "interacts        86786\n",
       "participates      4289\n",
       "downregulates     2225\n",
       "induces           1682\n",
       "upregulates       1639\n",
       "Name: edge_type, dtype: int64"
      ]
     },
     "execution_count": 4,
     "metadata": {},
     "output_type": "execute_result"
    }
   ],
   "source": [
    "kg.edge_type.value_counts()"
   ]
  },
  {
   "cell_type": "markdown",
   "metadata": {},
   "source": [
    "# Get node counts"
   ]
  },
  {
   "cell_type": "code",
   "execution_count": 5,
   "metadata": {},
   "outputs": [
    {
     "name": "stderr",
     "output_type": "stream",
     "text": [
      "  0%|          | 0/96621 [00:00<?, ?it/s]"
     ]
    },
    {
     "name": "stderr",
     "output_type": "stream",
     "text": [
      "100%|██████████| 96621/96621 [00:00<00:00, 226599.65it/s]\n"
     ]
    }
   ],
   "source": [
    "drugs = set()\n",
    "proteins = set()\n",
    "bps = set()\n",
    "\n",
    "for source, target in tqdm(kg[['source', 'target']].values):\n",
    "    if source.startswith('pubchem.compound:'):\n",
    "        drugs.add(source)\n",
    "    elif source.startswith('ncbigene:'):\n",
    "        proteins.add(source)\n",
    "    else:\n",
    "        raise ValueError(f'Unknown source: {source}')\n",
    "\n",
    "    if target.startswith('pubchem.compound:'):\n",
    "        drugs.add(target)\n",
    "    elif target.startswith('ncbigene:'):\n",
    "        proteins.add(target)\n",
    "    elif target.startswith('GO:'):\n",
    "        bps.add(target)\n",
    "    else:\n",
    "        raise ValueError(f'Unknown target: {target}')"
   ]
  },
  {
   "cell_type": "markdown",
   "metadata": {},
   "source": [
    "### Get edges counts"
   ]
  },
  {
   "cell_type": "code",
   "execution_count": 6,
   "metadata": {},
   "outputs": [
    {
     "name": "stderr",
     "output_type": "stream",
     "text": [
      "100%|██████████| 96621/96621 [00:00<00:00, 395352.68it/s]\n"
     ]
    }
   ],
   "source": [
    "drug_protein = 0\n",
    "protein_protein = 0\n",
    "protein_bps = 0\n",
    "drug_bps = 0\n",
    "\n",
    "for source, target in tqdm(kg[['source', 'target']].values):\n",
    "    if 'pubchem.compound' in source and 'ncbigene' in target:\n",
    "        drug_protein += 1\n",
    "    elif 'ncbigene' in source and 'ncbigene' in target:\n",
    "        protein_protein += 1\n",
    "    elif 'ncbigene' in source and 'GO' in target:\n",
    "        protein_bps += 1\n",
    "    elif 'pubchem.compound' in source and 'GO' in target:\n",
    "        drug_bps += 1\n",
    "    else:\n",
    "        print(source, target)"
   ]
  },
  {
   "cell_type": "markdown",
   "metadata": {},
   "source": [
    "## Summary stats"
   ]
  },
  {
   "cell_type": "code",
   "execution_count": 7,
   "metadata": {
    "scrolled": true
   },
   "outputs": [
    {
     "name": "stdout",
     "output_type": "stream",
     "text": [
      "##### Number of nodes in MoA-net #####\n",
      "313: # of unique drugs\n",
      "9301: # of unique proteins\n",
      "76: # of unique biological processes\n",
      "\n",
      "##### Number of edges in MoA-net ######\n",
      "96621: total # of interactions\n",
      "3855: # of drug-protein interactions\n",
      "86795: # of protein-protein interactions\n",
      "4289: # of protein-process interactions\n",
      "1682: # of drug-process interactions\n"
     ]
    }
   ],
   "source": [
    "print('##### Number of nodes in MoA-net #####')\n",
    "print(f'{len(drugs)}: # of unique drugs')\n",
    "print(f'{len(proteins)}: # of unique proteins')\n",
    "print(f'{len(bps)}: # of unique biological processes')\n",
    "\n",
    "print('\\n##### Number of edges in MoA-net ######')       \n",
    "print(f'{len(kg)}: total # of interactions')\n",
    "print(f'{drug_protein}: # of drug-protein interactions')\n",
    "print(f'{protein_protein}: # of protein-protein interactions')\n",
    "print(f'{protein_bps}: # of protein-process interactions')\n",
    "print(f'{drug_bps}: # of drug-process interactions')"
   ]
  },
  {
   "cell_type": "markdown",
   "metadata": {},
   "source": [
    "# Plot distributions of nodes"
   ]
  },
  {
   "cell_type": "code",
   "execution_count": 8,
   "metadata": {},
   "outputs": [
    {
     "data": {
      "text/html": [
       "<div>\n",
       "<style scoped>\n",
       "    .dataframe tbody tr th:only-of-type {\n",
       "        vertical-align: middle;\n",
       "    }\n",
       "\n",
       "    .dataframe tbody tr th {\n",
       "        vertical-align: top;\n",
       "    }\n",
       "\n",
       "    .dataframe thead th {\n",
       "        text-align: right;\n",
       "    }\n",
       "</style>\n",
       "<table border=\"1\" class=\"dataframe\">\n",
       "  <thead>\n",
       "    <tr style=\"text-align: right;\">\n",
       "      <th></th>\n",
       "      <th>Count</th>\n",
       "      <th>Node Types</th>\n",
       "    </tr>\n",
       "  </thead>\n",
       "  <tbody>\n",
       "    <tr>\n",
       "      <th>0</th>\n",
       "      <td>313</td>\n",
       "      <td>Drugs</td>\n",
       "    </tr>\n",
       "    <tr>\n",
       "      <th>1</th>\n",
       "      <td>9301</td>\n",
       "      <td>Genes/Proteins</td>\n",
       "    </tr>\n",
       "    <tr>\n",
       "      <th>2</th>\n",
       "      <td>76</td>\n",
       "      <td>Biological processes</td>\n",
       "    </tr>\n",
       "  </tbody>\n",
       "</table>\n",
       "</div>"
      ],
      "text/plain": [
       "   Count            Node Types\n",
       "0    313                 Drugs\n",
       "1   9301        Genes/Proteins\n",
       "2     76  Biological processes"
      ]
     },
     "execution_count": 8,
     "metadata": {},
     "output_type": "execute_result"
    }
   ],
   "source": [
    "data_nodes = {\n",
    "    'Count':[\n",
    "        len(drugs),\n",
    "        len(proteins), \n",
    "        len(bps), \n",
    "    ],\n",
    "    'Node Types':['Drugs','Genes/Proteins','Biological processes']\n",
    "}\n",
    "\n",
    "node_df = pd.DataFrame(data=data_nodes)\n",
    "node_df.head()"
   ]
  },
  {
   "cell_type": "code",
   "execution_count": 9,
   "metadata": {},
   "outputs": [
    {
     "data": {
      "text/html": [
       "<div>\n",
       "<style scoped>\n",
       "    .dataframe tbody tr th:only-of-type {\n",
       "        vertical-align: middle;\n",
       "    }\n",
       "\n",
       "    .dataframe tbody tr th {\n",
       "        vertical-align: top;\n",
       "    }\n",
       "\n",
       "    .dataframe thead th {\n",
       "        text-align: right;\n",
       "    }\n",
       "</style>\n",
       "<table border=\"1\" class=\"dataframe\">\n",
       "  <thead>\n",
       "    <tr style=\"text-align: right;\">\n",
       "      <th></th>\n",
       "      <th>Count</th>\n",
       "      <th>Edge Types</th>\n",
       "    </tr>\n",
       "  </thead>\n",
       "  <tbody>\n",
       "    <tr>\n",
       "      <th>0</th>\n",
       "      <td>3855</td>\n",
       "      <td>drug-protein</td>\n",
       "    </tr>\n",
       "    <tr>\n",
       "      <th>1</th>\n",
       "      <td>86795</td>\n",
       "      <td>protein-protein</td>\n",
       "    </tr>\n",
       "    <tr>\n",
       "      <th>2</th>\n",
       "      <td>4289</td>\n",
       "      <td>protein-process</td>\n",
       "    </tr>\n",
       "    <tr>\n",
       "      <th>3</th>\n",
       "      <td>1682</td>\n",
       "      <td>drug-process</td>\n",
       "    </tr>\n",
       "  </tbody>\n",
       "</table>\n",
       "</div>"
      ],
      "text/plain": [
       "   Count       Edge Types\n",
       "0   3855     drug-protein\n",
       "1  86795  protein-protein\n",
       "2   4289  protein-process\n",
       "3   1682     drug-process"
      ]
     },
     "execution_count": 9,
     "metadata": {},
     "output_type": "execute_result"
    }
   ],
   "source": [
    "data_edges = {\n",
    "    'Count':[\n",
    "        drug_protein,\n",
    "        protein_protein,\n",
    "        protein_bps, \n",
    "        drug_bps\n",
    "    ],\n",
    "    'Edge Types':[\n",
    "        'drug-protein',\n",
    "        'protein-protein',\n",
    "        'protein-process',\n",
    "        'drug-process'\n",
    "    ]\n",
    "}\n",
    "\n",
    "edges_df = pd.DataFrame(data=data_edges)\n",
    "edges_df"
   ]
  },
  {
   "cell_type": "code",
   "execution_count": 10,
   "metadata": {},
   "outputs": [
    {
     "data": {
      "image/png": "[encoded data removed]",
      "text/plain": [
       "<Figure size 720x720 with 2 Axes>"
      ]
     },
     "metadata": {},
     "output_type": "display_data"
    }
   ],
   "source": [
    "sns.set(rc={'figure.figsize':(10,10)})\n",
    "\n",
    "# grid lines\n",
    "sns.set_style(\"darkgrid\")\n",
    "\n",
    "plt.subplot(2, 1, 1)\n",
    "bx1 = sns.barplot(\n",
    "    x=\"Node Types\", y=\"Count\", data=node_df,\n",
    "    palette=['#F6A0D8','#FE9A6B', '#95F3CC']\n",
    ") \n",
    "plt.title(\n",
    "    'Distribution of Node Types', \n",
    "    fontsize=18, \n",
    "    fontweight=\"bold\"\n",
    ")\n",
    "plt.xlabel(\"Node Type\", fontsize=16, fontweight=\"bold\")\n",
    "plt.ylabel(\"Count\", fontsize=16, fontweight=\"bold\")\n",
    "plt.xticks(bx1.get_xticks(), labels=['Drug', 'Protein', 'Biological Processes'], fontsize=16)\n",
    "plt.ylim(10, 15000)\n",
    "plt.yscale(\"log\") #the log transformation\n",
    "\n",
    "for p in bx1.patches:\n",
    "    _x = p.get_x() + p.get_width() / 2\n",
    "    _y = p.get_y() + p.get_height() + 50\n",
    "    value = int(p.get_height())\n",
    "    bx1.text(_x, _y, f'{value:,}', ha=\"center\") \n",
    "\n",
    "plt.subplot(2, 1, 2)\n",
    "bx2 = sns.barplot(\n",
    "    x=\"Edge Types\", y=\"Count\", data=edges_df, \n",
    "    color='#fe6b86'\n",
    ")\n",
    "plt.title(\n",
    "    'Distribution of Relationships', \n",
    "    fontsize=18, \n",
    "    fontweight=\"bold\"\n",
    ")\n",
    "plt.xlabel(\"Edge Type\", fontsize=16, fontweight=\"bold\")\n",
    "plt.ylabel(\"Count\", fontsize=16, fontweight=\"bold\") \n",
    "plt.xticks(bx2.get_xticks(), labels=['Drug-Protein','Protein-Protein','Protein-Process', 'Drug-Process'], fontsize=16)\n",
    "plt.ylim(10, 150000)\n",
    "\n",
    "plt.yscale(\"log\") #the log transformation\n",
    "\n",
    "# Add counts above bars\n",
    "for p in bx2.patches:\n",
    "    _x = p.get_x() + p.get_width() / 2\n",
    "    _y = p.get_y() + p.get_height() + 50\n",
    "    value = int(p.get_height())\n",
    "    bx2.text(_x, _y, f'{value:,}', ha=\"center\")   \n",
    "\n",
    "\n",
    "plt.tight_layout()\n",
    "plt.savefig(\n",
    "    f'{FIG_DIR}/graph-stats.png',\n",
    "    dpi=400,\n",
    "    bbox_inches='tight', \n",
    ")\n",
    "plt.show()"
   ]
  },
  {
   "cell_type": "code",
   "execution_count": null,
   "metadata": {},
   "outputs": [],
   "source": []
  }
 ],
 "metadata": {
  "kernelspec": {
   "display_name": "mln_env",
   "language": "python",
   "name": "mln_env"
  },
  "language_info": {
   "codemirror_mode": {
    "name": "ipython",
    "version": 3
   },
   "file_extension": ".py",
   "mimetype": "text/x-python",
   "name": "python",
   "nbconvert_exporter": "python",
   "pygments_lexer": "ipython3",
   "version": "3.6.9"
  },
  "pycharm": {
   "stem_cell": {
    "cell_type": "raw",
    "metadata": {
     "collapsed": false
    },
    "source": []
   }
  }
 },
 "nbformat": 4,
 "nbformat_minor": 4
}
