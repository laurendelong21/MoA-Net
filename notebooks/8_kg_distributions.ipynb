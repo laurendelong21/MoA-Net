{
 "cells": [
  {
   "cell_type": "markdown",
   "metadata": {},
   "source": [
    "# Distributions of nodes and edges in MoA-net"
   ]
  },
  {
   "cell_type": "code",
   "execution_count": 1,
   "metadata": {},
   "outputs": [],
   "source": [
    "import os\n",
    "import pandas as pd\n",
    "from tqdm import tqdm\n",
    "\n",
    "import matplotlib.pyplot as plt\n",
    "import seaborn as sns\n",
    "\n",
    "tqdm.pandas()"
   ]
  },
  {
   "cell_type": "markdown",
   "metadata": {},
   "source": [
    "# Load networks"
   ]
  },
  {
   "cell_type": "code",
   "execution_count": 2,
   "metadata": {},
   "outputs": [],
   "source": [
    "KG_DIR = '../data/kg'\n",
    "FIG_DIR = '../figures'\n",
    "os.makedirs(FIG_DIR, exist_ok=True)"
   ]
  },
  {
   "cell_type": "code",
   "execution_count": 3,
   "metadata": {},
   "outputs": [
    {
     "data": {
      "text/html": [
       "<div>\n",
       "<style scoped>\n",
       "    .dataframe tbody tr th:only-of-type {\n",
       "        vertical-align: middle;\n",
       "    }\n",
       "\n",
       "    .dataframe tbody tr th {\n",
       "        vertical-align: top;\n",
       "    }\n",
       "\n",
       "    .dataframe thead th {\n",
       "        text-align: right;\n",
       "    }\n",
       "</style>\n",
       "<table border=\"1\" class=\"dataframe\">\n",
       "  <thead>\n",
       "    <tr style=\"text-align: right;\">\n",
       "      <th></th>\n",
       "      <th>source</th>\n",
       "      <th>source_node_type</th>\n",
       "      <th>target</th>\n",
       "      <th>target_node_type</th>\n",
       "      <th>edge_type</th>\n",
       "    </tr>\n",
       "  </thead>\n",
       "  <tbody>\n",
       "    <tr>\n",
       "      <th>0</th>\n",
       "      <td>pubchem.compound:10607</td>\n",
       "      <td>Compound</td>\n",
       "      <td>ncbigene:3553</td>\n",
       "      <td>Gene</td>\n",
       "      <td>upregulates</td>\n",
       "    </tr>\n",
       "    <tr>\n",
       "      <th>1</th>\n",
       "      <td>pubchem.compound:10607</td>\n",
       "      <td>Compound</td>\n",
       "      <td>ncbigene:203068</td>\n",
       "      <td>Gene</td>\n",
       "      <td>downregulates</td>\n",
       "    </tr>\n",
       "  </tbody>\n",
       "</table>\n",
       "</div>"
      ],
      "text/plain": [
       "                   source source_node_type           target target_node_type  \\\n",
       "0  pubchem.compound:10607         Compound    ncbigene:3553             Gene   \n",
       "1  pubchem.compound:10607         Compound  ncbigene:203068             Gene   \n",
       "\n",
       "       edge_type  \n",
       "0    upregulates  \n",
       "1  downregulates  "
      ]
     },
     "execution_count": 3,
     "metadata": {},
     "output_type": "execute_result"
    }
   ],
   "source": [
    "kg = pd.read_csv(f'{KG_DIR}/final_kg.tsv', sep='\\t')\n",
    "kg.drop_duplicates(inplace=True)\n",
    "kg.head(2)"
   ]
  },
  {
   "cell_type": "code",
   "execution_count": 4,
   "metadata": {},
   "outputs": [
    {
     "data": {
      "text/html": [
       "<div>\n",
       "<style scoped>\n",
       "    .dataframe tbody tr th:only-of-type {\n",
       "        vertical-align: middle;\n",
       "    }\n",
       "\n",
       "    .dataframe tbody tr th {\n",
       "        vertical-align: top;\n",
       "    }\n",
       "\n",
       "    .dataframe thead th {\n",
       "        text-align: right;\n",
       "    }\n",
       "</style>\n",
       "<table border=\"1\" class=\"dataframe\">\n",
       "  <thead>\n",
       "    <tr style=\"text-align: right;\">\n",
       "      <th></th>\n",
       "      <th>source</th>\n",
       "      <th>source_node_type</th>\n",
       "      <th>target</th>\n",
       "      <th>target_node_type</th>\n",
       "      <th>edge_type</th>\n",
       "    </tr>\n",
       "  </thead>\n",
       "  <tbody>\n",
       "    <tr>\n",
       "      <th>0</th>\n",
       "      <td>pubchem.compound:10607</td>\n",
       "      <td>Compound</td>\n",
       "      <td>ncbigene:3553</td>\n",
       "      <td>Gene</td>\n",
       "      <td>upregulates</td>\n",
       "    </tr>\n",
       "    <tr>\n",
       "      <th>1</th>\n",
       "      <td>pubchem.compound:10607</td>\n",
       "      <td>Compound</td>\n",
       "      <td>ncbigene:203068</td>\n",
       "      <td>Gene</td>\n",
       "      <td>downregulates</td>\n",
       "    </tr>\n",
       "  </tbody>\n",
       "</table>\n",
       "</div>"
      ],
      "text/plain": [
       "                   source source_node_type           target target_node_type  \\\n",
       "0  pubchem.compound:10607         Compound    ncbigene:3553             Gene   \n",
       "1  pubchem.compound:10607         Compound  ncbigene:203068             Gene   \n",
       "\n",
       "       edge_type  \n",
       "0    upregulates  \n",
       "1  downregulates  "
      ]
     },
     "execution_count": 4,
     "metadata": {},
     "output_type": "execute_result"
    }
   ],
   "source": [
    "kg_p = pd.read_csv(f'{KG_DIR}/final_kg_subclassed.tsv', sep='\\t')\n",
    "kg_p.drop_duplicates(inplace=True)\n",
    "kg_p.head(2)"
   ]
  },
  {
   "cell_type": "markdown",
   "metadata": {},
   "source": [
    "# Get basic stats"
   ]
  },
  {
   "cell_type": "code",
   "execution_count": 5,
   "metadata": {},
   "outputs": [
    {
     "data": {
      "text/plain": [
       "interacts        86786\n",
       "participates      4325\n",
       "downregulates     2205\n",
       "upregulates       1631\n",
       "induces           1622\n",
       "Name: edge_type, dtype: int64"
      ]
     },
     "execution_count": 5,
     "metadata": {},
     "output_type": "execute_result"
    }
   ],
   "source": [
    "kg.edge_type.value_counts()"
   ]
  },
  {
   "cell_type": "code",
   "execution_count": 6,
   "metadata": {},
   "outputs": [
    {
     "data": {
      "text/plain": [
       "interacts        78617\n",
       "participates      5027\n",
       "downregulates     2486\n",
       "upregulates       1949\n",
       "induces           1622\n",
       "Name: edge_type, dtype: int64"
      ]
     },
     "execution_count": 6,
     "metadata": {},
     "output_type": "execute_result"
    }
   ],
   "source": [
    "kg_p.edge_type.value_counts()"
   ]
  },
  {
   "cell_type": "markdown",
   "metadata": {},
   "source": [
    "# Get node counts"
   ]
  },
  {
   "cell_type": "code",
   "execution_count": 7,
   "metadata": {},
   "outputs": [
    {
     "name": "stderr",
     "output_type": "stream",
     "text": [
      "100%|██████████| 96569/96569 [00:00<00:00, 491295.51it/s]\n"
     ]
    }
   ],
   "source": [
    "drugs = set()\n",
    "proteins = set()\n",
    "bps = set()\n",
    "\n",
    "for source, target in tqdm(kg[['source', 'target']].values):\n",
    "    if source.startswith('pubchem.compound:'):\n",
    "        drugs.add(source)\n",
    "    elif source.startswith('ncbigene:'):\n",
    "        proteins.add(source)\n",
    "    else:\n",
    "        raise ValueError(f'Unknown source: {source}')\n",
    "\n",
    "    if target.startswith('pubchem.compound:'):\n",
    "        drugs.add(target)\n",
    "    elif target.startswith('ncbigene:'):\n",
    "        proteins.add(target)\n",
    "    elif target.startswith('GO:'):\n",
    "        bps.add(target)\n",
    "    else:\n",
    "        raise ValueError(f'Unknown target: {target}')"
   ]
  },
  {
   "cell_type": "code",
   "execution_count": 8,
   "metadata": {},
   "outputs": [
    {
     "name": "stderr",
     "output_type": "stream",
     "text": [
      "100%|██████████| 89701/89701 [00:00<00:00, 465786.84it/s]\n"
     ]
    }
   ],
   "source": [
    "drugs_p = set()\n",
    "proteins_p = set()\n",
    "bps_p = set()\n",
    "\n",
    "for source, target in tqdm(kg_p[['source', 'target']].values):\n",
    "    if source.startswith('pubchem.compound:'):\n",
    "        drugs_p.add(source)\n",
    "    elif source.startswith('ncbigene:'):\n",
    "        proteins_p.add(source)\n",
    "    else:\n",
    "        raise ValueError(f'Unknown source: {source}')\n",
    "\n",
    "    if target.startswith('pubchem.compound:'):\n",
    "        drugs_p.add(target)\n",
    "    elif target.startswith('ncbigene:'):\n",
    "        proteins_p.add(target)\n",
    "    elif target.startswith('GO:'):\n",
    "        bps_p.add(target)\n",
    "    else:\n",
    "        raise ValueError(f'Unknown target: {target}')"
   ]
  },
  {
   "cell_type": "markdown",
   "metadata": {},
   "source": [
    "### Get edges counts"
   ]
  },
  {
   "cell_type": "code",
   "execution_count": 9,
   "metadata": {},
   "outputs": [
    {
     "name": "stdout",
     "output_type": "stream",
     "text": [
      "{'interacts': 86786, 'participates': 4325, 'downregulates': 2205, 'upregulates': 1631, 'induces': 1622}\n"
     ]
    }
   ],
   "source": [
    "relations = dict(kg.edge_type.value_counts())\n",
    "print(relations)"
   ]
  },
  {
   "cell_type": "code",
   "execution_count": 10,
   "metadata": {},
   "outputs": [
    {
     "name": "stdout",
     "output_type": "stream",
     "text": [
      "{'interacts': 78617, 'participates': 5027, 'downregulates': 2486, 'upregulates': 1949, 'induces': 1622}\n"
     ]
    }
   ],
   "source": [
    "relations_p = dict(kg_p.edge_type.value_counts())\n",
    "print(relations_p)"
   ]
  },
  {
   "cell_type": "code",
   "execution_count": 11,
   "metadata": {},
   "outputs": [],
   "source": [
    "drug_protein = relations['downregulates'] + relations['upregulates']\n",
    "protein_protein = relations['interacts']\n",
    "protein_bps = relations['participates']\n",
    "drug_bps = relations['induces']"
   ]
  },
  {
   "cell_type": "code",
   "execution_count": 12,
   "metadata": {},
   "outputs": [],
   "source": [
    "drug_protein_p = relations_p['downregulates'] + relations_p['upregulates']\n",
    "protein_protein_p = relations_p['interacts']\n",
    "protein_bps_p = relations_p['participates']\n",
    "drug_bps_p = relations_p['induces']"
   ]
  },
  {
   "cell_type": "markdown",
   "metadata": {},
   "source": [
    "## Summary stats"
   ]
  },
  {
   "attachments": {},
   "cell_type": "markdown",
   "metadata": {},
   "source": [
    "MoA-net:"
   ]
  },
  {
   "cell_type": "code",
   "execution_count": 13,
   "metadata": {
    "scrolled": true
   },
   "outputs": [
    {
     "name": "stdout",
     "output_type": "stream",
     "text": [
      "##### Number of nodes in MoA-net #####\n",
      "300: # of unique drugs\n",
      "9301: # of unique proteins\n",
      "86: # of unique biological processes\n",
      "\n",
      "##### Number of edges in MoA-net ######\n",
      "96569: total # of interactions\n",
      "3836: # of drug-protein interactions\n",
      "86786: # of protein-protein interactions\n",
      "4325: # of protein-process interactions\n",
      "1622: # of drug-process interactions\n"
     ]
    }
   ],
   "source": [
    "print('##### Number of nodes in MoA-net #####')\n",
    "print(f'{len(drugs)}: # of unique drugs')\n",
    "print(f'{len(proteins)}: # of unique proteins')\n",
    "print(f'{len(bps)}: # of unique biological processes')\n",
    "\n",
    "print('\\n##### Number of edges in MoA-net ######')       \n",
    "print(f'{len(kg)}: total # of interactions')\n",
    "print(f'{drug_protein}: # of drug-protein interactions')\n",
    "print(f'{protein_protein}: # of protein-protein interactions')\n",
    "print(f'{protein_bps}: # of protein-process interactions')\n",
    "print(f'{drug_bps}: # of drug-process interactions')"
   ]
  },
  {
   "attachments": {},
   "cell_type": "markdown",
   "metadata": {},
   "source": [
    "Protein-classed MoA-net:"
   ]
  },
  {
   "cell_type": "code",
   "execution_count": 14,
   "metadata": {},
   "outputs": [
    {
     "name": "stdout",
     "output_type": "stream",
     "text": [
      "##### Number of nodes in MoA-net #####\n",
      "300: # of unique drugs\n",
      "6833: # of unique proteins\n",
      "86: # of unique biological processes\n",
      "\n",
      "##### Number of edges in MoA-net ######\n",
      "89701: total # of interactions\n",
      "4435: # of drug-protein interactions\n",
      "78617: # of protein-protein interactions\n",
      "5027: # of protein-process interactions\n",
      "1622: # of drug-process interactions\n"
     ]
    }
   ],
   "source": [
    "print('##### Number of nodes in MoA-net #####')\n",
    "print(f'{len(drugs_p)}: # of unique drugs')\n",
    "print(f'{len(proteins_p)}: # of unique proteins')\n",
    "print(f'{len(bps_p)}: # of unique biological processes')\n",
    "\n",
    "print('\\n##### Number of edges in MoA-net ######')       \n",
    "print(f'{len(kg_p)}: total # of interactions')\n",
    "print(f'{drug_protein_p}: # of drug-protein interactions')\n",
    "print(f'{protein_protein_p}: # of protein-protein interactions')\n",
    "print(f'{protein_bps_p}: # of protein-process interactions')\n",
    "print(f'{drug_bps_p}: # of drug-process interactions')"
   ]
  },
  {
   "cell_type": "markdown",
   "metadata": {},
   "source": [
    "# Plot distributions of nodes"
   ]
  },
  {
   "attachments": {},
   "cell_type": "markdown",
   "metadata": {},
   "source": [
    "### MoA-net:"
   ]
  },
  {
   "cell_type": "code",
   "execution_count": 15,
   "metadata": {},
   "outputs": [
    {
     "data": {
      "text/html": [
       "<div>\n",
       "<style scoped>\n",
       "    .dataframe tbody tr th:only-of-type {\n",
       "        vertical-align: middle;\n",
       "    }\n",
       "\n",
       "    .dataframe tbody tr th {\n",
       "        vertical-align: top;\n",
       "    }\n",
       "\n",
       "    .dataframe thead th {\n",
       "        text-align: right;\n",
       "    }\n",
       "</style>\n",
       "<table border=\"1\" class=\"dataframe\">\n",
       "  <thead>\n",
       "    <tr style=\"text-align: right;\">\n",
       "      <th></th>\n",
       "      <th>Count</th>\n",
       "      <th>Node Types</th>\n",
       "    </tr>\n",
       "  </thead>\n",
       "  <tbody>\n",
       "    <tr>\n",
       "      <th>0</th>\n",
       "      <td>300</td>\n",
       "      <td>Drugs</td>\n",
       "    </tr>\n",
       "    <tr>\n",
       "      <th>1</th>\n",
       "      <td>9301</td>\n",
       "      <td>Genes/Proteins</td>\n",
       "    </tr>\n",
       "    <tr>\n",
       "      <th>2</th>\n",
       "      <td>86</td>\n",
       "      <td>Biological Processes</td>\n",
       "    </tr>\n",
       "  </tbody>\n",
       "</table>\n",
       "</div>"
      ],
      "text/plain": [
       "   Count            Node Types\n",
       "0    300                 Drugs\n",
       "1   9301        Genes/Proteins\n",
       "2     86  Biological Processes"
      ]
     },
     "execution_count": 15,
     "metadata": {},
     "output_type": "execute_result"
    }
   ],
   "source": [
    "data_nodes = {\n",
    "    'Count':[\n",
    "        len(drugs),\n",
    "        len(proteins), \n",
    "        len(bps), \n",
    "    ],\n",
    "    'Node Types':['Drugs','Genes/Proteins','Biological Processes']\n",
    "}\n",
    "\n",
    "node_df = pd.DataFrame(data=data_nodes)\n",
    "node_df.head()"
   ]
  },
  {
   "cell_type": "code",
   "execution_count": 16,
   "metadata": {},
   "outputs": [],
   "source": [
    "predicates = {'interacts': 'interacts\\n(Protein, Protein)',\n",
    " 'participates': 'participates\\n(Protein, BP)',\n",
    " 'downregulates': 'downregulates\\n(Drug, Protein)',\n",
    " 'upregulates': 'upregulates\\n(Drug, Protein)',\n",
    " 'induces': 'induces\\n(Drug, BP)'}"
   ]
  },
  {
   "cell_type": "code",
   "execution_count": 17,
   "metadata": {},
   "outputs": [],
   "source": [
    "relations = {predicates[key]: val for key, val in relations.items()}"
   ]
  },
  {
   "cell_type": "code",
   "execution_count": 18,
   "metadata": {},
   "outputs": [
    {
     "data": {
      "text/html": [
       "<div>\n",
       "<style scoped>\n",
       "    .dataframe tbody tr th:only-of-type {\n",
       "        vertical-align: middle;\n",
       "    }\n",
       "\n",
       "    .dataframe tbody tr th {\n",
       "        vertical-align: top;\n",
       "    }\n",
       "\n",
       "    .dataframe thead th {\n",
       "        text-align: right;\n",
       "    }\n",
       "</style>\n",
       "<table border=\"1\" class=\"dataframe\">\n",
       "  <thead>\n",
       "    <tr style=\"text-align: right;\">\n",
       "      <th></th>\n",
       "      <th>Edge Types</th>\n",
       "      <th>Count</th>\n",
       "    </tr>\n",
       "  </thead>\n",
       "  <tbody>\n",
       "    <tr>\n",
       "      <th>0</th>\n",
       "      <td>interacts\\n(Protein, Protein)</td>\n",
       "      <td>86786</td>\n",
       "    </tr>\n",
       "    <tr>\n",
       "      <th>1</th>\n",
       "      <td>participates\\n(Protein, BP)</td>\n",
       "      <td>4325</td>\n",
       "    </tr>\n",
       "    <tr>\n",
       "      <th>2</th>\n",
       "      <td>downregulates\\n(Drug, Protein)</td>\n",
       "      <td>2205</td>\n",
       "    </tr>\n",
       "    <tr>\n",
       "      <th>3</th>\n",
       "      <td>upregulates\\n(Drug, Protein)</td>\n",
       "      <td>1631</td>\n",
       "    </tr>\n",
       "    <tr>\n",
       "      <th>4</th>\n",
       "      <td>induces\\n(Drug, BP)</td>\n",
       "      <td>1622</td>\n",
       "    </tr>\n",
       "  </tbody>\n",
       "</table>\n",
       "</div>"
      ],
      "text/plain": [
       "                       Edge Types  Count\n",
       "0   interacts\\n(Protein, Protein)  86786\n",
       "1     participates\\n(Protein, BP)   4325\n",
       "2  downregulates\\n(Drug, Protein)   2205\n",
       "3    upregulates\\n(Drug, Protein)   1631\n",
       "4             induces\\n(Drug, BP)   1622"
      ]
     },
     "execution_count": 18,
     "metadata": {},
     "output_type": "execute_result"
    }
   ],
   "source": [
    "# Convert dictionary items to a list of tuples\n",
    "data_list = [(key, value) for key, value in relations.items()]\n",
    "\n",
    "# Create a DataFrame from the list of tuples\n",
    "edges_df = pd.DataFrame(data_list, columns=['Edge Types', 'Count'])\n",
    "edges_df"
   ]
  },
  {
   "cell_type": "code",
   "execution_count": 19,
   "metadata": {},
   "outputs": [
    {
     "data": {
      "image/png": "[encoded data removed]",
      "text/plain": [
       "<Figure size 720x720 with 2 Axes>"
      ]
     },
     "metadata": {},
     "output_type": "display_data"
    }
   ],
   "source": [
    "sns.set(rc={'figure.figsize':(10,10)})\n",
    "\n",
    "# grid lines\n",
    "sns.set_style(\"darkgrid\")\n",
    "\n",
    "plt.subplot(2, 1, 1)\n",
    "bx1 = sns.barplot(\n",
    "    x=\"Node Types\", y=\"Count\", data=node_df,\n",
    "    palette=['#F6A0D8','#FE9A6B', '#95F3CC']\n",
    ") \n",
    "plt.title(\n",
    "    'Distribution of Node Types', \n",
    "    fontsize=18, \n",
    "    fontweight=\"bold\"\n",
    ")\n",
    "plt.xlabel(\"Node Type\", fontsize=16, fontweight=\"bold\")\n",
    "plt.ylabel(\"Count\", fontsize=16, fontweight=\"bold\")\n",
    "plt.xticks(bx1.get_xticks(), labels=['Drug', 'Protein', 'Biological Process (BP)'], fontsize=16)\n",
    "plt.ylim(10, 15000)\n",
    "plt.yscale(\"log\") #the log transformation\n",
    "\n",
    "for p in bx1.patches:\n",
    "    _x = p.get_x() + p.get_width() / 2\n",
    "    _y = p.get_y() + p.get_height() + 50\n",
    "    value = int(p.get_height())\n",
    "    bx1.text(_x, _y, f'{value:,}', ha=\"center\") \n",
    "\n",
    "plt.subplot(2, 1, 2)\n",
    "bx2 = sns.barplot(\n",
    "    x=\"Edge Types\", y=\"Count\", data=edges_df, \n",
    "    color='#fe6b86'\n",
    ")\n",
    "plt.title(\n",
    "    'Distribution of Relations', \n",
    "    fontsize=18, \n",
    "    fontweight=\"bold\"\n",
    ")\n",
    "plt.xlabel(\"Edge Type\", fontsize=16, fontweight=\"bold\")\n",
    "plt.ylabel(\"Count\", fontsize=16, fontweight=\"bold\") \n",
    "plt.xticks(bx2.get_xticks(), labels=list(edges_df['Edge Types']), fontsize=16)\n",
    "plt.ylim(10, 150000)\n",
    "\n",
    "plt.yscale(\"log\") #the log transformation\n",
    "\n",
    "# Add counts above bars\n",
    "for p in bx2.patches:\n",
    "    _x = p.get_x() + p.get_width() / 2\n",
    "    _y = p.get_y() + p.get_height() + 50\n",
    "    value = int(p.get_height())\n",
    "    bx2.text(_x, _y, f'{value:,}', ha=\"center\")   \n",
    "\n",
    "\n",
    "plt.tight_layout()\n",
    "plt.savefig(\n",
    "    f'{FIG_DIR}/graph-stats.png',\n",
    "    dpi=400,\n",
    "    bbox_inches='tight', \n",
    ")\n",
    "plt.show()"
   ]
  },
  {
   "cell_type": "code",
   "execution_count": 20,
   "metadata": {},
   "outputs": [
    {
     "data": {
      "text/plain": [
       "0.898694197931013"
      ]
     },
     "execution_count": 20,
     "metadata": {},
     "output_type": "execute_result"
    }
   ],
   "source": [
    "ratio_interacts = edges_df.loc[edges_df['Edge Types']=='interacts\\n(Protein, Protein)']['Count'].sum() / edges_df['Count'].sum()\n",
    "ratio_interacts"
   ]
  },
  {
   "attachments": {},
   "cell_type": "markdown",
   "metadata": {},
   "source": [
    "### Protein-classed MoA-net:"
   ]
  },
  {
   "cell_type": "code",
   "execution_count": 21,
   "metadata": {},
   "outputs": [
    {
     "data": {
      "text/html": [
       "<div>\n",
       "<style scoped>\n",
       "    .dataframe tbody tr th:only-of-type {\n",
       "        vertical-align: middle;\n",
       "    }\n",
       "\n",
       "    .dataframe tbody tr th {\n",
       "        vertical-align: top;\n",
       "    }\n",
       "\n",
       "    .dataframe thead th {\n",
       "        text-align: right;\n",
       "    }\n",
       "</style>\n",
       "<table border=\"1\" class=\"dataframe\">\n",
       "  <thead>\n",
       "    <tr style=\"text-align: right;\">\n",
       "      <th></th>\n",
       "      <th>Count</th>\n",
       "      <th>Node Types</th>\n",
       "    </tr>\n",
       "  </thead>\n",
       "  <tbody>\n",
       "    <tr>\n",
       "      <th>0</th>\n",
       "      <td>300</td>\n",
       "      <td>Drugs</td>\n",
       "    </tr>\n",
       "    <tr>\n",
       "      <th>1</th>\n",
       "      <td>6833</td>\n",
       "      <td>Genes/Proteins</td>\n",
       "    </tr>\n",
       "    <tr>\n",
       "      <th>2</th>\n",
       "      <td>86</td>\n",
       "      <td>Biological Processes</td>\n",
       "    </tr>\n",
       "  </tbody>\n",
       "</table>\n",
       "</div>"
      ],
      "text/plain": [
       "   Count            Node Types\n",
       "0    300                 Drugs\n",
       "1   6833        Genes/Proteins\n",
       "2     86  Biological Processes"
      ]
     },
     "execution_count": 21,
     "metadata": {},
     "output_type": "execute_result"
    }
   ],
   "source": [
    "data_nodes = {\n",
    "    'Count':[\n",
    "        len(drugs_p),\n",
    "        len(proteins_p), \n",
    "        len(bps_p), \n",
    "    ],\n",
    "    'Node Types':['Drugs','Genes/Proteins','Biological Processes']\n",
    "}\n",
    "\n",
    "node_df = pd.DataFrame(data=data_nodes)\n",
    "node_df.head()"
   ]
  },
  {
   "cell_type": "code",
   "execution_count": 22,
   "metadata": {},
   "outputs": [],
   "source": [
    "predicates = {'interacts': 'interacts\\n(Protein, Protein)',\n",
    " 'participates': 'participates\\n(Protein, BP)',\n",
    " 'downregulates': 'downregulates\\n(Drug, Protein)',\n",
    " 'upregulates': 'upregulates\\n(Drug, Protein)',\n",
    " 'induces': 'induces\\n(Drug, BP)'}"
   ]
  },
  {
   "cell_type": "code",
   "execution_count": 23,
   "metadata": {},
   "outputs": [],
   "source": [
    "relations = {predicates[key]: val for key, val in relations_p.items()}"
   ]
  },
  {
   "cell_type": "code",
   "execution_count": 24,
   "metadata": {},
   "outputs": [
    {
     "data": {
      "text/html": [
       "<div>\n",
       "<style scoped>\n",
       "    .dataframe tbody tr th:only-of-type {\n",
       "        vertical-align: middle;\n",
       "    }\n",
       "\n",
       "    .dataframe tbody tr th {\n",
       "        vertical-align: top;\n",
       "    }\n",
       "\n",
       "    .dataframe thead th {\n",
       "        text-align: right;\n",
       "    }\n",
       "</style>\n",
       "<table border=\"1\" class=\"dataframe\">\n",
       "  <thead>\n",
       "    <tr style=\"text-align: right;\">\n",
       "      <th></th>\n",
       "      <th>Edge Types</th>\n",
       "      <th>Count</th>\n",
       "    </tr>\n",
       "  </thead>\n",
       "  <tbody>\n",
       "    <tr>\n",
       "      <th>0</th>\n",
       "      <td>interacts\\n(Protein, Protein)</td>\n",
       "      <td>78617</td>\n",
       "    </tr>\n",
       "    <tr>\n",
       "      <th>1</th>\n",
       "      <td>participates\\n(Protein, BP)</td>\n",
       "      <td>5027</td>\n",
       "    </tr>\n",
       "    <tr>\n",
       "      <th>2</th>\n",
       "      <td>downregulates\\n(Drug, Protein)</td>\n",
       "      <td>2486</td>\n",
       "    </tr>\n",
       "    <tr>\n",
       "      <th>3</th>\n",
       "      <td>upregulates\\n(Drug, Protein)</td>\n",
       "      <td>1949</td>\n",
       "    </tr>\n",
       "    <tr>\n",
       "      <th>4</th>\n",
       "      <td>induces\\n(Drug, BP)</td>\n",
       "      <td>1622</td>\n",
       "    </tr>\n",
       "  </tbody>\n",
       "</table>\n",
       "</div>"
      ],
      "text/plain": [
       "                       Edge Types  Count\n",
       "0   interacts\\n(Protein, Protein)  78617\n",
       "1     participates\\n(Protein, BP)   5027\n",
       "2  downregulates\\n(Drug, Protein)   2486\n",
       "3    upregulates\\n(Drug, Protein)   1949\n",
       "4             induces\\n(Drug, BP)   1622"
      ]
     },
     "execution_count": 24,
     "metadata": {},
     "output_type": "execute_result"
    }
   ],
   "source": [
    "# Convert dictionary items to a list of tuples\n",
    "data_list = [(key, value) for key, value in relations.items()]\n",
    "\n",
    "# Create a DataFrame from the list of tuples\n",
    "edges_df = pd.DataFrame(data_list, columns=['Edge Types', 'Count'])\n",
    "edges_df"
   ]
  },
  {
   "cell_type": "code",
   "execution_count": 25,
   "metadata": {},
   "outputs": [
    {
     "data": {
      "image/png": "[encoded data removed]",
      "text/plain": [
       "<Figure size 720x720 with 2 Axes>"
      ]
     },
     "metadata": {},
     "output_type": "display_data"
    }
   ],
   "source": [
    "sns.set(rc={'figure.figsize':(10,10)})\n",
    "\n",
    "# grid lines\n",
    "sns.set_style(\"darkgrid\")\n",
    "\n",
    "plt.subplot(2, 1, 1)\n",
    "bx1 = sns.barplot(\n",
    "    x=\"Node Types\", y=\"Count\", data=node_df,\n",
    "    palette=['#F6A0D8','#FE9A6B', '#95F3CC']\n",
    ") \n",
    "plt.title(\n",
    "    'Distribution of Node Types', \n",
    "    fontsize=18, \n",
    "    fontweight=\"bold\"\n",
    ")\n",
    "plt.xlabel(\"Node Type\", fontsize=16, fontweight=\"bold\")\n",
    "plt.ylabel(\"Count\", fontsize=16, fontweight=\"bold\")\n",
    "plt.xticks(bx1.get_xticks(), labels=['Drug', 'Protein', 'Biological Process (BP)'], fontsize=16)\n",
    "plt.ylim(10, 15000)\n",
    "plt.yscale(\"log\") #the log transformation\n",
    "\n",
    "for p in bx1.patches:\n",
    "    _x = p.get_x() + p.get_width() / 2\n",
    "    _y = p.get_y() + p.get_height() + 50\n",
    "    value = int(p.get_height())\n",
    "    bx1.text(_x, _y, f'{value:,}', ha=\"center\") \n",
    "\n",
    "plt.subplot(2, 1, 2)\n",
    "bx2 = sns.barplot(\n",
    "    x=\"Edge Types\", y=\"Count\", data=edges_df, \n",
    "    color='#fe6b86'\n",
    ")\n",
    "plt.title(\n",
    "    'Distribution of Relations', \n",
    "    fontsize=18, \n",
    "    fontweight=\"bold\"\n",
    ")\n",
    "plt.xlabel(\"Edge Type\", fontsize=16, fontweight=\"bold\")\n",
    "plt.ylabel(\"Count\", fontsize=16, fontweight=\"bold\") \n",
    "plt.xticks(bx2.get_xticks(), labels=list(edges_df['Edge Types']), fontsize=16)\n",
    "plt.ylim(10, 150000)\n",
    "\n",
    "plt.yscale(\"log\") #the log transformation\n",
    "\n",
    "# Add counts above bars\n",
    "for p in bx2.patches:\n",
    "    _x = p.get_x() + p.get_width() / 2\n",
    "    _y = p.get_y() + p.get_height() + 50\n",
    "    value = int(p.get_height())\n",
    "    bx2.text(_x, _y, f'{value:,}', ha=\"center\")   \n",
    "\n",
    "\n",
    "plt.tight_layout()\n",
    "plt.savefig(\n",
    "    f'{FIG_DIR}/graph-stats-protclassed.png',\n",
    "    dpi=400,\n",
    "    bbox_inches='tight', \n",
    ")\n",
    "plt.show()"
   ]
  },
  {
   "cell_type": "code",
   "execution_count": 26,
   "metadata": {},
   "outputs": [
    {
     "data": {
      "text/plain": [
       "0.876433930502447"
      ]
     },
     "execution_count": 26,
     "metadata": {},
     "output_type": "execute_result"
    }
   ],
   "source": [
    "ratio_interacts = edges_df.loc[edges_df['Edge Types']=='interacts\\n(Protein, Protein)']['Count'].sum() / edges_df['Count'].sum()\n",
    "ratio_interacts"
   ]
  }
 ],
 "metadata": {
  "kernelspec": {
   "display_name": "mln_env",
   "language": "python",
   "name": "mln_env"
  },
  "language_info": {
   "codemirror_mode": {
    "name": "ipython",
    "version": 3
   },
   "file_extension": ".py",
   "mimetype": "text/x-python",
   "name": "python",
   "nbconvert_exporter": "python",
   "pygments_lexer": "ipython3",
   "version": "3.6.9"
  },
  "pycharm": {
   "stem_cell": {
    "cell_type": "raw",
    "metadata": {
     "collapsed": false
    },
    "source": []
   }
  }
 },
 "nbformat": 4,
 "nbformat_minor": 4
}
