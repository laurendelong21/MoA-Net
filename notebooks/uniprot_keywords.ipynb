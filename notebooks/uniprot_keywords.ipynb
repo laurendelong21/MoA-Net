{
 "cells": [
  {
   "cell_type": "markdown",
   "id": "315c76a0",
   "metadata": {},
   "source": [
    "# Explore UniProt keywords\n",
    "\n",
    "url: https://www.uniprot.org/uniprotkb?facets=reviewed%3Atrue&query=%28taxonomy_id%3A9606%29\n",
    "1. Select the following columns:\n",
    "Entry\tEntry Name\tProtein Names\tGene Names\tOrganism\tKeywords HGNC\n",
    "\n",
    "2. Select Reviewed only (~20,500)"
   ]
  },
  {
   "cell_type": "code",
   "execution_count": 2,
   "id": "cf977342",
   "metadata": {},
   "outputs": [],
   "source": [
    "from collections import Counter\n",
    "\n",
    "import pandas as pd\n",
    "from tqdm import tqdm\n",
    "import seaborn as sns\n",
    "import matplotlib.pyplot as plt\n",
    "\n",
    "import os.path as osp\n",
    "import json"
   ]
  },
  {
   "cell_type": "markdown",
   "id": "83d3d4e8",
   "metadata": {},
   "source": [
    "Below, I downloaded the [UniProt table for human proteins](https://www.uniprot.org/uniprotkb?query=%28Human%29). I added on Keywords and HGNC as columns:"
   ]
  },
  {
   "cell_type": "code",
   "execution_count": 3,
   "id": "0c17a0e6",
   "metadata": {},
   "outputs": [],
   "source": [
    "MAPPING_DIR = '../data/mappings/'"
   ]
  },
  {
   "cell_type": "code",
   "execution_count": 4,
   "id": "89e078c0",
   "metadata": {},
   "outputs": [],
   "source": [
    "# Release 2022_05\n",
    "uniprot = pd.read_csv(\n",
    "    osp.join(MAPPING_DIR, 'uniprotkb_human_2023_08_30.tsv.gz'),\n",
    "    sep='\\t',\n",
    "    compression='gzip',\n",
    "    usecols=[\n",
    "        'Keywords',\n",
    "        'Entry',\n",
    "    ]\n",
    ")"
   ]
  },
  {
   "cell_type": "code",
   "execution_count": 5,
   "id": "1b98876a",
   "metadata": {},
   "outputs": [
    {
     "data": {
      "text/html": [
       "<div>\n",
       "<style scoped>\n",
       "    .dataframe tbody tr th:only-of-type {\n",
       "        vertical-align: middle;\n",
       "    }\n",
       "\n",
       "    .dataframe tbody tr th {\n",
       "        vertical-align: top;\n",
       "    }\n",
       "\n",
       "    .dataframe thead th {\n",
       "        text-align: right;\n",
       "    }\n",
       "</style>\n",
       "<table border=\"1\" class=\"dataframe\">\n",
       "  <thead>\n",
       "    <tr style=\"text-align: right;\">\n",
       "      <th></th>\n",
       "      <th>Entry</th>\n",
       "      <th>Keywords</th>\n",
       "    </tr>\n",
       "  </thead>\n",
       "  <tbody>\n",
       "    <tr>\n",
       "      <th>0</th>\n",
       "      <td>A0A023HI18</td>\n",
       "      <td>Apoptosis;Clathrin-mediated endocytosis of vir...</td>\n",
       "    </tr>\n",
       "    <tr>\n",
       "      <th>1</th>\n",
       "      <td>A0A023HIB6</td>\n",
       "      <td>Acetylation;Activator;Apoptosis;Host cytoplasm...</td>\n",
       "    </tr>\n",
       "    <tr>\n",
       "      <th>2</th>\n",
       "      <td>A0A023HIP6</td>\n",
       "      <td>Apoptosis;Clathrin-mediated endocytosis of vir...</td>\n",
       "    </tr>\n",
       "    <tr>\n",
       "      <th>3</th>\n",
       "      <td>A0A023HIT0</td>\n",
       "      <td>Apoptosis;Early protein;Host cell membrane;Hos...</td>\n",
       "    </tr>\n",
       "    <tr>\n",
       "      <th>4</th>\n",
       "      <td>A0A023HIT3</td>\n",
       "      <td>Acetylation;Activator;Apoptosis;Host cytoplasm...</td>\n",
       "    </tr>\n",
       "    <tr>\n",
       "      <th>5</th>\n",
       "      <td>A0A023J4Z7</td>\n",
       "      <td>3D-structure;Disulfide bond;Fusion of virus me...</td>\n",
       "    </tr>\n",
       "    <tr>\n",
       "      <th>6</th>\n",
       "      <td>A0A023J501</td>\n",
       "      <td>Disulfide bond;Fusion of virus membrane with h...</td>\n",
       "    </tr>\n",
       "    <tr>\n",
       "      <th>7</th>\n",
       "      <td>A0A023J521</td>\n",
       "      <td>Activation of host autophagy by virus;ATP-bind...</td>\n",
       "    </tr>\n",
       "    <tr>\n",
       "      <th>8</th>\n",
       "      <td>A0A023J560</td>\n",
       "      <td>Disulfide bond;Fusion of virus membrane with h...</td>\n",
       "    </tr>\n",
       "    <tr>\n",
       "      <th>9</th>\n",
       "      <td>A0A023J5A2</td>\n",
       "      <td>Disulfide bond;Fusion of virus membrane with h...</td>\n",
       "    </tr>\n",
       "  </tbody>\n",
       "</table>\n",
       "</div>"
      ],
      "text/plain": [
       "        Entry                                           Keywords\n",
       "0  A0A023HI18  Apoptosis;Clathrin-mediated endocytosis of vir...\n",
       "1  A0A023HIB6  Acetylation;Activator;Apoptosis;Host cytoplasm...\n",
       "2  A0A023HIP6  Apoptosis;Clathrin-mediated endocytosis of vir...\n",
       "3  A0A023HIT0  Apoptosis;Early protein;Host cell membrane;Hos...\n",
       "4  A0A023HIT3  Acetylation;Activator;Apoptosis;Host cytoplasm...\n",
       "5  A0A023J4Z7  3D-structure;Disulfide bond;Fusion of virus me...\n",
       "6  A0A023J501  Disulfide bond;Fusion of virus membrane with h...\n",
       "7  A0A023J521  Activation of host autophagy by virus;ATP-bind...\n",
       "8  A0A023J560  Disulfide bond;Fusion of virus membrane with h...\n",
       "9  A0A023J5A2  Disulfide bond;Fusion of virus membrane with h..."
      ]
     },
     "execution_count": 5,
     "metadata": {},
     "output_type": "execute_result"
    }
   ],
   "source": [
    "uniprot.head(10)"
   ]
  },
  {
   "cell_type": "markdown",
   "id": "66b13cc4",
   "metadata": {},
   "source": [
    "Get our KG and all the protein nodes inside. We are getting the KG which includes the test set:"
   ]
  },
  {
   "cell_type": "code",
   "execution_count": 6,
   "id": "08776b4c",
   "metadata": {},
   "outputs": [],
   "source": [
    "KG_DIR = '../data/kg'"
   ]
  },
  {
   "cell_type": "code",
   "execution_count": 7,
   "id": "57a2e289",
   "metadata": {},
   "outputs": [],
   "source": [
    "kg = pd.read_csv(osp.join(KG_DIR, 'full_final_kg.tsv'), sep='\\t')"
   ]
  },
  {
   "cell_type": "markdown",
   "id": "e6116973",
   "metadata": {},
   "source": [
    "Get the proteins:"
   ]
  },
  {
   "cell_type": "code",
   "execution_count": 8,
   "id": "a145f19b",
   "metadata": {},
   "outputs": [
    {
     "data": {
      "text/plain": [
       "4037"
      ]
     },
     "execution_count": 8,
     "metadata": {},
     "output_type": "execute_result"
    }
   ],
   "source": [
    "target_sets = set(kg[kg['target'].str.startswith('ncbigene')]['target'].tolist())\n",
    "source_sets = set(kg[kg['source'].str.startswith('ncbigene')]['source'].tolist())\n",
    "proteins_in_kg = target_sets.union(source_sets)\n",
    "len(proteins_in_kg)"
   ]
  },
  {
   "cell_type": "markdown",
   "id": "bfa6d9a0",
   "metadata": {},
   "source": [
    "Next, let's get a mapping from UniProt to NCBI gene ID:"
   ]
  },
  {
   "cell_type": "code",
   "execution_count": 9,
   "id": "2f29c6fe",
   "metadata": {},
   "outputs": [],
   "source": [
    "with open(osp.join(MAPPING_DIR, 'uniprot2ncbi.json')) as f:\n",
    "    uniprot2ncbi = json.load(f)"
   ]
  },
  {
   "cell_type": "markdown",
   "id": "32898490",
   "metadata": {},
   "source": [
    "Get the valid protein classes:"
   ]
  },
  {
   "cell_type": "code",
   "execution_count": 10,
   "id": "dbe7617c",
   "metadata": {},
   "outputs": [],
   "source": [
    "valid_keywords = pd.read_csv(\n",
    "    osp.join(MAPPING_DIR, 'molecular_function.tsv'),\n",
    "    sep='\\t',\n",
    ")"
   ]
  },
  {
   "cell_type": "code",
   "execution_count": 11,
   "id": "55616cfb",
   "metadata": {},
   "outputs": [
    {
     "data": {
      "text/html": [
       "<div>\n",
       "<style scoped>\n",
       "    .dataframe tbody tr th:only-of-type {\n",
       "        vertical-align: middle;\n",
       "    }\n",
       "\n",
       "    .dataframe tbody tr th {\n",
       "        vertical-align: top;\n",
       "    }\n",
       "\n",
       "    .dataframe thead th {\n",
       "        text-align: right;\n",
       "    }\n",
       "</style>\n",
       "<table border=\"1\" class=\"dataframe\">\n",
       "  <thead>\n",
       "    <tr style=\"text-align: right;\">\n",
       "      <th></th>\n",
       "      <th>Keyword ID</th>\n",
       "      <th>Name</th>\n",
       "      <th>Category</th>\n",
       "      <th>Gene Ontologies</th>\n",
       "    </tr>\n",
       "  </thead>\n",
       "  <tbody>\n",
       "    <tr>\n",
       "      <th>0</th>\n",
       "      <td>KW-0008</td>\n",
       "      <td>Acetylcholine receptor inhibiting toxin</td>\n",
       "      <td>Molecular function</td>\n",
       "      <td>GO:0030550:acetylcholine receptor inhibitor ac...</td>\n",
       "    </tr>\n",
       "    <tr>\n",
       "      <th>1</th>\n",
       "      <td>KW-0009</td>\n",
       "      <td>Actin-binding</td>\n",
       "      <td>Molecular function</td>\n",
       "      <td>GO:0003779:actin binding</td>\n",
       "    </tr>\n",
       "    <tr>\n",
       "      <th>2</th>\n",
       "      <td>KW-0010</td>\n",
       "      <td>Activator</td>\n",
       "      <td>Molecular function</td>\n",
       "      <td>NaN</td>\n",
       "    </tr>\n",
       "    <tr>\n",
       "      <th>3</th>\n",
       "      <td>KW-0012</td>\n",
       "      <td>Acyltransferase</td>\n",
       "      <td>Molecular function</td>\n",
       "      <td>GO:0016746:acyltransferase activity</td>\n",
       "    </tr>\n",
       "    <tr>\n",
       "      <th>4</th>\n",
       "      <td>KW-0021</td>\n",
       "      <td>Allosteric enzyme</td>\n",
       "      <td>Molecular function</td>\n",
       "      <td>GO:0003824:catalytic activity, GO:0008152:meta...</td>\n",
       "    </tr>\n",
       "    <tr>\n",
       "      <th>...</th>\n",
       "      <td>...</td>\n",
       "      <td>...</td>\n",
       "      <td>...</td>\n",
       "      <td>...</td>\n",
       "    </tr>\n",
       "    <tr>\n",
       "      <th>193</th>\n",
       "      <td>KW-1244</td>\n",
       "      <td>Viral short tail ejection system</td>\n",
       "      <td>Molecular function</td>\n",
       "      <td>GO:0099002:viral genome ejection through host ...</td>\n",
       "    </tr>\n",
       "    <tr>\n",
       "      <th>194</th>\n",
       "      <td>KW-1255</td>\n",
       "      <td>Viral exotoxin</td>\n",
       "      <td>Molecular function</td>\n",
       "      <td>NaN</td>\n",
       "    </tr>\n",
       "    <tr>\n",
       "      <th>195</th>\n",
       "      <td>KW-1265</td>\n",
       "      <td>Chloride channel impairing toxin</td>\n",
       "      <td>Molecular function</td>\n",
       "      <td>NaN</td>\n",
       "    </tr>\n",
       "    <tr>\n",
       "      <th>196</th>\n",
       "      <td>KW-1275</td>\n",
       "      <td>Proton-gated sodium channel impairing toxin</td>\n",
       "      <td>Molecular function</td>\n",
       "      <td>NaN</td>\n",
       "    </tr>\n",
       "    <tr>\n",
       "      <th>197</th>\n",
       "      <td>KW-1278</td>\n",
       "      <td>Translocase</td>\n",
       "      <td>Molecular function</td>\n",
       "      <td>NaN</td>\n",
       "    </tr>\n",
       "  </tbody>\n",
       "</table>\n",
       "<p>198 rows × 4 columns</p>\n",
       "</div>"
      ],
      "text/plain": [
       "    Keyword ID                                         Name  \\\n",
       "0      KW-0008      Acetylcholine receptor inhibiting toxin   \n",
       "1      KW-0009                                Actin-binding   \n",
       "2      KW-0010                                    Activator   \n",
       "3      KW-0012                              Acyltransferase   \n",
       "4      KW-0021                            Allosteric enzyme   \n",
       "..         ...                                          ...   \n",
       "193    KW-1244             Viral short tail ejection system   \n",
       "194    KW-1255                               Viral exotoxin   \n",
       "195    KW-1265             Chloride channel impairing toxin   \n",
       "196    KW-1275  Proton-gated sodium channel impairing toxin   \n",
       "197    KW-1278                                  Translocase   \n",
       "\n",
       "               Category                                    Gene Ontologies  \n",
       "0    Molecular function  GO:0030550:acetylcholine receptor inhibitor ac...  \n",
       "1    Molecular function                           GO:0003779:actin binding  \n",
       "2    Molecular function                                                NaN  \n",
       "3    Molecular function                GO:0016746:acyltransferase activity  \n",
       "4    Molecular function  GO:0003824:catalytic activity, GO:0008152:meta...  \n",
       "..                  ...                                                ...  \n",
       "193  Molecular function  GO:0099002:viral genome ejection through host ...  \n",
       "194  Molecular function                                                NaN  \n",
       "195  Molecular function                                                NaN  \n",
       "196  Molecular function                                                NaN  \n",
       "197  Molecular function                                                NaN  \n",
       "\n",
       "[198 rows x 4 columns]"
      ]
     },
     "execution_count": 11,
     "metadata": {},
     "output_type": "execute_result"
    }
   ],
   "source": [
    "valid_keywords"
   ]
  },
  {
   "cell_type": "code",
   "execution_count": 12,
   "id": "ae48f55f",
   "metadata": {},
   "outputs": [],
   "source": [
    "molecular_functions = valid_keywords.Name.unique()"
   ]
  },
  {
   "cell_type": "markdown",
   "id": "e4943f6c",
   "metadata": {},
   "source": [
    "Now, we'll make a dictionary mapping each of our KG proteins to their protein class (or keywords):"
   ]
  },
  {
   "cell_type": "code",
   "execution_count": 13,
   "id": "a6ec895b",
   "metadata": {},
   "outputs": [
    {
     "name": "stderr",
     "output_type": "stream",
     "text": [
      "100%|██████████| 6736891/6736891 [00:04<00:00, 1438719.94it/s]\n"
     ]
    }
   ],
   "source": [
    "all_keywords = []\n",
    "\n",
    "not_mapped = 0\n",
    "no_keywords = 0\n",
    "\n",
    "protein_to_keywords = {}\n",
    "\n",
    "for prot_name, keywords in tqdm(uniprot.values):\n",
    "    # Map from UniProt to NCBI\n",
    "    if 'UniProt:' + str(prot_name) not in uniprot2ncbi:\n",
    "        not_mapped += 1\n",
    "        continue\n",
    "    \n",
    "    \"\"\"Get keywords\"\"\"\n",
    "    protein_keywords = set()\n",
    "    \n",
    "    for keyword in keywords.split(';'):\n",
    "        \n",
    "        if keyword not in molecular_functions:\n",
    "            continue\n",
    "        \n",
    "        protein_keywords.add(keyword.strip())\n",
    "        all_keywords.append(keyword.strip())\n",
    "        \n",
    "    if not protein_keywords:\n",
    "        no_keywords += 1\n",
    "        continue\n",
    "        \n",
    "    protein_to_keywords[uniprot2ncbi['UniProt:' + str(prot_name)]] = protein_keywords"
   ]
  },
  {
   "cell_type": "code",
   "execution_count": 14,
   "id": "1893e594",
   "metadata": {},
   "outputs": [
    {
     "data": {
      "text/plain": [
       "(11215, 8886, 6716790, 130)"
      ]
     },
     "execution_count": 14,
     "metadata": {},
     "output_type": "execute_result"
    }
   ],
   "source": [
    "len(protein_to_keywords), no_keywords, not_mapped, len(set(all_keywords))"
   ]
  },
  {
   "cell_type": "markdown",
   "id": "dfd63292",
   "metadata": {},
   "source": [
    "Which keywords are most common? "
   ]
  },
  {
   "cell_type": "code",
   "execution_count": 15,
   "id": "69c63507",
   "metadata": {},
   "outputs": [],
   "source": [
    "valid_keywords = [\n",
    "    k\n",
    "    for k, c in Counter(all_keywords).items()\n",
    "    if c > 50\n",
    "]"
   ]
  },
  {
   "cell_type": "code",
   "execution_count": 16,
   "id": "32d9f3e8",
   "metadata": {},
   "outputs": [
    {
     "data": {
      "text/plain": [
       "61"
      ]
     },
     "execution_count": 16,
     "metadata": {},
     "output_type": "execute_result"
    }
   ],
   "source": [
    "len(valid_keywords)"
   ]
  },
  {
   "cell_type": "markdown",
   "id": "d1931378",
   "metadata": {},
   "source": [
    "Removing superclasses and keywords with a few proteins"
   ]
  },
  {
   "cell_type": "code",
   "execution_count": 17,
   "id": "67fdc968",
   "metadata": {},
   "outputs": [],
   "source": [
    "protein_to_keywords = {\n",
    "    protein: {\n",
    "        keyword\n",
    "        for keyword in keywords\n",
    "        if keyword in valid_keywords and keyword not in [\n",
    "            'Transducer',\n",
    "            'Serine/threonine-protein kinase',\n",
    "            'Activator',\n",
    "        ]\n",
    "    }\n",
    "    for protein, keywords in protein_to_keywords.items()\n",
    "}"
   ]
  },
  {
   "cell_type": "code",
   "execution_count": 22,
   "id": "c5bfbcc7",
   "metadata": {},
   "outputs": [
    {
     "data": {
      "text/plain": [
       "(2932, 1105)"
      ]
     },
     "execution_count": 22,
     "metadata": {},
     "output_type": "execute_result"
    }
   ],
   "source": [
    "kg_nodes_with_keywords = 0\n",
    "kg_nodes_without = 0\n",
    "number_of_keywords = {}\n",
    "\n",
    "keywords_in_nodes = []\n",
    "\n",
    "for node in proteins_in_kg:\n",
    "    \n",
    "    if node not in protein_to_keywords:\n",
    "        kg_nodes_without += 1\n",
    "    else:\n",
    "        kg_nodes_with_keywords += 1\n",
    "        number_of_keywords[node] = len(protein_to_keywords[node])\n",
    "        \n",
    "        # For the ones with multiple keywords, see what they are\n",
    "        if len(protein_to_keywords[node]) > 1:\n",
    "            for keyword in protein_to_keywords[node]:\n",
    "                keywords_in_nodes.append(keyword)\n",
    "\n",
    "kg_nodes_with_keywords, kg_nodes_without"
   ]
  },
  {
   "cell_type": "code",
   "execution_count": 23,
   "id": "9a220a25",
   "metadata": {},
   "outputs": [
    {
     "data": {
      "text/plain": [
       "[('Receptor', 417),\n",
       " ('Transferase', 388),\n",
       " ('DNA-binding', 293),\n",
       " ('Hydrolase', 292),\n",
       " ('Kinase', 269),\n",
       " ('G-protein coupled receptor', 246),\n",
       " ('Developmental protein', 200),\n",
       " ('Repressor', 166),\n",
       " ('RNA-binding', 128),\n",
       " ('Ion channel', 113),\n",
       " ('Protease', 96),\n",
       " ('Chromatin regulator', 80),\n",
       " ('Ribonucleoprotein', 79),\n",
       " ('Tyrosine-protein kinase', 64),\n",
       " ('Oxidoreductase', 63),\n",
       " ('Voltage-gated channel', 55),\n",
       " ('Growth factor', 55),\n",
       " ('Helicase', 51),\n",
       " ('Protein phosphatase', 50),\n",
       " ('Calmodulin-binding', 41),\n",
       " ('Cytokine', 38),\n",
       " ('Ribosomal protein', 38),\n",
       " ('Ligand-gated ion channel', 37),\n",
       " ('Heparin-binding', 34),\n",
       " ('Serine protease', 33),\n",
       " ('Nuclease', 32),\n",
       " ('Calcium channel', 31),\n",
       " ('Metalloprotease', 30),\n",
       " ('Host cell receptor for virus entry', 30),\n",
       " ('Methyltransferase', 29),\n",
       " ('Monooxygenase', 29),\n",
       " ('Acyltransferase', 26),\n",
       " ('Protease inhibitor', 25),\n",
       " ('Thiol protease', 24),\n",
       " ('Allosteric enzyme', 24),\n",
       " ('Glycosyltransferase', 21),\n",
       " ('Chaperone', 21),\n",
       " ('Serine protease inhibitor', 21),\n",
       " ('Potassium channel', 21),\n",
       " ('Endonuclease', 20),\n",
       " ('Nucleotidyltransferase', 19),\n",
       " ('Actin-binding', 19),\n",
       " ('Motor protein', 18),\n",
       " ('Lyase', 18),\n",
       " ('Isomerase', 17),\n",
       " ('Chloride channel', 17),\n",
       " ('Glycosidase', 15),\n",
       " ('Antimicrobial', 15),\n",
       " ('Exonuclease', 15),\n",
       " ('Antibiotic', 14),\n",
       " ('Multifunctional enzyme', 14),\n",
       " ('Dioxygenase', 13),\n",
       " ('Muscle protein', 12),\n",
       " ('Hormone', 12),\n",
       " ('GTPase activation', 7),\n",
       " ('Guanine-nucleotide releasing factor', 5),\n",
       " ('Ligase', 4),\n",
       " ('Translocase', 4)]"
      ]
     },
     "execution_count": 23,
     "metadata": {},
     "output_type": "execute_result"
    }
   ],
   "source": [
    "Counter(keywords_in_nodes).most_common()"
   ]
  },
  {
   "cell_type": "code",
   "execution_count": 24,
   "id": "481d8761",
   "metadata": {},
   "outputs": [
    {
     "data": {
      "text/plain": [
       "Text(-3.6805555555555554, 0.5, 'Number of nodes')"
      ]
     },
     "execution_count": 24,
     "metadata": {},
     "output_type": "execute_result"
    },
    {
     "data": {
      "image/png": "[encoded data removed]",
      "text/plain": [
       "<Figure size 500x500 with 1 Axes>"
      ]
     },
     "metadata": {},
     "output_type": "display_data"
    }
   ],
   "source": [
    "sns.displot(list(number_of_keywords.values()))\n",
    "# add x axis label\n",
    "plt.xlabel(\"Number of protein functional keywords\")\n",
    "# add y axis label\n",
    "plt.ylabel(\"Number of nodes\")"
   ]
  },
  {
   "cell_type": "code",
   "execution_count": null,
   "id": "b766b1e0",
   "metadata": {},
   "outputs": [],
   "source": []
  }
 ],
 "metadata": {
  "kernelspec": {
   "display_name": "Python 3 (ipykernel)",
   "language": "python",
   "name": "python3"
  },
  "language_info": {
   "codemirror_mode": {
    "name": "ipython",
    "version": 3
   },
   "file_extension": ".py",
   "mimetype": "text/x-python",
   "name": "python",
   "nbconvert_exporter": "python",
   "pygments_lexer": "ipython3",
   "version": "3.9.6"
  }
 },
 "nbformat": 4,
 "nbformat_minor": 5
}
