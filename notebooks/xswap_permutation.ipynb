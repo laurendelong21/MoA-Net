{
 "cells": [
  {
   "attachments": {},
   "cell_type": "markdown",
   "metadata": {},
   "source": [
    "# Graph Permutation via XSWAP\n",
    "\n",
    "Here, we use the XSwap algorithm as implemented in [Zietz et al.](https://academic.oup.com/gigascience/article/doi/10.1093/gigascience/giae001/7602464)\n",
    "\n",
    "This is to create an ablation of MoA-net in which we can test how much of the performance is attributable to node degree bias.\n",
    "\n",
    "Code adapted from https://github.com/drug2ways/drug2ways/blob/master/src/drug2ways/permute.py"
   ]
  },
  {
   "cell_type": "code",
   "execution_count": 1,
   "metadata": {},
   "outputs": [],
   "source": [
    "import os\n",
    "from tqdm import tqdm\n",
    "from collections import Counter\n",
    "import numpy as np\n",
    "import pandas as pd\n",
    "import re\n",
    "import json\n",
    "\n",
    "from xswap.permute import permute_edge_list\n",
    "from xswap.preprocessing import load_str_edges, map_str_edges\n",
    "\n",
    "import hetnetpy.hetnet\n",
    "import hetnetpy.readwrite\n",
    "import hetnetpy.stats\n",
    "from hetnetpy.abbreviation import metaedges_from_metapath\n"
   ]
  },
  {
   "cell_type": "markdown",
   "metadata": {},
   "source": [
    "# Load graph"
   ]
  },
  {
   "cell_type": "code",
   "execution_count": 2,
   "metadata": {},
   "outputs": [],
   "source": [
    "KG_DATA_PATH = '../data/kg/splits'\n",
    "\n",
    "MoA_net = os.path.join(KG_DATA_PATH, 'MoA-net')\n",
    "\n",
    "PERMUTED_KG_PATH  = os.path.join(KG_DATA_PATH, 'MoA-net-permuted')\n",
    "os.makedirs(PERMUTED_KG_PATH, exist_ok=True)"
   ]
  },
  {
   "cell_type": "code",
   "execution_count": 3,
   "metadata": {},
   "outputs": [
    {
     "data": {
      "text/html": [
       "<div>\n",
       "<style scoped>\n",
       "    .dataframe tbody tr th:only-of-type {\n",
       "        vertical-align: middle;\n",
       "    }\n",
       "\n",
       "    .dataframe tbody tr th {\n",
       "        vertical-align: top;\n",
       "    }\n",
       "\n",
       "    .dataframe thead th {\n",
       "        text-align: right;\n",
       "    }\n",
       "</style>\n",
       "<table border=\"1\" class=\"dataframe\">\n",
       "  <thead>\n",
       "    <tr style=\"text-align: right;\">\n",
       "      <th></th>\n",
       "      <th>source</th>\n",
       "      <th>target</th>\n",
       "      <th>edge_type</th>\n",
       "    </tr>\n",
       "  </thead>\n",
       "  <tbody>\n",
       "    <tr>\n",
       "      <th>0</th>\n",
       "      <td>ncbigene:5602</td>\n",
       "      <td>ncbigene:2354</td>\n",
       "      <td>interacts</td>\n",
       "    </tr>\n",
       "    <tr>\n",
       "      <th>1</th>\n",
       "      <td>ncbigene:8021</td>\n",
       "      <td>ncbigene:6430</td>\n",
       "      <td>interacts</td>\n",
       "    </tr>\n",
       "  </tbody>\n",
       "</table>\n",
       "</div>"
      ],
      "text/plain": [
       "          source         target  edge_type\n",
       "0  ncbigene:5602  ncbigene:2354  interacts\n",
       "1  ncbigene:8021  ncbigene:6430  interacts"
      ]
     },
     "execution_count": 3,
     "metadata": {},
     "output_type": "execute_result"
    }
   ],
   "source": [
    "network_df = pd.read_csv(\n",
    "    os.path.join(MoA_net, 'kg_with_train_smpls.tsv'), sep='\\t',\n",
    "    usecols=['source', 'target', 'edge_type']\n",
    ")\n",
    "network_df.drop_duplicates(subset=['source', 'target'], inplace=True)\n",
    "network_df.head(2)"
   ]
  },
  {
   "cell_type": "code",
   "execution_count": 4,
   "metadata": {},
   "outputs": [
    {
     "data": {
      "text/plain": [
       "Counter({'interacts': 86786,\n",
       "         'participates': 4325,\n",
       "         'downregulates': 2201,\n",
       "         'upregulates': 1625,\n",
       "         'induces': 986})"
      ]
     },
     "execution_count": 4,
     "metadata": {},
     "output_type": "execute_result"
    }
   ],
   "source": [
    "relations = network_df.edge_type\n",
    "Counter(relations)"
   ]
  },
  {
   "attachments": {},
   "cell_type": "markdown",
   "metadata": {},
   "source": [
    "### Split data based on edge types:"
   ]
  },
  {
   "cell_type": "code",
   "execution_count": 5,
   "metadata": {},
   "outputs": [
    {
     "data": {
      "text/plain": [
       "((86786, 3), (986, 3), (4325, 3), (3826, 3))"
      ]
     },
     "execution_count": 5,
     "metadata": {},
     "output_type": "execute_result"
    }
   ],
   "source": [
    "protein_df = network_df[network_df['edge_type'] == 'interacts']\n",
    "cmp_bp_df = network_df[network_df['edge_type'] == 'induces']\n",
    "gene_bp_df = network_df[network_df['edge_type'] == 'participates']\n",
    "drug_gene_df = network_df[network_df['edge_type'].isin({'downregulates', 'upregulates'})]\n",
    "\n",
    "protein_df.shape, cmp_bp_df.shape, gene_bp_df.shape, drug_gene_df.shape"
   ]
  },
  {
   "cell_type": "code",
   "execution_count": 6,
   "metadata": {},
   "outputs": [],
   "source": [
    "EDGE_TYPES = os.path.join(PERMUTED_KG_PATH, 'edge_classes')\n",
    "os.makedirs(EDGE_TYPES, exist_ok=True)"
   ]
  },
  {
   "cell_type": "code",
   "execution_count": 7,
   "metadata": {},
   "outputs": [],
   "source": [
    "protein_df.to_csv(os.path.join(EDGE_TYPES, 'kg_protein.tsv'), sep='\\t', index=False, header=False)\n",
    "cmp_bp_df.to_csv(os.path.join(EDGE_TYPES, 'kg_cmp_bp.tsv'), sep='\\t', index=False, header=False)\n",
    "gene_bp_df.to_csv(os.path.join(EDGE_TYPES, 'kg_gene_bp.tsv'), sep='\\t', index=False, header=False)\n",
    "drug_gene_df.to_csv(os.path.join(EDGE_TYPES, 'kg_drug_gene.tsv'), sep='\\t', index=False, header=False)"
   ]
  },
  {
   "cell_type": "markdown",
   "metadata": {},
   "source": [
    "# Generate permuted network"
   ]
  },
  {
   "cell_type": "code",
   "execution_count": 8,
   "metadata": {},
   "outputs": [
    {
     "name": "stderr",
     "output_type": "stream",
     "text": [
      "100%|██████████| 4/4 [00:01<00:00,  3.28it/s]"
     ]
    },
    {
     "name": "stdout",
     "output_type": "stream",
     "text": [
      "{'swap_attempts': 867860, 'same_edge': 10, 'self_loop': 810, 'duplicate': 114331, 'undir_duplicate': 29425, 'excluded': 0}\n",
      "{'swap_attempts': 9860, 'same_edge': 14, 'self_loop': 0, 'duplicate': 5404, 'undir_duplicate': 0, 'excluded': 0}\n",
      "{'swap_attempts': 43250, 'same_edge': 7, 'self_loop': 0, 'duplicate': 5836, 'undir_duplicate': 0, 'excluded': 0}\n",
      "{'swap_attempts': 38260, 'same_edge': 8, 'self_loop': 0, 'duplicate': 6972, 'undir_duplicate': 0, 'excluded': 0}\n"
     ]
    },
    {
     "name": "stderr",
     "output_type": "stream",
     "text": [
      "\n"
     ]
    }
   ],
   "source": [
    "final_data = []\n",
    "\n",
    "for subgraph in tqdm(['kg_protein', 'kg_cmp_bp', 'kg_gene_bp', 'kg_drug_gene']):\n",
    "\n",
    "    network_df = pd.read_csv(\n",
    "        os.path.join(EDGE_TYPES, f'{subgraph}.tsv'), \n",
    "        sep='\\t',\n",
    "        names=['source', 'target', 'edge_type']\n",
    "    )\n",
    "    # Read edge list\n",
    "    edge_list = load_str_edges(\n",
    "        os.path.join(EDGE_TYPES, f'{subgraph}.tsv'), \n",
    "        node_delim='\\t',\n",
    "    )\n",
    "\n",
    "    # Get mapping since the edge list contains now integers\n",
    "    edge_list_integers, node_mapping, _ = map_str_edges(edge_list, bipartite=False)\n",
    "\n",
    "    np.random.seed(123)  # Set seed for reproducibility\n",
    "    permuted_edges, stats = permute_edge_list(edge_list_integers)\n",
    "    print(stats)\n",
    "\n",
    "    # Reverse mapping dictionary\n",
    "    node_mapping = {\n",
    "        v: k\n",
    "        for k, v in node_mapping.items()\n",
    "    }\n",
    "\n",
    "    relations = network_df.edge_type\n",
    "\n",
    "    permuted_rels = np.random.permutation(relations, ) # Get random edges\n",
    "\n",
    "    permuted_kg = pd.DataFrame({\n",
    "            'source': node_mapping[source],\n",
    "            'target': node_mapping[target],\n",
    "            'relation': permuted_rels[index],\n",
    "        }\n",
    "        for index, (source, target) in enumerate(permuted_edges)\n",
    "        if index < len(permuted_rels)  # Skip the header if has been read by xswap\n",
    "    )\n",
    "    final_data.append(permuted_kg)\n"
   ]
  },
  {
   "attachments": {},
   "cell_type": "markdown",
   "metadata": {},
   "source": [
    "### Put all the permuted edges back into one KG:"
   ]
  },
  {
   "cell_type": "code",
   "execution_count": 9,
   "metadata": {},
   "outputs": [
    {
     "data": {
      "text/html": [
       "<div>\n",
       "<style scoped>\n",
       "    .dataframe tbody tr th:only-of-type {\n",
       "        vertical-align: middle;\n",
       "    }\n",
       "\n",
       "    .dataframe tbody tr th {\n",
       "        vertical-align: top;\n",
       "    }\n",
       "\n",
       "    .dataframe thead th {\n",
       "        text-align: right;\n",
       "    }\n",
       "</style>\n",
       "<table border=\"1\" class=\"dataframe\">\n",
       "  <thead>\n",
       "    <tr style=\"text-align: right;\">\n",
       "      <th></th>\n",
       "      <th>source</th>\n",
       "      <th>target</th>\n",
       "      <th>edge_type</th>\n",
       "    </tr>\n",
       "  </thead>\n",
       "  <tbody>\n",
       "    <tr>\n",
       "      <th>0</th>\n",
       "      <td>ncbigene:5602</td>\n",
       "      <td>ncbigene:10905</td>\n",
       "      <td>interacts</td>\n",
       "    </tr>\n",
       "    <tr>\n",
       "      <th>1</th>\n",
       "      <td>ncbigene:8021</td>\n",
       "      <td>ncbigene:4352</td>\n",
       "      <td>interacts</td>\n",
       "    </tr>\n",
       "  </tbody>\n",
       "</table>\n",
       "</div>"
      ],
      "text/plain": [
       "          source          target  edge_type\n",
       "0  ncbigene:5602  ncbigene:10905  interacts\n",
       "1  ncbigene:8021   ncbigene:4352  interacts"
      ]
     },
     "execution_count": 9,
     "metadata": {},
     "output_type": "execute_result"
    }
   ],
   "source": [
    "permuted_kg = pd.concat(final_data)\n",
    "permuted_kg.rename(columns={'relation': 'edge_type'}, inplace=True)\n",
    "permuted_kg.head(2)"
   ]
  },
  {
   "cell_type": "code",
   "execution_count": 10,
   "metadata": {},
   "outputs": [],
   "source": [
    "def map_to_nodetype(id):\n",
    "    if 'ncbigene:' in id:\n",
    "        return 'Gene'\n",
    "    elif 'GO:' in id:\n",
    "        return 'Biological Process'\n",
    "    elif 'pubchem' in id:\n",
    "        return 'Compound'\n",
    "    else:\n",
    "        raise ValueError(f'Unknown node type for {id}')"
   ]
  },
  {
   "cell_type": "code",
   "execution_count": 11,
   "metadata": {},
   "outputs": [],
   "source": [
    "permuted_kg['source_node_type'] = [map_to_nodetype(i) for i in permuted_kg['source']]\n",
    "permuted_kg['target_node_type'] = [map_to_nodetype(i) for i in permuted_kg['target']]"
   ]
  },
  {
   "cell_type": "code",
   "execution_count": 12,
   "metadata": {},
   "outputs": [],
   "source": [
    "permuted_kg.to_csv(os.path.join(PERMUTED_KG_PATH, 'kg_with_train_smpls.tsv'), sep='\\t', index=False)"
   ]
  },
  {
   "attachments": {},
   "cell_type": "markdown",
   "metadata": {},
   "source": [
    "## Metapath Generation + MARS Preparation\n",
    "\n",
    "Now, we can skip to the metapath generation and preparation for MARS input.\n",
    "\n",
    "First, we take the same validation and test sets from MoA-net, but we get our training triples from the permuted KG:"
   ]
  },
  {
   "cell_type": "code",
   "execution_count": 13,
   "metadata": {},
   "outputs": [],
   "source": [
    "MARS_DIR = os.path.join(PERMUTED_KG_PATH, 'MARS')\n",
    "os.makedirs(MARS_DIR, exist_ok=True)"
   ]
  },
  {
   "cell_type": "code",
   "execution_count": 14,
   "metadata": {},
   "outputs": [],
   "source": [
    "training_triples = permuted_kg.loc[permuted_kg['edge_type'] == 'induces']\n",
    "\n",
    "training_triples.to_csv(os.path.join(PERMUTED_KG_PATH, 'train.tsv'), sep='\\t', index=False)"
   ]
  },
  {
   "cell_type": "code",
   "execution_count": 15,
   "metadata": {},
   "outputs": [],
   "source": [
    "kg = permuted_kg.loc[permuted_kg['edge_type'] != 'induces']\n",
    "\n",
    "kg.to_csv(os.path.join(PERMUTED_KG_PATH, 'kg_no_cmp_bp.tsv'), sep='\\t', index=False)"
   ]
  },
  {
   "cell_type": "code",
   "execution_count": 16,
   "metadata": {},
   "outputs": [
    {
     "data": {
      "text/plain": [
       "True"
      ]
     },
     "execution_count": 16,
     "metadata": {},
     "output_type": "execute_result"
    }
   ],
   "source": [
    "len(training_triples) + len(kg) == len(permuted_kg)"
   ]
  },
  {
   "cell_type": "code",
   "execution_count": 17,
   "metadata": {},
   "outputs": [],
   "source": [
    "dev = pd.read_csv(os.path.join(MoA_net, 'dev.tsv'), sep='\\t')\n",
    "test = pd.read_csv(os.path.join(MoA_net, 'test.tsv'), sep='\\t')\n",
    "\n",
    "dev.to_csv(os.path.join(PERMUTED_KG_PATH, 'dev.tsv'), sep='\\t', index=False)\n",
    "test.to_csv(os.path.join(PERMUTED_KG_PATH, 'test.tsv'), sep='\\t', index=False)"
   ]
  },
  {
   "attachments": {},
   "cell_type": "markdown",
   "metadata": {},
   "source": [
    "### Metapath Generation:"
   ]
  },
  {
   "cell_type": "code",
   "execution_count": 18,
   "metadata": {},
   "outputs": [],
   "source": [
    "kind_to_abbev = {\n",
    "    \n",
    "    # metanodes\n",
    "    'Compound': 'C',\n",
    "    'Gene': 'G',\n",
    "    'Biological Process': 'BP',\n",
    "    \n",
    "    # metaedges\n",
    "    'upregulates': 'u',\n",
    "    'downregulates': 'd',\n",
    "    'interacts': 'i',\n",
    "    'participates': 'p',\n",
    "    'induces': 't',\n",
    "}\n",
    "\n",
    "metaedge_tuples = [\n",
    "    ('Compound', 'Gene', 'upregulates', 'forward'),\n",
    "    ('Compound', 'Gene', 'downregulates', 'forward'),\n",
    "    ('Gene', 'Gene', 'interacts', 'forward'),\n",
    "    ('Gene', 'Biological Process', 'participates', 'forward'),\n",
    "    ('Compound', 'Biological Process', 'induces', 'forward')\n",
    "]\n",
    "\n",
    "metagraph = hetnetpy.hetnet.MetaGraph.from_edge_tuples(metaedge_tuples, kind_to_abbev)\n",
    "graph = hetnetpy.hetnet.Graph(metagraph)"
   ]
  },
  {
   "cell_type": "code",
   "execution_count": 19,
   "metadata": {},
   "outputs": [
    {
     "data": {
      "text/html": [
       "<div>\n",
       "<style scoped>\n",
       "    .dataframe tbody tr th:only-of-type {\n",
       "        vertical-align: middle;\n",
       "    }\n",
       "\n",
       "    .dataframe tbody tr th {\n",
       "        vertical-align: top;\n",
       "    }\n",
       "\n",
       "    .dataframe thead th {\n",
       "        text-align: right;\n",
       "    }\n",
       "</style>\n",
       "<table border=\"1\" class=\"dataframe\">\n",
       "  <thead>\n",
       "    <tr style=\"text-align: right;\">\n",
       "      <th></th>\n",
       "      <th>source</th>\n",
       "      <th>target</th>\n",
       "      <th>edge_type</th>\n",
       "      <th>source_node_type</th>\n",
       "      <th>target_node_type</th>\n",
       "    </tr>\n",
       "  </thead>\n",
       "  <tbody>\n",
       "  </tbody>\n",
       "</table>\n",
       "</div>"
      ],
      "text/plain": [
       "Empty DataFrame\n",
       "Columns: [source, target, edge_type, source_node_type, target_node_type]\n",
       "Index: []"
      ]
     },
     "execution_count": 19,
     "metadata": {},
     "output_type": "execute_result"
    }
   ],
   "source": [
    "# show me the duplicated rows in the dataframe\n",
    "kg[kg.duplicated(keep=False)]"
   ]
  },
  {
   "cell_type": "code",
   "execution_count": 20,
   "metadata": {},
   "outputs": [],
   "source": [
    "seen = set()\n",
    "\n",
    "for i, row in kg.iterrows():\n",
    "    if not row['source'] in seen:\n",
    "        graph.add_node(kind=row['source_node_type'], identifier=row['source'])\n",
    "        seen.add(row['source'])\n",
    "    if not row['target'] in seen:\n",
    "        graph.add_node(kind=row['target_node_type'], identifier=row['target'])\n",
    "        seen.add(row['target'])\n",
    "\n",
    "    src_id = row['source_node_type'], row['source']\n",
    "    trgt_id = row['target_node_type'], row['target']\n",
    "\n",
    "    graph.add_edge(source_id=src_id, target_id=trgt_id, kind=row['edge_type'], direction='forward')"
   ]
  },
  {
   "cell_type": "code",
   "execution_count": 21,
   "metadata": {},
   "outputs": [
    {
     "name": "stdout",
     "output_type": "stream",
     "text": [
      "[Ct>BP, Cd>Gp>BP, Cu>Gp>BP, Ct>BP<tCt>BP, Ct>BP<pGp>BP, Cd>G<dCt>BP, Cd>G<uCt>BP, Cd>G<iGp>BP, Cd>Gi>Gp>BP, Cu>G<dCt>BP, Cu>G<uCt>BP, Cu>G<iGp>BP, Cu>Gi>Gp>BP, Ct>BP<tCd>Gp>BP, Ct>BP<tCu>Gp>BP, Ct>BP<pG<dCt>BP, Ct>BP<pG<uCt>BP, Ct>BP<pG<iGp>BP, Ct>BP<pGi>Gp>BP, Cd>Gp>BP<tCt>BP, Cd>Gp>BP<pGp>BP, Cd>G<dCd>Gp>BP, Cd>G<dCu>Gp>BP, Cd>G<uCd>Gp>BP, Cd>G<uCu>Gp>BP, Cd>G<iG<dCt>BP, Cd>G<iG<uCt>BP, Cd>G<iG<iGp>BP, Cd>G<iGi>Gp>BP, Cd>Gi>G<dCt>BP, Cd>Gi>G<uCt>BP, Cd>Gi>G<iGp>BP, Cd>Gi>Gi>Gp>BP, Cu>Gp>BP<tCt>BP, Cu>Gp>BP<pGp>BP, Cu>G<dCd>Gp>BP, Cu>G<dCu>Gp>BP, Cu>G<uCd>Gp>BP, Cu>G<uCu>Gp>BP, Cu>G<iG<dCt>BP, Cu>G<iG<uCt>BP, Cu>G<iG<iGp>BP, Cu>G<iGi>Gp>BP, Cu>Gi>G<dCt>BP, Cu>Gi>G<uCt>BP, Cu>Gi>G<iGp>BP, Cu>Gi>Gi>Gp>BP]\n"
     ]
    }
   ],
   "source": [
    "tgt_metapaths = metagraph.extract_metapaths(source='Compound', target='Biological Process')\n",
    "print(tgt_metapaths)"
   ]
  },
  {
   "attachments": {},
   "cell_type": "markdown",
   "metadata": {},
   "source": [
    "Get rid of those with a compound in the middle:"
   ]
  },
  {
   "cell_type": "code",
   "execution_count": 22,
   "metadata": {},
   "outputs": [],
   "source": [
    "CtoBP_metapaths = []\n",
    "\n",
    "for i in tgt_metapaths:\n",
    "    if '<' in repr(i):  # get rid of those with inverse edges\n",
    "        continue\n",
    "    if (repr(i) != 'Ct>BP') & (Counter(re.split('>|<|[^A-Z]', repr(i)))['C'] == 1):\n",
    "        CtoBP_metapaths.append(i)"
   ]
  },
  {
   "attachments": {},
   "cell_type": "markdown",
   "metadata": {},
   "source": [
    "How many metapaths did this prune?"
   ]
  },
  {
   "cell_type": "code",
   "execution_count": 23,
   "metadata": {},
   "outputs": [
    {
     "name": "stdout",
     "output_type": "stream",
     "text": [
      "6\n",
      "47\n"
     ]
    }
   ],
   "source": [
    "print(len(CtoBP_metapaths))\n",
    "print(len(tgt_metapaths))"
   ]
  },
  {
   "attachments": {},
   "cell_type": "markdown",
   "metadata": {},
   "source": [
    "### MARS Input Preparation:"
   ]
  },
  {
   "cell_type": "code",
   "execution_count": 24,
   "metadata": {},
   "outputs": [],
   "source": [
    "prob = 0.5"
   ]
  },
  {
   "cell_type": "code",
   "execution_count": 25,
   "metadata": {},
   "outputs": [],
   "source": [
    "def get_forward_rule_body(mpath, conf, metagraph):\n",
    "    \"\"\"Gets the rule body for a given metapath in the format that MARS requires\n",
    "        :param mpath: the metapath instance, written in hetnetpy format\n",
    "        :param conf: the confidence value to use for the rule\n",
    "        :param metagraph: the metagraph instance, as a hetnetpy object\n",
    "    \"\"\"\n",
    "    st_edges = metaedges_from_metapath(mpath, standardize_by=metagraph)\n",
    "    directional_edges = metaedges_from_metapath(mpath)\n",
    "    rule_head = re.split('>|<|[^A-Z]', mpath)\n",
    "    rule_head = rule_head[0] + 't' + rule_head[-1]\n",
    "    rule_body = [conf, rule_head]\n",
    "    for st, dic in zip(st_edges, directional_edges):\n",
    "        if '>' in dic:\n",
    "            rule_body.append(st)\n",
    "        else:\n",
    "            rule_body.append('_' + st)\n",
    "    return rule_body"
   ]
  },
  {
   "cell_type": "code",
   "execution_count": 26,
   "metadata": {},
   "outputs": [],
   "source": [
    "def get_reverse_rule_body(forward_body):\n",
    "    \"\"\"Gets the REVERSE rule body for a given metapath in the format that MARS requires\n",
    "        :param forward_body: the forward rule body as a list\n",
    "    \"\"\"\n",
    "    rev_body = [forward_body[0], '_' + forward_body[1]]\n",
    "    for i in reversed(forward_body[2:]):\n",
    "        if '_' in i:\n",
    "            rev_body.append(re.sub('_', '', i))\n",
    "        else:\n",
    "            rev_body.append('_' + i)\n",
    "    return rev_body"
   ]
  },
  {
   "cell_type": "code",
   "execution_count": 27,
   "metadata": {},
   "outputs": [
    {
     "name": "stdout",
     "output_type": "stream",
     "text": [
      "{'CtBP': [[0.5, 'CtBP', 'CdG', 'GpBP'], [0.5, 'CtBP', 'CuG', 'GpBP'], [0.5, 'CtBP', 'CdG', 'GiG', 'GpBP'], [0.5, 'CtBP', 'CuG', 'GiG', 'GpBP'], [0.5, 'CtBP', 'CdG', 'GiG', 'GiG', 'GpBP'], [0.5, 'CtBP', 'CuG', 'GiG', 'GiG', 'GpBP']]}\n"
     ]
    }
   ],
   "source": [
    "rules = {}\n",
    "rules['CtBP'] = [get_forward_rule_body(str(mpath), prob, metagraph) for mpath in CtoBP_metapaths]\n",
    "print(rules)"
   ]
  },
  {
   "attachments": {},
   "cell_type": "markdown",
   "metadata": {},
   "source": [
    "Write those rules to the MARS folder:"
   ]
  },
  {
   "cell_type": "code",
   "execution_count": 28,
   "metadata": {},
   "outputs": [],
   "source": [
    "with open(os.path.join(MARS_DIR, 'rules.txt'), 'w') as f:\n",
    "    json.dump(rules, f)"
   ]
  },
  {
   "attachments": {},
   "cell_type": "markdown",
   "metadata": {},
   "source": [
    "Now, let's get the input triples in a format consistent with MARS's input files:"
   ]
  },
  {
   "cell_type": "code",
   "execution_count": 29,
   "metadata": {},
   "outputs": [],
   "source": [
    "def convert_to_mars(df):\n",
    "    \"\"\"Converts the KG into a format that MARS can use\n",
    "    \"\"\"\n",
    "    df['metaedge'] = [kind_to_abbev[row['source_node_type']] + kind_to_abbev[row['edge_type']] + \\\n",
    "                       kind_to_abbev[row['target_node_type']] for i, row in df.iterrows()]\n",
    "    return df[['source', 'metaedge', 'target']]"
   ]
  },
  {
   "cell_type": "code",
   "execution_count": 30,
   "metadata": {},
   "outputs": [],
   "source": [
    "train = convert_to_mars(pd.read_csv(os.path.join(PERMUTED_KG_PATH, 'train.tsv'), sep='\\t'))\n",
    "test = convert_to_mars(pd.read_csv(os.path.join(PERMUTED_KG_PATH, 'test.tsv'), sep='\\t'))\n",
    "val = convert_to_mars(pd.read_csv(os.path.join(PERMUTED_KG_PATH, 'dev.tsv'), sep='\\t'))\n",
    "\n",
    "kg_triples = convert_to_mars(pd.read_csv(os.path.join(PERMUTED_KG_PATH, 'kg_with_train_smpls.tsv'), sep='\\t'))"
   ]
  },
  {
   "attachments": {},
   "cell_type": "markdown",
   "metadata": {},
   "source": [
    "Get the inverse triples:"
   ]
  },
  {
   "cell_type": "code",
   "execution_count": 31,
   "metadata": {},
   "outputs": [],
   "source": [
    "inverse_triples = kg_triples[['source', 'target', 'metaedge']].copy()\n",
    "inverse_triples['inv_metaedge'] = ['_' + i for i in inverse_triples['metaedge']]\n",
    "inverse_triples = inverse_triples[['target', 'inv_metaedge', 'source']]\n",
    "\n",
    "# get rid of those with _CtBP\n",
    "#inverse_triples = inverse_triples.loc[inverse_triples['inv_metaedge'] != '_CtBP']"
   ]
  },
  {
   "attachments": {},
   "cell_type": "markdown",
   "metadata": {},
   "source": [
    "Write to MARS folder:"
   ]
  },
  {
   "cell_type": "code",
   "execution_count": 32,
   "metadata": {},
   "outputs": [],
   "source": [
    "kg_triples.to_csv(os.path.join(MARS_DIR, 'graph_triples.txt'), sep='\\t', index=False, header=False)\n",
    "inverse_triples.to_csv(os.path.join(MARS_DIR, 'graph_inverses.txt'), sep='\\t', index=False, header=False)"
   ]
  },
  {
   "cell_type": "code",
   "execution_count": 33,
   "metadata": {},
   "outputs": [],
   "source": [
    "train.to_csv(os.path.join(MARS_DIR, 'train.txt'), sep='\\t', index=False, header=False)\n",
    "test.to_csv(os.path.join(MARS_DIR, 'test.txt'), sep='\\t', index=False, header=False)\n",
    "val.to_csv(os.path.join(MARS_DIR, 'dev.txt'), sep='\\t', index=False, header=False)"
   ]
  },
  {
   "cell_type": "markdown",
   "metadata": {},
   "source": [
    "Finally, we need dictionaries to map the entities and relations to unique IDs."
   ]
  },
  {
   "cell_type": "code",
   "execution_count": 34,
   "metadata": {},
   "outputs": [],
   "source": [
    "entities = {\"PAD\": 0, \"UNK\": 1}\n",
    "\n",
    "next_id = 2\n",
    "for df in kg_triples, train, test, val:\n",
    "    for i in df['source'].unique():\n",
    "        if i not in entities:\n",
    "            entities[i] = next_id\n",
    "            next_id += 1\n",
    "    for i in df['target'].unique():\n",
    "        if i not in entities:\n",
    "            entities[i] = next_id\n",
    "            next_id += 1"
   ]
  },
  {
   "cell_type": "code",
   "execution_count": 35,
   "metadata": {},
   "outputs": [],
   "source": [
    "relations = {\"PAD\": 0, \"DUMMY_START_RELATION\": 1, \"NO_OP\": 2, \"UNK\": 3}\n",
    "\n",
    "# include inverse edges within the KG:\n",
    "metaedges = set(kg_triples['metaedge']) | (set(inverse_triples['inv_metaedge']))\n",
    "\n",
    "next_id = 4\n",
    "for rel in metaedges:\n",
    "    relations[rel] = next_id\n",
    "    next_id += 1"
   ]
  },
  {
   "cell_type": "code",
   "execution_count": 36,
   "metadata": {},
   "outputs": [],
   "source": [
    "# write dictionary to json file\n",
    "VOCAB_DIR = os.path.join(MARS_DIR, 'vocab')\n",
    "os.makedirs(VOCAB_DIR, exist_ok=True)\n",
    "\n",
    "with open(os.path.join(VOCAB_DIR, 'entity_vocab.json'), 'w') as f:\n",
    "    json.dump(entities, f)\n",
    "\n",
    "with open(os.path.join(VOCAB_DIR, 'relation_vocab.json'), 'w') as f:\n",
    "    json.dump(relations, f)"
   ]
  },
  {
   "cell_type": "markdown",
   "metadata": {},
   "source": [
    "Let's also write the meta-edge and meta-node mappings to json files:"
   ]
  },
  {
   "cell_type": "code",
   "execution_count": 37,
   "metadata": {},
   "outputs": [],
   "source": [
    "meta_mapping = {v: k for k, v in kind_to_abbev.items()}"
   ]
  },
  {
   "cell_type": "code",
   "execution_count": 38,
   "metadata": {},
   "outputs": [],
   "source": [
    "with open(os.path.join(VOCAB_DIR, 'meta_mapping.json'), 'w') as f:\n",
    "    json.dump(meta_mapping, f)"
   ]
  },
  {
   "cell_type": "code",
   "execution_count": 39,
   "metadata": {},
   "outputs": [
    {
     "data": {
      "text/plain": [
       "{'C': 'Compound',\n",
       " 'G': 'Gene',\n",
       " 'BP': 'Biological Process',\n",
       " 'u': 'upregulates',\n",
       " 'd': 'downregulates',\n",
       " 'i': 'interacts',\n",
       " 'p': 'participates',\n",
       " 't': 'induces'}"
      ]
     },
     "execution_count": 39,
     "metadata": {},
     "output_type": "execute_result"
    }
   ],
   "source": [
    "meta_mapping"
   ]
  }
 ],
 "metadata": {
  "kernelspec": {
   "display_name": "moanet_env",
   "language": "python",
   "name": "python3"
  },
  "language_info": {
   "codemirror_mode": {
    "name": "ipython",
    "version": 3
   },
   "file_extension": ".py",
   "mimetype": "text/x-python",
   "name": "python",
   "nbconvert_exporter": "python",
   "pygments_lexer": "ipython3",
   "version": "3.10.13"
  },
  "orig_nbformat": 4
 },
 "nbformat": 4,
 "nbformat_minor": 2
}
