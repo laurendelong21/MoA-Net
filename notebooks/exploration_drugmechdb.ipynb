{
 "cells": [
  {
   "attachments": {},
   "cell_type": "markdown",
   "id": "e62a03da",
   "metadata": {},
   "source": [
    "# Exploration of DrugMechDB\n",
    "\n",
    "Here, I explore [DrugMechDB](https://sulab.github.io/DrugMechDB/) which could ideally provide us with true positive paths / MOAs."
   ]
  },
  {
   "cell_type": "code",
   "execution_count": 1,
   "id": "d34454e0",
   "metadata": {},
   "outputs": [],
   "source": [
    "import pandas as pd\n",
    "import os.path as osp\n",
    "from collections import Counter\n",
    "from urllib import request\n",
    "import json\n",
    "from matplotlib import pyplot as plt\n",
    "from matplotlib_venn import venn2_unweighted\n",
    "import numpy as np\n",
    "import math\n",
    "import requests\n",
    "from tqdm import tqdm"
   ]
  },
  {
   "attachments": {},
   "cell_type": "markdown",
   "id": "83ace06e",
   "metadata": {},
   "source": [
    "## Load in the DrugMechDB file:"
   ]
  },
  {
   "cell_type": "code",
   "execution_count": 2,
   "id": "cfa03a32",
   "metadata": {},
   "outputs": [],
   "source": [
    "VALIDATION_DIR = '../data/validation'"
   ]
  },
  {
   "attachments": {},
   "cell_type": "markdown",
   "id": "1b47b692",
   "metadata": {},
   "source": [
    "The database download comes as an excel file with many separate sheets, so it needs to be read in as separate dataframes:"
   ]
  },
  {
   "cell_type": "code",
   "execution_count": 5,
   "id": "49fe99a4",
   "metadata": {},
   "outputs": [
    {
     "name": "stdout",
     "output_type": "stream",
     "text": [
      "Collecting openpyxl\n",
      "  Downloading openpyxl-3.1.2-py2.py3-none-any.whl (249 kB)\n",
      "\u001b[K     |████████████████████████████████| 249 kB 3.3 MB/s eta 0:00:01    |████                            | 30 kB 1.9 MB/s eta 0:00:01\n",
      "\u001b[?25hRequirement already satisfied, skipping upgrade: et-xmlfile in /Users/yojana/anaconda3/lib/python3.8/site-packages (from openpyxl) (1.0.1)\n",
      "Installing collected packages: openpyxl\n",
      "  Attempting uninstall: openpyxl\n",
      "    Found existing installation: openpyxl 3.0.4\n",
      "    Uninstalling openpyxl-3.0.4:\n",
      "      Successfully uninstalled openpyxl-3.0.4\n",
      "Successfully installed openpyxl-3.1.2\n"
     ]
    }
   ],
   "source": [
    "!pip install --upgrade openpyxl"
   ]
  },
  {
   "cell_type": "code",
   "execution_count": 3,
   "id": "f2285f15",
   "metadata": {},
   "outputs": [],
   "source": [
    "dm_db = pd.ExcelFile('s3://enveda-datascience/lauren/indication_MOA_paths.xlsx')\n",
    "# dm_db.head()"
   ]
  },
  {
   "cell_type": "code",
   "execution_count": 4,
   "id": "39895ade",
   "metadata": {},
   "outputs": [],
   "source": [
    "indications = pd.read_excel(dm_db, 'sample_indications')"
   ]
  },
  {
   "cell_type": "code",
   "execution_count": 5,
   "id": "9cc49388",
   "metadata": {},
   "outputs": [
    {
     "data": {
      "text/html": [
       "<div>\n",
       "<style scoped>\n",
       "    .dataframe tbody tr th:only-of-type {\n",
       "        vertical-align: middle;\n",
       "    }\n",
       "\n",
       "    .dataframe tbody tr th {\n",
       "        vertical-align: top;\n",
       "    }\n",
       "\n",
       "    .dataframe thead th {\n",
       "        text-align: right;\n",
       "    }\n",
       "</style>\n",
       "<table border=\"1\" class=\"dataframe\">\n",
       "  <thead>\n",
       "    <tr style=\"text-align: right;\">\n",
       "      <th></th>\n",
       "      <th>name</th>\n",
       "      <th>num_ind_dc</th>\n",
       "      <th>db_id</th>\n",
       "      <th>comp_mesh_ids</th>\n",
       "      <th>disease_name</th>\n",
       "      <th>dis_mesh_id</th>\n",
       "      <th>Comments</th>\n",
       "    </tr>\n",
       "  </thead>\n",
       "  <tbody>\n",
       "    <tr>\n",
       "      <th>0</th>\n",
       "      <td>imatinib</td>\n",
       "      <td>11.0</td>\n",
       "      <td>DB00619</td>\n",
       "      <td>MESH:D000068877</td>\n",
       "      <td>CML (ph+)</td>\n",
       "      <td>MESH:D015464</td>\n",
       "      <td>Multiple ways to represent this path, experime...</td>\n",
       "    </tr>\n",
       "    <tr>\n",
       "      <th>1</th>\n",
       "      <td>imatinib</td>\n",
       "      <td>11.0</td>\n",
       "      <td>DB00619</td>\n",
       "      <td>MESH:D000068877</td>\n",
       "      <td>Systemic mast cell disease</td>\n",
       "      <td>MESH:D034721</td>\n",
       "      <td>NaN</td>\n",
       "    </tr>\n",
       "    <tr>\n",
       "      <th>2</th>\n",
       "      <td>imatinib</td>\n",
       "      <td>11.0</td>\n",
       "      <td>DB00619</td>\n",
       "      <td>MESH:D000068877</td>\n",
       "      <td>Systemic mast cell disease</td>\n",
       "      <td>MESH:D034721</td>\n",
       "      <td>NaN</td>\n",
       "    </tr>\n",
       "    <tr>\n",
       "      <th>3</th>\n",
       "      <td>acetaminophen</td>\n",
       "      <td>NaN</td>\n",
       "      <td>DB00316</td>\n",
       "      <td>MESH:D000082</td>\n",
       "      <td>Pain</td>\n",
       "      <td>MESH:D010146</td>\n",
       "      <td>Multiple ways to represent this path, experime...</td>\n",
       "    </tr>\n",
       "    <tr>\n",
       "      <th>4</th>\n",
       "      <td>acetaminophen</td>\n",
       "      <td>NaN</td>\n",
       "      <td>DB00316</td>\n",
       "      <td>MESH:D000082</td>\n",
       "      <td>Pain</td>\n",
       "      <td>MESH:D010146</td>\n",
       "      <td>NaN</td>\n",
       "    </tr>\n",
       "  </tbody>\n",
       "</table>\n",
       "</div>"
      ],
      "text/plain": [
       "            name  num_ind_dc    db_id    comp_mesh_ids  \\\n",
       "0       imatinib        11.0  DB00619  MESH:D000068877   \n",
       "1       imatinib        11.0  DB00619  MESH:D000068877   \n",
       "2       imatinib        11.0  DB00619  MESH:D000068877   \n",
       "3  acetaminophen         NaN  DB00316     MESH:D000082   \n",
       "4  acetaminophen         NaN  DB00316     MESH:D000082   \n",
       "\n",
       "                 disease_name   dis_mesh_id  \\\n",
       "0                   CML (ph+)  MESH:D015464   \n",
       "1  Systemic mast cell disease  MESH:D034721   \n",
       "2  Systemic mast cell disease  MESH:D034721   \n",
       "3                        Pain  MESH:D010146   \n",
       "4                        Pain  MESH:D010146   \n",
       "\n",
       "                                            Comments  \n",
       "0  Multiple ways to represent this path, experime...  \n",
       "1                                                NaN  \n",
       "2                                                NaN  \n",
       "3  Multiple ways to represent this path, experime...  \n",
       "4                                                NaN  "
      ]
     },
     "execution_count": 5,
     "metadata": {},
     "output_type": "execute_result"
    }
   ],
   "source": [
    "indications.head()"
   ]
  },
  {
   "attachments": {},
   "cell_type": "markdown",
   "id": "aba9d51c",
   "metadata": {},
   "source": [
    "We can see the the drugs are provided as [DrugBank](https://go.drugbank.com) identifiers, and the diseases are providued as [MeSh identifiers](https://www.nlm.nih.gov/mesh/meshhome.html). \n",
    "\n",
    "Let's look at the paths:\n",
    "\n",
    "## Path Instances in DrugMechDB"
   ]
  },
  {
   "cell_type": "code",
   "execution_count": 6,
   "id": "bcb04c05",
   "metadata": {},
   "outputs": [],
   "source": [
    "paths = pd.read_excel(dm_db, 'paths')"
   ]
  },
  {
   "cell_type": "code",
   "execution_count": 7,
   "id": "77a476ea",
   "metadata": {},
   "outputs": [
    {
     "data": {
      "text/html": [
       "<div>\n",
       "<style scoped>\n",
       "    .dataframe tbody tr th:only-of-type {\n",
       "        vertical-align: middle;\n",
       "    }\n",
       "\n",
       "    .dataframe tbody tr th {\n",
       "        vertical-align: top;\n",
       "    }\n",
       "\n",
       "    .dataframe thead th {\n",
       "        text-align: right;\n",
       "    }\n",
       "</style>\n",
       "<table border=\"1\" class=\"dataframe\">\n",
       "  <thead>\n",
       "    <tr style=\"text-align: right;\">\n",
       "      <th></th>\n",
       "      <th>n1</th>\n",
       "      <th>e1</th>\n",
       "      <th>n2</th>\n",
       "      <th>e2</th>\n",
       "      <th>n3</th>\n",
       "      <th>e3</th>\n",
       "      <th>n4</th>\n",
       "      <th>e4</th>\n",
       "      <th>n5</th>\n",
       "      <th>e5</th>\n",
       "      <th>n6</th>\n",
       "      <th>e6</th>\n",
       "      <th>n7</th>\n",
       "      <th>e7</th>\n",
       "      <th>n8</th>\n",
       "    </tr>\n",
       "  </thead>\n",
       "  <tbody>\n",
       "    <tr>\n",
       "      <th>0</th>\n",
       "      <td>imatinib</td>\n",
       "      <td>INHIBITS</td>\n",
       "      <td>BCR/ABL</td>\n",
       "      <td>CAUSES</td>\n",
       "      <td>CML (ph+)</td>\n",
       "      <td>NaN</td>\n",
       "      <td>NaN</td>\n",
       "      <td>NaN</td>\n",
       "      <td>NaN</td>\n",
       "      <td>NaN</td>\n",
       "      <td>NaN</td>\n",
       "      <td>NaN</td>\n",
       "      <td>NaN</td>\n",
       "      <td>NaN</td>\n",
       "      <td>NaN</td>\n",
       "    </tr>\n",
       "    <tr>\n",
       "      <th>1</th>\n",
       "      <td>imatinib</td>\n",
       "      <td>INHIBITS</td>\n",
       "      <td>c-Kit</td>\n",
       "      <td>UP_REGULATES</td>\n",
       "      <td>Cellular proliferation</td>\n",
       "      <td>CAUSES</td>\n",
       "      <td>Systemic mast cell disease</td>\n",
       "      <td>NaN</td>\n",
       "      <td>NaN</td>\n",
       "      <td>NaN</td>\n",
       "      <td>NaN</td>\n",
       "      <td>NaN</td>\n",
       "      <td>NaN</td>\n",
       "      <td>NaN</td>\n",
       "      <td>NaN</td>\n",
       "    </tr>\n",
       "    <tr>\n",
       "      <th>2</th>\n",
       "      <td>imatinib</td>\n",
       "      <td>INHIBITS</td>\n",
       "      <td>Pdgf</td>\n",
       "      <td>UP_REGULATES</td>\n",
       "      <td>Cellular proliferation</td>\n",
       "      <td>CAUSES</td>\n",
       "      <td>Systemic mast cell disease</td>\n",
       "      <td>NaN</td>\n",
       "      <td>NaN</td>\n",
       "      <td>NaN</td>\n",
       "      <td>NaN</td>\n",
       "      <td>NaN</td>\n",
       "      <td>NaN</td>\n",
       "      <td>NaN</td>\n",
       "      <td>NaN</td>\n",
       "    </tr>\n",
       "    <tr>\n",
       "      <th>3</th>\n",
       "      <td>acetaminophen</td>\n",
       "      <td>INHIBITS</td>\n",
       "      <td>cycloxygenaze pathways</td>\n",
       "      <td>ASSOCIATED_WITH</td>\n",
       "      <td>Pain</td>\n",
       "      <td>NaN</td>\n",
       "      <td>NaN</td>\n",
       "      <td>NaN</td>\n",
       "      <td>NaN</td>\n",
       "      <td>NaN</td>\n",
       "      <td>NaN</td>\n",
       "      <td>NaN</td>\n",
       "      <td>NaN</td>\n",
       "      <td>NaN</td>\n",
       "      <td>NaN</td>\n",
       "    </tr>\n",
       "    <tr>\n",
       "      <th>4</th>\n",
       "      <td>acetaminophen</td>\n",
       "      <td>INHIBITS</td>\n",
       "      <td>Cox-1</td>\n",
       "      <td>PRODUCES</td>\n",
       "      <td>Prostaglandins</td>\n",
       "      <td>CAUSES</td>\n",
       "      <td>Pain</td>\n",
       "      <td>NaN</td>\n",
       "      <td>NaN</td>\n",
       "      <td>NaN</td>\n",
       "      <td>NaN</td>\n",
       "      <td>NaN</td>\n",
       "      <td>NaN</td>\n",
       "      <td>NaN</td>\n",
       "      <td>NaN</td>\n",
       "    </tr>\n",
       "  </tbody>\n",
       "</table>\n",
       "</div>"
      ],
      "text/plain": [
       "              n1        e1                      n2               e2  \\\n",
       "0       imatinib  INHIBITS                 BCR/ABL           CAUSES   \n",
       "1       imatinib  INHIBITS                   c-Kit     UP_REGULATES   \n",
       "2       imatinib  INHIBITS                    Pdgf     UP_REGULATES   \n",
       "3  acetaminophen  INHIBITS  cycloxygenaze pathways  ASSOCIATED_WITH   \n",
       "4  acetaminophen  INHIBITS                   Cox-1         PRODUCES   \n",
       "\n",
       "                       n3      e3                          n4   e4   n5   e5  \\\n",
       "0               CML (ph+)     NaN                         NaN  NaN  NaN  NaN   \n",
       "1  Cellular proliferation  CAUSES  Systemic mast cell disease  NaN  NaN  NaN   \n",
       "2  Cellular proliferation  CAUSES  Systemic mast cell disease  NaN  NaN  NaN   \n",
       "3                    Pain     NaN                         NaN  NaN  NaN  NaN   \n",
       "4          Prostaglandins  CAUSES                        Pain  NaN  NaN  NaN   \n",
       "\n",
       "    n6   e6   n7   e7   n8  \n",
       "0  NaN  NaN  NaN  NaN  NaN  \n",
       "1  NaN  NaN  NaN  NaN  NaN  \n",
       "2  NaN  NaN  NaN  NaN  NaN  \n",
       "3  NaN  NaN  NaN  NaN  NaN  \n",
       "4  NaN  NaN  NaN  NaN  NaN  "
      ]
     },
     "execution_count": 7,
     "metadata": {},
     "output_type": "execute_result"
    }
   ],
   "source": [
    "paths.head()"
   ]
  },
  {
   "attachments": {},
   "cell_type": "markdown",
   "id": "f68f0a7c",
   "metadata": {},
   "source": [
    "How long are most of the paths? I'll define the length of the paths as the number of edges/hops."
   ]
  },
  {
   "cell_type": "code",
   "execution_count": 8,
   "id": "387be2d4",
   "metadata": {},
   "outputs": [
    {
     "data": {
      "text/plain": [
       "Counter({2.0: 13, 3.0: 38, 4.0: 59, 5.0: 8, 1.0: 3, 7.0: 1, 6.0: 1})"
      ]
     },
     "execution_count": 8,
     "metadata": {},
     "output_type": "execute_result"
    }
   ],
   "source": [
    "Counter([(row.count() - 1) / 2 for i, row in paths.iterrows()])"
   ]
  },
  {
   "attachments": {},
   "cell_type": "markdown",
   "id": "a4a4ed29",
   "metadata": {},
   "source": [
    "It looks like most are length 4.\n",
    "\n",
    "Only 3 are above length 5.\n",
    "\n",
    "What if we only take those which end in a biological process?\n",
    "\n",
    "It might be better to work from the JSON file instead, which can be found [here](https://github.com/SuLab/DrugMechDB/blob/1.0/indication_paths.json). In contrast to the paths in the dataframe, the JSON version has the types for each node."
   ]
  },
  {
   "cell_type": "code",
   "execution_count": 9,
   "id": "a7545b78",
   "metadata": {},
   "outputs": [],
   "source": [
    "url = \"https://raw.githubusercontent.com/SuLab/DrugMechDB/1.0/indication_paths.json\"\n",
    "filepath = \"s3://enveda-datascience/lauren/drugmechdb_paths.json\""
   ]
  },
  {
   "cell_type": "code",
   "execution_count": 10,
   "id": "f49f4af3",
   "metadata": {},
   "outputs": [],
   "source": [
    "with request.urlopen(url) as fl:\n",
    "    data_json = json.loads(fl.read())\n",
    "    #json.dump(dict(data_json), filepath)\n",
    "    #print(data_json)"
   ]
  },
  {
   "attachments": {},
   "cell_type": "markdown",
   "id": "44f027dc",
   "metadata": {},
   "source": [
    "Are there the same number of paths as before?"
   ]
  },
  {
   "cell_type": "code",
   "execution_count": 11,
   "id": "3e312303",
   "metadata": {},
   "outputs": [
    {
     "data": {
      "text/plain": [
       "123"
      ]
     },
     "execution_count": 11,
     "metadata": {},
     "output_type": "execute_result"
    }
   ],
   "source": [
    "len(data_json)"
   ]
  },
  {
   "cell_type": "code",
   "execution_count": 12,
   "id": "c0944d66",
   "metadata": {},
   "outputs": [
    {
     "data": {
      "text/plain": [
       "True"
      ]
     },
     "execution_count": 12,
     "metadata": {},
     "output_type": "execute_result"
    }
   ],
   "source": [
    "len(data_json) == len(paths)"
   ]
  },
  {
   "attachments": {},
   "cell_type": "markdown",
   "id": "6a587655",
   "metadata": {},
   "source": [
    "Let's take a look at an example path:"
   ]
  },
  {
   "cell_type": "code",
   "execution_count": 13,
   "id": "94a9415f",
   "metadata": {},
   "outputs": [
    {
     "data": {
      "text/plain": [
       "{'directed': True,\n",
       " 'multigraph': True,\n",
       " 'graph': {'drug': 'imatinib',\n",
       "  'disease': 'Systemic mast cell disease',\n",
       "  'drugbank': 'DB00619',\n",
       "  'drug_mesh': 'MESH:D000068877',\n",
       "  'disease_mesh': 'MESH:D034721'},\n",
       " 'nodes': [{'id': 'MESH:D000068877', 'name': 'imatinib', 'label': 'Drug'},\n",
       "  {'id': 'UniProt:P10721', 'name': 'c-Kit', 'label': 'Protein'},\n",
       "  {'id': 'GO:0008283',\n",
       "   'name': 'Cellular proliferation',\n",
       "   'label': 'Biological Process'},\n",
       "  {'id': 'MESH:D034721',\n",
       "   'name': 'Systemic mast cell disease',\n",
       "   'label': 'Disease'}],\n",
       " 'links': [{'source': 'MESH:D000068877',\n",
       "   'target': 'UniProt:P10721',\n",
       "   'key': 'INHIBITS'},\n",
       "  {'source': 'UniProt:P10721', 'target': 'GO:0008283', 'key': 'UP_REGULATES'},\n",
       "  {'source': 'GO:0008283', 'target': 'MESH:D034721', 'key': 'CAUSES'}]}"
      ]
     },
     "execution_count": 13,
     "metadata": {},
     "output_type": "execute_result"
    }
   ],
   "source": [
    "data_json[1]"
   ]
  },
  {
   "attachments": {},
   "cell_type": "markdown",
   "id": "c52ae634",
   "metadata": {},
   "source": [
    "We can get the number of nodes involved:"
   ]
  },
  {
   "cell_type": "code",
   "execution_count": 14,
   "id": "3f163527",
   "metadata": {},
   "outputs": [
    {
     "data": {
      "text/plain": [
       "4"
      ]
     },
     "execution_count": 14,
     "metadata": {},
     "output_type": "execute_result"
    }
   ],
   "source": [
    "len(data_json[1]['nodes'])"
   ]
  },
  {
   "attachments": {},
   "cell_type": "markdown",
   "id": "bed10982",
   "metadata": {},
   "source": [
    "... and using that, get the second-to-last node (the last is always a disease)."
   ]
  },
  {
   "cell_type": "code",
   "execution_count": 15,
   "id": "528a1850",
   "metadata": {},
   "outputs": [
    {
     "data": {
      "text/plain": [
       "{'id': 'GO:0008283',\n",
       " 'name': 'Cellular proliferation',\n",
       " 'label': 'Biological Process'}"
      ]
     },
     "execution_count": 15,
     "metadata": {},
     "output_type": "execute_result"
    }
   ],
   "source": [
    "data_json[1]['nodes'][len(data_json[1]['nodes']) - 2]"
   ]
  },
  {
   "attachments": {},
   "cell_type": "markdown",
   "id": "dd42c3b9",
   "metadata": {},
   "source": [
    "Cool, let's create a new object containing only those which end in a BP node.\n",
    "\n",
    "Let's also get all the unique BPs involved:"
   ]
  },
  {
   "cell_type": "code",
   "execution_count": 16,
   "id": "58d0907b",
   "metadata": {},
   "outputs": [],
   "source": [
    "bp_paths = []\n",
    "bp_path_lengths = []\n",
    "bps = set()\n",
    "for path in data_json:\n",
    "    # if second to last node is BP,\n",
    "    if path['nodes'][len(path['nodes']) - 2]['label'] == 'Biological Process':\n",
    "        bp_paths.append(path)\n",
    "        bp_path_lengths.append(len(path['links']) - 1)\n",
    "        bps.add(path['nodes'][len(path['nodes']) - 2]['id'])"
   ]
  },
  {
   "attachments": {},
   "cell_type": "markdown",
   "id": "a9caba85",
   "metadata": {},
   "source": [
    "How many of the 162 paths end in a BP?"
   ]
  },
  {
   "cell_type": "code",
   "execution_count": 17,
   "id": "b0cccba9",
   "metadata": {},
   "outputs": [
    {
     "data": {
      "text/plain": [
       "62"
      ]
     },
     "execution_count": 17,
     "metadata": {},
     "output_type": "execute_result"
    }
   ],
   "source": [
    "len(bp_paths)"
   ]
  },
  {
   "cell_type": "code",
   "execution_count": 18,
   "id": "77eade67",
   "metadata": {},
   "outputs": [
    {
     "data": {
      "text/plain": [
       "Counter({2: 25, 3: 24, 4: 7, 1: 6})"
      ]
     },
     "execution_count": 18,
     "metadata": {},
     "output_type": "execute_result"
    }
   ],
   "source": [
    "Counter(bp_path_lengths)"
   ]
  },
  {
   "cell_type": "code",
   "execution_count": 19,
   "id": "c3f491b6",
   "metadata": {},
   "outputs": [
    {
     "data": {
      "image/png": "[encoded data removed]",
      "text/plain": [
       "<Figure size 540x252 with 1 Axes>"
      ]
     },
     "metadata": {
      "needs_background": "light"
     },
     "output_type": "display_data"
    }
   ],
   "source": [
    "bpath_lens = Counter(bp_path_lengths)\n",
    "\n",
    "plt.rcParams[\"figure.figsize\"] = [7.50, 3.50]\n",
    "plt.rcParams[\"figure.autolayout\"] = True\n",
    "\n",
    "plt.bar(bpath_lens.keys(), bpath_lens.values())\n",
    "\n",
    "plt.show()"
   ]
  },
  {
   "attachments": {},
   "cell_type": "markdown",
   "id": "19099024",
   "metadata": {},
   "source": [
    "Now, it also looks like no paths ending in BP are longer than 5 edges.\n",
    "\n",
    "How many unique BPs act as sink nodes here?"
   ]
  },
  {
   "cell_type": "code",
   "execution_count": 20,
   "id": "102a75f8",
   "metadata": {},
   "outputs": [
    {
     "data": {
      "text/plain": [
       "34"
      ]
     },
     "execution_count": 20,
     "metadata": {},
     "output_type": "execute_result"
    }
   ],
   "source": [
    "len(bps)"
   ]
  },
  {
   "cell_type": "code",
   "execution_count": 21,
   "id": "f4ae6022",
   "metadata": {},
   "outputs": [
    {
     "data": {
      "text/plain": [
       "{'directed': True,\n",
       " 'multigraph': True,\n",
       " 'graph': {'drug': 'imatinib',\n",
       "  'disease': 'Systemic mast cell disease',\n",
       "  'drugbank': 'DB00619',\n",
       "  'drug_mesh': 'MESH:D000068877',\n",
       "  'disease_mesh': 'MESH:D034721'},\n",
       " 'nodes': [{'id': 'MESH:D000068877', 'name': 'imatinib', 'label': 'Drug'},\n",
       "  {'id': 'UniProt:P10721', 'name': 'c-Kit', 'label': 'Protein'},\n",
       "  {'id': 'GO:0008283',\n",
       "   'name': 'Cellular proliferation',\n",
       "   'label': 'Biological Process'},\n",
       "  {'id': 'MESH:D034721',\n",
       "   'name': 'Systemic mast cell disease',\n",
       "   'label': 'Disease'}],\n",
       " 'links': [{'source': 'MESH:D000068877',\n",
       "   'target': 'UniProt:P10721',\n",
       "   'key': 'INHIBITS'},\n",
       "  {'source': 'UniProt:P10721', 'target': 'GO:0008283', 'key': 'UP_REGULATES'},\n",
       "  {'source': 'GO:0008283', 'target': 'MESH:D034721', 'key': 'CAUSES'}]}"
      ]
     },
     "execution_count": 21,
     "metadata": {},
     "output_type": "execute_result"
    }
   ],
   "source": [
    "bp_paths[0]"
   ]
  },
  {
   "attachments": {},
   "cell_type": "markdown",
   "id": "d6d52f3f",
   "metadata": {},
   "source": [
    "**It is worth noting that there are lots of non-drug compounds in here, such as carbovir triphosphate and prostaglandins, which act as middle players in the paths.**"
   ]
  },
  {
   "attachments": {},
   "cell_type": "markdown",
   "id": "7c4b6730",
   "metadata": {},
   "source": [
    "What about any path in general which contains a BP?"
   ]
  },
  {
   "cell_type": "code",
   "execution_count": 22,
   "id": "68e47dde",
   "metadata": {},
   "outputs": [],
   "source": [
    "bp_paths = []\n",
    "bp_path_lengths = []\n",
    "bps = set()\n",
    "for path in data_json:\n",
    "    for count, node in enumerate(path['nodes']):\n",
    "    # if any node is BP,\n",
    "        if node['label'] == 'Biological Process':\n",
    "            bp_paths.append(path)\n",
    "            bp_path_lengths.append(count)\n",
    "            bps.add(path['nodes'][count]['id'])"
   ]
  },
  {
   "cell_type": "code",
   "execution_count": 23,
   "id": "fb6a109d",
   "metadata": {},
   "outputs": [
    {
     "data": {
      "text/plain": [
       "100"
      ]
     },
     "execution_count": 23,
     "metadata": {},
     "output_type": "execute_result"
    }
   ],
   "source": [
    "len(bp_paths)"
   ]
  },
  {
   "attachments": {},
   "cell_type": "markdown",
   "id": "c031c315",
   "metadata": {},
   "source": [
    "We have a lot more if we include BPs in the middle."
   ]
  },
  {
   "cell_type": "code",
   "execution_count": 24,
   "id": "614acb4f",
   "metadata": {},
   "outputs": [
    {
     "data": {
      "text/plain": [
       "Counter({2: 60, 3: 25, 4: 9, 1: 6})"
      ]
     },
     "execution_count": 24,
     "metadata": {},
     "output_type": "execute_result"
    }
   ],
   "source": [
    "Counter(bp_path_lengths)"
   ]
  },
  {
   "cell_type": "code",
   "execution_count": 25,
   "id": "ead590f0",
   "metadata": {},
   "outputs": [
    {
     "data": {
      "image/png": "[encoded data removed]",
      "text/plain": [
       "<Figure size 540x252 with 1 Axes>"
      ]
     },
     "metadata": {
      "needs_background": "light"
     },
     "output_type": "display_data"
    }
   ],
   "source": [
    "bpath_lens = Counter(bp_path_lengths)\n",
    "\n",
    "plt.rcParams[\"figure.figsize\"] = [7.50, 3.50]\n",
    "plt.rcParams[\"figure.autolayout\"] = True\n",
    "\n",
    "plt.bar(bpath_lens.keys(), bpath_lens.values())\n",
    "\n",
    "plt.show()"
   ]
  },
  {
   "attachments": {},
   "cell_type": "markdown",
   "id": "fcaa0062",
   "metadata": {},
   "source": [
    "Now, we have a lot more 2-hop mechanisms. These are most likely drug-protein-BP paths.\n",
    "\n",
    "Also worth noting that 5 of these seem to act directly."
   ]
  },
  {
   "attachments": {},
   "cell_type": "markdown",
   "id": "52eaf052",
   "metadata": {},
   "source": [
    "## DrugMechDB overlap with dataset\n",
    "\n",
    "To use DrugMechDB as a validation set, let's see how much it overlaps with our data. \n",
    "\n",
    "First, we can see which BPs are also within our GO BP set from the ChEMBL dataset."
   ]
  },
  {
   "cell_type": "code",
   "execution_count": 26,
   "id": "4f454c03",
   "metadata": {},
   "outputs": [],
   "source": [
    "KG_DIR = '../data/kg'"
   ]
  },
  {
   "cell_type": "code",
   "execution_count": 27,
   "id": "8561feae",
   "metadata": {},
   "outputs": [],
   "source": [
    "feasible_bps = pd.read_csv(osp.join(KG_DIR, \"feasible_go_bps.tsv\"), sep=\"\\t\", index_col=0)"
   ]
  },
  {
   "cell_type": "code",
   "execution_count": 28,
   "id": "00dcc113",
   "metadata": {},
   "outputs": [
    {
     "data": {
      "text/html": [
       "<div>\n",
       "<style scoped>\n",
       "    .dataframe tbody tr th:only-of-type {\n",
       "        vertical-align: middle;\n",
       "    }\n",
       "\n",
       "    .dataframe tbody tr th {\n",
       "        vertical-align: top;\n",
       "    }\n",
       "\n",
       "    .dataframe thead th {\n",
       "        text-align: right;\n",
       "    }\n",
       "</style>\n",
       "<table border=\"1\" class=\"dataframe\">\n",
       "  <thead>\n",
       "    <tr style=\"text-align: right;\">\n",
       "      <th></th>\n",
       "      <th>go_id</th>\n",
       "      <th>go_term</th>\n",
       "      <th>num_drugs</th>\n",
       "      <th>num_prots</th>\n",
       "    </tr>\n",
       "  </thead>\n",
       "  <tbody>\n",
       "    <tr>\n",
       "      <th>0</th>\n",
       "      <td>GO:0008150</td>\n",
       "      <td>biological_process</td>\n",
       "      <td>181</td>\n",
       "      <td>93</td>\n",
       "    </tr>\n",
       "    <tr>\n",
       "      <th>1</th>\n",
       "      <td>GO:0010951</td>\n",
       "      <td>negative regulation of endopeptidase activity</td>\n",
       "      <td>33</td>\n",
       "      <td>33</td>\n",
       "    </tr>\n",
       "    <tr>\n",
       "      <th>2</th>\n",
       "      <td>GO:0006805</td>\n",
       "      <td>xenobiotic metabolic process</td>\n",
       "      <td>153</td>\n",
       "      <td>92</td>\n",
       "    </tr>\n",
       "    <tr>\n",
       "      <th>3</th>\n",
       "      <td>GO:0006629</td>\n",
       "      <td>lipid metabolic process</td>\n",
       "      <td>169</td>\n",
       "      <td>104</td>\n",
       "    </tr>\n",
       "    <tr>\n",
       "      <th>4</th>\n",
       "      <td>GO:0030154</td>\n",
       "      <td>cell differentiation</td>\n",
       "      <td>143</td>\n",
       "      <td>285</td>\n",
       "    </tr>\n",
       "  </tbody>\n",
       "</table>\n",
       "</div>"
      ],
      "text/plain": [
       "        go_id                                        go_term  num_drugs  \\\n",
       "0  GO:0008150                             biological_process        181   \n",
       "1  GO:0010951  negative regulation of endopeptidase activity         33   \n",
       "2  GO:0006805                   xenobiotic metabolic process        153   \n",
       "3  GO:0006629                        lipid metabolic process        169   \n",
       "4  GO:0030154                           cell differentiation        143   \n",
       "\n",
       "   num_prots  \n",
       "0         93  \n",
       "1         33  \n",
       "2         92  \n",
       "3        104  \n",
       "4        285  "
      ]
     },
     "execution_count": 28,
     "metadata": {},
     "output_type": "execute_result"
    }
   ],
   "source": [
    "feasible_bps.head()"
   ]
  },
  {
   "cell_type": "code",
   "execution_count": 29,
   "id": "be83b1b8",
   "metadata": {},
   "outputs": [],
   "source": [
    "feas_gobps = set(feasible_bps['go_id'])"
   ]
  },
  {
   "cell_type": "code",
   "execution_count": 30,
   "id": "8b24afd7",
   "metadata": {},
   "outputs": [
    {
     "data": {
      "text/plain": [
       "<matplotlib_venn._common.VennDiagram at 0x7f978837c160>"
      ]
     },
     "execution_count": 30,
     "metadata": {},
     "output_type": "execute_result"
    },
    {
     "data": {
      "image/png": "[encoded data removed]",
      "text/plain": [
       "<Figure size 540x252 with 1 Axes>"
      ]
     },
     "metadata": {},
     "output_type": "display_data"
    }
   ],
   "source": [
    "venn2_unweighted(\n",
    "    [feas_gobps, bps],\n",
    "    set_labels=['GO BPs in ChEMBL dataset', 'GO BPs in DrugMechDB']\n",
    ")"
   ]
  },
  {
   "attachments": {},
   "cell_type": "markdown",
   "id": "6ed6db17",
   "metadata": {},
   "source": [
    "Okay, yikes. Only two GO BPs are in the set from ChEMBL. Let's see how the overlap with the KGs is."
   ]
  },
  {
   "cell_type": "code",
   "execution_count": 31,
   "id": "79c07f20",
   "metadata": {},
   "outputs": [],
   "source": [
    "openbiolink_df = pd.read_csv(osp.join(KG_DIR, 'openbiolink_filtered.tsv'), sep='\\t')\n",
    "custom_df = pd.read_csv(osp.join(KG_DIR, 'customkg_filtered.tsv'), sep='\\t')"
   ]
  },
  {
   "attachments": {},
   "cell_type": "markdown",
   "id": "637b7e6c",
   "metadata": {},
   "source": [
    "In the `enrichment` notebook, we made a filtered mapping dataframe with GO annotations:"
   ]
  },
  {
   "cell_type": "code",
   "execution_count": 32,
   "id": "e176cd24",
   "metadata": {},
   "outputs": [],
   "source": [
    "MAPPING_DIR = '../data/mappings'"
   ]
  },
  {
   "cell_type": "code",
   "execution_count": 33,
   "id": "787d1d1f",
   "metadata": {},
   "outputs": [],
   "source": [
    "filtered_df = pd.read_csv('../data/mappings/in_kg_go_terms.tsv', sep='\\t')"
   ]
  },
  {
   "cell_type": "code",
   "execution_count": 34,
   "id": "606e94ca",
   "metadata": {},
   "outputs": [
    {
     "data": {
      "text/html": [
       "<div>\n",
       "<style scoped>\n",
       "    .dataframe tbody tr th:only-of-type {\n",
       "        vertical-align: middle;\n",
       "    }\n",
       "\n",
       "    .dataframe tbody tr th {\n",
       "        vertical-align: top;\n",
       "    }\n",
       "\n",
       "    .dataframe thead th {\n",
       "        text-align: right;\n",
       "    }\n",
       "</style>\n",
       "<table border=\"1\" class=\"dataframe\">\n",
       "  <thead>\n",
       "    <tr style=\"text-align: right;\">\n",
       "      <th></th>\n",
       "      <th>#tax_id</th>\n",
       "      <th>GeneID</th>\n",
       "      <th>GO_ID</th>\n",
       "      <th>Evidence</th>\n",
       "      <th>Qualifier</th>\n",
       "      <th>GO_term</th>\n",
       "      <th>PubMed</th>\n",
       "      <th>Category</th>\n",
       "    </tr>\n",
       "  </thead>\n",
       "  <tbody>\n",
       "    <tr>\n",
       "      <th>0</th>\n",
       "      <td>9606</td>\n",
       "      <td>ncbigene:2</td>\n",
       "      <td>GO:0001553</td>\n",
       "      <td>IEA</td>\n",
       "      <td>involved_in</td>\n",
       "      <td>luteinization</td>\n",
       "      <td>-</td>\n",
       "      <td>Process</td>\n",
       "    </tr>\n",
       "    <tr>\n",
       "      <th>1</th>\n",
       "      <td>9606</td>\n",
       "      <td>ncbigene:2</td>\n",
       "      <td>GO:0001869</td>\n",
       "      <td>IDA</td>\n",
       "      <td>involved_in</td>\n",
       "      <td>negative regulation of complement activation, ...</td>\n",
       "      <td>12538697</td>\n",
       "      <td>Process</td>\n",
       "    </tr>\n",
       "    <tr>\n",
       "      <th>2</th>\n",
       "      <td>9606</td>\n",
       "      <td>ncbigene:2</td>\n",
       "      <td>GO:0002020</td>\n",
       "      <td>IBA</td>\n",
       "      <td>enables</td>\n",
       "      <td>protease binding</td>\n",
       "      <td>21873635</td>\n",
       "      <td>Function</td>\n",
       "    </tr>\n",
       "    <tr>\n",
       "      <th>3</th>\n",
       "      <td>9606</td>\n",
       "      <td>ncbigene:2</td>\n",
       "      <td>GO:0002020</td>\n",
       "      <td>IPI</td>\n",
       "      <td>enables</td>\n",
       "      <td>protease binding</td>\n",
       "      <td>7679575|18485748</td>\n",
       "      <td>Function</td>\n",
       "    </tr>\n",
       "    <tr>\n",
       "      <th>4</th>\n",
       "      <td>9606</td>\n",
       "      <td>ncbigene:2</td>\n",
       "      <td>GO:0002438</td>\n",
       "      <td>IEA</td>\n",
       "      <td>involved_in</td>\n",
       "      <td>acute inflammatory response to antigenic stimulus</td>\n",
       "      <td>-</td>\n",
       "      <td>Process</td>\n",
       "    </tr>\n",
       "  </tbody>\n",
       "</table>\n",
       "</div>"
      ],
      "text/plain": [
       "   #tax_id      GeneID       GO_ID Evidence    Qualifier  \\\n",
       "0     9606  ncbigene:2  GO:0001553      IEA  involved_in   \n",
       "1     9606  ncbigene:2  GO:0001869      IDA  involved_in   \n",
       "2     9606  ncbigene:2  GO:0002020      IBA      enables   \n",
       "3     9606  ncbigene:2  GO:0002020      IPI      enables   \n",
       "4     9606  ncbigene:2  GO:0002438      IEA  involved_in   \n",
       "\n",
       "                                             GO_term            PubMed  \\\n",
       "0                                      luteinization                 -   \n",
       "1  negative regulation of complement activation, ...          12538697   \n",
       "2                                   protease binding          21873635   \n",
       "3                                   protease binding  7679575|18485748   \n",
       "4  acute inflammatory response to antigenic stimulus                 -   \n",
       "\n",
       "   Category  \n",
       "0   Process  \n",
       "1   Process  \n",
       "2  Function  \n",
       "3  Function  \n",
       "4   Process  "
      ]
     },
     "execution_count": 34,
     "metadata": {},
     "output_type": "execute_result"
    }
   ],
   "source": [
    "filtered_df.head()"
   ]
  },
  {
   "cell_type": "code",
   "execution_count": 35,
   "id": "e1330563",
   "metadata": {},
   "outputs": [],
   "source": [
    "bps_in_kg = set(filtered_df['GO_ID'])"
   ]
  },
  {
   "cell_type": "code",
   "execution_count": 36,
   "id": "36c81708",
   "metadata": {},
   "outputs": [
    {
     "data": {
      "text/plain": [
       "<matplotlib_venn._common.VennDiagram at 0x7f97b9a1d490>"
      ]
     },
     "execution_count": 36,
     "metadata": {},
     "output_type": "execute_result"
    },
    {
     "data": {
      "image/png": "[encoded data removed]",
      "text/plain": [
       "<Figure size 540x252 with 1 Axes>"
      ]
     },
     "metadata": {},
     "output_type": "display_data"
    }
   ],
   "source": [
    "venn2_unweighted(\n",
    "    [bps_in_kg, bps],\n",
    "    set_labels=['GO BPs in KGs', 'GO BPs in DrugMechDB']\n",
    ")"
   ]
  },
  {
   "cell_type": "code",
   "execution_count": 37,
   "id": "7a87823c",
   "metadata": {},
   "outputs": [],
   "source": [
    "from matplotlib_venn import venn3_unweighted"
   ]
  },
  {
   "cell_type": "code",
   "execution_count": 38,
   "id": "6c0452fc",
   "metadata": {},
   "outputs": [
    {
     "data": {
      "text/plain": [
       "<matplotlib_venn._common.VennDiagram at 0x7f97ea013220>"
      ]
     },
     "execution_count": 38,
     "metadata": {},
     "output_type": "execute_result"
    },
    {
     "data": {
      "image/png": "[encoded data removed]",
      "text/plain": [
       "<Figure size 540x252 with 1 Axes>"
      ]
     },
     "metadata": {},
     "output_type": "display_data"
    }
   ],
   "source": [
    "venn3_unweighted(\n",
    "    [bps_in_kg, bps, feas_gobps],\n",
    "    set_labels=['GO BPs in KGs', 'GO BPs in DrugMechDB', 'GO BPs in ChEMBL']\n",
    ")"
   ]
  },
  {
   "attachments": {},
   "cell_type": "markdown",
   "id": "fe963deb",
   "metadata": {},
   "source": [
    "Cool, at least most of them exist in the KG! That is important because we know they are at least connected to a protein and can be mapped.\n",
    "\n",
    "What about the drugs between DrugMechDB and the KG? First, we will have to map the drugs from DrugBank to PubChem."
   ]
  },
  {
   "cell_type": "code",
   "execution_count": 37,
   "id": "d364c3d5",
   "metadata": {},
   "outputs": [],
   "source": [
    "# Get all the KG drugs:\n",
    "obl_drugs = {d for d in openbiolink_df['source'] if 'pubchem.compound' in d}\n",
    "custom_drugs = {d for d in custom_df['source'] if 'pubchem.compound' in d}"
   ]
  },
  {
   "cell_type": "code",
   "execution_count": 38,
   "id": "0aad96f8",
   "metadata": {},
   "outputs": [],
   "source": [
    "custom_drugs.update(obl_drugs)"
   ]
  },
  {
   "attachments": {},
   "cell_type": "markdown",
   "id": "25e3726a",
   "metadata": {},
   "source": [
    "I got a mapping file from [DrugBank](https://go.drugbank.com), which requires a private login/ license."
   ]
  },
  {
   "cell_type": "code",
   "execution_count": 39,
   "id": "b7e5ea0c",
   "metadata": {},
   "outputs": [],
   "source": [
    "drugbank_mapping = pd.read_csv(osp.join(MAPPING_DIR, \"drugbank_all_drug_links.csv.zip\"))"
   ]
  },
  {
   "cell_type": "code",
   "execution_count": 40,
   "id": "a83fedda",
   "metadata": {},
   "outputs": [
    {
     "data": {
      "text/html": [
       "<div>\n",
       "<style scoped>\n",
       "    .dataframe tbody tr th:only-of-type {\n",
       "        vertical-align: middle;\n",
       "    }\n",
       "\n",
       "    .dataframe tbody tr th {\n",
       "        vertical-align: top;\n",
       "    }\n",
       "\n",
       "    .dataframe thead th {\n",
       "        text-align: right;\n",
       "    }\n",
       "</style>\n",
       "<table border=\"1\" class=\"dataframe\">\n",
       "  <thead>\n",
       "    <tr style=\"text-align: right;\">\n",
       "      <th></th>\n",
       "      <th>DrugBank ID</th>\n",
       "      <th>Name</th>\n",
       "      <th>CAS Number</th>\n",
       "      <th>Drug Type</th>\n",
       "      <th>KEGG Compound ID</th>\n",
       "      <th>KEGG Drug ID</th>\n",
       "      <th>PubChem Compound ID</th>\n",
       "      <th>PubChem Substance ID</th>\n",
       "      <th>ChEBI ID</th>\n",
       "      <th>PharmGKB ID</th>\n",
       "      <th>...</th>\n",
       "      <th>GenBank ID</th>\n",
       "      <th>DPD ID</th>\n",
       "      <th>RxList Link</th>\n",
       "      <th>Pdrhealth Link</th>\n",
       "      <th>Wikipedia ID</th>\n",
       "      <th>Drugs.com Link</th>\n",
       "      <th>NDC ID</th>\n",
       "      <th>ChemSpider ID</th>\n",
       "      <th>BindingDB ID</th>\n",
       "      <th>TTD ID</th>\n",
       "    </tr>\n",
       "  </thead>\n",
       "  <tbody>\n",
       "    <tr>\n",
       "      <th>0</th>\n",
       "      <td>DB00001</td>\n",
       "      <td>Lepirudin</td>\n",
       "      <td>138068-37-8</td>\n",
       "      <td>BiotechDrug</td>\n",
       "      <td>NaN</td>\n",
       "      <td>D06880</td>\n",
       "      <td>NaN</td>\n",
       "      <td>46507011.0</td>\n",
       "      <td>NaN</td>\n",
       "      <td>PA450195</td>\n",
       "      <td>...</td>\n",
       "      <td>NaN</td>\n",
       "      <td>11916</td>\n",
       "      <td>http://www.rxlist.com/cgi/generic/lepirudin.htm</td>\n",
       "      <td>NaN</td>\n",
       "      <td>Lepirudin</td>\n",
       "      <td>http://www.drugs.com/cdi/lepirudin.html</td>\n",
       "      <td>NaN</td>\n",
       "      <td>NaN</td>\n",
       "      <td>NaN</td>\n",
       "      <td>DAP000541</td>\n",
       "    </tr>\n",
       "    <tr>\n",
       "      <th>1</th>\n",
       "      <td>DB00002</td>\n",
       "      <td>Cetuximab</td>\n",
       "      <td>205923-56-4</td>\n",
       "      <td>BiotechDrug</td>\n",
       "      <td>NaN</td>\n",
       "      <td>D03455</td>\n",
       "      <td>NaN</td>\n",
       "      <td>46507042.0</td>\n",
       "      <td>NaN</td>\n",
       "      <td>PA10040</td>\n",
       "      <td>...</td>\n",
       "      <td>J00228</td>\n",
       "      <td>13175</td>\n",
       "      <td>http://www.rxlist.com/cgi/generic3/erbitux.htm</td>\n",
       "      <td>NaN</td>\n",
       "      <td>Cetuximab</td>\n",
       "      <td>http://www.drugs.com/cdi/cetuximab.html</td>\n",
       "      <td>NaN</td>\n",
       "      <td>NaN</td>\n",
       "      <td>NaN</td>\n",
       "      <td>DNC000788</td>\n",
       "    </tr>\n",
       "    <tr>\n",
       "      <th>2</th>\n",
       "      <td>DB00003</td>\n",
       "      <td>Dornase alfa</td>\n",
       "      <td>143831-71-4</td>\n",
       "      <td>BiotechDrug</td>\n",
       "      <td>NaN</td>\n",
       "      <td>NaN</td>\n",
       "      <td>NaN</td>\n",
       "      <td>46507792.0</td>\n",
       "      <td>NaN</td>\n",
       "      <td>PA10318</td>\n",
       "      <td>...</td>\n",
       "      <td>M55983</td>\n",
       "      <td>650</td>\n",
       "      <td>http://www.rxlist.com/cgi/generic/pulmozyme.htm</td>\n",
       "      <td>NaN</td>\n",
       "      <td>Dornase_alfa</td>\n",
       "      <td>http://www.drugs.com/cdi/dornase-alfa.html</td>\n",
       "      <td>NaN</td>\n",
       "      <td>NaN</td>\n",
       "      <td>NaN</td>\n",
       "      <td>DAP000981</td>\n",
       "    </tr>\n",
       "    <tr>\n",
       "      <th>3</th>\n",
       "      <td>DB00004</td>\n",
       "      <td>Denileukin diftitox</td>\n",
       "      <td>173146-27-5</td>\n",
       "      <td>BiotechDrug</td>\n",
       "      <td>NaN</td>\n",
       "      <td>NaN</td>\n",
       "      <td>NaN</td>\n",
       "      <td>46506950.0</td>\n",
       "      <td>NaN</td>\n",
       "      <td>PA164750594</td>\n",
       "      <td>...</td>\n",
       "      <td>V01536</td>\n",
       "      <td>NaN</td>\n",
       "      <td>http://www.rxlist.com/cgi/generic2/denileukin.htm</td>\n",
       "      <td>NaN</td>\n",
       "      <td>Denileukin_diftitox</td>\n",
       "      <td>http://www.drugs.com/cdi/denileukin-diftitox.html</td>\n",
       "      <td>NaN</td>\n",
       "      <td>NaN</td>\n",
       "      <td>NaN</td>\n",
       "      <td>DAP001098</td>\n",
       "    </tr>\n",
       "    <tr>\n",
       "      <th>4</th>\n",
       "      <td>DB00005</td>\n",
       "      <td>Etanercept</td>\n",
       "      <td>185243-69-0</td>\n",
       "      <td>BiotechDrug</td>\n",
       "      <td>C07897</td>\n",
       "      <td>D00742</td>\n",
       "      <td>NaN</td>\n",
       "      <td>46506732.0</td>\n",
       "      <td>NaN</td>\n",
       "      <td>PA449515</td>\n",
       "      <td>...</td>\n",
       "      <td>M32315</td>\n",
       "      <td>12032</td>\n",
       "      <td>http://www.rxlist.com/cgi/generic/etanercept.htm</td>\n",
       "      <td>NaN</td>\n",
       "      <td>Etanercept</td>\n",
       "      <td>http://www.drugs.com/cdi/etanercept.html</td>\n",
       "      <td>NaN</td>\n",
       "      <td>NaN</td>\n",
       "      <td>NaN</td>\n",
       "      <td>DNC000605</td>\n",
       "    </tr>\n",
       "  </tbody>\n",
       "</table>\n",
       "<p>5 rows × 23 columns</p>\n",
       "</div>"
      ],
      "text/plain": [
       "  DrugBank ID                 Name   CAS Number    Drug Type KEGG Compound ID  \\\n",
       "0     DB00001            Lepirudin  138068-37-8  BiotechDrug              NaN   \n",
       "1     DB00002            Cetuximab  205923-56-4  BiotechDrug              NaN   \n",
       "2     DB00003         Dornase alfa  143831-71-4  BiotechDrug              NaN   \n",
       "3     DB00004  Denileukin diftitox  173146-27-5  BiotechDrug              NaN   \n",
       "4     DB00005           Etanercept  185243-69-0  BiotechDrug           C07897   \n",
       "\n",
       "  KEGG Drug ID  PubChem Compound ID  PubChem Substance ID  ChEBI ID  \\\n",
       "0       D06880                  NaN            46507011.0       NaN   \n",
       "1       D03455                  NaN            46507042.0       NaN   \n",
       "2          NaN                  NaN            46507792.0       NaN   \n",
       "3          NaN                  NaN            46506950.0       NaN   \n",
       "4       D00742                  NaN            46506732.0       NaN   \n",
       "\n",
       "   PharmGKB ID  ... GenBank ID DPD ID  \\\n",
       "0     PA450195  ...        NaN  11916   \n",
       "1      PA10040  ...     J00228  13175   \n",
       "2      PA10318  ...     M55983    650   \n",
       "3  PA164750594  ...     V01536    NaN   \n",
       "4     PA449515  ...     M32315  12032   \n",
       "\n",
       "                                         RxList Link Pdrhealth Link  \\\n",
       "0    http://www.rxlist.com/cgi/generic/lepirudin.htm            NaN   \n",
       "1     http://www.rxlist.com/cgi/generic3/erbitux.htm            NaN   \n",
       "2    http://www.rxlist.com/cgi/generic/pulmozyme.htm            NaN   \n",
       "3  http://www.rxlist.com/cgi/generic2/denileukin.htm            NaN   \n",
       "4   http://www.rxlist.com/cgi/generic/etanercept.htm            NaN   \n",
       "\n",
       "          Wikipedia ID                                     Drugs.com Link  \\\n",
       "0            Lepirudin            http://www.drugs.com/cdi/lepirudin.html   \n",
       "1            Cetuximab            http://www.drugs.com/cdi/cetuximab.html   \n",
       "2         Dornase_alfa         http://www.drugs.com/cdi/dornase-alfa.html   \n",
       "3  Denileukin_diftitox  http://www.drugs.com/cdi/denileukin-diftitox.html   \n",
       "4           Etanercept           http://www.drugs.com/cdi/etanercept.html   \n",
       "\n",
       "  NDC ID ChemSpider ID BindingDB ID     TTD ID  \n",
       "0    NaN           NaN          NaN  DAP000541  \n",
       "1    NaN           NaN          NaN  DNC000788  \n",
       "2    NaN           NaN          NaN  DAP000981  \n",
       "3    NaN           NaN          NaN  DAP001098  \n",
       "4    NaN           NaN          NaN  DNC000605  \n",
       "\n",
       "[5 rows x 23 columns]"
      ]
     },
     "execution_count": 40,
     "metadata": {},
     "output_type": "execute_result"
    }
   ],
   "source": [
    "drugbank_mapping.head()"
   ]
  },
  {
   "attachments": {},
   "cell_type": "markdown",
   "id": "1b8c162c",
   "metadata": {},
   "source": [
    "Looks like we need the PubChem IDs without their prefixes:"
   ]
  },
  {
   "cell_type": "code",
   "execution_count": 41,
   "id": "eda45966",
   "metadata": {},
   "outputs": [],
   "source": [
    "cids = [cid.split(':')[1] for cid in custom_drugs]"
   ]
  },
  {
   "attachments": {},
   "cell_type": "markdown",
   "id": "060cf7f4",
   "metadata": {},
   "source": [
    "The PubChem IDs are floats in the table. This is probably because there are NaNs."
   ]
  },
  {
   "cell_type": "code",
   "execution_count": 42,
   "id": "e27275c0",
   "metadata": {},
   "outputs": [
    {
     "data": {
      "text/plain": [
       "Index(['DrugBank ID', 'Name', 'CAS Number', 'Drug Type', 'KEGG Compound ID',\n",
       "       'KEGG Drug ID', 'PubChem Compound ID', 'PubChem Substance ID',\n",
       "       'ChEBI ID', 'PharmGKB ID', 'HET ID', 'UniProt ID', 'UniProt Title',\n",
       "       'GenBank ID', 'DPD ID', 'RxList Link', 'Pdrhealth Link', 'Wikipedia ID',\n",
       "       'Drugs.com Link', 'NDC ID', 'ChemSpider ID', 'BindingDB ID', 'TTD ID'],\n",
       "      dtype='object')"
      ]
     },
     "execution_count": 42,
     "metadata": {},
     "output_type": "execute_result"
    }
   ],
   "source": [
    "drugbank_mapping.columns"
   ]
  },
  {
   "cell_type": "code",
   "execution_count": 43,
   "id": "d8ce9b11",
   "metadata": {},
   "outputs": [],
   "source": [
    "db2pc = {}\n",
    "for dbid, pcid in zip(drugbank_mapping['DrugBank ID'], drugbank_mapping['PubChem Compound ID']):\n",
    "    if not math.isnan(pcid):\n",
    "        db2pc[dbid] = int(pcid)\n",
    "    #else:\n",
    "    #    db2pc[dbid] = pcid"
   ]
  },
  {
   "cell_type": "code",
   "execution_count": 44,
   "id": "29279cf1",
   "metadata": {},
   "outputs": [],
   "source": [
    "# Get all drugs from DrugMechDB\n",
    "dmdb_drugs = set(indications['db_id'])"
   ]
  },
  {
   "cell_type": "code",
   "execution_count": 45,
   "id": "005c16d3",
   "metadata": {},
   "outputs": [
    {
     "data": {
      "text/plain": [
       "<matplotlib_venn._common.VennDiagram at 0x169992760>"
      ]
     },
     "execution_count": 45,
     "metadata": {},
     "output_type": "execute_result"
    },
    {
     "data": {
      "image/png": "[encoded data removed]",
      "text/plain": [
       "<Figure size 750x350 with 1 Axes>"
      ]
     },
     "metadata": {},
     "output_type": "display_data"
    }
   ],
   "source": [
    "venn2_unweighted(\n",
    "    [set(db2pc.keys()), dmdb_drugs],\n",
    "    set_labels=['DrugBank IDs with mappings', 'Drugs in DrugMechDB']\n",
    ")"
   ]
  },
  {
   "attachments": {},
   "cell_type": "markdown",
   "id": "e84f1a80",
   "metadata": {},
   "source": [
    "15 of the drugs in DrugMechDB do not have mappings in this file.\n",
    "\n",
    "For some, this is because these drugs are small proteins or don't have a discrete structure.\n",
    "\n",
    "For others, the reference is just missing, so I looked them up manually:"
   ]
  },
  {
   "cell_type": "code",
   "execution_count": 46,
   "id": "eb20512f",
   "metadata": {},
   "outputs": [],
   "source": [
    "db2pc['DB11254'] = '3610'\n",
    "db2pc['DB00994'] = '8378'\n",
    "db2pc['DB06762'] = '4826'\n",
    "db2pc['DB11100'] = '204'\n",
    "db2pc['DB11152'] = '119236'\n",
    "db2pc['DB13676'] = '4257'"
   ]
  },
  {
   "cell_type": "code",
   "execution_count": 47,
   "id": "7e2faec6",
   "metadata": {},
   "outputs": [
    {
     "data": {
      "text/plain": [
       "<matplotlib_venn._common.VennDiagram at 0x1699f5dc0>"
      ]
     },
     "execution_count": 47,
     "metadata": {},
     "output_type": "execute_result"
    },
    {
     "data": {
      "image/png": "[encoded data removed]",
      "text/plain": [
       "<Figure size 750x350 with 1 Axes>"
      ]
     },
     "metadata": {},
     "output_type": "display_data"
    }
   ],
   "source": [
    "venn2_unweighted(\n",
    "    [set(db2pc.keys()), dmdb_drugs],\n",
    "    set_labels=['DrugBank IDs with mappings', 'Drugs in DrugMechDB']\n",
    ")"
   ]
  },
  {
   "cell_type": "code",
   "execution_count": 48,
   "id": "06cfdb89",
   "metadata": {},
   "outputs": [],
   "source": [
    "dmdb_drug_pc_ids = {str(db2pc[d]) for d in set(db2pc.keys()).intersection(dmdb_drugs)}"
   ]
  },
  {
   "cell_type": "code",
   "execution_count": 49,
   "id": "9589d252",
   "metadata": {},
   "outputs": [
    {
     "data": {
      "text/plain": [
       "94"
      ]
     },
     "execution_count": 49,
     "metadata": {},
     "output_type": "execute_result"
    }
   ],
   "source": [
    "len(dmdb_drug_pc_ids)"
   ]
  },
  {
   "cell_type": "code",
   "execution_count": 50,
   "id": "7832cac5",
   "metadata": {},
   "outputs": [
    {
     "data": {
      "text/plain": [
       "<matplotlib_venn._common.VennDiagram at 0x169a3cfa0>"
      ]
     },
     "execution_count": 50,
     "metadata": {},
     "output_type": "execute_result"
    },
    {
     "data": {
      "image/png": "[encoded data removed]",
      "text/plain": [
       "<Figure size 750x350 with 1 Axes>"
      ]
     },
     "metadata": {},
     "output_type": "display_data"
    }
   ],
   "source": [
    "venn2_unweighted(\n",
    "    [set(cids), dmdb_drug_pc_ids],\n",
    "    set_labels=['Drugs in KG', 'Drugs in DrugMechDB']\n",
    ")"
   ]
  },
  {
   "attachments": {},
   "cell_type": "markdown",
   "id": "1d8af421",
   "metadata": {},
   "source": [
    "Only 22 of those 94 are in the KG. Is it worth incorporating the 72 into the KG? Perhaps we can see whether their protein targets are already in the KG, and whether we need to incorporate them.\n",
    "\n",
    "### Protein Overlap\n",
    "\n",
    "First, let's get all the proteins from the paths and see how many of them are in the KG."
   ]
  },
  {
   "cell_type": "code",
   "execution_count": 51,
   "id": "03f7988a",
   "metadata": {},
   "outputs": [],
   "source": [
    "prots_in_kg = set(filtered_df['GeneID'])"
   ]
  },
  {
   "cell_type": "code",
   "execution_count": 52,
   "id": "6f796ba2",
   "metadata": {},
   "outputs": [],
   "source": [
    "dmdb_proteins = set()\n",
    "for path in bp_paths:\n",
    "    for node in path['nodes']:\n",
    "        if node['label'] == 'Protein':\n",
    "            dmdb_proteins.add(node['id'])"
   ]
  },
  {
   "cell_type": "code",
   "execution_count": 53,
   "id": "e642b88c",
   "metadata": {},
   "outputs": [
    {
     "data": {
      "text/plain": [
       "56"
      ]
     },
     "execution_count": 53,
     "metadata": {},
     "output_type": "execute_result"
    }
   ],
   "source": [
    "len(dmdb_proteins)"
   ]
  },
  {
   "cell_type": "code",
   "execution_count": 54,
   "id": "8d69277b",
   "metadata": {},
   "outputs": [
    {
     "data": {
      "text/plain": [
       "{'MESH:D012338',\n",
       " 'MESH:Q14145',\n",
       " 'UniProt:O05131',\n",
       " 'UniProt:O43497',\n",
       " 'UniProt:O76074',\n",
       " 'UniProt:P01148',\n",
       " 'UniProt:P04083',\n",
       " 'UniProt:P04150',\n",
       " 'UniProt:P04585',\n",
       " 'UniProt:P06401',\n",
       " 'UniProt:P08546',\n",
       " 'UniProt:P08588',\n",
       " 'UniProt:P08908',\n",
       " 'UniProt:P09917',\n",
       " 'UniProt:P0A0H0',\n",
       " 'UniProt:P0A298',\n",
       " 'UniProt:P0A7J3',\n",
       " 'UniProt:P0A7S3',\n",
       " 'UniProt:P0C1U9',\n",
       " 'UniProt:P10275',\n",
       " 'UniProt:P10721',\n",
       " 'UniProt:P11388',\n",
       " 'UniProt:P11511',\n",
       " 'UniProt:P14416',\n",
       " 'UniProt:P14867',\n",
       " 'UniProt:P16234',\n",
       " 'UniProt:P19235',\n",
       " 'UniProt:P20831',\n",
       " 'UniProt:P22301',\n",
       " 'UniProt:P23219',\n",
       " 'UniProt:P23945',\n",
       " 'UniProt:P23975',\n",
       " 'UniProt:P25021',\n",
       " 'UniProt:P31645',\n",
       " 'UniProt:P35348',\n",
       " 'UniProt:P35354',\n",
       " 'UniProt:P35367',\n",
       " 'UniProt:P35372',\n",
       " 'UniProt:P43702',\n",
       " 'UniProt:P44350',\n",
       " 'UniProt:P47712',\n",
       " 'UniProt:P48048',\n",
       " 'UniProt:P48357',\n",
       " 'UniProt:P54289',\n",
       " 'UniProt:P55017',\n",
       " 'UniProt:P71707',\n",
       " 'UniProt:P72525',\n",
       " 'UniProt:P9WGY7',\n",
       " 'UniProt:Q01726',\n",
       " 'UniProt:Q12791',\n",
       " 'UniProt:Q16236',\n",
       " 'UniProt:Q81VT3',\n",
       " 'UniProt:Q8DR59',\n",
       " 'UniProt:Q9BQB6',\n",
       " 'UniProt:Q9HB55',\n",
       " 'UniProt:Q9NZQ7'}"
      ]
     },
     "execution_count": 54,
     "metadata": {},
     "output_type": "execute_result"
    }
   ],
   "source": [
    "dmdb_proteins"
   ]
  },
  {
   "attachments": {},
   "cell_type": "markdown",
   "id": "2933d043",
   "metadata": {},
   "source": [
    "If we look into those proteins, most have [UniProt](https://www.uniprot.org) IDs, but some are under [MeSH](https://www.nlm.nih.gov/mesh/meshhome.html) terms.\n",
    "\n",
    "MESH:Q14145, can not even be found in the MeSH browser.\n",
    "\n",
    "I will just look at the UniProt proteins then. I will need to map them to ncbi gene IDs first:"
   ]
  },
  {
   "cell_type": "code",
   "execution_count": 55,
   "id": "5a9788a7",
   "metadata": {},
   "outputs": [],
   "source": [
    "# get rid of MeSh terms:\n",
    "dmdb_proteins = {p for p in dmdb_proteins if 'UniProt' in p}"
   ]
  },
  {
   "cell_type": "code",
   "execution_count": 56,
   "id": "b901a845",
   "metadata": {},
   "outputs": [],
   "source": [
    "def uniprot2ncbi(uniprot_ids):\n",
    "    \"\"\"Outputs a dictionary mapping from uniprot IDs to ncbi gene IDs.\n",
    "    :param uniprot_ids: a list of uniprot IDs with UniProt: prefix\n",
    "    :returns: dictionary with uniprot as keys as ncbi gene as values\n",
    "    \"\"\"\n",
    "    up2ncbi = {up_id: None for up_id in uniprot_ids}\n",
    "    for up_id in tqdm(uniprot_ids):\n",
    "        up = up_id.split(':')[1]\n",
    "        r = requests.get(f'https://rest.uniprot.org/uniprotkb/search?query={up}')\n",
    "        xrefs = r.json()['results'][0]['uniProtKBCrossReferences']\n",
    "        for xref in xrefs:\n",
    "            if xref['database'] == 'GeneID':\n",
    "                up2ncbi[up_id] = 'ncbigene:' + xref['id']\n",
    "                break\n",
    "    return up2ncbi"
   ]
  },
  {
   "cell_type": "code",
   "execution_count": 57,
   "id": "c7be9230",
   "metadata": {},
   "outputs": [
    {
     "name": "stderr",
     "output_type": "stream",
     "text": [
      "100%|█████████████████████████████████████████████████| 54/54 [00:18<00:00,  2.89it/s]\n"
     ]
    }
   ],
   "source": [
    "dmdb_prot_mappings = uniprot2ncbi(dmdb_proteins)"
   ]
  },
  {
   "attachments": {},
   "cell_type": "markdown",
   "id": "0e7b6dd8",
   "metadata": {},
   "source": [
    "How many did not map?"
   ]
  },
  {
   "cell_type": "code",
   "execution_count": 58,
   "id": "960971bf",
   "metadata": {},
   "outputs": [
    {
     "data": {
      "text/plain": [
       "8"
      ]
     },
     "execution_count": 58,
     "metadata": {},
     "output_type": "execute_result"
    }
   ],
   "source": [
    "len([i for i in dmdb_prot_mappings.values() if i == None])"
   ]
  },
  {
   "attachments": {},
   "cell_type": "markdown",
   "id": "83d772f3",
   "metadata": {},
   "source": [
    "How many in the KG?"
   ]
  },
  {
   "cell_type": "code",
   "execution_count": 59,
   "id": "f62a8003",
   "metadata": {},
   "outputs": [
    {
     "data": {
      "text/plain": [
       "<matplotlib_venn._common.VennDiagram at 0x169af4d30>"
      ]
     },
     "execution_count": 59,
     "metadata": {},
     "output_type": "execute_result"
    },
    {
     "data": {
      "image/png": "[encoded data removed]",
      "text/plain": [
       "<Figure size 750x350 with 1 Axes>"
      ]
     },
     "metadata": {},
     "output_type": "display_data"
    }
   ],
   "source": [
    "venn2_unweighted(\n",
    "    [prots_in_kg, set(dmdb_prot_mappings.values())],\n",
    "    set_labels=['Proteins in KG', 'Proteins in DrugMechDB']\n",
    ")"
   ]
  },
  {
   "attachments": {},
   "cell_type": "markdown",
   "id": "3bed9db5",
   "metadata": {},
   "source": [
    "Which one is not in the KG?"
   ]
  },
  {
   "cell_type": "code",
   "execution_count": 60,
   "id": "bffdb2e5",
   "metadata": {},
   "outputs": [
    {
     "data": {
      "text/plain": [
       "{None,\n",
       " 'ncbigene:155348',\n",
       " 'ncbigene:3920380',\n",
       " 'ncbigene:45020152',\n",
       " 'ncbigene:67415314',\n",
       " 'ncbigene:67460217',\n",
       " 'ncbigene:67463992',\n",
       " 'ncbigene:887065',\n",
       " 'ncbigene:888177'}"
      ]
     },
     "execution_count": 60,
     "metadata": {},
     "output_type": "execute_result"
    }
   ],
   "source": [
    "set(dmdb_prot_mappings.values()) - prots_in_kg"
   ]
  },
  {
   "attachments": {},
   "cell_type": "markdown",
   "id": "6d7baa67",
   "metadata": {},
   "source": [
    "It's [Gag-Pol / Human immunodeficiency virus 1 ](https://www.ncbi.nlm.nih.gov/gene/?term=155348). Makes sense as it is actually a viral protein. How many BP paths is it involved in?"
   ]
  },
  {
   "cell_type": "code",
   "execution_count": 61,
   "id": "e60ceb5a",
   "metadata": {},
   "outputs": [],
   "source": [
    "# TO BE FINISHED"
   ]
  },
  {
   "attachments": {},
   "cell_type": "markdown",
   "id": "20b18ec8",
   "metadata": {},
   "source": [
    "The DrugBank recorded targets:"
   ]
  },
  {
   "cell_type": "code",
   "execution_count": 62,
   "id": "6a04cee1",
   "metadata": {},
   "outputs": [],
   "source": [
    "db_uniprot_mapping = pd.read_csv(osp.join(MAPPING_DIR, \"drugbank_all_target_uniprot_links.csv.zip\"))"
   ]
  },
  {
   "cell_type": "code",
   "execution_count": 63,
   "id": "39508ae4",
   "metadata": {},
   "outputs": [
    {
     "data": {
      "text/html": [
       "<div>\n",
       "<style scoped>\n",
       "    .dataframe tbody tr th:only-of-type {\n",
       "        vertical-align: middle;\n",
       "    }\n",
       "\n",
       "    .dataframe tbody tr th {\n",
       "        vertical-align: top;\n",
       "    }\n",
       "\n",
       "    .dataframe thead th {\n",
       "        text-align: right;\n",
       "    }\n",
       "</style>\n",
       "<table border=\"1\" class=\"dataframe\">\n",
       "  <thead>\n",
       "    <tr style=\"text-align: right;\">\n",
       "      <th></th>\n",
       "      <th>DrugBank ID</th>\n",
       "      <th>Name</th>\n",
       "      <th>Type</th>\n",
       "      <th>UniProt ID</th>\n",
       "      <th>UniProt Name</th>\n",
       "    </tr>\n",
       "  </thead>\n",
       "  <tbody>\n",
       "    <tr>\n",
       "      <th>0</th>\n",
       "      <td>DB00001</td>\n",
       "      <td>Lepirudin</td>\n",
       "      <td>BiotechDrug</td>\n",
       "      <td>P00734</td>\n",
       "      <td>Prothrombin</td>\n",
       "    </tr>\n",
       "    <tr>\n",
       "      <th>1</th>\n",
       "      <td>DB00002</td>\n",
       "      <td>Cetuximab</td>\n",
       "      <td>BiotechDrug</td>\n",
       "      <td>P00533</td>\n",
       "      <td>Epidermal growth factor receptor</td>\n",
       "    </tr>\n",
       "    <tr>\n",
       "      <th>2</th>\n",
       "      <td>DB00002</td>\n",
       "      <td>Cetuximab</td>\n",
       "      <td>BiotechDrug</td>\n",
       "      <td>O75015</td>\n",
       "      <td>Low affinity immunoglobulin gamma Fc region re...</td>\n",
       "    </tr>\n",
       "    <tr>\n",
       "      <th>3</th>\n",
       "      <td>DB00002</td>\n",
       "      <td>Cetuximab</td>\n",
       "      <td>BiotechDrug</td>\n",
       "      <td>P02745</td>\n",
       "      <td>Complement C1q subcomponent subunit A</td>\n",
       "    </tr>\n",
       "    <tr>\n",
       "      <th>4</th>\n",
       "      <td>DB00002</td>\n",
       "      <td>Cetuximab</td>\n",
       "      <td>BiotechDrug</td>\n",
       "      <td>P02746</td>\n",
       "      <td>Complement C1q subcomponent subunit B</td>\n",
       "    </tr>\n",
       "  </tbody>\n",
       "</table>\n",
       "</div>"
      ],
      "text/plain": [
       "  DrugBank ID       Name         Type UniProt ID  \\\n",
       "0     DB00001  Lepirudin  BiotechDrug     P00734   \n",
       "1     DB00002  Cetuximab  BiotechDrug     P00533   \n",
       "2     DB00002  Cetuximab  BiotechDrug     O75015   \n",
       "3     DB00002  Cetuximab  BiotechDrug     P02745   \n",
       "4     DB00002  Cetuximab  BiotechDrug     P02746   \n",
       "\n",
       "                                        UniProt Name  \n",
       "0                                        Prothrombin  \n",
       "1                   Epidermal growth factor receptor  \n",
       "2  Low affinity immunoglobulin gamma Fc region re...  \n",
       "3              Complement C1q subcomponent subunit A  \n",
       "4              Complement C1q subcomponent subunit B  "
      ]
     },
     "execution_count": 63,
     "metadata": {},
     "output_type": "execute_result"
    }
   ],
   "source": [
    "db_uniprot_mapping.head()"
   ]
  },
  {
   "attachments": {},
   "cell_type": "markdown",
   "id": "42e12cce",
   "metadata": {},
   "source": [
    "## Metapaths\n",
    "\n",
    "Finally, let's explore the metapaths a bit.\n",
    "\n",
    "There are two sheets for metapaths. One is the original metapaths:"
   ]
  },
  {
   "cell_type": "code",
   "execution_count": 64,
   "id": "c1efde37",
   "metadata": {},
   "outputs": [],
   "source": [
    "metapaths = pd.read_excel(dm_db, 'metapaths')"
   ]
  },
  {
   "cell_type": "code",
   "execution_count": 65,
   "id": "ae60b398",
   "metadata": {},
   "outputs": [
    {
     "data": {
      "text/html": [
       "<div>\n",
       "<style scoped>\n",
       "    .dataframe tbody tr th:only-of-type {\n",
       "        vertical-align: middle;\n",
       "    }\n",
       "\n",
       "    .dataframe tbody tr th {\n",
       "        vertical-align: top;\n",
       "    }\n",
       "\n",
       "    .dataframe thead th {\n",
       "        text-align: right;\n",
       "    }\n",
       "</style>\n",
       "<table border=\"1\" class=\"dataframe\">\n",
       "  <thead>\n",
       "    <tr style=\"text-align: right;\">\n",
       "      <th></th>\n",
       "      <th>n1</th>\n",
       "      <th>e1</th>\n",
       "      <th>n2</th>\n",
       "      <th>e2</th>\n",
       "      <th>n3</th>\n",
       "      <th>e3</th>\n",
       "      <th>n4</th>\n",
       "      <th>e4</th>\n",
       "      <th>n5</th>\n",
       "      <th>e5</th>\n",
       "      <th>n6</th>\n",
       "      <th>e6</th>\n",
       "      <th>n7</th>\n",
       "      <th>e7</th>\n",
       "      <th>n8</th>\n",
       "    </tr>\n",
       "  </thead>\n",
       "  <tbody>\n",
       "    <tr>\n",
       "      <th>0</th>\n",
       "      <td>Drug</td>\n",
       "      <td>INHIBITS</td>\n",
       "      <td>Protein</td>\n",
       "      <td>CAUSES</td>\n",
       "      <td>Disease</td>\n",
       "      <td>NaN</td>\n",
       "      <td>NaN</td>\n",
       "      <td>NaN</td>\n",
       "      <td>NaN</td>\n",
       "      <td>NaN</td>\n",
       "      <td>NaN</td>\n",
       "      <td>NaN</td>\n",
       "      <td>NaN</td>\n",
       "      <td>NaN</td>\n",
       "      <td>NaN</td>\n",
       "    </tr>\n",
       "    <tr>\n",
       "      <th>1</th>\n",
       "      <td>Drug</td>\n",
       "      <td>INHIBITS</td>\n",
       "      <td>Protein</td>\n",
       "      <td>UP_REGULATES</td>\n",
       "      <td>Biological Process</td>\n",
       "      <td>CAUSES</td>\n",
       "      <td>Disease</td>\n",
       "      <td>NaN</td>\n",
       "      <td>NaN</td>\n",
       "      <td>NaN</td>\n",
       "      <td>NaN</td>\n",
       "      <td>NaN</td>\n",
       "      <td>NaN</td>\n",
       "      <td>NaN</td>\n",
       "      <td>NaN</td>\n",
       "    </tr>\n",
       "    <tr>\n",
       "      <th>2</th>\n",
       "      <td>Drug</td>\n",
       "      <td>INHIBITS</td>\n",
       "      <td>Protein</td>\n",
       "      <td>UP_REGULATES</td>\n",
       "      <td>Biological Process</td>\n",
       "      <td>CAUSES</td>\n",
       "      <td>Disease</td>\n",
       "      <td>NaN</td>\n",
       "      <td>NaN</td>\n",
       "      <td>NaN</td>\n",
       "      <td>NaN</td>\n",
       "      <td>NaN</td>\n",
       "      <td>NaN</td>\n",
       "      <td>NaN</td>\n",
       "      <td>NaN</td>\n",
       "    </tr>\n",
       "    <tr>\n",
       "      <th>3</th>\n",
       "      <td>Drug</td>\n",
       "      <td>INHIBITS</td>\n",
       "      <td>Pathway</td>\n",
       "      <td>ASSOCIATED_WITH</td>\n",
       "      <td>Disease</td>\n",
       "      <td>NaN</td>\n",
       "      <td>NaN</td>\n",
       "      <td>NaN</td>\n",
       "      <td>NaN</td>\n",
       "      <td>NaN</td>\n",
       "      <td>NaN</td>\n",
       "      <td>NaN</td>\n",
       "      <td>NaN</td>\n",
       "      <td>NaN</td>\n",
       "      <td>NaN</td>\n",
       "    </tr>\n",
       "    <tr>\n",
       "      <th>4</th>\n",
       "      <td>Drug</td>\n",
       "      <td>INHIBITS</td>\n",
       "      <td>Protein</td>\n",
       "      <td>PRODUCES</td>\n",
       "      <td>Compound Class</td>\n",
       "      <td>CAUSES</td>\n",
       "      <td>Disease</td>\n",
       "      <td>NaN</td>\n",
       "      <td>NaN</td>\n",
       "      <td>NaN</td>\n",
       "      <td>NaN</td>\n",
       "      <td>NaN</td>\n",
       "      <td>NaN</td>\n",
       "      <td>NaN</td>\n",
       "      <td>NaN</td>\n",
       "    </tr>\n",
       "  </tbody>\n",
       "</table>\n",
       "</div>"
      ],
      "text/plain": [
       "     n1        e1       n2               e2                  n3      e3  \\\n",
       "0  Drug  INHIBITS  Protein           CAUSES             Disease     NaN   \n",
       "1  Drug  INHIBITS  Protein     UP_REGULATES  Biological Process  CAUSES   \n",
       "2  Drug  INHIBITS  Protein     UP_REGULATES  Biological Process  CAUSES   \n",
       "3  Drug  INHIBITS  Pathway  ASSOCIATED_WITH             Disease     NaN   \n",
       "4  Drug  INHIBITS  Protein         PRODUCES      Compound Class  CAUSES   \n",
       "\n",
       "        n4   e4   n5   e5   n6   e6   n7   e7   n8  \n",
       "0      NaN  NaN  NaN  NaN  NaN  NaN  NaN  NaN  NaN  \n",
       "1  Disease  NaN  NaN  NaN  NaN  NaN  NaN  NaN  NaN  \n",
       "2  Disease  NaN  NaN  NaN  NaN  NaN  NaN  NaN  NaN  \n",
       "3      NaN  NaN  NaN  NaN  NaN  NaN  NaN  NaN  NaN  \n",
       "4  Disease  NaN  NaN  NaN  NaN  NaN  NaN  NaN  NaN  "
      ]
     },
     "execution_count": 65,
     "metadata": {},
     "output_type": "execute_result"
    }
   ],
   "source": [
    "metapaths.head()"
   ]
  },
  {
   "attachments": {},
   "cell_type": "markdown",
   "id": "cddd5ddb",
   "metadata": {},
   "source": [
    "... and another is Biolink metapaths: \n",
    "\n",
    "`\"Version 1.1.0 includes a new tab 'metapaths_biolink' where the majority of node and edge types have been mapped to entities and relationship slots in the biolink model.\"`"
   ]
  },
  {
   "cell_type": "code",
   "execution_count": 66,
   "id": "629dc0cb",
   "metadata": {},
   "outputs": [],
   "source": [
    "metapaths_biolink = pd.read_excel(dm_db, 'metapaths_biolink')"
   ]
  },
  {
   "cell_type": "code",
   "execution_count": 67,
   "id": "e444e325",
   "metadata": {},
   "outputs": [
    {
     "data": {
      "text/html": [
       "<div>\n",
       "<style scoped>\n",
       "    .dataframe tbody tr th:only-of-type {\n",
       "        vertical-align: middle;\n",
       "    }\n",
       "\n",
       "    .dataframe tbody tr th {\n",
       "        vertical-align: top;\n",
       "    }\n",
       "\n",
       "    .dataframe thead th {\n",
       "        text-align: right;\n",
       "    }\n",
       "</style>\n",
       "<table border=\"1\" class=\"dataframe\">\n",
       "  <thead>\n",
       "    <tr style=\"text-align: right;\">\n",
       "      <th></th>\n",
       "      <th>n1</th>\n",
       "      <th>e1</th>\n",
       "      <th>n2</th>\n",
       "      <th>e2</th>\n",
       "      <th>n3</th>\n",
       "      <th>e3</th>\n",
       "      <th>n4</th>\n",
       "      <th>e4</th>\n",
       "      <th>n5</th>\n",
       "      <th>e5</th>\n",
       "      <th>n6</th>\n",
       "      <th>e6</th>\n",
       "      <th>n7</th>\n",
       "      <th>e7</th>\n",
       "      <th>n8</th>\n",
       "    </tr>\n",
       "  </thead>\n",
       "  <tbody>\n",
       "    <tr>\n",
       "      <th>0</th>\n",
       "      <td>Drug</td>\n",
       "      <td>decreases activity of</td>\n",
       "      <td>Protein</td>\n",
       "      <td>causes</td>\n",
       "      <td>Disease</td>\n",
       "      <td>NaN</td>\n",
       "      <td>NaN</td>\n",
       "      <td>NaN</td>\n",
       "      <td>NaN</td>\n",
       "      <td>NaN</td>\n",
       "      <td>NaN</td>\n",
       "      <td>NaN</td>\n",
       "      <td>NaN</td>\n",
       "      <td>NaN</td>\n",
       "      <td>NaN</td>\n",
       "    </tr>\n",
       "    <tr>\n",
       "      <th>1</th>\n",
       "      <td>Drug</td>\n",
       "      <td>decreases activity of</td>\n",
       "      <td>Protein</td>\n",
       "      <td>positively regulates</td>\n",
       "      <td>BiologicalProcess</td>\n",
       "      <td>causes</td>\n",
       "      <td>Disease</td>\n",
       "      <td>NaN</td>\n",
       "      <td>NaN</td>\n",
       "      <td>NaN</td>\n",
       "      <td>NaN</td>\n",
       "      <td>NaN</td>\n",
       "      <td>NaN</td>\n",
       "      <td>NaN</td>\n",
       "      <td>NaN</td>\n",
       "    </tr>\n",
       "    <tr>\n",
       "      <th>2</th>\n",
       "      <td>Drug</td>\n",
       "      <td>decreases activity of</td>\n",
       "      <td>Protein</td>\n",
       "      <td>positively regulates</td>\n",
       "      <td>BiologicalProcess</td>\n",
       "      <td>causes</td>\n",
       "      <td>Disease</td>\n",
       "      <td>NaN</td>\n",
       "      <td>NaN</td>\n",
       "      <td>NaN</td>\n",
       "      <td>NaN</td>\n",
       "      <td>NaN</td>\n",
       "      <td>NaN</td>\n",
       "      <td>NaN</td>\n",
       "      <td>NaN</td>\n",
       "    </tr>\n",
       "    <tr>\n",
       "      <th>3</th>\n",
       "      <td>Drug</td>\n",
       "      <td>negatively regulates</td>\n",
       "      <td>Pathway</td>\n",
       "      <td>affects risk for</td>\n",
       "      <td>Disease</td>\n",
       "      <td>NaN</td>\n",
       "      <td>NaN</td>\n",
       "      <td>NaN</td>\n",
       "      <td>NaN</td>\n",
       "      <td>NaN</td>\n",
       "      <td>NaN</td>\n",
       "      <td>NaN</td>\n",
       "      <td>NaN</td>\n",
       "      <td>NaN</td>\n",
       "      <td>NaN</td>\n",
       "    </tr>\n",
       "    <tr>\n",
       "      <th>4</th>\n",
       "      <td>Drug</td>\n",
       "      <td>decreases activity of</td>\n",
       "      <td>Protein</td>\n",
       "      <td>increases abundance of</td>\n",
       "      <td>NaN</td>\n",
       "      <td>causes</td>\n",
       "      <td>Disease</td>\n",
       "      <td>NaN</td>\n",
       "      <td>NaN</td>\n",
       "      <td>NaN</td>\n",
       "      <td>NaN</td>\n",
       "      <td>NaN</td>\n",
       "      <td>NaN</td>\n",
       "      <td>NaN</td>\n",
       "      <td>NaN</td>\n",
       "    </tr>\n",
       "  </tbody>\n",
       "</table>\n",
       "</div>"
      ],
      "text/plain": [
       "     n1                     e1       n2                      e2  \\\n",
       "0  Drug  decreases activity of  Protein                  causes   \n",
       "1  Drug  decreases activity of  Protein    positively regulates   \n",
       "2  Drug  decreases activity of  Protein    positively regulates   \n",
       "3  Drug   negatively regulates  Pathway        affects risk for   \n",
       "4  Drug  decreases activity of  Protein  increases abundance of   \n",
       "\n",
       "                  n3      e3       n4   e4   n5   e5   n6   e6   n7   e7   n8  \n",
       "0            Disease     NaN      NaN  NaN  NaN  NaN  NaN  NaN  NaN  NaN  NaN  \n",
       "1  BiologicalProcess  causes  Disease  NaN  NaN  NaN  NaN  NaN  NaN  NaN  NaN  \n",
       "2  BiologicalProcess  causes  Disease  NaN  NaN  NaN  NaN  NaN  NaN  NaN  NaN  \n",
       "3            Disease     NaN      NaN  NaN  NaN  NaN  NaN  NaN  NaN  NaN  NaN  \n",
       "4                NaN  causes  Disease  NaN  NaN  NaN  NaN  NaN  NaN  NaN  NaN  "
      ]
     },
     "execution_count": 67,
     "metadata": {},
     "output_type": "execute_result"
    }
   ],
   "source": [
    "metapaths_biolink.head()"
   ]
  },
  {
   "attachments": {},
   "cell_type": "markdown",
   "id": "6cd14fa3",
   "metadata": {},
   "source": [
    "I think we'll use the biolink-adjusted ones. How long are these metapaths, typically?"
   ]
  },
  {
   "cell_type": "code",
   "execution_count": 68,
   "id": "abb3ee05",
   "metadata": {},
   "outputs": [
    {
     "data": {
      "text/plain": [
       "Counter({4.0: 55,\n",
       "         3.0: 33,\n",
       "         2.0: 13,\n",
       "         5.0: 7,\n",
       "         2.5: 5,\n",
       "         3.5: 4,\n",
       "         1.0: 3,\n",
       "         4.5: 1,\n",
       "         6.5: 1,\n",
       "         6.0: 1})"
      ]
     },
     "execution_count": 68,
     "metadata": {},
     "output_type": "execute_result"
    }
   ],
   "source": [
    "Counter([(row.count() - 1) / 2 for i, row in metapaths_biolink.iterrows()])"
   ]
  },
  {
   "attachments": {},
   "cell_type": "markdown",
   "id": "0568087a",
   "metadata": {},
   "source": [
    "This is pretty weird, since some of the metapaths have NaN in them. Otherwise, we wouldn't be getting anything other than integers for the path lengths.\n",
    "\n",
    "What does NaN mean? Can it be any entity?\n",
    "\n",
    "Maybe this is a problem with converting everything to Biolink- let's try the original DF:"
   ]
  },
  {
   "cell_type": "code",
   "execution_count": 69,
   "id": "4e4e2d5d",
   "metadata": {},
   "outputs": [
    {
     "data": {
      "text/plain": [
       "123"
      ]
     },
     "execution_count": 69,
     "metadata": {},
     "output_type": "execute_result"
    }
   ],
   "source": [
    "len(metapaths)"
   ]
  },
  {
   "cell_type": "code",
   "execution_count": 70,
   "id": "6ebb11db",
   "metadata": {},
   "outputs": [
    {
     "data": {
      "text/plain": [
       "Counter({4.0: 59, 3.0: 38, 2.0: 13, 5.0: 8, 1.0: 3, 7.0: 1, 6.0: 1})"
      ]
     },
     "execution_count": 70,
     "metadata": {},
     "output_type": "execute_result"
    }
   ],
   "source": [
    "Counter([(row.count() - 1) / 2 for i, row in metapaths.iterrows()])"
   ]
  },
  {
   "attachments": {},
   "cell_type": "markdown",
   "id": "c098e3d9",
   "metadata": {},
   "source": [
    "For now, we aren't really using these metapaths, so I will conclude that exploration there."
   ]
  }
 ],
 "metadata": {
  "kernelspec": {
   "display_name": "neurosym",
   "language": "python",
   "name": "neurosym"
  },
  "language_info": {
   "codemirror_mode": {
    "name": "ipython",
    "version": 3
   },
   "file_extension": ".py",
   "mimetype": "text/x-python",
   "name": "python",
   "nbconvert_exporter": "python",
   "pygments_lexer": "ipython3",
   "version": "3.8.3"
  }
 },
 "nbformat": 4,
 "nbformat_minor": 5
}
