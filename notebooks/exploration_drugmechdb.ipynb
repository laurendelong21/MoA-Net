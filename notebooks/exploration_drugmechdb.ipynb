{
 "cells": [
  {
   "cell_type": "markdown",
   "id": "e62a03da",
   "metadata": {},
   "source": [
    "# Exploration of DrugMechDB\n",
    "\n",
    "Here, I explore [DrugMechDB](https://sulab.github.io/DrugMechDB/) which could ideally provide us with ture positive paths / MOAs."
   ]
  },
  {
   "cell_type": "code",
   "execution_count": 1,
   "id": "d34454e0",
   "metadata": {},
   "outputs": [],
   "source": [
    "import pandas as pd\n",
    "import os.path as osp\n",
    "from collections import Counter\n",
    "from urllib import request\n",
    "import json"
   ]
  },
  {
   "cell_type": "markdown",
   "id": "83ace06e",
   "metadata": {},
   "source": [
    "## Load in the DrugMechDB file:"
   ]
  },
  {
   "cell_type": "code",
   "execution_count": 2,
   "id": "cfa03a32",
   "metadata": {},
   "outputs": [],
   "source": [
    "VALIDATION_DIR = '../data/validation'"
   ]
  },
  {
   "cell_type": "markdown",
   "id": "1b47b692",
   "metadata": {},
   "source": [
    "The database download comes as an excel file with many separate sheets, so it needs to be read in as separate dataframes:"
   ]
  },
  {
   "cell_type": "code",
   "execution_count": 3,
   "id": "f2285f15",
   "metadata": {},
   "outputs": [],
   "source": [
    "dm_db = pd.ExcelFile(osp.join(VALIDATION_DIR, 'indication_MOA_paths.xlsx'))"
   ]
  },
  {
   "cell_type": "code",
   "execution_count": 4,
   "id": "39895ade",
   "metadata": {},
   "outputs": [],
   "source": [
    "indications = pd.read_excel(dm_db, 'sample_indications')"
   ]
  },
  {
   "cell_type": "code",
   "execution_count": 5,
   "id": "9cc49388",
   "metadata": {},
   "outputs": [
    {
     "data": {
      "text/html": [
       "<div>\n",
       "<style scoped>\n",
       "    .dataframe tbody tr th:only-of-type {\n",
       "        vertical-align: middle;\n",
       "    }\n",
       "\n",
       "    .dataframe tbody tr th {\n",
       "        vertical-align: top;\n",
       "    }\n",
       "\n",
       "    .dataframe thead th {\n",
       "        text-align: right;\n",
       "    }\n",
       "</style>\n",
       "<table border=\"1\" class=\"dataframe\">\n",
       "  <thead>\n",
       "    <tr style=\"text-align: right;\">\n",
       "      <th></th>\n",
       "      <th>name</th>\n",
       "      <th>num_ind_dc</th>\n",
       "      <th>db_id</th>\n",
       "      <th>comp_mesh_ids</th>\n",
       "      <th>disease_name</th>\n",
       "      <th>dis_mesh_id</th>\n",
       "      <th>Comments</th>\n",
       "    </tr>\n",
       "  </thead>\n",
       "  <tbody>\n",
       "    <tr>\n",
       "      <th>0</th>\n",
       "      <td>imatinib</td>\n",
       "      <td>11.0</td>\n",
       "      <td>DB00619</td>\n",
       "      <td>MESH:D000068877</td>\n",
       "      <td>CML (ph+)</td>\n",
       "      <td>MESH:D015464</td>\n",
       "      <td>Multiple ways to represent this path, experime...</td>\n",
       "    </tr>\n",
       "    <tr>\n",
       "      <th>1</th>\n",
       "      <td>imatinib</td>\n",
       "      <td>11.0</td>\n",
       "      <td>DB00619</td>\n",
       "      <td>MESH:D000068877</td>\n",
       "      <td>Systemic mast cell disease</td>\n",
       "      <td>MESH:D034721</td>\n",
       "      <td>NaN</td>\n",
       "    </tr>\n",
       "    <tr>\n",
       "      <th>2</th>\n",
       "      <td>imatinib</td>\n",
       "      <td>11.0</td>\n",
       "      <td>DB00619</td>\n",
       "      <td>MESH:D000068877</td>\n",
       "      <td>Systemic mast cell disease</td>\n",
       "      <td>MESH:D034721</td>\n",
       "      <td>NaN</td>\n",
       "    </tr>\n",
       "    <tr>\n",
       "      <th>3</th>\n",
       "      <td>acetaminophen</td>\n",
       "      <td>NaN</td>\n",
       "      <td>DB00316</td>\n",
       "      <td>MESH:D000082</td>\n",
       "      <td>Pain</td>\n",
       "      <td>MESH:D010146</td>\n",
       "      <td>Multiple ways to represent this path, experime...</td>\n",
       "    </tr>\n",
       "    <tr>\n",
       "      <th>4</th>\n",
       "      <td>acetaminophen</td>\n",
       "      <td>NaN</td>\n",
       "      <td>DB00316</td>\n",
       "      <td>MESH:D000082</td>\n",
       "      <td>Pain</td>\n",
       "      <td>MESH:D010146</td>\n",
       "      <td>NaN</td>\n",
       "    </tr>\n",
       "  </tbody>\n",
       "</table>\n",
       "</div>"
      ],
      "text/plain": [
       "            name  num_ind_dc    db_id    comp_mesh_ids  \\\n",
       "0       imatinib        11.0  DB00619  MESH:D000068877   \n",
       "1       imatinib        11.0  DB00619  MESH:D000068877   \n",
       "2       imatinib        11.0  DB00619  MESH:D000068877   \n",
       "3  acetaminophen         NaN  DB00316     MESH:D000082   \n",
       "4  acetaminophen         NaN  DB00316     MESH:D000082   \n",
       "\n",
       "                 disease_name   dis_mesh_id  \\\n",
       "0                   CML (ph+)  MESH:D015464   \n",
       "1  Systemic mast cell disease  MESH:D034721   \n",
       "2  Systemic mast cell disease  MESH:D034721   \n",
       "3                        Pain  MESH:D010146   \n",
       "4                        Pain  MESH:D010146   \n",
       "\n",
       "                                            Comments  \n",
       "0  Multiple ways to represent this path, experime...  \n",
       "1                                                NaN  \n",
       "2                                                NaN  \n",
       "3  Multiple ways to represent this path, experime...  \n",
       "4                                                NaN  "
      ]
     },
     "execution_count": 5,
     "metadata": {},
     "output_type": "execute_result"
    }
   ],
   "source": [
    "indications.head()"
   ]
  },
  {
   "cell_type": "markdown",
   "id": "aba9d51c",
   "metadata": {},
   "source": [
    "We can see the the drugs are provided as [DrugBank](https://go.drugbank.com) identifiers, and the diseases are providued as [MeSh identifiers](https://www.nlm.nih.gov/mesh/meshhome.html). \n",
    "\n",
    "Let's look at the paths:\n",
    "\n",
    "## Path Instances in DrugMechDB"
   ]
  },
  {
   "cell_type": "code",
   "execution_count": 6,
   "id": "bcb04c05",
   "metadata": {},
   "outputs": [],
   "source": [
    "paths = pd.read_excel(dm_db, 'paths')"
   ]
  },
  {
   "cell_type": "code",
   "execution_count": 7,
   "id": "77a476ea",
   "metadata": {},
   "outputs": [
    {
     "data": {
      "text/html": [
       "<div>\n",
       "<style scoped>\n",
       "    .dataframe tbody tr th:only-of-type {\n",
       "        vertical-align: middle;\n",
       "    }\n",
       "\n",
       "    .dataframe tbody tr th {\n",
       "        vertical-align: top;\n",
       "    }\n",
       "\n",
       "    .dataframe thead th {\n",
       "        text-align: right;\n",
       "    }\n",
       "</style>\n",
       "<table border=\"1\" class=\"dataframe\">\n",
       "  <thead>\n",
       "    <tr style=\"text-align: right;\">\n",
       "      <th></th>\n",
       "      <th>n1</th>\n",
       "      <th>e1</th>\n",
       "      <th>n2</th>\n",
       "      <th>e2</th>\n",
       "      <th>n3</th>\n",
       "      <th>e3</th>\n",
       "      <th>n4</th>\n",
       "      <th>e4</th>\n",
       "      <th>n5</th>\n",
       "      <th>e5</th>\n",
       "      <th>n6</th>\n",
       "      <th>e6</th>\n",
       "      <th>n7</th>\n",
       "      <th>e7</th>\n",
       "      <th>n8</th>\n",
       "    </tr>\n",
       "  </thead>\n",
       "  <tbody>\n",
       "    <tr>\n",
       "      <th>0</th>\n",
       "      <td>imatinib</td>\n",
       "      <td>INHIBITS</td>\n",
       "      <td>BCR/ABL</td>\n",
       "      <td>CAUSES</td>\n",
       "      <td>CML (ph+)</td>\n",
       "      <td>NaN</td>\n",
       "      <td>NaN</td>\n",
       "      <td>NaN</td>\n",
       "      <td>NaN</td>\n",
       "      <td>NaN</td>\n",
       "      <td>NaN</td>\n",
       "      <td>NaN</td>\n",
       "      <td>NaN</td>\n",
       "      <td>NaN</td>\n",
       "      <td>NaN</td>\n",
       "    </tr>\n",
       "    <tr>\n",
       "      <th>1</th>\n",
       "      <td>imatinib</td>\n",
       "      <td>INHIBITS</td>\n",
       "      <td>c-Kit</td>\n",
       "      <td>UP_REGULATES</td>\n",
       "      <td>Cellular proliferation</td>\n",
       "      <td>CAUSES</td>\n",
       "      <td>Systemic mast cell disease</td>\n",
       "      <td>NaN</td>\n",
       "      <td>NaN</td>\n",
       "      <td>NaN</td>\n",
       "      <td>NaN</td>\n",
       "      <td>NaN</td>\n",
       "      <td>NaN</td>\n",
       "      <td>NaN</td>\n",
       "      <td>NaN</td>\n",
       "    </tr>\n",
       "    <tr>\n",
       "      <th>2</th>\n",
       "      <td>imatinib</td>\n",
       "      <td>INHIBITS</td>\n",
       "      <td>Pdgf</td>\n",
       "      <td>UP_REGULATES</td>\n",
       "      <td>Cellular proliferation</td>\n",
       "      <td>CAUSES</td>\n",
       "      <td>Systemic mast cell disease</td>\n",
       "      <td>NaN</td>\n",
       "      <td>NaN</td>\n",
       "      <td>NaN</td>\n",
       "      <td>NaN</td>\n",
       "      <td>NaN</td>\n",
       "      <td>NaN</td>\n",
       "      <td>NaN</td>\n",
       "      <td>NaN</td>\n",
       "    </tr>\n",
       "    <tr>\n",
       "      <th>3</th>\n",
       "      <td>acetaminophen</td>\n",
       "      <td>INHIBITS</td>\n",
       "      <td>cycloxygenaze pathways</td>\n",
       "      <td>ASSOCIATED_WITH</td>\n",
       "      <td>Pain</td>\n",
       "      <td>NaN</td>\n",
       "      <td>NaN</td>\n",
       "      <td>NaN</td>\n",
       "      <td>NaN</td>\n",
       "      <td>NaN</td>\n",
       "      <td>NaN</td>\n",
       "      <td>NaN</td>\n",
       "      <td>NaN</td>\n",
       "      <td>NaN</td>\n",
       "      <td>NaN</td>\n",
       "    </tr>\n",
       "    <tr>\n",
       "      <th>4</th>\n",
       "      <td>acetaminophen</td>\n",
       "      <td>INHIBITS</td>\n",
       "      <td>Cox-1</td>\n",
       "      <td>PRODUCES</td>\n",
       "      <td>Prostaglandins</td>\n",
       "      <td>CAUSES</td>\n",
       "      <td>Pain</td>\n",
       "      <td>NaN</td>\n",
       "      <td>NaN</td>\n",
       "      <td>NaN</td>\n",
       "      <td>NaN</td>\n",
       "      <td>NaN</td>\n",
       "      <td>NaN</td>\n",
       "      <td>NaN</td>\n",
       "      <td>NaN</td>\n",
       "    </tr>\n",
       "  </tbody>\n",
       "</table>\n",
       "</div>"
      ],
      "text/plain": [
       "              n1        e1                      n2               e2  \\\n",
       "0       imatinib  INHIBITS                 BCR/ABL           CAUSES   \n",
       "1       imatinib  INHIBITS                   c-Kit     UP_REGULATES   \n",
       "2       imatinib  INHIBITS                    Pdgf     UP_REGULATES   \n",
       "3  acetaminophen  INHIBITS  cycloxygenaze pathways  ASSOCIATED_WITH   \n",
       "4  acetaminophen  INHIBITS                   Cox-1         PRODUCES   \n",
       "\n",
       "                       n3      e3                          n4   e4   n5   e5  \\\n",
       "0               CML (ph+)     NaN                         NaN  NaN  NaN  NaN   \n",
       "1  Cellular proliferation  CAUSES  Systemic mast cell disease  NaN  NaN  NaN   \n",
       "2  Cellular proliferation  CAUSES  Systemic mast cell disease  NaN  NaN  NaN   \n",
       "3                    Pain     NaN                         NaN  NaN  NaN  NaN   \n",
       "4          Prostaglandins  CAUSES                        Pain  NaN  NaN  NaN   \n",
       "\n",
       "    n6   e6   n7   e7   n8  \n",
       "0  NaN  NaN  NaN  NaN  NaN  \n",
       "1  NaN  NaN  NaN  NaN  NaN  \n",
       "2  NaN  NaN  NaN  NaN  NaN  \n",
       "3  NaN  NaN  NaN  NaN  NaN  \n",
       "4  NaN  NaN  NaN  NaN  NaN  "
      ]
     },
     "execution_count": 7,
     "metadata": {},
     "output_type": "execute_result"
    }
   ],
   "source": [
    "paths.head()"
   ]
  },
  {
   "cell_type": "markdown",
   "id": "f68f0a7c",
   "metadata": {},
   "source": [
    "How long are most of the paths? I'll define the length of the paths as the number of edges/hops."
   ]
  },
  {
   "cell_type": "code",
   "execution_count": 8,
   "id": "387be2d4",
   "metadata": {},
   "outputs": [
    {
     "data": {
      "text/plain": [
       "Counter({4.0: 59, 3.0: 38, 2.0: 13, 5.0: 8, 1.0: 3, 7.0: 1, 6.0: 1})"
      ]
     },
     "execution_count": 8,
     "metadata": {},
     "output_type": "execute_result"
    }
   ],
   "source": [
    "Counter([(row.count() - 1) / 2 for i, row in paths.iterrows()])"
   ]
  },
  {
   "cell_type": "markdown",
   "id": "a4a4ed29",
   "metadata": {},
   "source": [
    "It looks like most are length 4.\n",
    "\n",
    "Only 3 are above length 5.\n",
    "\n",
    "What if we only take those which end in a biological process?\n",
    "\n",
    "It might be better to work from the JSON file instead, which can be found [here](https://github.com/SuLab/DrugMechDB/blob/1.0/indication_paths.json). In contrast to the paths in the dataframe, the JSON version has the types for each node."
   ]
  },
  {
   "cell_type": "code",
   "execution_count": 9,
   "id": "6b5c5340",
   "metadata": {},
   "outputs": [],
   "source": [
    "url = \"https://raw.githubusercontent.com/SuLab/DrugMechDB/1.0/indication_paths.json\"\n",
    "filepath = osp.join(VALIDATION_DIR, \"drugmechdb_paths.json\")"
   ]
  },
  {
   "cell_type": "code",
   "execution_count": 10,
   "id": "520498f3",
   "metadata": {},
   "outputs": [],
   "source": [
    "with request.urlopen(url) as fl:\n",
    "    data_json = json.loads(fl.read())\n",
    "    #json.dump(dict(data_json), filepath)\n",
    "    #print(data_json)"
   ]
  },
  {
   "cell_type": "markdown",
   "id": "a0088883",
   "metadata": {},
   "source": [
    "Are there the same number of paths as before?"
   ]
  },
  {
   "cell_type": "code",
   "execution_count": 11,
   "id": "3cb7162b",
   "metadata": {},
   "outputs": [
    {
     "data": {
      "text/plain": [
       "123"
      ]
     },
     "execution_count": 11,
     "metadata": {},
     "output_type": "execute_result"
    }
   ],
   "source": [
    "len(data_json)"
   ]
  },
  {
   "cell_type": "code",
   "execution_count": 12,
   "id": "bc86b38a",
   "metadata": {},
   "outputs": [
    {
     "data": {
      "text/plain": [
       "True"
      ]
     },
     "execution_count": 12,
     "metadata": {},
     "output_type": "execute_result"
    }
   ],
   "source": [
    "len(data_json) == len(paths)"
   ]
  },
  {
   "cell_type": "markdown",
   "id": "771c1958",
   "metadata": {},
   "source": [
    "Let's take a look at an example path:"
   ]
  },
  {
   "cell_type": "code",
   "execution_count": 13,
   "id": "83fedd3f",
   "metadata": {},
   "outputs": [
    {
     "data": {
      "text/plain": [
       "{'directed': True,\n",
       " 'multigraph': True,\n",
       " 'graph': {'drug': 'imatinib',\n",
       "  'disease': 'Systemic mast cell disease',\n",
       "  'drugbank': 'DB00619',\n",
       "  'drug_mesh': 'MESH:D000068877',\n",
       "  'disease_mesh': 'MESH:D034721'},\n",
       " 'nodes': [{'id': 'MESH:D000068877', 'name': 'imatinib', 'label': 'Drug'},\n",
       "  {'id': 'UniProt:P10721', 'name': 'c-Kit', 'label': 'Protein'},\n",
       "  {'id': 'GO:0008283',\n",
       "   'name': 'Cellular proliferation',\n",
       "   'label': 'Biological Process'},\n",
       "  {'id': 'MESH:D034721',\n",
       "   'name': 'Systemic mast cell disease',\n",
       "   'label': 'Disease'}],\n",
       " 'links': [{'source': 'MESH:D000068877',\n",
       "   'target': 'UniProt:P10721',\n",
       "   'key': 'INHIBITS'},\n",
       "  {'source': 'UniProt:P10721', 'target': 'GO:0008283', 'key': 'UP_REGULATES'},\n",
       "  {'source': 'GO:0008283', 'target': 'MESH:D034721', 'key': 'CAUSES'}]}"
      ]
     },
     "execution_count": 13,
     "metadata": {},
     "output_type": "execute_result"
    }
   ],
   "source": [
    "data_json[1]"
   ]
  },
  {
   "cell_type": "markdown",
   "id": "4a825f33",
   "metadata": {},
   "source": [
    "We can get the number of nodes involved:"
   ]
  },
  {
   "cell_type": "code",
   "execution_count": 14,
   "id": "3f163527",
   "metadata": {},
   "outputs": [
    {
     "data": {
      "text/plain": [
       "4"
      ]
     },
     "execution_count": 14,
     "metadata": {},
     "output_type": "execute_result"
    }
   ],
   "source": [
    "len(data_json[1]['nodes'])"
   ]
  },
  {
   "cell_type": "markdown",
   "id": "110bec23",
   "metadata": {},
   "source": [
    "... and using that, get the second-to-last node (the last is always a disease)."
   ]
  },
  {
   "cell_type": "code",
   "execution_count": 15,
   "id": "bd5ce264",
   "metadata": {},
   "outputs": [
    {
     "data": {
      "text/plain": [
       "{'id': 'GO:0008283',\n",
       " 'name': 'Cellular proliferation',\n",
       " 'label': 'Biological Process'}"
      ]
     },
     "execution_count": 15,
     "metadata": {},
     "output_type": "execute_result"
    }
   ],
   "source": [
    "data_json[1]['nodes'][len(data_json[1]['nodes']) - 2]"
   ]
  },
  {
   "cell_type": "markdown",
   "id": "9c574b76",
   "metadata": {},
   "source": [
    "Cool, let's create a new object containing only those which end in a BP node:"
   ]
  },
  {
   "cell_type": "code",
   "execution_count": 16,
   "id": "1b56bc31",
   "metadata": {},
   "outputs": [],
   "source": [
    "bp_paths = []\n",
    "bp_path_lengths = []\n",
    "for path in data_json:\n",
    "    # if second to last node is BP,\n",
    "    if path['nodes'][len(path['nodes']) - 2]['label'] == 'Biological Process':\n",
    "        bp_paths.append(path)\n",
    "        bp_path_lengths.append(len(path['links']))"
   ]
  },
  {
   "cell_type": "markdown",
   "id": "75451eb9",
   "metadata": {},
   "source": [
    "How many of the 162 paths end in a BP?"
   ]
  },
  {
   "cell_type": "code",
   "execution_count": 17,
   "id": "ec5da06d",
   "metadata": {},
   "outputs": [
    {
     "data": {
      "text/plain": [
       "62"
      ]
     },
     "execution_count": 17,
     "metadata": {},
     "output_type": "execute_result"
    }
   ],
   "source": [
    "len(bp_paths)"
   ]
  },
  {
   "cell_type": "code",
   "execution_count": 18,
   "id": "a71f3500",
   "metadata": {},
   "outputs": [
    {
     "data": {
      "text/plain": [
       "Counter({3: 25, 4: 24, 5: 7, 2: 6})"
      ]
     },
     "execution_count": 18,
     "metadata": {},
     "output_type": "execute_result"
    }
   ],
   "source": [
    "Counter(bp_path_lengths)"
   ]
  }
 ],
 "metadata": {
  "kernelspec": {
   "display_name": "nesy_venv",
   "language": "python",
   "name": "nesy_venv"
  },
  "language_info": {
   "codemirror_mode": {
    "name": "ipython",
    "version": 3
   },
   "file_extension": ".py",
   "mimetype": "text/x-python",
   "name": "python",
   "nbconvert_exporter": "python",
   "pygments_lexer": "ipython3",
   "version": "3.9.6"
  }
 },
 "nbformat": 4,
 "nbformat_minor": 5
}
