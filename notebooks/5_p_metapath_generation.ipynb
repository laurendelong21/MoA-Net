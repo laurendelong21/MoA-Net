{
 "cells": [
  {
   "attachments": {},
   "cell_type": "markdown",
   "metadata": {},
   "source": [
    "# Metagraph and Metapath Generation\n",
    "\n",
    "Here, we use the same syntax as [HetNetPy](https://github.com/hetio/hetnetpy/tree/e1ff1f8296b766dd5a63e5870a8a1a7d82427a80) to create a metagraph and extract metapaths from the KG.\n",
    "\n",
    "Metagraph creation is based on [this notebook](https://github.com/dhimmel/integrate/blob/93feba1765fbcd76fd79e22f25121f5399629148/integrate.ipynb)."
   ]
  },
  {
   "cell_type": "code",
   "execution_count": 1,
   "metadata": {},
   "outputs": [],
   "source": [
    "import pandas as pd\n",
    "import seaborn as sns\n",
    "import os\n",
    "import os.path as osp\n",
    "\n",
    "import hetnetpy.hetnet\n",
    "import hetnetpy.readwrite\n",
    "import hetnetpy.stats\n",
    "\n",
    "from hetnetpy.abbreviation import metaedges_from_metapath\n",
    "from hetnetpy.pathtools import DWPC, paths_between\n",
    "\n",
    "import re\n",
    "import json\n",
    "import tqdm\n",
    "from collections import Counter\n",
    "\n",
    "from itertools import chain\n",
    "\n",
    "%matplotlib inline"
   ]
  },
  {
   "attachments": {},
   "cell_type": "markdown",
   "metadata": {},
   "source": [
    "## Using the protein subclasses\n",
    "\n",
    "In this version of the KG, we subclassed some of the proteins to UniProt keywords. Since we need letters representing these subclasses, we'll assign that here."
   ]
  },
  {
   "cell_type": "code",
   "execution_count": 2,
   "metadata": {},
   "outputs": [],
   "source": [
    "MAPPING_DIR = '../data/mappings/'\n",
    "\n",
    "KG_DIR = '../data/kg/'\n",
    "SPLITS_DIR = osp.join(KG_DIR, 'splits')\n",
    "MOA_NET_PROTCLASSED = osp.join(SPLITS_DIR, 'MoA-net-protclass')\n",
    "MARS_DIR = osp.join(MOA_NET_PROTCLASSED, 'MARS')\n",
    "METAPATHS_DIR = osp.join(MOA_NET_PROTCLASSED, 'metapaths')\n",
    "\n",
    "for dir in [SPLITS_DIR, MARS_DIR, MOA_NET_PROTCLASSED, METAPATHS_DIR]:\n",
    "    if not osp.exists(dir):\n",
    "        os.makedirs(dir)"
   ]
  },
  {
   "cell_type": "code",
   "execution_count": 3,
   "metadata": {},
   "outputs": [],
   "source": [
    "# Read in the json file containing the classes:\n",
    "with open(osp.join(MAPPING_DIR, 'node2class.json'), 'r') as f:\n",
    "    prot_classes = json.load(f)\n",
    "\n",
    "prot_classes = {kw for keyword in prot_classes.values() for kw in keyword}\n",
    "\n",
    "prot_classes = sorted(list(prot_classes))  # sort so we get consistent results each time code is run:"
   ]
  },
  {
   "attachments": {},
   "cell_type": "markdown",
   "metadata": {},
   "source": [
    "Be sure to exclude C and G because we've already assigned them to Compound and Gene."
   ]
  },
  {
   "cell_type": "code",
   "execution_count": 39,
   "metadata": {},
   "outputs": [
    {
     "data": {
      "text/plain": [
       "['Antimicrobial',\n",
       " 'Chaperone',\n",
       " 'Cytokine',\n",
       " 'Developmental protein',\n",
       " 'Growth factor',\n",
       " 'Heparin-binding',\n",
       " 'Hormone',\n",
       " 'Hydrolase',\n",
       " 'Ion channel',\n",
       " 'Isomerase',\n",
       " 'Protease inhibitor',\n",
       " 'Translocase']"
      ]
     },
     "execution_count": 39,
     "metadata": {},
     "output_type": "execute_result"
    }
   ],
   "source": [
    "prot_classes"
   ]
  },
  {
   "cell_type": "code",
   "execution_count": 4,
   "metadata": {},
   "outputs": [
    {
     "data": {
      "text/plain": [
       "{'Antimicrobial': 'A',\n",
       " 'Chaperone': 'B',\n",
       " 'Cytokine': 'D',\n",
       " 'Developmental protein': 'E',\n",
       " 'Growth factor': 'F',\n",
       " 'Heparin-binding': 'H',\n",
       " 'Hormone': 'I',\n",
       " 'Hydrolase': 'J',\n",
       " 'Ion channel': 'K',\n",
       " 'Isomerase': 'L',\n",
       " 'Protease inhibitor': 'M',\n",
       " 'Translocase': 'N'}"
      ]
     },
     "execution_count": 4,
     "metadata": {},
     "output_type": "execute_result"
    }
   ],
   "source": [
    "# for each item in keep_kws, assign a letter of the alphabet in a dictionary, excluding C or G\n",
    "class2letter = dict() \n",
    "i = 0\n",
    "for kw in prot_classes:\n",
    "    if kw == 'Gene':\n",
    "        continue\n",
    "    if chr(i + 65) in {'C', 'G'}:\n",
    "        i += 1\n",
    "    class2letter[kw] = chr(i + 65)\n",
    "    i += 1\n",
    "\n",
    "class2letter"
   ]
  },
  {
   "cell_type": "code",
   "execution_count": 5,
   "metadata": {},
   "outputs": [],
   "source": [
    "kg = pd.read_csv(osp.join(MOA_NET_PROTCLASSED, 'kg_no_cmp_bp.tsv'), sep='\\t')"
   ]
  },
  {
   "cell_type": "code",
   "execution_count": 6,
   "metadata": {},
   "outputs": [
    {
     "data": {
      "text/html": [
       "<div>\n",
       "<style scoped>\n",
       "    .dataframe tbody tr th:only-of-type {\n",
       "        vertical-align: middle;\n",
       "    }\n",
       "\n",
       "    .dataframe tbody tr th {\n",
       "        vertical-align: top;\n",
       "    }\n",
       "\n",
       "    .dataframe thead th {\n",
       "        text-align: right;\n",
       "    }\n",
       "</style>\n",
       "<table border=\"1\" class=\"dataframe\">\n",
       "  <thead>\n",
       "    <tr style=\"text-align: right;\">\n",
       "      <th></th>\n",
       "      <th>source</th>\n",
       "      <th>source_node_type</th>\n",
       "      <th>target</th>\n",
       "      <th>target_node_type</th>\n",
       "      <th>edge_type</th>\n",
       "    </tr>\n",
       "  </thead>\n",
       "  <tbody>\n",
       "  </tbody>\n",
       "</table>\n",
       "</div>"
      ],
      "text/plain": [
       "Empty DataFrame\n",
       "Columns: [source, source_node_type, target, target_node_type, edge_type]\n",
       "Index: []"
      ]
     },
     "execution_count": 6,
     "metadata": {},
     "output_type": "execute_result"
    }
   ],
   "source": [
    "# show me the duplicated rows in the dataframe\n",
    "kg[kg.duplicated(keep=False)]"
   ]
  },
  {
   "attachments": {},
   "cell_type": "markdown",
   "metadata": {},
   "source": [
    "### Define and Instantiate Metagraph:"
   ]
  },
  {
   "cell_type": "code",
   "execution_count": 7,
   "metadata": {},
   "outputs": [],
   "source": [
    "kind_to_abbev = {\n",
    "    \n",
    "    # metanodes\n",
    "    'Compound': 'C',\n",
    "    'Gene': 'G',\n",
    "    'Biological Process': 'BP',\n",
    "    \n",
    "    # metaedges\n",
    "    'upregulates': 'u',\n",
    "    'downregulates': 'd',\n",
    "    'interacts': 'i',\n",
    "    'participates': 'p',\n",
    "    'induces': 't',\n",
    "}\n",
    "\n",
    "# add the new protein subclasses to the abbreviations:\n",
    "kind_to_abbev.update(class2letter)"
   ]
  },
  {
   "cell_type": "code",
   "execution_count": 8,
   "metadata": {},
   "outputs": [],
   "source": [
    "metaedge_tuples = list({(row['source_node_type'], row['target_node_type'], row['edge_type'], 'forward') for i, row in kg.iterrows()})"
   ]
  },
  {
   "cell_type": "code",
   "execution_count": 9,
   "metadata": {},
   "outputs": [],
   "source": [
    "# now make the metagraph\n",
    "metagraph = hetnetpy.hetnet.MetaGraph.from_edge_tuples(metaedge_tuples, kind_to_abbev)\n",
    "graph = hetnetpy.hetnet.Graph(metagraph)"
   ]
  },
  {
   "cell_type": "code",
   "execution_count": 10,
   "metadata": {},
   "outputs": [],
   "source": [
    "seen = set()\n",
    "\n",
    "for i, row in kg.iterrows():\n",
    "    if not (row['source'], row['source_node_type']) in seen:\n",
    "        graph.add_node(kind=row['source_node_type'], identifier=row['source'])\n",
    "        seen.add((row['source'], row['source_node_type']))\n",
    "    if not (row['target'], row['target_node_type']) in seen:\n",
    "        graph.add_node(kind=row['target_node_type'], identifier=row['target'])\n",
    "        seen.add((row['target'], row['target_node_type']))\n",
    "\n",
    "    src_id = row['source_node_type'], row['source']\n",
    "    trgt_id = row['target_node_type'], row['target']\n",
    "\n",
    "    graph.add_edge(source_id=src_id, target_id=trgt_id, kind=row['edge_type'], direction='forward')"
   ]
  },
  {
   "attachments": {},
   "cell_type": "markdown",
   "metadata": {},
   "source": [
    "## Network Visualization and Stats"
   ]
  },
  {
   "cell_type": "code",
   "execution_count": 11,
   "metadata": {},
   "outputs": [
    {
     "data": {
      "text/html": [
       "<div>\n",
       "<style scoped>\n",
       "    .dataframe tbody tr th:only-of-type {\n",
       "        vertical-align: middle;\n",
       "    }\n",
       "\n",
       "    .dataframe tbody tr th {\n",
       "        vertical-align: top;\n",
       "    }\n",
       "\n",
       "    .dataframe thead th {\n",
       "        text-align: right;\n",
       "    }\n",
       "</style>\n",
       "<table border=\"1\" class=\"dataframe\">\n",
       "  <thead>\n",
       "    <tr style=\"text-align: right;\">\n",
       "      <th></th>\n",
       "      <th>metanode</th>\n",
       "      <th>abbreviation</th>\n",
       "      <th>metaedges</th>\n",
       "      <th>nodes</th>\n",
       "      <th>unconnected_nodes</th>\n",
       "    </tr>\n",
       "  </thead>\n",
       "  <tbody>\n",
       "    <tr>\n",
       "      <th>12</th>\n",
       "      <td>Antimicrobial</td>\n",
       "      <td>A</td>\n",
       "      <td>10</td>\n",
       "      <td>14</td>\n",
       "      <td>0</td>\n",
       "    </tr>\n",
       "    <tr>\n",
       "      <th>13</th>\n",
       "      <td>Biological Process</td>\n",
       "      <td>BP</td>\n",
       "      <td>12</td>\n",
       "      <td>61</td>\n",
       "      <td>0</td>\n",
       "    </tr>\n",
       "    <tr>\n",
       "      <th>9</th>\n",
       "      <td>Chaperone</td>\n",
       "      <td>B</td>\n",
       "      <td>19</td>\n",
       "      <td>95</td>\n",
       "      <td>0</td>\n",
       "    </tr>\n",
       "    <tr>\n",
       "      <th>0</th>\n",
       "      <td>Compound</td>\n",
       "      <td>C</td>\n",
       "      <td>22</td>\n",
       "      <td>205</td>\n",
       "      <td>0</td>\n",
       "    </tr>\n",
       "    <tr>\n",
       "      <th>1</th>\n",
       "      <td>Cytokine</td>\n",
       "      <td>D</td>\n",
       "      <td>25</td>\n",
       "      <td>164</td>\n",
       "      <td>0</td>\n",
       "    </tr>\n",
       "    <tr>\n",
       "      <th>8</th>\n",
       "      <td>Developmental protein</td>\n",
       "      <td>E</td>\n",
       "      <td>26</td>\n",
       "      <td>422</td>\n",
       "      <td>0</td>\n",
       "    </tr>\n",
       "    <tr>\n",
       "      <th>11</th>\n",
       "      <td>Growth factor</td>\n",
       "      <td>F</td>\n",
       "      <td>23</td>\n",
       "      <td>39</td>\n",
       "      <td>0</td>\n",
       "    </tr>\n",
       "    <tr>\n",
       "      <th>10</th>\n",
       "      <td>Heparin-binding</td>\n",
       "      <td>H</td>\n",
       "      <td>24</td>\n",
       "      <td>65</td>\n",
       "      <td>0</td>\n",
       "    </tr>\n",
       "    <tr>\n",
       "      <th>6</th>\n",
       "      <td>Hormone</td>\n",
       "      <td>I</td>\n",
       "      <td>24</td>\n",
       "      <td>59</td>\n",
       "      <td>0</td>\n",
       "    </tr>\n",
       "    <tr>\n",
       "      <th>3</th>\n",
       "      <td>Hydrolase</td>\n",
       "      <td>J</td>\n",
       "      <td>26</td>\n",
       "      <td>815</td>\n",
       "      <td>0</td>\n",
       "    </tr>\n",
       "    <tr>\n",
       "      <th>5</th>\n",
       "      <td>Ion channel</td>\n",
       "      <td>K</td>\n",
       "      <td>20</td>\n",
       "      <td>215</td>\n",
       "      <td>0</td>\n",
       "    </tr>\n",
       "    <tr>\n",
       "      <th>2</th>\n",
       "      <td>Isomerase</td>\n",
       "      <td>L</td>\n",
       "      <td>19</td>\n",
       "      <td>58</td>\n",
       "      <td>0</td>\n",
       "    </tr>\n",
       "    <tr>\n",
       "      <th>7</th>\n",
       "      <td>Protease inhibitor</td>\n",
       "      <td>M</td>\n",
       "      <td>21</td>\n",
       "      <td>41</td>\n",
       "      <td>0</td>\n",
       "    </tr>\n",
       "    <tr>\n",
       "      <th>4</th>\n",
       "      <td>Translocase</td>\n",
       "      <td>N</td>\n",
       "      <td>22</td>\n",
       "      <td>59</td>\n",
       "      <td>0</td>\n",
       "    </tr>\n",
       "  </tbody>\n",
       "</table>\n",
       "</div>"
      ],
      "text/plain": [
       "                 metanode abbreviation  metaedges  nodes  unconnected_nodes\n",
       "12          Antimicrobial            A         10     14                  0\n",
       "13     Biological Process           BP         12     61                  0\n",
       "9               Chaperone            B         19     95                  0\n",
       "0                Compound            C         22    205                  0\n",
       "1                Cytokine            D         25    164                  0\n",
       "8   Developmental protein            E         26    422                  0\n",
       "11          Growth factor            F         23     39                  0\n",
       "10        Heparin-binding            H         24     65                  0\n",
       "6                 Hormone            I         24     59                  0\n",
       "3               Hydrolase            J         26    815                  0\n",
       "5             Ion channel            K         20    215                  0\n",
       "2               Isomerase            L         19     58                  0\n",
       "7      Protease inhibitor            M         21     41                  0\n",
       "4             Translocase            N         22     59                  0"
      ]
     },
     "execution_count": 11,
     "metadata": {},
     "output_type": "execute_result"
    }
   ],
   "source": [
    "metanode_df = hetnetpy.stats.get_metanode_df(graph)\n",
    "metanode_df"
   ]
  },
  {
   "cell_type": "code",
   "execution_count": 12,
   "metadata": {},
   "outputs": [],
   "source": [
    "rel_mapping = {str(row['abbreviation']): str(row['metanode']) for i, row in metanode_df.iterrows()}\n",
    "# write to json file\n",
    "with open(osp.join(MAPPING_DIR, 'rel_mapping.json'), 'w') as f:\n",
    "    json.dump(rel_mapping, f, indent=2)"
   ]
  },
  {
   "cell_type": "code",
   "execution_count": 13,
   "metadata": {},
   "outputs": [
    {
     "data": {
      "image/png": "[encoded data removed]",
      "text/plain": [
       "<Figure size 640x480 with 1 Axes>"
      ]
     },
     "metadata": {},
     "output_type": "display_data"
    }
   ],
   "source": [
    "ax = sns.barplot(x='metanode', y='nodes', data=metanode_df.sort_values('nodes'))\n",
    "for tick in ax.get_xticklabels():\n",
    "    tick.set_rotation(90)\n",
    "ax.set_xlabel(''); ax.set_ylabel('nodes');"
   ]
  },
  {
   "cell_type": "code",
   "execution_count": 14,
   "metadata": {},
   "outputs": [
    {
     "data": {
      "text/plain": [
       "2312"
      ]
     },
     "execution_count": 14,
     "metadata": {},
     "output_type": "execute_result"
    }
   ],
   "source": [
    "# Total number of nodes\n",
    "metanode_df.nodes.sum()"
   ]
  },
  {
   "cell_type": "code",
   "execution_count": 15,
   "metadata": {},
   "outputs": [],
   "source": [
    "# Summary of metaedges and cooresponding edges\n",
    "metaedge_df = hetnetpy.stats.get_metaedge_df(graph)"
   ]
  },
  {
   "cell_type": "code",
   "execution_count": 16,
   "metadata": {},
   "outputs": [
    {
     "data": {
      "text/html": [
       "<div>\n",
       "<style scoped>\n",
       "    .dataframe tbody tr th:only-of-type {\n",
       "        vertical-align: middle;\n",
       "    }\n",
       "\n",
       "    .dataframe tbody tr th {\n",
       "        vertical-align: top;\n",
       "    }\n",
       "\n",
       "    .dataframe thead th {\n",
       "        text-align: right;\n",
       "    }\n",
       "</style>\n",
       "<table border=\"1\" class=\"dataframe\">\n",
       "  <thead>\n",
       "    <tr style=\"text-align: right;\">\n",
       "      <th></th>\n",
       "      <th>metaedge</th>\n",
       "      <th>abbreviation</th>\n",
       "      <th>edges</th>\n",
       "      <th>source_nodes</th>\n",
       "      <th>target_nodes</th>\n",
       "    </tr>\n",
       "  </thead>\n",
       "  <tbody>\n",
       "    <tr>\n",
       "      <th>9</th>\n",
       "      <td>Developmental protein &gt; interacts &gt; Developmen...</td>\n",
       "      <td>Ei&gt;E</td>\n",
       "      <td>1227</td>\n",
       "      <td>202</td>\n",
       "      <td>271</td>\n",
       "    </tr>\n",
       "    <tr>\n",
       "      <th>74</th>\n",
       "      <td>Developmental protein &gt; interacts &gt; Hydrolase</td>\n",
       "      <td>Ei&gt;J</td>\n",
       "      <td>654</td>\n",
       "      <td>141</td>\n",
       "      <td>330</td>\n",
       "    </tr>\n",
       "    <tr>\n",
       "      <th>26</th>\n",
       "      <td>Hydrolase &gt; participates &gt; Biological Process</td>\n",
       "      <td>Jp&gt;BP</td>\n",
       "      <td>583</td>\n",
       "      <td>396</td>\n",
       "      <td>45</td>\n",
       "    </tr>\n",
       "    <tr>\n",
       "      <th>2</th>\n",
       "      <td>Hydrolase &gt; interacts &gt; Hydrolase</td>\n",
       "      <td>Ji&gt;J</td>\n",
       "      <td>514</td>\n",
       "      <td>190</td>\n",
       "      <td>224</td>\n",
       "    </tr>\n",
       "    <tr>\n",
       "      <th>56</th>\n",
       "      <td>Developmental protein &gt; participates &gt; Biologi...</td>\n",
       "      <td>Ep&gt;BP</td>\n",
       "      <td>312</td>\n",
       "      <td>221</td>\n",
       "      <td>35</td>\n",
       "    </tr>\n",
       "    <tr>\n",
       "      <th>15</th>\n",
       "      <td>Cytokine &gt; interacts &gt; Cytokine</td>\n",
       "      <td>Di&gt;D</td>\n",
       "      <td>264</td>\n",
       "      <td>63</td>\n",
       "      <td>74</td>\n",
       "    </tr>\n",
       "    <tr>\n",
       "      <th>150</th>\n",
       "      <td>Cytokine &gt; interacts &gt; Developmental protein</td>\n",
       "      <td>Di&gt;E</td>\n",
       "      <td>263</td>\n",
       "      <td>96</td>\n",
       "      <td>54</td>\n",
       "    </tr>\n",
       "    <tr>\n",
       "      <th>76</th>\n",
       "      <td>Hydrolase &gt; interacts &gt; Developmental protein</td>\n",
       "      <td>Ji&gt;E</td>\n",
       "      <td>252</td>\n",
       "      <td>91</td>\n",
       "      <td>116</td>\n",
       "    </tr>\n",
       "    <tr>\n",
       "      <th>82</th>\n",
       "      <td>Compound &gt; downregulates &gt; Ion channel</td>\n",
       "      <td>Cd&gt;K</td>\n",
       "      <td>246</td>\n",
       "      <td>74</td>\n",
       "      <td>89</td>\n",
       "    </tr>\n",
       "    <tr>\n",
       "      <th>5</th>\n",
       "      <td>Compound &gt; upregulates &gt; Hydrolase</td>\n",
       "      <td>Cu&gt;J</td>\n",
       "      <td>223</td>\n",
       "      <td>68</td>\n",
       "      <td>102</td>\n",
       "    </tr>\n",
       "    <tr>\n",
       "      <th>16</th>\n",
       "      <td>Compound &gt; downregulates &gt; Hydrolase</td>\n",
       "      <td>Cd&gt;J</td>\n",
       "      <td>215</td>\n",
       "      <td>85</td>\n",
       "      <td>114</td>\n",
       "    </tr>\n",
       "    <tr>\n",
       "      <th>134</th>\n",
       "      <td>Growth factor &gt; interacts &gt; Developmental protein</td>\n",
       "      <td>Fi&gt;E</td>\n",
       "      <td>201</td>\n",
       "      <td>28</td>\n",
       "      <td>31</td>\n",
       "    </tr>\n",
       "    <tr>\n",
       "      <th>123</th>\n",
       "      <td>Ion channel &gt; interacts &gt; Hydrolase</td>\n",
       "      <td>Ki&gt;J</td>\n",
       "      <td>172</td>\n",
       "      <td>47</td>\n",
       "      <td>33</td>\n",
       "    </tr>\n",
       "    <tr>\n",
       "      <th>57</th>\n",
       "      <td>Cytokine &gt; interacts &gt; Hydrolase</td>\n",
       "      <td>Di&gt;J</td>\n",
       "      <td>168</td>\n",
       "      <td>57</td>\n",
       "      <td>109</td>\n",
       "    </tr>\n",
       "    <tr>\n",
       "      <th>8</th>\n",
       "      <td>Cytokine &gt; participates &gt; Biological Process</td>\n",
       "      <td>Dp&gt;BP</td>\n",
       "      <td>166</td>\n",
       "      <td>104</td>\n",
       "      <td>15</td>\n",
       "    </tr>\n",
       "    <tr>\n",
       "      <th>146</th>\n",
       "      <td>Hormone &gt; interacts &gt; Hydrolase</td>\n",
       "      <td>Ii&gt;J</td>\n",
       "      <td>159</td>\n",
       "      <td>16</td>\n",
       "      <td>151</td>\n",
       "    </tr>\n",
       "    <tr>\n",
       "      <th>87</th>\n",
       "      <td>Developmental protein &gt; interacts &gt; Ion channel</td>\n",
       "      <td>Ei&gt;K</td>\n",
       "      <td>151</td>\n",
       "      <td>24</td>\n",
       "      <td>96</td>\n",
       "    </tr>\n",
       "    <tr>\n",
       "      <th>71</th>\n",
       "      <td>Compound &gt; downregulates &gt; Cytokine</td>\n",
       "      <td>Cd&gt;D</td>\n",
       "      <td>142</td>\n",
       "      <td>61</td>\n",
       "      <td>39</td>\n",
       "    </tr>\n",
       "    <tr>\n",
       "      <th>144</th>\n",
       "      <td>Heparin-binding &gt; interacts &gt; Developmental pr...</td>\n",
       "      <td>Hi&gt;E</td>\n",
       "      <td>132</td>\n",
       "      <td>25</td>\n",
       "      <td>50</td>\n",
       "    </tr>\n",
       "    <tr>\n",
       "      <th>112</th>\n",
       "      <td>Ion channel &gt; participates &gt; Biological Process</td>\n",
       "      <td>Kp&gt;BP</td>\n",
       "      <td>129</td>\n",
       "      <td>79</td>\n",
       "      <td>21</td>\n",
       "    </tr>\n",
       "    <tr>\n",
       "      <th>21</th>\n",
       "      <td>Chaperone &gt; participates &gt; Biological Process</td>\n",
       "      <td>Bp&gt;BP</td>\n",
       "      <td>112</td>\n",
       "      <td>65</td>\n",
       "      <td>20</td>\n",
       "    </tr>\n",
       "    <tr>\n",
       "      <th>62</th>\n",
       "      <td>Developmental protein &gt; interacts &gt; Heparin-bi...</td>\n",
       "      <td>Ei&gt;H</td>\n",
       "      <td>111</td>\n",
       "      <td>62</td>\n",
       "      <td>38</td>\n",
       "    </tr>\n",
       "    <tr>\n",
       "      <th>63</th>\n",
       "      <td>Heparin-binding &gt; interacts &gt; Hydrolase</td>\n",
       "      <td>Hi&gt;J</td>\n",
       "      <td>109</td>\n",
       "      <td>20</td>\n",
       "      <td>83</td>\n",
       "    </tr>\n",
       "    <tr>\n",
       "      <th>128</th>\n",
       "      <td>Developmental protein &gt; interacts &gt; Cytokine</td>\n",
       "      <td>Ei&gt;D</td>\n",
       "      <td>106</td>\n",
       "      <td>46</td>\n",
       "      <td>60</td>\n",
       "    </tr>\n",
       "    <tr>\n",
       "      <th>91</th>\n",
       "      <td>Ion channel &gt; interacts &gt; Ion channel</td>\n",
       "      <td>Ki&gt;K</td>\n",
       "      <td>97</td>\n",
       "      <td>33</td>\n",
       "      <td>32</td>\n",
       "    </tr>\n",
       "    <tr>\n",
       "      <th>108</th>\n",
       "      <td>Compound &gt; upregulates &gt; Cytokine</td>\n",
       "      <td>Cu&gt;D</td>\n",
       "      <td>90</td>\n",
       "      <td>42</td>\n",
       "      <td>33</td>\n",
       "    </tr>\n",
       "    <tr>\n",
       "      <th>119</th>\n",
       "      <td>Hormone &gt; interacts &gt; Developmental protein</td>\n",
       "      <td>Ii&gt;E</td>\n",
       "      <td>88</td>\n",
       "      <td>26</td>\n",
       "      <td>54</td>\n",
       "    </tr>\n",
       "    <tr>\n",
       "      <th>107</th>\n",
       "      <td>Compound &gt; downregulates &gt; Developmental protein</td>\n",
       "      <td>Cd&gt;E</td>\n",
       "      <td>88</td>\n",
       "      <td>45</td>\n",
       "      <td>56</td>\n",
       "    </tr>\n",
       "    <tr>\n",
       "      <th>79</th>\n",
       "      <td>Compound &gt; upregulates &gt; Ion channel</td>\n",
       "      <td>Cu&gt;K</td>\n",
       "      <td>80</td>\n",
       "      <td>34</td>\n",
       "      <td>39</td>\n",
       "    </tr>\n",
       "    <tr>\n",
       "      <th>98</th>\n",
       "      <td>Compound &gt; upregulates &gt; Developmental protein</td>\n",
       "      <td>Cu&gt;E</td>\n",
       "      <td>79</td>\n",
       "      <td>34</td>\n",
       "      <td>60</td>\n",
       "    </tr>\n",
       "    <tr>\n",
       "      <th>93</th>\n",
       "      <td>Heparin-binding &gt; participates &gt; Biological Pr...</td>\n",
       "      <td>Hp&gt;BP</td>\n",
       "      <td>74</td>\n",
       "      <td>45</td>\n",
       "      <td>16</td>\n",
       "    </tr>\n",
       "    <tr>\n",
       "      <th>47</th>\n",
       "      <td>Growth factor &gt; interacts &gt; Hydrolase</td>\n",
       "      <td>Fi&gt;J</td>\n",
       "      <td>70</td>\n",
       "      <td>21</td>\n",
       "      <td>29</td>\n",
       "    </tr>\n",
       "    <tr>\n",
       "      <th>38</th>\n",
       "      <td>Growth factor &gt; interacts &gt; Heparin-binding</td>\n",
       "      <td>Fi&gt;H</td>\n",
       "      <td>69</td>\n",
       "      <td>18</td>\n",
       "      <td>13</td>\n",
       "    </tr>\n",
       "    <tr>\n",
       "      <th>41</th>\n",
       "      <td>Hydrolase &gt; interacts &gt; Cytokine</td>\n",
       "      <td>Ji&gt;D</td>\n",
       "      <td>65</td>\n",
       "      <td>39</td>\n",
       "      <td>43</td>\n",
       "    </tr>\n",
       "    <tr>\n",
       "      <th>64</th>\n",
       "      <td>Protease inhibitor &gt; interacts &gt; Hydrolase</td>\n",
       "      <td>Mi&gt;J</td>\n",
       "      <td>59</td>\n",
       "      <td>13</td>\n",
       "      <td>42</td>\n",
       "    </tr>\n",
       "    <tr>\n",
       "      <th>68</th>\n",
       "      <td>Hormone &gt; participates &gt; Biological Process</td>\n",
       "      <td>Ip&gt;BP</td>\n",
       "      <td>58</td>\n",
       "      <td>44</td>\n",
       "      <td>10</td>\n",
       "    </tr>\n",
       "    <tr>\n",
       "      <th>80</th>\n",
       "      <td>Growth factor &gt; interacts &gt; Growth factor</td>\n",
       "      <td>Fi&gt;F</td>\n",
       "      <td>56</td>\n",
       "      <td>12</td>\n",
       "      <td>15</td>\n",
       "    </tr>\n",
       "    <tr>\n",
       "      <th>70</th>\n",
       "      <td>Hydrolase &gt; interacts &gt; Heparin-binding</td>\n",
       "      <td>Ji&gt;H</td>\n",
       "      <td>55</td>\n",
       "      <td>40</td>\n",
       "      <td>21</td>\n",
       "    </tr>\n",
       "    <tr>\n",
       "      <th>88</th>\n",
       "      <td>Heparin-binding &gt; interacts &gt; Heparin-binding</td>\n",
       "      <td>Hi&gt;H</td>\n",
       "      <td>54</td>\n",
       "      <td>21</td>\n",
       "      <td>19</td>\n",
       "    </tr>\n",
       "    <tr>\n",
       "      <th>52</th>\n",
       "      <td>Compound &gt; downregulates &gt; Hormone</td>\n",
       "      <td>Cd&gt;I</td>\n",
       "      <td>54</td>\n",
       "      <td>35</td>\n",
       "      <td>20</td>\n",
       "    </tr>\n",
       "    <tr>\n",
       "      <th>115</th>\n",
       "      <td>Developmental protein &gt; interacts &gt; Hormone</td>\n",
       "      <td>Ei&gt;I</td>\n",
       "      <td>54</td>\n",
       "      <td>30</td>\n",
       "      <td>28</td>\n",
       "    </tr>\n",
       "    <tr>\n",
       "      <th>136</th>\n",
       "      <td>Translocase &gt; participates &gt; Biological Process</td>\n",
       "      <td>Np&gt;BP</td>\n",
       "      <td>52</td>\n",
       "      <td>39</td>\n",
       "      <td>10</td>\n",
       "    </tr>\n",
       "    <tr>\n",
       "      <th>46</th>\n",
       "      <td>Compound &gt; upregulates &gt; Hormone</td>\n",
       "      <td>Cu&gt;I</td>\n",
       "      <td>52</td>\n",
       "      <td>38</td>\n",
       "      <td>21</td>\n",
       "    </tr>\n",
       "    <tr>\n",
       "      <th>13</th>\n",
       "      <td>Hydrolase &gt; interacts &gt; Protease inhibitor</td>\n",
       "      <td>Ji&gt;M</td>\n",
       "      <td>51</td>\n",
       "      <td>37</td>\n",
       "      <td>23</td>\n",
       "    </tr>\n",
       "    <tr>\n",
       "      <th>49</th>\n",
       "      <td>Hydrolase &gt; interacts &gt; Ion channel</td>\n",
       "      <td>Ji&gt;K</td>\n",
       "      <td>50</td>\n",
       "      <td>26</td>\n",
       "      <td>46</td>\n",
       "    </tr>\n",
       "    <tr>\n",
       "      <th>37</th>\n",
       "      <td>Growth factor &gt; participates &gt; Biological Process</td>\n",
       "      <td>Fp&gt;BP</td>\n",
       "      <td>50</td>\n",
       "      <td>29</td>\n",
       "      <td>12</td>\n",
       "    </tr>\n",
       "    <tr>\n",
       "      <th>125</th>\n",
       "      <td>Chaperone &gt; interacts &gt; Chaperone</td>\n",
       "      <td>Bi&gt;B</td>\n",
       "      <td>46</td>\n",
       "      <td>21</td>\n",
       "      <td>17</td>\n",
       "    </tr>\n",
       "    <tr>\n",
       "      <th>103</th>\n",
       "      <td>Developmental protein &gt; interacts &gt; Growth factor</td>\n",
       "      <td>Ei&gt;F</td>\n",
       "      <td>44</td>\n",
       "      <td>23</td>\n",
       "      <td>24</td>\n",
       "    </tr>\n",
       "    <tr>\n",
       "      <th>118</th>\n",
       "      <td>Heparin-binding &gt; interacts &gt; Growth factor</td>\n",
       "      <td>Hi&gt;F</td>\n",
       "      <td>42</td>\n",
       "      <td>10</td>\n",
       "      <td>11</td>\n",
       "    </tr>\n",
       "    <tr>\n",
       "      <th>122</th>\n",
       "      <td>Compound &gt; upregulates &gt; Growth factor</td>\n",
       "      <td>Cu&gt;F</td>\n",
       "      <td>40</td>\n",
       "      <td>27</td>\n",
       "      <td>13</td>\n",
       "    </tr>\n",
       "  </tbody>\n",
       "</table>\n",
       "</div>"
      ],
      "text/plain": [
       "                                              metaedge abbreviation  edges  \\\n",
       "9    Developmental protein > interacts > Developmen...         Ei>E   1227   \n",
       "74       Developmental protein > interacts > Hydrolase         Ei>J    654   \n",
       "26       Hydrolase > participates > Biological Process        Jp>BP    583   \n",
       "2                    Hydrolase > interacts > Hydrolase         Ji>J    514   \n",
       "56   Developmental protein > participates > Biologi...        Ep>BP    312   \n",
       "15                     Cytokine > interacts > Cytokine         Di>D    264   \n",
       "150       Cytokine > interacts > Developmental protein         Di>E    263   \n",
       "76       Hydrolase > interacts > Developmental protein         Ji>E    252   \n",
       "82              Compound > downregulates > Ion channel         Cd>K    246   \n",
       "5                   Compound > upregulates > Hydrolase         Cu>J    223   \n",
       "16                Compound > downregulates > Hydrolase         Cd>J    215   \n",
       "134  Growth factor > interacts > Developmental protein         Fi>E    201   \n",
       "123                Ion channel > interacts > Hydrolase         Ki>J    172   \n",
       "57                    Cytokine > interacts > Hydrolase         Di>J    168   \n",
       "8         Cytokine > participates > Biological Process        Dp>BP    166   \n",
       "146                    Hormone > interacts > Hydrolase         Ii>J    159   \n",
       "87     Developmental protein > interacts > Ion channel         Ei>K    151   \n",
       "71                 Compound > downregulates > Cytokine         Cd>D    142   \n",
       "144  Heparin-binding > interacts > Developmental pr...         Hi>E    132   \n",
       "112    Ion channel > participates > Biological Process        Kp>BP    129   \n",
       "21       Chaperone > participates > Biological Process        Bp>BP    112   \n",
       "62   Developmental protein > interacts > Heparin-bi...         Ei>H    111   \n",
       "63             Heparin-binding > interacts > Hydrolase         Hi>J    109   \n",
       "128       Developmental protein > interacts > Cytokine         Ei>D    106   \n",
       "91               Ion channel > interacts > Ion channel         Ki>K     97   \n",
       "108                  Compound > upregulates > Cytokine         Cu>D     90   \n",
       "119        Hormone > interacts > Developmental protein         Ii>E     88   \n",
       "107   Compound > downregulates > Developmental protein         Cd>E     88   \n",
       "79                Compound > upregulates > Ion channel         Cu>K     80   \n",
       "98      Compound > upregulates > Developmental protein         Cu>E     79   \n",
       "93   Heparin-binding > participates > Biological Pr...        Hp>BP     74   \n",
       "47               Growth factor > interacts > Hydrolase         Fi>J     70   \n",
       "38         Growth factor > interacts > Heparin-binding         Fi>H     69   \n",
       "41                    Hydrolase > interacts > Cytokine         Ji>D     65   \n",
       "64          Protease inhibitor > interacts > Hydrolase         Mi>J     59   \n",
       "68         Hormone > participates > Biological Process        Ip>BP     58   \n",
       "80           Growth factor > interacts > Growth factor         Fi>F     56   \n",
       "70             Hydrolase > interacts > Heparin-binding         Ji>H     55   \n",
       "88       Heparin-binding > interacts > Heparin-binding         Hi>H     54   \n",
       "52                  Compound > downregulates > Hormone         Cd>I     54   \n",
       "115        Developmental protein > interacts > Hormone         Ei>I     54   \n",
       "136    Translocase > participates > Biological Process        Np>BP     52   \n",
       "46                    Compound > upregulates > Hormone         Cu>I     52   \n",
       "13          Hydrolase > interacts > Protease inhibitor         Ji>M     51   \n",
       "49                 Hydrolase > interacts > Ion channel         Ji>K     50   \n",
       "37   Growth factor > participates > Biological Process        Fp>BP     50   \n",
       "125                  Chaperone > interacts > Chaperone         Bi>B     46   \n",
       "103  Developmental protein > interacts > Growth factor         Ei>F     44   \n",
       "118        Heparin-binding > interacts > Growth factor         Hi>F     42   \n",
       "122             Compound > upregulates > Growth factor         Cu>F     40   \n",
       "\n",
       "     source_nodes  target_nodes  \n",
       "9             202           271  \n",
       "74            141           330  \n",
       "26            396            45  \n",
       "2             190           224  \n",
       "56            221            35  \n",
       "15             63            74  \n",
       "150            96            54  \n",
       "76             91           116  \n",
       "82             74            89  \n",
       "5              68           102  \n",
       "16             85           114  \n",
       "134            28            31  \n",
       "123            47            33  \n",
       "57             57           109  \n",
       "8             104            15  \n",
       "146            16           151  \n",
       "87             24            96  \n",
       "71             61            39  \n",
       "144            25            50  \n",
       "112            79            21  \n",
       "21             65            20  \n",
       "62             62            38  \n",
       "63             20            83  \n",
       "128            46            60  \n",
       "91             33            32  \n",
       "108            42            33  \n",
       "119            26            54  \n",
       "107            45            56  \n",
       "79             34            39  \n",
       "98             34            60  \n",
       "93             45            16  \n",
       "47             21            29  \n",
       "38             18            13  \n",
       "41             39            43  \n",
       "64             13            42  \n",
       "68             44            10  \n",
       "80             12            15  \n",
       "70             40            21  \n",
       "88             21            19  \n",
       "52             35            20  \n",
       "115            30            28  \n",
       "136            39            10  \n",
       "46             38            21  \n",
       "13             37            23  \n",
       "49             26            46  \n",
       "37             29            12  \n",
       "125            21            17  \n",
       "103            23            24  \n",
       "118            10            11  \n",
       "122            27            13  "
      ]
     },
     "execution_count": 16,
     "metadata": {},
     "output_type": "execute_result"
    }
   ],
   "source": [
    "metaedge_df.sort_values('edges', ascending=False).head(50)"
   ]
  },
  {
   "cell_type": "code",
   "execution_count": 17,
   "metadata": {},
   "outputs": [
    {
     "data": {
      "image/png": "[encoded data removed]",
      "text/plain": [
       "<Figure size 640x480 with 1 Axes>"
      ]
     },
     "metadata": {},
     "output_type": "display_data"
    }
   ],
   "source": [
    "ax = sns.barplot(x='abbreviation', y='edges', data=metaedge_df.sort_values('edges'))\n",
    "for tick in ax.get_xticklabels():\n",
    "    tick.set_rotation(90)\n",
    "ax.set_xlabel(''); ax.set_ylabel('edges');\n",
    "\n",
    "# change dimensions of plot to be wider\n",
    "#sns.set(rc={'figure.figsize':(100, 10)})"
   ]
  },
  {
   "cell_type": "code",
   "execution_count": 18,
   "metadata": {},
   "outputs": [
    {
     "data": {
      "text/html": [
       "<div>\n",
       "<style scoped>\n",
       "    .dataframe tbody tr th:only-of-type {\n",
       "        vertical-align: middle;\n",
       "    }\n",
       "\n",
       "    .dataframe tbody tr th {\n",
       "        vertical-align: top;\n",
       "    }\n",
       "\n",
       "    .dataframe thead th {\n",
       "        text-align: right;\n",
       "    }\n",
       "</style>\n",
       "<table border=\"1\" class=\"dataframe\">\n",
       "  <thead>\n",
       "    <tr style=\"text-align: right;\">\n",
       "      <th></th>\n",
       "      <th>metaedge</th>\n",
       "      <th>unicode_metaedge</th>\n",
       "      <th>standard_metaedge</th>\n",
       "      <th>abbreviation</th>\n",
       "      <th>standard_abbreviation</th>\n",
       "      <th>source</th>\n",
       "      <th>target</th>\n",
       "      <th>inverted</th>\n",
       "    </tr>\n",
       "  </thead>\n",
       "  <tbody>\n",
       "    <tr>\n",
       "      <th>261</th>\n",
       "      <td>Antimicrobial &lt; interacts &lt; Antimicrobial</td>\n",
       "      <td>Antimicrobial←interacts←Antimicrobial</td>\n",
       "      <td>Antimicrobial &gt; interacts &gt; Antimicrobial</td>\n",
       "      <td>A&lt;iA</td>\n",
       "      <td>AiA</td>\n",
       "      <td>Antimicrobial</td>\n",
       "      <td>Antimicrobial</td>\n",
       "      <td>1</td>\n",
       "    </tr>\n",
       "    <tr>\n",
       "      <th>39</th>\n",
       "      <td>Antimicrobial &lt; interacts &lt; Cytokine</td>\n",
       "      <td>Antimicrobial←interacts←Cytokine</td>\n",
       "      <td>Cytokine &gt; interacts &gt; Antimicrobial</td>\n",
       "      <td>A&lt;iD</td>\n",
       "      <td>DiA</td>\n",
       "      <td>Antimicrobial</td>\n",
       "      <td>Cytokine</td>\n",
       "      <td>1</td>\n",
       "    </tr>\n",
       "    <tr>\n",
       "      <th>241</th>\n",
       "      <td>Antimicrobial &lt; interacts &lt; Developmental protein</td>\n",
       "      <td>Antimicrobial←interacts←Developmental protein</td>\n",
       "      <td>Developmental protein &gt; interacts &gt; Antimicrobial</td>\n",
       "      <td>A&lt;iE</td>\n",
       "      <td>EiA</td>\n",
       "      <td>Antimicrobial</td>\n",
       "      <td>Developmental protein</td>\n",
       "      <td>1</td>\n",
       "    </tr>\n",
       "    <tr>\n",
       "      <th>229</th>\n",
       "      <td>Antimicrobial &lt; interacts &lt; Heparin-binding</td>\n",
       "      <td>Antimicrobial←interacts←Heparin-binding</td>\n",
       "      <td>Heparin-binding &gt; interacts &gt; Antimicrobial</td>\n",
       "      <td>A&lt;iH</td>\n",
       "      <td>HiA</td>\n",
       "      <td>Antimicrobial</td>\n",
       "      <td>Heparin-binding</td>\n",
       "      <td>1</td>\n",
       "    </tr>\n",
       "    <tr>\n",
       "      <th>85</th>\n",
       "      <td>Antimicrobial &lt; interacts &lt; Hormone</td>\n",
       "      <td>Antimicrobial←interacts←Hormone</td>\n",
       "      <td>Hormone &gt; interacts &gt; Antimicrobial</td>\n",
       "      <td>A&lt;iI</td>\n",
       "      <td>IiA</td>\n",
       "      <td>Antimicrobial</td>\n",
       "      <td>Hormone</td>\n",
       "      <td>1</td>\n",
       "    </tr>\n",
       "  </tbody>\n",
       "</table>\n",
       "</div>"
      ],
      "text/plain": [
       "                                              metaedge  \\\n",
       "261          Antimicrobial < interacts < Antimicrobial   \n",
       "39                Antimicrobial < interacts < Cytokine   \n",
       "241  Antimicrobial < interacts < Developmental protein   \n",
       "229        Antimicrobial < interacts < Heparin-binding   \n",
       "85                 Antimicrobial < interacts < Hormone   \n",
       "\n",
       "                                  unicode_metaedge  \\\n",
       "261          Antimicrobial←interacts←Antimicrobial   \n",
       "39                Antimicrobial←interacts←Cytokine   \n",
       "241  Antimicrobial←interacts←Developmental protein   \n",
       "229        Antimicrobial←interacts←Heparin-binding   \n",
       "85                 Antimicrobial←interacts←Hormone   \n",
       "\n",
       "                                     standard_metaedge abbreviation  \\\n",
       "261          Antimicrobial > interacts > Antimicrobial         A<iA   \n",
       "39                Cytokine > interacts > Antimicrobial         A<iD   \n",
       "241  Developmental protein > interacts > Antimicrobial         A<iE   \n",
       "229        Heparin-binding > interacts > Antimicrobial         A<iH   \n",
       "85                 Hormone > interacts > Antimicrobial         A<iI   \n",
       "\n",
       "    standard_abbreviation         source                 target  inverted  \n",
       "261                   AiA  Antimicrobial          Antimicrobial         1  \n",
       "39                    DiA  Antimicrobial               Cytokine         1  \n",
       "241                   EiA  Antimicrobial  Developmental protein         1  \n",
       "229                   HiA  Antimicrobial        Heparin-binding         1  \n",
       "85                    IiA  Antimicrobial                Hormone         1  "
      ]
     },
     "execution_count": 18,
     "metadata": {},
     "output_type": "execute_result"
    }
   ],
   "source": [
    "# Summary of different styles for representing each metaedge\n",
    "metaedge_style_df = hetnetpy.stats.get_metaedge_style_df(metagraph)\n",
    "metaedge_style_df.head()"
   ]
  },
  {
   "cell_type": "code",
   "execution_count": 19,
   "metadata": {},
   "outputs": [
    {
     "data": {
      "text/plain": [
       "9316"
      ]
     },
     "execution_count": 19,
     "metadata": {},
     "output_type": "execute_result"
    }
   ],
   "source": [
    "# Number of edges in the network\n",
    "metaedge_df.edges.sum()"
   ]
  },
  {
   "attachments": {},
   "cell_type": "markdown",
   "metadata": {},
   "source": [
    "## Metapath Extraction\n",
    "\n",
    "Here, we have functions which can extract metapaths:"
   ]
  },
  {
   "attachments": {},
   "cell_type": "markdown",
   "metadata": {},
   "source": [
    "Extract metapaths from a given source node type (and, optionally, to a target node type):"
   ]
  },
  {
   "cell_type": "code",
   "execution_count": 20,
   "metadata": {},
   "outputs": [],
   "source": [
    "tgt_metapaths = metagraph.extract_metapaths(source='Compound', target='Biological Process', max_length=4)\n",
    "# print(tgt_metapaths)"
   ]
  },
  {
   "attachments": {},
   "cell_type": "markdown",
   "metadata": {},
   "source": [
    "We do not want any with a compound in the middle:"
   ]
  },
  {
   "cell_type": "code",
   "execution_count": 21,
   "metadata": {},
   "outputs": [],
   "source": [
    "CtoBP_metapaths = []\n",
    "\n",
    "for i in tgt_metapaths:\n",
    "    if '<' in repr(i):\n",
    "        continue\n",
    "    if (repr(i) != 'Ct>BP') & (Counter(re.split('>|<|[^A-Z]', repr(i)))['C'] == 1):\n",
    "        CtoBP_metapaths.append(i)"
   ]
  },
  {
   "attachments": {},
   "cell_type": "markdown",
   "metadata": {},
   "source": [
    "How many did it prune?"
   ]
  },
  {
   "cell_type": "code",
   "execution_count": 22,
   "metadata": {},
   "outputs": [
    {
     "name": "stdout",
     "output_type": "stream",
     "text": [
      "2590\n",
      "10932\n"
     ]
    }
   ],
   "source": [
    "print(len(CtoBP_metapaths))\n",
    "print(len(tgt_metapaths))"
   ]
  },
  {
   "attachments": {},
   "cell_type": "markdown",
   "metadata": {},
   "source": [
    "## Metapaths Between Training, Validation, Testing\n",
    "\n",
    "Here, we'll look at the metapaths that occur between each of the sets of drug-BP pairs."
   ]
  },
  {
   "cell_type": "code",
   "execution_count": 23,
   "metadata": {},
   "outputs": [],
   "source": [
    "def get_paths(\n",
    "    graph,\n",
    "    source,\n",
    "    target,\n",
    "    rule,\n",
    "):\n",
    "    try:\n",
    "        paths = paths_between(\n",
    "            graph,\n",
    "            source=('Compound', source),\n",
    "            target=('Biological Process', target),\n",
    "            metapath=tuple(rule),\n",
    "            duplicates=False,\n",
    "        )\n",
    "    except Exception as e:\n",
    "        print(e)\n",
    "        paths = []        \n",
    "    \n",
    "    return paths"
   ]
  },
  {
   "cell_type": "code",
   "execution_count": 24,
   "metadata": {},
   "outputs": [],
   "source": [
    "# read in train.txt, test.txt, and dev.txt from MARS_DIR\n",
    "train = pd.read_csv(osp.join(MOA_NET_PROTCLASSED, 'train.tsv'), sep='\\t')\n",
    "test = pd.read_csv(osp.join(MOA_NET_PROTCLASSED, 'test.tsv'), sep='\\t')\n",
    "dev = pd.read_csv(osp.join(MOA_NET_PROTCLASSED, 'dev.tsv'), sep='\\t')\n",
    "\n",
    "# for each, get a set of the source and target columns\n",
    "train = {(row['source'], row['target']) for i, row in train.iterrows()}\n",
    "test = {(row['source'], row['target']) for i, row in test.iterrows()}\n",
    "dev = {(row['source'], row['target']) for i, row in dev.iterrows()}"
   ]
  },
  {
   "cell_type": "code",
   "execution_count": 25,
   "metadata": {},
   "outputs": [],
   "source": [
    "def get_metapath_counts(drug_BP_pairs):\n",
    "\n",
    "    metapath_dict = {str(mpath): 0 for mpath in CtoBP_metapaths}\n",
    "\n",
    "    for source, bp in tqdm.tqdm(drug_BP_pairs):\n",
    "        # All metapaths going from compound to biological process\n",
    "        for mpath in CtoBP_metapaths:\n",
    "                    \n",
    "            paths = get_paths(\n",
    "                graph=graph,\n",
    "                source=source,\n",
    "                target=bp,\n",
    "                rule=mpath,\n",
    "            )\n",
    "            \n",
    "            if not paths:\n",
    "                continue\n",
    "                \n",
    "            metapath_dict[str(mpath)] += len(paths)\n",
    "\n",
    "    return metapath_dict"
   ]
  },
  {
   "attachments": {},
   "cell_type": "markdown",
   "metadata": {},
   "source": [
    "This next step is really long, which is why I've made it possible to skip if the files already exist:"
   ]
  },
  {
   "cell_type": "code",
   "execution_count": 26,
   "metadata": {},
   "outputs": [],
   "source": [
    "# check if a file exists\n",
    "if not osp.exists(osp.join(METAPATHS_DIR, 'train_metapaths.json')):\n",
    "    train_metapaths = get_metapath_counts(train)\n",
    "    with open(osp.join(METAPATHS_DIR, 'train_metapaths.json'), 'w') as f:\n",
    "        json.dump(train_metapaths, f)\n",
    "\n",
    "else:\n",
    "    with open(osp.join(METAPATHS_DIR, 'train_metapaths.json'), 'r') as f:\n",
    "        train_metapaths = json.load(f)\n",
    "\n",
    "if not osp.exists(osp.join(METAPATHS_DIR, 'test_metapaths.json')):       \n",
    "    test_metapaths = get_metapath_counts(test)\n",
    "    with open(osp.join(METAPATHS_DIR, 'test_metapaths.json'), 'w') as f:\n",
    "        json.dump(test_metapaths, f)\n",
    "\n",
    "else:\n",
    "    with open(osp.join(METAPATHS_DIR, 'test_metapaths.json'), 'r') as f:\n",
    "        test_metapaths = json.load(f)\n",
    "\n",
    "if not osp.exists(osp.join(METAPATHS_DIR, 'dev_metapaths.json')): \n",
    "    dev_metapaths = get_metapath_counts(dev)\n",
    "    with open(osp.join(METAPATHS_DIR, 'dev_metapaths.json'), 'w') as f:\n",
    "        json.dump(dev_metapaths, f)\n",
    "\n",
    "else:\n",
    "    with open(osp.join(METAPATHS_DIR, 'dev_metapaths.json'), 'r') as f:\n",
    "        dev_metapaths = json.load(f)"
   ]
  },
  {
   "cell_type": "code",
   "execution_count": 27,
   "metadata": {},
   "outputs": [],
   "source": [
    "# for each value, turn it into a ratio of value/ sum of all values\n",
    "test_ratios = {k: v/sum(test_metapaths.values()) for k, v in test_metapaths.items()}\n",
    "train_ratios = {k: v/sum(train_metapaths.values()) for k, v in train_metapaths.items()}\n",
    "dev_ratios = {k: v/sum(dev_metapaths.values()) for k, v in dev_metapaths.items()}"
   ]
  },
  {
   "cell_type": "code",
   "execution_count": 28,
   "metadata": {},
   "outputs": [],
   "source": [
    "# get any keys where the value is zero\n",
    "zero_train = {k: v for k, v in train_ratios.items() if v == 0}\n",
    "zero_test = {k: v for k, v in test_ratios.items() if v == 0}"
   ]
  },
  {
   "cell_type": "code",
   "execution_count": 29,
   "metadata": {},
   "outputs": [
    {
     "data": {
      "text/plain": [
       "2332"
      ]
     },
     "execution_count": 29,
     "metadata": {},
     "output_type": "execute_result"
    }
   ],
   "source": [
    "len(set(zero_test.keys()))"
   ]
  },
  {
   "cell_type": "code",
   "execution_count": 30,
   "metadata": {},
   "outputs": [
    {
     "data": {
      "text/plain": [
       "1349"
      ]
     },
     "execution_count": 30,
     "metadata": {},
     "output_type": "execute_result"
    }
   ],
   "source": [
    "len(set(zero_train.keys()))"
   ]
  },
  {
   "attachments": {},
   "cell_type": "markdown",
   "metadata": {},
   "source": [
    "Are there metapaths with zero instances in the training set but instances in the test set?"
   ]
  },
  {
   "cell_type": "code",
   "execution_count": 31,
   "metadata": {},
   "outputs": [],
   "source": [
    "# nonzero keys in test\n",
    "nonzero_test = {k: v for k, v in test_ratios.items() if v != 0}"
   ]
  },
  {
   "cell_type": "code",
   "execution_count": 32,
   "metadata": {},
   "outputs": [
    {
     "data": {
      "text/plain": [
       "1214"
      ]
     },
     "execution_count": 32,
     "metadata": {},
     "output_type": "execute_result"
    }
   ],
   "source": [
    "len(set(zero_train.keys()) - set(nonzero_test.keys()))"
   ]
  },
  {
   "cell_type": "code",
   "execution_count": 33,
   "metadata": {},
   "outputs": [
    {
     "data": {
      "text/plain": [
       "135"
      ]
     },
     "execution_count": 33,
     "metadata": {},
     "output_type": "execute_result"
    }
   ],
   "source": [
    "len(set(zero_train.keys()) - set(zero_test.keys()))"
   ]
  },
  {
   "attachments": {},
   "cell_type": "markdown",
   "metadata": {},
   "source": [
    "Are the most common keys mostly the same?"
   ]
  },
  {
   "cell_type": "code",
   "execution_count": 34,
   "metadata": {},
   "outputs": [],
   "source": [
    "top_test = {tup[0] for tup in Counter(test_ratios).most_common(100)}\n",
    "top_train = {tup[0] for tup in Counter(train_ratios).most_common(100)}"
   ]
  },
  {
   "cell_type": "code",
   "execution_count": 35,
   "metadata": {},
   "outputs": [
    {
     "data": {
      "text/plain": [
       "0.7"
      ]
     },
     "execution_count": 35,
     "metadata": {},
     "output_type": "execute_result"
    }
   ],
   "source": [
    "len(top_test & top_train) / len(top_test)"
   ]
  },
  {
   "attachments": {},
   "cell_type": "markdown",
   "metadata": {},
   "source": [
    "It seems they are mostly the same, but not exactly."
   ]
  },
  {
   "attachments": {},
   "cell_type": "markdown",
   "metadata": {},
   "source": [
    "# MARS Input Preparation\n",
    "\n",
    "What if we want to get these in a format similar to the MARS output?\n",
    "\n",
    "First let's give them all a uniform probability:"
   ]
  },
  {
   "cell_type": "code",
   "execution_count": 36,
   "metadata": {},
   "outputs": [],
   "source": [
    "#prob = 1 / (2 * len(CtoBP_metapaths))\n",
    "prob = 0.5"
   ]
  },
  {
   "attachments": {},
   "cell_type": "markdown",
   "metadata": {},
   "source": [
    "We can split the metapaths into a series of individual relations:"
   ]
  },
  {
   "cell_type": "code",
   "execution_count": 37,
   "metadata": {},
   "outputs": [],
   "source": [
    "def get_forward_rule_body(mpath, conf, metagraph):\n",
    "    \"\"\"Gets the rule body for a given metapath in the format that MARS requires\n",
    "        :param mpath: the metapath instance, written in hetnetpy format\n",
    "        :param conf: the confidence value to use for the rule\n",
    "        :param metagraph: the metagraph instance, as a hetnetpy object\n",
    "    \"\"\"\n",
    "    st_edges = metaedges_from_metapath(mpath, standardize_by=metagraph)\n",
    "    directional_edges = metaedges_from_metapath(mpath)\n",
    "    rule_head = re.split('>|<|[^A-Z]', mpath)\n",
    "    rule_head = rule_head[0] + 't' + rule_head[-1]\n",
    "    rule_body = [conf, rule_head]\n",
    "    for st, dic in zip(st_edges, directional_edges):\n",
    "        if '>' in dic:\n",
    "            rule_body.append(st)\n",
    "        else:\n",
    "            rule_body.append('_' + st)\n",
    "    return rule_body"
   ]
  },
  {
   "cell_type": "code",
   "execution_count": 38,
   "metadata": {},
   "outputs": [
    {
     "ename": "KeyError",
     "evalue": "'edge abbreviation not found: u>'",
     "output_type": "error",
     "traceback": [
      "\u001b[0;31m---------------------------------------------------------------------------\u001b[0m",
      "\u001b[0;31mKeyError\u001b[0m                                  Traceback (most recent call last)",
      "Cell \u001b[0;32mIn[38], line 2\u001b[0m\n\u001b[1;32m      1\u001b[0m \u001b[39m# just testing the function\u001b[39;00m\n\u001b[0;32m----> 2\u001b[0m get_forward_rule_body(\u001b[39m'\u001b[39;49m\u001b[39mCu>G<uCd>Gp>BP\u001b[39;49m\u001b[39m'\u001b[39;49m, prob, metagraph)\n",
      "Cell \u001b[0;32mIn[37], line 7\u001b[0m, in \u001b[0;36mget_forward_rule_body\u001b[0;34m(mpath, conf, metagraph)\u001b[0m\n\u001b[1;32m      1\u001b[0m \u001b[39mdef\u001b[39;00m \u001b[39mget_forward_rule_body\u001b[39m(mpath, conf, metagraph):\n\u001b[1;32m      2\u001b[0m \u001b[39m    \u001b[39m\u001b[39m\"\"\"Gets the rule body for a given metapath in the format that MARS requires\u001b[39;00m\n\u001b[1;32m      3\u001b[0m \u001b[39m        :param mpath: the metapath instance, written in hetnetpy format\u001b[39;00m\n\u001b[1;32m      4\u001b[0m \u001b[39m        :param conf: the confidence value to use for the rule\u001b[39;00m\n\u001b[1;32m      5\u001b[0m \u001b[39m        :param metagraph: the metagraph instance, as a hetnetpy object\u001b[39;00m\n\u001b[1;32m      6\u001b[0m \u001b[39m    \"\"\"\u001b[39;00m\n\u001b[0;32m----> 7\u001b[0m     st_edges \u001b[39m=\u001b[39m metaedges_from_metapath(mpath, standardize_by\u001b[39m=\u001b[39;49mmetagraph)\n\u001b[1;32m      8\u001b[0m     directional_edges \u001b[39m=\u001b[39m metaedges_from_metapath(mpath)\n\u001b[1;32m      9\u001b[0m     rule_head \u001b[39m=\u001b[39m re\u001b[39m.\u001b[39msplit(\u001b[39m'\u001b[39m\u001b[39m>|<|[^A-Z]\u001b[39m\u001b[39m'\u001b[39m, mpath)\n",
      "File \u001b[0;32m~/.local/lib/python3.10/site-packages/hetnetpy/abbreviation.py:121\u001b[0m, in \u001b[0;36mmetaedges_from_metapath\u001b[0;34m(abbreviation, standardize_by)\u001b[0m\n\u001b[1;32m    113\u001b[0m \u001b[39m\u001b[39m\u001b[39m\"\"\"\u001b[39;00m\n\u001b[1;32m    114\u001b[0m \u001b[39mGet the abbreviated metaedges for an abbreviated metapath.\u001b[39;00m\n\u001b[1;32m    115\u001b[0m \u001b[39mPass a hetnetpy.MetaGraph object to `standardize_by` to standardize metaedge\u001b[39;00m\n\u001b[0;32m   (...)\u001b[0m\n\u001b[1;32m    118\u001b[0m \u001b[39mabbreviation. Default (`None`) does not standardize.\u001b[39;00m\n\u001b[1;32m    119\u001b[0m \u001b[39m\"\"\"\u001b[39;00m\n\u001b[1;32m    120\u001b[0m \u001b[39mif\u001b[39;00m \u001b[39misinstance\u001b[39m(standardize_by, hetnetpy\u001b[39m.\u001b[39mhetnet\u001b[39m.\u001b[39mMetaGraph):\n\u001b[0;32m--> 121\u001b[0m     metapath \u001b[39m=\u001b[39m standardize_by\u001b[39m.\u001b[39;49mmetapath_from_abbrev(abbreviation)\n\u001b[1;32m    122\u001b[0m     \u001b[39mreturn\u001b[39;00m [metaedge\u001b[39m.\u001b[39mget_standard_abbrev() \u001b[39mfor\u001b[39;00m metaedge \u001b[39min\u001b[39;00m metapath]\n\u001b[1;32m    123\u001b[0m \u001b[39m# Note that this is a valid regex module pattern but will not work in the\u001b[39;00m\n\u001b[1;32m    124\u001b[0m \u001b[39m# re module due to \"look-behind requires fixed-width pattern\".\u001b[39;00m\n",
      "File \u001b[0;32m~/.local/lib/python3.10/site-packages/hetnetpy/hetnet.py:437\u001b[0m, in \u001b[0;36mMetaGraph.metapath_from_abbrev\u001b[0;34m(self, abbrev)\u001b[0m\n\u001b[1;32m    435\u001b[0m metaedge_abbrevs \u001b[39m=\u001b[39m hetnetpy\u001b[39m.\u001b[39mabbreviation\u001b[39m.\u001b[39mmetaedges_from_metapath(abbrev)\n\u001b[1;32m    436\u001b[0m \u001b[39mfor\u001b[39;00m metaedge_abbrev \u001b[39min\u001b[39;00m metaedge_abbrevs:\n\u001b[0;32m--> 437\u001b[0m     metaedge_id \u001b[39m=\u001b[39m hetnetpy\u001b[39m.\u001b[39;49mabbreviation\u001b[39m.\u001b[39;49mmetaedge_id_from_abbreviation(\n\u001b[1;32m    438\u001b[0m         \u001b[39mself\u001b[39;49m, metaedge_abbrev\n\u001b[1;32m    439\u001b[0m     )\n\u001b[1;32m    440\u001b[0m     metaedges\u001b[39m.\u001b[39mappend(\u001b[39mself\u001b[39m\u001b[39m.\u001b[39mget_edge(metaedge_id))\n\u001b[1;32m    441\u001b[0m \u001b[39mreturn\u001b[39;00m \u001b[39mself\u001b[39m\u001b[39m.\u001b[39mget_metapath_from_edges(\u001b[39mtuple\u001b[39m(metaedges))\n",
      "File \u001b[0;32m~/.local/lib/python3.10/site-packages/hetnetpy/abbreviation.py:154\u001b[0m, in \u001b[0;36mmetaedge_id_from_abbreviation\u001b[0;34m(metagraph, abbreviation)\u001b[0m\n\u001b[1;32m    152\u001b[0m         \u001b[39mbreak\u001b[39;00m\n\u001b[1;32m    153\u001b[0m \u001b[39melse\u001b[39;00m:\n\u001b[0;32m--> 154\u001b[0m     \u001b[39mraise\u001b[39;00m \u001b[39mKeyError\u001b[39;00m(\u001b[39m\"\u001b[39m\u001b[39medge abbreviation not found: \u001b[39m\u001b[39m{}\u001b[39;00m\u001b[39m\"\u001b[39m\u001b[39m.\u001b[39mformat(edge_abbrev))\n\u001b[1;32m    155\u001b[0m \u001b[39mif\u001b[39;00m \u001b[39m\"\u001b[39m\u001b[39m>\u001b[39m\u001b[39m\"\u001b[39m \u001b[39min\u001b[39;00m abbreviation:\n\u001b[1;32m    156\u001b[0m     direction \u001b[39m=\u001b[39m \u001b[39m\"\u001b[39m\u001b[39mforward\u001b[39m\u001b[39m\"\u001b[39m\n",
      "\u001b[0;31mKeyError\u001b[0m: 'edge abbreviation not found: u>'"
     ]
    }
   ],
   "source": [
    "# just testing the function\n",
    "get_forward_rule_body('Cu>G<uCd>Gp>BP', prob, metagraph)"
   ]
  },
  {
   "cell_type": "code",
   "execution_count": null,
   "metadata": {},
   "outputs": [],
   "source": [
    "def get_reverse_rule_body(forward_body):\n",
    "    \"\"\"Gets the REVERSE rule body for a given metapath in the format that MARS requires\n",
    "        :param forward_body: the forward rule body as a list\n",
    "    \"\"\"\n",
    "    rev_body = [forward_body[0], '_' + forward_body[1]]\n",
    "    for i in reversed(forward_body[2:]):\n",
    "        if '_' in i:\n",
    "            rev_body.append(re.sub('_', '', i))\n",
    "        else:\n",
    "            rev_body.append('_' + i)\n",
    "    return rev_body"
   ]
  },
  {
   "cell_type": "code",
   "execution_count": null,
   "metadata": {},
   "outputs": [
    {
     "data": {
      "text/plain": [
       "[0.5, '_CtBP', '_GpBP', '_CdG', 'CuG', '_CuG']"
      ]
     },
     "execution_count": 40,
     "metadata": {},
     "output_type": "execute_result"
    }
   ],
   "source": [
    "fw = get_forward_rule_body('Cu>G<uCd>Gp>BP', prob, metagraph)\n",
    "get_reverse_rule_body(fw)"
   ]
  },
  {
   "attachments": {},
   "cell_type": "markdown",
   "metadata": {},
   "source": [
    "Now we'll do it for all the compound to BP metapaths!"
   ]
  },
  {
   "cell_type": "code",
   "execution_count": null,
   "metadata": {},
   "outputs": [
    {
     "name": "stdout",
     "output_type": "stream",
     "text": [
      "{'CtBP': [[0.5, 'CtBP', 'CdA', 'ApBP'], [0.5, 'CtBP', 'CuA', 'ApBP'], [0.5, 'CtBP', 'CdG', 'GpBP'], [0.5, 'CtBP', 'CuG', 'GpBP'], [0.5, 'CtBP', 'CdB', 'BpBP'], [0.5, 'CtBP', 'CuB', 'BpBP'], [0.5, 'CtBP', 'CdD', 'DpBP'], [0.5, 'CtBP', 'CuD', 'DpBP'], [0.5, 'CtBP', 'CdA', 'AiA', 'ApBP'], [0.5, 'CtBP', 'CdA', 'AiG', 'GpBP'], [0.5, 'CtBP', 'CdA', 'AiB', 'BpBP'], [0.5, 'CtBP', 'CdA', 'AiD', 'DpBP'], [0.5, 'CtBP', 'CuA', 'AiA', 'ApBP'], [0.5, 'CtBP', 'CuA', 'AiG', 'GpBP'], [0.5, 'CtBP', 'CuA', 'AiB', 'BpBP'], [0.5, 'CtBP', 'CuA', 'AiD', 'DpBP'], [0.5, 'CtBP', 'CdG', 'GiA', 'ApBP'], [0.5, 'CtBP', 'CdG', 'GiG', 'GpBP'], [0.5, 'CtBP', 'CdG', 'GiB', 'BpBP'], [0.5, 'CtBP', 'CdG', 'GiD', 'DpBP'], [0.5, 'CtBP', 'CuG', 'GiA', 'ApBP'], [0.5, 'CtBP', 'CuG', 'GiG', 'GpBP'], [0.5, 'CtBP', 'CuG', 'GiB', 'BpBP'], [0.5, 'CtBP', 'CuG', 'GiD', 'DpBP'], [0.5, 'CtBP', 'CdB', 'BiA', 'ApBP'], [0.5, 'CtBP', 'CdB', 'BiG', 'GpBP'], [0.5, 'CtBP', 'CdB', 'BiB', 'BpBP'], [0.5, 'CtBP', 'CdB', 'BiD', 'DpBP'], [0.5, 'CtBP', 'CuB', 'BiA', 'ApBP'], [0.5, 'CtBP', 'CuB', 'BiG', 'GpBP'], [0.5, 'CtBP', 'CuB', 'BiB', 'BpBP'], [0.5, 'CtBP', 'CuB', 'BiD', 'DpBP'], [0.5, 'CtBP', 'CdD', 'DiA', 'ApBP'], [0.5, 'CtBP', 'CdD', 'DiG', 'GpBP'], [0.5, 'CtBP', 'CdD', 'DiB', 'BpBP'], [0.5, 'CtBP', 'CdD', 'DiD', 'DpBP'], [0.5, 'CtBP', 'CuD', 'DiA', 'ApBP'], [0.5, 'CtBP', 'CuD', 'DiG', 'GpBP'], [0.5, 'CtBP', 'CuD', 'DiB', 'BpBP'], [0.5, 'CtBP', 'CuD', 'DiD', 'DpBP'], [0.5, 'CtBP', 'CdA', 'AiA', 'AiA', 'ApBP'], [0.5, 'CtBP', 'CdA', 'AiA', 'AiG', 'GpBP'], [0.5, 'CtBP', 'CdA', 'AiA', 'AiB', 'BpBP'], [0.5, 'CtBP', 'CdA', 'AiA', 'AiD', 'DpBP'], [0.5, 'CtBP', 'CdA', 'AiG', 'GiA', 'ApBP'], [0.5, 'CtBP', 'CdA', 'AiG', 'GiG', 'GpBP'], [0.5, 'CtBP', 'CdA', 'AiG', 'GiB', 'BpBP'], [0.5, 'CtBP', 'CdA', 'AiG', 'GiD', 'DpBP'], [0.5, 'CtBP', 'CdA', 'AiB', 'BiA', 'ApBP'], [0.5, 'CtBP', 'CdA', 'AiB', 'BiG', 'GpBP'], [0.5, 'CtBP', 'CdA', 'AiB', 'BiB', 'BpBP'], [0.5, 'CtBP', 'CdA', 'AiB', 'BiD', 'DpBP'], [0.5, 'CtBP', 'CdA', 'AiD', 'DiA', 'ApBP'], [0.5, 'CtBP', 'CdA', 'AiD', 'DiG', 'GpBP'], [0.5, 'CtBP', 'CdA', 'AiD', 'DiB', 'BpBP'], [0.5, 'CtBP', 'CdA', 'AiD', 'DiD', 'DpBP'], [0.5, 'CtBP', 'CuA', 'AiA', 'AiA', 'ApBP'], [0.5, 'CtBP', 'CuA', 'AiA', 'AiG', 'GpBP'], [0.5, 'CtBP', 'CuA', 'AiA', 'AiB', 'BpBP'], [0.5, 'CtBP', 'CuA', 'AiA', 'AiD', 'DpBP'], [0.5, 'CtBP', 'CuA', 'AiG', 'GiA', 'ApBP'], [0.5, 'CtBP', 'CuA', 'AiG', 'GiG', 'GpBP'], [0.5, 'CtBP', 'CuA', 'AiG', 'GiB', 'BpBP'], [0.5, 'CtBP', 'CuA', 'AiG', 'GiD', 'DpBP'], [0.5, 'CtBP', 'CuA', 'AiB', 'BiA', 'ApBP'], [0.5, 'CtBP', 'CuA', 'AiB', 'BiG', 'GpBP'], [0.5, 'CtBP', 'CuA', 'AiB', 'BiB', 'BpBP'], [0.5, 'CtBP', 'CuA', 'AiB', 'BiD', 'DpBP'], [0.5, 'CtBP', 'CuA', 'AiD', 'DiA', 'ApBP'], [0.5, 'CtBP', 'CuA', 'AiD', 'DiG', 'GpBP'], [0.5, 'CtBP', 'CuA', 'AiD', 'DiB', 'BpBP'], [0.5, 'CtBP', 'CuA', 'AiD', 'DiD', 'DpBP'], [0.5, 'CtBP', 'CdG', 'GiA', 'AiA', 'ApBP'], [0.5, 'CtBP', 'CdG', 'GiA', 'AiG', 'GpBP'], [0.5, 'CtBP', 'CdG', 'GiA', 'AiB', 'BpBP'], [0.5, 'CtBP', 'CdG', 'GiA', 'AiD', 'DpBP'], [0.5, 'CtBP', 'CdG', 'GiG', 'GiA', 'ApBP'], [0.5, 'CtBP', 'CdG', 'GiG', 'GiG', 'GpBP'], [0.5, 'CtBP', 'CdG', 'GiG', 'GiB', 'BpBP'], [0.5, 'CtBP', 'CdG', 'GiG', 'GiD', 'DpBP'], [0.5, 'CtBP', 'CdG', 'GiB', 'BiA', 'ApBP'], [0.5, 'CtBP', 'CdG', 'GiB', 'BiG', 'GpBP'], [0.5, 'CtBP', 'CdG', 'GiB', 'BiB', 'BpBP'], [0.5, 'CtBP', 'CdG', 'GiB', 'BiD', 'DpBP'], [0.5, 'CtBP', 'CdG', 'GiD', 'DiA', 'ApBP'], [0.5, 'CtBP', 'CdG', 'GiD', 'DiG', 'GpBP'], [0.5, 'CtBP', 'CdG', 'GiD', 'DiB', 'BpBP'], [0.5, 'CtBP', 'CdG', 'GiD', 'DiD', 'DpBP'], [0.5, 'CtBP', 'CuG', 'GiA', 'AiA', 'ApBP'], [0.5, 'CtBP', 'CuG', 'GiA', 'AiG', 'GpBP'], [0.5, 'CtBP', 'CuG', 'GiA', 'AiB', 'BpBP'], [0.5, 'CtBP', 'CuG', 'GiA', 'AiD', 'DpBP'], [0.5, 'CtBP', 'CuG', 'GiG', 'GiA', 'ApBP'], [0.5, 'CtBP', 'CuG', 'GiG', 'GiG', 'GpBP'], [0.5, 'CtBP', 'CuG', 'GiG', 'GiB', 'BpBP'], [0.5, 'CtBP', 'CuG', 'GiG', 'GiD', 'DpBP'], [0.5, 'CtBP', 'CuG', 'GiB', 'BiA', 'ApBP'], [0.5, 'CtBP', 'CuG', 'GiB', 'BiG', 'GpBP'], [0.5, 'CtBP', 'CuG', 'GiB', 'BiB', 'BpBP'], [0.5, 'CtBP', 'CuG', 'GiB', 'BiD', 'DpBP'], [0.5, 'CtBP', 'CuG', 'GiD', 'DiA', 'ApBP'], [0.5, 'CtBP', 'CuG', 'GiD', 'DiG', 'GpBP'], [0.5, 'CtBP', 'CuG', 'GiD', 'DiB', 'BpBP'], [0.5, 'CtBP', 'CuG', 'GiD', 'DiD', 'DpBP'], [0.5, 'CtBP', 'CdB', 'BiA', 'AiA', 'ApBP'], [0.5, 'CtBP', 'CdB', 'BiA', 'AiG', 'GpBP'], [0.5, 'CtBP', 'CdB', 'BiA', 'AiB', 'BpBP'], [0.5, 'CtBP', 'CdB', 'BiA', 'AiD', 'DpBP'], [0.5, 'CtBP', 'CdB', 'BiG', 'GiA', 'ApBP'], [0.5, 'CtBP', 'CdB', 'BiG', 'GiG', 'GpBP'], [0.5, 'CtBP', 'CdB', 'BiG', 'GiB', 'BpBP'], [0.5, 'CtBP', 'CdB', 'BiG', 'GiD', 'DpBP'], [0.5, 'CtBP', 'CdB', 'BiB', 'BiA', 'ApBP'], [0.5, 'CtBP', 'CdB', 'BiB', 'BiG', 'GpBP'], [0.5, 'CtBP', 'CdB', 'BiB', 'BiB', 'BpBP'], [0.5, 'CtBP', 'CdB', 'BiB', 'BiD', 'DpBP'], [0.5, 'CtBP', 'CdB', 'BiD', 'DiA', 'ApBP'], [0.5, 'CtBP', 'CdB', 'BiD', 'DiG', 'GpBP'], [0.5, 'CtBP', 'CdB', 'BiD', 'DiB', 'BpBP'], [0.5, 'CtBP', 'CdB', 'BiD', 'DiD', 'DpBP'], [0.5, 'CtBP', 'CuB', 'BiA', 'AiA', 'ApBP'], [0.5, 'CtBP', 'CuB', 'BiA', 'AiG', 'GpBP'], [0.5, 'CtBP', 'CuB', 'BiA', 'AiB', 'BpBP'], [0.5, 'CtBP', 'CuB', 'BiA', 'AiD', 'DpBP'], [0.5, 'CtBP', 'CuB', 'BiG', 'GiA', 'ApBP'], [0.5, 'CtBP', 'CuB', 'BiG', 'GiG', 'GpBP'], [0.5, 'CtBP', 'CuB', 'BiG', 'GiB', 'BpBP'], [0.5, 'CtBP', 'CuB', 'BiG', 'GiD', 'DpBP'], [0.5, 'CtBP', 'CuB', 'BiB', 'BiA', 'ApBP'], [0.5, 'CtBP', 'CuB', 'BiB', 'BiG', 'GpBP'], [0.5, 'CtBP', 'CuB', 'BiB', 'BiB', 'BpBP'], [0.5, 'CtBP', 'CuB', 'BiB', 'BiD', 'DpBP'], [0.5, 'CtBP', 'CuB', 'BiD', 'DiA', 'ApBP'], [0.5, 'CtBP', 'CuB', 'BiD', 'DiG', 'GpBP'], [0.5, 'CtBP', 'CuB', 'BiD', 'DiB', 'BpBP'], [0.5, 'CtBP', 'CuB', 'BiD', 'DiD', 'DpBP'], [0.5, 'CtBP', 'CdD', 'DiA', 'AiA', 'ApBP'], [0.5, 'CtBP', 'CdD', 'DiA', 'AiG', 'GpBP'], [0.5, 'CtBP', 'CdD', 'DiA', 'AiB', 'BpBP'], [0.5, 'CtBP', 'CdD', 'DiA', 'AiD', 'DpBP'], [0.5, 'CtBP', 'CdD', 'DiG', 'GiA', 'ApBP'], [0.5, 'CtBP', 'CdD', 'DiG', 'GiG', 'GpBP'], [0.5, 'CtBP', 'CdD', 'DiG', 'GiB', 'BpBP'], [0.5, 'CtBP', 'CdD', 'DiG', 'GiD', 'DpBP'], [0.5, 'CtBP', 'CdD', 'DiB', 'BiA', 'ApBP'], [0.5, 'CtBP', 'CdD', 'DiB', 'BiG', 'GpBP'], [0.5, 'CtBP', 'CdD', 'DiB', 'BiB', 'BpBP'], [0.5, 'CtBP', 'CdD', 'DiB', 'BiD', 'DpBP'], [0.5, 'CtBP', 'CdD', 'DiD', 'DiA', 'ApBP'], [0.5, 'CtBP', 'CdD', 'DiD', 'DiG', 'GpBP'], [0.5, 'CtBP', 'CdD', 'DiD', 'DiB', 'BpBP'], [0.5, 'CtBP', 'CdD', 'DiD', 'DiD', 'DpBP'], [0.5, 'CtBP', 'CuD', 'DiA', 'AiA', 'ApBP'], [0.5, 'CtBP', 'CuD', 'DiA', 'AiG', 'GpBP'], [0.5, 'CtBP', 'CuD', 'DiA', 'AiB', 'BpBP'], [0.5, 'CtBP', 'CuD', 'DiA', 'AiD', 'DpBP'], [0.5, 'CtBP', 'CuD', 'DiG', 'GiA', 'ApBP'], [0.5, 'CtBP', 'CuD', 'DiG', 'GiG', 'GpBP'], [0.5, 'CtBP', 'CuD', 'DiG', 'GiB', 'BpBP'], [0.5, 'CtBP', 'CuD', 'DiG', 'GiD', 'DpBP'], [0.5, 'CtBP', 'CuD', 'DiB', 'BiA', 'ApBP'], [0.5, 'CtBP', 'CuD', 'DiB', 'BiG', 'GpBP'], [0.5, 'CtBP', 'CuD', 'DiB', 'BiB', 'BpBP'], [0.5, 'CtBP', 'CuD', 'DiB', 'BiD', 'DpBP'], [0.5, 'CtBP', 'CuD', 'DiD', 'DiA', 'ApBP'], [0.5, 'CtBP', 'CuD', 'DiD', 'DiG', 'GpBP'], [0.5, 'CtBP', 'CuD', 'DiD', 'DiB', 'BpBP'], [0.5, 'CtBP', 'CuD', 'DiD', 'DiD', 'DpBP']]}\n"
     ]
    }
   ],
   "source": [
    "rules = {}\n",
    "rules['CtBP'] = [get_forward_rule_body(str(mpath), prob, metagraph) for mpath in CtoBP_metapaths]\n",
    "print(rules)"
   ]
  },
  {
   "cell_type": "code",
   "execution_count": null,
   "metadata": {},
   "outputs": [
    {
     "data": {
      "text/plain": [
       "dict_keys(['CtBP'])"
      ]
     },
     "execution_count": 42,
     "metadata": {},
     "output_type": "execute_result"
    }
   ],
   "source": [
    "rules.keys()"
   ]
  },
  {
   "attachments": {},
   "cell_type": "markdown",
   "metadata": {},
   "source": [
    "Let's write it to a file we can use for MARS:"
   ]
  },
  {
   "cell_type": "code",
   "execution_count": null,
   "metadata": {},
   "outputs": [],
   "source": [
    "with open(osp.join(MARS_DIR, 'rules.txt'), 'w') as f:\n",
    "    json.dump(rules, f)"
   ]
  },
  {
   "attachments": {},
   "cell_type": "markdown",
   "metadata": {},
   "source": [
    "Now, let's get the input triples in a format consistent with MARS's input files:"
   ]
  },
  {
   "cell_type": "code",
   "execution_count": null,
   "metadata": {},
   "outputs": [],
   "source": [
    "def convert_to_mars(df):\n",
    "    \"\"\"Converts the KG into a format that MARS can use\n",
    "    \"\"\"\n",
    "    df['metaedge'] = [kind_to_abbev[row['source_node_type']] + kind_to_abbev[row['edge_type']] + \\\n",
    "                       kind_to_abbev[row['target_node_type']] for i, row in df.iterrows()]\n",
    "    return df[['source', 'metaedge', 'target']]"
   ]
  },
  {
   "cell_type": "code",
   "execution_count": null,
   "metadata": {},
   "outputs": [],
   "source": [
    "train = convert_to_mars(pd.read_csv(osp.join(MOA_NET_PROTCLASSED, 'train.tsv'), sep='\\t'))\n",
    "test = convert_to_mars(pd.read_csv(osp.join(MOA_NET_PROTCLASSED, 'test.tsv'), sep='\\t'))\n",
    "val = convert_to_mars(pd.read_csv(osp.join(MOA_NET_PROTCLASSED, 'dev.tsv'), sep='\\t'))\n",
    "\n",
    "kg_triples = convert_to_mars(pd.read_csv(osp.join(MOA_NET_PROTCLASSED, 'kg_with_train_smpls.tsv'), sep='\\t'))"
   ]
  },
  {
   "cell_type": "code",
   "execution_count": null,
   "metadata": {},
   "outputs": [
    {
     "data": {
      "text/html": [
       "<div>\n",
       "<style scoped>\n",
       "    .dataframe tbody tr th:only-of-type {\n",
       "        vertical-align: middle;\n",
       "    }\n",
       "\n",
       "    .dataframe tbody tr th {\n",
       "        vertical-align: top;\n",
       "    }\n",
       "\n",
       "    .dataframe thead th {\n",
       "        text-align: right;\n",
       "    }\n",
       "</style>\n",
       "<table border=\"1\" class=\"dataframe\">\n",
       "  <thead>\n",
       "    <tr style=\"text-align: right;\">\n",
       "      <th></th>\n",
       "      <th>source</th>\n",
       "      <th>metaedge</th>\n",
       "      <th>target</th>\n",
       "    </tr>\n",
       "  </thead>\n",
       "  <tbody>\n",
       "    <tr>\n",
       "      <th>0</th>\n",
       "      <td>ncbigene:6300</td>\n",
       "      <td>DiA</td>\n",
       "      <td>ncbigene:2354</td>\n",
       "    </tr>\n",
       "    <tr>\n",
       "      <th>1</th>\n",
       "      <td>ncbigene:55920</td>\n",
       "      <td>GiG</td>\n",
       "      <td>ncbigene:79003</td>\n",
       "    </tr>\n",
       "    <tr>\n",
       "      <th>2</th>\n",
       "      <td>ncbigene:5925</td>\n",
       "      <td>AiA</td>\n",
       "      <td>ncbigene:3024</td>\n",
       "    </tr>\n",
       "    <tr>\n",
       "      <th>3</th>\n",
       "      <td>ncbigene:23396</td>\n",
       "      <td>DiG</td>\n",
       "      <td>ncbigene:6383</td>\n",
       "    </tr>\n",
       "    <tr>\n",
       "      <th>4</th>\n",
       "      <td>ncbigene:440275</td>\n",
       "      <td>DiA</td>\n",
       "      <td>ncbigene:4780</td>\n",
       "    </tr>\n",
       "  </tbody>\n",
       "</table>\n",
       "</div>"
      ],
      "text/plain": [
       "            source metaedge          target\n",
       "0    ncbigene:6300      DiA   ncbigene:2354\n",
       "1   ncbigene:55920      GiG  ncbigene:79003\n",
       "2    ncbigene:5925      AiA   ncbigene:3024\n",
       "3   ncbigene:23396      DiG   ncbigene:6383\n",
       "4  ncbigene:440275      DiA   ncbigene:4780"
      ]
     },
     "execution_count": 46,
     "metadata": {},
     "output_type": "execute_result"
    }
   ],
   "source": [
    "kg_triples.head()"
   ]
  },
  {
   "cell_type": "markdown",
   "metadata": {},
   "source": [
    "Get the inverse triples of the KG:"
   ]
  },
  {
   "cell_type": "code",
   "execution_count": null,
   "metadata": {},
   "outputs": [],
   "source": [
    "inverse_triples = kg_triples[['source', 'target', 'metaedge']].copy()\n",
    "inverse_triples['inv_metaedge'] = ['_' + i for i in inverse_triples['metaedge']]\n",
    "inverse_triples = inverse_triples[['target', 'inv_metaedge', 'source']]\n",
    "\n",
    "# get rid of those with _CtBP\n",
    "#inverse_triples = inverse_triples.loc[inverse_triples['inv_metaedge'] != '_CtBP']"
   ]
  },
  {
   "attachments": {},
   "cell_type": "markdown",
   "metadata": {},
   "source": [
    "Great, write to the MARS folder:"
   ]
  },
  {
   "cell_type": "code",
   "execution_count": null,
   "metadata": {},
   "outputs": [],
   "source": [
    "kg_triples.to_csv(osp.join(MARS_DIR, 'graph_triples.txt'), sep='\\t', index=False, header=False)\n",
    "inverse_triples.to_csv(osp.join(MARS_DIR, 'graph_inverses.txt'), sep='\\t', index=False, header=False)"
   ]
  },
  {
   "cell_type": "code",
   "execution_count": null,
   "metadata": {},
   "outputs": [],
   "source": [
    "train.to_csv(osp.join(MARS_DIR, 'train.txt'), sep='\\t', index=False, header=False)\n",
    "test.to_csv(osp.join(MARS_DIR, 'test.txt'), sep='\\t', index=False, header=False)\n",
    "val.to_csv(osp.join(MARS_DIR, 'dev.txt'), sep='\\t', index=False, header=False)"
   ]
  },
  {
   "cell_type": "markdown",
   "metadata": {},
   "source": [
    "Finally, we need dictionaries to map the entities and relations to unique IDs."
   ]
  },
  {
   "cell_type": "code",
   "execution_count": null,
   "metadata": {},
   "outputs": [],
   "source": [
    "entities = {\"PAD\": 0, \"UNK\": 1}\n",
    "\n",
    "next_id = 2\n",
    "for df in kg_triples, train, test, val:\n",
    "    for i in df['source'].unique():\n",
    "        if i not in entities:\n",
    "            entities[i] = next_id\n",
    "            next_id += 1\n",
    "    for i in df['target'].unique():\n",
    "        if i not in entities:\n",
    "            entities[i] = next_id\n",
    "            next_id += 1"
   ]
  },
  {
   "cell_type": "code",
   "execution_count": null,
   "metadata": {},
   "outputs": [],
   "source": [
    "relations = {\"PAD\": 0, \"DUMMY_START_RELATION\": 1, \"NO_OP\": 2, \"UNK\": 3}\n",
    "\n",
    "# combine the metaedges and inverse metaedges\n",
    "metaedges = set(kg_triples['metaedge']) | (set(inverse_triples['inv_metaedge']))\n",
    "\n",
    "next_id = 4\n",
    "for rel in metaedges:\n",
    "    relations[rel] = next_id\n",
    "    next_id += 1"
   ]
  },
  {
   "cell_type": "code",
   "execution_count": null,
   "metadata": {},
   "outputs": [],
   "source": [
    "# write dictionary to json file\n",
    "VOCAB_DIR = osp.join(MARS_DIR, 'vocab')\n",
    "os.makedirs(VOCAB_DIR, exist_ok=True)\n",
    "\n",
    "with open(osp.join(VOCAB_DIR, 'entity_vocab.json'), 'w') as f:\n",
    "    json.dump(entities, f)\n",
    "\n",
    "with open(osp.join(VOCAB_DIR, 'relation_vocab.json'), 'w') as f:\n",
    "    json.dump(relations, f)"
   ]
  },
  {
   "cell_type": "code",
   "execution_count": null,
   "metadata": {},
   "outputs": [],
   "source": [
    "meta_mapping = {v: k for k, v in kind_to_abbev.items()}"
   ]
  },
  {
   "cell_type": "code",
   "execution_count": null,
   "metadata": {},
   "outputs": [],
   "source": [
    "with open(osp.join(VOCAB_DIR, 'meta_mapping.json'), 'w') as f:\n",
    "    json.dump(meta_mapping, f)"
   ]
  },
  {
   "cell_type": "code",
   "execution_count": null,
   "metadata": {},
   "outputs": [
    {
     "data": {
      "text/plain": [
       "{'C': 'Compound',\n",
       " 'G': 'Gene',\n",
       " 'BP': 'Biological Process',\n",
       " 'u': 'upregulates',\n",
       " 'd': 'downregulates',\n",
       " 'i': 'interacts',\n",
       " 'p': 'participates',\n",
       " 't': 'induces',\n",
       " 'A': 'DNA-binding',\n",
       " 'B': 'Receptor',\n",
       " 'D': 'Transferase'}"
      ]
     },
     "execution_count": 55,
     "metadata": {},
     "output_type": "execute_result"
    }
   ],
   "source": [
    "meta_mapping"
   ]
  }
 ],
 "metadata": {
  "kernelspec": {
   "display_name": "moanet_env",
   "language": "python",
   "name": "python3"
  },
  "language_info": {
   "codemirror_mode": {
    "name": "ipython",
    "version": 3
   },
   "file_extension": ".py",
   "mimetype": "text/x-python",
   "name": "python",
   "nbconvert_exporter": "python",
   "pygments_lexer": "ipython3",
   "version": "3.10.13"
  },
  "orig_nbformat": 4
 },
 "nbformat": 4,
 "nbformat_minor": 2
}
