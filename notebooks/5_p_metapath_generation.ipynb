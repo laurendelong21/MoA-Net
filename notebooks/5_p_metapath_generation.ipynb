{
 "cells": [
  {
   "attachments": {},
   "cell_type": "markdown",
   "metadata": {},
   "source": [
    "# Metagraph and Metapath Generation\n",
    "\n",
    "Here, we use the same syntax as [HetNetPy](https://github.com/hetio/hetnetpy/tree/e1ff1f8296b766dd5a63e5870a8a1a7d82427a80) to create a metagraph and extract metapaths from the KG.\n",
    "\n",
    "Metagraph creation is based on [this notebook](https://github.com/dhimmel/integrate/blob/93feba1765fbcd76fd79e22f25121f5399629148/integrate.ipynb)."
   ]
  },
  {
   "cell_type": "code",
   "execution_count": 1,
   "metadata": {},
   "outputs": [],
   "source": [
    "import pandas as pd\n",
    "import seaborn as sns\n",
    "import os\n",
    "import os.path as osp\n",
    "\n",
    "import hetnetpy.hetnet\n",
    "import hetnetpy.readwrite\n",
    "import hetnetpy.stats\n",
    "\n",
    "from hetnetpy.abbreviation import metaedges_from_metapath\n",
    "from hetnetpy.pathtools import DWPC, paths_between\n",
    "\n",
    "import re\n",
    "import json\n",
    "import tqdm\n",
    "from collections import Counter\n",
    "\n",
    "from itertools import chain\n",
    "\n",
    "%matplotlib inline"
   ]
  },
  {
   "attachments": {},
   "cell_type": "markdown",
   "metadata": {},
   "source": [
    "## Using the protein subclasses\n",
    "\n",
    "In this version of the KG, we subclassed some of the proteins to UniProt keywords. Since we need letters representing these subclasses, we'll assign that here."
   ]
  },
  {
   "cell_type": "code",
   "execution_count": 2,
   "metadata": {},
   "outputs": [],
   "source": [
    "MAPPING_DIR = '../data/mappings/'\n",
    "\n",
    "KG_DIR = '../data/kg/'\n",
    "SPLITS_DIR = osp.join(KG_DIR, 'splits')\n",
    "MOA_NET_PROTCLASSED = osp.join(SPLITS_DIR, 'MoA-net-protclass')\n",
    "MARS_DIR = osp.join(MOA_NET_PROTCLASSED, 'MARS')\n",
    "METAPATHS_DIR = osp.join(MOA_NET_PROTCLASSED, 'metapaths')\n",
    "\n",
    "for dir in [SPLITS_DIR, MARS_DIR, MOA_NET_PROTCLASSED, METAPATHS_DIR]:\n",
    "    if not osp.exists(dir):\n",
    "        os.makedirs(dir)"
   ]
  },
  {
   "cell_type": "code",
   "execution_count": 3,
   "metadata": {},
   "outputs": [],
   "source": [
    "# Read in the json file containing the classes:\n",
    "with open(osp.join(MAPPING_DIR, 'node2class.json'), 'r') as f:\n",
    "    prot_classes = json.load(f)\n",
    "\n",
    "prot_classes = {kw for keyword in prot_classes.values() for kw in keyword}\n",
    "\n",
    "prot_classes = sorted(list(prot_classes))  # sort so we get consistent results each time code is run:"
   ]
  },
  {
   "attachments": {},
   "cell_type": "markdown",
   "metadata": {},
   "source": [
    "Be sure to exclude C and G because we've already assigned them to Compound and Gene."
   ]
  },
  {
   "cell_type": "code",
   "execution_count": 4,
   "metadata": {},
   "outputs": [
    {
     "data": {
      "text/plain": [
       "{'DNA-binding': 'A',\n",
       " 'Developmental protein': 'B',\n",
       " 'Growth factor': 'D',\n",
       " 'Hormone': 'E',\n",
       " 'Hydrolase': 'F',\n",
       " 'Oxidoreductase': 'H',\n",
       " 'RNA-binding': 'I',\n",
       " 'Receptor': 'J',\n",
       " 'Repressor': 'K',\n",
       " 'Transferase': 'L'}"
      ]
     },
     "execution_count": 4,
     "metadata": {},
     "output_type": "execute_result"
    }
   ],
   "source": [
    "# for each item in keep_kws, assign a letter of the alphabet in a dictionary, excluding C or G\n",
    "class2letter = dict() \n",
    "i = 0\n",
    "for kw in prot_classes:\n",
    "    if kw == 'Gene':\n",
    "        continue\n",
    "    if chr(i + 65) in {'C', 'G'}:\n",
    "        i += 1\n",
    "    class2letter[kw] = chr(i + 65)\n",
    "    i += 1\n",
    "\n",
    "class2letter"
   ]
  },
  {
   "cell_type": "code",
   "execution_count": 5,
   "metadata": {},
   "outputs": [],
   "source": [
    "kg = pd.read_csv(osp.join(MOA_NET_PROTCLASSED, 'kg_no_cmp_bp.tsv'), sep='\\t')"
   ]
  },
  {
   "cell_type": "code",
   "execution_count": 6,
   "metadata": {},
   "outputs": [
    {
     "data": {
      "text/html": [
       "<div>\n",
       "<style scoped>\n",
       "    .dataframe tbody tr th:only-of-type {\n",
       "        vertical-align: middle;\n",
       "    }\n",
       "\n",
       "    .dataframe tbody tr th {\n",
       "        vertical-align: top;\n",
       "    }\n",
       "\n",
       "    .dataframe thead th {\n",
       "        text-align: right;\n",
       "    }\n",
       "</style>\n",
       "<table border=\"1\" class=\"dataframe\">\n",
       "  <thead>\n",
       "    <tr style=\"text-align: right;\">\n",
       "      <th></th>\n",
       "      <th>source</th>\n",
       "      <th>source_node_type</th>\n",
       "      <th>target</th>\n",
       "      <th>target_node_type</th>\n",
       "      <th>edge_type</th>\n",
       "    </tr>\n",
       "  </thead>\n",
       "  <tbody>\n",
       "  </tbody>\n",
       "</table>\n",
       "</div>"
      ],
      "text/plain": [
       "Empty DataFrame\n",
       "Columns: [source, source_node_type, target, target_node_type, edge_type]\n",
       "Index: []"
      ]
     },
     "execution_count": 6,
     "metadata": {},
     "output_type": "execute_result"
    }
   ],
   "source": [
    "# show me the duplicated rows in the dataframe\n",
    "kg[kg.duplicated(keep=False)]"
   ]
  },
  {
   "attachments": {},
   "cell_type": "markdown",
   "metadata": {},
   "source": [
    "### Define and Instantiate Metagraph:"
   ]
  },
  {
   "cell_type": "code",
   "execution_count": 7,
   "metadata": {},
   "outputs": [],
   "source": [
    "kind_to_abbev = {\n",
    "    \n",
    "    # metanodes\n",
    "    'Compound': 'C',\n",
    "    'Gene': 'G',\n",
    "    'Biological Process': 'BP',\n",
    "    \n",
    "    # metaedges\n",
    "    'upregulates': 'u',\n",
    "    'downregulates': 'd',\n",
    "    'interacts': 'i',\n",
    "    'participates': 'p',\n",
    "    'induces': 't',\n",
    "}\n",
    "\n",
    "# add the new protein subclasses to the abbreviations:\n",
    "kind_to_abbev.update(class2letter)"
   ]
  },
  {
   "cell_type": "code",
   "execution_count": 8,
   "metadata": {},
   "outputs": [],
   "source": [
    "metaedge_tuples = list({(row['source_node_type'], row['target_node_type'], row['edge_type'], 'forward') for i, row in kg.iterrows()})"
   ]
  },
  {
   "cell_type": "code",
   "execution_count": 9,
   "metadata": {},
   "outputs": [],
   "source": [
    "# now make the metagraph\n",
    "metagraph = hetnetpy.hetnet.MetaGraph.from_edge_tuples(metaedge_tuples, kind_to_abbev)\n",
    "graph = hetnetpy.hetnet.Graph(metagraph)"
   ]
  },
  {
   "cell_type": "code",
   "execution_count": 10,
   "metadata": {},
   "outputs": [],
   "source": [
    "seen = set()\n",
    "\n",
    "for i, row in kg.iterrows():\n",
    "    if not (row['source'], row['source_node_type']) in seen:\n",
    "        graph.add_node(kind=row['source_node_type'], identifier=row['source'])\n",
    "        seen.add((row['source'], row['source_node_type']))\n",
    "    if not (row['target'], row['target_node_type']) in seen:\n",
    "        graph.add_node(kind=row['target_node_type'], identifier=row['target'])\n",
    "        seen.add((row['target'], row['target_node_type']))\n",
    "\n",
    "    src_id = row['source_node_type'], row['source']\n",
    "    trgt_id = row['target_node_type'], row['target']\n",
    "\n",
    "    graph.add_edge(source_id=src_id, target_id=trgt_id, kind=row['edge_type'], direction='forward')"
   ]
  },
  {
   "attachments": {},
   "cell_type": "markdown",
   "metadata": {},
   "source": [
    "## Network Visualization and Stats"
   ]
  },
  {
   "cell_type": "code",
   "execution_count": 11,
   "metadata": {},
   "outputs": [
    {
     "data": {
      "text/html": [
       "<div>\n",
       "<style scoped>\n",
       "    .dataframe tbody tr th:only-of-type {\n",
       "        vertical-align: middle;\n",
       "    }\n",
       "\n",
       "    .dataframe tbody tr th {\n",
       "        vertical-align: top;\n",
       "    }\n",
       "\n",
       "    .dataframe thead th {\n",
       "        text-align: right;\n",
       "    }\n",
       "</style>\n",
       "<table border=\"1\" class=\"dataframe\">\n",
       "  <thead>\n",
       "    <tr style=\"text-align: right;\">\n",
       "      <th></th>\n",
       "      <th>metanode</th>\n",
       "      <th>abbreviation</th>\n",
       "      <th>metaedges</th>\n",
       "      <th>nodes</th>\n",
       "      <th>unconnected_nodes</th>\n",
       "    </tr>\n",
       "  </thead>\n",
       "  <tbody>\n",
       "    <tr>\n",
       "      <th>12</th>\n",
       "      <td>Biological Process</td>\n",
       "      <td>BP</td>\n",
       "      <td>11</td>\n",
       "      <td>86</td>\n",
       "      <td>0</td>\n",
       "    </tr>\n",
       "    <tr>\n",
       "      <th>0</th>\n",
       "      <td>Compound</td>\n",
       "      <td>C</td>\n",
       "      <td>22</td>\n",
       "      <td>300</td>\n",
       "      <td>0</td>\n",
       "    </tr>\n",
       "    <tr>\n",
       "      <th>3</th>\n",
       "      <td>DNA-binding</td>\n",
       "      <td>A</td>\n",
       "      <td>24</td>\n",
       "      <td>1064</td>\n",
       "      <td>0</td>\n",
       "    </tr>\n",
       "    <tr>\n",
       "      <th>9</th>\n",
       "      <td>Developmental protein</td>\n",
       "      <td>B</td>\n",
       "      <td>24</td>\n",
       "      <td>497</td>\n",
       "      <td>0</td>\n",
       "    </tr>\n",
       "    <tr>\n",
       "      <th>1</th>\n",
       "      <td>Gene</td>\n",
       "      <td>G</td>\n",
       "      <td>24</td>\n",
       "      <td>1694</td>\n",
       "      <td>0</td>\n",
       "    </tr>\n",
       "    <tr>\n",
       "      <th>10</th>\n",
       "      <td>Growth factor</td>\n",
       "      <td>D</td>\n",
       "      <td>24</td>\n",
       "      <td>109</td>\n",
       "      <td>0</td>\n",
       "    </tr>\n",
       "    <tr>\n",
       "      <th>6</th>\n",
       "      <td>Hormone</td>\n",
       "      <td>E</td>\n",
       "      <td>24</td>\n",
       "      <td>73</td>\n",
       "      <td>0</td>\n",
       "    </tr>\n",
       "    <tr>\n",
       "      <th>4</th>\n",
       "      <td>Hydrolase</td>\n",
       "      <td>F</td>\n",
       "      <td>24</td>\n",
       "      <td>938</td>\n",
       "      <td>0</td>\n",
       "    </tr>\n",
       "    <tr>\n",
       "      <th>7</th>\n",
       "      <td>Oxidoreductase</td>\n",
       "      <td>H</td>\n",
       "      <td>24</td>\n",
       "      <td>391</td>\n",
       "      <td>0</td>\n",
       "    </tr>\n",
       "    <tr>\n",
       "      <th>11</th>\n",
       "      <td>RNA-binding</td>\n",
       "      <td>I</td>\n",
       "      <td>24</td>\n",
       "      <td>382</td>\n",
       "      <td>0</td>\n",
       "    </tr>\n",
       "    <tr>\n",
       "      <th>5</th>\n",
       "      <td>Receptor</td>\n",
       "      <td>J</td>\n",
       "      <td>24</td>\n",
       "      <td>1186</td>\n",
       "      <td>0</td>\n",
       "    </tr>\n",
       "    <tr>\n",
       "      <th>8</th>\n",
       "      <td>Repressor</td>\n",
       "      <td>K</td>\n",
       "      <td>24</td>\n",
       "      <td>337</td>\n",
       "      <td>0</td>\n",
       "    </tr>\n",
       "    <tr>\n",
       "      <th>2</th>\n",
       "      <td>Transferase</td>\n",
       "      <td>L</td>\n",
       "      <td>24</td>\n",
       "      <td>1184</td>\n",
       "      <td>0</td>\n",
       "    </tr>\n",
       "  </tbody>\n",
       "</table>\n",
       "</div>"
      ],
      "text/plain": [
       "                 metanode abbreviation  metaedges  nodes  unconnected_nodes\n",
       "12     Biological Process           BP         11     86                  0\n",
       "0                Compound            C         22    300                  0\n",
       "3             DNA-binding            A         24   1064                  0\n",
       "9   Developmental protein            B         24    497                  0\n",
       "1                    Gene            G         24   1694                  0\n",
       "10          Growth factor            D         24    109                  0\n",
       "6                 Hormone            E         24     73                  0\n",
       "4               Hydrolase            F         24    938                  0\n",
       "7          Oxidoreductase            H         24    391                  0\n",
       "11            RNA-binding            I         24    382                  0\n",
       "5                Receptor            J         24   1186                  0\n",
       "8               Repressor            K         24    337                  0\n",
       "2             Transferase            L         24   1184                  0"
      ]
     },
     "execution_count": 11,
     "metadata": {},
     "output_type": "execute_result"
    }
   ],
   "source": [
    "metanode_df = hetnetpy.stats.get_metanode_df(graph)\n",
    "metanode_df"
   ]
  },
  {
   "cell_type": "code",
   "execution_count": 12,
   "metadata": {},
   "outputs": [],
   "source": [
    "rel_mapping = {str(row['abbreviation']): str(row['metanode']) for i, row in metanode_df.iterrows()}\n",
    "# write to json file\n",
    "with open(osp.join(MAPPING_DIR, 'rel_mapping.json'), 'w') as f:\n",
    "    json.dump(rel_mapping, f, indent=2)"
   ]
  },
  {
   "cell_type": "code",
   "execution_count": 13,
   "metadata": {},
   "outputs": [
    {
     "data": {
      "image/png": "[encoded data removed]",
      "text/plain": [
       "<Figure size 640x480 with 1 Axes>"
      ]
     },
     "metadata": {},
     "output_type": "display_data"
    }
   ],
   "source": [
    "ax = sns.barplot(x='metanode', y='nodes', data=metanode_df.sort_values('nodes'))\n",
    "for tick in ax.get_xticklabels():\n",
    "    tick.set_rotation(90)\n",
    "ax.set_xlabel(''); ax.set_ylabel('nodes');"
   ]
  },
  {
   "cell_type": "code",
   "execution_count": 14,
   "metadata": {},
   "outputs": [
    {
     "data": {
      "text/plain": [
       "8241"
      ]
     },
     "execution_count": 14,
     "metadata": {},
     "output_type": "execute_result"
    }
   ],
   "source": [
    "# Total number of nodes\n",
    "metanode_df.nodes.sum()"
   ]
  },
  {
   "cell_type": "code",
   "execution_count": 15,
   "metadata": {},
   "outputs": [],
   "source": [
    "# Summary of metaedges and cooresponding edges\n",
    "metaedge_df = hetnetpy.stats.get_metaedge_df(graph)"
   ]
  },
  {
   "cell_type": "code",
   "execution_count": 16,
   "metadata": {},
   "outputs": [
    {
     "data": {
      "text/html": [
       "<div>\n",
       "<style scoped>\n",
       "    .dataframe tbody tr th:only-of-type {\n",
       "        vertical-align: middle;\n",
       "    }\n",
       "\n",
       "    .dataframe tbody tr th {\n",
       "        vertical-align: top;\n",
       "    }\n",
       "\n",
       "    .dataframe thead th {\n",
       "        text-align: right;\n",
       "    }\n",
       "</style>\n",
       "<table border=\"1\" class=\"dataframe\">\n",
       "  <thead>\n",
       "    <tr style=\"text-align: right;\">\n",
       "      <th></th>\n",
       "      <th>metaedge</th>\n",
       "      <th>abbreviation</th>\n",
       "      <th>edges</th>\n",
       "      <th>source_nodes</th>\n",
       "      <th>target_nodes</th>\n",
       "    </tr>\n",
       "  </thead>\n",
       "  <tbody>\n",
       "    <tr>\n",
       "      <th>99</th>\n",
       "      <td>Growth factor &gt; interacts &gt; RNA-binding</td>\n",
       "      <td>Di&gt;I</td>\n",
       "      <td>2</td>\n",
       "      <td>2</td>\n",
       "      <td>2</td>\n",
       "    </tr>\n",
       "    <tr>\n",
       "      <th>117</th>\n",
       "      <td>Oxidoreductase &gt; interacts &gt; Hormone</td>\n",
       "      <td>Hi&gt;E</td>\n",
       "      <td>6</td>\n",
       "      <td>6</td>\n",
       "      <td>6</td>\n",
       "    </tr>\n",
       "    <tr>\n",
       "      <th>97</th>\n",
       "      <td>RNA-binding &gt; interacts &gt; Hormone</td>\n",
       "      <td>Ii&gt;E</td>\n",
       "      <td>7</td>\n",
       "      <td>3</td>\n",
       "      <td>7</td>\n",
       "    </tr>\n",
       "    <tr>\n",
       "      <th>98</th>\n",
       "      <td>Oxidoreductase &gt; interacts &gt; RNA-binding</td>\n",
       "      <td>Hi&gt;I</td>\n",
       "      <td>7</td>\n",
       "      <td>7</td>\n",
       "      <td>7</td>\n",
       "    </tr>\n",
       "    <tr>\n",
       "      <th>43</th>\n",
       "      <td>Growth factor &gt; interacts &gt; Oxidoreductase</td>\n",
       "      <td>Di&gt;H</td>\n",
       "      <td>11</td>\n",
       "      <td>6</td>\n",
       "      <td>11</td>\n",
       "    </tr>\n",
       "    <tr>\n",
       "      <th>52</th>\n",
       "      <td>RNA-binding &gt; interacts &gt; Growth factor</td>\n",
       "      <td>Ii&gt;D</td>\n",
       "      <td>12</td>\n",
       "      <td>9</td>\n",
       "      <td>9</td>\n",
       "    </tr>\n",
       "    <tr>\n",
       "      <th>66</th>\n",
       "      <td>Oxidoreductase &gt; interacts &gt; Growth factor</td>\n",
       "      <td>Hi&gt;D</td>\n",
       "      <td>13</td>\n",
       "      <td>8</td>\n",
       "      <td>11</td>\n",
       "    </tr>\n",
       "    <tr>\n",
       "      <th>128</th>\n",
       "      <td>Hydrolase &gt; interacts &gt; Hormone</td>\n",
       "      <td>Fi&gt;E</td>\n",
       "      <td>18</td>\n",
       "      <td>17</td>\n",
       "      <td>15</td>\n",
       "    </tr>\n",
       "    <tr>\n",
       "      <th>33</th>\n",
       "      <td>Oxidoreductase &gt; interacts &gt; Developmental pro...</td>\n",
       "      <td>Hi&gt;B</td>\n",
       "      <td>19</td>\n",
       "      <td>18</td>\n",
       "      <td>19</td>\n",
       "    </tr>\n",
       "    <tr>\n",
       "      <th>69</th>\n",
       "      <td>Compound &gt; downregulates &gt; RNA-binding</td>\n",
       "      <td>Cd&gt;I</td>\n",
       "      <td>19</td>\n",
       "      <td>17</td>\n",
       "      <td>10</td>\n",
       "    </tr>\n",
       "    <tr>\n",
       "      <th>61</th>\n",
       "      <td>Hormone &gt; interacts &gt; Growth factor</td>\n",
       "      <td>Ei&gt;D</td>\n",
       "      <td>20</td>\n",
       "      <td>7</td>\n",
       "      <td>11</td>\n",
       "    </tr>\n",
       "    <tr>\n",
       "      <th>119</th>\n",
       "      <td>Oxidoreductase &gt; interacts &gt; Repressor</td>\n",
       "      <td>Hi&gt;K</td>\n",
       "      <td>26</td>\n",
       "      <td>24</td>\n",
       "      <td>20</td>\n",
       "    </tr>\n",
       "    <tr>\n",
       "      <th>58</th>\n",
       "      <td>Growth factor &gt; interacts &gt; Hormone</td>\n",
       "      <td>Di&gt;E</td>\n",
       "      <td>27</td>\n",
       "      <td>12</td>\n",
       "      <td>11</td>\n",
       "    </tr>\n",
       "    <tr>\n",
       "      <th>130</th>\n",
       "      <td>RNA-binding &gt; interacts &gt; Oxidoreductase</td>\n",
       "      <td>Ii&gt;H</td>\n",
       "      <td>32</td>\n",
       "      <td>12</td>\n",
       "      <td>32</td>\n",
       "    </tr>\n",
       "    <tr>\n",
       "      <th>6</th>\n",
       "      <td>Growth factor &gt; interacts &gt; Repressor</td>\n",
       "      <td>Di&gt;K</td>\n",
       "      <td>32</td>\n",
       "      <td>16</td>\n",
       "      <td>22</td>\n",
       "    </tr>\n",
       "    <tr>\n",
       "      <th>102</th>\n",
       "      <td>Oxidoreductase &gt; interacts &gt; Oxidoreductase</td>\n",
       "      <td>Hi&gt;H</td>\n",
       "      <td>37</td>\n",
       "      <td>31</td>\n",
       "      <td>33</td>\n",
       "    </tr>\n",
       "    <tr>\n",
       "      <th>64</th>\n",
       "      <td>Hormone &gt; interacts &gt; Hormone</td>\n",
       "      <td>Ei&gt;E</td>\n",
       "      <td>37</td>\n",
       "      <td>18</td>\n",
       "      <td>22</td>\n",
       "    </tr>\n",
       "    <tr>\n",
       "      <th>121</th>\n",
       "      <td>Receptor &gt; interacts &gt; Hormone</td>\n",
       "      <td>Ji&gt;E</td>\n",
       "      <td>40</td>\n",
       "      <td>31</td>\n",
       "      <td>24</td>\n",
       "    </tr>\n",
       "    <tr>\n",
       "      <th>51</th>\n",
       "      <td>Transferase &gt; interacts &gt; Hormone</td>\n",
       "      <td>Li&gt;E</td>\n",
       "      <td>43</td>\n",
       "      <td>34</td>\n",
       "      <td>26</td>\n",
       "    </tr>\n",
       "    <tr>\n",
       "      <th>79</th>\n",
       "      <td>Hormone &gt; interacts &gt; Repressor</td>\n",
       "      <td>Ei&gt;K</td>\n",
       "      <td>43</td>\n",
       "      <td>8</td>\n",
       "      <td>43</td>\n",
       "    </tr>\n",
       "    <tr>\n",
       "      <th>106</th>\n",
       "      <td>Compound &gt; upregulates &gt; RNA-binding</td>\n",
       "      <td>Cu&gt;I</td>\n",
       "      <td>44</td>\n",
       "      <td>34</td>\n",
       "      <td>21</td>\n",
       "    </tr>\n",
       "    <tr>\n",
       "      <th>17</th>\n",
       "      <td>Repressor &gt; interacts &gt; Hormone</td>\n",
       "      <td>Ki&gt;E</td>\n",
       "      <td>44</td>\n",
       "      <td>29</td>\n",
       "      <td>26</td>\n",
       "    </tr>\n",
       "    <tr>\n",
       "      <th>10</th>\n",
       "      <td>Oxidoreductase &gt; interacts &gt; Hydrolase</td>\n",
       "      <td>Hi&gt;F</td>\n",
       "      <td>46</td>\n",
       "      <td>32</td>\n",
       "      <td>36</td>\n",
       "    </tr>\n",
       "    <tr>\n",
       "      <th>136</th>\n",
       "      <td>Gene &gt; interacts &gt; Hormone</td>\n",
       "      <td>Gi&gt;E</td>\n",
       "      <td>49</td>\n",
       "      <td>38</td>\n",
       "      <td>22</td>\n",
       "    </tr>\n",
       "    <tr>\n",
       "      <th>89</th>\n",
       "      <td>RNA-binding &gt; interacts &gt; Receptor</td>\n",
       "      <td>Ii&gt;J</td>\n",
       "      <td>54</td>\n",
       "      <td>17</td>\n",
       "      <td>50</td>\n",
       "    </tr>\n",
       "    <tr>\n",
       "      <th>34</th>\n",
       "      <td>Compound &gt; downregulates &gt; Repressor</td>\n",
       "      <td>Cd&gt;K</td>\n",
       "      <td>57</td>\n",
       "      <td>25</td>\n",
       "      <td>33</td>\n",
       "    </tr>\n",
       "    <tr>\n",
       "      <th>5</th>\n",
       "      <td>Compound &gt; downregulates &gt; Hormone</td>\n",
       "      <td>Cd&gt;E</td>\n",
       "      <td>57</td>\n",
       "      <td>36</td>\n",
       "      <td>23</td>\n",
       "    </tr>\n",
       "    <tr>\n",
       "      <th>19</th>\n",
       "      <td>Compound &gt; upregulates &gt; Hormone</td>\n",
       "      <td>Cu&gt;E</td>\n",
       "      <td>59</td>\n",
       "      <td>42</td>\n",
       "      <td>25</td>\n",
       "    </tr>\n",
       "    <tr>\n",
       "      <th>101</th>\n",
       "      <td>Hormone &gt; interacts &gt; Oxidoreductase</td>\n",
       "      <td>Ei&gt;H</td>\n",
       "      <td>60</td>\n",
       "      <td>8</td>\n",
       "      <td>59</td>\n",
       "    </tr>\n",
       "    <tr>\n",
       "      <th>44</th>\n",
       "      <td>Hydrolase &gt; interacts &gt; Growth factor</td>\n",
       "      <td>Fi&gt;D</td>\n",
       "      <td>64</td>\n",
       "      <td>40</td>\n",
       "      <td>37</td>\n",
       "    </tr>\n",
       "    <tr>\n",
       "      <th>4</th>\n",
       "      <td>Developmental protein &gt; interacts &gt; Hormone</td>\n",
       "      <td>Bi&gt;E</td>\n",
       "      <td>65</td>\n",
       "      <td>36</td>\n",
       "      <td>37</td>\n",
       "    </tr>\n",
       "    <tr>\n",
       "      <th>74</th>\n",
       "      <td>Compound &gt; upregulates &gt; Repressor</td>\n",
       "      <td>Cu&gt;K</td>\n",
       "      <td>66</td>\n",
       "      <td>36</td>\n",
       "      <td>32</td>\n",
       "    </tr>\n",
       "    <tr>\n",
       "      <th>76</th>\n",
       "      <td>Repressor &gt; interacts &gt; Growth factor</td>\n",
       "      <td>Ki&gt;D</td>\n",
       "      <td>69</td>\n",
       "      <td>31</td>\n",
       "      <td>38</td>\n",
       "    </tr>\n",
       "    <tr>\n",
       "      <th>37</th>\n",
       "      <td>Hydrolase &gt; interacts &gt; Oxidoreductase</td>\n",
       "      <td>Fi&gt;H</td>\n",
       "      <td>69</td>\n",
       "      <td>26</td>\n",
       "      <td>54</td>\n",
       "    </tr>\n",
       "    <tr>\n",
       "      <th>18</th>\n",
       "      <td>Oxidoreductase &gt; interacts &gt; Receptor</td>\n",
       "      <td>Hi&gt;J</td>\n",
       "      <td>71</td>\n",
       "      <td>42</td>\n",
       "      <td>61</td>\n",
       "    </tr>\n",
       "    <tr>\n",
       "      <th>131</th>\n",
       "      <td>Hormone &gt; participates &gt; Biological Process</td>\n",
       "      <td>Ep&gt;BP</td>\n",
       "      <td>71</td>\n",
       "      <td>54</td>\n",
       "      <td>13</td>\n",
       "    </tr>\n",
       "    <tr>\n",
       "      <th>94</th>\n",
       "      <td>Hormone &gt; interacts &gt; RNA-binding</td>\n",
       "      <td>Ei&gt;I</td>\n",
       "      <td>74</td>\n",
       "      <td>6</td>\n",
       "      <td>73</td>\n",
       "    </tr>\n",
       "    <tr>\n",
       "      <th>126</th>\n",
       "      <td>Compound &gt; downregulates &gt; Growth factor</td>\n",
       "      <td>Cd&gt;D</td>\n",
       "      <td>85</td>\n",
       "      <td>40</td>\n",
       "      <td>34</td>\n",
       "    </tr>\n",
       "    <tr>\n",
       "      <th>24</th>\n",
       "      <td>Compound &gt; upregulates &gt; Growth factor</td>\n",
       "      <td>Cu&gt;D</td>\n",
       "      <td>88</td>\n",
       "      <td>45</td>\n",
       "      <td>35</td>\n",
       "    </tr>\n",
       "    <tr>\n",
       "      <th>14</th>\n",
       "      <td>RNA-binding &gt; interacts &gt; Developmental protein</td>\n",
       "      <td>Ii&gt;B</td>\n",
       "      <td>89</td>\n",
       "      <td>34</td>\n",
       "      <td>41</td>\n",
       "    </tr>\n",
       "    <tr>\n",
       "      <th>95</th>\n",
       "      <td>Compound &gt; upregulates &gt; Developmental protein</td>\n",
       "      <td>Cu&gt;B</td>\n",
       "      <td>94</td>\n",
       "      <td>37</td>\n",
       "      <td>71</td>\n",
       "    </tr>\n",
       "    <tr>\n",
       "      <th>50</th>\n",
       "      <td>Receptor &gt; interacts &gt; RNA-binding</td>\n",
       "      <td>Ji&gt;I</td>\n",
       "      <td>99</td>\n",
       "      <td>36</td>\n",
       "      <td>57</td>\n",
       "    </tr>\n",
       "    <tr>\n",
       "      <th>140</th>\n",
       "      <td>Oxidoreductase &gt; interacts &gt; DNA-binding</td>\n",
       "      <td>Hi&gt;A</td>\n",
       "      <td>100</td>\n",
       "      <td>49</td>\n",
       "      <td>69</td>\n",
       "    </tr>\n",
       "    <tr>\n",
       "      <th>72</th>\n",
       "      <td>Receptor &gt; interacts &gt; Growth factor</td>\n",
       "      <td>Ji&gt;D</td>\n",
       "      <td>103</td>\n",
       "      <td>53</td>\n",
       "      <td>47</td>\n",
       "    </tr>\n",
       "    <tr>\n",
       "      <th>88</th>\n",
       "      <td>Compound &gt; downregulates &gt; Developmental protein</td>\n",
       "      <td>Cd&gt;B</td>\n",
       "      <td>106</td>\n",
       "      <td>48</td>\n",
       "      <td>69</td>\n",
       "    </tr>\n",
       "    <tr>\n",
       "      <th>137</th>\n",
       "      <td>Hormone &gt; interacts &gt; Developmental protein</td>\n",
       "      <td>Ei&gt;B</td>\n",
       "      <td>109</td>\n",
       "      <td>31</td>\n",
       "      <td>62</td>\n",
       "    </tr>\n",
       "    <tr>\n",
       "      <th>124</th>\n",
       "      <td>Growth factor &gt; participates &gt; Biological Process</td>\n",
       "      <td>Dp&gt;BP</td>\n",
       "      <td>116</td>\n",
       "      <td>70</td>\n",
       "      <td>15</td>\n",
       "    </tr>\n",
       "    <tr>\n",
       "      <th>73</th>\n",
       "      <td>Repressor &gt; interacts &gt; Oxidoreductase</td>\n",
       "      <td>Ki&gt;H</td>\n",
       "      <td>119</td>\n",
       "      <td>37</td>\n",
       "      <td>92</td>\n",
       "    </tr>\n",
       "    <tr>\n",
       "      <th>0</th>\n",
       "      <td>RNA-binding &gt; participates &gt; Biological Process</td>\n",
       "      <td>Ip&gt;BP</td>\n",
       "      <td>121</td>\n",
       "      <td>91</td>\n",
       "      <td>24</td>\n",
       "    </tr>\n",
       "    <tr>\n",
       "      <th>70</th>\n",
       "      <td>Oxidoreductase &gt; interacts &gt; Gene</td>\n",
       "      <td>Hi&gt;G</td>\n",
       "      <td>125</td>\n",
       "      <td>64</td>\n",
       "      <td>97</td>\n",
       "    </tr>\n",
       "  </tbody>\n",
       "</table>\n",
       "</div>"
      ],
      "text/plain": [
       "                                              metaedge abbreviation  edges  \\\n",
       "99             Growth factor > interacts > RNA-binding         Di>I      2   \n",
       "117               Oxidoreductase > interacts > Hormone         Hi>E      6   \n",
       "97                   RNA-binding > interacts > Hormone         Ii>E      7   \n",
       "98            Oxidoreductase > interacts > RNA-binding         Hi>I      7   \n",
       "43          Growth factor > interacts > Oxidoreductase         Di>H     11   \n",
       "52             RNA-binding > interacts > Growth factor         Ii>D     12   \n",
       "66          Oxidoreductase > interacts > Growth factor         Hi>D     13   \n",
       "128                    Hydrolase > interacts > Hormone         Fi>E     18   \n",
       "33   Oxidoreductase > interacts > Developmental pro...         Hi>B     19   \n",
       "69              Compound > downregulates > RNA-binding         Cd>I     19   \n",
       "61                 Hormone > interacts > Growth factor         Ei>D     20   \n",
       "119             Oxidoreductase > interacts > Repressor         Hi>K     26   \n",
       "58                 Growth factor > interacts > Hormone         Di>E     27   \n",
       "130           RNA-binding > interacts > Oxidoreductase         Ii>H     32   \n",
       "6                Growth factor > interacts > Repressor         Di>K     32   \n",
       "102        Oxidoreductase > interacts > Oxidoreductase         Hi>H     37   \n",
       "64                       Hormone > interacts > Hormone         Ei>E     37   \n",
       "121                     Receptor > interacts > Hormone         Ji>E     40   \n",
       "51                   Transferase > interacts > Hormone         Li>E     43   \n",
       "79                     Hormone > interacts > Repressor         Ei>K     43   \n",
       "106               Compound > upregulates > RNA-binding         Cu>I     44   \n",
       "17                     Repressor > interacts > Hormone         Ki>E     44   \n",
       "10              Oxidoreductase > interacts > Hydrolase         Hi>F     46   \n",
       "136                         Gene > interacts > Hormone         Gi>E     49   \n",
       "89                  RNA-binding > interacts > Receptor         Ii>J     54   \n",
       "34                Compound > downregulates > Repressor         Cd>K     57   \n",
       "5                   Compound > downregulates > Hormone         Cd>E     57   \n",
       "19                    Compound > upregulates > Hormone         Cu>E     59   \n",
       "101               Hormone > interacts > Oxidoreductase         Ei>H     60   \n",
       "44               Hydrolase > interacts > Growth factor         Fi>D     64   \n",
       "4          Developmental protein > interacts > Hormone         Bi>E     65   \n",
       "74                  Compound > upregulates > Repressor         Cu>K     66   \n",
       "76               Repressor > interacts > Growth factor         Ki>D     69   \n",
       "37              Hydrolase > interacts > Oxidoreductase         Fi>H     69   \n",
       "18               Oxidoreductase > interacts > Receptor         Hi>J     71   \n",
       "131        Hormone > participates > Biological Process        Ep>BP     71   \n",
       "94                   Hormone > interacts > RNA-binding         Ei>I     74   \n",
       "126           Compound > downregulates > Growth factor         Cd>D     85   \n",
       "24              Compound > upregulates > Growth factor         Cu>D     88   \n",
       "14     RNA-binding > interacts > Developmental protein         Ii>B     89   \n",
       "95      Compound > upregulates > Developmental protein         Cu>B     94   \n",
       "50                  Receptor > interacts > RNA-binding         Ji>I     99   \n",
       "140           Oxidoreductase > interacts > DNA-binding         Hi>A    100   \n",
       "72                Receptor > interacts > Growth factor         Ji>D    103   \n",
       "88    Compound > downregulates > Developmental protein         Cd>B    106   \n",
       "137        Hormone > interacts > Developmental protein         Ei>B    109   \n",
       "124  Growth factor > participates > Biological Process        Dp>BP    116   \n",
       "73              Repressor > interacts > Oxidoreductase         Ki>H    119   \n",
       "0      RNA-binding > participates > Biological Process        Ip>BP    121   \n",
       "70                   Oxidoreductase > interacts > Gene         Hi>G    125   \n",
       "\n",
       "     source_nodes  target_nodes  \n",
       "99              2             2  \n",
       "117             6             6  \n",
       "97              3             7  \n",
       "98              7             7  \n",
       "43              6            11  \n",
       "52              9             9  \n",
       "66              8            11  \n",
       "128            17            15  \n",
       "33             18            19  \n",
       "69             17            10  \n",
       "61              7            11  \n",
       "119            24            20  \n",
       "58             12            11  \n",
       "130            12            32  \n",
       "6              16            22  \n",
       "102            31            33  \n",
       "64             18            22  \n",
       "121            31            24  \n",
       "51             34            26  \n",
       "79              8            43  \n",
       "106            34            21  \n",
       "17             29            26  \n",
       "10             32            36  \n",
       "136            38            22  \n",
       "89             17            50  \n",
       "34             25            33  \n",
       "5              36            23  \n",
       "19             42            25  \n",
       "101             8            59  \n",
       "44             40            37  \n",
       "4              36            37  \n",
       "74             36            32  \n",
       "76             31            38  \n",
       "37             26            54  \n",
       "18             42            61  \n",
       "131            54            13  \n",
       "94              6            73  \n",
       "126            40            34  \n",
       "24             45            35  \n",
       "14             34            41  \n",
       "95             37            71  \n",
       "50             36            57  \n",
       "140            49            69  \n",
       "72             53            47  \n",
       "88             48            69  \n",
       "137            31            62  \n",
       "124            70            15  \n",
       "73             37            92  \n",
       "0              91            24  \n",
       "70             64            97  "
      ]
     },
     "execution_count": 16,
     "metadata": {},
     "output_type": "execute_result"
    }
   ],
   "source": [
    "metaedge_df.sort_values('edges', ascending=True).head(50)"
   ]
  },
  {
   "cell_type": "code",
   "execution_count": 17,
   "metadata": {},
   "outputs": [
    {
     "data": {
      "image/png": "[encoded data removed]",
      "text/plain": [
       "<Figure size 640x480 with 1 Axes>"
      ]
     },
     "metadata": {},
     "output_type": "display_data"
    }
   ],
   "source": [
    "ax = sns.barplot(x='abbreviation', y='edges', data=metaedge_df.sort_values('edges'))\n",
    "for tick in ax.get_xticklabels():\n",
    "    tick.set_rotation(90)\n",
    "ax.set_xlabel(''); ax.set_ylabel('edges');\n",
    "\n",
    "# change dimensions of plot to be wider\n",
    "#sns.set(rc={'figure.figsize':(100, 10)})"
   ]
  },
  {
   "cell_type": "code",
   "execution_count": 18,
   "metadata": {},
   "outputs": [
    {
     "data": {
      "text/html": [
       "<div>\n",
       "<style scoped>\n",
       "    .dataframe tbody tr th:only-of-type {\n",
       "        vertical-align: middle;\n",
       "    }\n",
       "\n",
       "    .dataframe tbody tr th {\n",
       "        vertical-align: top;\n",
       "    }\n",
       "\n",
       "    .dataframe thead th {\n",
       "        text-align: right;\n",
       "    }\n",
       "</style>\n",
       "<table border=\"1\" class=\"dataframe\">\n",
       "  <thead>\n",
       "    <tr style=\"text-align: right;\">\n",
       "      <th></th>\n",
       "      <th>metaedge</th>\n",
       "      <th>unicode_metaedge</th>\n",
       "      <th>standard_metaedge</th>\n",
       "      <th>abbreviation</th>\n",
       "      <th>standard_abbreviation</th>\n",
       "      <th>source</th>\n",
       "      <th>target</th>\n",
       "      <th>inverted</th>\n",
       "    </tr>\n",
       "  </thead>\n",
       "  <tbody>\n",
       "    <tr>\n",
       "      <th>137</th>\n",
       "      <td>Biological Process &lt; participates &lt; DNA-binding</td>\n",
       "      <td>Biological Process←participates←DNA-binding</td>\n",
       "      <td>DNA-binding &gt; participates &gt; Biological Process</td>\n",
       "      <td>BP&lt;pA</td>\n",
       "      <td>ApBP</td>\n",
       "      <td>Biological Process</td>\n",
       "      <td>DNA-binding</td>\n",
       "      <td>1</td>\n",
       "    </tr>\n",
       "    <tr>\n",
       "      <th>25</th>\n",
       "      <td>Biological Process &lt; participates &lt; Developmen...</td>\n",
       "      <td>Biological Process←participates←Developmental ...</td>\n",
       "      <td>Developmental protein &gt; participates &gt; Biologi...</td>\n",
       "      <td>BP&lt;pB</td>\n",
       "      <td>BpBP</td>\n",
       "      <td>Biological Process</td>\n",
       "      <td>Developmental protein</td>\n",
       "      <td>1</td>\n",
       "    </tr>\n",
       "    <tr>\n",
       "      <th>201</th>\n",
       "      <td>Biological Process &lt; participates &lt; Gene</td>\n",
       "      <td>Biological Process←participates←Gene</td>\n",
       "      <td>Gene &gt; participates &gt; Biological Process</td>\n",
       "      <td>BP&lt;pG</td>\n",
       "      <td>GpBP</td>\n",
       "      <td>Biological Process</td>\n",
       "      <td>Gene</td>\n",
       "      <td>1</td>\n",
       "    </tr>\n",
       "    <tr>\n",
       "      <th>249</th>\n",
       "      <td>Biological Process &lt; participates &lt; Growth factor</td>\n",
       "      <td>Biological Process←participates←Growth factor</td>\n",
       "      <td>Growth factor &gt; participates &gt; Biological Process</td>\n",
       "      <td>BP&lt;pD</td>\n",
       "      <td>DpBP</td>\n",
       "      <td>Biological Process</td>\n",
       "      <td>Growth factor</td>\n",
       "      <td>1</td>\n",
       "    </tr>\n",
       "    <tr>\n",
       "      <th>263</th>\n",
       "      <td>Biological Process &lt; participates &lt; Hormone</td>\n",
       "      <td>Biological Process←participates←Hormone</td>\n",
       "      <td>Hormone &gt; participates &gt; Biological Process</td>\n",
       "      <td>BP&lt;pE</td>\n",
       "      <td>EpBP</td>\n",
       "      <td>Biological Process</td>\n",
       "      <td>Hormone</td>\n",
       "      <td>1</td>\n",
       "    </tr>\n",
       "  </tbody>\n",
       "</table>\n",
       "</div>"
      ],
      "text/plain": [
       "                                              metaedge  \\\n",
       "137    Biological Process < participates < DNA-binding   \n",
       "25   Biological Process < participates < Developmen...   \n",
       "201           Biological Process < participates < Gene   \n",
       "249  Biological Process < participates < Growth factor   \n",
       "263        Biological Process < participates < Hormone   \n",
       "\n",
       "                                      unicode_metaedge  \\\n",
       "137        Biological Process←participates←DNA-binding   \n",
       "25   Biological Process←participates←Developmental ...   \n",
       "201               Biological Process←participates←Gene   \n",
       "249      Biological Process←participates←Growth factor   \n",
       "263            Biological Process←participates←Hormone   \n",
       "\n",
       "                                     standard_metaedge abbreviation  \\\n",
       "137    DNA-binding > participates > Biological Process        BP<pA   \n",
       "25   Developmental protein > participates > Biologi...        BP<pB   \n",
       "201           Gene > participates > Biological Process        BP<pG   \n",
       "249  Growth factor > participates > Biological Process        BP<pD   \n",
       "263        Hormone > participates > Biological Process        BP<pE   \n",
       "\n",
       "    standard_abbreviation              source                 target  inverted  \n",
       "137                  ApBP  Biological Process            DNA-binding         1  \n",
       "25                   BpBP  Biological Process  Developmental protein         1  \n",
       "201                  GpBP  Biological Process                   Gene         1  \n",
       "249                  DpBP  Biological Process          Growth factor         1  \n",
       "263                  EpBP  Biological Process                Hormone         1  "
      ]
     },
     "execution_count": 18,
     "metadata": {},
     "output_type": "execute_result"
    }
   ],
   "source": [
    "# Summary of different styles for representing each metaedge\n",
    "metaedge_style_df = hetnetpy.stats.get_metaedge_style_df(metagraph)\n",
    "metaedge_style_df.head()"
   ]
  },
  {
   "cell_type": "code",
   "execution_count": 19,
   "metadata": {},
   "outputs": [
    {
     "data": {
      "text/plain": [
       "88079"
      ]
     },
     "execution_count": 19,
     "metadata": {},
     "output_type": "execute_result"
    }
   ],
   "source": [
    "# Number of edges in the network\n",
    "metaedge_df.edges.sum()"
   ]
  },
  {
   "attachments": {},
   "cell_type": "markdown",
   "metadata": {},
   "source": [
    "## Metapath Extraction\n",
    "\n",
    "Here, we have functions which can extract metapaths:"
   ]
  },
  {
   "attachments": {},
   "cell_type": "markdown",
   "metadata": {},
   "source": [
    "Extract metapaths from a given source node type (and, optionally, to a target node type):"
   ]
  },
  {
   "cell_type": "code",
   "execution_count": 20,
   "metadata": {},
   "outputs": [],
   "source": [
    "tgt_metapaths = metagraph.extract_metapaths(source='Compound', target='Biological Process', max_length=4)\n",
    "# print(tgt_metapaths)"
   ]
  },
  {
   "attachments": {},
   "cell_type": "markdown",
   "metadata": {},
   "source": [
    "We do not want any with a compound in the middle:"
   ]
  },
  {
   "cell_type": "code",
   "execution_count": 21,
   "metadata": {},
   "outputs": [],
   "source": [
    "CtoBP_metapaths = []\n",
    "\n",
    "for i in tgt_metapaths:\n",
    "    if '<' in repr(i):\n",
    "        continue\n",
    "    if (repr(i) != 'Ct>BP') & (Counter(re.split('>|<|[^A-Z]', repr(i)))['C'] == 1):\n",
    "        CtoBP_metapaths.append(i)"
   ]
  },
  {
   "attachments": {},
   "cell_type": "markdown",
   "metadata": {},
   "source": [
    "How many did it prune?"
   ]
  },
  {
   "cell_type": "code",
   "execution_count": 22,
   "metadata": {},
   "outputs": [
    {
     "name": "stdout",
     "output_type": "stream",
     "text": [
      "2926\n",
      "12364\n"
     ]
    }
   ],
   "source": [
    "print(len(CtoBP_metapaths))\n",
    "print(len(tgt_metapaths))"
   ]
  },
  {
   "attachments": {},
   "cell_type": "markdown",
   "metadata": {},
   "source": [
    "## Metapaths Between Training, Validation, Testing\n",
    "\n",
    "Here, we'll look at the metapaths that occur between each of the sets of drug-BP pairs."
   ]
  },
  {
   "cell_type": "code",
   "execution_count": 23,
   "metadata": {},
   "outputs": [],
   "source": [
    "def get_paths(\n",
    "    graph,\n",
    "    source,\n",
    "    target,\n",
    "    rule,\n",
    "):\n",
    "    try:\n",
    "        paths = paths_between(\n",
    "            graph,\n",
    "            source=('Compound', source),\n",
    "            target=('Biological Process', target),\n",
    "            metapath=tuple(rule),\n",
    "            duplicates=False,\n",
    "        )\n",
    "    except Exception as e:\n",
    "        print(e)\n",
    "        paths = []        \n",
    "    \n",
    "    return paths"
   ]
  },
  {
   "cell_type": "code",
   "execution_count": 24,
   "metadata": {},
   "outputs": [],
   "source": [
    "# read in train.txt, test.txt, and dev.txt from MARS_DIR\n",
    "train = pd.read_csv(osp.join(MOA_NET_PROTCLASSED, 'train.tsv'), sep='\\t')\n",
    "test = pd.read_csv(osp.join(MOA_NET_PROTCLASSED, 'test.tsv'), sep='\\t')\n",
    "dev = pd.read_csv(osp.join(MOA_NET_PROTCLASSED, 'dev.tsv'), sep='\\t')\n",
    "\n",
    "# for each, get a set of the source and target columns\n",
    "train = {(row['source'], row['target']) for i, row in train.iterrows()}\n",
    "test = {(row['source'], row['target']) for i, row in test.iterrows()}\n",
    "dev = {(row['source'], row['target']) for i, row in dev.iterrows()}"
   ]
  },
  {
   "cell_type": "code",
   "execution_count": 25,
   "metadata": {},
   "outputs": [],
   "source": [
    "def get_metapath_counts(drug_BP_pairs):\n",
    "\n",
    "    metapath_dict = {str(mpath): 0 for mpath in CtoBP_metapaths}\n",
    "\n",
    "    for source, bp in tqdm.tqdm(drug_BP_pairs):\n",
    "        # All metapaths going from compound to biological process\n",
    "        for mpath in CtoBP_metapaths:\n",
    "                    \n",
    "            paths = get_paths(\n",
    "                graph=graph,\n",
    "                source=source,\n",
    "                target=bp,\n",
    "                rule=mpath,\n",
    "            )\n",
    "            \n",
    "            if not paths:\n",
    "                continue\n",
    "                \n",
    "            metapath_dict[str(mpath)] += len(paths)\n",
    "\n",
    "    return metapath_dict"
   ]
  },
  {
   "attachments": {},
   "cell_type": "markdown",
   "metadata": {},
   "source": [
    "This next step is really long, which is why I've made it possible to skip if the files already exist:"
   ]
  },
  {
   "cell_type": "code",
   "execution_count": 26,
   "metadata": {},
   "outputs": [],
   "source": [
    "# check if a file exists\n",
    "if not osp.exists(osp.join(METAPATHS_DIR, 'train_metapaths.json')):\n",
    "    train_metapaths = get_metapath_counts(train)\n",
    "    with open(osp.join(METAPATHS_DIR, 'train_metapaths.json'), 'w') as f:\n",
    "        json.dump(train_metapaths, f)\n",
    "\n",
    "else:\n",
    "    with open(osp.join(METAPATHS_DIR, 'train_metapaths.json'), 'r') as f:\n",
    "        train_metapaths = json.load(f)\n",
    "\n",
    "if not osp.exists(osp.join(METAPATHS_DIR, 'test_metapaths.json')):       \n",
    "    test_metapaths = get_metapath_counts(test)\n",
    "    with open(osp.join(METAPATHS_DIR, 'test_metapaths.json'), 'w') as f:\n",
    "        json.dump(test_metapaths, f)\n",
    "\n",
    "else:\n",
    "    with open(osp.join(METAPATHS_DIR, 'test_metapaths.json'), 'r') as f:\n",
    "        test_metapaths = json.load(f)\n",
    "\n",
    "if not osp.exists(osp.join(METAPATHS_DIR, 'dev_metapaths.json')): \n",
    "    dev_metapaths = get_metapath_counts(dev)\n",
    "    with open(osp.join(METAPATHS_DIR, 'dev_metapaths.json'), 'w') as f:\n",
    "        json.dump(dev_metapaths, f)\n",
    "\n",
    "else:\n",
    "    with open(osp.join(METAPATHS_DIR, 'dev_metapaths.json'), 'r') as f:\n",
    "        dev_metapaths = json.load(f)"
   ]
  },
  {
   "cell_type": "code",
   "execution_count": 27,
   "metadata": {},
   "outputs": [],
   "source": [
    "# for each value, turn it into a ratio of value/ sum of all values\n",
    "test_ratios = {k: v/sum(test_metapaths.values()) for k, v in test_metapaths.items()}\n",
    "train_ratios = {k: v/sum(train_metapaths.values()) for k, v in train_metapaths.items()}\n",
    "dev_ratios = {k: v/sum(dev_metapaths.values()) for k, v in dev_metapaths.items()}"
   ]
  },
  {
   "cell_type": "code",
   "execution_count": 28,
   "metadata": {},
   "outputs": [],
   "source": [
    "# get any keys where the value is zero\n",
    "zero_train = {k: v for k, v in train_ratios.items() if v == 0}\n",
    "zero_test = {k: v for k, v in test_ratios.items() if v == 0}"
   ]
  },
  {
   "cell_type": "code",
   "execution_count": 29,
   "metadata": {},
   "outputs": [
    {
     "data": {
      "text/plain": [
       "2332"
      ]
     },
     "execution_count": 29,
     "metadata": {},
     "output_type": "execute_result"
    }
   ],
   "source": [
    "len(set(zero_test.keys()))"
   ]
  },
  {
   "cell_type": "code",
   "execution_count": 30,
   "metadata": {},
   "outputs": [
    {
     "data": {
      "text/plain": [
       "1349"
      ]
     },
     "execution_count": 30,
     "metadata": {},
     "output_type": "execute_result"
    }
   ],
   "source": [
    "len(set(zero_train.keys()))"
   ]
  },
  {
   "attachments": {},
   "cell_type": "markdown",
   "metadata": {},
   "source": [
    "Are there metapaths with zero instances in the training set but instances in the test set?"
   ]
  },
  {
   "cell_type": "code",
   "execution_count": 31,
   "metadata": {},
   "outputs": [],
   "source": [
    "# nonzero keys in test\n",
    "nonzero_test = {k: v for k, v in test_ratios.items() if v != 0}"
   ]
  },
  {
   "cell_type": "code",
   "execution_count": 32,
   "metadata": {},
   "outputs": [
    {
     "data": {
      "text/plain": [
       "1214"
      ]
     },
     "execution_count": 32,
     "metadata": {},
     "output_type": "execute_result"
    }
   ],
   "source": [
    "len(set(zero_train.keys()) - set(nonzero_test.keys()))"
   ]
  },
  {
   "cell_type": "code",
   "execution_count": 33,
   "metadata": {},
   "outputs": [
    {
     "data": {
      "text/plain": [
       "135"
      ]
     },
     "execution_count": 33,
     "metadata": {},
     "output_type": "execute_result"
    }
   ],
   "source": [
    "len(set(zero_train.keys()) - set(zero_test.keys()))"
   ]
  },
  {
   "attachments": {},
   "cell_type": "markdown",
   "metadata": {},
   "source": [
    "Are the most common keys mostly the same?"
   ]
  },
  {
   "cell_type": "code",
   "execution_count": 34,
   "metadata": {},
   "outputs": [],
   "source": [
    "top_test = {tup[0] for tup in Counter(test_ratios).most_common(100)}\n",
    "top_train = {tup[0] for tup in Counter(train_ratios).most_common(100)}"
   ]
  },
  {
   "cell_type": "code",
   "execution_count": 35,
   "metadata": {},
   "outputs": [
    {
     "data": {
      "text/plain": [
       "0.7"
      ]
     },
     "execution_count": 35,
     "metadata": {},
     "output_type": "execute_result"
    }
   ],
   "source": [
    "len(top_test & top_train) / len(top_test)"
   ]
  },
  {
   "attachments": {},
   "cell_type": "markdown",
   "metadata": {},
   "source": [
    "It seems they are mostly the same, but not exactly."
   ]
  },
  {
   "attachments": {},
   "cell_type": "markdown",
   "metadata": {},
   "source": [
    "# MARS Input Preparation\n",
    "\n",
    "What if we want to get these in a format similar to the MARS output?\n",
    "\n",
    "First let's give them all a uniform probability:"
   ]
  },
  {
   "cell_type": "code",
   "execution_count": 36,
   "metadata": {},
   "outputs": [],
   "source": [
    "#prob = 1 / (2 * len(CtoBP_metapaths))\n",
    "prob = 0.5"
   ]
  },
  {
   "attachments": {},
   "cell_type": "markdown",
   "metadata": {},
   "source": [
    "We can split the metapaths into a series of individual relations:"
   ]
  },
  {
   "cell_type": "code",
   "execution_count": 37,
   "metadata": {},
   "outputs": [],
   "source": [
    "def get_forward_rule_body(mpath, conf, metagraph):\n",
    "    \"\"\"Gets the rule body for a given metapath in the format that MARS requires\n",
    "        :param mpath: the metapath instance, written in hetnetpy format\n",
    "        :param conf: the confidence value to use for the rule\n",
    "        :param metagraph: the metagraph instance, as a hetnetpy object\n",
    "    \"\"\"\n",
    "    st_edges = metaedges_from_metapath(mpath, standardize_by=metagraph)\n",
    "    directional_edges = metaedges_from_metapath(mpath)\n",
    "    rule_head = re.split('>|<|[^A-Z]', mpath)\n",
    "    rule_head = rule_head[0] + 't' + rule_head[-1]\n",
    "    rule_body = [conf, rule_head]\n",
    "    for st, dic in zip(st_edges, directional_edges):\n",
    "        if '>' in dic:\n",
    "            rule_body.append(st)\n",
    "        else:\n",
    "            rule_body.append('_' + st)\n",
    "    return rule_body"
   ]
  },
  {
   "cell_type": "code",
   "execution_count": 38,
   "metadata": {},
   "outputs": [
    {
     "data": {
      "text/plain": [
       "[0.5, 'CtBP', 'CuG', '_CuG', 'CdG', 'GpBP']"
      ]
     },
     "execution_count": 38,
     "metadata": {},
     "output_type": "execute_result"
    }
   ],
   "source": [
    "# just testing the function\n",
    "get_forward_rule_body('Cu>G<uCd>Gp>BP', prob, metagraph)"
   ]
  },
  {
   "cell_type": "code",
   "execution_count": 39,
   "metadata": {},
   "outputs": [],
   "source": [
    "def get_reverse_rule_body(forward_body):\n",
    "    \"\"\"Gets the REVERSE rule body for a given metapath in the format that MARS requires\n",
    "        :param forward_body: the forward rule body as a list\n",
    "    \"\"\"\n",
    "    rev_body = [forward_body[0], '_' + forward_body[1]]\n",
    "    for i in reversed(forward_body[2:]):\n",
    "        if '_' in i:\n",
    "            rev_body.append(re.sub('_', '', i))\n",
    "        else:\n",
    "            rev_body.append('_' + i)\n",
    "    return rev_body"
   ]
  },
  {
   "cell_type": "code",
   "execution_count": 40,
   "metadata": {},
   "outputs": [
    {
     "data": {
      "text/plain": [
       "[0.5, '_CtBP', '_GpBP', '_CdG', 'CuG', '_CuG']"
      ]
     },
     "execution_count": 40,
     "metadata": {},
     "output_type": "execute_result"
    }
   ],
   "source": [
    "fw = get_forward_rule_body('Cu>G<uCd>Gp>BP', prob, metagraph)\n",
    "get_reverse_rule_body(fw)"
   ]
  },
  {
   "attachments": {},
   "cell_type": "markdown",
   "metadata": {},
   "source": [
    "Now we'll do it for all the compound to BP metapaths!"
   ]
  },
  {
   "cell_type": "code",
   "execution_count": 41,
   "metadata": {},
   "outputs": [
    {
     "name": "stdout",
     "output_type": "stream",
     "text": [
      "{'CtBP': [[0.5, 'CtBP', 'CdA', 'ApBP'], [0.5, 'CtBP', 'CuA', 'ApBP'], [0.5, 'CtBP', 'CdB', 'BpBP'], [0.5, 'CtBP', 'CuB', 'BpBP'], [0.5, 'CtBP', 'CdG', 'GpBP'], [0.5, 'CtBP', 'CuG', 'GpBP'], [0.5, 'CtBP', 'CdD', 'DpBP'], [0.5, 'CtBP', 'CuD', 'DpBP'], [0.5, 'CtBP', 'CdE', 'EpBP'], [0.5, 'CtBP', 'CuE', 'EpBP'], [0.5, 'CtBP', 'CdF', 'FpBP'], [0.5, 'CtBP', 'CuF', 'FpBP'], [0.5, 'CtBP', 'CdH', 'HpBP'], [0.5, 'CtBP', 'CuH', 'HpBP'], [0.5, 'CtBP', 'CdI', 'IpBP'], [0.5, 'CtBP', 'CuI', 'IpBP'], [0.5, 'CtBP', 'CdJ', 'JpBP'], [0.5, 'CtBP', 'CuJ', 'JpBP'], [0.5, 'CtBP', 'CdK', 'KpBP'], [0.5, 'CtBP', 'CuK', 'KpBP'], [0.5, 'CtBP', 'CdL', 'LpBP'], [0.5, 'CtBP', 'CuL', 'LpBP'], [0.5, 'CtBP', 'CdA', 'AiA', 'ApBP'], [0.5, 'CtBP', 'CdA', 'AiB', 'BpBP'], [0.5, 'CtBP', 'CdA', 'AiG', 'GpBP'], [0.5, 'CtBP', 'CdA', 'AiD', 'DpBP'], [0.5, 'CtBP', 'CdA', 'AiE', 'EpBP'], [0.5, 'CtBP', 'CdA', 'AiF', 'FpBP'], [0.5, 'CtBP', 'CdA', 'AiH', 'HpBP'], [0.5, 'CtBP', 'CdA', 'AiI', 'IpBP'], [0.5, 'CtBP', 'CdA', 'AiJ', 'JpBP'], [0.5, 'CtBP', 'CdA', 'AiK', 'KpBP'], [0.5, 'CtBP', 'CdA', 'AiL', 'LpBP'], [0.5, 'CtBP', 'CuA', 'AiA', 'ApBP'], [0.5, 'CtBP', 'CuA', 'AiB', 'BpBP'], [0.5, 'CtBP', 'CuA', 'AiG', 'GpBP'], [0.5, 'CtBP', 'CuA', 'AiD', 'DpBP'], [0.5, 'CtBP', 'CuA', 'AiE', 'EpBP'], [0.5, 'CtBP', 'CuA', 'AiF', 'FpBP'], [0.5, 'CtBP', 'CuA', 'AiH', 'HpBP'], [0.5, 'CtBP', 'CuA', 'AiI', 'IpBP'], [0.5, 'CtBP', 'CuA', 'AiJ', 'JpBP'], [0.5, 'CtBP', 'CuA', 'AiK', 'KpBP'], [0.5, 'CtBP', 'CuA', 'AiL', 'LpBP'], [0.5, 'CtBP', 'CdB', 'BiA', 'ApBP'], [0.5, 'CtBP', 'CdB', 'BiB', 'BpBP'], [0.5, 'CtBP', 'CdB', 'BiG', 'GpBP'], [0.5, 'CtBP', 'CdB', 'BiD', 'DpBP'], [0.5, 'CtBP', 'CdB', 'BiE', 'EpBP'], [0.5, 'CtBP', 'CdB', 'BiF', 'FpBP'], [0.5, 'CtBP', 'CdB', 'BiH', 'HpBP'], [0.5, 'CtBP', 'CdB', 'BiI', 'IpBP'], [0.5, 'CtBP', 'CdB', 'BiJ', 'JpBP'], [0.5, 'CtBP', 'CdB', 'BiK', 'KpBP'], [0.5, 'CtBP', 'CdB', 'BiL', 'LpBP'], [0.5, 'CtBP', 'CuB', 'BiA', 'ApBP'], [0.5, 'CtBP', 'CuB', 'BiB', 'BpBP'], [0.5, 'CtBP', 'CuB', 'BiG', 'GpBP'], [0.5, 'CtBP', 'CuB', 'BiD', 'DpBP'], [0.5, 'CtBP', 'CuB', 'BiE', 'EpBP'], [0.5, 'CtBP', 'CuB', 'BiF', 'FpBP'], [0.5, 'CtBP', 'CuB', 'BiH', 'HpBP'], [0.5, 'CtBP', 'CuB', 'BiI', 'IpBP'], [0.5, 'CtBP', 'CuB', 'BiJ', 'JpBP'], [0.5, 'CtBP', 'CuB', 'BiK', 'KpBP'], [0.5, 'CtBP', 'CuB', 'BiL', 'LpBP'], [0.5, 'CtBP', 'CdG', 'GiA', 'ApBP'], [0.5, 'CtBP', 'CdG', 'GiB', 'BpBP'], [0.5, 'CtBP', 'CdG', 'GiG', 'GpBP'], [0.5, 'CtBP', 'CdG', 'GiD', 'DpBP'], [0.5, 'CtBP', 'CdG', 'GiE', 'EpBP'], [0.5, 'CtBP', 'CdG', 'GiF', 'FpBP'], [0.5, 'CtBP', 'CdG', 'GiH', 'HpBP'], [0.5, 'CtBP', 'CdG', 'GiI', 'IpBP'], [0.5, 'CtBP', 'CdG', 'GiJ', 'JpBP'], [0.5, 'CtBP', 'CdG', 'GiK', 'KpBP'], [0.5, 'CtBP', 'CdG', 'GiL', 'LpBP'], [0.5, 'CtBP', 'CuG', 'GiA', 'ApBP'], [0.5, 'CtBP', 'CuG', 'GiB', 'BpBP'], [0.5, 'CtBP', 'CuG', 'GiG', 'GpBP'], [0.5, 'CtBP', 'CuG', 'GiD', 'DpBP'], [0.5, 'CtBP', 'CuG', 'GiE', 'EpBP'], [0.5, 'CtBP', 'CuG', 'GiF', 'FpBP'], [0.5, 'CtBP', 'CuG', 'GiH', 'HpBP'], [0.5, 'CtBP', 'CuG', 'GiI', 'IpBP'], [0.5, 'CtBP', 'CuG', 'GiJ', 'JpBP'], [0.5, 'CtBP', 'CuG', 'GiK', 'KpBP'], [0.5, 'CtBP', 'CuG', 'GiL', 'LpBP'], [0.5, 'CtBP', 'CdD', 'DiA', 'ApBP'], [0.5, 'CtBP', 'CdD', 'DiB', 'BpBP'], [0.5, 'CtBP', 'CdD', 'DiG', 'GpBP'], [0.5, 'CtBP', 'CdD', 'DiD', 'DpBP'], [0.5, 'CtBP', 'CdD', 'DiE', 'EpBP'], [0.5, 'CtBP', 'CdD', 'DiF', 'FpBP'], [0.5, 'CtBP', 'CdD', 'DiH', 'HpBP'], [0.5, 'CtBP', 'CdD', 'DiI', 'IpBP'], [0.5, 'CtBP', 'CdD', 'DiJ', 'JpBP'], [0.5, 'CtBP', 'CdD', 'DiK', 'KpBP'], [0.5, 'CtBP', 'CdD', 'DiL', 'LpBP'], [0.5, 'CtBP', 'CuD', 'DiA', 'ApBP'], [0.5, 'CtBP', 'CuD', 'DiB', 'BpBP'], [0.5, 'CtBP', 'CuD', 'DiG', 'GpBP'], [0.5, 'CtBP', 'CuD', 'DiD', 'DpBP'], [0.5, 'CtBP', 'CuD', 'DiE', 'EpBP'], [0.5, 'CtBP', 'CuD', 'DiF', 'FpBP'], [0.5, 'CtBP', 'CuD', 'DiH', 'HpBP'], [0.5, 'CtBP', 'CuD', 'DiI', 'IpBP'], [0.5, 'CtBP', 'CuD', 'DiJ', 'JpBP'], [0.5, 'CtBP', 'CuD', 'DiK', 'KpBP'], [0.5, 'CtBP', 'CuD', 'DiL', 'LpBP'], [0.5, 'CtBP', 'CdE', 'EiA', 'ApBP'], [0.5, 'CtBP', 'CdE', 'EiB', 'BpBP'], [0.5, 'CtBP', 'CdE', 'EiG', 'GpBP'], [0.5, 'CtBP', 'CdE', 'EiD', 'DpBP'], [0.5, 'CtBP', 'CdE', 'EiE', 'EpBP'], [0.5, 'CtBP', 'CdE', 'EiF', 'FpBP'], [0.5, 'CtBP', 'CdE', 'EiH', 'HpBP'], [0.5, 'CtBP', 'CdE', 'EiI', 'IpBP'], [0.5, 'CtBP', 'CdE', 'EiJ', 'JpBP'], [0.5, 'CtBP', 'CdE', 'EiK', 'KpBP'], [0.5, 'CtBP', 'CdE', 'EiL', 'LpBP'], [0.5, 'CtBP', 'CuE', 'EiA', 'ApBP'], [0.5, 'CtBP', 'CuE', 'EiB', 'BpBP'], [0.5, 'CtBP', 'CuE', 'EiG', 'GpBP'], [0.5, 'CtBP', 'CuE', 'EiD', 'DpBP'], [0.5, 'CtBP', 'CuE', 'EiE', 'EpBP'], [0.5, 'CtBP', 'CuE', 'EiF', 'FpBP'], [0.5, 'CtBP', 'CuE', 'EiH', 'HpBP'], [0.5, 'CtBP', 'CuE', 'EiI', 'IpBP'], [0.5, 'CtBP', 'CuE', 'EiJ', 'JpBP'], [0.5, 'CtBP', 'CuE', 'EiK', 'KpBP'], [0.5, 'CtBP', 'CuE', 'EiL', 'LpBP'], [0.5, 'CtBP', 'CdF', 'FiA', 'ApBP'], [0.5, 'CtBP', 'CdF', 'FiB', 'BpBP'], [0.5, 'CtBP', 'CdF', 'FiG', 'GpBP'], [0.5, 'CtBP', 'CdF', 'FiD', 'DpBP'], [0.5, 'CtBP', 'CdF', 'FiE', 'EpBP'], [0.5, 'CtBP', 'CdF', 'FiF', 'FpBP'], [0.5, 'CtBP', 'CdF', 'FiH', 'HpBP'], [0.5, 'CtBP', 'CdF', 'FiI', 'IpBP'], [0.5, 'CtBP', 'CdF', 'FiJ', 'JpBP'], [0.5, 'CtBP', 'CdF', 'FiK', 'KpBP'], [0.5, 'CtBP', 'CdF', 'FiL', 'LpBP'], [0.5, 'CtBP', 'CuF', 'FiA', 'ApBP'], [0.5, 'CtBP', 'CuF', 'FiB', 'BpBP'], [0.5, 'CtBP', 'CuF', 'FiG', 'GpBP'], [0.5, 'CtBP', 'CuF', 'FiD', 'DpBP'], [0.5, 'CtBP', 'CuF', 'FiE', 'EpBP'], [0.5, 'CtBP', 'CuF', 'FiF', 'FpBP'], [0.5, 'CtBP', 'CuF', 'FiH', 'HpBP'], [0.5, 'CtBP', 'CuF', 'FiI', 'IpBP'], [0.5, 'CtBP', 'CuF', 'FiJ', 'JpBP'], [0.5, 'CtBP', 'CuF', 'FiK', 'KpBP'], [0.5, 'CtBP', 'CuF', 'FiL', 'LpBP'], [0.5, 'CtBP', 'CdH', 'HiA', 'ApBP'], [0.5, 'CtBP', 'CdH', 'HiB', 'BpBP'], [0.5, 'CtBP', 'CdH', 'HiG', 'GpBP'], [0.5, 'CtBP', 'CdH', 'HiD', 'DpBP'], [0.5, 'CtBP', 'CdH', 'HiE', 'EpBP'], [0.5, 'CtBP', 'CdH', 'HiF', 'FpBP'], [0.5, 'CtBP', 'CdH', 'HiH', 'HpBP'], [0.5, 'CtBP', 'CdH', 'HiI', 'IpBP'], [0.5, 'CtBP', 'CdH', 'HiJ', 'JpBP'], [0.5, 'CtBP', 'CdH', 'HiK', 'KpBP'], [0.5, 'CtBP', 'CdH', 'HiL', 'LpBP'], [0.5, 'CtBP', 'CuH', 'HiA', 'ApBP'], [0.5, 'CtBP', 'CuH', 'HiB', 'BpBP'], [0.5, 'CtBP', 'CuH', 'HiG', 'GpBP'], [0.5, 'CtBP', 'CuH', 'HiD', 'DpBP'], [0.5, 'CtBP', 'CuH', 'HiE', 'EpBP'], [0.5, 'CtBP', 'CuH', 'HiF', 'FpBP'], [0.5, 'CtBP', 'CuH', 'HiH', 'HpBP'], [0.5, 'CtBP', 'CuH', 'HiI', 'IpBP'], [0.5, 'CtBP', 'CuH', 'HiJ', 'JpBP'], [0.5, 'CtBP', 'CuH', 'HiK', 'KpBP'], [0.5, 'CtBP', 'CuH', 'HiL', 'LpBP'], [0.5, 'CtBP', 'CdI', 'IiA', 'ApBP'], [0.5, 'CtBP', 'CdI', 'IiB', 'BpBP'], [0.5, 'CtBP', 'CdI', 'IiG', 'GpBP'], [0.5, 'CtBP', 'CdI', 'IiD', 'DpBP'], [0.5, 'CtBP', 'CdI', 'IiE', 'EpBP'], [0.5, 'CtBP', 'CdI', 'IiF', 'FpBP'], [0.5, 'CtBP', 'CdI', 'IiH', 'HpBP'], [0.5, 'CtBP', 'CdI', 'IiI', 'IpBP'], [0.5, 'CtBP', 'CdI', 'IiJ', 'JpBP'], [0.5, 'CtBP', 'CdI', 'IiK', 'KpBP'], [0.5, 'CtBP', 'CdI', 'IiL', 'LpBP'], [0.5, 'CtBP', 'CuI', 'IiA', 'ApBP'], [0.5, 'CtBP', 'CuI', 'IiB', 'BpBP'], [0.5, 'CtBP', 'CuI', 'IiG', 'GpBP'], [0.5, 'CtBP', 'CuI', 'IiD', 'DpBP'], [0.5, 'CtBP', 'CuI', 'IiE', 'EpBP'], [0.5, 'CtBP', 'CuI', 'IiF', 'FpBP'], [0.5, 'CtBP', 'CuI', 'IiH', 'HpBP'], [0.5, 'CtBP', 'CuI', 'IiI', 'IpBP'], [0.5, 'CtBP', 'CuI', 'IiJ', 'JpBP'], [0.5, 'CtBP', 'CuI', 'IiK', 'KpBP'], [0.5, 'CtBP', 'CuI', 'IiL', 'LpBP'], [0.5, 'CtBP', 'CdJ', 'JiA', 'ApBP'], [0.5, 'CtBP', 'CdJ', 'JiB', 'BpBP'], [0.5, 'CtBP', 'CdJ', 'JiG', 'GpBP'], [0.5, 'CtBP', 'CdJ', 'JiD', 'DpBP'], [0.5, 'CtBP', 'CdJ', 'JiE', 'EpBP'], [0.5, 'CtBP', 'CdJ', 'JiF', 'FpBP'], [0.5, 'CtBP', 'CdJ', 'JiH', 'HpBP'], [0.5, 'CtBP', 'CdJ', 'JiI', 'IpBP'], [0.5, 'CtBP', 'CdJ', 'JiJ', 'JpBP'], [0.5, 'CtBP', 'CdJ', 'JiK', 'KpBP'], [0.5, 'CtBP', 'CdJ', 'JiL', 'LpBP'], [0.5, 'CtBP', 'CuJ', 'JiA', 'ApBP'], [0.5, 'CtBP', 'CuJ', 'JiB', 'BpBP'], [0.5, 'CtBP', 'CuJ', 'JiG', 'GpBP'], [0.5, 'CtBP', 'CuJ', 'JiD', 'DpBP'], [0.5, 'CtBP', 'CuJ', 'JiE', 'EpBP'], [0.5, 'CtBP', 'CuJ', 'JiF', 'FpBP'], [0.5, 'CtBP', 'CuJ', 'JiH', 'HpBP'], [0.5, 'CtBP', 'CuJ', 'JiI', 'IpBP'], [0.5, 'CtBP', 'CuJ', 'JiJ', 'JpBP'], [0.5, 'CtBP', 'CuJ', 'JiK', 'KpBP'], [0.5, 'CtBP', 'CuJ', 'JiL', 'LpBP'], [0.5, 'CtBP', 'CdK', 'KiA', 'ApBP'], [0.5, 'CtBP', 'CdK', 'KiB', 'BpBP'], [0.5, 'CtBP', 'CdK', 'KiG', 'GpBP'], [0.5, 'CtBP', 'CdK', 'KiD', 'DpBP'], [0.5, 'CtBP', 'CdK', 'KiE', 'EpBP'], [0.5, 'CtBP', 'CdK', 'KiF', 'FpBP'], [0.5, 'CtBP', 'CdK', 'KiH', 'HpBP'], [0.5, 'CtBP', 'CdK', 'KiI', 'IpBP'], [0.5, 'CtBP', 'CdK', 'KiJ', 'JpBP'], [0.5, 'CtBP', 'CdK', 'KiK', 'KpBP'], [0.5, 'CtBP', 'CdK', 'KiL', 'LpBP'], [0.5, 'CtBP', 'CuK', 'KiA', 'ApBP'], [0.5, 'CtBP', 'CuK', 'KiB', 'BpBP'], [0.5, 'CtBP', 'CuK', 'KiG', 'GpBP'], [0.5, 'CtBP', 'CuK', 'KiD', 'DpBP'], [0.5, 'CtBP', 'CuK', 'KiE', 'EpBP'], [0.5, 'CtBP', 'CuK', 'KiF', 'FpBP'], [0.5, 'CtBP', 'CuK', 'KiH', 'HpBP'], [0.5, 'CtBP', 'CuK', 'KiI', 'IpBP'], [0.5, 'CtBP', 'CuK', 'KiJ', 'JpBP'], [0.5, 'CtBP', 'CuK', 'KiK', 'KpBP'], [0.5, 'CtBP', 'CuK', 'KiL', 'LpBP'], [0.5, 'CtBP', 'CdL', 'LiA', 'ApBP'], [0.5, 'CtBP', 'CdL', 'LiB', 'BpBP'], [0.5, 'CtBP', 'CdL', 'LiG', 'GpBP'], [0.5, 'CtBP', 'CdL', 'LiD', 'DpBP'], [0.5, 'CtBP', 'CdL', 'LiE', 'EpBP'], [0.5, 'CtBP', 'CdL', 'LiF', 'FpBP'], [0.5, 'CtBP', 'CdL', 'LiH', 'HpBP'], [0.5, 'CtBP', 'CdL', 'LiI', 'IpBP'], [0.5, 'CtBP', 'CdL', 'LiJ', 'JpBP'], [0.5, 'CtBP', 'CdL', 'LiK', 'KpBP'], [0.5, 'CtBP', 'CdL', 'LiL', 'LpBP'], [0.5, 'CtBP', 'CuL', 'LiA', 'ApBP'], [0.5, 'CtBP', 'CuL', 'LiB', 'BpBP'], [0.5, 'CtBP', 'CuL', 'LiG', 'GpBP'], [0.5, 'CtBP', 'CuL', 'LiD', 'DpBP'], [0.5, 'CtBP', 'CuL', 'LiE', 'EpBP'], [0.5, 'CtBP', 'CuL', 'LiF', 'FpBP'], [0.5, 'CtBP', 'CuL', 'LiH', 'HpBP'], [0.5, 'CtBP', 'CuL', 'LiI', 'IpBP'], [0.5, 'CtBP', 'CuL', 'LiJ', 'JpBP'], [0.5, 'CtBP', 'CuL', 'LiK', 'KpBP'], [0.5, 'CtBP', 'CuL', 'LiL', 'LpBP'], [0.5, 'CtBP', 'CdA', 'AiA', 'AiA', 'ApBP'], [0.5, 'CtBP', 'CdA', 'AiA', 'AiB', 'BpBP'], [0.5, 'CtBP', 'CdA', 'AiA', 'AiG', 'GpBP'], [0.5, 'CtBP', 'CdA', 'AiA', 'AiD', 'DpBP'], [0.5, 'CtBP', 'CdA', 'AiA', 'AiE', 'EpBP'], [0.5, 'CtBP', 'CdA', 'AiA', 'AiF', 'FpBP'], [0.5, 'CtBP', 'CdA', 'AiA', 'AiH', 'HpBP'], [0.5, 'CtBP', 'CdA', 'AiA', 'AiI', 'IpBP'], [0.5, 'CtBP', 'CdA', 'AiA', 'AiJ', 'JpBP'], [0.5, 'CtBP', 'CdA', 'AiA', 'AiK', 'KpBP'], [0.5, 'CtBP', 'CdA', 'AiA', 'AiL', 'LpBP'], [0.5, 'CtBP', 'CdA', 'AiB', 'BiA', 'ApBP'], [0.5, 'CtBP', 'CdA', 'AiB', 'BiB', 'BpBP'], [0.5, 'CtBP', 'CdA', 'AiB', 'BiG', 'GpBP'], [0.5, 'CtBP', 'CdA', 'AiB', 'BiD', 'DpBP'], [0.5, 'CtBP', 'CdA', 'AiB', 'BiE', 'EpBP'], [0.5, 'CtBP', 'CdA', 'AiB', 'BiF', 'FpBP'], [0.5, 'CtBP', 'CdA', 'AiB', 'BiH', 'HpBP'], [0.5, 'CtBP', 'CdA', 'AiB', 'BiI', 'IpBP'], [0.5, 'CtBP', 'CdA', 'AiB', 'BiJ', 'JpBP'], [0.5, 'CtBP', 'CdA', 'AiB', 'BiK', 'KpBP'], [0.5, 'CtBP', 'CdA', 'AiB', 'BiL', 'LpBP'], [0.5, 'CtBP', 'CdA', 'AiG', 'GiA', 'ApBP'], [0.5, 'CtBP', 'CdA', 'AiG', 'GiB', 'BpBP'], [0.5, 'CtBP', 'CdA', 'AiG', 'GiG', 'GpBP'], [0.5, 'CtBP', 'CdA', 'AiG', 'GiD', 'DpBP'], [0.5, 'CtBP', 'CdA', 'AiG', 'GiE', 'EpBP'], [0.5, 'CtBP', 'CdA', 'AiG', 'GiF', 'FpBP'], [0.5, 'CtBP', 'CdA', 'AiG', 'GiH', 'HpBP'], [0.5, 'CtBP', 'CdA', 'AiG', 'GiI', 'IpBP'], [0.5, 'CtBP', 'CdA', 'AiG', 'GiJ', 'JpBP'], [0.5, 'CtBP', 'CdA', 'AiG', 'GiK', 'KpBP'], [0.5, 'CtBP', 'CdA', 'AiG', 'GiL', 'LpBP'], [0.5, 'CtBP', 'CdA', 'AiD', 'DiA', 'ApBP'], [0.5, 'CtBP', 'CdA', 'AiD', 'DiB', 'BpBP'], [0.5, 'CtBP', 'CdA', 'AiD', 'DiG', 'GpBP'], [0.5, 'CtBP', 'CdA', 'AiD', 'DiD', 'DpBP'], [0.5, 'CtBP', 'CdA', 'AiD', 'DiE', 'EpBP'], [0.5, 'CtBP', 'CdA', 'AiD', 'DiF', 'FpBP'], [0.5, 'CtBP', 'CdA', 'AiD', 'DiH', 'HpBP'], [0.5, 'CtBP', 'CdA', 'AiD', 'DiI', 'IpBP'], [0.5, 'CtBP', 'CdA', 'AiD', 'DiJ', 'JpBP'], [0.5, 'CtBP', 'CdA', 'AiD', 'DiK', 'KpBP'], [0.5, 'CtBP', 'CdA', 'AiD', 'DiL', 'LpBP'], [0.5, 'CtBP', 'CdA', 'AiE', 'EiA', 'ApBP'], [0.5, 'CtBP', 'CdA', 'AiE', 'EiB', 'BpBP'], [0.5, 'CtBP', 'CdA', 'AiE', 'EiG', 'GpBP'], [0.5, 'CtBP', 'CdA', 'AiE', 'EiD', 'DpBP'], [0.5, 'CtBP', 'CdA', 'AiE', 'EiE', 'EpBP'], [0.5, 'CtBP', 'CdA', 'AiE', 'EiF', 'FpBP'], [0.5, 'CtBP', 'CdA', 'AiE', 'EiH', 'HpBP'], [0.5, 'CtBP', 'CdA', 'AiE', 'EiI', 'IpBP'], [0.5, 'CtBP', 'CdA', 'AiE', 'EiJ', 'JpBP'], [0.5, 'CtBP', 'CdA', 'AiE', 'EiK', 'KpBP'], [0.5, 'CtBP', 'CdA', 'AiE', 'EiL', 'LpBP'], [0.5, 'CtBP', 'CdA', 'AiF', 'FiA', 'ApBP'], [0.5, 'CtBP', 'CdA', 'AiF', 'FiB', 'BpBP'], [0.5, 'CtBP', 'CdA', 'AiF', 'FiG', 'GpBP'], [0.5, 'CtBP', 'CdA', 'AiF', 'FiD', 'DpBP'], [0.5, 'CtBP', 'CdA', 'AiF', 'FiE', 'EpBP'], [0.5, 'CtBP', 'CdA', 'AiF', 'FiF', 'FpBP'], [0.5, 'CtBP', 'CdA', 'AiF', 'FiH', 'HpBP'], [0.5, 'CtBP', 'CdA', 'AiF', 'FiI', 'IpBP'], [0.5, 'CtBP', 'CdA', 'AiF', 'FiJ', 'JpBP'], [0.5, 'CtBP', 'CdA', 'AiF', 'FiK', 'KpBP'], [0.5, 'CtBP', 'CdA', 'AiF', 'FiL', 'LpBP'], [0.5, 'CtBP', 'CdA', 'AiH', 'HiA', 'ApBP'], [0.5, 'CtBP', 'CdA', 'AiH', 'HiB', 'BpBP'], [0.5, 'CtBP', 'CdA', 'AiH', 'HiG', 'GpBP'], [0.5, 'CtBP', 'CdA', 'AiH', 'HiD', 'DpBP'], [0.5, 'CtBP', 'CdA', 'AiH', 'HiE', 'EpBP'], [0.5, 'CtBP', 'CdA', 'AiH', 'HiF', 'FpBP'], [0.5, 'CtBP', 'CdA', 'AiH', 'HiH', 'HpBP'], [0.5, 'CtBP', 'CdA', 'AiH', 'HiI', 'IpBP'], [0.5, 'CtBP', 'CdA', 'AiH', 'HiJ', 'JpBP'], [0.5, 'CtBP', 'CdA', 'AiH', 'HiK', 'KpBP'], [0.5, 'CtBP', 'CdA', 'AiH', 'HiL', 'LpBP'], [0.5, 'CtBP', 'CdA', 'AiI', 'IiA', 'ApBP'], [0.5, 'CtBP', 'CdA', 'AiI', 'IiB', 'BpBP'], [0.5, 'CtBP', 'CdA', 'AiI', 'IiG', 'GpBP'], [0.5, 'CtBP', 'CdA', 'AiI', 'IiD', 'DpBP'], [0.5, 'CtBP', 'CdA', 'AiI', 'IiE', 'EpBP'], [0.5, 'CtBP', 'CdA', 'AiI', 'IiF', 'FpBP'], [0.5, 'CtBP', 'CdA', 'AiI', 'IiH', 'HpBP'], [0.5, 'CtBP', 'CdA', 'AiI', 'IiI', 'IpBP'], [0.5, 'CtBP', 'CdA', 'AiI', 'IiJ', 'JpBP'], [0.5, 'CtBP', 'CdA', 'AiI', 'IiK', 'KpBP'], [0.5, 'CtBP', 'CdA', 'AiI', 'IiL', 'LpBP'], [0.5, 'CtBP', 'CdA', 'AiJ', 'JiA', 'ApBP'], [0.5, 'CtBP', 'CdA', 'AiJ', 'JiB', 'BpBP'], [0.5, 'CtBP', 'CdA', 'AiJ', 'JiG', 'GpBP'], [0.5, 'CtBP', 'CdA', 'AiJ', 'JiD', 'DpBP'], [0.5, 'CtBP', 'CdA', 'AiJ', 'JiE', 'EpBP'], [0.5, 'CtBP', 'CdA', 'AiJ', 'JiF', 'FpBP'], [0.5, 'CtBP', 'CdA', 'AiJ', 'JiH', 'HpBP'], [0.5, 'CtBP', 'CdA', 'AiJ', 'JiI', 'IpBP'], [0.5, 'CtBP', 'CdA', 'AiJ', 'JiJ', 'JpBP'], [0.5, 'CtBP', 'CdA', 'AiJ', 'JiK', 'KpBP'], [0.5, 'CtBP', 'CdA', 'AiJ', 'JiL', 'LpBP'], [0.5, 'CtBP', 'CdA', 'AiK', 'KiA', 'ApBP'], [0.5, 'CtBP', 'CdA', 'AiK', 'KiB', 'BpBP'], [0.5, 'CtBP', 'CdA', 'AiK', 'KiG', 'GpBP'], [0.5, 'CtBP', 'CdA', 'AiK', 'KiD', 'DpBP'], [0.5, 'CtBP', 'CdA', 'AiK', 'KiE', 'EpBP'], [0.5, 'CtBP', 'CdA', 'AiK', 'KiF', 'FpBP'], [0.5, 'CtBP', 'CdA', 'AiK', 'KiH', 'HpBP'], [0.5, 'CtBP', 'CdA', 'AiK', 'KiI', 'IpBP'], [0.5, 'CtBP', 'CdA', 'AiK', 'KiJ', 'JpBP'], [0.5, 'CtBP', 'CdA', 'AiK', 'KiK', 'KpBP'], [0.5, 'CtBP', 'CdA', 'AiK', 'KiL', 'LpBP'], [0.5, 'CtBP', 'CdA', 'AiL', 'LiA', 'ApBP'], [0.5, 'CtBP', 'CdA', 'AiL', 'LiB', 'BpBP'], [0.5, 'CtBP', 'CdA', 'AiL', 'LiG', 'GpBP'], [0.5, 'CtBP', 'CdA', 'AiL', 'LiD', 'DpBP'], [0.5, 'CtBP', 'CdA', 'AiL', 'LiE', 'EpBP'], [0.5, 'CtBP', 'CdA', 'AiL', 'LiF', 'FpBP'], [0.5, 'CtBP', 'CdA', 'AiL', 'LiH', 'HpBP'], [0.5, 'CtBP', 'CdA', 'AiL', 'LiI', 'IpBP'], [0.5, 'CtBP', 'CdA', 'AiL', 'LiJ', 'JpBP'], [0.5, 'CtBP', 'CdA', 'AiL', 'LiK', 'KpBP'], [0.5, 'CtBP', 'CdA', 'AiL', 'LiL', 'LpBP'], [0.5, 'CtBP', 'CuA', 'AiA', 'AiA', 'ApBP'], [0.5, 'CtBP', 'CuA', 'AiA', 'AiB', 'BpBP'], [0.5, 'CtBP', 'CuA', 'AiA', 'AiG', 'GpBP'], [0.5, 'CtBP', 'CuA', 'AiA', 'AiD', 'DpBP'], [0.5, 'CtBP', 'CuA', 'AiA', 'AiE', 'EpBP'], [0.5, 'CtBP', 'CuA', 'AiA', 'AiF', 'FpBP'], [0.5, 'CtBP', 'CuA', 'AiA', 'AiH', 'HpBP'], [0.5, 'CtBP', 'CuA', 'AiA', 'AiI', 'IpBP'], [0.5, 'CtBP', 'CuA', 'AiA', 'AiJ', 'JpBP'], [0.5, 'CtBP', 'CuA', 'AiA', 'AiK', 'KpBP'], [0.5, 'CtBP', 'CuA', 'AiA', 'AiL', 'LpBP'], [0.5, 'CtBP', 'CuA', 'AiB', 'BiA', 'ApBP'], [0.5, 'CtBP', 'CuA', 'AiB', 'BiB', 'BpBP'], [0.5, 'CtBP', 'CuA', 'AiB', 'BiG', 'GpBP'], [0.5, 'CtBP', 'CuA', 'AiB', 'BiD', 'DpBP'], [0.5, 'CtBP', 'CuA', 'AiB', 'BiE', 'EpBP'], [0.5, 'CtBP', 'CuA', 'AiB', 'BiF', 'FpBP'], [0.5, 'CtBP', 'CuA', 'AiB', 'BiH', 'HpBP'], [0.5, 'CtBP', 'CuA', 'AiB', 'BiI', 'IpBP'], [0.5, 'CtBP', 'CuA', 'AiB', 'BiJ', 'JpBP'], [0.5, 'CtBP', 'CuA', 'AiB', 'BiK', 'KpBP'], [0.5, 'CtBP', 'CuA', 'AiB', 'BiL', 'LpBP'], [0.5, 'CtBP', 'CuA', 'AiG', 'GiA', 'ApBP'], [0.5, 'CtBP', 'CuA', 'AiG', 'GiB', 'BpBP'], [0.5, 'CtBP', 'CuA', 'AiG', 'GiG', 'GpBP'], [0.5, 'CtBP', 'CuA', 'AiG', 'GiD', 'DpBP'], [0.5, 'CtBP', 'CuA', 'AiG', 'GiE', 'EpBP'], [0.5, 'CtBP', 'CuA', 'AiG', 'GiF', 'FpBP'], [0.5, 'CtBP', 'CuA', 'AiG', 'GiH', 'HpBP'], [0.5, 'CtBP', 'CuA', 'AiG', 'GiI', 'IpBP'], [0.5, 'CtBP', 'CuA', 'AiG', 'GiJ', 'JpBP'], [0.5, 'CtBP', 'CuA', 'AiG', 'GiK', 'KpBP'], [0.5, 'CtBP', 'CuA', 'AiG', 'GiL', 'LpBP'], [0.5, 'CtBP', 'CuA', 'AiD', 'DiA', 'ApBP'], [0.5, 'CtBP', 'CuA', 'AiD', 'DiB', 'BpBP'], [0.5, 'CtBP', 'CuA', 'AiD', 'DiG', 'GpBP'], [0.5, 'CtBP', 'CuA', 'AiD', 'DiD', 'DpBP'], [0.5, 'CtBP', 'CuA', 'AiD', 'DiE', 'EpBP'], [0.5, 'CtBP', 'CuA', 'AiD', 'DiF', 'FpBP'], [0.5, 'CtBP', 'CuA', 'AiD', 'DiH', 'HpBP'], [0.5, 'CtBP', 'CuA', 'AiD', 'DiI', 'IpBP'], [0.5, 'CtBP', 'CuA', 'AiD', 'DiJ', 'JpBP'], [0.5, 'CtBP', 'CuA', 'AiD', 'DiK', 'KpBP'], [0.5, 'CtBP', 'CuA', 'AiD', 'DiL', 'LpBP'], [0.5, 'CtBP', 'CuA', 'AiE', 'EiA', 'ApBP'], [0.5, 'CtBP', 'CuA', 'AiE', 'EiB', 'BpBP'], [0.5, 'CtBP', 'CuA', 'AiE', 'EiG', 'GpBP'], [0.5, 'CtBP', 'CuA', 'AiE', 'EiD', 'DpBP'], [0.5, 'CtBP', 'CuA', 'AiE', 'EiE', 'EpBP'], [0.5, 'CtBP', 'CuA', 'AiE', 'EiF', 'FpBP'], [0.5, 'CtBP', 'CuA', 'AiE', 'EiH', 'HpBP'], [0.5, 'CtBP', 'CuA', 'AiE', 'EiI', 'IpBP'], [0.5, 'CtBP', 'CuA', 'AiE', 'EiJ', 'JpBP'], [0.5, 'CtBP', 'CuA', 'AiE', 'EiK', 'KpBP'], [0.5, 'CtBP', 'CuA', 'AiE', 'EiL', 'LpBP'], [0.5, 'CtBP', 'CuA', 'AiF', 'FiA', 'ApBP'], [0.5, 'CtBP', 'CuA', 'AiF', 'FiB', 'BpBP'], [0.5, 'CtBP', 'CuA', 'AiF', 'FiG', 'GpBP'], [0.5, 'CtBP', 'CuA', 'AiF', 'FiD', 'DpBP'], [0.5, 'CtBP', 'CuA', 'AiF', 'FiE', 'EpBP'], [0.5, 'CtBP', 'CuA', 'AiF', 'FiF', 'FpBP'], [0.5, 'CtBP', 'CuA', 'AiF', 'FiH', 'HpBP'], [0.5, 'CtBP', 'CuA', 'AiF', 'FiI', 'IpBP'], [0.5, 'CtBP', 'CuA', 'AiF', 'FiJ', 'JpBP'], [0.5, 'CtBP', 'CuA', 'AiF', 'FiK', 'KpBP'], [0.5, 'CtBP', 'CuA', 'AiF', 'FiL', 'LpBP'], [0.5, 'CtBP', 'CuA', 'AiH', 'HiA', 'ApBP'], [0.5, 'CtBP', 'CuA', 'AiH', 'HiB', 'BpBP'], [0.5, 'CtBP', 'CuA', 'AiH', 'HiG', 'GpBP'], [0.5, 'CtBP', 'CuA', 'AiH', 'HiD', 'DpBP'], [0.5, 'CtBP', 'CuA', 'AiH', 'HiE', 'EpBP'], [0.5, 'CtBP', 'CuA', 'AiH', 'HiF', 'FpBP'], [0.5, 'CtBP', 'CuA', 'AiH', 'HiH', 'HpBP'], [0.5, 'CtBP', 'CuA', 'AiH', 'HiI', 'IpBP'], [0.5, 'CtBP', 'CuA', 'AiH', 'HiJ', 'JpBP'], [0.5, 'CtBP', 'CuA', 'AiH', 'HiK', 'KpBP'], [0.5, 'CtBP', 'CuA', 'AiH', 'HiL', 'LpBP'], [0.5, 'CtBP', 'CuA', 'AiI', 'IiA', 'ApBP'], [0.5, 'CtBP', 'CuA', 'AiI', 'IiB', 'BpBP'], [0.5, 'CtBP', 'CuA', 'AiI', 'IiG', 'GpBP'], [0.5, 'CtBP', 'CuA', 'AiI', 'IiD', 'DpBP'], [0.5, 'CtBP', 'CuA', 'AiI', 'IiE', 'EpBP'], [0.5, 'CtBP', 'CuA', 'AiI', 'IiF', 'FpBP'], [0.5, 'CtBP', 'CuA', 'AiI', 'IiH', 'HpBP'], [0.5, 'CtBP', 'CuA', 'AiI', 'IiI', 'IpBP'], [0.5, 'CtBP', 'CuA', 'AiI', 'IiJ', 'JpBP'], [0.5, 'CtBP', 'CuA', 'AiI', 'IiK', 'KpBP'], [0.5, 'CtBP', 'CuA', 'AiI', 'IiL', 'LpBP'], [0.5, 'CtBP', 'CuA', 'AiJ', 'JiA', 'ApBP'], [0.5, 'CtBP', 'CuA', 'AiJ', 'JiB', 'BpBP'], [0.5, 'CtBP', 'CuA', 'AiJ', 'JiG', 'GpBP'], [0.5, 'CtBP', 'CuA', 'AiJ', 'JiD', 'DpBP'], [0.5, 'CtBP', 'CuA', 'AiJ', 'JiE', 'EpBP'], [0.5, 'CtBP', 'CuA', 'AiJ', 'JiF', 'FpBP'], [0.5, 'CtBP', 'CuA', 'AiJ', 'JiH', 'HpBP'], [0.5, 'CtBP', 'CuA', 'AiJ', 'JiI', 'IpBP'], [0.5, 'CtBP', 'CuA', 'AiJ', 'JiJ', 'JpBP'], [0.5, 'CtBP', 'CuA', 'AiJ', 'JiK', 'KpBP'], [0.5, 'CtBP', 'CuA', 'AiJ', 'JiL', 'LpBP'], [0.5, 'CtBP', 'CuA', 'AiK', 'KiA', 'ApBP'], [0.5, 'CtBP', 'CuA', 'AiK', 'KiB', 'BpBP'], [0.5, 'CtBP', 'CuA', 'AiK', 'KiG', 'GpBP'], [0.5, 'CtBP', 'CuA', 'AiK', 'KiD', 'DpBP'], [0.5, 'CtBP', 'CuA', 'AiK', 'KiE', 'EpBP'], [0.5, 'CtBP', 'CuA', 'AiK', 'KiF', 'FpBP'], [0.5, 'CtBP', 'CuA', 'AiK', 'KiH', 'HpBP'], [0.5, 'CtBP', 'CuA', 'AiK', 'KiI', 'IpBP'], [0.5, 'CtBP', 'CuA', 'AiK', 'KiJ', 'JpBP'], [0.5, 'CtBP', 'CuA', 'AiK', 'KiK', 'KpBP'], [0.5, 'CtBP', 'CuA', 'AiK', 'KiL', 'LpBP'], [0.5, 'CtBP', 'CuA', 'AiL', 'LiA', 'ApBP'], [0.5, 'CtBP', 'CuA', 'AiL', 'LiB', 'BpBP'], [0.5, 'CtBP', 'CuA', 'AiL', 'LiG', 'GpBP'], [0.5, 'CtBP', 'CuA', 'AiL', 'LiD', 'DpBP'], [0.5, 'CtBP', 'CuA', 'AiL', 'LiE', 'EpBP'], [0.5, 'CtBP', 'CuA', 'AiL', 'LiF', 'FpBP'], [0.5, 'CtBP', 'CuA', 'AiL', 'LiH', 'HpBP'], [0.5, 'CtBP', 'CuA', 'AiL', 'LiI', 'IpBP'], [0.5, 'CtBP', 'CuA', 'AiL', 'LiJ', 'JpBP'], [0.5, 'CtBP', 'CuA', 'AiL', 'LiK', 'KpBP'], [0.5, 'CtBP', 'CuA', 'AiL', 'LiL', 'LpBP'], [0.5, 'CtBP', 'CdB', 'BiA', 'AiA', 'ApBP'], [0.5, 'CtBP', 'CdB', 'BiA', 'AiB', 'BpBP'], [0.5, 'CtBP', 'CdB', 'BiA', 'AiG', 'GpBP'], [0.5, 'CtBP', 'CdB', 'BiA', 'AiD', 'DpBP'], [0.5, 'CtBP', 'CdB', 'BiA', 'AiE', 'EpBP'], [0.5, 'CtBP', 'CdB', 'BiA', 'AiF', 'FpBP'], [0.5, 'CtBP', 'CdB', 'BiA', 'AiH', 'HpBP'], [0.5, 'CtBP', 'CdB', 'BiA', 'AiI', 'IpBP'], [0.5, 'CtBP', 'CdB', 'BiA', 'AiJ', 'JpBP'], [0.5, 'CtBP', 'CdB', 'BiA', 'AiK', 'KpBP'], [0.5, 'CtBP', 'CdB', 'BiA', 'AiL', 'LpBP'], [0.5, 'CtBP', 'CdB', 'BiB', 'BiA', 'ApBP'], [0.5, 'CtBP', 'CdB', 'BiB', 'BiB', 'BpBP'], [0.5, 'CtBP', 'CdB', 'BiB', 'BiG', 'GpBP'], [0.5, 'CtBP', 'CdB', 'BiB', 'BiD', 'DpBP'], [0.5, 'CtBP', 'CdB', 'BiB', 'BiE', 'EpBP'], [0.5, 'CtBP', 'CdB', 'BiB', 'BiF', 'FpBP'], [0.5, 'CtBP', 'CdB', 'BiB', 'BiH', 'HpBP'], [0.5, 'CtBP', 'CdB', 'BiB', 'BiI', 'IpBP'], [0.5, 'CtBP', 'CdB', 'BiB', 'BiJ', 'JpBP'], [0.5, 'CtBP', 'CdB', 'BiB', 'BiK', 'KpBP'], [0.5, 'CtBP', 'CdB', 'BiB', 'BiL', 'LpBP'], [0.5, 'CtBP', 'CdB', 'BiG', 'GiA', 'ApBP'], [0.5, 'CtBP', 'CdB', 'BiG', 'GiB', 'BpBP'], [0.5, 'CtBP', 'CdB', 'BiG', 'GiG', 'GpBP'], [0.5, 'CtBP', 'CdB', 'BiG', 'GiD', 'DpBP'], [0.5, 'CtBP', 'CdB', 'BiG', 'GiE', 'EpBP'], [0.5, 'CtBP', 'CdB', 'BiG', 'GiF', 'FpBP'], [0.5, 'CtBP', 'CdB', 'BiG', 'GiH', 'HpBP'], [0.5, 'CtBP', 'CdB', 'BiG', 'GiI', 'IpBP'], [0.5, 'CtBP', 'CdB', 'BiG', 'GiJ', 'JpBP'], [0.5, 'CtBP', 'CdB', 'BiG', 'GiK', 'KpBP'], [0.5, 'CtBP', 'CdB', 'BiG', 'GiL', 'LpBP'], [0.5, 'CtBP', 'CdB', 'BiD', 'DiA', 'ApBP'], [0.5, 'CtBP', 'CdB', 'BiD', 'DiB', 'BpBP'], [0.5, 'CtBP', 'CdB', 'BiD', 'DiG', 'GpBP'], [0.5, 'CtBP', 'CdB', 'BiD', 'DiD', 'DpBP'], [0.5, 'CtBP', 'CdB', 'BiD', 'DiE', 'EpBP'], [0.5, 'CtBP', 'CdB', 'BiD', 'DiF', 'FpBP'], [0.5, 'CtBP', 'CdB', 'BiD', 'DiH', 'HpBP'], [0.5, 'CtBP', 'CdB', 'BiD', 'DiI', 'IpBP'], [0.5, 'CtBP', 'CdB', 'BiD', 'DiJ', 'JpBP'], [0.5, 'CtBP', 'CdB', 'BiD', 'DiK', 'KpBP'], [0.5, 'CtBP', 'CdB', 'BiD', 'DiL', 'LpBP'], [0.5, 'CtBP', 'CdB', 'BiE', 'EiA', 'ApBP'], [0.5, 'CtBP', 'CdB', 'BiE', 'EiB', 'BpBP'], [0.5, 'CtBP', 'CdB', 'BiE', 'EiG', 'GpBP'], [0.5, 'CtBP', 'CdB', 'BiE', 'EiD', 'DpBP'], [0.5, 'CtBP', 'CdB', 'BiE', 'EiE', 'EpBP'], [0.5, 'CtBP', 'CdB', 'BiE', 'EiF', 'FpBP'], [0.5, 'CtBP', 'CdB', 'BiE', 'EiH', 'HpBP'], [0.5, 'CtBP', 'CdB', 'BiE', 'EiI', 'IpBP'], [0.5, 'CtBP', 'CdB', 'BiE', 'EiJ', 'JpBP'], [0.5, 'CtBP', 'CdB', 'BiE', 'EiK', 'KpBP'], [0.5, 'CtBP', 'CdB', 'BiE', 'EiL', 'LpBP'], [0.5, 'CtBP', 'CdB', 'BiF', 'FiA', 'ApBP'], [0.5, 'CtBP', 'CdB', 'BiF', 'FiB', 'BpBP'], [0.5, 'CtBP', 'CdB', 'BiF', 'FiG', 'GpBP'], [0.5, 'CtBP', 'CdB', 'BiF', 'FiD', 'DpBP'], [0.5, 'CtBP', 'CdB', 'BiF', 'FiE', 'EpBP'], [0.5, 'CtBP', 'CdB', 'BiF', 'FiF', 'FpBP'], [0.5, 'CtBP', 'CdB', 'BiF', 'FiH', 'HpBP'], [0.5, 'CtBP', 'CdB', 'BiF', 'FiI', 'IpBP'], [0.5, 'CtBP', 'CdB', 'BiF', 'FiJ', 'JpBP'], [0.5, 'CtBP', 'CdB', 'BiF', 'FiK', 'KpBP'], [0.5, 'CtBP', 'CdB', 'BiF', 'FiL', 'LpBP'], [0.5, 'CtBP', 'CdB', 'BiH', 'HiA', 'ApBP'], [0.5, 'CtBP', 'CdB', 'BiH', 'HiB', 'BpBP'], [0.5, 'CtBP', 'CdB', 'BiH', 'HiG', 'GpBP'], [0.5, 'CtBP', 'CdB', 'BiH', 'HiD', 'DpBP'], [0.5, 'CtBP', 'CdB', 'BiH', 'HiE', 'EpBP'], [0.5, 'CtBP', 'CdB', 'BiH', 'HiF', 'FpBP'], [0.5, 'CtBP', 'CdB', 'BiH', 'HiH', 'HpBP'], [0.5, 'CtBP', 'CdB', 'BiH', 'HiI', 'IpBP'], [0.5, 'CtBP', 'CdB', 'BiH', 'HiJ', 'JpBP'], [0.5, 'CtBP', 'CdB', 'BiH', 'HiK', 'KpBP'], [0.5, 'CtBP', 'CdB', 'BiH', 'HiL', 'LpBP'], [0.5, 'CtBP', 'CdB', 'BiI', 'IiA', 'ApBP'], [0.5, 'CtBP', 'CdB', 'BiI', 'IiB', 'BpBP'], [0.5, 'CtBP', 'CdB', 'BiI', 'IiG', 'GpBP'], [0.5, 'CtBP', 'CdB', 'BiI', 'IiD', 'DpBP'], [0.5, 'CtBP', 'CdB', 'BiI', 'IiE', 'EpBP'], [0.5, 'CtBP', 'CdB', 'BiI', 'IiF', 'FpBP'], [0.5, 'CtBP', 'CdB', 'BiI', 'IiH', 'HpBP'], [0.5, 'CtBP', 'CdB', 'BiI', 'IiI', 'IpBP'], [0.5, 'CtBP', 'CdB', 'BiI', 'IiJ', 'JpBP'], [0.5, 'CtBP', 'CdB', 'BiI', 'IiK', 'KpBP'], [0.5, 'CtBP', 'CdB', 'BiI', 'IiL', 'LpBP'], [0.5, 'CtBP', 'CdB', 'BiJ', 'JiA', 'ApBP'], [0.5, 'CtBP', 'CdB', 'BiJ', 'JiB', 'BpBP'], [0.5, 'CtBP', 'CdB', 'BiJ', 'JiG', 'GpBP'], [0.5, 'CtBP', 'CdB', 'BiJ', 'JiD', 'DpBP'], [0.5, 'CtBP', 'CdB', 'BiJ', 'JiE', 'EpBP'], [0.5, 'CtBP', 'CdB', 'BiJ', 'JiF', 'FpBP'], [0.5, 'CtBP', 'CdB', 'BiJ', 'JiH', 'HpBP'], [0.5, 'CtBP', 'CdB', 'BiJ', 'JiI', 'IpBP'], [0.5, 'CtBP', 'CdB', 'BiJ', 'JiJ', 'JpBP'], [0.5, 'CtBP', 'CdB', 'BiJ', 'JiK', 'KpBP'], [0.5, 'CtBP', 'CdB', 'BiJ', 'JiL', 'LpBP'], [0.5, 'CtBP', 'CdB', 'BiK', 'KiA', 'ApBP'], [0.5, 'CtBP', 'CdB', 'BiK', 'KiB', 'BpBP'], [0.5, 'CtBP', 'CdB', 'BiK', 'KiG', 'GpBP'], [0.5, 'CtBP', 'CdB', 'BiK', 'KiD', 'DpBP'], [0.5, 'CtBP', 'CdB', 'BiK', 'KiE', 'EpBP'], [0.5, 'CtBP', 'CdB', 'BiK', 'KiF', 'FpBP'], [0.5, 'CtBP', 'CdB', 'BiK', 'KiH', 'HpBP'], [0.5, 'CtBP', 'CdB', 'BiK', 'KiI', 'IpBP'], [0.5, 'CtBP', 'CdB', 'BiK', 'KiJ', 'JpBP'], [0.5, 'CtBP', 'CdB', 'BiK', 'KiK', 'KpBP'], [0.5, 'CtBP', 'CdB', 'BiK', 'KiL', 'LpBP'], [0.5, 'CtBP', 'CdB', 'BiL', 'LiA', 'ApBP'], [0.5, 'CtBP', 'CdB', 'BiL', 'LiB', 'BpBP'], [0.5, 'CtBP', 'CdB', 'BiL', 'LiG', 'GpBP'], [0.5, 'CtBP', 'CdB', 'BiL', 'LiD', 'DpBP'], [0.5, 'CtBP', 'CdB', 'BiL', 'LiE', 'EpBP'], [0.5, 'CtBP', 'CdB', 'BiL', 'LiF', 'FpBP'], [0.5, 'CtBP', 'CdB', 'BiL', 'LiH', 'HpBP'], [0.5, 'CtBP', 'CdB', 'BiL', 'LiI', 'IpBP'], [0.5, 'CtBP', 'CdB', 'BiL', 'LiJ', 'JpBP'], [0.5, 'CtBP', 'CdB', 'BiL', 'LiK', 'KpBP'], [0.5, 'CtBP', 'CdB', 'BiL', 'LiL', 'LpBP'], [0.5, 'CtBP', 'CuB', 'BiA', 'AiA', 'ApBP'], [0.5, 'CtBP', 'CuB', 'BiA', 'AiB', 'BpBP'], [0.5, 'CtBP', 'CuB', 'BiA', 'AiG', 'GpBP'], [0.5, 'CtBP', 'CuB', 'BiA', 'AiD', 'DpBP'], [0.5, 'CtBP', 'CuB', 'BiA', 'AiE', 'EpBP'], [0.5, 'CtBP', 'CuB', 'BiA', 'AiF', 'FpBP'], [0.5, 'CtBP', 'CuB', 'BiA', 'AiH', 'HpBP'], [0.5, 'CtBP', 'CuB', 'BiA', 'AiI', 'IpBP'], [0.5, 'CtBP', 'CuB', 'BiA', 'AiJ', 'JpBP'], [0.5, 'CtBP', 'CuB', 'BiA', 'AiK', 'KpBP'], [0.5, 'CtBP', 'CuB', 'BiA', 'AiL', 'LpBP'], [0.5, 'CtBP', 'CuB', 'BiB', 'BiA', 'ApBP'], [0.5, 'CtBP', 'CuB', 'BiB', 'BiB', 'BpBP'], [0.5, 'CtBP', 'CuB', 'BiB', 'BiG', 'GpBP'], [0.5, 'CtBP', 'CuB', 'BiB', 'BiD', 'DpBP'], [0.5, 'CtBP', 'CuB', 'BiB', 'BiE', 'EpBP'], [0.5, 'CtBP', 'CuB', 'BiB', 'BiF', 'FpBP'], [0.5, 'CtBP', 'CuB', 'BiB', 'BiH', 'HpBP'], [0.5, 'CtBP', 'CuB', 'BiB', 'BiI', 'IpBP'], [0.5, 'CtBP', 'CuB', 'BiB', 'BiJ', 'JpBP'], [0.5, 'CtBP', 'CuB', 'BiB', 'BiK', 'KpBP'], [0.5, 'CtBP', 'CuB', 'BiB', 'BiL', 'LpBP'], [0.5, 'CtBP', 'CuB', 'BiG', 'GiA', 'ApBP'], [0.5, 'CtBP', 'CuB', 'BiG', 'GiB', 'BpBP'], [0.5, 'CtBP', 'CuB', 'BiG', 'GiG', 'GpBP'], [0.5, 'CtBP', 'CuB', 'BiG', 'GiD', 'DpBP'], [0.5, 'CtBP', 'CuB', 'BiG', 'GiE', 'EpBP'], [0.5, 'CtBP', 'CuB', 'BiG', 'GiF', 'FpBP'], [0.5, 'CtBP', 'CuB', 'BiG', 'GiH', 'HpBP'], [0.5, 'CtBP', 'CuB', 'BiG', 'GiI', 'IpBP'], [0.5, 'CtBP', 'CuB', 'BiG', 'GiJ', 'JpBP'], [0.5, 'CtBP', 'CuB', 'BiG', 'GiK', 'KpBP'], [0.5, 'CtBP', 'CuB', 'BiG', 'GiL', 'LpBP'], [0.5, 'CtBP', 'CuB', 'BiD', 'DiA', 'ApBP'], [0.5, 'CtBP', 'CuB', 'BiD', 'DiB', 'BpBP'], [0.5, 'CtBP', 'CuB', 'BiD', 'DiG', 'GpBP'], [0.5, 'CtBP', 'CuB', 'BiD', 'DiD', 'DpBP'], [0.5, 'CtBP', 'CuB', 'BiD', 'DiE', 'EpBP'], [0.5, 'CtBP', 'CuB', 'BiD', 'DiF', 'FpBP'], [0.5, 'CtBP', 'CuB', 'BiD', 'DiH', 'HpBP'], [0.5, 'CtBP', 'CuB', 'BiD', 'DiI', 'IpBP'], [0.5, 'CtBP', 'CuB', 'BiD', 'DiJ', 'JpBP'], [0.5, 'CtBP', 'CuB', 'BiD', 'DiK', 'KpBP'], [0.5, 'CtBP', 'CuB', 'BiD', 'DiL', 'LpBP'], [0.5, 'CtBP', 'CuB', 'BiE', 'EiA', 'ApBP'], [0.5, 'CtBP', 'CuB', 'BiE', 'EiB', 'BpBP'], [0.5, 'CtBP', 'CuB', 'BiE', 'EiG', 'GpBP'], [0.5, 'CtBP', 'CuB', 'BiE', 'EiD', 'DpBP'], [0.5, 'CtBP', 'CuB', 'BiE', 'EiE', 'EpBP'], [0.5, 'CtBP', 'CuB', 'BiE', 'EiF', 'FpBP'], [0.5, 'CtBP', 'CuB', 'BiE', 'EiH', 'HpBP'], [0.5, 'CtBP', 'CuB', 'BiE', 'EiI', 'IpBP'], [0.5, 'CtBP', 'CuB', 'BiE', 'EiJ', 'JpBP'], [0.5, 'CtBP', 'CuB', 'BiE', 'EiK', 'KpBP'], [0.5, 'CtBP', 'CuB', 'BiE', 'EiL', 'LpBP'], [0.5, 'CtBP', 'CuB', 'BiF', 'FiA', 'ApBP'], [0.5, 'CtBP', 'CuB', 'BiF', 'FiB', 'BpBP'], [0.5, 'CtBP', 'CuB', 'BiF', 'FiG', 'GpBP'], [0.5, 'CtBP', 'CuB', 'BiF', 'FiD', 'DpBP'], [0.5, 'CtBP', 'CuB', 'BiF', 'FiE', 'EpBP'], [0.5, 'CtBP', 'CuB', 'BiF', 'FiF', 'FpBP'], [0.5, 'CtBP', 'CuB', 'BiF', 'FiH', 'HpBP'], [0.5, 'CtBP', 'CuB', 'BiF', 'FiI', 'IpBP'], [0.5, 'CtBP', 'CuB', 'BiF', 'FiJ', 'JpBP'], [0.5, 'CtBP', 'CuB', 'BiF', 'FiK', 'KpBP'], [0.5, 'CtBP', 'CuB', 'BiF', 'FiL', 'LpBP'], [0.5, 'CtBP', 'CuB', 'BiH', 'HiA', 'ApBP'], [0.5, 'CtBP', 'CuB', 'BiH', 'HiB', 'BpBP'], [0.5, 'CtBP', 'CuB', 'BiH', 'HiG', 'GpBP'], [0.5, 'CtBP', 'CuB', 'BiH', 'HiD', 'DpBP'], [0.5, 'CtBP', 'CuB', 'BiH', 'HiE', 'EpBP'], [0.5, 'CtBP', 'CuB', 'BiH', 'HiF', 'FpBP'], [0.5, 'CtBP', 'CuB', 'BiH', 'HiH', 'HpBP'], [0.5, 'CtBP', 'CuB', 'BiH', 'HiI', 'IpBP'], [0.5, 'CtBP', 'CuB', 'BiH', 'HiJ', 'JpBP'], [0.5, 'CtBP', 'CuB', 'BiH', 'HiK', 'KpBP'], [0.5, 'CtBP', 'CuB', 'BiH', 'HiL', 'LpBP'], [0.5, 'CtBP', 'CuB', 'BiI', 'IiA', 'ApBP'], [0.5, 'CtBP', 'CuB', 'BiI', 'IiB', 'BpBP'], [0.5, 'CtBP', 'CuB', 'BiI', 'IiG', 'GpBP'], [0.5, 'CtBP', 'CuB', 'BiI', 'IiD', 'DpBP'], [0.5, 'CtBP', 'CuB', 'BiI', 'IiE', 'EpBP'], [0.5, 'CtBP', 'CuB', 'BiI', 'IiF', 'FpBP'], [0.5, 'CtBP', 'CuB', 'BiI', 'IiH', 'HpBP'], [0.5, 'CtBP', 'CuB', 'BiI', 'IiI', 'IpBP'], [0.5, 'CtBP', 'CuB', 'BiI', 'IiJ', 'JpBP'], [0.5, 'CtBP', 'CuB', 'BiI', 'IiK', 'KpBP'], [0.5, 'CtBP', 'CuB', 'BiI', 'IiL', 'LpBP'], [0.5, 'CtBP', 'CuB', 'BiJ', 'JiA', 'ApBP'], [0.5, 'CtBP', 'CuB', 'BiJ', 'JiB', 'BpBP'], [0.5, 'CtBP', 'CuB', 'BiJ', 'JiG', 'GpBP'], [0.5, 'CtBP', 'CuB', 'BiJ', 'JiD', 'DpBP'], [0.5, 'CtBP', 'CuB', 'BiJ', 'JiE', 'EpBP'], [0.5, 'CtBP', 'CuB', 'BiJ', 'JiF', 'FpBP'], [0.5, 'CtBP', 'CuB', 'BiJ', 'JiH', 'HpBP'], [0.5, 'CtBP', 'CuB', 'BiJ', 'JiI', 'IpBP'], [0.5, 'CtBP', 'CuB', 'BiJ', 'JiJ', 'JpBP'], [0.5, 'CtBP', 'CuB', 'BiJ', 'JiK', 'KpBP'], [0.5, 'CtBP', 'CuB', 'BiJ', 'JiL', 'LpBP'], [0.5, 'CtBP', 'CuB', 'BiK', 'KiA', 'ApBP'], [0.5, 'CtBP', 'CuB', 'BiK', 'KiB', 'BpBP'], [0.5, 'CtBP', 'CuB', 'BiK', 'KiG', 'GpBP'], [0.5, 'CtBP', 'CuB', 'BiK', 'KiD', 'DpBP'], [0.5, 'CtBP', 'CuB', 'BiK', 'KiE', 'EpBP'], [0.5, 'CtBP', 'CuB', 'BiK', 'KiF', 'FpBP'], [0.5, 'CtBP', 'CuB', 'BiK', 'KiH', 'HpBP'], [0.5, 'CtBP', 'CuB', 'BiK', 'KiI', 'IpBP'], [0.5, 'CtBP', 'CuB', 'BiK', 'KiJ', 'JpBP'], [0.5, 'CtBP', 'CuB', 'BiK', 'KiK', 'KpBP'], [0.5, 'CtBP', 'CuB', 'BiK', 'KiL', 'LpBP'], [0.5, 'CtBP', 'CuB', 'BiL', 'LiA', 'ApBP'], [0.5, 'CtBP', 'CuB', 'BiL', 'LiB', 'BpBP'], [0.5, 'CtBP', 'CuB', 'BiL', 'LiG', 'GpBP'], [0.5, 'CtBP', 'CuB', 'BiL', 'LiD', 'DpBP'], [0.5, 'CtBP', 'CuB', 'BiL', 'LiE', 'EpBP'], [0.5, 'CtBP', 'CuB', 'BiL', 'LiF', 'FpBP'], [0.5, 'CtBP', 'CuB', 'BiL', 'LiH', 'HpBP'], [0.5, 'CtBP', 'CuB', 'BiL', 'LiI', 'IpBP'], [0.5, 'CtBP', 'CuB', 'BiL', 'LiJ', 'JpBP'], [0.5, 'CtBP', 'CuB', 'BiL', 'LiK', 'KpBP'], [0.5, 'CtBP', 'CuB', 'BiL', 'LiL', 'LpBP'], [0.5, 'CtBP', 'CdG', 'GiA', 'AiA', 'ApBP'], [0.5, 'CtBP', 'CdG', 'GiA', 'AiB', 'BpBP'], [0.5, 'CtBP', 'CdG', 'GiA', 'AiG', 'GpBP'], [0.5, 'CtBP', 'CdG', 'GiA', 'AiD', 'DpBP'], [0.5, 'CtBP', 'CdG', 'GiA', 'AiE', 'EpBP'], [0.5, 'CtBP', 'CdG', 'GiA', 'AiF', 'FpBP'], [0.5, 'CtBP', 'CdG', 'GiA', 'AiH', 'HpBP'], [0.5, 'CtBP', 'CdG', 'GiA', 'AiI', 'IpBP'], [0.5, 'CtBP', 'CdG', 'GiA', 'AiJ', 'JpBP'], [0.5, 'CtBP', 'CdG', 'GiA', 'AiK', 'KpBP'], [0.5, 'CtBP', 'CdG', 'GiA', 'AiL', 'LpBP'], [0.5, 'CtBP', 'CdG', 'GiB', 'BiA', 'ApBP'], [0.5, 'CtBP', 'CdG', 'GiB', 'BiB', 'BpBP'], [0.5, 'CtBP', 'CdG', 'GiB', 'BiG', 'GpBP'], [0.5, 'CtBP', 'CdG', 'GiB', 'BiD', 'DpBP'], [0.5, 'CtBP', 'CdG', 'GiB', 'BiE', 'EpBP'], [0.5, 'CtBP', 'CdG', 'GiB', 'BiF', 'FpBP'], [0.5, 'CtBP', 'CdG', 'GiB', 'BiH', 'HpBP'], [0.5, 'CtBP', 'CdG', 'GiB', 'BiI', 'IpBP'], [0.5, 'CtBP', 'CdG', 'GiB', 'BiJ', 'JpBP'], [0.5, 'CtBP', 'CdG', 'GiB', 'BiK', 'KpBP'], [0.5, 'CtBP', 'CdG', 'GiB', 'BiL', 'LpBP'], [0.5, 'CtBP', 'CdG', 'GiG', 'GiA', 'ApBP'], [0.5, 'CtBP', 'CdG', 'GiG', 'GiB', 'BpBP'], [0.5, 'CtBP', 'CdG', 'GiG', 'GiG', 'GpBP'], [0.5, 'CtBP', 'CdG', 'GiG', 'GiD', 'DpBP'], [0.5, 'CtBP', 'CdG', 'GiG', 'GiE', 'EpBP'], [0.5, 'CtBP', 'CdG', 'GiG', 'GiF', 'FpBP'], [0.5, 'CtBP', 'CdG', 'GiG', 'GiH', 'HpBP'], [0.5, 'CtBP', 'CdG', 'GiG', 'GiI', 'IpBP'], [0.5, 'CtBP', 'CdG', 'GiG', 'GiJ', 'JpBP'], [0.5, 'CtBP', 'CdG', 'GiG', 'GiK', 'KpBP'], [0.5, 'CtBP', 'CdG', 'GiG', 'GiL', 'LpBP'], [0.5, 'CtBP', 'CdG', 'GiD', 'DiA', 'ApBP'], [0.5, 'CtBP', 'CdG', 'GiD', 'DiB', 'BpBP'], [0.5, 'CtBP', 'CdG', 'GiD', 'DiG', 'GpBP'], [0.5, 'CtBP', 'CdG', 'GiD', 'DiD', 'DpBP'], [0.5, 'CtBP', 'CdG', 'GiD', 'DiE', 'EpBP'], [0.5, 'CtBP', 'CdG', 'GiD', 'DiF', 'FpBP'], [0.5, 'CtBP', 'CdG', 'GiD', 'DiH', 'HpBP'], [0.5, 'CtBP', 'CdG', 'GiD', 'DiI', 'IpBP'], [0.5, 'CtBP', 'CdG', 'GiD', 'DiJ', 'JpBP'], [0.5, 'CtBP', 'CdG', 'GiD', 'DiK', 'KpBP'], [0.5, 'CtBP', 'CdG', 'GiD', 'DiL', 'LpBP'], [0.5, 'CtBP', 'CdG', 'GiE', 'EiA', 'ApBP'], [0.5, 'CtBP', 'CdG', 'GiE', 'EiB', 'BpBP'], [0.5, 'CtBP', 'CdG', 'GiE', 'EiG', 'GpBP'], [0.5, 'CtBP', 'CdG', 'GiE', 'EiD', 'DpBP'], [0.5, 'CtBP', 'CdG', 'GiE', 'EiE', 'EpBP'], [0.5, 'CtBP', 'CdG', 'GiE', 'EiF', 'FpBP'], [0.5, 'CtBP', 'CdG', 'GiE', 'EiH', 'HpBP'], [0.5, 'CtBP', 'CdG', 'GiE', 'EiI', 'IpBP'], [0.5, 'CtBP', 'CdG', 'GiE', 'EiJ', 'JpBP'], [0.5, 'CtBP', 'CdG', 'GiE', 'EiK', 'KpBP'], [0.5, 'CtBP', 'CdG', 'GiE', 'EiL', 'LpBP'], [0.5, 'CtBP', 'CdG', 'GiF', 'FiA', 'ApBP'], [0.5, 'CtBP', 'CdG', 'GiF', 'FiB', 'BpBP'], [0.5, 'CtBP', 'CdG', 'GiF', 'FiG', 'GpBP'], [0.5, 'CtBP', 'CdG', 'GiF', 'FiD', 'DpBP'], [0.5, 'CtBP', 'CdG', 'GiF', 'FiE', 'EpBP'], [0.5, 'CtBP', 'CdG', 'GiF', 'FiF', 'FpBP'], [0.5, 'CtBP', 'CdG', 'GiF', 'FiH', 'HpBP'], [0.5, 'CtBP', 'CdG', 'GiF', 'FiI', 'IpBP'], [0.5, 'CtBP', 'CdG', 'GiF', 'FiJ', 'JpBP'], [0.5, 'CtBP', 'CdG', 'GiF', 'FiK', 'KpBP'], [0.5, 'CtBP', 'CdG', 'GiF', 'FiL', 'LpBP'], [0.5, 'CtBP', 'CdG', 'GiH', 'HiA', 'ApBP'], [0.5, 'CtBP', 'CdG', 'GiH', 'HiB', 'BpBP'], [0.5, 'CtBP', 'CdG', 'GiH', 'HiG', 'GpBP'], [0.5, 'CtBP', 'CdG', 'GiH', 'HiD', 'DpBP'], [0.5, 'CtBP', 'CdG', 'GiH', 'HiE', 'EpBP'], [0.5, 'CtBP', 'CdG', 'GiH', 'HiF', 'FpBP'], [0.5, 'CtBP', 'CdG', 'GiH', 'HiH', 'HpBP'], [0.5, 'CtBP', 'CdG', 'GiH', 'HiI', 'IpBP'], [0.5, 'CtBP', 'CdG', 'GiH', 'HiJ', 'JpBP'], [0.5, 'CtBP', 'CdG', 'GiH', 'HiK', 'KpBP'], [0.5, 'CtBP', 'CdG', 'GiH', 'HiL', 'LpBP'], [0.5, 'CtBP', 'CdG', 'GiI', 'IiA', 'ApBP'], [0.5, 'CtBP', 'CdG', 'GiI', 'IiB', 'BpBP'], [0.5, 'CtBP', 'CdG', 'GiI', 'IiG', 'GpBP'], [0.5, 'CtBP', 'CdG', 'GiI', 'IiD', 'DpBP'], [0.5, 'CtBP', 'CdG', 'GiI', 'IiE', 'EpBP'], [0.5, 'CtBP', 'CdG', 'GiI', 'IiF', 'FpBP'], [0.5, 'CtBP', 'CdG', 'GiI', 'IiH', 'HpBP'], [0.5, 'CtBP', 'CdG', 'GiI', 'IiI', 'IpBP'], [0.5, 'CtBP', 'CdG', 'GiI', 'IiJ', 'JpBP'], [0.5, 'CtBP', 'CdG', 'GiI', 'IiK', 'KpBP'], [0.5, 'CtBP', 'CdG', 'GiI', 'IiL', 'LpBP'], [0.5, 'CtBP', 'CdG', 'GiJ', 'JiA', 'ApBP'], [0.5, 'CtBP', 'CdG', 'GiJ', 'JiB', 'BpBP'], [0.5, 'CtBP', 'CdG', 'GiJ', 'JiG', 'GpBP'], [0.5, 'CtBP', 'CdG', 'GiJ', 'JiD', 'DpBP'], [0.5, 'CtBP', 'CdG', 'GiJ', 'JiE', 'EpBP'], [0.5, 'CtBP', 'CdG', 'GiJ', 'JiF', 'FpBP'], [0.5, 'CtBP', 'CdG', 'GiJ', 'JiH', 'HpBP'], [0.5, 'CtBP', 'CdG', 'GiJ', 'JiI', 'IpBP'], [0.5, 'CtBP', 'CdG', 'GiJ', 'JiJ', 'JpBP'], [0.5, 'CtBP', 'CdG', 'GiJ', 'JiK', 'KpBP'], [0.5, 'CtBP', 'CdG', 'GiJ', 'JiL', 'LpBP'], [0.5, 'CtBP', 'CdG', 'GiK', 'KiA', 'ApBP'], [0.5, 'CtBP', 'CdG', 'GiK', 'KiB', 'BpBP'], [0.5, 'CtBP', 'CdG', 'GiK', 'KiG', 'GpBP'], [0.5, 'CtBP', 'CdG', 'GiK', 'KiD', 'DpBP'], [0.5, 'CtBP', 'CdG', 'GiK', 'KiE', 'EpBP'], [0.5, 'CtBP', 'CdG', 'GiK', 'KiF', 'FpBP'], [0.5, 'CtBP', 'CdG', 'GiK', 'KiH', 'HpBP'], [0.5, 'CtBP', 'CdG', 'GiK', 'KiI', 'IpBP'], [0.5, 'CtBP', 'CdG', 'GiK', 'KiJ', 'JpBP'], [0.5, 'CtBP', 'CdG', 'GiK', 'KiK', 'KpBP'], [0.5, 'CtBP', 'CdG', 'GiK', 'KiL', 'LpBP'], [0.5, 'CtBP', 'CdG', 'GiL', 'LiA', 'ApBP'], [0.5, 'CtBP', 'CdG', 'GiL', 'LiB', 'BpBP'], [0.5, 'CtBP', 'CdG', 'GiL', 'LiG', 'GpBP'], [0.5, 'CtBP', 'CdG', 'GiL', 'LiD', 'DpBP'], [0.5, 'CtBP', 'CdG', 'GiL', 'LiE', 'EpBP'], [0.5, 'CtBP', 'CdG', 'GiL', 'LiF', 'FpBP'], [0.5, 'CtBP', 'CdG', 'GiL', 'LiH', 'HpBP'], [0.5, 'CtBP', 'CdG', 'GiL', 'LiI', 'IpBP'], [0.5, 'CtBP', 'CdG', 'GiL', 'LiJ', 'JpBP'], [0.5, 'CtBP', 'CdG', 'GiL', 'LiK', 'KpBP'], [0.5, 'CtBP', 'CdG', 'GiL', 'LiL', 'LpBP'], [0.5, 'CtBP', 'CuG', 'GiA', 'AiA', 'ApBP'], [0.5, 'CtBP', 'CuG', 'GiA', 'AiB', 'BpBP'], [0.5, 'CtBP', 'CuG', 'GiA', 'AiG', 'GpBP'], [0.5, 'CtBP', 'CuG', 'GiA', 'AiD', 'DpBP'], [0.5, 'CtBP', 'CuG', 'GiA', 'AiE', 'EpBP'], [0.5, 'CtBP', 'CuG', 'GiA', 'AiF', 'FpBP'], [0.5, 'CtBP', 'CuG', 'GiA', 'AiH', 'HpBP'], [0.5, 'CtBP', 'CuG', 'GiA', 'AiI', 'IpBP'], [0.5, 'CtBP', 'CuG', 'GiA', 'AiJ', 'JpBP'], [0.5, 'CtBP', 'CuG', 'GiA', 'AiK', 'KpBP'], [0.5, 'CtBP', 'CuG', 'GiA', 'AiL', 'LpBP'], [0.5, 'CtBP', 'CuG', 'GiB', 'BiA', 'ApBP'], [0.5, 'CtBP', 'CuG', 'GiB', 'BiB', 'BpBP'], [0.5, 'CtBP', 'CuG', 'GiB', 'BiG', 'GpBP'], [0.5, 'CtBP', 'CuG', 'GiB', 'BiD', 'DpBP'], [0.5, 'CtBP', 'CuG', 'GiB', 'BiE', 'EpBP'], [0.5, 'CtBP', 'CuG', 'GiB', 'BiF', 'FpBP'], [0.5, 'CtBP', 'CuG', 'GiB', 'BiH', 'HpBP'], [0.5, 'CtBP', 'CuG', 'GiB', 'BiI', 'IpBP'], [0.5, 'CtBP', 'CuG', 'GiB', 'BiJ', 'JpBP'], [0.5, 'CtBP', 'CuG', 'GiB', 'BiK', 'KpBP'], [0.5, 'CtBP', 'CuG', 'GiB', 'BiL', 'LpBP'], [0.5, 'CtBP', 'CuG', 'GiG', 'GiA', 'ApBP'], [0.5, 'CtBP', 'CuG', 'GiG', 'GiB', 'BpBP'], [0.5, 'CtBP', 'CuG', 'GiG', 'GiG', 'GpBP'], [0.5, 'CtBP', 'CuG', 'GiG', 'GiD', 'DpBP'], [0.5, 'CtBP', 'CuG', 'GiG', 'GiE', 'EpBP'], [0.5, 'CtBP', 'CuG', 'GiG', 'GiF', 'FpBP'], [0.5, 'CtBP', 'CuG', 'GiG', 'GiH', 'HpBP'], [0.5, 'CtBP', 'CuG', 'GiG', 'GiI', 'IpBP'], [0.5, 'CtBP', 'CuG', 'GiG', 'GiJ', 'JpBP'], [0.5, 'CtBP', 'CuG', 'GiG', 'GiK', 'KpBP'], [0.5, 'CtBP', 'CuG', 'GiG', 'GiL', 'LpBP'], [0.5, 'CtBP', 'CuG', 'GiD', 'DiA', 'ApBP'], [0.5, 'CtBP', 'CuG', 'GiD', 'DiB', 'BpBP'], [0.5, 'CtBP', 'CuG', 'GiD', 'DiG', 'GpBP'], [0.5, 'CtBP', 'CuG', 'GiD', 'DiD', 'DpBP'], [0.5, 'CtBP', 'CuG', 'GiD', 'DiE', 'EpBP'], [0.5, 'CtBP', 'CuG', 'GiD', 'DiF', 'FpBP'], [0.5, 'CtBP', 'CuG', 'GiD', 'DiH', 'HpBP'], [0.5, 'CtBP', 'CuG', 'GiD', 'DiI', 'IpBP'], [0.5, 'CtBP', 'CuG', 'GiD', 'DiJ', 'JpBP'], [0.5, 'CtBP', 'CuG', 'GiD', 'DiK', 'KpBP'], [0.5, 'CtBP', 'CuG', 'GiD', 'DiL', 'LpBP'], [0.5, 'CtBP', 'CuG', 'GiE', 'EiA', 'ApBP'], [0.5, 'CtBP', 'CuG', 'GiE', 'EiB', 'BpBP'], [0.5, 'CtBP', 'CuG', 'GiE', 'EiG', 'GpBP'], [0.5, 'CtBP', 'CuG', 'GiE', 'EiD', 'DpBP'], [0.5, 'CtBP', 'CuG', 'GiE', 'EiE', 'EpBP'], [0.5, 'CtBP', 'CuG', 'GiE', 'EiF', 'FpBP'], [0.5, 'CtBP', 'CuG', 'GiE', 'EiH', 'HpBP'], [0.5, 'CtBP', 'CuG', 'GiE', 'EiI', 'IpBP'], [0.5, 'CtBP', 'CuG', 'GiE', 'EiJ', 'JpBP'], [0.5, 'CtBP', 'CuG', 'GiE', 'EiK', 'KpBP'], [0.5, 'CtBP', 'CuG', 'GiE', 'EiL', 'LpBP'], [0.5, 'CtBP', 'CuG', 'GiF', 'FiA', 'ApBP'], [0.5, 'CtBP', 'CuG', 'GiF', 'FiB', 'BpBP'], [0.5, 'CtBP', 'CuG', 'GiF', 'FiG', 'GpBP'], [0.5, 'CtBP', 'CuG', 'GiF', 'FiD', 'DpBP'], [0.5, 'CtBP', 'CuG', 'GiF', 'FiE', 'EpBP'], [0.5, 'CtBP', 'CuG', 'GiF', 'FiF', 'FpBP'], [0.5, 'CtBP', 'CuG', 'GiF', 'FiH', 'HpBP'], [0.5, 'CtBP', 'CuG', 'GiF', 'FiI', 'IpBP'], [0.5, 'CtBP', 'CuG', 'GiF', 'FiJ', 'JpBP'], [0.5, 'CtBP', 'CuG', 'GiF', 'FiK', 'KpBP'], [0.5, 'CtBP', 'CuG', 'GiF', 'FiL', 'LpBP'], [0.5, 'CtBP', 'CuG', 'GiH', 'HiA', 'ApBP'], [0.5, 'CtBP', 'CuG', 'GiH', 'HiB', 'BpBP'], [0.5, 'CtBP', 'CuG', 'GiH', 'HiG', 'GpBP'], [0.5, 'CtBP', 'CuG', 'GiH', 'HiD', 'DpBP'], [0.5, 'CtBP', 'CuG', 'GiH', 'HiE', 'EpBP'], [0.5, 'CtBP', 'CuG', 'GiH', 'HiF', 'FpBP'], [0.5, 'CtBP', 'CuG', 'GiH', 'HiH', 'HpBP'], [0.5, 'CtBP', 'CuG', 'GiH', 'HiI', 'IpBP'], [0.5, 'CtBP', 'CuG', 'GiH', 'HiJ', 'JpBP'], [0.5, 'CtBP', 'CuG', 'GiH', 'HiK', 'KpBP'], [0.5, 'CtBP', 'CuG', 'GiH', 'HiL', 'LpBP'], [0.5, 'CtBP', 'CuG', 'GiI', 'IiA', 'ApBP'], [0.5, 'CtBP', 'CuG', 'GiI', 'IiB', 'BpBP'], [0.5, 'CtBP', 'CuG', 'GiI', 'IiG', 'GpBP'], [0.5, 'CtBP', 'CuG', 'GiI', 'IiD', 'DpBP'], [0.5, 'CtBP', 'CuG', 'GiI', 'IiE', 'EpBP'], [0.5, 'CtBP', 'CuG', 'GiI', 'IiF', 'FpBP'], [0.5, 'CtBP', 'CuG', 'GiI', 'IiH', 'HpBP'], [0.5, 'CtBP', 'CuG', 'GiI', 'IiI', 'IpBP'], [0.5, 'CtBP', 'CuG', 'GiI', 'IiJ', 'JpBP'], [0.5, 'CtBP', 'CuG', 'GiI', 'IiK', 'KpBP'], [0.5, 'CtBP', 'CuG', 'GiI', 'IiL', 'LpBP'], [0.5, 'CtBP', 'CuG', 'GiJ', 'JiA', 'ApBP'], [0.5, 'CtBP', 'CuG', 'GiJ', 'JiB', 'BpBP'], [0.5, 'CtBP', 'CuG', 'GiJ', 'JiG', 'GpBP'], [0.5, 'CtBP', 'CuG', 'GiJ', 'JiD', 'DpBP'], [0.5, 'CtBP', 'CuG', 'GiJ', 'JiE', 'EpBP'], [0.5, 'CtBP', 'CuG', 'GiJ', 'JiF', 'FpBP'], [0.5, 'CtBP', 'CuG', 'GiJ', 'JiH', 'HpBP'], [0.5, 'CtBP', 'CuG', 'GiJ', 'JiI', 'IpBP'], [0.5, 'CtBP', 'CuG', 'GiJ', 'JiJ', 'JpBP'], [0.5, 'CtBP', 'CuG', 'GiJ', 'JiK', 'KpBP'], [0.5, 'CtBP', 'CuG', 'GiJ', 'JiL', 'LpBP'], [0.5, 'CtBP', 'CuG', 'GiK', 'KiA', 'ApBP'], [0.5, 'CtBP', 'CuG', 'GiK', 'KiB', 'BpBP'], [0.5, 'CtBP', 'CuG', 'GiK', 'KiG', 'GpBP'], [0.5, 'CtBP', 'CuG', 'GiK', 'KiD', 'DpBP'], [0.5, 'CtBP', 'CuG', 'GiK', 'KiE', 'EpBP'], [0.5, 'CtBP', 'CuG', 'GiK', 'KiF', 'FpBP'], [0.5, 'CtBP', 'CuG', 'GiK', 'KiH', 'HpBP'], [0.5, 'CtBP', 'CuG', 'GiK', 'KiI', 'IpBP'], [0.5, 'CtBP', 'CuG', 'GiK', 'KiJ', 'JpBP'], [0.5, 'CtBP', 'CuG', 'GiK', 'KiK', 'KpBP'], [0.5, 'CtBP', 'CuG', 'GiK', 'KiL', 'LpBP'], [0.5, 'CtBP', 'CuG', 'GiL', 'LiA', 'ApBP'], [0.5, 'CtBP', 'CuG', 'GiL', 'LiB', 'BpBP'], [0.5, 'CtBP', 'CuG', 'GiL', 'LiG', 'GpBP'], [0.5, 'CtBP', 'CuG', 'GiL', 'LiD', 'DpBP'], [0.5, 'CtBP', 'CuG', 'GiL', 'LiE', 'EpBP'], [0.5, 'CtBP', 'CuG', 'GiL', 'LiF', 'FpBP'], [0.5, 'CtBP', 'CuG', 'GiL', 'LiH', 'HpBP'], [0.5, 'CtBP', 'CuG', 'GiL', 'LiI', 'IpBP'], [0.5, 'CtBP', 'CuG', 'GiL', 'LiJ', 'JpBP'], [0.5, 'CtBP', 'CuG', 'GiL', 'LiK', 'KpBP'], [0.5, 'CtBP', 'CuG', 'GiL', 'LiL', 'LpBP'], [0.5, 'CtBP', 'CdD', 'DiA', 'AiA', 'ApBP'], [0.5, 'CtBP', 'CdD', 'DiA', 'AiB', 'BpBP'], [0.5, 'CtBP', 'CdD', 'DiA', 'AiG', 'GpBP'], [0.5, 'CtBP', 'CdD', 'DiA', 'AiD', 'DpBP'], [0.5, 'CtBP', 'CdD', 'DiA', 'AiE', 'EpBP'], [0.5, 'CtBP', 'CdD', 'DiA', 'AiF', 'FpBP'], [0.5, 'CtBP', 'CdD', 'DiA', 'AiH', 'HpBP'], [0.5, 'CtBP', 'CdD', 'DiA', 'AiI', 'IpBP'], [0.5, 'CtBP', 'CdD', 'DiA', 'AiJ', 'JpBP'], [0.5, 'CtBP', 'CdD', 'DiA', 'AiK', 'KpBP'], [0.5, 'CtBP', 'CdD', 'DiA', 'AiL', 'LpBP'], [0.5, 'CtBP', 'CdD', 'DiB', 'BiA', 'ApBP'], [0.5, 'CtBP', 'CdD', 'DiB', 'BiB', 'BpBP'], [0.5, 'CtBP', 'CdD', 'DiB', 'BiG', 'GpBP'], [0.5, 'CtBP', 'CdD', 'DiB', 'BiD', 'DpBP'], [0.5, 'CtBP', 'CdD', 'DiB', 'BiE', 'EpBP'], [0.5, 'CtBP', 'CdD', 'DiB', 'BiF', 'FpBP'], [0.5, 'CtBP', 'CdD', 'DiB', 'BiH', 'HpBP'], [0.5, 'CtBP', 'CdD', 'DiB', 'BiI', 'IpBP'], [0.5, 'CtBP', 'CdD', 'DiB', 'BiJ', 'JpBP'], [0.5, 'CtBP', 'CdD', 'DiB', 'BiK', 'KpBP'], [0.5, 'CtBP', 'CdD', 'DiB', 'BiL', 'LpBP'], [0.5, 'CtBP', 'CdD', 'DiG', 'GiA', 'ApBP'], [0.5, 'CtBP', 'CdD', 'DiG', 'GiB', 'BpBP'], [0.5, 'CtBP', 'CdD', 'DiG', 'GiG', 'GpBP'], [0.5, 'CtBP', 'CdD', 'DiG', 'GiD', 'DpBP'], [0.5, 'CtBP', 'CdD', 'DiG', 'GiE', 'EpBP'], [0.5, 'CtBP', 'CdD', 'DiG', 'GiF', 'FpBP'], [0.5, 'CtBP', 'CdD', 'DiG', 'GiH', 'HpBP'], [0.5, 'CtBP', 'CdD', 'DiG', 'GiI', 'IpBP'], [0.5, 'CtBP', 'CdD', 'DiG', 'GiJ', 'JpBP'], [0.5, 'CtBP', 'CdD', 'DiG', 'GiK', 'KpBP'], [0.5, 'CtBP', 'CdD', 'DiG', 'GiL', 'LpBP'], [0.5, 'CtBP', 'CdD', 'DiD', 'DiA', 'ApBP'], [0.5, 'CtBP', 'CdD', 'DiD', 'DiB', 'BpBP'], [0.5, 'CtBP', 'CdD', 'DiD', 'DiG', 'GpBP'], [0.5, 'CtBP', 'CdD', 'DiD', 'DiD', 'DpBP'], [0.5, 'CtBP', 'CdD', 'DiD', 'DiE', 'EpBP'], [0.5, 'CtBP', 'CdD', 'DiD', 'DiF', 'FpBP'], [0.5, 'CtBP', 'CdD', 'DiD', 'DiH', 'HpBP'], [0.5, 'CtBP', 'CdD', 'DiD', 'DiI', 'IpBP'], [0.5, 'CtBP', 'CdD', 'DiD', 'DiJ', 'JpBP'], [0.5, 'CtBP', 'CdD', 'DiD', 'DiK', 'KpBP'], [0.5, 'CtBP', 'CdD', 'DiD', 'DiL', 'LpBP'], [0.5, 'CtBP', 'CdD', 'DiE', 'EiA', 'ApBP'], [0.5, 'CtBP', 'CdD', 'DiE', 'EiB', 'BpBP'], [0.5, 'CtBP', 'CdD', 'DiE', 'EiG', 'GpBP'], [0.5, 'CtBP', 'CdD', 'DiE', 'EiD', 'DpBP'], [0.5, 'CtBP', 'CdD', 'DiE', 'EiE', 'EpBP'], [0.5, 'CtBP', 'CdD', 'DiE', 'EiF', 'FpBP'], [0.5, 'CtBP', 'CdD', 'DiE', 'EiH', 'HpBP'], [0.5, 'CtBP', 'CdD', 'DiE', 'EiI', 'IpBP'], [0.5, 'CtBP', 'CdD', 'DiE', 'EiJ', 'JpBP'], [0.5, 'CtBP', 'CdD', 'DiE', 'EiK', 'KpBP'], [0.5, 'CtBP', 'CdD', 'DiE', 'EiL', 'LpBP'], [0.5, 'CtBP', 'CdD', 'DiF', 'FiA', 'ApBP'], [0.5, 'CtBP', 'CdD', 'DiF', 'FiB', 'BpBP'], [0.5, 'CtBP', 'CdD', 'DiF', 'FiG', 'GpBP'], [0.5, 'CtBP', 'CdD', 'DiF', 'FiD', 'DpBP'], [0.5, 'CtBP', 'CdD', 'DiF', 'FiE', 'EpBP'], [0.5, 'CtBP', 'CdD', 'DiF', 'FiF', 'FpBP'], [0.5, 'CtBP', 'CdD', 'DiF', 'FiH', 'HpBP'], [0.5, 'CtBP', 'CdD', 'DiF', 'FiI', 'IpBP'], [0.5, 'CtBP', 'CdD', 'DiF', 'FiJ', 'JpBP'], [0.5, 'CtBP', 'CdD', 'DiF', 'FiK', 'KpBP'], [0.5, 'CtBP', 'CdD', 'DiF', 'FiL', 'LpBP'], [0.5, 'CtBP', 'CdD', 'DiH', 'HiA', 'ApBP'], [0.5, 'CtBP', 'CdD', 'DiH', 'HiB', 'BpBP'], [0.5, 'CtBP', 'CdD', 'DiH', 'HiG', 'GpBP'], [0.5, 'CtBP', 'CdD', 'DiH', 'HiD', 'DpBP'], [0.5, 'CtBP', 'CdD', 'DiH', 'HiE', 'EpBP'], [0.5, 'CtBP', 'CdD', 'DiH', 'HiF', 'FpBP'], [0.5, 'CtBP', 'CdD', 'DiH', 'HiH', 'HpBP'], [0.5, 'CtBP', 'CdD', 'DiH', 'HiI', 'IpBP'], [0.5, 'CtBP', 'CdD', 'DiH', 'HiJ', 'JpBP'], [0.5, 'CtBP', 'CdD', 'DiH', 'HiK', 'KpBP'], [0.5, 'CtBP', 'CdD', 'DiH', 'HiL', 'LpBP'], [0.5, 'CtBP', 'CdD', 'DiI', 'IiA', 'ApBP'], [0.5, 'CtBP', 'CdD', 'DiI', 'IiB', 'BpBP'], [0.5, 'CtBP', 'CdD', 'DiI', 'IiG', 'GpBP'], [0.5, 'CtBP', 'CdD', 'DiI', 'IiD', 'DpBP'], [0.5, 'CtBP', 'CdD', 'DiI', 'IiE', 'EpBP'], [0.5, 'CtBP', 'CdD', 'DiI', 'IiF', 'FpBP'], [0.5, 'CtBP', 'CdD', 'DiI', 'IiH', 'HpBP'], [0.5, 'CtBP', 'CdD', 'DiI', 'IiI', 'IpBP'], [0.5, 'CtBP', 'CdD', 'DiI', 'IiJ', 'JpBP'], [0.5, 'CtBP', 'CdD', 'DiI', 'IiK', 'KpBP'], [0.5, 'CtBP', 'CdD', 'DiI', 'IiL', 'LpBP'], [0.5, 'CtBP', 'CdD', 'DiJ', 'JiA', 'ApBP'], [0.5, 'CtBP', 'CdD', 'DiJ', 'JiB', 'BpBP'], [0.5, 'CtBP', 'CdD', 'DiJ', 'JiG', 'GpBP'], [0.5, 'CtBP', 'CdD', 'DiJ', 'JiD', 'DpBP'], [0.5, 'CtBP', 'CdD', 'DiJ', 'JiE', 'EpBP'], [0.5, 'CtBP', 'CdD', 'DiJ', 'JiF', 'FpBP'], [0.5, 'CtBP', 'CdD', 'DiJ', 'JiH', 'HpBP'], [0.5, 'CtBP', 'CdD', 'DiJ', 'JiI', 'IpBP'], [0.5, 'CtBP', 'CdD', 'DiJ', 'JiJ', 'JpBP'], [0.5, 'CtBP', 'CdD', 'DiJ', 'JiK', 'KpBP'], [0.5, 'CtBP', 'CdD', 'DiJ', 'JiL', 'LpBP'], [0.5, 'CtBP', 'CdD', 'DiK', 'KiA', 'ApBP'], [0.5, 'CtBP', 'CdD', 'DiK', 'KiB', 'BpBP'], [0.5, 'CtBP', 'CdD', 'DiK', 'KiG', 'GpBP'], [0.5, 'CtBP', 'CdD', 'DiK', 'KiD', 'DpBP'], [0.5, 'CtBP', 'CdD', 'DiK', 'KiE', 'EpBP'], [0.5, 'CtBP', 'CdD', 'DiK', 'KiF', 'FpBP'], [0.5, 'CtBP', 'CdD', 'DiK', 'KiH', 'HpBP'], [0.5, 'CtBP', 'CdD', 'DiK', 'KiI', 'IpBP'], [0.5, 'CtBP', 'CdD', 'DiK', 'KiJ', 'JpBP'], [0.5, 'CtBP', 'CdD', 'DiK', 'KiK', 'KpBP'], [0.5, 'CtBP', 'CdD', 'DiK', 'KiL', 'LpBP'], [0.5, 'CtBP', 'CdD', 'DiL', 'LiA', 'ApBP'], [0.5, 'CtBP', 'CdD', 'DiL', 'LiB', 'BpBP'], [0.5, 'CtBP', 'CdD', 'DiL', 'LiG', 'GpBP'], [0.5, 'CtBP', 'CdD', 'DiL', 'LiD', 'DpBP'], [0.5, 'CtBP', 'CdD', 'DiL', 'LiE', 'EpBP'], [0.5, 'CtBP', 'CdD', 'DiL', 'LiF', 'FpBP'], [0.5, 'CtBP', 'CdD', 'DiL', 'LiH', 'HpBP'], [0.5, 'CtBP', 'CdD', 'DiL', 'LiI', 'IpBP'], [0.5, 'CtBP', 'CdD', 'DiL', 'LiJ', 'JpBP'], [0.5, 'CtBP', 'CdD', 'DiL', 'LiK', 'KpBP'], [0.5, 'CtBP', 'CdD', 'DiL', 'LiL', 'LpBP'], [0.5, 'CtBP', 'CuD', 'DiA', 'AiA', 'ApBP'], [0.5, 'CtBP', 'CuD', 'DiA', 'AiB', 'BpBP'], [0.5, 'CtBP', 'CuD', 'DiA', 'AiG', 'GpBP'], [0.5, 'CtBP', 'CuD', 'DiA', 'AiD', 'DpBP'], [0.5, 'CtBP', 'CuD', 'DiA', 'AiE', 'EpBP'], [0.5, 'CtBP', 'CuD', 'DiA', 'AiF', 'FpBP'], [0.5, 'CtBP', 'CuD', 'DiA', 'AiH', 'HpBP'], [0.5, 'CtBP', 'CuD', 'DiA', 'AiI', 'IpBP'], [0.5, 'CtBP', 'CuD', 'DiA', 'AiJ', 'JpBP'], [0.5, 'CtBP', 'CuD', 'DiA', 'AiK', 'KpBP'], [0.5, 'CtBP', 'CuD', 'DiA', 'AiL', 'LpBP'], [0.5, 'CtBP', 'CuD', 'DiB', 'BiA', 'ApBP'], [0.5, 'CtBP', 'CuD', 'DiB', 'BiB', 'BpBP'], [0.5, 'CtBP', 'CuD', 'DiB', 'BiG', 'GpBP'], [0.5, 'CtBP', 'CuD', 'DiB', 'BiD', 'DpBP'], [0.5, 'CtBP', 'CuD', 'DiB', 'BiE', 'EpBP'], [0.5, 'CtBP', 'CuD', 'DiB', 'BiF', 'FpBP'], [0.5, 'CtBP', 'CuD', 'DiB', 'BiH', 'HpBP'], [0.5, 'CtBP', 'CuD', 'DiB', 'BiI', 'IpBP'], [0.5, 'CtBP', 'CuD', 'DiB', 'BiJ', 'JpBP'], [0.5, 'CtBP', 'CuD', 'DiB', 'BiK', 'KpBP'], [0.5, 'CtBP', 'CuD', 'DiB', 'BiL', 'LpBP'], [0.5, 'CtBP', 'CuD', 'DiG', 'GiA', 'ApBP'], [0.5, 'CtBP', 'CuD', 'DiG', 'GiB', 'BpBP'], [0.5, 'CtBP', 'CuD', 'DiG', 'GiG', 'GpBP'], [0.5, 'CtBP', 'CuD', 'DiG', 'GiD', 'DpBP'], [0.5, 'CtBP', 'CuD', 'DiG', 'GiE', 'EpBP'], [0.5, 'CtBP', 'CuD', 'DiG', 'GiF', 'FpBP'], [0.5, 'CtBP', 'CuD', 'DiG', 'GiH', 'HpBP'], [0.5, 'CtBP', 'CuD', 'DiG', 'GiI', 'IpBP'], [0.5, 'CtBP', 'CuD', 'DiG', 'GiJ', 'JpBP'], [0.5, 'CtBP', 'CuD', 'DiG', 'GiK', 'KpBP'], [0.5, 'CtBP', 'CuD', 'DiG', 'GiL', 'LpBP'], [0.5, 'CtBP', 'CuD', 'DiD', 'DiA', 'ApBP'], [0.5, 'CtBP', 'CuD', 'DiD', 'DiB', 'BpBP'], [0.5, 'CtBP', 'CuD', 'DiD', 'DiG', 'GpBP'], [0.5, 'CtBP', 'CuD', 'DiD', 'DiD', 'DpBP'], [0.5, 'CtBP', 'CuD', 'DiD', 'DiE', 'EpBP'], [0.5, 'CtBP', 'CuD', 'DiD', 'DiF', 'FpBP'], [0.5, 'CtBP', 'CuD', 'DiD', 'DiH', 'HpBP'], [0.5, 'CtBP', 'CuD', 'DiD', 'DiI', 'IpBP'], [0.5, 'CtBP', 'CuD', 'DiD', 'DiJ', 'JpBP'], [0.5, 'CtBP', 'CuD', 'DiD', 'DiK', 'KpBP'], [0.5, 'CtBP', 'CuD', 'DiD', 'DiL', 'LpBP'], [0.5, 'CtBP', 'CuD', 'DiE', 'EiA', 'ApBP'], [0.5, 'CtBP', 'CuD', 'DiE', 'EiB', 'BpBP'], [0.5, 'CtBP', 'CuD', 'DiE', 'EiG', 'GpBP'], [0.5, 'CtBP', 'CuD', 'DiE', 'EiD', 'DpBP'], [0.5, 'CtBP', 'CuD', 'DiE', 'EiE', 'EpBP'], [0.5, 'CtBP', 'CuD', 'DiE', 'EiF', 'FpBP'], [0.5, 'CtBP', 'CuD', 'DiE', 'EiH', 'HpBP'], [0.5, 'CtBP', 'CuD', 'DiE', 'EiI', 'IpBP'], [0.5, 'CtBP', 'CuD', 'DiE', 'EiJ', 'JpBP'], [0.5, 'CtBP', 'CuD', 'DiE', 'EiK', 'KpBP'], [0.5, 'CtBP', 'CuD', 'DiE', 'EiL', 'LpBP'], [0.5, 'CtBP', 'CuD', 'DiF', 'FiA', 'ApBP'], [0.5, 'CtBP', 'CuD', 'DiF', 'FiB', 'BpBP'], [0.5, 'CtBP', 'CuD', 'DiF', 'FiG', 'GpBP'], [0.5, 'CtBP', 'CuD', 'DiF', 'FiD', 'DpBP'], [0.5, 'CtBP', 'CuD', 'DiF', 'FiE', 'EpBP'], [0.5, 'CtBP', 'CuD', 'DiF', 'FiF', 'FpBP'], [0.5, 'CtBP', 'CuD', 'DiF', 'FiH', 'HpBP'], [0.5, 'CtBP', 'CuD', 'DiF', 'FiI', 'IpBP'], [0.5, 'CtBP', 'CuD', 'DiF', 'FiJ', 'JpBP'], [0.5, 'CtBP', 'CuD', 'DiF', 'FiK', 'KpBP'], [0.5, 'CtBP', 'CuD', 'DiF', 'FiL', 'LpBP'], [0.5, 'CtBP', 'CuD', 'DiH', 'HiA', 'ApBP'], [0.5, 'CtBP', 'CuD', 'DiH', 'HiB', 'BpBP'], [0.5, 'CtBP', 'CuD', 'DiH', 'HiG', 'GpBP'], [0.5, 'CtBP', 'CuD', 'DiH', 'HiD', 'DpBP'], [0.5, 'CtBP', 'CuD', 'DiH', 'HiE', 'EpBP'], [0.5, 'CtBP', 'CuD', 'DiH', 'HiF', 'FpBP'], [0.5, 'CtBP', 'CuD', 'DiH', 'HiH', 'HpBP'], [0.5, 'CtBP', 'CuD', 'DiH', 'HiI', 'IpBP'], [0.5, 'CtBP', 'CuD', 'DiH', 'HiJ', 'JpBP'], [0.5, 'CtBP', 'CuD', 'DiH', 'HiK', 'KpBP'], [0.5, 'CtBP', 'CuD', 'DiH', 'HiL', 'LpBP'], [0.5, 'CtBP', 'CuD', 'DiI', 'IiA', 'ApBP'], [0.5, 'CtBP', 'CuD', 'DiI', 'IiB', 'BpBP'], [0.5, 'CtBP', 'CuD', 'DiI', 'IiG', 'GpBP'], [0.5, 'CtBP', 'CuD', 'DiI', 'IiD', 'DpBP'], [0.5, 'CtBP', 'CuD', 'DiI', 'IiE', 'EpBP'], [0.5, 'CtBP', 'CuD', 'DiI', 'IiF', 'FpBP'], [0.5, 'CtBP', 'CuD', 'DiI', 'IiH', 'HpBP'], [0.5, 'CtBP', 'CuD', 'DiI', 'IiI', 'IpBP'], [0.5, 'CtBP', 'CuD', 'DiI', 'IiJ', 'JpBP'], [0.5, 'CtBP', 'CuD', 'DiI', 'IiK', 'KpBP'], [0.5, 'CtBP', 'CuD', 'DiI', 'IiL', 'LpBP'], [0.5, 'CtBP', 'CuD', 'DiJ', 'JiA', 'ApBP'], [0.5, 'CtBP', 'CuD', 'DiJ', 'JiB', 'BpBP'], [0.5, 'CtBP', 'CuD', 'DiJ', 'JiG', 'GpBP'], [0.5, 'CtBP', 'CuD', 'DiJ', 'JiD', 'DpBP'], [0.5, 'CtBP', 'CuD', 'DiJ', 'JiE', 'EpBP'], [0.5, 'CtBP', 'CuD', 'DiJ', 'JiF', 'FpBP'], [0.5, 'CtBP', 'CuD', 'DiJ', 'JiH', 'HpBP'], [0.5, 'CtBP', 'CuD', 'DiJ', 'JiI', 'IpBP'], [0.5, 'CtBP', 'CuD', 'DiJ', 'JiJ', 'JpBP'], [0.5, 'CtBP', 'CuD', 'DiJ', 'JiK', 'KpBP'], [0.5, 'CtBP', 'CuD', 'DiJ', 'JiL', 'LpBP'], [0.5, 'CtBP', 'CuD', 'DiK', 'KiA', 'ApBP'], [0.5, 'CtBP', 'CuD', 'DiK', 'KiB', 'BpBP'], [0.5, 'CtBP', 'CuD', 'DiK', 'KiG', 'GpBP'], [0.5, 'CtBP', 'CuD', 'DiK', 'KiD', 'DpBP'], [0.5, 'CtBP', 'CuD', 'DiK', 'KiE', 'EpBP'], [0.5, 'CtBP', 'CuD', 'DiK', 'KiF', 'FpBP'], [0.5, 'CtBP', 'CuD', 'DiK', 'KiH', 'HpBP'], [0.5, 'CtBP', 'CuD', 'DiK', 'KiI', 'IpBP'], [0.5, 'CtBP', 'CuD', 'DiK', 'KiJ', 'JpBP'], [0.5, 'CtBP', 'CuD', 'DiK', 'KiK', 'KpBP'], [0.5, 'CtBP', 'CuD', 'DiK', 'KiL', 'LpBP'], [0.5, 'CtBP', 'CuD', 'DiL', 'LiA', 'ApBP'], [0.5, 'CtBP', 'CuD', 'DiL', 'LiB', 'BpBP'], [0.5, 'CtBP', 'CuD', 'DiL', 'LiG', 'GpBP'], [0.5, 'CtBP', 'CuD', 'DiL', 'LiD', 'DpBP'], [0.5, 'CtBP', 'CuD', 'DiL', 'LiE', 'EpBP'], [0.5, 'CtBP', 'CuD', 'DiL', 'LiF', 'FpBP'], [0.5, 'CtBP', 'CuD', 'DiL', 'LiH', 'HpBP'], [0.5, 'CtBP', 'CuD', 'DiL', 'LiI', 'IpBP'], [0.5, 'CtBP', 'CuD', 'DiL', 'LiJ', 'JpBP'], [0.5, 'CtBP', 'CuD', 'DiL', 'LiK', 'KpBP'], [0.5, 'CtBP', 'CuD', 'DiL', 'LiL', 'LpBP'], [0.5, 'CtBP', 'CdE', 'EiA', 'AiA', 'ApBP'], [0.5, 'CtBP', 'CdE', 'EiA', 'AiB', 'BpBP'], [0.5, 'CtBP', 'CdE', 'EiA', 'AiG', 'GpBP'], [0.5, 'CtBP', 'CdE', 'EiA', 'AiD', 'DpBP'], [0.5, 'CtBP', 'CdE', 'EiA', 'AiE', 'EpBP'], [0.5, 'CtBP', 'CdE', 'EiA', 'AiF', 'FpBP'], [0.5, 'CtBP', 'CdE', 'EiA', 'AiH', 'HpBP'], [0.5, 'CtBP', 'CdE', 'EiA', 'AiI', 'IpBP'], [0.5, 'CtBP', 'CdE', 'EiA', 'AiJ', 'JpBP'], [0.5, 'CtBP', 'CdE', 'EiA', 'AiK', 'KpBP'], [0.5, 'CtBP', 'CdE', 'EiA', 'AiL', 'LpBP'], [0.5, 'CtBP', 'CdE', 'EiB', 'BiA', 'ApBP'], [0.5, 'CtBP', 'CdE', 'EiB', 'BiB', 'BpBP'], [0.5, 'CtBP', 'CdE', 'EiB', 'BiG', 'GpBP'], [0.5, 'CtBP', 'CdE', 'EiB', 'BiD', 'DpBP'], [0.5, 'CtBP', 'CdE', 'EiB', 'BiE', 'EpBP'], [0.5, 'CtBP', 'CdE', 'EiB', 'BiF', 'FpBP'], [0.5, 'CtBP', 'CdE', 'EiB', 'BiH', 'HpBP'], [0.5, 'CtBP', 'CdE', 'EiB', 'BiI', 'IpBP'], [0.5, 'CtBP', 'CdE', 'EiB', 'BiJ', 'JpBP'], [0.5, 'CtBP', 'CdE', 'EiB', 'BiK', 'KpBP'], [0.5, 'CtBP', 'CdE', 'EiB', 'BiL', 'LpBP'], [0.5, 'CtBP', 'CdE', 'EiG', 'GiA', 'ApBP'], [0.5, 'CtBP', 'CdE', 'EiG', 'GiB', 'BpBP'], [0.5, 'CtBP', 'CdE', 'EiG', 'GiG', 'GpBP'], [0.5, 'CtBP', 'CdE', 'EiG', 'GiD', 'DpBP'], [0.5, 'CtBP', 'CdE', 'EiG', 'GiE', 'EpBP'], [0.5, 'CtBP', 'CdE', 'EiG', 'GiF', 'FpBP'], [0.5, 'CtBP', 'CdE', 'EiG', 'GiH', 'HpBP'], [0.5, 'CtBP', 'CdE', 'EiG', 'GiI', 'IpBP'], [0.5, 'CtBP', 'CdE', 'EiG', 'GiJ', 'JpBP'], [0.5, 'CtBP', 'CdE', 'EiG', 'GiK', 'KpBP'], [0.5, 'CtBP', 'CdE', 'EiG', 'GiL', 'LpBP'], [0.5, 'CtBP', 'CdE', 'EiD', 'DiA', 'ApBP'], [0.5, 'CtBP', 'CdE', 'EiD', 'DiB', 'BpBP'], [0.5, 'CtBP', 'CdE', 'EiD', 'DiG', 'GpBP'], [0.5, 'CtBP', 'CdE', 'EiD', 'DiD', 'DpBP'], [0.5, 'CtBP', 'CdE', 'EiD', 'DiE', 'EpBP'], [0.5, 'CtBP', 'CdE', 'EiD', 'DiF', 'FpBP'], [0.5, 'CtBP', 'CdE', 'EiD', 'DiH', 'HpBP'], [0.5, 'CtBP', 'CdE', 'EiD', 'DiI', 'IpBP'], [0.5, 'CtBP', 'CdE', 'EiD', 'DiJ', 'JpBP'], [0.5, 'CtBP', 'CdE', 'EiD', 'DiK', 'KpBP'], [0.5, 'CtBP', 'CdE', 'EiD', 'DiL', 'LpBP'], [0.5, 'CtBP', 'CdE', 'EiE', 'EiA', 'ApBP'], [0.5, 'CtBP', 'CdE', 'EiE', 'EiB', 'BpBP'], [0.5, 'CtBP', 'CdE', 'EiE', 'EiG', 'GpBP'], [0.5, 'CtBP', 'CdE', 'EiE', 'EiD', 'DpBP'], [0.5, 'CtBP', 'CdE', 'EiE', 'EiE', 'EpBP'], [0.5, 'CtBP', 'CdE', 'EiE', 'EiF', 'FpBP'], [0.5, 'CtBP', 'CdE', 'EiE', 'EiH', 'HpBP'], [0.5, 'CtBP', 'CdE', 'EiE', 'EiI', 'IpBP'], [0.5, 'CtBP', 'CdE', 'EiE', 'EiJ', 'JpBP'], [0.5, 'CtBP', 'CdE', 'EiE', 'EiK', 'KpBP'], [0.5, 'CtBP', 'CdE', 'EiE', 'EiL', 'LpBP'], [0.5, 'CtBP', 'CdE', 'EiF', 'FiA', 'ApBP'], [0.5, 'CtBP', 'CdE', 'EiF', 'FiB', 'BpBP'], [0.5, 'CtBP', 'CdE', 'EiF', 'FiG', 'GpBP'], [0.5, 'CtBP', 'CdE', 'EiF', 'FiD', 'DpBP'], [0.5, 'CtBP', 'CdE', 'EiF', 'FiE', 'EpBP'], [0.5, 'CtBP', 'CdE', 'EiF', 'FiF', 'FpBP'], [0.5, 'CtBP', 'CdE', 'EiF', 'FiH', 'HpBP'], [0.5, 'CtBP', 'CdE', 'EiF', 'FiI', 'IpBP'], [0.5, 'CtBP', 'CdE', 'EiF', 'FiJ', 'JpBP'], [0.5, 'CtBP', 'CdE', 'EiF', 'FiK', 'KpBP'], [0.5, 'CtBP', 'CdE', 'EiF', 'FiL', 'LpBP'], [0.5, 'CtBP', 'CdE', 'EiH', 'HiA', 'ApBP'], [0.5, 'CtBP', 'CdE', 'EiH', 'HiB', 'BpBP'], [0.5, 'CtBP', 'CdE', 'EiH', 'HiG', 'GpBP'], [0.5, 'CtBP', 'CdE', 'EiH', 'HiD', 'DpBP'], [0.5, 'CtBP', 'CdE', 'EiH', 'HiE', 'EpBP'], [0.5, 'CtBP', 'CdE', 'EiH', 'HiF', 'FpBP'], [0.5, 'CtBP', 'CdE', 'EiH', 'HiH', 'HpBP'], [0.5, 'CtBP', 'CdE', 'EiH', 'HiI', 'IpBP'], [0.5, 'CtBP', 'CdE', 'EiH', 'HiJ', 'JpBP'], [0.5, 'CtBP', 'CdE', 'EiH', 'HiK', 'KpBP'], [0.5, 'CtBP', 'CdE', 'EiH', 'HiL', 'LpBP'], [0.5, 'CtBP', 'CdE', 'EiI', 'IiA', 'ApBP'], [0.5, 'CtBP', 'CdE', 'EiI', 'IiB', 'BpBP'], [0.5, 'CtBP', 'CdE', 'EiI', 'IiG', 'GpBP'], [0.5, 'CtBP', 'CdE', 'EiI', 'IiD', 'DpBP'], [0.5, 'CtBP', 'CdE', 'EiI', 'IiE', 'EpBP'], [0.5, 'CtBP', 'CdE', 'EiI', 'IiF', 'FpBP'], [0.5, 'CtBP', 'CdE', 'EiI', 'IiH', 'HpBP'], [0.5, 'CtBP', 'CdE', 'EiI', 'IiI', 'IpBP'], [0.5, 'CtBP', 'CdE', 'EiI', 'IiJ', 'JpBP'], [0.5, 'CtBP', 'CdE', 'EiI', 'IiK', 'KpBP'], [0.5, 'CtBP', 'CdE', 'EiI', 'IiL', 'LpBP'], [0.5, 'CtBP', 'CdE', 'EiJ', 'JiA', 'ApBP'], [0.5, 'CtBP', 'CdE', 'EiJ', 'JiB', 'BpBP'], [0.5, 'CtBP', 'CdE', 'EiJ', 'JiG', 'GpBP'], [0.5, 'CtBP', 'CdE', 'EiJ', 'JiD', 'DpBP'], [0.5, 'CtBP', 'CdE', 'EiJ', 'JiE', 'EpBP'], [0.5, 'CtBP', 'CdE', 'EiJ', 'JiF', 'FpBP'], [0.5, 'CtBP', 'CdE', 'EiJ', 'JiH', 'HpBP'], [0.5, 'CtBP', 'CdE', 'EiJ', 'JiI', 'IpBP'], [0.5, 'CtBP', 'CdE', 'EiJ', 'JiJ', 'JpBP'], [0.5, 'CtBP', 'CdE', 'EiJ', 'JiK', 'KpBP'], [0.5, 'CtBP', 'CdE', 'EiJ', 'JiL', 'LpBP'], [0.5, 'CtBP', 'CdE', 'EiK', 'KiA', 'ApBP'], [0.5, 'CtBP', 'CdE', 'EiK', 'KiB', 'BpBP'], [0.5, 'CtBP', 'CdE', 'EiK', 'KiG', 'GpBP'], [0.5, 'CtBP', 'CdE', 'EiK', 'KiD', 'DpBP'], [0.5, 'CtBP', 'CdE', 'EiK', 'KiE', 'EpBP'], [0.5, 'CtBP', 'CdE', 'EiK', 'KiF', 'FpBP'], [0.5, 'CtBP', 'CdE', 'EiK', 'KiH', 'HpBP'], [0.5, 'CtBP', 'CdE', 'EiK', 'KiI', 'IpBP'], [0.5, 'CtBP', 'CdE', 'EiK', 'KiJ', 'JpBP'], [0.5, 'CtBP', 'CdE', 'EiK', 'KiK', 'KpBP'], [0.5, 'CtBP', 'CdE', 'EiK', 'KiL', 'LpBP'], [0.5, 'CtBP', 'CdE', 'EiL', 'LiA', 'ApBP'], [0.5, 'CtBP', 'CdE', 'EiL', 'LiB', 'BpBP'], [0.5, 'CtBP', 'CdE', 'EiL', 'LiG', 'GpBP'], [0.5, 'CtBP', 'CdE', 'EiL', 'LiD', 'DpBP'], [0.5, 'CtBP', 'CdE', 'EiL', 'LiE', 'EpBP'], [0.5, 'CtBP', 'CdE', 'EiL', 'LiF', 'FpBP'], [0.5, 'CtBP', 'CdE', 'EiL', 'LiH', 'HpBP'], [0.5, 'CtBP', 'CdE', 'EiL', 'LiI', 'IpBP'], [0.5, 'CtBP', 'CdE', 'EiL', 'LiJ', 'JpBP'], [0.5, 'CtBP', 'CdE', 'EiL', 'LiK', 'KpBP'], [0.5, 'CtBP', 'CdE', 'EiL', 'LiL', 'LpBP'], [0.5, 'CtBP', 'CuE', 'EiA', 'AiA', 'ApBP'], [0.5, 'CtBP', 'CuE', 'EiA', 'AiB', 'BpBP'], [0.5, 'CtBP', 'CuE', 'EiA', 'AiG', 'GpBP'], [0.5, 'CtBP', 'CuE', 'EiA', 'AiD', 'DpBP'], [0.5, 'CtBP', 'CuE', 'EiA', 'AiE', 'EpBP'], [0.5, 'CtBP', 'CuE', 'EiA', 'AiF', 'FpBP'], [0.5, 'CtBP', 'CuE', 'EiA', 'AiH', 'HpBP'], [0.5, 'CtBP', 'CuE', 'EiA', 'AiI', 'IpBP'], [0.5, 'CtBP', 'CuE', 'EiA', 'AiJ', 'JpBP'], [0.5, 'CtBP', 'CuE', 'EiA', 'AiK', 'KpBP'], [0.5, 'CtBP', 'CuE', 'EiA', 'AiL', 'LpBP'], [0.5, 'CtBP', 'CuE', 'EiB', 'BiA', 'ApBP'], [0.5, 'CtBP', 'CuE', 'EiB', 'BiB', 'BpBP'], [0.5, 'CtBP', 'CuE', 'EiB', 'BiG', 'GpBP'], [0.5, 'CtBP', 'CuE', 'EiB', 'BiD', 'DpBP'], [0.5, 'CtBP', 'CuE', 'EiB', 'BiE', 'EpBP'], [0.5, 'CtBP', 'CuE', 'EiB', 'BiF', 'FpBP'], [0.5, 'CtBP', 'CuE', 'EiB', 'BiH', 'HpBP'], [0.5, 'CtBP', 'CuE', 'EiB', 'BiI', 'IpBP'], [0.5, 'CtBP', 'CuE', 'EiB', 'BiJ', 'JpBP'], [0.5, 'CtBP', 'CuE', 'EiB', 'BiK', 'KpBP'], [0.5, 'CtBP', 'CuE', 'EiB', 'BiL', 'LpBP'], [0.5, 'CtBP', 'CuE', 'EiG', 'GiA', 'ApBP'], [0.5, 'CtBP', 'CuE', 'EiG', 'GiB', 'BpBP'], [0.5, 'CtBP', 'CuE', 'EiG', 'GiG', 'GpBP'], [0.5, 'CtBP', 'CuE', 'EiG', 'GiD', 'DpBP'], [0.5, 'CtBP', 'CuE', 'EiG', 'GiE', 'EpBP'], [0.5, 'CtBP', 'CuE', 'EiG', 'GiF', 'FpBP'], [0.5, 'CtBP', 'CuE', 'EiG', 'GiH', 'HpBP'], [0.5, 'CtBP', 'CuE', 'EiG', 'GiI', 'IpBP'], [0.5, 'CtBP', 'CuE', 'EiG', 'GiJ', 'JpBP'], [0.5, 'CtBP', 'CuE', 'EiG', 'GiK', 'KpBP'], [0.5, 'CtBP', 'CuE', 'EiG', 'GiL', 'LpBP'], [0.5, 'CtBP', 'CuE', 'EiD', 'DiA', 'ApBP'], [0.5, 'CtBP', 'CuE', 'EiD', 'DiB', 'BpBP'], [0.5, 'CtBP', 'CuE', 'EiD', 'DiG', 'GpBP'], [0.5, 'CtBP', 'CuE', 'EiD', 'DiD', 'DpBP'], [0.5, 'CtBP', 'CuE', 'EiD', 'DiE', 'EpBP'], [0.5, 'CtBP', 'CuE', 'EiD', 'DiF', 'FpBP'], [0.5, 'CtBP', 'CuE', 'EiD', 'DiH', 'HpBP'], [0.5, 'CtBP', 'CuE', 'EiD', 'DiI', 'IpBP'], [0.5, 'CtBP', 'CuE', 'EiD', 'DiJ', 'JpBP'], [0.5, 'CtBP', 'CuE', 'EiD', 'DiK', 'KpBP'], [0.5, 'CtBP', 'CuE', 'EiD', 'DiL', 'LpBP'], [0.5, 'CtBP', 'CuE', 'EiE', 'EiA', 'ApBP'], [0.5, 'CtBP', 'CuE', 'EiE', 'EiB', 'BpBP'], [0.5, 'CtBP', 'CuE', 'EiE', 'EiG', 'GpBP'], [0.5, 'CtBP', 'CuE', 'EiE', 'EiD', 'DpBP'], [0.5, 'CtBP', 'CuE', 'EiE', 'EiE', 'EpBP'], [0.5, 'CtBP', 'CuE', 'EiE', 'EiF', 'FpBP'], [0.5, 'CtBP', 'CuE', 'EiE', 'EiH', 'HpBP'], [0.5, 'CtBP', 'CuE', 'EiE', 'EiI', 'IpBP'], [0.5, 'CtBP', 'CuE', 'EiE', 'EiJ', 'JpBP'], [0.5, 'CtBP', 'CuE', 'EiE', 'EiK', 'KpBP'], [0.5, 'CtBP', 'CuE', 'EiE', 'EiL', 'LpBP'], [0.5, 'CtBP', 'CuE', 'EiF', 'FiA', 'ApBP'], [0.5, 'CtBP', 'CuE', 'EiF', 'FiB', 'BpBP'], [0.5, 'CtBP', 'CuE', 'EiF', 'FiG', 'GpBP'], [0.5, 'CtBP', 'CuE', 'EiF', 'FiD', 'DpBP'], [0.5, 'CtBP', 'CuE', 'EiF', 'FiE', 'EpBP'], [0.5, 'CtBP', 'CuE', 'EiF', 'FiF', 'FpBP'], [0.5, 'CtBP', 'CuE', 'EiF', 'FiH', 'HpBP'], [0.5, 'CtBP', 'CuE', 'EiF', 'FiI', 'IpBP'], [0.5, 'CtBP', 'CuE', 'EiF', 'FiJ', 'JpBP'], [0.5, 'CtBP', 'CuE', 'EiF', 'FiK', 'KpBP'], [0.5, 'CtBP', 'CuE', 'EiF', 'FiL', 'LpBP'], [0.5, 'CtBP', 'CuE', 'EiH', 'HiA', 'ApBP'], [0.5, 'CtBP', 'CuE', 'EiH', 'HiB', 'BpBP'], [0.5, 'CtBP', 'CuE', 'EiH', 'HiG', 'GpBP'], [0.5, 'CtBP', 'CuE', 'EiH', 'HiD', 'DpBP'], [0.5, 'CtBP', 'CuE', 'EiH', 'HiE', 'EpBP'], [0.5, 'CtBP', 'CuE', 'EiH', 'HiF', 'FpBP'], [0.5, 'CtBP', 'CuE', 'EiH', 'HiH', 'HpBP'], [0.5, 'CtBP', 'CuE', 'EiH', 'HiI', 'IpBP'], [0.5, 'CtBP', 'CuE', 'EiH', 'HiJ', 'JpBP'], [0.5, 'CtBP', 'CuE', 'EiH', 'HiK', 'KpBP'], [0.5, 'CtBP', 'CuE', 'EiH', 'HiL', 'LpBP'], [0.5, 'CtBP', 'CuE', 'EiI', 'IiA', 'ApBP'], [0.5, 'CtBP', 'CuE', 'EiI', 'IiB', 'BpBP'], [0.5, 'CtBP', 'CuE', 'EiI', 'IiG', 'GpBP'], [0.5, 'CtBP', 'CuE', 'EiI', 'IiD', 'DpBP'], [0.5, 'CtBP', 'CuE', 'EiI', 'IiE', 'EpBP'], [0.5, 'CtBP', 'CuE', 'EiI', 'IiF', 'FpBP'], [0.5, 'CtBP', 'CuE', 'EiI', 'IiH', 'HpBP'], [0.5, 'CtBP', 'CuE', 'EiI', 'IiI', 'IpBP'], [0.5, 'CtBP', 'CuE', 'EiI', 'IiJ', 'JpBP'], [0.5, 'CtBP', 'CuE', 'EiI', 'IiK', 'KpBP'], [0.5, 'CtBP', 'CuE', 'EiI', 'IiL', 'LpBP'], [0.5, 'CtBP', 'CuE', 'EiJ', 'JiA', 'ApBP'], [0.5, 'CtBP', 'CuE', 'EiJ', 'JiB', 'BpBP'], [0.5, 'CtBP', 'CuE', 'EiJ', 'JiG', 'GpBP'], [0.5, 'CtBP', 'CuE', 'EiJ', 'JiD', 'DpBP'], [0.5, 'CtBP', 'CuE', 'EiJ', 'JiE', 'EpBP'], [0.5, 'CtBP', 'CuE', 'EiJ', 'JiF', 'FpBP'], [0.5, 'CtBP', 'CuE', 'EiJ', 'JiH', 'HpBP'], [0.5, 'CtBP', 'CuE', 'EiJ', 'JiI', 'IpBP'], [0.5, 'CtBP', 'CuE', 'EiJ', 'JiJ', 'JpBP'], [0.5, 'CtBP', 'CuE', 'EiJ', 'JiK', 'KpBP'], [0.5, 'CtBP', 'CuE', 'EiJ', 'JiL', 'LpBP'], [0.5, 'CtBP', 'CuE', 'EiK', 'KiA', 'ApBP'], [0.5, 'CtBP', 'CuE', 'EiK', 'KiB', 'BpBP'], [0.5, 'CtBP', 'CuE', 'EiK', 'KiG', 'GpBP'], [0.5, 'CtBP', 'CuE', 'EiK', 'KiD', 'DpBP'], [0.5, 'CtBP', 'CuE', 'EiK', 'KiE', 'EpBP'], [0.5, 'CtBP', 'CuE', 'EiK', 'KiF', 'FpBP'], [0.5, 'CtBP', 'CuE', 'EiK', 'KiH', 'HpBP'], [0.5, 'CtBP', 'CuE', 'EiK', 'KiI', 'IpBP'], [0.5, 'CtBP', 'CuE', 'EiK', 'KiJ', 'JpBP'], [0.5, 'CtBP', 'CuE', 'EiK', 'KiK', 'KpBP'], [0.5, 'CtBP', 'CuE', 'EiK', 'KiL', 'LpBP'], [0.5, 'CtBP', 'CuE', 'EiL', 'LiA', 'ApBP'], [0.5, 'CtBP', 'CuE', 'EiL', 'LiB', 'BpBP'], [0.5, 'CtBP', 'CuE', 'EiL', 'LiG', 'GpBP'], [0.5, 'CtBP', 'CuE', 'EiL', 'LiD', 'DpBP'], [0.5, 'CtBP', 'CuE', 'EiL', 'LiE', 'EpBP'], [0.5, 'CtBP', 'CuE', 'EiL', 'LiF', 'FpBP'], [0.5, 'CtBP', 'CuE', 'EiL', 'LiH', 'HpBP'], [0.5, 'CtBP', 'CuE', 'EiL', 'LiI', 'IpBP'], [0.5, 'CtBP', 'CuE', 'EiL', 'LiJ', 'JpBP'], [0.5, 'CtBP', 'CuE', 'EiL', 'LiK', 'KpBP'], [0.5, 'CtBP', 'CuE', 'EiL', 'LiL', 'LpBP'], [0.5, 'CtBP', 'CdF', 'FiA', 'AiA', 'ApBP'], [0.5, 'CtBP', 'CdF', 'FiA', 'AiB', 'BpBP'], [0.5, 'CtBP', 'CdF', 'FiA', 'AiG', 'GpBP'], [0.5, 'CtBP', 'CdF', 'FiA', 'AiD', 'DpBP'], [0.5, 'CtBP', 'CdF', 'FiA', 'AiE', 'EpBP'], [0.5, 'CtBP', 'CdF', 'FiA', 'AiF', 'FpBP'], [0.5, 'CtBP', 'CdF', 'FiA', 'AiH', 'HpBP'], [0.5, 'CtBP', 'CdF', 'FiA', 'AiI', 'IpBP'], [0.5, 'CtBP', 'CdF', 'FiA', 'AiJ', 'JpBP'], [0.5, 'CtBP', 'CdF', 'FiA', 'AiK', 'KpBP'], [0.5, 'CtBP', 'CdF', 'FiA', 'AiL', 'LpBP'], [0.5, 'CtBP', 'CdF', 'FiB', 'BiA', 'ApBP'], [0.5, 'CtBP', 'CdF', 'FiB', 'BiB', 'BpBP'], [0.5, 'CtBP', 'CdF', 'FiB', 'BiG', 'GpBP'], [0.5, 'CtBP', 'CdF', 'FiB', 'BiD', 'DpBP'], [0.5, 'CtBP', 'CdF', 'FiB', 'BiE', 'EpBP'], [0.5, 'CtBP', 'CdF', 'FiB', 'BiF', 'FpBP'], [0.5, 'CtBP', 'CdF', 'FiB', 'BiH', 'HpBP'], [0.5, 'CtBP', 'CdF', 'FiB', 'BiI', 'IpBP'], [0.5, 'CtBP', 'CdF', 'FiB', 'BiJ', 'JpBP'], [0.5, 'CtBP', 'CdF', 'FiB', 'BiK', 'KpBP'], [0.5, 'CtBP', 'CdF', 'FiB', 'BiL', 'LpBP'], [0.5, 'CtBP', 'CdF', 'FiG', 'GiA', 'ApBP'], [0.5, 'CtBP', 'CdF', 'FiG', 'GiB', 'BpBP'], [0.5, 'CtBP', 'CdF', 'FiG', 'GiG', 'GpBP'], [0.5, 'CtBP', 'CdF', 'FiG', 'GiD', 'DpBP'], [0.5, 'CtBP', 'CdF', 'FiG', 'GiE', 'EpBP'], [0.5, 'CtBP', 'CdF', 'FiG', 'GiF', 'FpBP'], [0.5, 'CtBP', 'CdF', 'FiG', 'GiH', 'HpBP'], [0.5, 'CtBP', 'CdF', 'FiG', 'GiI', 'IpBP'], [0.5, 'CtBP', 'CdF', 'FiG', 'GiJ', 'JpBP'], [0.5, 'CtBP', 'CdF', 'FiG', 'GiK', 'KpBP'], [0.5, 'CtBP', 'CdF', 'FiG', 'GiL', 'LpBP'], [0.5, 'CtBP', 'CdF', 'FiD', 'DiA', 'ApBP'], [0.5, 'CtBP', 'CdF', 'FiD', 'DiB', 'BpBP'], [0.5, 'CtBP', 'CdF', 'FiD', 'DiG', 'GpBP'], [0.5, 'CtBP', 'CdF', 'FiD', 'DiD', 'DpBP'], [0.5, 'CtBP', 'CdF', 'FiD', 'DiE', 'EpBP'], [0.5, 'CtBP', 'CdF', 'FiD', 'DiF', 'FpBP'], [0.5, 'CtBP', 'CdF', 'FiD', 'DiH', 'HpBP'], [0.5, 'CtBP', 'CdF', 'FiD', 'DiI', 'IpBP'], [0.5, 'CtBP', 'CdF', 'FiD', 'DiJ', 'JpBP'], [0.5, 'CtBP', 'CdF', 'FiD', 'DiK', 'KpBP'], [0.5, 'CtBP', 'CdF', 'FiD', 'DiL', 'LpBP'], [0.5, 'CtBP', 'CdF', 'FiE', 'EiA', 'ApBP'], [0.5, 'CtBP', 'CdF', 'FiE', 'EiB', 'BpBP'], [0.5, 'CtBP', 'CdF', 'FiE', 'EiG', 'GpBP'], [0.5, 'CtBP', 'CdF', 'FiE', 'EiD', 'DpBP'], [0.5, 'CtBP', 'CdF', 'FiE', 'EiE', 'EpBP'], [0.5, 'CtBP', 'CdF', 'FiE', 'EiF', 'FpBP'], [0.5, 'CtBP', 'CdF', 'FiE', 'EiH', 'HpBP'], [0.5, 'CtBP', 'CdF', 'FiE', 'EiI', 'IpBP'], [0.5, 'CtBP', 'CdF', 'FiE', 'EiJ', 'JpBP'], [0.5, 'CtBP', 'CdF', 'FiE', 'EiK', 'KpBP'], [0.5, 'CtBP', 'CdF', 'FiE', 'EiL', 'LpBP'], [0.5, 'CtBP', 'CdF', 'FiF', 'FiA', 'ApBP'], [0.5, 'CtBP', 'CdF', 'FiF', 'FiB', 'BpBP'], [0.5, 'CtBP', 'CdF', 'FiF', 'FiG', 'GpBP'], [0.5, 'CtBP', 'CdF', 'FiF', 'FiD', 'DpBP'], [0.5, 'CtBP', 'CdF', 'FiF', 'FiE', 'EpBP'], [0.5, 'CtBP', 'CdF', 'FiF', 'FiF', 'FpBP'], [0.5, 'CtBP', 'CdF', 'FiF', 'FiH', 'HpBP'], [0.5, 'CtBP', 'CdF', 'FiF', 'FiI', 'IpBP'], [0.5, 'CtBP', 'CdF', 'FiF', 'FiJ', 'JpBP'], [0.5, 'CtBP', 'CdF', 'FiF', 'FiK', 'KpBP'], [0.5, 'CtBP', 'CdF', 'FiF', 'FiL', 'LpBP'], [0.5, 'CtBP', 'CdF', 'FiH', 'HiA', 'ApBP'], [0.5, 'CtBP', 'CdF', 'FiH', 'HiB', 'BpBP'], [0.5, 'CtBP', 'CdF', 'FiH', 'HiG', 'GpBP'], [0.5, 'CtBP', 'CdF', 'FiH', 'HiD', 'DpBP'], [0.5, 'CtBP', 'CdF', 'FiH', 'HiE', 'EpBP'], [0.5, 'CtBP', 'CdF', 'FiH', 'HiF', 'FpBP'], [0.5, 'CtBP', 'CdF', 'FiH', 'HiH', 'HpBP'], [0.5, 'CtBP', 'CdF', 'FiH', 'HiI', 'IpBP'], [0.5, 'CtBP', 'CdF', 'FiH', 'HiJ', 'JpBP'], [0.5, 'CtBP', 'CdF', 'FiH', 'HiK', 'KpBP'], [0.5, 'CtBP', 'CdF', 'FiH', 'HiL', 'LpBP'], [0.5, 'CtBP', 'CdF', 'FiI', 'IiA', 'ApBP'], [0.5, 'CtBP', 'CdF', 'FiI', 'IiB', 'BpBP'], [0.5, 'CtBP', 'CdF', 'FiI', 'IiG', 'GpBP'], [0.5, 'CtBP', 'CdF', 'FiI', 'IiD', 'DpBP'], [0.5, 'CtBP', 'CdF', 'FiI', 'IiE', 'EpBP'], [0.5, 'CtBP', 'CdF', 'FiI', 'IiF', 'FpBP'], [0.5, 'CtBP', 'CdF', 'FiI', 'IiH', 'HpBP'], [0.5, 'CtBP', 'CdF', 'FiI', 'IiI', 'IpBP'], [0.5, 'CtBP', 'CdF', 'FiI', 'IiJ', 'JpBP'], [0.5, 'CtBP', 'CdF', 'FiI', 'IiK', 'KpBP'], [0.5, 'CtBP', 'CdF', 'FiI', 'IiL', 'LpBP'], [0.5, 'CtBP', 'CdF', 'FiJ', 'JiA', 'ApBP'], [0.5, 'CtBP', 'CdF', 'FiJ', 'JiB', 'BpBP'], [0.5, 'CtBP', 'CdF', 'FiJ', 'JiG', 'GpBP'], [0.5, 'CtBP', 'CdF', 'FiJ', 'JiD', 'DpBP'], [0.5, 'CtBP', 'CdF', 'FiJ', 'JiE', 'EpBP'], [0.5, 'CtBP', 'CdF', 'FiJ', 'JiF', 'FpBP'], [0.5, 'CtBP', 'CdF', 'FiJ', 'JiH', 'HpBP'], [0.5, 'CtBP', 'CdF', 'FiJ', 'JiI', 'IpBP'], [0.5, 'CtBP', 'CdF', 'FiJ', 'JiJ', 'JpBP'], [0.5, 'CtBP', 'CdF', 'FiJ', 'JiK', 'KpBP'], [0.5, 'CtBP', 'CdF', 'FiJ', 'JiL', 'LpBP'], [0.5, 'CtBP', 'CdF', 'FiK', 'KiA', 'ApBP'], [0.5, 'CtBP', 'CdF', 'FiK', 'KiB', 'BpBP'], [0.5, 'CtBP', 'CdF', 'FiK', 'KiG', 'GpBP'], [0.5, 'CtBP', 'CdF', 'FiK', 'KiD', 'DpBP'], [0.5, 'CtBP', 'CdF', 'FiK', 'KiE', 'EpBP'], [0.5, 'CtBP', 'CdF', 'FiK', 'KiF', 'FpBP'], [0.5, 'CtBP', 'CdF', 'FiK', 'KiH', 'HpBP'], [0.5, 'CtBP', 'CdF', 'FiK', 'KiI', 'IpBP'], [0.5, 'CtBP', 'CdF', 'FiK', 'KiJ', 'JpBP'], [0.5, 'CtBP', 'CdF', 'FiK', 'KiK', 'KpBP'], [0.5, 'CtBP', 'CdF', 'FiK', 'KiL', 'LpBP'], [0.5, 'CtBP', 'CdF', 'FiL', 'LiA', 'ApBP'], [0.5, 'CtBP', 'CdF', 'FiL', 'LiB', 'BpBP'], [0.5, 'CtBP', 'CdF', 'FiL', 'LiG', 'GpBP'], [0.5, 'CtBP', 'CdF', 'FiL', 'LiD', 'DpBP'], [0.5, 'CtBP', 'CdF', 'FiL', 'LiE', 'EpBP'], [0.5, 'CtBP', 'CdF', 'FiL', 'LiF', 'FpBP'], [0.5, 'CtBP', 'CdF', 'FiL', 'LiH', 'HpBP'], [0.5, 'CtBP', 'CdF', 'FiL', 'LiI', 'IpBP'], [0.5, 'CtBP', 'CdF', 'FiL', 'LiJ', 'JpBP'], [0.5, 'CtBP', 'CdF', 'FiL', 'LiK', 'KpBP'], [0.5, 'CtBP', 'CdF', 'FiL', 'LiL', 'LpBP'], [0.5, 'CtBP', 'CuF', 'FiA', 'AiA', 'ApBP'], [0.5, 'CtBP', 'CuF', 'FiA', 'AiB', 'BpBP'], [0.5, 'CtBP', 'CuF', 'FiA', 'AiG', 'GpBP'], [0.5, 'CtBP', 'CuF', 'FiA', 'AiD', 'DpBP'], [0.5, 'CtBP', 'CuF', 'FiA', 'AiE', 'EpBP'], [0.5, 'CtBP', 'CuF', 'FiA', 'AiF', 'FpBP'], [0.5, 'CtBP', 'CuF', 'FiA', 'AiH', 'HpBP'], [0.5, 'CtBP', 'CuF', 'FiA', 'AiI', 'IpBP'], [0.5, 'CtBP', 'CuF', 'FiA', 'AiJ', 'JpBP'], [0.5, 'CtBP', 'CuF', 'FiA', 'AiK', 'KpBP'], [0.5, 'CtBP', 'CuF', 'FiA', 'AiL', 'LpBP'], [0.5, 'CtBP', 'CuF', 'FiB', 'BiA', 'ApBP'], [0.5, 'CtBP', 'CuF', 'FiB', 'BiB', 'BpBP'], [0.5, 'CtBP', 'CuF', 'FiB', 'BiG', 'GpBP'], [0.5, 'CtBP', 'CuF', 'FiB', 'BiD', 'DpBP'], [0.5, 'CtBP', 'CuF', 'FiB', 'BiE', 'EpBP'], [0.5, 'CtBP', 'CuF', 'FiB', 'BiF', 'FpBP'], [0.5, 'CtBP', 'CuF', 'FiB', 'BiH', 'HpBP'], [0.5, 'CtBP', 'CuF', 'FiB', 'BiI', 'IpBP'], [0.5, 'CtBP', 'CuF', 'FiB', 'BiJ', 'JpBP'], [0.5, 'CtBP', 'CuF', 'FiB', 'BiK', 'KpBP'], [0.5, 'CtBP', 'CuF', 'FiB', 'BiL', 'LpBP'], [0.5, 'CtBP', 'CuF', 'FiG', 'GiA', 'ApBP'], [0.5, 'CtBP', 'CuF', 'FiG', 'GiB', 'BpBP'], [0.5, 'CtBP', 'CuF', 'FiG', 'GiG', 'GpBP'], [0.5, 'CtBP', 'CuF', 'FiG', 'GiD', 'DpBP'], [0.5, 'CtBP', 'CuF', 'FiG', 'GiE', 'EpBP'], [0.5, 'CtBP', 'CuF', 'FiG', 'GiF', 'FpBP'], [0.5, 'CtBP', 'CuF', 'FiG', 'GiH', 'HpBP'], [0.5, 'CtBP', 'CuF', 'FiG', 'GiI', 'IpBP'], [0.5, 'CtBP', 'CuF', 'FiG', 'GiJ', 'JpBP'], [0.5, 'CtBP', 'CuF', 'FiG', 'GiK', 'KpBP'], [0.5, 'CtBP', 'CuF', 'FiG', 'GiL', 'LpBP'], [0.5, 'CtBP', 'CuF', 'FiD', 'DiA', 'ApBP'], [0.5, 'CtBP', 'CuF', 'FiD', 'DiB', 'BpBP'], [0.5, 'CtBP', 'CuF', 'FiD', 'DiG', 'GpBP'], [0.5, 'CtBP', 'CuF', 'FiD', 'DiD', 'DpBP'], [0.5, 'CtBP', 'CuF', 'FiD', 'DiE', 'EpBP'], [0.5, 'CtBP', 'CuF', 'FiD', 'DiF', 'FpBP'], [0.5, 'CtBP', 'CuF', 'FiD', 'DiH', 'HpBP'], [0.5, 'CtBP', 'CuF', 'FiD', 'DiI', 'IpBP'], [0.5, 'CtBP', 'CuF', 'FiD', 'DiJ', 'JpBP'], [0.5, 'CtBP', 'CuF', 'FiD', 'DiK', 'KpBP'], [0.5, 'CtBP', 'CuF', 'FiD', 'DiL', 'LpBP'], [0.5, 'CtBP', 'CuF', 'FiE', 'EiA', 'ApBP'], [0.5, 'CtBP', 'CuF', 'FiE', 'EiB', 'BpBP'], [0.5, 'CtBP', 'CuF', 'FiE', 'EiG', 'GpBP'], [0.5, 'CtBP', 'CuF', 'FiE', 'EiD', 'DpBP'], [0.5, 'CtBP', 'CuF', 'FiE', 'EiE', 'EpBP'], [0.5, 'CtBP', 'CuF', 'FiE', 'EiF', 'FpBP'], [0.5, 'CtBP', 'CuF', 'FiE', 'EiH', 'HpBP'], [0.5, 'CtBP', 'CuF', 'FiE', 'EiI', 'IpBP'], [0.5, 'CtBP', 'CuF', 'FiE', 'EiJ', 'JpBP'], [0.5, 'CtBP', 'CuF', 'FiE', 'EiK', 'KpBP'], [0.5, 'CtBP', 'CuF', 'FiE', 'EiL', 'LpBP'], [0.5, 'CtBP', 'CuF', 'FiF', 'FiA', 'ApBP'], [0.5, 'CtBP', 'CuF', 'FiF', 'FiB', 'BpBP'], [0.5, 'CtBP', 'CuF', 'FiF', 'FiG', 'GpBP'], [0.5, 'CtBP', 'CuF', 'FiF', 'FiD', 'DpBP'], [0.5, 'CtBP', 'CuF', 'FiF', 'FiE', 'EpBP'], [0.5, 'CtBP', 'CuF', 'FiF', 'FiF', 'FpBP'], [0.5, 'CtBP', 'CuF', 'FiF', 'FiH', 'HpBP'], [0.5, 'CtBP', 'CuF', 'FiF', 'FiI', 'IpBP'], [0.5, 'CtBP', 'CuF', 'FiF', 'FiJ', 'JpBP'], [0.5, 'CtBP', 'CuF', 'FiF', 'FiK', 'KpBP'], [0.5, 'CtBP', 'CuF', 'FiF', 'FiL', 'LpBP'], [0.5, 'CtBP', 'CuF', 'FiH', 'HiA', 'ApBP'], [0.5, 'CtBP', 'CuF', 'FiH', 'HiB', 'BpBP'], [0.5, 'CtBP', 'CuF', 'FiH', 'HiG', 'GpBP'], [0.5, 'CtBP', 'CuF', 'FiH', 'HiD', 'DpBP'], [0.5, 'CtBP', 'CuF', 'FiH', 'HiE', 'EpBP'], [0.5, 'CtBP', 'CuF', 'FiH', 'HiF', 'FpBP'], [0.5, 'CtBP', 'CuF', 'FiH', 'HiH', 'HpBP'], [0.5, 'CtBP', 'CuF', 'FiH', 'HiI', 'IpBP'], [0.5, 'CtBP', 'CuF', 'FiH', 'HiJ', 'JpBP'], [0.5, 'CtBP', 'CuF', 'FiH', 'HiK', 'KpBP'], [0.5, 'CtBP', 'CuF', 'FiH', 'HiL', 'LpBP'], [0.5, 'CtBP', 'CuF', 'FiI', 'IiA', 'ApBP'], [0.5, 'CtBP', 'CuF', 'FiI', 'IiB', 'BpBP'], [0.5, 'CtBP', 'CuF', 'FiI', 'IiG', 'GpBP'], [0.5, 'CtBP', 'CuF', 'FiI', 'IiD', 'DpBP'], [0.5, 'CtBP', 'CuF', 'FiI', 'IiE', 'EpBP'], [0.5, 'CtBP', 'CuF', 'FiI', 'IiF', 'FpBP'], [0.5, 'CtBP', 'CuF', 'FiI', 'IiH', 'HpBP'], [0.5, 'CtBP', 'CuF', 'FiI', 'IiI', 'IpBP'], [0.5, 'CtBP', 'CuF', 'FiI', 'IiJ', 'JpBP'], [0.5, 'CtBP', 'CuF', 'FiI', 'IiK', 'KpBP'], [0.5, 'CtBP', 'CuF', 'FiI', 'IiL', 'LpBP'], [0.5, 'CtBP', 'CuF', 'FiJ', 'JiA', 'ApBP'], [0.5, 'CtBP', 'CuF', 'FiJ', 'JiB', 'BpBP'], [0.5, 'CtBP', 'CuF', 'FiJ', 'JiG', 'GpBP'], [0.5, 'CtBP', 'CuF', 'FiJ', 'JiD', 'DpBP'], [0.5, 'CtBP', 'CuF', 'FiJ', 'JiE', 'EpBP'], [0.5, 'CtBP', 'CuF', 'FiJ', 'JiF', 'FpBP'], [0.5, 'CtBP', 'CuF', 'FiJ', 'JiH', 'HpBP'], [0.5, 'CtBP', 'CuF', 'FiJ', 'JiI', 'IpBP'], [0.5, 'CtBP', 'CuF', 'FiJ', 'JiJ', 'JpBP'], [0.5, 'CtBP', 'CuF', 'FiJ', 'JiK', 'KpBP'], [0.5, 'CtBP', 'CuF', 'FiJ', 'JiL', 'LpBP'], [0.5, 'CtBP', 'CuF', 'FiK', 'KiA', 'ApBP'], [0.5, 'CtBP', 'CuF', 'FiK', 'KiB', 'BpBP'], [0.5, 'CtBP', 'CuF', 'FiK', 'KiG', 'GpBP'], [0.5, 'CtBP', 'CuF', 'FiK', 'KiD', 'DpBP'], [0.5, 'CtBP', 'CuF', 'FiK', 'KiE', 'EpBP'], [0.5, 'CtBP', 'CuF', 'FiK', 'KiF', 'FpBP'], [0.5, 'CtBP', 'CuF', 'FiK', 'KiH', 'HpBP'], [0.5, 'CtBP', 'CuF', 'FiK', 'KiI', 'IpBP'], [0.5, 'CtBP', 'CuF', 'FiK', 'KiJ', 'JpBP'], [0.5, 'CtBP', 'CuF', 'FiK', 'KiK', 'KpBP'], [0.5, 'CtBP', 'CuF', 'FiK', 'KiL', 'LpBP'], [0.5, 'CtBP', 'CuF', 'FiL', 'LiA', 'ApBP'], [0.5, 'CtBP', 'CuF', 'FiL', 'LiB', 'BpBP'], [0.5, 'CtBP', 'CuF', 'FiL', 'LiG', 'GpBP'], [0.5, 'CtBP', 'CuF', 'FiL', 'LiD', 'DpBP'], [0.5, 'CtBP', 'CuF', 'FiL', 'LiE', 'EpBP'], [0.5, 'CtBP', 'CuF', 'FiL', 'LiF', 'FpBP'], [0.5, 'CtBP', 'CuF', 'FiL', 'LiH', 'HpBP'], [0.5, 'CtBP', 'CuF', 'FiL', 'LiI', 'IpBP'], [0.5, 'CtBP', 'CuF', 'FiL', 'LiJ', 'JpBP'], [0.5, 'CtBP', 'CuF', 'FiL', 'LiK', 'KpBP'], [0.5, 'CtBP', 'CuF', 'FiL', 'LiL', 'LpBP'], [0.5, 'CtBP', 'CdH', 'HiA', 'AiA', 'ApBP'], [0.5, 'CtBP', 'CdH', 'HiA', 'AiB', 'BpBP'], [0.5, 'CtBP', 'CdH', 'HiA', 'AiG', 'GpBP'], [0.5, 'CtBP', 'CdH', 'HiA', 'AiD', 'DpBP'], [0.5, 'CtBP', 'CdH', 'HiA', 'AiE', 'EpBP'], [0.5, 'CtBP', 'CdH', 'HiA', 'AiF', 'FpBP'], [0.5, 'CtBP', 'CdH', 'HiA', 'AiH', 'HpBP'], [0.5, 'CtBP', 'CdH', 'HiA', 'AiI', 'IpBP'], [0.5, 'CtBP', 'CdH', 'HiA', 'AiJ', 'JpBP'], [0.5, 'CtBP', 'CdH', 'HiA', 'AiK', 'KpBP'], [0.5, 'CtBP', 'CdH', 'HiA', 'AiL', 'LpBP'], [0.5, 'CtBP', 'CdH', 'HiB', 'BiA', 'ApBP'], [0.5, 'CtBP', 'CdH', 'HiB', 'BiB', 'BpBP'], [0.5, 'CtBP', 'CdH', 'HiB', 'BiG', 'GpBP'], [0.5, 'CtBP', 'CdH', 'HiB', 'BiD', 'DpBP'], [0.5, 'CtBP', 'CdH', 'HiB', 'BiE', 'EpBP'], [0.5, 'CtBP', 'CdH', 'HiB', 'BiF', 'FpBP'], [0.5, 'CtBP', 'CdH', 'HiB', 'BiH', 'HpBP'], [0.5, 'CtBP', 'CdH', 'HiB', 'BiI', 'IpBP'], [0.5, 'CtBP', 'CdH', 'HiB', 'BiJ', 'JpBP'], [0.5, 'CtBP', 'CdH', 'HiB', 'BiK', 'KpBP'], [0.5, 'CtBP', 'CdH', 'HiB', 'BiL', 'LpBP'], [0.5, 'CtBP', 'CdH', 'HiG', 'GiA', 'ApBP'], [0.5, 'CtBP', 'CdH', 'HiG', 'GiB', 'BpBP'], [0.5, 'CtBP', 'CdH', 'HiG', 'GiG', 'GpBP'], [0.5, 'CtBP', 'CdH', 'HiG', 'GiD', 'DpBP'], [0.5, 'CtBP', 'CdH', 'HiG', 'GiE', 'EpBP'], [0.5, 'CtBP', 'CdH', 'HiG', 'GiF', 'FpBP'], [0.5, 'CtBP', 'CdH', 'HiG', 'GiH', 'HpBP'], [0.5, 'CtBP', 'CdH', 'HiG', 'GiI', 'IpBP'], [0.5, 'CtBP', 'CdH', 'HiG', 'GiJ', 'JpBP'], [0.5, 'CtBP', 'CdH', 'HiG', 'GiK', 'KpBP'], [0.5, 'CtBP', 'CdH', 'HiG', 'GiL', 'LpBP'], [0.5, 'CtBP', 'CdH', 'HiD', 'DiA', 'ApBP'], [0.5, 'CtBP', 'CdH', 'HiD', 'DiB', 'BpBP'], [0.5, 'CtBP', 'CdH', 'HiD', 'DiG', 'GpBP'], [0.5, 'CtBP', 'CdH', 'HiD', 'DiD', 'DpBP'], [0.5, 'CtBP', 'CdH', 'HiD', 'DiE', 'EpBP'], [0.5, 'CtBP', 'CdH', 'HiD', 'DiF', 'FpBP'], [0.5, 'CtBP', 'CdH', 'HiD', 'DiH', 'HpBP'], [0.5, 'CtBP', 'CdH', 'HiD', 'DiI', 'IpBP'], [0.5, 'CtBP', 'CdH', 'HiD', 'DiJ', 'JpBP'], [0.5, 'CtBP', 'CdH', 'HiD', 'DiK', 'KpBP'], [0.5, 'CtBP', 'CdH', 'HiD', 'DiL', 'LpBP'], [0.5, 'CtBP', 'CdH', 'HiE', 'EiA', 'ApBP'], [0.5, 'CtBP', 'CdH', 'HiE', 'EiB', 'BpBP'], [0.5, 'CtBP', 'CdH', 'HiE', 'EiG', 'GpBP'], [0.5, 'CtBP', 'CdH', 'HiE', 'EiD', 'DpBP'], [0.5, 'CtBP', 'CdH', 'HiE', 'EiE', 'EpBP'], [0.5, 'CtBP', 'CdH', 'HiE', 'EiF', 'FpBP'], [0.5, 'CtBP', 'CdH', 'HiE', 'EiH', 'HpBP'], [0.5, 'CtBP', 'CdH', 'HiE', 'EiI', 'IpBP'], [0.5, 'CtBP', 'CdH', 'HiE', 'EiJ', 'JpBP'], [0.5, 'CtBP', 'CdH', 'HiE', 'EiK', 'KpBP'], [0.5, 'CtBP', 'CdH', 'HiE', 'EiL', 'LpBP'], [0.5, 'CtBP', 'CdH', 'HiF', 'FiA', 'ApBP'], [0.5, 'CtBP', 'CdH', 'HiF', 'FiB', 'BpBP'], [0.5, 'CtBP', 'CdH', 'HiF', 'FiG', 'GpBP'], [0.5, 'CtBP', 'CdH', 'HiF', 'FiD', 'DpBP'], [0.5, 'CtBP', 'CdH', 'HiF', 'FiE', 'EpBP'], [0.5, 'CtBP', 'CdH', 'HiF', 'FiF', 'FpBP'], [0.5, 'CtBP', 'CdH', 'HiF', 'FiH', 'HpBP'], [0.5, 'CtBP', 'CdH', 'HiF', 'FiI', 'IpBP'], [0.5, 'CtBP', 'CdH', 'HiF', 'FiJ', 'JpBP'], [0.5, 'CtBP', 'CdH', 'HiF', 'FiK', 'KpBP'], [0.5, 'CtBP', 'CdH', 'HiF', 'FiL', 'LpBP'], [0.5, 'CtBP', 'CdH', 'HiH', 'HiA', 'ApBP'], [0.5, 'CtBP', 'CdH', 'HiH', 'HiB', 'BpBP'], [0.5, 'CtBP', 'CdH', 'HiH', 'HiG', 'GpBP'], [0.5, 'CtBP', 'CdH', 'HiH', 'HiD', 'DpBP'], [0.5, 'CtBP', 'CdH', 'HiH', 'HiE', 'EpBP'], [0.5, 'CtBP', 'CdH', 'HiH', 'HiF', 'FpBP'], [0.5, 'CtBP', 'CdH', 'HiH', 'HiH', 'HpBP'], [0.5, 'CtBP', 'CdH', 'HiH', 'HiI', 'IpBP'], [0.5, 'CtBP', 'CdH', 'HiH', 'HiJ', 'JpBP'], [0.5, 'CtBP', 'CdH', 'HiH', 'HiK', 'KpBP'], [0.5, 'CtBP', 'CdH', 'HiH', 'HiL', 'LpBP'], [0.5, 'CtBP', 'CdH', 'HiI', 'IiA', 'ApBP'], [0.5, 'CtBP', 'CdH', 'HiI', 'IiB', 'BpBP'], [0.5, 'CtBP', 'CdH', 'HiI', 'IiG', 'GpBP'], [0.5, 'CtBP', 'CdH', 'HiI', 'IiD', 'DpBP'], [0.5, 'CtBP', 'CdH', 'HiI', 'IiE', 'EpBP'], [0.5, 'CtBP', 'CdH', 'HiI', 'IiF', 'FpBP'], [0.5, 'CtBP', 'CdH', 'HiI', 'IiH', 'HpBP'], [0.5, 'CtBP', 'CdH', 'HiI', 'IiI', 'IpBP'], [0.5, 'CtBP', 'CdH', 'HiI', 'IiJ', 'JpBP'], [0.5, 'CtBP', 'CdH', 'HiI', 'IiK', 'KpBP'], [0.5, 'CtBP', 'CdH', 'HiI', 'IiL', 'LpBP'], [0.5, 'CtBP', 'CdH', 'HiJ', 'JiA', 'ApBP'], [0.5, 'CtBP', 'CdH', 'HiJ', 'JiB', 'BpBP'], [0.5, 'CtBP', 'CdH', 'HiJ', 'JiG', 'GpBP'], [0.5, 'CtBP', 'CdH', 'HiJ', 'JiD', 'DpBP'], [0.5, 'CtBP', 'CdH', 'HiJ', 'JiE', 'EpBP'], [0.5, 'CtBP', 'CdH', 'HiJ', 'JiF', 'FpBP'], [0.5, 'CtBP', 'CdH', 'HiJ', 'JiH', 'HpBP'], [0.5, 'CtBP', 'CdH', 'HiJ', 'JiI', 'IpBP'], [0.5, 'CtBP', 'CdH', 'HiJ', 'JiJ', 'JpBP'], [0.5, 'CtBP', 'CdH', 'HiJ', 'JiK', 'KpBP'], [0.5, 'CtBP', 'CdH', 'HiJ', 'JiL', 'LpBP'], [0.5, 'CtBP', 'CdH', 'HiK', 'KiA', 'ApBP'], [0.5, 'CtBP', 'CdH', 'HiK', 'KiB', 'BpBP'], [0.5, 'CtBP', 'CdH', 'HiK', 'KiG', 'GpBP'], [0.5, 'CtBP', 'CdH', 'HiK', 'KiD', 'DpBP'], [0.5, 'CtBP', 'CdH', 'HiK', 'KiE', 'EpBP'], [0.5, 'CtBP', 'CdH', 'HiK', 'KiF', 'FpBP'], [0.5, 'CtBP', 'CdH', 'HiK', 'KiH', 'HpBP'], [0.5, 'CtBP', 'CdH', 'HiK', 'KiI', 'IpBP'], [0.5, 'CtBP', 'CdH', 'HiK', 'KiJ', 'JpBP'], [0.5, 'CtBP', 'CdH', 'HiK', 'KiK', 'KpBP'], [0.5, 'CtBP', 'CdH', 'HiK', 'KiL', 'LpBP'], [0.5, 'CtBP', 'CdH', 'HiL', 'LiA', 'ApBP'], [0.5, 'CtBP', 'CdH', 'HiL', 'LiB', 'BpBP'], [0.5, 'CtBP', 'CdH', 'HiL', 'LiG', 'GpBP'], [0.5, 'CtBP', 'CdH', 'HiL', 'LiD', 'DpBP'], [0.5, 'CtBP', 'CdH', 'HiL', 'LiE', 'EpBP'], [0.5, 'CtBP', 'CdH', 'HiL', 'LiF', 'FpBP'], [0.5, 'CtBP', 'CdH', 'HiL', 'LiH', 'HpBP'], [0.5, 'CtBP', 'CdH', 'HiL', 'LiI', 'IpBP'], [0.5, 'CtBP', 'CdH', 'HiL', 'LiJ', 'JpBP'], [0.5, 'CtBP', 'CdH', 'HiL', 'LiK', 'KpBP'], [0.5, 'CtBP', 'CdH', 'HiL', 'LiL', 'LpBP'], [0.5, 'CtBP', 'CuH', 'HiA', 'AiA', 'ApBP'], [0.5, 'CtBP', 'CuH', 'HiA', 'AiB', 'BpBP'], [0.5, 'CtBP', 'CuH', 'HiA', 'AiG', 'GpBP'], [0.5, 'CtBP', 'CuH', 'HiA', 'AiD', 'DpBP'], [0.5, 'CtBP', 'CuH', 'HiA', 'AiE', 'EpBP'], [0.5, 'CtBP', 'CuH', 'HiA', 'AiF', 'FpBP'], [0.5, 'CtBP', 'CuH', 'HiA', 'AiH', 'HpBP'], [0.5, 'CtBP', 'CuH', 'HiA', 'AiI', 'IpBP'], [0.5, 'CtBP', 'CuH', 'HiA', 'AiJ', 'JpBP'], [0.5, 'CtBP', 'CuH', 'HiA', 'AiK', 'KpBP'], [0.5, 'CtBP', 'CuH', 'HiA', 'AiL', 'LpBP'], [0.5, 'CtBP', 'CuH', 'HiB', 'BiA', 'ApBP'], [0.5, 'CtBP', 'CuH', 'HiB', 'BiB', 'BpBP'], [0.5, 'CtBP', 'CuH', 'HiB', 'BiG', 'GpBP'], [0.5, 'CtBP', 'CuH', 'HiB', 'BiD', 'DpBP'], [0.5, 'CtBP', 'CuH', 'HiB', 'BiE', 'EpBP'], [0.5, 'CtBP', 'CuH', 'HiB', 'BiF', 'FpBP'], [0.5, 'CtBP', 'CuH', 'HiB', 'BiH', 'HpBP'], [0.5, 'CtBP', 'CuH', 'HiB', 'BiI', 'IpBP'], [0.5, 'CtBP', 'CuH', 'HiB', 'BiJ', 'JpBP'], [0.5, 'CtBP', 'CuH', 'HiB', 'BiK', 'KpBP'], [0.5, 'CtBP', 'CuH', 'HiB', 'BiL', 'LpBP'], [0.5, 'CtBP', 'CuH', 'HiG', 'GiA', 'ApBP'], [0.5, 'CtBP', 'CuH', 'HiG', 'GiB', 'BpBP'], [0.5, 'CtBP', 'CuH', 'HiG', 'GiG', 'GpBP'], [0.5, 'CtBP', 'CuH', 'HiG', 'GiD', 'DpBP'], [0.5, 'CtBP', 'CuH', 'HiG', 'GiE', 'EpBP'], [0.5, 'CtBP', 'CuH', 'HiG', 'GiF', 'FpBP'], [0.5, 'CtBP', 'CuH', 'HiG', 'GiH', 'HpBP'], [0.5, 'CtBP', 'CuH', 'HiG', 'GiI', 'IpBP'], [0.5, 'CtBP', 'CuH', 'HiG', 'GiJ', 'JpBP'], [0.5, 'CtBP', 'CuH', 'HiG', 'GiK', 'KpBP'], [0.5, 'CtBP', 'CuH', 'HiG', 'GiL', 'LpBP'], [0.5, 'CtBP', 'CuH', 'HiD', 'DiA', 'ApBP'], [0.5, 'CtBP', 'CuH', 'HiD', 'DiB', 'BpBP'], [0.5, 'CtBP', 'CuH', 'HiD', 'DiG', 'GpBP'], [0.5, 'CtBP', 'CuH', 'HiD', 'DiD', 'DpBP'], [0.5, 'CtBP', 'CuH', 'HiD', 'DiE', 'EpBP'], [0.5, 'CtBP', 'CuH', 'HiD', 'DiF', 'FpBP'], [0.5, 'CtBP', 'CuH', 'HiD', 'DiH', 'HpBP'], [0.5, 'CtBP', 'CuH', 'HiD', 'DiI', 'IpBP'], [0.5, 'CtBP', 'CuH', 'HiD', 'DiJ', 'JpBP'], [0.5, 'CtBP', 'CuH', 'HiD', 'DiK', 'KpBP'], [0.5, 'CtBP', 'CuH', 'HiD', 'DiL', 'LpBP'], [0.5, 'CtBP', 'CuH', 'HiE', 'EiA', 'ApBP'], [0.5, 'CtBP', 'CuH', 'HiE', 'EiB', 'BpBP'], [0.5, 'CtBP', 'CuH', 'HiE', 'EiG', 'GpBP'], [0.5, 'CtBP', 'CuH', 'HiE', 'EiD', 'DpBP'], [0.5, 'CtBP', 'CuH', 'HiE', 'EiE', 'EpBP'], [0.5, 'CtBP', 'CuH', 'HiE', 'EiF', 'FpBP'], [0.5, 'CtBP', 'CuH', 'HiE', 'EiH', 'HpBP'], [0.5, 'CtBP', 'CuH', 'HiE', 'EiI', 'IpBP'], [0.5, 'CtBP', 'CuH', 'HiE', 'EiJ', 'JpBP'], [0.5, 'CtBP', 'CuH', 'HiE', 'EiK', 'KpBP'], [0.5, 'CtBP', 'CuH', 'HiE', 'EiL', 'LpBP'], [0.5, 'CtBP', 'CuH', 'HiF', 'FiA', 'ApBP'], [0.5, 'CtBP', 'CuH', 'HiF', 'FiB', 'BpBP'], [0.5, 'CtBP', 'CuH', 'HiF', 'FiG', 'GpBP'], [0.5, 'CtBP', 'CuH', 'HiF', 'FiD', 'DpBP'], [0.5, 'CtBP', 'CuH', 'HiF', 'FiE', 'EpBP'], [0.5, 'CtBP', 'CuH', 'HiF', 'FiF', 'FpBP'], [0.5, 'CtBP', 'CuH', 'HiF', 'FiH', 'HpBP'], [0.5, 'CtBP', 'CuH', 'HiF', 'FiI', 'IpBP'], [0.5, 'CtBP', 'CuH', 'HiF', 'FiJ', 'JpBP'], [0.5, 'CtBP', 'CuH', 'HiF', 'FiK', 'KpBP'], [0.5, 'CtBP', 'CuH', 'HiF', 'FiL', 'LpBP'], [0.5, 'CtBP', 'CuH', 'HiH', 'HiA', 'ApBP'], [0.5, 'CtBP', 'CuH', 'HiH', 'HiB', 'BpBP'], [0.5, 'CtBP', 'CuH', 'HiH', 'HiG', 'GpBP'], [0.5, 'CtBP', 'CuH', 'HiH', 'HiD', 'DpBP'], [0.5, 'CtBP', 'CuH', 'HiH', 'HiE', 'EpBP'], [0.5, 'CtBP', 'CuH', 'HiH', 'HiF', 'FpBP'], [0.5, 'CtBP', 'CuH', 'HiH', 'HiH', 'HpBP'], [0.5, 'CtBP', 'CuH', 'HiH', 'HiI', 'IpBP'], [0.5, 'CtBP', 'CuH', 'HiH', 'HiJ', 'JpBP'], [0.5, 'CtBP', 'CuH', 'HiH', 'HiK', 'KpBP'], [0.5, 'CtBP', 'CuH', 'HiH', 'HiL', 'LpBP'], [0.5, 'CtBP', 'CuH', 'HiI', 'IiA', 'ApBP'], [0.5, 'CtBP', 'CuH', 'HiI', 'IiB', 'BpBP'], [0.5, 'CtBP', 'CuH', 'HiI', 'IiG', 'GpBP'], [0.5, 'CtBP', 'CuH', 'HiI', 'IiD', 'DpBP'], [0.5, 'CtBP', 'CuH', 'HiI', 'IiE', 'EpBP'], [0.5, 'CtBP', 'CuH', 'HiI', 'IiF', 'FpBP'], [0.5, 'CtBP', 'CuH', 'HiI', 'IiH', 'HpBP'], [0.5, 'CtBP', 'CuH', 'HiI', 'IiI', 'IpBP'], [0.5, 'CtBP', 'CuH', 'HiI', 'IiJ', 'JpBP'], [0.5, 'CtBP', 'CuH', 'HiI', 'IiK', 'KpBP'], [0.5, 'CtBP', 'CuH', 'HiI', 'IiL', 'LpBP'], [0.5, 'CtBP', 'CuH', 'HiJ', 'JiA', 'ApBP'], [0.5, 'CtBP', 'CuH', 'HiJ', 'JiB', 'BpBP'], [0.5, 'CtBP', 'CuH', 'HiJ', 'JiG', 'GpBP'], [0.5, 'CtBP', 'CuH', 'HiJ', 'JiD', 'DpBP'], [0.5, 'CtBP', 'CuH', 'HiJ', 'JiE', 'EpBP'], [0.5, 'CtBP', 'CuH', 'HiJ', 'JiF', 'FpBP'], [0.5, 'CtBP', 'CuH', 'HiJ', 'JiH', 'HpBP'], [0.5, 'CtBP', 'CuH', 'HiJ', 'JiI', 'IpBP'], [0.5, 'CtBP', 'CuH', 'HiJ', 'JiJ', 'JpBP'], [0.5, 'CtBP', 'CuH', 'HiJ', 'JiK', 'KpBP'], [0.5, 'CtBP', 'CuH', 'HiJ', 'JiL', 'LpBP'], [0.5, 'CtBP', 'CuH', 'HiK', 'KiA', 'ApBP'], [0.5, 'CtBP', 'CuH', 'HiK', 'KiB', 'BpBP'], [0.5, 'CtBP', 'CuH', 'HiK', 'KiG', 'GpBP'], [0.5, 'CtBP', 'CuH', 'HiK', 'KiD', 'DpBP'], [0.5, 'CtBP', 'CuH', 'HiK', 'KiE', 'EpBP'], [0.5, 'CtBP', 'CuH', 'HiK', 'KiF', 'FpBP'], [0.5, 'CtBP', 'CuH', 'HiK', 'KiH', 'HpBP'], [0.5, 'CtBP', 'CuH', 'HiK', 'KiI', 'IpBP'], [0.5, 'CtBP', 'CuH', 'HiK', 'KiJ', 'JpBP'], [0.5, 'CtBP', 'CuH', 'HiK', 'KiK', 'KpBP'], [0.5, 'CtBP', 'CuH', 'HiK', 'KiL', 'LpBP'], [0.5, 'CtBP', 'CuH', 'HiL', 'LiA', 'ApBP'], [0.5, 'CtBP', 'CuH', 'HiL', 'LiB', 'BpBP'], [0.5, 'CtBP', 'CuH', 'HiL', 'LiG', 'GpBP'], [0.5, 'CtBP', 'CuH', 'HiL', 'LiD', 'DpBP'], [0.5, 'CtBP', 'CuH', 'HiL', 'LiE', 'EpBP'], [0.5, 'CtBP', 'CuH', 'HiL', 'LiF', 'FpBP'], [0.5, 'CtBP', 'CuH', 'HiL', 'LiH', 'HpBP'], [0.5, 'CtBP', 'CuH', 'HiL', 'LiI', 'IpBP'], [0.5, 'CtBP', 'CuH', 'HiL', 'LiJ', 'JpBP'], [0.5, 'CtBP', 'CuH', 'HiL', 'LiK', 'KpBP'], [0.5, 'CtBP', 'CuH', 'HiL', 'LiL', 'LpBP'], [0.5, 'CtBP', 'CdI', 'IiA', 'AiA', 'ApBP'], [0.5, 'CtBP', 'CdI', 'IiA', 'AiB', 'BpBP'], [0.5, 'CtBP', 'CdI', 'IiA', 'AiG', 'GpBP'], [0.5, 'CtBP', 'CdI', 'IiA', 'AiD', 'DpBP'], [0.5, 'CtBP', 'CdI', 'IiA', 'AiE', 'EpBP'], [0.5, 'CtBP', 'CdI', 'IiA', 'AiF', 'FpBP'], [0.5, 'CtBP', 'CdI', 'IiA', 'AiH', 'HpBP'], [0.5, 'CtBP', 'CdI', 'IiA', 'AiI', 'IpBP'], [0.5, 'CtBP', 'CdI', 'IiA', 'AiJ', 'JpBP'], [0.5, 'CtBP', 'CdI', 'IiA', 'AiK', 'KpBP'], [0.5, 'CtBP', 'CdI', 'IiA', 'AiL', 'LpBP'], [0.5, 'CtBP', 'CdI', 'IiB', 'BiA', 'ApBP'], [0.5, 'CtBP', 'CdI', 'IiB', 'BiB', 'BpBP'], [0.5, 'CtBP', 'CdI', 'IiB', 'BiG', 'GpBP'], [0.5, 'CtBP', 'CdI', 'IiB', 'BiD', 'DpBP'], [0.5, 'CtBP', 'CdI', 'IiB', 'BiE', 'EpBP'], [0.5, 'CtBP', 'CdI', 'IiB', 'BiF', 'FpBP'], [0.5, 'CtBP', 'CdI', 'IiB', 'BiH', 'HpBP'], [0.5, 'CtBP', 'CdI', 'IiB', 'BiI', 'IpBP'], [0.5, 'CtBP', 'CdI', 'IiB', 'BiJ', 'JpBP'], [0.5, 'CtBP', 'CdI', 'IiB', 'BiK', 'KpBP'], [0.5, 'CtBP', 'CdI', 'IiB', 'BiL', 'LpBP'], [0.5, 'CtBP', 'CdI', 'IiG', 'GiA', 'ApBP'], [0.5, 'CtBP', 'CdI', 'IiG', 'GiB', 'BpBP'], [0.5, 'CtBP', 'CdI', 'IiG', 'GiG', 'GpBP'], [0.5, 'CtBP', 'CdI', 'IiG', 'GiD', 'DpBP'], [0.5, 'CtBP', 'CdI', 'IiG', 'GiE', 'EpBP'], [0.5, 'CtBP', 'CdI', 'IiG', 'GiF', 'FpBP'], [0.5, 'CtBP', 'CdI', 'IiG', 'GiH', 'HpBP'], [0.5, 'CtBP', 'CdI', 'IiG', 'GiI', 'IpBP'], [0.5, 'CtBP', 'CdI', 'IiG', 'GiJ', 'JpBP'], [0.5, 'CtBP', 'CdI', 'IiG', 'GiK', 'KpBP'], [0.5, 'CtBP', 'CdI', 'IiG', 'GiL', 'LpBP'], [0.5, 'CtBP', 'CdI', 'IiD', 'DiA', 'ApBP'], [0.5, 'CtBP', 'CdI', 'IiD', 'DiB', 'BpBP'], [0.5, 'CtBP', 'CdI', 'IiD', 'DiG', 'GpBP'], [0.5, 'CtBP', 'CdI', 'IiD', 'DiD', 'DpBP'], [0.5, 'CtBP', 'CdI', 'IiD', 'DiE', 'EpBP'], [0.5, 'CtBP', 'CdI', 'IiD', 'DiF', 'FpBP'], [0.5, 'CtBP', 'CdI', 'IiD', 'DiH', 'HpBP'], [0.5, 'CtBP', 'CdI', 'IiD', 'DiI', 'IpBP'], [0.5, 'CtBP', 'CdI', 'IiD', 'DiJ', 'JpBP'], [0.5, 'CtBP', 'CdI', 'IiD', 'DiK', 'KpBP'], [0.5, 'CtBP', 'CdI', 'IiD', 'DiL', 'LpBP'], [0.5, 'CtBP', 'CdI', 'IiE', 'EiA', 'ApBP'], [0.5, 'CtBP', 'CdI', 'IiE', 'EiB', 'BpBP'], [0.5, 'CtBP', 'CdI', 'IiE', 'EiG', 'GpBP'], [0.5, 'CtBP', 'CdI', 'IiE', 'EiD', 'DpBP'], [0.5, 'CtBP', 'CdI', 'IiE', 'EiE', 'EpBP'], [0.5, 'CtBP', 'CdI', 'IiE', 'EiF', 'FpBP'], [0.5, 'CtBP', 'CdI', 'IiE', 'EiH', 'HpBP'], [0.5, 'CtBP', 'CdI', 'IiE', 'EiI', 'IpBP'], [0.5, 'CtBP', 'CdI', 'IiE', 'EiJ', 'JpBP'], [0.5, 'CtBP', 'CdI', 'IiE', 'EiK', 'KpBP'], [0.5, 'CtBP', 'CdI', 'IiE', 'EiL', 'LpBP'], [0.5, 'CtBP', 'CdI', 'IiF', 'FiA', 'ApBP'], [0.5, 'CtBP', 'CdI', 'IiF', 'FiB', 'BpBP'], [0.5, 'CtBP', 'CdI', 'IiF', 'FiG', 'GpBP'], [0.5, 'CtBP', 'CdI', 'IiF', 'FiD', 'DpBP'], [0.5, 'CtBP', 'CdI', 'IiF', 'FiE', 'EpBP'], [0.5, 'CtBP', 'CdI', 'IiF', 'FiF', 'FpBP'], [0.5, 'CtBP', 'CdI', 'IiF', 'FiH', 'HpBP'], [0.5, 'CtBP', 'CdI', 'IiF', 'FiI', 'IpBP'], [0.5, 'CtBP', 'CdI', 'IiF', 'FiJ', 'JpBP'], [0.5, 'CtBP', 'CdI', 'IiF', 'FiK', 'KpBP'], [0.5, 'CtBP', 'CdI', 'IiF', 'FiL', 'LpBP'], [0.5, 'CtBP', 'CdI', 'IiH', 'HiA', 'ApBP'], [0.5, 'CtBP', 'CdI', 'IiH', 'HiB', 'BpBP'], [0.5, 'CtBP', 'CdI', 'IiH', 'HiG', 'GpBP'], [0.5, 'CtBP', 'CdI', 'IiH', 'HiD', 'DpBP'], [0.5, 'CtBP', 'CdI', 'IiH', 'HiE', 'EpBP'], [0.5, 'CtBP', 'CdI', 'IiH', 'HiF', 'FpBP'], [0.5, 'CtBP', 'CdI', 'IiH', 'HiH', 'HpBP'], [0.5, 'CtBP', 'CdI', 'IiH', 'HiI', 'IpBP'], [0.5, 'CtBP', 'CdI', 'IiH', 'HiJ', 'JpBP'], [0.5, 'CtBP', 'CdI', 'IiH', 'HiK', 'KpBP'], [0.5, 'CtBP', 'CdI', 'IiH', 'HiL', 'LpBP'], [0.5, 'CtBP', 'CdI', 'IiI', 'IiA', 'ApBP'], [0.5, 'CtBP', 'CdI', 'IiI', 'IiB', 'BpBP'], [0.5, 'CtBP', 'CdI', 'IiI', 'IiG', 'GpBP'], [0.5, 'CtBP', 'CdI', 'IiI', 'IiD', 'DpBP'], [0.5, 'CtBP', 'CdI', 'IiI', 'IiE', 'EpBP'], [0.5, 'CtBP', 'CdI', 'IiI', 'IiF', 'FpBP'], [0.5, 'CtBP', 'CdI', 'IiI', 'IiH', 'HpBP'], [0.5, 'CtBP', 'CdI', 'IiI', 'IiI', 'IpBP'], [0.5, 'CtBP', 'CdI', 'IiI', 'IiJ', 'JpBP'], [0.5, 'CtBP', 'CdI', 'IiI', 'IiK', 'KpBP'], [0.5, 'CtBP', 'CdI', 'IiI', 'IiL', 'LpBP'], [0.5, 'CtBP', 'CdI', 'IiJ', 'JiA', 'ApBP'], [0.5, 'CtBP', 'CdI', 'IiJ', 'JiB', 'BpBP'], [0.5, 'CtBP', 'CdI', 'IiJ', 'JiG', 'GpBP'], [0.5, 'CtBP', 'CdI', 'IiJ', 'JiD', 'DpBP'], [0.5, 'CtBP', 'CdI', 'IiJ', 'JiE', 'EpBP'], [0.5, 'CtBP', 'CdI', 'IiJ', 'JiF', 'FpBP'], [0.5, 'CtBP', 'CdI', 'IiJ', 'JiH', 'HpBP'], [0.5, 'CtBP', 'CdI', 'IiJ', 'JiI', 'IpBP'], [0.5, 'CtBP', 'CdI', 'IiJ', 'JiJ', 'JpBP'], [0.5, 'CtBP', 'CdI', 'IiJ', 'JiK', 'KpBP'], [0.5, 'CtBP', 'CdI', 'IiJ', 'JiL', 'LpBP'], [0.5, 'CtBP', 'CdI', 'IiK', 'KiA', 'ApBP'], [0.5, 'CtBP', 'CdI', 'IiK', 'KiB', 'BpBP'], [0.5, 'CtBP', 'CdI', 'IiK', 'KiG', 'GpBP'], [0.5, 'CtBP', 'CdI', 'IiK', 'KiD', 'DpBP'], [0.5, 'CtBP', 'CdI', 'IiK', 'KiE', 'EpBP'], [0.5, 'CtBP', 'CdI', 'IiK', 'KiF', 'FpBP'], [0.5, 'CtBP', 'CdI', 'IiK', 'KiH', 'HpBP'], [0.5, 'CtBP', 'CdI', 'IiK', 'KiI', 'IpBP'], [0.5, 'CtBP', 'CdI', 'IiK', 'KiJ', 'JpBP'], [0.5, 'CtBP', 'CdI', 'IiK', 'KiK', 'KpBP'], [0.5, 'CtBP', 'CdI', 'IiK', 'KiL', 'LpBP'], [0.5, 'CtBP', 'CdI', 'IiL', 'LiA', 'ApBP'], [0.5, 'CtBP', 'CdI', 'IiL', 'LiB', 'BpBP'], [0.5, 'CtBP', 'CdI', 'IiL', 'LiG', 'GpBP'], [0.5, 'CtBP', 'CdI', 'IiL', 'LiD', 'DpBP'], [0.5, 'CtBP', 'CdI', 'IiL', 'LiE', 'EpBP'], [0.5, 'CtBP', 'CdI', 'IiL', 'LiF', 'FpBP'], [0.5, 'CtBP', 'CdI', 'IiL', 'LiH', 'HpBP'], [0.5, 'CtBP', 'CdI', 'IiL', 'LiI', 'IpBP'], [0.5, 'CtBP', 'CdI', 'IiL', 'LiJ', 'JpBP'], [0.5, 'CtBP', 'CdI', 'IiL', 'LiK', 'KpBP'], [0.5, 'CtBP', 'CdI', 'IiL', 'LiL', 'LpBP'], [0.5, 'CtBP', 'CuI', 'IiA', 'AiA', 'ApBP'], [0.5, 'CtBP', 'CuI', 'IiA', 'AiB', 'BpBP'], [0.5, 'CtBP', 'CuI', 'IiA', 'AiG', 'GpBP'], [0.5, 'CtBP', 'CuI', 'IiA', 'AiD', 'DpBP'], [0.5, 'CtBP', 'CuI', 'IiA', 'AiE', 'EpBP'], [0.5, 'CtBP', 'CuI', 'IiA', 'AiF', 'FpBP'], [0.5, 'CtBP', 'CuI', 'IiA', 'AiH', 'HpBP'], [0.5, 'CtBP', 'CuI', 'IiA', 'AiI', 'IpBP'], [0.5, 'CtBP', 'CuI', 'IiA', 'AiJ', 'JpBP'], [0.5, 'CtBP', 'CuI', 'IiA', 'AiK', 'KpBP'], [0.5, 'CtBP', 'CuI', 'IiA', 'AiL', 'LpBP'], [0.5, 'CtBP', 'CuI', 'IiB', 'BiA', 'ApBP'], [0.5, 'CtBP', 'CuI', 'IiB', 'BiB', 'BpBP'], [0.5, 'CtBP', 'CuI', 'IiB', 'BiG', 'GpBP'], [0.5, 'CtBP', 'CuI', 'IiB', 'BiD', 'DpBP'], [0.5, 'CtBP', 'CuI', 'IiB', 'BiE', 'EpBP'], [0.5, 'CtBP', 'CuI', 'IiB', 'BiF', 'FpBP'], [0.5, 'CtBP', 'CuI', 'IiB', 'BiH', 'HpBP'], [0.5, 'CtBP', 'CuI', 'IiB', 'BiI', 'IpBP'], [0.5, 'CtBP', 'CuI', 'IiB', 'BiJ', 'JpBP'], [0.5, 'CtBP', 'CuI', 'IiB', 'BiK', 'KpBP'], [0.5, 'CtBP', 'CuI', 'IiB', 'BiL', 'LpBP'], [0.5, 'CtBP', 'CuI', 'IiG', 'GiA', 'ApBP'], [0.5, 'CtBP', 'CuI', 'IiG', 'GiB', 'BpBP'], [0.5, 'CtBP', 'CuI', 'IiG', 'GiG', 'GpBP'], [0.5, 'CtBP', 'CuI', 'IiG', 'GiD', 'DpBP'], [0.5, 'CtBP', 'CuI', 'IiG', 'GiE', 'EpBP'], [0.5, 'CtBP', 'CuI', 'IiG', 'GiF', 'FpBP'], [0.5, 'CtBP', 'CuI', 'IiG', 'GiH', 'HpBP'], [0.5, 'CtBP', 'CuI', 'IiG', 'GiI', 'IpBP'], [0.5, 'CtBP', 'CuI', 'IiG', 'GiJ', 'JpBP'], [0.5, 'CtBP', 'CuI', 'IiG', 'GiK', 'KpBP'], [0.5, 'CtBP', 'CuI', 'IiG', 'GiL', 'LpBP'], [0.5, 'CtBP', 'CuI', 'IiD', 'DiA', 'ApBP'], [0.5, 'CtBP', 'CuI', 'IiD', 'DiB', 'BpBP'], [0.5, 'CtBP', 'CuI', 'IiD', 'DiG', 'GpBP'], [0.5, 'CtBP', 'CuI', 'IiD', 'DiD', 'DpBP'], [0.5, 'CtBP', 'CuI', 'IiD', 'DiE', 'EpBP'], [0.5, 'CtBP', 'CuI', 'IiD', 'DiF', 'FpBP'], [0.5, 'CtBP', 'CuI', 'IiD', 'DiH', 'HpBP'], [0.5, 'CtBP', 'CuI', 'IiD', 'DiI', 'IpBP'], [0.5, 'CtBP', 'CuI', 'IiD', 'DiJ', 'JpBP'], [0.5, 'CtBP', 'CuI', 'IiD', 'DiK', 'KpBP'], [0.5, 'CtBP', 'CuI', 'IiD', 'DiL', 'LpBP'], [0.5, 'CtBP', 'CuI', 'IiE', 'EiA', 'ApBP'], [0.5, 'CtBP', 'CuI', 'IiE', 'EiB', 'BpBP'], [0.5, 'CtBP', 'CuI', 'IiE', 'EiG', 'GpBP'], [0.5, 'CtBP', 'CuI', 'IiE', 'EiD', 'DpBP'], [0.5, 'CtBP', 'CuI', 'IiE', 'EiE', 'EpBP'], [0.5, 'CtBP', 'CuI', 'IiE', 'EiF', 'FpBP'], [0.5, 'CtBP', 'CuI', 'IiE', 'EiH', 'HpBP'], [0.5, 'CtBP', 'CuI', 'IiE', 'EiI', 'IpBP'], [0.5, 'CtBP', 'CuI', 'IiE', 'EiJ', 'JpBP'], [0.5, 'CtBP', 'CuI', 'IiE', 'EiK', 'KpBP'], [0.5, 'CtBP', 'CuI', 'IiE', 'EiL', 'LpBP'], [0.5, 'CtBP', 'CuI', 'IiF', 'FiA', 'ApBP'], [0.5, 'CtBP', 'CuI', 'IiF', 'FiB', 'BpBP'], [0.5, 'CtBP', 'CuI', 'IiF', 'FiG', 'GpBP'], [0.5, 'CtBP', 'CuI', 'IiF', 'FiD', 'DpBP'], [0.5, 'CtBP', 'CuI', 'IiF', 'FiE', 'EpBP'], [0.5, 'CtBP', 'CuI', 'IiF', 'FiF', 'FpBP'], [0.5, 'CtBP', 'CuI', 'IiF', 'FiH', 'HpBP'], [0.5, 'CtBP', 'CuI', 'IiF', 'FiI', 'IpBP'], [0.5, 'CtBP', 'CuI', 'IiF', 'FiJ', 'JpBP'], [0.5, 'CtBP', 'CuI', 'IiF', 'FiK', 'KpBP'], [0.5, 'CtBP', 'CuI', 'IiF', 'FiL', 'LpBP'], [0.5, 'CtBP', 'CuI', 'IiH', 'HiA', 'ApBP'], [0.5, 'CtBP', 'CuI', 'IiH', 'HiB', 'BpBP'], [0.5, 'CtBP', 'CuI', 'IiH', 'HiG', 'GpBP'], [0.5, 'CtBP', 'CuI', 'IiH', 'HiD', 'DpBP'], [0.5, 'CtBP', 'CuI', 'IiH', 'HiE', 'EpBP'], [0.5, 'CtBP', 'CuI', 'IiH', 'HiF', 'FpBP'], [0.5, 'CtBP', 'CuI', 'IiH', 'HiH', 'HpBP'], [0.5, 'CtBP', 'CuI', 'IiH', 'HiI', 'IpBP'], [0.5, 'CtBP', 'CuI', 'IiH', 'HiJ', 'JpBP'], [0.5, 'CtBP', 'CuI', 'IiH', 'HiK', 'KpBP'], [0.5, 'CtBP', 'CuI', 'IiH', 'HiL', 'LpBP'], [0.5, 'CtBP', 'CuI', 'IiI', 'IiA', 'ApBP'], [0.5, 'CtBP', 'CuI', 'IiI', 'IiB', 'BpBP'], [0.5, 'CtBP', 'CuI', 'IiI', 'IiG', 'GpBP'], [0.5, 'CtBP', 'CuI', 'IiI', 'IiD', 'DpBP'], [0.5, 'CtBP', 'CuI', 'IiI', 'IiE', 'EpBP'], [0.5, 'CtBP', 'CuI', 'IiI', 'IiF', 'FpBP'], [0.5, 'CtBP', 'CuI', 'IiI', 'IiH', 'HpBP'], [0.5, 'CtBP', 'CuI', 'IiI', 'IiI', 'IpBP'], [0.5, 'CtBP', 'CuI', 'IiI', 'IiJ', 'JpBP'], [0.5, 'CtBP', 'CuI', 'IiI', 'IiK', 'KpBP'], [0.5, 'CtBP', 'CuI', 'IiI', 'IiL', 'LpBP'], [0.5, 'CtBP', 'CuI', 'IiJ', 'JiA', 'ApBP'], [0.5, 'CtBP', 'CuI', 'IiJ', 'JiB', 'BpBP'], [0.5, 'CtBP', 'CuI', 'IiJ', 'JiG', 'GpBP'], [0.5, 'CtBP', 'CuI', 'IiJ', 'JiD', 'DpBP'], [0.5, 'CtBP', 'CuI', 'IiJ', 'JiE', 'EpBP'], [0.5, 'CtBP', 'CuI', 'IiJ', 'JiF', 'FpBP'], [0.5, 'CtBP', 'CuI', 'IiJ', 'JiH', 'HpBP'], [0.5, 'CtBP', 'CuI', 'IiJ', 'JiI', 'IpBP'], [0.5, 'CtBP', 'CuI', 'IiJ', 'JiJ', 'JpBP'], [0.5, 'CtBP', 'CuI', 'IiJ', 'JiK', 'KpBP'], [0.5, 'CtBP', 'CuI', 'IiJ', 'JiL', 'LpBP'], [0.5, 'CtBP', 'CuI', 'IiK', 'KiA', 'ApBP'], [0.5, 'CtBP', 'CuI', 'IiK', 'KiB', 'BpBP'], [0.5, 'CtBP', 'CuI', 'IiK', 'KiG', 'GpBP'], [0.5, 'CtBP', 'CuI', 'IiK', 'KiD', 'DpBP'], [0.5, 'CtBP', 'CuI', 'IiK', 'KiE', 'EpBP'], [0.5, 'CtBP', 'CuI', 'IiK', 'KiF', 'FpBP'], [0.5, 'CtBP', 'CuI', 'IiK', 'KiH', 'HpBP'], [0.5, 'CtBP', 'CuI', 'IiK', 'KiI', 'IpBP'], [0.5, 'CtBP', 'CuI', 'IiK', 'KiJ', 'JpBP'], [0.5, 'CtBP', 'CuI', 'IiK', 'KiK', 'KpBP'], [0.5, 'CtBP', 'CuI', 'IiK', 'KiL', 'LpBP'], [0.5, 'CtBP', 'CuI', 'IiL', 'LiA', 'ApBP'], [0.5, 'CtBP', 'CuI', 'IiL', 'LiB', 'BpBP'], [0.5, 'CtBP', 'CuI', 'IiL', 'LiG', 'GpBP'], [0.5, 'CtBP', 'CuI', 'IiL', 'LiD', 'DpBP'], [0.5, 'CtBP', 'CuI', 'IiL', 'LiE', 'EpBP'], [0.5, 'CtBP', 'CuI', 'IiL', 'LiF', 'FpBP'], [0.5, 'CtBP', 'CuI', 'IiL', 'LiH', 'HpBP'], [0.5, 'CtBP', 'CuI', 'IiL', 'LiI', 'IpBP'], [0.5, 'CtBP', 'CuI', 'IiL', 'LiJ', 'JpBP'], [0.5, 'CtBP', 'CuI', 'IiL', 'LiK', 'KpBP'], [0.5, 'CtBP', 'CuI', 'IiL', 'LiL', 'LpBP'], [0.5, 'CtBP', 'CdJ', 'JiA', 'AiA', 'ApBP'], [0.5, 'CtBP', 'CdJ', 'JiA', 'AiB', 'BpBP'], [0.5, 'CtBP', 'CdJ', 'JiA', 'AiG', 'GpBP'], [0.5, 'CtBP', 'CdJ', 'JiA', 'AiD', 'DpBP'], [0.5, 'CtBP', 'CdJ', 'JiA', 'AiE', 'EpBP'], [0.5, 'CtBP', 'CdJ', 'JiA', 'AiF', 'FpBP'], [0.5, 'CtBP', 'CdJ', 'JiA', 'AiH', 'HpBP'], [0.5, 'CtBP', 'CdJ', 'JiA', 'AiI', 'IpBP'], [0.5, 'CtBP', 'CdJ', 'JiA', 'AiJ', 'JpBP'], [0.5, 'CtBP', 'CdJ', 'JiA', 'AiK', 'KpBP'], [0.5, 'CtBP', 'CdJ', 'JiA', 'AiL', 'LpBP'], [0.5, 'CtBP', 'CdJ', 'JiB', 'BiA', 'ApBP'], [0.5, 'CtBP', 'CdJ', 'JiB', 'BiB', 'BpBP'], [0.5, 'CtBP', 'CdJ', 'JiB', 'BiG', 'GpBP'], [0.5, 'CtBP', 'CdJ', 'JiB', 'BiD', 'DpBP'], [0.5, 'CtBP', 'CdJ', 'JiB', 'BiE', 'EpBP'], [0.5, 'CtBP', 'CdJ', 'JiB', 'BiF', 'FpBP'], [0.5, 'CtBP', 'CdJ', 'JiB', 'BiH', 'HpBP'], [0.5, 'CtBP', 'CdJ', 'JiB', 'BiI', 'IpBP'], [0.5, 'CtBP', 'CdJ', 'JiB', 'BiJ', 'JpBP'], [0.5, 'CtBP', 'CdJ', 'JiB', 'BiK', 'KpBP'], [0.5, 'CtBP', 'CdJ', 'JiB', 'BiL', 'LpBP'], [0.5, 'CtBP', 'CdJ', 'JiG', 'GiA', 'ApBP'], [0.5, 'CtBP', 'CdJ', 'JiG', 'GiB', 'BpBP'], [0.5, 'CtBP', 'CdJ', 'JiG', 'GiG', 'GpBP'], [0.5, 'CtBP', 'CdJ', 'JiG', 'GiD', 'DpBP'], [0.5, 'CtBP', 'CdJ', 'JiG', 'GiE', 'EpBP'], [0.5, 'CtBP', 'CdJ', 'JiG', 'GiF', 'FpBP'], [0.5, 'CtBP', 'CdJ', 'JiG', 'GiH', 'HpBP'], [0.5, 'CtBP', 'CdJ', 'JiG', 'GiI', 'IpBP'], [0.5, 'CtBP', 'CdJ', 'JiG', 'GiJ', 'JpBP'], [0.5, 'CtBP', 'CdJ', 'JiG', 'GiK', 'KpBP'], [0.5, 'CtBP', 'CdJ', 'JiG', 'GiL', 'LpBP'], [0.5, 'CtBP', 'CdJ', 'JiD', 'DiA', 'ApBP'], [0.5, 'CtBP', 'CdJ', 'JiD', 'DiB', 'BpBP'], [0.5, 'CtBP', 'CdJ', 'JiD', 'DiG', 'GpBP'], [0.5, 'CtBP', 'CdJ', 'JiD', 'DiD', 'DpBP'], [0.5, 'CtBP', 'CdJ', 'JiD', 'DiE', 'EpBP'], [0.5, 'CtBP', 'CdJ', 'JiD', 'DiF', 'FpBP'], [0.5, 'CtBP', 'CdJ', 'JiD', 'DiH', 'HpBP'], [0.5, 'CtBP', 'CdJ', 'JiD', 'DiI', 'IpBP'], [0.5, 'CtBP', 'CdJ', 'JiD', 'DiJ', 'JpBP'], [0.5, 'CtBP', 'CdJ', 'JiD', 'DiK', 'KpBP'], [0.5, 'CtBP', 'CdJ', 'JiD', 'DiL', 'LpBP'], [0.5, 'CtBP', 'CdJ', 'JiE', 'EiA', 'ApBP'], [0.5, 'CtBP', 'CdJ', 'JiE', 'EiB', 'BpBP'], [0.5, 'CtBP', 'CdJ', 'JiE', 'EiG', 'GpBP'], [0.5, 'CtBP', 'CdJ', 'JiE', 'EiD', 'DpBP'], [0.5, 'CtBP', 'CdJ', 'JiE', 'EiE', 'EpBP'], [0.5, 'CtBP', 'CdJ', 'JiE', 'EiF', 'FpBP'], [0.5, 'CtBP', 'CdJ', 'JiE', 'EiH', 'HpBP'], [0.5, 'CtBP', 'CdJ', 'JiE', 'EiI', 'IpBP'], [0.5, 'CtBP', 'CdJ', 'JiE', 'EiJ', 'JpBP'], [0.5, 'CtBP', 'CdJ', 'JiE', 'EiK', 'KpBP'], [0.5, 'CtBP', 'CdJ', 'JiE', 'EiL', 'LpBP'], [0.5, 'CtBP', 'CdJ', 'JiF', 'FiA', 'ApBP'], [0.5, 'CtBP', 'CdJ', 'JiF', 'FiB', 'BpBP'], [0.5, 'CtBP', 'CdJ', 'JiF', 'FiG', 'GpBP'], [0.5, 'CtBP', 'CdJ', 'JiF', 'FiD', 'DpBP'], [0.5, 'CtBP', 'CdJ', 'JiF', 'FiE', 'EpBP'], [0.5, 'CtBP', 'CdJ', 'JiF', 'FiF', 'FpBP'], [0.5, 'CtBP', 'CdJ', 'JiF', 'FiH', 'HpBP'], [0.5, 'CtBP', 'CdJ', 'JiF', 'FiI', 'IpBP'], [0.5, 'CtBP', 'CdJ', 'JiF', 'FiJ', 'JpBP'], [0.5, 'CtBP', 'CdJ', 'JiF', 'FiK', 'KpBP'], [0.5, 'CtBP', 'CdJ', 'JiF', 'FiL', 'LpBP'], [0.5, 'CtBP', 'CdJ', 'JiH', 'HiA', 'ApBP'], [0.5, 'CtBP', 'CdJ', 'JiH', 'HiB', 'BpBP'], [0.5, 'CtBP', 'CdJ', 'JiH', 'HiG', 'GpBP'], [0.5, 'CtBP', 'CdJ', 'JiH', 'HiD', 'DpBP'], [0.5, 'CtBP', 'CdJ', 'JiH', 'HiE', 'EpBP'], [0.5, 'CtBP', 'CdJ', 'JiH', 'HiF', 'FpBP'], [0.5, 'CtBP', 'CdJ', 'JiH', 'HiH', 'HpBP'], [0.5, 'CtBP', 'CdJ', 'JiH', 'HiI', 'IpBP'], [0.5, 'CtBP', 'CdJ', 'JiH', 'HiJ', 'JpBP'], [0.5, 'CtBP', 'CdJ', 'JiH', 'HiK', 'KpBP'], [0.5, 'CtBP', 'CdJ', 'JiH', 'HiL', 'LpBP'], [0.5, 'CtBP', 'CdJ', 'JiI', 'IiA', 'ApBP'], [0.5, 'CtBP', 'CdJ', 'JiI', 'IiB', 'BpBP'], [0.5, 'CtBP', 'CdJ', 'JiI', 'IiG', 'GpBP'], [0.5, 'CtBP', 'CdJ', 'JiI', 'IiD', 'DpBP'], [0.5, 'CtBP', 'CdJ', 'JiI', 'IiE', 'EpBP'], [0.5, 'CtBP', 'CdJ', 'JiI', 'IiF', 'FpBP'], [0.5, 'CtBP', 'CdJ', 'JiI', 'IiH', 'HpBP'], [0.5, 'CtBP', 'CdJ', 'JiI', 'IiI', 'IpBP'], [0.5, 'CtBP', 'CdJ', 'JiI', 'IiJ', 'JpBP'], [0.5, 'CtBP', 'CdJ', 'JiI', 'IiK', 'KpBP'], [0.5, 'CtBP', 'CdJ', 'JiI', 'IiL', 'LpBP'], [0.5, 'CtBP', 'CdJ', 'JiJ', 'JiA', 'ApBP'], [0.5, 'CtBP', 'CdJ', 'JiJ', 'JiB', 'BpBP'], [0.5, 'CtBP', 'CdJ', 'JiJ', 'JiG', 'GpBP'], [0.5, 'CtBP', 'CdJ', 'JiJ', 'JiD', 'DpBP'], [0.5, 'CtBP', 'CdJ', 'JiJ', 'JiE', 'EpBP'], [0.5, 'CtBP', 'CdJ', 'JiJ', 'JiF', 'FpBP'], [0.5, 'CtBP', 'CdJ', 'JiJ', 'JiH', 'HpBP'], [0.5, 'CtBP', 'CdJ', 'JiJ', 'JiI', 'IpBP'], [0.5, 'CtBP', 'CdJ', 'JiJ', 'JiJ', 'JpBP'], [0.5, 'CtBP', 'CdJ', 'JiJ', 'JiK', 'KpBP'], [0.5, 'CtBP', 'CdJ', 'JiJ', 'JiL', 'LpBP'], [0.5, 'CtBP', 'CdJ', 'JiK', 'KiA', 'ApBP'], [0.5, 'CtBP', 'CdJ', 'JiK', 'KiB', 'BpBP'], [0.5, 'CtBP', 'CdJ', 'JiK', 'KiG', 'GpBP'], [0.5, 'CtBP', 'CdJ', 'JiK', 'KiD', 'DpBP'], [0.5, 'CtBP', 'CdJ', 'JiK', 'KiE', 'EpBP'], [0.5, 'CtBP', 'CdJ', 'JiK', 'KiF', 'FpBP'], [0.5, 'CtBP', 'CdJ', 'JiK', 'KiH', 'HpBP'], [0.5, 'CtBP', 'CdJ', 'JiK', 'KiI', 'IpBP'], [0.5, 'CtBP', 'CdJ', 'JiK', 'KiJ', 'JpBP'], [0.5, 'CtBP', 'CdJ', 'JiK', 'KiK', 'KpBP'], [0.5, 'CtBP', 'CdJ', 'JiK', 'KiL', 'LpBP'], [0.5, 'CtBP', 'CdJ', 'JiL', 'LiA', 'ApBP'], [0.5, 'CtBP', 'CdJ', 'JiL', 'LiB', 'BpBP'], [0.5, 'CtBP', 'CdJ', 'JiL', 'LiG', 'GpBP'], [0.5, 'CtBP', 'CdJ', 'JiL', 'LiD', 'DpBP'], [0.5, 'CtBP', 'CdJ', 'JiL', 'LiE', 'EpBP'], [0.5, 'CtBP', 'CdJ', 'JiL', 'LiF', 'FpBP'], [0.5, 'CtBP', 'CdJ', 'JiL', 'LiH', 'HpBP'], [0.5, 'CtBP', 'CdJ', 'JiL', 'LiI', 'IpBP'], [0.5, 'CtBP', 'CdJ', 'JiL', 'LiJ', 'JpBP'], [0.5, 'CtBP', 'CdJ', 'JiL', 'LiK', 'KpBP'], [0.5, 'CtBP', 'CdJ', 'JiL', 'LiL', 'LpBP'], [0.5, 'CtBP', 'CuJ', 'JiA', 'AiA', 'ApBP'], [0.5, 'CtBP', 'CuJ', 'JiA', 'AiB', 'BpBP'], [0.5, 'CtBP', 'CuJ', 'JiA', 'AiG', 'GpBP'], [0.5, 'CtBP', 'CuJ', 'JiA', 'AiD', 'DpBP'], [0.5, 'CtBP', 'CuJ', 'JiA', 'AiE', 'EpBP'], [0.5, 'CtBP', 'CuJ', 'JiA', 'AiF', 'FpBP'], [0.5, 'CtBP', 'CuJ', 'JiA', 'AiH', 'HpBP'], [0.5, 'CtBP', 'CuJ', 'JiA', 'AiI', 'IpBP'], [0.5, 'CtBP', 'CuJ', 'JiA', 'AiJ', 'JpBP'], [0.5, 'CtBP', 'CuJ', 'JiA', 'AiK', 'KpBP'], [0.5, 'CtBP', 'CuJ', 'JiA', 'AiL', 'LpBP'], [0.5, 'CtBP', 'CuJ', 'JiB', 'BiA', 'ApBP'], [0.5, 'CtBP', 'CuJ', 'JiB', 'BiB', 'BpBP'], [0.5, 'CtBP', 'CuJ', 'JiB', 'BiG', 'GpBP'], [0.5, 'CtBP', 'CuJ', 'JiB', 'BiD', 'DpBP'], [0.5, 'CtBP', 'CuJ', 'JiB', 'BiE', 'EpBP'], [0.5, 'CtBP', 'CuJ', 'JiB', 'BiF', 'FpBP'], [0.5, 'CtBP', 'CuJ', 'JiB', 'BiH', 'HpBP'], [0.5, 'CtBP', 'CuJ', 'JiB', 'BiI', 'IpBP'], [0.5, 'CtBP', 'CuJ', 'JiB', 'BiJ', 'JpBP'], [0.5, 'CtBP', 'CuJ', 'JiB', 'BiK', 'KpBP'], [0.5, 'CtBP', 'CuJ', 'JiB', 'BiL', 'LpBP'], [0.5, 'CtBP', 'CuJ', 'JiG', 'GiA', 'ApBP'], [0.5, 'CtBP', 'CuJ', 'JiG', 'GiB', 'BpBP'], [0.5, 'CtBP', 'CuJ', 'JiG', 'GiG', 'GpBP'], [0.5, 'CtBP', 'CuJ', 'JiG', 'GiD', 'DpBP'], [0.5, 'CtBP', 'CuJ', 'JiG', 'GiE', 'EpBP'], [0.5, 'CtBP', 'CuJ', 'JiG', 'GiF', 'FpBP'], [0.5, 'CtBP', 'CuJ', 'JiG', 'GiH', 'HpBP'], [0.5, 'CtBP', 'CuJ', 'JiG', 'GiI', 'IpBP'], [0.5, 'CtBP', 'CuJ', 'JiG', 'GiJ', 'JpBP'], [0.5, 'CtBP', 'CuJ', 'JiG', 'GiK', 'KpBP'], [0.5, 'CtBP', 'CuJ', 'JiG', 'GiL', 'LpBP'], [0.5, 'CtBP', 'CuJ', 'JiD', 'DiA', 'ApBP'], [0.5, 'CtBP', 'CuJ', 'JiD', 'DiB', 'BpBP'], [0.5, 'CtBP', 'CuJ', 'JiD', 'DiG', 'GpBP'], [0.5, 'CtBP', 'CuJ', 'JiD', 'DiD', 'DpBP'], [0.5, 'CtBP', 'CuJ', 'JiD', 'DiE', 'EpBP'], [0.5, 'CtBP', 'CuJ', 'JiD', 'DiF', 'FpBP'], [0.5, 'CtBP', 'CuJ', 'JiD', 'DiH', 'HpBP'], [0.5, 'CtBP', 'CuJ', 'JiD', 'DiI', 'IpBP'], [0.5, 'CtBP', 'CuJ', 'JiD', 'DiJ', 'JpBP'], [0.5, 'CtBP', 'CuJ', 'JiD', 'DiK', 'KpBP'], [0.5, 'CtBP', 'CuJ', 'JiD', 'DiL', 'LpBP'], [0.5, 'CtBP', 'CuJ', 'JiE', 'EiA', 'ApBP'], [0.5, 'CtBP', 'CuJ', 'JiE', 'EiB', 'BpBP'], [0.5, 'CtBP', 'CuJ', 'JiE', 'EiG', 'GpBP'], [0.5, 'CtBP', 'CuJ', 'JiE', 'EiD', 'DpBP'], [0.5, 'CtBP', 'CuJ', 'JiE', 'EiE', 'EpBP'], [0.5, 'CtBP', 'CuJ', 'JiE', 'EiF', 'FpBP'], [0.5, 'CtBP', 'CuJ', 'JiE', 'EiH', 'HpBP'], [0.5, 'CtBP', 'CuJ', 'JiE', 'EiI', 'IpBP'], [0.5, 'CtBP', 'CuJ', 'JiE', 'EiJ', 'JpBP'], [0.5, 'CtBP', 'CuJ', 'JiE', 'EiK', 'KpBP'], [0.5, 'CtBP', 'CuJ', 'JiE', 'EiL', 'LpBP'], [0.5, 'CtBP', 'CuJ', 'JiF', 'FiA', 'ApBP'], [0.5, 'CtBP', 'CuJ', 'JiF', 'FiB', 'BpBP'], [0.5, 'CtBP', 'CuJ', 'JiF', 'FiG', 'GpBP'], [0.5, 'CtBP', 'CuJ', 'JiF', 'FiD', 'DpBP'], [0.5, 'CtBP', 'CuJ', 'JiF', 'FiE', 'EpBP'], [0.5, 'CtBP', 'CuJ', 'JiF', 'FiF', 'FpBP'], [0.5, 'CtBP', 'CuJ', 'JiF', 'FiH', 'HpBP'], [0.5, 'CtBP', 'CuJ', 'JiF', 'FiI', 'IpBP'], [0.5, 'CtBP', 'CuJ', 'JiF', 'FiJ', 'JpBP'], [0.5, 'CtBP', 'CuJ', 'JiF', 'FiK', 'KpBP'], [0.5, 'CtBP', 'CuJ', 'JiF', 'FiL', 'LpBP'], [0.5, 'CtBP', 'CuJ', 'JiH', 'HiA', 'ApBP'], [0.5, 'CtBP', 'CuJ', 'JiH', 'HiB', 'BpBP'], [0.5, 'CtBP', 'CuJ', 'JiH', 'HiG', 'GpBP'], [0.5, 'CtBP', 'CuJ', 'JiH', 'HiD', 'DpBP'], [0.5, 'CtBP', 'CuJ', 'JiH', 'HiE', 'EpBP'], [0.5, 'CtBP', 'CuJ', 'JiH', 'HiF', 'FpBP'], [0.5, 'CtBP', 'CuJ', 'JiH', 'HiH', 'HpBP'], [0.5, 'CtBP', 'CuJ', 'JiH', 'HiI', 'IpBP'], [0.5, 'CtBP', 'CuJ', 'JiH', 'HiJ', 'JpBP'], [0.5, 'CtBP', 'CuJ', 'JiH', 'HiK', 'KpBP'], [0.5, 'CtBP', 'CuJ', 'JiH', 'HiL', 'LpBP'], [0.5, 'CtBP', 'CuJ', 'JiI', 'IiA', 'ApBP'], [0.5, 'CtBP', 'CuJ', 'JiI', 'IiB', 'BpBP'], [0.5, 'CtBP', 'CuJ', 'JiI', 'IiG', 'GpBP'], [0.5, 'CtBP', 'CuJ', 'JiI', 'IiD', 'DpBP'], [0.5, 'CtBP', 'CuJ', 'JiI', 'IiE', 'EpBP'], [0.5, 'CtBP', 'CuJ', 'JiI', 'IiF', 'FpBP'], [0.5, 'CtBP', 'CuJ', 'JiI', 'IiH', 'HpBP'], [0.5, 'CtBP', 'CuJ', 'JiI', 'IiI', 'IpBP'], [0.5, 'CtBP', 'CuJ', 'JiI', 'IiJ', 'JpBP'], [0.5, 'CtBP', 'CuJ', 'JiI', 'IiK', 'KpBP'], [0.5, 'CtBP', 'CuJ', 'JiI', 'IiL', 'LpBP'], [0.5, 'CtBP', 'CuJ', 'JiJ', 'JiA', 'ApBP'], [0.5, 'CtBP', 'CuJ', 'JiJ', 'JiB', 'BpBP'], [0.5, 'CtBP', 'CuJ', 'JiJ', 'JiG', 'GpBP'], [0.5, 'CtBP', 'CuJ', 'JiJ', 'JiD', 'DpBP'], [0.5, 'CtBP', 'CuJ', 'JiJ', 'JiE', 'EpBP'], [0.5, 'CtBP', 'CuJ', 'JiJ', 'JiF', 'FpBP'], [0.5, 'CtBP', 'CuJ', 'JiJ', 'JiH', 'HpBP'], [0.5, 'CtBP', 'CuJ', 'JiJ', 'JiI', 'IpBP'], [0.5, 'CtBP', 'CuJ', 'JiJ', 'JiJ', 'JpBP'], [0.5, 'CtBP', 'CuJ', 'JiJ', 'JiK', 'KpBP'], [0.5, 'CtBP', 'CuJ', 'JiJ', 'JiL', 'LpBP'], [0.5, 'CtBP', 'CuJ', 'JiK', 'KiA', 'ApBP'], [0.5, 'CtBP', 'CuJ', 'JiK', 'KiB', 'BpBP'], [0.5, 'CtBP', 'CuJ', 'JiK', 'KiG', 'GpBP'], [0.5, 'CtBP', 'CuJ', 'JiK', 'KiD', 'DpBP'], [0.5, 'CtBP', 'CuJ', 'JiK', 'KiE', 'EpBP'], [0.5, 'CtBP', 'CuJ', 'JiK', 'KiF', 'FpBP'], [0.5, 'CtBP', 'CuJ', 'JiK', 'KiH', 'HpBP'], [0.5, 'CtBP', 'CuJ', 'JiK', 'KiI', 'IpBP'], [0.5, 'CtBP', 'CuJ', 'JiK', 'KiJ', 'JpBP'], [0.5, 'CtBP', 'CuJ', 'JiK', 'KiK', 'KpBP'], [0.5, 'CtBP', 'CuJ', 'JiK', 'KiL', 'LpBP'], [0.5, 'CtBP', 'CuJ', 'JiL', 'LiA', 'ApBP'], [0.5, 'CtBP', 'CuJ', 'JiL', 'LiB', 'BpBP'], [0.5, 'CtBP', 'CuJ', 'JiL', 'LiG', 'GpBP'], [0.5, 'CtBP', 'CuJ', 'JiL', 'LiD', 'DpBP'], [0.5, 'CtBP', 'CuJ', 'JiL', 'LiE', 'EpBP'], [0.5, 'CtBP', 'CuJ', 'JiL', 'LiF', 'FpBP'], [0.5, 'CtBP', 'CuJ', 'JiL', 'LiH', 'HpBP'], [0.5, 'CtBP', 'CuJ', 'JiL', 'LiI', 'IpBP'], [0.5, 'CtBP', 'CuJ', 'JiL', 'LiJ', 'JpBP'], [0.5, 'CtBP', 'CuJ', 'JiL', 'LiK', 'KpBP'], [0.5, 'CtBP', 'CuJ', 'JiL', 'LiL', 'LpBP'], [0.5, 'CtBP', 'CdK', 'KiA', 'AiA', 'ApBP'], [0.5, 'CtBP', 'CdK', 'KiA', 'AiB', 'BpBP'], [0.5, 'CtBP', 'CdK', 'KiA', 'AiG', 'GpBP'], [0.5, 'CtBP', 'CdK', 'KiA', 'AiD', 'DpBP'], [0.5, 'CtBP', 'CdK', 'KiA', 'AiE', 'EpBP'], [0.5, 'CtBP', 'CdK', 'KiA', 'AiF', 'FpBP'], [0.5, 'CtBP', 'CdK', 'KiA', 'AiH', 'HpBP'], [0.5, 'CtBP', 'CdK', 'KiA', 'AiI', 'IpBP'], [0.5, 'CtBP', 'CdK', 'KiA', 'AiJ', 'JpBP'], [0.5, 'CtBP', 'CdK', 'KiA', 'AiK', 'KpBP'], [0.5, 'CtBP', 'CdK', 'KiA', 'AiL', 'LpBP'], [0.5, 'CtBP', 'CdK', 'KiB', 'BiA', 'ApBP'], [0.5, 'CtBP', 'CdK', 'KiB', 'BiB', 'BpBP'], [0.5, 'CtBP', 'CdK', 'KiB', 'BiG', 'GpBP'], [0.5, 'CtBP', 'CdK', 'KiB', 'BiD', 'DpBP'], [0.5, 'CtBP', 'CdK', 'KiB', 'BiE', 'EpBP'], [0.5, 'CtBP', 'CdK', 'KiB', 'BiF', 'FpBP'], [0.5, 'CtBP', 'CdK', 'KiB', 'BiH', 'HpBP'], [0.5, 'CtBP', 'CdK', 'KiB', 'BiI', 'IpBP'], [0.5, 'CtBP', 'CdK', 'KiB', 'BiJ', 'JpBP'], [0.5, 'CtBP', 'CdK', 'KiB', 'BiK', 'KpBP'], [0.5, 'CtBP', 'CdK', 'KiB', 'BiL', 'LpBP'], [0.5, 'CtBP', 'CdK', 'KiG', 'GiA', 'ApBP'], [0.5, 'CtBP', 'CdK', 'KiG', 'GiB', 'BpBP'], [0.5, 'CtBP', 'CdK', 'KiG', 'GiG', 'GpBP'], [0.5, 'CtBP', 'CdK', 'KiG', 'GiD', 'DpBP'], [0.5, 'CtBP', 'CdK', 'KiG', 'GiE', 'EpBP'], [0.5, 'CtBP', 'CdK', 'KiG', 'GiF', 'FpBP'], [0.5, 'CtBP', 'CdK', 'KiG', 'GiH', 'HpBP'], [0.5, 'CtBP', 'CdK', 'KiG', 'GiI', 'IpBP'], [0.5, 'CtBP', 'CdK', 'KiG', 'GiJ', 'JpBP'], [0.5, 'CtBP', 'CdK', 'KiG', 'GiK', 'KpBP'], [0.5, 'CtBP', 'CdK', 'KiG', 'GiL', 'LpBP'], [0.5, 'CtBP', 'CdK', 'KiD', 'DiA', 'ApBP'], [0.5, 'CtBP', 'CdK', 'KiD', 'DiB', 'BpBP'], [0.5, 'CtBP', 'CdK', 'KiD', 'DiG', 'GpBP'], [0.5, 'CtBP', 'CdK', 'KiD', 'DiD', 'DpBP'], [0.5, 'CtBP', 'CdK', 'KiD', 'DiE', 'EpBP'], [0.5, 'CtBP', 'CdK', 'KiD', 'DiF', 'FpBP'], [0.5, 'CtBP', 'CdK', 'KiD', 'DiH', 'HpBP'], [0.5, 'CtBP', 'CdK', 'KiD', 'DiI', 'IpBP'], [0.5, 'CtBP', 'CdK', 'KiD', 'DiJ', 'JpBP'], [0.5, 'CtBP', 'CdK', 'KiD', 'DiK', 'KpBP'], [0.5, 'CtBP', 'CdK', 'KiD', 'DiL', 'LpBP'], [0.5, 'CtBP', 'CdK', 'KiE', 'EiA', 'ApBP'], [0.5, 'CtBP', 'CdK', 'KiE', 'EiB', 'BpBP'], [0.5, 'CtBP', 'CdK', 'KiE', 'EiG', 'GpBP'], [0.5, 'CtBP', 'CdK', 'KiE', 'EiD', 'DpBP'], [0.5, 'CtBP', 'CdK', 'KiE', 'EiE', 'EpBP'], [0.5, 'CtBP', 'CdK', 'KiE', 'EiF', 'FpBP'], [0.5, 'CtBP', 'CdK', 'KiE', 'EiH', 'HpBP'], [0.5, 'CtBP', 'CdK', 'KiE', 'EiI', 'IpBP'], [0.5, 'CtBP', 'CdK', 'KiE', 'EiJ', 'JpBP'], [0.5, 'CtBP', 'CdK', 'KiE', 'EiK', 'KpBP'], [0.5, 'CtBP', 'CdK', 'KiE', 'EiL', 'LpBP'], [0.5, 'CtBP', 'CdK', 'KiF', 'FiA', 'ApBP'], [0.5, 'CtBP', 'CdK', 'KiF', 'FiB', 'BpBP'], [0.5, 'CtBP', 'CdK', 'KiF', 'FiG', 'GpBP'], [0.5, 'CtBP', 'CdK', 'KiF', 'FiD', 'DpBP'], [0.5, 'CtBP', 'CdK', 'KiF', 'FiE', 'EpBP'], [0.5, 'CtBP', 'CdK', 'KiF', 'FiF', 'FpBP'], [0.5, 'CtBP', 'CdK', 'KiF', 'FiH', 'HpBP'], [0.5, 'CtBP', 'CdK', 'KiF', 'FiI', 'IpBP'], [0.5, 'CtBP', 'CdK', 'KiF', 'FiJ', 'JpBP'], [0.5, 'CtBP', 'CdK', 'KiF', 'FiK', 'KpBP'], [0.5, 'CtBP', 'CdK', 'KiF', 'FiL', 'LpBP'], [0.5, 'CtBP', 'CdK', 'KiH', 'HiA', 'ApBP'], [0.5, 'CtBP', 'CdK', 'KiH', 'HiB', 'BpBP'], [0.5, 'CtBP', 'CdK', 'KiH', 'HiG', 'GpBP'], [0.5, 'CtBP', 'CdK', 'KiH', 'HiD', 'DpBP'], [0.5, 'CtBP', 'CdK', 'KiH', 'HiE', 'EpBP'], [0.5, 'CtBP', 'CdK', 'KiH', 'HiF', 'FpBP'], [0.5, 'CtBP', 'CdK', 'KiH', 'HiH', 'HpBP'], [0.5, 'CtBP', 'CdK', 'KiH', 'HiI', 'IpBP'], [0.5, 'CtBP', 'CdK', 'KiH', 'HiJ', 'JpBP'], [0.5, 'CtBP', 'CdK', 'KiH', 'HiK', 'KpBP'], [0.5, 'CtBP', 'CdK', 'KiH', 'HiL', 'LpBP'], [0.5, 'CtBP', 'CdK', 'KiI', 'IiA', 'ApBP'], [0.5, 'CtBP', 'CdK', 'KiI', 'IiB', 'BpBP'], [0.5, 'CtBP', 'CdK', 'KiI', 'IiG', 'GpBP'], [0.5, 'CtBP', 'CdK', 'KiI', 'IiD', 'DpBP'], [0.5, 'CtBP', 'CdK', 'KiI', 'IiE', 'EpBP'], [0.5, 'CtBP', 'CdK', 'KiI', 'IiF', 'FpBP'], [0.5, 'CtBP', 'CdK', 'KiI', 'IiH', 'HpBP'], [0.5, 'CtBP', 'CdK', 'KiI', 'IiI', 'IpBP'], [0.5, 'CtBP', 'CdK', 'KiI', 'IiJ', 'JpBP'], [0.5, 'CtBP', 'CdK', 'KiI', 'IiK', 'KpBP'], [0.5, 'CtBP', 'CdK', 'KiI', 'IiL', 'LpBP'], [0.5, 'CtBP', 'CdK', 'KiJ', 'JiA', 'ApBP'], [0.5, 'CtBP', 'CdK', 'KiJ', 'JiB', 'BpBP'], [0.5, 'CtBP', 'CdK', 'KiJ', 'JiG', 'GpBP'], [0.5, 'CtBP', 'CdK', 'KiJ', 'JiD', 'DpBP'], [0.5, 'CtBP', 'CdK', 'KiJ', 'JiE', 'EpBP'], [0.5, 'CtBP', 'CdK', 'KiJ', 'JiF', 'FpBP'], [0.5, 'CtBP', 'CdK', 'KiJ', 'JiH', 'HpBP'], [0.5, 'CtBP', 'CdK', 'KiJ', 'JiI', 'IpBP'], [0.5, 'CtBP', 'CdK', 'KiJ', 'JiJ', 'JpBP'], [0.5, 'CtBP', 'CdK', 'KiJ', 'JiK', 'KpBP'], [0.5, 'CtBP', 'CdK', 'KiJ', 'JiL', 'LpBP'], [0.5, 'CtBP', 'CdK', 'KiK', 'KiA', 'ApBP'], [0.5, 'CtBP', 'CdK', 'KiK', 'KiB', 'BpBP'], [0.5, 'CtBP', 'CdK', 'KiK', 'KiG', 'GpBP'], [0.5, 'CtBP', 'CdK', 'KiK', 'KiD', 'DpBP'], [0.5, 'CtBP', 'CdK', 'KiK', 'KiE', 'EpBP'], [0.5, 'CtBP', 'CdK', 'KiK', 'KiF', 'FpBP'], [0.5, 'CtBP', 'CdK', 'KiK', 'KiH', 'HpBP'], [0.5, 'CtBP', 'CdK', 'KiK', 'KiI', 'IpBP'], [0.5, 'CtBP', 'CdK', 'KiK', 'KiJ', 'JpBP'], [0.5, 'CtBP', 'CdK', 'KiK', 'KiK', 'KpBP'], [0.5, 'CtBP', 'CdK', 'KiK', 'KiL', 'LpBP'], [0.5, 'CtBP', 'CdK', 'KiL', 'LiA', 'ApBP'], [0.5, 'CtBP', 'CdK', 'KiL', 'LiB', 'BpBP'], [0.5, 'CtBP', 'CdK', 'KiL', 'LiG', 'GpBP'], [0.5, 'CtBP', 'CdK', 'KiL', 'LiD', 'DpBP'], [0.5, 'CtBP', 'CdK', 'KiL', 'LiE', 'EpBP'], [0.5, 'CtBP', 'CdK', 'KiL', 'LiF', 'FpBP'], [0.5, 'CtBP', 'CdK', 'KiL', 'LiH', 'HpBP'], [0.5, 'CtBP', 'CdK', 'KiL', 'LiI', 'IpBP'], [0.5, 'CtBP', 'CdK', 'KiL', 'LiJ', 'JpBP'], [0.5, 'CtBP', 'CdK', 'KiL', 'LiK', 'KpBP'], [0.5, 'CtBP', 'CdK', 'KiL', 'LiL', 'LpBP'], [0.5, 'CtBP', 'CuK', 'KiA', 'AiA', 'ApBP'], [0.5, 'CtBP', 'CuK', 'KiA', 'AiB', 'BpBP'], [0.5, 'CtBP', 'CuK', 'KiA', 'AiG', 'GpBP'], [0.5, 'CtBP', 'CuK', 'KiA', 'AiD', 'DpBP'], [0.5, 'CtBP', 'CuK', 'KiA', 'AiE', 'EpBP'], [0.5, 'CtBP', 'CuK', 'KiA', 'AiF', 'FpBP'], [0.5, 'CtBP', 'CuK', 'KiA', 'AiH', 'HpBP'], [0.5, 'CtBP', 'CuK', 'KiA', 'AiI', 'IpBP'], [0.5, 'CtBP', 'CuK', 'KiA', 'AiJ', 'JpBP'], [0.5, 'CtBP', 'CuK', 'KiA', 'AiK', 'KpBP'], [0.5, 'CtBP', 'CuK', 'KiA', 'AiL', 'LpBP'], [0.5, 'CtBP', 'CuK', 'KiB', 'BiA', 'ApBP'], [0.5, 'CtBP', 'CuK', 'KiB', 'BiB', 'BpBP'], [0.5, 'CtBP', 'CuK', 'KiB', 'BiG', 'GpBP'], [0.5, 'CtBP', 'CuK', 'KiB', 'BiD', 'DpBP'], [0.5, 'CtBP', 'CuK', 'KiB', 'BiE', 'EpBP'], [0.5, 'CtBP', 'CuK', 'KiB', 'BiF', 'FpBP'], [0.5, 'CtBP', 'CuK', 'KiB', 'BiH', 'HpBP'], [0.5, 'CtBP', 'CuK', 'KiB', 'BiI', 'IpBP'], [0.5, 'CtBP', 'CuK', 'KiB', 'BiJ', 'JpBP'], [0.5, 'CtBP', 'CuK', 'KiB', 'BiK', 'KpBP'], [0.5, 'CtBP', 'CuK', 'KiB', 'BiL', 'LpBP'], [0.5, 'CtBP', 'CuK', 'KiG', 'GiA', 'ApBP'], [0.5, 'CtBP', 'CuK', 'KiG', 'GiB', 'BpBP'], [0.5, 'CtBP', 'CuK', 'KiG', 'GiG', 'GpBP'], [0.5, 'CtBP', 'CuK', 'KiG', 'GiD', 'DpBP'], [0.5, 'CtBP', 'CuK', 'KiG', 'GiE', 'EpBP'], [0.5, 'CtBP', 'CuK', 'KiG', 'GiF', 'FpBP'], [0.5, 'CtBP', 'CuK', 'KiG', 'GiH', 'HpBP'], [0.5, 'CtBP', 'CuK', 'KiG', 'GiI', 'IpBP'], [0.5, 'CtBP', 'CuK', 'KiG', 'GiJ', 'JpBP'], [0.5, 'CtBP', 'CuK', 'KiG', 'GiK', 'KpBP'], [0.5, 'CtBP', 'CuK', 'KiG', 'GiL', 'LpBP'], [0.5, 'CtBP', 'CuK', 'KiD', 'DiA', 'ApBP'], [0.5, 'CtBP', 'CuK', 'KiD', 'DiB', 'BpBP'], [0.5, 'CtBP', 'CuK', 'KiD', 'DiG', 'GpBP'], [0.5, 'CtBP', 'CuK', 'KiD', 'DiD', 'DpBP'], [0.5, 'CtBP', 'CuK', 'KiD', 'DiE', 'EpBP'], [0.5, 'CtBP', 'CuK', 'KiD', 'DiF', 'FpBP'], [0.5, 'CtBP', 'CuK', 'KiD', 'DiH', 'HpBP'], [0.5, 'CtBP', 'CuK', 'KiD', 'DiI', 'IpBP'], [0.5, 'CtBP', 'CuK', 'KiD', 'DiJ', 'JpBP'], [0.5, 'CtBP', 'CuK', 'KiD', 'DiK', 'KpBP'], [0.5, 'CtBP', 'CuK', 'KiD', 'DiL', 'LpBP'], [0.5, 'CtBP', 'CuK', 'KiE', 'EiA', 'ApBP'], [0.5, 'CtBP', 'CuK', 'KiE', 'EiB', 'BpBP'], [0.5, 'CtBP', 'CuK', 'KiE', 'EiG', 'GpBP'], [0.5, 'CtBP', 'CuK', 'KiE', 'EiD', 'DpBP'], [0.5, 'CtBP', 'CuK', 'KiE', 'EiE', 'EpBP'], [0.5, 'CtBP', 'CuK', 'KiE', 'EiF', 'FpBP'], [0.5, 'CtBP', 'CuK', 'KiE', 'EiH', 'HpBP'], [0.5, 'CtBP', 'CuK', 'KiE', 'EiI', 'IpBP'], [0.5, 'CtBP', 'CuK', 'KiE', 'EiJ', 'JpBP'], [0.5, 'CtBP', 'CuK', 'KiE', 'EiK', 'KpBP'], [0.5, 'CtBP', 'CuK', 'KiE', 'EiL', 'LpBP'], [0.5, 'CtBP', 'CuK', 'KiF', 'FiA', 'ApBP'], [0.5, 'CtBP', 'CuK', 'KiF', 'FiB', 'BpBP'], [0.5, 'CtBP', 'CuK', 'KiF', 'FiG', 'GpBP'], [0.5, 'CtBP', 'CuK', 'KiF', 'FiD', 'DpBP'], [0.5, 'CtBP', 'CuK', 'KiF', 'FiE', 'EpBP'], [0.5, 'CtBP', 'CuK', 'KiF', 'FiF', 'FpBP'], [0.5, 'CtBP', 'CuK', 'KiF', 'FiH', 'HpBP'], [0.5, 'CtBP', 'CuK', 'KiF', 'FiI', 'IpBP'], [0.5, 'CtBP', 'CuK', 'KiF', 'FiJ', 'JpBP'], [0.5, 'CtBP', 'CuK', 'KiF', 'FiK', 'KpBP'], [0.5, 'CtBP', 'CuK', 'KiF', 'FiL', 'LpBP'], [0.5, 'CtBP', 'CuK', 'KiH', 'HiA', 'ApBP'], [0.5, 'CtBP', 'CuK', 'KiH', 'HiB', 'BpBP'], [0.5, 'CtBP', 'CuK', 'KiH', 'HiG', 'GpBP'], [0.5, 'CtBP', 'CuK', 'KiH', 'HiD', 'DpBP'], [0.5, 'CtBP', 'CuK', 'KiH', 'HiE', 'EpBP'], [0.5, 'CtBP', 'CuK', 'KiH', 'HiF', 'FpBP'], [0.5, 'CtBP', 'CuK', 'KiH', 'HiH', 'HpBP'], [0.5, 'CtBP', 'CuK', 'KiH', 'HiI', 'IpBP'], [0.5, 'CtBP', 'CuK', 'KiH', 'HiJ', 'JpBP'], [0.5, 'CtBP', 'CuK', 'KiH', 'HiK', 'KpBP'], [0.5, 'CtBP', 'CuK', 'KiH', 'HiL', 'LpBP'], [0.5, 'CtBP', 'CuK', 'KiI', 'IiA', 'ApBP'], [0.5, 'CtBP', 'CuK', 'KiI', 'IiB', 'BpBP'], [0.5, 'CtBP', 'CuK', 'KiI', 'IiG', 'GpBP'], [0.5, 'CtBP', 'CuK', 'KiI', 'IiD', 'DpBP'], [0.5, 'CtBP', 'CuK', 'KiI', 'IiE', 'EpBP'], [0.5, 'CtBP', 'CuK', 'KiI', 'IiF', 'FpBP'], [0.5, 'CtBP', 'CuK', 'KiI', 'IiH', 'HpBP'], [0.5, 'CtBP', 'CuK', 'KiI', 'IiI', 'IpBP'], [0.5, 'CtBP', 'CuK', 'KiI', 'IiJ', 'JpBP'], [0.5, 'CtBP', 'CuK', 'KiI', 'IiK', 'KpBP'], [0.5, 'CtBP', 'CuK', 'KiI', 'IiL', 'LpBP'], [0.5, 'CtBP', 'CuK', 'KiJ', 'JiA', 'ApBP'], [0.5, 'CtBP', 'CuK', 'KiJ', 'JiB', 'BpBP'], [0.5, 'CtBP', 'CuK', 'KiJ', 'JiG', 'GpBP'], [0.5, 'CtBP', 'CuK', 'KiJ', 'JiD', 'DpBP'], [0.5, 'CtBP', 'CuK', 'KiJ', 'JiE', 'EpBP'], [0.5, 'CtBP', 'CuK', 'KiJ', 'JiF', 'FpBP'], [0.5, 'CtBP', 'CuK', 'KiJ', 'JiH', 'HpBP'], [0.5, 'CtBP', 'CuK', 'KiJ', 'JiI', 'IpBP'], [0.5, 'CtBP', 'CuK', 'KiJ', 'JiJ', 'JpBP'], [0.5, 'CtBP', 'CuK', 'KiJ', 'JiK', 'KpBP'], [0.5, 'CtBP', 'CuK', 'KiJ', 'JiL', 'LpBP'], [0.5, 'CtBP', 'CuK', 'KiK', 'KiA', 'ApBP'], [0.5, 'CtBP', 'CuK', 'KiK', 'KiB', 'BpBP'], [0.5, 'CtBP', 'CuK', 'KiK', 'KiG', 'GpBP'], [0.5, 'CtBP', 'CuK', 'KiK', 'KiD', 'DpBP'], [0.5, 'CtBP', 'CuK', 'KiK', 'KiE', 'EpBP'], [0.5, 'CtBP', 'CuK', 'KiK', 'KiF', 'FpBP'], [0.5, 'CtBP', 'CuK', 'KiK', 'KiH', 'HpBP'], [0.5, 'CtBP', 'CuK', 'KiK', 'KiI', 'IpBP'], [0.5, 'CtBP', 'CuK', 'KiK', 'KiJ', 'JpBP'], [0.5, 'CtBP', 'CuK', 'KiK', 'KiK', 'KpBP'], [0.5, 'CtBP', 'CuK', 'KiK', 'KiL', 'LpBP'], [0.5, 'CtBP', 'CuK', 'KiL', 'LiA', 'ApBP'], [0.5, 'CtBP', 'CuK', 'KiL', 'LiB', 'BpBP'], [0.5, 'CtBP', 'CuK', 'KiL', 'LiG', 'GpBP'], [0.5, 'CtBP', 'CuK', 'KiL', 'LiD', 'DpBP'], [0.5, 'CtBP', 'CuK', 'KiL', 'LiE', 'EpBP'], [0.5, 'CtBP', 'CuK', 'KiL', 'LiF', 'FpBP'], [0.5, 'CtBP', 'CuK', 'KiL', 'LiH', 'HpBP'], [0.5, 'CtBP', 'CuK', 'KiL', 'LiI', 'IpBP'], [0.5, 'CtBP', 'CuK', 'KiL', 'LiJ', 'JpBP'], [0.5, 'CtBP', 'CuK', 'KiL', 'LiK', 'KpBP'], [0.5, 'CtBP', 'CuK', 'KiL', 'LiL', 'LpBP'], [0.5, 'CtBP', 'CdL', 'LiA', 'AiA', 'ApBP'], [0.5, 'CtBP', 'CdL', 'LiA', 'AiB', 'BpBP'], [0.5, 'CtBP', 'CdL', 'LiA', 'AiG', 'GpBP'], [0.5, 'CtBP', 'CdL', 'LiA', 'AiD', 'DpBP'], [0.5, 'CtBP', 'CdL', 'LiA', 'AiE', 'EpBP'], [0.5, 'CtBP', 'CdL', 'LiA', 'AiF', 'FpBP'], [0.5, 'CtBP', 'CdL', 'LiA', 'AiH', 'HpBP'], [0.5, 'CtBP', 'CdL', 'LiA', 'AiI', 'IpBP'], [0.5, 'CtBP', 'CdL', 'LiA', 'AiJ', 'JpBP'], [0.5, 'CtBP', 'CdL', 'LiA', 'AiK', 'KpBP'], [0.5, 'CtBP', 'CdL', 'LiA', 'AiL', 'LpBP'], [0.5, 'CtBP', 'CdL', 'LiB', 'BiA', 'ApBP'], [0.5, 'CtBP', 'CdL', 'LiB', 'BiB', 'BpBP'], [0.5, 'CtBP', 'CdL', 'LiB', 'BiG', 'GpBP'], [0.5, 'CtBP', 'CdL', 'LiB', 'BiD', 'DpBP'], [0.5, 'CtBP', 'CdL', 'LiB', 'BiE', 'EpBP'], [0.5, 'CtBP', 'CdL', 'LiB', 'BiF', 'FpBP'], [0.5, 'CtBP', 'CdL', 'LiB', 'BiH', 'HpBP'], [0.5, 'CtBP', 'CdL', 'LiB', 'BiI', 'IpBP'], [0.5, 'CtBP', 'CdL', 'LiB', 'BiJ', 'JpBP'], [0.5, 'CtBP', 'CdL', 'LiB', 'BiK', 'KpBP'], [0.5, 'CtBP', 'CdL', 'LiB', 'BiL', 'LpBP'], [0.5, 'CtBP', 'CdL', 'LiG', 'GiA', 'ApBP'], [0.5, 'CtBP', 'CdL', 'LiG', 'GiB', 'BpBP'], [0.5, 'CtBP', 'CdL', 'LiG', 'GiG', 'GpBP'], [0.5, 'CtBP', 'CdL', 'LiG', 'GiD', 'DpBP'], [0.5, 'CtBP', 'CdL', 'LiG', 'GiE', 'EpBP'], [0.5, 'CtBP', 'CdL', 'LiG', 'GiF', 'FpBP'], [0.5, 'CtBP', 'CdL', 'LiG', 'GiH', 'HpBP'], [0.5, 'CtBP', 'CdL', 'LiG', 'GiI', 'IpBP'], [0.5, 'CtBP', 'CdL', 'LiG', 'GiJ', 'JpBP'], [0.5, 'CtBP', 'CdL', 'LiG', 'GiK', 'KpBP'], [0.5, 'CtBP', 'CdL', 'LiG', 'GiL', 'LpBP'], [0.5, 'CtBP', 'CdL', 'LiD', 'DiA', 'ApBP'], [0.5, 'CtBP', 'CdL', 'LiD', 'DiB', 'BpBP'], [0.5, 'CtBP', 'CdL', 'LiD', 'DiG', 'GpBP'], [0.5, 'CtBP', 'CdL', 'LiD', 'DiD', 'DpBP'], [0.5, 'CtBP', 'CdL', 'LiD', 'DiE', 'EpBP'], [0.5, 'CtBP', 'CdL', 'LiD', 'DiF', 'FpBP'], [0.5, 'CtBP', 'CdL', 'LiD', 'DiH', 'HpBP'], [0.5, 'CtBP', 'CdL', 'LiD', 'DiI', 'IpBP'], [0.5, 'CtBP', 'CdL', 'LiD', 'DiJ', 'JpBP'], [0.5, 'CtBP', 'CdL', 'LiD', 'DiK', 'KpBP'], [0.5, 'CtBP', 'CdL', 'LiD', 'DiL', 'LpBP'], [0.5, 'CtBP', 'CdL', 'LiE', 'EiA', 'ApBP'], [0.5, 'CtBP', 'CdL', 'LiE', 'EiB', 'BpBP'], [0.5, 'CtBP', 'CdL', 'LiE', 'EiG', 'GpBP'], [0.5, 'CtBP', 'CdL', 'LiE', 'EiD', 'DpBP'], [0.5, 'CtBP', 'CdL', 'LiE', 'EiE', 'EpBP'], [0.5, 'CtBP', 'CdL', 'LiE', 'EiF', 'FpBP'], [0.5, 'CtBP', 'CdL', 'LiE', 'EiH', 'HpBP'], [0.5, 'CtBP', 'CdL', 'LiE', 'EiI', 'IpBP'], [0.5, 'CtBP', 'CdL', 'LiE', 'EiJ', 'JpBP'], [0.5, 'CtBP', 'CdL', 'LiE', 'EiK', 'KpBP'], [0.5, 'CtBP', 'CdL', 'LiE', 'EiL', 'LpBP'], [0.5, 'CtBP', 'CdL', 'LiF', 'FiA', 'ApBP'], [0.5, 'CtBP', 'CdL', 'LiF', 'FiB', 'BpBP'], [0.5, 'CtBP', 'CdL', 'LiF', 'FiG', 'GpBP'], [0.5, 'CtBP', 'CdL', 'LiF', 'FiD', 'DpBP'], [0.5, 'CtBP', 'CdL', 'LiF', 'FiE', 'EpBP'], [0.5, 'CtBP', 'CdL', 'LiF', 'FiF', 'FpBP'], [0.5, 'CtBP', 'CdL', 'LiF', 'FiH', 'HpBP'], [0.5, 'CtBP', 'CdL', 'LiF', 'FiI', 'IpBP'], [0.5, 'CtBP', 'CdL', 'LiF', 'FiJ', 'JpBP'], [0.5, 'CtBP', 'CdL', 'LiF', 'FiK', 'KpBP'], [0.5, 'CtBP', 'CdL', 'LiF', 'FiL', 'LpBP'], [0.5, 'CtBP', 'CdL', 'LiH', 'HiA', 'ApBP'], [0.5, 'CtBP', 'CdL', 'LiH', 'HiB', 'BpBP'], [0.5, 'CtBP', 'CdL', 'LiH', 'HiG', 'GpBP'], [0.5, 'CtBP', 'CdL', 'LiH', 'HiD', 'DpBP'], [0.5, 'CtBP', 'CdL', 'LiH', 'HiE', 'EpBP'], [0.5, 'CtBP', 'CdL', 'LiH', 'HiF', 'FpBP'], [0.5, 'CtBP', 'CdL', 'LiH', 'HiH', 'HpBP'], [0.5, 'CtBP', 'CdL', 'LiH', 'HiI', 'IpBP'], [0.5, 'CtBP', 'CdL', 'LiH', 'HiJ', 'JpBP'], [0.5, 'CtBP', 'CdL', 'LiH', 'HiK', 'KpBP'], [0.5, 'CtBP', 'CdL', 'LiH', 'HiL', 'LpBP'], [0.5, 'CtBP', 'CdL', 'LiI', 'IiA', 'ApBP'], [0.5, 'CtBP', 'CdL', 'LiI', 'IiB', 'BpBP'], [0.5, 'CtBP', 'CdL', 'LiI', 'IiG', 'GpBP'], [0.5, 'CtBP', 'CdL', 'LiI', 'IiD', 'DpBP'], [0.5, 'CtBP', 'CdL', 'LiI', 'IiE', 'EpBP'], [0.5, 'CtBP', 'CdL', 'LiI', 'IiF', 'FpBP'], [0.5, 'CtBP', 'CdL', 'LiI', 'IiH', 'HpBP'], [0.5, 'CtBP', 'CdL', 'LiI', 'IiI', 'IpBP'], [0.5, 'CtBP', 'CdL', 'LiI', 'IiJ', 'JpBP'], [0.5, 'CtBP', 'CdL', 'LiI', 'IiK', 'KpBP'], [0.5, 'CtBP', 'CdL', 'LiI', 'IiL', 'LpBP'], [0.5, 'CtBP', 'CdL', 'LiJ', 'JiA', 'ApBP'], [0.5, 'CtBP', 'CdL', 'LiJ', 'JiB', 'BpBP'], [0.5, 'CtBP', 'CdL', 'LiJ', 'JiG', 'GpBP'], [0.5, 'CtBP', 'CdL', 'LiJ', 'JiD', 'DpBP'], [0.5, 'CtBP', 'CdL', 'LiJ', 'JiE', 'EpBP'], [0.5, 'CtBP', 'CdL', 'LiJ', 'JiF', 'FpBP'], [0.5, 'CtBP', 'CdL', 'LiJ', 'JiH', 'HpBP'], [0.5, 'CtBP', 'CdL', 'LiJ', 'JiI', 'IpBP'], [0.5, 'CtBP', 'CdL', 'LiJ', 'JiJ', 'JpBP'], [0.5, 'CtBP', 'CdL', 'LiJ', 'JiK', 'KpBP'], [0.5, 'CtBP', 'CdL', 'LiJ', 'JiL', 'LpBP'], [0.5, 'CtBP', 'CdL', 'LiK', 'KiA', 'ApBP'], [0.5, 'CtBP', 'CdL', 'LiK', 'KiB', 'BpBP'], [0.5, 'CtBP', 'CdL', 'LiK', 'KiG', 'GpBP'], [0.5, 'CtBP', 'CdL', 'LiK', 'KiD', 'DpBP'], [0.5, 'CtBP', 'CdL', 'LiK', 'KiE', 'EpBP'], [0.5, 'CtBP', 'CdL', 'LiK', 'KiF', 'FpBP'], [0.5, 'CtBP', 'CdL', 'LiK', 'KiH', 'HpBP'], [0.5, 'CtBP', 'CdL', 'LiK', 'KiI', 'IpBP'], [0.5, 'CtBP', 'CdL', 'LiK', 'KiJ', 'JpBP'], [0.5, 'CtBP', 'CdL', 'LiK', 'KiK', 'KpBP'], [0.5, 'CtBP', 'CdL', 'LiK', 'KiL', 'LpBP'], [0.5, 'CtBP', 'CdL', 'LiL', 'LiA', 'ApBP'], [0.5, 'CtBP', 'CdL', 'LiL', 'LiB', 'BpBP'], [0.5, 'CtBP', 'CdL', 'LiL', 'LiG', 'GpBP'], [0.5, 'CtBP', 'CdL', 'LiL', 'LiD', 'DpBP'], [0.5, 'CtBP', 'CdL', 'LiL', 'LiE', 'EpBP'], [0.5, 'CtBP', 'CdL', 'LiL', 'LiF', 'FpBP'], [0.5, 'CtBP', 'CdL', 'LiL', 'LiH', 'HpBP'], [0.5, 'CtBP', 'CdL', 'LiL', 'LiI', 'IpBP'], [0.5, 'CtBP', 'CdL', 'LiL', 'LiJ', 'JpBP'], [0.5, 'CtBP', 'CdL', 'LiL', 'LiK', 'KpBP'], [0.5, 'CtBP', 'CdL', 'LiL', 'LiL', 'LpBP'], [0.5, 'CtBP', 'CuL', 'LiA', 'AiA', 'ApBP'], [0.5, 'CtBP', 'CuL', 'LiA', 'AiB', 'BpBP'], [0.5, 'CtBP', 'CuL', 'LiA', 'AiG', 'GpBP'], [0.5, 'CtBP', 'CuL', 'LiA', 'AiD', 'DpBP'], [0.5, 'CtBP', 'CuL', 'LiA', 'AiE', 'EpBP'], [0.5, 'CtBP', 'CuL', 'LiA', 'AiF', 'FpBP'], [0.5, 'CtBP', 'CuL', 'LiA', 'AiH', 'HpBP'], [0.5, 'CtBP', 'CuL', 'LiA', 'AiI', 'IpBP'], [0.5, 'CtBP', 'CuL', 'LiA', 'AiJ', 'JpBP'], [0.5, 'CtBP', 'CuL', 'LiA', 'AiK', 'KpBP'], [0.5, 'CtBP', 'CuL', 'LiA', 'AiL', 'LpBP'], [0.5, 'CtBP', 'CuL', 'LiB', 'BiA', 'ApBP'], [0.5, 'CtBP', 'CuL', 'LiB', 'BiB', 'BpBP'], [0.5, 'CtBP', 'CuL', 'LiB', 'BiG', 'GpBP'], [0.5, 'CtBP', 'CuL', 'LiB', 'BiD', 'DpBP'], [0.5, 'CtBP', 'CuL', 'LiB', 'BiE', 'EpBP'], [0.5, 'CtBP', 'CuL', 'LiB', 'BiF', 'FpBP'], [0.5, 'CtBP', 'CuL', 'LiB', 'BiH', 'HpBP'], [0.5, 'CtBP', 'CuL', 'LiB', 'BiI', 'IpBP'], [0.5, 'CtBP', 'CuL', 'LiB', 'BiJ', 'JpBP'], [0.5, 'CtBP', 'CuL', 'LiB', 'BiK', 'KpBP'], [0.5, 'CtBP', 'CuL', 'LiB', 'BiL', 'LpBP'], [0.5, 'CtBP', 'CuL', 'LiG', 'GiA', 'ApBP'], [0.5, 'CtBP', 'CuL', 'LiG', 'GiB', 'BpBP'], [0.5, 'CtBP', 'CuL', 'LiG', 'GiG', 'GpBP'], [0.5, 'CtBP', 'CuL', 'LiG', 'GiD', 'DpBP'], [0.5, 'CtBP', 'CuL', 'LiG', 'GiE', 'EpBP'], [0.5, 'CtBP', 'CuL', 'LiG', 'GiF', 'FpBP'], [0.5, 'CtBP', 'CuL', 'LiG', 'GiH', 'HpBP'], [0.5, 'CtBP', 'CuL', 'LiG', 'GiI', 'IpBP'], [0.5, 'CtBP', 'CuL', 'LiG', 'GiJ', 'JpBP'], [0.5, 'CtBP', 'CuL', 'LiG', 'GiK', 'KpBP'], [0.5, 'CtBP', 'CuL', 'LiG', 'GiL', 'LpBP'], [0.5, 'CtBP', 'CuL', 'LiD', 'DiA', 'ApBP'], [0.5, 'CtBP', 'CuL', 'LiD', 'DiB', 'BpBP'], [0.5, 'CtBP', 'CuL', 'LiD', 'DiG', 'GpBP'], [0.5, 'CtBP', 'CuL', 'LiD', 'DiD', 'DpBP'], [0.5, 'CtBP', 'CuL', 'LiD', 'DiE', 'EpBP'], [0.5, 'CtBP', 'CuL', 'LiD', 'DiF', 'FpBP'], [0.5, 'CtBP', 'CuL', 'LiD', 'DiH', 'HpBP'], [0.5, 'CtBP', 'CuL', 'LiD', 'DiI', 'IpBP'], [0.5, 'CtBP', 'CuL', 'LiD', 'DiJ', 'JpBP'], [0.5, 'CtBP', 'CuL', 'LiD', 'DiK', 'KpBP'], [0.5, 'CtBP', 'CuL', 'LiD', 'DiL', 'LpBP'], [0.5, 'CtBP', 'CuL', 'LiE', 'EiA', 'ApBP'], [0.5, 'CtBP', 'CuL', 'LiE', 'EiB', 'BpBP'], [0.5, 'CtBP', 'CuL', 'LiE', 'EiG', 'GpBP'], [0.5, 'CtBP', 'CuL', 'LiE', 'EiD', 'DpBP'], [0.5, 'CtBP', 'CuL', 'LiE', 'EiE', 'EpBP'], [0.5, 'CtBP', 'CuL', 'LiE', 'EiF', 'FpBP'], [0.5, 'CtBP', 'CuL', 'LiE', 'EiH', 'HpBP'], [0.5, 'CtBP', 'CuL', 'LiE', 'EiI', 'IpBP'], [0.5, 'CtBP', 'CuL', 'LiE', 'EiJ', 'JpBP'], [0.5, 'CtBP', 'CuL', 'LiE', 'EiK', 'KpBP'], [0.5, 'CtBP', 'CuL', 'LiE', 'EiL', 'LpBP'], [0.5, 'CtBP', 'CuL', 'LiF', 'FiA', 'ApBP'], [0.5, 'CtBP', 'CuL', 'LiF', 'FiB', 'BpBP'], [0.5, 'CtBP', 'CuL', 'LiF', 'FiG', 'GpBP'], [0.5, 'CtBP', 'CuL', 'LiF', 'FiD', 'DpBP'], [0.5, 'CtBP', 'CuL', 'LiF', 'FiE', 'EpBP'], [0.5, 'CtBP', 'CuL', 'LiF', 'FiF', 'FpBP'], [0.5, 'CtBP', 'CuL', 'LiF', 'FiH', 'HpBP'], [0.5, 'CtBP', 'CuL', 'LiF', 'FiI', 'IpBP'], [0.5, 'CtBP', 'CuL', 'LiF', 'FiJ', 'JpBP'], [0.5, 'CtBP', 'CuL', 'LiF', 'FiK', 'KpBP'], [0.5, 'CtBP', 'CuL', 'LiF', 'FiL', 'LpBP'], [0.5, 'CtBP', 'CuL', 'LiH', 'HiA', 'ApBP'], [0.5, 'CtBP', 'CuL', 'LiH', 'HiB', 'BpBP'], [0.5, 'CtBP', 'CuL', 'LiH', 'HiG', 'GpBP'], [0.5, 'CtBP', 'CuL', 'LiH', 'HiD', 'DpBP'], [0.5, 'CtBP', 'CuL', 'LiH', 'HiE', 'EpBP'], [0.5, 'CtBP', 'CuL', 'LiH', 'HiF', 'FpBP'], [0.5, 'CtBP', 'CuL', 'LiH', 'HiH', 'HpBP'], [0.5, 'CtBP', 'CuL', 'LiH', 'HiI', 'IpBP'], [0.5, 'CtBP', 'CuL', 'LiH', 'HiJ', 'JpBP'], [0.5, 'CtBP', 'CuL', 'LiH', 'HiK', 'KpBP'], [0.5, 'CtBP', 'CuL', 'LiH', 'HiL', 'LpBP'], [0.5, 'CtBP', 'CuL', 'LiI', 'IiA', 'ApBP'], [0.5, 'CtBP', 'CuL', 'LiI', 'IiB', 'BpBP'], [0.5, 'CtBP', 'CuL', 'LiI', 'IiG', 'GpBP'], [0.5, 'CtBP', 'CuL', 'LiI', 'IiD', 'DpBP'], [0.5, 'CtBP', 'CuL', 'LiI', 'IiE', 'EpBP'], [0.5, 'CtBP', 'CuL', 'LiI', 'IiF', 'FpBP'], [0.5, 'CtBP', 'CuL', 'LiI', 'IiH', 'HpBP'], [0.5, 'CtBP', 'CuL', 'LiI', 'IiI', 'IpBP'], [0.5, 'CtBP', 'CuL', 'LiI', 'IiJ', 'JpBP'], [0.5, 'CtBP', 'CuL', 'LiI', 'IiK', 'KpBP'], [0.5, 'CtBP', 'CuL', 'LiI', 'IiL', 'LpBP'], [0.5, 'CtBP', 'CuL', 'LiJ', 'JiA', 'ApBP'], [0.5, 'CtBP', 'CuL', 'LiJ', 'JiB', 'BpBP'], [0.5, 'CtBP', 'CuL', 'LiJ', 'JiG', 'GpBP'], [0.5, 'CtBP', 'CuL', 'LiJ', 'JiD', 'DpBP'], [0.5, 'CtBP', 'CuL', 'LiJ', 'JiE', 'EpBP'], [0.5, 'CtBP', 'CuL', 'LiJ', 'JiF', 'FpBP'], [0.5, 'CtBP', 'CuL', 'LiJ', 'JiH', 'HpBP'], [0.5, 'CtBP', 'CuL', 'LiJ', 'JiI', 'IpBP'], [0.5, 'CtBP', 'CuL', 'LiJ', 'JiJ', 'JpBP'], [0.5, 'CtBP', 'CuL', 'LiJ', 'JiK', 'KpBP'], [0.5, 'CtBP', 'CuL', 'LiJ', 'JiL', 'LpBP'], [0.5, 'CtBP', 'CuL', 'LiK', 'KiA', 'ApBP'], [0.5, 'CtBP', 'CuL', 'LiK', 'KiB', 'BpBP'], [0.5, 'CtBP', 'CuL', 'LiK', 'KiG', 'GpBP'], [0.5, 'CtBP', 'CuL', 'LiK', 'KiD', 'DpBP'], [0.5, 'CtBP', 'CuL', 'LiK', 'KiE', 'EpBP'], [0.5, 'CtBP', 'CuL', 'LiK', 'KiF', 'FpBP'], [0.5, 'CtBP', 'CuL', 'LiK', 'KiH', 'HpBP'], [0.5, 'CtBP', 'CuL', 'LiK', 'KiI', 'IpBP'], [0.5, 'CtBP', 'CuL', 'LiK', 'KiJ', 'JpBP'], [0.5, 'CtBP', 'CuL', 'LiK', 'KiK', 'KpBP'], [0.5, 'CtBP', 'CuL', 'LiK', 'KiL', 'LpBP'], [0.5, 'CtBP', 'CuL', 'LiL', 'LiA', 'ApBP'], [0.5, 'CtBP', 'CuL', 'LiL', 'LiB', 'BpBP'], [0.5, 'CtBP', 'CuL', 'LiL', 'LiG', 'GpBP'], [0.5, 'CtBP', 'CuL', 'LiL', 'LiD', 'DpBP'], [0.5, 'CtBP', 'CuL', 'LiL', 'LiE', 'EpBP'], [0.5, 'CtBP', 'CuL', 'LiL', 'LiF', 'FpBP'], [0.5, 'CtBP', 'CuL', 'LiL', 'LiH', 'HpBP'], [0.5, 'CtBP', 'CuL', 'LiL', 'LiI', 'IpBP'], [0.5, 'CtBP', 'CuL', 'LiL', 'LiJ', 'JpBP'], [0.5, 'CtBP', 'CuL', 'LiL', 'LiK', 'KpBP'], [0.5, 'CtBP', 'CuL', 'LiL', 'LiL', 'LpBP']]}\n"
     ]
    }
   ],
   "source": [
    "rules = {}\n",
    "rules['CtBP'] = [get_forward_rule_body(str(mpath), prob, metagraph) for mpath in CtoBP_metapaths]\n",
    "print(rules)"
   ]
  },
  {
   "cell_type": "code",
   "execution_count": 42,
   "metadata": {},
   "outputs": [
    {
     "data": {
      "text/plain": [
       "dict_keys(['CtBP'])"
      ]
     },
     "execution_count": 42,
     "metadata": {},
     "output_type": "execute_result"
    }
   ],
   "source": [
    "rules.keys()"
   ]
  },
  {
   "attachments": {},
   "cell_type": "markdown",
   "metadata": {},
   "source": [
    "Let's write it to a file we can use for MARS:"
   ]
  },
  {
   "cell_type": "code",
   "execution_count": 43,
   "metadata": {},
   "outputs": [],
   "source": [
    "with open(osp.join(MARS_DIR, 'rules.txt'), 'w') as f:\n",
    "    json.dump(rules, f)"
   ]
  },
  {
   "attachments": {},
   "cell_type": "markdown",
   "metadata": {},
   "source": [
    "Now, let's get the input triples in a format consistent with MARS's input files:"
   ]
  },
  {
   "cell_type": "code",
   "execution_count": 44,
   "metadata": {},
   "outputs": [],
   "source": [
    "def convert_to_mars(df):\n",
    "    \"\"\"Converts the KG into a format that MARS can use\n",
    "    \"\"\"\n",
    "    df['metaedge'] = [kind_to_abbev[row['source_node_type']] + kind_to_abbev[row['edge_type']] + \\\n",
    "                       kind_to_abbev[row['target_node_type']] for i, row in df.iterrows()]\n",
    "    return df[['source', 'metaedge', 'target']]"
   ]
  },
  {
   "cell_type": "code",
   "execution_count": 45,
   "metadata": {},
   "outputs": [],
   "source": [
    "train = convert_to_mars(pd.read_csv(osp.join(MOA_NET_PROTCLASSED, 'train.tsv'), sep='\\t'))\n",
    "test = convert_to_mars(pd.read_csv(osp.join(MOA_NET_PROTCLASSED, 'test.tsv'), sep='\\t'))\n",
    "val = convert_to_mars(pd.read_csv(osp.join(MOA_NET_PROTCLASSED, 'dev.tsv'), sep='\\t'))\n",
    "\n",
    "kg_triples = convert_to_mars(pd.read_csv(osp.join(MOA_NET_PROTCLASSED, 'kg_with_train_smpls.tsv'), sep='\\t'))"
   ]
  },
  {
   "cell_type": "code",
   "execution_count": 46,
   "metadata": {},
   "outputs": [
    {
     "data": {
      "text/html": [
       "<div>\n",
       "<style scoped>\n",
       "    .dataframe tbody tr th:only-of-type {\n",
       "        vertical-align: middle;\n",
       "    }\n",
       "\n",
       "    .dataframe tbody tr th {\n",
       "        vertical-align: top;\n",
       "    }\n",
       "\n",
       "    .dataframe thead th {\n",
       "        text-align: right;\n",
       "    }\n",
       "</style>\n",
       "<table border=\"1\" class=\"dataframe\">\n",
       "  <thead>\n",
       "    <tr style=\"text-align: right;\">\n",
       "      <th></th>\n",
       "      <th>source</th>\n",
       "      <th>metaedge</th>\n",
       "      <th>target</th>\n",
       "    </tr>\n",
       "  </thead>\n",
       "  <tbody>\n",
       "    <tr>\n",
       "      <th>0</th>\n",
       "      <td>pubchem.compound:6167</td>\n",
       "      <td>CuG</td>\n",
       "      <td>ncbigene:3371</td>\n",
       "    </tr>\n",
       "    <tr>\n",
       "      <th>1</th>\n",
       "      <td>ncbigene:4303</td>\n",
       "      <td>BiG</td>\n",
       "      <td>ncbigene:359</td>\n",
       "    </tr>\n",
       "    <tr>\n",
       "      <th>2</th>\n",
       "      <td>ncbigene:143496</td>\n",
       "      <td>JiG</td>\n",
       "      <td>ncbigene:408</td>\n",
       "    </tr>\n",
       "    <tr>\n",
       "      <th>3</th>\n",
       "      <td>ncbigene:351</td>\n",
       "      <td>GiG</td>\n",
       "      <td>ncbigene:6521</td>\n",
       "    </tr>\n",
       "    <tr>\n",
       "      <th>4</th>\n",
       "      <td>ncbigene:466</td>\n",
       "      <td>AiK</td>\n",
       "      <td>ncbigene:6431</td>\n",
       "    </tr>\n",
       "  </tbody>\n",
       "</table>\n",
       "</div>"
      ],
      "text/plain": [
       "                  source metaedge         target\n",
       "0  pubchem.compound:6167      CuG  ncbigene:3371\n",
       "1          ncbigene:4303      BiG   ncbigene:359\n",
       "2        ncbigene:143496      JiG   ncbigene:408\n",
       "3           ncbigene:351      GiG  ncbigene:6521\n",
       "4           ncbigene:466      AiK  ncbigene:6431"
      ]
     },
     "execution_count": 46,
     "metadata": {},
     "output_type": "execute_result"
    }
   ],
   "source": [
    "kg_triples.head()"
   ]
  },
  {
   "cell_type": "markdown",
   "metadata": {},
   "source": [
    "Get the inverse triples of the KG:"
   ]
  },
  {
   "cell_type": "code",
   "execution_count": 47,
   "metadata": {},
   "outputs": [],
   "source": [
    "inverse_triples = kg_triples[['source', 'target', 'metaedge']].copy()\n",
    "inverse_triples['inv_metaedge'] = ['_' + i for i in inverse_triples['metaedge']]\n",
    "inverse_triples = inverse_triples[['target', 'inv_metaedge', 'source']]\n",
    "\n",
    "# get rid of those with _CtBP\n",
    "#inverse_triples = inverse_triples.loc[inverse_triples['inv_metaedge'] != '_CtBP']"
   ]
  },
  {
   "attachments": {},
   "cell_type": "markdown",
   "metadata": {},
   "source": [
    "Great, write to the MARS folder:"
   ]
  },
  {
   "cell_type": "code",
   "execution_count": 48,
   "metadata": {},
   "outputs": [],
   "source": [
    "kg_triples.to_csv(osp.join(MARS_DIR, 'graph_triples.txt'), sep='\\t', index=False, header=False)\n",
    "inverse_triples.to_csv(osp.join(MARS_DIR, 'graph_inverses.txt'), sep='\\t', index=False, header=False)"
   ]
  },
  {
   "cell_type": "code",
   "execution_count": 49,
   "metadata": {},
   "outputs": [],
   "source": [
    "train.to_csv(osp.join(MARS_DIR, 'train.txt'), sep='\\t', index=False, header=False)\n",
    "test.to_csv(osp.join(MARS_DIR, 'test.txt'), sep='\\t', index=False, header=False)\n",
    "val.to_csv(osp.join(MARS_DIR, 'dev.txt'), sep='\\t', index=False, header=False)"
   ]
  },
  {
   "cell_type": "markdown",
   "metadata": {},
   "source": [
    "Finally, we need dictionaries to map the entities and relations to unique IDs."
   ]
  },
  {
   "cell_type": "code",
   "execution_count": 50,
   "metadata": {},
   "outputs": [],
   "source": [
    "entities = {\"PAD\": 0, \"UNK\": 1}\n",
    "\n",
    "next_id = 2\n",
    "for df in kg_triples, train, test, val:\n",
    "    for i in df['source'].unique():\n",
    "        if i not in entities:\n",
    "            entities[i] = next_id\n",
    "            next_id += 1\n",
    "    for i in df['target'].unique():\n",
    "        if i not in entities:\n",
    "            entities[i] = next_id\n",
    "            next_id += 1"
   ]
  },
  {
   "cell_type": "code",
   "execution_count": 51,
   "metadata": {},
   "outputs": [],
   "source": [
    "relations = {\"PAD\": 0, \"DUMMY_START_RELATION\": 1, \"NO_OP\": 2, \"UNK\": 3}\n",
    "\n",
    "# combine the metaedges and inverse metaedges\n",
    "metaedges = set(kg_triples['metaedge']) | (set(inverse_triples['inv_metaedge']))\n",
    "\n",
    "next_id = 4\n",
    "for rel in metaedges:\n",
    "    relations[rel] = next_id\n",
    "    next_id += 1"
   ]
  },
  {
   "cell_type": "code",
   "execution_count": 52,
   "metadata": {},
   "outputs": [],
   "source": [
    "# write dictionary to json file\n",
    "VOCAB_DIR = osp.join(MARS_DIR, 'vocab')\n",
    "os.makedirs(VOCAB_DIR, exist_ok=True)\n",
    "\n",
    "with open(osp.join(VOCAB_DIR, 'entity_vocab.json'), 'w') as f:\n",
    "    json.dump(entities, f)\n",
    "\n",
    "with open(osp.join(VOCAB_DIR, 'relation_vocab.json'), 'w') as f:\n",
    "    json.dump(relations, f)"
   ]
  },
  {
   "cell_type": "code",
   "execution_count": 53,
   "metadata": {},
   "outputs": [],
   "source": [
    "meta_mapping = {v: k for k, v in kind_to_abbev.items()}"
   ]
  },
  {
   "cell_type": "code",
   "execution_count": 54,
   "metadata": {},
   "outputs": [],
   "source": [
    "with open(osp.join(VOCAB_DIR, 'meta_mapping.json'), 'w') as f:\n",
    "    json.dump(meta_mapping, f)"
   ]
  },
  {
   "cell_type": "code",
   "execution_count": 55,
   "metadata": {},
   "outputs": [
    {
     "data": {
      "text/plain": [
       "{'C': 'Compound',\n",
       " 'G': 'Gene',\n",
       " 'BP': 'Biological Process',\n",
       " 'u': 'upregulates',\n",
       " 'd': 'downregulates',\n",
       " 'i': 'interacts',\n",
       " 'p': 'participates',\n",
       " 't': 'induces',\n",
       " 'A': 'DNA-binding',\n",
       " 'B': 'Developmental protein',\n",
       " 'D': 'Growth factor',\n",
       " 'E': 'Hormone',\n",
       " 'F': 'Hydrolase',\n",
       " 'H': 'Oxidoreductase',\n",
       " 'I': 'RNA-binding',\n",
       " 'J': 'Receptor',\n",
       " 'K': 'Repressor',\n",
       " 'L': 'Transferase'}"
      ]
     },
     "execution_count": 55,
     "metadata": {},
     "output_type": "execute_result"
    }
   ],
   "source": [
    "meta_mapping"
   ]
  }
 ],
 "metadata": {
  "kernelspec": {
   "display_name": "moanet_env",
   "language": "python",
   "name": "python3"
  },
  "language_info": {
   "codemirror_mode": {
    "name": "ipython",
    "version": 3
   },
   "file_extension": ".py",
   "mimetype": "text/x-python",
   "name": "python",
   "nbconvert_exporter": "python",
   "pygments_lexer": "ipython3",
   "version": "3.10.13"
  },
  "orig_nbformat": 4
 },
 "nbformat": 4,
 "nbformat_minor": 2
}
