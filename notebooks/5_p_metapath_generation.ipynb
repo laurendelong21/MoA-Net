{
 "cells": [
  {
   "attachments": {},
   "cell_type": "markdown",
   "metadata": {},
   "source": [
    "# Metagraph and Metapath Generation\n",
    "\n",
    "Here, we use the same syntax as [HetNetPy](https://github.com/hetio/hetnetpy/tree/e1ff1f8296b766dd5a63e5870a8a1a7d82427a80) to create a metagraph and extract metapaths from the KG.\n",
    "\n",
    "Metagraph creation is based on [this notebook](https://github.com/dhimmel/integrate/blob/93feba1765fbcd76fd79e22f25121f5399629148/integrate.ipynb)."
   ]
  },
  {
   "cell_type": "code",
   "execution_count": 1,
   "metadata": {},
   "outputs": [],
   "source": [
    "import pandas as pd\n",
    "import seaborn as sns\n",
    "import os\n",
    "import os.path as osp\n",
    "\n",
    "import hetnetpy.hetnet\n",
    "import hetnetpy.readwrite\n",
    "import hetnetpy.stats\n",
    "\n",
    "from hetnetpy.abbreviation import metaedges_from_metapath\n",
    "from hetnetpy.pathtools import DWPC, paths_between\n",
    "\n",
    "import re\n",
    "import json\n",
    "import tqdm\n",
    "from collections import Counter\n",
    "\n",
    "from itertools import chain\n",
    "\n",
    "%matplotlib inline"
   ]
  },
  {
   "attachments": {},
   "cell_type": "markdown",
   "metadata": {},
   "source": [
    "## Using the protein subclasses\n",
    "\n",
    "In this version of the KG, we subclassed some of the proteins to UniProt keywords. Since we need letters representing these subclasses, we'll assign that here."
   ]
  },
  {
   "cell_type": "code",
   "execution_count": 2,
   "metadata": {},
   "outputs": [],
   "source": [
    "MAPPING_DIR = '../data/mappings/'\n",
    "\n",
    "KG_DIR = '../data/kg/'\n",
    "SPLITS_DIR = osp.join(KG_DIR, 'splits')\n",
    "MOA_NET_PROTCLASSED = osp.join(SPLITS_DIR, 'MoA-net-protclass')\n",
    "MARS_DIR = osp.join(MOA_NET_PROTCLASSED, 'MARS')\n",
    "METAPATHS_DIR = osp.join(MOA_NET_PROTCLASSED, 'metapaths')\n",
    "\n",
    "for dir in [SPLITS_DIR, MARS_DIR, MOA_NET_PROTCLASSED, METAPATHS_DIR]:\n",
    "    if not osp.exists(dir):\n",
    "        os.makedirs(dir)"
   ]
  },
  {
   "cell_type": "code",
   "execution_count": 3,
   "metadata": {},
   "outputs": [],
   "source": [
    "# Read in the json file containing the classes:\n",
    "with open(osp.join(MAPPING_DIR, 'node2class.json'), 'r') as f:\n",
    "    prot_classes = json.load(f)\n",
    "\n",
    "prot_classes = {kw for keyword in prot_classes.values() for kw in keyword}\n",
    "\n",
    "prot_classes = sorted(list(prot_classes))  # sort so we get consistent results each time code is run:"
   ]
  },
  {
   "attachments": {},
   "cell_type": "markdown",
   "metadata": {},
   "source": [
    "Be sure to exclude C and G because we've already assigned them to Compound and Gene."
   ]
  },
  {
   "cell_type": "code",
   "execution_count": 4,
   "metadata": {},
   "outputs": [
    {
     "data": {
      "text/plain": [
       "{'DNA-binding': 'A', 'Hydrolase': 'B', 'Receptor': 'D', 'Transferase': 'E'}"
      ]
     },
     "execution_count": 4,
     "metadata": {},
     "output_type": "execute_result"
    }
   ],
   "source": [
    "# for each item in keep_kws, assign a letter of the alphabet in a dictionary, excluding C or G\n",
    "class2letter = dict() \n",
    "i = 0\n",
    "for kw in prot_classes:\n",
    "    if kw == 'Gene':\n",
    "        continue\n",
    "    if chr(i + 65) in {'C', 'G'}:\n",
    "        i += 1\n",
    "    class2letter[kw] = chr(i + 65)\n",
    "    i += 1\n",
    "\n",
    "class2letter"
   ]
  },
  {
   "cell_type": "code",
   "execution_count": 5,
   "metadata": {},
   "outputs": [],
   "source": [
    "kg = pd.read_csv(osp.join(MOA_NET_PROTCLASSED, 'kg_no_cmp_bp.tsv'), sep='\\t')"
   ]
  },
  {
   "cell_type": "code",
   "execution_count": 6,
   "metadata": {},
   "outputs": [
    {
     "data": {
      "text/html": [
       "<div>\n",
       "<style scoped>\n",
       "    .dataframe tbody tr th:only-of-type {\n",
       "        vertical-align: middle;\n",
       "    }\n",
       "\n",
       "    .dataframe tbody tr th {\n",
       "        vertical-align: top;\n",
       "    }\n",
       "\n",
       "    .dataframe thead th {\n",
       "        text-align: right;\n",
       "    }\n",
       "</style>\n",
       "<table border=\"1\" class=\"dataframe\">\n",
       "  <thead>\n",
       "    <tr style=\"text-align: right;\">\n",
       "      <th></th>\n",
       "      <th>source</th>\n",
       "      <th>source_node_type</th>\n",
       "      <th>target</th>\n",
       "      <th>target_node_type</th>\n",
       "      <th>edge_type</th>\n",
       "    </tr>\n",
       "  </thead>\n",
       "  <tbody>\n",
       "  </tbody>\n",
       "</table>\n",
       "</div>"
      ],
      "text/plain": [
       "Empty DataFrame\n",
       "Columns: [source, source_node_type, target, target_node_type, edge_type]\n",
       "Index: []"
      ]
     },
     "execution_count": 6,
     "metadata": {},
     "output_type": "execute_result"
    }
   ],
   "source": [
    "# show me the duplicated rows in the dataframe\n",
    "kg[kg.duplicated(keep=False)]"
   ]
  },
  {
   "attachments": {},
   "cell_type": "markdown",
   "metadata": {},
   "source": [
    "### Define and Instantiate Metagraph:"
   ]
  },
  {
   "cell_type": "code",
   "execution_count": 7,
   "metadata": {},
   "outputs": [],
   "source": [
    "kind_to_abbev = {\n",
    "    \n",
    "    # metanodes\n",
    "    'Compound': 'C',\n",
    "    'Gene': 'G',\n",
    "    'Biological Process': 'BP',\n",
    "    \n",
    "    # metaedges\n",
    "    'upregulates': 'u',\n",
    "    'downregulates': 'd',\n",
    "    'interacts': 'i',\n",
    "    'participates': 'p',\n",
    "    'induces': 't',\n",
    "}\n",
    "\n",
    "# add the new protein subclasses to the abbreviations:\n",
    "kind_to_abbev.update(class2letter)"
   ]
  },
  {
   "cell_type": "code",
   "execution_count": 8,
   "metadata": {},
   "outputs": [],
   "source": [
    "metaedge_tuples = list({(row['source_node_type'], row['target_node_type'], row['edge_type'], 'forward') for i, row in kg.iterrows()})"
   ]
  },
  {
   "cell_type": "code",
   "execution_count": 9,
   "metadata": {},
   "outputs": [],
   "source": [
    "# now make the metagraph\n",
    "metagraph = hetnetpy.hetnet.MetaGraph.from_edge_tuples(metaedge_tuples, kind_to_abbev)\n",
    "graph = hetnetpy.hetnet.Graph(metagraph)"
   ]
  },
  {
   "cell_type": "code",
   "execution_count": 10,
   "metadata": {},
   "outputs": [],
   "source": [
    "seen = set()\n",
    "\n",
    "for i, row in kg.iterrows():\n",
    "    if not (row['source'], row['source_node_type']) in seen:\n",
    "        graph.add_node(kind=row['source_node_type'], identifier=row['source'])\n",
    "        seen.add((row['source'], row['source_node_type']))\n",
    "    if not (row['target'], row['target_node_type']) in seen:\n",
    "        graph.add_node(kind=row['target_node_type'], identifier=row['target'])\n",
    "        seen.add((row['target'], row['target_node_type']))\n",
    "\n",
    "    src_id = row['source_node_type'], row['source']\n",
    "    trgt_id = row['target_node_type'], row['target']\n",
    "\n",
    "    graph.add_edge(source_id=src_id, target_id=trgt_id, kind=row['edge_type'], direction='forward')"
   ]
  },
  {
   "attachments": {},
   "cell_type": "markdown",
   "metadata": {},
   "source": [
    "## Network Visualization and Stats"
   ]
  },
  {
   "cell_type": "code",
   "execution_count": 11,
   "metadata": {},
   "outputs": [
    {
     "data": {
      "text/html": [
       "<div>\n",
       "<style scoped>\n",
       "    .dataframe tbody tr th:only-of-type {\n",
       "        vertical-align: middle;\n",
       "    }\n",
       "\n",
       "    .dataframe tbody tr th {\n",
       "        vertical-align: top;\n",
       "    }\n",
       "\n",
       "    .dataframe thead th {\n",
       "        text-align: right;\n",
       "    }\n",
       "</style>\n",
       "<table border=\"1\" class=\"dataframe\">\n",
       "  <thead>\n",
       "    <tr style=\"text-align: right;\">\n",
       "      <th></th>\n",
       "      <th>metanode</th>\n",
       "      <th>abbreviation</th>\n",
       "      <th>metaedges</th>\n",
       "      <th>nodes</th>\n",
       "      <th>unconnected_nodes</th>\n",
       "    </tr>\n",
       "  </thead>\n",
       "  <tbody>\n",
       "    <tr>\n",
       "      <th>6</th>\n",
       "      <td>Biological Process</td>\n",
       "      <td>BP</td>\n",
       "      <td>5</td>\n",
       "      <td>86</td>\n",
       "      <td>0</td>\n",
       "    </tr>\n",
       "    <tr>\n",
       "      <th>0</th>\n",
       "      <td>Compound</td>\n",
       "      <td>C</td>\n",
       "      <td>10</td>\n",
       "      <td>300</td>\n",
       "      <td>0</td>\n",
       "    </tr>\n",
       "    <tr>\n",
       "      <th>3</th>\n",
       "      <td>DNA-binding</td>\n",
       "      <td>A</td>\n",
       "      <td>12</td>\n",
       "      <td>1035</td>\n",
       "      <td>0</td>\n",
       "    </tr>\n",
       "    <tr>\n",
       "      <th>1</th>\n",
       "      <td>Gene</td>\n",
       "      <td>G</td>\n",
       "      <td>12</td>\n",
       "      <td>2209</td>\n",
       "      <td>0</td>\n",
       "    </tr>\n",
       "    <tr>\n",
       "      <th>4</th>\n",
       "      <td>Hydrolase</td>\n",
       "      <td>B</td>\n",
       "      <td>12</td>\n",
       "      <td>806</td>\n",
       "      <td>0</td>\n",
       "    </tr>\n",
       "    <tr>\n",
       "      <th>5</th>\n",
       "      <td>Receptor</td>\n",
       "      <td>D</td>\n",
       "      <td>12</td>\n",
       "      <td>1057</td>\n",
       "      <td>0</td>\n",
       "    </tr>\n",
       "    <tr>\n",
       "      <th>2</th>\n",
       "      <td>Transferase</td>\n",
       "      <td>E</td>\n",
       "      <td>12</td>\n",
       "      <td>1107</td>\n",
       "      <td>0</td>\n",
       "    </tr>\n",
       "  </tbody>\n",
       "</table>\n",
       "</div>"
      ],
      "text/plain": [
       "             metanode abbreviation  metaedges  nodes  unconnected_nodes\n",
       "6  Biological Process           BP          5     86                  0\n",
       "0            Compound            C         10    300                  0\n",
       "3         DNA-binding            A         12   1035                  0\n",
       "1                Gene            G         12   2209                  0\n",
       "4           Hydrolase            B         12    806                  0\n",
       "5            Receptor            D         12   1057                  0\n",
       "2         Transferase            E         12   1107                  0"
      ]
     },
     "execution_count": 11,
     "metadata": {},
     "output_type": "execute_result"
    }
   ],
   "source": [
    "metanode_df = hetnetpy.stats.get_metanode_df(graph)\n",
    "metanode_df"
   ]
  },
  {
   "cell_type": "code",
   "execution_count": 12,
   "metadata": {},
   "outputs": [],
   "source": [
    "rel_mapping = {str(row['abbreviation']): str(row['metanode']) for i, row in metanode_df.iterrows()}\n",
    "# write to json file\n",
    "with open(osp.join(MAPPING_DIR, 'rel_mapping.json'), 'w') as f:\n",
    "    json.dump(rel_mapping, f, indent=2)"
   ]
  },
  {
   "cell_type": "code",
   "execution_count": 13,
   "metadata": {},
   "outputs": [
    {
     "data": {
      "image/png": "[encoded data removed]",
      "text/plain": [
       "<Figure size 640x480 with 1 Axes>"
      ]
     },
     "metadata": {},
     "output_type": "display_data"
    }
   ],
   "source": [
    "ax = sns.barplot(x='metanode', y='nodes', data=metanode_df.sort_values('nodes'))\n",
    "for tick in ax.get_xticklabels():\n",
    "    tick.set_rotation(90)\n",
    "ax.set_xlabel(''); ax.set_ylabel('nodes');"
   ]
  },
  {
   "cell_type": "code",
   "execution_count": 14,
   "metadata": {},
   "outputs": [
    {
     "data": {
      "text/plain": [
       "6600"
      ]
     },
     "execution_count": 14,
     "metadata": {},
     "output_type": "execute_result"
    }
   ],
   "source": [
    "# Total number of nodes\n",
    "metanode_df.nodes.sum()"
   ]
  },
  {
   "cell_type": "code",
   "execution_count": 15,
   "metadata": {},
   "outputs": [],
   "source": [
    "# Summary of metaedges and cooresponding edges\n",
    "metaedge_df = hetnetpy.stats.get_metaedge_df(graph)"
   ]
  },
  {
   "cell_type": "code",
   "execution_count": 16,
   "metadata": {},
   "outputs": [
    {
     "data": {
      "text/html": [
       "<div>\n",
       "<style scoped>\n",
       "    .dataframe tbody tr th:only-of-type {\n",
       "        vertical-align: middle;\n",
       "    }\n",
       "\n",
       "    .dataframe tbody tr th {\n",
       "        vertical-align: top;\n",
       "    }\n",
       "\n",
       "    .dataframe thead th {\n",
       "        text-align: right;\n",
       "    }\n",
       "</style>\n",
       "<table border=\"1\" class=\"dataframe\">\n",
       "  <thead>\n",
       "    <tr style=\"text-align: right;\">\n",
       "      <th></th>\n",
       "      <th>metaedge</th>\n",
       "      <th>abbreviation</th>\n",
       "      <th>edges</th>\n",
       "      <th>source_nodes</th>\n",
       "      <th>target_nodes</th>\n",
       "    </tr>\n",
       "  </thead>\n",
       "  <tbody>\n",
       "    <tr>\n",
       "      <th>18</th>\n",
       "      <td>Gene &gt; interacts &gt; Gene</td>\n",
       "      <td>Gi&gt;G</td>\n",
       "      <td>8406</td>\n",
       "      <td>883</td>\n",
       "      <td>1256</td>\n",
       "    </tr>\n",
       "    <tr>\n",
       "      <th>1</th>\n",
       "      <td>Gene &gt; interacts &gt; Receptor</td>\n",
       "      <td>Gi&gt;D</td>\n",
       "      <td>4511</td>\n",
       "      <td>450</td>\n",
       "      <td>837</td>\n",
       "    </tr>\n",
       "    <tr>\n",
       "      <th>29</th>\n",
       "      <td>DNA-binding &gt; interacts &gt; Gene</td>\n",
       "      <td>Ai&gt;G</td>\n",
       "      <td>3910</td>\n",
       "      <td>406</td>\n",
       "      <td>1408</td>\n",
       "    </tr>\n",
       "    <tr>\n",
       "      <th>22</th>\n",
       "      <td>Transferase &gt; interacts &gt; Gene</td>\n",
       "      <td>Ei&gt;G</td>\n",
       "      <td>3635</td>\n",
       "      <td>410</td>\n",
       "      <td>1065</td>\n",
       "    </tr>\n",
       "    <tr>\n",
       "      <th>0</th>\n",
       "      <td>Gene &gt; interacts &gt; Transferase</td>\n",
       "      <td>Gi&gt;E</td>\n",
       "      <td>3588</td>\n",
       "      <td>664</td>\n",
       "      <td>598</td>\n",
       "    </tr>\n",
       "    <tr>\n",
       "      <th>7</th>\n",
       "      <td>DNA-binding &gt; interacts &gt; DNA-binding</td>\n",
       "      <td>Ai&gt;A</td>\n",
       "      <td>3031</td>\n",
       "      <td>378</td>\n",
       "      <td>845</td>\n",
       "    </tr>\n",
       "    <tr>\n",
       "      <th>34</th>\n",
       "      <td>Receptor &gt; interacts &gt; Gene</td>\n",
       "      <td>Di&gt;G</td>\n",
       "      <td>2994</td>\n",
       "      <td>791</td>\n",
       "      <td>290</td>\n",
       "    </tr>\n",
       "    <tr>\n",
       "      <th>15</th>\n",
       "      <td>Transferase &gt; interacts &gt; Transferase</td>\n",
       "      <td>Ei&gt;E</td>\n",
       "      <td>2587</td>\n",
       "      <td>380</td>\n",
       "      <td>480</td>\n",
       "    </tr>\n",
       "    <tr>\n",
       "      <th>35</th>\n",
       "      <td>Receptor &gt; interacts &gt; Transferase</td>\n",
       "      <td>Di&gt;E</td>\n",
       "      <td>2549</td>\n",
       "      <td>598</td>\n",
       "      <td>156</td>\n",
       "    </tr>\n",
       "    <tr>\n",
       "      <th>6</th>\n",
       "      <td>Gene &gt; participates &gt; Biological Process</td>\n",
       "      <td>Gp&gt;BP</td>\n",
       "      <td>2418</td>\n",
       "      <td>1820</td>\n",
       "      <td>69</td>\n",
       "    </tr>\n",
       "    <tr>\n",
       "      <th>39</th>\n",
       "      <td>Transferase &gt; interacts &gt; DNA-binding</td>\n",
       "      <td>Ei&gt;A</td>\n",
       "      <td>2002</td>\n",
       "      <td>300</td>\n",
       "      <td>389</td>\n",
       "    </tr>\n",
       "    <tr>\n",
       "      <th>33</th>\n",
       "      <td>Gene &gt; interacts &gt; Hydrolase</td>\n",
       "      <td>Gi&gt;B</td>\n",
       "      <td>1968</td>\n",
       "      <td>586</td>\n",
       "      <td>435</td>\n",
       "    </tr>\n",
       "    <tr>\n",
       "      <th>26</th>\n",
       "      <td>DNA-binding &gt; interacts &gt; Transferase</td>\n",
       "      <td>Ai&gt;E</td>\n",
       "      <td>1749</td>\n",
       "      <td>304</td>\n",
       "      <td>801</td>\n",
       "    </tr>\n",
       "    <tr>\n",
       "      <th>31</th>\n",
       "      <td>Gene &gt; interacts &gt; DNA-binding</td>\n",
       "      <td>Gi&gt;A</td>\n",
       "      <td>1677</td>\n",
       "      <td>404</td>\n",
       "      <td>446</td>\n",
       "    </tr>\n",
       "    <tr>\n",
       "      <th>3</th>\n",
       "      <td>Transferase &gt; interacts &gt; Hydrolase</td>\n",
       "      <td>Ei&gt;B</td>\n",
       "      <td>1439</td>\n",
       "      <td>293</td>\n",
       "      <td>314</td>\n",
       "    </tr>\n",
       "    <tr>\n",
       "      <th>12</th>\n",
       "      <td>Hydrolase &gt; interacts &gt; Gene</td>\n",
       "      <td>Bi&gt;G</td>\n",
       "      <td>1287</td>\n",
       "      <td>255</td>\n",
       "      <td>624</td>\n",
       "    </tr>\n",
       "    <tr>\n",
       "      <th>19</th>\n",
       "      <td>Compound &gt; downregulates &gt; Gene</td>\n",
       "      <td>Cd&gt;G</td>\n",
       "      <td>1151</td>\n",
       "      <td>204</td>\n",
       "      <td>481</td>\n",
       "    </tr>\n",
       "    <tr>\n",
       "      <th>13</th>\n",
       "      <td>DNA-binding &gt; interacts &gt; Hydrolase</td>\n",
       "      <td>Ai&gt;B</td>\n",
       "      <td>1055</td>\n",
       "      <td>261</td>\n",
       "      <td>528</td>\n",
       "    </tr>\n",
       "    <tr>\n",
       "      <th>2</th>\n",
       "      <td>Hydrolase &gt; interacts &gt; Transferase</td>\n",
       "      <td>Bi&gt;E</td>\n",
       "      <td>844</td>\n",
       "      <td>183</td>\n",
       "      <td>293</td>\n",
       "    </tr>\n",
       "    <tr>\n",
       "      <th>16</th>\n",
       "      <td>Transferase &gt; interacts &gt; Receptor</td>\n",
       "      <td>Ei&gt;D</td>\n",
       "      <td>822</td>\n",
       "      <td>162</td>\n",
       "      <td>286</td>\n",
       "    </tr>\n",
       "    <tr>\n",
       "      <th>8</th>\n",
       "      <td>Compound &gt; upregulates &gt; Gene</td>\n",
       "      <td>Cu&gt;G</td>\n",
       "      <td>777</td>\n",
       "      <td>134</td>\n",
       "      <td>438</td>\n",
       "    </tr>\n",
       "    <tr>\n",
       "      <th>37</th>\n",
       "      <td>DNA-binding &gt; interacts &gt; Receptor</td>\n",
       "      <td>Ai&gt;D</td>\n",
       "      <td>723</td>\n",
       "      <td>170</td>\n",
       "      <td>399</td>\n",
       "    </tr>\n",
       "    <tr>\n",
       "      <th>21</th>\n",
       "      <td>Transferase &gt; participates &gt; Biological Process</td>\n",
       "      <td>Ep&gt;BP</td>\n",
       "      <td>593</td>\n",
       "      <td>415</td>\n",
       "      <td>44</td>\n",
       "    </tr>\n",
       "    <tr>\n",
       "      <th>10</th>\n",
       "      <td>Hydrolase &gt; participates &gt; Biological Process</td>\n",
       "      <td>Bp&gt;BP</td>\n",
       "      <td>553</td>\n",
       "      <td>369</td>\n",
       "      <td>45</td>\n",
       "    </tr>\n",
       "    <tr>\n",
       "      <th>36</th>\n",
       "      <td>Hydrolase &gt; interacts &gt; Hydrolase</td>\n",
       "      <td>Bi&gt;B</td>\n",
       "      <td>466</td>\n",
       "      <td>164</td>\n",
       "      <td>205</td>\n",
       "    </tr>\n",
       "    <tr>\n",
       "      <th>14</th>\n",
       "      <td>Compound &gt; downregulates &gt; Receptor</td>\n",
       "      <td>Cd&gt;D</td>\n",
       "      <td>463</td>\n",
       "      <td>121</td>\n",
       "      <td>107</td>\n",
       "    </tr>\n",
       "    <tr>\n",
       "      <th>27</th>\n",
       "      <td>Receptor &gt; interacts &gt; Hydrolase</td>\n",
       "      <td>Di&gt;B</td>\n",
       "      <td>425</td>\n",
       "      <td>164</td>\n",
       "      <td>101</td>\n",
       "    </tr>\n",
       "    <tr>\n",
       "      <th>28</th>\n",
       "      <td>DNA-binding &gt; participates &gt; Biological Process</td>\n",
       "      <td>Ap&gt;BP</td>\n",
       "      <td>398</td>\n",
       "      <td>280</td>\n",
       "      <td>38</td>\n",
       "    </tr>\n",
       "    <tr>\n",
       "      <th>17</th>\n",
       "      <td>Hydrolase &gt; interacts &gt; DNA-binding</td>\n",
       "      <td>Bi&gt;A</td>\n",
       "      <td>377</td>\n",
       "      <td>100</td>\n",
       "      <td>208</td>\n",
       "    </tr>\n",
       "    <tr>\n",
       "      <th>38</th>\n",
       "      <td>Receptor &gt; participates &gt; Biological Process</td>\n",
       "      <td>Dp&gt;BP</td>\n",
       "      <td>363</td>\n",
       "      <td>275</td>\n",
       "      <td>44</td>\n",
       "    </tr>\n",
       "    <tr>\n",
       "      <th>20</th>\n",
       "      <td>Hydrolase &gt; interacts &gt; Receptor</td>\n",
       "      <td>Bi&gt;D</td>\n",
       "      <td>275</td>\n",
       "      <td>94</td>\n",
       "      <td>163</td>\n",
       "    </tr>\n",
       "    <tr>\n",
       "      <th>4</th>\n",
       "      <td>Compound &gt; upregulates &gt; DNA-binding</td>\n",
       "      <td>Cu&gt;A</td>\n",
       "      <td>243</td>\n",
       "      <td>88</td>\n",
       "      <td>108</td>\n",
       "    </tr>\n",
       "    <tr>\n",
       "      <th>30</th>\n",
       "      <td>Compound &gt; upregulates &gt; Receptor</td>\n",
       "      <td>Cu&gt;D</td>\n",
       "      <td>237</td>\n",
       "      <td>81</td>\n",
       "      <td>129</td>\n",
       "    </tr>\n",
       "    <tr>\n",
       "      <th>9</th>\n",
       "      <td>Compound &gt; upregulates &gt; Hydrolase</td>\n",
       "      <td>Cu&gt;B</td>\n",
       "      <td>222</td>\n",
       "      <td>65</td>\n",
       "      <td>99</td>\n",
       "    </tr>\n",
       "    <tr>\n",
       "      <th>5</th>\n",
       "      <td>Receptor &gt; interacts &gt; DNA-binding</td>\n",
       "      <td>Di&gt;A</td>\n",
       "      <td>213</td>\n",
       "      <td>92</td>\n",
       "      <td>92</td>\n",
       "    </tr>\n",
       "    <tr>\n",
       "      <th>25</th>\n",
       "      <td>Compound &gt; downregulates &gt; Hydrolase</td>\n",
       "      <td>Cd&gt;B</td>\n",
       "      <td>210</td>\n",
       "      <td>88</td>\n",
       "      <td>108</td>\n",
       "    </tr>\n",
       "    <tr>\n",
       "      <th>32</th>\n",
       "      <td>Compound &gt; downregulates &gt; Transferase</td>\n",
       "      <td>Cd&gt;E</td>\n",
       "      <td>208</td>\n",
       "      <td>74</td>\n",
       "      <td>135</td>\n",
       "    </tr>\n",
       "    <tr>\n",
       "      <th>24</th>\n",
       "      <td>Compound &gt; downregulates &gt; DNA-binding</td>\n",
       "      <td>Cd&gt;A</td>\n",
       "      <td>170</td>\n",
       "      <td>77</td>\n",
       "      <td>85</td>\n",
       "    </tr>\n",
       "    <tr>\n",
       "      <th>23</th>\n",
       "      <td>Compound &gt; upregulates &gt; Transferase</td>\n",
       "      <td>Cu&gt;E</td>\n",
       "      <td>145</td>\n",
       "      <td>60</td>\n",
       "      <td>89</td>\n",
       "    </tr>\n",
       "    <tr>\n",
       "      <th>11</th>\n",
       "      <td>Receptor &gt; interacts &gt; Receptor</td>\n",
       "      <td>Di&gt;D</td>\n",
       "      <td>131</td>\n",
       "      <td>74</td>\n",
       "      <td>83</td>\n",
       "    </tr>\n",
       "  </tbody>\n",
       "</table>\n",
       "</div>"
      ],
      "text/plain": [
       "                                           metaedge abbreviation  edges  \\\n",
       "18                          Gene > interacts > Gene         Gi>G   8406   \n",
       "1                       Gene > interacts > Receptor         Gi>D   4511   \n",
       "29                   DNA-binding > interacts > Gene         Ai>G   3910   \n",
       "22                   Transferase > interacts > Gene         Ei>G   3635   \n",
       "0                    Gene > interacts > Transferase         Gi>E   3588   \n",
       "7             DNA-binding > interacts > DNA-binding         Ai>A   3031   \n",
       "34                      Receptor > interacts > Gene         Di>G   2994   \n",
       "15            Transferase > interacts > Transferase         Ei>E   2587   \n",
       "35               Receptor > interacts > Transferase         Di>E   2549   \n",
       "6          Gene > participates > Biological Process        Gp>BP   2418   \n",
       "39            Transferase > interacts > DNA-binding         Ei>A   2002   \n",
       "33                     Gene > interacts > Hydrolase         Gi>B   1968   \n",
       "26            DNA-binding > interacts > Transferase         Ai>E   1749   \n",
       "31                   Gene > interacts > DNA-binding         Gi>A   1677   \n",
       "3               Transferase > interacts > Hydrolase         Ei>B   1439   \n",
       "12                     Hydrolase > interacts > Gene         Bi>G   1287   \n",
       "19                  Compound > downregulates > Gene         Cd>G   1151   \n",
       "13              DNA-binding > interacts > Hydrolase         Ai>B   1055   \n",
       "2               Hydrolase > interacts > Transferase         Bi>E    844   \n",
       "16               Transferase > interacts > Receptor         Ei>D    822   \n",
       "8                     Compound > upregulates > Gene         Cu>G    777   \n",
       "37               DNA-binding > interacts > Receptor         Ai>D    723   \n",
       "21  Transferase > participates > Biological Process        Ep>BP    593   \n",
       "10    Hydrolase > participates > Biological Process        Bp>BP    553   \n",
       "36                Hydrolase > interacts > Hydrolase         Bi>B    466   \n",
       "14              Compound > downregulates > Receptor         Cd>D    463   \n",
       "27                 Receptor > interacts > Hydrolase         Di>B    425   \n",
       "28  DNA-binding > participates > Biological Process        Ap>BP    398   \n",
       "17              Hydrolase > interacts > DNA-binding         Bi>A    377   \n",
       "38     Receptor > participates > Biological Process        Dp>BP    363   \n",
       "20                 Hydrolase > interacts > Receptor         Bi>D    275   \n",
       "4              Compound > upregulates > DNA-binding         Cu>A    243   \n",
       "30                Compound > upregulates > Receptor         Cu>D    237   \n",
       "9                Compound > upregulates > Hydrolase         Cu>B    222   \n",
       "5                Receptor > interacts > DNA-binding         Di>A    213   \n",
       "25             Compound > downregulates > Hydrolase         Cd>B    210   \n",
       "32           Compound > downregulates > Transferase         Cd>E    208   \n",
       "24           Compound > downregulates > DNA-binding         Cd>A    170   \n",
       "23             Compound > upregulates > Transferase         Cu>E    145   \n",
       "11                  Receptor > interacts > Receptor         Di>D    131   \n",
       "\n",
       "    source_nodes  target_nodes  \n",
       "18           883          1256  \n",
       "1            450           837  \n",
       "29           406          1408  \n",
       "22           410          1065  \n",
       "0            664           598  \n",
       "7            378           845  \n",
       "34           791           290  \n",
       "15           380           480  \n",
       "35           598           156  \n",
       "6           1820            69  \n",
       "39           300           389  \n",
       "33           586           435  \n",
       "26           304           801  \n",
       "31           404           446  \n",
       "3            293           314  \n",
       "12           255           624  \n",
       "19           204           481  \n",
       "13           261           528  \n",
       "2            183           293  \n",
       "16           162           286  \n",
       "8            134           438  \n",
       "37           170           399  \n",
       "21           415            44  \n",
       "10           369            45  \n",
       "36           164           205  \n",
       "14           121           107  \n",
       "27           164           101  \n",
       "28           280            38  \n",
       "17           100           208  \n",
       "38           275            44  \n",
       "20            94           163  \n",
       "4             88           108  \n",
       "30            81           129  \n",
       "9             65            99  \n",
       "5             92            92  \n",
       "25            88           108  \n",
       "32            74           135  \n",
       "24            77            85  \n",
       "23            60            89  \n",
       "11            74            83  "
      ]
     },
     "execution_count": 16,
     "metadata": {},
     "output_type": "execute_result"
    }
   ],
   "source": [
    "metaedge_df.sort_values('edges', ascending=False).head(50)"
   ]
  },
  {
   "cell_type": "code",
   "execution_count": 17,
   "metadata": {},
   "outputs": [
    {
     "data": {
      "image/png": "[encoded data removed]",
      "text/plain": [
       "<Figure size 640x480 with 1 Axes>"
      ]
     },
     "metadata": {},
     "output_type": "display_data"
    }
   ],
   "source": [
    "ax = sns.barplot(x='abbreviation', y='edges', data=metaedge_df.sort_values('edges'))\n",
    "for tick in ax.get_xticklabels():\n",
    "    tick.set_rotation(90)\n",
    "ax.set_xlabel(''); ax.set_ylabel('edges');\n",
    "\n",
    "# change dimensions of plot to be wider\n",
    "#sns.set(rc={'figure.figsize':(100, 10)})"
   ]
  },
  {
   "cell_type": "code",
   "execution_count": 18,
   "metadata": {},
   "outputs": [
    {
     "data": {
      "text/html": [
       "<div>\n",
       "<style scoped>\n",
       "    .dataframe tbody tr th:only-of-type {\n",
       "        vertical-align: middle;\n",
       "    }\n",
       "\n",
       "    .dataframe tbody tr th {\n",
       "        vertical-align: top;\n",
       "    }\n",
       "\n",
       "    .dataframe thead th {\n",
       "        text-align: right;\n",
       "    }\n",
       "</style>\n",
       "<table border=\"1\" class=\"dataframe\">\n",
       "  <thead>\n",
       "    <tr style=\"text-align: right;\">\n",
       "      <th></th>\n",
       "      <th>metaedge</th>\n",
       "      <th>unicode_metaedge</th>\n",
       "      <th>standard_metaedge</th>\n",
       "      <th>abbreviation</th>\n",
       "      <th>standard_abbreviation</th>\n",
       "      <th>source</th>\n",
       "      <th>target</th>\n",
       "      <th>inverted</th>\n",
       "    </tr>\n",
       "  </thead>\n",
       "  <tbody>\n",
       "    <tr>\n",
       "      <th>57</th>\n",
       "      <td>Biological Process &lt; participates &lt; DNA-binding</td>\n",
       "      <td>Biological Process←participates←DNA-binding</td>\n",
       "      <td>DNA-binding &gt; participates &gt; Biological Process</td>\n",
       "      <td>BP&lt;pA</td>\n",
       "      <td>ApBP</td>\n",
       "      <td>Biological Process</td>\n",
       "      <td>DNA-binding</td>\n",
       "      <td>1</td>\n",
       "    </tr>\n",
       "    <tr>\n",
       "      <th>13</th>\n",
       "      <td>Biological Process &lt; participates &lt; Gene</td>\n",
       "      <td>Biological Process←participates←Gene</td>\n",
       "      <td>Gene &gt; participates &gt; Biological Process</td>\n",
       "      <td>BP&lt;pG</td>\n",
       "      <td>GpBP</td>\n",
       "      <td>Biological Process</td>\n",
       "      <td>Gene</td>\n",
       "      <td>1</td>\n",
       "    </tr>\n",
       "    <tr>\n",
       "      <th>21</th>\n",
       "      <td>Biological Process &lt; participates &lt; Hydrolase</td>\n",
       "      <td>Biological Process←participates←Hydrolase</td>\n",
       "      <td>Hydrolase &gt; participates &gt; Biological Process</td>\n",
       "      <td>BP&lt;pB</td>\n",
       "      <td>BpBP</td>\n",
       "      <td>Biological Process</td>\n",
       "      <td>Hydrolase</td>\n",
       "      <td>1</td>\n",
       "    </tr>\n",
       "    <tr>\n",
       "      <th>77</th>\n",
       "      <td>Biological Process &lt; participates &lt; Receptor</td>\n",
       "      <td>Biological Process←participates←Receptor</td>\n",
       "      <td>Receptor &gt; participates &gt; Biological Process</td>\n",
       "      <td>BP&lt;pD</td>\n",
       "      <td>DpBP</td>\n",
       "      <td>Biological Process</td>\n",
       "      <td>Receptor</td>\n",
       "      <td>1</td>\n",
       "    </tr>\n",
       "    <tr>\n",
       "      <th>43</th>\n",
       "      <td>Biological Process &lt; participates &lt; Transferase</td>\n",
       "      <td>Biological Process←participates←Transferase</td>\n",
       "      <td>Transferase &gt; participates &gt; Biological Process</td>\n",
       "      <td>BP&lt;pE</td>\n",
       "      <td>EpBP</td>\n",
       "      <td>Biological Process</td>\n",
       "      <td>Transferase</td>\n",
       "      <td>1</td>\n",
       "    </tr>\n",
       "  </tbody>\n",
       "</table>\n",
       "</div>"
      ],
      "text/plain": [
       "                                           metaedge  \\\n",
       "57  Biological Process < participates < DNA-binding   \n",
       "13         Biological Process < participates < Gene   \n",
       "21    Biological Process < participates < Hydrolase   \n",
       "77     Biological Process < participates < Receptor   \n",
       "43  Biological Process < participates < Transferase   \n",
       "\n",
       "                               unicode_metaedge  \\\n",
       "57  Biological Process←participates←DNA-binding   \n",
       "13         Biological Process←participates←Gene   \n",
       "21    Biological Process←participates←Hydrolase   \n",
       "77     Biological Process←participates←Receptor   \n",
       "43  Biological Process←participates←Transferase   \n",
       "\n",
       "                                  standard_metaedge abbreviation  \\\n",
       "57  DNA-binding > participates > Biological Process        BP<pA   \n",
       "13         Gene > participates > Biological Process        BP<pG   \n",
       "21    Hydrolase > participates > Biological Process        BP<pB   \n",
       "77     Receptor > participates > Biological Process        BP<pD   \n",
       "43  Transferase > participates > Biological Process        BP<pE   \n",
       "\n",
       "   standard_abbreviation              source       target  inverted  \n",
       "57                  ApBP  Biological Process  DNA-binding         1  \n",
       "13                  GpBP  Biological Process         Gene         1  \n",
       "21                  BpBP  Biological Process    Hydrolase         1  \n",
       "77                  DpBP  Biological Process     Receptor         1  \n",
       "43                  EpBP  Biological Process  Transferase         1  "
      ]
     },
     "execution_count": 18,
     "metadata": {},
     "output_type": "execute_result"
    }
   ],
   "source": [
    "# Summary of different styles for representing each metaedge\n",
    "metaedge_style_df = hetnetpy.stats.get_metaedge_style_df(metagraph)\n",
    "metaedge_style_df.head()"
   ]
  },
  {
   "cell_type": "code",
   "execution_count": 19,
   "metadata": {},
   "outputs": [
    {
     "data": {
      "text/plain": [
       "58815"
      ]
     },
     "execution_count": 19,
     "metadata": {},
     "output_type": "execute_result"
    }
   ],
   "source": [
    "# Number of edges in the network\n",
    "metaedge_df.edges.sum()"
   ]
  },
  {
   "attachments": {},
   "cell_type": "markdown",
   "metadata": {},
   "source": [
    "## Metapath Extraction\n",
    "\n",
    "Here, we have functions which can extract metapaths:"
   ]
  },
  {
   "attachments": {},
   "cell_type": "markdown",
   "metadata": {},
   "source": [
    "Extract metapaths from a given source node type (and, optionally, to a target node type):"
   ]
  },
  {
   "cell_type": "code",
   "execution_count": 20,
   "metadata": {},
   "outputs": [],
   "source": [
    "tgt_metapaths = metagraph.extract_metapaths(source='Compound', target='Biological Process', max_length=4)\n",
    "# print(tgt_metapaths)"
   ]
  },
  {
   "attachments": {},
   "cell_type": "markdown",
   "metadata": {},
   "source": [
    "We do not want any with a compound in the middle:"
   ]
  },
  {
   "cell_type": "code",
   "execution_count": 21,
   "metadata": {},
   "outputs": [],
   "source": [
    "CtoBP_metapaths = []\n",
    "\n",
    "for i in tgt_metapaths:\n",
    "    if '<' in repr(i):\n",
    "        continue\n",
    "    if (repr(i) != 'Ct>BP') & (Counter(re.split('>|<|[^A-Z]', repr(i)))['C'] == 1):\n",
    "        CtoBP_metapaths.append(i)"
   ]
  },
  {
   "attachments": {},
   "cell_type": "markdown",
   "metadata": {},
   "source": [
    "How many did it prune?"
   ]
  },
  {
   "cell_type": "code",
   "execution_count": 22,
   "metadata": {},
   "outputs": [
    {
     "name": "stdout",
     "output_type": "stream",
     "text": [
      "310\n",
      "1360\n"
     ]
    }
   ],
   "source": [
    "print(len(CtoBP_metapaths))\n",
    "print(len(tgt_metapaths))"
   ]
  },
  {
   "attachments": {},
   "cell_type": "markdown",
   "metadata": {},
   "source": [
    "## Metapaths Between Training, Validation, Testing\n",
    "\n",
    "Here, we'll look at the metapaths that occur between each of the sets of drug-BP pairs."
   ]
  },
  {
   "cell_type": "code",
   "execution_count": 23,
   "metadata": {},
   "outputs": [],
   "source": [
    "def get_paths(\n",
    "    graph,\n",
    "    source,\n",
    "    target,\n",
    "    rule,\n",
    "):\n",
    "    try:\n",
    "        paths = paths_between(\n",
    "            graph,\n",
    "            source=('Compound', source),\n",
    "            target=('Biological Process', target),\n",
    "            metapath=tuple(rule),\n",
    "            duplicates=False,\n",
    "        )\n",
    "    except Exception as e:\n",
    "        print(e)\n",
    "        paths = []        \n",
    "    \n",
    "    return paths"
   ]
  },
  {
   "cell_type": "code",
   "execution_count": 24,
   "metadata": {},
   "outputs": [],
   "source": [
    "# read in train.txt, test.txt, and dev.txt from MARS_DIR\n",
    "train = pd.read_csv(osp.join(MOA_NET_PROTCLASSED, 'train.tsv'), sep='\\t')\n",
    "test = pd.read_csv(osp.join(MOA_NET_PROTCLASSED, 'test.tsv'), sep='\\t')\n",
    "dev = pd.read_csv(osp.join(MOA_NET_PROTCLASSED, 'dev.tsv'), sep='\\t')\n",
    "\n",
    "# for each, get a set of the source and target columns\n",
    "train = {(row['source'], row['target']) for i, row in train.iterrows()}\n",
    "test = {(row['source'], row['target']) for i, row in test.iterrows()}\n",
    "dev = {(row['source'], row['target']) for i, row in dev.iterrows()}"
   ]
  },
  {
   "cell_type": "code",
   "execution_count": 25,
   "metadata": {},
   "outputs": [],
   "source": [
    "def get_metapath_counts(drug_BP_pairs):\n",
    "\n",
    "    metapath_dict = {str(mpath): 0 for mpath in CtoBP_metapaths}\n",
    "\n",
    "    for source, bp in tqdm.tqdm(drug_BP_pairs):\n",
    "        # All metapaths going from compound to biological process\n",
    "        for mpath in CtoBP_metapaths:\n",
    "                    \n",
    "            paths = get_paths(\n",
    "                graph=graph,\n",
    "                source=source,\n",
    "                target=bp,\n",
    "                rule=mpath,\n",
    "            )\n",
    "            \n",
    "            if not paths:\n",
    "                continue\n",
    "                \n",
    "            metapath_dict[str(mpath)] += len(paths)\n",
    "\n",
    "    return metapath_dict"
   ]
  },
  {
   "attachments": {},
   "cell_type": "markdown",
   "metadata": {},
   "source": [
    "This next step is really long, which is why I've made it possible to skip if the files already exist:"
   ]
  },
  {
   "cell_type": "code",
   "execution_count": 26,
   "metadata": {},
   "outputs": [],
   "source": [
    "# check if a file exists\n",
    "if not osp.exists(osp.join(METAPATHS_DIR, 'train_metapaths.json')):\n",
    "    train_metapaths = get_metapath_counts(train)\n",
    "    with open(osp.join(METAPATHS_DIR, 'train_metapaths.json'), 'w') as f:\n",
    "        json.dump(train_metapaths, f)\n",
    "\n",
    "else:\n",
    "    with open(osp.join(METAPATHS_DIR, 'train_metapaths.json'), 'r') as f:\n",
    "        train_metapaths = json.load(f)\n",
    "\n",
    "if not osp.exists(osp.join(METAPATHS_DIR, 'test_metapaths.json')):       \n",
    "    test_metapaths = get_metapath_counts(test)\n",
    "    with open(osp.join(METAPATHS_DIR, 'test_metapaths.json'), 'w') as f:\n",
    "        json.dump(test_metapaths, f)\n",
    "\n",
    "else:\n",
    "    with open(osp.join(METAPATHS_DIR, 'test_metapaths.json'), 'r') as f:\n",
    "        test_metapaths = json.load(f)\n",
    "\n",
    "if not osp.exists(osp.join(METAPATHS_DIR, 'dev_metapaths.json')): \n",
    "    dev_metapaths = get_metapath_counts(dev)\n",
    "    with open(osp.join(METAPATHS_DIR, 'dev_metapaths.json'), 'w') as f:\n",
    "        json.dump(dev_metapaths, f)\n",
    "\n",
    "else:\n",
    "    with open(osp.join(METAPATHS_DIR, 'dev_metapaths.json'), 'r') as f:\n",
    "        dev_metapaths = json.load(f)"
   ]
  },
  {
   "cell_type": "code",
   "execution_count": 27,
   "metadata": {},
   "outputs": [],
   "source": [
    "# for each value, turn it into a ratio of value/ sum of all values\n",
    "test_ratios = {k: v/sum(test_metapaths.values()) for k, v in test_metapaths.items()}\n",
    "train_ratios = {k: v/sum(train_metapaths.values()) for k, v in train_metapaths.items()}\n",
    "dev_ratios = {k: v/sum(dev_metapaths.values()) for k, v in dev_metapaths.items()}"
   ]
  },
  {
   "cell_type": "code",
   "execution_count": 28,
   "metadata": {},
   "outputs": [],
   "source": [
    "# get any keys where the value is zero\n",
    "zero_train = {k: v for k, v in train_ratios.items() if v == 0}\n",
    "zero_test = {k: v for k, v in test_ratios.items() if v == 0}"
   ]
  },
  {
   "cell_type": "code",
   "execution_count": 29,
   "metadata": {},
   "outputs": [
    {
     "data": {
      "text/plain": [
       "2332"
      ]
     },
     "execution_count": 29,
     "metadata": {},
     "output_type": "execute_result"
    }
   ],
   "source": [
    "len(set(zero_test.keys()))"
   ]
  },
  {
   "cell_type": "code",
   "execution_count": 30,
   "metadata": {},
   "outputs": [
    {
     "data": {
      "text/plain": [
       "1349"
      ]
     },
     "execution_count": 30,
     "metadata": {},
     "output_type": "execute_result"
    }
   ],
   "source": [
    "len(set(zero_train.keys()))"
   ]
  },
  {
   "attachments": {},
   "cell_type": "markdown",
   "metadata": {},
   "source": [
    "Are there metapaths with zero instances in the training set but instances in the test set?"
   ]
  },
  {
   "cell_type": "code",
   "execution_count": 31,
   "metadata": {},
   "outputs": [],
   "source": [
    "# nonzero keys in test\n",
    "nonzero_test = {k: v for k, v in test_ratios.items() if v != 0}"
   ]
  },
  {
   "cell_type": "code",
   "execution_count": 32,
   "metadata": {},
   "outputs": [
    {
     "data": {
      "text/plain": [
       "1214"
      ]
     },
     "execution_count": 32,
     "metadata": {},
     "output_type": "execute_result"
    }
   ],
   "source": [
    "len(set(zero_train.keys()) - set(nonzero_test.keys()))"
   ]
  },
  {
   "cell_type": "code",
   "execution_count": 33,
   "metadata": {},
   "outputs": [
    {
     "data": {
      "text/plain": [
       "135"
      ]
     },
     "execution_count": 33,
     "metadata": {},
     "output_type": "execute_result"
    }
   ],
   "source": [
    "len(set(zero_train.keys()) - set(zero_test.keys()))"
   ]
  },
  {
   "attachments": {},
   "cell_type": "markdown",
   "metadata": {},
   "source": [
    "Are the most common keys mostly the same?"
   ]
  },
  {
   "cell_type": "code",
   "execution_count": 34,
   "metadata": {},
   "outputs": [],
   "source": [
    "top_test = {tup[0] for tup in Counter(test_ratios).most_common(100)}\n",
    "top_train = {tup[0] for tup in Counter(train_ratios).most_common(100)}"
   ]
  },
  {
   "cell_type": "code",
   "execution_count": 35,
   "metadata": {},
   "outputs": [
    {
     "data": {
      "text/plain": [
       "0.7"
      ]
     },
     "execution_count": 35,
     "metadata": {},
     "output_type": "execute_result"
    }
   ],
   "source": [
    "len(top_test & top_train) / len(top_test)"
   ]
  },
  {
   "attachments": {},
   "cell_type": "markdown",
   "metadata": {},
   "source": [
    "It seems they are mostly the same, but not exactly."
   ]
  },
  {
   "attachments": {},
   "cell_type": "markdown",
   "metadata": {},
   "source": [
    "# MARS Input Preparation\n",
    "\n",
    "What if we want to get these in a format similar to the MARS output?\n",
    "\n",
    "First let's give them all a uniform probability:"
   ]
  },
  {
   "cell_type": "code",
   "execution_count": 36,
   "metadata": {},
   "outputs": [],
   "source": [
    "#prob = 1 / (2 * len(CtoBP_metapaths))\n",
    "prob = 0.5"
   ]
  },
  {
   "attachments": {},
   "cell_type": "markdown",
   "metadata": {},
   "source": [
    "We can split the metapaths into a series of individual relations:"
   ]
  },
  {
   "cell_type": "code",
   "execution_count": 37,
   "metadata": {},
   "outputs": [],
   "source": [
    "def get_forward_rule_body(mpath, conf, metagraph):\n",
    "    \"\"\"Gets the rule body for a given metapath in the format that MARS requires\n",
    "        :param mpath: the metapath instance, written in hetnetpy format\n",
    "        :param conf: the confidence value to use for the rule\n",
    "        :param metagraph: the metagraph instance, as a hetnetpy object\n",
    "    \"\"\"\n",
    "    st_edges = metaedges_from_metapath(mpath, standardize_by=metagraph)\n",
    "    directional_edges = metaedges_from_metapath(mpath)\n",
    "    rule_head = re.split('>|<|[^A-Z]', mpath)\n",
    "    rule_head = rule_head[0] + 't' + rule_head[-1]\n",
    "    rule_body = [conf, rule_head]\n",
    "    for st, dic in zip(st_edges, directional_edges):\n",
    "        if '>' in dic:\n",
    "            rule_body.append(st)\n",
    "        else:\n",
    "            rule_body.append('_' + st)\n",
    "    return rule_body"
   ]
  },
  {
   "cell_type": "code",
   "execution_count": 38,
   "metadata": {},
   "outputs": [
    {
     "data": {
      "text/plain": [
       "[0.5, 'CtBP', 'CuG', '_CuG', 'CdG', 'GpBP']"
      ]
     },
     "execution_count": 38,
     "metadata": {},
     "output_type": "execute_result"
    }
   ],
   "source": [
    "# just testing the function\n",
    "get_forward_rule_body('Cu>G<uCd>Gp>BP', prob, metagraph)"
   ]
  },
  {
   "cell_type": "code",
   "execution_count": 39,
   "metadata": {},
   "outputs": [],
   "source": [
    "def get_reverse_rule_body(forward_body):\n",
    "    \"\"\"Gets the REVERSE rule body for a given metapath in the format that MARS requires\n",
    "        :param forward_body: the forward rule body as a list\n",
    "    \"\"\"\n",
    "    rev_body = [forward_body[0], '_' + forward_body[1]]\n",
    "    for i in reversed(forward_body[2:]):\n",
    "        if '_' in i:\n",
    "            rev_body.append(re.sub('_', '', i))\n",
    "        else:\n",
    "            rev_body.append('_' + i)\n",
    "    return rev_body"
   ]
  },
  {
   "cell_type": "code",
   "execution_count": 40,
   "metadata": {},
   "outputs": [
    {
     "data": {
      "text/plain": [
       "[0.5, '_CtBP', '_GpBP', '_CdG', 'CuG', '_CuG']"
      ]
     },
     "execution_count": 40,
     "metadata": {},
     "output_type": "execute_result"
    }
   ],
   "source": [
    "fw = get_forward_rule_body('Cu>G<uCd>Gp>BP', prob, metagraph)\n",
    "get_reverse_rule_body(fw)"
   ]
  },
  {
   "attachments": {},
   "cell_type": "markdown",
   "metadata": {},
   "source": [
    "Now we'll do it for all the compound to BP metapaths!"
   ]
  },
  {
   "cell_type": "code",
   "execution_count": 41,
   "metadata": {},
   "outputs": [
    {
     "name": "stdout",
     "output_type": "stream",
     "text": [
      "{'CtBP': [[0.5, 'CtBP', 'CdA', 'ApBP'], [0.5, 'CtBP', 'CuA', 'ApBP'], [0.5, 'CtBP', 'CdG', 'GpBP'], [0.5, 'CtBP', 'CuG', 'GpBP'], [0.5, 'CtBP', 'CdB', 'BpBP'], [0.5, 'CtBP', 'CuB', 'BpBP'], [0.5, 'CtBP', 'CdD', 'DpBP'], [0.5, 'CtBP', 'CuD', 'DpBP'], [0.5, 'CtBP', 'CdE', 'EpBP'], [0.5, 'CtBP', 'CuE', 'EpBP'], [0.5, 'CtBP', 'CdA', 'AiA', 'ApBP'], [0.5, 'CtBP', 'CdA', 'AiG', 'GpBP'], [0.5, 'CtBP', 'CdA', 'AiB', 'BpBP'], [0.5, 'CtBP', 'CdA', 'AiD', 'DpBP'], [0.5, 'CtBP', 'CdA', 'AiE', 'EpBP'], [0.5, 'CtBP', 'CuA', 'AiA', 'ApBP'], [0.5, 'CtBP', 'CuA', 'AiG', 'GpBP'], [0.5, 'CtBP', 'CuA', 'AiB', 'BpBP'], [0.5, 'CtBP', 'CuA', 'AiD', 'DpBP'], [0.5, 'CtBP', 'CuA', 'AiE', 'EpBP'], [0.5, 'CtBP', 'CdG', 'GiA', 'ApBP'], [0.5, 'CtBP', 'CdG', 'GiG', 'GpBP'], [0.5, 'CtBP', 'CdG', 'GiB', 'BpBP'], [0.5, 'CtBP', 'CdG', 'GiD', 'DpBP'], [0.5, 'CtBP', 'CdG', 'GiE', 'EpBP'], [0.5, 'CtBP', 'CuG', 'GiA', 'ApBP'], [0.5, 'CtBP', 'CuG', 'GiG', 'GpBP'], [0.5, 'CtBP', 'CuG', 'GiB', 'BpBP'], [0.5, 'CtBP', 'CuG', 'GiD', 'DpBP'], [0.5, 'CtBP', 'CuG', 'GiE', 'EpBP'], [0.5, 'CtBP', 'CdB', 'BiA', 'ApBP'], [0.5, 'CtBP', 'CdB', 'BiG', 'GpBP'], [0.5, 'CtBP', 'CdB', 'BiB', 'BpBP'], [0.5, 'CtBP', 'CdB', 'BiD', 'DpBP'], [0.5, 'CtBP', 'CdB', 'BiE', 'EpBP'], [0.5, 'CtBP', 'CuB', 'BiA', 'ApBP'], [0.5, 'CtBP', 'CuB', 'BiG', 'GpBP'], [0.5, 'CtBP', 'CuB', 'BiB', 'BpBP'], [0.5, 'CtBP', 'CuB', 'BiD', 'DpBP'], [0.5, 'CtBP', 'CuB', 'BiE', 'EpBP'], [0.5, 'CtBP', 'CdD', 'DiA', 'ApBP'], [0.5, 'CtBP', 'CdD', 'DiG', 'GpBP'], [0.5, 'CtBP', 'CdD', 'DiB', 'BpBP'], [0.5, 'CtBP', 'CdD', 'DiD', 'DpBP'], [0.5, 'CtBP', 'CdD', 'DiE', 'EpBP'], [0.5, 'CtBP', 'CuD', 'DiA', 'ApBP'], [0.5, 'CtBP', 'CuD', 'DiG', 'GpBP'], [0.5, 'CtBP', 'CuD', 'DiB', 'BpBP'], [0.5, 'CtBP', 'CuD', 'DiD', 'DpBP'], [0.5, 'CtBP', 'CuD', 'DiE', 'EpBP'], [0.5, 'CtBP', 'CdE', 'EiA', 'ApBP'], [0.5, 'CtBP', 'CdE', 'EiG', 'GpBP'], [0.5, 'CtBP', 'CdE', 'EiB', 'BpBP'], [0.5, 'CtBP', 'CdE', 'EiD', 'DpBP'], [0.5, 'CtBP', 'CdE', 'EiE', 'EpBP'], [0.5, 'CtBP', 'CuE', 'EiA', 'ApBP'], [0.5, 'CtBP', 'CuE', 'EiG', 'GpBP'], [0.5, 'CtBP', 'CuE', 'EiB', 'BpBP'], [0.5, 'CtBP', 'CuE', 'EiD', 'DpBP'], [0.5, 'CtBP', 'CuE', 'EiE', 'EpBP'], [0.5, 'CtBP', 'CdA', 'AiA', 'AiA', 'ApBP'], [0.5, 'CtBP', 'CdA', 'AiA', 'AiG', 'GpBP'], [0.5, 'CtBP', 'CdA', 'AiA', 'AiB', 'BpBP'], [0.5, 'CtBP', 'CdA', 'AiA', 'AiD', 'DpBP'], [0.5, 'CtBP', 'CdA', 'AiA', 'AiE', 'EpBP'], [0.5, 'CtBP', 'CdA', 'AiG', 'GiA', 'ApBP'], [0.5, 'CtBP', 'CdA', 'AiG', 'GiG', 'GpBP'], [0.5, 'CtBP', 'CdA', 'AiG', 'GiB', 'BpBP'], [0.5, 'CtBP', 'CdA', 'AiG', 'GiD', 'DpBP'], [0.5, 'CtBP', 'CdA', 'AiG', 'GiE', 'EpBP'], [0.5, 'CtBP', 'CdA', 'AiB', 'BiA', 'ApBP'], [0.5, 'CtBP', 'CdA', 'AiB', 'BiG', 'GpBP'], [0.5, 'CtBP', 'CdA', 'AiB', 'BiB', 'BpBP'], [0.5, 'CtBP', 'CdA', 'AiB', 'BiD', 'DpBP'], [0.5, 'CtBP', 'CdA', 'AiB', 'BiE', 'EpBP'], [0.5, 'CtBP', 'CdA', 'AiD', 'DiA', 'ApBP'], [0.5, 'CtBP', 'CdA', 'AiD', 'DiG', 'GpBP'], [0.5, 'CtBP', 'CdA', 'AiD', 'DiB', 'BpBP'], [0.5, 'CtBP', 'CdA', 'AiD', 'DiD', 'DpBP'], [0.5, 'CtBP', 'CdA', 'AiD', 'DiE', 'EpBP'], [0.5, 'CtBP', 'CdA', 'AiE', 'EiA', 'ApBP'], [0.5, 'CtBP', 'CdA', 'AiE', 'EiG', 'GpBP'], [0.5, 'CtBP', 'CdA', 'AiE', 'EiB', 'BpBP'], [0.5, 'CtBP', 'CdA', 'AiE', 'EiD', 'DpBP'], [0.5, 'CtBP', 'CdA', 'AiE', 'EiE', 'EpBP'], [0.5, 'CtBP', 'CuA', 'AiA', 'AiA', 'ApBP'], [0.5, 'CtBP', 'CuA', 'AiA', 'AiG', 'GpBP'], [0.5, 'CtBP', 'CuA', 'AiA', 'AiB', 'BpBP'], [0.5, 'CtBP', 'CuA', 'AiA', 'AiD', 'DpBP'], [0.5, 'CtBP', 'CuA', 'AiA', 'AiE', 'EpBP'], [0.5, 'CtBP', 'CuA', 'AiG', 'GiA', 'ApBP'], [0.5, 'CtBP', 'CuA', 'AiG', 'GiG', 'GpBP'], [0.5, 'CtBP', 'CuA', 'AiG', 'GiB', 'BpBP'], [0.5, 'CtBP', 'CuA', 'AiG', 'GiD', 'DpBP'], [0.5, 'CtBP', 'CuA', 'AiG', 'GiE', 'EpBP'], [0.5, 'CtBP', 'CuA', 'AiB', 'BiA', 'ApBP'], [0.5, 'CtBP', 'CuA', 'AiB', 'BiG', 'GpBP'], [0.5, 'CtBP', 'CuA', 'AiB', 'BiB', 'BpBP'], [0.5, 'CtBP', 'CuA', 'AiB', 'BiD', 'DpBP'], [0.5, 'CtBP', 'CuA', 'AiB', 'BiE', 'EpBP'], [0.5, 'CtBP', 'CuA', 'AiD', 'DiA', 'ApBP'], [0.5, 'CtBP', 'CuA', 'AiD', 'DiG', 'GpBP'], [0.5, 'CtBP', 'CuA', 'AiD', 'DiB', 'BpBP'], [0.5, 'CtBP', 'CuA', 'AiD', 'DiD', 'DpBP'], [0.5, 'CtBP', 'CuA', 'AiD', 'DiE', 'EpBP'], [0.5, 'CtBP', 'CuA', 'AiE', 'EiA', 'ApBP'], [0.5, 'CtBP', 'CuA', 'AiE', 'EiG', 'GpBP'], [0.5, 'CtBP', 'CuA', 'AiE', 'EiB', 'BpBP'], [0.5, 'CtBP', 'CuA', 'AiE', 'EiD', 'DpBP'], [0.5, 'CtBP', 'CuA', 'AiE', 'EiE', 'EpBP'], [0.5, 'CtBP', 'CdG', 'GiA', 'AiA', 'ApBP'], [0.5, 'CtBP', 'CdG', 'GiA', 'AiG', 'GpBP'], [0.5, 'CtBP', 'CdG', 'GiA', 'AiB', 'BpBP'], [0.5, 'CtBP', 'CdG', 'GiA', 'AiD', 'DpBP'], [0.5, 'CtBP', 'CdG', 'GiA', 'AiE', 'EpBP'], [0.5, 'CtBP', 'CdG', 'GiG', 'GiA', 'ApBP'], [0.5, 'CtBP', 'CdG', 'GiG', 'GiG', 'GpBP'], [0.5, 'CtBP', 'CdG', 'GiG', 'GiB', 'BpBP'], [0.5, 'CtBP', 'CdG', 'GiG', 'GiD', 'DpBP'], [0.5, 'CtBP', 'CdG', 'GiG', 'GiE', 'EpBP'], [0.5, 'CtBP', 'CdG', 'GiB', 'BiA', 'ApBP'], [0.5, 'CtBP', 'CdG', 'GiB', 'BiG', 'GpBP'], [0.5, 'CtBP', 'CdG', 'GiB', 'BiB', 'BpBP'], [0.5, 'CtBP', 'CdG', 'GiB', 'BiD', 'DpBP'], [0.5, 'CtBP', 'CdG', 'GiB', 'BiE', 'EpBP'], [0.5, 'CtBP', 'CdG', 'GiD', 'DiA', 'ApBP'], [0.5, 'CtBP', 'CdG', 'GiD', 'DiG', 'GpBP'], [0.5, 'CtBP', 'CdG', 'GiD', 'DiB', 'BpBP'], [0.5, 'CtBP', 'CdG', 'GiD', 'DiD', 'DpBP'], [0.5, 'CtBP', 'CdG', 'GiD', 'DiE', 'EpBP'], [0.5, 'CtBP', 'CdG', 'GiE', 'EiA', 'ApBP'], [0.5, 'CtBP', 'CdG', 'GiE', 'EiG', 'GpBP'], [0.5, 'CtBP', 'CdG', 'GiE', 'EiB', 'BpBP'], [0.5, 'CtBP', 'CdG', 'GiE', 'EiD', 'DpBP'], [0.5, 'CtBP', 'CdG', 'GiE', 'EiE', 'EpBP'], [0.5, 'CtBP', 'CuG', 'GiA', 'AiA', 'ApBP'], [0.5, 'CtBP', 'CuG', 'GiA', 'AiG', 'GpBP'], [0.5, 'CtBP', 'CuG', 'GiA', 'AiB', 'BpBP'], [0.5, 'CtBP', 'CuG', 'GiA', 'AiD', 'DpBP'], [0.5, 'CtBP', 'CuG', 'GiA', 'AiE', 'EpBP'], [0.5, 'CtBP', 'CuG', 'GiG', 'GiA', 'ApBP'], [0.5, 'CtBP', 'CuG', 'GiG', 'GiG', 'GpBP'], [0.5, 'CtBP', 'CuG', 'GiG', 'GiB', 'BpBP'], [0.5, 'CtBP', 'CuG', 'GiG', 'GiD', 'DpBP'], [0.5, 'CtBP', 'CuG', 'GiG', 'GiE', 'EpBP'], [0.5, 'CtBP', 'CuG', 'GiB', 'BiA', 'ApBP'], [0.5, 'CtBP', 'CuG', 'GiB', 'BiG', 'GpBP'], [0.5, 'CtBP', 'CuG', 'GiB', 'BiB', 'BpBP'], [0.5, 'CtBP', 'CuG', 'GiB', 'BiD', 'DpBP'], [0.5, 'CtBP', 'CuG', 'GiB', 'BiE', 'EpBP'], [0.5, 'CtBP', 'CuG', 'GiD', 'DiA', 'ApBP'], [0.5, 'CtBP', 'CuG', 'GiD', 'DiG', 'GpBP'], [0.5, 'CtBP', 'CuG', 'GiD', 'DiB', 'BpBP'], [0.5, 'CtBP', 'CuG', 'GiD', 'DiD', 'DpBP'], [0.5, 'CtBP', 'CuG', 'GiD', 'DiE', 'EpBP'], [0.5, 'CtBP', 'CuG', 'GiE', 'EiA', 'ApBP'], [0.5, 'CtBP', 'CuG', 'GiE', 'EiG', 'GpBP'], [0.5, 'CtBP', 'CuG', 'GiE', 'EiB', 'BpBP'], [0.5, 'CtBP', 'CuG', 'GiE', 'EiD', 'DpBP'], [0.5, 'CtBP', 'CuG', 'GiE', 'EiE', 'EpBP'], [0.5, 'CtBP', 'CdB', 'BiA', 'AiA', 'ApBP'], [0.5, 'CtBP', 'CdB', 'BiA', 'AiG', 'GpBP'], [0.5, 'CtBP', 'CdB', 'BiA', 'AiB', 'BpBP'], [0.5, 'CtBP', 'CdB', 'BiA', 'AiD', 'DpBP'], [0.5, 'CtBP', 'CdB', 'BiA', 'AiE', 'EpBP'], [0.5, 'CtBP', 'CdB', 'BiG', 'GiA', 'ApBP'], [0.5, 'CtBP', 'CdB', 'BiG', 'GiG', 'GpBP'], [0.5, 'CtBP', 'CdB', 'BiG', 'GiB', 'BpBP'], [0.5, 'CtBP', 'CdB', 'BiG', 'GiD', 'DpBP'], [0.5, 'CtBP', 'CdB', 'BiG', 'GiE', 'EpBP'], [0.5, 'CtBP', 'CdB', 'BiB', 'BiA', 'ApBP'], [0.5, 'CtBP', 'CdB', 'BiB', 'BiG', 'GpBP'], [0.5, 'CtBP', 'CdB', 'BiB', 'BiB', 'BpBP'], [0.5, 'CtBP', 'CdB', 'BiB', 'BiD', 'DpBP'], [0.5, 'CtBP', 'CdB', 'BiB', 'BiE', 'EpBP'], [0.5, 'CtBP', 'CdB', 'BiD', 'DiA', 'ApBP'], [0.5, 'CtBP', 'CdB', 'BiD', 'DiG', 'GpBP'], [0.5, 'CtBP', 'CdB', 'BiD', 'DiB', 'BpBP'], [0.5, 'CtBP', 'CdB', 'BiD', 'DiD', 'DpBP'], [0.5, 'CtBP', 'CdB', 'BiD', 'DiE', 'EpBP'], [0.5, 'CtBP', 'CdB', 'BiE', 'EiA', 'ApBP'], [0.5, 'CtBP', 'CdB', 'BiE', 'EiG', 'GpBP'], [0.5, 'CtBP', 'CdB', 'BiE', 'EiB', 'BpBP'], [0.5, 'CtBP', 'CdB', 'BiE', 'EiD', 'DpBP'], [0.5, 'CtBP', 'CdB', 'BiE', 'EiE', 'EpBP'], [0.5, 'CtBP', 'CuB', 'BiA', 'AiA', 'ApBP'], [0.5, 'CtBP', 'CuB', 'BiA', 'AiG', 'GpBP'], [0.5, 'CtBP', 'CuB', 'BiA', 'AiB', 'BpBP'], [0.5, 'CtBP', 'CuB', 'BiA', 'AiD', 'DpBP'], [0.5, 'CtBP', 'CuB', 'BiA', 'AiE', 'EpBP'], [0.5, 'CtBP', 'CuB', 'BiG', 'GiA', 'ApBP'], [0.5, 'CtBP', 'CuB', 'BiG', 'GiG', 'GpBP'], [0.5, 'CtBP', 'CuB', 'BiG', 'GiB', 'BpBP'], [0.5, 'CtBP', 'CuB', 'BiG', 'GiD', 'DpBP'], [0.5, 'CtBP', 'CuB', 'BiG', 'GiE', 'EpBP'], [0.5, 'CtBP', 'CuB', 'BiB', 'BiA', 'ApBP'], [0.5, 'CtBP', 'CuB', 'BiB', 'BiG', 'GpBP'], [0.5, 'CtBP', 'CuB', 'BiB', 'BiB', 'BpBP'], [0.5, 'CtBP', 'CuB', 'BiB', 'BiD', 'DpBP'], [0.5, 'CtBP', 'CuB', 'BiB', 'BiE', 'EpBP'], [0.5, 'CtBP', 'CuB', 'BiD', 'DiA', 'ApBP'], [0.5, 'CtBP', 'CuB', 'BiD', 'DiG', 'GpBP'], [0.5, 'CtBP', 'CuB', 'BiD', 'DiB', 'BpBP'], [0.5, 'CtBP', 'CuB', 'BiD', 'DiD', 'DpBP'], [0.5, 'CtBP', 'CuB', 'BiD', 'DiE', 'EpBP'], [0.5, 'CtBP', 'CuB', 'BiE', 'EiA', 'ApBP'], [0.5, 'CtBP', 'CuB', 'BiE', 'EiG', 'GpBP'], [0.5, 'CtBP', 'CuB', 'BiE', 'EiB', 'BpBP'], [0.5, 'CtBP', 'CuB', 'BiE', 'EiD', 'DpBP'], [0.5, 'CtBP', 'CuB', 'BiE', 'EiE', 'EpBP'], [0.5, 'CtBP', 'CdD', 'DiA', 'AiA', 'ApBP'], [0.5, 'CtBP', 'CdD', 'DiA', 'AiG', 'GpBP'], [0.5, 'CtBP', 'CdD', 'DiA', 'AiB', 'BpBP'], [0.5, 'CtBP', 'CdD', 'DiA', 'AiD', 'DpBP'], [0.5, 'CtBP', 'CdD', 'DiA', 'AiE', 'EpBP'], [0.5, 'CtBP', 'CdD', 'DiG', 'GiA', 'ApBP'], [0.5, 'CtBP', 'CdD', 'DiG', 'GiG', 'GpBP'], [0.5, 'CtBP', 'CdD', 'DiG', 'GiB', 'BpBP'], [0.5, 'CtBP', 'CdD', 'DiG', 'GiD', 'DpBP'], [0.5, 'CtBP', 'CdD', 'DiG', 'GiE', 'EpBP'], [0.5, 'CtBP', 'CdD', 'DiB', 'BiA', 'ApBP'], [0.5, 'CtBP', 'CdD', 'DiB', 'BiG', 'GpBP'], [0.5, 'CtBP', 'CdD', 'DiB', 'BiB', 'BpBP'], [0.5, 'CtBP', 'CdD', 'DiB', 'BiD', 'DpBP'], [0.5, 'CtBP', 'CdD', 'DiB', 'BiE', 'EpBP'], [0.5, 'CtBP', 'CdD', 'DiD', 'DiA', 'ApBP'], [0.5, 'CtBP', 'CdD', 'DiD', 'DiG', 'GpBP'], [0.5, 'CtBP', 'CdD', 'DiD', 'DiB', 'BpBP'], [0.5, 'CtBP', 'CdD', 'DiD', 'DiD', 'DpBP'], [0.5, 'CtBP', 'CdD', 'DiD', 'DiE', 'EpBP'], [0.5, 'CtBP', 'CdD', 'DiE', 'EiA', 'ApBP'], [0.5, 'CtBP', 'CdD', 'DiE', 'EiG', 'GpBP'], [0.5, 'CtBP', 'CdD', 'DiE', 'EiB', 'BpBP'], [0.5, 'CtBP', 'CdD', 'DiE', 'EiD', 'DpBP'], [0.5, 'CtBP', 'CdD', 'DiE', 'EiE', 'EpBP'], [0.5, 'CtBP', 'CuD', 'DiA', 'AiA', 'ApBP'], [0.5, 'CtBP', 'CuD', 'DiA', 'AiG', 'GpBP'], [0.5, 'CtBP', 'CuD', 'DiA', 'AiB', 'BpBP'], [0.5, 'CtBP', 'CuD', 'DiA', 'AiD', 'DpBP'], [0.5, 'CtBP', 'CuD', 'DiA', 'AiE', 'EpBP'], [0.5, 'CtBP', 'CuD', 'DiG', 'GiA', 'ApBP'], [0.5, 'CtBP', 'CuD', 'DiG', 'GiG', 'GpBP'], [0.5, 'CtBP', 'CuD', 'DiG', 'GiB', 'BpBP'], [0.5, 'CtBP', 'CuD', 'DiG', 'GiD', 'DpBP'], [0.5, 'CtBP', 'CuD', 'DiG', 'GiE', 'EpBP'], [0.5, 'CtBP', 'CuD', 'DiB', 'BiA', 'ApBP'], [0.5, 'CtBP', 'CuD', 'DiB', 'BiG', 'GpBP'], [0.5, 'CtBP', 'CuD', 'DiB', 'BiB', 'BpBP'], [0.5, 'CtBP', 'CuD', 'DiB', 'BiD', 'DpBP'], [0.5, 'CtBP', 'CuD', 'DiB', 'BiE', 'EpBP'], [0.5, 'CtBP', 'CuD', 'DiD', 'DiA', 'ApBP'], [0.5, 'CtBP', 'CuD', 'DiD', 'DiG', 'GpBP'], [0.5, 'CtBP', 'CuD', 'DiD', 'DiB', 'BpBP'], [0.5, 'CtBP', 'CuD', 'DiD', 'DiD', 'DpBP'], [0.5, 'CtBP', 'CuD', 'DiD', 'DiE', 'EpBP'], [0.5, 'CtBP', 'CuD', 'DiE', 'EiA', 'ApBP'], [0.5, 'CtBP', 'CuD', 'DiE', 'EiG', 'GpBP'], [0.5, 'CtBP', 'CuD', 'DiE', 'EiB', 'BpBP'], [0.5, 'CtBP', 'CuD', 'DiE', 'EiD', 'DpBP'], [0.5, 'CtBP', 'CuD', 'DiE', 'EiE', 'EpBP'], [0.5, 'CtBP', 'CdE', 'EiA', 'AiA', 'ApBP'], [0.5, 'CtBP', 'CdE', 'EiA', 'AiG', 'GpBP'], [0.5, 'CtBP', 'CdE', 'EiA', 'AiB', 'BpBP'], [0.5, 'CtBP', 'CdE', 'EiA', 'AiD', 'DpBP'], [0.5, 'CtBP', 'CdE', 'EiA', 'AiE', 'EpBP'], [0.5, 'CtBP', 'CdE', 'EiG', 'GiA', 'ApBP'], [0.5, 'CtBP', 'CdE', 'EiG', 'GiG', 'GpBP'], [0.5, 'CtBP', 'CdE', 'EiG', 'GiB', 'BpBP'], [0.5, 'CtBP', 'CdE', 'EiG', 'GiD', 'DpBP'], [0.5, 'CtBP', 'CdE', 'EiG', 'GiE', 'EpBP'], [0.5, 'CtBP', 'CdE', 'EiB', 'BiA', 'ApBP'], [0.5, 'CtBP', 'CdE', 'EiB', 'BiG', 'GpBP'], [0.5, 'CtBP', 'CdE', 'EiB', 'BiB', 'BpBP'], [0.5, 'CtBP', 'CdE', 'EiB', 'BiD', 'DpBP'], [0.5, 'CtBP', 'CdE', 'EiB', 'BiE', 'EpBP'], [0.5, 'CtBP', 'CdE', 'EiD', 'DiA', 'ApBP'], [0.5, 'CtBP', 'CdE', 'EiD', 'DiG', 'GpBP'], [0.5, 'CtBP', 'CdE', 'EiD', 'DiB', 'BpBP'], [0.5, 'CtBP', 'CdE', 'EiD', 'DiD', 'DpBP'], [0.5, 'CtBP', 'CdE', 'EiD', 'DiE', 'EpBP'], [0.5, 'CtBP', 'CdE', 'EiE', 'EiA', 'ApBP'], [0.5, 'CtBP', 'CdE', 'EiE', 'EiG', 'GpBP'], [0.5, 'CtBP', 'CdE', 'EiE', 'EiB', 'BpBP'], [0.5, 'CtBP', 'CdE', 'EiE', 'EiD', 'DpBP'], [0.5, 'CtBP', 'CdE', 'EiE', 'EiE', 'EpBP'], [0.5, 'CtBP', 'CuE', 'EiA', 'AiA', 'ApBP'], [0.5, 'CtBP', 'CuE', 'EiA', 'AiG', 'GpBP'], [0.5, 'CtBP', 'CuE', 'EiA', 'AiB', 'BpBP'], [0.5, 'CtBP', 'CuE', 'EiA', 'AiD', 'DpBP'], [0.5, 'CtBP', 'CuE', 'EiA', 'AiE', 'EpBP'], [0.5, 'CtBP', 'CuE', 'EiG', 'GiA', 'ApBP'], [0.5, 'CtBP', 'CuE', 'EiG', 'GiG', 'GpBP'], [0.5, 'CtBP', 'CuE', 'EiG', 'GiB', 'BpBP'], [0.5, 'CtBP', 'CuE', 'EiG', 'GiD', 'DpBP'], [0.5, 'CtBP', 'CuE', 'EiG', 'GiE', 'EpBP'], [0.5, 'CtBP', 'CuE', 'EiB', 'BiA', 'ApBP'], [0.5, 'CtBP', 'CuE', 'EiB', 'BiG', 'GpBP'], [0.5, 'CtBP', 'CuE', 'EiB', 'BiB', 'BpBP'], [0.5, 'CtBP', 'CuE', 'EiB', 'BiD', 'DpBP'], [0.5, 'CtBP', 'CuE', 'EiB', 'BiE', 'EpBP'], [0.5, 'CtBP', 'CuE', 'EiD', 'DiA', 'ApBP'], [0.5, 'CtBP', 'CuE', 'EiD', 'DiG', 'GpBP'], [0.5, 'CtBP', 'CuE', 'EiD', 'DiB', 'BpBP'], [0.5, 'CtBP', 'CuE', 'EiD', 'DiD', 'DpBP'], [0.5, 'CtBP', 'CuE', 'EiD', 'DiE', 'EpBP'], [0.5, 'CtBP', 'CuE', 'EiE', 'EiA', 'ApBP'], [0.5, 'CtBP', 'CuE', 'EiE', 'EiG', 'GpBP'], [0.5, 'CtBP', 'CuE', 'EiE', 'EiB', 'BpBP'], [0.5, 'CtBP', 'CuE', 'EiE', 'EiD', 'DpBP'], [0.5, 'CtBP', 'CuE', 'EiE', 'EiE', 'EpBP']]}\n"
     ]
    }
   ],
   "source": [
    "rules = {}\n",
    "rules['CtBP'] = [get_forward_rule_body(str(mpath), prob, metagraph) for mpath in CtoBP_metapaths]\n",
    "print(rules)"
   ]
  },
  {
   "cell_type": "code",
   "execution_count": 42,
   "metadata": {},
   "outputs": [
    {
     "data": {
      "text/plain": [
       "dict_keys(['CtBP'])"
      ]
     },
     "execution_count": 42,
     "metadata": {},
     "output_type": "execute_result"
    }
   ],
   "source": [
    "rules.keys()"
   ]
  },
  {
   "attachments": {},
   "cell_type": "markdown",
   "metadata": {},
   "source": [
    "Let's write it to a file we can use for MARS:"
   ]
  },
  {
   "cell_type": "code",
   "execution_count": 43,
   "metadata": {},
   "outputs": [],
   "source": [
    "with open(osp.join(MARS_DIR, 'rules.txt'), 'w') as f:\n",
    "    json.dump(rules, f)"
   ]
  },
  {
   "attachments": {},
   "cell_type": "markdown",
   "metadata": {},
   "source": [
    "Now, let's get the input triples in a format consistent with MARS's input files:"
   ]
  },
  {
   "cell_type": "code",
   "execution_count": 44,
   "metadata": {},
   "outputs": [],
   "source": [
    "def convert_to_mars(df):\n",
    "    \"\"\"Converts the KG into a format that MARS can use\n",
    "    \"\"\"\n",
    "    df['metaedge'] = [kind_to_abbev[row['source_node_type']] + kind_to_abbev[row['edge_type']] + \\\n",
    "                       kind_to_abbev[row['target_node_type']] for i, row in df.iterrows()]\n",
    "    return df[['source', 'metaedge', 'target']]"
   ]
  },
  {
   "cell_type": "code",
   "execution_count": 45,
   "metadata": {},
   "outputs": [],
   "source": [
    "train = convert_to_mars(pd.read_csv(osp.join(MOA_NET_PROTCLASSED, 'train.tsv'), sep='\\t'))\n",
    "test = convert_to_mars(pd.read_csv(osp.join(MOA_NET_PROTCLASSED, 'test.tsv'), sep='\\t'))\n",
    "val = convert_to_mars(pd.read_csv(osp.join(MOA_NET_PROTCLASSED, 'dev.tsv'), sep='\\t'))\n",
    "\n",
    "kg_triples = convert_to_mars(pd.read_csv(osp.join(MOA_NET_PROTCLASSED, 'kg_with_train_smpls.tsv'), sep='\\t'))"
   ]
  },
  {
   "cell_type": "code",
   "execution_count": 46,
   "metadata": {},
   "outputs": [
    {
     "data": {
      "text/html": [
       "<div>\n",
       "<style scoped>\n",
       "    .dataframe tbody tr th:only-of-type {\n",
       "        vertical-align: middle;\n",
       "    }\n",
       "\n",
       "    .dataframe tbody tr th {\n",
       "        vertical-align: top;\n",
       "    }\n",
       "\n",
       "    .dataframe thead th {\n",
       "        text-align: right;\n",
       "    }\n",
       "</style>\n",
       "<table border=\"1\" class=\"dataframe\">\n",
       "  <thead>\n",
       "    <tr style=\"text-align: right;\">\n",
       "      <th></th>\n",
       "      <th>source</th>\n",
       "      <th>metaedge</th>\n",
       "      <th>target</th>\n",
       "    </tr>\n",
       "  </thead>\n",
       "  <tbody>\n",
       "    <tr>\n",
       "      <th>0</th>\n",
       "      <td>ncbigene:221035</td>\n",
       "      <td>GiD</td>\n",
       "      <td>ncbigene:127059</td>\n",
       "    </tr>\n",
       "    <tr>\n",
       "      <th>1</th>\n",
       "      <td>ncbigene:8326</td>\n",
       "      <td>DiG</td>\n",
       "      <td>ncbigene:6423</td>\n",
       "    </tr>\n",
       "    <tr>\n",
       "      <th>2</th>\n",
       "      <td>ncbigene:3716</td>\n",
       "      <td>EiE</td>\n",
       "      <td>ncbigene:2534</td>\n",
       "    </tr>\n",
       "    <tr>\n",
       "      <th>3</th>\n",
       "      <td>ncbigene:148738</td>\n",
       "      <td>GiB</td>\n",
       "      <td>ncbigene:164656</td>\n",
       "    </tr>\n",
       "    <tr>\n",
       "      <th>4</th>\n",
       "      <td>ncbigene:7186</td>\n",
       "      <td>EiE</td>\n",
       "      <td>ncbigene:29110</td>\n",
       "    </tr>\n",
       "  </tbody>\n",
       "</table>\n",
       "</div>"
      ],
      "text/plain": [
       "            source metaedge           target\n",
       "0  ncbigene:221035      GiD  ncbigene:127059\n",
       "1    ncbigene:8326      DiG    ncbigene:6423\n",
       "2    ncbigene:3716      EiE    ncbigene:2534\n",
       "3  ncbigene:148738      GiB  ncbigene:164656\n",
       "4    ncbigene:7186      EiE   ncbigene:29110"
      ]
     },
     "execution_count": 46,
     "metadata": {},
     "output_type": "execute_result"
    }
   ],
   "source": [
    "kg_triples.head()"
   ]
  },
  {
   "cell_type": "markdown",
   "metadata": {},
   "source": [
    "Get the inverse triples of the KG:"
   ]
  },
  {
   "cell_type": "code",
   "execution_count": 47,
   "metadata": {},
   "outputs": [],
   "source": [
    "inverse_triples = kg_triples[['source', 'target', 'metaedge']].copy()\n",
    "inverse_triples['inv_metaedge'] = ['_' + i for i in inverse_triples['metaedge']]\n",
    "inverse_triples = inverse_triples[['target', 'inv_metaedge', 'source']]\n",
    "\n",
    "# get rid of those with _CtBP\n",
    "#inverse_triples = inverse_triples.loc[inverse_triples['inv_metaedge'] != '_CtBP']"
   ]
  },
  {
   "attachments": {},
   "cell_type": "markdown",
   "metadata": {},
   "source": [
    "Great, write to the MARS folder:"
   ]
  },
  {
   "cell_type": "code",
   "execution_count": 48,
   "metadata": {},
   "outputs": [],
   "source": [
    "kg_triples.to_csv(osp.join(MARS_DIR, 'graph_triples.txt'), sep='\\t', index=False, header=False)\n",
    "inverse_triples.to_csv(osp.join(MARS_DIR, 'graph_inverses.txt'), sep='\\t', index=False, header=False)"
   ]
  },
  {
   "cell_type": "code",
   "execution_count": 49,
   "metadata": {},
   "outputs": [],
   "source": [
    "train.to_csv(osp.join(MARS_DIR, 'train.txt'), sep='\\t', index=False, header=False)\n",
    "test.to_csv(osp.join(MARS_DIR, 'test.txt'), sep='\\t', index=False, header=False)\n",
    "val.to_csv(osp.join(MARS_DIR, 'dev.txt'), sep='\\t', index=False, header=False)"
   ]
  },
  {
   "cell_type": "markdown",
   "metadata": {},
   "source": [
    "Finally, we need dictionaries to map the entities and relations to unique IDs."
   ]
  },
  {
   "cell_type": "code",
   "execution_count": 50,
   "metadata": {},
   "outputs": [],
   "source": [
    "entities = {\"PAD\": 0, \"UNK\": 1}\n",
    "\n",
    "next_id = 2\n",
    "for df in kg_triples, train, test, val:\n",
    "    for i in df['source'].unique():\n",
    "        if i not in entities:\n",
    "            entities[i] = next_id\n",
    "            next_id += 1\n",
    "    for i in df['target'].unique():\n",
    "        if i not in entities:\n",
    "            entities[i] = next_id\n",
    "            next_id += 1"
   ]
  },
  {
   "cell_type": "code",
   "execution_count": 51,
   "metadata": {},
   "outputs": [],
   "source": [
    "relations = {\"PAD\": 0, \"DUMMY_START_RELATION\": 1, \"NO_OP\": 2, \"UNK\": 3}\n",
    "\n",
    "# combine the metaedges and inverse metaedges\n",
    "metaedges = set(kg_triples['metaedge']) | (set(inverse_triples['inv_metaedge']))\n",
    "\n",
    "next_id = 4\n",
    "for rel in metaedges:\n",
    "    relations[rel] = next_id\n",
    "    next_id += 1"
   ]
  },
  {
   "cell_type": "code",
   "execution_count": 52,
   "metadata": {},
   "outputs": [],
   "source": [
    "# write dictionary to json file\n",
    "VOCAB_DIR = osp.join(MARS_DIR, 'vocab')\n",
    "os.makedirs(VOCAB_DIR, exist_ok=True)\n",
    "\n",
    "with open(osp.join(VOCAB_DIR, 'entity_vocab.json'), 'w') as f:\n",
    "    json.dump(entities, f)\n",
    "\n",
    "with open(osp.join(VOCAB_DIR, 'relation_vocab.json'), 'w') as f:\n",
    "    json.dump(relations, f)"
   ]
  },
  {
   "cell_type": "code",
   "execution_count": 53,
   "metadata": {},
   "outputs": [],
   "source": [
    "meta_mapping = {v: k for k, v in kind_to_abbev.items()}"
   ]
  },
  {
   "cell_type": "code",
   "execution_count": 54,
   "metadata": {},
   "outputs": [],
   "source": [
    "with open(osp.join(VOCAB_DIR, 'meta_mapping.json'), 'w') as f:\n",
    "    json.dump(meta_mapping, f)"
   ]
  },
  {
   "cell_type": "code",
   "execution_count": 55,
   "metadata": {},
   "outputs": [
    {
     "data": {
      "text/plain": [
       "{'C': 'Compound',\n",
       " 'G': 'Gene',\n",
       " 'BP': 'Biological Process',\n",
       " 'u': 'upregulates',\n",
       " 'd': 'downregulates',\n",
       " 'i': 'interacts',\n",
       " 'p': 'participates',\n",
       " 't': 'induces',\n",
       " 'A': 'DNA-binding',\n",
       " 'B': 'Hydrolase',\n",
       " 'D': 'Receptor',\n",
       " 'E': 'Transferase'}"
      ]
     },
     "execution_count": 55,
     "metadata": {},
     "output_type": "execute_result"
    }
   ],
   "source": [
    "meta_mapping"
   ]
  }
 ],
 "metadata": {
  "kernelspec": {
   "display_name": "moanet_env",
   "language": "python",
   "name": "python3"
  },
  "language_info": {
   "codemirror_mode": {
    "name": "ipython",
    "version": 3
   },
   "file_extension": ".py",
   "mimetype": "text/x-python",
   "name": "python",
   "nbconvert_exporter": "python",
   "pygments_lexer": "ipython3",
   "version": "3.10.13"
  },
  "orig_nbformat": 4
 },
 "nbformat": 4,
 "nbformat_minor": 2
}
