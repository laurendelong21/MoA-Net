{
 "cells": [
  {
   "attachments": {},
   "cell_type": "markdown",
   "metadata": {},
   "source": [
    "# Metagraph and Metapath Generation\n",
    "\n",
    "Here, we use the same syntax as [HetNetPy](https://github.com/hetio/hetnetpy/tree/e1ff1f8296b766dd5a63e5870a8a1a7d82427a80) to create a metagraph and extract metapaths from the KG.\n",
    "\n",
    "Metagraph creation is based on [this notebook](https://github.com/dhimmel/integrate/blob/93feba1765fbcd76fd79e22f25121f5399629148/integrate.ipynb)."
   ]
  },
  {
   "cell_type": "code",
   "execution_count": 1,
   "metadata": {},
   "outputs": [],
   "source": [
    "import pandas as pd\n",
    "import seaborn as sns\n",
    "import os.path as osp\n",
    "import os\n",
    "\n",
    "import hetnetpy.hetnet\n",
    "import hetnetpy.readwrite\n",
    "import hetnetpy.stats\n",
    "\n",
    "from hetnetpy.abbreviation import metaedges_from_metapath\n",
    "from hetnetpy.pathtools import DWPC, paths_between\n",
    "\n",
    "import re\n",
    "import json\n",
    "import tqdm\n",
    "from collections import Counter\n",
    "\n",
    "from itertools import chain\n",
    "\n",
    "%matplotlib inline"
   ]
  },
  {
   "attachments": {},
   "cell_type": "markdown",
   "metadata": {},
   "source": [
    "## Using the protein subclasses\n",
    "\n",
    "In this version of the KG, we subclassed some of the proteins to UniProt keywords. Since we need letters representing these subclasses, we'll assign that here."
   ]
  },
  {
   "cell_type": "code",
   "execution_count": 2,
   "metadata": {},
   "outputs": [],
   "source": [
    "MAPPING_DIR = '../data/mappings/'\n",
    "METAPATHS_DIR = osp.join('../data', 'metapaths')"
   ]
  },
  {
   "cell_type": "code",
   "execution_count": 3,
   "metadata": {},
   "outputs": [],
   "source": [
    "# Read in the json file containing the classes:\n",
    "with open(osp.join(MAPPING_DIR, 'node2class.json'), 'r') as f:\n",
    "    prot_classes = json.load(f)\n",
    "\n",
    "prot_classes = {kw for keyword in prot_classes.values() for kw in keyword}\n",
    "\n",
    "prot_classes = sorted(list(prot_classes))  # sort so we get consistent results each time code is run:"
   ]
  },
  {
   "attachments": {},
   "cell_type": "markdown",
   "metadata": {},
   "source": [
    "Be sure to exclude C and G because we've already assigned them to Compound and Gene."
   ]
  },
  {
   "cell_type": "code",
   "execution_count": 4,
   "metadata": {},
   "outputs": [
    {
     "data": {
      "text/plain": [
       "{'DNA-binding': 'A',\n",
       " 'Developmental protein': 'B',\n",
       " 'Growth factor': 'D',\n",
       " 'Hormone': 'E',\n",
       " 'Hydrolase': 'F',\n",
       " 'Oxidoreductase': 'H',\n",
       " 'RNA-binding': 'I',\n",
       " 'Receptor': 'J',\n",
       " 'Repressor': 'K',\n",
       " 'Transferase': 'L'}"
      ]
     },
     "execution_count": 4,
     "metadata": {},
     "output_type": "execute_result"
    }
   ],
   "source": [
    "# for each item in keep_kws, assign a letter of the alphabet in a dictionary, excluding C or G\n",
    "class2letter = dict() \n",
    "i = 0\n",
    "for kw in prot_classes:\n",
    "    if kw == 'Gene':\n",
    "        continue\n",
    "    if chr(i + 65) in {'C', 'G'}:\n",
    "        i += 1\n",
    "    class2letter[kw] = chr(i + 65)\n",
    "    i += 1\n",
    "\n",
    "class2letter"
   ]
  },
  {
   "cell_type": "code",
   "execution_count": 5,
   "metadata": {},
   "outputs": [],
   "source": [
    "KG_DIR = '../data/kg/'\n",
    "SPLITS_DIR = osp.join(KG_DIR, 'splits')\n",
    "MARS_DIR = osp.join(SPLITS_DIR, 'MARS-original')\n",
    "\n",
    "for dir in [KG_DIR, SPLITS_DIR, MARS_DIR]:\n",
    "    if not osp.exists(dir):\n",
    "        os.makedirs(dir)\n",
    "\n",
    "kg = pd.read_csv(osp.join(SPLITS_DIR, 'kg_no_cmp_bp.tsv'), sep='\\t')"
   ]
  },
  {
   "cell_type": "code",
   "execution_count": 6,
   "metadata": {},
   "outputs": [
    {
     "data": {
      "text/html": [
       "<div>\n",
       "<style scoped>\n",
       "    .dataframe tbody tr th:only-of-type {\n",
       "        vertical-align: middle;\n",
       "    }\n",
       "\n",
       "    .dataframe tbody tr th {\n",
       "        vertical-align: top;\n",
       "    }\n",
       "\n",
       "    .dataframe thead th {\n",
       "        text-align: right;\n",
       "    }\n",
       "</style>\n",
       "<table border=\"1\" class=\"dataframe\">\n",
       "  <thead>\n",
       "    <tr style=\"text-align: right;\">\n",
       "      <th></th>\n",
       "      <th>source</th>\n",
       "      <th>source_node_type</th>\n",
       "      <th>target</th>\n",
       "      <th>target_node_type</th>\n",
       "      <th>edge_type</th>\n",
       "    </tr>\n",
       "  </thead>\n",
       "  <tbody>\n",
       "  </tbody>\n",
       "</table>\n",
       "</div>"
      ],
      "text/plain": [
       "Empty DataFrame\n",
       "Columns: [source, source_node_type, target, target_node_type, edge_type]\n",
       "Index: []"
      ]
     },
     "execution_count": 6,
     "metadata": {},
     "output_type": "execute_result"
    }
   ],
   "source": [
    "# show me the duplicated rows in the dataframe\n",
    "kg[kg.duplicated(keep=False)]"
   ]
  },
  {
   "attachments": {},
   "cell_type": "markdown",
   "metadata": {},
   "source": [
    "### Define and Instantiate Metagraph:"
   ]
  },
  {
   "cell_type": "code",
   "execution_count": 7,
   "metadata": {},
   "outputs": [],
   "source": [
    "kind_to_abbev = {\n",
    "    \n",
    "    # metanodes\n",
    "    'Compound': 'C',\n",
    "    'Gene': 'G',\n",
    "    'Biological Process': 'BP',\n",
    "    \n",
    "    # metaedges\n",
    "    'upregulates': 'u',\n",
    "    'downregulates': 'd',\n",
    "    'interacts': 'i',\n",
    "    'participates': 'p',\n",
    "    'induces': 't',\n",
    "}\n",
    "\n",
    "# add the new protein subclasses to the abbreviations:\n",
    "kind_to_abbev.update(class2letter)"
   ]
  },
  {
   "cell_type": "code",
   "execution_count": 8,
   "metadata": {},
   "outputs": [],
   "source": [
    "metaedge_tuples = list({(row['source_node_type'], row['target_node_type'], row['edge_type'], 'forward') for i, row in kg.iterrows()})"
   ]
  },
  {
   "cell_type": "code",
   "execution_count": 9,
   "metadata": {},
   "outputs": [],
   "source": [
    "# now make the metagraph\n",
    "metagraph = hetnetpy.hetnet.MetaGraph.from_edge_tuples(metaedge_tuples, kind_to_abbev)\n",
    "graph = hetnetpy.hetnet.Graph(metagraph)"
   ]
  },
  {
   "cell_type": "code",
   "execution_count": 10,
   "metadata": {},
   "outputs": [],
   "source": [
    "seen = set()\n",
    "\n",
    "for i, row in kg.iterrows():\n",
    "    if not (row['source'], row['source_node_type']) in seen:\n",
    "        graph.add_node(kind=row['source_node_type'], identifier=row['source'])\n",
    "        seen.add((row['source'], row['source_node_type']))\n",
    "    if not (row['target'], row['target_node_type']) in seen:\n",
    "        graph.add_node(kind=row['target_node_type'], identifier=row['target'])\n",
    "        seen.add((row['target'], row['target_node_type']))\n",
    "\n",
    "    src_id = row['source_node_type'], row['source']\n",
    "    trgt_id = row['target_node_type'], row['target']\n",
    "\n",
    "    graph.add_edge(source_id=src_id, target_id=trgt_id, kind=row['edge_type'], direction='forward')"
   ]
  },
  {
   "attachments": {},
   "cell_type": "markdown",
   "metadata": {},
   "source": [
    "## Network Visualization and Stats"
   ]
  },
  {
   "cell_type": "code",
   "execution_count": 11,
   "metadata": {},
   "outputs": [
    {
     "data": {
      "text/html": [
       "<div>\n",
       "<style scoped>\n",
       "    .dataframe tbody tr th:only-of-type {\n",
       "        vertical-align: middle;\n",
       "    }\n",
       "\n",
       "    .dataframe tbody tr th {\n",
       "        vertical-align: top;\n",
       "    }\n",
       "\n",
       "    .dataframe thead th {\n",
       "        text-align: right;\n",
       "    }\n",
       "</style>\n",
       "<table border=\"1\" class=\"dataframe\">\n",
       "  <thead>\n",
       "    <tr style=\"text-align: right;\">\n",
       "      <th></th>\n",
       "      <th>metanode</th>\n",
       "      <th>abbreviation</th>\n",
       "      <th>metaedges</th>\n",
       "      <th>nodes</th>\n",
       "      <th>unconnected_nodes</th>\n",
       "    </tr>\n",
       "  </thead>\n",
       "  <tbody>\n",
       "    <tr>\n",
       "      <th>12</th>\n",
       "      <td>Biological Process</td>\n",
       "      <td>BP</td>\n",
       "      <td>11</td>\n",
       "      <td>86</td>\n",
       "      <td>0</td>\n",
       "    </tr>\n",
       "    <tr>\n",
       "      <th>0</th>\n",
       "      <td>Compound</td>\n",
       "      <td>C</td>\n",
       "      <td>22</td>\n",
       "      <td>300</td>\n",
       "      <td>0</td>\n",
       "    </tr>\n",
       "    <tr>\n",
       "      <th>3</th>\n",
       "      <td>DNA-binding</td>\n",
       "      <td>A</td>\n",
       "      <td>24</td>\n",
       "      <td>1064</td>\n",
       "      <td>0</td>\n",
       "    </tr>\n",
       "    <tr>\n",
       "      <th>9</th>\n",
       "      <td>Developmental protein</td>\n",
       "      <td>B</td>\n",
       "      <td>24</td>\n",
       "      <td>497</td>\n",
       "      <td>0</td>\n",
       "    </tr>\n",
       "    <tr>\n",
       "      <th>1</th>\n",
       "      <td>Gene</td>\n",
       "      <td>G</td>\n",
       "      <td>24</td>\n",
       "      <td>1694</td>\n",
       "      <td>0</td>\n",
       "    </tr>\n",
       "    <tr>\n",
       "      <th>10</th>\n",
       "      <td>Growth factor</td>\n",
       "      <td>D</td>\n",
       "      <td>24</td>\n",
       "      <td>109</td>\n",
       "      <td>0</td>\n",
       "    </tr>\n",
       "    <tr>\n",
       "      <th>6</th>\n",
       "      <td>Hormone</td>\n",
       "      <td>E</td>\n",
       "      <td>24</td>\n",
       "      <td>73</td>\n",
       "      <td>0</td>\n",
       "    </tr>\n",
       "    <tr>\n",
       "      <th>4</th>\n",
       "      <td>Hydrolase</td>\n",
       "      <td>F</td>\n",
       "      <td>24</td>\n",
       "      <td>938</td>\n",
       "      <td>0</td>\n",
       "    </tr>\n",
       "    <tr>\n",
       "      <th>7</th>\n",
       "      <td>Oxidoreductase</td>\n",
       "      <td>H</td>\n",
       "      <td>24</td>\n",
       "      <td>391</td>\n",
       "      <td>0</td>\n",
       "    </tr>\n",
       "    <tr>\n",
       "      <th>11</th>\n",
       "      <td>RNA-binding</td>\n",
       "      <td>I</td>\n",
       "      <td>24</td>\n",
       "      <td>382</td>\n",
       "      <td>0</td>\n",
       "    </tr>\n",
       "    <tr>\n",
       "      <th>5</th>\n",
       "      <td>Receptor</td>\n",
       "      <td>J</td>\n",
       "      <td>24</td>\n",
       "      <td>1186</td>\n",
       "      <td>0</td>\n",
       "    </tr>\n",
       "    <tr>\n",
       "      <th>8</th>\n",
       "      <td>Repressor</td>\n",
       "      <td>K</td>\n",
       "      <td>24</td>\n",
       "      <td>337</td>\n",
       "      <td>0</td>\n",
       "    </tr>\n",
       "    <tr>\n",
       "      <th>2</th>\n",
       "      <td>Transferase</td>\n",
       "      <td>L</td>\n",
       "      <td>24</td>\n",
       "      <td>1184</td>\n",
       "      <td>0</td>\n",
       "    </tr>\n",
       "  </tbody>\n",
       "</table>\n",
       "</div>"
      ],
      "text/plain": [
       "                 metanode abbreviation  metaedges  nodes  unconnected_nodes\n",
       "12     Biological Process           BP         11     86                  0\n",
       "0                Compound            C         22    300                  0\n",
       "3             DNA-binding            A         24   1064                  0\n",
       "9   Developmental protein            B         24    497                  0\n",
       "1                    Gene            G         24   1694                  0\n",
       "10          Growth factor            D         24    109                  0\n",
       "6                 Hormone            E         24     73                  0\n",
       "4               Hydrolase            F         24    938                  0\n",
       "7          Oxidoreductase            H         24    391                  0\n",
       "11            RNA-binding            I         24    382                  0\n",
       "5                Receptor            J         24   1186                  0\n",
       "8               Repressor            K         24    337                  0\n",
       "2             Transferase            L         24   1184                  0"
      ]
     },
     "execution_count": 11,
     "metadata": {},
     "output_type": "execute_result"
    }
   ],
   "source": [
    "metanode_df = hetnetpy.stats.get_metanode_df(graph)\n",
    "metanode_df"
   ]
  },
  {
   "cell_type": "code",
   "execution_count": 12,
   "metadata": {},
   "outputs": [],
   "source": [
    "rel_mapping = {str(row['abbreviation']): str(row['metanode']) for i, row in metanode_df.iterrows()}\n",
    "# write to json file\n",
    "with open(osp.join(MAPPING_DIR, 'rel_mapping.json'), 'w') as f:\n",
    "    json.dump(rel_mapping, f, indent=2)"
   ]
  },
  {
   "cell_type": "code",
   "execution_count": 13,
   "metadata": {},
   "outputs": [
    {
     "data": {
      "image/png": "[encoded data removed]",
      "text/plain": [
       "<Figure size 432x288 with 1 Axes>"
      ]
     },
     "metadata": {
      "needs_background": "light"
     },
     "output_type": "display_data"
    }
   ],
   "source": [
    "ax = sns.barplot(x='metanode', y='nodes', data=metanode_df.sort_values('nodes'))\n",
    "for tick in ax.get_xticklabels():\n",
    "    tick.set_rotation(90)\n",
    "ax.set_xlabel(''); ax.set_ylabel('nodes');"
   ]
  },
  {
   "cell_type": "code",
   "execution_count": 14,
   "metadata": {},
   "outputs": [
    {
     "data": {
      "text/plain": [
       "8241"
      ]
     },
     "execution_count": 14,
     "metadata": {},
     "output_type": "execute_result"
    }
   ],
   "source": [
    "# Total number of nodes\n",
    "metanode_df.nodes.sum()"
   ]
  },
  {
   "cell_type": "code",
   "execution_count": 15,
   "metadata": {},
   "outputs": [],
   "source": [
    "# Summary of metaedges and cooresponding edges\n",
    "metaedge_df = hetnetpy.stats.get_metaedge_df(graph)"
   ]
  },
  {
   "cell_type": "code",
   "execution_count": 16,
   "metadata": {},
   "outputs": [
    {
     "data": {
      "text/html": [
       "<div>\n",
       "<style scoped>\n",
       "    .dataframe tbody tr th:only-of-type {\n",
       "        vertical-align: middle;\n",
       "    }\n",
       "\n",
       "    .dataframe tbody tr th {\n",
       "        vertical-align: top;\n",
       "    }\n",
       "\n",
       "    .dataframe thead th {\n",
       "        text-align: right;\n",
       "    }\n",
       "</style>\n",
       "<table border=\"1\" class=\"dataframe\">\n",
       "  <thead>\n",
       "    <tr style=\"text-align: right;\">\n",
       "      <th></th>\n",
       "      <th>metaedge</th>\n",
       "      <th>abbreviation</th>\n",
       "      <th>edges</th>\n",
       "      <th>source_nodes</th>\n",
       "      <th>target_nodes</th>\n",
       "    </tr>\n",
       "  </thead>\n",
       "  <tbody>\n",
       "    <tr>\n",
       "      <th>73</th>\n",
       "      <td>Growth factor &gt; interacts &gt; RNA-binding</td>\n",
       "      <td>Di&gt;I</td>\n",
       "      <td>2</td>\n",
       "      <td>2</td>\n",
       "      <td>2</td>\n",
       "    </tr>\n",
       "    <tr>\n",
       "      <th>107</th>\n",
       "      <td>Oxidoreductase &gt; interacts &gt; Hormone</td>\n",
       "      <td>Hi&gt;E</td>\n",
       "      <td>6</td>\n",
       "      <td>6</td>\n",
       "      <td>6</td>\n",
       "    </tr>\n",
       "    <tr>\n",
       "      <th>108</th>\n",
       "      <td>RNA-binding &gt; interacts &gt; Hormone</td>\n",
       "      <td>Ii&gt;E</td>\n",
       "      <td>7</td>\n",
       "      <td>3</td>\n",
       "      <td>7</td>\n",
       "    </tr>\n",
       "    <tr>\n",
       "      <th>113</th>\n",
       "      <td>Oxidoreductase &gt; interacts &gt; RNA-binding</td>\n",
       "      <td>Hi&gt;I</td>\n",
       "      <td>7</td>\n",
       "      <td>7</td>\n",
       "      <td>7</td>\n",
       "    </tr>\n",
       "    <tr>\n",
       "      <th>153</th>\n",
       "      <td>Growth factor &gt; interacts &gt; Oxidoreductase</td>\n",
       "      <td>Di&gt;H</td>\n",
       "      <td>11</td>\n",
       "      <td>6</td>\n",
       "      <td>11</td>\n",
       "    </tr>\n",
       "    <tr>\n",
       "      <th>141</th>\n",
       "      <td>RNA-binding &gt; interacts &gt; Growth factor</td>\n",
       "      <td>Ii&gt;D</td>\n",
       "      <td>12</td>\n",
       "      <td>9</td>\n",
       "      <td>9</td>\n",
       "    </tr>\n",
       "    <tr>\n",
       "      <th>137</th>\n",
       "      <td>Oxidoreductase &gt; interacts &gt; Growth factor</td>\n",
       "      <td>Hi&gt;D</td>\n",
       "      <td>13</td>\n",
       "      <td>8</td>\n",
       "      <td>11</td>\n",
       "    </tr>\n",
       "    <tr>\n",
       "      <th>131</th>\n",
       "      <td>Hydrolase &gt; interacts &gt; Hormone</td>\n",
       "      <td>Fi&gt;E</td>\n",
       "      <td>18</td>\n",
       "      <td>17</td>\n",
       "      <td>15</td>\n",
       "    </tr>\n",
       "    <tr>\n",
       "      <th>11</th>\n",
       "      <td>Oxidoreductase &gt; interacts &gt; Developmental pro...</td>\n",
       "      <td>Hi&gt;B</td>\n",
       "      <td>19</td>\n",
       "      <td>18</td>\n",
       "      <td>19</td>\n",
       "    </tr>\n",
       "    <tr>\n",
       "      <th>90</th>\n",
       "      <td>Compound &gt; downregulates &gt; RNA-binding</td>\n",
       "      <td>Cd&gt;I</td>\n",
       "      <td>19</td>\n",
       "      <td>17</td>\n",
       "      <td>10</td>\n",
       "    </tr>\n",
       "    <tr>\n",
       "      <th>34</th>\n",
       "      <td>Hormone &gt; interacts &gt; Growth factor</td>\n",
       "      <td>Ei&gt;D</td>\n",
       "      <td>20</td>\n",
       "      <td>7</td>\n",
       "      <td>11</td>\n",
       "    </tr>\n",
       "    <tr>\n",
       "      <th>140</th>\n",
       "      <td>Oxidoreductase &gt; interacts &gt; Repressor</td>\n",
       "      <td>Hi&gt;K</td>\n",
       "      <td>26</td>\n",
       "      <td>24</td>\n",
       "      <td>20</td>\n",
       "    </tr>\n",
       "    <tr>\n",
       "      <th>126</th>\n",
       "      <td>Growth factor &gt; interacts &gt; Hormone</td>\n",
       "      <td>Di&gt;E</td>\n",
       "      <td>27</td>\n",
       "      <td>12</td>\n",
       "      <td>11</td>\n",
       "    </tr>\n",
       "    <tr>\n",
       "      <th>117</th>\n",
       "      <td>RNA-binding &gt; interacts &gt; Oxidoreductase</td>\n",
       "      <td>Ii&gt;H</td>\n",
       "      <td>32</td>\n",
       "      <td>12</td>\n",
       "      <td>32</td>\n",
       "    </tr>\n",
       "    <tr>\n",
       "      <th>38</th>\n",
       "      <td>Growth factor &gt; interacts &gt; Repressor</td>\n",
       "      <td>Di&gt;K</td>\n",
       "      <td>32</td>\n",
       "      <td>16</td>\n",
       "      <td>22</td>\n",
       "    </tr>\n",
       "    <tr>\n",
       "      <th>77</th>\n",
       "      <td>Oxidoreductase &gt; interacts &gt; Oxidoreductase</td>\n",
       "      <td>Hi&gt;H</td>\n",
       "      <td>37</td>\n",
       "      <td>31</td>\n",
       "      <td>33</td>\n",
       "    </tr>\n",
       "    <tr>\n",
       "      <th>112</th>\n",
       "      <td>Hormone &gt; interacts &gt; Hormone</td>\n",
       "      <td>Ei&gt;E</td>\n",
       "      <td>37</td>\n",
       "      <td>18</td>\n",
       "      <td>22</td>\n",
       "    </tr>\n",
       "    <tr>\n",
       "      <th>94</th>\n",
       "      <td>Receptor &gt; interacts &gt; Hormone</td>\n",
       "      <td>Ji&gt;E</td>\n",
       "      <td>40</td>\n",
       "      <td>31</td>\n",
       "      <td>24</td>\n",
       "    </tr>\n",
       "    <tr>\n",
       "      <th>20</th>\n",
       "      <td>Transferase &gt; interacts &gt; Hormone</td>\n",
       "      <td>Li&gt;E</td>\n",
       "      <td>43</td>\n",
       "      <td>34</td>\n",
       "      <td>26</td>\n",
       "    </tr>\n",
       "    <tr>\n",
       "      <th>101</th>\n",
       "      <td>Hormone &gt; interacts &gt; Repressor</td>\n",
       "      <td>Ei&gt;K</td>\n",
       "      <td>43</td>\n",
       "      <td>8</td>\n",
       "      <td>43</td>\n",
       "    </tr>\n",
       "    <tr>\n",
       "      <th>28</th>\n",
       "      <td>Compound &gt; upregulates &gt; RNA-binding</td>\n",
       "      <td>Cu&gt;I</td>\n",
       "      <td>44</td>\n",
       "      <td>34</td>\n",
       "      <td>21</td>\n",
       "    </tr>\n",
       "    <tr>\n",
       "      <th>8</th>\n",
       "      <td>Repressor &gt; interacts &gt; Hormone</td>\n",
       "      <td>Ki&gt;E</td>\n",
       "      <td>44</td>\n",
       "      <td>29</td>\n",
       "      <td>26</td>\n",
       "    </tr>\n",
       "    <tr>\n",
       "      <th>51</th>\n",
       "      <td>Oxidoreductase &gt; interacts &gt; Hydrolase</td>\n",
       "      <td>Hi&gt;F</td>\n",
       "      <td>46</td>\n",
       "      <td>32</td>\n",
       "      <td>36</td>\n",
       "    </tr>\n",
       "    <tr>\n",
       "      <th>128</th>\n",
       "      <td>Gene &gt; interacts &gt; Hormone</td>\n",
       "      <td>Gi&gt;E</td>\n",
       "      <td>49</td>\n",
       "      <td>38</td>\n",
       "      <td>22</td>\n",
       "    </tr>\n",
       "    <tr>\n",
       "      <th>55</th>\n",
       "      <td>RNA-binding &gt; interacts &gt; Receptor</td>\n",
       "      <td>Ii&gt;J</td>\n",
       "      <td>54</td>\n",
       "      <td>17</td>\n",
       "      <td>50</td>\n",
       "    </tr>\n",
       "    <tr>\n",
       "      <th>87</th>\n",
       "      <td>Compound &gt; downregulates &gt; Repressor</td>\n",
       "      <td>Cd&gt;K</td>\n",
       "      <td>57</td>\n",
       "      <td>25</td>\n",
       "      <td>33</td>\n",
       "    </tr>\n",
       "    <tr>\n",
       "      <th>5</th>\n",
       "      <td>Compound &gt; downregulates &gt; Hormone</td>\n",
       "      <td>Cd&gt;E</td>\n",
       "      <td>57</td>\n",
       "      <td>36</td>\n",
       "      <td>23</td>\n",
       "    </tr>\n",
       "    <tr>\n",
       "      <th>19</th>\n",
       "      <td>Compound &gt; upregulates &gt; Hormone</td>\n",
       "      <td>Cu&gt;E</td>\n",
       "      <td>59</td>\n",
       "      <td>42</td>\n",
       "      <td>25</td>\n",
       "    </tr>\n",
       "    <tr>\n",
       "      <th>120</th>\n",
       "      <td>Hormone &gt; interacts &gt; Oxidoreductase</td>\n",
       "      <td>Ei&gt;H</td>\n",
       "      <td>60</td>\n",
       "      <td>8</td>\n",
       "      <td>59</td>\n",
       "    </tr>\n",
       "    <tr>\n",
       "      <th>57</th>\n",
       "      <td>Hydrolase &gt; interacts &gt; Growth factor</td>\n",
       "      <td>Fi&gt;D</td>\n",
       "      <td>64</td>\n",
       "      <td>40</td>\n",
       "      <td>37</td>\n",
       "    </tr>\n",
       "    <tr>\n",
       "      <th>98</th>\n",
       "      <td>Developmental protein &gt; interacts &gt; Hormone</td>\n",
       "      <td>Bi&gt;E</td>\n",
       "      <td>65</td>\n",
       "      <td>36</td>\n",
       "      <td>37</td>\n",
       "    </tr>\n",
       "    <tr>\n",
       "      <th>121</th>\n",
       "      <td>Compound &gt; upregulates &gt; Repressor</td>\n",
       "      <td>Cu&gt;K</td>\n",
       "      <td>66</td>\n",
       "      <td>36</td>\n",
       "      <td>32</td>\n",
       "    </tr>\n",
       "    <tr>\n",
       "      <th>36</th>\n",
       "      <td>Repressor &gt; interacts &gt; Growth factor</td>\n",
       "      <td>Ki&gt;D</td>\n",
       "      <td>69</td>\n",
       "      <td>31</td>\n",
       "      <td>38</td>\n",
       "    </tr>\n",
       "    <tr>\n",
       "      <th>61</th>\n",
       "      <td>Hydrolase &gt; interacts &gt; Oxidoreductase</td>\n",
       "      <td>Fi&gt;H</td>\n",
       "      <td>69</td>\n",
       "      <td>26</td>\n",
       "      <td>54</td>\n",
       "    </tr>\n",
       "    <tr>\n",
       "      <th>16</th>\n",
       "      <td>Oxidoreductase &gt; interacts &gt; Receptor</td>\n",
       "      <td>Hi&gt;J</td>\n",
       "      <td>71</td>\n",
       "      <td>42</td>\n",
       "      <td>61</td>\n",
       "    </tr>\n",
       "    <tr>\n",
       "      <th>46</th>\n",
       "      <td>Hormone &gt; participates &gt; Biological Process</td>\n",
       "      <td>Ep&gt;BP</td>\n",
       "      <td>71</td>\n",
       "      <td>54</td>\n",
       "      <td>13</td>\n",
       "    </tr>\n",
       "    <tr>\n",
       "      <th>59</th>\n",
       "      <td>Hormone &gt; interacts &gt; RNA-binding</td>\n",
       "      <td>Ei&gt;I</td>\n",
       "      <td>74</td>\n",
       "      <td>6</td>\n",
       "      <td>73</td>\n",
       "    </tr>\n",
       "    <tr>\n",
       "      <th>86</th>\n",
       "      <td>Compound &gt; downregulates &gt; Growth factor</td>\n",
       "      <td>Cd&gt;D</td>\n",
       "      <td>85</td>\n",
       "      <td>40</td>\n",
       "      <td>34</td>\n",
       "    </tr>\n",
       "    <tr>\n",
       "      <th>122</th>\n",
       "      <td>Compound &gt; upregulates &gt; Growth factor</td>\n",
       "      <td>Cu&gt;D</td>\n",
       "      <td>88</td>\n",
       "      <td>45</td>\n",
       "      <td>35</td>\n",
       "    </tr>\n",
       "    <tr>\n",
       "      <th>82</th>\n",
       "      <td>RNA-binding &gt; interacts &gt; Developmental protein</td>\n",
       "      <td>Ii&gt;B</td>\n",
       "      <td>89</td>\n",
       "      <td>34</td>\n",
       "      <td>41</td>\n",
       "    </tr>\n",
       "    <tr>\n",
       "      <th>132</th>\n",
       "      <td>Compound &gt; upregulates &gt; Developmental protein</td>\n",
       "      <td>Cu&gt;B</td>\n",
       "      <td>94</td>\n",
       "      <td>37</td>\n",
       "      <td>71</td>\n",
       "    </tr>\n",
       "    <tr>\n",
       "      <th>124</th>\n",
       "      <td>Receptor &gt; interacts &gt; RNA-binding</td>\n",
       "      <td>Ji&gt;I</td>\n",
       "      <td>99</td>\n",
       "      <td>36</td>\n",
       "      <td>57</td>\n",
       "    </tr>\n",
       "    <tr>\n",
       "      <th>104</th>\n",
       "      <td>Oxidoreductase &gt; interacts &gt; DNA-binding</td>\n",
       "      <td>Hi&gt;A</td>\n",
       "      <td>100</td>\n",
       "      <td>49</td>\n",
       "      <td>69</td>\n",
       "    </tr>\n",
       "    <tr>\n",
       "      <th>12</th>\n",
       "      <td>Receptor &gt; interacts &gt; Growth factor</td>\n",
       "      <td>Ji&gt;D</td>\n",
       "      <td>103</td>\n",
       "      <td>53</td>\n",
       "      <td>47</td>\n",
       "    </tr>\n",
       "    <tr>\n",
       "      <th>139</th>\n",
       "      <td>Compound &gt; downregulates &gt; Developmental protein</td>\n",
       "      <td>Cd&gt;B</td>\n",
       "      <td>106</td>\n",
       "      <td>48</td>\n",
       "      <td>69</td>\n",
       "    </tr>\n",
       "    <tr>\n",
       "      <th>30</th>\n",
       "      <td>Hormone &gt; interacts &gt; Developmental protein</td>\n",
       "      <td>Ei&gt;B</td>\n",
       "      <td>109</td>\n",
       "      <td>31</td>\n",
       "      <td>62</td>\n",
       "    </tr>\n",
       "    <tr>\n",
       "      <th>60</th>\n",
       "      <td>Growth factor &gt; participates &gt; Biological Process</td>\n",
       "      <td>Dp&gt;BP</td>\n",
       "      <td>116</td>\n",
       "      <td>70</td>\n",
       "      <td>15</td>\n",
       "    </tr>\n",
       "    <tr>\n",
       "      <th>93</th>\n",
       "      <td>Repressor &gt; interacts &gt; Oxidoreductase</td>\n",
       "      <td>Ki&gt;H</td>\n",
       "      <td>119</td>\n",
       "      <td>37</td>\n",
       "      <td>92</td>\n",
       "    </tr>\n",
       "    <tr>\n",
       "      <th>23</th>\n",
       "      <td>RNA-binding &gt; participates &gt; Biological Process</td>\n",
       "      <td>Ip&gt;BP</td>\n",
       "      <td>121</td>\n",
       "      <td>91</td>\n",
       "      <td>24</td>\n",
       "    </tr>\n",
       "    <tr>\n",
       "      <th>127</th>\n",
       "      <td>Oxidoreductase &gt; interacts &gt; Gene</td>\n",
       "      <td>Hi&gt;G</td>\n",
       "      <td>125</td>\n",
       "      <td>64</td>\n",
       "      <td>97</td>\n",
       "    </tr>\n",
       "  </tbody>\n",
       "</table>\n",
       "</div>"
      ],
      "text/plain": [
       "                                              metaedge abbreviation  edges  \\\n",
       "73             Growth factor > interacts > RNA-binding         Di>I      2   \n",
       "107               Oxidoreductase > interacts > Hormone         Hi>E      6   \n",
       "108                  RNA-binding > interacts > Hormone         Ii>E      7   \n",
       "113           Oxidoreductase > interacts > RNA-binding         Hi>I      7   \n",
       "153         Growth factor > interacts > Oxidoreductase         Di>H     11   \n",
       "141            RNA-binding > interacts > Growth factor         Ii>D     12   \n",
       "137         Oxidoreductase > interacts > Growth factor         Hi>D     13   \n",
       "131                    Hydrolase > interacts > Hormone         Fi>E     18   \n",
       "11   Oxidoreductase > interacts > Developmental pro...         Hi>B     19   \n",
       "90              Compound > downregulates > RNA-binding         Cd>I     19   \n",
       "34                 Hormone > interacts > Growth factor         Ei>D     20   \n",
       "140             Oxidoreductase > interacts > Repressor         Hi>K     26   \n",
       "126                Growth factor > interacts > Hormone         Di>E     27   \n",
       "117           RNA-binding > interacts > Oxidoreductase         Ii>H     32   \n",
       "38               Growth factor > interacts > Repressor         Di>K     32   \n",
       "77         Oxidoreductase > interacts > Oxidoreductase         Hi>H     37   \n",
       "112                      Hormone > interacts > Hormone         Ei>E     37   \n",
       "94                      Receptor > interacts > Hormone         Ji>E     40   \n",
       "20                   Transferase > interacts > Hormone         Li>E     43   \n",
       "101                    Hormone > interacts > Repressor         Ei>K     43   \n",
       "28                Compound > upregulates > RNA-binding         Cu>I     44   \n",
       "8                      Repressor > interacts > Hormone         Ki>E     44   \n",
       "51              Oxidoreductase > interacts > Hydrolase         Hi>F     46   \n",
       "128                         Gene > interacts > Hormone         Gi>E     49   \n",
       "55                  RNA-binding > interacts > Receptor         Ii>J     54   \n",
       "87                Compound > downregulates > Repressor         Cd>K     57   \n",
       "5                   Compound > downregulates > Hormone         Cd>E     57   \n",
       "19                    Compound > upregulates > Hormone         Cu>E     59   \n",
       "120               Hormone > interacts > Oxidoreductase         Ei>H     60   \n",
       "57               Hydrolase > interacts > Growth factor         Fi>D     64   \n",
       "98         Developmental protein > interacts > Hormone         Bi>E     65   \n",
       "121                 Compound > upregulates > Repressor         Cu>K     66   \n",
       "36               Repressor > interacts > Growth factor         Ki>D     69   \n",
       "61              Hydrolase > interacts > Oxidoreductase         Fi>H     69   \n",
       "16               Oxidoreductase > interacts > Receptor         Hi>J     71   \n",
       "46         Hormone > participates > Biological Process        Ep>BP     71   \n",
       "59                   Hormone > interacts > RNA-binding         Ei>I     74   \n",
       "86            Compound > downregulates > Growth factor         Cd>D     85   \n",
       "122             Compound > upregulates > Growth factor         Cu>D     88   \n",
       "82     RNA-binding > interacts > Developmental protein         Ii>B     89   \n",
       "132     Compound > upregulates > Developmental protein         Cu>B     94   \n",
       "124                 Receptor > interacts > RNA-binding         Ji>I     99   \n",
       "104           Oxidoreductase > interacts > DNA-binding         Hi>A    100   \n",
       "12                Receptor > interacts > Growth factor         Ji>D    103   \n",
       "139   Compound > downregulates > Developmental protein         Cd>B    106   \n",
       "30         Hormone > interacts > Developmental protein         Ei>B    109   \n",
       "60   Growth factor > participates > Biological Process        Dp>BP    116   \n",
       "93              Repressor > interacts > Oxidoreductase         Ki>H    119   \n",
       "23     RNA-binding > participates > Biological Process        Ip>BP    121   \n",
       "127                  Oxidoreductase > interacts > Gene         Hi>G    125   \n",
       "\n",
       "     source_nodes  target_nodes  \n",
       "73              2             2  \n",
       "107             6             6  \n",
       "108             3             7  \n",
       "113             7             7  \n",
       "153             6            11  \n",
       "141             9             9  \n",
       "137             8            11  \n",
       "131            17            15  \n",
       "11             18            19  \n",
       "90             17            10  \n",
       "34              7            11  \n",
       "140            24            20  \n",
       "126            12            11  \n",
       "117            12            32  \n",
       "38             16            22  \n",
       "77             31            33  \n",
       "112            18            22  \n",
       "94             31            24  \n",
       "20             34            26  \n",
       "101             8            43  \n",
       "28             34            21  \n",
       "8              29            26  \n",
       "51             32            36  \n",
       "128            38            22  \n",
       "55             17            50  \n",
       "87             25            33  \n",
       "5              36            23  \n",
       "19             42            25  \n",
       "120             8            59  \n",
       "57             40            37  \n",
       "98             36            37  \n",
       "121            36            32  \n",
       "36             31            38  \n",
       "61             26            54  \n",
       "16             42            61  \n",
       "46             54            13  \n",
       "59              6            73  \n",
       "86             40            34  \n",
       "122            45            35  \n",
       "82             34            41  \n",
       "132            37            71  \n",
       "124            36            57  \n",
       "104            49            69  \n",
       "12             53            47  \n",
       "139            48            69  \n",
       "30             31            62  \n",
       "60             70            15  \n",
       "93             37            92  \n",
       "23             91            24  \n",
       "127            64            97  "
      ]
     },
     "execution_count": 16,
     "metadata": {},
     "output_type": "execute_result"
    }
   ],
   "source": [
    "metaedge_df.sort_values('edges', ascending=True).head(50)"
   ]
  },
  {
   "cell_type": "code",
   "execution_count": 17,
   "metadata": {},
   "outputs": [
    {
     "data": {
      "image/png": "[encoded data removed]",
      "text/plain": [
       "<Figure size 432x288 with 1 Axes>"
      ]
     },
     "metadata": {
      "needs_background": "light"
     },
     "output_type": "display_data"
    }
   ],
   "source": [
    "ax = sns.barplot(x='abbreviation', y='edges', data=metaedge_df.sort_values('edges'))\n",
    "for tick in ax.get_xticklabels():\n",
    "    tick.set_rotation(90)\n",
    "ax.set_xlabel(''); ax.set_ylabel('edges');\n",
    "\n",
    "# change dimensions of plot to be wider\n",
    "#sns.set(rc={'figure.figsize':(100, 10)})"
   ]
  },
  {
   "cell_type": "code",
   "execution_count": 18,
   "metadata": {},
   "outputs": [
    {
     "data": {
      "text/html": [
       "<div>\n",
       "<style scoped>\n",
       "    .dataframe tbody tr th:only-of-type {\n",
       "        vertical-align: middle;\n",
       "    }\n",
       "\n",
       "    .dataframe tbody tr th {\n",
       "        vertical-align: top;\n",
       "    }\n",
       "\n",
       "    .dataframe thead th {\n",
       "        text-align: right;\n",
       "    }\n",
       "</style>\n",
       "<table border=\"1\" class=\"dataframe\">\n",
       "  <thead>\n",
       "    <tr style=\"text-align: right;\">\n",
       "      <th></th>\n",
       "      <th>metaedge</th>\n",
       "      <th>unicode_metaedge</th>\n",
       "      <th>standard_metaedge</th>\n",
       "      <th>abbreviation</th>\n",
       "      <th>standard_abbreviation</th>\n",
       "      <th>source</th>\n",
       "      <th>target</th>\n",
       "      <th>inverted</th>\n",
       "    </tr>\n",
       "  </thead>\n",
       "  <tbody>\n",
       "    <tr>\n",
       "      <th>303</th>\n",
       "      <td>Biological Process &lt; participates &lt; DNA-binding</td>\n",
       "      <td>Biological Process←participates←DNA-binding</td>\n",
       "      <td>DNA-binding &gt; participates &gt; Biological Process</td>\n",
       "      <td>BP&lt;pA</td>\n",
       "      <td>ApBP</td>\n",
       "      <td>Biological Process</td>\n",
       "      <td>DNA-binding</td>\n",
       "      <td>1</td>\n",
       "    </tr>\n",
       "    <tr>\n",
       "      <th>295</th>\n",
       "      <td>Biological Process &lt; participates &lt; Developmen...</td>\n",
       "      <td>Biological Process←participates←Developmental ...</td>\n",
       "      <td>Developmental protein &gt; participates &gt; Biologi...</td>\n",
       "      <td>BP&lt;pB</td>\n",
       "      <td>BpBP</td>\n",
       "      <td>Biological Process</td>\n",
       "      <td>Developmental protein</td>\n",
       "      <td>1</td>\n",
       "    </tr>\n",
       "    <tr>\n",
       "      <th>269</th>\n",
       "      <td>Biological Process &lt; participates &lt; Gene</td>\n",
       "      <td>Biological Process←participates←Gene</td>\n",
       "      <td>Gene &gt; participates &gt; Biological Process</td>\n",
       "      <td>BP&lt;pG</td>\n",
       "      <td>GpBP</td>\n",
       "      <td>Biological Process</td>\n",
       "      <td>Gene</td>\n",
       "      <td>1</td>\n",
       "    </tr>\n",
       "    <tr>\n",
       "      <th>121</th>\n",
       "      <td>Biological Process &lt; participates &lt; Growth factor</td>\n",
       "      <td>Biological Process←participates←Growth factor</td>\n",
       "      <td>Growth factor &gt; participates &gt; Biological Process</td>\n",
       "      <td>BP&lt;pD</td>\n",
       "      <td>DpBP</td>\n",
       "      <td>Biological Process</td>\n",
       "      <td>Growth factor</td>\n",
       "      <td>1</td>\n",
       "    </tr>\n",
       "    <tr>\n",
       "      <th>93</th>\n",
       "      <td>Biological Process &lt; participates &lt; Hormone</td>\n",
       "      <td>Biological Process←participates←Hormone</td>\n",
       "      <td>Hormone &gt; participates &gt; Biological Process</td>\n",
       "      <td>BP&lt;pE</td>\n",
       "      <td>EpBP</td>\n",
       "      <td>Biological Process</td>\n",
       "      <td>Hormone</td>\n",
       "      <td>1</td>\n",
       "    </tr>\n",
       "  </tbody>\n",
       "</table>\n",
       "</div>"
      ],
      "text/plain": [
       "                                              metaedge  \\\n",
       "303    Biological Process < participates < DNA-binding   \n",
       "295  Biological Process < participates < Developmen...   \n",
       "269           Biological Process < participates < Gene   \n",
       "121  Biological Process < participates < Growth factor   \n",
       "93         Biological Process < participates < Hormone   \n",
       "\n",
       "                                      unicode_metaedge  \\\n",
       "303        Biological Process←participates←DNA-binding   \n",
       "295  Biological Process←participates←Developmental ...   \n",
       "269               Biological Process←participates←Gene   \n",
       "121      Biological Process←participates←Growth factor   \n",
       "93             Biological Process←participates←Hormone   \n",
       "\n",
       "                                     standard_metaedge abbreviation  \\\n",
       "303    DNA-binding > participates > Biological Process        BP<pA   \n",
       "295  Developmental protein > participates > Biologi...        BP<pB   \n",
       "269           Gene > participates > Biological Process        BP<pG   \n",
       "121  Growth factor > participates > Biological Process        BP<pD   \n",
       "93         Hormone > participates > Biological Process        BP<pE   \n",
       "\n",
       "    standard_abbreviation              source                 target  inverted  \n",
       "303                  ApBP  Biological Process            DNA-binding         1  \n",
       "295                  BpBP  Biological Process  Developmental protein         1  \n",
       "269                  GpBP  Biological Process                   Gene         1  \n",
       "121                  DpBP  Biological Process          Growth factor         1  \n",
       "93                   EpBP  Biological Process                Hormone         1  "
      ]
     },
     "execution_count": 18,
     "metadata": {},
     "output_type": "execute_result"
    }
   ],
   "source": [
    "# Summary of different styles for representing each metaedge\n",
    "metaedge_style_df = hetnetpy.stats.get_metaedge_style_df(metagraph)\n",
    "metaedge_style_df.head()"
   ]
  },
  {
   "cell_type": "code",
   "execution_count": 19,
   "metadata": {},
   "outputs": [
    {
     "data": {
      "text/plain": [
       "88079"
      ]
     },
     "execution_count": 19,
     "metadata": {},
     "output_type": "execute_result"
    }
   ],
   "source": [
    "# Number of edges in the network\n",
    "metaedge_df.edges.sum()"
   ]
  },
  {
   "attachments": {},
   "cell_type": "markdown",
   "metadata": {},
   "source": [
    "## Metapath Extraction\n",
    "\n",
    "Here, we have functions which can extract metapaths:"
   ]
  },
  {
   "attachments": {},
   "cell_type": "markdown",
   "metadata": {},
   "source": [
    "Extract metapaths from a given source node type (and, optionally, to a target node type):"
   ]
  },
  {
   "cell_type": "code",
   "execution_count": 20,
   "metadata": {},
   "outputs": [],
   "source": [
    "tgt_metapaths = metagraph.extract_metapaths(source='Compound', target='Biological Process', max_length=4)\n",
    "# print(tgt_metapaths)"
   ]
  },
  {
   "attachments": {},
   "cell_type": "markdown",
   "metadata": {},
   "source": [
    "We do not want any with a compound in the middle:"
   ]
  },
  {
   "cell_type": "code",
   "execution_count": 21,
   "metadata": {},
   "outputs": [],
   "source": [
    "CtoBP_metapaths = []\n",
    "\n",
    "\n",
    "for i in tgt_metapaths:\n",
    "    if (repr(i) != 'Ct>BP') & (Counter(re.split('>|<|[^A-Z]', repr(i)))['C'] == 1):\n",
    "        CtoBP_metapaths.append(i)"
   ]
  },
  {
   "attachments": {},
   "cell_type": "markdown",
   "metadata": {},
   "source": [
    "How many did it prune?"
   ]
  },
  {
   "cell_type": "code",
   "execution_count": 22,
   "metadata": {},
   "outputs": [
    {
     "name": "stdout",
     "output_type": "stream",
     "text": [
      "11396\n",
      "12364\n"
     ]
    }
   ],
   "source": [
    "print(len(CtoBP_metapaths))\n",
    "print(len(tgt_metapaths))"
   ]
  },
  {
   "attachments": {},
   "cell_type": "markdown",
   "metadata": {},
   "source": [
    "## Metapaths Between Training, Validation, Testing\n",
    "\n",
    "Here, we'll look at the metapaths that occur between each of the sets of drug-BP pairs."
   ]
  },
  {
   "cell_type": "code",
   "execution_count": 23,
   "metadata": {},
   "outputs": [],
   "source": [
    "def get_paths(\n",
    "    graph,\n",
    "    source,\n",
    "    target,\n",
    "    rule,\n",
    "):\n",
    "    try:\n",
    "        paths = paths_between(\n",
    "            graph,\n",
    "            source=('Compound', source),\n",
    "            target=('Biological Process', target),\n",
    "            metapath=tuple(rule),\n",
    "            duplicates=False,\n",
    "        )\n",
    "    except Exception as e:\n",
    "        print(e)\n",
    "        paths = []        \n",
    "    \n",
    "    return paths"
   ]
  },
  {
   "cell_type": "code",
   "execution_count": 24,
   "metadata": {},
   "outputs": [],
   "source": [
    "# read in train.txt, test.txt, and dev.txt from MARS_DIR\n",
    "train = pd.read_csv(osp.join(SPLITS_DIR, 'train.tsv'), sep='\\t')\n",
    "test = pd.read_csv(osp.join(SPLITS_DIR, 'test.tsv'), sep='\\t')\n",
    "dev = pd.read_csv(osp.join(SPLITS_DIR, 'dev.tsv'), sep='\\t')\n",
    "\n",
    "# for each, get a set of the source and target columns\n",
    "train = {(row['source'], row['target']) for i, row in train.iterrows()}\n",
    "test = {(row['source'], row['target']) for i, row in test.iterrows()}\n",
    "dev = {(row['source'], row['target']) for i, row in dev.iterrows()}"
   ]
  },
  {
   "cell_type": "code",
   "execution_count": 25,
   "metadata": {},
   "outputs": [],
   "source": [
    "def get_metapath_counts(drug_BP_pairs):\n",
    "\n",
    "    metapath_dict = {str(mpath): 0 for mpath in CtoBP_metapaths}\n",
    "\n",
    "    for source, bp in tqdm.tqdm(drug_BP_pairs):\n",
    "        # All metapaths going from compound to biological process\n",
    "        for mpath in CtoBP_metapaths:\n",
    "                    \n",
    "            paths = get_paths(\n",
    "                graph=graph,\n",
    "                source=source,\n",
    "                target=bp,\n",
    "                rule=mpath,\n",
    "            )\n",
    "            \n",
    "            if not paths:\n",
    "                continue\n",
    "                \n",
    "            metapath_dict[str(mpath)] += len(paths)\n",
    "\n",
    "    return metapath_dict"
   ]
  },
  {
   "attachments": {},
   "cell_type": "markdown",
   "metadata": {},
   "source": [
    "This next step is really long, which is why I've made it possible to skip if the files already exist:"
   ]
  },
  {
   "cell_type": "code",
   "execution_count": 26,
   "metadata": {},
   "outputs": [],
   "source": [
    "# check if a file exists\n",
    "if not osp.exists(osp.join(METAPATHS_DIR, 'train_metapaths.json')):\n",
    "    train_metapaths = get_metapath_counts(train)\n",
    "    with open(osp.join(METAPATHS_DIR, 'train_metapaths.json'), 'w') as f:\n",
    "        json.dump(train_metapaths, f)\n",
    "\n",
    "else:\n",
    "    with open(osp.join(METAPATHS_DIR, 'train_metapaths.json'), 'r') as f:\n",
    "        train_metapaths = json.load(f)\n",
    "\n",
    "if not osp.exists(osp.join(METAPATHS_DIR, 'test_metapaths.json')):       \n",
    "    test_metapaths = get_metapath_counts(test)\n",
    "    with open(osp.join(METAPATHS_DIR, 'test_metapaths.json'), 'w') as f:\n",
    "        json.dump(test_metapaths, f)\n",
    "\n",
    "else:\n",
    "    with open(osp.join(METAPATHS_DIR, 'test_metapaths.json'), 'r') as f:\n",
    "        test_metapaths = json.load(f)\n",
    "\n",
    "if not osp.exists(osp.join(METAPATHS_DIR, 'dev_metapaths.json')): \n",
    "    dev_metapaths = get_metapath_counts(dev)\n",
    "    with open(osp.join(METAPATHS_DIR, 'dev_metapaths.json'), 'w') as f:\n",
    "        json.dump(dev_metapaths, f)\n",
    "\n",
    "else:\n",
    "    with open(osp.join(METAPATHS_DIR, 'dev_metapaths.json'), 'r') as f:\n",
    "        dev_metapaths = json.load(f)"
   ]
  },
  {
   "cell_type": "code",
   "execution_count": 27,
   "metadata": {},
   "outputs": [],
   "source": [
    "# for each value, turn it into a ratio of value/ sum of all values\n",
    "test_ratios = {k: v/sum(test_metapaths.values()) for k, v in test_metapaths.items()}\n",
    "train_ratios = {k: v/sum(train_metapaths.values()) for k, v in train_metapaths.items()}\n",
    "dev_ratios = {k: v/sum(dev_metapaths.values()) for k, v in dev_metapaths.items()}"
   ]
  },
  {
   "cell_type": "code",
   "execution_count": 28,
   "metadata": {},
   "outputs": [],
   "source": [
    "# get any keys where the value is zero\n",
    "zero_train = {k: v for k, v in train_ratios.items() if v == 0}\n",
    "zero_test = {k: v for k, v in test_ratios.items() if v == 0}"
   ]
  },
  {
   "cell_type": "code",
   "execution_count": 29,
   "metadata": {},
   "outputs": [
    {
     "data": {
      "text/plain": [
       "2332"
      ]
     },
     "execution_count": 29,
     "metadata": {},
     "output_type": "execute_result"
    }
   ],
   "source": [
    "len(set(zero_test.keys()))"
   ]
  },
  {
   "cell_type": "code",
   "execution_count": 30,
   "metadata": {},
   "outputs": [
    {
     "data": {
      "text/plain": [
       "1349"
      ]
     },
     "execution_count": 30,
     "metadata": {},
     "output_type": "execute_result"
    }
   ],
   "source": [
    "len(set(zero_train.keys()))"
   ]
  },
  {
   "attachments": {},
   "cell_type": "markdown",
   "metadata": {},
   "source": [
    "Are there metapaths with zero instances in the training set but instances in the test set?"
   ]
  },
  {
   "cell_type": "code",
   "execution_count": 31,
   "metadata": {},
   "outputs": [],
   "source": [
    "# nonzero keys in test\n",
    "nonzero_test = {k: v for k, v in test_ratios.items() if v != 0}"
   ]
  },
  {
   "cell_type": "code",
   "execution_count": 32,
   "metadata": {},
   "outputs": [
    {
     "data": {
      "text/plain": [
       "1214"
      ]
     },
     "execution_count": 32,
     "metadata": {},
     "output_type": "execute_result"
    }
   ],
   "source": [
    "len(set(zero_train.keys()) - set(nonzero_test.keys()))"
   ]
  },
  {
   "cell_type": "code",
   "execution_count": 33,
   "metadata": {},
   "outputs": [
    {
     "data": {
      "text/plain": [
       "135"
      ]
     },
     "execution_count": 33,
     "metadata": {},
     "output_type": "execute_result"
    }
   ],
   "source": [
    "len(set(zero_train.keys()) - set(zero_test.keys()))"
   ]
  },
  {
   "attachments": {},
   "cell_type": "markdown",
   "metadata": {},
   "source": [
    "Are the most common keys mostly the same?"
   ]
  },
  {
   "cell_type": "code",
   "execution_count": 34,
   "metadata": {},
   "outputs": [],
   "source": [
    "top_test = {tup[0] for tup in Counter(test_ratios).most_common(100)}\n",
    "top_train = {tup[0] for tup in Counter(train_ratios).most_common(100)}"
   ]
  },
  {
   "cell_type": "code",
   "execution_count": 35,
   "metadata": {},
   "outputs": [
    {
     "data": {
      "text/plain": [
       "0.7"
      ]
     },
     "execution_count": 35,
     "metadata": {},
     "output_type": "execute_result"
    }
   ],
   "source": [
    "len(top_test & top_train) / len(top_test)"
   ]
  },
  {
   "attachments": {},
   "cell_type": "markdown",
   "metadata": {},
   "source": [
    "It seems they are mostly the same, but not exactly."
   ]
  },
  {
   "attachments": {},
   "cell_type": "markdown",
   "metadata": {},
   "source": [
    "# MARS Input Preparation\n",
    "\n",
    "What if we want to get these in a format similar to the MARS input?\n",
    "\n",
    "First let's give them all a uniform probability:"
   ]
  },
  {
   "cell_type": "code",
   "execution_count": 36,
   "metadata": {},
   "outputs": [],
   "source": [
    "#prob = 1 / (2 * len(CtoBP_metapaths))\n",
    "prob = 0.5"
   ]
  },
  {
   "attachments": {},
   "cell_type": "markdown",
   "metadata": {},
   "source": [
    "We can split the metapaths into a series of individual relations:"
   ]
  },
  {
   "cell_type": "code",
   "execution_count": 37,
   "metadata": {},
   "outputs": [],
   "source": [
    "def get_forward_rule_body(mpath, conf, metagraph):\n",
    "    \"\"\"Gets the rule body for a given metapath in the format that MARS requires\n",
    "        :param mpath: the metapath instance, written in hetnetpy format\n",
    "        :param conf: the confidence value to use for the rule\n",
    "        :param metagraph: the metagraph instance, as a hetnetpy object\n",
    "    \"\"\"\n",
    "    st_edges = metaedges_from_metapath(mpath, standardize_by=metagraph)\n",
    "    directional_edges = metaedges_from_metapath(mpath)\n",
    "    rule_head = re.split('>|<|[^A-Z]', mpath)\n",
    "    rule_head = rule_head[0] + 't' + rule_head[-1]\n",
    "    rule_body = [conf, rule_head]\n",
    "    for st, dic in zip(st_edges, directional_edges):\n",
    "        if '>' in dic:\n",
    "            rule_body.append(st)\n",
    "        else:\n",
    "            rule_body.append('_' + st)\n",
    "    return rule_body"
   ]
  },
  {
   "cell_type": "code",
   "execution_count": 38,
   "metadata": {},
   "outputs": [
    {
     "data": {
      "text/plain": [
       "[0.5, 'CtBP', 'CuG', '_CuG', 'CdG', 'GpBP']"
      ]
     },
     "execution_count": 38,
     "metadata": {},
     "output_type": "execute_result"
    }
   ],
   "source": [
    "# just testing the function\n",
    "get_forward_rule_body('Cu>G<uCd>Gp>BP', prob, metagraph)"
   ]
  },
  {
   "cell_type": "code",
   "execution_count": 39,
   "metadata": {},
   "outputs": [],
   "source": [
    "def get_reverse_rule_body(forward_body):\n",
    "    \"\"\"Gets the REVERSE rule body for a given metapath in the format that MARS requires\n",
    "        :param forward_body: the forward rule body as a list\n",
    "    \"\"\"\n",
    "    rev_body = [forward_body[0], '_' + forward_body[1]]\n",
    "    for i in reversed(forward_body[2:]):\n",
    "        if '_' in i:\n",
    "            rev_body.append(re.sub('_', '', i))\n",
    "        else:\n",
    "            rev_body.append('_' + i)\n",
    "    return rev_body"
   ]
  },
  {
   "cell_type": "code",
   "execution_count": 40,
   "metadata": {},
   "outputs": [
    {
     "data": {
      "text/plain": [
       "[0.5, '_CtBP', '_GpBP', '_CdG', 'CuG', '_CuG']"
      ]
     },
     "execution_count": 40,
     "metadata": {},
     "output_type": "execute_result"
    }
   ],
   "source": [
    "fw = get_forward_rule_body('Cu>G<uCd>Gp>BP', prob, metagraph)\n",
    "get_reverse_rule_body(fw)"
   ]
  },
  {
   "attachments": {},
   "cell_type": "markdown",
   "metadata": {},
   "source": [
    "Now we'll do it for all the compound to BP metapaths!"
   ]
  },
  {
   "cell_type": "code",
   "execution_count": 41,
   "metadata": {},
   "outputs": [],
   "source": [
    "rules = {}\n",
    "rules['CtBP'] = [get_forward_rule_body(str(mpath), prob, metagraph) for mpath in CtoBP_metapaths]\n",
    "# rules['_CtBP'] = [get_reverse_rule_body(mpath) for mpath in rules['CtBP']]\n",
    "# print(rules)"
   ]
  },
  {
   "cell_type": "code",
   "execution_count": 42,
   "metadata": {},
   "outputs": [
    {
     "data": {
      "text/plain": [
       "dict_keys(['CtBP'])"
      ]
     },
     "execution_count": 42,
     "metadata": {},
     "output_type": "execute_result"
    }
   ],
   "source": [
    "rules.keys()"
   ]
  },
  {
   "attachments": {},
   "cell_type": "markdown",
   "metadata": {},
   "source": [
    "Let's write it to a file we can use for MARS:"
   ]
  },
  {
   "cell_type": "code",
   "execution_count": 43,
   "metadata": {},
   "outputs": [],
   "source": [
    "with open(osp.join(MARS_DIR, 'rules.txt'), 'w') as f:\n",
    "    json.dump(rules, f)"
   ]
  },
  {
   "attachments": {},
   "cell_type": "markdown",
   "metadata": {},
   "source": [
    "Now, let's get the input triples in a format consistent with MARS's input files:"
   ]
  },
  {
   "cell_type": "code",
   "execution_count": 44,
   "metadata": {},
   "outputs": [],
   "source": [
    "def convert_to_mars(df):\n",
    "    \"\"\"Converts the KG into a format that MARS can use\n",
    "    \"\"\"\n",
    "    df['metaedge'] = [kind_to_abbev[row['source_node_type']] + kind_to_abbev[row['edge_type']] + \\\n",
    "                       kind_to_abbev[row['target_node_type']] for i, row in df.iterrows()]\n",
    "    return df[['source', 'metaedge', 'target']]"
   ]
  },
  {
   "cell_type": "code",
   "execution_count": 45,
   "metadata": {},
   "outputs": [],
   "source": [
    "train = convert_to_mars(pd.read_csv(osp.join(SPLITS_DIR, 'train.tsv'), sep='\\t'))\n",
    "test = convert_to_mars(pd.read_csv(osp.join(SPLITS_DIR, 'test.tsv'), sep='\\t'))\n",
    "val = convert_to_mars(pd.read_csv(osp.join(SPLITS_DIR, 'dev.tsv'), sep='\\t'))\n",
    "\n",
    "kg_triples = convert_to_mars(pd.read_csv(osp.join(SPLITS_DIR, 'kg_with_train_smpls.tsv'), sep='\\t'))"
   ]
  },
  {
   "cell_type": "code",
   "execution_count": 46,
   "metadata": {},
   "outputs": [
    {
     "data": {
      "text/html": [
       "<div>\n",
       "<style scoped>\n",
       "    .dataframe tbody tr th:only-of-type {\n",
       "        vertical-align: middle;\n",
       "    }\n",
       "\n",
       "    .dataframe tbody tr th {\n",
       "        vertical-align: top;\n",
       "    }\n",
       "\n",
       "    .dataframe thead th {\n",
       "        text-align: right;\n",
       "    }\n",
       "</style>\n",
       "<table border=\"1\" class=\"dataframe\">\n",
       "  <thead>\n",
       "    <tr style=\"text-align: right;\">\n",
       "      <th></th>\n",
       "      <th>source</th>\n",
       "      <th>metaedge</th>\n",
       "      <th>target</th>\n",
       "    </tr>\n",
       "  </thead>\n",
       "  <tbody>\n",
       "    <tr>\n",
       "      <th>0</th>\n",
       "      <td>ncbigene:330</td>\n",
       "      <td>LiL</td>\n",
       "      <td>ncbigene:7187</td>\n",
       "    </tr>\n",
       "    <tr>\n",
       "      <th>1</th>\n",
       "      <td>ncbigene:23098</td>\n",
       "      <td>FpBP</td>\n",
       "      <td>GO:0030154</td>\n",
       "    </tr>\n",
       "    <tr>\n",
       "      <th>2</th>\n",
       "      <td>ncbigene:6885</td>\n",
       "      <td>LiG</td>\n",
       "      <td>ncbigene:51422</td>\n",
       "    </tr>\n",
       "    <tr>\n",
       "      <th>3</th>\n",
       "      <td>ncbigene:861</td>\n",
       "      <td>KiF</td>\n",
       "      <td>ncbigene:192669</td>\n",
       "    </tr>\n",
       "    <tr>\n",
       "      <th>4</th>\n",
       "      <td>ncbigene:3586</td>\n",
       "      <td>GiD</td>\n",
       "      <td>ncbigene:3592</td>\n",
       "    </tr>\n",
       "  </tbody>\n",
       "</table>\n",
       "</div>"
      ],
      "text/plain": [
       "           source metaedge           target\n",
       "0    ncbigene:330      LiL    ncbigene:7187\n",
       "1  ncbigene:23098     FpBP       GO:0030154\n",
       "2   ncbigene:6885      LiG   ncbigene:51422\n",
       "3    ncbigene:861      KiF  ncbigene:192669\n",
       "4   ncbigene:3586      GiD    ncbigene:3592"
      ]
     },
     "execution_count": 46,
     "metadata": {},
     "output_type": "execute_result"
    }
   ],
   "source": [
    "kg_triples.head()"
   ]
  },
  {
   "cell_type": "markdown",
   "metadata": {},
   "source": [
    "Get the inverse triples of the KG:"
   ]
  },
  {
   "cell_type": "code",
   "execution_count": 47,
   "metadata": {},
   "outputs": [],
   "source": [
    "inverse_triples = kg_triples[['source', 'target', 'metaedge']].copy()\n",
    "inverse_triples['inv_metaedge'] = ['_' + i for i in inverse_triples['metaedge']]\n",
    "inverse_triples = inverse_triples[['target', 'inv_metaedge', 'source']]\n",
    "\n",
    "# get rid of those with _CtBP\n",
    "# inverse_triples = inverse_triples.loc[inverse_triples['inv_metaedge'] != '_CtBP']"
   ]
  },
  {
   "attachments": {},
   "cell_type": "markdown",
   "metadata": {},
   "source": [
    "Great, write to the MARS folder:"
   ]
  },
  {
   "cell_type": "code",
   "execution_count": 48,
   "metadata": {},
   "outputs": [],
   "source": [
    "kg_triples.to_csv(osp.join(MARS_DIR, 'graph_triples.txt'), sep='\\t', index=False, header=False)\n",
    "inverse_triples.to_csv(osp.join(MARS_DIR, 'graph_inverses.txt'), sep='\\t', index=False, header=False)"
   ]
  },
  {
   "cell_type": "code",
   "execution_count": 49,
   "metadata": {},
   "outputs": [],
   "source": [
    "train.to_csv(osp.join(MARS_DIR, 'train.txt'), sep='\\t', index=False, header=False)\n",
    "test.to_csv(osp.join(MARS_DIR, 'test.txt'), sep='\\t', index=False, header=False)\n",
    "val.to_csv(osp.join(MARS_DIR, 'dev.txt'), sep='\\t', index=False, header=False)"
   ]
  },
  {
   "cell_type": "markdown",
   "metadata": {},
   "source": [
    "Finally, we need dictionaries to map the entities and relations to unique IDs."
   ]
  },
  {
   "cell_type": "code",
   "execution_count": 50,
   "metadata": {},
   "outputs": [],
   "source": [
    "entities = {\"PAD\": 0, \"UNK\": 1}\n",
    "\n",
    "next_id = 2\n",
    "for df in kg_triples, train, test, val:\n",
    "    for i in df['source'].unique():\n",
    "        if i not in entities:\n",
    "            entities[i] = next_id\n",
    "            next_id += 1\n",
    "    for i in df['target'].unique():\n",
    "        if i not in entities:\n",
    "            entities[i] = next_id\n",
    "            next_id += 1"
   ]
  },
  {
   "cell_type": "code",
   "execution_count": 51,
   "metadata": {},
   "outputs": [],
   "source": [
    "relations = {\"PAD\": 0, \"DUMMY_START_RELATION\": 1, \"NO_OP\": 2, \"UNK\": 3}\n",
    "\n",
    "metaedges = set(kg_triples['metaedge']) | (set(inverse_triples['inv_metaedge']))\n",
    "\n",
    "next_id = 4\n",
    "for rel in metaedges:\n",
    "    relations[rel] = next_id\n",
    "    next_id += 1"
   ]
  },
  {
   "cell_type": "code",
   "execution_count": 52,
   "metadata": {},
   "outputs": [],
   "source": [
    "# write dictionary to json file\n",
    "with open(osp.join(MARS_DIR, 'entity_vocab.json'), 'w') as f:\n",
    "    json.dump(entities, f)\n",
    "\n",
    "with open(osp.join(MARS_DIR, 'relation_vocab.json'), 'w') as f:\n",
    "    json.dump(relations, f)"
   ]
  },
  {
   "cell_type": "code",
   "execution_count": null,
   "metadata": {},
   "outputs": [],
   "source": []
  }
 ],
 "metadata": {
  "kernelspec": {
   "display_name": "mln_env",
   "language": "python",
   "name": "mln_env"
  },
  "language_info": {
   "codemirror_mode": {
    "name": "ipython",
    "version": 3
   },
   "file_extension": ".py",
   "mimetype": "text/x-python",
   "name": "python",
   "nbconvert_exporter": "python",
   "pygments_lexer": "ipython3",
   "version": "3.6.9"
  },
  "orig_nbformat": 4
 },
 "nbformat": 4,
 "nbformat_minor": 2
}
