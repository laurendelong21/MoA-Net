{
 "cells": [
  {
   "cell_type": "markdown",
   "id": "315c76a0",
   "metadata": {},
   "source": [
    "# Explore UniProt keywords\n",
    "\n",
    "url: https://www.uniprot.org/uniprotkb?facets=reviewed%3Atrue&query=%28taxonomy_id%3A9606%29\n",
    "1. Select the following columns:\n",
    "Entry\tEntry Name\tProtein Names\tGene Names\tOrganism\tKeywords HGNC\n",
    "\n",
    "2. Select Reviewed only (~20,500)"
   ]
  },
  {
   "cell_type": "code",
   "execution_count": 1,
   "id": "cf977342",
   "metadata": {},
   "outputs": [],
   "source": [
    "from collections import Counter\n",
    "\n",
    "import pandas as pd\n",
    "from tqdm import tqdm\n",
    "import seaborn as sns\n",
    "import matplotlib.pyplot as plt\n",
    "import itertools as it\n",
    "\n",
    "import os.path as osp\n",
    "import json"
   ]
  },
  {
   "cell_type": "markdown",
   "id": "83d3d4e8",
   "metadata": {},
   "source": [
    "Below, I downloaded the [UniProt table for human proteins](https://www.uniprot.org/uniprotkb?query=%28Human%29). I added on Keywords and HGNC as columns:"
   ]
  },
  {
   "cell_type": "code",
   "execution_count": 2,
   "id": "0c17a0e6",
   "metadata": {},
   "outputs": [],
   "source": [
    "MAPPING_DIR = '../data/mappings/'"
   ]
  },
  {
   "cell_type": "code",
   "execution_count": 3,
   "id": "89e078c0",
   "metadata": {},
   "outputs": [],
   "source": [
    "# Release 2022_05\n",
    "uniprot = pd.read_csv(\n",
    "    osp.join(MAPPING_DIR, 'uniprotkb_Human_AND_reviewed_true_2023_10_05.tsv.gz'),\n",
    "    sep='\\t',\n",
    "    compression='gzip',\n",
    "    usecols=[\n",
    "        'Keywords',\n",
    "        'Entry',\n",
    "    ]\n",
    ")"
   ]
  },
  {
   "cell_type": "code",
   "execution_count": 4,
   "id": "1b98876a",
   "metadata": {},
   "outputs": [
    {
     "data": {
      "text/html": [
       "<div>\n",
       "<style scoped>\n",
       "    .dataframe tbody tr th:only-of-type {\n",
       "        vertical-align: middle;\n",
       "    }\n",
       "\n",
       "    .dataframe tbody tr th {\n",
       "        vertical-align: top;\n",
       "    }\n",
       "\n",
       "    .dataframe thead th {\n",
       "        text-align: right;\n",
       "    }\n",
       "</style>\n",
       "<table border=\"1\" class=\"dataframe\">\n",
       "  <thead>\n",
       "    <tr style=\"text-align: right;\">\n",
       "      <th></th>\n",
       "      <th>Entry</th>\n",
       "      <th>Keywords</th>\n",
       "    </tr>\n",
       "  </thead>\n",
       "  <tbody>\n",
       "    <tr>\n",
       "      <th>0</th>\n",
       "      <td>A0A024B7W1</td>\n",
       "      <td>3D-structure;4Fe-4S;Activation of host autopha...</td>\n",
       "    </tr>\n",
       "    <tr>\n",
       "      <th>1</th>\n",
       "      <td>A0A068B6Q6</td>\n",
       "      <td>3D-structure;Acetylcholine receptor inhibiting...</td>\n",
       "    </tr>\n",
       "    <tr>\n",
       "      <th>2</th>\n",
       "      <td>A0A076FFM5</td>\n",
       "      <td>2Fe-2S;Chloroplast;Cytoplasm;Iron;Iron-sulfur;...</td>\n",
       "    </tr>\n",
       "    <tr>\n",
       "      <th>3</th>\n",
       "      <td>A0A087X1C5</td>\n",
       "      <td>Cytoplasm;Glycoprotein;Heme;Iron;Membrane;Meta...</td>\n",
       "    </tr>\n",
       "    <tr>\n",
       "      <th>4</th>\n",
       "      <td>A0A0A1I6E7</td>\n",
       "      <td>Amidation;Antibiotic;Antimicrobial;Cleavage on...</td>\n",
       "    </tr>\n",
       "    <tr>\n",
       "      <th>5</th>\n",
       "      <td>A0A0A1I6N9</td>\n",
       "      <td>Amidation;Antibiotic;Antimicrobial;Cleavage on...</td>\n",
       "    </tr>\n",
       "    <tr>\n",
       "      <th>6</th>\n",
       "      <td>A0A0B4J2F0</td>\n",
       "      <td>Direct protein sequencing;Membrane;Mitochondri...</td>\n",
       "    </tr>\n",
       "    <tr>\n",
       "      <th>7</th>\n",
       "      <td>A0A0B4J2F2</td>\n",
       "      <td>ATP-binding;Kinase;Magnesium;Metal-binding;Nuc...</td>\n",
       "    </tr>\n",
       "    <tr>\n",
       "      <th>8</th>\n",
       "      <td>A0A0B4KGY6</td>\n",
       "      <td>Alternative splicing;Cytoplasm;mRNA processing...</td>\n",
       "    </tr>\n",
       "    <tr>\n",
       "      <th>9</th>\n",
       "      <td>A0A0B4U9L8</td>\n",
       "      <td>Calcium;Cell adhesion impairing toxin;Direct p...</td>\n",
       "    </tr>\n",
       "  </tbody>\n",
       "</table>\n",
       "</div>"
      ],
      "text/plain": [
       "        Entry                                           Keywords\n",
       "0  A0A024B7W1  3D-structure;4Fe-4S;Activation of host autopha...\n",
       "1  A0A068B6Q6  3D-structure;Acetylcholine receptor inhibiting...\n",
       "2  A0A076FFM5  2Fe-2S;Chloroplast;Cytoplasm;Iron;Iron-sulfur;...\n",
       "3  A0A087X1C5  Cytoplasm;Glycoprotein;Heme;Iron;Membrane;Meta...\n",
       "4  A0A0A1I6E7  Amidation;Antibiotic;Antimicrobial;Cleavage on...\n",
       "5  A0A0A1I6N9  Amidation;Antibiotic;Antimicrobial;Cleavage on...\n",
       "6  A0A0B4J2F0  Direct protein sequencing;Membrane;Mitochondri...\n",
       "7  A0A0B4J2F2  ATP-binding;Kinase;Magnesium;Metal-binding;Nuc...\n",
       "8  A0A0B4KGY6  Alternative splicing;Cytoplasm;mRNA processing...\n",
       "9  A0A0B4U9L8  Calcium;Cell adhesion impairing toxin;Direct p..."
      ]
     },
     "execution_count": 4,
     "metadata": {},
     "output_type": "execute_result"
    }
   ],
   "source": [
    "uniprot.head(10)"
   ]
  },
  {
   "cell_type": "markdown",
   "id": "66b13cc4",
   "metadata": {},
   "source": [
    "Get our KG and all the protein nodes inside. We are getting the KG which includes the test set:"
   ]
  },
  {
   "cell_type": "code",
   "execution_count": 5,
   "id": "08776b4c",
   "metadata": {},
   "outputs": [],
   "source": [
    "KG_DIR = '../data/kg'"
   ]
  },
  {
   "cell_type": "code",
   "execution_count": 6,
   "id": "57a2e289",
   "metadata": {},
   "outputs": [],
   "source": [
    "kg = pd.read_csv(osp.join(KG_DIR, 'final_kg.tsv'), sep='\\t')"
   ]
  },
  {
   "cell_type": "markdown",
   "id": "e6116973",
   "metadata": {},
   "source": [
    "Get the proteins:"
   ]
  },
  {
   "cell_type": "code",
   "execution_count": 7,
   "id": "a145f19b",
   "metadata": {},
   "outputs": [
    {
     "data": {
      "text/plain": [
       "9301"
      ]
     },
     "execution_count": 7,
     "metadata": {},
     "output_type": "execute_result"
    }
   ],
   "source": [
    "target_sets = set(kg[kg['target'].str.startswith('ncbigene')]['target'].tolist())\n",
    "source_sets = set(kg[kg['source'].str.startswith('ncbigene')]['source'].tolist())\n",
    "proteins_in_kg = target_sets.union(source_sets)\n",
    "len(proteins_in_kg)"
   ]
  },
  {
   "cell_type": "markdown",
   "id": "bfa6d9a0",
   "metadata": {},
   "source": [
    "Next, let's get a mapping from UniProt to NCBI gene ID:"
   ]
  },
  {
   "cell_type": "code",
   "execution_count": 8,
   "id": "2f29c6fe",
   "metadata": {},
   "outputs": [],
   "source": [
    "with open(osp.join(MAPPING_DIR, 'uniprot2ncbi.json')) as f:\n",
    "    uniprot2ncbi = json.load(f)"
   ]
  },
  {
   "cell_type": "markdown",
   "id": "32898490",
   "metadata": {},
   "source": [
    "Get the valid protein classes:"
   ]
  },
  {
   "cell_type": "code",
   "execution_count": 9,
   "id": "dbe7617c",
   "metadata": {},
   "outputs": [],
   "source": [
    "valid_keywords = pd.read_csv(\n",
    "    osp.join(MAPPING_DIR, 'molecular_function.tsv'),\n",
    "    sep='\\t',\n",
    ")"
   ]
  },
  {
   "cell_type": "code",
   "execution_count": 10,
   "id": "55616cfb",
   "metadata": {},
   "outputs": [
    {
     "data": {
      "text/html": [
       "<div>\n",
       "<style scoped>\n",
       "    .dataframe tbody tr th:only-of-type {\n",
       "        vertical-align: middle;\n",
       "    }\n",
       "\n",
       "    .dataframe tbody tr th {\n",
       "        vertical-align: top;\n",
       "    }\n",
       "\n",
       "    .dataframe thead th {\n",
       "        text-align: right;\n",
       "    }\n",
       "</style>\n",
       "<table border=\"1\" class=\"dataframe\">\n",
       "  <thead>\n",
       "    <tr style=\"text-align: right;\">\n",
       "      <th></th>\n",
       "      <th>Keyword ID</th>\n",
       "      <th>Name</th>\n",
       "      <th>Category</th>\n",
       "      <th>Gene Ontologies</th>\n",
       "    </tr>\n",
       "  </thead>\n",
       "  <tbody>\n",
       "    <tr>\n",
       "      <th>0</th>\n",
       "      <td>KW-0008</td>\n",
       "      <td>Acetylcholine receptor inhibiting toxin</td>\n",
       "      <td>Molecular function</td>\n",
       "      <td>GO:0030550:acetylcholine receptor inhibitor ac...</td>\n",
       "    </tr>\n",
       "    <tr>\n",
       "      <th>1</th>\n",
       "      <td>KW-0009</td>\n",
       "      <td>Actin-binding</td>\n",
       "      <td>Molecular function</td>\n",
       "      <td>GO:0003779:actin binding</td>\n",
       "    </tr>\n",
       "    <tr>\n",
       "      <th>2</th>\n",
       "      <td>KW-0010</td>\n",
       "      <td>Activator</td>\n",
       "      <td>Molecular function</td>\n",
       "      <td>NaN</td>\n",
       "    </tr>\n",
       "    <tr>\n",
       "      <th>3</th>\n",
       "      <td>KW-0012</td>\n",
       "      <td>Acyltransferase</td>\n",
       "      <td>Molecular function</td>\n",
       "      <td>GO:0016746:acyltransferase activity</td>\n",
       "    </tr>\n",
       "    <tr>\n",
       "      <th>4</th>\n",
       "      <td>KW-0021</td>\n",
       "      <td>Allosteric enzyme</td>\n",
       "      <td>Molecular function</td>\n",
       "      <td>GO:0003824:catalytic activity, GO:0008152:meta...</td>\n",
       "    </tr>\n",
       "    <tr>\n",
       "      <th>...</th>\n",
       "      <td>...</td>\n",
       "      <td>...</td>\n",
       "      <td>...</td>\n",
       "      <td>...</td>\n",
       "    </tr>\n",
       "    <tr>\n",
       "      <th>193</th>\n",
       "      <td>KW-1244</td>\n",
       "      <td>Viral short tail ejection system</td>\n",
       "      <td>Molecular function</td>\n",
       "      <td>GO:0099002:viral genome ejection through host ...</td>\n",
       "    </tr>\n",
       "    <tr>\n",
       "      <th>194</th>\n",
       "      <td>KW-1255</td>\n",
       "      <td>Viral exotoxin</td>\n",
       "      <td>Molecular function</td>\n",
       "      <td>NaN</td>\n",
       "    </tr>\n",
       "    <tr>\n",
       "      <th>195</th>\n",
       "      <td>KW-1265</td>\n",
       "      <td>Chloride channel impairing toxin</td>\n",
       "      <td>Molecular function</td>\n",
       "      <td>NaN</td>\n",
       "    </tr>\n",
       "    <tr>\n",
       "      <th>196</th>\n",
       "      <td>KW-1275</td>\n",
       "      <td>Proton-gated sodium channel impairing toxin</td>\n",
       "      <td>Molecular function</td>\n",
       "      <td>NaN</td>\n",
       "    </tr>\n",
       "    <tr>\n",
       "      <th>197</th>\n",
       "      <td>KW-1278</td>\n",
       "      <td>Translocase</td>\n",
       "      <td>Molecular function</td>\n",
       "      <td>NaN</td>\n",
       "    </tr>\n",
       "  </tbody>\n",
       "</table>\n",
       "<p>198 rows × 4 columns</p>\n",
       "</div>"
      ],
      "text/plain": [
       "    Keyword ID                                         Name  \\\n",
       "0      KW-0008      Acetylcholine receptor inhibiting toxin   \n",
       "1      KW-0009                                Actin-binding   \n",
       "2      KW-0010                                    Activator   \n",
       "3      KW-0012                              Acyltransferase   \n",
       "4      KW-0021                            Allosteric enzyme   \n",
       "..         ...                                          ...   \n",
       "193    KW-1244             Viral short tail ejection system   \n",
       "194    KW-1255                               Viral exotoxin   \n",
       "195    KW-1265             Chloride channel impairing toxin   \n",
       "196    KW-1275  Proton-gated sodium channel impairing toxin   \n",
       "197    KW-1278                                  Translocase   \n",
       "\n",
       "               Category                                    Gene Ontologies  \n",
       "0    Molecular function  GO:0030550:acetylcholine receptor inhibitor ac...  \n",
       "1    Molecular function                           GO:0003779:actin binding  \n",
       "2    Molecular function                                                NaN  \n",
       "3    Molecular function                GO:0016746:acyltransferase activity  \n",
       "4    Molecular function  GO:0003824:catalytic activity, GO:0008152:meta...  \n",
       "..                  ...                                                ...  \n",
       "193  Molecular function  GO:0099002:viral genome ejection through host ...  \n",
       "194  Molecular function                                                NaN  \n",
       "195  Molecular function                                                NaN  \n",
       "196  Molecular function                                                NaN  \n",
       "197  Molecular function                                                NaN  \n",
       "\n",
       "[198 rows x 4 columns]"
      ]
     },
     "execution_count": 10,
     "metadata": {},
     "output_type": "execute_result"
    }
   ],
   "source": [
    "valid_keywords"
   ]
  },
  {
   "cell_type": "code",
   "execution_count": 11,
   "id": "ae48f55f",
   "metadata": {},
   "outputs": [],
   "source": [
    "molecular_functions = valid_keywords.Name.unique()"
   ]
  },
  {
   "cell_type": "markdown",
   "id": "e4943f6c",
   "metadata": {},
   "source": [
    "Now, we'll make a dictionary mapping each of our KG proteins to their protein class (or keywords):"
   ]
  },
  {
   "cell_type": "code",
   "execution_count": 12,
   "id": "a6ec895b",
   "metadata": {},
   "outputs": [
    {
     "name": "stderr",
     "output_type": "stream",
     "text": [
      "100%|██████████| 51790/51790 [00:01<00:00, 26615.96it/s]\n"
     ]
    }
   ],
   "source": [
    "all_keywords = []\n",
    "\n",
    "not_mapped = 0\n",
    "no_keywords = 0\n",
    "\n",
    "protein_to_keywords = {}\n",
    "\n",
    "for prot_name, keywords in tqdm(uniprot.values):\n",
    "    # Map from UniProt to NCBI\n",
    "    if 'UniProt:' + str(prot_name) not in uniprot2ncbi:\n",
    "        not_mapped += 1\n",
    "        continue\n",
    "    \n",
    "    \"\"\"Get keywords\"\"\"\n",
    "    protein_keywords = set()\n",
    "    \n",
    "    for keyword in keywords.split(';'):\n",
    "        \n",
    "        if keyword not in molecular_functions:\n",
    "            continue\n",
    "        \n",
    "        protein_keywords.add(keyword.strip())\n",
    "        all_keywords.append(keyword.strip())\n",
    "        \n",
    "    if not protein_keywords:\n",
    "        no_keywords += 1\n",
    "        continue\n",
    "        \n",
    "    protein_to_keywords[uniprot2ncbi['UniProt:' + str(prot_name)]] = protein_keywords"
   ]
  },
  {
   "cell_type": "code",
   "execution_count": 13,
   "id": "1893e594",
   "metadata": {},
   "outputs": [
    {
     "data": {
      "text/plain": [
       "(11220, 8880, 31690, 130)"
      ]
     },
     "execution_count": 13,
     "metadata": {},
     "output_type": "execute_result"
    }
   ],
   "source": [
    "len(protein_to_keywords), no_keywords, not_mapped, len(set(all_keywords))"
   ]
  },
  {
   "cell_type": "markdown",
   "id": "dfd63292",
   "metadata": {},
   "source": [
    "Which keywords are most common? "
   ]
  },
  {
   "cell_type": "code",
   "execution_count": 14,
   "id": "69c63507",
   "metadata": {},
   "outputs": [],
   "source": [
    "valid_keywords = [\n",
    "    k\n",
    "    for k, c in Counter(all_keywords).items()\n",
    "    if c > 50\n",
    "]"
   ]
  },
  {
   "cell_type": "code",
   "execution_count": 15,
   "id": "32d9f3e8",
   "metadata": {},
   "outputs": [
    {
     "data": {
      "text/plain": [
       "61"
      ]
     },
     "execution_count": 15,
     "metadata": {},
     "output_type": "execute_result"
    }
   ],
   "source": [
    "len(valid_keywords)"
   ]
  },
  {
   "cell_type": "markdown",
   "id": "d1931378",
   "metadata": {},
   "source": [
    "Removing superclasses and keywords with a few proteins"
   ]
  },
  {
   "cell_type": "code",
   "execution_count": 16,
   "id": "67fdc968",
   "metadata": {},
   "outputs": [],
   "source": [
    "protein_to_keywords = {\n",
    "    protein: {\n",
    "        keyword\n",
    "        for keyword in keywords\n",
    "        if keyword in valid_keywords and keyword not in [\n",
    "            'Transducer',\n",
    "            'Serine/threonine-protein kinase',\n",
    "            'Activator',\n",
    "        ]\n",
    "    }\n",
    "    for protein, keywords in protein_to_keywords.items()\n",
    "}"
   ]
  },
  {
   "attachments": {},
   "cell_type": "markdown",
   "id": "70f73cdd",
   "metadata": {},
   "source": [
    "Map the proteins in our KG to Uniprot keywords:"
   ]
  },
  {
   "cell_type": "code",
   "execution_count": 17,
   "id": "d2e15b6a",
   "metadata": {},
   "outputs": [],
   "source": [
    "nodes2keywords = {key: val for key, val in protein_to_keywords.items() if key in proteins_in_kg and len(val) > 0}"
   ]
  },
  {
   "attachments": {},
   "cell_type": "markdown",
   "id": "eaa60f7c",
   "metadata": {},
   "source": [
    "Those which map to classes:"
   ]
  },
  {
   "cell_type": "code",
   "execution_count": 18,
   "id": "1a51f8e2",
   "metadata": {},
   "outputs": [
    {
     "data": {
      "text/plain": [
       "6378"
      ]
     },
     "execution_count": 18,
     "metadata": {},
     "output_type": "execute_result"
    }
   ],
   "source": [
    "len(nodes2keywords)"
   ]
  },
  {
   "attachments": {},
   "cell_type": "markdown",
   "id": "a37c3bc5",
   "metadata": {},
   "source": [
    "Those which don't:"
   ]
  },
  {
   "cell_type": "code",
   "execution_count": 19,
   "id": "29f743bb",
   "metadata": {},
   "outputs": [
    {
     "data": {
      "text/plain": [
       "2923"
      ]
     },
     "execution_count": 19,
     "metadata": {},
     "output_type": "execute_result"
    }
   ],
   "source": [
    "len(proteins_in_kg) - len(nodes2keywords)"
   ]
  },
  {
   "cell_type": "code",
   "execution_count": 20,
   "id": "1e081b65",
   "metadata": {},
   "outputs": [
    {
     "data": {
      "text/plain": [
       "0.6859053752786722"
      ]
     },
     "execution_count": 20,
     "metadata": {},
     "output_type": "execute_result"
    }
   ],
   "source": [
    "2769 / (1268+2769)"
   ]
  },
  {
   "attachments": {},
   "cell_type": "markdown",
   "id": "700a8bd1",
   "metadata": {},
   "source": [
    "Get some further stats:"
   ]
  },
  {
   "cell_type": "code",
   "execution_count": 21,
   "id": "df9e75df",
   "metadata": {},
   "outputs": [],
   "source": [
    "keywords_in_nodes = list()\n",
    "number_of_keywords = dict()\n",
    "for key, val in nodes2keywords.items():\n",
    "    keywords_in_nodes.extend(list(val))\n",
    "    number_of_keywords[key] = len(val)"
   ]
  },
  {
   "attachments": {},
   "cell_type": "markdown",
   "id": "237e5f25",
   "metadata": {},
   "source": [
    "Let's see the most popular classes:"
   ]
  },
  {
   "cell_type": "code",
   "execution_count": 22,
   "id": "9a220a25",
   "metadata": {},
   "outputs": [
    {
     "data": {
      "text/plain": [
       "[('Transferase', 1190),\n",
       " ('Receptor', 1188),\n",
       " ('DNA-binding', 1071),\n",
       " ('Hydrolase', 948),\n",
       " ('G-protein coupled receptor', 681),\n",
       " ('Developmental protein', 498),\n",
       " ('Kinase', 483),\n",
       " ('Oxidoreductase', 393),\n",
       " ('RNA-binding', 387),\n",
       " ('Repressor', 341),\n",
       " ('Ion channel', 234),\n",
       " ('Protease', 232),\n",
       " ('Ribonucleoprotein', 206),\n",
       " ('Chromatin regulator', 170),\n",
       " ('Cytokine', 167),\n",
       " ('Glycosyltransferase', 155),\n",
       " ('Actin-binding', 133),\n",
       " ('Lyase', 129),\n",
       " ('Ribosomal protein', 124),\n",
       " ('Calmodulin-binding', 115),\n",
       " ('Growth factor', 109),\n",
       " ('Chaperone', 107),\n",
       " ('GTPase activation', 98),\n",
       " ('Voltage-gated channel', 95),\n",
       " ('Tyrosine-protein kinase', 95),\n",
       " ('Acyltransferase', 92),\n",
       " ('Ligase', 86),\n",
       " ('Motor protein', 83),\n",
       " ('Isomerase', 81),\n",
       " ('Guanine-nucleotide releasing factor', 79),\n",
       " ('Protein phosphatase', 79),\n",
       " ('Helicase', 78),\n",
       " ('Ligand-gated ion channel', 75),\n",
       " ('Heparin-binding', 75),\n",
       " ('Translocase', 74),\n",
       " ('Hormone', 73),\n",
       " ('Methyltransferase', 72),\n",
       " ('Thiol protease', 70),\n",
       " ('Metalloprotease', 65),\n",
       " ('Nuclease', 63),\n",
       " ('Multifunctional enzyme', 63),\n",
       " ('Host cell receptor for virus entry', 63),\n",
       " ('Monooxygenase', 61),\n",
       " ('Serine protease', 60),\n",
       " ('Nucleotidyltransferase', 58),\n",
       " ('Calcium channel', 56),\n",
       " ('Glycosidase', 52),\n",
       " ('Protease inhibitor', 52),\n",
       " ('Allosteric enzyme', 51),\n",
       " ('Muscle protein', 48),\n",
       " ('Potassium channel', 41),\n",
       " ('Dioxygenase', 41),\n",
       " ('Endonuclease', 38),\n",
       " ('Chloride channel', 34),\n",
       " ('Serine protease inhibitor', 33),\n",
       " ('Antimicrobial', 29),\n",
       " ('Exonuclease', 29),\n",
       " ('Antibiotic', 21)]"
      ]
     },
     "execution_count": 22,
     "metadata": {},
     "output_type": "execute_result"
    }
   ],
   "source": [
    "most_popular = Counter(keywords_in_nodes)\n",
    "most_popular.most_common()"
   ]
  },
  {
   "attachments": {},
   "cell_type": "markdown",
   "id": "1e4443b5",
   "metadata": {},
   "source": [
    "How many classes per protein?"
   ]
  },
  {
   "cell_type": "code",
   "execution_count": null,
   "id": "481d8761",
   "metadata": {},
   "outputs": [],
   "source": [
    "sns.displot(list(number_of_keywords.values()))\n",
    "# add x axis label\n",
    "plt.xlabel(\"Number of protein functional keywords\")\n",
    "# add y axis label\n",
    "plt.ylabel(\"Number of nodes\")"
   ]
  },
  {
   "attachments": {},
   "cell_type": "markdown",
   "id": "7f0f1e88",
   "metadata": {},
   "source": [
    "From those above, we want to reduce the number of keywords. Let's see how many keywords are amongst those with just 1 keyword:"
   ]
  },
  {
   "cell_type": "code",
   "execution_count": 24,
   "id": "5799f788",
   "metadata": {},
   "outputs": [],
   "source": [
    "# get all the protein IDs\n",
    "single_keyword = {key for key, val in number_of_keywords.items() if val == 1}"
   ]
  },
  {
   "cell_type": "code",
   "execution_count": 25,
   "id": "c4fd3433",
   "metadata": {},
   "outputs": [],
   "source": [
    "# and then the corresponding keywords to those proteins\n",
    "kws = set()\n",
    "for key, val in nodes2keywords.items():\n",
    "    if key in single_keyword:\n",
    "        kws.update(val)"
   ]
  },
  {
   "cell_type": "code",
   "execution_count": 26,
   "id": "ca790feb",
   "metadata": {},
   "outputs": [],
   "source": [
    "# now subet nodes2keywords to include only those proteins with a single keyword\n",
    "nodes2keywords = {key: val.intersection(kws) for key, val in nodes2keywords.items() if len(val.intersection(kws)) > 0}"
   ]
  },
  {
   "cell_type": "code",
   "execution_count": 27,
   "id": "ad017e8a",
   "metadata": {},
   "outputs": [
    {
     "data": {
      "text/plain": [
       "6378"
      ]
     },
     "execution_count": 27,
     "metadata": {},
     "output_type": "execute_result"
    }
   ],
   "source": [
    "len(nodes2keywords)"
   ]
  },
  {
   "attachments": {},
   "cell_type": "markdown",
   "id": "66296745",
   "metadata": {},
   "source": [
    "How much of the proteins in the KG does that cover?"
   ]
  },
  {
   "cell_type": "code",
   "execution_count": 28,
   "id": "87cadd6b",
   "metadata": {},
   "outputs": [
    {
     "data": {
      "text/plain": [
       "0.68573271691216"
      ]
     },
     "execution_count": 28,
     "metadata": {},
     "output_type": "execute_result"
    }
   ],
   "source": [
    "len(nodes2keywords) / len(proteins_in_kg)"
   ]
  },
  {
   "cell_type": "code",
   "execution_count": 29,
   "id": "6e900bab",
   "metadata": {},
   "outputs": [
    {
     "data": {
      "text/plain": [
       "28"
      ]
     },
     "execution_count": 29,
     "metadata": {},
     "output_type": "execute_result"
    }
   ],
   "source": [
    "len(kws)"
   ]
  },
  {
   "attachments": {},
   "cell_type": "markdown",
   "id": "9b501ee9",
   "metadata": {},
   "source": [
    "We'll cut these down a bit more to start small:\n",
    "\n",
    "First, get all the proteins connected to drugs or BPS:"
   ]
  },
  {
   "cell_type": "code",
   "execution_count": 30,
   "id": "939bd3be",
   "metadata": {},
   "outputs": [],
   "source": [
    "prots2bps = set(kg.loc[kg['edge_type'] == 'participates']['source'])\n",
    "\n",
    "prots_frm_drugs = set(kg.loc[(kg['edge_type'] == 'upregulates') | (kg['edge_type'] == 'downregulates')]['target'])"
   ]
  },
  {
   "cell_type": "code",
   "execution_count": 31,
   "id": "bd4441db",
   "metadata": {},
   "outputs": [],
   "source": [
    "critical_prots = prots2bps | prots_frm_drugs"
   ]
  },
  {
   "cell_type": "code",
   "execution_count": 32,
   "id": "2e18fb77",
   "metadata": {},
   "outputs": [],
   "source": [
    "# and then the corresponding keywords to those proteins\n",
    "critical_kws = list()\n",
    "kw_freqs = list()\n",
    "for key, val in nodes2keywords.items():\n",
    "        for word in val:\n",
    "            if key in critical_prots:\n",
    "                critical_kws.append(word)\n",
    "            kw_freqs.append(word)"
   ]
  },
  {
   "cell_type": "code",
   "execution_count": 33,
   "id": "1fe902ab",
   "metadata": {},
   "outputs": [],
   "source": [
    "critical_counts = Counter(critical_kws)\n",
    "kw_freqs_counts = Counter(kw_freqs)"
   ]
  },
  {
   "attachments": {},
   "cell_type": "markdown",
   "id": "3dfe98b4",
   "metadata": {},
   "source": [
    "Now, we see what percentage of each class comprises vital proteins:"
   ]
  },
  {
   "cell_type": "code",
   "execution_count": 34,
   "id": "00fb0000",
   "metadata": {},
   "outputs": [],
   "source": [
    "percentages = dict()\n",
    "for key, val in kw_freqs_counts.items():\n",
    "    if key in critical_counts:\n",
    "        percentages[key] = critical_counts[key] / val\n",
    "    else:\n",
    "        percentages[key] = 0"
   ]
  },
  {
   "cell_type": "code",
   "execution_count": 35,
   "id": "629cee0c",
   "metadata": {},
   "outputs": [],
   "source": [
    "percentages = Counter(percentages).most_common()"
   ]
  },
  {
   "cell_type": "code",
   "execution_count": 36,
   "id": "5f811504",
   "metadata": {},
   "outputs": [
    {
     "data": {
      "text/plain": [
       "[('Growth factor', 0.8256880733944955),\n",
       " ('Hormone', 0.821917808219178),\n",
       " ('Heparin-binding', 0.76),\n",
       " ('Protease inhibitor', 0.7307692307692307),\n",
       " ('Cytokine', 0.7245508982035929),\n",
       " ('Ion channel', 0.6495726495726496),\n",
       " ('Chaperone', 0.6355140186915887),\n",
       " ('Translocase', 0.6081081081081081),\n",
       " ('Developmental protein', 0.606425702811245),\n",
       " ('Isomerase', 0.5555555555555556),\n",
       " ('Antimicrobial', 0.5172413793103449),\n",
       " ('Hydrolase', 0.5073839662447257),\n",
       " ('Calmodulin-binding', 0.4956521739130435),\n",
       " ('Repressor', 0.45161290322580644),\n",
       " ('GTPase activation', 0.4489795918367347),\n",
       " ('Oxidoreductase', 0.44529262086513993),\n",
       " ('Guanine-nucleotide releasing factor', 0.43037974683544306),\n",
       " ('Transferase', 0.4226890756302521),\n",
       " ('Lyase', 0.4186046511627907),\n",
       " ('Receptor', 0.398989898989899),\n",
       " ('Chromatin regulator', 0.3764705882352941),\n",
       " ('DNA-binding', 0.3445378151260504),\n",
       " ('Actin-binding', 0.3233082706766917),\n",
       " ('RNA-binding', 0.27648578811369506),\n",
       " ('Motor protein', 0.2289156626506024),\n",
       " ('Muscle protein', 0.1875),\n",
       " ('Ligase', 0.18604651162790697),\n",
       " ('Ribonucleoprotein', 0.14563106796116504)]"
      ]
     },
     "execution_count": 36,
     "metadata": {},
     "output_type": "execute_result"
    }
   ],
   "source": [
    "percentages"
   ]
  },
  {
   "cell_type": "code",
   "execution_count": 37,
   "id": "394ed79c",
   "metadata": {},
   "outputs": [
    {
     "data": {
      "text/plain": [
       "[('Transferase', 1190),\n",
       " ('Receptor', 1188),\n",
       " ('DNA-binding', 1071),\n",
       " ('Hydrolase', 948),\n",
       " ('Developmental protein', 498),\n",
       " ('Oxidoreductase', 393),\n",
       " ('RNA-binding', 387),\n",
       " ('Repressor', 341),\n",
       " ('Ion channel', 234),\n",
       " ('Ribonucleoprotein', 206),\n",
       " ('Chromatin regulator', 170),\n",
       " ('Cytokine', 167),\n",
       " ('Actin-binding', 133),\n",
       " ('Lyase', 129),\n",
       " ('Calmodulin-binding', 115),\n",
       " ('Growth factor', 109),\n",
       " ('Chaperone', 107),\n",
       " ('GTPase activation', 98),\n",
       " ('Ligase', 86),\n",
       " ('Motor protein', 83),\n",
       " ('Isomerase', 81),\n",
       " ('Guanine-nucleotide releasing factor', 79),\n",
       " ('Heparin-binding', 75),\n",
       " ('Translocase', 74),\n",
       " ('Hormone', 73),\n",
       " ('Protease inhibitor', 52),\n",
       " ('Muscle protein', 48),\n",
       " ('Antimicrobial', 29)]"
      ]
     },
     "execution_count": 37,
     "metadata": {},
     "output_type": "execute_result"
    }
   ],
   "source": [
    "kw_freqs_counts.most_common()"
   ]
  },
  {
   "attachments": {},
   "cell_type": "markdown",
   "id": "7ba05562",
   "metadata": {},
   "source": [
    "The code below gets us a good amount, but we'll start with a smaller number to test it out:"
   ]
  },
  {
   "cell_type": "code",
   "execution_count": 38,
   "id": "deefaa03",
   "metadata": {},
   "outputs": [],
   "source": [
    "# keep_kws should be the words in percentages corresponding to those with >80% value\n",
    "#keep_kws = {key for key, val in percentages if val > 0.80 or kw_freqs_counts[key] > 150}\n",
    "#len(keep_kws)"
   ]
  },
  {
   "cell_type": "code",
   "execution_count": 39,
   "id": "94c9f977",
   "metadata": {},
   "outputs": [
    {
     "data": {
      "text/plain": [
       "12"
      ]
     },
     "execution_count": 39,
     "metadata": {},
     "output_type": "execute_result"
    }
   ],
   "source": [
    "# keep_kws should be the words in percentages corresponding to those with >80% value\n",
    "keep_kws = {key for key, val in percentages if val > 0.5}\n",
    "#keep_kws = {key for key, val in kw_freqs_counts.items() if val > 1000}\n",
    "len(keep_kws)"
   ]
  },
  {
   "attachments": {},
   "cell_type": "markdown",
   "id": "cfee1910",
   "metadata": {},
   "source": [
    "Okay, how many do we have left?"
   ]
  },
  {
   "cell_type": "code",
   "execution_count": 40,
   "id": "e8dd9362",
   "metadata": {},
   "outputs": [],
   "source": [
    "# now subet nodes2keywords to include only those proteins with a single keyword\n",
    "nodes2keywords = {key: val.intersection(keep_kws) for key, val in nodes2keywords.items() if len(val.intersection(keep_kws)) > 0}"
   ]
  },
  {
   "cell_type": "code",
   "execution_count": 41,
   "id": "e938557d",
   "metadata": {},
   "outputs": [
    {
     "data": {
      "text/plain": [
       "0.24104934953230836"
      ]
     },
     "execution_count": 41,
     "metadata": {},
     "output_type": "execute_result"
    }
   ],
   "source": [
    "len(nodes2keywords) / len(proteins_in_kg)"
   ]
  },
  {
   "attachments": {},
   "cell_type": "markdown",
   "id": "85b2134c",
   "metadata": {},
   "source": [
    "We still have about a quarter left."
   ]
  },
  {
   "attachments": {},
   "cell_type": "markdown",
   "id": "3588732a",
   "metadata": {},
   "source": [
    "So if we narrow it down to these classes, we still include all the proteins we had before."
   ]
  },
  {
   "cell_type": "code",
   "execution_count": 42,
   "id": "a100f7dc",
   "metadata": {},
   "outputs": [
    {
     "data": {
      "text/plain": [
       "{'Hydrolase': 948,\n",
       " 'Ion channel': 234,\n",
       " 'Developmental protein': 498,\n",
       " 'Cytokine': 167,\n",
       " 'Translocase': 74,\n",
       " 'Chaperone': 107,\n",
       " 'Growth factor': 109,\n",
       " 'Heparin-binding': 75,\n",
       " 'Isomerase': 81,\n",
       " 'Antimicrobial': 29,\n",
       " 'Protease inhibitor': 52,\n",
       " 'Hormone': 73}"
      ]
     },
     "execution_count": 42,
     "metadata": {},
     "output_type": "execute_result"
    }
   ],
   "source": [
    "# get most_popular for only terms for kws\n",
    "keyword_freqs = {key: val for key, val in most_popular.items() if key in keep_kws}\n",
    "keyword_freqs"
   ]
  },
  {
   "attachments": {},
   "cell_type": "markdown",
   "id": "b849240a",
   "metadata": {},
   "source": [
    "Okay, let's get a dictionary mapping proteins in the KG to their class. If they don't map to anything, map them to a generic protein class ('Gene', to keep it consistent with the KG)."
   ]
  },
  {
   "cell_type": "code",
   "execution_count": 43,
   "id": "1e18266c",
   "metadata": {},
   "outputs": [],
   "source": [
    "node2class = dict()\n",
    "no_class_nodes = set()\n",
    "\n",
    "for node in proteins_in_kg: # take away non-critical proteins that don't have a keyword\n",
    "    if node in nodes2keywords:\n",
    "        node2class[node] = list(nodes2keywords[node])\n",
    "    elif node in critical_prots:  \n",
    "        #node2class[node] = ['Gene']\n",
    "        no_class_nodes.add(node)"
   ]
  },
  {
   "cell_type": "code",
   "execution_count": 44,
   "id": "58f60db9",
   "metadata": {},
   "outputs": [
    {
     "data": {
      "text/plain": [
       "7059"
      ]
     },
     "execution_count": 44,
     "metadata": {},
     "output_type": "execute_result"
    }
   ],
   "source": [
    "# get rid of the ones that are neither critical nor have any keywords\n",
    "nodes2remove = set(proteins_in_kg) - set(node2class.keys())\n",
    "len(nodes2remove)"
   ]
  },
  {
   "cell_type": "code",
   "execution_count": 45,
   "id": "114159c5",
   "metadata": {},
   "outputs": [],
   "source": [
    "# write dictionary to json file in MAPPING_DIR\n",
    "with open(osp.join(MAPPING_DIR, 'node2class.json'), 'w') as f:\n",
    "    json.dump(node2class, f, indent=4)"
   ]
  },
  {
   "attachments": {},
   "cell_type": "markdown",
   "id": "83a4a815",
   "metadata": {},
   "source": [
    "## Alter the KG:\n",
    "\n",
    "Now, we want to alter the KG so that we replace rows with the interactions from those limited classes."
   ]
  },
  {
   "cell_type": "code",
   "execution_count": 46,
   "id": "4091da01",
   "metadata": {},
   "outputs": [
    {
     "data": {
      "text/html": [
       "<div>\n",
       "<style scoped>\n",
       "    .dataframe tbody tr th:only-of-type {\n",
       "        vertical-align: middle;\n",
       "    }\n",
       "\n",
       "    .dataframe tbody tr th {\n",
       "        vertical-align: top;\n",
       "    }\n",
       "\n",
       "    .dataframe thead th {\n",
       "        text-align: right;\n",
       "    }\n",
       "</style>\n",
       "<table border=\"1\" class=\"dataframe\">\n",
       "  <thead>\n",
       "    <tr style=\"text-align: right;\">\n",
       "      <th></th>\n",
       "      <th>source</th>\n",
       "      <th>source_node_type</th>\n",
       "      <th>target</th>\n",
       "      <th>target_node_type</th>\n",
       "      <th>edge_type</th>\n",
       "    </tr>\n",
       "  </thead>\n",
       "  <tbody>\n",
       "    <tr>\n",
       "      <th>0</th>\n",
       "      <td>pubchem.compound:10607</td>\n",
       "      <td>Compound</td>\n",
       "      <td>ncbigene:3553</td>\n",
       "      <td>Gene</td>\n",
       "      <td>upregulates</td>\n",
       "    </tr>\n",
       "    <tr>\n",
       "      <th>1</th>\n",
       "      <td>pubchem.compound:10607</td>\n",
       "      <td>Compound</td>\n",
       "      <td>ncbigene:203068</td>\n",
       "      <td>Gene</td>\n",
       "      <td>downregulates</td>\n",
       "    </tr>\n",
       "    <tr>\n",
       "      <th>2</th>\n",
       "      <td>pubchem.compound:10607</td>\n",
       "      <td>Compound</td>\n",
       "      <td>ncbigene:54658</td>\n",
       "      <td>Gene</td>\n",
       "      <td>downregulates</td>\n",
       "    </tr>\n",
       "    <tr>\n",
       "      <th>3</th>\n",
       "      <td>pubchem.compound:10607</td>\n",
       "      <td>Compound</td>\n",
       "      <td>ncbigene:7153</td>\n",
       "      <td>Gene</td>\n",
       "      <td>downregulates</td>\n",
       "    </tr>\n",
       "    <tr>\n",
       "      <th>4</th>\n",
       "      <td>pubchem.compound:10607</td>\n",
       "      <td>Compound</td>\n",
       "      <td>ncbigene:7277</td>\n",
       "      <td>Gene</td>\n",
       "      <td>downregulates</td>\n",
       "    </tr>\n",
       "  </tbody>\n",
       "</table>\n",
       "</div>"
      ],
      "text/plain": [
       "                   source source_node_type           target target_node_type  \\\n",
       "0  pubchem.compound:10607         Compound    ncbigene:3553             Gene   \n",
       "1  pubchem.compound:10607         Compound  ncbigene:203068             Gene   \n",
       "2  pubchem.compound:10607         Compound   ncbigene:54658             Gene   \n",
       "3  pubchem.compound:10607         Compound    ncbigene:7153             Gene   \n",
       "4  pubchem.compound:10607         Compound    ncbigene:7277             Gene   \n",
       "\n",
       "       edge_type  \n",
       "0    upregulates  \n",
       "1  downregulates  \n",
       "2  downregulates  \n",
       "3  downregulates  \n",
       "4  downregulates  "
      ]
     },
     "execution_count": 46,
     "metadata": {},
     "output_type": "execute_result"
    }
   ],
   "source": [
    "kg.head()"
   ]
  },
  {
   "attachments": {},
   "cell_type": "markdown",
   "id": "1b95b292",
   "metadata": {},
   "source": [
    "Change the protein classes:"
   ]
  },
  {
   "cell_type": "code",
   "execution_count": 47,
   "id": "2d52ca2e",
   "metadata": {},
   "outputs": [],
   "source": [
    "new_rows = []"
   ]
  },
  {
   "attachments": {},
   "cell_type": "markdown",
   "id": "5073e45f",
   "metadata": {},
   "source": [
    "Now we add to our new KG:"
   ]
  },
  {
   "cell_type": "code",
   "execution_count": 48,
   "id": "0def9078",
   "metadata": {},
   "outputs": [
    {
     "name": "stderr",
     "output_type": "stream",
     "text": [
      "96569it [00:06, 14362.04it/s]\n"
     ]
    }
   ],
   "source": [
    "for i, row in tqdm(kg.iterrows()):\n",
    "    # first, check whether the nodes are within our node classes:\n",
    "    if row['source'] in nodes2remove or row['target'] in nodes2remove:\n",
    "        continue\n",
    "    # if both match:\n",
    "    elif row['source'] in node2class and row['target'] in node2class:\n",
    "        for combo in list(it.product(node2class[row['source']], node2class[row['target']])):\n",
    "            s_kw, t_kw = combo\n",
    "            kg.loc[i, 'source_node_type'] = s_kw\n",
    "            kg.loc[i, 'target_node_type'] = t_kw\n",
    "            new_rows.append(list(row))\n",
    "    # if just the source is in our dict\n",
    "    elif row['source'] in node2class:\n",
    "        for kw in node2class[row['source']]:\n",
    "            kg.loc[i, 'source_node_type'] = kw\n",
    "            new_rows.append(list(row))\n",
    "    # if just the target is in our dict\n",
    "    elif row['target'] in node2class:\n",
    "        for kw in node2class[row['target']]:\n",
    "            kg.loc[i, 'target_node_type'] = kw\n",
    "            new_rows.append(list(row))\n",
    "    else:\n",
    "        new_rows.append(list(row))"
   ]
  },
  {
   "cell_type": "code",
   "execution_count": 49,
   "id": "d27d3eb0",
   "metadata": {},
   "outputs": [],
   "source": [
    "kg_subclass = pd.DataFrame(new_rows, columns=kg.columns)"
   ]
  },
  {
   "cell_type": "code",
   "execution_count": 50,
   "id": "1ba33074",
   "metadata": {},
   "outputs": [
    {
     "data": {
      "text/html": [
       "<div>\n",
       "<style scoped>\n",
       "    .dataframe tbody tr th:only-of-type {\n",
       "        vertical-align: middle;\n",
       "    }\n",
       "\n",
       "    .dataframe tbody tr th {\n",
       "        vertical-align: top;\n",
       "    }\n",
       "\n",
       "    .dataframe thead th {\n",
       "        text-align: right;\n",
       "    }\n",
       "</style>\n",
       "<table border=\"1\" class=\"dataframe\">\n",
       "  <thead>\n",
       "    <tr style=\"text-align: right;\">\n",
       "      <th></th>\n",
       "      <th>source</th>\n",
       "      <th>source_node_type</th>\n",
       "      <th>target</th>\n",
       "      <th>target_node_type</th>\n",
       "      <th>edge_type</th>\n",
       "    </tr>\n",
       "  </thead>\n",
       "  <tbody>\n",
       "    <tr>\n",
       "      <th>0</th>\n",
       "      <td>pubchem.compound:10607</td>\n",
       "      <td>Compound</td>\n",
       "      <td>ncbigene:3553</td>\n",
       "      <td>Cytokine</td>\n",
       "      <td>upregulates</td>\n",
       "    </tr>\n",
       "    <tr>\n",
       "      <th>1</th>\n",
       "      <td>pubchem.compound:10607</td>\n",
       "      <td>Compound</td>\n",
       "      <td>ncbigene:7153</td>\n",
       "      <td>Isomerase</td>\n",
       "      <td>downregulates</td>\n",
       "    </tr>\n",
       "    <tr>\n",
       "      <th>2</th>\n",
       "      <td>pubchem.compound:10607</td>\n",
       "      <td>Compound</td>\n",
       "      <td>ncbigene:7277</td>\n",
       "      <td>Hydrolase</td>\n",
       "      <td>downregulates</td>\n",
       "    </tr>\n",
       "    <tr>\n",
       "      <th>3</th>\n",
       "      <td>pubchem.compound:10635</td>\n",
       "      <td>Compound</td>\n",
       "      <td>ncbigene:10257</td>\n",
       "      <td>Translocase</td>\n",
       "      <td>upregulates</td>\n",
       "    </tr>\n",
       "    <tr>\n",
       "      <th>4</th>\n",
       "      <td>pubchem.compound:10635</td>\n",
       "      <td>Compound</td>\n",
       "      <td>ncbigene:354</td>\n",
       "      <td>Hydrolase</td>\n",
       "      <td>upregulates</td>\n",
       "    </tr>\n",
       "  </tbody>\n",
       "</table>\n",
       "</div>"
      ],
      "text/plain": [
       "                   source source_node_type          target target_node_type  \\\n",
       "0  pubchem.compound:10607         Compound   ncbigene:3553         Cytokine   \n",
       "1  pubchem.compound:10607         Compound   ncbigene:7153        Isomerase   \n",
       "2  pubchem.compound:10607         Compound   ncbigene:7277        Hydrolase   \n",
       "3  pubchem.compound:10635         Compound  ncbigene:10257      Translocase   \n",
       "4  pubchem.compound:10635         Compound    ncbigene:354        Hydrolase   \n",
       "\n",
       "       edge_type  \n",
       "0    upregulates  \n",
       "1  downregulates  \n",
       "2  downregulates  \n",
       "3    upregulates  \n",
       "4    upregulates  "
      ]
     },
     "execution_count": 50,
     "metadata": {},
     "output_type": "execute_result"
    }
   ],
   "source": [
    "kg_subclass.head()"
   ]
  },
  {
   "cell_type": "code",
   "execution_count": 51,
   "id": "eae081e2",
   "metadata": {},
   "outputs": [
    {
     "data": {
      "text/plain": [
       "source_node_type\n",
       "Compound                 3358\n",
       "Developmental protein    3331\n",
       "Hydrolase                1858\n",
       "Growth factor            1331\n",
       "Cytokine                 1036\n",
       "Heparin-binding           579\n",
       "Hormone                   494\n",
       "Ion channel               427\n",
       "Protease inhibitor        290\n",
       "Chaperone                 220\n",
       "Translocase               126\n",
       "Isomerase                 103\n",
       "Antimicrobial              44\n",
       "Name: count, dtype: int64"
      ]
     },
     "execution_count": 51,
     "metadata": {},
     "output_type": "execute_result"
    }
   ],
   "source": [
    "kg_subclass['source_node_type'].value_counts()"
   ]
  },
  {
   "cell_type": "code",
   "execution_count": 52,
   "id": "d81590d7",
   "metadata": {},
   "outputs": [
    {
     "data": {
      "text/plain": [
       "edge_type\n",
       "interacts        8011\n",
       "participates     1828\n",
       "induces          1622\n",
       "downregulates     985\n",
       "upregulates       751\n",
       "Name: count, dtype: int64"
      ]
     },
     "execution_count": 52,
     "metadata": {},
     "output_type": "execute_result"
    }
   ],
   "source": [
    "kg_subclass['edge_type'].value_counts()"
   ]
  },
  {
   "cell_type": "code",
   "execution_count": 53,
   "id": "f6c9e81c",
   "metadata": {},
   "outputs": [],
   "source": [
    "kg_subclass.to_csv(osp.join(KG_DIR, 'final_kg_subclassed.tsv'), sep='\\t', index=False)"
   ]
  },
  {
   "cell_type": "code",
   "execution_count": null,
   "id": "9337c880",
   "metadata": {},
   "outputs": [],
   "source": []
  }
 ],
 "metadata": {
  "kernelspec": {
   "display_name": "moanet_env",
   "language": "python",
   "name": "python3"
  },
  "language_info": {
   "codemirror_mode": {
    "name": "ipython",
    "version": 3
   },
   "file_extension": ".py",
   "mimetype": "text/x-python",
   "name": "python",
   "nbconvert_exporter": "python",
   "pygments_lexer": "ipython3",
   "version": "3.10.13"
  }
 },
 "nbformat": 4,
 "nbformat_minor": 5
}
