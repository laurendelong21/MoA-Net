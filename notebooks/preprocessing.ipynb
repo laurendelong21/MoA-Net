{
 "cells": [
  {
   "attachments": {},
   "cell_type": "markdown",
   "metadata": {},
   "source": [
    "# Notebook to extract base networks from raw data."
   ]
  },
  {
   "cell_type": "code",
   "execution_count": 1,
   "metadata": {
    "pycharm": {
     "is_executing": true
    }
   },
   "outputs": [],
   "source": [
    "import pandas as pd\n",
    "from tqdm import tqdm"
   ]
  },
  {
   "cell_type": "code",
   "execution_count": 2,
   "metadata": {},
   "outputs": [],
   "source": [
    "KG_DIR = '../data/kg'"
   ]
  },
  {
   "attachments": {},
   "cell_type": "markdown",
   "metadata": {},
   "source": [
    "# Load raw kg\n",
    "\n",
    "Loading the KG from [drug2ways](https://github.com/drug2ways/results/tree/master) resource"
   ]
  },
  {
   "cell_type": "code",
   "execution_count": 3,
   "metadata": {
    "collapsed": false
   },
   "outputs": [
    {
     "data": {
      "text/html": [
       "<div>\n",
       "<style scoped>\n",
       "    .dataframe tbody tr th:only-of-type {\n",
       "        vertical-align: middle;\n",
       "    }\n",
       "\n",
       "    .dataframe tbody tr th {\n",
       "        vertical-align: top;\n",
       "    }\n",
       "\n",
       "    .dataframe thead th {\n",
       "        text-align: right;\n",
       "    }\n",
       "</style>\n",
       "<table border=\"1\" class=\"dataframe\">\n",
       "  <thead>\n",
       "    <tr style=\"text-align: right;\">\n",
       "      <th></th>\n",
       "      <th>source</th>\n",
       "      <th>target</th>\n",
       "      <th>relation</th>\n",
       "    </tr>\n",
       "  </thead>\n",
       "  <tbody>\n",
       "    <tr>\n",
       "      <th>0</th>\n",
       "      <td>PUBCHEM.COMPOUND:1</td>\n",
       "      <td>NCBIGENE:3162</td>\n",
       "      <td>1</td>\n",
       "    </tr>\n",
       "    <tr>\n",
       "      <th>1</th>\n",
       "      <td>PUBCHEM.COMPOUND:1</td>\n",
       "      <td>NCBIGENE:3308</td>\n",
       "      <td>1</td>\n",
       "    </tr>\n",
       "  </tbody>\n",
       "</table>\n",
       "</div>"
      ],
      "text/plain": [
       "               source         target  relation\n",
       "0  PUBCHEM.COMPOUND:1  NCBIGENE:3162         1\n",
       "1  PUBCHEM.COMPOUND:1  NCBIGENE:3308         1"
      ]
     },
     "execution_count": 3,
     "metadata": {},
     "output_type": "execute_result"
    }
   ],
   "source": [
    "openbiolink_df = pd.read_csv(\n",
    "    'https://raw.githubusercontent.com/drug2ways/results/master/networks/data/openbiolink_network.tsv', sep='\\t'\n",
    ")\n",
    "openbiolink_df.head(2)"
   ]
  },
  {
   "cell_type": "code",
   "execution_count": 4,
   "metadata": {},
   "outputs": [
    {
     "data": {
      "text/html": [
       "<div>\n",
       "<style scoped>\n",
       "    .dataframe tbody tr th:only-of-type {\n",
       "        vertical-align: middle;\n",
       "    }\n",
       "\n",
       "    .dataframe tbody tr th {\n",
       "        vertical-align: top;\n",
       "    }\n",
       "\n",
       "    .dataframe thead th {\n",
       "        text-align: right;\n",
       "    }\n",
       "</style>\n",
       "<table border=\"1\" class=\"dataframe\">\n",
       "  <thead>\n",
       "    <tr style=\"text-align: right;\">\n",
       "      <th></th>\n",
       "      <th>source</th>\n",
       "      <th>target</th>\n",
       "      <th>relation</th>\n",
       "      <th>source_database</th>\n",
       "    </tr>\n",
       "  </thead>\n",
       "  <tbody>\n",
       "    <tr>\n",
       "      <th>0</th>\n",
       "      <td>drugbank:DB00818</td>\n",
       "      <td>HGNC:4083</td>\n",
       "      <td>1</td>\n",
       "      <td>drugbank</td>\n",
       "    </tr>\n",
       "    <tr>\n",
       "      <th>1</th>\n",
       "      <td>drugbank:DB00139</td>\n",
       "      <td>HGNC:408</td>\n",
       "      <td>-1</td>\n",
       "      <td>drugbank</td>\n",
       "    </tr>\n",
       "  </tbody>\n",
       "</table>\n",
       "</div>"
      ],
      "text/plain": [
       "             source     target  relation source_database\n",
       "0  drugbank:DB00818  HGNC:4083         1        drugbank\n",
       "1  drugbank:DB00139   HGNC:408        -1        drugbank"
      ]
     },
     "execution_count": 4,
     "metadata": {},
     "output_type": "execute_result"
    }
   ],
   "source": [
    "custom_df = pd.read_csv(\n",
    "    'https://raw.githubusercontent.com/drug2ways/results/master/networks/data/custom_network.tsv', sep='\\t'\n",
    ")\n",
    "custom_df.head(2)"
   ]
  },
  {
   "attachments": {},
   "cell_type": "markdown",
   "metadata": {},
   "source": [
    "# Subsetting only drug-protein and protein-protein edges\n",
    "\n",
    "Openbiolink has PUBCHEM.COMPOUND ids as drugs and NCBIGENE ids as proteins while CustomKg has drugbank and HGNC ids for compounds and genes respectively."
   ]
  },
  {
   "cell_type": "code",
   "execution_count": 5,
   "metadata": {},
   "outputs": [
    {
     "data": {
      "text/plain": [
       "((32761, 3), (39154, 3))"
      ]
     },
     "execution_count": 5,
     "metadata": {},
     "output_type": "execute_result"
    }
   ],
   "source": [
    "openbiolink_drug_edges = openbiolink_df[\n",
    "    (openbiolink_df['source'].str.contains('PUBCHEM.COMPOUND')) & (openbiolink_df['target'].str.contains('NCBIGENE'))\n",
    "]\n",
    "\n",
    "openbiolink_pp_edges = openbiolink_df[\n",
    "    (openbiolink_df['source'].str.contains('NCBIGENE')) & (openbiolink_df['target'].str.contains('NCBIGENE'))\n",
    "]\n",
    "\n",
    "openbiolink_drug_edges.shape, openbiolink_pp_edges.shape"
   ]
  },
  {
   "cell_type": "code",
   "execution_count": 6,
   "metadata": {},
   "outputs": [
    {
     "data": {
      "text/plain": [
       "((4673, 4), (50764, 4))"
      ]
     },
     "execution_count": 6,
     "metadata": {},
     "output_type": "execute_result"
    }
   ],
   "source": [
    "custom_drug_edges = custom_df[\n",
    "    (custom_df['source'].str.contains('drugbank')) & (custom_df['target'].str.contains('HGNC'))\n",
    "]\n",
    "\n",
    "custom_pp_edges = custom_df[\n",
    "    (custom_df['source'].str.contains('HGNC')) & (custom_df['target'].str.contains('HGNC'))\n",
    "]\n",
    "\n",
    "custom_drug_edges.shape, custom_pp_edges.shape"
   ]
  },
  {
   "attachments": {},
   "cell_type": "markdown",
   "metadata": {},
   "source": [
    "# Saving the subset graph"
   ]
  },
  {
   "cell_type": "code",
   "execution_count": 7,
   "metadata": {},
   "outputs": [],
   "source": [
    "openbiolink_filtered = pd.concat([openbiolink_drug_edges, openbiolink_pp_edges])\n",
    "custom_filtered = pd.concat([custom_drug_edges, custom_pp_edges])"
   ]
  },
  {
   "cell_type": "code",
   "execution_count": 8,
   "metadata": {},
   "outputs": [],
   "source": [
    "openbiolink_filtered.to_csv(f'{KG_DIR}/openbiolink_filtered.tsv', sep='\\t', index=False)\n",
    "custom_filtered.to_csv(f'{KG_DIR}/customkg_filtered.tsv', sep='\\t', index=False)"
   ]
  }
 ],
 "metadata": {
  "kernelspec": {
   "display_name": "neurosym",
   "language": "python",
   "name": "neurosym"
  },
  "language_info": {
   "codemirror_mode": {
    "name": "ipython",
    "version": 3
   },
   "file_extension": ".py",
   "mimetype": "text/x-python",
   "name": "python",
   "nbconvert_exporter": "python",
   "pygments_lexer": "ipython3",
   "version": "3.8.3"
  },
  "orig_nbformat": 4
 },
 "nbformat": 4,
 "nbformat_minor": 2
}
