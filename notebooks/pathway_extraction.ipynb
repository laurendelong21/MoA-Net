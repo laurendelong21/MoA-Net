{
 "cells": [
  {
   "cell_type": "markdown",
   "metadata": {},
   "source": [
    "# Reactome Pathway Extraction\n",
    "\n",
    "To impose the penalty for crossing Reactome Pathways, we extract those pathways here and subset the graph accordingly."
   ]
  },
  {
   "cell_type": "code",
   "execution_count": 1,
   "metadata": {},
   "outputs": [],
   "source": [
    "import pandas as pd\n",
    "import requests\n",
    "import numpy as np\n",
    "import os.path as osp\n",
    "import itertools"
   ]
  },
  {
   "cell_type": "markdown",
   "metadata": {},
   "source": [
    "First, let's get data from Reactome:"
   ]
  },
  {
   "cell_type": "code",
   "execution_count": 2,
   "metadata": {},
   "outputs": [],
   "source": [
    "# write code which gets the file from a raw github link\n",
    "# and separates each line by whitespace\n",
    "# and then creates a dictionary where the key is the first item, and the values are a list of the rest of the items\n",
    "\n",
    "\n",
    "def get_file_from_github(url):\n",
    "    \"\"\"\n",
    "    Gets a file from a raw github link\n",
    "    \"\"\"\n",
    "    \n",
    "    r = requests.get(url)\n",
    "    return r.text"
   ]
  },
  {
   "cell_type": "code",
   "execution_count": 3,
   "metadata": {},
   "outputs": [],
   "source": [
    "url = 'https://raw.githubusercontent.com/pathwayforte/pathway-forte/master/data/gmt_files/reactome.gmt'\n",
    "\n",
    "r = requests.get(url)\n",
    "# get the text from the response in a tab-delimited format\n",
    "\n",
    "content = r.text\n",
    "\n",
    "lines = content.split('\\n')  # Split by newline\n",
    "data = [line.split('\\t') for line in lines]"
   ]
  },
  {
   "cell_type": "markdown",
   "metadata": {},
   "source": [
    "The first tow items of the list are the pathway ID and the database (reactome). The rest of the items are the genes in the pathway. We'll just get those."
   ]
  },
  {
   "cell_type": "code",
   "execution_count": 4,
   "metadata": {},
   "outputs": [],
   "source": [
    "parsed_data = dict()\n",
    "for d in data:\n",
    "    if len(d) > 2:\n",
    "        parsed_data[d[0]] = d[2::]"
   ]
  },
  {
   "cell_type": "markdown",
   "metadata": {},
   "source": [
    "We'll take the four longest lists (the top 4 biggest pathways/subgraphs)"
   ]
  },
  {
   "cell_type": "code",
   "execution_count": 5,
   "metadata": {},
   "outputs": [],
   "source": [
    "# Sort dictionary items by list length in descending order\n",
    "sorted_data = sorted(parsed_data.items(), key=lambda item: len(item[1]), reverse=True)\n",
    "\n",
    "# Get the longest 5 lists\n",
    "longest_lists = dict(sorted_data[:4])"
   ]
  },
  {
   "cell_type": "code",
   "execution_count": 6,
   "metadata": {},
   "outputs": [
    {
     "data": {
      "text/plain": [
       "dict_keys(['R-HSA-162582', 'R-HSA-168256', 'R-HSA-1430728', 'R-HSA-392499'])"
      ]
     },
     "execution_count": 6,
     "metadata": {},
     "output_type": "execute_result"
    }
   ],
   "source": [
    "longest_lists.keys()"
   ]
  },
  {
   "cell_type": "markdown",
   "metadata": {},
   "source": [
    "These are:\n",
    "\n",
    "- R-HSA-162582 : Signal Transduction\n",
    "- R-HSA-168256: Immune System\n",
    "- R-HSA-1430728: Metabolism\n",
    "- R-HSA-392499: Metabolism of proteins\n",
    "\n",
    "Let's see how many of these proteins are in the KG we made:"
   ]
  },
  {
   "cell_type": "code",
   "execution_count": 7,
   "metadata": {},
   "outputs": [],
   "source": [
    "proteins_in_pathways = {prot for lst in longest_lists.values() for prot in lst}"
   ]
  },
  {
   "cell_type": "code",
   "execution_count": 8,
   "metadata": {},
   "outputs": [
    {
     "name": "stdout",
     "output_type": "stream",
     "text": [
      "7125 unique proteins in these pathways.\n"
     ]
    }
   ],
   "source": [
    "print(f\"{len(proteins_in_pathways)} unique proteins in these pathways.\")"
   ]
  },
  {
   "cell_type": "markdown",
   "metadata": {},
   "source": [
    "## Protein / gene ID Mapping\n",
    "\n",
    "Let's map these to NCBI gene IDs based on a download from the [HGNC download page](https://www.genenames.org/)."
   ]
  },
  {
   "cell_type": "code",
   "execution_count": 9,
   "metadata": {},
   "outputs": [
    {
     "data": {
      "text/html": [
       "<div>\n",
       "<style scoped>\n",
       "    .dataframe tbody tr th:only-of-type {\n",
       "        vertical-align: middle;\n",
       "    }\n",
       "\n",
       "    .dataframe tbody tr th {\n",
       "        vertical-align: top;\n",
       "    }\n",
       "\n",
       "    .dataframe thead th {\n",
       "        text-align: right;\n",
       "    }\n",
       "</style>\n",
       "<table border=\"1\" class=\"dataframe\">\n",
       "  <thead>\n",
       "    <tr style=\"text-align: right;\">\n",
       "      <th></th>\n",
       "      <th>Approved symbol</th>\n",
       "      <th>NCBI Gene ID(supplied by NCBI)</th>\n",
       "    </tr>\n",
       "  </thead>\n",
       "  <tbody>\n",
       "    <tr>\n",
       "      <th>0</th>\n",
       "      <td>A1BG</td>\n",
       "      <td>1</td>\n",
       "    </tr>\n",
       "    <tr>\n",
       "      <th>1</th>\n",
       "      <td>A1BG-AS1</td>\n",
       "      <td>503538</td>\n",
       "    </tr>\n",
       "  </tbody>\n",
       "</table>\n",
       "</div>"
      ],
      "text/plain": [
       "  Approved symbol NCBI Gene ID(supplied by NCBI)\n",
       "0            A1BG                              1\n",
       "1        A1BG-AS1                         503538"
      ]
     },
     "execution_count": 9,
     "metadata": {},
     "output_type": "execute_result"
    }
   ],
   "source": [
    "mapping_file = 's3://enveda-datascience/lauren/gene_symbol_to_ncbi.txt'\n",
    "\n",
    "name2ncbi = pd.read_csv(\n",
    "    mapping_file, \n",
    "    sep='\\t',\n",
    "    usecols=['Approved symbol', 'NCBI Gene ID(supplied by NCBI)'],\n",
    "    dtype=str,\n",
    ")\n",
    "name2ncbi.dropna(subset=['Approved symbol'], inplace=True)\n",
    "name2ncbi.head(2)"
   ]
  },
  {
   "cell_type": "code",
   "execution_count": 10,
   "metadata": {},
   "outputs": [],
   "source": [
    "name2ncbi = {row['Approved symbol']: row['NCBI Gene ID(supplied by NCBI)'] for i, row in name2ncbi.iterrows()}"
   ]
  },
  {
   "cell_type": "code",
   "execution_count": 11,
   "metadata": {},
   "outputs": [],
   "source": [
    "ncbigenes_in_pathways = {f'ncbigene:{name2ncbi[p]}' for p in proteins_in_pathways if p in name2ncbi}"
   ]
  },
  {
   "cell_type": "code",
   "execution_count": 12,
   "metadata": {},
   "outputs": [
    {
     "name": "stdout",
     "output_type": "stream",
     "text": [
      "7096 of those mapped to NCBI IDs.\n"
     ]
    }
   ],
   "source": [
    "print(f\"{len(ncbigenes_in_pathways)} of those mapped to NCBI IDs.\")"
   ]
  },
  {
   "cell_type": "markdown",
   "metadata": {},
   "source": [
    "Now load in the KG and get all of those proteins:"
   ]
  },
  {
   "cell_type": "code",
   "execution_count": 13,
   "metadata": {},
   "outputs": [],
   "source": [
    "KG_DIR = '../data/kg'"
   ]
  },
  {
   "cell_type": "code",
   "execution_count": 14,
   "metadata": {},
   "outputs": [],
   "source": [
    "kg = pd.read_csv(osp.join(KG_DIR, 'final_kg.tsv'), sep='\\t')"
   ]
  },
  {
   "cell_type": "code",
   "execution_count": 15,
   "metadata": {},
   "outputs": [
    {
     "data": {
      "text/html": [
       "<div>\n",
       "<style scoped>\n",
       "    .dataframe tbody tr th:only-of-type {\n",
       "        vertical-align: middle;\n",
       "    }\n",
       "\n",
       "    .dataframe tbody tr th {\n",
       "        vertical-align: top;\n",
       "    }\n",
       "\n",
       "    .dataframe thead th {\n",
       "        text-align: right;\n",
       "    }\n",
       "</style>\n",
       "<table border=\"1\" class=\"dataframe\">\n",
       "  <thead>\n",
       "    <tr style=\"text-align: right;\">\n",
       "      <th></th>\n",
       "      <th>source</th>\n",
       "      <th>source_node_type</th>\n",
       "      <th>target</th>\n",
       "      <th>target_node_type</th>\n",
       "      <th>edge_type</th>\n",
       "    </tr>\n",
       "  </thead>\n",
       "  <tbody>\n",
       "    <tr>\n",
       "      <th>0</th>\n",
       "      <td>pubchem.compound:10607</td>\n",
       "      <td>Compound</td>\n",
       "      <td>ncbigene:3553</td>\n",
       "      <td>Gene</td>\n",
       "      <td>upregulates</td>\n",
       "    </tr>\n",
       "    <tr>\n",
       "      <th>1</th>\n",
       "      <td>pubchem.compound:10607</td>\n",
       "      <td>Compound</td>\n",
       "      <td>ncbigene:203068</td>\n",
       "      <td>Gene</td>\n",
       "      <td>downregulates</td>\n",
       "    </tr>\n",
       "    <tr>\n",
       "      <th>2</th>\n",
       "      <td>pubchem.compound:10607</td>\n",
       "      <td>Compound</td>\n",
       "      <td>ncbigene:54658</td>\n",
       "      <td>Gene</td>\n",
       "      <td>downregulates</td>\n",
       "    </tr>\n",
       "    <tr>\n",
       "      <th>3</th>\n",
       "      <td>pubchem.compound:10607</td>\n",
       "      <td>Compound</td>\n",
       "      <td>ncbigene:7153</td>\n",
       "      <td>Gene</td>\n",
       "      <td>downregulates</td>\n",
       "    </tr>\n",
       "    <tr>\n",
       "      <th>4</th>\n",
       "      <td>pubchem.compound:10607</td>\n",
       "      <td>Compound</td>\n",
       "      <td>ncbigene:7277</td>\n",
       "      <td>Gene</td>\n",
       "      <td>downregulates</td>\n",
       "    </tr>\n",
       "  </tbody>\n",
       "</table>\n",
       "</div>"
      ],
      "text/plain": [
       "                   source source_node_type           target target_node_type  \\\n",
       "0  pubchem.compound:10607         Compound    ncbigene:3553             Gene   \n",
       "1  pubchem.compound:10607         Compound  ncbigene:203068             Gene   \n",
       "2  pubchem.compound:10607         Compound   ncbigene:54658             Gene   \n",
       "3  pubchem.compound:10607         Compound    ncbigene:7153             Gene   \n",
       "4  pubchem.compound:10607         Compound    ncbigene:7277             Gene   \n",
       "\n",
       "       edge_type  \n",
       "0    upregulates  \n",
       "1  downregulates  \n",
       "2  downregulates  \n",
       "3  downregulates  \n",
       "4  downregulates  "
      ]
     },
     "execution_count": 15,
     "metadata": {},
     "output_type": "execute_result"
    }
   ],
   "source": [
    "kg.head()"
   ]
  },
  {
   "cell_type": "code",
   "execution_count": 16,
   "metadata": {},
   "outputs": [
    {
     "data": {
      "text/plain": [
       "9301"
      ]
     },
     "execution_count": 16,
     "metadata": {},
     "output_type": "execute_result"
    }
   ],
   "source": [
    "target_sets = set(kg[kg['target'].str.startswith('ncbigene')]['target'].tolist())\n",
    "source_sets = set(kg[kg['source'].str.startswith('ncbigene')]['source'].tolist())\n",
    "proteins_in_kg = target_sets.union(source_sets)\n",
    "len(proteins_in_kg)"
   ]
  },
  {
   "cell_type": "code",
   "execution_count": 17,
   "metadata": {},
   "outputs": [
    {
     "data": {
      "text/plain": [
       "5462"
      ]
     },
     "execution_count": 17,
     "metadata": {},
     "output_type": "execute_result"
    }
   ],
   "source": [
    "len(ncbigenes_in_pathways & proteins_in_kg)"
   ]
  },
  {
   "cell_type": "code",
   "execution_count": 18,
   "metadata": {},
   "outputs": [
    {
     "name": "stdout",
     "output_type": "stream",
     "text": [
      "58.72486829373186% of proteins are covered by these subgraphs.\n"
     ]
    }
   ],
   "source": [
    "print(f'{len(ncbigenes_in_pathways & proteins_in_kg)/len(proteins_in_kg)*100}% of proteins are covered by these subgraphs.')"
   ]
  },
  {
   "cell_type": "markdown",
   "metadata": {},
   "source": [
    "How much of an overlap do we have between subgraphs / pathways?"
   ]
  },
  {
   "cell_type": "code",
   "execution_count": 19,
   "metadata": {},
   "outputs": [
    {
     "name": "stdout",
     "output_type": "stream",
     "text": [
      "16.295781177561427% overlap between R-HSA-162582 and R-HSA-168256\n",
      "6.351263771872976% overlap between R-HSA-162582 and R-HSA-1430728\n",
      "9.372156505914468% overlap between R-HSA-162582 and R-HSA-392499\n",
      "6.029411764705882% overlap between R-HSA-168256 and R-HSA-1430728\n",
      "12.925717350496111% overlap between R-HSA-168256 and R-HSA-392499\n",
      "8.62796833773087% overlap between R-HSA-1430728 and R-HSA-392499\n"
     ]
    }
   ],
   "source": [
    "don = set()\n",
    "overlap_dict = dict()\n",
    "\n",
    "for key, val in longest_lists.items():\n",
    "    for key2, val2 in longest_lists.items():\n",
    "        if key == key2 or (key, key2) in don or (key2, key) in don:\n",
    "            continue\n",
    "        don.add((key, key2))\n",
    "        don.add((key2, key))\n",
    "        overlap = len((set(val) & set(val2))) / len(set(val).union(set(val2)))\n",
    "        overlap_dict[(key, key2)] = overlap\n",
    "        print(f'{overlap*100}% overlap between {key} and {key2}')"
   ]
  },
  {
   "cell_type": "markdown",
   "metadata": {},
   "source": [
    "## Subset the KG\n",
    "\n",
    "Next, let's subset our KG and see how many of our drug-BP labels we have left."
   ]
  },
  {
   "cell_type": "code",
   "execution_count": 20,
   "metadata": {},
   "outputs": [],
   "source": [
    "filtered_kg = kg.loc[(kg['source_node_type'] != 'Gene') | (kg['source'].isin(ncbigenes_in_pathways))]\n",
    "filtered_kg = filtered_kg.loc[(filtered_kg['target_node_type'] != 'Gene') | (filtered_kg['target'].isin(ncbigenes_in_pathways))]"
   ]
  },
  {
   "cell_type": "code",
   "execution_count": 21,
   "metadata": {},
   "outputs": [
    {
     "name": "stdout",
     "output_type": "stream",
     "text": [
      "Dropped 28329 edges.\n",
      "That's 29.2727535752666% of the original graph.\n"
     ]
    }
   ],
   "source": [
    "print(f\"Dropped {len(kg) - len(filtered_kg)} edges.\")\n",
    "print(f\"That's {(len(kg) - len(filtered_kg)) / len(kg) * 100}% of the original graph.\")"
   ]
  },
  {
   "cell_type": "markdown",
   "metadata": {},
   "source": [
    "Have we lost any drug-BP edges?"
   ]
  },
  {
   "cell_type": "code",
   "execution_count": 23,
   "metadata": {},
   "outputs": [
    {
     "data": {
      "text/plain": [
       "1803"
      ]
     },
     "execution_count": 23,
     "metadata": {},
     "output_type": "execute_result"
    }
   ],
   "source": [
    "len(filtered_kg.loc[filtered_kg['edge_type'] == 'induces'])"
   ]
  },
  {
   "cell_type": "code",
   "execution_count": 24,
   "metadata": {},
   "outputs": [
    {
     "data": {
      "text/plain": [
       "1803"
      ]
     },
     "execution_count": 24,
     "metadata": {},
     "output_type": "execute_result"
    }
   ],
   "source": [
    "len(kg.loc[kg['edge_type'] == 'induces'])"
   ]
  },
  {
   "cell_type": "markdown",
   "metadata": {},
   "source": [
    "We actually have all of our drug-BP pairs left. Are all of the proteins connected to these drugs and BPs actually connected to the rest of the network still?"
   ]
  },
  {
   "cell_type": "code",
   "execution_count": 25,
   "metadata": {},
   "outputs": [],
   "source": [
    "# get the proteins connected to other proteins\n",
    "prots_connected = set()\n",
    "for i, row in filtered_kg.loc[filtered_kg['edge_type'] == 'interacts'].iterrows():\n",
    "    prots_connected.add(row['source'])\n",
    "    prots_connected.add(row['target'])"
   ]
  },
  {
   "cell_type": "code",
   "execution_count": 26,
   "metadata": {},
   "outputs": [],
   "source": [
    "# get the BP nodes connected to a protein, which is connected to other proteins\n",
    "bp_nodes = {row['target'] for i, row in filtered_kg.loc[filtered_kg['edge_type'] == 'participates'].iterrows() if row['source'] in prots_connected}\n",
    "# get the drug nodes connected to a protein, which is connected to other proteins\n",
    "drug_nodes = {row['source'] for i, row in filtered_kg.loc[filtered_kg['edge_type'].isin({'downregulates', 'upregulates'})].iterrows() if row['target'] in prots_connected}"
   ]
  },
  {
   "cell_type": "code",
   "execution_count": 27,
   "metadata": {},
   "outputs": [],
   "source": [
    "drugbp_pairs = filtered_kg.loc[filtered_kg['edge_type'] == 'induces']"
   ]
  },
  {
   "cell_type": "code",
   "execution_count": 28,
   "metadata": {},
   "outputs": [
    {
     "data": {
      "text/plain": [
       "1803"
      ]
     },
     "execution_count": 28,
     "metadata": {},
     "output_type": "execute_result"
    }
   ],
   "source": [
    "len(drugbp_pairs)"
   ]
  },
  {
   "cell_type": "code",
   "execution_count": 41,
   "metadata": {},
   "outputs": [
    {
     "data": {
      "text/plain": [
       "1705"
      ]
     },
     "execution_count": 41,
     "metadata": {},
     "output_type": "execute_result"
    }
   ],
   "source": [
    "drug_bp_pairs = drugbp_pairs.loc[(drugbp_pairs['source'].isin(drug_nodes)) & (drugbp_pairs['target'].isin(bp_nodes))]\n",
    "len(drug_bp_pairs)"
   ]
  },
  {
   "cell_type": "markdown",
   "metadata": {},
   "source": [
    "What about the validation set?"
   ]
  },
  {
   "cell_type": "code",
   "execution_count": 32,
   "metadata": {},
   "outputs": [],
   "source": [
    "val = pd.read_csv(osp.join(KG_DIR, 'test.tsv'), sep='\\t', header=0)"
   ]
  },
  {
   "cell_type": "code",
   "execution_count": 35,
   "metadata": {},
   "outputs": [
    {
     "data": {
      "text/plain": [
       "48"
      ]
     },
     "execution_count": 35,
     "metadata": {},
     "output_type": "execute_result"
    }
   ],
   "source": [
    "len(val)"
   ]
  },
  {
   "cell_type": "code",
   "execution_count": 42,
   "metadata": {},
   "outputs": [
    {
     "data": {
      "text/plain": [
       "37"
      ]
     },
     "execution_count": 42,
     "metadata": {},
     "output_type": "execute_result"
    }
   ],
   "source": [
    "dm_db_pairs = val.loc[(val['source'].isin(drug_nodes)) & (val['target'].isin(bp_nodes))]\n",
    "len(dm_db_pairs)"
   ]
  },
  {
   "cell_type": "markdown",
   "metadata": {},
   "source": [
    "It seems like we lose some of our labels, but we still have plenty. Let's make new datasets out of this.\n",
    "\n",
    "## New Splits for Subgraph Penalty"
   ]
  },
  {
   "cell_type": "code",
   "execution_count": 38,
   "metadata": {},
   "outputs": [],
   "source": [
    "SPLITS_DIR = osp.join(KG_DIR, 'splits')\n",
    "SG_DIR = osp.join(SPLITS_DIR, 'subgraph_penalty')"
   ]
  },
  {
   "cell_type": "code",
   "execution_count": 43,
   "metadata": {},
   "outputs": [
    {
     "name": "stdout",
     "output_type": "stream",
     "text": [
      "After subsetting, we have 1742 connected positive pairs left.\n"
     ]
    }
   ],
   "source": [
    "total_positives = len(drug_bp_pairs) + len(dm_db_pairs)\n",
    "print(f\"After subsetting, we have {total_positives} connected positive pairs left.\")"
   ]
  },
  {
   "cell_type": "markdown",
   "metadata": {},
   "source": [
    "We want to get the same proportions as the previous split:"
   ]
  },
  {
   "cell_type": "code",
   "execution_count": 44,
   "metadata": {},
   "outputs": [
    {
     "data": {
      "text/plain": [
       "(1045, 348, 311)"
      ]
     },
     "execution_count": 44,
     "metadata": {},
     "output_type": "execute_result"
    }
   ],
   "source": [
    "proportions = round(0.6 * total_positives), round(0.2 * total_positives), round(0.2 * total_positives) - len(dm_db_pairs)\n",
    "proportions"
   ]
  },
  {
   "cell_type": "code",
   "execution_count": 45,
   "metadata": {},
   "outputs": [],
   "source": [
    "# write a function which separates the dataframe into train, val and test sets of defined sizes\n",
    "def train_test_split(df, train_size, val_size, test_size):\n",
    "    df = df.sample(frac=1, random_state=7).reset_index(drop=True)\n",
    "    train = df[:train_size]\n",
    "    val = df[train_size:train_size+val_size]\n",
    "    test = df[train_size+val_size:train_size+val_size+test_size]\n",
    "    return train, val, test"
   ]
  },
  {
   "cell_type": "code",
   "execution_count": 46,
   "metadata": {},
   "outputs": [],
   "source": [
    "train, val, test = train_test_split(drug_bp_pairs, proportions[0], proportions[1], proportions[2])"
   ]
  },
  {
   "cell_type": "markdown",
   "metadata": {},
   "source": [
    "Check to make sure it worked:"
   ]
  },
  {
   "cell_type": "code",
   "execution_count": 47,
   "metadata": {},
   "outputs": [
    {
     "data": {
      "text/plain": [
       "(1045, 348, 311)"
      ]
     },
     "execution_count": 47,
     "metadata": {},
     "output_type": "execute_result"
    }
   ],
   "source": [
    "len(train), len(val), len(test)"
   ]
  },
  {
   "cell_type": "markdown",
   "metadata": {},
   "source": [
    "Ensure there is no overlap between sets:"
   ]
  },
  {
   "cell_type": "code",
   "execution_count": 48,
   "metadata": {},
   "outputs": [
    {
     "name": "stdout",
     "output_type": "stream",
     "text": [
      "set()\n",
      "set()\n",
      "set()\n"
     ]
    }
   ],
   "source": [
    "train_pairs = {(row['source'], row['target']) for i, row in train.iterrows()}\n",
    "test_pairs = {(row['source'], row['target']) for i, row in test.iterrows()}\n",
    "val_pairs = {(row['source'], row['target']) for i, row in val.iterrows()}\n",
    "\n",
    "print(train_pairs & test_pairs)\n",
    "print(train_pairs & val_pairs)\n",
    "print(test_pairs & val_pairs)"
   ]
  },
  {
   "cell_type": "markdown",
   "metadata": {},
   "source": [
    "Now, combine the DrugMechDB pairs with the test set:"
   ]
  },
  {
   "cell_type": "code",
   "execution_count": 49,
   "metadata": {},
   "outputs": [
    {
     "data": {
      "text/html": [
       "<div>\n",
       "<style scoped>\n",
       "    .dataframe tbody tr th:only-of-type {\n",
       "        vertical-align: middle;\n",
       "    }\n",
       "\n",
       "    .dataframe tbody tr th {\n",
       "        vertical-align: top;\n",
       "    }\n",
       "\n",
       "    .dataframe thead th {\n",
       "        text-align: right;\n",
       "    }\n",
       "</style>\n",
       "<table border=\"1\" class=\"dataframe\">\n",
       "  <thead>\n",
       "    <tr style=\"text-align: right;\">\n",
       "      <th></th>\n",
       "      <th>source</th>\n",
       "      <th>source_node_type</th>\n",
       "      <th>target</th>\n",
       "      <th>target_node_type</th>\n",
       "      <th>edge_type</th>\n",
       "    </tr>\n",
       "  </thead>\n",
       "  <tbody>\n",
       "    <tr>\n",
       "      <th>0</th>\n",
       "      <td>pubchem.compound:10631</td>\n",
       "      <td>Compound</td>\n",
       "      <td>GO:0061024</td>\n",
       "      <td>Biological Process</td>\n",
       "      <td>induces</td>\n",
       "    </tr>\n",
       "    <tr>\n",
       "      <th>1</th>\n",
       "      <td>pubchem.compound:6167</td>\n",
       "      <td>Compound</td>\n",
       "      <td>GO:0030705</td>\n",
       "      <td>Biological Process</td>\n",
       "      <td>induces</td>\n",
       "    </tr>\n",
       "    <tr>\n",
       "      <th>2</th>\n",
       "      <td>pubchem.compound:3059</td>\n",
       "      <td>Compound</td>\n",
       "      <td>GO:0007165</td>\n",
       "      <td>Biological Process</td>\n",
       "      <td>induces</td>\n",
       "    </tr>\n",
       "    <tr>\n",
       "      <th>3</th>\n",
       "      <td>pubchem.compound:16197727</td>\n",
       "      <td>Compound</td>\n",
       "      <td>GO:0042438</td>\n",
       "      <td>Biological Process</td>\n",
       "      <td>induces</td>\n",
       "    </tr>\n",
       "    <tr>\n",
       "      <th>4</th>\n",
       "      <td>pubchem.compound:5743</td>\n",
       "      <td>Compound</td>\n",
       "      <td>GO:0006954</td>\n",
       "      <td>Biological Process</td>\n",
       "      <td>induces</td>\n",
       "    </tr>\n",
       "    <tr>\n",
       "      <th>...</th>\n",
       "      <td>...</td>\n",
       "      <td>...</td>\n",
       "      <td>...</td>\n",
       "      <td>...</td>\n",
       "      <td>...</td>\n",
       "    </tr>\n",
       "    <tr>\n",
       "      <th>343</th>\n",
       "      <td>pubchem.compound:6167</td>\n",
       "      <td>Compound</td>\n",
       "      <td>GO:0050877</td>\n",
       "      <td>Biological Process</td>\n",
       "      <td>induces</td>\n",
       "    </tr>\n",
       "    <tr>\n",
       "      <th>344</th>\n",
       "      <td>pubchem.compound:44462760</td>\n",
       "      <td>Compound</td>\n",
       "      <td>GO:0031638</td>\n",
       "      <td>Biological Process</td>\n",
       "      <td>induces</td>\n",
       "    </tr>\n",
       "    <tr>\n",
       "      <th>345</th>\n",
       "      <td>pubchem.compound:941361</td>\n",
       "      <td>Compound</td>\n",
       "      <td>GO:0048856</td>\n",
       "      <td>Biological Process</td>\n",
       "      <td>induces</td>\n",
       "    </tr>\n",
       "    <tr>\n",
       "      <th>346</th>\n",
       "      <td>pubchem.compound:8378</td>\n",
       "      <td>Compound</td>\n",
       "      <td>GO:0042592</td>\n",
       "      <td>Biological Process</td>\n",
       "      <td>induces</td>\n",
       "    </tr>\n",
       "    <tr>\n",
       "      <th>347</th>\n",
       "      <td>pubchem.compound:4030</td>\n",
       "      <td>Compound</td>\n",
       "      <td>GO:0007017</td>\n",
       "      <td>Biological Process</td>\n",
       "      <td>induces</td>\n",
       "    </tr>\n",
       "  </tbody>\n",
       "</table>\n",
       "<p>348 rows × 5 columns</p>\n",
       "</div>"
      ],
      "text/plain": [
       "                        source source_node_type      target  \\\n",
       "0       pubchem.compound:10631         Compound  GO:0061024   \n",
       "1        pubchem.compound:6167         Compound  GO:0030705   \n",
       "2        pubchem.compound:3059         Compound  GO:0007165   \n",
       "3    pubchem.compound:16197727         Compound  GO:0042438   \n",
       "4        pubchem.compound:5743         Compound  GO:0006954   \n",
       "..                         ...              ...         ...   \n",
       "343      pubchem.compound:6167         Compound  GO:0050877   \n",
       "344  pubchem.compound:44462760         Compound  GO:0031638   \n",
       "345    pubchem.compound:941361         Compound  GO:0048856   \n",
       "346      pubchem.compound:8378         Compound  GO:0042592   \n",
       "347      pubchem.compound:4030         Compound  GO:0007017   \n",
       "\n",
       "       target_node_type edge_type  \n",
       "0    Biological Process   induces  \n",
       "1    Biological Process   induces  \n",
       "2    Biological Process   induces  \n",
       "3    Biological Process   induces  \n",
       "4    Biological Process   induces  \n",
       "..                  ...       ...  \n",
       "343  Biological Process   induces  \n",
       "344  Biological Process   induces  \n",
       "345  Biological Process   induces  \n",
       "346  Biological Process   induces  \n",
       "347  Biological Process   induces  \n",
       "\n",
       "[348 rows x 5 columns]"
      ]
     },
     "execution_count": 49,
     "metadata": {},
     "output_type": "execute_result"
    }
   ],
   "source": [
    "test = pd.concat([test, dm_db_pairs]).sample(frac=1, random_state=7).reset_index(drop=True)\n",
    "test"
   ]
  },
  {
   "cell_type": "markdown",
   "metadata": {},
   "source": [
    "Take the test and validation edges out the KG:"
   ]
  },
  {
   "cell_type": "code",
   "execution_count": 50,
   "metadata": {},
   "outputs": [],
   "source": [
    "kg = kg.loc[kg['edge_type'] != 'induces']\n",
    "kg_polo = pd.concat([kg, train]).sample(frac=1, random_state=7).reset_index(drop=True)"
   ]
  },
  {
   "cell_type": "markdown",
   "metadata": {},
   "source": [
    "The number of `induces` edges in the KG should be the same as the number in the training set:"
   ]
  },
  {
   "cell_type": "code",
   "execution_count": 51,
   "metadata": {},
   "outputs": [
    {
     "data": {
      "text/plain": [
       "True"
      ]
     },
     "execution_count": 51,
     "metadata": {},
     "output_type": "execute_result"
    }
   ],
   "source": [
    "len(kg_polo.loc[kg_polo['edge_type'] == 'induces']) == len(train)"
   ]
  },
  {
   "cell_type": "markdown",
   "metadata": {},
   "source": [
    "Write everything to files:"
   ]
  },
  {
   "cell_type": "code",
   "execution_count": 52,
   "metadata": {},
   "outputs": [],
   "source": [
    "kg.to_csv(osp.join(SG_DIR, 'kg_no_cmp_bp.tsv'), sep='\\t', index=False)\n",
    "kg_polo.to_csv(osp.join(SG_DIR, 'kg_with_train_smpls.tsv'), sep='\\t', index=False)\n",
    "\n",
    "train.to_csv(osp.join(SG_DIR, 'train.tsv'), sep='\\t', index=False)\n",
    "val.to_csv(osp.join(SG_DIR, 'dev.tsv'), sep='\\t', index=False)\n",
    "test.to_csv(osp.join(SG_DIR, 'test.tsv'), sep='\\t', index=False)"
   ]
  },
  {
   "cell_type": "markdown",
   "metadata": {},
   "source": [
    "## Subgraph Map\n",
    "\n",
    "Finally, we need a file that tells us the points at which the model should impose a penalty for subgraph crosses."
   ]
  },
  {
   "cell_type": "code",
   "execution_count": null,
   "metadata": {},
   "outputs": [],
   "source": [
    "# TODO"
   ]
  }
 ],
 "metadata": {
  "kernelspec": {
   "display_name": "nesy_venv",
   "language": "python",
   "name": "python3"
  },
  "language_info": {
   "codemirror_mode": {
    "name": "ipython",
    "version": 3
   },
   "file_extension": ".py",
   "mimetype": "text/x-python",
   "name": "python",
   "nbconvert_exporter": "python",
   "pygments_lexer": "ipython3",
   "version": "3.9.6"
  },
  "orig_nbformat": 4
 },
 "nbformat": 4,
 "nbformat_minor": 2
}
