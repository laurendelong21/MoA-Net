{
 "cells": [
  {
   "attachments": {},
   "cell_type": "markdown",
   "metadata": {},
   "source": [
    "# Notebook to add confidence annotation on edges in MoA-net\n",
    "\n",
    "This notebook helps us to add corresponding confidences to the PPI edges in MoA-net. This is so that we can use them alongside weighted rules in a probabilistic logic program."
   ]
  },
  {
   "cell_type": "code",
   "execution_count": 1,
   "metadata": {},
   "outputs": [],
   "source": [
    "import os\n",
    "import pandas as pd\n",
    "from tqdm import tqdm\n",
    "from collections import defaultdict\n",
    "import json\n",
    "\n",
    "tqdm.pandas()"
   ]
  },
  {
   "attachments": {},
   "cell_type": "markdown",
   "metadata": {},
   "source": [
    "## Load MoA-net:"
   ]
  },
  {
   "cell_type": "code",
   "execution_count": 2,
   "metadata": {},
   "outputs": [],
   "source": [
    "KG_DIR = \"../data/kg\"\n",
    "FIG_DIR = \"../figures\"\n",
    "os.makedirs(FIG_DIR, exist_ok=True)"
   ]
  },
  {
   "cell_type": "code",
   "execution_count": 3,
   "metadata": {},
   "outputs": [
    {
     "data": {
      "text/html": [
       "<div>\n",
       "<style scoped>\n",
       "    .dataframe tbody tr th:only-of-type {\n",
       "        vertical-align: middle;\n",
       "    }\n",
       "\n",
       "    .dataframe tbody tr th {\n",
       "        vertical-align: top;\n",
       "    }\n",
       "\n",
       "    .dataframe thead th {\n",
       "        text-align: right;\n",
       "    }\n",
       "</style>\n",
       "<table border=\"1\" class=\"dataframe\">\n",
       "  <thead>\n",
       "    <tr style=\"text-align: right;\">\n",
       "      <th></th>\n",
       "      <th>source</th>\n",
       "      <th>source_node_type</th>\n",
       "      <th>target</th>\n",
       "      <th>target_node_type</th>\n",
       "      <th>edge_type</th>\n",
       "    </tr>\n",
       "  </thead>\n",
       "  <tbody>\n",
       "    <tr>\n",
       "      <th>0</th>\n",
       "      <td>pubchem.compound:10607</td>\n",
       "      <td>Compound</td>\n",
       "      <td>ncbigene:3553</td>\n",
       "      <td>Gene</td>\n",
       "      <td>upregulates</td>\n",
       "    </tr>\n",
       "    <tr>\n",
       "      <th>1</th>\n",
       "      <td>pubchem.compound:10607</td>\n",
       "      <td>Compound</td>\n",
       "      <td>ncbigene:203068</td>\n",
       "      <td>Gene</td>\n",
       "      <td>downregulates</td>\n",
       "    </tr>\n",
       "  </tbody>\n",
       "</table>\n",
       "</div>"
      ],
      "text/plain": [
       "                   source source_node_type           target target_node_type  \\\n",
       "0  pubchem.compound:10607         Compound    ncbigene:3553             Gene   \n",
       "1  pubchem.compound:10607         Compound  ncbigene:203068             Gene   \n",
       "\n",
       "       edge_type  \n",
       "0    upregulates  \n",
       "1  downregulates  "
      ]
     },
     "execution_count": 3,
     "metadata": {},
     "output_type": "execute_result"
    }
   ],
   "source": [
    "kg = pd.read_csv(f\"{KG_DIR}/final_kg.tsv\", sep=\"\\t\")\n",
    "kg.drop_duplicates(inplace=True)\n",
    "kg.head(2)"
   ]
  },
  {
   "attachments": {},
   "cell_type": "markdown",
   "metadata": {},
   "source": [
    "## Get edge pairs\n",
    "\n",
    "Here, we extract all PPIs from MoA-net:"
   ]
  },
  {
   "cell_type": "code",
   "execution_count": 4,
   "metadata": {},
   "outputs": [
    {
     "data": {
      "text/plain": [
       "86786"
      ]
     },
     "execution_count": 4,
     "metadata": {},
     "output_type": "execute_result"
    }
   ],
   "source": [
    "gene_edges = set()\n",
    "\n",
    "for row in kg.values:\n",
    "    (\n",
    "        source_id,\n",
    "        source_type,\n",
    "        target_id,\n",
    "        target_type,\n",
    "        edge_type,\n",
    "    ) = row\n",
    "\n",
    "    if source_type == \"Gene\" and target_type == \"Gene\":\n",
    "        gene_edges.add(f\"{source_id}_{target_id}\")\n",
    "\n",
    "len(gene_edges)"
   ]
  },
  {
   "attachments": {},
   "cell_type": "markdown",
   "metadata": {},
   "source": [
    "## Get gene-gene metadata\n",
    "\n",
    "Next, we need information about PPIs.\n",
    "\n",
    "This information is got from STRING database, where a confidence score between two gene edges is captured.\n",
    "\n",
    "The following files can be downloaded from [this page](https://string-db.org/cgi/download?sessionId=bALlO0OwuwIq&species_text=Homo+sapiens).\n",
    "\n",
    "Note that the combined score is multiplied by 1000 to make it an integer (says [here](https://string-db.org/help/faq/)), so we should divide by 1000 to get a probability.\n",
    "\n",
    "``The combined score is computed by combining the probabilities from the different evidence channels and corrected for the probability of randomly observing an interaction.`` ([von Mering *et al.*](https://pubmed.ncbi.nlm.nih.gov/15608232/))"
   ]
  },
  {
   "cell_type": "code",
   "execution_count": 5,
   "metadata": {},
   "outputs": [
    {
     "data": {
      "text/html": [
       "<div>\n",
       "<style scoped>\n",
       "    .dataframe tbody tr th:only-of-type {\n",
       "        vertical-align: middle;\n",
       "    }\n",
       "\n",
       "    .dataframe tbody tr th {\n",
       "        vertical-align: top;\n",
       "    }\n",
       "\n",
       "    .dataframe thead th {\n",
       "        text-align: right;\n",
       "    }\n",
       "</style>\n",
       "<table border=\"1\" class=\"dataframe\">\n",
       "  <thead>\n",
       "    <tr style=\"text-align: right;\">\n",
       "      <th></th>\n",
       "      <th>protein1</th>\n",
       "      <th>protein2</th>\n",
       "      <th>combined_score</th>\n",
       "    </tr>\n",
       "  </thead>\n",
       "  <tbody>\n",
       "    <tr>\n",
       "      <th>0</th>\n",
       "      <td>9606.ENSP00000000233</td>\n",
       "      <td>9606.ENSP00000356607</td>\n",
       "      <td>173</td>\n",
       "    </tr>\n",
       "    <tr>\n",
       "      <th>1</th>\n",
       "      <td>9606.ENSP00000000233</td>\n",
       "      <td>9606.ENSP00000427567</td>\n",
       "      <td>154</td>\n",
       "    </tr>\n",
       "  </tbody>\n",
       "</table>\n",
       "</div>"
      ],
      "text/plain": [
       "               protein1              protein2  combined_score\n",
       "0  9606.ENSP00000000233  9606.ENSP00000356607             173\n",
       "1  9606.ENSP00000000233  9606.ENSP00000427567             154"
      ]
     },
     "execution_count": 5,
     "metadata": {},
     "output_type": "execute_result"
    }
   ],
   "source": [
    "stringdb_df = pd.read_csv(\n",
    "    \"../data/mappings/9606.protein.links.v12.0.txt.gz\", compression=\"gzip\", sep=\" \"\n",
    ")\n",
    "stringdb_df.head(2)"
   ]
  },
  {
   "attachments": {},
   "cell_type": "markdown",
   "metadata": {},
   "source": [
    "Now, map the STRING DB IDs to HGNC symbols."
   ]
  },
  {
   "cell_type": "code",
   "execution_count": 6,
   "metadata": {},
   "outputs": [],
   "source": [
    "ensembl_gene_mapper = (\n",
    "    pd.read_csv(\n",
    "        \"../data/mappings/9606.protein.info.v12.0.txt.gz\", sep=\"\\t\", compression=\"gzip\"\n",
    "    )\n",
    "    .set_index(\"#string_protein_id\")\n",
    "    .to_dict()[\"preferred_name\"]\n",
    ")\n",
    "\n",
    "stringdb_df[\"gene1\"] = stringdb_df[\"protein1\"].map(ensembl_gene_mapper)\n",
    "stringdb_df[\"gene2\"] = stringdb_df[\"protein2\"].map(ensembl_gene_mapper)"
   ]
  },
  {
   "cell_type": "code",
   "execution_count": 7,
   "metadata": {},
   "outputs": [],
   "source": [
    "stringdb_df.dropna(subset=[\"gene1\", \"gene2\"], inplace=True)"
   ]
  },
  {
   "cell_type": "code",
   "execution_count": 8,
   "metadata": {},
   "outputs": [
    {
     "data": {
      "text/html": [
       "<div>\n",
       "<style scoped>\n",
       "    .dataframe tbody tr th:only-of-type {\n",
       "        vertical-align: middle;\n",
       "    }\n",
       "\n",
       "    .dataframe tbody tr th {\n",
       "        vertical-align: top;\n",
       "    }\n",
       "\n",
       "    .dataframe thead th {\n",
       "        text-align: right;\n",
       "    }\n",
       "</style>\n",
       "<table border=\"1\" class=\"dataframe\">\n",
       "  <thead>\n",
       "    <tr style=\"text-align: right;\">\n",
       "      <th></th>\n",
       "      <th>protein1</th>\n",
       "      <th>protein2</th>\n",
       "      <th>combined_score</th>\n",
       "      <th>gene1</th>\n",
       "      <th>gene2</th>\n",
       "    </tr>\n",
       "  </thead>\n",
       "  <tbody>\n",
       "    <tr>\n",
       "      <th>0</th>\n",
       "      <td>9606.ENSP00000000233</td>\n",
       "      <td>9606.ENSP00000356607</td>\n",
       "      <td>173</td>\n",
       "      <td>ARF5</td>\n",
       "      <td>RALGPS2</td>\n",
       "    </tr>\n",
       "    <tr>\n",
       "      <th>1</th>\n",
       "      <td>9606.ENSP00000000233</td>\n",
       "      <td>9606.ENSP00000427567</td>\n",
       "      <td>154</td>\n",
       "      <td>ARF5</td>\n",
       "      <td>FHDC1</td>\n",
       "    </tr>\n",
       "    <tr>\n",
       "      <th>2</th>\n",
       "      <td>9606.ENSP00000000233</td>\n",
       "      <td>9606.ENSP00000253413</td>\n",
       "      <td>151</td>\n",
       "      <td>ARF5</td>\n",
       "      <td>ATP6V1E1</td>\n",
       "    </tr>\n",
       "    <tr>\n",
       "      <th>3</th>\n",
       "      <td>9606.ENSP00000000233</td>\n",
       "      <td>9606.ENSP00000493357</td>\n",
       "      <td>471</td>\n",
       "      <td>ARF5</td>\n",
       "      <td>CYTH2</td>\n",
       "    </tr>\n",
       "    <tr>\n",
       "      <th>4</th>\n",
       "      <td>9606.ENSP00000000233</td>\n",
       "      <td>9606.ENSP00000324127</td>\n",
       "      <td>201</td>\n",
       "      <td>ARF5</td>\n",
       "      <td>PSD3</td>\n",
       "    </tr>\n",
       "  </tbody>\n",
       "</table>\n",
       "</div>"
      ],
      "text/plain": [
       "               protein1              protein2  combined_score gene1     gene2\n",
       "0  9606.ENSP00000000233  9606.ENSP00000356607             173  ARF5   RALGPS2\n",
       "1  9606.ENSP00000000233  9606.ENSP00000427567             154  ARF5     FHDC1\n",
       "2  9606.ENSP00000000233  9606.ENSP00000253413             151  ARF5  ATP6V1E1\n",
       "3  9606.ENSP00000000233  9606.ENSP00000493357             471  ARF5     CYTH2\n",
       "4  9606.ENSP00000000233  9606.ENSP00000324127             201  ARF5      PSD3"
      ]
     },
     "execution_count": 8,
     "metadata": {},
     "output_type": "execute_result"
    }
   ],
   "source": [
    "stringdb_df.head(5)"
   ]
  },
  {
   "attachments": {},
   "cell_type": "markdown",
   "metadata": {},
   "source": [
    "Mapping the HGNC symbols to NCBI gene IDs:\n",
    "\n",
    "This file was obtained from [HGNC](https://www.genenames.org/download/custom/) using a custom download in which the following are checked:\n",
    "\n",
    "- Approved Symbol\n",
    "- Previous Symbols\n",
    "- NCBI Gene ID"
   ]
  },
  {
   "cell_type": "code",
   "execution_count": 9,
   "metadata": {},
   "outputs": [],
   "source": [
    "symbol_to_gene_df = pd.read_csv(\n",
    "    \"../data/mappings/symbol_to_ncbigene.txt\", sep=\"\\t\", dtype=str\n",
    ")"
   ]
  },
  {
   "cell_type": "code",
   "execution_count": 10,
   "metadata": {},
   "outputs": [
    {
     "data": {
      "text/plain": [
       "62220"
      ]
     },
     "execution_count": 10,
     "metadata": {},
     "output_type": "execute_result"
    }
   ],
   "source": [
    "gene_id_mapper = defaultdict(str)\n",
    "\n",
    "for row in symbol_to_gene_df.values:\n",
    "    (symbol, prev_symbol, gene_id) = row\n",
    "\n",
    "    gene_id_mapper[symbol] = f\"ncbigene:{gene_id}\"\n",
    "\n",
    "    if pd.notna(prev_symbol):  ## add all previous symbols as well\n",
    "        for symn in prev_symbol.split(\",\"):\n",
    "            gene_id_mapper[symn] = f\"ncbigene:{gene_id}\"\n",
    "\n",
    "len(gene_id_mapper)"
   ]
  },
  {
   "attachments": {},
   "cell_type": "markdown",
   "metadata": {},
   "source": [
    "Map to the HGNC symbols:"
   ]
  },
  {
   "cell_type": "code",
   "execution_count": 11,
   "metadata": {},
   "outputs": [],
   "source": [
    "stringdb_df[\"gene1_id\"] = stringdb_df[\"gene1\"].map(gene_id_mapper)\n",
    "stringdb_df[\"gene2_id\"] = stringdb_df[\"gene2\"].map(gene_id_mapper)"
   ]
  },
  {
   "attachments": {},
   "cell_type": "markdown",
   "metadata": {},
   "source": [
    "Get a dictionary of PPIs to scores in the STRING DB:"
   ]
  },
  {
   "cell_type": "code",
   "execution_count": 12,
   "metadata": {},
   "outputs": [
    {
     "name": "stderr",
     "output_type": "stream",
     "text": [
      "100%|██████████| 13715404/13715404 [00:34<00:00, 399315.69it/s]\n"
     ]
    }
   ],
   "source": [
    "string_ppi = defaultdict(int)\n",
    "\n",
    "for row in tqdm(stringdb_df.values):\n",
    "    (\n",
    "        protein1,\n",
    "        protein2,\n",
    "        combined_score,\n",
    "        gene1,\n",
    "        gene2,\n",
    "        gene1_id,\n",
    "        gene2_id,\n",
    "    ) = row\n",
    "\n",
    "    if gene1_id and gene2_id:\n",
    "        string_ppi[f\"{gene1_id}_{gene2_id}\"] = combined_score\n",
    "        string_ppi[f\"{gene2_id}_{gene1_id}\"] = combined_score"
   ]
  },
  {
   "attachments": {},
   "cell_type": "markdown",
   "metadata": {},
   "source": [
    "Let's see what proportion of our PPIs have information in the string DB:"
   ]
  },
  {
   "cell_type": "code",
   "execution_count": 13,
   "metadata": {},
   "outputs": [
    {
     "data": {
      "text/plain": [
       "0.7249786831977508"
      ]
     },
     "execution_count": 13,
     "metadata": {},
     "output_type": "execute_result"
    }
   ],
   "source": [
    "len(set(string_ppi.keys()) & gene_edges) / len(gene_edges)"
   ]
  },
  {
   "attachments": {},
   "cell_type": "markdown",
   "metadata": {},
   "source": [
    "Okay, we'll make a final file which maps the PPIs to confidences.\n",
    "\n",
    "Divide the confidences by 1000 to convert back to probabilities:"
   ]
  },
  {
   "cell_type": "code",
   "execution_count": 14,
   "metadata": {},
   "outputs": [],
   "source": [
    "mapped = {key: val/1000 for key, val in string_ppi.items() if key in gene_edges}"
   ]
  },
  {
   "cell_type": "code",
   "execution_count": 15,
   "metadata": {},
   "outputs": [],
   "source": [
    "# save the mappings to confidence as a json file:\n",
    "with open(f\"{KG_DIR}/stringdb_ppi_confidences.json\", \"w\") as f:\n",
    "    json.dump(mapped, f, indent=2)"
   ]
  }
 ],
 "metadata": {
  "kernelspec": {
   "display_name": "mln_env",
   "language": "python",
   "name": "mln_env"
  },
  "language_info": {
   "codemirror_mode": {
    "name": "ipython",
    "version": 3
   },
   "file_extension": ".py",
   "mimetype": "text/x-python",
   "name": "python",
   "nbconvert_exporter": "python",
   "pygments_lexer": "ipython3",
   "version": "3.6.9"
  },
  "pycharm": {
   "stem_cell": {
    "cell_type": "raw",
    "metadata": {
     "collapsed": false
    },
    "source": []
   }
  }
 },
 "nbformat": 4,
 "nbformat_minor": 4
}
